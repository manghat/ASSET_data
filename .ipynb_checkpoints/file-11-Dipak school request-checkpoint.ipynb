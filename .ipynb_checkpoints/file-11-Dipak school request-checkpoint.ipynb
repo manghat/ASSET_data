{
 "cells": [
  {
   "cell_type": "markdown",
   "metadata": {},
   "source": [
    "# Performance of a school aross time"
   ]
  },
  {
   "cell_type": "markdown",
   "metadata": {},
   "source": [
    "## Setup "
   ]
  },
  {
   "cell_type": "code",
   "execution_count": 1,
   "metadata": {},
   "outputs": [],
   "source": [
    "import pandas as pd\n",
    "import plotly_express as px"
   ]
  },
  {
   "cell_type": "markdown",
   "metadata": {},
   "source": [
    "Reading files and setup"
   ]
  },
  {
   "cell_type": "code",
   "execution_count": 2,
   "metadata": {
    "code_folding": [
     0
    ]
   },
   "outputs": [],
   "source": [
    "dtype = {\n",
    " 'school_code' : int,\n",
    " 'school_name' : str,\n",
    " 'city' : str,\n",
    " 'pincode' : str,\n",
    " 'state' : str,\n",
    " 'country' : str,\n",
    " 'season' : str,\n",
    " 'year' : str,\n",
    " 'class': np.uint8,\n",
    " 'studentCount': int,\n",
    " 'subject' : str,\n",
    " 'papercode': str,\n",
    " 'skill_name' : str,\n",
    " 'sub_skill_name' : str,\n",
    " 'subSkillLevelAccuracy': float,\n",
    " 'subSkillLevelQuestionCount' : np.uint32,\n",
    " 'skillLevelAccuracy' : float,\n",
    " 'skillLevelQuestionCount' : np.uint32,\n",
    " 'totalAccuracy' : float,\n",
    " 'totalQuestionCount': np.uint32,\n",
    " 'national_studentCount': int,\n",
    " 'national_subSkillLevelAccuracy' : float,\n",
    " 'totalStandardDeviation' : float,\n",
    " 'national_skillLevelAccuracy' : float,\n",
    " 'national_studentCount' : int,\n",
    " 'national_totalAccuracy' : float,\n",
    " 'national_totalStandardDeviation' : float,\n",
    " 'national_skillLevelStandardDeviation': float}\n",
    "file_path = '../../../Desktop/EI/From others/Dipak/Parent Connect/data2'\n",
    "df = pd.read_csv(file_path+'/final_asset_school_accuracy.csv', dtype = dtype)"
   ]
  },
  {
   "cell_type": "code",
   "execution_count": 3,
   "metadata": {
    "code_folding": []
   },
   "outputs": [],
   "source": [
    "df['total_delta'] = df['totalAccuracy'] - df['national_totalAccuracy']\n",
    "df['skill_delta'] = df['skillLevelAccuracy'] - df['national_skillLevelAccuracy']\n",
    "df['subSkill_delta'] = df['subSkillLevelAccuracy'] - df['national_subSkillLevelAccuracy']"
   ]
  },
  {
   "cell_type": "markdown",
   "metadata": {},
   "source": [
    "Mapping to boards"
   ]
  },
  {
   "cell_type": "code",
   "execution_count": 5,
   "metadata": {},
   "outputs": [],
   "source": [
    "df_school_board = pd.read_csv('https://docs.google.com/spreadsheets/d/e/2PACX-1vR_AO8CCe9wrCqYyXAKutE4NceqSuTZuWQdaZoxhLwPOBQYAXOIEZzXL1xsYMWX3uzhi9rtbNWk67PW/pub?gid=288331316&single=true&output=csv')\n",
    "df = pd.merge(df, df_school_board, on='school_code', how = 'left')"
   ]
  },
  {
   "cell_type": "markdown",
   "metadata": {},
   "source": [
    "Choosing the school to analyse"
   ]
  },
  {
   "cell_type": "code",
   "execution_count": 6,
   "metadata": {},
   "outputs": [],
   "source": [
    "school_code = 173428"
   ]
  },
  {
   "cell_type": "code",
   "execution_count": 7,
   "metadata": {},
   "outputs": [],
   "source": [
    "df_school = df[df['school_code'] == school_code]"
   ]
  },
  {
   "cell_type": "code",
   "execution_count": 8,
   "metadata": {},
   "outputs": [],
   "source": [
    "school_name = df_school.school_name.value_counts().index[0]\n",
    "school_board = df_school.primary_board.value_counts().index[0]\n",
    "school_city = df_school.city.value_counts().index[0]"
   ]
  },
  {
   "cell_type": "code",
   "execution_count": 9,
   "metadata": {},
   "outputs": [
    {
     "data": {
      "text/plain": [
       "Winter    88\n",
       "Summer    52\n",
       "Name: season, dtype: int64"
      ]
     },
     "execution_count": 9,
     "metadata": {},
     "output_type": "execute_result"
    }
   ],
   "source": [
    "df_school.drop_duplicates('papercode').season.value_counts()"
   ]
  },
  {
   "cell_type": "code",
   "execution_count": 10,
   "metadata": {},
   "outputs": [],
   "source": [
    "# df_school.sort_values(['class','year'])\n",
    "# df_school.set_index(['subject', 'class', 'year', 'season'])"
   ]
  },
  {
   "cell_type": "markdown",
   "metadata": {},
   "source": [
    "## Looking at overall perfromance across time"
   ]
  },
  {
   "cell_type": "code",
   "execution_count": 16,
   "metadata": {},
   "outputs": [],
   "source": [
    "# px.line(df_school.sort_values('year').drop_duplicates(['papercode']), \n",
    "#        x = 'year', \n",
    "#        y = 'total_delta', \n",
    "#         color='subject', \n",
    "#        facet_row='class',\n",
    "#        facet_col='subject', \n",
    "#        height = 2000,\n",
    "#        width = 2000,\n",
    "#        labels = {'year'},\n",
    "#        range_x = [2006, 2019],\n",
    "#       title = 'School: %s Scores across subjects and grades represented as a difference from National Average'%school_name)"
   ]
  },
  {
   "cell_type": "code",
   "execution_count": 12,
   "metadata": {},
   "outputs": [
    {
     "data": {
      "application/vnd.plotly.v1+json": {
       "config": {
        "linkText": "Export to plot.ly",
        "plotlyServerURL": "https://plot.ly",
        "showLink": false
       },
       "data": [
        {
         "hovertemplate": "class=3<br>subject=English<br>subject=English<br>year=%{x}<br>total_delta=%{y}<br>studentCount=%{marker.size}<extra></extra>",
         "legendgroup": "subject=English",
         "marker": {
          "color": "#636efa",
          "size": [
           19,
           74,
           105,
           102,
           106
          ],
          "sizemode": "area",
          "sizeref": 1.15,
          "symbol": "circle"
         },
         "mode": "markers",
         "name": "subject=English",
         "showlegend": true,
         "type": "scatter",
         "uid": "d6d0796a-b008-486a-8f96-7844b458a618",
         "x": [
          "2007",
          "2008",
          "2014",
          "2016",
          "2018"
         ],
         "xaxis": "x",
         "y": [
          19.879999999999995,
          11,
          9.43,
          8.07,
          10.910000000000004
         ],
         "yaxis": "y"
        },
        {
         "hovertemplate": "<b>LOWESS trendline</b><br><br>class=3<br>subject=English<br>subject=English<br>year=%{x}<br>total_delta=%{y} <b>(trend)</b><extra></extra>",
         "legendgroup": "subject=English",
         "marker": {
          "color": "#636efa",
          "symbol": "circle"
         },
         "mode": "lines",
         "name": "subject=English",
         "showlegend": false,
         "type": "scatter",
         "uid": "46cc6c64-e6c6-4807-863e-c80ea4e9bb51",
         "x": [
          2007,
          2008,
          2014,
          2016,
          2018
         ],
         "xaxis": "x",
         "y": [
          19.880000000008433,
          11.000000000004873,
          9.43,
          8.07,
          10.910000000000004
         ],
         "yaxis": "y"
        },
        {
         "hovertemplate": "class=3<br>subject=Maths<br>subject=Maths<br>year=%{x}<br>total_delta=%{y}<br>studentCount=%{marker.size}<extra></extra>",
         "legendgroup": "subject=Maths",
         "marker": {
          "color": "#EF553B",
          "size": [
           19,
           74,
           75,
           106,
           109,
           108
          ],
          "sizemode": "area",
          "sizeref": 1.15,
          "symbol": "circle"
         },
         "mode": "markers",
         "name": "subject=Maths",
         "showlegend": true,
         "type": "scatter",
         "uid": "9f3568d9-3960-4b8d-91ec-4696f5833fda",
         "x": [
          "2007",
          "2008",
          "2009",
          "2014",
          "2016",
          "2018"
         ],
         "xaxis": "x2",
         "y": [
          5.719999999999999,
          -2.6799999999999997,
          2.6599999999999966,
          2.280000000000001,
          9.049999999999997,
          6.780000000000001
         ],
         "yaxis": "y"
        },
        {
         "hovertemplate": "<b>LOWESS trendline</b><br><br>class=3<br>subject=Maths<br>subject=Maths<br>year=%{x}<br>total_delta=%{y} <b>(trend)</b><extra></extra>",
         "legendgroup": "subject=Maths",
         "marker": {
          "color": "#EF553B",
          "symbol": "circle"
         },
         "mode": "lines",
         "name": "subject=Maths",
         "showlegend": false,
         "type": "scatter",
         "uid": "921e839e-4654-430c-8846-f2dc9ea3604a",
         "x": [
          2007,
          2008,
          2009,
          2014,
          2016,
          2018
         ],
         "xaxis": "x2",
         "y": [
          4.084527943480181,
          2.514813101708989,
          1.0768972765267137,
          2.8598689770464105,
          5.9522055106356575,
          8.06031388317437
         ],
         "yaxis": "y"
        },
        {
         "hovertemplate": "class=3<br>subject=Science<br>subject=Science<br>year=%{x}<br>total_delta=%{y}<br>studentCount=%{marker.size}<extra></extra>",
         "legendgroup": "subject=Science",
         "marker": {
          "color": "#00cc96",
          "size": [
           18,
           73,
           75,
           106,
           109,
           113
          ],
          "sizemode": "area",
          "sizeref": 1.15,
          "symbol": "circle"
         },
         "mode": "markers",
         "name": "subject=Science",
         "showlegend": true,
         "type": "scatter",
         "uid": "0f247c89-0e46-4a29-8886-6e25be394d05",
         "x": [
          "2007",
          "2008",
          "2009",
          "2014",
          "2016",
          "2018"
         ],
         "xaxis": "x3",
         "y": [
          4.359999999999999,
          4.590000000000003,
          4.159999999999997,
          -2.1999999999999957,
          4.980000000000004,
          3.229999999999997
         ],
         "yaxis": "y"
        },
        {
         "hovertemplate": "<b>LOWESS trendline</b><br><br>class=3<br>subject=Science<br>subject=Science<br>year=%{x}<br>total_delta=%{y} <b>(trend)</b><extra></extra>",
         "legendgroup": "subject=Science",
         "marker": {
          "color": "#00cc96",
          "symbol": "circle"
         },
         "mode": "lines",
         "name": "subject=Science",
         "showlegend": false,
         "type": "scatter",
         "uid": "16258d31-e97c-4985-a0be-de3b5f881002",
         "x": [
          2007,
          2008,
          2009,
          2014,
          2016,
          2018
         ],
         "xaxis": "x3",
         "y": [
          4.446036144988133,
          4.348146799169464,
          4.243165225749942,
          -2.2000000000001108,
          0.5150000000000006,
          3.230000000000051
         ],
         "yaxis": "y"
        },
        {
         "hovertemplate": "class=4<br>subject=English<br>subject=English<br>year=%{x}<br>total_delta=%{y}<br>studentCount=%{marker.size}<extra></extra>",
         "legendgroup": "subject=English",
         "marker": {
          "color": "#636efa",
          "size": [
           15,
           73,
           104,
           108,
           108
          ],
          "sizemode": "area",
          "sizeref": 1.15,
          "symbol": "circle"
         },
         "mode": "markers",
         "name": "subject=English",
         "showlegend": false,
         "type": "scatter",
         "uid": "12cbd10b-9ea9-4527-bfe6-f69306dc753d",
         "x": [
          "2007",
          "2008",
          "2014",
          "2016",
          "2018"
         ],
         "xaxis": "x",
         "y": [
          3.6999999999999957,
          11.64,
          10.469999999999999,
          9.100000000000001,
          18.85000000000001
         ],
         "yaxis": "y2"
        },
        {
         "hovertemplate": "<b>LOWESS trendline</b><br><br>class=4<br>subject=English<br>subject=English<br>year=%{x}<br>total_delta=%{y} <b>(trend)</b><extra></extra>",
         "legendgroup": "subject=English",
         "marker": {
          "color": "#636efa",
          "symbol": "circle"
         },
         "mode": "lines",
         "name": "subject=English",
         "showlegend": false,
         "type": "scatter",
         "uid": "3de2e2f1-437f-4413-bded-55d58780cf0b",
         "x": [
          2007,
          2008,
          2014,
          2016,
          2018
         ],
         "xaxis": "x",
         "y": [
          3.700000000000277,
          11.639999999999144,
          10.470000000000892,
          9.100000000000001,
          18.85000000000001
         ],
         "yaxis": "y2"
        },
        {
         "hovertemplate": "class=4<br>subject=Maths<br>subject=Maths<br>year=%{x}<br>total_delta=%{y}<br>studentCount=%{marker.size}<extra></extra>",
         "legendgroup": "subject=Maths",
         "marker": {
          "color": "#EF553B",
          "size": [
           14,
           72,
           75,
           104,
           111,
           113
          ],
          "sizemode": "area",
          "sizeref": 1.15,
          "symbol": "circle"
         },
         "mode": "markers",
         "name": "subject=Maths",
         "showlegend": false,
         "type": "scatter",
         "uid": "0b759cf6-0818-4510-b3da-6cfe73d40c54",
         "x": [
          "2007",
          "2008",
          "2009",
          "2014",
          "2016",
          "2018"
         ],
         "xaxis": "x2",
         "y": [
          3.759999999999998,
          -0.5,
          3.9399999999999977,
          -0.5200000000000031,
          -0.9500000000000028,
          3.190000000000005
         ],
         "yaxis": "y2"
        },
        {
         "hovertemplate": "<b>LOWESS trendline</b><br><br>class=4<br>subject=Maths<br>subject=Maths<br>year=%{x}<br>total_delta=%{y} <b>(trend)</b><extra></extra>",
         "legendgroup": "subject=Maths",
         "marker": {
          "color": "#EF553B",
          "symbol": "circle"
         },
         "mode": "lines",
         "name": "subject=Maths",
         "showlegend": false,
         "type": "scatter",
         "uid": "9c3a391c-d8a5-4649-a7a4-44c775406419",
         "x": [
          2007,
          2008,
          2009,
          2014,
          2016,
          2018
         ],
         "xaxis": "x2",
         "y": [
          2.7244390908515306,
          2.7892921386380576,
          2.9375987122128118,
          -0.8216792005429054,
          0.5848759693185801,
          2.517869910004221
         ],
         "yaxis": "y2"
        },
        {
         "hovertemplate": "class=4<br>subject=Science<br>subject=Science<br>year=%{x}<br>total_delta=%{y}<br>studentCount=%{marker.size}<extra></extra>",
         "legendgroup": "subject=Science",
         "marker": {
          "color": "#00cc96",
          "size": [
           12,
           73,
           75,
           104,
           112,
           113
          ],
          "sizemode": "area",
          "sizeref": 1.15,
          "symbol": "circle"
         },
         "mode": "markers",
         "name": "subject=Science",
         "showlegend": false,
         "type": "scatter",
         "uid": "1d969e23-a58a-4867-bf19-9652feee721f",
         "x": [
          "2007",
          "2008",
          "2009",
          "2014",
          "2016",
          "2018"
         ],
         "xaxis": "x3",
         "y": [
          -2.9200000000000017,
          -0.38000000000000256,
          1.1999999999999957,
          0.8000000000000043,
          2.4200000000000017,
          3.559999999999995
         ],
         "yaxis": "y2"
        },
        {
         "hovertemplate": "<b>LOWESS trendline</b><br><br>class=4<br>subject=Science<br>subject=Science<br>year=%{x}<br>total_delta=%{y} <b>(trend)</b><extra></extra>",
         "legendgroup": "subject=Science",
         "marker": {
          "color": "#00cc96",
          "symbol": "circle"
         },
         "mode": "lines",
         "name": "subject=Science",
         "showlegend": false,
         "type": "scatter",
         "uid": "9d3a44f4-7d82-4f81-a26c-f2d67f5753b5",
         "x": [
          2007,
          2008,
          2009,
          2014,
          2016,
          2018
         ],
         "xaxis": "x3",
         "y": [
          -2.8058416945400286,
          -0.7430698385661496,
          1.3105043992792829,
          0.8318267530347279,
          2.259289837275184,
          3.6309878888126788
         ],
         "yaxis": "y2"
        },
        {
         "hovertemplate": "class=4<br>subject=Hindi<br>subject=Hindi<br>year=%{x}<br>total_delta=%{y}<br>studentCount=%{marker.size}<extra></extra>",
         "legendgroup": "subject=Hindi",
         "marker": {
          "color": "#ab63fa",
          "size": [
           7,
           71
          ],
          "sizemode": "area",
          "sizeref": 1.15,
          "symbol": "circle"
         },
         "mode": "markers",
         "name": "subject=Hindi",
         "showlegend": true,
         "type": "scatter",
         "uid": "727e87ff-f81d-4336-b58a-d228aed36052",
         "x": [
          "2007",
          "2009"
         ],
         "xaxis": "x4",
         "y": [
          4.369999999999997,
          5.450000000000003
         ],
         "yaxis": "y2"
        },
        {
         "hovertemplate": "<b>LOWESS trendline</b><br><br>class=4<br>subject=Hindi<br>subject=Hindi<br>year=%{x}<br>total_delta=%{y} <b>(trend)</b><extra></extra>",
         "legendgroup": "subject=Hindi",
         "marker": {
          "color": "#ab63fa",
          "symbol": "circle"
         },
         "mode": "lines",
         "name": "subject=Hindi",
         "showlegend": false,
         "type": "scatter",
         "uid": "8225972c-5fd2-40a8-bb5d-60b40e80ca1b",
         "x": [
          2007,
          2009
         ],
         "xaxis": "x4",
         "y": [
          4.369999999999997,
          5.450000000000003
         ],
         "yaxis": "y2"
        },
        {
         "hovertemplate": "class=5<br>subject=English<br>subject=English<br>year=%{x}<br>total_delta=%{y}<br>studentCount=%{marker.size}<extra></extra>",
         "legendgroup": "subject=English",
         "marker": {
          "color": "#636efa",
          "size": [
           16,
           73,
           108,
           103,
           109
          ],
          "sizemode": "area",
          "sizeref": 1.15,
          "symbol": "circle"
         },
         "mode": "markers",
         "name": "subject=English",
         "showlegend": false,
         "type": "scatter",
         "uid": "a7bfd80e-ffd2-4946-9d16-2cb7c4dca521",
         "x": [
          "2007",
          "2008",
          "2014",
          "2016",
          "2018"
         ],
         "xaxis": "x",
         "y": [
          17.32,
          8.380000000000003,
          12.480000000000004,
          10.479999999999997,
          15.069999999999993
         ],
         "yaxis": "y3"
        },
        {
         "hovertemplate": "<b>LOWESS trendline</b><br><br>class=5<br>subject=English<br>subject=English<br>year=%{x}<br>total_delta=%{y} <b>(trend)</b><extra></extra>",
         "legendgroup": "subject=English",
         "marker": {
          "color": "#636efa",
          "symbol": "circle"
         },
         "mode": "lines",
         "name": "subject=English",
         "showlegend": false,
         "type": "scatter",
         "uid": "ca7205fc-d70d-493e-b2d6-83beb3fa72f8",
         "x": [
          2007,
          2008,
          2014,
          2016,
          2018
         ],
         "xaxis": "x",
         "y": [
          17.319999999988582,
          8.379999999992238,
          12.48000000000128,
          10.479999999999997,
          15.070000000002814
         ],
         "yaxis": "y3"
        },
        {
         "hovertemplate": "class=5<br>subject=Maths<br>subject=Maths<br>year=%{x}<br>total_delta=%{y}<br>studentCount=%{marker.size}<extra></extra>",
         "legendgroup": "subject=Maths",
         "marker": {
          "color": "#EF553B",
          "size": [
           16,
           73,
           75,
           108,
           107,
           112
          ],
          "sizemode": "area",
          "sizeref": 1.15,
          "symbol": "circle"
         },
         "mode": "markers",
         "name": "subject=Maths",
         "showlegend": false,
         "type": "scatter",
         "uid": "0ce4711e-b311-46c6-a6a0-b7727813bf5c",
         "x": [
          "2007",
          "2008",
          "2009",
          "2014",
          "2016",
          "2018"
         ],
         "xaxis": "x2",
         "y": [
          7.869999999999997,
          -0.1600000000000037,
          5.199999999999996,
          5.520000000000003,
          3.8900000000000006,
          4.990000000000002
         ],
         "yaxis": "y3"
        },
        {
         "hovertemplate": "<b>LOWESS trendline</b><br><br>class=5<br>subject=Maths<br>subject=Maths<br>year=%{x}<br>total_delta=%{y} <b>(trend)</b><extra></extra>",
         "legendgroup": "subject=Maths",
         "marker": {
          "color": "#EF553B",
          "symbol": "circle"
         },
         "mode": "lines",
         "name": "subject=Maths",
         "showlegend": false,
         "type": "scatter",
         "uid": "9e4ba0d0-c4eb-4e20-985f-2c3edbc57510",
         "x": [
          2007,
          2008,
          2009,
          2014,
          2016,
          2018
         ],
         "xaxis": "x2",
         "y": [
          7.869999999999708,
          6.5350000000002675,
          5.200000000000469,
          5.336249568349399,
          4.794236589300695,
          4.578642964467227
         ],
         "yaxis": "y3"
        },
        {
         "hovertemplate": "class=5<br>subject=Science<br>subject=Science<br>year=%{x}<br>total_delta=%{y}<br>studentCount=%{marker.size}<extra></extra>",
         "legendgroup": "subject=Science",
         "marker": {
          "color": "#00cc96",
          "size": [
           12,
           74,
           75,
           107,
           105,
           113
          ],
          "sizemode": "area",
          "sizeref": 1.15,
          "symbol": "circle"
         },
         "mode": "markers",
         "name": "subject=Science",
         "showlegend": false,
         "type": "scatter",
         "uid": "018133aa-d5e0-43c5-9b74-cefc94f091cb",
         "x": [
          "2007",
          "2008",
          "2009",
          "2014",
          "2016",
          "2018"
         ],
         "xaxis": "x3",
         "y": [
          6.780000000000001,
          -1.2299999999999969,
          4.270000000000003,
          3.1999999999999957,
          -0.8999999999999986,
          0.75
         ],
         "yaxis": "y3"
        },
        {
         "hovertemplate": "<b>LOWESS trendline</b><br><br>class=5<br>subject=Science<br>subject=Science<br>year=%{x}<br>total_delta=%{y} <b>(trend)</b><extra></extra>",
         "legendgroup": "subject=Science",
         "marker": {
          "color": "#00cc96",
          "symbol": "circle"
         },
         "mode": "lines",
         "name": "subject=Science",
         "showlegend": false,
         "type": "scatter",
         "uid": "c7a36717-fa8c-47eb-9cb8-d46d7889256a",
         "x": [
          2007,
          2008,
          2009,
          2014,
          2016,
          2018
         ],
         "xaxis": "x3",
         "y": [
          5.219412175534799,
          3.9266408779042767,
          2.75873836416023,
          2.81482355620142,
          1.0113355481052049,
          -0.11105625124443308
         ],
         "yaxis": "y3"
        },
        {
         "hovertemplate": "class=5<br>subject=Hindi<br>subject=Hindi<br>year=%{x}<br>total_delta=%{y}<br>studentCount=%{marker.size}<extra></extra>",
         "legendgroup": "subject=Hindi",
         "marker": {
          "color": "#ab63fa",
          "size": [
           2,
           65
          ],
          "sizemode": "area",
          "sizeref": 1.15,
          "symbol": "circle"
         },
         "mode": "markers",
         "name": "subject=Hindi",
         "showlegend": false,
         "type": "scatter",
         "uid": "6cc4a45f-9309-4bd4-8c9d-84456ac25de0",
         "x": [
          "2007",
          "2009"
         ],
         "xaxis": "x4",
         "y": [
          5.410000000000004,
          5.769999999999996
         ],
         "yaxis": "y3"
        },
        {
         "hovertemplate": "<b>LOWESS trendline</b><br><br>class=5<br>subject=Hindi<br>subject=Hindi<br>year=%{x}<br>total_delta=%{y} <b>(trend)</b><extra></extra>",
         "legendgroup": "subject=Hindi",
         "marker": {
          "color": "#ab63fa",
          "symbol": "circle"
         },
         "mode": "lines",
         "name": "subject=Hindi",
         "showlegend": false,
         "type": "scatter",
         "uid": "6998f0e0-06f9-480c-b2bf-c880a29b9540",
         "x": [
          2007,
          2009
         ],
         "xaxis": "x4",
         "y": [
          5.410000000000004,
          5.769999999999996
         ],
         "yaxis": "y3"
        },
        {
         "hovertemplate": "class=5<br>subject=Social Studies<br>subject=Social Studies<br>year=%{x}<br>total_delta=%{y}<br>studentCount=%{marker.size}<extra></extra>",
         "legendgroup": "subject=Social Studies",
         "marker": {
          "color": "#19d3f3",
          "size": [
           2
          ],
          "sizemode": "area",
          "sizeref": 1.15,
          "symbol": "circle"
         },
         "mode": "markers",
         "name": "subject=Social Studies",
         "showlegend": true,
         "type": "scatter",
         "uid": "53181e7a-41da-46e7-b286-3e89188f21e4",
         "x": [
          "2007"
         ],
         "xaxis": "x5",
         "y": [
          -7.770000000000003
         ],
         "yaxis": "y3"
        },
        {
         "hovertemplate": "class=5<br>subject=Social Studies<br>subject=Social Studies<extra></extra>",
         "legendgroup": "subject=Social Studies",
         "marker": {
          "color": "#19d3f3",
          "symbol": "circle"
         },
         "mode": "lines",
         "name": "subject=Social Studies",
         "showlegend": false,
         "type": "scatter",
         "uid": "140bd9b7-87e1-4298-b782-4042ce274742",
         "xaxis": "x5",
         "yaxis": "y3"
        },
        {
         "hovertemplate": "class=6<br>subject=English<br>subject=English<br>year=%{x}<br>total_delta=%{y}<br>studentCount=%{marker.size}<extra></extra>",
         "legendgroup": "subject=English",
         "marker": {
          "color": "#636efa",
          "size": [
           17,
           75,
           82,
           97,
           107
          ],
          "sizemode": "area",
          "sizeref": 1.15,
          "symbol": "circle"
         },
         "mode": "markers",
         "name": "subject=English",
         "showlegend": false,
         "type": "scatter",
         "uid": "bbc70460-a310-4a51-8269-bef0a3af2a00",
         "x": [
          "2007",
          "2008",
          "2014",
          "2016",
          "2018"
         ],
         "xaxis": "x",
         "y": [
          28.379999999999995,
          14.719999999999999,
          12.64,
          10.399999999999999,
          20.36
         ],
         "yaxis": "y4"
        },
        {
         "hovertemplate": "<b>LOWESS trendline</b><br><br>class=6<br>subject=English<br>subject=English<br>year=%{x}<br>total_delta=%{y} <b>(trend)</b><extra></extra>",
         "legendgroup": "subject=English",
         "marker": {
          "color": "#636efa",
          "symbol": "circle"
         },
         "mode": "lines",
         "name": "subject=English",
         "showlegend": false,
         "type": "scatter",
         "uid": "2e047a75-a8de-4d19-b279-6b3243ad87d4",
         "x": [
          2007,
          2008,
          2014,
          2016,
          2018
         ],
         "xaxis": "x",
         "y": [
          28.380000000012043,
          14.720000000006515,
          12.64,
          10.399999999999999,
          20.36
         ],
         "yaxis": "y4"
        },
        {
         "hovertemplate": "class=6<br>subject=Maths<br>subject=Maths<br>year=%{x}<br>total_delta=%{y}<br>studentCount=%{marker.size}<extra></extra>",
         "legendgroup": "subject=Maths",
         "marker": {
          "color": "#EF553B",
          "size": [
           17,
           74,
           79,
           82,
           100,
           111
          ],
          "sizemode": "area",
          "sizeref": 1.15,
          "symbol": "circle"
         },
         "mode": "markers",
         "name": "subject=Maths",
         "showlegend": false,
         "type": "scatter",
         "uid": "8441be6e-f31e-4091-8ace-15e8ceb66682",
         "x": [
          "2007",
          "2008",
          "2009",
          "2014",
          "2016",
          "2018"
         ],
         "xaxis": "x2",
         "y": [
          14.5,
          5.390000000000001,
          3.9299999999999997,
          7.579999999999998,
          3.510000000000005,
          8.71
         ],
         "yaxis": "y4"
        },
        {
         "hovertemplate": "<b>LOWESS trendline</b><br><br>class=6<br>subject=Maths<br>subject=Maths<br>year=%{x}<br>total_delta=%{y} <b>(trend)</b><extra></extra>",
         "legendgroup": "subject=Maths",
         "marker": {
          "color": "#EF553B",
          "symbol": "circle"
         },
         "mode": "lines",
         "name": "subject=Maths",
         "showlegend": false,
         "type": "scatter",
         "uid": "3a096145-9870-4b06-9b03-dbc91dd927c6",
         "x": [
          2007,
          2008,
          2009,
          2014,
          2016,
          2018
         ],
         "xaxis": "x2",
         "y": [
          13.520344778788745,
          8.211188153868882,
          2.9824403955931444,
          7.105780541219439,
          7.129678180218622,
          7.782668258669388
         ],
         "yaxis": "y4"
        },
        {
         "hovertemplate": "class=6<br>subject=Science<br>subject=Science<br>year=%{x}<br>total_delta=%{y}<br>studentCount=%{marker.size}<extra></extra>",
         "legendgroup": "subject=Science",
         "marker": {
          "color": "#00cc96",
          "size": [
           17,
           73,
           79,
           82,
           100,
           111
          ],
          "sizemode": "area",
          "sizeref": 1.15,
          "symbol": "circle"
         },
         "mode": "markers",
         "name": "subject=Science",
         "showlegend": false,
         "type": "scatter",
         "uid": "636278c7-95d5-46e0-af43-a80d3b73c03b",
         "x": [
          "2007",
          "2008",
          "2009",
          "2014",
          "2016",
          "2018"
         ],
         "xaxis": "x3",
         "y": [
          10.82,
          5.779999999999994,
          1.3200000000000003,
          5.239999999999995,
          3.450000000000003,
          5.220000000000006
         ],
         "yaxis": "y4"
        },
        {
         "hovertemplate": "<b>LOWESS trendline</b><br><br>class=6<br>subject=Science<br>subject=Science<br>year=%{x}<br>total_delta=%{y} <b>(trend)</b><extra></extra>",
         "legendgroup": "subject=Science",
         "marker": {
          "color": "#00cc96",
          "symbol": "circle"
         },
         "mode": "lines",
         "name": "subject=Science",
         "showlegend": false,
         "type": "scatter",
         "uid": "aeb9a439-86fd-41b5-9056-24ce13d87017",
         "x": [
          2007,
          2008,
          2009,
          2014,
          2016,
          2018
         ],
         "xaxis": "x3",
         "y": [
          10.744958990784628,
          5.99311963588553,
          1.2474542193007383,
          5.240000000000087,
          5.23,
          5.220000000000077
         ],
         "yaxis": "y4"
        },
        {
         "hovertemplate": "class=6<br>subject=Hindi<br>subject=Hindi<br>year=%{x}<br>total_delta=%{y}<br>studentCount=%{marker.size}<extra></extra>",
         "legendgroup": "subject=Hindi",
         "marker": {
          "color": "#ab63fa",
          "size": [
           5,
           72
          ],
          "sizemode": "area",
          "sizeref": 1.15,
          "symbol": "circle"
         },
         "mode": "markers",
         "name": "subject=Hindi",
         "showlegend": false,
         "type": "scatter",
         "uid": "cf01a5ce-d0a0-4b1f-9431-7eb4fee0f66f",
         "x": [
          "2007",
          "2009"
         ],
         "xaxis": "x4",
         "y": [
          16.489999999999995,
          8.130000000000003
         ],
         "yaxis": "y4"
        },
        {
         "hovertemplate": "<b>LOWESS trendline</b><br><br>class=6<br>subject=Hindi<br>subject=Hindi<br>year=%{x}<br>total_delta=%{y} <b>(trend)</b><extra></extra>",
         "legendgroup": "subject=Hindi",
         "marker": {
          "color": "#ab63fa",
          "symbol": "circle"
         },
         "mode": "lines",
         "name": "subject=Hindi",
         "showlegend": false,
         "type": "scatter",
         "uid": "aa29d804-f358-4a4f-9c21-ea0b7e5efe7e",
         "x": [
          2007,
          2009
         ],
         "xaxis": "x4",
         "y": [
          16.489999999999995,
          8.130000000000003
         ],
         "yaxis": "y4"
        },
        {
         "hovertemplate": "class=6<br>subject=Social Studies<br>subject=Social Studies<br>year=%{x}<br>total_delta=%{y}<br>studentCount=%{marker.size}<extra></extra>",
         "legendgroup": "subject=Social Studies",
         "marker": {
          "color": "#19d3f3",
          "size": [
           5
          ],
          "sizemode": "area",
          "sizeref": 1.15,
          "symbol": "circle"
         },
         "mode": "markers",
         "name": "subject=Social Studies",
         "showlegend": false,
         "type": "scatter",
         "uid": "69d53776-1bb6-4f76-b694-a3507df5f368",
         "x": [
          "2007"
         ],
         "xaxis": "x5",
         "y": [
          7.579999999999998
         ],
         "yaxis": "y4"
        },
        {
         "hovertemplate": "class=6<br>subject=Social Studies<br>subject=Social Studies<extra></extra>",
         "legendgroup": "subject=Social Studies",
         "marker": {
          "color": "#19d3f3",
          "symbol": "circle"
         },
         "mode": "lines",
         "name": "subject=Social Studies",
         "showlegend": false,
         "type": "scatter",
         "uid": "1b8923bf-cfa6-44bb-ae3b-1fe383ed3b40",
         "xaxis": "x5",
         "yaxis": "y4"
        },
        {
         "hovertemplate": "class=7<br>subject=English<br>subject=English<br>year=%{x}<br>total_delta=%{y}<br>studentCount=%{marker.size}<extra></extra>",
         "legendgroup": "subject=English",
         "marker": {
          "color": "#636efa",
          "size": [
           4,
           46,
           78,
           96,
           110
          ],
          "sizemode": "area",
          "sizeref": 1.15,
          "symbol": "circle"
         },
         "mode": "markers",
         "name": "subject=English",
         "showlegend": false,
         "type": "scatter",
         "uid": "6213a49f-4732-425a-816a-5a8b4300e7c2",
         "x": [
          "2007",
          "2008",
          "2014",
          "2016",
          "2018"
         ],
         "xaxis": "x",
         "y": [
          16.61,
          19.400000000000006,
          14.389999999999993,
          13.690000000000005,
          21.700000000000003
         ],
         "yaxis": "y5"
        },
        {
         "hovertemplate": "<b>LOWESS trendline</b><br><br>class=7<br>subject=English<br>subject=English<br>year=%{x}<br>total_delta=%{y} <b>(trend)</b><extra></extra>",
         "legendgroup": "subject=English",
         "marker": {
          "color": "#636efa",
          "symbol": "circle"
         },
         "mode": "lines",
         "name": "subject=English",
         "showlegend": false,
         "type": "scatter",
         "uid": "06d80ddb-3b39-4c7b-b584-b030a69bd7b0",
         "x": [
          2007,
          2008,
          2014,
          2016,
          2018
         ],
         "xaxis": "x",
         "y": [
          16.61,
          19.400000000000006,
          14.390000000001788,
          13.690000000000005,
          21.700000000002877
         ],
         "yaxis": "y5"
        },
        {
         "hovertemplate": "class=7<br>subject=Maths<br>subject=Maths<br>year=%{x}<br>total_delta=%{y}<br>studentCount=%{marker.size}<extra></extra>",
         "legendgroup": "subject=Maths",
         "marker": {
          "color": "#EF553B",
          "size": [
           4,
           45,
           74,
           78,
           99,
           114
          ],
          "sizemode": "area",
          "sizeref": 1.15,
          "symbol": "circle"
         },
         "mode": "markers",
         "name": "subject=Maths",
         "showlegend": false,
         "type": "scatter",
         "uid": "f1ca393c-1acc-4123-8d5b-479db0c4c3a0",
         "x": [
          "2007",
          "2008",
          "2009",
          "2014",
          "2016",
          "2018"
         ],
         "xaxis": "x2",
         "y": [
          15.150000000000006,
          13.719999999999999,
          8.579999999999998,
          12.670000000000002,
          7.219999999999999,
          6
         ],
         "yaxis": "y5"
        },
        {
         "hovertemplate": "<b>LOWESS trendline</b><br><br>class=7<br>subject=Maths<br>subject=Maths<br>year=%{x}<br>total_delta=%{y} <b>(trend)</b><extra></extra>",
         "legendgroup": "subject=Maths",
         "marker": {
          "color": "#EF553B",
          "symbol": "circle"
         },
         "mode": "lines",
         "name": "subject=Maths",
         "showlegend": false,
         "type": "scatter",
         "uid": "f35dd13f-cad8-4337-883f-467683adea91",
         "x": [
          2007,
          2008,
          2009,
          2014,
          2016,
          2018
         ],
         "xaxis": "x2",
         "y": [
          15.615236387305119,
          12.341655368715909,
          9.030092717202855,
          12.446393640625875,
          8.846918108592378,
          5.554596098256156
         ],
         "yaxis": "y5"
        },
        {
         "hovertemplate": "class=7<br>subject=Science<br>subject=Science<br>year=%{x}<br>total_delta=%{y}<br>studentCount=%{marker.size}<extra></extra>",
         "legendgroup": "subject=Science",
         "marker": {
          "color": "#00cc96",
          "size": [
           4,
           46,
           74,
           78,
           100,
           115
          ],
          "sizemode": "area",
          "sizeref": 1.15,
          "symbol": "circle"
         },
         "mode": "markers",
         "name": "subject=Science",
         "showlegend": false,
         "type": "scatter",
         "uid": "29f7783e-25e2-4759-98fd-e029a8e02082",
         "x": [
          "2007",
          "2008",
          "2009",
          "2014",
          "2016",
          "2018"
         ],
         "xaxis": "x3",
         "y": [
          7.799999999999997,
          8.470000000000006,
          4.1200000000000045,
          5.160000000000004,
          4.949999999999996,
          8.639999999999993
         ],
         "yaxis": "y5"
        },
        {
         "hovertemplate": "<b>LOWESS trendline</b><br><br>class=7<br>subject=Science<br>subject=Science<br>year=%{x}<br>total_delta=%{y} <b>(trend)</b><extra></extra>",
         "legendgroup": "subject=Science",
         "marker": {
          "color": "#00cc96",
          "symbol": "circle"
         },
         "mode": "lines",
         "name": "subject=Science",
         "showlegend": false,
         "type": "scatter",
         "uid": "d1699516-8750-41fb-a812-7d427355dd59",
         "x": [
          2007,
          2008,
          2009,
          2014,
          2016,
          2018
         ],
         "xaxis": "x3",
         "y": [
          8.39753054757808,
          6.57204062804993,
          4.69839706490648,
          4.918383418647233,
          6.318496449869433,
          8.114192599791666
         ],
         "yaxis": "y5"
        },
        {
         "hovertemplate": "class=7<br>subject=Hindi<br>subject=Hindi<br>year=%{x}<br>total_delta=%{y}<br>studentCount=%{marker.size}<extra></extra>",
         "legendgroup": "subject=Hindi",
         "marker": {
          "color": "#ab63fa",
          "size": [
           1,
           68
          ],
          "sizemode": "area",
          "sizeref": 1.15,
          "symbol": "circle"
         },
         "mode": "markers",
         "name": "subject=Hindi",
         "showlegend": false,
         "type": "scatter",
         "uid": "05932e08-a3c5-4842-ab87-688b576042d9",
         "x": [
          "2007",
          "2009"
         ],
         "xaxis": "x4",
         "y": [
          10.769999999999996,
          9.840000000000003
         ],
         "yaxis": "y5"
        },
        {
         "hovertemplate": "<b>LOWESS trendline</b><br><br>class=7<br>subject=Hindi<br>subject=Hindi<br>year=%{x}<br>total_delta=%{y} <b>(trend)</b><extra></extra>",
         "legendgroup": "subject=Hindi",
         "marker": {
          "color": "#ab63fa",
          "symbol": "circle"
         },
         "mode": "lines",
         "name": "subject=Hindi",
         "showlegend": false,
         "type": "scatter",
         "uid": "1c5d88ad-0b47-412e-a73b-5b450e78a7da",
         "x": [
          2007,
          2009
         ],
         "xaxis": "x4",
         "y": [
          10.769999999999996,
          9.840000000000003
         ],
         "yaxis": "y5"
        },
        {
         "hovertemplate": "class=7<br>subject=Social Studies<br>subject=Social Studies<br>year=%{x}<br>total_delta=%{y}<br>studentCount=%{marker.size}<extra></extra>",
         "legendgroup": "subject=Social Studies",
         "marker": {
          "color": "#19d3f3",
          "size": [
           1
          ],
          "sizemode": "area",
          "sizeref": 1.15,
          "symbol": "circle"
         },
         "mode": "markers",
         "name": "subject=Social Studies",
         "showlegend": false,
         "type": "scatter",
         "uid": "128010f5-58bc-425e-b849-f71c8c2bf6f7",
         "x": [
          "2007"
         ],
         "xaxis": "x5",
         "y": [
          5.1200000000000045
         ],
         "yaxis": "y5"
        },
        {
         "hovertemplate": "class=7<br>subject=Social Studies<br>subject=Social Studies<extra></extra>",
         "legendgroup": "subject=Social Studies",
         "marker": {
          "color": "#19d3f3",
          "symbol": "circle"
         },
         "mode": "lines",
         "name": "subject=Social Studies",
         "showlegend": false,
         "type": "scatter",
         "uid": "9fa88b71-58ca-43ef-b8bb-c21cca091444",
         "xaxis": "x5",
         "yaxis": "y5"
        },
        {
         "hovertemplate": "class=8<br>subject=English<br>subject=English<br>year=%{x}<br>total_delta=%{y}<br>studentCount=%{marker.size}<extra></extra>",
         "legendgroup": "subject=English",
         "marker": {
          "color": "#636efa",
          "size": [
           15,
           54,
           76,
           72,
           96
          ],
          "sizemode": "area",
          "sizeref": 1.15,
          "symbol": "circle"
         },
         "mode": "markers",
         "name": "subject=English",
         "showlegend": false,
         "type": "scatter",
         "uid": "eaae82dd-ac01-49bc-b7d1-11aecdd886ea",
         "x": [
          "2007",
          "2008",
          "2014",
          "2016",
          "2018"
         ],
         "xaxis": "x",
         "y": [
          27.71,
          17.119999999999997,
          13.170000000000002,
          9.149999999999999,
          18.66000000000001
         ],
         "yaxis": "y6"
        },
        {
         "hovertemplate": "<b>LOWESS trendline</b><br><br>class=8<br>subject=English<br>subject=English<br>year=%{x}<br>total_delta=%{y} <b>(trend)</b><extra></extra>",
         "legendgroup": "subject=English",
         "marker": {
          "color": "#636efa",
          "symbol": "circle"
         },
         "mode": "lines",
         "name": "subject=English",
         "showlegend": false,
         "type": "scatter",
         "uid": "b613d08a-660e-4d32-b6a3-3cda02be2691",
         "x": [
          2007,
          2008,
          2014,
          2016,
          2018
         ],
         "xaxis": "x",
         "y": [
          27.71,
          17.119999999999997,
          13.170000000001156,
          9.149999999999999,
          18.659999999999613
         ],
         "yaxis": "y6"
        },
        {
         "hovertemplate": "class=8<br>subject=Maths<br>subject=Maths<br>year=%{x}<br>total_delta=%{y}<br>studentCount=%{marker.size}<extra></extra>",
         "legendgroup": "subject=Maths",
         "marker": {
          "color": "#EF553B",
          "size": [
           13,
           52,
           46,
           77,
           76,
           103
          ],
          "sizemode": "area",
          "sizeref": 1.15,
          "symbol": "circle"
         },
         "mode": "markers",
         "name": "subject=Maths",
         "showlegend": false,
         "type": "scatter",
         "uid": "c0435d89-4aff-466d-ad3a-a380e9349729",
         "x": [
          "2007",
          "2008",
          "2009",
          "2014",
          "2016",
          "2018"
         ],
         "xaxis": "x2",
         "y": [
          20.309999999999995,
          9.450000000000003,
          17.389999999999993,
          7.090000000000003,
          1.7099999999999937,
          2.490000000000002
         ],
         "yaxis": "y6"
        },
        {
         "hovertemplate": "<b>LOWESS trendline</b><br><br>class=8<br>subject=Maths<br>subject=Maths<br>year=%{x}<br>total_delta=%{y} <b>(trend)</b><extra></extra>",
         "legendgroup": "subject=Maths",
         "marker": {
          "color": "#EF553B",
          "symbol": "circle"
         },
         "mode": "lines",
         "name": "subject=Maths",
         "showlegend": false,
         "type": "scatter",
         "uid": "48693963-43a2-4b67-b37c-71616e9e7fdb",
         "x": [
          2007,
          2008,
          2009,
          2014,
          2016,
          2018
         ],
         "xaxis": "x2",
         "y": [
          18.6300438236583,
          17.13064515990333,
          15.758454756364412,
          6.674781878837016,
          3.748625226021714,
          1.5606883503939626
         ],
         "yaxis": "y6"
        },
        {
         "hovertemplate": "class=8<br>subject=Science<br>subject=Science<br>year=%{x}<br>total_delta=%{y}<br>studentCount=%{marker.size}<extra></extra>",
         "legendgroup": "subject=Science",
         "marker": {
          "color": "#00cc96",
          "size": [
           14,
           54,
           48,
           77,
           78,
           104
          ],
          "sizemode": "area",
          "sizeref": 1.15,
          "symbol": "circle"
         },
         "mode": "markers",
         "name": "subject=Science",
         "showlegend": false,
         "type": "scatter",
         "uid": "dd12b36d-00c3-40b8-babb-1a0b4568d50c",
         "x": [
          "2007",
          "2008",
          "2009",
          "2014",
          "2016",
          "2018"
         ],
         "xaxis": "x3",
         "y": [
          15.32,
          11.089999999999996,
          14.419999999999995,
          6.609999999999999,
          1.4099999999999966,
          -5.009999999999998
         ],
         "yaxis": "y6"
        },
        {
         "hovertemplate": "<b>LOWESS trendline</b><br><br>class=8<br>subject=Science<br>subject=Science<br>year=%{x}<br>total_delta=%{y} <b>(trend)</b><extra></extra>",
         "legendgroup": "subject=Science",
         "marker": {
          "color": "#00cc96",
          "symbol": "circle"
         },
         "mode": "lines",
         "name": "subject=Science",
         "showlegend": false,
         "type": "scatter",
         "uid": "6d267dd5-94fb-4901-a547-5870178dd457",
         "x": [
          2007,
          2008,
          2009,
          2014,
          2016,
          2018
         ],
         "xaxis": "x3",
         "y": [
          15.319999999995924,
          14.870000000000005,
          14.419999999999268,
          6.690134095074795,
          0.9993260874919505,
          -4.8310764141045786
         ],
         "yaxis": "y6"
        },
        {
         "hovertemplate": "class=8<br>subject=Hindi<br>subject=Hindi<br>year=%{x}<br>total_delta=%{y}<br>studentCount=%{marker.size}<extra></extra>",
         "legendgroup": "subject=Hindi",
         "marker": {
          "color": "#ab63fa",
          "size": [
           8,
           41
          ],
          "sizemode": "area",
          "sizeref": 1.15,
          "symbol": "circle"
         },
         "mode": "markers",
         "name": "subject=Hindi",
         "showlegend": false,
         "type": "scatter",
         "uid": "7a3a7e36-4be7-45bc-814f-bceed3bcc29d",
         "x": [
          "2007",
          "2009"
         ],
         "xaxis": "x4",
         "y": [
          24.189999999999998,
          15.980000000000004
         ],
         "yaxis": "y6"
        },
        {
         "hovertemplate": "<b>LOWESS trendline</b><br><br>class=8<br>subject=Hindi<br>subject=Hindi<br>year=%{x}<br>total_delta=%{y} <b>(trend)</b><extra></extra>",
         "legendgroup": "subject=Hindi",
         "marker": {
          "color": "#ab63fa",
          "symbol": "circle"
         },
         "mode": "lines",
         "name": "subject=Hindi",
         "showlegend": false,
         "type": "scatter",
         "uid": "d53f6d9e-043c-4d85-ba1a-71a163e75b7b",
         "x": [
          2007,
          2009
         ],
         "xaxis": "x4",
         "y": [
          24.189999999999998,
          15.980000000000004
         ],
         "yaxis": "y6"
        },
        {
         "hovertemplate": "class=8<br>subject=Social Studies<br>subject=Social Studies<br>year=%{x}<br>total_delta=%{y}<br>studentCount=%{marker.size}<extra></extra>",
         "legendgroup": "subject=Social Studies",
         "marker": {
          "color": "#19d3f3",
          "size": [
           12
          ],
          "sizemode": "area",
          "sizeref": 1.15,
          "symbol": "circle"
         },
         "mode": "markers",
         "name": "subject=Social Studies",
         "showlegend": false,
         "type": "scatter",
         "uid": "f49c2636-ed3c-46c9-9250-e5badd651e3d",
         "x": [
          "2007"
         ],
         "xaxis": "x5",
         "y": [
          10.350000000000001
         ],
         "yaxis": "y6"
        },
        {
         "hovertemplate": "class=8<br>subject=Social Studies<br>subject=Social Studies<extra></extra>",
         "legendgroup": "subject=Social Studies",
         "marker": {
          "color": "#19d3f3",
          "symbol": "circle"
         },
         "mode": "lines",
         "name": "subject=Social Studies",
         "showlegend": false,
         "type": "scatter",
         "uid": "c3fcfc4b-5660-4251-b0f0-ed64bcfc30b3",
         "xaxis": "x5",
         "yaxis": "y6"
        },
        {
         "hovertemplate": "class=9<br>subject=English<br>subject=English<br>year=%{x}<br>total_delta=%{y}<br>studentCount=%{marker.size}<extra></extra>",
         "legendgroup": "subject=English",
         "marker": {
          "color": "#636efa",
          "size": [
           10,
           73,
           64,
           98
          ],
          "sizemode": "area",
          "sizeref": 1.15,
          "symbol": "circle"
         },
         "mode": "markers",
         "name": "subject=English",
         "showlegend": false,
         "type": "scatter",
         "uid": "7669f14f-56d8-4903-808d-3e4f6f879f57",
         "x": [
          "2007",
          "2014",
          "2016",
          "2018"
         ],
         "xaxis": "x",
         "y": [
          17.79,
          14.519999999999996,
          18.960000000000008,
          23.840000000000003
         ],
         "yaxis": "y7"
        },
        {
         "hovertemplate": "<b>LOWESS trendline</b><br><br>class=9<br>subject=English<br>subject=English<br>year=%{x}<br>total_delta=%{y} <b>(trend)</b><extra></extra>",
         "legendgroup": "subject=English",
         "marker": {
          "color": "#636efa",
          "symbol": "circle"
         },
         "mode": "lines",
         "name": "subject=English",
         "showlegend": false,
         "type": "scatter",
         "uid": "3d89fe10-9011-4aaa-9507-9a4d732cc0e7",
         "x": [
          2007,
          2014,
          2016,
          2018
         ],
         "xaxis": "x",
         "y": [
          17.79,
          14.519999999999996,
          18.960000000000008,
          23.840000000000003
         ],
         "yaxis": "y7"
        },
        {
         "hovertemplate": "class=9<br>subject=Maths<br>subject=Maths<br>year=%{x}<br>total_delta=%{y}<br>studentCount=%{marker.size}<extra></extra>",
         "legendgroup": "subject=Maths",
         "marker": {
          "color": "#EF553B",
          "size": [
           10,
           40,
           73,
           73,
           99
          ],
          "sizemode": "area",
          "sizeref": 1.15,
          "symbol": "circle"
         },
         "mode": "markers",
         "name": "subject=Maths",
         "showlegend": false,
         "type": "scatter",
         "uid": "15708f31-ba15-4415-bd78-0abd7ac35420",
         "x": [
          "2007",
          "2008",
          "2014",
          "2016",
          "2018"
         ],
         "xaxis": "x2",
         "y": [
          13.89,
          6.219999999999999,
          4.240000000000002,
          6.100000000000001,
          5.289999999999999
         ],
         "yaxis": "y7"
        },
        {
         "hovertemplate": "<b>LOWESS trendline</b><br><br>class=9<br>subject=Maths<br>subject=Maths<br>year=%{x}<br>total_delta=%{y} <b>(trend)</b><extra></extra>",
         "legendgroup": "subject=Maths",
         "marker": {
          "color": "#EF553B",
          "symbol": "circle"
         },
         "mode": "lines",
         "name": "subject=Maths",
         "showlegend": false,
         "type": "scatter",
         "uid": "e6de1f74-c1ae-441c-a870-9cda925db2e1",
         "x": [
          2007,
          2008,
          2014,
          2016,
          2018
         ],
         "xaxis": "x2",
         "y": [
          13.89,
          6.219999999999999,
          4.24000000000048,
          6.100000000000001,
          5.290000000000632
         ],
         "yaxis": "y7"
        },
        {
         "hovertemplate": "class=9<br>subject=Science<br>subject=Science<br>year=%{x}<br>total_delta=%{y}<br>studentCount=%{marker.size}<extra></extra>",
         "legendgroup": "subject=Science",
         "marker": {
          "color": "#00cc96",
          "size": [
           10,
           42,
           51,
           73,
           74,
           92
          ],
          "sizemode": "area",
          "sizeref": 1.15,
          "symbol": "circle"
         },
         "mode": "markers",
         "name": "subject=Science",
         "showlegend": false,
         "type": "scatter",
         "uid": "ccd7778c-440b-4984-a559-ace3795e9337",
         "x": [
          "2007",
          "2008",
          "2009",
          "2014",
          "2016",
          "2018"
         ],
         "xaxis": "x3",
         "y": [
          9.240000000000002,
          9.959999999999994,
          7.5,
          4.07,
          2.5900000000000034,
          5.759999999999998
         ],
         "yaxis": "y7"
        },
        {
         "hovertemplate": "<b>LOWESS trendline</b><br><br>class=9<br>subject=Science<br>subject=Science<br>year=%{x}<br>total_delta=%{y} <b>(trend)</b><extra></extra>",
         "legendgroup": "subject=Science",
         "marker": {
          "color": "#00cc96",
          "symbol": "circle"
         },
         "mode": "lines",
         "name": "subject=Science",
         "showlegend": false,
         "type": "scatter",
         "uid": "01d01d74-99a0-4d14-a723-c17b2ca687a4",
         "x": [
          2007,
          2008,
          2009,
          2014,
          2016,
          2018
         ],
         "xaxis": "x3",
         "y": [
          9.66668506667317,
          8.807322353085876,
          7.912506202482695,
          3.868849184882861,
          4.520168604930892,
          5.398377360382335
         ],
         "yaxis": "y7"
        },
        {
         "hovertemplate": "class=9<br>subject=Social Studies<br>subject=Social Studies<br>year=%{x}<br>total_delta=%{y}<br>studentCount=%{marker.size}<extra></extra>",
         "legendgroup": "subject=Social Studies",
         "marker": {
          "color": "#19d3f3",
          "size": [
           2
          ],
          "sizemode": "area",
          "sizeref": 1.15,
          "symbol": "circle"
         },
         "mode": "markers",
         "name": "subject=Social Studies",
         "showlegend": false,
         "type": "scatter",
         "uid": "0e062c3a-0b62-44a9-9f15-35d14510f8b0",
         "x": [
          "2007"
         ],
         "xaxis": "x5",
         "y": [
          11.309999999999995
         ],
         "yaxis": "y7"
        },
        {
         "hovertemplate": "class=9<br>subject=Social Studies<br>subject=Social Studies<extra></extra>",
         "legendgroup": "subject=Social Studies",
         "marker": {
          "color": "#19d3f3",
          "symbol": "circle"
         },
         "mode": "lines",
         "name": "subject=Social Studies",
         "showlegend": false,
         "type": "scatter",
         "uid": "6b8644a6-eaf1-4eff-86a3-77c699322eab",
         "xaxis": "x5",
         "yaxis": "y7"
        },
        {
         "hovertemplate": "class=10<br>subject=English<br>subject=English<br>year=%{x}<br>total_delta=%{y}<br>studentCount=%{marker.size}<extra></extra>",
         "legendgroup": "subject=English",
         "marker": {
          "color": "#636efa",
          "size": [
           48,
           73,
           60
          ],
          "sizemode": "area",
          "sizeref": 1.15,
          "symbol": "circle"
         },
         "mode": "markers",
         "name": "subject=English",
         "showlegend": false,
         "type": "scatter",
         "uid": "b7668632-46aa-4859-be42-a84c2fe458d8",
         "x": [
          "2008",
          "2014",
          "2016"
         ],
         "xaxis": "x",
         "y": [
          17.549999999999997,
          14.509999999999998,
          14.5
         ],
         "yaxis": "y8"
        },
        {
         "hovertemplate": "<b>LOWESS trendline</b><br><br>class=10<br>subject=English<br>subject=English<br>year=%{x}<br>total_delta=%{y} <b>(trend)</b><extra></extra>",
         "legendgroup": "subject=English",
         "marker": {
          "color": "#636efa",
          "symbol": "circle"
         },
         "mode": "lines",
         "name": "subject=English",
         "showlegend": false,
         "type": "scatter",
         "uid": "da956293-338f-4029-91c9-b5e482f87cff",
         "x": [
          2008,
          2014,
          2016
         ],
         "xaxis": "x",
         "y": [
          17.549999999999997,
          14.509999999999998,
          14.5
         ],
         "yaxis": "y8"
        },
        {
         "hovertemplate": "class=10<br>subject=Maths<br>subject=Maths<br>year=%{x}<br>total_delta=%{y}<br>studentCount=%{marker.size}<extra></extra>",
         "legendgroup": "subject=Maths",
         "marker": {
          "color": "#EF553B",
          "size": [
           43,
           73,
           67
          ],
          "sizemode": "area",
          "sizeref": 1.15,
          "symbol": "circle"
         },
         "mode": "markers",
         "name": "subject=Maths",
         "showlegend": false,
         "type": "scatter",
         "uid": "5ae3c0eb-3872-4cae-8841-ba941fca1ed3",
         "x": [
          "2009",
          "2014",
          "2016"
         ],
         "xaxis": "x2",
         "y": [
          13.800000000000004,
          -0.03999999999999915,
          5.050000000000004
         ],
         "yaxis": "y8"
        },
        {
         "hovertemplate": "<b>LOWESS trendline</b><br><br>class=10<br>subject=Maths<br>subject=Maths<br>year=%{x}<br>total_delta=%{y} <b>(trend)</b><extra></extra>",
         "legendgroup": "subject=Maths",
         "marker": {
          "color": "#EF553B",
          "symbol": "circle"
         },
         "mode": "lines",
         "name": "subject=Maths",
         "showlegend": false,
         "type": "scatter",
         "uid": "741fcc9b-df79-41bc-a8eb-b7dcfc4761f4",
         "x": [
          2009,
          2014,
          2016
         ],
         "xaxis": "x2",
         "y": [
          13.800000000000004,
          -0.03999999999999915,
          5.050000000000004
         ],
         "yaxis": "y8"
        },
        {
         "hovertemplate": "class=10<br>subject=Science<br>subject=Science<br>year=%{x}<br>total_delta=%{y}<br>studentCount=%{marker.size}<extra></extra>",
         "legendgroup": "subject=Science",
         "marker": {
          "color": "#00cc96",
          "size": [
           73,
           67
          ],
          "sizemode": "area",
          "sizeref": 1.15,
          "symbol": "circle"
         },
         "mode": "markers",
         "name": "subject=Science",
         "showlegend": false,
         "type": "scatter",
         "uid": "e3522e46-e645-4adb-9a8c-1784a155b713",
         "x": [
          "2014",
          "2016"
         ],
         "xaxis": "x3",
         "y": [
          1.1400000000000006,
          4.720000000000006
         ],
         "yaxis": "y8"
        },
        {
         "hovertemplate": "<b>LOWESS trendline</b><br><br>class=10<br>subject=Science<br>subject=Science<br>year=%{x}<br>total_delta=%{y} <b>(trend)</b><extra></extra>",
         "legendgroup": "subject=Science",
         "marker": {
          "color": "#00cc96",
          "symbol": "circle"
         },
         "mode": "lines",
         "name": "subject=Science",
         "showlegend": false,
         "type": "scatter",
         "uid": "cf9c041c-9d3c-44f3-ae18-7a6f8abedb37",
         "x": [
          2014,
          2016
         ],
         "xaxis": "x3",
         "y": [
          1.1400000000000006,
          4.720000000000006
         ],
         "yaxis": "y8"
        }
       ],
       "layout": {
        "annotations": [
         {
          "showarrow": false,
          "text": "subject=English",
          "textangle": 0,
          "x": 0.09183673469387754,
          "xanchor": "center",
          "xref": "paper",
          "y": 1.02,
          "yanchor": "middle",
          "yref": "paper"
         },
         {
          "showarrow": false,
          "text": "subject=Maths",
          "textangle": 0,
          "x": 0.2959183673469387,
          "xanchor": "center",
          "xref": "paper",
          "y": 1.02,
          "yanchor": "middle",
          "yref": "paper"
         },
         {
          "showarrow": false,
          "text": "subject=Science",
          "textangle": 0,
          "x": 0.5,
          "xanchor": "center",
          "xref": "paper",
          "y": 1.02,
          "yanchor": "middle",
          "yref": "paper"
         },
         {
          "showarrow": false,
          "text": "subject=Hindi",
          "textangle": 0,
          "x": 0.7040816326530612,
          "xanchor": "center",
          "xref": "paper",
          "y": 1.02,
          "yanchor": "middle",
          "yref": "paper"
         },
         {
          "showarrow": false,
          "text": "subject=Social Studies",
          "textangle": 0,
          "x": 0.9081632653061223,
          "xanchor": "center",
          "xref": "paper",
          "y": 1.02,
          "yanchor": "middle",
          "yref": "paper"
         },
         {
          "showarrow": false,
          "text": "class=3",
          "textangle": 90,
          "x": 1.01,
          "xanchor": "center",
          "xref": "paper",
          "y": 0.9430379746835442,
          "yanchor": "middle",
          "yref": "paper"
         },
         {
          "showarrow": false,
          "text": "class=4",
          "textangle": 90,
          "x": 1.01,
          "xanchor": "center",
          "xref": "paper",
          "y": 0.8164556962025316,
          "yanchor": "middle",
          "yref": "paper"
         },
         {
          "showarrow": false,
          "text": "class=5",
          "textangle": 90,
          "x": 1.01,
          "xanchor": "center",
          "xref": "paper",
          "y": 0.6898734177215189,
          "yanchor": "middle",
          "yref": "paper"
         },
         {
          "showarrow": false,
          "text": "class=6",
          "textangle": 90,
          "x": 1.01,
          "xanchor": "center",
          "xref": "paper",
          "y": 0.5632911392405062,
          "yanchor": "middle",
          "yref": "paper"
         },
         {
          "showarrow": false,
          "text": "class=7",
          "textangle": 90,
          "x": 1.01,
          "xanchor": "center",
          "xref": "paper",
          "y": 0.4367088607594936,
          "yanchor": "middle",
          "yref": "paper"
         },
         {
          "showarrow": false,
          "text": "class=8",
          "textangle": 90,
          "x": 1.01,
          "xanchor": "center",
          "xref": "paper",
          "y": 0.310126582278481,
          "yanchor": "middle",
          "yref": "paper"
         },
         {
          "showarrow": false,
          "text": "class=9",
          "textangle": 90,
          "x": 1.01,
          "xanchor": "center",
          "xref": "paper",
          "y": 0.18354430379746833,
          "yanchor": "middle",
          "yref": "paper"
         },
         {
          "showarrow": false,
          "text": "class=10",
          "textangle": 90,
          "x": 1.01,
          "xanchor": "center",
          "xref": "paper",
          "y": 0.05696202531645569,
          "yanchor": "middle",
          "yref": "paper"
         }
        ],
        "grid": {
         "xaxes": [
          "x",
          "x2",
          "x3",
          "x4",
          "x5"
         ],
         "xgap": 0.1,
         "xside": "bottom",
         "yaxes": [
          "y",
          "y2",
          "y3",
          "y4",
          "y5",
          "y6",
          "y7",
          "y8"
         ],
         "ygap": 0.1,
         "yside": "left"
        },
        "height": 2000,
        "legend": {
         "tracegroupgap": 0
        },
        "template": {
         "data": {
          "bar": [
           {
            "marker": {
             "line": {
              "color": "#E5ECF6",
              "width": 0.5
             }
            },
            "type": "bar"
           }
          ],
          "barpolar": [
           {
            "marker": {
             "line": {
              "color": "#E5ECF6",
              "width": 0.5
             }
            },
            "type": "barpolar"
           }
          ],
          "carpet": [
           {
            "aaxis": {
             "endlinecolor": "#2a3f5f",
             "gridcolor": "white",
             "linecolor": "white",
             "minorgridcolor": "white",
             "startlinecolor": "#2a3f5f"
            },
            "baxis": {
             "endlinecolor": "#2a3f5f",
             "gridcolor": "white",
             "linecolor": "white",
             "minorgridcolor": "white",
             "startlinecolor": "#2a3f5f"
            },
            "type": "carpet"
           }
          ],
          "choropleth": [
           {
            "colorbar": {
             "outlinewidth": 0,
             "ticks": ""
            },
            "type": "choropleth"
           }
          ],
          "contour": [
           {
            "autocolorscale": true,
            "colorbar": {
             "outlinewidth": 0,
             "ticks": ""
            },
            "type": "contour"
           }
          ],
          "contourcarpet": [
           {
            "colorbar": {
             "outlinewidth": 0,
             "ticks": ""
            },
            "type": "contourcarpet"
           }
          ],
          "heatmap": [
           {
            "autocolorscale": true,
            "colorbar": {
             "outlinewidth": 0,
             "ticks": ""
            },
            "type": "heatmap"
           }
          ],
          "heatmapgl": [
           {
            "colorbar": {
             "outlinewidth": 0,
             "ticks": ""
            },
            "type": "heatmapgl"
           }
          ],
          "histogram": [
           {
            "marker": {
             "colorbar": {
              "outlinewidth": 0,
              "ticks": ""
             }
            },
            "type": "histogram"
           }
          ],
          "histogram2d": [
           {
            "autocolorscale": true,
            "colorbar": {
             "outlinewidth": 0,
             "ticks": ""
            },
            "type": "histogram2d"
           }
          ],
          "histogram2dcontour": [
           {
            "autocolorscale": true,
            "colorbar": {
             "outlinewidth": 0,
             "ticks": ""
            },
            "type": "histogram2dcontour"
           }
          ],
          "mesh3d": [
           {
            "colorbar": {
             "outlinewidth": 0,
             "ticks": ""
            },
            "type": "mesh3d"
           }
          ],
          "parcoords": [
           {
            "line": {
             "colorbar": {
              "outlinewidth": 0,
              "ticks": ""
             }
            },
            "type": "parcoords"
           }
          ],
          "scatter": [
           {
            "marker": {
             "colorbar": {
              "outlinewidth": 0,
              "ticks": ""
             }
            },
            "type": "scatter"
           }
          ],
          "scatter3d": [
           {
            "marker": {
             "colorbar": {
              "outlinewidth": 0,
              "ticks": ""
             }
            },
            "type": "scatter3d"
           }
          ],
          "scattercarpet": [
           {
            "marker": {
             "colorbar": {
              "outlinewidth": 0,
              "ticks": ""
             }
            },
            "type": "scattercarpet"
           }
          ],
          "scattergeo": [
           {
            "marker": {
             "colorbar": {
              "outlinewidth": 0,
              "ticks": ""
             }
            },
            "type": "scattergeo"
           }
          ],
          "scattergl": [
           {
            "marker": {
             "colorbar": {
              "outlinewidth": 0,
              "ticks": ""
             }
            },
            "type": "scattergl"
           }
          ],
          "scattermapbox": [
           {
            "marker": {
             "colorbar": {
              "outlinewidth": 0,
              "ticks": ""
             }
            },
            "type": "scattermapbox"
           }
          ],
          "scatterpolar": [
           {
            "marker": {
             "colorbar": {
              "outlinewidth": 0,
              "ticks": ""
             }
            },
            "type": "scatterpolar"
           }
          ],
          "scatterpolargl": [
           {
            "marker": {
             "colorbar": {
              "outlinewidth": 0,
              "ticks": ""
             }
            },
            "type": "scatterpolargl"
           }
          ],
          "scatterternary": [
           {
            "marker": {
             "colorbar": {
              "outlinewidth": 0,
              "ticks": ""
             }
            },
            "type": "scatterternary"
           }
          ],
          "surface": [
           {
            "colorbar": {
             "outlinewidth": 0,
             "ticks": ""
            },
            "type": "surface"
           }
          ],
          "table": [
           {
            "cells": {
             "fill": {
              "color": "#EBF0F8"
             },
             "line": {
              "color": "white"
             }
            },
            "header": {
             "fill": {
              "color": "#C8D4E3"
             },
             "line": {
              "color": "white"
             }
            },
            "type": "table"
           }
          ]
         },
         "layout": {
          "annotationdefaults": {
           "arrowcolor": "#506784",
           "arrowhead": 0,
           "arrowwidth": 1
          },
          "colorscale": {
           "diverging": [
            [
             0,
             "#8e0152"
            ],
            [
             0.1,
             "#c51b7d"
            ],
            [
             0.2,
             "#de77ae"
            ],
            [
             0.3,
             "#f1b6da"
            ],
            [
             0.4,
             "#fde0ef"
            ],
            [
             0.5,
             "#f7f7f7"
            ],
            [
             0.6,
             "#e6f5d0"
            ],
            [
             0.7,
             "#b8e186"
            ],
            [
             0.8,
             "#7fbc41"
            ],
            [
             0.9,
             "#4d9221"
            ],
            [
             1,
             "#276419"
            ]
           ],
           "sequential": [
            [
             0,
             "#0508b8"
            ],
            [
             0.0893854748603352,
             "#1910d8"
            ],
            [
             0.1787709497206704,
             "#3c19f0"
            ],
            [
             0.2681564245810056,
             "#6b1cfb"
            ],
            [
             0.3575418994413408,
             "#981cfd"
            ],
            [
             0.44692737430167595,
             "#bf1cfd"
            ],
            [
             0.5363128491620112,
             "#dd2bfd"
            ],
            [
             0.6256983240223464,
             "#f246fe"
            ],
            [
             0.7150837988826816,
             "#fc67fd"
            ],
            [
             0.8044692737430168,
             "#fe88fc"
            ],
            [
             0.8938547486033519,
             "#fea5fd"
            ],
            [
             0.9832402234636871,
             "#febefe"
            ],
            [
             1,
             "#fec3fe"
            ]
           ],
           "sequentialminus": [
            [
             0,
             "#0508b8"
            ],
            [
             0.0893854748603352,
             "#1910d8"
            ],
            [
             0.1787709497206704,
             "#3c19f0"
            ],
            [
             0.2681564245810056,
             "#6b1cfb"
            ],
            [
             0.3575418994413408,
             "#981cfd"
            ],
            [
             0.44692737430167595,
             "#bf1cfd"
            ],
            [
             0.5363128491620112,
             "#dd2bfd"
            ],
            [
             0.6256983240223464,
             "#f246fe"
            ],
            [
             0.7150837988826816,
             "#fc67fd"
            ],
            [
             0.8044692737430168,
             "#fe88fc"
            ],
            [
             0.8938547486033519,
             "#fea5fd"
            ],
            [
             0.9832402234636871,
             "#febefe"
            ],
            [
             1,
             "#fec3fe"
            ]
           ]
          },
          "colorway": [
           "#636efa",
           "#EF553B",
           "#00cc96",
           "#ab63fa",
           "#19d3f3",
           "#e763fa",
           "#FECB52",
           "#FFA15A",
           "#FF6692",
           "#B6E880"
          ],
          "font": {
           "color": "#2a3f5f"
          },
          "geo": {
           "bgcolor": "white",
           "lakecolor": "white",
           "landcolor": "#E5ECF6",
           "showlakes": true,
           "showland": true,
           "subunitcolor": "white"
          },
          "hoverlabel": {
           "align": "left"
          },
          "hovermode": "closest",
          "legend": {
           "itemsizing": "constant"
          },
          "mapbox": {
           "style": "light"
          },
          "paper_bgcolor": "white",
          "plot_bgcolor": "#E5ECF6",
          "polar": {
           "angularaxis": {
            "gridcolor": "white",
            "linecolor": "white",
            "ticks": ""
           },
           "bgcolor": "#E5ECF6",
           "radialaxis": {
            "gridcolor": "white",
            "linecolor": "white",
            "ticks": ""
           }
          },
          "scene": {
           "xaxis": {
            "backgroundcolor": "#E5ECF6",
            "gridcolor": "white",
            "gridwidth": 2,
            "linecolor": "white",
            "showbackground": true,
            "ticks": "",
            "zerolinecolor": "white"
           },
           "yaxis": {
            "backgroundcolor": "#E5ECF6",
            "gridcolor": "white",
            "gridwidth": 2,
            "linecolor": "white",
            "showbackground": true,
            "ticks": "",
            "zerolinecolor": "white"
           },
           "zaxis": {
            "backgroundcolor": "#E5ECF6",
            "gridcolor": "white",
            "gridwidth": 2,
            "linecolor": "white",
            "showbackground": true,
            "ticks": "",
            "zerolinecolor": "white"
           }
          },
          "shapedefaults": {
           "fillcolor": "#506784",
           "line": {
            "width": 0
           },
           "opacity": 0.4
          },
          "ternary": {
           "aaxis": {
            "gridcolor": "white",
            "linecolor": "white",
            "ticks": ""
           },
           "baxis": {
            "gridcolor": "white",
            "linecolor": "white",
            "ticks": ""
           },
           "bgcolor": "#E5ECF6",
           "caxis": {
            "gridcolor": "white",
            "linecolor": "white",
            "ticks": ""
           }
          },
          "title": {
           "x": 0.05
          },
          "xaxis": {
           "automargin": true,
           "gridcolor": "white",
           "linecolor": "white",
           "ticks": "",
           "zerolinecolor": "white",
           "zerolinewidth": 2
          },
          "yaxis": {
           "automargin": true,
           "gridcolor": "white",
           "linecolor": "white",
           "ticks": "",
           "zerolinecolor": "white",
           "zerolinewidth": 2
          }
         }
        },
        "title": {
         "text": "Overall performance in subjects across the years for different grades (Sushila Birla Girls^ School-Kolkata-CBSE)"
        },
        "width": 2000,
        "xaxis": {
         "title": {
          "text": "year"
         }
        },
        "xaxis2": {
         "matches": "x",
         "title": {
          "text": "year"
         }
        },
        "xaxis3": {
         "matches": "x",
         "title": {
          "text": "year"
         }
        },
        "xaxis4": {
         "matches": "x",
         "title": {
          "text": "year"
         }
        },
        "xaxis5": {
         "matches": "x",
         "title": {
          "text": "year"
         }
        },
        "yaxis": {
         "title": {
          "text": "total_delta"
         }
        },
        "yaxis2": {
         "matches": "y",
         "title": {
          "text": "total_delta"
         }
        },
        "yaxis3": {
         "matches": "y",
         "title": {
          "text": "total_delta"
         }
        },
        "yaxis4": {
         "matches": "y",
         "title": {
          "text": "total_delta"
         }
        },
        "yaxis5": {
         "matches": "y",
         "title": {
          "text": "total_delta"
         }
        },
        "yaxis6": {
         "matches": "y",
         "title": {
          "text": "total_delta"
         }
        },
        "yaxis7": {
         "matches": "y",
         "title": {
          "text": "total_delta"
         }
        },
        "yaxis8": {
         "matches": "y",
         "title": {
          "text": "total_delta"
         }
        }
       }
      },
      "text/html": [
       "<div>\n",
       "        \n",
       "        \n",
       "            <div id=\"d06dc279-277f-4342-b495-b96a58dc2b1d\" class=\"plotly-graph-div\"></div>\n",
       "            <script type=\"text/javascript\">\n",
       "                require([\"plotly\"], function(Plotly) {\n",
       "                    window.PLOTLYENV=window.PLOTLYENV || {};\n",
       "                    window.PLOTLYENV.BASE_URL='https://plot.ly';\n",
       "                    \n",
       "                if (document.getElementById(\"d06dc279-277f-4342-b495-b96a58dc2b1d\")) {\n",
       "                    Plotly.newPlot(\n",
       "                        'd06dc279-277f-4342-b495-b96a58dc2b1d',\n",
       "                        [{\"hovertemplate\": \"class=3<br>subject=English<br>subject=English<br>year=%{x}<br>total_delta=%{y}<br>studentCount=%{marker.size}<extra></extra>\", \"legendgroup\": \"subject=English\", \"marker\": {\"color\": \"#636efa\", \"size\": [19, 74, 105, 102, 106], \"sizemode\": \"area\", \"sizeref\": 1.15, \"symbol\": \"circle\"}, \"mode\": \"markers\", \"name\": \"subject=English\", \"showlegend\": true, \"type\": \"scatter\", \"uid\": \"f8dd6577-1b0f-46f7-803c-e3088a29f5f2\", \"x\": [\"2007\", \"2008\", \"2014\", \"2016\", \"2018\"], \"xaxis\": \"x\", \"y\": [19.879999999999995, 11.0, 9.43, 8.07, 10.910000000000004], \"yaxis\": \"y\"}, {\"hovertemplate\": \"<b>LOWESS trendline</b><br><br>class=3<br>subject=English<br>subject=English<br>year=%{x}<br>total_delta=%{y} <b>(trend)</b><extra></extra>\", \"legendgroup\": \"subject=English\", \"marker\": {\"color\": \"#636efa\", \"symbol\": \"circle\"}, \"mode\": \"lines\", \"name\": \"subject=English\", \"showlegend\": false, \"type\": \"scatter\", \"uid\": \"902d0705-1ba5-42c0-a992-90874eb91486\", \"x\": [2007.0, 2008.0, 2014.0, 2016.0, 2018.0], \"xaxis\": \"x\", \"y\": [19.880000000008433, 11.000000000004873, 9.43, 8.07, 10.910000000000004], \"yaxis\": \"y\"}, {\"hovertemplate\": \"class=3<br>subject=Maths<br>subject=Maths<br>year=%{x}<br>total_delta=%{y}<br>studentCount=%{marker.size}<extra></extra>\", \"legendgroup\": \"subject=Maths\", \"marker\": {\"color\": \"#EF553B\", \"size\": [19, 74, 75, 106, 109, 108], \"sizemode\": \"area\", \"sizeref\": 1.15, \"symbol\": \"circle\"}, \"mode\": \"markers\", \"name\": \"subject=Maths\", \"showlegend\": true, \"type\": \"scatter\", \"uid\": \"b6f90564-a339-42e1-ac2e-c88d7bd7349e\", \"x\": [\"2007\", \"2008\", \"2009\", \"2014\", \"2016\", \"2018\"], \"xaxis\": \"x2\", \"y\": [5.719999999999999, -2.6799999999999997, 2.6599999999999966, 2.280000000000001, 9.049999999999997, 6.780000000000001], \"yaxis\": \"y\"}, {\"hovertemplate\": \"<b>LOWESS trendline</b><br><br>class=3<br>subject=Maths<br>subject=Maths<br>year=%{x}<br>total_delta=%{y} <b>(trend)</b><extra></extra>\", \"legendgroup\": \"subject=Maths\", \"marker\": {\"color\": \"#EF553B\", \"symbol\": \"circle\"}, \"mode\": \"lines\", \"name\": \"subject=Maths\", \"showlegend\": false, \"type\": \"scatter\", \"uid\": \"ab7e519b-5645-424b-a665-0f6e1d1f2949\", \"x\": [2007.0, 2008.0, 2009.0, 2014.0, 2016.0, 2018.0], \"xaxis\": \"x2\", \"y\": [4.084527943480181, 2.514813101708989, 1.0768972765267137, 2.8598689770464105, 5.9522055106356575, 8.06031388317437], \"yaxis\": \"y\"}, {\"hovertemplate\": \"class=3<br>subject=Science<br>subject=Science<br>year=%{x}<br>total_delta=%{y}<br>studentCount=%{marker.size}<extra></extra>\", \"legendgroup\": \"subject=Science\", \"marker\": {\"color\": \"#00cc96\", \"size\": [18, 73, 75, 106, 109, 113], \"sizemode\": \"area\", \"sizeref\": 1.15, \"symbol\": \"circle\"}, \"mode\": \"markers\", \"name\": \"subject=Science\", \"showlegend\": true, \"type\": \"scatter\", \"uid\": \"fa6ab538-2d55-4d47-8695-39e583a3e6d1\", \"x\": [\"2007\", \"2008\", \"2009\", \"2014\", \"2016\", \"2018\"], \"xaxis\": \"x3\", \"y\": [4.359999999999999, 4.590000000000003, 4.159999999999997, -2.1999999999999957, 4.980000000000004, 3.229999999999997], \"yaxis\": \"y\"}, {\"hovertemplate\": \"<b>LOWESS trendline</b><br><br>class=3<br>subject=Science<br>subject=Science<br>year=%{x}<br>total_delta=%{y} <b>(trend)</b><extra></extra>\", \"legendgroup\": \"subject=Science\", \"marker\": {\"color\": \"#00cc96\", \"symbol\": \"circle\"}, \"mode\": \"lines\", \"name\": \"subject=Science\", \"showlegend\": false, \"type\": \"scatter\", \"uid\": \"0d0ca989-a86c-40c4-8be9-18fff77c711f\", \"x\": [2007.0, 2008.0, 2009.0, 2014.0, 2016.0, 2018.0], \"xaxis\": \"x3\", \"y\": [4.446036144988133, 4.348146799169464, 4.243165225749942, -2.2000000000001108, 0.5150000000000006, 3.230000000000051], \"yaxis\": \"y\"}, {\"hovertemplate\": \"class=4<br>subject=English<br>subject=English<br>year=%{x}<br>total_delta=%{y}<br>studentCount=%{marker.size}<extra></extra>\", \"legendgroup\": \"subject=English\", \"marker\": {\"color\": \"#636efa\", \"size\": [15, 73, 104, 108, 108], \"sizemode\": \"area\", \"sizeref\": 1.15, \"symbol\": \"circle\"}, \"mode\": \"markers\", \"name\": \"subject=English\", \"showlegend\": false, \"type\": \"scatter\", \"uid\": \"0bb721cc-cd4d-4913-b58f-d64fecfca12f\", \"x\": [\"2007\", \"2008\", \"2014\", \"2016\", \"2018\"], \"xaxis\": \"x\", \"y\": [3.6999999999999957, 11.64, 10.469999999999999, 9.100000000000001, 18.85000000000001], \"yaxis\": \"y2\"}, {\"hovertemplate\": \"<b>LOWESS trendline</b><br><br>class=4<br>subject=English<br>subject=English<br>year=%{x}<br>total_delta=%{y} <b>(trend)</b><extra></extra>\", \"legendgroup\": \"subject=English\", \"marker\": {\"color\": \"#636efa\", \"symbol\": \"circle\"}, \"mode\": \"lines\", \"name\": \"subject=English\", \"showlegend\": false, \"type\": \"scatter\", \"uid\": \"b498408f-0ed8-428a-8418-f2e770789273\", \"x\": [2007.0, 2008.0, 2014.0, 2016.0, 2018.0], \"xaxis\": \"x\", \"y\": [3.700000000000277, 11.639999999999144, 10.470000000000892, 9.100000000000001, 18.85000000000001], \"yaxis\": \"y2\"}, {\"hovertemplate\": \"class=4<br>subject=Maths<br>subject=Maths<br>year=%{x}<br>total_delta=%{y}<br>studentCount=%{marker.size}<extra></extra>\", \"legendgroup\": \"subject=Maths\", \"marker\": {\"color\": \"#EF553B\", \"size\": [14, 72, 75, 104, 111, 113], \"sizemode\": \"area\", \"sizeref\": 1.15, \"symbol\": \"circle\"}, \"mode\": \"markers\", \"name\": \"subject=Maths\", \"showlegend\": false, \"type\": \"scatter\", \"uid\": \"70ae4d83-0dcb-46e6-b237-a7a1c473f4e9\", \"x\": [\"2007\", \"2008\", \"2009\", \"2014\", \"2016\", \"2018\"], \"xaxis\": \"x2\", \"y\": [3.759999999999998, -0.5, 3.9399999999999977, -0.5200000000000031, -0.9500000000000028, 3.190000000000005], \"yaxis\": \"y2\"}, {\"hovertemplate\": \"<b>LOWESS trendline</b><br><br>class=4<br>subject=Maths<br>subject=Maths<br>year=%{x}<br>total_delta=%{y} <b>(trend)</b><extra></extra>\", \"legendgroup\": \"subject=Maths\", \"marker\": {\"color\": \"#EF553B\", \"symbol\": \"circle\"}, \"mode\": \"lines\", \"name\": \"subject=Maths\", \"showlegend\": false, \"type\": \"scatter\", \"uid\": \"66316505-c3f5-4254-9346-e97183324060\", \"x\": [2007.0, 2008.0, 2009.0, 2014.0, 2016.0, 2018.0], \"xaxis\": \"x2\", \"y\": [2.7244390908515306, 2.7892921386380576, 2.9375987122128118, -0.8216792005429054, 0.5848759693185801, 2.517869910004221], \"yaxis\": \"y2\"}, {\"hovertemplate\": \"class=4<br>subject=Science<br>subject=Science<br>year=%{x}<br>total_delta=%{y}<br>studentCount=%{marker.size}<extra></extra>\", \"legendgroup\": \"subject=Science\", \"marker\": {\"color\": \"#00cc96\", \"size\": [12, 73, 75, 104, 112, 113], \"sizemode\": \"area\", \"sizeref\": 1.15, \"symbol\": \"circle\"}, \"mode\": \"markers\", \"name\": \"subject=Science\", \"showlegend\": false, \"type\": \"scatter\", \"uid\": \"a688870a-b8c5-4981-96c1-2a59f91fa5e8\", \"x\": [\"2007\", \"2008\", \"2009\", \"2014\", \"2016\", \"2018\"], \"xaxis\": \"x3\", \"y\": [-2.9200000000000017, -0.38000000000000256, 1.1999999999999957, 0.8000000000000043, 2.4200000000000017, 3.559999999999995], \"yaxis\": \"y2\"}, {\"hovertemplate\": \"<b>LOWESS trendline</b><br><br>class=4<br>subject=Science<br>subject=Science<br>year=%{x}<br>total_delta=%{y} <b>(trend)</b><extra></extra>\", \"legendgroup\": \"subject=Science\", \"marker\": {\"color\": \"#00cc96\", \"symbol\": \"circle\"}, \"mode\": \"lines\", \"name\": \"subject=Science\", \"showlegend\": false, \"type\": \"scatter\", \"uid\": \"22d87e1f-99be-4262-9f40-ba7fa0fd9414\", \"x\": [2007.0, 2008.0, 2009.0, 2014.0, 2016.0, 2018.0], \"xaxis\": \"x3\", \"y\": [-2.8058416945400286, -0.7430698385661496, 1.3105043992792829, 0.8318267530347279, 2.259289837275184, 3.6309878888126788], \"yaxis\": \"y2\"}, {\"hovertemplate\": \"class=4<br>subject=Hindi<br>subject=Hindi<br>year=%{x}<br>total_delta=%{y}<br>studentCount=%{marker.size}<extra></extra>\", \"legendgroup\": \"subject=Hindi\", \"marker\": {\"color\": \"#ab63fa\", \"size\": [7, 71], \"sizemode\": \"area\", \"sizeref\": 1.15, \"symbol\": \"circle\"}, \"mode\": \"markers\", \"name\": \"subject=Hindi\", \"showlegend\": true, \"type\": \"scatter\", \"uid\": \"6ec23a19-8095-4820-8964-45aad6e8bc01\", \"x\": [\"2007\", \"2009\"], \"xaxis\": \"x4\", \"y\": [4.369999999999997, 5.450000000000003], \"yaxis\": \"y2\"}, {\"hovertemplate\": \"<b>LOWESS trendline</b><br><br>class=4<br>subject=Hindi<br>subject=Hindi<br>year=%{x}<br>total_delta=%{y} <b>(trend)</b><extra></extra>\", \"legendgroup\": \"subject=Hindi\", \"marker\": {\"color\": \"#ab63fa\", \"symbol\": \"circle\"}, \"mode\": \"lines\", \"name\": \"subject=Hindi\", \"showlegend\": false, \"type\": \"scatter\", \"uid\": \"359bc74c-9be5-4a43-957e-5b144199192a\", \"x\": [2007.0, 2009.0], \"xaxis\": \"x4\", \"y\": [4.369999999999997, 5.450000000000003], \"yaxis\": \"y2\"}, {\"hovertemplate\": \"class=5<br>subject=English<br>subject=English<br>year=%{x}<br>total_delta=%{y}<br>studentCount=%{marker.size}<extra></extra>\", \"legendgroup\": \"subject=English\", \"marker\": {\"color\": \"#636efa\", \"size\": [16, 73, 108, 103, 109], \"sizemode\": \"area\", \"sizeref\": 1.15, \"symbol\": \"circle\"}, \"mode\": \"markers\", \"name\": \"subject=English\", \"showlegend\": false, \"type\": \"scatter\", \"uid\": \"9b7368b5-5962-4cae-ae98-2d082e9d9d51\", \"x\": [\"2007\", \"2008\", \"2014\", \"2016\", \"2018\"], \"xaxis\": \"x\", \"y\": [17.32, 8.380000000000003, 12.480000000000004, 10.479999999999997, 15.069999999999993], \"yaxis\": \"y3\"}, {\"hovertemplate\": \"<b>LOWESS trendline</b><br><br>class=5<br>subject=English<br>subject=English<br>year=%{x}<br>total_delta=%{y} <b>(trend)</b><extra></extra>\", \"legendgroup\": \"subject=English\", \"marker\": {\"color\": \"#636efa\", \"symbol\": \"circle\"}, \"mode\": \"lines\", \"name\": \"subject=English\", \"showlegend\": false, \"type\": \"scatter\", \"uid\": \"c48428d4-918a-4420-a8b0-9bc9f094772f\", \"x\": [2007.0, 2008.0, 2014.0, 2016.0, 2018.0], \"xaxis\": \"x\", \"y\": [17.319999999988582, 8.379999999992238, 12.48000000000128, 10.479999999999997, 15.070000000002814], \"yaxis\": \"y3\"}, {\"hovertemplate\": \"class=5<br>subject=Maths<br>subject=Maths<br>year=%{x}<br>total_delta=%{y}<br>studentCount=%{marker.size}<extra></extra>\", \"legendgroup\": \"subject=Maths\", \"marker\": {\"color\": \"#EF553B\", \"size\": [16, 73, 75, 108, 107, 112], \"sizemode\": \"area\", \"sizeref\": 1.15, \"symbol\": \"circle\"}, \"mode\": \"markers\", \"name\": \"subject=Maths\", \"showlegend\": false, \"type\": \"scatter\", \"uid\": \"d41b317f-d41f-4654-abc0-7dd49fbabefa\", \"x\": [\"2007\", \"2008\", \"2009\", \"2014\", \"2016\", \"2018\"], \"xaxis\": \"x2\", \"y\": [7.869999999999997, -0.1600000000000037, 5.199999999999996, 5.520000000000003, 3.8900000000000006, 4.990000000000002], \"yaxis\": \"y3\"}, {\"hovertemplate\": \"<b>LOWESS trendline</b><br><br>class=5<br>subject=Maths<br>subject=Maths<br>year=%{x}<br>total_delta=%{y} <b>(trend)</b><extra></extra>\", \"legendgroup\": \"subject=Maths\", \"marker\": {\"color\": \"#EF553B\", \"symbol\": \"circle\"}, \"mode\": \"lines\", \"name\": \"subject=Maths\", \"showlegend\": false, \"type\": \"scatter\", \"uid\": \"6c1f1342-dcb4-4ac8-9f3d-eae2f01f5b17\", \"x\": [2007.0, 2008.0, 2009.0, 2014.0, 2016.0, 2018.0], \"xaxis\": \"x2\", \"y\": [7.869999999999708, 6.5350000000002675, 5.200000000000469, 5.336249568349399, 4.794236589300695, 4.578642964467227], \"yaxis\": \"y3\"}, {\"hovertemplate\": \"class=5<br>subject=Science<br>subject=Science<br>year=%{x}<br>total_delta=%{y}<br>studentCount=%{marker.size}<extra></extra>\", \"legendgroup\": \"subject=Science\", \"marker\": {\"color\": \"#00cc96\", \"size\": [12, 74, 75, 107, 105, 113], \"sizemode\": \"area\", \"sizeref\": 1.15, \"symbol\": \"circle\"}, \"mode\": \"markers\", \"name\": \"subject=Science\", \"showlegend\": false, \"type\": \"scatter\", \"uid\": \"6ec751b3-cb06-432c-9cdf-84d2dbc1bf6f\", \"x\": [\"2007\", \"2008\", \"2009\", \"2014\", \"2016\", \"2018\"], \"xaxis\": \"x3\", \"y\": [6.780000000000001, -1.2299999999999969, 4.270000000000003, 3.1999999999999957, -0.8999999999999986, 0.75], \"yaxis\": \"y3\"}, {\"hovertemplate\": \"<b>LOWESS trendline</b><br><br>class=5<br>subject=Science<br>subject=Science<br>year=%{x}<br>total_delta=%{y} <b>(trend)</b><extra></extra>\", \"legendgroup\": \"subject=Science\", \"marker\": {\"color\": \"#00cc96\", \"symbol\": \"circle\"}, \"mode\": \"lines\", \"name\": \"subject=Science\", \"showlegend\": false, \"type\": \"scatter\", \"uid\": \"cd37b3c1-8613-4b66-918e-c6fece100eb2\", \"x\": [2007.0, 2008.0, 2009.0, 2014.0, 2016.0, 2018.0], \"xaxis\": \"x3\", \"y\": [5.219412175534799, 3.9266408779042767, 2.75873836416023, 2.81482355620142, 1.0113355481052049, -0.11105625124443308], \"yaxis\": \"y3\"}, {\"hovertemplate\": \"class=5<br>subject=Hindi<br>subject=Hindi<br>year=%{x}<br>total_delta=%{y}<br>studentCount=%{marker.size}<extra></extra>\", \"legendgroup\": \"subject=Hindi\", \"marker\": {\"color\": \"#ab63fa\", \"size\": [2, 65], \"sizemode\": \"area\", \"sizeref\": 1.15, \"symbol\": \"circle\"}, \"mode\": \"markers\", \"name\": \"subject=Hindi\", \"showlegend\": false, \"type\": \"scatter\", \"uid\": \"17f957cc-4a52-4108-b8db-8a4e91d16317\", \"x\": [\"2007\", \"2009\"], \"xaxis\": \"x4\", \"y\": [5.410000000000004, 5.769999999999996], \"yaxis\": \"y3\"}, {\"hovertemplate\": \"<b>LOWESS trendline</b><br><br>class=5<br>subject=Hindi<br>subject=Hindi<br>year=%{x}<br>total_delta=%{y} <b>(trend)</b><extra></extra>\", \"legendgroup\": \"subject=Hindi\", \"marker\": {\"color\": \"#ab63fa\", \"symbol\": \"circle\"}, \"mode\": \"lines\", \"name\": \"subject=Hindi\", \"showlegend\": false, \"type\": \"scatter\", \"uid\": \"ac177784-82da-4925-81be-79f99817e9f0\", \"x\": [2007.0, 2009.0], \"xaxis\": \"x4\", \"y\": [5.410000000000004, 5.769999999999996], \"yaxis\": \"y3\"}, {\"hovertemplate\": \"class=5<br>subject=Social Studies<br>subject=Social Studies<br>year=%{x}<br>total_delta=%{y}<br>studentCount=%{marker.size}<extra></extra>\", \"legendgroup\": \"subject=Social Studies\", \"marker\": {\"color\": \"#19d3f3\", \"size\": [2], \"sizemode\": \"area\", \"sizeref\": 1.15, \"symbol\": \"circle\"}, \"mode\": \"markers\", \"name\": \"subject=Social Studies\", \"showlegend\": true, \"type\": \"scatter\", \"uid\": \"9186e9a7-f792-41b3-a706-7ca8429b7f52\", \"x\": [\"2007\"], \"xaxis\": \"x5\", \"y\": [-7.770000000000003], \"yaxis\": \"y3\"}, {\"hovertemplate\": \"class=5<br>subject=Social Studies<br>subject=Social Studies<extra></extra>\", \"legendgroup\": \"subject=Social Studies\", \"marker\": {\"color\": \"#19d3f3\", \"symbol\": \"circle\"}, \"mode\": \"lines\", \"name\": \"subject=Social Studies\", \"showlegend\": false, \"type\": \"scatter\", \"uid\": \"4cc57934-35c0-4608-a505-d3f696315cc0\", \"xaxis\": \"x5\", \"yaxis\": \"y3\"}, {\"hovertemplate\": \"class=6<br>subject=English<br>subject=English<br>year=%{x}<br>total_delta=%{y}<br>studentCount=%{marker.size}<extra></extra>\", \"legendgroup\": \"subject=English\", \"marker\": {\"color\": \"#636efa\", \"size\": [17, 75, 82, 97, 107], \"sizemode\": \"area\", \"sizeref\": 1.15, \"symbol\": \"circle\"}, \"mode\": \"markers\", \"name\": \"subject=English\", \"showlegend\": false, \"type\": \"scatter\", \"uid\": \"88ed2716-619f-487d-87d3-67f4ce63c2e9\", \"x\": [\"2007\", \"2008\", \"2014\", \"2016\", \"2018\"], \"xaxis\": \"x\", \"y\": [28.379999999999995, 14.719999999999999, 12.64, 10.399999999999999, 20.36], \"yaxis\": \"y4\"}, {\"hovertemplate\": \"<b>LOWESS trendline</b><br><br>class=6<br>subject=English<br>subject=English<br>year=%{x}<br>total_delta=%{y} <b>(trend)</b><extra></extra>\", \"legendgroup\": \"subject=English\", \"marker\": {\"color\": \"#636efa\", \"symbol\": \"circle\"}, \"mode\": \"lines\", \"name\": \"subject=English\", \"showlegend\": false, \"type\": \"scatter\", \"uid\": \"6021421c-e41b-4c81-b7bf-61336594ff03\", \"x\": [2007.0, 2008.0, 2014.0, 2016.0, 2018.0], \"xaxis\": \"x\", \"y\": [28.380000000012043, 14.720000000006515, 12.64, 10.399999999999999, 20.36], \"yaxis\": \"y4\"}, {\"hovertemplate\": \"class=6<br>subject=Maths<br>subject=Maths<br>year=%{x}<br>total_delta=%{y}<br>studentCount=%{marker.size}<extra></extra>\", \"legendgroup\": \"subject=Maths\", \"marker\": {\"color\": \"#EF553B\", \"size\": [17, 74, 79, 82, 100, 111], \"sizemode\": \"area\", \"sizeref\": 1.15, \"symbol\": \"circle\"}, \"mode\": \"markers\", \"name\": \"subject=Maths\", \"showlegend\": false, \"type\": \"scatter\", \"uid\": \"331e996d-0ae0-45f4-b234-df4b0978682c\", \"x\": [\"2007\", \"2008\", \"2009\", \"2014\", \"2016\", \"2018\"], \"xaxis\": \"x2\", \"y\": [14.5, 5.390000000000001, 3.9299999999999997, 7.579999999999998, 3.510000000000005, 8.71], \"yaxis\": \"y4\"}, {\"hovertemplate\": \"<b>LOWESS trendline</b><br><br>class=6<br>subject=Maths<br>subject=Maths<br>year=%{x}<br>total_delta=%{y} <b>(trend)</b><extra></extra>\", \"legendgroup\": \"subject=Maths\", \"marker\": {\"color\": \"#EF553B\", \"symbol\": \"circle\"}, \"mode\": \"lines\", \"name\": \"subject=Maths\", \"showlegend\": false, \"type\": \"scatter\", \"uid\": \"5c26d1c1-dddd-4ee1-9dcc-1b4bbe5cb41f\", \"x\": [2007.0, 2008.0, 2009.0, 2014.0, 2016.0, 2018.0], \"xaxis\": \"x2\", \"y\": [13.520344778788745, 8.211188153868882, 2.9824403955931444, 7.105780541219439, 7.129678180218622, 7.782668258669388], \"yaxis\": \"y4\"}, {\"hovertemplate\": \"class=6<br>subject=Science<br>subject=Science<br>year=%{x}<br>total_delta=%{y}<br>studentCount=%{marker.size}<extra></extra>\", \"legendgroup\": \"subject=Science\", \"marker\": {\"color\": \"#00cc96\", \"size\": [17, 73, 79, 82, 100, 111], \"sizemode\": \"area\", \"sizeref\": 1.15, \"symbol\": \"circle\"}, \"mode\": \"markers\", \"name\": \"subject=Science\", \"showlegend\": false, \"type\": \"scatter\", \"uid\": \"3bb64dac-7bda-40f7-a90d-61b2b8d15426\", \"x\": [\"2007\", \"2008\", \"2009\", \"2014\", \"2016\", \"2018\"], \"xaxis\": \"x3\", \"y\": [10.82, 5.779999999999994, 1.3200000000000003, 5.239999999999995, 3.450000000000003, 5.220000000000006], \"yaxis\": \"y4\"}, {\"hovertemplate\": \"<b>LOWESS trendline</b><br><br>class=6<br>subject=Science<br>subject=Science<br>year=%{x}<br>total_delta=%{y} <b>(trend)</b><extra></extra>\", \"legendgroup\": \"subject=Science\", \"marker\": {\"color\": \"#00cc96\", \"symbol\": \"circle\"}, \"mode\": \"lines\", \"name\": \"subject=Science\", \"showlegend\": false, \"type\": \"scatter\", \"uid\": \"2080082e-5f4d-4a89-ac0d-fff7b02293a3\", \"x\": [2007.0, 2008.0, 2009.0, 2014.0, 2016.0, 2018.0], \"xaxis\": \"x3\", \"y\": [10.744958990784628, 5.99311963588553, 1.2474542193007383, 5.240000000000087, 5.23, 5.220000000000077], \"yaxis\": \"y4\"}, {\"hovertemplate\": \"class=6<br>subject=Hindi<br>subject=Hindi<br>year=%{x}<br>total_delta=%{y}<br>studentCount=%{marker.size}<extra></extra>\", \"legendgroup\": \"subject=Hindi\", \"marker\": {\"color\": \"#ab63fa\", \"size\": [5, 72], \"sizemode\": \"area\", \"sizeref\": 1.15, \"symbol\": \"circle\"}, \"mode\": \"markers\", \"name\": \"subject=Hindi\", \"showlegend\": false, \"type\": \"scatter\", \"uid\": \"9ad83890-8f8b-4883-a8c0-f6375203a7ce\", \"x\": [\"2007\", \"2009\"], \"xaxis\": \"x4\", \"y\": [16.489999999999995, 8.130000000000003], \"yaxis\": \"y4\"}, {\"hovertemplate\": \"<b>LOWESS trendline</b><br><br>class=6<br>subject=Hindi<br>subject=Hindi<br>year=%{x}<br>total_delta=%{y} <b>(trend)</b><extra></extra>\", \"legendgroup\": \"subject=Hindi\", \"marker\": {\"color\": \"#ab63fa\", \"symbol\": \"circle\"}, \"mode\": \"lines\", \"name\": \"subject=Hindi\", \"showlegend\": false, \"type\": \"scatter\", \"uid\": \"bd0378c3-7d91-430f-b414-aa15a7a55047\", \"x\": [2007.0, 2009.0], \"xaxis\": \"x4\", \"y\": [16.489999999999995, 8.130000000000003], \"yaxis\": \"y4\"}, {\"hovertemplate\": \"class=6<br>subject=Social Studies<br>subject=Social Studies<br>year=%{x}<br>total_delta=%{y}<br>studentCount=%{marker.size}<extra></extra>\", \"legendgroup\": \"subject=Social Studies\", \"marker\": {\"color\": \"#19d3f3\", \"size\": [5], \"sizemode\": \"area\", \"sizeref\": 1.15, \"symbol\": \"circle\"}, \"mode\": \"markers\", \"name\": \"subject=Social Studies\", \"showlegend\": false, \"type\": \"scatter\", \"uid\": \"0f257019-d18f-4676-9d74-2cb069a2e317\", \"x\": [\"2007\"], \"xaxis\": \"x5\", \"y\": [7.579999999999998], \"yaxis\": \"y4\"}, {\"hovertemplate\": \"class=6<br>subject=Social Studies<br>subject=Social Studies<extra></extra>\", \"legendgroup\": \"subject=Social Studies\", \"marker\": {\"color\": \"#19d3f3\", \"symbol\": \"circle\"}, \"mode\": \"lines\", \"name\": \"subject=Social Studies\", \"showlegend\": false, \"type\": \"scatter\", \"uid\": \"37d8f341-70e3-462c-aeba-64ea38b57318\", \"xaxis\": \"x5\", \"yaxis\": \"y4\"}, {\"hovertemplate\": \"class=7<br>subject=English<br>subject=English<br>year=%{x}<br>total_delta=%{y}<br>studentCount=%{marker.size}<extra></extra>\", \"legendgroup\": \"subject=English\", \"marker\": {\"color\": \"#636efa\", \"size\": [4, 46, 78, 96, 110], \"sizemode\": \"area\", \"sizeref\": 1.15, \"symbol\": \"circle\"}, \"mode\": \"markers\", \"name\": \"subject=English\", \"showlegend\": false, \"type\": \"scatter\", \"uid\": \"adea9bd8-c134-48df-89f1-e8f13573e0fa\", \"x\": [\"2007\", \"2008\", \"2014\", \"2016\", \"2018\"], \"xaxis\": \"x\", \"y\": [16.61, 19.400000000000006, 14.389999999999993, 13.690000000000005, 21.700000000000003], \"yaxis\": \"y5\"}, {\"hovertemplate\": \"<b>LOWESS trendline</b><br><br>class=7<br>subject=English<br>subject=English<br>year=%{x}<br>total_delta=%{y} <b>(trend)</b><extra></extra>\", \"legendgroup\": \"subject=English\", \"marker\": {\"color\": \"#636efa\", \"symbol\": \"circle\"}, \"mode\": \"lines\", \"name\": \"subject=English\", \"showlegend\": false, \"type\": \"scatter\", \"uid\": \"d80a4a4f-0051-474f-9869-d229d1af656b\", \"x\": [2007.0, 2008.0, 2014.0, 2016.0, 2018.0], \"xaxis\": \"x\", \"y\": [16.61, 19.400000000000006, 14.390000000001788, 13.690000000000005, 21.700000000002877], \"yaxis\": \"y5\"}, {\"hovertemplate\": \"class=7<br>subject=Maths<br>subject=Maths<br>year=%{x}<br>total_delta=%{y}<br>studentCount=%{marker.size}<extra></extra>\", \"legendgroup\": \"subject=Maths\", \"marker\": {\"color\": \"#EF553B\", \"size\": [4, 45, 74, 78, 99, 114], \"sizemode\": \"area\", \"sizeref\": 1.15, \"symbol\": \"circle\"}, \"mode\": \"markers\", \"name\": \"subject=Maths\", \"showlegend\": false, \"type\": \"scatter\", \"uid\": \"47c914a8-5373-4bc0-b7be-7a8465a3feb0\", \"x\": [\"2007\", \"2008\", \"2009\", \"2014\", \"2016\", \"2018\"], \"xaxis\": \"x2\", \"y\": [15.150000000000006, 13.719999999999999, 8.579999999999998, 12.670000000000002, 7.219999999999999, 6.0], \"yaxis\": \"y5\"}, {\"hovertemplate\": \"<b>LOWESS trendline</b><br><br>class=7<br>subject=Maths<br>subject=Maths<br>year=%{x}<br>total_delta=%{y} <b>(trend)</b><extra></extra>\", \"legendgroup\": \"subject=Maths\", \"marker\": {\"color\": \"#EF553B\", \"symbol\": \"circle\"}, \"mode\": \"lines\", \"name\": \"subject=Maths\", \"showlegend\": false, \"type\": \"scatter\", \"uid\": \"31031d5f-2a2e-4719-abb0-17f20e88d3a7\", \"x\": [2007.0, 2008.0, 2009.0, 2014.0, 2016.0, 2018.0], \"xaxis\": \"x2\", \"y\": [15.615236387305119, 12.341655368715909, 9.030092717202855, 12.446393640625875, 8.846918108592378, 5.554596098256156], \"yaxis\": \"y5\"}, {\"hovertemplate\": \"class=7<br>subject=Science<br>subject=Science<br>year=%{x}<br>total_delta=%{y}<br>studentCount=%{marker.size}<extra></extra>\", \"legendgroup\": \"subject=Science\", \"marker\": {\"color\": \"#00cc96\", \"size\": [4, 46, 74, 78, 100, 115], \"sizemode\": \"area\", \"sizeref\": 1.15, \"symbol\": \"circle\"}, \"mode\": \"markers\", \"name\": \"subject=Science\", \"showlegend\": false, \"type\": \"scatter\", \"uid\": \"c31d46dd-a8a6-484d-9560-d52bba017fca\", \"x\": [\"2007\", \"2008\", \"2009\", \"2014\", \"2016\", \"2018\"], \"xaxis\": \"x3\", \"y\": [7.799999999999997, 8.470000000000006, 4.1200000000000045, 5.160000000000004, 4.949999999999996, 8.639999999999993], \"yaxis\": \"y5\"}, {\"hovertemplate\": \"<b>LOWESS trendline</b><br><br>class=7<br>subject=Science<br>subject=Science<br>year=%{x}<br>total_delta=%{y} <b>(trend)</b><extra></extra>\", \"legendgroup\": \"subject=Science\", \"marker\": {\"color\": \"#00cc96\", \"symbol\": \"circle\"}, \"mode\": \"lines\", \"name\": \"subject=Science\", \"showlegend\": false, \"type\": \"scatter\", \"uid\": \"6a961aee-bf43-495e-9896-51788f0a7ba4\", \"x\": [2007.0, 2008.0, 2009.0, 2014.0, 2016.0, 2018.0], \"xaxis\": \"x3\", \"y\": [8.39753054757808, 6.57204062804993, 4.69839706490648, 4.918383418647233, 6.318496449869433, 8.114192599791666], \"yaxis\": \"y5\"}, {\"hovertemplate\": \"class=7<br>subject=Hindi<br>subject=Hindi<br>year=%{x}<br>total_delta=%{y}<br>studentCount=%{marker.size}<extra></extra>\", \"legendgroup\": \"subject=Hindi\", \"marker\": {\"color\": \"#ab63fa\", \"size\": [1, 68], \"sizemode\": \"area\", \"sizeref\": 1.15, \"symbol\": \"circle\"}, \"mode\": \"markers\", \"name\": \"subject=Hindi\", \"showlegend\": false, \"type\": \"scatter\", \"uid\": \"0f3e4789-b72e-4499-8b62-c13a52798bfe\", \"x\": [\"2007\", \"2009\"], \"xaxis\": \"x4\", \"y\": [10.769999999999996, 9.840000000000003], \"yaxis\": \"y5\"}, {\"hovertemplate\": \"<b>LOWESS trendline</b><br><br>class=7<br>subject=Hindi<br>subject=Hindi<br>year=%{x}<br>total_delta=%{y} <b>(trend)</b><extra></extra>\", \"legendgroup\": \"subject=Hindi\", \"marker\": {\"color\": \"#ab63fa\", \"symbol\": \"circle\"}, \"mode\": \"lines\", \"name\": \"subject=Hindi\", \"showlegend\": false, \"type\": \"scatter\", \"uid\": \"f7349b4b-f42e-4e49-a91d-71fc39bd0873\", \"x\": [2007.0, 2009.0], \"xaxis\": \"x4\", \"y\": [10.769999999999996, 9.840000000000003], \"yaxis\": \"y5\"}, {\"hovertemplate\": \"class=7<br>subject=Social Studies<br>subject=Social Studies<br>year=%{x}<br>total_delta=%{y}<br>studentCount=%{marker.size}<extra></extra>\", \"legendgroup\": \"subject=Social Studies\", \"marker\": {\"color\": \"#19d3f3\", \"size\": [1], \"sizemode\": \"area\", \"sizeref\": 1.15, \"symbol\": \"circle\"}, \"mode\": \"markers\", \"name\": \"subject=Social Studies\", \"showlegend\": false, \"type\": \"scatter\", \"uid\": \"61db6e3f-db62-4524-ac47-1bb67894dbb1\", \"x\": [\"2007\"], \"xaxis\": \"x5\", \"y\": [5.1200000000000045], \"yaxis\": \"y5\"}, {\"hovertemplate\": \"class=7<br>subject=Social Studies<br>subject=Social Studies<extra></extra>\", \"legendgroup\": \"subject=Social Studies\", \"marker\": {\"color\": \"#19d3f3\", \"symbol\": \"circle\"}, \"mode\": \"lines\", \"name\": \"subject=Social Studies\", \"showlegend\": false, \"type\": \"scatter\", \"uid\": \"688517a6-2523-41fa-8f3f-6251a0fdac02\", \"xaxis\": \"x5\", \"yaxis\": \"y5\"}, {\"hovertemplate\": \"class=8<br>subject=English<br>subject=English<br>year=%{x}<br>total_delta=%{y}<br>studentCount=%{marker.size}<extra></extra>\", \"legendgroup\": \"subject=English\", \"marker\": {\"color\": \"#636efa\", \"size\": [15, 54, 76, 72, 96], \"sizemode\": \"area\", \"sizeref\": 1.15, \"symbol\": \"circle\"}, \"mode\": \"markers\", \"name\": \"subject=English\", \"showlegend\": false, \"type\": \"scatter\", \"uid\": \"de0cad2d-11ab-4bb9-8dcf-4c2b00715213\", \"x\": [\"2007\", \"2008\", \"2014\", \"2016\", \"2018\"], \"xaxis\": \"x\", \"y\": [27.71, 17.119999999999997, 13.170000000000002, 9.149999999999999, 18.66000000000001], \"yaxis\": \"y6\"}, {\"hovertemplate\": \"<b>LOWESS trendline</b><br><br>class=8<br>subject=English<br>subject=English<br>year=%{x}<br>total_delta=%{y} <b>(trend)</b><extra></extra>\", \"legendgroup\": \"subject=English\", \"marker\": {\"color\": \"#636efa\", \"symbol\": \"circle\"}, \"mode\": \"lines\", \"name\": \"subject=English\", \"showlegend\": false, \"type\": \"scatter\", \"uid\": \"0d109fb0-3f7b-41f5-9ff6-84c4091bd32c\", \"x\": [2007.0, 2008.0, 2014.0, 2016.0, 2018.0], \"xaxis\": \"x\", \"y\": [27.71, 17.119999999999997, 13.170000000001156, 9.149999999999999, 18.659999999999613], \"yaxis\": \"y6\"}, {\"hovertemplate\": \"class=8<br>subject=Maths<br>subject=Maths<br>year=%{x}<br>total_delta=%{y}<br>studentCount=%{marker.size}<extra></extra>\", \"legendgroup\": \"subject=Maths\", \"marker\": {\"color\": \"#EF553B\", \"size\": [13, 52, 46, 77, 76, 103], \"sizemode\": \"area\", \"sizeref\": 1.15, \"symbol\": \"circle\"}, \"mode\": \"markers\", \"name\": \"subject=Maths\", \"showlegend\": false, \"type\": \"scatter\", \"uid\": \"50644c1c-7d31-4bdc-9e95-135ce37b2d3a\", \"x\": [\"2007\", \"2008\", \"2009\", \"2014\", \"2016\", \"2018\"], \"xaxis\": \"x2\", \"y\": [20.309999999999995, 9.450000000000003, 17.389999999999993, 7.090000000000003, 1.7099999999999937, 2.490000000000002], \"yaxis\": \"y6\"}, {\"hovertemplate\": \"<b>LOWESS trendline</b><br><br>class=8<br>subject=Maths<br>subject=Maths<br>year=%{x}<br>total_delta=%{y} <b>(trend)</b><extra></extra>\", \"legendgroup\": \"subject=Maths\", \"marker\": {\"color\": \"#EF553B\", \"symbol\": \"circle\"}, \"mode\": \"lines\", \"name\": \"subject=Maths\", \"showlegend\": false, \"type\": \"scatter\", \"uid\": \"a055dd79-fc16-4af6-b2ba-c758c9209f41\", \"x\": [2007.0, 2008.0, 2009.0, 2014.0, 2016.0, 2018.0], \"xaxis\": \"x2\", \"y\": [18.6300438236583, 17.13064515990333, 15.758454756364412, 6.674781878837016, 3.748625226021714, 1.5606883503939626], \"yaxis\": \"y6\"}, {\"hovertemplate\": \"class=8<br>subject=Science<br>subject=Science<br>year=%{x}<br>total_delta=%{y}<br>studentCount=%{marker.size}<extra></extra>\", \"legendgroup\": \"subject=Science\", \"marker\": {\"color\": \"#00cc96\", \"size\": [14, 54, 48, 77, 78, 104], \"sizemode\": \"area\", \"sizeref\": 1.15, \"symbol\": \"circle\"}, \"mode\": \"markers\", \"name\": \"subject=Science\", \"showlegend\": false, \"type\": \"scatter\", \"uid\": \"3e966c66-c9d9-43a6-babb-053f8720071d\", \"x\": [\"2007\", \"2008\", \"2009\", \"2014\", \"2016\", \"2018\"], \"xaxis\": \"x3\", \"y\": [15.32, 11.089999999999996, 14.419999999999995, 6.609999999999999, 1.4099999999999966, -5.009999999999998], \"yaxis\": \"y6\"}, {\"hovertemplate\": \"<b>LOWESS trendline</b><br><br>class=8<br>subject=Science<br>subject=Science<br>year=%{x}<br>total_delta=%{y} <b>(trend)</b><extra></extra>\", \"legendgroup\": \"subject=Science\", \"marker\": {\"color\": \"#00cc96\", \"symbol\": \"circle\"}, \"mode\": \"lines\", \"name\": \"subject=Science\", \"showlegend\": false, \"type\": \"scatter\", \"uid\": \"7a7ea636-781f-4fff-b519-1bbe3bd9bb5c\", \"x\": [2007.0, 2008.0, 2009.0, 2014.0, 2016.0, 2018.0], \"xaxis\": \"x3\", \"y\": [15.319999999995924, 14.870000000000005, 14.419999999999268, 6.690134095074795, 0.9993260874919505, -4.8310764141045786], \"yaxis\": \"y6\"}, {\"hovertemplate\": \"class=8<br>subject=Hindi<br>subject=Hindi<br>year=%{x}<br>total_delta=%{y}<br>studentCount=%{marker.size}<extra></extra>\", \"legendgroup\": \"subject=Hindi\", \"marker\": {\"color\": \"#ab63fa\", \"size\": [8, 41], \"sizemode\": \"area\", \"sizeref\": 1.15, \"symbol\": \"circle\"}, \"mode\": \"markers\", \"name\": \"subject=Hindi\", \"showlegend\": false, \"type\": \"scatter\", \"uid\": \"9fc1ce35-3746-4e58-8ce9-1ad2cfa9de04\", \"x\": [\"2007\", \"2009\"], \"xaxis\": \"x4\", \"y\": [24.189999999999998, 15.980000000000004], \"yaxis\": \"y6\"}, {\"hovertemplate\": \"<b>LOWESS trendline</b><br><br>class=8<br>subject=Hindi<br>subject=Hindi<br>year=%{x}<br>total_delta=%{y} <b>(trend)</b><extra></extra>\", \"legendgroup\": \"subject=Hindi\", \"marker\": {\"color\": \"#ab63fa\", \"symbol\": \"circle\"}, \"mode\": \"lines\", \"name\": \"subject=Hindi\", \"showlegend\": false, \"type\": \"scatter\", \"uid\": \"75844e93-6560-4244-8f36-8c4c59ce5b19\", \"x\": [2007.0, 2009.0], \"xaxis\": \"x4\", \"y\": [24.189999999999998, 15.980000000000004], \"yaxis\": \"y6\"}, {\"hovertemplate\": \"class=8<br>subject=Social Studies<br>subject=Social Studies<br>year=%{x}<br>total_delta=%{y}<br>studentCount=%{marker.size}<extra></extra>\", \"legendgroup\": \"subject=Social Studies\", \"marker\": {\"color\": \"#19d3f3\", \"size\": [12], \"sizemode\": \"area\", \"sizeref\": 1.15, \"symbol\": \"circle\"}, \"mode\": \"markers\", \"name\": \"subject=Social Studies\", \"showlegend\": false, \"type\": \"scatter\", \"uid\": \"f06a56bb-83e6-48cb-bacd-4880a76365c3\", \"x\": [\"2007\"], \"xaxis\": \"x5\", \"y\": [10.350000000000001], \"yaxis\": \"y6\"}, {\"hovertemplate\": \"class=8<br>subject=Social Studies<br>subject=Social Studies<extra></extra>\", \"legendgroup\": \"subject=Social Studies\", \"marker\": {\"color\": \"#19d3f3\", \"symbol\": \"circle\"}, \"mode\": \"lines\", \"name\": \"subject=Social Studies\", \"showlegend\": false, \"type\": \"scatter\", \"uid\": \"02481542-1cfa-457b-a879-a977acb8463d\", \"xaxis\": \"x5\", \"yaxis\": \"y6\"}, {\"hovertemplate\": \"class=9<br>subject=English<br>subject=English<br>year=%{x}<br>total_delta=%{y}<br>studentCount=%{marker.size}<extra></extra>\", \"legendgroup\": \"subject=English\", \"marker\": {\"color\": \"#636efa\", \"size\": [10, 73, 64, 98], \"sizemode\": \"area\", \"sizeref\": 1.15, \"symbol\": \"circle\"}, \"mode\": \"markers\", \"name\": \"subject=English\", \"showlegend\": false, \"type\": \"scatter\", \"uid\": \"4197a4e4-3d38-4ce5-9081-fbad9ff5255f\", \"x\": [\"2007\", \"2014\", \"2016\", \"2018\"], \"xaxis\": \"x\", \"y\": [17.79, 14.519999999999996, 18.960000000000008, 23.840000000000003], \"yaxis\": \"y7\"}, {\"hovertemplate\": \"<b>LOWESS trendline</b><br><br>class=9<br>subject=English<br>subject=English<br>year=%{x}<br>total_delta=%{y} <b>(trend)</b><extra></extra>\", \"legendgroup\": \"subject=English\", \"marker\": {\"color\": \"#636efa\", \"symbol\": \"circle\"}, \"mode\": \"lines\", \"name\": \"subject=English\", \"showlegend\": false, \"type\": \"scatter\", \"uid\": \"900ea189-5304-42ba-8c41-01ac3ed73bca\", \"x\": [2007.0, 2014.0, 2016.0, 2018.0], \"xaxis\": \"x\", \"y\": [17.79, 14.519999999999996, 18.960000000000008, 23.840000000000003], \"yaxis\": \"y7\"}, {\"hovertemplate\": \"class=9<br>subject=Maths<br>subject=Maths<br>year=%{x}<br>total_delta=%{y}<br>studentCount=%{marker.size}<extra></extra>\", \"legendgroup\": \"subject=Maths\", \"marker\": {\"color\": \"#EF553B\", \"size\": [10, 40, 73, 73, 99], \"sizemode\": \"area\", \"sizeref\": 1.15, \"symbol\": \"circle\"}, \"mode\": \"markers\", \"name\": \"subject=Maths\", \"showlegend\": false, \"type\": \"scatter\", \"uid\": \"edb2b29d-6d8c-47aa-acfd-65807d0de0d6\", \"x\": [\"2007\", \"2008\", \"2014\", \"2016\", \"2018\"], \"xaxis\": \"x2\", \"y\": [13.89, 6.219999999999999, 4.240000000000002, 6.100000000000001, 5.289999999999999], \"yaxis\": \"y7\"}, {\"hovertemplate\": \"<b>LOWESS trendline</b><br><br>class=9<br>subject=Maths<br>subject=Maths<br>year=%{x}<br>total_delta=%{y} <b>(trend)</b><extra></extra>\", \"legendgroup\": \"subject=Maths\", \"marker\": {\"color\": \"#EF553B\", \"symbol\": \"circle\"}, \"mode\": \"lines\", \"name\": \"subject=Maths\", \"showlegend\": false, \"type\": \"scatter\", \"uid\": \"dd8673d3-b765-4fb9-a0c9-dc58b22a025b\", \"x\": [2007.0, 2008.0, 2014.0, 2016.0, 2018.0], \"xaxis\": \"x2\", \"y\": [13.89, 6.219999999999999, 4.24000000000048, 6.100000000000001, 5.290000000000632], \"yaxis\": \"y7\"}, {\"hovertemplate\": \"class=9<br>subject=Science<br>subject=Science<br>year=%{x}<br>total_delta=%{y}<br>studentCount=%{marker.size}<extra></extra>\", \"legendgroup\": \"subject=Science\", \"marker\": {\"color\": \"#00cc96\", \"size\": [10, 42, 51, 73, 74, 92], \"sizemode\": \"area\", \"sizeref\": 1.15, \"symbol\": \"circle\"}, \"mode\": \"markers\", \"name\": \"subject=Science\", \"showlegend\": false, \"type\": \"scatter\", \"uid\": \"67b31311-4795-4cfb-a478-eeb9a8cddf3a\", \"x\": [\"2007\", \"2008\", \"2009\", \"2014\", \"2016\", \"2018\"], \"xaxis\": \"x3\", \"y\": [9.240000000000002, 9.959999999999994, 7.5, 4.07, 2.5900000000000034, 5.759999999999998], \"yaxis\": \"y7\"}, {\"hovertemplate\": \"<b>LOWESS trendline</b><br><br>class=9<br>subject=Science<br>subject=Science<br>year=%{x}<br>total_delta=%{y} <b>(trend)</b><extra></extra>\", \"legendgroup\": \"subject=Science\", \"marker\": {\"color\": \"#00cc96\", \"symbol\": \"circle\"}, \"mode\": \"lines\", \"name\": \"subject=Science\", \"showlegend\": false, \"type\": \"scatter\", \"uid\": \"0001480c-c73a-4ebe-bc07-25a61402e63f\", \"x\": [2007.0, 2008.0, 2009.0, 2014.0, 2016.0, 2018.0], \"xaxis\": \"x3\", \"y\": [9.66668506667317, 8.807322353085876, 7.912506202482695, 3.868849184882861, 4.520168604930892, 5.398377360382335], \"yaxis\": \"y7\"}, {\"hovertemplate\": \"class=9<br>subject=Social Studies<br>subject=Social Studies<br>year=%{x}<br>total_delta=%{y}<br>studentCount=%{marker.size}<extra></extra>\", \"legendgroup\": \"subject=Social Studies\", \"marker\": {\"color\": \"#19d3f3\", \"size\": [2], \"sizemode\": \"area\", \"sizeref\": 1.15, \"symbol\": \"circle\"}, \"mode\": \"markers\", \"name\": \"subject=Social Studies\", \"showlegend\": false, \"type\": \"scatter\", \"uid\": \"5460c44b-ac2e-49e8-99d2-747a31e2ab50\", \"x\": [\"2007\"], \"xaxis\": \"x5\", \"y\": [11.309999999999995], \"yaxis\": \"y7\"}, {\"hovertemplate\": \"class=9<br>subject=Social Studies<br>subject=Social Studies<extra></extra>\", \"legendgroup\": \"subject=Social Studies\", \"marker\": {\"color\": \"#19d3f3\", \"symbol\": \"circle\"}, \"mode\": \"lines\", \"name\": \"subject=Social Studies\", \"showlegend\": false, \"type\": \"scatter\", \"uid\": \"c316bdd3-562e-45a8-ae73-169cb824a105\", \"xaxis\": \"x5\", \"yaxis\": \"y7\"}, {\"hovertemplate\": \"class=10<br>subject=English<br>subject=English<br>year=%{x}<br>total_delta=%{y}<br>studentCount=%{marker.size}<extra></extra>\", \"legendgroup\": \"subject=English\", \"marker\": {\"color\": \"#636efa\", \"size\": [48, 73, 60], \"sizemode\": \"area\", \"sizeref\": 1.15, \"symbol\": \"circle\"}, \"mode\": \"markers\", \"name\": \"subject=English\", \"showlegend\": false, \"type\": \"scatter\", \"uid\": \"7ff879c0-5644-4db5-a882-37c55cfabe30\", \"x\": [\"2008\", \"2014\", \"2016\"], \"xaxis\": \"x\", \"y\": [17.549999999999997, 14.509999999999998, 14.5], \"yaxis\": \"y8\"}, {\"hovertemplate\": \"<b>LOWESS trendline</b><br><br>class=10<br>subject=English<br>subject=English<br>year=%{x}<br>total_delta=%{y} <b>(trend)</b><extra></extra>\", \"legendgroup\": \"subject=English\", \"marker\": {\"color\": \"#636efa\", \"symbol\": \"circle\"}, \"mode\": \"lines\", \"name\": \"subject=English\", \"showlegend\": false, \"type\": \"scatter\", \"uid\": \"c4dd5ec0-36a3-42b3-8176-f801448bd6f9\", \"x\": [2008.0, 2014.0, 2016.0], \"xaxis\": \"x\", \"y\": [17.549999999999997, 14.509999999999998, 14.5], \"yaxis\": \"y8\"}, {\"hovertemplate\": \"class=10<br>subject=Maths<br>subject=Maths<br>year=%{x}<br>total_delta=%{y}<br>studentCount=%{marker.size}<extra></extra>\", \"legendgroup\": \"subject=Maths\", \"marker\": {\"color\": \"#EF553B\", \"size\": [43, 73, 67], \"sizemode\": \"area\", \"sizeref\": 1.15, \"symbol\": \"circle\"}, \"mode\": \"markers\", \"name\": \"subject=Maths\", \"showlegend\": false, \"type\": \"scatter\", \"uid\": \"1ade029c-59a3-429d-ae58-7d588519e319\", \"x\": [\"2009\", \"2014\", \"2016\"], \"xaxis\": \"x2\", \"y\": [13.800000000000004, -0.03999999999999915, 5.050000000000004], \"yaxis\": \"y8\"}, {\"hovertemplate\": \"<b>LOWESS trendline</b><br><br>class=10<br>subject=Maths<br>subject=Maths<br>year=%{x}<br>total_delta=%{y} <b>(trend)</b><extra></extra>\", \"legendgroup\": \"subject=Maths\", \"marker\": {\"color\": \"#EF553B\", \"symbol\": \"circle\"}, \"mode\": \"lines\", \"name\": \"subject=Maths\", \"showlegend\": false, \"type\": \"scatter\", \"uid\": \"8842e9c7-16f4-4612-9a1a-f2e0fb0fc3e5\", \"x\": [2009.0, 2014.0, 2016.0], \"xaxis\": \"x2\", \"y\": [13.800000000000004, -0.03999999999999915, 5.050000000000004], \"yaxis\": \"y8\"}, {\"hovertemplate\": \"class=10<br>subject=Science<br>subject=Science<br>year=%{x}<br>total_delta=%{y}<br>studentCount=%{marker.size}<extra></extra>\", \"legendgroup\": \"subject=Science\", \"marker\": {\"color\": \"#00cc96\", \"size\": [73, 67], \"sizemode\": \"area\", \"sizeref\": 1.15, \"symbol\": \"circle\"}, \"mode\": \"markers\", \"name\": \"subject=Science\", \"showlegend\": false, \"type\": \"scatter\", \"uid\": \"08da9b79-efb4-4295-946d-6fbe991fcc61\", \"x\": [\"2014\", \"2016\"], \"xaxis\": \"x3\", \"y\": [1.1400000000000006, 4.720000000000006], \"yaxis\": \"y8\"}, {\"hovertemplate\": \"<b>LOWESS trendline</b><br><br>class=10<br>subject=Science<br>subject=Science<br>year=%{x}<br>total_delta=%{y} <b>(trend)</b><extra></extra>\", \"legendgroup\": \"subject=Science\", \"marker\": {\"color\": \"#00cc96\", \"symbol\": \"circle\"}, \"mode\": \"lines\", \"name\": \"subject=Science\", \"showlegend\": false, \"type\": \"scatter\", \"uid\": \"9e1ba02c-11e8-4775-bf48-cef506aaac8b\", \"x\": [2014.0, 2016.0], \"xaxis\": \"x3\", \"y\": [1.1400000000000006, 4.720000000000006], \"yaxis\": \"y8\"}],\n",
       "                        {\"annotations\": [{\"showarrow\": false, \"text\": \"subject=English\", \"textangle\": 0, \"x\": 0.09183673469387754, \"xanchor\": \"center\", \"xref\": \"paper\", \"y\": 1.02, \"yanchor\": \"middle\", \"yref\": \"paper\"}, {\"showarrow\": false, \"text\": \"subject=Maths\", \"textangle\": 0, \"x\": 0.2959183673469387, \"xanchor\": \"center\", \"xref\": \"paper\", \"y\": 1.02, \"yanchor\": \"middle\", \"yref\": \"paper\"}, {\"showarrow\": false, \"text\": \"subject=Science\", \"textangle\": 0, \"x\": 0.5, \"xanchor\": \"center\", \"xref\": \"paper\", \"y\": 1.02, \"yanchor\": \"middle\", \"yref\": \"paper\"}, {\"showarrow\": false, \"text\": \"subject=Hindi\", \"textangle\": 0, \"x\": 0.7040816326530612, \"xanchor\": \"center\", \"xref\": \"paper\", \"y\": 1.02, \"yanchor\": \"middle\", \"yref\": \"paper\"}, {\"showarrow\": false, \"text\": \"subject=Social Studies\", \"textangle\": 0, \"x\": 0.9081632653061223, \"xanchor\": \"center\", \"xref\": \"paper\", \"y\": 1.02, \"yanchor\": \"middle\", \"yref\": \"paper\"}, {\"showarrow\": false, \"text\": \"class=3\", \"textangle\": 90, \"x\": 1.01, \"xanchor\": \"center\", \"xref\": \"paper\", \"y\": 0.9430379746835442, \"yanchor\": \"middle\", \"yref\": \"paper\"}, {\"showarrow\": false, \"text\": \"class=4\", \"textangle\": 90, \"x\": 1.01, \"xanchor\": \"center\", \"xref\": \"paper\", \"y\": 0.8164556962025316, \"yanchor\": \"middle\", \"yref\": \"paper\"}, {\"showarrow\": false, \"text\": \"class=5\", \"textangle\": 90, \"x\": 1.01, \"xanchor\": \"center\", \"xref\": \"paper\", \"y\": 0.6898734177215189, \"yanchor\": \"middle\", \"yref\": \"paper\"}, {\"showarrow\": false, \"text\": \"class=6\", \"textangle\": 90, \"x\": 1.01, \"xanchor\": \"center\", \"xref\": \"paper\", \"y\": 0.5632911392405062, \"yanchor\": \"middle\", \"yref\": \"paper\"}, {\"showarrow\": false, \"text\": \"class=7\", \"textangle\": 90, \"x\": 1.01, \"xanchor\": \"center\", \"xref\": \"paper\", \"y\": 0.4367088607594936, \"yanchor\": \"middle\", \"yref\": \"paper\"}, {\"showarrow\": false, \"text\": \"class=8\", \"textangle\": 90, \"x\": 1.01, \"xanchor\": \"center\", \"xref\": \"paper\", \"y\": 0.310126582278481, \"yanchor\": \"middle\", \"yref\": \"paper\"}, {\"showarrow\": false, \"text\": \"class=9\", \"textangle\": 90, \"x\": 1.01, \"xanchor\": \"center\", \"xref\": \"paper\", \"y\": 0.18354430379746833, \"yanchor\": \"middle\", \"yref\": \"paper\"}, {\"showarrow\": false, \"text\": \"class=10\", \"textangle\": 90, \"x\": 1.01, \"xanchor\": \"center\", \"xref\": \"paper\", \"y\": 0.05696202531645569, \"yanchor\": \"middle\", \"yref\": \"paper\"}], \"grid\": {\"xaxes\": [\"x\", \"x2\", \"x3\", \"x4\", \"x5\"], \"xgap\": 0.1, \"xside\": \"bottom\", \"yaxes\": [\"y\", \"y2\", \"y3\", \"y4\", \"y5\", \"y6\", \"y7\", \"y8\"], \"ygap\": 0.1, \"yside\": \"left\"}, \"height\": 2000, \"legend\": {\"tracegroupgap\": 0}, \"template\": {\"data\": {\"bar\": [{\"marker\": {\"line\": {\"color\": \"#E5ECF6\", \"width\": 0.5}}, \"type\": \"bar\"}], \"barpolar\": [{\"marker\": {\"line\": {\"color\": \"#E5ECF6\", \"width\": 0.5}}, \"type\": \"barpolar\"}], \"carpet\": [{\"aaxis\": {\"endlinecolor\": \"#2a3f5f\", \"gridcolor\": \"white\", \"linecolor\": \"white\", \"minorgridcolor\": \"white\", \"startlinecolor\": \"#2a3f5f\"}, \"baxis\": {\"endlinecolor\": \"#2a3f5f\", \"gridcolor\": \"white\", \"linecolor\": \"white\", \"minorgridcolor\": \"white\", \"startlinecolor\": \"#2a3f5f\"}, \"type\": \"carpet\"}], \"choropleth\": [{\"colorbar\": {\"outlinewidth\": 0, \"ticks\": \"\"}, \"type\": \"choropleth\"}], \"contour\": [{\"autocolorscale\": true, \"colorbar\": {\"outlinewidth\": 0, \"ticks\": \"\"}, \"type\": \"contour\"}], \"contourcarpet\": [{\"colorbar\": {\"outlinewidth\": 0, \"ticks\": \"\"}, \"type\": \"contourcarpet\"}], \"heatmap\": [{\"autocolorscale\": true, \"colorbar\": {\"outlinewidth\": 0, \"ticks\": \"\"}, \"type\": \"heatmap\"}], \"heatmapgl\": [{\"colorbar\": {\"outlinewidth\": 0, \"ticks\": \"\"}, \"type\": \"heatmapgl\"}], \"histogram\": [{\"marker\": {\"colorbar\": {\"outlinewidth\": 0, \"ticks\": \"\"}}, \"type\": \"histogram\"}], \"histogram2d\": [{\"autocolorscale\": true, \"colorbar\": {\"outlinewidth\": 0, \"ticks\": \"\"}, \"type\": \"histogram2d\"}], \"histogram2dcontour\": [{\"autocolorscale\": true, \"colorbar\": {\"outlinewidth\": 0, \"ticks\": \"\"}, \"type\": \"histogram2dcontour\"}], \"mesh3d\": [{\"colorbar\": {\"outlinewidth\": 0, \"ticks\": \"\"}, \"type\": \"mesh3d\"}], \"parcoords\": [{\"line\": {\"colorbar\": {\"outlinewidth\": 0, \"ticks\": \"\"}}, \"type\": \"parcoords\"}], \"scatter\": [{\"marker\": {\"colorbar\": {\"outlinewidth\": 0, \"ticks\": \"\"}}, \"type\": \"scatter\"}], \"scatter3d\": [{\"marker\": {\"colorbar\": {\"outlinewidth\": 0, \"ticks\": \"\"}}, \"type\": \"scatter3d\"}], \"scattercarpet\": [{\"marker\": {\"colorbar\": {\"outlinewidth\": 0, \"ticks\": \"\"}}, \"type\": \"scattercarpet\"}], \"scattergeo\": [{\"marker\": {\"colorbar\": {\"outlinewidth\": 0, \"ticks\": \"\"}}, \"type\": \"scattergeo\"}], \"scattergl\": [{\"marker\": {\"colorbar\": {\"outlinewidth\": 0, \"ticks\": \"\"}}, \"type\": \"scattergl\"}], \"scattermapbox\": [{\"marker\": {\"colorbar\": {\"outlinewidth\": 0, \"ticks\": \"\"}}, \"type\": \"scattermapbox\"}], \"scatterpolar\": [{\"marker\": {\"colorbar\": {\"outlinewidth\": 0, \"ticks\": \"\"}}, \"type\": \"scatterpolar\"}], \"scatterpolargl\": [{\"marker\": {\"colorbar\": {\"outlinewidth\": 0, \"ticks\": \"\"}}, \"type\": \"scatterpolargl\"}], \"scatterternary\": [{\"marker\": {\"colorbar\": {\"outlinewidth\": 0, \"ticks\": \"\"}}, \"type\": \"scatterternary\"}], \"surface\": [{\"colorbar\": {\"outlinewidth\": 0, \"ticks\": \"\"}, \"type\": \"surface\"}], \"table\": [{\"cells\": {\"fill\": {\"color\": \"#EBF0F8\"}, \"line\": {\"color\": \"white\"}}, \"header\": {\"fill\": {\"color\": \"#C8D4E3\"}, \"line\": {\"color\": \"white\"}}, \"type\": \"table\"}]}, \"layout\": {\"annotationdefaults\": {\"arrowcolor\": \"#506784\", \"arrowhead\": 0, \"arrowwidth\": 1}, \"colorscale\": {\"diverging\": [[0, \"#8e0152\"], [0.1, \"#c51b7d\"], [0.2, \"#de77ae\"], [0.3, \"#f1b6da\"], [0.4, \"#fde0ef\"], [0.5, \"#f7f7f7\"], [0.6, \"#e6f5d0\"], [0.7, \"#b8e186\"], [0.8, \"#7fbc41\"], [0.9, \"#4d9221\"], [1, \"#276419\"]], \"sequential\": [[0.0, \"#0508b8\"], [0.0893854748603352, \"#1910d8\"], [0.1787709497206704, \"#3c19f0\"], [0.2681564245810056, \"#6b1cfb\"], [0.3575418994413408, \"#981cfd\"], [0.44692737430167595, \"#bf1cfd\"], [0.5363128491620112, \"#dd2bfd\"], [0.6256983240223464, \"#f246fe\"], [0.7150837988826816, \"#fc67fd\"], [0.8044692737430168, \"#fe88fc\"], [0.8938547486033519, \"#fea5fd\"], [0.9832402234636871, \"#febefe\"], [1.0, \"#fec3fe\"]], \"sequentialminus\": [[0.0, \"#0508b8\"], [0.0893854748603352, \"#1910d8\"], [0.1787709497206704, \"#3c19f0\"], [0.2681564245810056, \"#6b1cfb\"], [0.3575418994413408, \"#981cfd\"], [0.44692737430167595, \"#bf1cfd\"], [0.5363128491620112, \"#dd2bfd\"], [0.6256983240223464, \"#f246fe\"], [0.7150837988826816, \"#fc67fd\"], [0.8044692737430168, \"#fe88fc\"], [0.8938547486033519, \"#fea5fd\"], [0.9832402234636871, \"#febefe\"], [1.0, \"#fec3fe\"]]}, \"colorway\": [\"#636efa\", \"#EF553B\", \"#00cc96\", \"#ab63fa\", \"#19d3f3\", \"#e763fa\", \"#FECB52\", \"#FFA15A\", \"#FF6692\", \"#B6E880\"], \"font\": {\"color\": \"#2a3f5f\"}, \"geo\": {\"bgcolor\": \"white\", \"lakecolor\": \"white\", \"landcolor\": \"#E5ECF6\", \"showlakes\": true, \"showland\": true, \"subunitcolor\": \"white\"}, \"hoverlabel\": {\"align\": \"left\"}, \"hovermode\": \"closest\", \"legend\": {\"itemsizing\": \"constant\"}, \"mapbox\": {\"style\": \"light\"}, \"paper_bgcolor\": \"white\", \"plot_bgcolor\": \"#E5ECF6\", \"polar\": {\"angularaxis\": {\"gridcolor\": \"white\", \"linecolor\": \"white\", \"ticks\": \"\"}, \"bgcolor\": \"#E5ECF6\", \"radialaxis\": {\"gridcolor\": \"white\", \"linecolor\": \"white\", \"ticks\": \"\"}}, \"scene\": {\"xaxis\": {\"backgroundcolor\": \"#E5ECF6\", \"gridcolor\": \"white\", \"gridwidth\": 2, \"linecolor\": \"white\", \"showbackground\": true, \"ticks\": \"\", \"zerolinecolor\": \"white\"}, \"yaxis\": {\"backgroundcolor\": \"#E5ECF6\", \"gridcolor\": \"white\", \"gridwidth\": 2, \"linecolor\": \"white\", \"showbackground\": true, \"ticks\": \"\", \"zerolinecolor\": \"white\"}, \"zaxis\": {\"backgroundcolor\": \"#E5ECF6\", \"gridcolor\": \"white\", \"gridwidth\": 2, \"linecolor\": \"white\", \"showbackground\": true, \"ticks\": \"\", \"zerolinecolor\": \"white\"}}, \"shapedefaults\": {\"fillcolor\": \"#506784\", \"line\": {\"width\": 0}, \"opacity\": 0.4}, \"ternary\": {\"aaxis\": {\"gridcolor\": \"white\", \"linecolor\": \"white\", \"ticks\": \"\"}, \"baxis\": {\"gridcolor\": \"white\", \"linecolor\": \"white\", \"ticks\": \"\"}, \"bgcolor\": \"#E5ECF6\", \"caxis\": {\"gridcolor\": \"white\", \"linecolor\": \"white\", \"ticks\": \"\"}}, \"title\": {\"x\": 0.05}, \"xaxis\": {\"automargin\": true, \"gridcolor\": \"white\", \"linecolor\": \"white\", \"ticks\": \"\", \"zerolinecolor\": \"white\", \"zerolinewidth\": 2}, \"yaxis\": {\"automargin\": true, \"gridcolor\": \"white\", \"linecolor\": \"white\", \"ticks\": \"\", \"zerolinecolor\": \"white\", \"zerolinewidth\": 2}}}, \"title\": {\"text\": \"Overall performance in subjects across the years for different grades (Sushila Birla Girls^ School-Kolkata-CBSE)\"}, \"width\": 2000, \"xaxis\": {\"title\": {\"text\": \"year\"}}, \"xaxis2\": {\"matches\": \"x\", \"title\": {\"text\": \"year\"}}, \"xaxis3\": {\"matches\": \"x\", \"title\": {\"text\": \"year\"}}, \"xaxis4\": {\"matches\": \"x\", \"title\": {\"text\": \"year\"}}, \"xaxis5\": {\"matches\": \"x\", \"title\": {\"text\": \"year\"}}, \"yaxis\": {\"title\": {\"text\": \"total_delta\"}}, \"yaxis2\": {\"matches\": \"y\", \"title\": {\"text\": \"total_delta\"}}, \"yaxis3\": {\"matches\": \"y\", \"title\": {\"text\": \"total_delta\"}}, \"yaxis4\": {\"matches\": \"y\", \"title\": {\"text\": \"total_delta\"}}, \"yaxis5\": {\"matches\": \"y\", \"title\": {\"text\": \"total_delta\"}}, \"yaxis6\": {\"matches\": \"y\", \"title\": {\"text\": \"total_delta\"}}, \"yaxis7\": {\"matches\": \"y\", \"title\": {\"text\": \"total_delta\"}}, \"yaxis8\": {\"matches\": \"y\", \"title\": {\"text\": \"total_delta\"}}},\n",
       "                        {\"showLink\": false, \"linkText\": \"Export to plot.ly\", \"plotlyServerURL\": \"https://plot.ly\"}\n",
       "                    )\n",
       "                };\n",
       "                });\n",
       "            </script>\n",
       "        </div>"
      ]
     },
     "metadata": {},
     "output_type": "display_data"
    }
   ],
   "source": [
    "px.scatter(df_school.sort_values('year').drop_duplicates(['papercode']), \n",
    "        x = 'year', \n",
    "        y = 'total_delta', \n",
    "        color='subject',\n",
    "        facet_row= 'class', \n",
    "       facet_col= 'subject', \n",
    "           size = 'studentCount',\n",
    "           size_max= 10,\n",
    "           trendline=\"lowess\",\n",
    "        height=2000,\n",
    "        width=2000,\n",
    "        title = 'Overall performance in subjects across the years for different grades (%s-%s-%s)'%(school_name, school_city, school_board)  )"
   ]
  },
  {
   "cell_type": "markdown",
   "metadata": {},
   "source": [
    "# Subject wise performance"
   ]
  },
  {
   "cell_type": "code",
   "execution_count": 13,
   "metadata": {
    "code_folding": [
     1
    ]
   },
   "outputs": [
    {
     "data": {
      "application/vnd.plotly.v1+json": {
       "config": {
        "linkText": "Export to plot.ly",
        "plotlyServerURL": "https://plot.ly",
        "showLink": false
       },
       "data": [
        {
         "hovertemplate": "class=3<br>skill_name=Intermediate Concepts, Geometry and Algebra<br>skill_name=Intermediate Concepts, Geometry and Algebra<br>year=%{x}<br>skill_delta=%{y}<br>studentCount=%{marker.size}<extra></extra>",
         "legendgroup": "skill_name=Intermediate Concepts, Geometry and Algebra",
         "marker": {
          "color": "#636efa",
          "size": [
           108,
           19,
           74,
           75,
           106,
           109
          ],
          "sizemode": "area",
          "sizeref": 1.14,
          "symbol": "circle"
         },
         "mode": "markers",
         "name": "skill_name=Intermediate Concepts, Geometry and Algebra",
         "showlegend": true,
         "type": "scatter",
         "uid": "5bebed68-c804-4381-8d4e-276ab3b99fb1",
         "x": [
          "2018",
          "2007",
          "2008",
          "2009",
          "2014",
          "2016"
         ],
         "xaxis": "x",
         "y": [
          -4.329999999999998,
          5.339999999999996,
          -7.800000000000004,
          2.219999999999999,
          0.960000000000008,
          -1.8999999999999986
         ],
         "yaxis": "y"
        },
        {
         "hovertemplate": "<b>LOWESS trendline</b><br><br>class=3<br>skill_name=Intermediate Concepts, Geometry and Algebra<br>skill_name=Intermediate Concepts, Geometry and Algebra<br>year=%{x}<br>skill_delta=%{y} <b>(trend)</b><extra></extra>",
         "legendgroup": "skill_name=Intermediate Concepts, Geometry and Algebra",
         "marker": {
          "color": "#636efa",
          "symbol": "circle"
         },
         "mode": "lines",
         "name": "skill_name=Intermediate Concepts, Geometry and Algebra",
         "showlegend": false,
         "type": "scatter",
         "uid": "9607daa6-def4-4141-bc59-7f2a79fb1588",
         "x": [
          2007,
          2008,
          2009,
          2014,
          2016,
          2018
         ],
         "xaxis": "x",
         "y": [
          5.3400000000013055,
          3.7799999999999976,
          2.2200000000000197,
          0.9368225752117603,
          -1.7390436691174327,
          -4.380371735894711
         ],
         "yaxis": "y"
        },
        {
         "hovertemplate": "class=3<br>skill_name=Number sense, Computations and Basic Arithmetic<br>skill_name=Number sense, Computations and Basic Arithmetic<br>year=%{x}<br>skill_delta=%{y}<br>studentCount=%{marker.size}<extra></extra>",
         "legendgroup": "skill_name=Number sense, Computations and Basic Arithmetic",
         "marker": {
          "color": "#EF553B",
          "size": [
           108,
           19,
           74,
           75,
           106,
           109
          ],
          "sizemode": "area",
          "sizeref": 1.14,
          "symbol": "circle"
         },
         "mode": "markers",
         "name": "skill_name=Number sense, Computations and Basic Arithmetic",
         "showlegend": true,
         "type": "scatter",
         "uid": "a2d7860f-880e-42af-9878-d7f80e10bad0",
         "x": [
          "2018",
          "2007",
          "2008",
          "2009",
          "2014",
          "2016"
         ],
         "xaxis": "x2",
         "y": [
          9.370000000000005,
          13.769999999999996,
          -3.1499999999999986,
          1.4899999999999949,
          5.929999999999993,
          13.380000000000003
         ],
         "yaxis": "y"
        },
        {
         "hovertemplate": "<b>LOWESS trendline</b><br><br>class=3<br>skill_name=Number sense, Computations and Basic Arithmetic<br>skill_name=Number sense, Computations and Basic Arithmetic<br>year=%{x}<br>skill_delta=%{y} <b>(trend)</b><extra></extra>",
         "legendgroup": "skill_name=Number sense, Computations and Basic Arithmetic",
         "marker": {
          "color": "#EF553B",
          "symbol": "circle"
         },
         "mode": "lines",
         "name": "skill_name=Number sense, Computations and Basic Arithmetic",
         "showlegend": false,
         "type": "scatter",
         "uid": "b48eb66a-5fba-4ec5-b967-c47810430883",
         "x": [
          2007,
          2008,
          2009,
          2014,
          2016,
          2018
         ],
         "xaxis": "x2",
         "y": [
          11.203713425144903,
          5.0013952309226655,
          -0.9941116970937516,
          6.6856344253627356,
          9.527918709418099,
          11.053013264472746
         ],
         "yaxis": "y"
        },
        {
         "hovertemplate": "class=3<br>skill_name=Problem Solving, Advanced Problems<br>skill_name=Problem Solving, Advanced Problems<br>year=%{x}<br>skill_delta=%{y}<br>studentCount=%{marker.size}<extra></extra>",
         "legendgroup": "skill_name=Problem Solving, Advanced Problems",
         "marker": {
          "color": "#00cc96",
          "size": [
           108,
           19,
           74,
           75,
           106,
           109
          ],
          "sizemode": "area",
          "sizeref": 1.14,
          "symbol": "circle"
         },
         "mode": "markers",
         "name": "skill_name=Problem Solving, Advanced Problems",
         "showlegend": true,
         "type": "scatter",
         "uid": "105b010b-7bf3-4815-8a31-388798c8170d",
         "x": [
          "2018",
          "2007",
          "2008",
          "2009",
          "2014",
          "2016"
         ],
         "xaxis": "x3",
         "y": [
          7.640000000000008,
          -2.030000000000001,
          2.210000000000001,
          5.420000000000002,
          -4.780000000000001,
          11.719999999999999
         ],
         "yaxis": "y"
        },
        {
         "hovertemplate": "<b>LOWESS trendline</b><br><br>class=3<br>skill_name=Problem Solving, Advanced Problems<br>skill_name=Problem Solving, Advanced Problems<br>year=%{x}<br>skill_delta=%{y} <b>(trend)</b><extra></extra>",
         "legendgroup": "skill_name=Problem Solving, Advanced Problems",
         "marker": {
          "color": "#00cc96",
          "symbol": "circle"
         },
         "mode": "lines",
         "name": "skill_name=Problem Solving, Advanced Problems",
         "showlegend": false,
         "type": "scatter",
         "uid": "892318bf-d74d-4da7-9c60-060c27beb874",
         "x": [
          2007,
          2008,
          2009,
          2014,
          2016,
          2018
         ],
         "xaxis": "x3",
         "y": [
          -1.8954932156017525,
          1.832807191115834,
          5.550014722569366,
          -4.7800000000002605,
          1.4300000000000033,
          7.640000000000136
         ],
         "yaxis": "y"
        },
        {
         "hovertemplate": "class=3<br>skill_name=Word and Application Problems<br>skill_name=Word and Application Problems<br>year=%{x}<br>skill_delta=%{y}<br>studentCount=%{marker.size}<extra></extra>",
         "legendgroup": "skill_name=Word and Application Problems",
         "marker": {
          "color": "#ab63fa",
          "size": [
           108,
           19,
           74,
           75,
           106,
           109
          ],
          "sizemode": "area",
          "sizeref": 1.14,
          "symbol": "circle"
         },
         "mode": "markers",
         "name": "skill_name=Word and Application Problems",
         "showlegend": true,
         "type": "scatter",
         "uid": "884e30c3-28b1-4602-a929-0f1b7637d87b",
         "x": [
          "2018",
          "2007",
          "2008",
          "2009",
          "2014",
          "2016"
         ],
         "xaxis": "x4",
         "y": [
          7.789999999999999,
          -3.1000000000000014,
          -3.1099999999999994,
          2.979999999999997,
          1.2800000000000011,
          7.550000000000004
         ],
         "yaxis": "y"
        },
        {
         "hovertemplate": "<b>LOWESS trendline</b><br><br>class=3<br>skill_name=Word and Application Problems<br>skill_name=Word and Application Problems<br>year=%{x}<br>skill_delta=%{y} <b>(trend)</b><extra></extra>",
         "legendgroup": "skill_name=Word and Application Problems",
         "marker": {
          "color": "#ab63fa",
          "symbol": "circle"
         },
         "mode": "lines",
         "name": "skill_name=Word and Application Problems",
         "showlegend": false,
         "type": "scatter",
         "uid": "ce42c5fd-cdb0-483f-911f-e12d86bd7359",
         "x": [
          2007,
          2008,
          2009,
          2014,
          2016,
          2018
         ],
         "xaxis": "x4",
         "y": [
          -3.8260829363009687,
          -0.8037147073927626,
          2.2771669131591654,
          1.6194765815114636,
          5.305472941766142,
          8.491571811468566
         ],
         "yaxis": "y"
        },
        {
         "hovertemplate": "class=4<br>skill_name=Intermediate Concepts, Geometry and Algebra<br>skill_name=Intermediate Concepts, Geometry and Algebra<br>year=%{x}<br>skill_delta=%{y}<br>studentCount=%{marker.size}<extra></extra>",
         "legendgroup": "skill_name=Intermediate Concepts, Geometry and Algebra",
         "marker": {
          "color": "#636efa",
          "size": [
           113,
           14,
           72,
           75,
           104,
           111
          ],
          "sizemode": "area",
          "sizeref": 1.14,
          "symbol": "circle"
         },
         "mode": "markers",
         "name": "skill_name=Intermediate Concepts, Geometry and Algebra",
         "showlegend": false,
         "type": "scatter",
         "uid": "aa70dafc-ad5e-492b-8765-f57b6d76503a",
         "x": [
          "2018",
          "2007",
          "2008",
          "2009",
          "2014",
          "2016"
         ],
         "xaxis": "x",
         "y": [
          7.410000000000004,
          0.11999999999999744,
          -0.22999999999999687,
          4.960000000000001,
          1.3600000000000065,
          -5.770000000000003
         ],
         "yaxis": "y2"
        },
        {
         "hovertemplate": "<b>LOWESS trendline</b><br><br>class=4<br>skill_name=Intermediate Concepts, Geometry and Algebra<br>skill_name=Intermediate Concepts, Geometry and Algebra<br>year=%{x}<br>skill_delta=%{y} <b>(trend)</b><extra></extra>",
         "legendgroup": "skill_name=Intermediate Concepts, Geometry and Algebra",
         "marker": {
          "color": "#636efa",
          "symbol": "circle"
         },
         "mode": "lines",
         "name": "skill_name=Intermediate Concepts, Geometry and Algebra",
         "showlegend": false,
         "type": "scatter",
         "uid": "b47ff8ab-3ff9-434d-a98a-295212f4a24c",
         "x": [
          2007,
          2008,
          2009,
          2014,
          2016,
          2018
         ],
         "xaxis": "x",
         "y": [
          -0.6377139781687264,
          1.7635216361447763,
          4.228016532504699,
          1.3599999999999455,
          4.385000000000005,
          7.4100000000001165
         ],
         "yaxis": "y2"
        },
        {
         "hovertemplate": "class=4<br>skill_name=Number sense, Computations and Basic Arithmetic<br>skill_name=Number sense, Computations and Basic Arithmetic<br>year=%{x}<br>skill_delta=%{y}<br>studentCount=%{marker.size}<extra></extra>",
         "legendgroup": "skill_name=Number sense, Computations and Basic Arithmetic",
         "marker": {
          "color": "#EF553B",
          "size": [
           113,
           14,
           72,
           75,
           104,
           111
          ],
          "sizemode": "area",
          "sizeref": 1.14,
          "symbol": "circle"
         },
         "mode": "markers",
         "name": "skill_name=Number sense, Computations and Basic Arithmetic",
         "showlegend": false,
         "type": "scatter",
         "uid": "3c4246bd-7849-4d4b-a153-fd8a1c01b4eb",
         "x": [
          "2018",
          "2007",
          "2008",
          "2009",
          "2014",
          "2016"
         ],
         "xaxis": "x2",
         "y": [
          -0.12000000000000455,
          6.450000000000003,
          -0.20000000000000284,
          7.899999999999999,
          0.05000000000000426,
          -0.9599999999999937
         ],
         "yaxis": "y2"
        },
        {
         "hovertemplate": "<b>LOWESS trendline</b><br><br>class=4<br>skill_name=Number sense, Computations and Basic Arithmetic<br>skill_name=Number sense, Computations and Basic Arithmetic<br>year=%{x}<br>skill_delta=%{y} <b>(trend)</b><extra></extra>",
         "legendgroup": "skill_name=Number sense, Computations and Basic Arithmetic",
         "marker": {
          "color": "#EF553B",
          "symbol": "circle"
         },
         "mode": "lines",
         "name": "skill_name=Number sense, Computations and Basic Arithmetic",
         "showlegend": false,
         "type": "scatter",
         "uid": "53be1dd9-fee2-4fda-ac3c-359d528d0709",
         "x": [
          2007,
          2008,
          2009,
          2014,
          2016,
          2018
         ],
         "xaxis": "x2",
         "y": [
          6.449999999999616,
          7.175000000000175,
          7.899999999998668,
          -0.05229107437676259,
          -0.2749800326283486,
          -0.3425481692665576
         ],
         "yaxis": "y2"
        },
        {
         "hovertemplate": "class=4<br>skill_name=Problem Solving, Advanced Problems<br>skill_name=Problem Solving, Advanced Problems<br>year=%{x}<br>skill_delta=%{y}<br>studentCount=%{marker.size}<extra></extra>",
         "legendgroup": "skill_name=Problem Solving, Advanced Problems",
         "marker": {
          "color": "#00cc96",
          "size": [
           113,
           14,
           72,
           75,
           104,
           111
          ],
          "sizemode": "area",
          "sizeref": 1.14,
          "symbol": "circle"
         },
         "mode": "markers",
         "name": "skill_name=Problem Solving, Advanced Problems",
         "showlegend": false,
         "type": "scatter",
         "uid": "e39552be-be29-4ee0-9b78-931aae3cac7e",
         "x": [
          "2018",
          "2007",
          "2008",
          "2009",
          "2014",
          "2016"
         ],
         "xaxis": "x3",
         "y": [
          -7.079999999999998,
          2.5900000000000034,
          -5.050000000000004,
          1.1499999999999986,
          -5.57,
          -3.9100000000000037
         ],
         "yaxis": "y2"
        },
        {
         "hovertemplate": "<b>LOWESS trendline</b><br><br>class=4<br>skill_name=Problem Solving, Advanced Problems<br>skill_name=Problem Solving, Advanced Problems<br>year=%{x}<br>skill_delta=%{y} <b>(trend)</b><extra></extra>",
         "legendgroup": "skill_name=Problem Solving, Advanced Problems",
         "marker": {
          "color": "#00cc96",
          "symbol": "circle"
         },
         "mode": "lines",
         "name": "skill_name=Problem Solving, Advanced Problems",
         "showlegend": false,
         "type": "scatter",
         "uid": "f709e161-6e9d-4608-82da-6896bd24c43b",
         "x": [
          2007,
          2008,
          2009,
          2014,
          2016,
          2018
         ],
         "xaxis": "x3",
         "y": [
          1.2216869011462446,
          0.46918236385127193,
          -0.17757022521292254,
          -5.244624159578633,
          -5.509160664094532,
          -6.351871156399696
         ],
         "yaxis": "y2"
        },
        {
         "hovertemplate": "class=4<br>skill_name=Word and Application Problems<br>skill_name=Word and Application Problems<br>year=%{x}<br>skill_delta=%{y}<br>studentCount=%{marker.size}<extra></extra>",
         "legendgroup": "skill_name=Word and Application Problems",
         "marker": {
          "color": "#ab63fa",
          "size": [
           113,
           14,
           72,
           75,
           104,
           111
          ],
          "sizemode": "area",
          "sizeref": 1.14,
          "symbol": "circle"
         },
         "mode": "markers",
         "name": "skill_name=Word and Application Problems",
         "showlegend": false,
         "type": "scatter",
         "uid": "08af9628-e8cc-41e7-864a-ad04c8b8cb09",
         "x": [
          "2018",
          "2007",
          "2008",
          "2009",
          "2014",
          "2016"
         ],
         "xaxis": "x4",
         "y": [
          0.509999999999998,
          4.030000000000001,
          -0.01999999999999602,
          0.46999999999999886,
          -0.20000000000000284,
          3.190000000000005
         ],
         "yaxis": "y2"
        },
        {
         "hovertemplate": "<b>LOWESS trendline</b><br><br>class=4<br>skill_name=Word and Application Problems<br>skill_name=Word and Application Problems<br>year=%{x}<br>skill_delta=%{y} <b>(trend)</b><extra></extra>",
         "legendgroup": "skill_name=Word and Application Problems",
         "marker": {
          "color": "#ab63fa",
          "symbol": "circle"
         },
         "mode": "lines",
         "name": "skill_name=Word and Application Problems",
         "showlegend": false,
         "type": "scatter",
         "uid": "43ed67e3-a4d0-4d95-8731-532e377963ba",
         "x": [
          2007,
          2008,
          2009,
          2014,
          2016,
          2018
         ],
         "xaxis": "x4",
         "y": [
          3.4324456937637677,
          1.6376170384925093,
          -0.10781334408721677,
          0.08914206139465378,
          0.7501772300632485,
          1.054376825811946
         ],
         "yaxis": "y2"
        },
        {
         "hovertemplate": "class=5<br>skill_name=Intermediate Concepts, Geometry and Algebra<br>skill_name=Intermediate Concepts, Geometry and Algebra<br>year=%{x}<br>skill_delta=%{y}<br>studentCount=%{marker.size}<extra></extra>",
         "legendgroup": "skill_name=Intermediate Concepts, Geometry and Algebra",
         "marker": {
          "color": "#636efa",
          "size": [
           112,
           16,
           73,
           75,
           108,
           107
          ],
          "sizemode": "area",
          "sizeref": 1.14,
          "symbol": "circle"
         },
         "mode": "markers",
         "name": "skill_name=Intermediate Concepts, Geometry and Algebra",
         "showlegend": false,
         "type": "scatter",
         "uid": "147fb4db-c80c-4d7c-b1d0-dbbf28170189",
         "x": [
          "2018",
          "2007",
          "2008",
          "2009",
          "2014",
          "2016"
         ],
         "xaxis": "x",
         "y": [
          1.0399999999999991,
          -1.4299999999999997,
          -0.01999999999999602,
          3.5700000000000003,
          4.57,
          -2.460000000000001
         ],
         "yaxis": "y3"
        },
        {
         "hovertemplate": "<b>LOWESS trendline</b><br><br>class=5<br>skill_name=Intermediate Concepts, Geometry and Algebra<br>skill_name=Intermediate Concepts, Geometry and Algebra<br>year=%{x}<br>skill_delta=%{y} <b>(trend)</b><extra></extra>",
         "legendgroup": "skill_name=Intermediate Concepts, Geometry and Algebra",
         "marker": {
          "color": "#636efa",
          "symbol": "circle"
         },
         "mode": "lines",
         "name": "skill_name=Intermediate Concepts, Geometry and Algebra",
         "showlegend": false,
         "type": "scatter",
         "uid": "a2ed5165-d6be-43b2-9d5d-c35121372875",
         "x": [
          2007,
          2008,
          2009,
          2014,
          2016,
          2018
         ],
         "xaxis": "x",
         "y": [
          -1.7218970240731162,
          0.7709034639753717,
          3.2879358877985307,
          4.570000000000131,
          2.8049999999999997,
          1.0400000000000071
         ],
         "yaxis": "y3"
        },
        {
         "hovertemplate": "class=5<br>skill_name=Number sense, Computations and Basic Arithmetic<br>skill_name=Number sense, Computations and Basic Arithmetic<br>year=%{x}<br>skill_delta=%{y}<br>studentCount=%{marker.size}<extra></extra>",
         "legendgroup": "skill_name=Number sense, Computations and Basic Arithmetic",
         "marker": {
          "color": "#EF553B",
          "size": [
           112,
           16,
           73,
           75,
           108,
           107
          ],
          "sizemode": "area",
          "sizeref": 1.14,
          "symbol": "circle"
         },
         "mode": "markers",
         "name": "skill_name=Number sense, Computations and Basic Arithmetic",
         "showlegend": false,
         "type": "scatter",
         "uid": "9396b741-d6b2-4f29-b8f5-851b9310a5e1",
         "x": [
          "2018",
          "2007",
          "2008",
          "2009",
          "2014",
          "2016"
         ],
         "xaxis": "x2",
         "y": [
          9.189999999999998,
          10.800000000000004,
          -2.760000000000005,
          7.059999999999995,
          6.700000000000003,
          6.280000000000001
         ],
         "yaxis": "y3"
        },
        {
         "hovertemplate": "<b>LOWESS trendline</b><br><br>class=5<br>skill_name=Number sense, Computations and Basic Arithmetic<br>skill_name=Number sense, Computations and Basic Arithmetic<br>year=%{x}<br>skill_delta=%{y} <b>(trend)</b><extra></extra>",
         "legendgroup": "skill_name=Number sense, Computations and Basic Arithmetic",
         "marker": {
          "color": "#EF553B",
          "symbol": "circle"
         },
         "mode": "lines",
         "name": "skill_name=Number sense, Computations and Basic Arithmetic",
         "showlegend": false,
         "type": "scatter",
         "uid": "1bfeb3cc-7cd3-4a59-8c7d-806ff8101cbb",
         "x": [
          2007,
          2008,
          2009,
          2014,
          2016,
          2018
         ],
         "xaxis": "x2",
         "y": [
          10.80000000000131,
          8.930000000000186,
          7.059999999998869,
          6.49411375787998,
          7.443242205018137,
          8.733931241002848
         ],
         "yaxis": "y3"
        },
        {
         "hovertemplate": "class=5<br>skill_name=Problem Solving, Advanced Problems<br>skill_name=Problem Solving, Advanced Problems<br>year=%{x}<br>skill_delta=%{y}<br>studentCount=%{marker.size}<extra></extra>",
         "legendgroup": "skill_name=Problem Solving, Advanced Problems",
         "marker": {
          "color": "#00cc96",
          "size": [
           112,
           16,
           73,
           75,
           108,
           107
          ],
          "sizemode": "area",
          "sizeref": 1.14,
          "symbol": "circle"
         },
         "mode": "markers",
         "name": "skill_name=Problem Solving, Advanced Problems",
         "showlegend": false,
         "type": "scatter",
         "uid": "081e5083-9f0e-442c-be2c-ed7d1c08c71c",
         "x": [
          "2018",
          "2007",
          "2008",
          "2009",
          "2014",
          "2016"
         ],
         "xaxis": "x3",
         "y": [
          5.519999999999996,
          3.9800000000000004,
          -2.7200000000000024,
          4.829999999999998,
          2.770000000000003,
          5.57
         ],
         "yaxis": "y3"
        },
        {
         "hovertemplate": "<b>LOWESS trendline</b><br><br>class=5<br>skill_name=Problem Solving, Advanced Problems<br>skill_name=Problem Solving, Advanced Problems<br>year=%{x}<br>skill_delta=%{y} <b>(trend)</b><extra></extra>",
         "legendgroup": "skill_name=Problem Solving, Advanced Problems",
         "marker": {
          "color": "#00cc96",
          "symbol": "circle"
         },
         "mode": "lines",
         "name": "skill_name=Problem Solving, Advanced Problems",
         "showlegend": false,
         "type": "scatter",
         "uid": "4728efa1-83c4-4483-944e-423a85ab1f89",
         "x": [
          2007,
          2008,
          2009,
          2014,
          2016,
          2018
         ],
         "xaxis": "x3",
         "y": [
          3.9800000000004476,
          4.405000000000059,
          4.8300000000006165,
          2.9616722575064864,
          4.62550198988456,
          5.9490584684286185
         ],
         "yaxis": "y3"
        },
        {
         "hovertemplate": "class=5<br>skill_name=Word and Application Problems<br>skill_name=Word and Application Problems<br>year=%{x}<br>skill_delta=%{y}<br>studentCount=%{marker.size}<extra></extra>",
         "legendgroup": "skill_name=Word and Application Problems",
         "marker": {
          "color": "#ab63fa",
          "size": [
           112,
           16,
           73,
           75,
           108,
           107
          ],
          "sizemode": "area",
          "sizeref": 1.14,
          "symbol": "circle"
         },
         "mode": "markers",
         "name": "skill_name=Word and Application Problems",
         "showlegend": false,
         "type": "scatter",
         "uid": "4c645621-ebae-4848-9086-89f2cdb4f1d2",
         "x": [
          "2018",
          "2007",
          "2008",
          "2009",
          "2014",
          "2016"
         ],
         "xaxis": "x4",
         "y": [
          5.269999999999996,
          11.670000000000002,
          2.490000000000002,
          5.3700000000000045,
          6.170000000000002,
          5.450000000000003
         ],
         "yaxis": "y3"
        },
        {
         "hovertemplate": "<b>LOWESS trendline</b><br><br>class=5<br>skill_name=Word and Application Problems<br>skill_name=Word and Application Problems<br>year=%{x}<br>skill_delta=%{y} <b>(trend)</b><extra></extra>",
         "legendgroup": "skill_name=Word and Application Problems",
         "marker": {
          "color": "#ab63fa",
          "symbol": "circle"
         },
         "mode": "lines",
         "name": "skill_name=Word and Application Problems",
         "showlegend": false,
         "type": "scatter",
         "uid": "f62a12b5-35c1-461f-bbb4-0da30d6ddb77",
         "x": [
          2007,
          2008,
          2009,
          2014,
          2016,
          2018
         ],
         "xaxis": "x4",
         "y": [
          11.670000000002858,
          8.520000000000003,
          5.370000000000056,
          6.140936354439544,
          5.6523022444562185,
          5.20690071700515
         ],
         "yaxis": "y3"
        },
        {
         "hovertemplate": "class=6<br>skill_name=Intermediate Concepts, Geometry and Algebra<br>skill_name=Intermediate Concepts, Geometry and Algebra<br>year=%{x}<br>skill_delta=%{y}<br>studentCount=%{marker.size}<extra></extra>",
         "legendgroup": "skill_name=Intermediate Concepts, Geometry and Algebra",
         "marker": {
          "color": "#636efa",
          "size": [
           111,
           17,
           74,
           79,
           82,
           100
          ],
          "sizemode": "area",
          "sizeref": 1.14,
          "symbol": "circle"
         },
         "mode": "markers",
         "name": "skill_name=Intermediate Concepts, Geometry and Algebra",
         "showlegend": false,
         "type": "scatter",
         "uid": "6f309acd-abef-4ee3-a087-82415fa14e4e",
         "x": [
          "2018",
          "2007",
          "2008",
          "2009",
          "2014",
          "2016"
         ],
         "xaxis": "x",
         "y": [
          5.779999999999994,
          10.770000000000003,
          -0.46000000000000085,
          3.030000000000001,
          10.219999999999999,
          3.3599999999999994
         ],
         "yaxis": "y4"
        },
        {
         "hovertemplate": "<b>LOWESS trendline</b><br><br>class=6<br>skill_name=Intermediate Concepts, Geometry and Algebra<br>skill_name=Intermediate Concepts, Geometry and Algebra<br>year=%{x}<br>skill_delta=%{y} <b>(trend)</b><extra></extra>",
         "legendgroup": "skill_name=Intermediate Concepts, Geometry and Algebra",
         "marker": {
          "color": "#636efa",
          "symbol": "circle"
         },
         "mode": "lines",
         "name": "skill_name=Intermediate Concepts, Geometry and Algebra",
         "showlegend": false,
         "type": "scatter",
         "uid": "3a59223c-74c4-4f3c-8192-d8ab1d2cee4c",
         "x": [
          2007,
          2008,
          2009,
          2014,
          2016,
          2018
         ],
         "xaxis": "x",
         "y": [
          9.017878553711366,
          5.105331066752144,
          1.3339831084774847,
          9.620720969717183,
          6.525205318532402,
          4.453680469926818
         ],
         "yaxis": "y4"
        },
        {
         "hovertemplate": "class=6<br>skill_name=Number sense, Computations and Basic Arithmetic<br>skill_name=Number sense, Computations and Basic Arithmetic<br>year=%{x}<br>skill_delta=%{y}<br>studentCount=%{marker.size}<extra></extra>",
         "legendgroup": "skill_name=Number sense, Computations and Basic Arithmetic",
         "marker": {
          "color": "#EF553B",
          "size": [
           111,
           17,
           74,
           79,
           82,
           100
          ],
          "sizemode": "area",
          "sizeref": 1.14,
          "symbol": "circle"
         },
         "mode": "markers",
         "name": "skill_name=Number sense, Computations and Basic Arithmetic",
         "showlegend": false,
         "type": "scatter",
         "uid": "34d08f5f-7582-4c21-b7c9-65e991e28d23",
         "x": [
          "2018",
          "2007",
          "2008",
          "2009",
          "2014",
          "2016"
         ],
         "xaxis": "x2",
         "y": [
          4.580000000000005,
          23.879999999999995,
          11.43,
          2.6299999999999955,
          5.909999999999997,
          5.789999999999999
         ],
         "yaxis": "y4"
        },
        {
         "hovertemplate": "<b>LOWESS trendline</b><br><br>class=6<br>skill_name=Number sense, Computations and Basic Arithmetic<br>skill_name=Number sense, Computations and Basic Arithmetic<br>year=%{x}<br>skill_delta=%{y} <b>(trend)</b><extra></extra>",
         "legendgroup": "skill_name=Number sense, Computations and Basic Arithmetic",
         "marker": {
          "color": "#EF553B",
          "symbol": "circle"
         },
         "mode": "lines",
         "name": "skill_name=Number sense, Computations and Basic Arithmetic",
         "showlegend": false,
         "type": "scatter",
         "uid": "631a29da-1560-42de-a087-f62a0976ff2b",
         "x": [
          2007,
          2008,
          2009,
          2014,
          2016,
          2018
         ],
         "xaxis": "x2",
         "y": [
          23.61634902156756,
          12.985300312883679,
          2.373471952813351,
          5.9835190216774246,
          5.429440355030005,
          4.744573124013427
         ],
         "yaxis": "y4"
        },
        {
         "hovertemplate": "class=6<br>skill_name=Problem Solving, Advanced Problems<br>skill_name=Problem Solving, Advanced Problems<br>year=%{x}<br>skill_delta=%{y}<br>studentCount=%{marker.size}<extra></extra>",
         "legendgroup": "skill_name=Problem Solving, Advanced Problems",
         "marker": {
          "color": "#00cc96",
          "size": [
           111,
           17,
           74,
           79,
           82,
           100
          ],
          "sizemode": "area",
          "sizeref": 1.14,
          "symbol": "circle"
         },
         "mode": "markers",
         "name": "skill_name=Problem Solving, Advanced Problems",
         "showlegend": false,
         "type": "scatter",
         "uid": "88fb02e6-5cfb-4725-9937-103d02778776",
         "x": [
          "2018",
          "2007",
          "2008",
          "2009",
          "2014",
          "2016"
         ],
         "xaxis": "x3",
         "y": [
          13.300000000000004,
          0.4299999999999997,
          7.530000000000001,
          4.850000000000001,
          1.4699999999999989,
          3.479999999999997
         ],
         "yaxis": "y4"
        },
        {
         "hovertemplate": "<b>LOWESS trendline</b><br><br>class=6<br>skill_name=Problem Solving, Advanced Problems<br>skill_name=Problem Solving, Advanced Problems<br>year=%{x}<br>skill_delta=%{y} <b>(trend)</b><extra></extra>",
         "legendgroup": "skill_name=Problem Solving, Advanced Problems",
         "marker": {
          "color": "#00cc96",
          "symbol": "circle"
         },
         "mode": "lines",
         "name": "skill_name=Problem Solving, Advanced Problems",
         "showlegend": false,
         "type": "scatter",
         "uid": "f475c7ff-5e2e-4ec5-a1c8-e3c84b566451",
         "x": [
          2007,
          2008,
          2009,
          2014,
          2016,
          2018
         ],
         "xaxis": "x3",
         "y": [
          1.5941132978724104,
          3.8323819407060222,
          5.9768373097217555,
          0.9897617381496266,
          6.234193251695446,
          12.258588817844803
         ],
         "yaxis": "y4"
        },
        {
         "hovertemplate": "class=6<br>skill_name=Word and Application Problems<br>skill_name=Word and Application Problems<br>year=%{x}<br>skill_delta=%{y}<br>studentCount=%{marker.size}<extra></extra>",
         "legendgroup": "skill_name=Word and Application Problems",
         "marker": {
          "color": "#ab63fa",
          "size": [
           111,
           17,
           74,
           79,
           82,
           100
          ],
          "sizemode": "area",
          "sizeref": 1.14,
          "symbol": "circle"
         },
         "mode": "markers",
         "name": "skill_name=Word and Application Problems",
         "showlegend": false,
         "type": "scatter",
         "uid": "4150b160-65bc-4a61-84f2-c3b656fb02ae",
         "x": [
          "2018",
          "2007",
          "2008",
          "2009",
          "2014",
          "2016"
         ],
         "xaxis": "x4",
         "y": [
          3.6700000000000017,
          17.380000000000003,
          7.100000000000001,
          6.969999999999999,
          7.600000000000001,
          1.2199999999999989
         ],
         "yaxis": "y4"
        },
        {
         "hovertemplate": "<b>LOWESS trendline</b><br><br>class=6<br>skill_name=Word and Application Problems<br>skill_name=Word and Application Problems<br>year=%{x}<br>skill_delta=%{y} <b>(trend)</b><extra></extra>",
         "legendgroup": "skill_name=Word and Application Problems",
         "marker": {
          "color": "#ab63fa",
          "symbol": "circle"
         },
         "mode": "lines",
         "name": "skill_name=Word and Application Problems",
         "showlegend": false,
         "type": "scatter",
         "uid": "bfc1ccac-6f6d-4127-b250-f8892183f3bd",
         "x": [
          2007,
          2008,
          2009,
          2014,
          2016,
          2018
         ],
         "xaxis": "x4",
         "y": [
          16.171845605991702,
          10.937507495081313,
          5.800531830915322,
          7.071958479923818,
          4.39052897910654,
          2.540971768297513
         ],
         "yaxis": "y4"
        },
        {
         "hovertemplate": "class=7<br>skill_name=Intermediate Concepts, Geometry and Algebra<br>skill_name=Intermediate Concepts, Geometry and Algebra<br>year=%{x}<br>skill_delta=%{y}<br>studentCount=%{marker.size}<extra></extra>",
         "legendgroup": "skill_name=Intermediate Concepts, Geometry and Algebra",
         "marker": {
          "color": "#636efa",
          "size": [
           114,
           4,
           45,
           74,
           78,
           99
          ],
          "sizemode": "area",
          "sizeref": 1.14,
          "symbol": "circle"
         },
         "mode": "markers",
         "name": "skill_name=Intermediate Concepts, Geometry and Algebra",
         "showlegend": false,
         "type": "scatter",
         "uid": "3155bb35-d9e8-4ff4-bf2a-4b286638dd36",
         "x": [
          "2018",
          "2007",
          "2008",
          "2009",
          "2014",
          "2016"
         ],
         "xaxis": "x",
         "y": [
          7.550000000000004,
          16.04,
          11.64,
          7,
          13.07,
          10.469999999999999
         ],
         "yaxis": "y5"
        },
        {
         "hovertemplate": "<b>LOWESS trendline</b><br><br>class=7<br>skill_name=Intermediate Concepts, Geometry and Algebra<br>skill_name=Intermediate Concepts, Geometry and Algebra<br>year=%{x}<br>skill_delta=%{y} <b>(trend)</b><extra></extra>",
         "legendgroup": "skill_name=Intermediate Concepts, Geometry and Algebra",
         "marker": {
          "color": "#636efa",
          "symbol": "circle"
         },
         "mode": "lines",
         "name": "skill_name=Intermediate Concepts, Geometry and Algebra",
         "showlegend": false,
         "type": "scatter",
         "uid": "e1791012-a3b6-46e0-b0c3-6ecb97d52679",
         "x": [
          2007,
          2008,
          2009,
          2014,
          2016,
          2018
         ],
         "xaxis": "x",
         "y": [
          16.07156757300259,
          11.552350815785893,
          7.03052490994603,
          13.085279656203673,
          10.341491789867744,
          7.57880267956176
         ],
         "yaxis": "y5"
        },
        {
         "hovertemplate": "class=7<br>skill_name=Number sense, Computations and Basic Arithmetic<br>skill_name=Number sense, Computations and Basic Arithmetic<br>year=%{x}<br>skill_delta=%{y}<br>studentCount=%{marker.size}<extra></extra>",
         "legendgroup": "skill_name=Number sense, Computations and Basic Arithmetic",
         "marker": {
          "color": "#EF553B",
          "size": [
           114,
           4,
           45,
           74,
           78,
           99
          ],
          "sizemode": "area",
          "sizeref": 1.14,
          "symbol": "circle"
         },
         "mode": "markers",
         "name": "skill_name=Number sense, Computations and Basic Arithmetic",
         "showlegend": false,
         "type": "scatter",
         "uid": "2080f70a-1338-4ced-97a5-1bfbed2e75c7",
         "x": [
          "2018",
          "2007",
          "2008",
          "2009",
          "2014",
          "2016"
         ],
         "xaxis": "x2",
         "y": [
          6.279999999999994,
          15.579999999999998,
          14.329999999999998,
          7.43,
          12.060000000000002,
          4.390000000000001
         ],
         "yaxis": "y5"
        },
        {
         "hovertemplate": "<b>LOWESS trendline</b><br><br>class=7<br>skill_name=Number sense, Computations and Basic Arithmetic<br>skill_name=Number sense, Computations and Basic Arithmetic<br>year=%{x}<br>skill_delta=%{y} <b>(trend)</b><extra></extra>",
         "legendgroup": "skill_name=Number sense, Computations and Basic Arithmetic",
         "marker": {
          "color": "#EF553B",
          "symbol": "circle"
         },
         "mode": "lines",
         "name": "skill_name=Number sense, Computations and Basic Arithmetic",
         "showlegend": false,
         "type": "scatter",
         "uid": "3bbca1b8-aed6-456a-aa6b-3193887c0905",
         "x": [
          2007,
          2008,
          2009,
          2014,
          2016,
          2018
         ],
         "xaxis": "x2",
         "y": [
          16.35479690776241,
          12.299208289111043,
          8.178863769827002,
          11.752172154718908,
          8.629942982482369,
          5.784222551537886
         ],
         "yaxis": "y5"
        },
        {
         "hovertemplate": "class=7<br>skill_name=Problem Solving, Advanced Problems<br>skill_name=Problem Solving, Advanced Problems<br>year=%{x}<br>skill_delta=%{y}<br>studentCount=%{marker.size}<extra></extra>",
         "legendgroup": "skill_name=Problem Solving, Advanced Problems",
         "marker": {
          "color": "#00cc96",
          "size": [
           114,
           4,
           45,
           74,
           78,
           99
          ],
          "sizemode": "area",
          "sizeref": 1.14,
          "symbol": "circle"
         },
         "mode": "markers",
         "name": "skill_name=Problem Solving, Advanced Problems",
         "showlegend": false,
         "type": "scatter",
         "uid": "1d21120d-f0ca-4d1c-96cf-de692c154e77",
         "x": [
          "2018",
          "2007",
          "2008",
          "2009",
          "2014",
          "2016"
         ],
         "xaxis": "x3",
         "y": [
          6.25,
          4.949999999999999,
          14.71,
          13.990000000000002,
          8.439999999999998,
          2.6899999999999977
         ],
         "yaxis": "y5"
        },
        {
         "hovertemplate": "<b>LOWESS trendline</b><br><br>class=7<br>skill_name=Problem Solving, Advanced Problems<br>skill_name=Problem Solving, Advanced Problems<br>year=%{x}<br>skill_delta=%{y} <b>(trend)</b><extra></extra>",
         "legendgroup": "skill_name=Problem Solving, Advanced Problems",
         "marker": {
          "color": "#00cc96",
          "symbol": "circle"
         },
         "mode": "lines",
         "name": "skill_name=Problem Solving, Advanced Problems",
         "showlegend": false,
         "type": "scatter",
         "uid": "fd669e2b-21aa-4aa5-bf57-d232d2b19661",
         "x": [
          2007,
          2008,
          2009,
          2014,
          2016,
          2018
         ],
         "xaxis": "x3",
         "y": [
          6.197434290562855,
          10.747726251389912,
          15.197490286901978,
          7.887735841169917,
          6.049878058052988,
          5.074287755292374
         ],
         "yaxis": "y5"
        },
        {
         "hovertemplate": "class=7<br>skill_name=Word and Application Problems<br>skill_name=Word and Application Problems<br>year=%{x}<br>skill_delta=%{y}<br>studentCount=%{marker.size}<extra></extra>",
         "legendgroup": "skill_name=Word and Application Problems",
         "marker": {
          "color": "#ab63fa",
          "size": [
           114,
           4,
           45,
           74,
           78,
           99
          ],
          "sizemode": "area",
          "sizeref": 1.14,
          "symbol": "circle"
         },
         "mode": "markers",
         "name": "skill_name=Word and Application Problems",
         "showlegend": false,
         "type": "scatter",
         "uid": "eade0240-39b2-451d-ba62-8deb676401d9",
         "x": [
          "2018",
          "2007",
          "2008",
          "2009",
          "2014",
          "2016"
         ],
         "xaxis": "x4",
         "y": [
          3.0899999999999963,
          19.68,
          17.230000000000004,
          11.379999999999995,
          14.439999999999998,
          7.449999999999996
         ],
         "yaxis": "y5"
        },
        {
         "hovertemplate": "<b>LOWESS trendline</b><br><br>class=7<br>skill_name=Word and Application Problems<br>skill_name=Word and Application Problems<br>year=%{x}<br>skill_delta=%{y} <b>(trend)</b><extra></extra>",
         "legendgroup": "skill_name=Word and Application Problems",
         "marker": {
          "color": "#ab63fa",
          "symbol": "circle"
         },
         "mode": "lines",
         "name": "skill_name=Word and Application Problems",
         "showlegend": false,
         "type": "scatter",
         "uid": "444b5a46-cd7d-4fc5-95a9-fc5e9e04c665",
         "x": [
          2007,
          2008,
          2009,
          2014,
          2016,
          2018
         ],
         "xaxis": "x4",
         "y": [
          20.08470196449428,
          15.944529509037345,
          11.77174303200469,
          14.27687989370799,
          8.372162537119536,
          2.734832427238395
         ],
         "yaxis": "y5"
        },
        {
         "hovertemplate": "class=8<br>skill_name=Intermediate Concepts, Geometry and Algebra<br>skill_name=Intermediate Concepts, Geometry and Algebra<br>year=%{x}<br>skill_delta=%{y}<br>studentCount=%{marker.size}<extra></extra>",
         "legendgroup": "skill_name=Intermediate Concepts, Geometry and Algebra",
         "marker": {
          "color": "#636efa",
          "size": [
           103,
           13,
           52,
           46,
           77,
           76
          ],
          "sizemode": "area",
          "sizeref": 1.14,
          "symbol": "circle"
         },
         "mode": "markers",
         "name": "skill_name=Intermediate Concepts, Geometry and Algebra",
         "showlegend": false,
         "type": "scatter",
         "uid": "513ed0cd-8653-4e0c-8d34-112cb720f0f9",
         "x": [
          "2018",
          "2007",
          "2008",
          "2009",
          "2014",
          "2016"
         ],
         "xaxis": "x",
         "y": [
          3.5800000000000054,
          18.75,
          12.21,
          20.449999999999996,
          7.75,
          7
         ],
         "yaxis": "y6"
        },
        {
         "hovertemplate": "<b>LOWESS trendline</b><br><br>class=8<br>skill_name=Intermediate Concepts, Geometry and Algebra<br>skill_name=Intermediate Concepts, Geometry and Algebra<br>year=%{x}<br>skill_delta=%{y} <b>(trend)</b><extra></extra>",
         "legendgroup": "skill_name=Intermediate Concepts, Geometry and Algebra",
         "marker": {
          "color": "#636efa",
          "symbol": "circle"
         },
         "mode": "lines",
         "name": "skill_name=Intermediate Concepts, Geometry and Algebra",
         "showlegend": false,
         "type": "scatter",
         "uid": "a59adbc6-d70c-4722-bc99-5a3036978ede",
         "x": [
          2007,
          2008,
          2009,
          2014,
          2016,
          2018
         ],
         "xaxis": "x",
         "y": [
          18.750000000005794,
          19.600000000000087,
          20.44999999999796,
          7.9283683272850105,
          6.111171761474855,
          3.97900770747903
         ],
         "yaxis": "y6"
        },
        {
         "hovertemplate": "class=8<br>skill_name=Number sense, Computations and Basic Arithmetic<br>skill_name=Number sense, Computations and Basic Arithmetic<br>year=%{x}<br>skill_delta=%{y}<br>studentCount=%{marker.size}<extra></extra>",
         "legendgroup": "skill_name=Number sense, Computations and Basic Arithmetic",
         "marker": {
          "color": "#EF553B",
          "size": [
           103,
           13,
           52,
           46,
           77,
           76
          ],
          "sizemode": "area",
          "sizeref": 1.14,
          "symbol": "circle"
         },
         "mode": "markers",
         "name": "skill_name=Number sense, Computations and Basic Arithmetic",
         "showlegend": false,
         "type": "scatter",
         "uid": "8111bc8d-2a88-44c3-9062-ed87a823f7f1",
         "x": [
          "2018",
          "2007",
          "2008",
          "2009",
          "2014",
          "2016"
         ],
         "xaxis": "x2",
         "y": [
          0.8200000000000003,
          22.689999999999998,
          4.010000000000005,
          21.340000000000003,
          7.969999999999999,
          0.27999999999999403
         ],
         "yaxis": "y6"
        },
        {
         "hovertemplate": "<b>LOWESS trendline</b><br><br>class=8<br>skill_name=Number sense, Computations and Basic Arithmetic<br>skill_name=Number sense, Computations and Basic Arithmetic<br>year=%{x}<br>skill_delta=%{y} <b>(trend)</b><extra></extra>",
         "legendgroup": "skill_name=Number sense, Computations and Basic Arithmetic",
         "marker": {
          "color": "#EF553B",
          "symbol": "circle"
         },
         "mode": "lines",
         "name": "skill_name=Number sense, Computations and Basic Arithmetic",
         "showlegend": false,
         "type": "scatter",
         "uid": "cd99f942-f8b9-40da-a18d-2ca9a898607a",
         "x": [
          2007,
          2008,
          2009,
          2014,
          2016,
          2018
         ],
         "xaxis": "x2",
         "y": [
          22.47856373018287,
          21.799080090935114,
          21.132691457784333,
          7.4150280079743505,
          3.002596503793031,
          -0.42255581428947464
         ],
         "yaxis": "y6"
        },
        {
         "hovertemplate": "class=8<br>skill_name=Problem Solving, Advanced Problems<br>skill_name=Problem Solving, Advanced Problems<br>year=%{x}<br>skill_delta=%{y}<br>studentCount=%{marker.size}<extra></extra>",
         "legendgroup": "skill_name=Problem Solving, Advanced Problems",
         "marker": {
          "color": "#00cc96",
          "size": [
           103,
           13,
           52,
           46,
           77,
           76
          ],
          "sizemode": "area",
          "sizeref": 1.14,
          "symbol": "circle"
         },
         "mode": "markers",
         "name": "skill_name=Problem Solving, Advanced Problems",
         "showlegend": false,
         "type": "scatter",
         "uid": "073d57ee-3011-4bbe-bdbf-309b9ed1871e",
         "x": [
          "2018",
          "2007",
          "2008",
          "2009",
          "2014",
          "2016"
         ],
         "xaxis": "x3",
         "y": [
          4.699999999999996,
          29.29,
          4.739999999999998,
          12.530000000000001,
          1.6799999999999997,
          -0.7100000000000009
         ],
         "yaxis": "y6"
        },
        {
         "hovertemplate": "<b>LOWESS trendline</b><br><br>class=8<br>skill_name=Problem Solving, Advanced Problems<br>skill_name=Problem Solving, Advanced Problems<br>year=%{x}<br>skill_delta=%{y} <b>(trend)</b><extra></extra>",
         "legendgroup": "skill_name=Problem Solving, Advanced Problems",
         "marker": {
          "color": "#00cc96",
          "symbol": "circle"
         },
         "mode": "lines",
         "name": "skill_name=Problem Solving, Advanced Problems",
         "showlegend": false,
         "type": "scatter",
         "uid": "555fa26b-dfaf-4f06-8026-91dd2a6fc4c9",
         "x": [
          2007,
          2008,
          2009,
          2014,
          2016,
          2018
         ],
         "xaxis": "x3",
         "y": [
          28.69480187531548,
          20.30200348986432,
          11.947303737107532,
          1.1538335428653588,
          1.8697468555312433,
          3.52193797965571
         ],
         "yaxis": "y6"
        },
        {
         "hovertemplate": "class=8<br>skill_name=Word and Application Problems<br>skill_name=Word and Application Problems<br>year=%{x}<br>skill_delta=%{y}<br>studentCount=%{marker.size}<extra></extra>",
         "legendgroup": "skill_name=Word and Application Problems",
         "marker": {
          "color": "#ab63fa",
          "size": [
           103,
           13,
           52,
           46,
           77,
           76
          ],
          "sizemode": "area",
          "sizeref": 1.14,
          "symbol": "circle"
         },
         "mode": "markers",
         "name": "skill_name=Word and Application Problems",
         "showlegend": false,
         "type": "scatter",
         "uid": "c25ce883-7ca6-4129-bb91-8c2a4ce8f4cd",
         "x": [
          "2018",
          "2007",
          "2008",
          "2009",
          "2014",
          "2016"
         ],
         "xaxis": "x4",
         "y": [
          4.909999999999997,
          16.61,
          12.310000000000002,
          11.570000000000007,
          6.659999999999997,
          -7.020000000000003
         ],
         "yaxis": "y6"
        },
        {
         "hovertemplate": "<b>LOWESS trendline</b><br><br>class=8<br>skill_name=Word and Application Problems<br>skill_name=Word and Application Problems<br>year=%{x}<br>skill_delta=%{y} <b>(trend)</b><extra></extra>",
         "legendgroup": "skill_name=Word and Application Problems",
         "marker": {
          "color": "#ab63fa",
          "symbol": "circle"
         },
         "mode": "lines",
         "name": "skill_name=Word and Application Problems",
         "showlegend": false,
         "type": "scatter",
         "uid": "f11f1fe0-de8b-43f0-96c9-c6b2c379cedd",
         "x": [
          2007,
          2008,
          2009,
          2014,
          2016,
          2018
         ],
         "xaxis": "x4",
         "y": [
          16.148464204768644,
          13.617148744558335,
          11.123825583202219,
          6.660000000000139,
          5.784999999999997,
          4.9100000000000605
         ],
         "yaxis": "y6"
        },
        {
         "hovertemplate": "class=9<br>skill_name=Intermediate Concepts, Geometry and Algebra<br>skill_name=Intermediate Concepts, Geometry and Algebra<br>year=%{x}<br>skill_delta=%{y}<br>studentCount=%{marker.size}<extra></extra>",
         "legendgroup": "skill_name=Intermediate Concepts, Geometry and Algebra",
         "marker": {
          "color": "#636efa",
          "size": [
           99,
           10,
           40,
           51,
           73,
           73
          ],
          "sizemode": "area",
          "sizeref": 1.14,
          "symbol": "circle"
         },
         "mode": "markers",
         "name": "skill_name=Intermediate Concepts, Geometry and Algebra",
         "showlegend": false,
         "type": "scatter",
         "uid": "f3bbf49a-24f9-496c-a975-660e81596644",
         "x": [
          "2018",
          "2007",
          "2008",
          "2009",
          "2014",
          "2016"
         ],
         "xaxis": "x",
         "y": [
          4.280000000000001,
          14.160000000000004,
          1.5600000000000023,
          10.369999999999997,
          5.989999999999995,
          7.099999999999994
         ],
         "yaxis": "y7"
        },
        {
         "hovertemplate": "<b>LOWESS trendline</b><br><br>class=9<br>skill_name=Intermediate Concepts, Geometry and Algebra<br>skill_name=Intermediate Concepts, Geometry and Algebra<br>year=%{x}<br>skill_delta=%{y} <b>(trend)</b><extra></extra>",
         "legendgroup": "skill_name=Intermediate Concepts, Geometry and Algebra",
         "marker": {
          "color": "#636efa",
          "symbol": "circle"
         },
         "mode": "lines",
         "name": "skill_name=Intermediate Concepts, Geometry and Algebra",
         "showlegend": false,
         "type": "scatter",
         "uid": "2a411c49-a1ea-4b21-8a9e-403c3daeffd7",
         "x": [
          2007,
          2008,
          2009,
          2014,
          2016,
          2018
         ],
         "xaxis": "x",
         "y": [
          14.159999999999322,
          12.264999999999795,
          10.369999999999726,
          6.252909755652786,
          5.792946989499478,
          4.868211450272054
         ],
         "yaxis": "y7"
        },
        {
         "hovertemplate": "class=9<br>skill_name=Number sense, Computations and Basic Arithmetic<br>skill_name=Number sense, Computations and Basic Arithmetic<br>year=%{x}<br>skill_delta=%{y}<br>studentCount=%{marker.size}<extra></extra>",
         "legendgroup": "skill_name=Number sense, Computations and Basic Arithmetic",
         "marker": {
          "color": "#EF553B",
          "size": [
           99,
           10,
           40,
           51,
           73,
           73
          ],
          "sizemode": "area",
          "sizeref": 1.14,
          "symbol": "circle"
         },
         "mode": "markers",
         "name": "skill_name=Number sense, Computations and Basic Arithmetic",
         "showlegend": false,
         "type": "scatter",
         "uid": "bc001cac-55ae-4671-b701-0928607629c5",
         "x": [
          "2018",
          "2007",
          "2008",
          "2009",
          "2014",
          "2016"
         ],
         "xaxis": "x2",
         "y": [
          2.200000000000003,
          15.520000000000003,
          10.060000000000002,
          1.1400000000000006,
          4.310000000000002,
          10.300000000000004
         ],
         "yaxis": "y7"
        },
        {
         "hovertemplate": "<b>LOWESS trendline</b><br><br>class=9<br>skill_name=Number sense, Computations and Basic Arithmetic<br>skill_name=Number sense, Computations and Basic Arithmetic<br>year=%{x}<br>skill_delta=%{y} <b>(trend)</b><extra></extra>",
         "legendgroup": "skill_name=Number sense, Computations and Basic Arithmetic",
         "marker": {
          "color": "#EF553B",
          "symbol": "circle"
         },
         "mode": "lines",
         "name": "skill_name=Number sense, Computations and Basic Arithmetic",
         "showlegend": false,
         "type": "scatter",
         "uid": "cdc069a1-e4fc-461e-afa3-0724f05840c2",
         "x": [
          2007,
          2008,
          2009,
          2014,
          2016,
          2018
         ],
         "xaxis": "x2",
         "y": [
          15.991272847823355,
          8.812934078414001,
          1.5952939124907015,
          4.310000000000108,
          3.2550000000000026,
          2.200000000000029
         ],
         "yaxis": "y7"
        },
        {
         "hovertemplate": "class=9<br>skill_name=Problem Solving, Advanced Problems<br>skill_name=Problem Solving, Advanced Problems<br>year=%{x}<br>skill_delta=%{y}<br>studentCount=%{marker.size}<extra></extra>",
         "legendgroup": "skill_name=Problem Solving, Advanced Problems",
         "marker": {
          "color": "#00cc96",
          "size": [
           99,
           10,
           40,
           51,
           73,
           73
          ],
          "sizemode": "area",
          "sizeref": 1.14,
          "symbol": "circle"
         },
         "mode": "markers",
         "name": "skill_name=Problem Solving, Advanced Problems",
         "showlegend": false,
         "type": "scatter",
         "uid": "58610f2e-e809-4499-b8a4-c67e614df502",
         "x": [
          "2018",
          "2007",
          "2008",
          "2009",
          "2014",
          "2016"
         ],
         "xaxis": "x3",
         "y": [
          12.560000000000002,
          7.460000000000001,
          10.810000000000002,
          10.940000000000005,
          -3.490000000000002,
          -0.8000000000000007
         ],
         "yaxis": "y7"
        },
        {
         "hovertemplate": "<b>LOWESS trendline</b><br><br>class=9<br>skill_name=Problem Solving, Advanced Problems<br>skill_name=Problem Solving, Advanced Problems<br>year=%{x}<br>skill_delta=%{y} <b>(trend)</b><extra></extra>",
         "legendgroup": "skill_name=Problem Solving, Advanced Problems",
         "marker": {
          "color": "#00cc96",
          "symbol": "circle"
         },
         "mode": "lines",
         "name": "skill_name=Problem Solving, Advanced Problems",
         "showlegend": false,
         "type": "scatter",
         "uid": "150b7d81-a86e-46ac-899d-32e4363bf365",
         "x": [
          2007,
          2008,
          2009,
          2014,
          2016,
          2018
         ],
         "xaxis": "x3",
         "y": [
          7.90106241881639,
          9.651988704817914,
          11.366077153113034,
          -3.4900000000002898,
          4.535,
          12.560000000000205
         ],
         "yaxis": "y7"
        },
        {
         "hovertemplate": "class=9<br>skill_name=Word and Application Problems<br>skill_name=Word and Application Problems<br>year=%{x}<br>skill_delta=%{y}<br>studentCount=%{marker.size}<extra></extra>",
         "legendgroup": "skill_name=Word and Application Problems",
         "marker": {
          "color": "#ab63fa",
          "size": [
           99,
           10,
           40,
           51,
           73,
           73
          ],
          "sizemode": "area",
          "sizeref": 1.14,
          "symbol": "circle"
         },
         "mode": "markers",
         "name": "skill_name=Word and Application Problems",
         "showlegend": false,
         "type": "scatter",
         "uid": "7c5a3141-d2e0-4d16-b439-d064ac4fe61e",
         "x": [
          "2018",
          "2007",
          "2008",
          "2009",
          "2014",
          "2016"
         ],
         "xaxis": "x4",
         "y": [
          7.100000000000005,
          15.68,
          9.719999999999999,
          5.760000000000005,
          3.549999999999997,
          3.8699999999999974
         ],
         "yaxis": "y7"
        },
        {
         "hovertemplate": "<b>LOWESS trendline</b><br><br>class=9<br>skill_name=Word and Application Problems<br>skill_name=Word and Application Problems<br>year=%{x}<br>skill_delta=%{y} <b>(trend)</b><extra></extra>",
         "legendgroup": "skill_name=Word and Application Problems",
         "marker": {
          "color": "#ab63fa",
          "symbol": "circle"
         },
         "mode": "lines",
         "name": "skill_name=Word and Application Problems",
         "showlegend": false,
         "type": "scatter",
         "uid": "c51be15e-36e0-4216-92f0-a979110f6ff5",
         "x": [
          2007,
          2008,
          2009,
          2014,
          2016,
          2018
         ],
         "xaxis": "x4",
         "y": [
          15.41189779123567,
          10.445215494678639,
          5.500804309553455,
          3.42330029217851,
          5.075557927998898,
          6.871555761466248
         ],
         "yaxis": "y7"
        },
        {
         "hovertemplate": "class=10<br>skill_name=Intermediate Concepts, Geometry and Algebra<br>skill_name=Intermediate Concepts, Geometry and Algebra<br>year=%{x}<br>skill_delta=%{y}<br>studentCount=%{marker.size}<extra></extra>",
         "legendgroup": "skill_name=Intermediate Concepts, Geometry and Algebra",
         "marker": {
          "color": "#636efa",
          "size": [
           73,
           67
          ],
          "sizemode": "area",
          "sizeref": 1.14,
          "symbol": "circle"
         },
         "mode": "markers",
         "name": "skill_name=Intermediate Concepts, Geometry and Algebra",
         "showlegend": false,
         "type": "scatter",
         "uid": "1b97e9da-2729-4b68-a1fc-acf4b672e79a",
         "x": [
          "2014",
          "2016"
         ],
         "xaxis": "x",
         "y": [
          -1.5399999999999991,
          9.240000000000002
         ],
         "yaxis": "y8"
        },
        {
         "hovertemplate": "<b>LOWESS trendline</b><br><br>class=10<br>skill_name=Intermediate Concepts, Geometry and Algebra<br>skill_name=Intermediate Concepts, Geometry and Algebra<br>year=%{x}<br>skill_delta=%{y} <b>(trend)</b><extra></extra>",
         "legendgroup": "skill_name=Intermediate Concepts, Geometry and Algebra",
         "marker": {
          "color": "#636efa",
          "symbol": "circle"
         },
         "mode": "lines",
         "name": "skill_name=Intermediate Concepts, Geometry and Algebra",
         "showlegend": false,
         "type": "scatter",
         "uid": "81d0c584-82c6-4330-a2d4-cb196029b138",
         "x": [
          2014,
          2016
         ],
         "xaxis": "x",
         "y": [
          -1.5399999999999991,
          9.240000000000002
         ],
         "yaxis": "y8"
        },
        {
         "hovertemplate": "class=10<br>skill_name=Number sense, Computations and Basic Arithmetic<br>skill_name=Number sense, Computations and Basic Arithmetic<br>year=%{x}<br>skill_delta=%{y}<br>studentCount=%{marker.size}<extra></extra>",
         "legendgroup": "skill_name=Number sense, Computations and Basic Arithmetic",
         "marker": {
          "color": "#EF553B",
          "size": [
           73,
           67
          ],
          "sizemode": "area",
          "sizeref": 1.14,
          "symbol": "circle"
         },
         "mode": "markers",
         "name": "skill_name=Number sense, Computations and Basic Arithmetic",
         "showlegend": false,
         "type": "scatter",
         "uid": "9c7f203b-1554-4e6b-93c3-decec151274a",
         "x": [
          "2014",
          "2016"
         ],
         "xaxis": "x2",
         "y": [
          0.10999999999999943,
          0.10000000000000142
         ],
         "yaxis": "y8"
        },
        {
         "hovertemplate": "<b>LOWESS trendline</b><br><br>class=10<br>skill_name=Number sense, Computations and Basic Arithmetic<br>skill_name=Number sense, Computations and Basic Arithmetic<br>year=%{x}<br>skill_delta=%{y} <b>(trend)</b><extra></extra>",
         "legendgroup": "skill_name=Number sense, Computations and Basic Arithmetic",
         "marker": {
          "color": "#EF553B",
          "symbol": "circle"
         },
         "mode": "lines",
         "name": "skill_name=Number sense, Computations and Basic Arithmetic",
         "showlegend": false,
         "type": "scatter",
         "uid": "22ea9d33-056d-443b-b69d-c3b51fa4a251",
         "x": [
          2014,
          2016
         ],
         "xaxis": "x2",
         "y": [
          0.10999999999999943,
          0.10000000000000142
         ],
         "yaxis": "y8"
        },
        {
         "hovertemplate": "class=10<br>skill_name=Problem Solving, Advanced Problems<br>skill_name=Problem Solving, Advanced Problems<br>year=%{x}<br>skill_delta=%{y}<br>studentCount=%{marker.size}<extra></extra>",
         "legendgroup": "skill_name=Problem Solving, Advanced Problems",
         "marker": {
          "color": "#00cc96",
          "size": [
           73,
           67
          ],
          "sizemode": "area",
          "sizeref": 1.14,
          "symbol": "circle"
         },
         "mode": "markers",
         "name": "skill_name=Problem Solving, Advanced Problems",
         "showlegend": false,
         "type": "scatter",
         "uid": "47748e0d-d065-4a5d-9f4c-3f5fa7fffafc",
         "x": [
          "2014",
          "2016"
         ],
         "xaxis": "x3",
         "y": [
          -6.18,
          -1.9200000000000017
         ],
         "yaxis": "y8"
        },
        {
         "hovertemplate": "<b>LOWESS trendline</b><br><br>class=10<br>skill_name=Problem Solving, Advanced Problems<br>skill_name=Problem Solving, Advanced Problems<br>year=%{x}<br>skill_delta=%{y} <b>(trend)</b><extra></extra>",
         "legendgroup": "skill_name=Problem Solving, Advanced Problems",
         "marker": {
          "color": "#00cc96",
          "symbol": "circle"
         },
         "mode": "lines",
         "name": "skill_name=Problem Solving, Advanced Problems",
         "showlegend": false,
         "type": "scatter",
         "uid": "7fc379a1-aa75-426f-9682-37c3faea38b2",
         "x": [
          2014,
          2016
         ],
         "xaxis": "x3",
         "y": [
          -6.18,
          -1.9200000000000017
         ],
         "yaxis": "y8"
        },
        {
         "hovertemplate": "class=10<br>skill_name=Word and Application Problems<br>skill_name=Word and Application Problems<br>year=%{x}<br>skill_delta=%{y}<br>studentCount=%{marker.size}<extra></extra>",
         "legendgroup": "skill_name=Word and Application Problems",
         "marker": {
          "color": "#ab63fa",
          "size": [
           73,
           67
          ],
          "sizemode": "area",
          "sizeref": 1.14,
          "symbol": "circle"
         },
         "mode": "markers",
         "name": "skill_name=Word and Application Problems",
         "showlegend": false,
         "type": "scatter",
         "uid": "d439b967-2e0a-4a10-9eb0-db204045ebc1",
         "x": [
          "2014",
          "2016"
         ],
         "xaxis": "x4",
         "y": [
          4.669999999999995,
          7.229999999999997
         ],
         "yaxis": "y8"
        },
        {
         "hovertemplate": "<b>LOWESS trendline</b><br><br>class=10<br>skill_name=Word and Application Problems<br>skill_name=Word and Application Problems<br>year=%{x}<br>skill_delta=%{y} <b>(trend)</b><extra></extra>",
         "legendgroup": "skill_name=Word and Application Problems",
         "marker": {
          "color": "#ab63fa",
          "symbol": "circle"
         },
         "mode": "lines",
         "name": "skill_name=Word and Application Problems",
         "showlegend": false,
         "type": "scatter",
         "uid": "9b95a2ba-3aeb-474b-9159-1eae67f0f829",
         "x": [
          2014,
          2016
         ],
         "xaxis": "x4",
         "y": [
          4.669999999999995,
          7.229999999999997
         ],
         "yaxis": "y8"
        }
       ],
       "layout": {
        "annotations": [
         {
          "showarrow": false,
          "text": "skill_name=Intermediate Concepts, Geometry and Algebra",
          "textangle": 0,
          "x": 0.1153846153846154,
          "xanchor": "center",
          "xref": "paper",
          "y": 1.02,
          "yanchor": "middle",
          "yref": "paper"
         },
         {
          "showarrow": false,
          "text": "skill_name=Number sense, Computations and Basic Arithmetic",
          "textangle": 0,
          "x": 0.3717948717948718,
          "xanchor": "center",
          "xref": "paper",
          "y": 1.02,
          "yanchor": "middle",
          "yref": "paper"
         },
         {
          "showarrow": false,
          "text": "skill_name=Problem Solving, Advanced Problems",
          "textangle": 0,
          "x": 0.6282051282051283,
          "xanchor": "center",
          "xref": "paper",
          "y": 1.02,
          "yanchor": "middle",
          "yref": "paper"
         },
         {
          "showarrow": false,
          "text": "skill_name=Word and Application Problems",
          "textangle": 0,
          "x": 0.8846153846153848,
          "xanchor": "center",
          "xref": "paper",
          "y": 1.02,
          "yanchor": "middle",
          "yref": "paper"
         },
         {
          "showarrow": false,
          "text": "class=3",
          "textangle": 90,
          "x": 1.01,
          "xanchor": "center",
          "xref": "paper",
          "y": 0.9430379746835442,
          "yanchor": "middle",
          "yref": "paper"
         },
         {
          "showarrow": false,
          "text": "class=4",
          "textangle": 90,
          "x": 1.01,
          "xanchor": "center",
          "xref": "paper",
          "y": 0.8164556962025316,
          "yanchor": "middle",
          "yref": "paper"
         },
         {
          "showarrow": false,
          "text": "class=5",
          "textangle": 90,
          "x": 1.01,
          "xanchor": "center",
          "xref": "paper",
          "y": 0.6898734177215189,
          "yanchor": "middle",
          "yref": "paper"
         },
         {
          "showarrow": false,
          "text": "class=6",
          "textangle": 90,
          "x": 1.01,
          "xanchor": "center",
          "xref": "paper",
          "y": 0.5632911392405062,
          "yanchor": "middle",
          "yref": "paper"
         },
         {
          "showarrow": false,
          "text": "class=7",
          "textangle": 90,
          "x": 1.01,
          "xanchor": "center",
          "xref": "paper",
          "y": 0.4367088607594936,
          "yanchor": "middle",
          "yref": "paper"
         },
         {
          "showarrow": false,
          "text": "class=8",
          "textangle": 90,
          "x": 1.01,
          "xanchor": "center",
          "xref": "paper",
          "y": 0.310126582278481,
          "yanchor": "middle",
          "yref": "paper"
         },
         {
          "showarrow": false,
          "text": "class=9",
          "textangle": 90,
          "x": 1.01,
          "xanchor": "center",
          "xref": "paper",
          "y": 0.18354430379746833,
          "yanchor": "middle",
          "yref": "paper"
         },
         {
          "showarrow": false,
          "text": "class=10",
          "textangle": 90,
          "x": 1.01,
          "xanchor": "center",
          "xref": "paper",
          "y": 0.05696202531645569,
          "yanchor": "middle",
          "yref": "paper"
         }
        ],
        "grid": {
         "xaxes": [
          "x",
          "x2",
          "x3",
          "x4"
         ],
         "xgap": 0.1,
         "xside": "bottom",
         "yaxes": [
          "y",
          "y2",
          "y3",
          "y4",
          "y5",
          "y6",
          "y7",
          "y8"
         ],
         "ygap": 0.1,
         "yside": "left"
        },
        "height": 1500,
        "legend": {
         "tracegroupgap": 0
        },
        "template": {
         "data": {
          "bar": [
           {
            "marker": {
             "line": {
              "color": "#E5ECF6",
              "width": 0.5
             }
            },
            "type": "bar"
           }
          ],
          "barpolar": [
           {
            "marker": {
             "line": {
              "color": "#E5ECF6",
              "width": 0.5
             }
            },
            "type": "barpolar"
           }
          ],
          "carpet": [
           {
            "aaxis": {
             "endlinecolor": "#2a3f5f",
             "gridcolor": "white",
             "linecolor": "white",
             "minorgridcolor": "white",
             "startlinecolor": "#2a3f5f"
            },
            "baxis": {
             "endlinecolor": "#2a3f5f",
             "gridcolor": "white",
             "linecolor": "white",
             "minorgridcolor": "white",
             "startlinecolor": "#2a3f5f"
            },
            "type": "carpet"
           }
          ],
          "choropleth": [
           {
            "colorbar": {
             "outlinewidth": 0,
             "ticks": ""
            },
            "type": "choropleth"
           }
          ],
          "contour": [
           {
            "autocolorscale": true,
            "colorbar": {
             "outlinewidth": 0,
             "ticks": ""
            },
            "type": "contour"
           }
          ],
          "contourcarpet": [
           {
            "colorbar": {
             "outlinewidth": 0,
             "ticks": ""
            },
            "type": "contourcarpet"
           }
          ],
          "heatmap": [
           {
            "autocolorscale": true,
            "colorbar": {
             "outlinewidth": 0,
             "ticks": ""
            },
            "type": "heatmap"
           }
          ],
          "heatmapgl": [
           {
            "colorbar": {
             "outlinewidth": 0,
             "ticks": ""
            },
            "type": "heatmapgl"
           }
          ],
          "histogram": [
           {
            "marker": {
             "colorbar": {
              "outlinewidth": 0,
              "ticks": ""
             }
            },
            "type": "histogram"
           }
          ],
          "histogram2d": [
           {
            "autocolorscale": true,
            "colorbar": {
             "outlinewidth": 0,
             "ticks": ""
            },
            "type": "histogram2d"
           }
          ],
          "histogram2dcontour": [
           {
            "autocolorscale": true,
            "colorbar": {
             "outlinewidth": 0,
             "ticks": ""
            },
            "type": "histogram2dcontour"
           }
          ],
          "mesh3d": [
           {
            "colorbar": {
             "outlinewidth": 0,
             "ticks": ""
            },
            "type": "mesh3d"
           }
          ],
          "parcoords": [
           {
            "line": {
             "colorbar": {
              "outlinewidth": 0,
              "ticks": ""
             }
            },
            "type": "parcoords"
           }
          ],
          "scatter": [
           {
            "marker": {
             "colorbar": {
              "outlinewidth": 0,
              "ticks": ""
             }
            },
            "type": "scatter"
           }
          ],
          "scatter3d": [
           {
            "marker": {
             "colorbar": {
              "outlinewidth": 0,
              "ticks": ""
             }
            },
            "type": "scatter3d"
           }
          ],
          "scattercarpet": [
           {
            "marker": {
             "colorbar": {
              "outlinewidth": 0,
              "ticks": ""
             }
            },
            "type": "scattercarpet"
           }
          ],
          "scattergeo": [
           {
            "marker": {
             "colorbar": {
              "outlinewidth": 0,
              "ticks": ""
             }
            },
            "type": "scattergeo"
           }
          ],
          "scattergl": [
           {
            "marker": {
             "colorbar": {
              "outlinewidth": 0,
              "ticks": ""
             }
            },
            "type": "scattergl"
           }
          ],
          "scattermapbox": [
           {
            "marker": {
             "colorbar": {
              "outlinewidth": 0,
              "ticks": ""
             }
            },
            "type": "scattermapbox"
           }
          ],
          "scatterpolar": [
           {
            "marker": {
             "colorbar": {
              "outlinewidth": 0,
              "ticks": ""
             }
            },
            "type": "scatterpolar"
           }
          ],
          "scatterpolargl": [
           {
            "marker": {
             "colorbar": {
              "outlinewidth": 0,
              "ticks": ""
             }
            },
            "type": "scatterpolargl"
           }
          ],
          "scatterternary": [
           {
            "marker": {
             "colorbar": {
              "outlinewidth": 0,
              "ticks": ""
             }
            },
            "type": "scatterternary"
           }
          ],
          "surface": [
           {
            "colorbar": {
             "outlinewidth": 0,
             "ticks": ""
            },
            "type": "surface"
           }
          ],
          "table": [
           {
            "cells": {
             "fill": {
              "color": "#EBF0F8"
             },
             "line": {
              "color": "white"
             }
            },
            "header": {
             "fill": {
              "color": "#C8D4E3"
             },
             "line": {
              "color": "white"
             }
            },
            "type": "table"
           }
          ]
         },
         "layout": {
          "annotationdefaults": {
           "arrowcolor": "#506784",
           "arrowhead": 0,
           "arrowwidth": 1
          },
          "colorscale": {
           "diverging": [
            [
             0,
             "#8e0152"
            ],
            [
             0.1,
             "#c51b7d"
            ],
            [
             0.2,
             "#de77ae"
            ],
            [
             0.3,
             "#f1b6da"
            ],
            [
             0.4,
             "#fde0ef"
            ],
            [
             0.5,
             "#f7f7f7"
            ],
            [
             0.6,
             "#e6f5d0"
            ],
            [
             0.7,
             "#b8e186"
            ],
            [
             0.8,
             "#7fbc41"
            ],
            [
             0.9,
             "#4d9221"
            ],
            [
             1,
             "#276419"
            ]
           ],
           "sequential": [
            [
             0,
             "#0508b8"
            ],
            [
             0.0893854748603352,
             "#1910d8"
            ],
            [
             0.1787709497206704,
             "#3c19f0"
            ],
            [
             0.2681564245810056,
             "#6b1cfb"
            ],
            [
             0.3575418994413408,
             "#981cfd"
            ],
            [
             0.44692737430167595,
             "#bf1cfd"
            ],
            [
             0.5363128491620112,
             "#dd2bfd"
            ],
            [
             0.6256983240223464,
             "#f246fe"
            ],
            [
             0.7150837988826816,
             "#fc67fd"
            ],
            [
             0.8044692737430168,
             "#fe88fc"
            ],
            [
             0.8938547486033519,
             "#fea5fd"
            ],
            [
             0.9832402234636871,
             "#febefe"
            ],
            [
             1,
             "#fec3fe"
            ]
           ],
           "sequentialminus": [
            [
             0,
             "#0508b8"
            ],
            [
             0.0893854748603352,
             "#1910d8"
            ],
            [
             0.1787709497206704,
             "#3c19f0"
            ],
            [
             0.2681564245810056,
             "#6b1cfb"
            ],
            [
             0.3575418994413408,
             "#981cfd"
            ],
            [
             0.44692737430167595,
             "#bf1cfd"
            ],
            [
             0.5363128491620112,
             "#dd2bfd"
            ],
            [
             0.6256983240223464,
             "#f246fe"
            ],
            [
             0.7150837988826816,
             "#fc67fd"
            ],
            [
             0.8044692737430168,
             "#fe88fc"
            ],
            [
             0.8938547486033519,
             "#fea5fd"
            ],
            [
             0.9832402234636871,
             "#febefe"
            ],
            [
             1,
             "#fec3fe"
            ]
           ]
          },
          "colorway": [
           "#636efa",
           "#EF553B",
           "#00cc96",
           "#ab63fa",
           "#19d3f3",
           "#e763fa",
           "#FECB52",
           "#FFA15A",
           "#FF6692",
           "#B6E880"
          ],
          "font": {
           "color": "#2a3f5f"
          },
          "geo": {
           "bgcolor": "white",
           "lakecolor": "white",
           "landcolor": "#E5ECF6",
           "showlakes": true,
           "showland": true,
           "subunitcolor": "white"
          },
          "hoverlabel": {
           "align": "left"
          },
          "hovermode": "closest",
          "legend": {
           "itemsizing": "constant"
          },
          "mapbox": {
           "style": "light"
          },
          "paper_bgcolor": "white",
          "plot_bgcolor": "#E5ECF6",
          "polar": {
           "angularaxis": {
            "gridcolor": "white",
            "linecolor": "white",
            "ticks": ""
           },
           "bgcolor": "#E5ECF6",
           "radialaxis": {
            "gridcolor": "white",
            "linecolor": "white",
            "ticks": ""
           }
          },
          "scene": {
           "xaxis": {
            "backgroundcolor": "#E5ECF6",
            "gridcolor": "white",
            "gridwidth": 2,
            "linecolor": "white",
            "showbackground": true,
            "ticks": "",
            "zerolinecolor": "white"
           },
           "yaxis": {
            "backgroundcolor": "#E5ECF6",
            "gridcolor": "white",
            "gridwidth": 2,
            "linecolor": "white",
            "showbackground": true,
            "ticks": "",
            "zerolinecolor": "white"
           },
           "zaxis": {
            "backgroundcolor": "#E5ECF6",
            "gridcolor": "white",
            "gridwidth": 2,
            "linecolor": "white",
            "showbackground": true,
            "ticks": "",
            "zerolinecolor": "white"
           }
          },
          "shapedefaults": {
           "fillcolor": "#506784",
           "line": {
            "width": 0
           },
           "opacity": 0.4
          },
          "ternary": {
           "aaxis": {
            "gridcolor": "white",
            "linecolor": "white",
            "ticks": ""
           },
           "baxis": {
            "gridcolor": "white",
            "linecolor": "white",
            "ticks": ""
           },
           "bgcolor": "#E5ECF6",
           "caxis": {
            "gridcolor": "white",
            "linecolor": "white",
            "ticks": ""
           }
          },
          "title": {
           "x": 0.05
          },
          "xaxis": {
           "automargin": true,
           "gridcolor": "white",
           "linecolor": "white",
           "ticks": "",
           "zerolinecolor": "white",
           "zerolinewidth": 2
          },
          "yaxis": {
           "automargin": true,
           "gridcolor": "white",
           "linecolor": "white",
           "ticks": "",
           "zerolinecolor": "white",
           "zerolinewidth": 2
          }
         }
        },
        "title": {
         "text": "Core Skills in Maths (Sushila Birla Girls^ School-Kolkata-CBSE)"
        },
        "width": 2000,
        "xaxis": {
         "title": {
          "text": "year"
         }
        },
        "xaxis2": {
         "matches": "x",
         "title": {
          "text": "year"
         }
        },
        "xaxis3": {
         "matches": "x",
         "title": {
          "text": "year"
         }
        },
        "xaxis4": {
         "matches": "x",
         "title": {
          "text": "year"
         }
        },
        "yaxis": {
         "title": {
          "text": "skill_delta"
         }
        },
        "yaxis2": {
         "matches": "y",
         "title": {
          "text": "skill_delta"
         }
        },
        "yaxis3": {
         "matches": "y",
         "title": {
          "text": "skill_delta"
         }
        },
        "yaxis4": {
         "matches": "y",
         "title": {
          "text": "skill_delta"
         }
        },
        "yaxis5": {
         "matches": "y",
         "title": {
          "text": "skill_delta"
         }
        },
        "yaxis6": {
         "matches": "y",
         "title": {
          "text": "skill_delta"
         }
        },
        "yaxis7": {
         "matches": "y",
         "title": {
          "text": "skill_delta"
         }
        },
        "yaxis8": {
         "matches": "y",
         "title": {
          "text": "skill_delta"
         }
        }
       }
      },
      "text/html": [
       "<div>\n",
       "        \n",
       "        \n",
       "            <div id=\"9426cdad-5302-4483-b7fb-d00acdcb0a56\" class=\"plotly-graph-div\"></div>\n",
       "            <script type=\"text/javascript\">\n",
       "                require([\"plotly\"], function(Plotly) {\n",
       "                    window.PLOTLYENV=window.PLOTLYENV || {};\n",
       "                    window.PLOTLYENV.BASE_URL='https://plot.ly';\n",
       "                    \n",
       "                if (document.getElementById(\"9426cdad-5302-4483-b7fb-d00acdcb0a56\")) {\n",
       "                    Plotly.newPlot(\n",
       "                        '9426cdad-5302-4483-b7fb-d00acdcb0a56',\n",
       "                        [{\"hovertemplate\": \"class=3<br>skill_name=Intermediate Concepts, Geometry and Algebra<br>skill_name=Intermediate Concepts, Geometry and Algebra<br>year=%{x}<br>skill_delta=%{y}<br>studentCount=%{marker.size}<extra></extra>\", \"legendgroup\": \"skill_name=Intermediate Concepts, Geometry and Algebra\", \"marker\": {\"color\": \"#636efa\", \"size\": [108, 19, 74, 75, 106, 109], \"sizemode\": \"area\", \"sizeref\": 1.14, \"symbol\": \"circle\"}, \"mode\": \"markers\", \"name\": \"skill_name=Intermediate Concepts, Geometry and Algebra\", \"showlegend\": true, \"type\": \"scatter\", \"uid\": \"7018f072-fb95-485f-b9e4-4705b6c75ebc\", \"x\": [\"2018\", \"2007\", \"2008\", \"2009\", \"2014\", \"2016\"], \"xaxis\": \"x\", \"y\": [-4.329999999999998, 5.339999999999996, -7.800000000000004, 2.219999999999999, 0.960000000000008, -1.8999999999999986], \"yaxis\": \"y\"}, {\"hovertemplate\": \"<b>LOWESS trendline</b><br><br>class=3<br>skill_name=Intermediate Concepts, Geometry and Algebra<br>skill_name=Intermediate Concepts, Geometry and Algebra<br>year=%{x}<br>skill_delta=%{y} <b>(trend)</b><extra></extra>\", \"legendgroup\": \"skill_name=Intermediate Concepts, Geometry and Algebra\", \"marker\": {\"color\": \"#636efa\", \"symbol\": \"circle\"}, \"mode\": \"lines\", \"name\": \"skill_name=Intermediate Concepts, Geometry and Algebra\", \"showlegend\": false, \"type\": \"scatter\", \"uid\": \"d01f4de1-6041-4467-920e-46eb08f972ec\", \"x\": [2007.0, 2008.0, 2009.0, 2014.0, 2016.0, 2018.0], \"xaxis\": \"x\", \"y\": [5.3400000000013055, 3.7799999999999976, 2.2200000000000197, 0.9368225752117603, -1.7390436691174327, -4.380371735894711], \"yaxis\": \"y\"}, {\"hovertemplate\": \"class=3<br>skill_name=Number sense, Computations and Basic Arithmetic<br>skill_name=Number sense, Computations and Basic Arithmetic<br>year=%{x}<br>skill_delta=%{y}<br>studentCount=%{marker.size}<extra></extra>\", \"legendgroup\": \"skill_name=Number sense, Computations and Basic Arithmetic\", \"marker\": {\"color\": \"#EF553B\", \"size\": [108, 19, 74, 75, 106, 109], \"sizemode\": \"area\", \"sizeref\": 1.14, \"symbol\": \"circle\"}, \"mode\": \"markers\", \"name\": \"skill_name=Number sense, Computations and Basic Arithmetic\", \"showlegend\": true, \"type\": \"scatter\", \"uid\": \"f4c25ba0-e70f-4053-89e6-e03f8c2f6a24\", \"x\": [\"2018\", \"2007\", \"2008\", \"2009\", \"2014\", \"2016\"], \"xaxis\": \"x2\", \"y\": [9.370000000000005, 13.769999999999996, -3.1499999999999986, 1.4899999999999949, 5.929999999999993, 13.380000000000003], \"yaxis\": \"y\"}, {\"hovertemplate\": \"<b>LOWESS trendline</b><br><br>class=3<br>skill_name=Number sense, Computations and Basic Arithmetic<br>skill_name=Number sense, Computations and Basic Arithmetic<br>year=%{x}<br>skill_delta=%{y} <b>(trend)</b><extra></extra>\", \"legendgroup\": \"skill_name=Number sense, Computations and Basic Arithmetic\", \"marker\": {\"color\": \"#EF553B\", \"symbol\": \"circle\"}, \"mode\": \"lines\", \"name\": \"skill_name=Number sense, Computations and Basic Arithmetic\", \"showlegend\": false, \"type\": \"scatter\", \"uid\": \"800059ef-edba-4b0a-bfb6-ff16d6b01ad9\", \"x\": [2007.0, 2008.0, 2009.0, 2014.0, 2016.0, 2018.0], \"xaxis\": \"x2\", \"y\": [11.203713425144903, 5.0013952309226655, -0.9941116970937516, 6.6856344253627356, 9.527918709418099, 11.053013264472746], \"yaxis\": \"y\"}, {\"hovertemplate\": \"class=3<br>skill_name=Problem Solving, Advanced Problems<br>skill_name=Problem Solving, Advanced Problems<br>year=%{x}<br>skill_delta=%{y}<br>studentCount=%{marker.size}<extra></extra>\", \"legendgroup\": \"skill_name=Problem Solving, Advanced Problems\", \"marker\": {\"color\": \"#00cc96\", \"size\": [108, 19, 74, 75, 106, 109], \"sizemode\": \"area\", \"sizeref\": 1.14, \"symbol\": \"circle\"}, \"mode\": \"markers\", \"name\": \"skill_name=Problem Solving, Advanced Problems\", \"showlegend\": true, \"type\": \"scatter\", \"uid\": \"a6bbf136-973d-485e-82a9-b3838309db23\", \"x\": [\"2018\", \"2007\", \"2008\", \"2009\", \"2014\", \"2016\"], \"xaxis\": \"x3\", \"y\": [7.640000000000008, -2.030000000000001, 2.210000000000001, 5.420000000000002, -4.780000000000001, 11.719999999999999], \"yaxis\": \"y\"}, {\"hovertemplate\": \"<b>LOWESS trendline</b><br><br>class=3<br>skill_name=Problem Solving, Advanced Problems<br>skill_name=Problem Solving, Advanced Problems<br>year=%{x}<br>skill_delta=%{y} <b>(trend)</b><extra></extra>\", \"legendgroup\": \"skill_name=Problem Solving, Advanced Problems\", \"marker\": {\"color\": \"#00cc96\", \"symbol\": \"circle\"}, \"mode\": \"lines\", \"name\": \"skill_name=Problem Solving, Advanced Problems\", \"showlegend\": false, \"type\": \"scatter\", \"uid\": \"848742c3-773a-4030-bc26-ca9e581dfe45\", \"x\": [2007.0, 2008.0, 2009.0, 2014.0, 2016.0, 2018.0], \"xaxis\": \"x3\", \"y\": [-1.8954932156017525, 1.832807191115834, 5.550014722569366, -4.7800000000002605, 1.4300000000000033, 7.640000000000136], \"yaxis\": \"y\"}, {\"hovertemplate\": \"class=3<br>skill_name=Word and Application Problems<br>skill_name=Word and Application Problems<br>year=%{x}<br>skill_delta=%{y}<br>studentCount=%{marker.size}<extra></extra>\", \"legendgroup\": \"skill_name=Word and Application Problems\", \"marker\": {\"color\": \"#ab63fa\", \"size\": [108, 19, 74, 75, 106, 109], \"sizemode\": \"area\", \"sizeref\": 1.14, \"symbol\": \"circle\"}, \"mode\": \"markers\", \"name\": \"skill_name=Word and Application Problems\", \"showlegend\": true, \"type\": \"scatter\", \"uid\": \"e08d14cf-a260-49db-ae59-3e28a86a495d\", \"x\": [\"2018\", \"2007\", \"2008\", \"2009\", \"2014\", \"2016\"], \"xaxis\": \"x4\", \"y\": [7.789999999999999, -3.1000000000000014, -3.1099999999999994, 2.979999999999997, 1.2800000000000011, 7.550000000000004], \"yaxis\": \"y\"}, {\"hovertemplate\": \"<b>LOWESS trendline</b><br><br>class=3<br>skill_name=Word and Application Problems<br>skill_name=Word and Application Problems<br>year=%{x}<br>skill_delta=%{y} <b>(trend)</b><extra></extra>\", \"legendgroup\": \"skill_name=Word and Application Problems\", \"marker\": {\"color\": \"#ab63fa\", \"symbol\": \"circle\"}, \"mode\": \"lines\", \"name\": \"skill_name=Word and Application Problems\", \"showlegend\": false, \"type\": \"scatter\", \"uid\": \"7fdfcc25-49c2-432e-a856-dd73b29861a7\", \"x\": [2007.0, 2008.0, 2009.0, 2014.0, 2016.0, 2018.0], \"xaxis\": \"x4\", \"y\": [-3.8260829363009687, -0.8037147073927626, 2.2771669131591654, 1.6194765815114636, 5.305472941766142, 8.491571811468566], \"yaxis\": \"y\"}, {\"hovertemplate\": \"class=4<br>skill_name=Intermediate Concepts, Geometry and Algebra<br>skill_name=Intermediate Concepts, Geometry and Algebra<br>year=%{x}<br>skill_delta=%{y}<br>studentCount=%{marker.size}<extra></extra>\", \"legendgroup\": \"skill_name=Intermediate Concepts, Geometry and Algebra\", \"marker\": {\"color\": \"#636efa\", \"size\": [113, 14, 72, 75, 104, 111], \"sizemode\": \"area\", \"sizeref\": 1.14, \"symbol\": \"circle\"}, \"mode\": \"markers\", \"name\": \"skill_name=Intermediate Concepts, Geometry and Algebra\", \"showlegend\": false, \"type\": \"scatter\", \"uid\": \"554464db-3edc-42a8-aeeb-e55e49508569\", \"x\": [\"2018\", \"2007\", \"2008\", \"2009\", \"2014\", \"2016\"], \"xaxis\": \"x\", \"y\": [7.410000000000004, 0.11999999999999744, -0.22999999999999687, 4.960000000000001, 1.3600000000000065, -5.770000000000003], \"yaxis\": \"y2\"}, {\"hovertemplate\": \"<b>LOWESS trendline</b><br><br>class=4<br>skill_name=Intermediate Concepts, Geometry and Algebra<br>skill_name=Intermediate Concepts, Geometry and Algebra<br>year=%{x}<br>skill_delta=%{y} <b>(trend)</b><extra></extra>\", \"legendgroup\": \"skill_name=Intermediate Concepts, Geometry and Algebra\", \"marker\": {\"color\": \"#636efa\", \"symbol\": \"circle\"}, \"mode\": \"lines\", \"name\": \"skill_name=Intermediate Concepts, Geometry and Algebra\", \"showlegend\": false, \"type\": \"scatter\", \"uid\": \"315316fe-4760-4b23-8eac-efa5a159f2f4\", \"x\": [2007.0, 2008.0, 2009.0, 2014.0, 2016.0, 2018.0], \"xaxis\": \"x\", \"y\": [-0.6377139781687264, 1.7635216361447763, 4.228016532504699, 1.3599999999999455, 4.385000000000005, 7.4100000000001165], \"yaxis\": \"y2\"}, {\"hovertemplate\": \"class=4<br>skill_name=Number sense, Computations and Basic Arithmetic<br>skill_name=Number sense, Computations and Basic Arithmetic<br>year=%{x}<br>skill_delta=%{y}<br>studentCount=%{marker.size}<extra></extra>\", \"legendgroup\": \"skill_name=Number sense, Computations and Basic Arithmetic\", \"marker\": {\"color\": \"#EF553B\", \"size\": [113, 14, 72, 75, 104, 111], \"sizemode\": \"area\", \"sizeref\": 1.14, \"symbol\": \"circle\"}, \"mode\": \"markers\", \"name\": \"skill_name=Number sense, Computations and Basic Arithmetic\", \"showlegend\": false, \"type\": \"scatter\", \"uid\": \"011cdac2-096d-4b91-a65c-53eeae9bbb9a\", \"x\": [\"2018\", \"2007\", \"2008\", \"2009\", \"2014\", \"2016\"], \"xaxis\": \"x2\", \"y\": [-0.12000000000000455, 6.450000000000003, -0.20000000000000284, 7.899999999999999, 0.05000000000000426, -0.9599999999999937], \"yaxis\": \"y2\"}, {\"hovertemplate\": \"<b>LOWESS trendline</b><br><br>class=4<br>skill_name=Number sense, Computations and Basic Arithmetic<br>skill_name=Number sense, Computations and Basic Arithmetic<br>year=%{x}<br>skill_delta=%{y} <b>(trend)</b><extra></extra>\", \"legendgroup\": \"skill_name=Number sense, Computations and Basic Arithmetic\", \"marker\": {\"color\": \"#EF553B\", \"symbol\": \"circle\"}, \"mode\": \"lines\", \"name\": \"skill_name=Number sense, Computations and Basic Arithmetic\", \"showlegend\": false, \"type\": \"scatter\", \"uid\": \"0161cced-b580-4395-b926-3b2a8a6bf8a8\", \"x\": [2007.0, 2008.0, 2009.0, 2014.0, 2016.0, 2018.0], \"xaxis\": \"x2\", \"y\": [6.449999999999616, 7.175000000000175, 7.899999999998668, -0.05229107437676259, -0.2749800326283486, -0.3425481692665576], \"yaxis\": \"y2\"}, {\"hovertemplate\": \"class=4<br>skill_name=Problem Solving, Advanced Problems<br>skill_name=Problem Solving, Advanced Problems<br>year=%{x}<br>skill_delta=%{y}<br>studentCount=%{marker.size}<extra></extra>\", \"legendgroup\": \"skill_name=Problem Solving, Advanced Problems\", \"marker\": {\"color\": \"#00cc96\", \"size\": [113, 14, 72, 75, 104, 111], \"sizemode\": \"area\", \"sizeref\": 1.14, \"symbol\": \"circle\"}, \"mode\": \"markers\", \"name\": \"skill_name=Problem Solving, Advanced Problems\", \"showlegend\": false, \"type\": \"scatter\", \"uid\": \"cd72a95e-f35f-40a0-84b0-967903d3c666\", \"x\": [\"2018\", \"2007\", \"2008\", \"2009\", \"2014\", \"2016\"], \"xaxis\": \"x3\", \"y\": [-7.079999999999998, 2.5900000000000034, -5.050000000000004, 1.1499999999999986, -5.57, -3.9100000000000037], \"yaxis\": \"y2\"}, {\"hovertemplate\": \"<b>LOWESS trendline</b><br><br>class=4<br>skill_name=Problem Solving, Advanced Problems<br>skill_name=Problem Solving, Advanced Problems<br>year=%{x}<br>skill_delta=%{y} <b>(trend)</b><extra></extra>\", \"legendgroup\": \"skill_name=Problem Solving, Advanced Problems\", \"marker\": {\"color\": \"#00cc96\", \"symbol\": \"circle\"}, \"mode\": \"lines\", \"name\": \"skill_name=Problem Solving, Advanced Problems\", \"showlegend\": false, \"type\": \"scatter\", \"uid\": \"a50f1f6c-d948-475b-8c44-9e1dd7baf2e9\", \"x\": [2007.0, 2008.0, 2009.0, 2014.0, 2016.0, 2018.0], \"xaxis\": \"x3\", \"y\": [1.2216869011462446, 0.46918236385127193, -0.17757022521292254, -5.244624159578633, -5.509160664094532, -6.351871156399696], \"yaxis\": \"y2\"}, {\"hovertemplate\": \"class=4<br>skill_name=Word and Application Problems<br>skill_name=Word and Application Problems<br>year=%{x}<br>skill_delta=%{y}<br>studentCount=%{marker.size}<extra></extra>\", \"legendgroup\": \"skill_name=Word and Application Problems\", \"marker\": {\"color\": \"#ab63fa\", \"size\": [113, 14, 72, 75, 104, 111], \"sizemode\": \"area\", \"sizeref\": 1.14, \"symbol\": \"circle\"}, \"mode\": \"markers\", \"name\": \"skill_name=Word and Application Problems\", \"showlegend\": false, \"type\": \"scatter\", \"uid\": \"ff133adc-07ee-4004-a019-aa4a4eeba374\", \"x\": [\"2018\", \"2007\", \"2008\", \"2009\", \"2014\", \"2016\"], \"xaxis\": \"x4\", \"y\": [0.509999999999998, 4.030000000000001, -0.01999999999999602, 0.46999999999999886, -0.20000000000000284, 3.190000000000005], \"yaxis\": \"y2\"}, {\"hovertemplate\": \"<b>LOWESS trendline</b><br><br>class=4<br>skill_name=Word and Application Problems<br>skill_name=Word and Application Problems<br>year=%{x}<br>skill_delta=%{y} <b>(trend)</b><extra></extra>\", \"legendgroup\": \"skill_name=Word and Application Problems\", \"marker\": {\"color\": \"#ab63fa\", \"symbol\": \"circle\"}, \"mode\": \"lines\", \"name\": \"skill_name=Word and Application Problems\", \"showlegend\": false, \"type\": \"scatter\", \"uid\": \"181c1286-f2ac-4e64-9651-d8ff66d8641e\", \"x\": [2007.0, 2008.0, 2009.0, 2014.0, 2016.0, 2018.0], \"xaxis\": \"x4\", \"y\": [3.4324456937637677, 1.6376170384925093, -0.10781334408721677, 0.08914206139465378, 0.7501772300632485, 1.054376825811946], \"yaxis\": \"y2\"}, {\"hovertemplate\": \"class=5<br>skill_name=Intermediate Concepts, Geometry and Algebra<br>skill_name=Intermediate Concepts, Geometry and Algebra<br>year=%{x}<br>skill_delta=%{y}<br>studentCount=%{marker.size}<extra></extra>\", \"legendgroup\": \"skill_name=Intermediate Concepts, Geometry and Algebra\", \"marker\": {\"color\": \"#636efa\", \"size\": [112, 16, 73, 75, 108, 107], \"sizemode\": \"area\", \"sizeref\": 1.14, \"symbol\": \"circle\"}, \"mode\": \"markers\", \"name\": \"skill_name=Intermediate Concepts, Geometry and Algebra\", \"showlegend\": false, \"type\": \"scatter\", \"uid\": \"c630da85-4161-4bca-952c-41ec62e20841\", \"x\": [\"2018\", \"2007\", \"2008\", \"2009\", \"2014\", \"2016\"], \"xaxis\": \"x\", \"y\": [1.0399999999999991, -1.4299999999999997, -0.01999999999999602, 3.5700000000000003, 4.57, -2.460000000000001], \"yaxis\": \"y3\"}, {\"hovertemplate\": \"<b>LOWESS trendline</b><br><br>class=5<br>skill_name=Intermediate Concepts, Geometry and Algebra<br>skill_name=Intermediate Concepts, Geometry and Algebra<br>year=%{x}<br>skill_delta=%{y} <b>(trend)</b><extra></extra>\", \"legendgroup\": \"skill_name=Intermediate Concepts, Geometry and Algebra\", \"marker\": {\"color\": \"#636efa\", \"symbol\": \"circle\"}, \"mode\": \"lines\", \"name\": \"skill_name=Intermediate Concepts, Geometry and Algebra\", \"showlegend\": false, \"type\": \"scatter\", \"uid\": \"b41479be-d7c1-43ff-9625-5f31f7c7e002\", \"x\": [2007.0, 2008.0, 2009.0, 2014.0, 2016.0, 2018.0], \"xaxis\": \"x\", \"y\": [-1.7218970240731162, 0.7709034639753717, 3.2879358877985307, 4.570000000000131, 2.8049999999999997, 1.0400000000000071], \"yaxis\": \"y3\"}, {\"hovertemplate\": \"class=5<br>skill_name=Number sense, Computations and Basic Arithmetic<br>skill_name=Number sense, Computations and Basic Arithmetic<br>year=%{x}<br>skill_delta=%{y}<br>studentCount=%{marker.size}<extra></extra>\", \"legendgroup\": \"skill_name=Number sense, Computations and Basic Arithmetic\", \"marker\": {\"color\": \"#EF553B\", \"size\": [112, 16, 73, 75, 108, 107], \"sizemode\": \"area\", \"sizeref\": 1.14, \"symbol\": \"circle\"}, \"mode\": \"markers\", \"name\": \"skill_name=Number sense, Computations and Basic Arithmetic\", \"showlegend\": false, \"type\": \"scatter\", \"uid\": \"c2bf9231-45ac-4c8f-a8dc-86f7a6121090\", \"x\": [\"2018\", \"2007\", \"2008\", \"2009\", \"2014\", \"2016\"], \"xaxis\": \"x2\", \"y\": [9.189999999999998, 10.800000000000004, -2.760000000000005, 7.059999999999995, 6.700000000000003, 6.280000000000001], \"yaxis\": \"y3\"}, {\"hovertemplate\": \"<b>LOWESS trendline</b><br><br>class=5<br>skill_name=Number sense, Computations and Basic Arithmetic<br>skill_name=Number sense, Computations and Basic Arithmetic<br>year=%{x}<br>skill_delta=%{y} <b>(trend)</b><extra></extra>\", \"legendgroup\": \"skill_name=Number sense, Computations and Basic Arithmetic\", \"marker\": {\"color\": \"#EF553B\", \"symbol\": \"circle\"}, \"mode\": \"lines\", \"name\": \"skill_name=Number sense, Computations and Basic Arithmetic\", \"showlegend\": false, \"type\": \"scatter\", \"uid\": \"fcb01f7f-cc19-4eb5-8005-a037b4d3109b\", \"x\": [2007.0, 2008.0, 2009.0, 2014.0, 2016.0, 2018.0], \"xaxis\": \"x2\", \"y\": [10.80000000000131, 8.930000000000186, 7.059999999998869, 6.49411375787998, 7.443242205018137, 8.733931241002848], \"yaxis\": \"y3\"}, {\"hovertemplate\": \"class=5<br>skill_name=Problem Solving, Advanced Problems<br>skill_name=Problem Solving, Advanced Problems<br>year=%{x}<br>skill_delta=%{y}<br>studentCount=%{marker.size}<extra></extra>\", \"legendgroup\": \"skill_name=Problem Solving, Advanced Problems\", \"marker\": {\"color\": \"#00cc96\", \"size\": [112, 16, 73, 75, 108, 107], \"sizemode\": \"area\", \"sizeref\": 1.14, \"symbol\": \"circle\"}, \"mode\": \"markers\", \"name\": \"skill_name=Problem Solving, Advanced Problems\", \"showlegend\": false, \"type\": \"scatter\", \"uid\": \"26e2cd0a-956b-4b74-8bce-9c99758eac0d\", \"x\": [\"2018\", \"2007\", \"2008\", \"2009\", \"2014\", \"2016\"], \"xaxis\": \"x3\", \"y\": [5.519999999999996, 3.9800000000000004, -2.7200000000000024, 4.829999999999998, 2.770000000000003, 5.57], \"yaxis\": \"y3\"}, {\"hovertemplate\": \"<b>LOWESS trendline</b><br><br>class=5<br>skill_name=Problem Solving, Advanced Problems<br>skill_name=Problem Solving, Advanced Problems<br>year=%{x}<br>skill_delta=%{y} <b>(trend)</b><extra></extra>\", \"legendgroup\": \"skill_name=Problem Solving, Advanced Problems\", \"marker\": {\"color\": \"#00cc96\", \"symbol\": \"circle\"}, \"mode\": \"lines\", \"name\": \"skill_name=Problem Solving, Advanced Problems\", \"showlegend\": false, \"type\": \"scatter\", \"uid\": \"9c5fab65-f245-4cf6-8a65-5f409ebe5329\", \"x\": [2007.0, 2008.0, 2009.0, 2014.0, 2016.0, 2018.0], \"xaxis\": \"x3\", \"y\": [3.9800000000004476, 4.405000000000059, 4.8300000000006165, 2.9616722575064864, 4.62550198988456, 5.9490584684286185], \"yaxis\": \"y3\"}, {\"hovertemplate\": \"class=5<br>skill_name=Word and Application Problems<br>skill_name=Word and Application Problems<br>year=%{x}<br>skill_delta=%{y}<br>studentCount=%{marker.size}<extra></extra>\", \"legendgroup\": \"skill_name=Word and Application Problems\", \"marker\": {\"color\": \"#ab63fa\", \"size\": [112, 16, 73, 75, 108, 107], \"sizemode\": \"area\", \"sizeref\": 1.14, \"symbol\": \"circle\"}, \"mode\": \"markers\", \"name\": \"skill_name=Word and Application Problems\", \"showlegend\": false, \"type\": \"scatter\", \"uid\": \"466a7c74-98ea-4fa4-b7a0-952271f0d2c4\", \"x\": [\"2018\", \"2007\", \"2008\", \"2009\", \"2014\", \"2016\"], \"xaxis\": \"x4\", \"y\": [5.269999999999996, 11.670000000000002, 2.490000000000002, 5.3700000000000045, 6.170000000000002, 5.450000000000003], \"yaxis\": \"y3\"}, {\"hovertemplate\": \"<b>LOWESS trendline</b><br><br>class=5<br>skill_name=Word and Application Problems<br>skill_name=Word and Application Problems<br>year=%{x}<br>skill_delta=%{y} <b>(trend)</b><extra></extra>\", \"legendgroup\": \"skill_name=Word and Application Problems\", \"marker\": {\"color\": \"#ab63fa\", \"symbol\": \"circle\"}, \"mode\": \"lines\", \"name\": \"skill_name=Word and Application Problems\", \"showlegend\": false, \"type\": \"scatter\", \"uid\": \"67d495af-28ff-4fac-b32b-6cbd95196fdb\", \"x\": [2007.0, 2008.0, 2009.0, 2014.0, 2016.0, 2018.0], \"xaxis\": \"x4\", \"y\": [11.670000000002858, 8.520000000000003, 5.370000000000056, 6.140936354439544, 5.6523022444562185, 5.20690071700515], \"yaxis\": \"y3\"}, {\"hovertemplate\": \"class=6<br>skill_name=Intermediate Concepts, Geometry and Algebra<br>skill_name=Intermediate Concepts, Geometry and Algebra<br>year=%{x}<br>skill_delta=%{y}<br>studentCount=%{marker.size}<extra></extra>\", \"legendgroup\": \"skill_name=Intermediate Concepts, Geometry and Algebra\", \"marker\": {\"color\": \"#636efa\", \"size\": [111, 17, 74, 79, 82, 100], \"sizemode\": \"area\", \"sizeref\": 1.14, \"symbol\": \"circle\"}, \"mode\": \"markers\", \"name\": \"skill_name=Intermediate Concepts, Geometry and Algebra\", \"showlegend\": false, \"type\": \"scatter\", \"uid\": \"c980bb56-77ed-40fc-a200-ad85ed6e840f\", \"x\": [\"2018\", \"2007\", \"2008\", \"2009\", \"2014\", \"2016\"], \"xaxis\": \"x\", \"y\": [5.779999999999994, 10.770000000000003, -0.46000000000000085, 3.030000000000001, 10.219999999999999, 3.3599999999999994], \"yaxis\": \"y4\"}, {\"hovertemplate\": \"<b>LOWESS trendline</b><br><br>class=6<br>skill_name=Intermediate Concepts, Geometry and Algebra<br>skill_name=Intermediate Concepts, Geometry and Algebra<br>year=%{x}<br>skill_delta=%{y} <b>(trend)</b><extra></extra>\", \"legendgroup\": \"skill_name=Intermediate Concepts, Geometry and Algebra\", \"marker\": {\"color\": \"#636efa\", \"symbol\": \"circle\"}, \"mode\": \"lines\", \"name\": \"skill_name=Intermediate Concepts, Geometry and Algebra\", \"showlegend\": false, \"type\": \"scatter\", \"uid\": \"3d70c26b-f9dc-4673-a5eb-c985df69c3f5\", \"x\": [2007.0, 2008.0, 2009.0, 2014.0, 2016.0, 2018.0], \"xaxis\": \"x\", \"y\": [9.017878553711366, 5.105331066752144, 1.3339831084774847, 9.620720969717183, 6.525205318532402, 4.453680469926818], \"yaxis\": \"y4\"}, {\"hovertemplate\": \"class=6<br>skill_name=Number sense, Computations and Basic Arithmetic<br>skill_name=Number sense, Computations and Basic Arithmetic<br>year=%{x}<br>skill_delta=%{y}<br>studentCount=%{marker.size}<extra></extra>\", \"legendgroup\": \"skill_name=Number sense, Computations and Basic Arithmetic\", \"marker\": {\"color\": \"#EF553B\", \"size\": [111, 17, 74, 79, 82, 100], \"sizemode\": \"area\", \"sizeref\": 1.14, \"symbol\": \"circle\"}, \"mode\": \"markers\", \"name\": \"skill_name=Number sense, Computations and Basic Arithmetic\", \"showlegend\": false, \"type\": \"scatter\", \"uid\": \"d2288ac1-d545-43e0-ac55-1d730d678f37\", \"x\": [\"2018\", \"2007\", \"2008\", \"2009\", \"2014\", \"2016\"], \"xaxis\": \"x2\", \"y\": [4.580000000000005, 23.879999999999995, 11.43, 2.6299999999999955, 5.909999999999997, 5.789999999999999], \"yaxis\": \"y4\"}, {\"hovertemplate\": \"<b>LOWESS trendline</b><br><br>class=6<br>skill_name=Number sense, Computations and Basic Arithmetic<br>skill_name=Number sense, Computations and Basic Arithmetic<br>year=%{x}<br>skill_delta=%{y} <b>(trend)</b><extra></extra>\", \"legendgroup\": \"skill_name=Number sense, Computations and Basic Arithmetic\", \"marker\": {\"color\": \"#EF553B\", \"symbol\": \"circle\"}, \"mode\": \"lines\", \"name\": \"skill_name=Number sense, Computations and Basic Arithmetic\", \"showlegend\": false, \"type\": \"scatter\", \"uid\": \"e0036286-b38d-4536-85b1-7cf3d0159baa\", \"x\": [2007.0, 2008.0, 2009.0, 2014.0, 2016.0, 2018.0], \"xaxis\": \"x2\", \"y\": [23.61634902156756, 12.985300312883679, 2.373471952813351, 5.9835190216774246, 5.429440355030005, 4.744573124013427], \"yaxis\": \"y4\"}, {\"hovertemplate\": \"class=6<br>skill_name=Problem Solving, Advanced Problems<br>skill_name=Problem Solving, Advanced Problems<br>year=%{x}<br>skill_delta=%{y}<br>studentCount=%{marker.size}<extra></extra>\", \"legendgroup\": \"skill_name=Problem Solving, Advanced Problems\", \"marker\": {\"color\": \"#00cc96\", \"size\": [111, 17, 74, 79, 82, 100], \"sizemode\": \"area\", \"sizeref\": 1.14, \"symbol\": \"circle\"}, \"mode\": \"markers\", \"name\": \"skill_name=Problem Solving, Advanced Problems\", \"showlegend\": false, \"type\": \"scatter\", \"uid\": \"af706769-a968-4180-86f8-bc523927f825\", \"x\": [\"2018\", \"2007\", \"2008\", \"2009\", \"2014\", \"2016\"], \"xaxis\": \"x3\", \"y\": [13.300000000000004, 0.4299999999999997, 7.530000000000001, 4.850000000000001, 1.4699999999999989, 3.479999999999997], \"yaxis\": \"y4\"}, {\"hovertemplate\": \"<b>LOWESS trendline</b><br><br>class=6<br>skill_name=Problem Solving, Advanced Problems<br>skill_name=Problem Solving, Advanced Problems<br>year=%{x}<br>skill_delta=%{y} <b>(trend)</b><extra></extra>\", \"legendgroup\": \"skill_name=Problem Solving, Advanced Problems\", \"marker\": {\"color\": \"#00cc96\", \"symbol\": \"circle\"}, \"mode\": \"lines\", \"name\": \"skill_name=Problem Solving, Advanced Problems\", \"showlegend\": false, \"type\": \"scatter\", \"uid\": \"b57bc612-1b1f-4ecc-9072-17a92a51883a\", \"x\": [2007.0, 2008.0, 2009.0, 2014.0, 2016.0, 2018.0], \"xaxis\": \"x3\", \"y\": [1.5941132978724104, 3.8323819407060222, 5.9768373097217555, 0.9897617381496266, 6.234193251695446, 12.258588817844803], \"yaxis\": \"y4\"}, {\"hovertemplate\": \"class=6<br>skill_name=Word and Application Problems<br>skill_name=Word and Application Problems<br>year=%{x}<br>skill_delta=%{y}<br>studentCount=%{marker.size}<extra></extra>\", \"legendgroup\": \"skill_name=Word and Application Problems\", \"marker\": {\"color\": \"#ab63fa\", \"size\": [111, 17, 74, 79, 82, 100], \"sizemode\": \"area\", \"sizeref\": 1.14, \"symbol\": \"circle\"}, \"mode\": \"markers\", \"name\": \"skill_name=Word and Application Problems\", \"showlegend\": false, \"type\": \"scatter\", \"uid\": \"905379bf-b75a-4943-9930-5eebaa0dfed6\", \"x\": [\"2018\", \"2007\", \"2008\", \"2009\", \"2014\", \"2016\"], \"xaxis\": \"x4\", \"y\": [3.6700000000000017, 17.380000000000003, 7.100000000000001, 6.969999999999999, 7.600000000000001, 1.2199999999999989], \"yaxis\": \"y4\"}, {\"hovertemplate\": \"<b>LOWESS trendline</b><br><br>class=6<br>skill_name=Word and Application Problems<br>skill_name=Word and Application Problems<br>year=%{x}<br>skill_delta=%{y} <b>(trend)</b><extra></extra>\", \"legendgroup\": \"skill_name=Word and Application Problems\", \"marker\": {\"color\": \"#ab63fa\", \"symbol\": \"circle\"}, \"mode\": \"lines\", \"name\": \"skill_name=Word and Application Problems\", \"showlegend\": false, \"type\": \"scatter\", \"uid\": \"ac40a5b5-ca0e-4066-b973-dad84c07d17f\", \"x\": [2007.0, 2008.0, 2009.0, 2014.0, 2016.0, 2018.0], \"xaxis\": \"x4\", \"y\": [16.171845605991702, 10.937507495081313, 5.800531830915322, 7.071958479923818, 4.39052897910654, 2.540971768297513], \"yaxis\": \"y4\"}, {\"hovertemplate\": \"class=7<br>skill_name=Intermediate Concepts, Geometry and Algebra<br>skill_name=Intermediate Concepts, Geometry and Algebra<br>year=%{x}<br>skill_delta=%{y}<br>studentCount=%{marker.size}<extra></extra>\", \"legendgroup\": \"skill_name=Intermediate Concepts, Geometry and Algebra\", \"marker\": {\"color\": \"#636efa\", \"size\": [114, 4, 45, 74, 78, 99], \"sizemode\": \"area\", \"sizeref\": 1.14, \"symbol\": \"circle\"}, \"mode\": \"markers\", \"name\": \"skill_name=Intermediate Concepts, Geometry and Algebra\", \"showlegend\": false, \"type\": \"scatter\", \"uid\": \"888731f0-ed0a-402b-a640-31bdcecd6e7f\", \"x\": [\"2018\", \"2007\", \"2008\", \"2009\", \"2014\", \"2016\"], \"xaxis\": \"x\", \"y\": [7.550000000000004, 16.04, 11.64, 7.0, 13.07, 10.469999999999999], \"yaxis\": \"y5\"}, {\"hovertemplate\": \"<b>LOWESS trendline</b><br><br>class=7<br>skill_name=Intermediate Concepts, Geometry and Algebra<br>skill_name=Intermediate Concepts, Geometry and Algebra<br>year=%{x}<br>skill_delta=%{y} <b>(trend)</b><extra></extra>\", \"legendgroup\": \"skill_name=Intermediate Concepts, Geometry and Algebra\", \"marker\": {\"color\": \"#636efa\", \"symbol\": \"circle\"}, \"mode\": \"lines\", \"name\": \"skill_name=Intermediate Concepts, Geometry and Algebra\", \"showlegend\": false, \"type\": \"scatter\", \"uid\": \"51e5266c-e889-44d3-9fba-5f95d90fe24d\", \"x\": [2007.0, 2008.0, 2009.0, 2014.0, 2016.0, 2018.0], \"xaxis\": \"x\", \"y\": [16.07156757300259, 11.552350815785893, 7.03052490994603, 13.085279656203673, 10.341491789867744, 7.57880267956176], \"yaxis\": \"y5\"}, {\"hovertemplate\": \"class=7<br>skill_name=Number sense, Computations and Basic Arithmetic<br>skill_name=Number sense, Computations and Basic Arithmetic<br>year=%{x}<br>skill_delta=%{y}<br>studentCount=%{marker.size}<extra></extra>\", \"legendgroup\": \"skill_name=Number sense, Computations and Basic Arithmetic\", \"marker\": {\"color\": \"#EF553B\", \"size\": [114, 4, 45, 74, 78, 99], \"sizemode\": \"area\", \"sizeref\": 1.14, \"symbol\": \"circle\"}, \"mode\": \"markers\", \"name\": \"skill_name=Number sense, Computations and Basic Arithmetic\", \"showlegend\": false, \"type\": \"scatter\", \"uid\": \"72912b35-67a5-4f1a-b192-493037451b9f\", \"x\": [\"2018\", \"2007\", \"2008\", \"2009\", \"2014\", \"2016\"], \"xaxis\": \"x2\", \"y\": [6.279999999999994, 15.579999999999998, 14.329999999999998, 7.43, 12.060000000000002, 4.390000000000001], \"yaxis\": \"y5\"}, {\"hovertemplate\": \"<b>LOWESS trendline</b><br><br>class=7<br>skill_name=Number sense, Computations and Basic Arithmetic<br>skill_name=Number sense, Computations and Basic Arithmetic<br>year=%{x}<br>skill_delta=%{y} <b>(trend)</b><extra></extra>\", \"legendgroup\": \"skill_name=Number sense, Computations and Basic Arithmetic\", \"marker\": {\"color\": \"#EF553B\", \"symbol\": \"circle\"}, \"mode\": \"lines\", \"name\": \"skill_name=Number sense, Computations and Basic Arithmetic\", \"showlegend\": false, \"type\": \"scatter\", \"uid\": \"ee8a3b7c-e0b8-4019-8ab1-6f93b30252be\", \"x\": [2007.0, 2008.0, 2009.0, 2014.0, 2016.0, 2018.0], \"xaxis\": \"x2\", \"y\": [16.35479690776241, 12.299208289111043, 8.178863769827002, 11.752172154718908, 8.629942982482369, 5.784222551537886], \"yaxis\": \"y5\"}, {\"hovertemplate\": \"class=7<br>skill_name=Problem Solving, Advanced Problems<br>skill_name=Problem Solving, Advanced Problems<br>year=%{x}<br>skill_delta=%{y}<br>studentCount=%{marker.size}<extra></extra>\", \"legendgroup\": \"skill_name=Problem Solving, Advanced Problems\", \"marker\": {\"color\": \"#00cc96\", \"size\": [114, 4, 45, 74, 78, 99], \"sizemode\": \"area\", \"sizeref\": 1.14, \"symbol\": \"circle\"}, \"mode\": \"markers\", \"name\": \"skill_name=Problem Solving, Advanced Problems\", \"showlegend\": false, \"type\": \"scatter\", \"uid\": \"8338a995-6fb4-4e31-989b-d300c0c799e7\", \"x\": [\"2018\", \"2007\", \"2008\", \"2009\", \"2014\", \"2016\"], \"xaxis\": \"x3\", \"y\": [6.25, 4.949999999999999, 14.71, 13.990000000000002, 8.439999999999998, 2.6899999999999977], \"yaxis\": \"y5\"}, {\"hovertemplate\": \"<b>LOWESS trendline</b><br><br>class=7<br>skill_name=Problem Solving, Advanced Problems<br>skill_name=Problem Solving, Advanced Problems<br>year=%{x}<br>skill_delta=%{y} <b>(trend)</b><extra></extra>\", \"legendgroup\": \"skill_name=Problem Solving, Advanced Problems\", \"marker\": {\"color\": \"#00cc96\", \"symbol\": \"circle\"}, \"mode\": \"lines\", \"name\": \"skill_name=Problem Solving, Advanced Problems\", \"showlegend\": false, \"type\": \"scatter\", \"uid\": \"446c18a0-ed28-4be3-b8af-4afd16d6b298\", \"x\": [2007.0, 2008.0, 2009.0, 2014.0, 2016.0, 2018.0], \"xaxis\": \"x3\", \"y\": [6.197434290562855, 10.747726251389912, 15.197490286901978, 7.887735841169917, 6.049878058052988, 5.074287755292374], \"yaxis\": \"y5\"}, {\"hovertemplate\": \"class=7<br>skill_name=Word and Application Problems<br>skill_name=Word and Application Problems<br>year=%{x}<br>skill_delta=%{y}<br>studentCount=%{marker.size}<extra></extra>\", \"legendgroup\": \"skill_name=Word and Application Problems\", \"marker\": {\"color\": \"#ab63fa\", \"size\": [114, 4, 45, 74, 78, 99], \"sizemode\": \"area\", \"sizeref\": 1.14, \"symbol\": \"circle\"}, \"mode\": \"markers\", \"name\": \"skill_name=Word and Application Problems\", \"showlegend\": false, \"type\": \"scatter\", \"uid\": \"9dd84661-83ad-4a2f-8104-fa6ad8656072\", \"x\": [\"2018\", \"2007\", \"2008\", \"2009\", \"2014\", \"2016\"], \"xaxis\": \"x4\", \"y\": [3.0899999999999963, 19.68, 17.230000000000004, 11.379999999999995, 14.439999999999998, 7.449999999999996], \"yaxis\": \"y5\"}, {\"hovertemplate\": \"<b>LOWESS trendline</b><br><br>class=7<br>skill_name=Word and Application Problems<br>skill_name=Word and Application Problems<br>year=%{x}<br>skill_delta=%{y} <b>(trend)</b><extra></extra>\", \"legendgroup\": \"skill_name=Word and Application Problems\", \"marker\": {\"color\": \"#ab63fa\", \"symbol\": \"circle\"}, \"mode\": \"lines\", \"name\": \"skill_name=Word and Application Problems\", \"showlegend\": false, \"type\": \"scatter\", \"uid\": \"37ab97eb-9272-4913-b559-bc616ee9e951\", \"x\": [2007.0, 2008.0, 2009.0, 2014.0, 2016.0, 2018.0], \"xaxis\": \"x4\", \"y\": [20.08470196449428, 15.944529509037345, 11.77174303200469, 14.27687989370799, 8.372162537119536, 2.734832427238395], \"yaxis\": \"y5\"}, {\"hovertemplate\": \"class=8<br>skill_name=Intermediate Concepts, Geometry and Algebra<br>skill_name=Intermediate Concepts, Geometry and Algebra<br>year=%{x}<br>skill_delta=%{y}<br>studentCount=%{marker.size}<extra></extra>\", \"legendgroup\": \"skill_name=Intermediate Concepts, Geometry and Algebra\", \"marker\": {\"color\": \"#636efa\", \"size\": [103, 13, 52, 46, 77, 76], \"sizemode\": \"area\", \"sizeref\": 1.14, \"symbol\": \"circle\"}, \"mode\": \"markers\", \"name\": \"skill_name=Intermediate Concepts, Geometry and Algebra\", \"showlegend\": false, \"type\": \"scatter\", \"uid\": \"adf3d029-1296-439b-a11d-aa1fe1e038bd\", \"x\": [\"2018\", \"2007\", \"2008\", \"2009\", \"2014\", \"2016\"], \"xaxis\": \"x\", \"y\": [3.5800000000000054, 18.75, 12.21, 20.449999999999996, 7.75, 7.0], \"yaxis\": \"y6\"}, {\"hovertemplate\": \"<b>LOWESS trendline</b><br><br>class=8<br>skill_name=Intermediate Concepts, Geometry and Algebra<br>skill_name=Intermediate Concepts, Geometry and Algebra<br>year=%{x}<br>skill_delta=%{y} <b>(trend)</b><extra></extra>\", \"legendgroup\": \"skill_name=Intermediate Concepts, Geometry and Algebra\", \"marker\": {\"color\": \"#636efa\", \"symbol\": \"circle\"}, \"mode\": \"lines\", \"name\": \"skill_name=Intermediate Concepts, Geometry and Algebra\", \"showlegend\": false, \"type\": \"scatter\", \"uid\": \"6589423d-085b-43de-bfd6-bdb453e4e036\", \"x\": [2007.0, 2008.0, 2009.0, 2014.0, 2016.0, 2018.0], \"xaxis\": \"x\", \"y\": [18.750000000005794, 19.600000000000087, 20.44999999999796, 7.9283683272850105, 6.111171761474855, 3.97900770747903], \"yaxis\": \"y6\"}, {\"hovertemplate\": \"class=8<br>skill_name=Number sense, Computations and Basic Arithmetic<br>skill_name=Number sense, Computations and Basic Arithmetic<br>year=%{x}<br>skill_delta=%{y}<br>studentCount=%{marker.size}<extra></extra>\", \"legendgroup\": \"skill_name=Number sense, Computations and Basic Arithmetic\", \"marker\": {\"color\": \"#EF553B\", \"size\": [103, 13, 52, 46, 77, 76], \"sizemode\": \"area\", \"sizeref\": 1.14, \"symbol\": \"circle\"}, \"mode\": \"markers\", \"name\": \"skill_name=Number sense, Computations and Basic Arithmetic\", \"showlegend\": false, \"type\": \"scatter\", \"uid\": \"1c1ea78d-433e-4a3f-b090-888b343d1c88\", \"x\": [\"2018\", \"2007\", \"2008\", \"2009\", \"2014\", \"2016\"], \"xaxis\": \"x2\", \"y\": [0.8200000000000003, 22.689999999999998, 4.010000000000005, 21.340000000000003, 7.969999999999999, 0.27999999999999403], \"yaxis\": \"y6\"}, {\"hovertemplate\": \"<b>LOWESS trendline</b><br><br>class=8<br>skill_name=Number sense, Computations and Basic Arithmetic<br>skill_name=Number sense, Computations and Basic Arithmetic<br>year=%{x}<br>skill_delta=%{y} <b>(trend)</b><extra></extra>\", \"legendgroup\": \"skill_name=Number sense, Computations and Basic Arithmetic\", \"marker\": {\"color\": \"#EF553B\", \"symbol\": \"circle\"}, \"mode\": \"lines\", \"name\": \"skill_name=Number sense, Computations and Basic Arithmetic\", \"showlegend\": false, \"type\": \"scatter\", \"uid\": \"2fc7c3c1-4957-460e-ae06-9105b1e96cfe\", \"x\": [2007.0, 2008.0, 2009.0, 2014.0, 2016.0, 2018.0], \"xaxis\": \"x2\", \"y\": [22.47856373018287, 21.799080090935114, 21.132691457784333, 7.4150280079743505, 3.002596503793031, -0.42255581428947464], \"yaxis\": \"y6\"}, {\"hovertemplate\": \"class=8<br>skill_name=Problem Solving, Advanced Problems<br>skill_name=Problem Solving, Advanced Problems<br>year=%{x}<br>skill_delta=%{y}<br>studentCount=%{marker.size}<extra></extra>\", \"legendgroup\": \"skill_name=Problem Solving, Advanced Problems\", \"marker\": {\"color\": \"#00cc96\", \"size\": [103, 13, 52, 46, 77, 76], \"sizemode\": \"area\", \"sizeref\": 1.14, \"symbol\": \"circle\"}, \"mode\": \"markers\", \"name\": \"skill_name=Problem Solving, Advanced Problems\", \"showlegend\": false, \"type\": \"scatter\", \"uid\": \"37230f63-3c83-457a-92cd-b7b5963fe6af\", \"x\": [\"2018\", \"2007\", \"2008\", \"2009\", \"2014\", \"2016\"], \"xaxis\": \"x3\", \"y\": [4.699999999999996, 29.29, 4.739999999999998, 12.530000000000001, 1.6799999999999997, -0.7100000000000009], \"yaxis\": \"y6\"}, {\"hovertemplate\": \"<b>LOWESS trendline</b><br><br>class=8<br>skill_name=Problem Solving, Advanced Problems<br>skill_name=Problem Solving, Advanced Problems<br>year=%{x}<br>skill_delta=%{y} <b>(trend)</b><extra></extra>\", \"legendgroup\": \"skill_name=Problem Solving, Advanced Problems\", \"marker\": {\"color\": \"#00cc96\", \"symbol\": \"circle\"}, \"mode\": \"lines\", \"name\": \"skill_name=Problem Solving, Advanced Problems\", \"showlegend\": false, \"type\": \"scatter\", \"uid\": \"21a3da87-00e6-41e3-b18d-ef70bee687ea\", \"x\": [2007.0, 2008.0, 2009.0, 2014.0, 2016.0, 2018.0], \"xaxis\": \"x3\", \"y\": [28.69480187531548, 20.30200348986432, 11.947303737107532, 1.1538335428653588, 1.8697468555312433, 3.52193797965571], \"yaxis\": \"y6\"}, {\"hovertemplate\": \"class=8<br>skill_name=Word and Application Problems<br>skill_name=Word and Application Problems<br>year=%{x}<br>skill_delta=%{y}<br>studentCount=%{marker.size}<extra></extra>\", \"legendgroup\": \"skill_name=Word and Application Problems\", \"marker\": {\"color\": \"#ab63fa\", \"size\": [103, 13, 52, 46, 77, 76], \"sizemode\": \"area\", \"sizeref\": 1.14, \"symbol\": \"circle\"}, \"mode\": \"markers\", \"name\": \"skill_name=Word and Application Problems\", \"showlegend\": false, \"type\": \"scatter\", \"uid\": \"f96f3fe5-e627-4806-9a89-ec438c49dc6f\", \"x\": [\"2018\", \"2007\", \"2008\", \"2009\", \"2014\", \"2016\"], \"xaxis\": \"x4\", \"y\": [4.909999999999997, 16.61, 12.310000000000002, 11.570000000000007, 6.659999999999997, -7.020000000000003], \"yaxis\": \"y6\"}, {\"hovertemplate\": \"<b>LOWESS trendline</b><br><br>class=8<br>skill_name=Word and Application Problems<br>skill_name=Word and Application Problems<br>year=%{x}<br>skill_delta=%{y} <b>(trend)</b><extra></extra>\", \"legendgroup\": \"skill_name=Word and Application Problems\", \"marker\": {\"color\": \"#ab63fa\", \"symbol\": \"circle\"}, \"mode\": \"lines\", \"name\": \"skill_name=Word and Application Problems\", \"showlegend\": false, \"type\": \"scatter\", \"uid\": \"ceafd276-314a-42db-8d4f-671dde98a337\", \"x\": [2007.0, 2008.0, 2009.0, 2014.0, 2016.0, 2018.0], \"xaxis\": \"x4\", \"y\": [16.148464204768644, 13.617148744558335, 11.123825583202219, 6.660000000000139, 5.784999999999997, 4.9100000000000605], \"yaxis\": \"y6\"}, {\"hovertemplate\": \"class=9<br>skill_name=Intermediate Concepts, Geometry and Algebra<br>skill_name=Intermediate Concepts, Geometry and Algebra<br>year=%{x}<br>skill_delta=%{y}<br>studentCount=%{marker.size}<extra></extra>\", \"legendgroup\": \"skill_name=Intermediate Concepts, Geometry and Algebra\", \"marker\": {\"color\": \"#636efa\", \"size\": [99, 10, 40, 51, 73, 73], \"sizemode\": \"area\", \"sizeref\": 1.14, \"symbol\": \"circle\"}, \"mode\": \"markers\", \"name\": \"skill_name=Intermediate Concepts, Geometry and Algebra\", \"showlegend\": false, \"type\": \"scatter\", \"uid\": \"d3e53655-a488-4549-b5c0-e81535b2a010\", \"x\": [\"2018\", \"2007\", \"2008\", \"2009\", \"2014\", \"2016\"], \"xaxis\": \"x\", \"y\": [4.280000000000001, 14.160000000000004, 1.5600000000000023, 10.369999999999997, 5.989999999999995, 7.099999999999994], \"yaxis\": \"y7\"}, {\"hovertemplate\": \"<b>LOWESS trendline</b><br><br>class=9<br>skill_name=Intermediate Concepts, Geometry and Algebra<br>skill_name=Intermediate Concepts, Geometry and Algebra<br>year=%{x}<br>skill_delta=%{y} <b>(trend)</b><extra></extra>\", \"legendgroup\": \"skill_name=Intermediate Concepts, Geometry and Algebra\", \"marker\": {\"color\": \"#636efa\", \"symbol\": \"circle\"}, \"mode\": \"lines\", \"name\": \"skill_name=Intermediate Concepts, Geometry and Algebra\", \"showlegend\": false, \"type\": \"scatter\", \"uid\": \"ed9522f6-6a3c-49e8-afbf-d93fb235e2b4\", \"x\": [2007.0, 2008.0, 2009.0, 2014.0, 2016.0, 2018.0], \"xaxis\": \"x\", \"y\": [14.159999999999322, 12.264999999999795, 10.369999999999726, 6.252909755652786, 5.792946989499478, 4.868211450272054], \"yaxis\": \"y7\"}, {\"hovertemplate\": \"class=9<br>skill_name=Number sense, Computations and Basic Arithmetic<br>skill_name=Number sense, Computations and Basic Arithmetic<br>year=%{x}<br>skill_delta=%{y}<br>studentCount=%{marker.size}<extra></extra>\", \"legendgroup\": \"skill_name=Number sense, Computations and Basic Arithmetic\", \"marker\": {\"color\": \"#EF553B\", \"size\": [99, 10, 40, 51, 73, 73], \"sizemode\": \"area\", \"sizeref\": 1.14, \"symbol\": \"circle\"}, \"mode\": \"markers\", \"name\": \"skill_name=Number sense, Computations and Basic Arithmetic\", \"showlegend\": false, \"type\": \"scatter\", \"uid\": \"4da8d07e-bb6e-4caf-9eba-498e837c9c70\", \"x\": [\"2018\", \"2007\", \"2008\", \"2009\", \"2014\", \"2016\"], \"xaxis\": \"x2\", \"y\": [2.200000000000003, 15.520000000000003, 10.060000000000002, 1.1400000000000006, 4.310000000000002, 10.300000000000004], \"yaxis\": \"y7\"}, {\"hovertemplate\": \"<b>LOWESS trendline</b><br><br>class=9<br>skill_name=Number sense, Computations and Basic Arithmetic<br>skill_name=Number sense, Computations and Basic Arithmetic<br>year=%{x}<br>skill_delta=%{y} <b>(trend)</b><extra></extra>\", \"legendgroup\": \"skill_name=Number sense, Computations and Basic Arithmetic\", \"marker\": {\"color\": \"#EF553B\", \"symbol\": \"circle\"}, \"mode\": \"lines\", \"name\": \"skill_name=Number sense, Computations and Basic Arithmetic\", \"showlegend\": false, \"type\": \"scatter\", \"uid\": \"f90937a3-4795-4c45-8e0c-50bdde8897bc\", \"x\": [2007.0, 2008.0, 2009.0, 2014.0, 2016.0, 2018.0], \"xaxis\": \"x2\", \"y\": [15.991272847823355, 8.812934078414001, 1.5952939124907015, 4.310000000000108, 3.2550000000000026, 2.200000000000029], \"yaxis\": \"y7\"}, {\"hovertemplate\": \"class=9<br>skill_name=Problem Solving, Advanced Problems<br>skill_name=Problem Solving, Advanced Problems<br>year=%{x}<br>skill_delta=%{y}<br>studentCount=%{marker.size}<extra></extra>\", \"legendgroup\": \"skill_name=Problem Solving, Advanced Problems\", \"marker\": {\"color\": \"#00cc96\", \"size\": [99, 10, 40, 51, 73, 73], \"sizemode\": \"area\", \"sizeref\": 1.14, \"symbol\": \"circle\"}, \"mode\": \"markers\", \"name\": \"skill_name=Problem Solving, Advanced Problems\", \"showlegend\": false, \"type\": \"scatter\", \"uid\": \"925ca72a-616c-472b-a318-0b034e6e2850\", \"x\": [\"2018\", \"2007\", \"2008\", \"2009\", \"2014\", \"2016\"], \"xaxis\": \"x3\", \"y\": [12.560000000000002, 7.460000000000001, 10.810000000000002, 10.940000000000005, -3.490000000000002, -0.8000000000000007], \"yaxis\": \"y7\"}, {\"hovertemplate\": \"<b>LOWESS trendline</b><br><br>class=9<br>skill_name=Problem Solving, Advanced Problems<br>skill_name=Problem Solving, Advanced Problems<br>year=%{x}<br>skill_delta=%{y} <b>(trend)</b><extra></extra>\", \"legendgroup\": \"skill_name=Problem Solving, Advanced Problems\", \"marker\": {\"color\": \"#00cc96\", \"symbol\": \"circle\"}, \"mode\": \"lines\", \"name\": \"skill_name=Problem Solving, Advanced Problems\", \"showlegend\": false, \"type\": \"scatter\", \"uid\": \"d273e0f3-b76e-4ad6-a4be-bdce6810b53c\", \"x\": [2007.0, 2008.0, 2009.0, 2014.0, 2016.0, 2018.0], \"xaxis\": \"x3\", \"y\": [7.90106241881639, 9.651988704817914, 11.366077153113034, -3.4900000000002898, 4.535, 12.560000000000205], \"yaxis\": \"y7\"}, {\"hovertemplate\": \"class=9<br>skill_name=Word and Application Problems<br>skill_name=Word and Application Problems<br>year=%{x}<br>skill_delta=%{y}<br>studentCount=%{marker.size}<extra></extra>\", \"legendgroup\": \"skill_name=Word and Application Problems\", \"marker\": {\"color\": \"#ab63fa\", \"size\": [99, 10, 40, 51, 73, 73], \"sizemode\": \"area\", \"sizeref\": 1.14, \"symbol\": \"circle\"}, \"mode\": \"markers\", \"name\": \"skill_name=Word and Application Problems\", \"showlegend\": false, \"type\": \"scatter\", \"uid\": \"e943d0cf-55d9-450b-919d-c281ef941074\", \"x\": [\"2018\", \"2007\", \"2008\", \"2009\", \"2014\", \"2016\"], \"xaxis\": \"x4\", \"y\": [7.100000000000005, 15.68, 9.719999999999999, 5.760000000000005, 3.549999999999997, 3.8699999999999974], \"yaxis\": \"y7\"}, {\"hovertemplate\": \"<b>LOWESS trendline</b><br><br>class=9<br>skill_name=Word and Application Problems<br>skill_name=Word and Application Problems<br>year=%{x}<br>skill_delta=%{y} <b>(trend)</b><extra></extra>\", \"legendgroup\": \"skill_name=Word and Application Problems\", \"marker\": {\"color\": \"#ab63fa\", \"symbol\": \"circle\"}, \"mode\": \"lines\", \"name\": \"skill_name=Word and Application Problems\", \"showlegend\": false, \"type\": \"scatter\", \"uid\": \"6d7e121b-6414-457b-8a88-a87bef66ceed\", \"x\": [2007.0, 2008.0, 2009.0, 2014.0, 2016.0, 2018.0], \"xaxis\": \"x4\", \"y\": [15.41189779123567, 10.445215494678639, 5.500804309553455, 3.42330029217851, 5.075557927998898, 6.871555761466248], \"yaxis\": \"y7\"}, {\"hovertemplate\": \"class=10<br>skill_name=Intermediate Concepts, Geometry and Algebra<br>skill_name=Intermediate Concepts, Geometry and Algebra<br>year=%{x}<br>skill_delta=%{y}<br>studentCount=%{marker.size}<extra></extra>\", \"legendgroup\": \"skill_name=Intermediate Concepts, Geometry and Algebra\", \"marker\": {\"color\": \"#636efa\", \"size\": [73, 67], \"sizemode\": \"area\", \"sizeref\": 1.14, \"symbol\": \"circle\"}, \"mode\": \"markers\", \"name\": \"skill_name=Intermediate Concepts, Geometry and Algebra\", \"showlegend\": false, \"type\": \"scatter\", \"uid\": \"deb3a924-1037-4922-b62e-d4c9cac25ca2\", \"x\": [\"2014\", \"2016\"], \"xaxis\": \"x\", \"y\": [-1.5399999999999991, 9.240000000000002], \"yaxis\": \"y8\"}, {\"hovertemplate\": \"<b>LOWESS trendline</b><br><br>class=10<br>skill_name=Intermediate Concepts, Geometry and Algebra<br>skill_name=Intermediate Concepts, Geometry and Algebra<br>year=%{x}<br>skill_delta=%{y} <b>(trend)</b><extra></extra>\", \"legendgroup\": \"skill_name=Intermediate Concepts, Geometry and Algebra\", \"marker\": {\"color\": \"#636efa\", \"symbol\": \"circle\"}, \"mode\": \"lines\", \"name\": \"skill_name=Intermediate Concepts, Geometry and Algebra\", \"showlegend\": false, \"type\": \"scatter\", \"uid\": \"4e156321-abe5-4f92-8f59-2be5108fcaa4\", \"x\": [2014.0, 2016.0], \"xaxis\": \"x\", \"y\": [-1.5399999999999991, 9.240000000000002], \"yaxis\": \"y8\"}, {\"hovertemplate\": \"class=10<br>skill_name=Number sense, Computations and Basic Arithmetic<br>skill_name=Number sense, Computations and Basic Arithmetic<br>year=%{x}<br>skill_delta=%{y}<br>studentCount=%{marker.size}<extra></extra>\", \"legendgroup\": \"skill_name=Number sense, Computations and Basic Arithmetic\", \"marker\": {\"color\": \"#EF553B\", \"size\": [73, 67], \"sizemode\": \"area\", \"sizeref\": 1.14, \"symbol\": \"circle\"}, \"mode\": \"markers\", \"name\": \"skill_name=Number sense, Computations and Basic Arithmetic\", \"showlegend\": false, \"type\": \"scatter\", \"uid\": \"ef62d8e8-490e-40fb-a095-5a29c848d96c\", \"x\": [\"2014\", \"2016\"], \"xaxis\": \"x2\", \"y\": [0.10999999999999943, 0.10000000000000142], \"yaxis\": \"y8\"}, {\"hovertemplate\": \"<b>LOWESS trendline</b><br><br>class=10<br>skill_name=Number sense, Computations and Basic Arithmetic<br>skill_name=Number sense, Computations and Basic Arithmetic<br>year=%{x}<br>skill_delta=%{y} <b>(trend)</b><extra></extra>\", \"legendgroup\": \"skill_name=Number sense, Computations and Basic Arithmetic\", \"marker\": {\"color\": \"#EF553B\", \"symbol\": \"circle\"}, \"mode\": \"lines\", \"name\": \"skill_name=Number sense, Computations and Basic Arithmetic\", \"showlegend\": false, \"type\": \"scatter\", \"uid\": \"cc2ee92f-659f-4b87-bd57-bebfeeeb96af\", \"x\": [2014.0, 2016.0], \"xaxis\": \"x2\", \"y\": [0.10999999999999943, 0.10000000000000142], \"yaxis\": \"y8\"}, {\"hovertemplate\": \"class=10<br>skill_name=Problem Solving, Advanced Problems<br>skill_name=Problem Solving, Advanced Problems<br>year=%{x}<br>skill_delta=%{y}<br>studentCount=%{marker.size}<extra></extra>\", \"legendgroup\": \"skill_name=Problem Solving, Advanced Problems\", \"marker\": {\"color\": \"#00cc96\", \"size\": [73, 67], \"sizemode\": \"area\", \"sizeref\": 1.14, \"symbol\": \"circle\"}, \"mode\": \"markers\", \"name\": \"skill_name=Problem Solving, Advanced Problems\", \"showlegend\": false, \"type\": \"scatter\", \"uid\": \"2f23c6ec-dc3a-4b4e-8ffc-ac1d0f2befce\", \"x\": [\"2014\", \"2016\"], \"xaxis\": \"x3\", \"y\": [-6.18, -1.9200000000000017], \"yaxis\": \"y8\"}, {\"hovertemplate\": \"<b>LOWESS trendline</b><br><br>class=10<br>skill_name=Problem Solving, Advanced Problems<br>skill_name=Problem Solving, Advanced Problems<br>year=%{x}<br>skill_delta=%{y} <b>(trend)</b><extra></extra>\", \"legendgroup\": \"skill_name=Problem Solving, Advanced Problems\", \"marker\": {\"color\": \"#00cc96\", \"symbol\": \"circle\"}, \"mode\": \"lines\", \"name\": \"skill_name=Problem Solving, Advanced Problems\", \"showlegend\": false, \"type\": \"scatter\", \"uid\": \"77d08f52-d4bb-444e-9db4-2140cf9a02b6\", \"x\": [2014.0, 2016.0], \"xaxis\": \"x3\", \"y\": [-6.18, -1.9200000000000017], \"yaxis\": \"y8\"}, {\"hovertemplate\": \"class=10<br>skill_name=Word and Application Problems<br>skill_name=Word and Application Problems<br>year=%{x}<br>skill_delta=%{y}<br>studentCount=%{marker.size}<extra></extra>\", \"legendgroup\": \"skill_name=Word and Application Problems\", \"marker\": {\"color\": \"#ab63fa\", \"size\": [73, 67], \"sizemode\": \"area\", \"sizeref\": 1.14, \"symbol\": \"circle\"}, \"mode\": \"markers\", \"name\": \"skill_name=Word and Application Problems\", \"showlegend\": false, \"type\": \"scatter\", \"uid\": \"ad433d73-dca6-42fc-a90b-f33ee5cb54b8\", \"x\": [\"2014\", \"2016\"], \"xaxis\": \"x4\", \"y\": [4.669999999999995, 7.229999999999997], \"yaxis\": \"y8\"}, {\"hovertemplate\": \"<b>LOWESS trendline</b><br><br>class=10<br>skill_name=Word and Application Problems<br>skill_name=Word and Application Problems<br>year=%{x}<br>skill_delta=%{y} <b>(trend)</b><extra></extra>\", \"legendgroup\": \"skill_name=Word and Application Problems\", \"marker\": {\"color\": \"#ab63fa\", \"symbol\": \"circle\"}, \"mode\": \"lines\", \"name\": \"skill_name=Word and Application Problems\", \"showlegend\": false, \"type\": \"scatter\", \"uid\": \"8093b87b-3703-408b-93f4-b861d4ad1595\", \"x\": [2014.0, 2016.0], \"xaxis\": \"x4\", \"y\": [4.669999999999995, 7.229999999999997], \"yaxis\": \"y8\"}],\n",
       "                        {\"annotations\": [{\"showarrow\": false, \"text\": \"skill_name=Intermediate Concepts, Geometry and Algebra\", \"textangle\": 0, \"x\": 0.1153846153846154, \"xanchor\": \"center\", \"xref\": \"paper\", \"y\": 1.02, \"yanchor\": \"middle\", \"yref\": \"paper\"}, {\"showarrow\": false, \"text\": \"skill_name=Number sense, Computations and Basic Arithmetic\", \"textangle\": 0, \"x\": 0.3717948717948718, \"xanchor\": \"center\", \"xref\": \"paper\", \"y\": 1.02, \"yanchor\": \"middle\", \"yref\": \"paper\"}, {\"showarrow\": false, \"text\": \"skill_name=Problem Solving, Advanced Problems\", \"textangle\": 0, \"x\": 0.6282051282051283, \"xanchor\": \"center\", \"xref\": \"paper\", \"y\": 1.02, \"yanchor\": \"middle\", \"yref\": \"paper\"}, {\"showarrow\": false, \"text\": \"skill_name=Word and Application Problems\", \"textangle\": 0, \"x\": 0.8846153846153848, \"xanchor\": \"center\", \"xref\": \"paper\", \"y\": 1.02, \"yanchor\": \"middle\", \"yref\": \"paper\"}, {\"showarrow\": false, \"text\": \"class=3\", \"textangle\": 90, \"x\": 1.01, \"xanchor\": \"center\", \"xref\": \"paper\", \"y\": 0.9430379746835442, \"yanchor\": \"middle\", \"yref\": \"paper\"}, {\"showarrow\": false, \"text\": \"class=4\", \"textangle\": 90, \"x\": 1.01, \"xanchor\": \"center\", \"xref\": \"paper\", \"y\": 0.8164556962025316, \"yanchor\": \"middle\", \"yref\": \"paper\"}, {\"showarrow\": false, \"text\": \"class=5\", \"textangle\": 90, \"x\": 1.01, \"xanchor\": \"center\", \"xref\": \"paper\", \"y\": 0.6898734177215189, \"yanchor\": \"middle\", \"yref\": \"paper\"}, {\"showarrow\": false, \"text\": \"class=6\", \"textangle\": 90, \"x\": 1.01, \"xanchor\": \"center\", \"xref\": \"paper\", \"y\": 0.5632911392405062, \"yanchor\": \"middle\", \"yref\": \"paper\"}, {\"showarrow\": false, \"text\": \"class=7\", \"textangle\": 90, \"x\": 1.01, \"xanchor\": \"center\", \"xref\": \"paper\", \"y\": 0.4367088607594936, \"yanchor\": \"middle\", \"yref\": \"paper\"}, {\"showarrow\": false, \"text\": \"class=8\", \"textangle\": 90, \"x\": 1.01, \"xanchor\": \"center\", \"xref\": \"paper\", \"y\": 0.310126582278481, \"yanchor\": \"middle\", \"yref\": \"paper\"}, {\"showarrow\": false, \"text\": \"class=9\", \"textangle\": 90, \"x\": 1.01, \"xanchor\": \"center\", \"xref\": \"paper\", \"y\": 0.18354430379746833, \"yanchor\": \"middle\", \"yref\": \"paper\"}, {\"showarrow\": false, \"text\": \"class=10\", \"textangle\": 90, \"x\": 1.01, \"xanchor\": \"center\", \"xref\": \"paper\", \"y\": 0.05696202531645569, \"yanchor\": \"middle\", \"yref\": \"paper\"}], \"grid\": {\"xaxes\": [\"x\", \"x2\", \"x3\", \"x4\"], \"xgap\": 0.1, \"xside\": \"bottom\", \"yaxes\": [\"y\", \"y2\", \"y3\", \"y4\", \"y5\", \"y6\", \"y7\", \"y8\"], \"ygap\": 0.1, \"yside\": \"left\"}, \"height\": 1500, \"legend\": {\"tracegroupgap\": 0}, \"template\": {\"data\": {\"bar\": [{\"marker\": {\"line\": {\"color\": \"#E5ECF6\", \"width\": 0.5}}, \"type\": \"bar\"}], \"barpolar\": [{\"marker\": {\"line\": {\"color\": \"#E5ECF6\", \"width\": 0.5}}, \"type\": \"barpolar\"}], \"carpet\": [{\"aaxis\": {\"endlinecolor\": \"#2a3f5f\", \"gridcolor\": \"white\", \"linecolor\": \"white\", \"minorgridcolor\": \"white\", \"startlinecolor\": \"#2a3f5f\"}, \"baxis\": {\"endlinecolor\": \"#2a3f5f\", \"gridcolor\": \"white\", \"linecolor\": \"white\", \"minorgridcolor\": \"white\", \"startlinecolor\": \"#2a3f5f\"}, \"type\": \"carpet\"}], \"choropleth\": [{\"colorbar\": {\"outlinewidth\": 0, \"ticks\": \"\"}, \"type\": \"choropleth\"}], \"contour\": [{\"autocolorscale\": true, \"colorbar\": {\"outlinewidth\": 0, \"ticks\": \"\"}, \"type\": \"contour\"}], \"contourcarpet\": [{\"colorbar\": {\"outlinewidth\": 0, \"ticks\": \"\"}, \"type\": \"contourcarpet\"}], \"heatmap\": [{\"autocolorscale\": true, \"colorbar\": {\"outlinewidth\": 0, \"ticks\": \"\"}, \"type\": \"heatmap\"}], \"heatmapgl\": [{\"colorbar\": {\"outlinewidth\": 0, \"ticks\": \"\"}, \"type\": \"heatmapgl\"}], \"histogram\": [{\"marker\": {\"colorbar\": {\"outlinewidth\": 0, \"ticks\": \"\"}}, \"type\": \"histogram\"}], \"histogram2d\": [{\"autocolorscale\": true, \"colorbar\": {\"outlinewidth\": 0, \"ticks\": \"\"}, \"type\": \"histogram2d\"}], \"histogram2dcontour\": [{\"autocolorscale\": true, \"colorbar\": {\"outlinewidth\": 0, \"ticks\": \"\"}, \"type\": \"histogram2dcontour\"}], \"mesh3d\": [{\"colorbar\": {\"outlinewidth\": 0, \"ticks\": \"\"}, \"type\": \"mesh3d\"}], \"parcoords\": [{\"line\": {\"colorbar\": {\"outlinewidth\": 0, \"ticks\": \"\"}}, \"type\": \"parcoords\"}], \"scatter\": [{\"marker\": {\"colorbar\": {\"outlinewidth\": 0, \"ticks\": \"\"}}, \"type\": \"scatter\"}], \"scatter3d\": [{\"marker\": {\"colorbar\": {\"outlinewidth\": 0, \"ticks\": \"\"}}, \"type\": \"scatter3d\"}], \"scattercarpet\": [{\"marker\": {\"colorbar\": {\"outlinewidth\": 0, \"ticks\": \"\"}}, \"type\": \"scattercarpet\"}], \"scattergeo\": [{\"marker\": {\"colorbar\": {\"outlinewidth\": 0, \"ticks\": \"\"}}, \"type\": \"scattergeo\"}], \"scattergl\": [{\"marker\": {\"colorbar\": {\"outlinewidth\": 0, \"ticks\": \"\"}}, \"type\": \"scattergl\"}], \"scattermapbox\": [{\"marker\": {\"colorbar\": {\"outlinewidth\": 0, \"ticks\": \"\"}}, \"type\": \"scattermapbox\"}], \"scatterpolar\": [{\"marker\": {\"colorbar\": {\"outlinewidth\": 0, \"ticks\": \"\"}}, \"type\": \"scatterpolar\"}], \"scatterpolargl\": [{\"marker\": {\"colorbar\": {\"outlinewidth\": 0, \"ticks\": \"\"}}, \"type\": \"scatterpolargl\"}], \"scatterternary\": [{\"marker\": {\"colorbar\": {\"outlinewidth\": 0, \"ticks\": \"\"}}, \"type\": \"scatterternary\"}], \"surface\": [{\"colorbar\": {\"outlinewidth\": 0, \"ticks\": \"\"}, \"type\": \"surface\"}], \"table\": [{\"cells\": {\"fill\": {\"color\": \"#EBF0F8\"}, \"line\": {\"color\": \"white\"}}, \"header\": {\"fill\": {\"color\": \"#C8D4E3\"}, \"line\": {\"color\": \"white\"}}, \"type\": \"table\"}]}, \"layout\": {\"annotationdefaults\": {\"arrowcolor\": \"#506784\", \"arrowhead\": 0, \"arrowwidth\": 1}, \"colorscale\": {\"diverging\": [[0, \"#8e0152\"], [0.1, \"#c51b7d\"], [0.2, \"#de77ae\"], [0.3, \"#f1b6da\"], [0.4, \"#fde0ef\"], [0.5, \"#f7f7f7\"], [0.6, \"#e6f5d0\"], [0.7, \"#b8e186\"], [0.8, \"#7fbc41\"], [0.9, \"#4d9221\"], [1, \"#276419\"]], \"sequential\": [[0.0, \"#0508b8\"], [0.0893854748603352, \"#1910d8\"], [0.1787709497206704, \"#3c19f0\"], [0.2681564245810056, \"#6b1cfb\"], [0.3575418994413408, \"#981cfd\"], [0.44692737430167595, \"#bf1cfd\"], [0.5363128491620112, \"#dd2bfd\"], [0.6256983240223464, \"#f246fe\"], [0.7150837988826816, \"#fc67fd\"], [0.8044692737430168, \"#fe88fc\"], [0.8938547486033519, \"#fea5fd\"], [0.9832402234636871, \"#febefe\"], [1.0, \"#fec3fe\"]], \"sequentialminus\": [[0.0, \"#0508b8\"], [0.0893854748603352, \"#1910d8\"], [0.1787709497206704, \"#3c19f0\"], [0.2681564245810056, \"#6b1cfb\"], [0.3575418994413408, \"#981cfd\"], [0.44692737430167595, \"#bf1cfd\"], [0.5363128491620112, \"#dd2bfd\"], [0.6256983240223464, \"#f246fe\"], [0.7150837988826816, \"#fc67fd\"], [0.8044692737430168, \"#fe88fc\"], [0.8938547486033519, \"#fea5fd\"], [0.9832402234636871, \"#febefe\"], [1.0, \"#fec3fe\"]]}, \"colorway\": [\"#636efa\", \"#EF553B\", \"#00cc96\", \"#ab63fa\", \"#19d3f3\", \"#e763fa\", \"#FECB52\", \"#FFA15A\", \"#FF6692\", \"#B6E880\"], \"font\": {\"color\": \"#2a3f5f\"}, \"geo\": {\"bgcolor\": \"white\", \"lakecolor\": \"white\", \"landcolor\": \"#E5ECF6\", \"showlakes\": true, \"showland\": true, \"subunitcolor\": \"white\"}, \"hoverlabel\": {\"align\": \"left\"}, \"hovermode\": \"closest\", \"legend\": {\"itemsizing\": \"constant\"}, \"mapbox\": {\"style\": \"light\"}, \"paper_bgcolor\": \"white\", \"plot_bgcolor\": \"#E5ECF6\", \"polar\": {\"angularaxis\": {\"gridcolor\": \"white\", \"linecolor\": \"white\", \"ticks\": \"\"}, \"bgcolor\": \"#E5ECF6\", \"radialaxis\": {\"gridcolor\": \"white\", \"linecolor\": \"white\", \"ticks\": \"\"}}, \"scene\": {\"xaxis\": {\"backgroundcolor\": \"#E5ECF6\", \"gridcolor\": \"white\", \"gridwidth\": 2, \"linecolor\": \"white\", \"showbackground\": true, \"ticks\": \"\", \"zerolinecolor\": \"white\"}, \"yaxis\": {\"backgroundcolor\": \"#E5ECF6\", \"gridcolor\": \"white\", \"gridwidth\": 2, \"linecolor\": \"white\", \"showbackground\": true, \"ticks\": \"\", \"zerolinecolor\": \"white\"}, \"zaxis\": {\"backgroundcolor\": \"#E5ECF6\", \"gridcolor\": \"white\", \"gridwidth\": 2, \"linecolor\": \"white\", \"showbackground\": true, \"ticks\": \"\", \"zerolinecolor\": \"white\"}}, \"shapedefaults\": {\"fillcolor\": \"#506784\", \"line\": {\"width\": 0}, \"opacity\": 0.4}, \"ternary\": {\"aaxis\": {\"gridcolor\": \"white\", \"linecolor\": \"white\", \"ticks\": \"\"}, \"baxis\": {\"gridcolor\": \"white\", \"linecolor\": \"white\", \"ticks\": \"\"}, \"bgcolor\": \"#E5ECF6\", \"caxis\": {\"gridcolor\": \"white\", \"linecolor\": \"white\", \"ticks\": \"\"}}, \"title\": {\"x\": 0.05}, \"xaxis\": {\"automargin\": true, \"gridcolor\": \"white\", \"linecolor\": \"white\", \"ticks\": \"\", \"zerolinecolor\": \"white\", \"zerolinewidth\": 2}, \"yaxis\": {\"automargin\": true, \"gridcolor\": \"white\", \"linecolor\": \"white\", \"ticks\": \"\", \"zerolinecolor\": \"white\", \"zerolinewidth\": 2}}}, \"title\": {\"text\": \"Core Skills in Maths (Sushila Birla Girls^ School-Kolkata-CBSE)\"}, \"width\": 2000, \"xaxis\": {\"title\": {\"text\": \"year\"}}, \"xaxis2\": {\"matches\": \"x\", \"title\": {\"text\": \"year\"}}, \"xaxis3\": {\"matches\": \"x\", \"title\": {\"text\": \"year\"}}, \"xaxis4\": {\"matches\": \"x\", \"title\": {\"text\": \"year\"}}, \"yaxis\": {\"title\": {\"text\": \"skill_delta\"}}, \"yaxis2\": {\"matches\": \"y\", \"title\": {\"text\": \"skill_delta\"}}, \"yaxis3\": {\"matches\": \"y\", \"title\": {\"text\": \"skill_delta\"}}, \"yaxis4\": {\"matches\": \"y\", \"title\": {\"text\": \"skill_delta\"}}, \"yaxis5\": {\"matches\": \"y\", \"title\": {\"text\": \"skill_delta\"}}, \"yaxis6\": {\"matches\": \"y\", \"title\": {\"text\": \"skill_delta\"}}, \"yaxis7\": {\"matches\": \"y\", \"title\": {\"text\": \"skill_delta\"}}, \"yaxis8\": {\"matches\": \"y\", \"title\": {\"text\": \"skill_delta\"}}},\n",
       "                        {\"showLink\": false, \"linkText\": \"Export to plot.ly\", \"plotlyServerURL\": \"https://plot.ly\"}\n",
       "                    )\n",
       "                };\n",
       "                });\n",
       "            </script>\n",
       "        </div>"
      ]
     },
     "metadata": {},
     "output_type": "display_data"
    }
   ],
   "source": [
    "sub = 'Maths'\n",
    "px.scatter(df_school[df_school['subject']==sub].drop_duplicates(['papercode','skill_name']), \n",
    "        x = 'year', \n",
    "        y = 'skill_delta', \n",
    "        color='skill_name',\n",
    "        facet_row= 'class', \n",
    "       facet_col= 'skill_name', \n",
    "           size = 'studentCount',\n",
    "           size_max= 10,\n",
    "           trendline=\"lowess\",\n",
    "        height=1500,\n",
    "        width=2000,\n",
    "        title = 'Core Skills in %s (%s-%s-%s)'%(sub,school_name, school_city, school_board) )"
   ]
  },
  {
   "cell_type": "code",
   "execution_count": 14,
   "metadata": {
    "code_folding": [
     1
    ]
   },
   "outputs": [
    {
     "data": {
      "application/vnd.plotly.v1+json": {
       "config": {
        "linkText": "Export to plot.ly",
        "plotlyServerURL": "https://plot.ly",
        "showLink": false
       },
       "data": [
        {
         "hovertemplate": "class=3<br>skill_name=Extended Reasoning<br>skill_name=Extended Reasoning<br>year=%{x}<br>skill_delta=%{y}<br>studentCount=%{marker.size}<extra></extra>",
         "legendgroup": "skill_name=Extended Reasoning",
         "marker": {
          "color": "#636efa",
          "size": [
           106,
           19,
           74,
           105,
           102
          ],
          "sizemode": "area",
          "sizeref": 1.1,
          "symbol": "circle"
         },
         "mode": "markers",
         "name": "skill_name=Extended Reasoning",
         "showlegend": true,
         "type": "scatter",
         "uid": "2b7bd895-4522-4e59-8d33-cf6532f9955b",
         "x": [
          "2018",
          "2007",
          "2008",
          "2014",
          "2016"
         ],
         "xaxis": "x",
         "y": [
          11.299999999999997,
          24.199999999999996,
          12.480000000000004,
          9.18,
          6.490000000000002
         ],
         "yaxis": "y"
        },
        {
         "hovertemplate": "<b>LOWESS trendline</b><br><br>class=3<br>skill_name=Extended Reasoning<br>skill_name=Extended Reasoning<br>year=%{x}<br>skill_delta=%{y} <b>(trend)</b><extra></extra>",
         "legendgroup": "skill_name=Extended Reasoning",
         "marker": {
          "color": "#636efa",
          "symbol": "circle"
         },
         "mode": "lines",
         "name": "skill_name=Extended Reasoning",
         "showlegend": false,
         "type": "scatter",
         "uid": "1bf128c4-b557-4421-90e0-faa13e51b9fb",
         "x": [
          2007,
          2008,
          2014,
          2016,
          2018
         ],
         "xaxis": "x",
         "y": [
          24.199999999999996,
          12.480000000000004,
          9.180000000001199,
          6.490000000000002,
          11.30000000000151
         ],
         "yaxis": "y"
        },
        {
         "hovertemplate": "class=3<br>skill_name=Grammar Usage<br>skill_name=Grammar Usage<br>year=%{x}<br>skill_delta=%{y}<br>studentCount=%{marker.size}<extra></extra>",
         "legendgroup": "skill_name=Grammar Usage",
         "marker": {
          "color": "#EF553B",
          "size": [
           106,
           19,
           74,
           105,
           102
          ],
          "sizemode": "area",
          "sizeref": 1.1,
          "symbol": "circle"
         },
         "mode": "markers",
         "name": "skill_name=Grammar Usage",
         "showlegend": true,
         "type": "scatter",
         "uid": "da3b489f-2a22-4247-97fa-6d560c6cdc96",
         "x": [
          "2018",
          "2007",
          "2008",
          "2014",
          "2016"
         ],
         "xaxis": "x2",
         "y": [
          12.920000000000002,
          20.77000000000001,
          12.5,
          11.350000000000009,
          12.900000000000006
         ],
         "yaxis": "y"
        },
        {
         "hovertemplate": "<b>LOWESS trendline</b><br><br>class=3<br>skill_name=Grammar Usage<br>skill_name=Grammar Usage<br>year=%{x}<br>skill_delta=%{y} <b>(trend)</b><extra></extra>",
         "legendgroup": "skill_name=Grammar Usage",
         "marker": {
          "color": "#EF553B",
          "symbol": "circle"
         },
         "mode": "lines",
         "name": "skill_name=Grammar Usage",
         "showlegend": false,
         "type": "scatter",
         "uid": "e2764759-26d5-4901-a9b5-06753dec7c41",
         "x": [
          2007,
          2008,
          2014,
          2016,
          2018
         ],
         "xaxis": "x2",
         "y": [
          20.77000000000882,
          12.500000000005544,
          11.350000000000009,
          12.900000000000006,
          12.920000000000002
         ],
         "yaxis": "y"
        },
        {
         "hovertemplate": "class=3<br>skill_name=Literal Comprehension<br>skill_name=Literal Comprehension<br>year=%{x}<br>skill_delta=%{y}<br>studentCount=%{marker.size}<extra></extra>",
         "legendgroup": "skill_name=Literal Comprehension",
         "marker": {
          "color": "#00cc96",
          "size": [
           106,
           19,
           74,
           105,
           102
          ],
          "sizemode": "area",
          "sizeref": 1.1,
          "symbol": "circle"
         },
         "mode": "markers",
         "name": "skill_name=Literal Comprehension",
         "showlegend": true,
         "type": "scatter",
         "uid": "c6c67942-57bf-4f31-8bd5-5cfa8bfebbef",
         "x": [
          "2018",
          "2007",
          "2008",
          "2014",
          "2016"
         ],
         "xaxis": "x3",
         "y": [
          9.229999999999997,
          13.100000000000009,
          6.489999999999995,
          6.950000000000003,
          6.3799999999999955
         ],
         "yaxis": "y"
        },
        {
         "hovertemplate": "<b>LOWESS trendline</b><br><br>class=3<br>skill_name=Literal Comprehension<br>skill_name=Literal Comprehension<br>year=%{x}<br>skill_delta=%{y} <b>(trend)</b><extra></extra>",
         "legendgroup": "skill_name=Literal Comprehension",
         "marker": {
          "color": "#00cc96",
          "symbol": "circle"
         },
         "mode": "lines",
         "name": "skill_name=Literal Comprehension",
         "showlegend": false,
         "type": "scatter",
         "uid": "d6ec342f-4069-4b7c-84c4-5b0fe3b73d6a",
         "x": [
          2007,
          2008,
          2014,
          2016,
          2018
         ],
         "xaxis": "x3",
         "y": [
          13.099999999998682,
          6.48999999999946,
          6.949999999999343,
          6.3799999999999955,
          9.229999999997863
         ],
         "yaxis": "y"
        },
        {
         "hovertemplate": "class=3<br>skill_name=Vocabulary in Context<br>skill_name=Vocabulary in Context<br>year=%{x}<br>skill_delta=%{y}<br>studentCount=%{marker.size}<extra></extra>",
         "legendgroup": "skill_name=Vocabulary in Context",
         "marker": {
          "color": "#ab63fa",
          "size": [
           106,
           19,
           74,
           105,
           102
          ],
          "sizemode": "area",
          "sizeref": 1.1,
          "symbol": "circle"
         },
         "mode": "markers",
         "name": "skill_name=Vocabulary in Context",
         "showlegend": true,
         "type": "scatter",
         "uid": "519224f0-2915-4423-99bc-d265f5e3c3c6",
         "x": [
          "2018",
          "2007",
          "2008",
          "2014",
          "2016"
         ],
         "xaxis": "x4",
         "y": [
          10.25,
          23.35000000000001,
          13.610000000000007,
          11.120000000000005,
          3.8900000000000006
         ],
         "yaxis": "y"
        },
        {
         "hovertemplate": "<b>LOWESS trendline</b><br><br>class=3<br>skill_name=Vocabulary in Context<br>skill_name=Vocabulary in Context<br>year=%{x}<br>skill_delta=%{y} <b>(trend)</b><extra></extra>",
         "legendgroup": "skill_name=Vocabulary in Context",
         "marker": {
          "color": "#ab63fa",
          "symbol": "circle"
         },
         "mode": "lines",
         "name": "skill_name=Vocabulary in Context",
         "showlegend": false,
         "type": "scatter",
         "uid": "768f28ce-43c9-4787-b747-4407c3c1cf24",
         "x": [
          2007,
          2008,
          2014,
          2016,
          2018
         ],
         "xaxis": "x4",
         "y": [
          23.35000000000001,
          13.610000000000007,
          11.120000000001555,
          3.8900000000000006,
          10.250000000001421
         ],
         "yaxis": "y"
        },
        {
         "hovertemplate": "class=4<br>skill_name=Extended Reasoning<br>skill_name=Extended Reasoning<br>year=%{x}<br>skill_delta=%{y}<br>studentCount=%{marker.size}<extra></extra>",
         "legendgroup": "skill_name=Extended Reasoning",
         "marker": {
          "color": "#636efa",
          "size": [
           108,
           15,
           73,
           104,
           108
          ],
          "sizemode": "area",
          "sizeref": 1.1,
          "symbol": "circle"
         },
         "mode": "markers",
         "name": "skill_name=Extended Reasoning",
         "showlegend": false,
         "type": "scatter",
         "uid": "c75555c8-d142-4f2b-8113-f1deabb10339",
         "x": [
          "2018",
          "2007",
          "2008",
          "2014",
          "2016"
         ],
         "xaxis": "x",
         "y": [
          7.530000000000001,
          8.010000000000005,
          7.740000000000002,
          9.870000000000005,
          10.420000000000002
         ],
         "yaxis": "y2"
        },
        {
         "hovertemplate": "<b>LOWESS trendline</b><br><br>class=4<br>skill_name=Extended Reasoning<br>skill_name=Extended Reasoning<br>year=%{x}<br>skill_delta=%{y} <b>(trend)</b><extra></extra>",
         "legendgroup": "skill_name=Extended Reasoning",
         "marker": {
          "color": "#636efa",
          "symbol": "circle"
         },
         "mode": "lines",
         "name": "skill_name=Extended Reasoning",
         "showlegend": false,
         "type": "scatter",
         "uid": "42aa80f9-fdfd-4ce8-8075-c4a3e7019095",
         "x": [
          2007,
          2008,
          2014,
          2016,
          2018
         ],
         "xaxis": "x",
         "y": [
          8.009999999996888,
          7.739999999998436,
          9.870000000000822,
          10.420000000000002,
          7.530000000001029
         ],
         "yaxis": "y2"
        },
        {
         "hovertemplate": "class=4<br>skill_name=Grammar Usage<br>skill_name=Grammar Usage<br>year=%{x}<br>skill_delta=%{y}<br>studentCount=%{marker.size}<extra></extra>",
         "legendgroup": "skill_name=Grammar Usage",
         "marker": {
          "color": "#EF553B",
          "size": [
           108,
           15,
           73,
           104,
           108
          ],
          "sizemode": "area",
          "sizeref": 1.1,
          "symbol": "circle"
         },
         "mode": "markers",
         "name": "skill_name=Grammar Usage",
         "showlegend": false,
         "type": "scatter",
         "uid": "7ca09110-748d-4486-81f4-949a50734979",
         "x": [
          "2018",
          "2007",
          "2008",
          "2014",
          "2016"
         ],
         "xaxis": "x2",
         "y": [
          12.14,
          0.10999999999999943,
          12.690000000000005,
          13.230000000000004,
          10.29
         ],
         "yaxis": "y2"
        },
        {
         "hovertemplate": "<b>LOWESS trendline</b><br><br>class=4<br>skill_name=Grammar Usage<br>skill_name=Grammar Usage<br>year=%{x}<br>skill_delta=%{y} <b>(trend)</b><extra></extra>",
         "legendgroup": "skill_name=Grammar Usage",
         "marker": {
          "color": "#EF553B",
          "symbol": "circle"
         },
         "mode": "lines",
         "name": "skill_name=Grammar Usage",
         "showlegend": false,
         "type": "scatter",
         "uid": "0db5d9e1-8f4e-4799-86a5-7c0e30cd9cc1",
         "x": [
          2007,
          2008,
          2014,
          2016,
          2018
         ],
         "xaxis": "x2",
         "y": [
          0.10999999999961373,
          12.690000000000444,
          13.23000000000115,
          10.29,
          12.139999999997924
         ],
         "yaxis": "y2"
        },
        {
         "hovertemplate": "class=4<br>skill_name=Literal Comprehension<br>skill_name=Literal Comprehension<br>year=%{x}<br>skill_delta=%{y}<br>studentCount=%{marker.size}<extra></extra>",
         "legendgroup": "skill_name=Literal Comprehension",
         "marker": {
          "color": "#00cc96",
          "size": [
           108,
           15,
           73,
           104,
           108
          ],
          "sizemode": "area",
          "sizeref": 1.1,
          "symbol": "circle"
         },
         "mode": "markers",
         "name": "skill_name=Literal Comprehension",
         "showlegend": false,
         "type": "scatter",
         "uid": "7c1d1618-9b2c-4b2f-8d6d-9ffca2765e81",
         "x": [
          "2018",
          "2007",
          "2008",
          "2014",
          "2016"
         ],
         "xaxis": "x3",
         "y": [
          15.980000000000004,
          6.93,
          10.639999999999993,
          7.159999999999997,
          8.549999999999997
         ],
         "yaxis": "y2"
        },
        {
         "hovertemplate": "<b>LOWESS trendline</b><br><br>class=4<br>skill_name=Literal Comprehension<br>skill_name=Literal Comprehension<br>year=%{x}<br>skill_delta=%{y} <b>(trend)</b><extra></extra>",
         "legendgroup": "skill_name=Literal Comprehension",
         "marker": {
          "color": "#00cc96",
          "symbol": "circle"
         },
         "mode": "lines",
         "name": "skill_name=Literal Comprehension",
         "showlegend": false,
         "type": "scatter",
         "uid": "099fb562-3d03-4a1c-8324-1fd2d227baeb",
         "x": [
          2007,
          2008,
          2014,
          2016,
          2018
         ],
         "xaxis": "x3",
         "y": [
          6.930000000002927,
          10.640000000004747,
          7.159999999999997,
          8.549999999999997,
          15.980000000002159
         ],
         "yaxis": "y2"
        },
        {
         "hovertemplate": "class=4<br>skill_name=Vocabulary in Context<br>skill_name=Vocabulary in Context<br>year=%{x}<br>skill_delta=%{y}<br>studentCount=%{marker.size}<extra></extra>",
         "legendgroup": "skill_name=Vocabulary in Context",
         "marker": {
          "color": "#ab63fa",
          "size": [
           108,
           15,
           73,
           104,
           108
          ],
          "sizemode": "area",
          "sizeref": 1.1,
          "symbol": "circle"
         },
         "mode": "markers",
         "name": "skill_name=Vocabulary in Context",
         "showlegend": false,
         "type": "scatter",
         "uid": "c6e2ea79-7b4a-407a-b9be-2d38ea9039ba",
         "x": [
          "2018",
          "2007",
          "2008",
          "2014",
          "2016"
         ],
         "xaxis": "x4",
         "y": [
          13.759999999999998,
          1.519999999999996,
          15.449999999999996,
          10.760000000000005,
          6.049999999999997
         ],
         "yaxis": "y2"
        },
        {
         "hovertemplate": "<b>LOWESS trendline</b><br><br>class=4<br>skill_name=Vocabulary in Context<br>skill_name=Vocabulary in Context<br>year=%{x}<br>skill_delta=%{y} <b>(trend)</b><extra></extra>",
         "legendgroup": "skill_name=Vocabulary in Context",
         "marker": {
          "color": "#ab63fa",
          "symbol": "circle"
         },
         "mode": "lines",
         "name": "skill_name=Vocabulary in Context",
         "showlegend": false,
         "type": "scatter",
         "uid": "2ec79011-5c14-451f-a72f-b8dbb6ca624d",
         "x": [
          2007,
          2008,
          2014,
          2016,
          2018
         ],
         "xaxis": "x4",
         "y": [
          1.5199999999985525,
          15.449999999991153,
          10.76000000000097,
          6.049999999999997,
          13.76000000000183
         ],
         "yaxis": "y2"
        },
        {
         "hovertemplate": "class=5<br>skill_name=Extended Reasoning<br>skill_name=Extended Reasoning<br>year=%{x}<br>skill_delta=%{y}<br>studentCount=%{marker.size}<extra></extra>",
         "legendgroup": "skill_name=Extended Reasoning",
         "marker": {
          "color": "#636efa",
          "size": [
           109,
           16,
           73,
           108,
           103
          ],
          "sizemode": "area",
          "sizeref": 1.1,
          "symbol": "circle"
         },
         "mode": "markers",
         "name": "skill_name=Extended Reasoning",
         "showlegend": false,
         "type": "scatter",
         "uid": "8b47c447-ed0f-4816-9aea-cff3f88df81e",
         "x": [
          "2018",
          "2007",
          "2008",
          "2014",
          "2016"
         ],
         "xaxis": "x",
         "y": [
          10.200000000000003,
          10.719999999999999,
          7.559999999999995,
          9.57,
          11.32
         ],
         "yaxis": "y3"
        },
        {
         "hovertemplate": "<b>LOWESS trendline</b><br><br>class=5<br>skill_name=Extended Reasoning<br>skill_name=Extended Reasoning<br>year=%{x}<br>skill_delta=%{y} <b>(trend)</b><extra></extra>",
         "legendgroup": "skill_name=Extended Reasoning",
         "marker": {
          "color": "#636efa",
          "symbol": "circle"
         },
         "mode": "lines",
         "name": "skill_name=Extended Reasoning",
         "showlegend": false,
         "type": "scatter",
         "uid": "23f086a3-9a39-4d08-80aa-81501d551c35",
         "x": [
          2007,
          2008,
          2014,
          2016,
          2018
         ],
         "xaxis": "x",
         "y": [
          10.720000000004545,
          7.560000000003353,
          9.57,
          11.32,
          10.200000000000003
         ],
         "yaxis": "y3"
        },
        {
         "hovertemplate": "class=5<br>skill_name=Grammar Usage<br>skill_name=Grammar Usage<br>year=%{x}<br>skill_delta=%{y}<br>studentCount=%{marker.size}<extra></extra>",
         "legendgroup": "skill_name=Grammar Usage",
         "marker": {
          "color": "#EF553B",
          "size": [
           109,
           16,
           73,
           108,
           103
          ],
          "sizemode": "area",
          "sizeref": 1.1,
          "symbol": "circle"
         },
         "mode": "markers",
         "name": "skill_name=Grammar Usage",
         "showlegend": false,
         "type": "scatter",
         "uid": "01e5cb3e-5463-4eae-8f2b-5a8349cf2bac",
         "x": [
          "2018",
          "2007",
          "2008",
          "2014",
          "2016"
         ],
         "xaxis": "x2",
         "y": [
          -0.48999999999999844,
          18.919999999999995,
          9.800000000000004,
          14.710000000000008,
          12.729999999999997
         ],
         "yaxis": "y3"
        },
        {
         "hovertemplate": "<b>LOWESS trendline</b><br><br>class=5<br>skill_name=Grammar Usage<br>skill_name=Grammar Usage<br>year=%{x}<br>skill_delta=%{y} <b>(trend)</b><extra></extra>",
         "legendgroup": "skill_name=Grammar Usage",
         "marker": {
          "color": "#EF553B",
          "symbol": "circle"
         },
         "mode": "lines",
         "name": "skill_name=Grammar Usage",
         "showlegend": false,
         "type": "scatter",
         "uid": "b0fba8ed-8eb4-4327-9b8a-586fd3b2e6a9",
         "x": [
          2007,
          2008,
          2014,
          2016,
          2018
         ],
         "xaxis": "x2",
         "y": [
          18.919999999999995,
          9.800000000000004,
          14.710000000005897,
          12.729999999999997,
          -0.48999999999993044
         ],
         "yaxis": "y3"
        },
        {
         "hovertemplate": "class=5<br>skill_name=Literal Comprehension<br>skill_name=Literal Comprehension<br>year=%{x}<br>skill_delta=%{y}<br>studentCount=%{marker.size}<extra></extra>",
         "legendgroup": "skill_name=Literal Comprehension",
         "marker": {
          "color": "#00cc96",
          "size": [
           109,
           16,
           73,
           108,
           103
          ],
          "sizemode": "area",
          "sizeref": 1.1,
          "symbol": "circle"
         },
         "mode": "markers",
         "name": "skill_name=Literal Comprehension",
         "showlegend": false,
         "type": "scatter",
         "uid": "5f55f963-684b-466d-bfd0-d31c57992871",
         "x": [
          "2018",
          "2007",
          "2008",
          "2014",
          "2016"
         ],
         "xaxis": "x3",
         "y": [
          12.460000000000008,
          11.560000000000002,
          4.229999999999997,
          12.58999999999999,
          8.030000000000001
         ],
         "yaxis": "y3"
        },
        {
         "hovertemplate": "<b>LOWESS trendline</b><br><br>class=5<br>skill_name=Literal Comprehension<br>skill_name=Literal Comprehension<br>year=%{x}<br>skill_delta=%{y} <b>(trend)</b><extra></extra>",
         "legendgroup": "skill_name=Literal Comprehension",
         "marker": {
          "color": "#00cc96",
          "symbol": "circle"
         },
         "mode": "lines",
         "name": "skill_name=Literal Comprehension",
         "showlegend": false,
         "type": "scatter",
         "uid": "1b4ca1b2-d5df-4db5-9c29-86e395d0d275",
         "x": [
          2007,
          2008,
          2014,
          2016,
          2018
         ],
         "xaxis": "x3",
         "y": [
          11.560000000000665,
          4.229999999999591,
          12.58999999999999,
          8.030000000000001,
          12.46000000000111
         ],
         "yaxis": "y3"
        },
        {
         "hovertemplate": "class=5<br>skill_name=Vocabulary in Context<br>skill_name=Vocabulary in Context<br>year=%{x}<br>skill_delta=%{y}<br>studentCount=%{marker.size}<extra></extra>",
         "legendgroup": "skill_name=Vocabulary in Context",
         "marker": {
          "color": "#ab63fa",
          "size": [
           109,
           16,
           73,
           108,
           103
          ],
          "sizemode": "area",
          "sizeref": 1.1,
          "symbol": "circle"
         },
         "mode": "markers",
         "name": "skill_name=Vocabulary in Context",
         "showlegend": false,
         "type": "scatter",
         "uid": "1a857583-3183-49e5-b1a9-a6de6bb7a33d",
         "x": [
          "2018",
          "2007",
          "2008",
          "2014",
          "2016"
         ],
         "xaxis": "x4",
         "y": [
          3.8999999999999986,
          33.05,
          11.069999999999993,
          12.310000000000002,
          8.009999999999998
         ],
         "yaxis": "y3"
        },
        {
         "hovertemplate": "<b>LOWESS trendline</b><br><br>class=5<br>skill_name=Vocabulary in Context<br>skill_name=Vocabulary in Context<br>year=%{x}<br>skill_delta=%{y} <b>(trend)</b><extra></extra>",
         "legendgroup": "skill_name=Vocabulary in Context",
         "marker": {
          "color": "#ab63fa",
          "symbol": "circle"
         },
         "mode": "lines",
         "name": "skill_name=Vocabulary in Context",
         "showlegend": false,
         "type": "scatter",
         "uid": "2879db50-8768-48ed-a733-0657ae6289a0",
         "x": [
          2007,
          2008,
          2014,
          2016,
          2018
         ],
         "xaxis": "x4",
         "y": [
          33.05,
          11.069999999999993,
          12.310000000001628,
          8.009999999999998,
          3.90000000000038
         ],
         "yaxis": "y3"
        },
        {
         "hovertemplate": "class=6<br>skill_name=Extended Reasoning<br>skill_name=Extended Reasoning<br>year=%{x}<br>skill_delta=%{y}<br>studentCount=%{marker.size}<extra></extra>",
         "legendgroup": "skill_name=Extended Reasoning",
         "marker": {
          "color": "#636efa",
          "size": [
           107,
           17,
           75,
           82,
           97
          ],
          "sizemode": "area",
          "sizeref": 1.1,
          "symbol": "circle"
         },
         "mode": "markers",
         "name": "skill_name=Extended Reasoning",
         "showlegend": false,
         "type": "scatter",
         "uid": "8a6f7afd-e50a-4181-9ca9-e30d09d2ac53",
         "x": [
          "2018",
          "2007",
          "2008",
          "2014",
          "2016"
         ],
         "xaxis": "x",
         "y": [
          8.43,
          26.009999999999998,
          9.04,
          10.420000000000002,
          12.590000000000003
         ],
         "yaxis": "y4"
        },
        {
         "hovertemplate": "<b>LOWESS trendline</b><br><br>class=6<br>skill_name=Extended Reasoning<br>skill_name=Extended Reasoning<br>year=%{x}<br>skill_delta=%{y} <b>(trend)</b><extra></extra>",
         "legendgroup": "skill_name=Extended Reasoning",
         "marker": {
          "color": "#636efa",
          "symbol": "circle"
         },
         "mode": "lines",
         "name": "skill_name=Extended Reasoning",
         "showlegend": false,
         "type": "scatter",
         "uid": "8b30cd6c-b5aa-429a-a0b1-2f26ae3b034e",
         "x": [
          2007,
          2008,
          2014,
          2016,
          2018
         ],
         "xaxis": "x",
         "y": [
          26.009999999999998,
          9.04,
          10.420000000001234,
          12.590000000000003,
          8.43000000000094
         ],
         "yaxis": "y4"
        },
        {
         "hovertemplate": "class=6<br>skill_name=Grammar Usage<br>skill_name=Grammar Usage<br>year=%{x}<br>skill_delta=%{y}<br>studentCount=%{marker.size}<extra></extra>",
         "legendgroup": "skill_name=Grammar Usage",
         "marker": {
          "color": "#EF553B",
          "size": [
           107,
           17,
           75,
           82,
           97
          ],
          "sizemode": "area",
          "sizeref": 1.1,
          "symbol": "circle"
         },
         "mode": "markers",
         "name": "skill_name=Grammar Usage",
         "showlegend": false,
         "type": "scatter",
         "uid": "e15825d9-de54-4562-8a74-4547cfe1c192",
         "x": [
          "2018",
          "2007",
          "2008",
          "2014",
          "2016"
         ],
         "xaxis": "x2",
         "y": [
          2.049999999999999,
          32.790000000000006,
          20,
          13.589999999999996,
          12.319999999999993
         ],
         "yaxis": "y4"
        },
        {
         "hovertemplate": "<b>LOWESS trendline</b><br><br>class=6<br>skill_name=Grammar Usage<br>skill_name=Grammar Usage<br>year=%{x}<br>skill_delta=%{y} <b>(trend)</b><extra></extra>",
         "legendgroup": "skill_name=Grammar Usage",
         "marker": {
          "color": "#EF553B",
          "symbol": "circle"
         },
         "mode": "lines",
         "name": "skill_name=Grammar Usage",
         "showlegend": false,
         "type": "scatter",
         "uid": "90c0df42-73ff-4c7c-91a2-dc6eb8a28e49",
         "x": [
          2007,
          2008,
          2014,
          2016,
          2018
         ],
         "xaxis": "x2",
         "y": [
          32.790000000000006,
          20,
          13.590000000001705,
          12.319999999999993,
          2.0500000000000016
         ],
         "yaxis": "y4"
        },
        {
         "hovertemplate": "class=6<br>skill_name=Literal Comprehension<br>skill_name=Literal Comprehension<br>year=%{x}<br>skill_delta=%{y}<br>studentCount=%{marker.size}<extra></extra>",
         "legendgroup": "skill_name=Literal Comprehension",
         "marker": {
          "color": "#00cc96",
          "size": [
           107,
           17,
           75,
           82,
           97
          ],
          "sizemode": "area",
          "sizeref": 1.1,
          "symbol": "circle"
         },
         "mode": "markers",
         "name": "skill_name=Literal Comprehension",
         "showlegend": false,
         "type": "scatter",
         "uid": "3256849d-6a09-4dac-a75b-ca0dbc6fb0df",
         "x": [
          "2018",
          "2007",
          "2008",
          "2014",
          "2016"
         ],
         "xaxis": "x3",
         "y": [
          5.859999999999999,
          27.340000000000003,
          13.11,
          11.930000000000007,
          6.950000000000003
         ],
         "yaxis": "y4"
        },
        {
         "hovertemplate": "<b>LOWESS trendline</b><br><br>class=6<br>skill_name=Literal Comprehension<br>skill_name=Literal Comprehension<br>year=%{x}<br>skill_delta=%{y} <b>(trend)</b><extra></extra>",
         "legendgroup": "skill_name=Literal Comprehension",
         "marker": {
          "color": "#00cc96",
          "symbol": "circle"
         },
         "mode": "lines",
         "name": "skill_name=Literal Comprehension",
         "showlegend": false,
         "type": "scatter",
         "uid": "04864555-3577-4737-995d-74d42d0c3700",
         "x": [
          2007,
          2008,
          2014,
          2016,
          2018
         ],
         "xaxis": "x3",
         "y": [
          27.340000000000003,
          13.11,
          11.930000000001602,
          6.950000000000003,
          5.860000000000697
         ],
         "yaxis": "y4"
        },
        {
         "hovertemplate": "class=6<br>skill_name=Vocabulary in Context<br>skill_name=Vocabulary in Context<br>year=%{x}<br>skill_delta=%{y}<br>studentCount=%{marker.size}<extra></extra>",
         "legendgroup": "skill_name=Vocabulary in Context",
         "marker": {
          "color": "#ab63fa",
          "size": [
           107,
           17,
           75,
           82,
           97
          ],
          "sizemode": "area",
          "sizeref": 1.1,
          "symbol": "circle"
         },
         "mode": "markers",
         "name": "skill_name=Vocabulary in Context",
         "showlegend": false,
         "type": "scatter",
         "uid": "ca356801-2bf8-4b81-b245-388a6ee95c61",
         "x": [
          "2018",
          "2007",
          "2008",
          "2014",
          "2016"
         ],
         "xaxis": "x4",
         "y": [
          16.089999999999996,
          27.39,
          17.68,
          14.420000000000002,
          8.14
         ],
         "yaxis": "y4"
        },
        {
         "hovertemplate": "<b>LOWESS trendline</b><br><br>class=6<br>skill_name=Vocabulary in Context<br>skill_name=Vocabulary in Context<br>year=%{x}<br>skill_delta=%{y} <b>(trend)</b><extra></extra>",
         "legendgroup": "skill_name=Vocabulary in Context",
         "marker": {
          "color": "#ab63fa",
          "symbol": "circle"
         },
         "mode": "lines",
         "name": "skill_name=Vocabulary in Context",
         "showlegend": false,
         "type": "scatter",
         "uid": "4d402841-ef43-455c-b4b8-7e672d389e32",
         "x": [
          2007,
          2008,
          2014,
          2016,
          2018
         ],
         "xaxis": "x4",
         "y": [
          27.39000000001162,
          17.680000000007844,
          14.420000000000002,
          8.14,
          16.089999999999996
         ],
         "yaxis": "y4"
        },
        {
         "hovertemplate": "class=7<br>skill_name=Extended Reasoning<br>skill_name=Extended Reasoning<br>year=%{x}<br>skill_delta=%{y}<br>studentCount=%{marker.size}<extra></extra>",
         "legendgroup": "skill_name=Extended Reasoning",
         "marker": {
          "color": "#636efa",
          "size": [
           110,
           4,
           46,
           78,
           96
          ],
          "sizemode": "area",
          "sizeref": 1.1,
          "symbol": "circle"
         },
         "mode": "markers",
         "name": "skill_name=Extended Reasoning",
         "showlegend": false,
         "type": "scatter",
         "uid": "7c1a0c1c-d9e7-4be5-947c-a465ef0a2e4b",
         "x": [
          "2018",
          "2007",
          "2008",
          "2014",
          "2016"
         ],
         "xaxis": "x",
         "y": [
          11.149999999999999,
          9.270000000000003,
          18.009999999999998,
          12.170000000000002,
          17.14
         ],
         "yaxis": "y5"
        },
        {
         "hovertemplate": "<b>LOWESS trendline</b><br><br>class=7<br>skill_name=Extended Reasoning<br>skill_name=Extended Reasoning<br>year=%{x}<br>skill_delta=%{y} <b>(trend)</b><extra></extra>",
         "legendgroup": "skill_name=Extended Reasoning",
         "marker": {
          "color": "#636efa",
          "symbol": "circle"
         },
         "mode": "lines",
         "name": "skill_name=Extended Reasoning",
         "showlegend": false,
         "type": "scatter",
         "uid": "e377856c-07e0-4c91-86b8-0efddb1e192b",
         "x": [
          2007,
          2008,
          2014,
          2016,
          2018
         ],
         "xaxis": "x",
         "y": [
          9.270000000003913,
          18.010000000008052,
          12.170000000000002,
          17.14,
          11.149999999999999
         ],
         "yaxis": "y5"
        },
        {
         "hovertemplate": "class=7<br>skill_name=Grammar Usage<br>skill_name=Grammar Usage<br>year=%{x}<br>skill_delta=%{y}<br>studentCount=%{marker.size}<extra></extra>",
         "legendgroup": "skill_name=Grammar Usage",
         "marker": {
          "color": "#EF553B",
          "size": [
           110,
           4,
           46,
           78,
           96
          ],
          "sizemode": "area",
          "sizeref": 1.1,
          "symbol": "circle"
         },
         "mode": "markers",
         "name": "skill_name=Grammar Usage",
         "showlegend": false,
         "type": "scatter",
         "uid": "74f46272-7aa1-49df-af31-de723a406bc3",
         "x": [
          "2018",
          "2007",
          "2008",
          "2014",
          "2016"
         ],
         "xaxis": "x2",
         "y": [
          4.959999999999997,
          21.590000000000003,
          20.429999999999993,
          16.779999999999994,
          14.32
         ],
         "yaxis": "y5"
        },
        {
         "hovertemplate": "<b>LOWESS trendline</b><br><br>class=7<br>skill_name=Grammar Usage<br>skill_name=Grammar Usage<br>year=%{x}<br>skill_delta=%{y} <b>(trend)</b><extra></extra>",
         "legendgroup": "skill_name=Grammar Usage",
         "marker": {
          "color": "#EF553B",
          "symbol": "circle"
         },
         "mode": "lines",
         "name": "skill_name=Grammar Usage",
         "showlegend": false,
         "type": "scatter",
         "uid": "d4a107e2-648e-48fc-8c56-981d6b894386",
         "x": [
          2007,
          2008,
          2014,
          2016,
          2018
         ],
         "xaxis": "x2",
         "y": [
          21.590000000009148,
          20.430000000009095,
          16.779999999999994,
          14.32,
          4.959999999999997
         ],
         "yaxis": "y5"
        },
        {
         "hovertemplate": "class=7<br>skill_name=Literal Comprehension<br>skill_name=Literal Comprehension<br>year=%{x}<br>skill_delta=%{y}<br>studentCount=%{marker.size}<extra></extra>",
         "legendgroup": "skill_name=Literal Comprehension",
         "marker": {
          "color": "#00cc96",
          "size": [
           110,
           4,
           46,
           78,
           96
          ],
          "sizemode": "area",
          "sizeref": 1.1,
          "symbol": "circle"
         },
         "mode": "markers",
         "name": "skill_name=Literal Comprehension",
         "showlegend": false,
         "type": "scatter",
         "uid": "ae64ad62-793e-4cff-b4a2-3746145461b9",
         "x": [
          "2018",
          "2007",
          "2008",
          "2014",
          "2016"
         ],
         "xaxis": "x3",
         "y": [
          7.149999999999999,
          21.949999999999996,
          23.71,
          13.150000000000006,
          12.150000000000006
         ],
         "yaxis": "y5"
        },
        {
         "hovertemplate": "<b>LOWESS trendline</b><br><br>class=7<br>skill_name=Literal Comprehension<br>skill_name=Literal Comprehension<br>year=%{x}<br>skill_delta=%{y} <b>(trend)</b><extra></extra>",
         "legendgroup": "skill_name=Literal Comprehension",
         "marker": {
          "color": "#00cc96",
          "symbol": "circle"
         },
         "mode": "lines",
         "name": "skill_name=Literal Comprehension",
         "showlegend": false,
         "type": "scatter",
         "uid": "56a30605-5e12-45ee-ad1c-4f9a7ec5cf8b",
         "x": [
          2007,
          2008,
          2014,
          2016,
          2018
         ],
         "xaxis": "x3",
         "y": [
          21.949999999999996,
          23.71,
          13.150000000001654,
          12.150000000000006,
          7.150000000000759
         ],
         "yaxis": "y5"
        },
        {
         "hovertemplate": "class=7<br>skill_name=Vocabulary in Context<br>skill_name=Vocabulary in Context<br>year=%{x}<br>skill_delta=%{y}<br>studentCount=%{marker.size}<extra></extra>",
         "legendgroup": "skill_name=Vocabulary in Context",
         "marker": {
          "color": "#ab63fa",
          "size": [
           110,
           4,
           46,
           78,
           96
          ],
          "sizemode": "area",
          "sizeref": 1.1,
          "symbol": "circle"
         },
         "mode": "markers",
         "name": "skill_name=Vocabulary in Context",
         "showlegend": false,
         "type": "scatter",
         "uid": "ea25a8c9-8edc-47fd-a942-ad42cf251df8",
         "x": [
          "2018",
          "2007",
          "2008",
          "2014",
          "2016"
         ],
         "xaxis": "x4",
         "y": [
          5.199999999999999,
          14.630000000000003,
          15.5,
          16.090000000000003,
          8.800000000000004
         ],
         "yaxis": "y5"
        },
        {
         "hovertemplate": "<b>LOWESS trendline</b><br><br>class=7<br>skill_name=Vocabulary in Context<br>skill_name=Vocabulary in Context<br>year=%{x}<br>skill_delta=%{y} <b>(trend)</b><extra></extra>",
         "legendgroup": "skill_name=Vocabulary in Context",
         "marker": {
          "color": "#ab63fa",
          "symbol": "circle"
         },
         "mode": "lines",
         "name": "skill_name=Vocabulary in Context",
         "showlegend": false,
         "type": "scatter",
         "uid": "c60c7aeb-9884-4dfb-9ba4-883e13e9ae61",
         "x": [
          2007,
          2008,
          2014,
          2016,
          2018
         ],
         "xaxis": "x4",
         "y": [
          14.630000000006198,
          15.50000000000691,
          16.090000000000003,
          8.800000000000004,
          5.199999999999999
         ],
         "yaxis": "y5"
        },
        {
         "hovertemplate": "class=8<br>skill_name=Extended Reasoning<br>skill_name=Extended Reasoning<br>year=%{x}<br>skill_delta=%{y}<br>studentCount=%{marker.size}<extra></extra>",
         "legendgroup": "skill_name=Extended Reasoning",
         "marker": {
          "color": "#636efa",
          "size": [
           96,
           15,
           54,
           76,
           72
          ],
          "sizemode": "area",
          "sizeref": 1.1,
          "symbol": "circle"
         },
         "mode": "markers",
         "name": "skill_name=Extended Reasoning",
         "showlegend": false,
         "type": "scatter",
         "uid": "f9762fae-e66d-4844-9a04-a5c8e44a224d",
         "x": [
          "2018",
          "2007",
          "2008",
          "2014",
          "2016"
         ],
         "xaxis": "x",
         "y": [
          7.619999999999997,
          31.71,
          17.630000000000003,
          11.099999999999994,
          8.96
         ],
         "yaxis": "y6"
        },
        {
         "hovertemplate": "<b>LOWESS trendline</b><br><br>class=8<br>skill_name=Extended Reasoning<br>skill_name=Extended Reasoning<br>year=%{x}<br>skill_delta=%{y} <b>(trend)</b><extra></extra>",
         "legendgroup": "skill_name=Extended Reasoning",
         "marker": {
          "color": "#636efa",
          "symbol": "circle"
         },
         "mode": "lines",
         "name": "skill_name=Extended Reasoning",
         "showlegend": false,
         "type": "scatter",
         "uid": "a11b5805-4feb-4e9d-9d50-6c8738f9f42f",
         "x": [
          2007,
          2008,
          2014,
          2016,
          2018
         ],
         "xaxis": "x",
         "y": [
          31.71,
          17.630000000000003,
          11.100000000001417,
          8.96,
          7.620000000000906
         ],
         "yaxis": "y6"
        },
        {
         "hovertemplate": "class=8<br>skill_name=Grammar Usage<br>skill_name=Grammar Usage<br>year=%{x}<br>skill_delta=%{y}<br>studentCount=%{marker.size}<extra></extra>",
         "legendgroup": "skill_name=Grammar Usage",
         "marker": {
          "color": "#EF553B",
          "size": [
           96,
           15,
           54,
           76,
           72
          ],
          "sizemode": "area",
          "sizeref": 1.1,
          "symbol": "circle"
         },
         "mode": "markers",
         "name": "skill_name=Grammar Usage",
         "showlegend": false,
         "type": "scatter",
         "uid": "c2c550e0-41dd-49f2-9f4b-4f4ea634310e",
         "x": [
          "2018",
          "2007",
          "2008",
          "2014",
          "2016"
         ],
         "xaxis": "x2",
         "y": [
          17.590000000000003,
          25.939999999999998,
          21.189999999999998,
          20.83,
          14.780000000000001
         ],
         "yaxis": "y6"
        },
        {
         "hovertemplate": "<b>LOWESS trendline</b><br><br>class=8<br>skill_name=Grammar Usage<br>skill_name=Grammar Usage<br>year=%{x}<br>skill_delta=%{y} <b>(trend)</b><extra></extra>",
         "legendgroup": "skill_name=Grammar Usage",
         "marker": {
          "color": "#EF553B",
          "symbol": "circle"
         },
         "mode": "lines",
         "name": "skill_name=Grammar Usage",
         "showlegend": false,
         "type": "scatter",
         "uid": "724c0e1e-911d-418c-b6d8-1efe56a9bfa6",
         "x": [
          2007,
          2008,
          2014,
          2016,
          2018
         ],
         "xaxis": "x2",
         "y": [
          25.94000000000977,
          21.1900000000012,
          20.830000000001824,
          14.780000000000001,
          17.590000000000913
         ],
         "yaxis": "y6"
        },
        {
         "hovertemplate": "class=8<br>skill_name=Literal Comprehension<br>skill_name=Literal Comprehension<br>year=%{x}<br>skill_delta=%{y}<br>studentCount=%{marker.size}<extra></extra>",
         "legendgroup": "skill_name=Literal Comprehension",
         "marker": {
          "color": "#00cc96",
          "size": [
           96,
           15,
           54,
           76,
           72
          ],
          "sizemode": "area",
          "sizeref": 1.1,
          "symbol": "circle"
         },
         "mode": "markers",
         "name": "skill_name=Literal Comprehension",
         "showlegend": false,
         "type": "scatter",
         "uid": "198411d5-0d33-491b-ab52-a315e1c9f91b",
         "x": [
          "2018",
          "2007",
          "2008",
          "2014",
          "2016"
         ],
         "xaxis": "x3",
         "y": [
          7,
          30.270000000000003,
          14.79,
          9.68999999999999,
          5.969999999999999
         ],
         "yaxis": "y6"
        },
        {
         "hovertemplate": "<b>LOWESS trendline</b><br><br>class=8<br>skill_name=Literal Comprehension<br>skill_name=Literal Comprehension<br>year=%{x}<br>skill_delta=%{y} <b>(trend)</b><extra></extra>",
         "legendgroup": "skill_name=Literal Comprehension",
         "marker": {
          "color": "#00cc96",
          "symbol": "circle"
         },
         "mode": "lines",
         "name": "skill_name=Literal Comprehension",
         "showlegend": false,
         "type": "scatter",
         "uid": "c89936c0-8743-455b-9195-1d7771513907",
         "x": [
          2007,
          2008,
          2014,
          2016,
          2018
         ],
         "xaxis": "x3",
         "y": [
          30.270000000000003,
          14.79,
          9.690000000001278,
          5.969999999999999,
          7.00000000000089
         ],
         "yaxis": "y6"
        },
        {
         "hovertemplate": "class=8<br>skill_name=Vocabulary in Context<br>skill_name=Vocabulary in Context<br>year=%{x}<br>skill_delta=%{y}<br>studentCount=%{marker.size}<extra></extra>",
         "legendgroup": "skill_name=Vocabulary in Context",
         "marker": {
          "color": "#ab63fa",
          "size": [
           96,
           15,
           54,
           76,
           72
          ],
          "sizemode": "area",
          "sizeref": 1.1,
          "symbol": "circle"
         },
         "mode": "markers",
         "name": "skill_name=Vocabulary in Context",
         "showlegend": false,
         "type": "scatter",
         "uid": "0255a51c-63a1-4651-af39-4cf4d58af020",
         "x": [
          "2018",
          "2007",
          "2008",
          "2014",
          "2016"
         ],
         "xaxis": "x4",
         "y": [
          10.960000000000004,
          19.4,
          12.770000000000003,
          10.939999999999998,
          5.579999999999998
         ],
         "yaxis": "y6"
        },
        {
         "hovertemplate": "<b>LOWESS trendline</b><br><br>class=8<br>skill_name=Vocabulary in Context<br>skill_name=Vocabulary in Context<br>year=%{x}<br>skill_delta=%{y} <b>(trend)</b><extra></extra>",
         "legendgroup": "skill_name=Vocabulary in Context",
         "marker": {
          "color": "#ab63fa",
          "symbol": "circle"
         },
         "mode": "lines",
         "name": "skill_name=Vocabulary in Context",
         "showlegend": false,
         "type": "scatter",
         "uid": "143a0b75-a835-47f1-b88a-15ecef23efb4",
         "x": [
          2007,
          2008,
          2014,
          2016,
          2018
         ],
         "xaxis": "x4",
         "y": [
          19.400000000008227,
          12.770000000005671,
          10.939999999999998,
          5.579999999999998,
          10.960000000000004
         ],
         "yaxis": "y6"
        },
        {
         "hovertemplate": "class=9<br>skill_name=Extended Reasoning<br>skill_name=Extended Reasoning<br>year=%{x}<br>skill_delta=%{y}<br>studentCount=%{marker.size}<extra></extra>",
         "legendgroup": "skill_name=Extended Reasoning",
         "marker": {
          "color": "#636efa",
          "size": [
           98,
           10,
           40,
           73,
           64
          ],
          "sizemode": "area",
          "sizeref": 1.1,
          "symbol": "circle"
         },
         "mode": "markers",
         "name": "skill_name=Extended Reasoning",
         "showlegend": false,
         "type": "scatter",
         "uid": "c21f2e35-3d4b-4aae-ba9e-074a23acaca2",
         "x": [
          "2018",
          "2007",
          "2008",
          "2014",
          "2016"
         ],
         "xaxis": "x",
         "y": [
          9.119999999999997,
          16.58,
          20.020000000000003,
          10.290000000000006,
          16.67
         ],
         "yaxis": "y7"
        },
        {
         "hovertemplate": "<b>LOWESS trendline</b><br><br>class=9<br>skill_name=Extended Reasoning<br>skill_name=Extended Reasoning<br>year=%{x}<br>skill_delta=%{y} <b>(trend)</b><extra></extra>",
         "legendgroup": "skill_name=Extended Reasoning",
         "marker": {
          "color": "#636efa",
          "symbol": "circle"
         },
         "mode": "lines",
         "name": "skill_name=Extended Reasoning",
         "showlegend": false,
         "type": "scatter",
         "uid": "e81e0227-68c3-43d4-b5b9-0ee35b3c955a",
         "x": [
          2007,
          2008,
          2014,
          2016,
          2018
         ],
         "xaxis": "x",
         "y": [
          16.58,
          20.020000000000003,
          10.290000000001122,
          16.67,
          9.120000000000939
         ],
         "yaxis": "y7"
        },
        {
         "hovertemplate": "class=9<br>skill_name=Grammar Usage<br>skill_name=Grammar Usage<br>year=%{x}<br>skill_delta=%{y}<br>studentCount=%{marker.size}<extra></extra>",
         "legendgroup": "skill_name=Grammar Usage",
         "marker": {
          "color": "#EF553B",
          "size": [
           98,
           10,
           40,
           73,
           64
          ],
          "sizemode": "area",
          "sizeref": 1.1,
          "symbol": "circle"
         },
         "mode": "markers",
         "name": "skill_name=Grammar Usage",
         "showlegend": false,
         "type": "scatter",
         "uid": "dea7fb73-a9cf-4a7a-b0e4-65a1cb972c3a",
         "x": [
          "2018",
          "2007",
          "2008",
          "2014",
          "2016"
         ],
         "xaxis": "x2",
         "y": [
          9.200000000000003,
          23.130000000000003,
          24.15,
          14.89,
          18.840000000000003
         ],
         "yaxis": "y7"
        },
        {
         "hovertemplate": "<b>LOWESS trendline</b><br><br>class=9<br>skill_name=Grammar Usage<br>skill_name=Grammar Usage<br>year=%{x}<br>skill_delta=%{y} <b>(trend)</b><extra></extra>",
         "legendgroup": "skill_name=Grammar Usage",
         "marker": {
          "color": "#EF553B",
          "symbol": "circle"
         },
         "mode": "lines",
         "name": "skill_name=Grammar Usage",
         "showlegend": false,
         "type": "scatter",
         "uid": "1cc9f7ca-7deb-4c44-8d4b-c67a122cbdd2",
         "x": [
          2007,
          2008,
          2014,
          2016,
          2018
         ],
         "xaxis": "x2",
         "y": [
          23.130000000000003,
          24.15,
          14.890000000001743,
          18.840000000000003,
          9.200000000000903
         ],
         "yaxis": "y7"
        },
        {
         "hovertemplate": "class=9<br>skill_name=Literal Comprehension<br>skill_name=Literal Comprehension<br>year=%{x}<br>skill_delta=%{y}<br>studentCount=%{marker.size}<extra></extra>",
         "legendgroup": "skill_name=Literal Comprehension",
         "marker": {
          "color": "#00cc96",
          "size": [
           98,
           10,
           40,
           73,
           64
          ],
          "sizemode": "area",
          "sizeref": 1.1,
          "symbol": "circle"
         },
         "mode": "markers",
         "name": "skill_name=Literal Comprehension",
         "showlegend": false,
         "type": "scatter",
         "uid": "cc32d78a-8646-4bac-86e7-b581af56c94a",
         "x": [
          "2018",
          "2007",
          "2008",
          "2014",
          "2016"
         ],
         "xaxis": "x3",
         "y": [
          8.419999999999998,
          14.509999999999998,
          18.419999999999995,
          16.310000000000002,
          18.200000000000003
         ],
         "yaxis": "y7"
        },
        {
         "hovertemplate": "<b>LOWESS trendline</b><br><br>class=9<br>skill_name=Literal Comprehension<br>skill_name=Literal Comprehension<br>year=%{x}<br>skill_delta=%{y} <b>(trend)</b><extra></extra>",
         "legendgroup": "skill_name=Literal Comprehension",
         "marker": {
          "color": "#00cc96",
          "symbol": "circle"
         },
         "mode": "lines",
         "name": "skill_name=Literal Comprehension",
         "showlegend": false,
         "type": "scatter",
         "uid": "ea0e6e16-6ed6-4ef3-9f05-1d42b077aa19",
         "x": [
          2007,
          2008,
          2014,
          2016,
          2018
         ],
         "xaxis": "x3",
         "y": [
          14.510000000006137,
          18.420000000008216,
          16.310000000000002,
          18.200000000000003,
          8.419999999999998
         ],
         "yaxis": "y7"
        },
        {
         "hovertemplate": "class=9<br>skill_name=Vocabulary in Context<br>skill_name=Vocabulary in Context<br>year=%{x}<br>skill_delta=%{y}<br>studentCount=%{marker.size}<extra></extra>",
         "legendgroup": "skill_name=Vocabulary in Context",
         "marker": {
          "color": "#ab63fa",
          "size": [
           98,
           10,
           40,
           73,
           64
          ],
          "sizemode": "area",
          "sizeref": 1.1,
          "symbol": "circle"
         },
         "mode": "markers",
         "name": "skill_name=Vocabulary in Context",
         "showlegend": false,
         "type": "scatter",
         "uid": "f50cecc6-af2a-4135-8780-482ca03570b6",
         "x": [
          "2018",
          "2007",
          "2008",
          "2014",
          "2016"
         ],
         "xaxis": "x4",
         "y": [
          1.9799999999999995,
          18.28,
          22.089999999999996,
          17.190000000000005,
          23.019999999999996
         ],
         "yaxis": "y7"
        },
        {
         "hovertemplate": "<b>LOWESS trendline</b><br><br>class=9<br>skill_name=Vocabulary in Context<br>skill_name=Vocabulary in Context<br>year=%{x}<br>skill_delta=%{y} <b>(trend)</b><extra></extra>",
         "legendgroup": "skill_name=Vocabulary in Context",
         "marker": {
          "color": "#ab63fa",
          "symbol": "circle"
         },
         "mode": "lines",
         "name": "skill_name=Vocabulary in Context",
         "showlegend": false,
         "type": "scatter",
         "uid": "b8515391-11bf-4643-9a77-3cc01cb6a1d4",
         "x": [
          2007,
          2008,
          2014,
          2016,
          2018
         ],
         "xaxis": "x4",
         "y": [
          18.280000000007735,
          22.09000000000985,
          17.190000000000005,
          23.019999999999996,
          1.9799999999999995
         ],
         "yaxis": "y7"
        },
        {
         "hovertemplate": "class=10<br>skill_name=Extended Reasoning<br>skill_name=Extended Reasoning<br>year=%{x}<br>skill_delta=%{y}<br>studentCount=%{marker.size}<extra></extra>",
         "legendgroup": "skill_name=Extended Reasoning",
         "marker": {
          "color": "#636efa",
          "size": [
           73,
           60
          ],
          "sizemode": "area",
          "sizeref": 1.1,
          "symbol": "circle"
         },
         "mode": "markers",
         "name": "skill_name=Extended Reasoning",
         "showlegend": false,
         "type": "scatter",
         "uid": "b2f14f7c-6553-4c2b-8e1a-5520a575cb0e",
         "x": [
          "2014",
          "2016"
         ],
         "xaxis": "x",
         "y": [
          12.739999999999995,
          10.869999999999997
         ],
         "yaxis": "y8"
        },
        {
         "hovertemplate": "<b>LOWESS trendline</b><br><br>class=10<br>skill_name=Extended Reasoning<br>skill_name=Extended Reasoning<br>year=%{x}<br>skill_delta=%{y} <b>(trend)</b><extra></extra>",
         "legendgroup": "skill_name=Extended Reasoning",
         "marker": {
          "color": "#636efa",
          "symbol": "circle"
         },
         "mode": "lines",
         "name": "skill_name=Extended Reasoning",
         "showlegend": false,
         "type": "scatter",
         "uid": "8e8d5288-7856-419a-8455-1b0a6ce38605",
         "x": [
          2014,
          2016
         ],
         "xaxis": "x",
         "y": [
          12.739999999999995,
          10.869999999999997
         ],
         "yaxis": "y8"
        },
        {
         "hovertemplate": "class=10<br>skill_name=Grammar Usage<br>skill_name=Grammar Usage<br>year=%{x}<br>skill_delta=%{y}<br>studentCount=%{marker.size}<extra></extra>",
         "legendgroup": "skill_name=Grammar Usage",
         "marker": {
          "color": "#EF553B",
          "size": [
           73,
           60
          ],
          "sizemode": "area",
          "sizeref": 1.1,
          "symbol": "circle"
         },
         "mode": "markers",
         "name": "skill_name=Grammar Usage",
         "showlegend": false,
         "type": "scatter",
         "uid": "08173b4b-157c-45df-a9da-9a1e0b7f2111",
         "x": [
          "2014",
          "2016"
         ],
         "xaxis": "x2",
         "y": [
          15.690000000000005,
          18.769999999999996
         ],
         "yaxis": "y8"
        },
        {
         "hovertemplate": "<b>LOWESS trendline</b><br><br>class=10<br>skill_name=Grammar Usage<br>skill_name=Grammar Usage<br>year=%{x}<br>skill_delta=%{y} <b>(trend)</b><extra></extra>",
         "legendgroup": "skill_name=Grammar Usage",
         "marker": {
          "color": "#EF553B",
          "symbol": "circle"
         },
         "mode": "lines",
         "name": "skill_name=Grammar Usage",
         "showlegend": false,
         "type": "scatter",
         "uid": "526359e7-9101-43d1-b9e2-5f87f9898726",
         "x": [
          2014,
          2016
         ],
         "xaxis": "x2",
         "y": [
          15.690000000000005,
          18.769999999999996
         ],
         "yaxis": "y8"
        },
        {
         "hovertemplate": "class=10<br>skill_name=Literal Comprehension<br>skill_name=Literal Comprehension<br>year=%{x}<br>skill_delta=%{y}<br>studentCount=%{marker.size}<extra></extra>",
         "legendgroup": "skill_name=Literal Comprehension",
         "marker": {
          "color": "#00cc96",
          "size": [
           73,
           60
          ],
          "sizemode": "area",
          "sizeref": 1.1,
          "symbol": "circle"
         },
         "mode": "markers",
         "name": "skill_name=Literal Comprehension",
         "showlegend": false,
         "type": "scatter",
         "uid": "77d8c90e-4291-41e0-ab03-cb9963a8e167",
         "x": [
          "2014",
          "2016"
         ],
         "xaxis": "x3",
         "y": [
          15.180000000000007,
          15.380000000000003
         ],
         "yaxis": "y8"
        },
        {
         "hovertemplate": "<b>LOWESS trendline</b><br><br>class=10<br>skill_name=Literal Comprehension<br>skill_name=Literal Comprehension<br>year=%{x}<br>skill_delta=%{y} <b>(trend)</b><extra></extra>",
         "legendgroup": "skill_name=Literal Comprehension",
         "marker": {
          "color": "#00cc96",
          "symbol": "circle"
         },
         "mode": "lines",
         "name": "skill_name=Literal Comprehension",
         "showlegend": false,
         "type": "scatter",
         "uid": "da5f3905-a63d-41b5-8b99-1bb93efc01df",
         "x": [
          2014,
          2016
         ],
         "xaxis": "x3",
         "y": [
          15.180000000000007,
          15.380000000000003
         ],
         "yaxis": "y8"
        },
        {
         "hovertemplate": "class=10<br>skill_name=Vocabulary in Context<br>skill_name=Vocabulary in Context<br>year=%{x}<br>skill_delta=%{y}<br>studentCount=%{marker.size}<extra></extra>",
         "legendgroup": "skill_name=Vocabulary in Context",
         "marker": {
          "color": "#ab63fa",
          "size": [
           73,
           60
          ],
          "sizemode": "area",
          "sizeref": 1.1,
          "symbol": "circle"
         },
         "mode": "markers",
         "name": "skill_name=Vocabulary in Context",
         "showlegend": false,
         "type": "scatter",
         "uid": "9fb8ebe3-4625-4477-8ecb-9a6274188fc9",
         "x": [
          "2014",
          "2016"
         ],
         "xaxis": "x4",
         "y": [
          14.719999999999999,
          12.43
         ],
         "yaxis": "y8"
        },
        {
         "hovertemplate": "<b>LOWESS trendline</b><br><br>class=10<br>skill_name=Vocabulary in Context<br>skill_name=Vocabulary in Context<br>year=%{x}<br>skill_delta=%{y} <b>(trend)</b><extra></extra>",
         "legendgroup": "skill_name=Vocabulary in Context",
         "marker": {
          "color": "#ab63fa",
          "symbol": "circle"
         },
         "mode": "lines",
         "name": "skill_name=Vocabulary in Context",
         "showlegend": false,
         "type": "scatter",
         "uid": "d76c7379-7fc5-4dbb-8b3c-0bc451513672",
         "x": [
          2014,
          2016
         ],
         "xaxis": "x4",
         "y": [
          14.719999999999999,
          12.43
         ],
         "yaxis": "y8"
        }
       ],
       "layout": {
        "annotations": [
         {
          "showarrow": false,
          "text": "skill_name=Extended Reasoning",
          "textangle": 0,
          "x": 0.1153846153846154,
          "xanchor": "center",
          "xref": "paper",
          "y": 1.02,
          "yanchor": "middle",
          "yref": "paper"
         },
         {
          "showarrow": false,
          "text": "skill_name=Grammar Usage",
          "textangle": 0,
          "x": 0.3717948717948718,
          "xanchor": "center",
          "xref": "paper",
          "y": 1.02,
          "yanchor": "middle",
          "yref": "paper"
         },
         {
          "showarrow": false,
          "text": "skill_name=Literal Comprehension",
          "textangle": 0,
          "x": 0.6282051282051283,
          "xanchor": "center",
          "xref": "paper",
          "y": 1.02,
          "yanchor": "middle",
          "yref": "paper"
         },
         {
          "showarrow": false,
          "text": "skill_name=Vocabulary in Context",
          "textangle": 0,
          "x": 0.8846153846153848,
          "xanchor": "center",
          "xref": "paper",
          "y": 1.02,
          "yanchor": "middle",
          "yref": "paper"
         },
         {
          "showarrow": false,
          "text": "class=3",
          "textangle": 90,
          "x": 1.01,
          "xanchor": "center",
          "xref": "paper",
          "y": 0.9430379746835442,
          "yanchor": "middle",
          "yref": "paper"
         },
         {
          "showarrow": false,
          "text": "class=4",
          "textangle": 90,
          "x": 1.01,
          "xanchor": "center",
          "xref": "paper",
          "y": 0.8164556962025316,
          "yanchor": "middle",
          "yref": "paper"
         },
         {
          "showarrow": false,
          "text": "class=5",
          "textangle": 90,
          "x": 1.01,
          "xanchor": "center",
          "xref": "paper",
          "y": 0.6898734177215189,
          "yanchor": "middle",
          "yref": "paper"
         },
         {
          "showarrow": false,
          "text": "class=6",
          "textangle": 90,
          "x": 1.01,
          "xanchor": "center",
          "xref": "paper",
          "y": 0.5632911392405062,
          "yanchor": "middle",
          "yref": "paper"
         },
         {
          "showarrow": false,
          "text": "class=7",
          "textangle": 90,
          "x": 1.01,
          "xanchor": "center",
          "xref": "paper",
          "y": 0.4367088607594936,
          "yanchor": "middle",
          "yref": "paper"
         },
         {
          "showarrow": false,
          "text": "class=8",
          "textangle": 90,
          "x": 1.01,
          "xanchor": "center",
          "xref": "paper",
          "y": 0.310126582278481,
          "yanchor": "middle",
          "yref": "paper"
         },
         {
          "showarrow": false,
          "text": "class=9",
          "textangle": 90,
          "x": 1.01,
          "xanchor": "center",
          "xref": "paper",
          "y": 0.18354430379746833,
          "yanchor": "middle",
          "yref": "paper"
         },
         {
          "showarrow": false,
          "text": "class=10",
          "textangle": 90,
          "x": 1.01,
          "xanchor": "center",
          "xref": "paper",
          "y": 0.05696202531645569,
          "yanchor": "middle",
          "yref": "paper"
         }
        ],
        "grid": {
         "xaxes": [
          "x",
          "x2",
          "x3",
          "x4"
         ],
         "xgap": 0.1,
         "xside": "bottom",
         "yaxes": [
          "y",
          "y2",
          "y3",
          "y4",
          "y5",
          "y6",
          "y7",
          "y8"
         ],
         "ygap": 0.1,
         "yside": "left"
        },
        "height": 1500,
        "legend": {
         "tracegroupgap": 0
        },
        "template": {
         "data": {
          "bar": [
           {
            "marker": {
             "line": {
              "color": "#E5ECF6",
              "width": 0.5
             }
            },
            "type": "bar"
           }
          ],
          "barpolar": [
           {
            "marker": {
             "line": {
              "color": "#E5ECF6",
              "width": 0.5
             }
            },
            "type": "barpolar"
           }
          ],
          "carpet": [
           {
            "aaxis": {
             "endlinecolor": "#2a3f5f",
             "gridcolor": "white",
             "linecolor": "white",
             "minorgridcolor": "white",
             "startlinecolor": "#2a3f5f"
            },
            "baxis": {
             "endlinecolor": "#2a3f5f",
             "gridcolor": "white",
             "linecolor": "white",
             "minorgridcolor": "white",
             "startlinecolor": "#2a3f5f"
            },
            "type": "carpet"
           }
          ],
          "choropleth": [
           {
            "colorbar": {
             "outlinewidth": 0,
             "ticks": ""
            },
            "type": "choropleth"
           }
          ],
          "contour": [
           {
            "autocolorscale": true,
            "colorbar": {
             "outlinewidth": 0,
             "ticks": ""
            },
            "type": "contour"
           }
          ],
          "contourcarpet": [
           {
            "colorbar": {
             "outlinewidth": 0,
             "ticks": ""
            },
            "type": "contourcarpet"
           }
          ],
          "heatmap": [
           {
            "autocolorscale": true,
            "colorbar": {
             "outlinewidth": 0,
             "ticks": ""
            },
            "type": "heatmap"
           }
          ],
          "heatmapgl": [
           {
            "colorbar": {
             "outlinewidth": 0,
             "ticks": ""
            },
            "type": "heatmapgl"
           }
          ],
          "histogram": [
           {
            "marker": {
             "colorbar": {
              "outlinewidth": 0,
              "ticks": ""
             }
            },
            "type": "histogram"
           }
          ],
          "histogram2d": [
           {
            "autocolorscale": true,
            "colorbar": {
             "outlinewidth": 0,
             "ticks": ""
            },
            "type": "histogram2d"
           }
          ],
          "histogram2dcontour": [
           {
            "autocolorscale": true,
            "colorbar": {
             "outlinewidth": 0,
             "ticks": ""
            },
            "type": "histogram2dcontour"
           }
          ],
          "mesh3d": [
           {
            "colorbar": {
             "outlinewidth": 0,
             "ticks": ""
            },
            "type": "mesh3d"
           }
          ],
          "parcoords": [
           {
            "line": {
             "colorbar": {
              "outlinewidth": 0,
              "ticks": ""
             }
            },
            "type": "parcoords"
           }
          ],
          "scatter": [
           {
            "marker": {
             "colorbar": {
              "outlinewidth": 0,
              "ticks": ""
             }
            },
            "type": "scatter"
           }
          ],
          "scatter3d": [
           {
            "marker": {
             "colorbar": {
              "outlinewidth": 0,
              "ticks": ""
             }
            },
            "type": "scatter3d"
           }
          ],
          "scattercarpet": [
           {
            "marker": {
             "colorbar": {
              "outlinewidth": 0,
              "ticks": ""
             }
            },
            "type": "scattercarpet"
           }
          ],
          "scattergeo": [
           {
            "marker": {
             "colorbar": {
              "outlinewidth": 0,
              "ticks": ""
             }
            },
            "type": "scattergeo"
           }
          ],
          "scattergl": [
           {
            "marker": {
             "colorbar": {
              "outlinewidth": 0,
              "ticks": ""
             }
            },
            "type": "scattergl"
           }
          ],
          "scattermapbox": [
           {
            "marker": {
             "colorbar": {
              "outlinewidth": 0,
              "ticks": ""
             }
            },
            "type": "scattermapbox"
           }
          ],
          "scatterpolar": [
           {
            "marker": {
             "colorbar": {
              "outlinewidth": 0,
              "ticks": ""
             }
            },
            "type": "scatterpolar"
           }
          ],
          "scatterpolargl": [
           {
            "marker": {
             "colorbar": {
              "outlinewidth": 0,
              "ticks": ""
             }
            },
            "type": "scatterpolargl"
           }
          ],
          "scatterternary": [
           {
            "marker": {
             "colorbar": {
              "outlinewidth": 0,
              "ticks": ""
             }
            },
            "type": "scatterternary"
           }
          ],
          "surface": [
           {
            "colorbar": {
             "outlinewidth": 0,
             "ticks": ""
            },
            "type": "surface"
           }
          ],
          "table": [
           {
            "cells": {
             "fill": {
              "color": "#EBF0F8"
             },
             "line": {
              "color": "white"
             }
            },
            "header": {
             "fill": {
              "color": "#C8D4E3"
             },
             "line": {
              "color": "white"
             }
            },
            "type": "table"
           }
          ]
         },
         "layout": {
          "annotationdefaults": {
           "arrowcolor": "#506784",
           "arrowhead": 0,
           "arrowwidth": 1
          },
          "colorscale": {
           "diverging": [
            [
             0,
             "#8e0152"
            ],
            [
             0.1,
             "#c51b7d"
            ],
            [
             0.2,
             "#de77ae"
            ],
            [
             0.3,
             "#f1b6da"
            ],
            [
             0.4,
             "#fde0ef"
            ],
            [
             0.5,
             "#f7f7f7"
            ],
            [
             0.6,
             "#e6f5d0"
            ],
            [
             0.7,
             "#b8e186"
            ],
            [
             0.8,
             "#7fbc41"
            ],
            [
             0.9,
             "#4d9221"
            ],
            [
             1,
             "#276419"
            ]
           ],
           "sequential": [
            [
             0,
             "#0508b8"
            ],
            [
             0.0893854748603352,
             "#1910d8"
            ],
            [
             0.1787709497206704,
             "#3c19f0"
            ],
            [
             0.2681564245810056,
             "#6b1cfb"
            ],
            [
             0.3575418994413408,
             "#981cfd"
            ],
            [
             0.44692737430167595,
             "#bf1cfd"
            ],
            [
             0.5363128491620112,
             "#dd2bfd"
            ],
            [
             0.6256983240223464,
             "#f246fe"
            ],
            [
             0.7150837988826816,
             "#fc67fd"
            ],
            [
             0.8044692737430168,
             "#fe88fc"
            ],
            [
             0.8938547486033519,
             "#fea5fd"
            ],
            [
             0.9832402234636871,
             "#febefe"
            ],
            [
             1,
             "#fec3fe"
            ]
           ],
           "sequentialminus": [
            [
             0,
             "#0508b8"
            ],
            [
             0.0893854748603352,
             "#1910d8"
            ],
            [
             0.1787709497206704,
             "#3c19f0"
            ],
            [
             0.2681564245810056,
             "#6b1cfb"
            ],
            [
             0.3575418994413408,
             "#981cfd"
            ],
            [
             0.44692737430167595,
             "#bf1cfd"
            ],
            [
             0.5363128491620112,
             "#dd2bfd"
            ],
            [
             0.6256983240223464,
             "#f246fe"
            ],
            [
             0.7150837988826816,
             "#fc67fd"
            ],
            [
             0.8044692737430168,
             "#fe88fc"
            ],
            [
             0.8938547486033519,
             "#fea5fd"
            ],
            [
             0.9832402234636871,
             "#febefe"
            ],
            [
             1,
             "#fec3fe"
            ]
           ]
          },
          "colorway": [
           "#636efa",
           "#EF553B",
           "#00cc96",
           "#ab63fa",
           "#19d3f3",
           "#e763fa",
           "#FECB52",
           "#FFA15A",
           "#FF6692",
           "#B6E880"
          ],
          "font": {
           "color": "#2a3f5f"
          },
          "geo": {
           "bgcolor": "white",
           "lakecolor": "white",
           "landcolor": "#E5ECF6",
           "showlakes": true,
           "showland": true,
           "subunitcolor": "white"
          },
          "hoverlabel": {
           "align": "left"
          },
          "hovermode": "closest",
          "legend": {
           "itemsizing": "constant"
          },
          "mapbox": {
           "style": "light"
          },
          "paper_bgcolor": "white",
          "plot_bgcolor": "#E5ECF6",
          "polar": {
           "angularaxis": {
            "gridcolor": "white",
            "linecolor": "white",
            "ticks": ""
           },
           "bgcolor": "#E5ECF6",
           "radialaxis": {
            "gridcolor": "white",
            "linecolor": "white",
            "ticks": ""
           }
          },
          "scene": {
           "xaxis": {
            "backgroundcolor": "#E5ECF6",
            "gridcolor": "white",
            "gridwidth": 2,
            "linecolor": "white",
            "showbackground": true,
            "ticks": "",
            "zerolinecolor": "white"
           },
           "yaxis": {
            "backgroundcolor": "#E5ECF6",
            "gridcolor": "white",
            "gridwidth": 2,
            "linecolor": "white",
            "showbackground": true,
            "ticks": "",
            "zerolinecolor": "white"
           },
           "zaxis": {
            "backgroundcolor": "#E5ECF6",
            "gridcolor": "white",
            "gridwidth": 2,
            "linecolor": "white",
            "showbackground": true,
            "ticks": "",
            "zerolinecolor": "white"
           }
          },
          "shapedefaults": {
           "fillcolor": "#506784",
           "line": {
            "width": 0
           },
           "opacity": 0.4
          },
          "ternary": {
           "aaxis": {
            "gridcolor": "white",
            "linecolor": "white",
            "ticks": ""
           },
           "baxis": {
            "gridcolor": "white",
            "linecolor": "white",
            "ticks": ""
           },
           "bgcolor": "#E5ECF6",
           "caxis": {
            "gridcolor": "white",
            "linecolor": "white",
            "ticks": ""
           }
          },
          "title": {
           "x": 0.05
          },
          "xaxis": {
           "automargin": true,
           "gridcolor": "white",
           "linecolor": "white",
           "ticks": "",
           "zerolinecolor": "white",
           "zerolinewidth": 2
          },
          "yaxis": {
           "automargin": true,
           "gridcolor": "white",
           "linecolor": "white",
           "ticks": "",
           "zerolinecolor": "white",
           "zerolinewidth": 2
          }
         }
        },
        "title": {
         "text": "Core Skills in English (Sushila Birla Girls^ School-Kolkata-CBSE)"
        },
        "width": 2000,
        "xaxis": {
         "title": {
          "text": "year"
         }
        },
        "xaxis2": {
         "matches": "x",
         "title": {
          "text": "year"
         }
        },
        "xaxis3": {
         "matches": "x",
         "title": {
          "text": "year"
         }
        },
        "xaxis4": {
         "matches": "x",
         "title": {
          "text": "year"
         }
        },
        "yaxis": {
         "title": {
          "text": "skill_delta"
         }
        },
        "yaxis2": {
         "matches": "y",
         "title": {
          "text": "skill_delta"
         }
        },
        "yaxis3": {
         "matches": "y",
         "title": {
          "text": "skill_delta"
         }
        },
        "yaxis4": {
         "matches": "y",
         "title": {
          "text": "skill_delta"
         }
        },
        "yaxis5": {
         "matches": "y",
         "title": {
          "text": "skill_delta"
         }
        },
        "yaxis6": {
         "matches": "y",
         "title": {
          "text": "skill_delta"
         }
        },
        "yaxis7": {
         "matches": "y",
         "title": {
          "text": "skill_delta"
         }
        },
        "yaxis8": {
         "matches": "y",
         "title": {
          "text": "skill_delta"
         }
        }
       }
      },
      "text/html": [
       "<div>\n",
       "        \n",
       "        \n",
       "            <div id=\"47e4c3a6-02d4-44ec-a65a-19f7ac871367\" class=\"plotly-graph-div\"></div>\n",
       "            <script type=\"text/javascript\">\n",
       "                require([\"plotly\"], function(Plotly) {\n",
       "                    window.PLOTLYENV=window.PLOTLYENV || {};\n",
       "                    window.PLOTLYENV.BASE_URL='https://plot.ly';\n",
       "                    \n",
       "                if (document.getElementById(\"47e4c3a6-02d4-44ec-a65a-19f7ac871367\")) {\n",
       "                    Plotly.newPlot(\n",
       "                        '47e4c3a6-02d4-44ec-a65a-19f7ac871367',\n",
       "                        [{\"hovertemplate\": \"class=3<br>skill_name=Extended Reasoning<br>skill_name=Extended Reasoning<br>year=%{x}<br>skill_delta=%{y}<br>studentCount=%{marker.size}<extra></extra>\", \"legendgroup\": \"skill_name=Extended Reasoning\", \"marker\": {\"color\": \"#636efa\", \"size\": [106, 19, 74, 105, 102], \"sizemode\": \"area\", \"sizeref\": 1.1, \"symbol\": \"circle\"}, \"mode\": \"markers\", \"name\": \"skill_name=Extended Reasoning\", \"showlegend\": true, \"type\": \"scatter\", \"uid\": \"76590ed4-d674-410e-97e7-1d541ec5ec1f\", \"x\": [\"2018\", \"2007\", \"2008\", \"2014\", \"2016\"], \"xaxis\": \"x\", \"y\": [11.299999999999997, 24.199999999999996, 12.480000000000004, 9.18, 6.490000000000002], \"yaxis\": \"y\"}, {\"hovertemplate\": \"<b>LOWESS trendline</b><br><br>class=3<br>skill_name=Extended Reasoning<br>skill_name=Extended Reasoning<br>year=%{x}<br>skill_delta=%{y} <b>(trend)</b><extra></extra>\", \"legendgroup\": \"skill_name=Extended Reasoning\", \"marker\": {\"color\": \"#636efa\", \"symbol\": \"circle\"}, \"mode\": \"lines\", \"name\": \"skill_name=Extended Reasoning\", \"showlegend\": false, \"type\": \"scatter\", \"uid\": \"e56c20a2-581f-45be-9860-9687d6fe1314\", \"x\": [2007.0, 2008.0, 2014.0, 2016.0, 2018.0], \"xaxis\": \"x\", \"y\": [24.199999999999996, 12.480000000000004, 9.180000000001199, 6.490000000000002, 11.30000000000151], \"yaxis\": \"y\"}, {\"hovertemplate\": \"class=3<br>skill_name=Grammar Usage<br>skill_name=Grammar Usage<br>year=%{x}<br>skill_delta=%{y}<br>studentCount=%{marker.size}<extra></extra>\", \"legendgroup\": \"skill_name=Grammar Usage\", \"marker\": {\"color\": \"#EF553B\", \"size\": [106, 19, 74, 105, 102], \"sizemode\": \"area\", \"sizeref\": 1.1, \"symbol\": \"circle\"}, \"mode\": \"markers\", \"name\": \"skill_name=Grammar Usage\", \"showlegend\": true, \"type\": \"scatter\", \"uid\": \"b18612f6-eee6-46b1-8fb7-3536e8c3cc9d\", \"x\": [\"2018\", \"2007\", \"2008\", \"2014\", \"2016\"], \"xaxis\": \"x2\", \"y\": [12.920000000000002, 20.77000000000001, 12.5, 11.350000000000009, 12.900000000000006], \"yaxis\": \"y\"}, {\"hovertemplate\": \"<b>LOWESS trendline</b><br><br>class=3<br>skill_name=Grammar Usage<br>skill_name=Grammar Usage<br>year=%{x}<br>skill_delta=%{y} <b>(trend)</b><extra></extra>\", \"legendgroup\": \"skill_name=Grammar Usage\", \"marker\": {\"color\": \"#EF553B\", \"symbol\": \"circle\"}, \"mode\": \"lines\", \"name\": \"skill_name=Grammar Usage\", \"showlegend\": false, \"type\": \"scatter\", \"uid\": \"e21c5a1e-9b46-4936-9fab-a6152e75325f\", \"x\": [2007.0, 2008.0, 2014.0, 2016.0, 2018.0], \"xaxis\": \"x2\", \"y\": [20.77000000000882, 12.500000000005544, 11.350000000000009, 12.900000000000006, 12.920000000000002], \"yaxis\": \"y\"}, {\"hovertemplate\": \"class=3<br>skill_name=Literal Comprehension<br>skill_name=Literal Comprehension<br>year=%{x}<br>skill_delta=%{y}<br>studentCount=%{marker.size}<extra></extra>\", \"legendgroup\": \"skill_name=Literal Comprehension\", \"marker\": {\"color\": \"#00cc96\", \"size\": [106, 19, 74, 105, 102], \"sizemode\": \"area\", \"sizeref\": 1.1, \"symbol\": \"circle\"}, \"mode\": \"markers\", \"name\": \"skill_name=Literal Comprehension\", \"showlegend\": true, \"type\": \"scatter\", \"uid\": \"4a5f7f22-57d6-4f12-9114-34d71ea3a508\", \"x\": [\"2018\", \"2007\", \"2008\", \"2014\", \"2016\"], \"xaxis\": \"x3\", \"y\": [9.229999999999997, 13.100000000000009, 6.489999999999995, 6.950000000000003, 6.3799999999999955], \"yaxis\": \"y\"}, {\"hovertemplate\": \"<b>LOWESS trendline</b><br><br>class=3<br>skill_name=Literal Comprehension<br>skill_name=Literal Comprehension<br>year=%{x}<br>skill_delta=%{y} <b>(trend)</b><extra></extra>\", \"legendgroup\": \"skill_name=Literal Comprehension\", \"marker\": {\"color\": \"#00cc96\", \"symbol\": \"circle\"}, \"mode\": \"lines\", \"name\": \"skill_name=Literal Comprehension\", \"showlegend\": false, \"type\": \"scatter\", \"uid\": \"29b90f21-934e-4a67-99f8-c0594783022b\", \"x\": [2007.0, 2008.0, 2014.0, 2016.0, 2018.0], \"xaxis\": \"x3\", \"y\": [13.099999999998682, 6.48999999999946, 6.949999999999343, 6.3799999999999955, 9.229999999997863], \"yaxis\": \"y\"}, {\"hovertemplate\": \"class=3<br>skill_name=Vocabulary in Context<br>skill_name=Vocabulary in Context<br>year=%{x}<br>skill_delta=%{y}<br>studentCount=%{marker.size}<extra></extra>\", \"legendgroup\": \"skill_name=Vocabulary in Context\", \"marker\": {\"color\": \"#ab63fa\", \"size\": [106, 19, 74, 105, 102], \"sizemode\": \"area\", \"sizeref\": 1.1, \"symbol\": \"circle\"}, \"mode\": \"markers\", \"name\": \"skill_name=Vocabulary in Context\", \"showlegend\": true, \"type\": \"scatter\", \"uid\": \"58ebc69b-5f3b-446f-befd-4b24ef2243ae\", \"x\": [\"2018\", \"2007\", \"2008\", \"2014\", \"2016\"], \"xaxis\": \"x4\", \"y\": [10.25, 23.35000000000001, 13.610000000000007, 11.120000000000005, 3.8900000000000006], \"yaxis\": \"y\"}, {\"hovertemplate\": \"<b>LOWESS trendline</b><br><br>class=3<br>skill_name=Vocabulary in Context<br>skill_name=Vocabulary in Context<br>year=%{x}<br>skill_delta=%{y} <b>(trend)</b><extra></extra>\", \"legendgroup\": \"skill_name=Vocabulary in Context\", \"marker\": {\"color\": \"#ab63fa\", \"symbol\": \"circle\"}, \"mode\": \"lines\", \"name\": \"skill_name=Vocabulary in Context\", \"showlegend\": false, \"type\": \"scatter\", \"uid\": \"90075851-b7b0-4039-ab9e-31ebebbd911d\", \"x\": [2007.0, 2008.0, 2014.0, 2016.0, 2018.0], \"xaxis\": \"x4\", \"y\": [23.35000000000001, 13.610000000000007, 11.120000000001555, 3.8900000000000006, 10.250000000001421], \"yaxis\": \"y\"}, {\"hovertemplate\": \"class=4<br>skill_name=Extended Reasoning<br>skill_name=Extended Reasoning<br>year=%{x}<br>skill_delta=%{y}<br>studentCount=%{marker.size}<extra></extra>\", \"legendgroup\": \"skill_name=Extended Reasoning\", \"marker\": {\"color\": \"#636efa\", \"size\": [108, 15, 73, 104, 108], \"sizemode\": \"area\", \"sizeref\": 1.1, \"symbol\": \"circle\"}, \"mode\": \"markers\", \"name\": \"skill_name=Extended Reasoning\", \"showlegend\": false, \"type\": \"scatter\", \"uid\": \"47186bd6-c4d7-43ee-9a14-4361cedd6821\", \"x\": [\"2018\", \"2007\", \"2008\", \"2014\", \"2016\"], \"xaxis\": \"x\", \"y\": [7.530000000000001, 8.010000000000005, 7.740000000000002, 9.870000000000005, 10.420000000000002], \"yaxis\": \"y2\"}, {\"hovertemplate\": \"<b>LOWESS trendline</b><br><br>class=4<br>skill_name=Extended Reasoning<br>skill_name=Extended Reasoning<br>year=%{x}<br>skill_delta=%{y} <b>(trend)</b><extra></extra>\", \"legendgroup\": \"skill_name=Extended Reasoning\", \"marker\": {\"color\": \"#636efa\", \"symbol\": \"circle\"}, \"mode\": \"lines\", \"name\": \"skill_name=Extended Reasoning\", \"showlegend\": false, \"type\": \"scatter\", \"uid\": \"c8cd24ae-042a-4564-aa6d-303dec576fec\", \"x\": [2007.0, 2008.0, 2014.0, 2016.0, 2018.0], \"xaxis\": \"x\", \"y\": [8.009999999996888, 7.739999999998436, 9.870000000000822, 10.420000000000002, 7.530000000001029], \"yaxis\": \"y2\"}, {\"hovertemplate\": \"class=4<br>skill_name=Grammar Usage<br>skill_name=Grammar Usage<br>year=%{x}<br>skill_delta=%{y}<br>studentCount=%{marker.size}<extra></extra>\", \"legendgroup\": \"skill_name=Grammar Usage\", \"marker\": {\"color\": \"#EF553B\", \"size\": [108, 15, 73, 104, 108], \"sizemode\": \"area\", \"sizeref\": 1.1, \"symbol\": \"circle\"}, \"mode\": \"markers\", \"name\": \"skill_name=Grammar Usage\", \"showlegend\": false, \"type\": \"scatter\", \"uid\": \"f7353b1d-5c2e-4016-a4be-80b894d77c07\", \"x\": [\"2018\", \"2007\", \"2008\", \"2014\", \"2016\"], \"xaxis\": \"x2\", \"y\": [12.14, 0.10999999999999943, 12.690000000000005, 13.230000000000004, 10.29], \"yaxis\": \"y2\"}, {\"hovertemplate\": \"<b>LOWESS trendline</b><br><br>class=4<br>skill_name=Grammar Usage<br>skill_name=Grammar Usage<br>year=%{x}<br>skill_delta=%{y} <b>(trend)</b><extra></extra>\", \"legendgroup\": \"skill_name=Grammar Usage\", \"marker\": {\"color\": \"#EF553B\", \"symbol\": \"circle\"}, \"mode\": \"lines\", \"name\": \"skill_name=Grammar Usage\", \"showlegend\": false, \"type\": \"scatter\", \"uid\": \"792c509a-e31b-451d-a98d-8e45da392783\", \"x\": [2007.0, 2008.0, 2014.0, 2016.0, 2018.0], \"xaxis\": \"x2\", \"y\": [0.10999999999961373, 12.690000000000444, 13.23000000000115, 10.29, 12.139999999997924], \"yaxis\": \"y2\"}, {\"hovertemplate\": \"class=4<br>skill_name=Literal Comprehension<br>skill_name=Literal Comprehension<br>year=%{x}<br>skill_delta=%{y}<br>studentCount=%{marker.size}<extra></extra>\", \"legendgroup\": \"skill_name=Literal Comprehension\", \"marker\": {\"color\": \"#00cc96\", \"size\": [108, 15, 73, 104, 108], \"sizemode\": \"area\", \"sizeref\": 1.1, \"symbol\": \"circle\"}, \"mode\": \"markers\", \"name\": \"skill_name=Literal Comprehension\", \"showlegend\": false, \"type\": \"scatter\", \"uid\": \"a6e50416-cf7e-4a57-a4bf-c7c013b8ab78\", \"x\": [\"2018\", \"2007\", \"2008\", \"2014\", \"2016\"], \"xaxis\": \"x3\", \"y\": [15.980000000000004, 6.93, 10.639999999999993, 7.159999999999997, 8.549999999999997], \"yaxis\": \"y2\"}, {\"hovertemplate\": \"<b>LOWESS trendline</b><br><br>class=4<br>skill_name=Literal Comprehension<br>skill_name=Literal Comprehension<br>year=%{x}<br>skill_delta=%{y} <b>(trend)</b><extra></extra>\", \"legendgroup\": \"skill_name=Literal Comprehension\", \"marker\": {\"color\": \"#00cc96\", \"symbol\": \"circle\"}, \"mode\": \"lines\", \"name\": \"skill_name=Literal Comprehension\", \"showlegend\": false, \"type\": \"scatter\", \"uid\": \"66453a24-68dc-486e-9f46-db970783830d\", \"x\": [2007.0, 2008.0, 2014.0, 2016.0, 2018.0], \"xaxis\": \"x3\", \"y\": [6.930000000002927, 10.640000000004747, 7.159999999999997, 8.549999999999997, 15.980000000002159], \"yaxis\": \"y2\"}, {\"hovertemplate\": \"class=4<br>skill_name=Vocabulary in Context<br>skill_name=Vocabulary in Context<br>year=%{x}<br>skill_delta=%{y}<br>studentCount=%{marker.size}<extra></extra>\", \"legendgroup\": \"skill_name=Vocabulary in Context\", \"marker\": {\"color\": \"#ab63fa\", \"size\": [108, 15, 73, 104, 108], \"sizemode\": \"area\", \"sizeref\": 1.1, \"symbol\": \"circle\"}, \"mode\": \"markers\", \"name\": \"skill_name=Vocabulary in Context\", \"showlegend\": false, \"type\": \"scatter\", \"uid\": \"d4dfc999-e659-426e-bca1-9f5cc9cfcd1c\", \"x\": [\"2018\", \"2007\", \"2008\", \"2014\", \"2016\"], \"xaxis\": \"x4\", \"y\": [13.759999999999998, 1.519999999999996, 15.449999999999996, 10.760000000000005, 6.049999999999997], \"yaxis\": \"y2\"}, {\"hovertemplate\": \"<b>LOWESS trendline</b><br><br>class=4<br>skill_name=Vocabulary in Context<br>skill_name=Vocabulary in Context<br>year=%{x}<br>skill_delta=%{y} <b>(trend)</b><extra></extra>\", \"legendgroup\": \"skill_name=Vocabulary in Context\", \"marker\": {\"color\": \"#ab63fa\", \"symbol\": \"circle\"}, \"mode\": \"lines\", \"name\": \"skill_name=Vocabulary in Context\", \"showlegend\": false, \"type\": \"scatter\", \"uid\": \"af1d2494-ce8b-4195-b5e2-e89d48ba75f9\", \"x\": [2007.0, 2008.0, 2014.0, 2016.0, 2018.0], \"xaxis\": \"x4\", \"y\": [1.5199999999985525, 15.449999999991153, 10.76000000000097, 6.049999999999997, 13.76000000000183], \"yaxis\": \"y2\"}, {\"hovertemplate\": \"class=5<br>skill_name=Extended Reasoning<br>skill_name=Extended Reasoning<br>year=%{x}<br>skill_delta=%{y}<br>studentCount=%{marker.size}<extra></extra>\", \"legendgroup\": \"skill_name=Extended Reasoning\", \"marker\": {\"color\": \"#636efa\", \"size\": [109, 16, 73, 108, 103], \"sizemode\": \"area\", \"sizeref\": 1.1, \"symbol\": \"circle\"}, \"mode\": \"markers\", \"name\": \"skill_name=Extended Reasoning\", \"showlegend\": false, \"type\": \"scatter\", \"uid\": \"5361f8db-3807-475e-8399-4eb861040b41\", \"x\": [\"2018\", \"2007\", \"2008\", \"2014\", \"2016\"], \"xaxis\": \"x\", \"y\": [10.200000000000003, 10.719999999999999, 7.559999999999995, 9.57, 11.32], \"yaxis\": \"y3\"}, {\"hovertemplate\": \"<b>LOWESS trendline</b><br><br>class=5<br>skill_name=Extended Reasoning<br>skill_name=Extended Reasoning<br>year=%{x}<br>skill_delta=%{y} <b>(trend)</b><extra></extra>\", \"legendgroup\": \"skill_name=Extended Reasoning\", \"marker\": {\"color\": \"#636efa\", \"symbol\": \"circle\"}, \"mode\": \"lines\", \"name\": \"skill_name=Extended Reasoning\", \"showlegend\": false, \"type\": \"scatter\", \"uid\": \"3c965d47-32c9-43ed-bfd5-3e622e797a21\", \"x\": [2007.0, 2008.0, 2014.0, 2016.0, 2018.0], \"xaxis\": \"x\", \"y\": [10.720000000004545, 7.560000000003353, 9.57, 11.32, 10.200000000000003], \"yaxis\": \"y3\"}, {\"hovertemplate\": \"class=5<br>skill_name=Grammar Usage<br>skill_name=Grammar Usage<br>year=%{x}<br>skill_delta=%{y}<br>studentCount=%{marker.size}<extra></extra>\", \"legendgroup\": \"skill_name=Grammar Usage\", \"marker\": {\"color\": \"#EF553B\", \"size\": [109, 16, 73, 108, 103], \"sizemode\": \"area\", \"sizeref\": 1.1, \"symbol\": \"circle\"}, \"mode\": \"markers\", \"name\": \"skill_name=Grammar Usage\", \"showlegend\": false, \"type\": \"scatter\", \"uid\": \"64bafea6-e7b5-4002-a5d7-143d5cbdf3d5\", \"x\": [\"2018\", \"2007\", \"2008\", \"2014\", \"2016\"], \"xaxis\": \"x2\", \"y\": [-0.48999999999999844, 18.919999999999995, 9.800000000000004, 14.710000000000008, 12.729999999999997], \"yaxis\": \"y3\"}, {\"hovertemplate\": \"<b>LOWESS trendline</b><br><br>class=5<br>skill_name=Grammar Usage<br>skill_name=Grammar Usage<br>year=%{x}<br>skill_delta=%{y} <b>(trend)</b><extra></extra>\", \"legendgroup\": \"skill_name=Grammar Usage\", \"marker\": {\"color\": \"#EF553B\", \"symbol\": \"circle\"}, \"mode\": \"lines\", \"name\": \"skill_name=Grammar Usage\", \"showlegend\": false, \"type\": \"scatter\", \"uid\": \"db670c1b-710b-4b2f-be39-f338600e2feb\", \"x\": [2007.0, 2008.0, 2014.0, 2016.0, 2018.0], \"xaxis\": \"x2\", \"y\": [18.919999999999995, 9.800000000000004, 14.710000000005897, 12.729999999999997, -0.48999999999993044], \"yaxis\": \"y3\"}, {\"hovertemplate\": \"class=5<br>skill_name=Literal Comprehension<br>skill_name=Literal Comprehension<br>year=%{x}<br>skill_delta=%{y}<br>studentCount=%{marker.size}<extra></extra>\", \"legendgroup\": \"skill_name=Literal Comprehension\", \"marker\": {\"color\": \"#00cc96\", \"size\": [109, 16, 73, 108, 103], \"sizemode\": \"area\", \"sizeref\": 1.1, \"symbol\": \"circle\"}, \"mode\": \"markers\", \"name\": \"skill_name=Literal Comprehension\", \"showlegend\": false, \"type\": \"scatter\", \"uid\": \"df1b8035-bab8-4148-b0f4-b2780e5d3454\", \"x\": [\"2018\", \"2007\", \"2008\", \"2014\", \"2016\"], \"xaxis\": \"x3\", \"y\": [12.460000000000008, 11.560000000000002, 4.229999999999997, 12.58999999999999, 8.030000000000001], \"yaxis\": \"y3\"}, {\"hovertemplate\": \"<b>LOWESS trendline</b><br><br>class=5<br>skill_name=Literal Comprehension<br>skill_name=Literal Comprehension<br>year=%{x}<br>skill_delta=%{y} <b>(trend)</b><extra></extra>\", \"legendgroup\": \"skill_name=Literal Comprehension\", \"marker\": {\"color\": \"#00cc96\", \"symbol\": \"circle\"}, \"mode\": \"lines\", \"name\": \"skill_name=Literal Comprehension\", \"showlegend\": false, \"type\": \"scatter\", \"uid\": \"6523dc69-2618-44be-8d79-908ba6672d37\", \"x\": [2007.0, 2008.0, 2014.0, 2016.0, 2018.0], \"xaxis\": \"x3\", \"y\": [11.560000000000665, 4.229999999999591, 12.58999999999999, 8.030000000000001, 12.46000000000111], \"yaxis\": \"y3\"}, {\"hovertemplate\": \"class=5<br>skill_name=Vocabulary in Context<br>skill_name=Vocabulary in Context<br>year=%{x}<br>skill_delta=%{y}<br>studentCount=%{marker.size}<extra></extra>\", \"legendgroup\": \"skill_name=Vocabulary in Context\", \"marker\": {\"color\": \"#ab63fa\", \"size\": [109, 16, 73, 108, 103], \"sizemode\": \"area\", \"sizeref\": 1.1, \"symbol\": \"circle\"}, \"mode\": \"markers\", \"name\": \"skill_name=Vocabulary in Context\", \"showlegend\": false, \"type\": \"scatter\", \"uid\": \"4f533de5-3106-4c6f-8a16-4cd0bd07dd15\", \"x\": [\"2018\", \"2007\", \"2008\", \"2014\", \"2016\"], \"xaxis\": \"x4\", \"y\": [3.8999999999999986, 33.05, 11.069999999999993, 12.310000000000002, 8.009999999999998], \"yaxis\": \"y3\"}, {\"hovertemplate\": \"<b>LOWESS trendline</b><br><br>class=5<br>skill_name=Vocabulary in Context<br>skill_name=Vocabulary in Context<br>year=%{x}<br>skill_delta=%{y} <b>(trend)</b><extra></extra>\", \"legendgroup\": \"skill_name=Vocabulary in Context\", \"marker\": {\"color\": \"#ab63fa\", \"symbol\": \"circle\"}, \"mode\": \"lines\", \"name\": \"skill_name=Vocabulary in Context\", \"showlegend\": false, \"type\": \"scatter\", \"uid\": \"3ffd0542-785e-4fe7-bef4-4f14c94bd0d6\", \"x\": [2007.0, 2008.0, 2014.0, 2016.0, 2018.0], \"xaxis\": \"x4\", \"y\": [33.05, 11.069999999999993, 12.310000000001628, 8.009999999999998, 3.90000000000038], \"yaxis\": \"y3\"}, {\"hovertemplate\": \"class=6<br>skill_name=Extended Reasoning<br>skill_name=Extended Reasoning<br>year=%{x}<br>skill_delta=%{y}<br>studentCount=%{marker.size}<extra></extra>\", \"legendgroup\": \"skill_name=Extended Reasoning\", \"marker\": {\"color\": \"#636efa\", \"size\": [107, 17, 75, 82, 97], \"sizemode\": \"area\", \"sizeref\": 1.1, \"symbol\": \"circle\"}, \"mode\": \"markers\", \"name\": \"skill_name=Extended Reasoning\", \"showlegend\": false, \"type\": \"scatter\", \"uid\": \"8f1cb422-2471-46ed-aa12-577beea777c3\", \"x\": [\"2018\", \"2007\", \"2008\", \"2014\", \"2016\"], \"xaxis\": \"x\", \"y\": [8.43, 26.009999999999998, 9.04, 10.420000000000002, 12.590000000000003], \"yaxis\": \"y4\"}, {\"hovertemplate\": \"<b>LOWESS trendline</b><br><br>class=6<br>skill_name=Extended Reasoning<br>skill_name=Extended Reasoning<br>year=%{x}<br>skill_delta=%{y} <b>(trend)</b><extra></extra>\", \"legendgroup\": \"skill_name=Extended Reasoning\", \"marker\": {\"color\": \"#636efa\", \"symbol\": \"circle\"}, \"mode\": \"lines\", \"name\": \"skill_name=Extended Reasoning\", \"showlegend\": false, \"type\": \"scatter\", \"uid\": \"6b0a647b-73a9-4107-81d9-58bcbb8bb45e\", \"x\": [2007.0, 2008.0, 2014.0, 2016.0, 2018.0], \"xaxis\": \"x\", \"y\": [26.009999999999998, 9.04, 10.420000000001234, 12.590000000000003, 8.43000000000094], \"yaxis\": \"y4\"}, {\"hovertemplate\": \"class=6<br>skill_name=Grammar Usage<br>skill_name=Grammar Usage<br>year=%{x}<br>skill_delta=%{y}<br>studentCount=%{marker.size}<extra></extra>\", \"legendgroup\": \"skill_name=Grammar Usage\", \"marker\": {\"color\": \"#EF553B\", \"size\": [107, 17, 75, 82, 97], \"sizemode\": \"area\", \"sizeref\": 1.1, \"symbol\": \"circle\"}, \"mode\": \"markers\", \"name\": \"skill_name=Grammar Usage\", \"showlegend\": false, \"type\": \"scatter\", \"uid\": \"c98ee409-af41-4192-a906-42b956e44697\", \"x\": [\"2018\", \"2007\", \"2008\", \"2014\", \"2016\"], \"xaxis\": \"x2\", \"y\": [2.049999999999999, 32.790000000000006, 20.0, 13.589999999999996, 12.319999999999993], \"yaxis\": \"y4\"}, {\"hovertemplate\": \"<b>LOWESS trendline</b><br><br>class=6<br>skill_name=Grammar Usage<br>skill_name=Grammar Usage<br>year=%{x}<br>skill_delta=%{y} <b>(trend)</b><extra></extra>\", \"legendgroup\": \"skill_name=Grammar Usage\", \"marker\": {\"color\": \"#EF553B\", \"symbol\": \"circle\"}, \"mode\": \"lines\", \"name\": \"skill_name=Grammar Usage\", \"showlegend\": false, \"type\": \"scatter\", \"uid\": \"43760e6b-7e26-41c3-bbce-bd15ce5fb2a6\", \"x\": [2007.0, 2008.0, 2014.0, 2016.0, 2018.0], \"xaxis\": \"x2\", \"y\": [32.790000000000006, 20.0, 13.590000000001705, 12.319999999999993, 2.0500000000000016], \"yaxis\": \"y4\"}, {\"hovertemplate\": \"class=6<br>skill_name=Literal Comprehension<br>skill_name=Literal Comprehension<br>year=%{x}<br>skill_delta=%{y}<br>studentCount=%{marker.size}<extra></extra>\", \"legendgroup\": \"skill_name=Literal Comprehension\", \"marker\": {\"color\": \"#00cc96\", \"size\": [107, 17, 75, 82, 97], \"sizemode\": \"area\", \"sizeref\": 1.1, \"symbol\": \"circle\"}, \"mode\": \"markers\", \"name\": \"skill_name=Literal Comprehension\", \"showlegend\": false, \"type\": \"scatter\", \"uid\": \"ad840629-7960-4c00-9e0b-4989b5fd7921\", \"x\": [\"2018\", \"2007\", \"2008\", \"2014\", \"2016\"], \"xaxis\": \"x3\", \"y\": [5.859999999999999, 27.340000000000003, 13.11, 11.930000000000007, 6.950000000000003], \"yaxis\": \"y4\"}, {\"hovertemplate\": \"<b>LOWESS trendline</b><br><br>class=6<br>skill_name=Literal Comprehension<br>skill_name=Literal Comprehension<br>year=%{x}<br>skill_delta=%{y} <b>(trend)</b><extra></extra>\", \"legendgroup\": \"skill_name=Literal Comprehension\", \"marker\": {\"color\": \"#00cc96\", \"symbol\": \"circle\"}, \"mode\": \"lines\", \"name\": \"skill_name=Literal Comprehension\", \"showlegend\": false, \"type\": \"scatter\", \"uid\": \"18e96402-37e9-42e9-9771-a968ff39fc79\", \"x\": [2007.0, 2008.0, 2014.0, 2016.0, 2018.0], \"xaxis\": \"x3\", \"y\": [27.340000000000003, 13.11, 11.930000000001602, 6.950000000000003, 5.860000000000697], \"yaxis\": \"y4\"}, {\"hovertemplate\": \"class=6<br>skill_name=Vocabulary in Context<br>skill_name=Vocabulary in Context<br>year=%{x}<br>skill_delta=%{y}<br>studentCount=%{marker.size}<extra></extra>\", \"legendgroup\": \"skill_name=Vocabulary in Context\", \"marker\": {\"color\": \"#ab63fa\", \"size\": [107, 17, 75, 82, 97], \"sizemode\": \"area\", \"sizeref\": 1.1, \"symbol\": \"circle\"}, \"mode\": \"markers\", \"name\": \"skill_name=Vocabulary in Context\", \"showlegend\": false, \"type\": \"scatter\", \"uid\": \"90724daf-2278-47a4-8f8e-448918255c2f\", \"x\": [\"2018\", \"2007\", \"2008\", \"2014\", \"2016\"], \"xaxis\": \"x4\", \"y\": [16.089999999999996, 27.39, 17.68, 14.420000000000002, 8.14], \"yaxis\": \"y4\"}, {\"hovertemplate\": \"<b>LOWESS trendline</b><br><br>class=6<br>skill_name=Vocabulary in Context<br>skill_name=Vocabulary in Context<br>year=%{x}<br>skill_delta=%{y} <b>(trend)</b><extra></extra>\", \"legendgroup\": \"skill_name=Vocabulary in Context\", \"marker\": {\"color\": \"#ab63fa\", \"symbol\": \"circle\"}, \"mode\": \"lines\", \"name\": \"skill_name=Vocabulary in Context\", \"showlegend\": false, \"type\": \"scatter\", \"uid\": \"3a0e501c-b299-4af4-9aad-6e6eb5407812\", \"x\": [2007.0, 2008.0, 2014.0, 2016.0, 2018.0], \"xaxis\": \"x4\", \"y\": [27.39000000001162, 17.680000000007844, 14.420000000000002, 8.14, 16.089999999999996], \"yaxis\": \"y4\"}, {\"hovertemplate\": \"class=7<br>skill_name=Extended Reasoning<br>skill_name=Extended Reasoning<br>year=%{x}<br>skill_delta=%{y}<br>studentCount=%{marker.size}<extra></extra>\", \"legendgroup\": \"skill_name=Extended Reasoning\", \"marker\": {\"color\": \"#636efa\", \"size\": [110, 4, 46, 78, 96], \"sizemode\": \"area\", \"sizeref\": 1.1, \"symbol\": \"circle\"}, \"mode\": \"markers\", \"name\": \"skill_name=Extended Reasoning\", \"showlegend\": false, \"type\": \"scatter\", \"uid\": \"8b9cf085-8904-4c6c-899d-3d413d804916\", \"x\": [\"2018\", \"2007\", \"2008\", \"2014\", \"2016\"], \"xaxis\": \"x\", \"y\": [11.149999999999999, 9.270000000000003, 18.009999999999998, 12.170000000000002, 17.14], \"yaxis\": \"y5\"}, {\"hovertemplate\": \"<b>LOWESS trendline</b><br><br>class=7<br>skill_name=Extended Reasoning<br>skill_name=Extended Reasoning<br>year=%{x}<br>skill_delta=%{y} <b>(trend)</b><extra></extra>\", \"legendgroup\": \"skill_name=Extended Reasoning\", \"marker\": {\"color\": \"#636efa\", \"symbol\": \"circle\"}, \"mode\": \"lines\", \"name\": \"skill_name=Extended Reasoning\", \"showlegend\": false, \"type\": \"scatter\", \"uid\": \"e9068d4b-9b96-4518-86a5-c3ea7d3041fb\", \"x\": [2007.0, 2008.0, 2014.0, 2016.0, 2018.0], \"xaxis\": \"x\", \"y\": [9.270000000003913, 18.010000000008052, 12.170000000000002, 17.14, 11.149999999999999], \"yaxis\": \"y5\"}, {\"hovertemplate\": \"class=7<br>skill_name=Grammar Usage<br>skill_name=Grammar Usage<br>year=%{x}<br>skill_delta=%{y}<br>studentCount=%{marker.size}<extra></extra>\", \"legendgroup\": \"skill_name=Grammar Usage\", \"marker\": {\"color\": \"#EF553B\", \"size\": [110, 4, 46, 78, 96], \"sizemode\": \"area\", \"sizeref\": 1.1, \"symbol\": \"circle\"}, \"mode\": \"markers\", \"name\": \"skill_name=Grammar Usage\", \"showlegend\": false, \"type\": \"scatter\", \"uid\": \"cde1b9d8-79b6-449f-86fb-7a181c16e9b3\", \"x\": [\"2018\", \"2007\", \"2008\", \"2014\", \"2016\"], \"xaxis\": \"x2\", \"y\": [4.959999999999997, 21.590000000000003, 20.429999999999993, 16.779999999999994, 14.32], \"yaxis\": \"y5\"}, {\"hovertemplate\": \"<b>LOWESS trendline</b><br><br>class=7<br>skill_name=Grammar Usage<br>skill_name=Grammar Usage<br>year=%{x}<br>skill_delta=%{y} <b>(trend)</b><extra></extra>\", \"legendgroup\": \"skill_name=Grammar Usage\", \"marker\": {\"color\": \"#EF553B\", \"symbol\": \"circle\"}, \"mode\": \"lines\", \"name\": \"skill_name=Grammar Usage\", \"showlegend\": false, \"type\": \"scatter\", \"uid\": \"e2bc3aac-8877-4052-b919-41cd0af6f1ab\", \"x\": [2007.0, 2008.0, 2014.0, 2016.0, 2018.0], \"xaxis\": \"x2\", \"y\": [21.590000000009148, 20.430000000009095, 16.779999999999994, 14.32, 4.959999999999997], \"yaxis\": \"y5\"}, {\"hovertemplate\": \"class=7<br>skill_name=Literal Comprehension<br>skill_name=Literal Comprehension<br>year=%{x}<br>skill_delta=%{y}<br>studentCount=%{marker.size}<extra></extra>\", \"legendgroup\": \"skill_name=Literal Comprehension\", \"marker\": {\"color\": \"#00cc96\", \"size\": [110, 4, 46, 78, 96], \"sizemode\": \"area\", \"sizeref\": 1.1, \"symbol\": \"circle\"}, \"mode\": \"markers\", \"name\": \"skill_name=Literal Comprehension\", \"showlegend\": false, \"type\": \"scatter\", \"uid\": \"c472b9d3-ad6f-46bf-9e3b-8105fed732d6\", \"x\": [\"2018\", \"2007\", \"2008\", \"2014\", \"2016\"], \"xaxis\": \"x3\", \"y\": [7.149999999999999, 21.949999999999996, 23.71, 13.150000000000006, 12.150000000000006], \"yaxis\": \"y5\"}, {\"hovertemplate\": \"<b>LOWESS trendline</b><br><br>class=7<br>skill_name=Literal Comprehension<br>skill_name=Literal Comprehension<br>year=%{x}<br>skill_delta=%{y} <b>(trend)</b><extra></extra>\", \"legendgroup\": \"skill_name=Literal Comprehension\", \"marker\": {\"color\": \"#00cc96\", \"symbol\": \"circle\"}, \"mode\": \"lines\", \"name\": \"skill_name=Literal Comprehension\", \"showlegend\": false, \"type\": \"scatter\", \"uid\": \"d0c0796d-1de1-4014-ab7c-dd4dee7fa825\", \"x\": [2007.0, 2008.0, 2014.0, 2016.0, 2018.0], \"xaxis\": \"x3\", \"y\": [21.949999999999996, 23.71, 13.150000000001654, 12.150000000000006, 7.150000000000759], \"yaxis\": \"y5\"}, {\"hovertemplate\": \"class=7<br>skill_name=Vocabulary in Context<br>skill_name=Vocabulary in Context<br>year=%{x}<br>skill_delta=%{y}<br>studentCount=%{marker.size}<extra></extra>\", \"legendgroup\": \"skill_name=Vocabulary in Context\", \"marker\": {\"color\": \"#ab63fa\", \"size\": [110, 4, 46, 78, 96], \"sizemode\": \"area\", \"sizeref\": 1.1, \"symbol\": \"circle\"}, \"mode\": \"markers\", \"name\": \"skill_name=Vocabulary in Context\", \"showlegend\": false, \"type\": \"scatter\", \"uid\": \"caf831ca-30da-4bce-af21-bfc11dd67fd1\", \"x\": [\"2018\", \"2007\", \"2008\", \"2014\", \"2016\"], \"xaxis\": \"x4\", \"y\": [5.199999999999999, 14.630000000000003, 15.5, 16.090000000000003, 8.800000000000004], \"yaxis\": \"y5\"}, {\"hovertemplate\": \"<b>LOWESS trendline</b><br><br>class=7<br>skill_name=Vocabulary in Context<br>skill_name=Vocabulary in Context<br>year=%{x}<br>skill_delta=%{y} <b>(trend)</b><extra></extra>\", \"legendgroup\": \"skill_name=Vocabulary in Context\", \"marker\": {\"color\": \"#ab63fa\", \"symbol\": \"circle\"}, \"mode\": \"lines\", \"name\": \"skill_name=Vocabulary in Context\", \"showlegend\": false, \"type\": \"scatter\", \"uid\": \"2eb03cdf-6bf1-42dd-b88c-b07d65b1ec03\", \"x\": [2007.0, 2008.0, 2014.0, 2016.0, 2018.0], \"xaxis\": \"x4\", \"y\": [14.630000000006198, 15.50000000000691, 16.090000000000003, 8.800000000000004, 5.199999999999999], \"yaxis\": \"y5\"}, {\"hovertemplate\": \"class=8<br>skill_name=Extended Reasoning<br>skill_name=Extended Reasoning<br>year=%{x}<br>skill_delta=%{y}<br>studentCount=%{marker.size}<extra></extra>\", \"legendgroup\": \"skill_name=Extended Reasoning\", \"marker\": {\"color\": \"#636efa\", \"size\": [96, 15, 54, 76, 72], \"sizemode\": \"area\", \"sizeref\": 1.1, \"symbol\": \"circle\"}, \"mode\": \"markers\", \"name\": \"skill_name=Extended Reasoning\", \"showlegend\": false, \"type\": \"scatter\", \"uid\": \"68bb1d31-8412-49c7-86bc-92de0df4a228\", \"x\": [\"2018\", \"2007\", \"2008\", \"2014\", \"2016\"], \"xaxis\": \"x\", \"y\": [7.619999999999997, 31.71, 17.630000000000003, 11.099999999999994, 8.96], \"yaxis\": \"y6\"}, {\"hovertemplate\": \"<b>LOWESS trendline</b><br><br>class=8<br>skill_name=Extended Reasoning<br>skill_name=Extended Reasoning<br>year=%{x}<br>skill_delta=%{y} <b>(trend)</b><extra></extra>\", \"legendgroup\": \"skill_name=Extended Reasoning\", \"marker\": {\"color\": \"#636efa\", \"symbol\": \"circle\"}, \"mode\": \"lines\", \"name\": \"skill_name=Extended Reasoning\", \"showlegend\": false, \"type\": \"scatter\", \"uid\": \"df2dc7ce-5c2a-40c6-84c8-2194a345da09\", \"x\": [2007.0, 2008.0, 2014.0, 2016.0, 2018.0], \"xaxis\": \"x\", \"y\": [31.71, 17.630000000000003, 11.100000000001417, 8.96, 7.620000000000906], \"yaxis\": \"y6\"}, {\"hovertemplate\": \"class=8<br>skill_name=Grammar Usage<br>skill_name=Grammar Usage<br>year=%{x}<br>skill_delta=%{y}<br>studentCount=%{marker.size}<extra></extra>\", \"legendgroup\": \"skill_name=Grammar Usage\", \"marker\": {\"color\": \"#EF553B\", \"size\": [96, 15, 54, 76, 72], \"sizemode\": \"area\", \"sizeref\": 1.1, \"symbol\": \"circle\"}, \"mode\": \"markers\", \"name\": \"skill_name=Grammar Usage\", \"showlegend\": false, \"type\": \"scatter\", \"uid\": \"ca77c635-2ee0-4388-8d95-0fe60dba9161\", \"x\": [\"2018\", \"2007\", \"2008\", \"2014\", \"2016\"], \"xaxis\": \"x2\", \"y\": [17.590000000000003, 25.939999999999998, 21.189999999999998, 20.83, 14.780000000000001], \"yaxis\": \"y6\"}, {\"hovertemplate\": \"<b>LOWESS trendline</b><br><br>class=8<br>skill_name=Grammar Usage<br>skill_name=Grammar Usage<br>year=%{x}<br>skill_delta=%{y} <b>(trend)</b><extra></extra>\", \"legendgroup\": \"skill_name=Grammar Usage\", \"marker\": {\"color\": \"#EF553B\", \"symbol\": \"circle\"}, \"mode\": \"lines\", \"name\": \"skill_name=Grammar Usage\", \"showlegend\": false, \"type\": \"scatter\", \"uid\": \"7a4d75cf-9883-46d4-8a7f-eeb9ec81cb31\", \"x\": [2007.0, 2008.0, 2014.0, 2016.0, 2018.0], \"xaxis\": \"x2\", \"y\": [25.94000000000977, 21.1900000000012, 20.830000000001824, 14.780000000000001, 17.590000000000913], \"yaxis\": \"y6\"}, {\"hovertemplate\": \"class=8<br>skill_name=Literal Comprehension<br>skill_name=Literal Comprehension<br>year=%{x}<br>skill_delta=%{y}<br>studentCount=%{marker.size}<extra></extra>\", \"legendgroup\": \"skill_name=Literal Comprehension\", \"marker\": {\"color\": \"#00cc96\", \"size\": [96, 15, 54, 76, 72], \"sizemode\": \"area\", \"sizeref\": 1.1, \"symbol\": \"circle\"}, \"mode\": \"markers\", \"name\": \"skill_name=Literal Comprehension\", \"showlegend\": false, \"type\": \"scatter\", \"uid\": \"6382ea98-f92b-40fa-a898-6e4c3810149f\", \"x\": [\"2018\", \"2007\", \"2008\", \"2014\", \"2016\"], \"xaxis\": \"x3\", \"y\": [7.0, 30.270000000000003, 14.79, 9.68999999999999, 5.969999999999999], \"yaxis\": \"y6\"}, {\"hovertemplate\": \"<b>LOWESS trendline</b><br><br>class=8<br>skill_name=Literal Comprehension<br>skill_name=Literal Comprehension<br>year=%{x}<br>skill_delta=%{y} <b>(trend)</b><extra></extra>\", \"legendgroup\": \"skill_name=Literal Comprehension\", \"marker\": {\"color\": \"#00cc96\", \"symbol\": \"circle\"}, \"mode\": \"lines\", \"name\": \"skill_name=Literal Comprehension\", \"showlegend\": false, \"type\": \"scatter\", \"uid\": \"7ff0aca0-b094-4460-8987-fc9b1630b374\", \"x\": [2007.0, 2008.0, 2014.0, 2016.0, 2018.0], \"xaxis\": \"x3\", \"y\": [30.270000000000003, 14.79, 9.690000000001278, 5.969999999999999, 7.00000000000089], \"yaxis\": \"y6\"}, {\"hovertemplate\": \"class=8<br>skill_name=Vocabulary in Context<br>skill_name=Vocabulary in Context<br>year=%{x}<br>skill_delta=%{y}<br>studentCount=%{marker.size}<extra></extra>\", \"legendgroup\": \"skill_name=Vocabulary in Context\", \"marker\": {\"color\": \"#ab63fa\", \"size\": [96, 15, 54, 76, 72], \"sizemode\": \"area\", \"sizeref\": 1.1, \"symbol\": \"circle\"}, \"mode\": \"markers\", \"name\": \"skill_name=Vocabulary in Context\", \"showlegend\": false, \"type\": \"scatter\", \"uid\": \"52e6bd0e-8aa4-46e7-8181-57390ca52bd0\", \"x\": [\"2018\", \"2007\", \"2008\", \"2014\", \"2016\"], \"xaxis\": \"x4\", \"y\": [10.960000000000004, 19.4, 12.770000000000003, 10.939999999999998, 5.579999999999998], \"yaxis\": \"y6\"}, {\"hovertemplate\": \"<b>LOWESS trendline</b><br><br>class=8<br>skill_name=Vocabulary in Context<br>skill_name=Vocabulary in Context<br>year=%{x}<br>skill_delta=%{y} <b>(trend)</b><extra></extra>\", \"legendgroup\": \"skill_name=Vocabulary in Context\", \"marker\": {\"color\": \"#ab63fa\", \"symbol\": \"circle\"}, \"mode\": \"lines\", \"name\": \"skill_name=Vocabulary in Context\", \"showlegend\": false, \"type\": \"scatter\", \"uid\": \"0810d787-24f2-4229-9fe0-82a74b3255a3\", \"x\": [2007.0, 2008.0, 2014.0, 2016.0, 2018.0], \"xaxis\": \"x4\", \"y\": [19.400000000008227, 12.770000000005671, 10.939999999999998, 5.579999999999998, 10.960000000000004], \"yaxis\": \"y6\"}, {\"hovertemplate\": \"class=9<br>skill_name=Extended Reasoning<br>skill_name=Extended Reasoning<br>year=%{x}<br>skill_delta=%{y}<br>studentCount=%{marker.size}<extra></extra>\", \"legendgroup\": \"skill_name=Extended Reasoning\", \"marker\": {\"color\": \"#636efa\", \"size\": [98, 10, 40, 73, 64], \"sizemode\": \"area\", \"sizeref\": 1.1, \"symbol\": \"circle\"}, \"mode\": \"markers\", \"name\": \"skill_name=Extended Reasoning\", \"showlegend\": false, \"type\": \"scatter\", \"uid\": \"a5cb156d-ee81-4b71-9ae5-0a080ebaf947\", \"x\": [\"2018\", \"2007\", \"2008\", \"2014\", \"2016\"], \"xaxis\": \"x\", \"y\": [9.119999999999997, 16.58, 20.020000000000003, 10.290000000000006, 16.67], \"yaxis\": \"y7\"}, {\"hovertemplate\": \"<b>LOWESS trendline</b><br><br>class=9<br>skill_name=Extended Reasoning<br>skill_name=Extended Reasoning<br>year=%{x}<br>skill_delta=%{y} <b>(trend)</b><extra></extra>\", \"legendgroup\": \"skill_name=Extended Reasoning\", \"marker\": {\"color\": \"#636efa\", \"symbol\": \"circle\"}, \"mode\": \"lines\", \"name\": \"skill_name=Extended Reasoning\", \"showlegend\": false, \"type\": \"scatter\", \"uid\": \"14e8d0f0-5aae-43bd-8d46-1e0f6142d73d\", \"x\": [2007.0, 2008.0, 2014.0, 2016.0, 2018.0], \"xaxis\": \"x\", \"y\": [16.58, 20.020000000000003, 10.290000000001122, 16.67, 9.120000000000939], \"yaxis\": \"y7\"}, {\"hovertemplate\": \"class=9<br>skill_name=Grammar Usage<br>skill_name=Grammar Usage<br>year=%{x}<br>skill_delta=%{y}<br>studentCount=%{marker.size}<extra></extra>\", \"legendgroup\": \"skill_name=Grammar Usage\", \"marker\": {\"color\": \"#EF553B\", \"size\": [98, 10, 40, 73, 64], \"sizemode\": \"area\", \"sizeref\": 1.1, \"symbol\": \"circle\"}, \"mode\": \"markers\", \"name\": \"skill_name=Grammar Usage\", \"showlegend\": false, \"type\": \"scatter\", \"uid\": \"c9749c0f-d732-408c-a9aa-81cc49884bcc\", \"x\": [\"2018\", \"2007\", \"2008\", \"2014\", \"2016\"], \"xaxis\": \"x2\", \"y\": [9.200000000000003, 23.130000000000003, 24.15, 14.89, 18.840000000000003], \"yaxis\": \"y7\"}, {\"hovertemplate\": \"<b>LOWESS trendline</b><br><br>class=9<br>skill_name=Grammar Usage<br>skill_name=Grammar Usage<br>year=%{x}<br>skill_delta=%{y} <b>(trend)</b><extra></extra>\", \"legendgroup\": \"skill_name=Grammar Usage\", \"marker\": {\"color\": \"#EF553B\", \"symbol\": \"circle\"}, \"mode\": \"lines\", \"name\": \"skill_name=Grammar Usage\", \"showlegend\": false, \"type\": \"scatter\", \"uid\": \"b8628641-18d6-4f69-a058-e2836100bb35\", \"x\": [2007.0, 2008.0, 2014.0, 2016.0, 2018.0], \"xaxis\": \"x2\", \"y\": [23.130000000000003, 24.15, 14.890000000001743, 18.840000000000003, 9.200000000000903], \"yaxis\": \"y7\"}, {\"hovertemplate\": \"class=9<br>skill_name=Literal Comprehension<br>skill_name=Literal Comprehension<br>year=%{x}<br>skill_delta=%{y}<br>studentCount=%{marker.size}<extra></extra>\", \"legendgroup\": \"skill_name=Literal Comprehension\", \"marker\": {\"color\": \"#00cc96\", \"size\": [98, 10, 40, 73, 64], \"sizemode\": \"area\", \"sizeref\": 1.1, \"symbol\": \"circle\"}, \"mode\": \"markers\", \"name\": \"skill_name=Literal Comprehension\", \"showlegend\": false, \"type\": \"scatter\", \"uid\": \"e3608869-e9e2-4ea4-a5f0-babf843694ac\", \"x\": [\"2018\", \"2007\", \"2008\", \"2014\", \"2016\"], \"xaxis\": \"x3\", \"y\": [8.419999999999998, 14.509999999999998, 18.419999999999995, 16.310000000000002, 18.200000000000003], \"yaxis\": \"y7\"}, {\"hovertemplate\": \"<b>LOWESS trendline</b><br><br>class=9<br>skill_name=Literal Comprehension<br>skill_name=Literal Comprehension<br>year=%{x}<br>skill_delta=%{y} <b>(trend)</b><extra></extra>\", \"legendgroup\": \"skill_name=Literal Comprehension\", \"marker\": {\"color\": \"#00cc96\", \"symbol\": \"circle\"}, \"mode\": \"lines\", \"name\": \"skill_name=Literal Comprehension\", \"showlegend\": false, \"type\": \"scatter\", \"uid\": \"fd0cad68-3378-4593-ba09-330dc1582d5b\", \"x\": [2007.0, 2008.0, 2014.0, 2016.0, 2018.0], \"xaxis\": \"x3\", \"y\": [14.510000000006137, 18.420000000008216, 16.310000000000002, 18.200000000000003, 8.419999999999998], \"yaxis\": \"y7\"}, {\"hovertemplate\": \"class=9<br>skill_name=Vocabulary in Context<br>skill_name=Vocabulary in Context<br>year=%{x}<br>skill_delta=%{y}<br>studentCount=%{marker.size}<extra></extra>\", \"legendgroup\": \"skill_name=Vocabulary in Context\", \"marker\": {\"color\": \"#ab63fa\", \"size\": [98, 10, 40, 73, 64], \"sizemode\": \"area\", \"sizeref\": 1.1, \"symbol\": \"circle\"}, \"mode\": \"markers\", \"name\": \"skill_name=Vocabulary in Context\", \"showlegend\": false, \"type\": \"scatter\", \"uid\": \"38c16b21-3493-4350-9773-1c6f61bc592b\", \"x\": [\"2018\", \"2007\", \"2008\", \"2014\", \"2016\"], \"xaxis\": \"x4\", \"y\": [1.9799999999999995, 18.28, 22.089999999999996, 17.190000000000005, 23.019999999999996], \"yaxis\": \"y7\"}, {\"hovertemplate\": \"<b>LOWESS trendline</b><br><br>class=9<br>skill_name=Vocabulary in Context<br>skill_name=Vocabulary in Context<br>year=%{x}<br>skill_delta=%{y} <b>(trend)</b><extra></extra>\", \"legendgroup\": \"skill_name=Vocabulary in Context\", \"marker\": {\"color\": \"#ab63fa\", \"symbol\": \"circle\"}, \"mode\": \"lines\", \"name\": \"skill_name=Vocabulary in Context\", \"showlegend\": false, \"type\": \"scatter\", \"uid\": \"33eeddac-6f88-4e4b-86c4-15790c036ca1\", \"x\": [2007.0, 2008.0, 2014.0, 2016.0, 2018.0], \"xaxis\": \"x4\", \"y\": [18.280000000007735, 22.09000000000985, 17.190000000000005, 23.019999999999996, 1.9799999999999995], \"yaxis\": \"y7\"}, {\"hovertemplate\": \"class=10<br>skill_name=Extended Reasoning<br>skill_name=Extended Reasoning<br>year=%{x}<br>skill_delta=%{y}<br>studentCount=%{marker.size}<extra></extra>\", \"legendgroup\": \"skill_name=Extended Reasoning\", \"marker\": {\"color\": \"#636efa\", \"size\": [73, 60], \"sizemode\": \"area\", \"sizeref\": 1.1, \"symbol\": \"circle\"}, \"mode\": \"markers\", \"name\": \"skill_name=Extended Reasoning\", \"showlegend\": false, \"type\": \"scatter\", \"uid\": \"181f3cc7-2d22-4619-a99a-788ea4206ed4\", \"x\": [\"2014\", \"2016\"], \"xaxis\": \"x\", \"y\": [12.739999999999995, 10.869999999999997], \"yaxis\": \"y8\"}, {\"hovertemplate\": \"<b>LOWESS trendline</b><br><br>class=10<br>skill_name=Extended Reasoning<br>skill_name=Extended Reasoning<br>year=%{x}<br>skill_delta=%{y} <b>(trend)</b><extra></extra>\", \"legendgroup\": \"skill_name=Extended Reasoning\", \"marker\": {\"color\": \"#636efa\", \"symbol\": \"circle\"}, \"mode\": \"lines\", \"name\": \"skill_name=Extended Reasoning\", \"showlegend\": false, \"type\": \"scatter\", \"uid\": \"18c8d6b2-8ed4-486a-9037-b7c121441227\", \"x\": [2014.0, 2016.0], \"xaxis\": \"x\", \"y\": [12.739999999999995, 10.869999999999997], \"yaxis\": \"y8\"}, {\"hovertemplate\": \"class=10<br>skill_name=Grammar Usage<br>skill_name=Grammar Usage<br>year=%{x}<br>skill_delta=%{y}<br>studentCount=%{marker.size}<extra></extra>\", \"legendgroup\": \"skill_name=Grammar Usage\", \"marker\": {\"color\": \"#EF553B\", \"size\": [73, 60], \"sizemode\": \"area\", \"sizeref\": 1.1, \"symbol\": \"circle\"}, \"mode\": \"markers\", \"name\": \"skill_name=Grammar Usage\", \"showlegend\": false, \"type\": \"scatter\", \"uid\": \"e21c2669-8dc1-4295-8200-545ce418f080\", \"x\": [\"2014\", \"2016\"], \"xaxis\": \"x2\", \"y\": [15.690000000000005, 18.769999999999996], \"yaxis\": \"y8\"}, {\"hovertemplate\": \"<b>LOWESS trendline</b><br><br>class=10<br>skill_name=Grammar Usage<br>skill_name=Grammar Usage<br>year=%{x}<br>skill_delta=%{y} <b>(trend)</b><extra></extra>\", \"legendgroup\": \"skill_name=Grammar Usage\", \"marker\": {\"color\": \"#EF553B\", \"symbol\": \"circle\"}, \"mode\": \"lines\", \"name\": \"skill_name=Grammar Usage\", \"showlegend\": false, \"type\": \"scatter\", \"uid\": \"9da4f385-3f9d-4419-93ce-9e41eff5c54f\", \"x\": [2014.0, 2016.0], \"xaxis\": \"x2\", \"y\": [15.690000000000005, 18.769999999999996], \"yaxis\": \"y8\"}, {\"hovertemplate\": \"class=10<br>skill_name=Literal Comprehension<br>skill_name=Literal Comprehension<br>year=%{x}<br>skill_delta=%{y}<br>studentCount=%{marker.size}<extra></extra>\", \"legendgroup\": \"skill_name=Literal Comprehension\", \"marker\": {\"color\": \"#00cc96\", \"size\": [73, 60], \"sizemode\": \"area\", \"sizeref\": 1.1, \"symbol\": \"circle\"}, \"mode\": \"markers\", \"name\": \"skill_name=Literal Comprehension\", \"showlegend\": false, \"type\": \"scatter\", \"uid\": \"31012d32-f97e-4747-881f-3827ab996d3a\", \"x\": [\"2014\", \"2016\"], \"xaxis\": \"x3\", \"y\": [15.180000000000007, 15.380000000000003], \"yaxis\": \"y8\"}, {\"hovertemplate\": \"<b>LOWESS trendline</b><br><br>class=10<br>skill_name=Literal Comprehension<br>skill_name=Literal Comprehension<br>year=%{x}<br>skill_delta=%{y} <b>(trend)</b><extra></extra>\", \"legendgroup\": \"skill_name=Literal Comprehension\", \"marker\": {\"color\": \"#00cc96\", \"symbol\": \"circle\"}, \"mode\": \"lines\", \"name\": \"skill_name=Literal Comprehension\", \"showlegend\": false, \"type\": \"scatter\", \"uid\": \"5f4532cd-f86e-48c2-89c9-f4307cb7de91\", \"x\": [2014.0, 2016.0], \"xaxis\": \"x3\", \"y\": [15.180000000000007, 15.380000000000003], \"yaxis\": \"y8\"}, {\"hovertemplate\": \"class=10<br>skill_name=Vocabulary in Context<br>skill_name=Vocabulary in Context<br>year=%{x}<br>skill_delta=%{y}<br>studentCount=%{marker.size}<extra></extra>\", \"legendgroup\": \"skill_name=Vocabulary in Context\", \"marker\": {\"color\": \"#ab63fa\", \"size\": [73, 60], \"sizemode\": \"area\", \"sizeref\": 1.1, \"symbol\": \"circle\"}, \"mode\": \"markers\", \"name\": \"skill_name=Vocabulary in Context\", \"showlegend\": false, \"type\": \"scatter\", \"uid\": \"db8442b6-f30a-490a-9e26-0f8ae01d5c12\", \"x\": [\"2014\", \"2016\"], \"xaxis\": \"x4\", \"y\": [14.719999999999999, 12.43], \"yaxis\": \"y8\"}, {\"hovertemplate\": \"<b>LOWESS trendline</b><br><br>class=10<br>skill_name=Vocabulary in Context<br>skill_name=Vocabulary in Context<br>year=%{x}<br>skill_delta=%{y} <b>(trend)</b><extra></extra>\", \"legendgroup\": \"skill_name=Vocabulary in Context\", \"marker\": {\"color\": \"#ab63fa\", \"symbol\": \"circle\"}, \"mode\": \"lines\", \"name\": \"skill_name=Vocabulary in Context\", \"showlegend\": false, \"type\": \"scatter\", \"uid\": \"c21e8d9d-8e60-4cca-8635-462cd36ecf45\", \"x\": [2014.0, 2016.0], \"xaxis\": \"x4\", \"y\": [14.719999999999999, 12.43], \"yaxis\": \"y8\"}],\n",
       "                        {\"annotations\": [{\"showarrow\": false, \"text\": \"skill_name=Extended Reasoning\", \"textangle\": 0, \"x\": 0.1153846153846154, \"xanchor\": \"center\", \"xref\": \"paper\", \"y\": 1.02, \"yanchor\": \"middle\", \"yref\": \"paper\"}, {\"showarrow\": false, \"text\": \"skill_name=Grammar Usage\", \"textangle\": 0, \"x\": 0.3717948717948718, \"xanchor\": \"center\", \"xref\": \"paper\", \"y\": 1.02, \"yanchor\": \"middle\", \"yref\": \"paper\"}, {\"showarrow\": false, \"text\": \"skill_name=Literal Comprehension\", \"textangle\": 0, \"x\": 0.6282051282051283, \"xanchor\": \"center\", \"xref\": \"paper\", \"y\": 1.02, \"yanchor\": \"middle\", \"yref\": \"paper\"}, {\"showarrow\": false, \"text\": \"skill_name=Vocabulary in Context\", \"textangle\": 0, \"x\": 0.8846153846153848, \"xanchor\": \"center\", \"xref\": \"paper\", \"y\": 1.02, \"yanchor\": \"middle\", \"yref\": \"paper\"}, {\"showarrow\": false, \"text\": \"class=3\", \"textangle\": 90, \"x\": 1.01, \"xanchor\": \"center\", \"xref\": \"paper\", \"y\": 0.9430379746835442, \"yanchor\": \"middle\", \"yref\": \"paper\"}, {\"showarrow\": false, \"text\": \"class=4\", \"textangle\": 90, \"x\": 1.01, \"xanchor\": \"center\", \"xref\": \"paper\", \"y\": 0.8164556962025316, \"yanchor\": \"middle\", \"yref\": \"paper\"}, {\"showarrow\": false, \"text\": \"class=5\", \"textangle\": 90, \"x\": 1.01, \"xanchor\": \"center\", \"xref\": \"paper\", \"y\": 0.6898734177215189, \"yanchor\": \"middle\", \"yref\": \"paper\"}, {\"showarrow\": false, \"text\": \"class=6\", \"textangle\": 90, \"x\": 1.01, \"xanchor\": \"center\", \"xref\": \"paper\", \"y\": 0.5632911392405062, \"yanchor\": \"middle\", \"yref\": \"paper\"}, {\"showarrow\": false, \"text\": \"class=7\", \"textangle\": 90, \"x\": 1.01, \"xanchor\": \"center\", \"xref\": \"paper\", \"y\": 0.4367088607594936, \"yanchor\": \"middle\", \"yref\": \"paper\"}, {\"showarrow\": false, \"text\": \"class=8\", \"textangle\": 90, \"x\": 1.01, \"xanchor\": \"center\", \"xref\": \"paper\", \"y\": 0.310126582278481, \"yanchor\": \"middle\", \"yref\": \"paper\"}, {\"showarrow\": false, \"text\": \"class=9\", \"textangle\": 90, \"x\": 1.01, \"xanchor\": \"center\", \"xref\": \"paper\", \"y\": 0.18354430379746833, \"yanchor\": \"middle\", \"yref\": \"paper\"}, {\"showarrow\": false, \"text\": \"class=10\", \"textangle\": 90, \"x\": 1.01, \"xanchor\": \"center\", \"xref\": \"paper\", \"y\": 0.05696202531645569, \"yanchor\": \"middle\", \"yref\": \"paper\"}], \"grid\": {\"xaxes\": [\"x\", \"x2\", \"x3\", \"x4\"], \"xgap\": 0.1, \"xside\": \"bottom\", \"yaxes\": [\"y\", \"y2\", \"y3\", \"y4\", \"y5\", \"y6\", \"y7\", \"y8\"], \"ygap\": 0.1, \"yside\": \"left\"}, \"height\": 1500, \"legend\": {\"tracegroupgap\": 0}, \"template\": {\"data\": {\"bar\": [{\"marker\": {\"line\": {\"color\": \"#E5ECF6\", \"width\": 0.5}}, \"type\": \"bar\"}], \"barpolar\": [{\"marker\": {\"line\": {\"color\": \"#E5ECF6\", \"width\": 0.5}}, \"type\": \"barpolar\"}], \"carpet\": [{\"aaxis\": {\"endlinecolor\": \"#2a3f5f\", \"gridcolor\": \"white\", \"linecolor\": \"white\", \"minorgridcolor\": \"white\", \"startlinecolor\": \"#2a3f5f\"}, \"baxis\": {\"endlinecolor\": \"#2a3f5f\", \"gridcolor\": \"white\", \"linecolor\": \"white\", \"minorgridcolor\": \"white\", \"startlinecolor\": \"#2a3f5f\"}, \"type\": \"carpet\"}], \"choropleth\": [{\"colorbar\": {\"outlinewidth\": 0, \"ticks\": \"\"}, \"type\": \"choropleth\"}], \"contour\": [{\"autocolorscale\": true, \"colorbar\": {\"outlinewidth\": 0, \"ticks\": \"\"}, \"type\": \"contour\"}], \"contourcarpet\": [{\"colorbar\": {\"outlinewidth\": 0, \"ticks\": \"\"}, \"type\": \"contourcarpet\"}], \"heatmap\": [{\"autocolorscale\": true, \"colorbar\": {\"outlinewidth\": 0, \"ticks\": \"\"}, \"type\": \"heatmap\"}], \"heatmapgl\": [{\"colorbar\": {\"outlinewidth\": 0, \"ticks\": \"\"}, \"type\": \"heatmapgl\"}], \"histogram\": [{\"marker\": {\"colorbar\": {\"outlinewidth\": 0, \"ticks\": \"\"}}, \"type\": \"histogram\"}], \"histogram2d\": [{\"autocolorscale\": true, \"colorbar\": {\"outlinewidth\": 0, \"ticks\": \"\"}, \"type\": \"histogram2d\"}], \"histogram2dcontour\": [{\"autocolorscale\": true, \"colorbar\": {\"outlinewidth\": 0, \"ticks\": \"\"}, \"type\": \"histogram2dcontour\"}], \"mesh3d\": [{\"colorbar\": {\"outlinewidth\": 0, \"ticks\": \"\"}, \"type\": \"mesh3d\"}], \"parcoords\": [{\"line\": {\"colorbar\": {\"outlinewidth\": 0, \"ticks\": \"\"}}, \"type\": \"parcoords\"}], \"scatter\": [{\"marker\": {\"colorbar\": {\"outlinewidth\": 0, \"ticks\": \"\"}}, \"type\": \"scatter\"}], \"scatter3d\": [{\"marker\": {\"colorbar\": {\"outlinewidth\": 0, \"ticks\": \"\"}}, \"type\": \"scatter3d\"}], \"scattercarpet\": [{\"marker\": {\"colorbar\": {\"outlinewidth\": 0, \"ticks\": \"\"}}, \"type\": \"scattercarpet\"}], \"scattergeo\": [{\"marker\": {\"colorbar\": {\"outlinewidth\": 0, \"ticks\": \"\"}}, \"type\": \"scattergeo\"}], \"scattergl\": [{\"marker\": {\"colorbar\": {\"outlinewidth\": 0, \"ticks\": \"\"}}, \"type\": \"scattergl\"}], \"scattermapbox\": [{\"marker\": {\"colorbar\": {\"outlinewidth\": 0, \"ticks\": \"\"}}, \"type\": \"scattermapbox\"}], \"scatterpolar\": [{\"marker\": {\"colorbar\": {\"outlinewidth\": 0, \"ticks\": \"\"}}, \"type\": \"scatterpolar\"}], \"scatterpolargl\": [{\"marker\": {\"colorbar\": {\"outlinewidth\": 0, \"ticks\": \"\"}}, \"type\": \"scatterpolargl\"}], \"scatterternary\": [{\"marker\": {\"colorbar\": {\"outlinewidth\": 0, \"ticks\": \"\"}}, \"type\": \"scatterternary\"}], \"surface\": [{\"colorbar\": {\"outlinewidth\": 0, \"ticks\": \"\"}, \"type\": \"surface\"}], \"table\": [{\"cells\": {\"fill\": {\"color\": \"#EBF0F8\"}, \"line\": {\"color\": \"white\"}}, \"header\": {\"fill\": {\"color\": \"#C8D4E3\"}, \"line\": {\"color\": \"white\"}}, \"type\": \"table\"}]}, \"layout\": {\"annotationdefaults\": {\"arrowcolor\": \"#506784\", \"arrowhead\": 0, \"arrowwidth\": 1}, \"colorscale\": {\"diverging\": [[0, \"#8e0152\"], [0.1, \"#c51b7d\"], [0.2, \"#de77ae\"], [0.3, \"#f1b6da\"], [0.4, \"#fde0ef\"], [0.5, \"#f7f7f7\"], [0.6, \"#e6f5d0\"], [0.7, \"#b8e186\"], [0.8, \"#7fbc41\"], [0.9, \"#4d9221\"], [1, \"#276419\"]], \"sequential\": [[0.0, \"#0508b8\"], [0.0893854748603352, \"#1910d8\"], [0.1787709497206704, \"#3c19f0\"], [0.2681564245810056, \"#6b1cfb\"], [0.3575418994413408, \"#981cfd\"], [0.44692737430167595, \"#bf1cfd\"], [0.5363128491620112, \"#dd2bfd\"], [0.6256983240223464, \"#f246fe\"], [0.7150837988826816, \"#fc67fd\"], [0.8044692737430168, \"#fe88fc\"], [0.8938547486033519, \"#fea5fd\"], [0.9832402234636871, \"#febefe\"], [1.0, \"#fec3fe\"]], \"sequentialminus\": [[0.0, \"#0508b8\"], [0.0893854748603352, \"#1910d8\"], [0.1787709497206704, \"#3c19f0\"], [0.2681564245810056, \"#6b1cfb\"], [0.3575418994413408, \"#981cfd\"], [0.44692737430167595, \"#bf1cfd\"], [0.5363128491620112, \"#dd2bfd\"], [0.6256983240223464, \"#f246fe\"], [0.7150837988826816, \"#fc67fd\"], [0.8044692737430168, \"#fe88fc\"], [0.8938547486033519, \"#fea5fd\"], [0.9832402234636871, \"#febefe\"], [1.0, \"#fec3fe\"]]}, \"colorway\": [\"#636efa\", \"#EF553B\", \"#00cc96\", \"#ab63fa\", \"#19d3f3\", \"#e763fa\", \"#FECB52\", \"#FFA15A\", \"#FF6692\", \"#B6E880\"], \"font\": {\"color\": \"#2a3f5f\"}, \"geo\": {\"bgcolor\": \"white\", \"lakecolor\": \"white\", \"landcolor\": \"#E5ECF6\", \"showlakes\": true, \"showland\": true, \"subunitcolor\": \"white\"}, \"hoverlabel\": {\"align\": \"left\"}, \"hovermode\": \"closest\", \"legend\": {\"itemsizing\": \"constant\"}, \"mapbox\": {\"style\": \"light\"}, \"paper_bgcolor\": \"white\", \"plot_bgcolor\": \"#E5ECF6\", \"polar\": {\"angularaxis\": {\"gridcolor\": \"white\", \"linecolor\": \"white\", \"ticks\": \"\"}, \"bgcolor\": \"#E5ECF6\", \"radialaxis\": {\"gridcolor\": \"white\", \"linecolor\": \"white\", \"ticks\": \"\"}}, \"scene\": {\"xaxis\": {\"backgroundcolor\": \"#E5ECF6\", \"gridcolor\": \"white\", \"gridwidth\": 2, \"linecolor\": \"white\", \"showbackground\": true, \"ticks\": \"\", \"zerolinecolor\": \"white\"}, \"yaxis\": {\"backgroundcolor\": \"#E5ECF6\", \"gridcolor\": \"white\", \"gridwidth\": 2, \"linecolor\": \"white\", \"showbackground\": true, \"ticks\": \"\", \"zerolinecolor\": \"white\"}, \"zaxis\": {\"backgroundcolor\": \"#E5ECF6\", \"gridcolor\": \"white\", \"gridwidth\": 2, \"linecolor\": \"white\", \"showbackground\": true, \"ticks\": \"\", \"zerolinecolor\": \"white\"}}, \"shapedefaults\": {\"fillcolor\": \"#506784\", \"line\": {\"width\": 0}, \"opacity\": 0.4}, \"ternary\": {\"aaxis\": {\"gridcolor\": \"white\", \"linecolor\": \"white\", \"ticks\": \"\"}, \"baxis\": {\"gridcolor\": \"white\", \"linecolor\": \"white\", \"ticks\": \"\"}, \"bgcolor\": \"#E5ECF6\", \"caxis\": {\"gridcolor\": \"white\", \"linecolor\": \"white\", \"ticks\": \"\"}}, \"title\": {\"x\": 0.05}, \"xaxis\": {\"automargin\": true, \"gridcolor\": \"white\", \"linecolor\": \"white\", \"ticks\": \"\", \"zerolinecolor\": \"white\", \"zerolinewidth\": 2}, \"yaxis\": {\"automargin\": true, \"gridcolor\": \"white\", \"linecolor\": \"white\", \"ticks\": \"\", \"zerolinecolor\": \"white\", \"zerolinewidth\": 2}}}, \"title\": {\"text\": \"Core Skills in English (Sushila Birla Girls^ School-Kolkata-CBSE)\"}, \"width\": 2000, \"xaxis\": {\"title\": {\"text\": \"year\"}}, \"xaxis2\": {\"matches\": \"x\", \"title\": {\"text\": \"year\"}}, \"xaxis3\": {\"matches\": \"x\", \"title\": {\"text\": \"year\"}}, \"xaxis4\": {\"matches\": \"x\", \"title\": {\"text\": \"year\"}}, \"yaxis\": {\"title\": {\"text\": \"skill_delta\"}}, \"yaxis2\": {\"matches\": \"y\", \"title\": {\"text\": \"skill_delta\"}}, \"yaxis3\": {\"matches\": \"y\", \"title\": {\"text\": \"skill_delta\"}}, \"yaxis4\": {\"matches\": \"y\", \"title\": {\"text\": \"skill_delta\"}}, \"yaxis5\": {\"matches\": \"y\", \"title\": {\"text\": \"skill_delta\"}}, \"yaxis6\": {\"matches\": \"y\", \"title\": {\"text\": \"skill_delta\"}}, \"yaxis7\": {\"matches\": \"y\", \"title\": {\"text\": \"skill_delta\"}}, \"yaxis8\": {\"matches\": \"y\", \"title\": {\"text\": \"skill_delta\"}}},\n",
       "                        {\"showLink\": false, \"linkText\": \"Export to plot.ly\", \"plotlyServerURL\": \"https://plot.ly\"}\n",
       "                    )\n",
       "                };\n",
       "                });\n",
       "            </script>\n",
       "        </div>"
      ]
     },
     "metadata": {},
     "output_type": "display_data"
    }
   ],
   "source": [
    "sub = 'English'\n",
    "px.scatter(df_school[df_school['subject']==sub].drop_duplicates(['papercode','skill_name']), \n",
    "        x = 'year', \n",
    "        y = 'skill_delta', \n",
    "        color='skill_name',\n",
    "        facet_row= 'class', \n",
    "       facet_col= 'skill_name', \n",
    "           size = 'studentCount',\n",
    "           size_max= 10,\n",
    "           trendline=\"lowess\",\n",
    "        height=1500,\n",
    "        width=2000,\n",
    "        title = 'Core Skills in %s (%s-%s-%s)'%(sub,school_name, school_city, school_board) )"
   ]
  },
  {
   "cell_type": "code",
   "execution_count": 15,
   "metadata": {
    "code_folding": [
     1
    ]
   },
   "outputs": [
    {
     "data": {
      "application/vnd.plotly.v1+json": {
       "config": {
        "linkText": "Export to plot.ly",
        "plotlyServerURL": "https://plot.ly",
        "showLink": false
       },
       "data": [
        {
         "hovertemplate": "class=3<br>skill_name=Conceptual Understanding and Comprehension<br>skill_name=Conceptual Understanding and Comprehension<br>year=%{x}<br>skill_delta=%{y}<br>studentCount=%{marker.size}<extra></extra>",
         "legendgroup": "skill_name=Conceptual Understanding and Comprehension",
         "marker": {
          "color": "#636efa",
          "size": [
           113,
           18,
           73,
           75,
           106,
           109
          ],
          "sizemode": "area",
          "sizeref": 1.15,
          "symbol": "circle"
         },
         "mode": "markers",
         "name": "skill_name=Conceptual Understanding and Comprehension",
         "showlegend": true,
         "type": "scatter",
         "uid": "3dba4348-a48b-4be2-a0d4-346be8cfb8ca",
         "x": [
          "2018",
          "2007",
          "2008",
          "2009",
          "2014",
          "2016"
         ],
         "xaxis": "x",
         "y": [
          6.699999999999996,
          7.149999999999999,
          4.269999999999996,
          1.1799999999999926,
          -1.6500000000000057,
          6.280000000000001
         ],
         "yaxis": "y"
        },
        {
         "hovertemplate": "<b>LOWESS trendline</b><br><br>class=3<br>skill_name=Conceptual Understanding and Comprehension<br>skill_name=Conceptual Understanding and Comprehension<br>year=%{x}<br>skill_delta=%{y} <b>(trend)</b><extra></extra>",
         "legendgroup": "skill_name=Conceptual Understanding and Comprehension",
         "marker": {
          "color": "#636efa",
          "symbol": "circle"
         },
         "mode": "lines",
         "name": "skill_name=Conceptual Understanding and Comprehension",
         "showlegend": false,
         "type": "scatter",
         "uid": "a4469a2f-7e75-4d3e-bbd3-c3ff074f5ff2",
         "x": [
          2007,
          2008,
          2009,
          2014,
          2016,
          2018
         ],
         "xaxis": "x",
         "y": [
          7.177459803311247,
          4.193133687635075,
          1.2065421736968656,
          -1.6500000000001522,
          2.524999999999995,
          6.700000000000102
         ],
         "yaxis": "y"
        },
        {
         "hovertemplate": "class=3<br>skill_name=Knowledge of Basic Science Facts<br>skill_name=Knowledge of Basic Science Facts<br>year=%{x}<br>skill_delta=%{y}<br>studentCount=%{marker.size}<extra></extra>",
         "legendgroup": "skill_name=Knowledge of Basic Science Facts",
         "marker": {
          "color": "#EF553B",
          "size": [
           113,
           18,
           73,
           75,
           106,
           109
          ],
          "sizemode": "area",
          "sizeref": 1.15,
          "symbol": "circle"
         },
         "mode": "markers",
         "name": "skill_name=Knowledge of Basic Science Facts",
         "showlegend": true,
         "type": "scatter",
         "uid": "ca528116-cd5d-4842-b711-f579658ee85c",
         "x": [
          "2018",
          "2007",
          "2008",
          "2009",
          "2014",
          "2016"
         ],
         "xaxis": "x2",
         "y": [
          2.3000000000000043,
          8.46,
          6.909999999999997,
          5.450000000000003,
          0.5799999999999983,
          3.4200000000000017
         ],
         "yaxis": "y"
        },
        {
         "hovertemplate": "<b>LOWESS trendline</b><br><br>class=3<br>skill_name=Knowledge of Basic Science Facts<br>skill_name=Knowledge of Basic Science Facts<br>year=%{x}<br>skill_delta=%{y} <b>(trend)</b><extra></extra>",
         "legendgroup": "skill_name=Knowledge of Basic Science Facts",
         "marker": {
          "color": "#EF553B",
          "symbol": "circle"
         },
         "mode": "lines",
         "name": "skill_name=Knowledge of Basic Science Facts",
         "showlegend": false,
         "type": "scatter",
         "uid": "bb1c4f54-74a3-4327-b21e-629b68d49a1d",
         "x": [
          2007,
          2008,
          2009,
          2014,
          2016,
          2018
         ],
         "xaxis": "x2",
         "y": [
          8.448228692995299,
          6.942939808392143,
          5.438622101391019,
          0.5799999999999844,
          1.4400000000000013,
          2.3000000000000393
         ],
         "yaxis": "y"
        },
        {
         "hovertemplate": "class=3<br>skill_name=Original Thinking<br>skill_name=Original Thinking<br>year=%{x}<br>skill_delta=%{y}<br>studentCount=%{marker.size}<extra></extra>",
         "legendgroup": "skill_name=Original Thinking",
         "marker": {
          "color": "#00cc96",
          "size": [
           113,
           18,
           73,
           75,
           106,
           109
          ],
          "sizemode": "area",
          "sizeref": 1.15,
          "symbol": "circle"
         },
         "mode": "markers",
         "name": "skill_name=Original Thinking",
         "showlegend": true,
         "type": "scatter",
         "uid": "66ba8476-f44a-42fa-b342-06fac46c4db8",
         "x": [
          "2018",
          "2007",
          "2008",
          "2009",
          "2014",
          "2016"
         ],
         "xaxis": "x3",
         "y": [
          1.9699999999999989,
          -0.39000000000000057,
          5.140000000000001,
          5.520000000000003,
          -4.200000000000003,
          3.3800000000000026
         ],
         "yaxis": "y"
        },
        {
         "hovertemplate": "<b>LOWESS trendline</b><br><br>class=3<br>skill_name=Original Thinking<br>skill_name=Original Thinking<br>year=%{x}<br>skill_delta=%{y} <b>(trend)</b><extra></extra>",
         "legendgroup": "skill_name=Original Thinking",
         "marker": {
          "color": "#00cc96",
          "symbol": "circle"
         },
         "mode": "lines",
         "name": "skill_name=Original Thinking",
         "showlegend": false,
         "type": "scatter",
         "uid": "a1414c28-db7b-483e-b722-e49bda7ca0f1",
         "x": [
          2007,
          2008,
          2009,
          2014,
          2016,
          2018
         ],
         "xaxis": "x3",
         "y": [
          0.3185419943071053,
          3.291304173813228,
          6.204795735289185,
          -3.939914420471275,
          -0.6726592675447092,
          2.376274509445592
         ],
         "yaxis": "y"
        },
        {
         "hovertemplate": "class=3<br>skill_name=Reasoning and Analysis Skills<br>skill_name=Reasoning and Analysis Skills<br>year=%{x}<br>skill_delta=%{y}<br>studentCount=%{marker.size}<extra></extra>",
         "legendgroup": "skill_name=Reasoning and Analysis Skills",
         "marker": {
          "color": "#ab63fa",
          "size": [
           113,
           18,
           73,
           75,
           106,
           109
          ],
          "sizemode": "area",
          "sizeref": 1.15,
          "symbol": "circle"
         },
         "mode": "markers",
         "name": "skill_name=Reasoning and Analysis Skills",
         "showlegend": true,
         "type": "scatter",
         "uid": "a463547b-e27d-4956-a635-b5e81c78658e",
         "x": [
          "2018",
          "2007",
          "2008",
          "2009",
          "2014",
          "2016"
         ],
         "xaxis": "x4",
         "y": [
          1.7800000000000011,
          2.1199999999999974,
          0.8800000000000026,
          4.800000000000004,
          -3.729999999999997,
          6.850000000000001
         ],
         "yaxis": "y"
        },
        {
         "hovertemplate": "<b>LOWESS trendline</b><br><br>class=3<br>skill_name=Reasoning and Analysis Skills<br>skill_name=Reasoning and Analysis Skills<br>year=%{x}<br>skill_delta=%{y} <b>(trend)</b><extra></extra>",
         "legendgroup": "skill_name=Reasoning and Analysis Skills",
         "marker": {
          "color": "#ab63fa",
          "symbol": "circle"
         },
         "mode": "lines",
         "name": "skill_name=Reasoning and Analysis Skills",
         "showlegend": false,
         "type": "scatter",
         "uid": "780885f1-1919-46b4-b760-afb049b61e95",
         "x": [
          2007,
          2008,
          2009,
          2014,
          2016,
          2018
         ],
         "xaxis": "x4",
         "y": [
          1.4133032048131349,
          2.735796051713682,
          4.117310580123481,
          -3.7299999999993863,
          -0.9749999999998599,
          1.7799999999996359
         ],
         "yaxis": "y"
        },
        {
         "hovertemplate": "class=4<br>skill_name=Conceptual Understanding and Comprehension<br>skill_name=Conceptual Understanding and Comprehension<br>year=%{x}<br>skill_delta=%{y}<br>studentCount=%{marker.size}<extra></extra>",
         "legendgroup": "skill_name=Conceptual Understanding and Comprehension",
         "marker": {
          "color": "#636efa",
          "size": [
           113,
           12,
           73,
           75,
           104,
           112
          ],
          "sizemode": "area",
          "sizeref": 1.15,
          "symbol": "circle"
         },
         "mode": "markers",
         "name": "skill_name=Conceptual Understanding and Comprehension",
         "showlegend": false,
         "type": "scatter",
         "uid": "6559f648-9925-426b-8fd8-5513c88149bd",
         "x": [
          "2018",
          "2007",
          "2008",
          "2009",
          "2014",
          "2016"
         ],
         "xaxis": "x",
         "y": [
          5.07,
          -3.229999999999997,
          0.9099999999999966,
          2.4399999999999977,
          -0.779999999999994,
          -0.19999999999999574
         ],
         "yaxis": "y2"
        },
        {
         "hovertemplate": "<b>LOWESS trendline</b><br><br>class=4<br>skill_name=Conceptual Understanding and Comprehension<br>skill_name=Conceptual Understanding and Comprehension<br>year=%{x}<br>skill_delta=%{y} <b>(trend)</b><extra></extra>",
         "legendgroup": "skill_name=Conceptual Understanding and Comprehension",
         "marker": {
          "color": "#636efa",
          "symbol": "circle"
         },
         "mode": "lines",
         "name": "skill_name=Conceptual Understanding and Comprehension",
         "showlegend": false,
         "type": "scatter",
         "uid": "3146b153-4d52-4b68-92d3-2c45df1e5ace",
         "x": [
          2007,
          2008,
          2009,
          2014,
          2016,
          2018
         ],
         "xaxis": "x",
         "y": [
          -2.869973557216703,
          -0.02594455134621254,
          2.7879465049439736,
          -0.8997869640767251,
          1.9475412333486903,
          4.888558946298229
         ],
         "yaxis": "y2"
        },
        {
         "hovertemplate": "class=4<br>skill_name=Knowledge of Basic Science Facts<br>skill_name=Knowledge of Basic Science Facts<br>year=%{x}<br>skill_delta=%{y}<br>studentCount=%{marker.size}<extra></extra>",
         "legendgroup": "skill_name=Knowledge of Basic Science Facts",
         "marker": {
          "color": "#EF553B",
          "size": [
           113,
           12,
           73,
           75,
           104,
           112
          ],
          "sizemode": "area",
          "sizeref": 1.15,
          "symbol": "circle"
         },
         "mode": "markers",
         "name": "skill_name=Knowledge of Basic Science Facts",
         "showlegend": false,
         "type": "scatter",
         "uid": "0b6e6da8-32bf-4b49-bce4-b73a711db64b",
         "x": [
          "2018",
          "2007",
          "2008",
          "2009",
          "2014",
          "2016"
         ],
         "xaxis": "x2",
         "y": [
          3.5899999999999963,
          -4.210000000000001,
          -3.6899999999999977,
          0.37999999999999545,
          3.539999999999992,
          -1.8599999999999994
         ],
         "yaxis": "y2"
        },
        {
         "hovertemplate": "<b>LOWESS trendline</b><br><br>class=4<br>skill_name=Knowledge of Basic Science Facts<br>skill_name=Knowledge of Basic Science Facts<br>year=%{x}<br>skill_delta=%{y} <b>(trend)</b><extra></extra>",
         "legendgroup": "skill_name=Knowledge of Basic Science Facts",
         "marker": {
          "color": "#EF553B",
          "symbol": "circle"
         },
         "mode": "lines",
         "name": "skill_name=Knowledge of Basic Science Facts",
         "showlegend": false,
         "type": "scatter",
         "uid": "2ea4dbb5-2d23-478b-9bbf-16d8b7d7a727",
         "x": [
          2007,
          2008,
          2009,
          2014,
          2016,
          2018
         ],
         "xaxis": "x2",
         "y": [
          -4.696224689506667,
          -2.413270116491403,
          -0.08970655380996423,
          3.539999999999942,
          3.5649999999999973,
          3.5899999999994896
         ],
         "yaxis": "y2"
        },
        {
         "hovertemplate": "class=4<br>skill_name=Original Thinking<br>skill_name=Original Thinking<br>year=%{x}<br>skill_delta=%{y}<br>studentCount=%{marker.size}<extra></extra>",
         "legendgroup": "skill_name=Original Thinking",
         "marker": {
          "color": "#00cc96",
          "size": [
           113,
           12,
           73,
           75,
           104,
           112
          ],
          "sizemode": "area",
          "sizeref": 1.15,
          "symbol": "circle"
         },
         "mode": "markers",
         "name": "skill_name=Original Thinking",
         "showlegend": false,
         "type": "scatter",
         "uid": "61d49720-7670-4912-bed0-1b9cab20f772",
         "x": [
          "2018",
          "2007",
          "2008",
          "2009",
          "2014",
          "2016"
         ],
         "xaxis": "x3",
         "y": [
          2.760000000000005,
          0.740000000000002,
          1.3499999999999943,
          -0.21000000000000085,
          1.6199999999999974,
          10.119999999999997
         ],
         "yaxis": "y2"
        },
        {
         "hovertemplate": "<b>LOWESS trendline</b><br><br>class=4<br>skill_name=Original Thinking<br>skill_name=Original Thinking<br>year=%{x}<br>skill_delta=%{y} <b>(trend)</b><extra></extra>",
         "legendgroup": "skill_name=Original Thinking",
         "marker": {
          "color": "#00cc96",
          "symbol": "circle"
         },
         "mode": "lines",
         "name": "skill_name=Original Thinking",
         "showlegend": false,
         "type": "scatter",
         "uid": "7bea5df0-4e72-43cf-a65e-62d96db848a0",
         "x": [
          2007,
          2008,
          2009,
          2014,
          2016,
          2018
         ],
         "xaxis": "x3",
         "y": [
          1.0213821631652662,
          0.5532809480094283,
          0.06201604949410866,
          1.62000000000001,
          2.1900000000000013,
          2.760000000000045
         ],
         "yaxis": "y2"
        },
        {
         "hovertemplate": "class=4<br>skill_name=Reasoning and Analysis Skills<br>skill_name=Reasoning and Analysis Skills<br>year=%{x}<br>skill_delta=%{y}<br>studentCount=%{marker.size}<extra></extra>",
         "legendgroup": "skill_name=Reasoning and Analysis Skills",
         "marker": {
          "color": "#ab63fa",
          "size": [
           113,
           12,
           73,
           75,
           104,
           112
          ],
          "sizemode": "area",
          "sizeref": 1.15,
          "symbol": "circle"
         },
         "mode": "markers",
         "name": "skill_name=Reasoning and Analysis Skills",
         "showlegend": false,
         "type": "scatter",
         "uid": "1c07dcd3-ab2a-4397-849a-dab7b276457d",
         "x": [
          "2018",
          "2007",
          "2008",
          "2009",
          "2014",
          "2016"
         ],
         "xaxis": "x4",
         "y": [
          2.3799999999999955,
          -5.030000000000001,
          0.4799999999999969,
          2.25,
          -0.6499999999999986,
          3.6400000000000006
         ],
         "yaxis": "y2"
        },
        {
         "hovertemplate": "<b>LOWESS trendline</b><br><br>class=4<br>skill_name=Reasoning and Analysis Skills<br>skill_name=Reasoning and Analysis Skills<br>year=%{x}<br>skill_delta=%{y} <b>(trend)</b><extra></extra>",
         "legendgroup": "skill_name=Reasoning and Analysis Skills",
         "marker": {
          "color": "#ab63fa",
          "symbol": "circle"
         },
         "mode": "lines",
         "name": "skill_name=Reasoning and Analysis Skills",
         "showlegend": false,
         "type": "scatter",
         "uid": "5bf05423-8e04-4416-b5e4-d5c0626d366e",
         "x": [
          2007,
          2008,
          2009,
          2014,
          2016,
          2018
         ],
         "xaxis": "x4",
         "y": [
          -4.526814094705081,
          -0.8742615257148809,
          2.7364508441907565,
          -0.41469945428961463,
          1.3226521137103275,
          2.799255381226782
         ],
         "yaxis": "y2"
        },
        {
         "hovertemplate": "class=5<br>skill_name=Conceptual Understanding and Comprehension<br>skill_name=Conceptual Understanding and Comprehension<br>year=%{x}<br>skill_delta=%{y}<br>studentCount=%{marker.size}<extra></extra>",
         "legendgroup": "skill_name=Conceptual Understanding and Comprehension",
         "marker": {
          "color": "#636efa",
          "size": [
           113,
           12,
           74,
           75,
           107,
           105
          ],
          "sizemode": "area",
          "sizeref": 1.15,
          "symbol": "circle"
         },
         "mode": "markers",
         "name": "skill_name=Conceptual Understanding and Comprehension",
         "showlegend": false,
         "type": "scatter",
         "uid": "f485659b-4023-4443-b4ae-56b90b0bd72f",
         "x": [
          "2018",
          "2007",
          "2008",
          "2009",
          "2014",
          "2016"
         ],
         "xaxis": "x",
         "y": [
          0.10000000000000142,
          3.700000000000003,
          -1.4500000000000028,
          0.1700000000000017,
          3.0500000000000043,
          -0.5800000000000054
         ],
         "yaxis": "y3"
        },
        {
         "hovertemplate": "<b>LOWESS trendline</b><br><br>class=5<br>skill_name=Conceptual Understanding and Comprehension<br>skill_name=Conceptual Understanding and Comprehension<br>year=%{x}<br>skill_delta=%{y} <b>(trend)</b><extra></extra>",
         "legendgroup": "skill_name=Conceptual Understanding and Comprehension",
         "marker": {
          "color": "#636efa",
          "symbol": "circle"
         },
         "mode": "lines",
         "name": "skill_name=Conceptual Understanding and Comprehension",
         "showlegend": false,
         "type": "scatter",
         "uid": "bcb9724a-0075-4ff1-8428-70752cab8791",
         "x": [
          2007,
          2008,
          2009,
          2014,
          2016,
          2018
         ],
         "xaxis": "x",
         "y": [
          2.894166970696425,
          1.1095985952388656,
          -0.6100295078534277,
          2.7720818494292336,
          0.8915604198771685,
          -0.514773040294546
         ],
         "yaxis": "y3"
        },
        {
         "hovertemplate": "class=5<br>skill_name=Knowledge of Basic Science Facts<br>skill_name=Knowledge of Basic Science Facts<br>year=%{x}<br>skill_delta=%{y}<br>studentCount=%{marker.size}<extra></extra>",
         "legendgroup": "skill_name=Knowledge of Basic Science Facts",
         "marker": {
          "color": "#EF553B",
          "size": [
           113,
           12,
           74,
           75,
           107,
           105
          ],
          "sizemode": "area",
          "sizeref": 1.15,
          "symbol": "circle"
         },
         "mode": "markers",
         "name": "skill_name=Knowledge of Basic Science Facts",
         "showlegend": false,
         "type": "scatter",
         "uid": "b772774e-e7bd-47ab-af4c-91fb844cddb0",
         "x": [
          "2018",
          "2007",
          "2008",
          "2009",
          "2014",
          "2016"
         ],
         "xaxis": "x2",
         "y": [
          6.200000000000003,
          10.399999999999999,
          5.25,
          8.539999999999992,
          -0.23000000000000398,
          -3.960000000000001
         ],
         "yaxis": "y3"
        },
        {
         "hovertemplate": "<b>LOWESS trendline</b><br><br>class=5<br>skill_name=Knowledge of Basic Science Facts<br>skill_name=Knowledge of Basic Science Facts<br>year=%{x}<br>skill_delta=%{y} <b>(trend)</b><extra></extra>",
         "legendgroup": "skill_name=Knowledge of Basic Science Facts",
         "marker": {
          "color": "#EF553B",
          "symbol": "circle"
         },
         "mode": "lines",
         "name": "skill_name=Knowledge of Basic Science Facts",
         "showlegend": false,
         "type": "scatter",
         "uid": "97ffb156-6c83-4eeb-b980-8decc141238e",
         "x": [
          2007,
          2008,
          2009,
          2014,
          2016,
          2018
         ],
         "xaxis": "x2",
         "y": [
          9.246423074939326,
          8.287541512000121,
          7.424987629450934,
          -0.7133745500601923,
          2.115157391481885,
          5.401830765919488
         ],
         "yaxis": "y3"
        },
        {
         "hovertemplate": "class=5<br>skill_name=Original Thinking<br>skill_name=Original Thinking<br>year=%{x}<br>skill_delta=%{y}<br>studentCount=%{marker.size}<extra></extra>",
         "legendgroup": "skill_name=Original Thinking",
         "marker": {
          "color": "#00cc96",
          "size": [
           113,
           12,
           74,
           75,
           107,
           105
          ],
          "sizemode": "area",
          "sizeref": 1.15,
          "symbol": "circle"
         },
         "mode": "markers",
         "name": "skill_name=Original Thinking",
         "showlegend": false,
         "type": "scatter",
         "uid": "c9dbfbe2-3d38-4c1b-b8e6-9b01fa1d54b2",
         "x": [
          "2018",
          "2007",
          "2008",
          "2009",
          "2014",
          "2016"
         ],
         "xaxis": "x3",
         "y": [
          0.3200000000000003,
          5.049999999999997,
          -2.9300000000000033,
          5.57,
          4.469999999999999,
          -1.720000000000006
         ],
         "yaxis": "y3"
        },
        {
         "hovertemplate": "<b>LOWESS trendline</b><br><br>class=5<br>skill_name=Original Thinking<br>skill_name=Original Thinking<br>year=%{x}<br>skill_delta=%{y} <b>(trend)</b><extra></extra>",
         "legendgroup": "skill_name=Original Thinking",
         "marker": {
          "color": "#00cc96",
          "symbol": "circle"
         },
         "mode": "lines",
         "name": "skill_name=Original Thinking",
         "showlegend": false,
         "type": "scatter",
         "uid": "37db9d48-dab4-4e17-ac5b-feab7ca1e947",
         "x": [
          2007,
          2008,
          2009,
          2014,
          2016,
          2018
         ],
         "xaxis": "x3",
         "y": [
          3.090654251289146,
          3.303080752361046,
          3.6733625289459377,
          3.9242541782794738,
          1.0353332136115383,
          -0.897283716603767
         ],
         "yaxis": "y3"
        },
        {
         "hovertemplate": "class=5<br>skill_name=Reasoning and Analysis Skills<br>skill_name=Reasoning and Analysis Skills<br>year=%{x}<br>skill_delta=%{y}<br>studentCount=%{marker.size}<extra></extra>",
         "legendgroup": "skill_name=Reasoning and Analysis Skills",
         "marker": {
          "color": "#ab63fa",
          "size": [
           113,
           12,
           74,
           75,
           107,
           105
          ],
          "sizemode": "area",
          "sizeref": 1.15,
          "symbol": "circle"
         },
         "mode": "markers",
         "name": "skill_name=Reasoning and Analysis Skills",
         "showlegend": false,
         "type": "scatter",
         "uid": "b0163947-c15c-412f-b4ac-10772d9922ba",
         "x": [
          "2018",
          "2007",
          "2008",
          "2009",
          "2014",
          "2016"
         ],
         "xaxis": "x4",
         "y": [
          -1,
          6.880000000000003,
          -5.030000000000001,
          3.8800000000000026,
          5.130000000000003,
          0.7999999999999972
         ],
         "yaxis": "y3"
        },
        {
         "hovertemplate": "<b>LOWESS trendline</b><br><br>class=5<br>skill_name=Reasoning and Analysis Skills<br>skill_name=Reasoning and Analysis Skills<br>year=%{x}<br>skill_delta=%{y} <b>(trend)</b><extra></extra>",
         "legendgroup": "skill_name=Reasoning and Analysis Skills",
         "marker": {
          "color": "#ab63fa",
          "symbol": "circle"
         },
         "mode": "lines",
         "name": "skill_name=Reasoning and Analysis Skills",
         "showlegend": false,
         "type": "scatter",
         "uid": "a34fc769-50d3-48c7-ba7c-37509f410e07",
         "x": [
          2007,
          2008,
          2009,
          2014,
          2016,
          2018
         ],
         "xaxis": "x4",
         "y": [
          6.88000000000009,
          5.379999999999719,
          3.880000000000082,
          4.994529765875218,
          1.7505975854559157,
          -1.293064154838941
         ],
         "yaxis": "y3"
        },
        {
         "hovertemplate": "class=6<br>skill_name=Conceptual Understanding and Comprehension<br>skill_name=Conceptual Understanding and Comprehension<br>year=%{x}<br>skill_delta=%{y}<br>studentCount=%{marker.size}<extra></extra>",
         "legendgroup": "skill_name=Conceptual Understanding and Comprehension",
         "marker": {
          "color": "#636efa",
          "size": [
           111,
           17,
           73,
           79,
           82,
           100
          ],
          "sizemode": "area",
          "sizeref": 1.15,
          "symbol": "circle"
         },
         "mode": "markers",
         "name": "skill_name=Conceptual Understanding and Comprehension",
         "showlegend": false,
         "type": "scatter",
         "uid": "6a1ef83e-02ad-4a8f-943e-41860495878a",
         "x": [
          "2018",
          "2007",
          "2008",
          "2009",
          "2014",
          "2016"
         ],
         "xaxis": "x",
         "y": [
          8.11,
          7.210000000000001,
          1.8699999999999974,
          -1.8800000000000026,
          10.700000000000003,
          4.479999999999997
         ],
         "yaxis": "y4"
        },
        {
         "hovertemplate": "<b>LOWESS trendline</b><br><br>class=6<br>skill_name=Conceptual Understanding and Comprehension<br>skill_name=Conceptual Understanding and Comprehension<br>year=%{x}<br>skill_delta=%{y} <b>(trend)</b><extra></extra>",
         "legendgroup": "skill_name=Conceptual Understanding and Comprehension",
         "marker": {
          "color": "#636efa",
          "symbol": "circle"
         },
         "mode": "lines",
         "name": "skill_name=Conceptual Understanding and Comprehension",
         "showlegend": false,
         "type": "scatter",
         "uid": "99862555-3871-409e-bd36-446021564cb0",
         "x": [
          2007,
          2008,
          2009,
          2014,
          2016,
          2018
         ],
         "xaxis": "x",
         "y": [
          7.004258051426316,
          2.4542149705307197,
          -2.0789003089053093,
          10.700000000000228,
          9.405000000000001,
          8.110000000000106
         ],
         "yaxis": "y4"
        },
        {
         "hovertemplate": "class=6<br>skill_name=Knowledge of Basic Science Facts<br>skill_name=Knowledge of Basic Science Facts<br>year=%{x}<br>skill_delta=%{y}<br>studentCount=%{marker.size}<extra></extra>",
         "legendgroup": "skill_name=Knowledge of Basic Science Facts",
         "marker": {
          "color": "#EF553B",
          "size": [
           111,
           17,
           73,
           79,
           82,
           100
          ],
          "sizemode": "area",
          "sizeref": 1.15,
          "symbol": "circle"
         },
         "mode": "markers",
         "name": "skill_name=Knowledge of Basic Science Facts",
         "showlegend": false,
         "type": "scatter",
         "uid": "16ba4e53-a972-4843-b71d-9fdacd2a8ccc",
         "x": [
          "2018",
          "2007",
          "2008",
          "2009",
          "2014",
          "2016"
         ],
         "xaxis": "x2",
         "y": [
          3.9299999999999997,
          9.560000000000002,
          9.170000000000002,
          3.960000000000001,
          4.579999999999998,
          7.5
         ],
         "yaxis": "y4"
        },
        {
         "hovertemplate": "<b>LOWESS trendline</b><br><br>class=6<br>skill_name=Knowledge of Basic Science Facts<br>skill_name=Knowledge of Basic Science Facts<br>year=%{x}<br>skill_delta=%{y} <b>(trend)</b><extra></extra>",
         "legendgroup": "skill_name=Knowledge of Basic Science Facts",
         "marker": {
          "color": "#EF553B",
          "symbol": "circle"
         },
         "mode": "lines",
         "name": "skill_name=Knowledge of Basic Science Facts",
         "showlegend": false,
         "type": "scatter",
         "uid": "92192127-5a88-4978-a7ac-a0f0eadefef8",
         "x": [
          2007,
          2008,
          2009,
          2014,
          2016,
          2018
         ],
         "xaxis": "x2",
         "y": [
          10.195487306106944,
          7.411263662853851,
          4.574482386403891,
          4.887213014133974,
          4.885296970235438,
          4.506559666044444
         ],
         "yaxis": "y4"
        },
        {
         "hovertemplate": "class=6<br>skill_name=Original Thinking<br>skill_name=Original Thinking<br>year=%{x}<br>skill_delta=%{y}<br>studentCount=%{marker.size}<extra></extra>",
         "legendgroup": "skill_name=Original Thinking",
         "marker": {
          "color": "#00cc96",
          "size": [
           111,
           17,
           73,
           79,
           82,
           100
          ],
          "sizemode": "area",
          "sizeref": 1.15,
          "symbol": "circle"
         },
         "mode": "markers",
         "name": "skill_name=Original Thinking",
         "showlegend": false,
         "type": "scatter",
         "uid": "544054fa-8c7f-4098-82bb-75d518b6c584",
         "x": [
          "2018",
          "2007",
          "2008",
          "2009",
          "2014",
          "2016"
         ],
         "xaxis": "x3",
         "y": [
          5.050000000000004,
          8.980000000000004,
          5.349999999999994,
          -0.6300000000000026,
          5.810000000000002,
          1.6999999999999957
         ],
         "yaxis": "y4"
        },
        {
         "hovertemplate": "<b>LOWESS trendline</b><br><br>class=6<br>skill_name=Original Thinking<br>skill_name=Original Thinking<br>year=%{x}<br>skill_delta=%{y} <b>(trend)</b><extra></extra>",
         "legendgroup": "skill_name=Original Thinking",
         "marker": {
          "color": "#00cc96",
          "symbol": "circle"
         },
         "mode": "lines",
         "name": "skill_name=Original Thinking",
         "showlegend": false,
         "type": "scatter",
         "uid": "e80af571-9156-4aea-9760-db3f700bb896",
         "x": [
          2007,
          2008,
          2009,
          2014,
          2016,
          2018
         ],
         "xaxis": "x3",
         "y": [
          9.30191939898019,
          4.50489450132696,
          -0.3190179323951261,
          5.81000000000009,
          5.4300000000000175,
          5.050000000000582
         ],
         "yaxis": "y4"
        },
        {
         "hovertemplate": "class=6<br>skill_name=Reasoning and Analysis Skills<br>skill_name=Reasoning and Analysis Skills<br>year=%{x}<br>skill_delta=%{y}<br>studentCount=%{marker.size}<extra></extra>",
         "legendgroup": "skill_name=Reasoning and Analysis Skills",
         "marker": {
          "color": "#ab63fa",
          "size": [
           111,
           17,
           73,
           79,
           82,
           100
          ],
          "sizemode": "area",
          "sizeref": 1.15,
          "symbol": "circle"
         },
         "mode": "markers",
         "name": "skill_name=Reasoning and Analysis Skills",
         "showlegend": false,
         "type": "scatter",
         "uid": "1fd27f25-72cc-484b-9496-ab20d1dffd0f",
         "x": [
          "2018",
          "2007",
          "2008",
          "2009",
          "2014",
          "2016"
         ],
         "xaxis": "x4",
         "y": [
          4.359999999999999,
          14.619999999999997,
          6.079999999999998,
          3.030000000000001,
          2.8900000000000006,
          2.5
         ],
         "yaxis": "y4"
        },
        {
         "hovertemplate": "<b>LOWESS trendline</b><br><br>class=6<br>skill_name=Reasoning and Analysis Skills<br>skill_name=Reasoning and Analysis Skills<br>year=%{x}<br>skill_delta=%{y} <b>(trend)</b><extra></extra>",
         "legendgroup": "skill_name=Reasoning and Analysis Skills",
         "marker": {
          "color": "#ab63fa",
          "symbol": "circle"
         },
         "mode": "lines",
         "name": "skill_name=Reasoning and Analysis Skills",
         "showlegend": false,
         "type": "scatter",
         "uid": "57c43466-7a7f-4e26-8b44-638731abd494",
         "x": [
          2007,
          2008,
          2009,
          2014,
          2016,
          2018
         ],
         "xaxis": "x4",
         "y": [
          13.998209062344761,
          8.188196063160582,
          2.427705667154224,
          2.7390645100724442,
          3.2471680856045526,
          4.022496417749476
         ],
         "yaxis": "y4"
        },
        {
         "hovertemplate": "class=7<br>skill_name=Conceptual Understanding and Comprehension<br>skill_name=Conceptual Understanding and Comprehension<br>year=%{x}<br>skill_delta=%{y}<br>studentCount=%{marker.size}<extra></extra>",
         "legendgroup": "skill_name=Conceptual Understanding and Comprehension",
         "marker": {
          "color": "#636efa",
          "size": [
           115,
           4,
           46,
           74,
           78,
           100
          ],
          "sizemode": "area",
          "sizeref": 1.15,
          "symbol": "circle"
         },
         "mode": "markers",
         "name": "skill_name=Conceptual Understanding and Comprehension",
         "showlegend": false,
         "type": "scatter",
         "uid": "34d948bc-e272-466e-b06f-350f548b5367",
         "x": [
          "2018",
          "2007",
          "2008",
          "2009",
          "2014",
          "2016"
         ],
         "xaxis": "x",
         "y": [
          9.930000000000007,
          11.239999999999995,
          6.439999999999998,
          3.9200000000000017,
          3.9299999999999997,
          3.8100000000000023
         ],
         "yaxis": "y5"
        },
        {
         "hovertemplate": "<b>LOWESS trendline</b><br><br>class=7<br>skill_name=Conceptual Understanding and Comprehension<br>skill_name=Conceptual Understanding and Comprehension<br>year=%{x}<br>skill_delta=%{y} <b>(trend)</b><extra></extra>",
         "legendgroup": "skill_name=Conceptual Understanding and Comprehension",
         "marker": {
          "color": "#636efa",
          "symbol": "circle"
         },
         "mode": "lines",
         "name": "skill_name=Conceptual Understanding and Comprehension",
         "showlegend": false,
         "type": "scatter",
         "uid": "8963c454-a887-444f-ab95-3962ffbc12e0",
         "x": [
          2007,
          2008,
          2009,
          2014,
          2016,
          2018
         ],
         "xaxis": "x",
         "y": [
          10.92821596258279,
          7.260493778548538,
          3.6188004284383877,
          3.929999999999905,
          6.930000000000337,
          9.929999999999577
         ],
         "yaxis": "y5"
        },
        {
         "hovertemplate": "class=7<br>skill_name=Knowledge of Basic Science Facts<br>skill_name=Knowledge of Basic Science Facts<br>year=%{x}<br>skill_delta=%{y}<br>studentCount=%{marker.size}<extra></extra>",
         "legendgroup": "skill_name=Knowledge of Basic Science Facts",
         "marker": {
          "color": "#EF553B",
          "size": [
           115,
           4,
           46,
           74,
           78,
           100
          ],
          "sizemode": "area",
          "sizeref": 1.15,
          "symbol": "circle"
         },
         "mode": "markers",
         "name": "skill_name=Knowledge of Basic Science Facts",
         "showlegend": false,
         "type": "scatter",
         "uid": "c06574d9-9e6c-4dbd-86ab-d81260dcde30",
         "x": [
          "2018",
          "2007",
          "2008",
          "2009",
          "2014",
          "2016"
         ],
         "xaxis": "x2",
         "y": [
          7.57,
          -0.990000000000002,
          12.560000000000002,
          0.3200000000000003,
          6.169999999999995,
          2.039999999999999
         ],
         "yaxis": "y5"
        },
        {
         "hovertemplate": "<b>LOWESS trendline</b><br><br>class=7<br>skill_name=Knowledge of Basic Science Facts<br>skill_name=Knowledge of Basic Science Facts<br>year=%{x}<br>skill_delta=%{y} <b>(trend)</b><extra></extra>",
         "legendgroup": "skill_name=Knowledge of Basic Science Facts",
         "marker": {
          "color": "#EF553B",
          "symbol": "circle"
         },
         "mode": "lines",
         "name": "skill_name=Knowledge of Basic Science Facts",
         "showlegend": false,
         "type": "scatter",
         "uid": "4d04d968-f9ef-4958-9b37-258dd13b9154",
         "x": [
          2007,
          2008,
          2009,
          2014,
          2016,
          2018
         ],
         "xaxis": "x2",
         "y": [
          1.7501184622555759,
          2.470776435521792,
          2.976342593493278,
          5.520234521099858,
          5.241762336996483,
          6.116361193314592
         ],
         "yaxis": "y5"
        },
        {
         "hovertemplate": "class=7<br>skill_name=Original Thinking<br>skill_name=Original Thinking<br>year=%{x}<br>skill_delta=%{y}<br>studentCount=%{marker.size}<extra></extra>",
         "legendgroup": "skill_name=Original Thinking",
         "marker": {
          "color": "#00cc96",
          "size": [
           115,
           4,
           46,
           74,
           78,
           100
          ],
          "sizemode": "area",
          "sizeref": 1.15,
          "symbol": "circle"
         },
         "mode": "markers",
         "name": "skill_name=Original Thinking",
         "showlegend": false,
         "type": "scatter",
         "uid": "02d3c3cf-b0e2-4ed9-a318-c45c8eac8ec8",
         "x": [
          "2018",
          "2007",
          "2008",
          "2009",
          "2014",
          "2016"
         ],
         "xaxis": "x3",
         "y": [
          6.380000000000003,
          3.91,
          2.1899999999999977,
          3.210000000000001,
          8,
          1.4299999999999997
         ],
         "yaxis": "y5"
        },
        {
         "hovertemplate": "<b>LOWESS trendline</b><br><br>class=7<br>skill_name=Original Thinking<br>skill_name=Original Thinking<br>year=%{x}<br>skill_delta=%{y} <b>(trend)</b><extra></extra>",
         "legendgroup": "skill_name=Original Thinking",
         "marker": {
          "color": "#00cc96",
          "symbol": "circle"
         },
         "mode": "lines",
         "name": "skill_name=Original Thinking",
         "showlegend": false,
         "type": "scatter",
         "uid": "a2a7672a-4cef-4dfe-a40c-5bfb0e43390e",
         "x": [
          2007,
          2008,
          2009,
          2014,
          2016,
          2018
         ],
         "xaxis": "x3",
         "y": [
          3.5375352903479107,
          3.1783225122010506,
          2.850154601918359,
          8.000000000000165,
          7.190000000000001,
          6.380000000000088
         ],
         "yaxis": "y5"
        },
        {
         "hovertemplate": "class=7<br>skill_name=Reasoning and Analysis Skills<br>skill_name=Reasoning and Analysis Skills<br>year=%{x}<br>skill_delta=%{y}<br>studentCount=%{marker.size}<extra></extra>",
         "legendgroup": "skill_name=Reasoning and Analysis Skills",
         "marker": {
          "color": "#ab63fa",
          "size": [
           115,
           4,
           46,
           74,
           78,
           100
          ],
          "sizemode": "area",
          "sizeref": 1.15,
          "symbol": "circle"
         },
         "mode": "markers",
         "name": "skill_name=Reasoning and Analysis Skills",
         "showlegend": false,
         "type": "scatter",
         "uid": "023b2ea4-58f1-4548-8f07-03bec162e70d",
         "x": [
          "2018",
          "2007",
          "2008",
          "2009",
          "2014",
          "2016"
         ],
         "xaxis": "x4",
         "y": [
          7.259999999999998,
          10.43,
          10.199999999999996,
          6.009999999999998,
          4.18,
          7.849999999999994
         ],
         "yaxis": "y5"
        },
        {
         "hovertemplate": "<b>LOWESS trendline</b><br><br>class=7<br>skill_name=Reasoning and Analysis Skills<br>skill_name=Reasoning and Analysis Skills<br>year=%{x}<br>skill_delta=%{y} <b>(trend)</b><extra></extra>",
         "legendgroup": "skill_name=Reasoning and Analysis Skills",
         "marker": {
          "color": "#ab63fa",
          "symbol": "circle"
         },
         "mode": "lines",
         "name": "skill_name=Reasoning and Analysis Skills",
         "showlegend": false,
         "type": "scatter",
         "uid": "064f4f37-9324-44f3-9928-399af964963b",
         "x": [
          2007,
          2008,
          2009,
          2014,
          2016,
          2018
         ],
         "xaxis": "x4",
         "y": [
          10.915056474958389,
          8.716903404429335,
          6.479383784960544,
          4.411042893294448,
          6.2322439130578635,
          7.727085866053854
         ],
         "yaxis": "y5"
        },
        {
         "hovertemplate": "class=8<br>skill_name=Conceptual Understanding and Comprehension<br>skill_name=Conceptual Understanding and Comprehension<br>year=%{x}<br>skill_delta=%{y}<br>studentCount=%{marker.size}<extra></extra>",
         "legendgroup": "skill_name=Conceptual Understanding and Comprehension",
         "marker": {
          "color": "#636efa",
          "size": [
           104,
           14,
           54,
           48,
           77,
           78
          ],
          "sizemode": "area",
          "sizeref": 1.15,
          "symbol": "circle"
         },
         "mode": "markers",
         "name": "skill_name=Conceptual Understanding and Comprehension",
         "showlegend": false,
         "type": "scatter",
         "uid": "a7911d58-65d3-4fc1-9789-5290a05d47a8",
         "x": [
          "2018",
          "2007",
          "2008",
          "2009",
          "2014",
          "2016"
         ],
         "xaxis": "x",
         "y": [
          5.629999999999999,
          15.369999999999997,
          5.020000000000003,
          15.049999999999997,
          4.93,
          -1.9400000000000048
         ],
         "yaxis": "y6"
        },
        {
         "hovertemplate": "<b>LOWESS trendline</b><br><br>class=8<br>skill_name=Conceptual Understanding and Comprehension<br>skill_name=Conceptual Understanding and Comprehension<br>year=%{x}<br>skill_delta=%{y} <b>(trend)</b><extra></extra>",
         "legendgroup": "skill_name=Conceptual Understanding and Comprehension",
         "marker": {
          "color": "#636efa",
          "symbol": "circle"
         },
         "mode": "lines",
         "name": "skill_name=Conceptual Understanding and Comprehension",
         "showlegend": false,
         "type": "scatter",
         "uid": "bda107b7-ae5d-4024-bb5c-0786855cbcd7",
         "x": [
          2007,
          2008,
          2009,
          2014,
          2016,
          2018
         ],
         "xaxis": "x",
         "y": [
          12.944168812819392,
          12.7252613546479,
          12.701846178726434,
          4.016244856752323,
          3.0548044062345263,
          3.6230419023259737
         ],
         "yaxis": "y6"
        },
        {
         "hovertemplate": "class=8<br>skill_name=Knowledge of Basic Science Facts<br>skill_name=Knowledge of Basic Science Facts<br>year=%{x}<br>skill_delta=%{y}<br>studentCount=%{marker.size}<extra></extra>",
         "legendgroup": "skill_name=Knowledge of Basic Science Facts",
         "marker": {
          "color": "#EF553B",
          "size": [
           104,
           14,
           54,
           48,
           77,
           78
          ],
          "sizemode": "area",
          "sizeref": 1.15,
          "symbol": "circle"
         },
         "mode": "markers",
         "name": "skill_name=Knowledge of Basic Science Facts",
         "showlegend": false,
         "type": "scatter",
         "uid": "037ecbd6-d144-4ac7-bc82-a1a3a45886f2",
         "x": [
          "2018",
          "2007",
          "2008",
          "2009",
          "2014",
          "2016"
         ],
         "xaxis": "x2",
         "y": [
          -0.7100000000000009,
          27.029999999999998,
          21.939999999999998,
          13.36,
          6.540000000000006,
          8.36
         ],
         "yaxis": "y6"
        },
        {
         "hovertemplate": "<b>LOWESS trendline</b><br><br>class=8<br>skill_name=Knowledge of Basic Science Facts<br>skill_name=Knowledge of Basic Science Facts<br>year=%{x}<br>skill_delta=%{y} <b>(trend)</b><extra></extra>",
         "legendgroup": "skill_name=Knowledge of Basic Science Facts",
         "marker": {
          "color": "#EF553B",
          "symbol": "circle"
         },
         "mode": "lines",
         "name": "skill_name=Knowledge of Basic Science Facts",
         "showlegend": false,
         "type": "scatter",
         "uid": "33f64638-12c3-4b92-baf9-68d87ff1d594",
         "x": [
          2007,
          2008,
          2009,
          2014,
          2016,
          2018
         ],
         "xaxis": "x2",
         "y": [
          27.50806175166874,
          20.684905069907003,
          13.821819940469597,
          6.540000000000588,
          2.9149999999997647,
          -0.7099999999999914
         ],
         "yaxis": "y6"
        },
        {
         "hovertemplate": "class=8<br>skill_name=Original Thinking<br>skill_name=Original Thinking<br>year=%{x}<br>skill_delta=%{y}<br>studentCount=%{marker.size}<extra></extra>",
         "legendgroup": "skill_name=Original Thinking",
         "marker": {
          "color": "#00cc96",
          "size": [
           104,
           14,
           54,
           48,
           77,
           78
          ],
          "sizemode": "area",
          "sizeref": 1.15,
          "symbol": "circle"
         },
         "mode": "markers",
         "name": "skill_name=Original Thinking",
         "showlegend": false,
         "type": "scatter",
         "uid": "65c85cb3-9d85-41d4-a810-4cc1a6c0060e",
         "x": [
          "2018",
          "2007",
          "2008",
          "2009",
          "2014",
          "2016"
         ],
         "xaxis": "x3",
         "y": [
          3.229999999999997,
          5.770000000000003,
          5.630000000000003,
          12.759999999999998,
          7.219999999999999,
          0.3299999999999983
         ],
         "yaxis": "y6"
        },
        {
         "hovertemplate": "<b>LOWESS trendline</b><br><br>class=8<br>skill_name=Original Thinking<br>skill_name=Original Thinking<br>year=%{x}<br>skill_delta=%{y} <b>(trend)</b><extra></extra>",
         "legendgroup": "skill_name=Original Thinking",
         "marker": {
          "color": "#00cc96",
          "symbol": "circle"
         },
         "mode": "lines",
         "name": "skill_name=Original Thinking",
         "showlegend": false,
         "type": "scatter",
         "uid": "526fd22b-e7e2-41ec-b02c-6a0cb23313fd",
         "x": [
          2007,
          2008,
          2009,
          2014,
          2016,
          2018
         ],
         "xaxis": "x3",
         "y": [
          4.811468638500844,
          8.28267236029505,
          11.833151479892624,
          6.756625784321336,
          4.274365422610385,
          2.3604122741207254
         ],
         "yaxis": "y6"
        },
        {
         "hovertemplate": "class=8<br>skill_name=Reasoning and Analysis Skills<br>skill_name=Reasoning and Analysis Skills<br>year=%{x}<br>skill_delta=%{y}<br>studentCount=%{marker.size}<extra></extra>",
         "legendgroup": "skill_name=Reasoning and Analysis Skills",
         "marker": {
          "color": "#ab63fa",
          "size": [
           104,
           14,
           54,
           48,
           77,
           78
          ],
          "sizemode": "area",
          "sizeref": 1.15,
          "symbol": "circle"
         },
         "mode": "markers",
         "name": "skill_name=Reasoning and Analysis Skills",
         "showlegend": false,
         "type": "scatter",
         "uid": "4ee2d8bc-c8d4-4fea-bc55-e8c424893812",
         "x": [
          "2018",
          "2007",
          "2008",
          "2009",
          "2014",
          "2016"
         ],
         "xaxis": "x4",
         "y": [
          4.030000000000001,
          14.870000000000005,
          11.61,
          15.130000000000003,
          7.210000000000001,
          0.3400000000000034
         ],
         "yaxis": "y6"
        },
        {
         "hovertemplate": "<b>LOWESS trendline</b><br><br>class=8<br>skill_name=Reasoning and Analysis Skills<br>skill_name=Reasoning and Analysis Skills<br>year=%{x}<br>skill_delta=%{y} <b>(trend)</b><extra></extra>",
         "legendgroup": "skill_name=Reasoning and Analysis Skills",
         "marker": {
          "color": "#ab63fa",
          "symbol": "circle"
         },
         "mode": "lines",
         "name": "skill_name=Reasoning and Analysis Skills",
         "showlegend": false,
         "type": "scatter",
         "uid": "b9d5eadb-48db-474b-95fc-93d56c5ce5de",
         "x": [
          2007,
          2008,
          2009,
          2014,
          2016,
          2018
         ],
         "xaxis": "x4",
         "y": [
          13.950419860472365,
          14.057436294199377,
          14.241081874804822,
          6.795922779875684,
          4.8409651761479395,
          3.315783395437273
         ],
         "yaxis": "y6"
        },
        {
         "hovertemplate": "class=9<br>skill_name=Conceptual Understanding and Comprehension<br>skill_name=Conceptual Understanding and Comprehension<br>year=%{x}<br>skill_delta=%{y}<br>studentCount=%{marker.size}<extra></extra>",
         "legendgroup": "skill_name=Conceptual Understanding and Comprehension",
         "marker": {
          "color": "#636efa",
          "size": [
           92,
           10,
           42,
           51,
           73,
           74
          ],
          "sizemode": "area",
          "sizeref": 1.15,
          "symbol": "circle"
         },
         "mode": "markers",
         "name": "skill_name=Conceptual Understanding and Comprehension",
         "showlegend": false,
         "type": "scatter",
         "uid": "7d7c1862-46f4-4d59-be09-950c93c0a187",
         "x": [
          "2018",
          "2007",
          "2008",
          "2009",
          "2014",
          "2016"
         ],
         "xaxis": "x",
         "y": [
          5.789999999999999,
          -1.6400000000000006,
          6.609999999999999,
          4.049999999999997,
          5.5,
          4.489999999999995
         ],
         "yaxis": "y7"
        },
        {
         "hovertemplate": "<b>LOWESS trendline</b><br><br>class=9<br>skill_name=Conceptual Understanding and Comprehension<br>skill_name=Conceptual Understanding and Comprehension<br>year=%{x}<br>skill_delta=%{y} <b>(trend)</b><extra></extra>",
         "legendgroup": "skill_name=Conceptual Understanding and Comprehension",
         "marker": {
          "color": "#636efa",
          "symbol": "circle"
         },
         "mode": "lines",
         "name": "skill_name=Conceptual Understanding and Comprehension",
         "showlegend": false,
         "type": "scatter",
         "uid": "4b2605b5-3b48-457f-953f-c09771740d38",
         "x": [
          2007,
          2008,
          2009,
          2014,
          2016,
          2018
         ],
         "xaxis": "x",
         "y": [
          -1.6400000000003576,
          1.204999999999952,
          4.049999999999736,
          5.344348419077457,
          5.254561743904973,
          5.441516108972336
         ],
         "yaxis": "y7"
        },
        {
         "hovertemplate": "class=9<br>skill_name=Knowledge of Basic Science Facts<br>skill_name=Knowledge of Basic Science Facts<br>year=%{x}<br>skill_delta=%{y}<br>studentCount=%{marker.size}<extra></extra>",
         "legendgroup": "skill_name=Knowledge of Basic Science Facts",
         "marker": {
          "color": "#EF553B",
          "size": [
           92,
           10,
           42,
           51,
           73,
           74
          ],
          "sizemode": "area",
          "sizeref": 1.15,
          "symbol": "circle"
         },
         "mode": "markers",
         "name": "skill_name=Knowledge of Basic Science Facts",
         "showlegend": false,
         "type": "scatter",
         "uid": "62784204-ecf6-488c-8193-43c9fa8d08de",
         "x": [
          "2018",
          "2007",
          "2008",
          "2009",
          "2014",
          "2016"
         ],
         "xaxis": "x2",
         "y": [
          1.139999999999997,
          7.259999999999998,
          12.529999999999994,
          16.17,
          6.130000000000003,
          0.5199999999999996
         ],
         "yaxis": "y7"
        },
        {
         "hovertemplate": "<b>LOWESS trendline</b><br><br>class=9<br>skill_name=Knowledge of Basic Science Facts<br>skill_name=Knowledge of Basic Science Facts<br>year=%{x}<br>skill_delta=%{y} <b>(trend)</b><extra></extra>",
         "legendgroup": "skill_name=Knowledge of Basic Science Facts",
         "marker": {
          "color": "#EF553B",
          "symbol": "circle"
         },
         "mode": "lines",
         "name": "skill_name=Knowledge of Basic Science Facts",
         "showlegend": false,
         "type": "scatter",
         "uid": "05b9f56b-9379-4157-bc6b-63c268260cec",
         "x": [
          2007,
          2008,
          2009,
          2014,
          2016,
          2018
         ],
         "xaxis": "x2",
         "y": [
          7.482655420363548,
          11.9431679499272,
          16.385097973830256,
          6.130000000000181,
          3.635,
          1.1400000000000037
         ],
         "yaxis": "y7"
        },
        {
         "hovertemplate": "class=9<br>skill_name=Original Thinking<br>skill_name=Original Thinking<br>year=%{x}<br>skill_delta=%{y}<br>studentCount=%{marker.size}<extra></extra>",
         "legendgroup": "skill_name=Original Thinking",
         "marker": {
          "color": "#00cc96",
          "size": [
           92,
           10,
           42,
           51,
           73,
           74
          ],
          "sizemode": "area",
          "sizeref": 1.15,
          "symbol": "circle"
         },
         "mode": "markers",
         "name": "skill_name=Original Thinking",
         "showlegend": false,
         "type": "scatter",
         "uid": "5fbd7ea0-a55d-4c91-b289-43dd42cad7ed",
         "x": [
          "2018",
          "2007",
          "2008",
          "2009",
          "2014",
          "2016"
         ],
         "xaxis": "x3",
         "y": [
          3.6700000000000017,
          9.199999999999996,
          11.600000000000001,
          3.1300000000000026,
          1.6799999999999997,
          5.289999999999999
         ],
         "yaxis": "y7"
        },
        {
         "hovertemplate": "<b>LOWESS trendline</b><br><br>class=9<br>skill_name=Original Thinking<br>skill_name=Original Thinking<br>year=%{x}<br>skill_delta=%{y} <b>(trend)</b><extra></extra>",
         "legendgroup": "skill_name=Original Thinking",
         "marker": {
          "color": "#00cc96",
          "symbol": "circle"
         },
         "mode": "lines",
         "name": "skill_name=Original Thinking",
         "showlegend": false,
         "type": "scatter",
         "uid": "b637471f-767d-40c5-af6d-8b995c9ecc6a",
         "x": [
          2007,
          2008,
          2009,
          2014,
          2016,
          2018
         ],
         "xaxis": "x3",
         "y": [
          10.48460979977579,
          7.48077974874965,
          4.373604136752029,
          2.0277397691091785,
          3.5423395005034752,
          4.446119188930458
         ],
         "yaxis": "y7"
        },
        {
         "hovertemplate": "class=9<br>skill_name=Reasoning and Analysis Skills<br>skill_name=Reasoning and Analysis Skills<br>year=%{x}<br>skill_delta=%{y}<br>studentCount=%{marker.size}<extra></extra>",
         "legendgroup": "skill_name=Reasoning and Analysis Skills",
         "marker": {
          "color": "#ab63fa",
          "size": [
           92,
           10,
           42,
           51,
           73,
           74
          ],
          "sizemode": "area",
          "sizeref": 1.15,
          "symbol": "circle"
         },
         "mode": "markers",
         "name": "skill_name=Reasoning and Analysis Skills",
         "showlegend": false,
         "type": "scatter",
         "uid": "04eb70cb-f6ad-452c-a28f-85eeca04eb4a",
         "x": [
          "2018",
          "2007",
          "2008",
          "2009",
          "2014",
          "2016"
         ],
         "xaxis": "x4",
         "y": [
          7.980000000000004,
          15.25,
          9.730000000000004,
          9.380000000000003,
          4.469999999999999,
          0.4899999999999949
         ],
         "yaxis": "y7"
        },
        {
         "hovertemplate": "<b>LOWESS trendline</b><br><br>class=9<br>skill_name=Reasoning and Analysis Skills<br>skill_name=Reasoning and Analysis Skills<br>year=%{x}<br>skill_delta=%{y} <b>(trend)</b><extra></extra>",
         "legendgroup": "skill_name=Reasoning and Analysis Skills",
         "marker": {
          "color": "#ab63fa",
          "symbol": "circle"
         },
         "mode": "lines",
         "name": "skill_name=Reasoning and Analysis Skills",
         "showlegend": false,
         "type": "scatter",
         "uid": "fba36a6c-8ce1-4554-b770-be71bc4b4822",
         "x": [
          2007,
          2008,
          2009,
          2014,
          2016,
          2018
         ],
         "xaxis": "x4",
         "y": [
          14.539887599828914,
          11.587219972479513,
          8.693912984683104,
          4.469999999999992,
          6.225000000000195,
          7.979999999999581
         ],
         "yaxis": "y7"
        },
        {
         "hovertemplate": "class=10<br>skill_name=Conceptual Understanding and Comprehension<br>skill_name=Conceptual Understanding and Comprehension<br>year=%{x}<br>skill_delta=%{y}<br>studentCount=%{marker.size}<extra></extra>",
         "legendgroup": "skill_name=Conceptual Understanding and Comprehension",
         "marker": {
          "color": "#636efa",
          "size": [
           73,
           67
          ],
          "sizemode": "area",
          "sizeref": 1.15,
          "symbol": "circle"
         },
         "mode": "markers",
         "name": "skill_name=Conceptual Understanding and Comprehension",
         "showlegend": false,
         "type": "scatter",
         "uid": "022a129f-5d9f-4874-b2d5-3434c412f078",
         "x": [
          "2014",
          "2016"
         ],
         "xaxis": "x",
         "y": [
          1.8999999999999986,
          9.579999999999998
         ],
         "yaxis": "y8"
        },
        {
         "hovertemplate": "<b>LOWESS trendline</b><br><br>class=10<br>skill_name=Conceptual Understanding and Comprehension<br>skill_name=Conceptual Understanding and Comprehension<br>year=%{x}<br>skill_delta=%{y} <b>(trend)</b><extra></extra>",
         "legendgroup": "skill_name=Conceptual Understanding and Comprehension",
         "marker": {
          "color": "#636efa",
          "symbol": "circle"
         },
         "mode": "lines",
         "name": "skill_name=Conceptual Understanding and Comprehension",
         "showlegend": false,
         "type": "scatter",
         "uid": "a0fd12f1-d400-4778-a752-4db438452d9b",
         "x": [
          2014,
          2016
         ],
         "xaxis": "x",
         "y": [
          1.8999999999999986,
          9.579999999999998
         ],
         "yaxis": "y8"
        },
        {
         "hovertemplate": "class=10<br>skill_name=Knowledge of Basic Science Facts<br>skill_name=Knowledge of Basic Science Facts<br>year=%{x}<br>skill_delta=%{y}<br>studentCount=%{marker.size}<extra></extra>",
         "legendgroup": "skill_name=Knowledge of Basic Science Facts",
         "marker": {
          "color": "#EF553B",
          "size": [
           73,
           67
          ],
          "sizemode": "area",
          "sizeref": 1.15,
          "symbol": "circle"
         },
         "mode": "markers",
         "name": "skill_name=Knowledge of Basic Science Facts",
         "showlegend": false,
         "type": "scatter",
         "uid": "d843277a-000e-4b18-9635-100a779a8148",
         "x": [
          "2014",
          "2016"
         ],
         "xaxis": "x2",
         "y": [
          -1.4200000000000017,
          6.229999999999997
         ],
         "yaxis": "y8"
        },
        {
         "hovertemplate": "<b>LOWESS trendline</b><br><br>class=10<br>skill_name=Knowledge of Basic Science Facts<br>skill_name=Knowledge of Basic Science Facts<br>year=%{x}<br>skill_delta=%{y} <b>(trend)</b><extra></extra>",
         "legendgroup": "skill_name=Knowledge of Basic Science Facts",
         "marker": {
          "color": "#EF553B",
          "symbol": "circle"
         },
         "mode": "lines",
         "name": "skill_name=Knowledge of Basic Science Facts",
         "showlegend": false,
         "type": "scatter",
         "uid": "fd6f9737-2b76-4e5d-927c-a4d9af397274",
         "x": [
          2014,
          2016
         ],
         "xaxis": "x2",
         "y": [
          -1.4200000000000017,
          6.229999999999997
         ],
         "yaxis": "y8"
        },
        {
         "hovertemplate": "class=10<br>skill_name=Original Thinking<br>skill_name=Original Thinking<br>year=%{x}<br>skill_delta=%{y}<br>studentCount=%{marker.size}<extra></extra>",
         "legendgroup": "skill_name=Original Thinking",
         "marker": {
          "color": "#00cc96",
          "size": [
           73,
           67
          ],
          "sizemode": "area",
          "sizeref": 1.15,
          "symbol": "circle"
         },
         "mode": "markers",
         "name": "skill_name=Original Thinking",
         "showlegend": false,
         "type": "scatter",
         "uid": "b1d46b63-d07e-4724-ad27-a096cea7d9b4",
         "x": [
          "2014",
          "2016"
         ],
         "xaxis": "x3",
         "y": [
          1.8100000000000023,
          1.3499999999999943
         ],
         "yaxis": "y8"
        },
        {
         "hovertemplate": "<b>LOWESS trendline</b><br><br>class=10<br>skill_name=Original Thinking<br>skill_name=Original Thinking<br>year=%{x}<br>skill_delta=%{y} <b>(trend)</b><extra></extra>",
         "legendgroup": "skill_name=Original Thinking",
         "marker": {
          "color": "#00cc96",
          "symbol": "circle"
         },
         "mode": "lines",
         "name": "skill_name=Original Thinking",
         "showlegend": false,
         "type": "scatter",
         "uid": "705191b6-c586-4f25-bdc6-c83173fe9f56",
         "x": [
          2014,
          2016
         ],
         "xaxis": "x3",
         "y": [
          1.8100000000000023,
          1.3499999999999943
         ],
         "yaxis": "y8"
        },
        {
         "hovertemplate": "class=10<br>skill_name=Reasoning and Analysis Skills<br>skill_name=Reasoning and Analysis Skills<br>year=%{x}<br>skill_delta=%{y}<br>studentCount=%{marker.size}<extra></extra>",
         "legendgroup": "skill_name=Reasoning and Analysis Skills",
         "marker": {
          "color": "#ab63fa",
          "size": [
           73,
           67
          ],
          "sizemode": "area",
          "sizeref": 1.15,
          "symbol": "circle"
         },
         "mode": "markers",
         "name": "skill_name=Reasoning and Analysis Skills",
         "showlegend": false,
         "type": "scatter",
         "uid": "8c32e213-b3dd-4874-9b50-b56bb4bceacc",
         "x": [
          "2014",
          "2016"
         ],
         "xaxis": "x4",
         "y": [
          0.8000000000000043,
          3.1899999999999977
         ],
         "yaxis": "y8"
        },
        {
         "hovertemplate": "<b>LOWESS trendline</b><br><br>class=10<br>skill_name=Reasoning and Analysis Skills<br>skill_name=Reasoning and Analysis Skills<br>year=%{x}<br>skill_delta=%{y} <b>(trend)</b><extra></extra>",
         "legendgroup": "skill_name=Reasoning and Analysis Skills",
         "marker": {
          "color": "#ab63fa",
          "symbol": "circle"
         },
         "mode": "lines",
         "name": "skill_name=Reasoning and Analysis Skills",
         "showlegend": false,
         "type": "scatter",
         "uid": "3b23b21c-290e-4f58-837c-9577ac6b1048",
         "x": [
          2014,
          2016
         ],
         "xaxis": "x4",
         "y": [
          0.8000000000000043,
          3.1899999999999977
         ],
         "yaxis": "y8"
        }
       ],
       "layout": {
        "annotations": [
         {
          "showarrow": false,
          "text": "skill_name=Conceptual Understanding and Comprehension",
          "textangle": 0,
          "x": 0.1153846153846154,
          "xanchor": "center",
          "xref": "paper",
          "y": 1.02,
          "yanchor": "middle",
          "yref": "paper"
         },
         {
          "showarrow": false,
          "text": "skill_name=Knowledge of Basic Science Facts",
          "textangle": 0,
          "x": 0.3717948717948718,
          "xanchor": "center",
          "xref": "paper",
          "y": 1.02,
          "yanchor": "middle",
          "yref": "paper"
         },
         {
          "showarrow": false,
          "text": "skill_name=Original Thinking",
          "textangle": 0,
          "x": 0.6282051282051283,
          "xanchor": "center",
          "xref": "paper",
          "y": 1.02,
          "yanchor": "middle",
          "yref": "paper"
         },
         {
          "showarrow": false,
          "text": "skill_name=Reasoning and Analysis Skills",
          "textangle": 0,
          "x": 0.8846153846153848,
          "xanchor": "center",
          "xref": "paper",
          "y": 1.02,
          "yanchor": "middle",
          "yref": "paper"
         },
         {
          "showarrow": false,
          "text": "class=3",
          "textangle": 90,
          "x": 1.01,
          "xanchor": "center",
          "xref": "paper",
          "y": 0.9430379746835442,
          "yanchor": "middle",
          "yref": "paper"
         },
         {
          "showarrow": false,
          "text": "class=4",
          "textangle": 90,
          "x": 1.01,
          "xanchor": "center",
          "xref": "paper",
          "y": 0.8164556962025316,
          "yanchor": "middle",
          "yref": "paper"
         },
         {
          "showarrow": false,
          "text": "class=5",
          "textangle": 90,
          "x": 1.01,
          "xanchor": "center",
          "xref": "paper",
          "y": 0.6898734177215189,
          "yanchor": "middle",
          "yref": "paper"
         },
         {
          "showarrow": false,
          "text": "class=6",
          "textangle": 90,
          "x": 1.01,
          "xanchor": "center",
          "xref": "paper",
          "y": 0.5632911392405062,
          "yanchor": "middle",
          "yref": "paper"
         },
         {
          "showarrow": false,
          "text": "class=7",
          "textangle": 90,
          "x": 1.01,
          "xanchor": "center",
          "xref": "paper",
          "y": 0.4367088607594936,
          "yanchor": "middle",
          "yref": "paper"
         },
         {
          "showarrow": false,
          "text": "class=8",
          "textangle": 90,
          "x": 1.01,
          "xanchor": "center",
          "xref": "paper",
          "y": 0.310126582278481,
          "yanchor": "middle",
          "yref": "paper"
         },
         {
          "showarrow": false,
          "text": "class=9",
          "textangle": 90,
          "x": 1.01,
          "xanchor": "center",
          "xref": "paper",
          "y": 0.18354430379746833,
          "yanchor": "middle",
          "yref": "paper"
         },
         {
          "showarrow": false,
          "text": "class=10",
          "textangle": 90,
          "x": 1.01,
          "xanchor": "center",
          "xref": "paper",
          "y": 0.05696202531645569,
          "yanchor": "middle",
          "yref": "paper"
         }
        ],
        "grid": {
         "xaxes": [
          "x",
          "x2",
          "x3",
          "x4"
         ],
         "xgap": 0.1,
         "xside": "bottom",
         "yaxes": [
          "y",
          "y2",
          "y3",
          "y4",
          "y5",
          "y6",
          "y7",
          "y8"
         ],
         "ygap": 0.1,
         "yside": "left"
        },
        "height": 1500,
        "legend": {
         "tracegroupgap": 0
        },
        "template": {
         "data": {
          "bar": [
           {
            "marker": {
             "line": {
              "color": "#E5ECF6",
              "width": 0.5
             }
            },
            "type": "bar"
           }
          ],
          "barpolar": [
           {
            "marker": {
             "line": {
              "color": "#E5ECF6",
              "width": 0.5
             }
            },
            "type": "barpolar"
           }
          ],
          "carpet": [
           {
            "aaxis": {
             "endlinecolor": "#2a3f5f",
             "gridcolor": "white",
             "linecolor": "white",
             "minorgridcolor": "white",
             "startlinecolor": "#2a3f5f"
            },
            "baxis": {
             "endlinecolor": "#2a3f5f",
             "gridcolor": "white",
             "linecolor": "white",
             "minorgridcolor": "white",
             "startlinecolor": "#2a3f5f"
            },
            "type": "carpet"
           }
          ],
          "choropleth": [
           {
            "colorbar": {
             "outlinewidth": 0,
             "ticks": ""
            },
            "type": "choropleth"
           }
          ],
          "contour": [
           {
            "autocolorscale": true,
            "colorbar": {
             "outlinewidth": 0,
             "ticks": ""
            },
            "type": "contour"
           }
          ],
          "contourcarpet": [
           {
            "colorbar": {
             "outlinewidth": 0,
             "ticks": ""
            },
            "type": "contourcarpet"
           }
          ],
          "heatmap": [
           {
            "autocolorscale": true,
            "colorbar": {
             "outlinewidth": 0,
             "ticks": ""
            },
            "type": "heatmap"
           }
          ],
          "heatmapgl": [
           {
            "colorbar": {
             "outlinewidth": 0,
             "ticks": ""
            },
            "type": "heatmapgl"
           }
          ],
          "histogram": [
           {
            "marker": {
             "colorbar": {
              "outlinewidth": 0,
              "ticks": ""
             }
            },
            "type": "histogram"
           }
          ],
          "histogram2d": [
           {
            "autocolorscale": true,
            "colorbar": {
             "outlinewidth": 0,
             "ticks": ""
            },
            "type": "histogram2d"
           }
          ],
          "histogram2dcontour": [
           {
            "autocolorscale": true,
            "colorbar": {
             "outlinewidth": 0,
             "ticks": ""
            },
            "type": "histogram2dcontour"
           }
          ],
          "mesh3d": [
           {
            "colorbar": {
             "outlinewidth": 0,
             "ticks": ""
            },
            "type": "mesh3d"
           }
          ],
          "parcoords": [
           {
            "line": {
             "colorbar": {
              "outlinewidth": 0,
              "ticks": ""
             }
            },
            "type": "parcoords"
           }
          ],
          "scatter": [
           {
            "marker": {
             "colorbar": {
              "outlinewidth": 0,
              "ticks": ""
             }
            },
            "type": "scatter"
           }
          ],
          "scatter3d": [
           {
            "marker": {
             "colorbar": {
              "outlinewidth": 0,
              "ticks": ""
             }
            },
            "type": "scatter3d"
           }
          ],
          "scattercarpet": [
           {
            "marker": {
             "colorbar": {
              "outlinewidth": 0,
              "ticks": ""
             }
            },
            "type": "scattercarpet"
           }
          ],
          "scattergeo": [
           {
            "marker": {
             "colorbar": {
              "outlinewidth": 0,
              "ticks": ""
             }
            },
            "type": "scattergeo"
           }
          ],
          "scattergl": [
           {
            "marker": {
             "colorbar": {
              "outlinewidth": 0,
              "ticks": ""
             }
            },
            "type": "scattergl"
           }
          ],
          "scattermapbox": [
           {
            "marker": {
             "colorbar": {
              "outlinewidth": 0,
              "ticks": ""
             }
            },
            "type": "scattermapbox"
           }
          ],
          "scatterpolar": [
           {
            "marker": {
             "colorbar": {
              "outlinewidth": 0,
              "ticks": ""
             }
            },
            "type": "scatterpolar"
           }
          ],
          "scatterpolargl": [
           {
            "marker": {
             "colorbar": {
              "outlinewidth": 0,
              "ticks": ""
             }
            },
            "type": "scatterpolargl"
           }
          ],
          "scatterternary": [
           {
            "marker": {
             "colorbar": {
              "outlinewidth": 0,
              "ticks": ""
             }
            },
            "type": "scatterternary"
           }
          ],
          "surface": [
           {
            "colorbar": {
             "outlinewidth": 0,
             "ticks": ""
            },
            "type": "surface"
           }
          ],
          "table": [
           {
            "cells": {
             "fill": {
              "color": "#EBF0F8"
             },
             "line": {
              "color": "white"
             }
            },
            "header": {
             "fill": {
              "color": "#C8D4E3"
             },
             "line": {
              "color": "white"
             }
            },
            "type": "table"
           }
          ]
         },
         "layout": {
          "annotationdefaults": {
           "arrowcolor": "#506784",
           "arrowhead": 0,
           "arrowwidth": 1
          },
          "colorscale": {
           "diverging": [
            [
             0,
             "#8e0152"
            ],
            [
             0.1,
             "#c51b7d"
            ],
            [
             0.2,
             "#de77ae"
            ],
            [
             0.3,
             "#f1b6da"
            ],
            [
             0.4,
             "#fde0ef"
            ],
            [
             0.5,
             "#f7f7f7"
            ],
            [
             0.6,
             "#e6f5d0"
            ],
            [
             0.7,
             "#b8e186"
            ],
            [
             0.8,
             "#7fbc41"
            ],
            [
             0.9,
             "#4d9221"
            ],
            [
             1,
             "#276419"
            ]
           ],
           "sequential": [
            [
             0,
             "#0508b8"
            ],
            [
             0.0893854748603352,
             "#1910d8"
            ],
            [
             0.1787709497206704,
             "#3c19f0"
            ],
            [
             0.2681564245810056,
             "#6b1cfb"
            ],
            [
             0.3575418994413408,
             "#981cfd"
            ],
            [
             0.44692737430167595,
             "#bf1cfd"
            ],
            [
             0.5363128491620112,
             "#dd2bfd"
            ],
            [
             0.6256983240223464,
             "#f246fe"
            ],
            [
             0.7150837988826816,
             "#fc67fd"
            ],
            [
             0.8044692737430168,
             "#fe88fc"
            ],
            [
             0.8938547486033519,
             "#fea5fd"
            ],
            [
             0.9832402234636871,
             "#febefe"
            ],
            [
             1,
             "#fec3fe"
            ]
           ],
           "sequentialminus": [
            [
             0,
             "#0508b8"
            ],
            [
             0.0893854748603352,
             "#1910d8"
            ],
            [
             0.1787709497206704,
             "#3c19f0"
            ],
            [
             0.2681564245810056,
             "#6b1cfb"
            ],
            [
             0.3575418994413408,
             "#981cfd"
            ],
            [
             0.44692737430167595,
             "#bf1cfd"
            ],
            [
             0.5363128491620112,
             "#dd2bfd"
            ],
            [
             0.6256983240223464,
             "#f246fe"
            ],
            [
             0.7150837988826816,
             "#fc67fd"
            ],
            [
             0.8044692737430168,
             "#fe88fc"
            ],
            [
             0.8938547486033519,
             "#fea5fd"
            ],
            [
             0.9832402234636871,
             "#febefe"
            ],
            [
             1,
             "#fec3fe"
            ]
           ]
          },
          "colorway": [
           "#636efa",
           "#EF553B",
           "#00cc96",
           "#ab63fa",
           "#19d3f3",
           "#e763fa",
           "#FECB52",
           "#FFA15A",
           "#FF6692",
           "#B6E880"
          ],
          "font": {
           "color": "#2a3f5f"
          },
          "geo": {
           "bgcolor": "white",
           "lakecolor": "white",
           "landcolor": "#E5ECF6",
           "showlakes": true,
           "showland": true,
           "subunitcolor": "white"
          },
          "hoverlabel": {
           "align": "left"
          },
          "hovermode": "closest",
          "legend": {
           "itemsizing": "constant"
          },
          "mapbox": {
           "style": "light"
          },
          "paper_bgcolor": "white",
          "plot_bgcolor": "#E5ECF6",
          "polar": {
           "angularaxis": {
            "gridcolor": "white",
            "linecolor": "white",
            "ticks": ""
           },
           "bgcolor": "#E5ECF6",
           "radialaxis": {
            "gridcolor": "white",
            "linecolor": "white",
            "ticks": ""
           }
          },
          "scene": {
           "xaxis": {
            "backgroundcolor": "#E5ECF6",
            "gridcolor": "white",
            "gridwidth": 2,
            "linecolor": "white",
            "showbackground": true,
            "ticks": "",
            "zerolinecolor": "white"
           },
           "yaxis": {
            "backgroundcolor": "#E5ECF6",
            "gridcolor": "white",
            "gridwidth": 2,
            "linecolor": "white",
            "showbackground": true,
            "ticks": "",
            "zerolinecolor": "white"
           },
           "zaxis": {
            "backgroundcolor": "#E5ECF6",
            "gridcolor": "white",
            "gridwidth": 2,
            "linecolor": "white",
            "showbackground": true,
            "ticks": "",
            "zerolinecolor": "white"
           }
          },
          "shapedefaults": {
           "fillcolor": "#506784",
           "line": {
            "width": 0
           },
           "opacity": 0.4
          },
          "ternary": {
           "aaxis": {
            "gridcolor": "white",
            "linecolor": "white",
            "ticks": ""
           },
           "baxis": {
            "gridcolor": "white",
            "linecolor": "white",
            "ticks": ""
           },
           "bgcolor": "#E5ECF6",
           "caxis": {
            "gridcolor": "white",
            "linecolor": "white",
            "ticks": ""
           }
          },
          "title": {
           "x": 0.05
          },
          "xaxis": {
           "automargin": true,
           "gridcolor": "white",
           "linecolor": "white",
           "ticks": "",
           "zerolinecolor": "white",
           "zerolinewidth": 2
          },
          "yaxis": {
           "automargin": true,
           "gridcolor": "white",
           "linecolor": "white",
           "ticks": "",
           "zerolinecolor": "white",
           "zerolinewidth": 2
          }
         }
        },
        "title": {
         "text": "Core Skills in Science (Sushila Birla Girls^ School-Kolkata-CBSE)"
        },
        "width": 2000,
        "xaxis": {
         "title": {
          "text": "year"
         }
        },
        "xaxis2": {
         "matches": "x",
         "title": {
          "text": "year"
         }
        },
        "xaxis3": {
         "matches": "x",
         "title": {
          "text": "year"
         }
        },
        "xaxis4": {
         "matches": "x",
         "title": {
          "text": "year"
         }
        },
        "yaxis": {
         "title": {
          "text": "skill_delta"
         }
        },
        "yaxis2": {
         "matches": "y",
         "title": {
          "text": "skill_delta"
         }
        },
        "yaxis3": {
         "matches": "y",
         "title": {
          "text": "skill_delta"
         }
        },
        "yaxis4": {
         "matches": "y",
         "title": {
          "text": "skill_delta"
         }
        },
        "yaxis5": {
         "matches": "y",
         "title": {
          "text": "skill_delta"
         }
        },
        "yaxis6": {
         "matches": "y",
         "title": {
          "text": "skill_delta"
         }
        },
        "yaxis7": {
         "matches": "y",
         "title": {
          "text": "skill_delta"
         }
        },
        "yaxis8": {
         "matches": "y",
         "title": {
          "text": "skill_delta"
         }
        }
       }
      },
      "text/html": [
       "<div>\n",
       "        \n",
       "        \n",
       "            <div id=\"0245f394-9efa-44ea-95fc-6e34af02fb44\" class=\"plotly-graph-div\"></div>\n",
       "            <script type=\"text/javascript\">\n",
       "                require([\"plotly\"], function(Plotly) {\n",
       "                    window.PLOTLYENV=window.PLOTLYENV || {};\n",
       "                    window.PLOTLYENV.BASE_URL='https://plot.ly';\n",
       "                    \n",
       "                if (document.getElementById(\"0245f394-9efa-44ea-95fc-6e34af02fb44\")) {\n",
       "                    Plotly.newPlot(\n",
       "                        '0245f394-9efa-44ea-95fc-6e34af02fb44',\n",
       "                        [{\"hovertemplate\": \"class=3<br>skill_name=Conceptual Understanding and Comprehension<br>skill_name=Conceptual Understanding and Comprehension<br>year=%{x}<br>skill_delta=%{y}<br>studentCount=%{marker.size}<extra></extra>\", \"legendgroup\": \"skill_name=Conceptual Understanding and Comprehension\", \"marker\": {\"color\": \"#636efa\", \"size\": [113, 18, 73, 75, 106, 109], \"sizemode\": \"area\", \"sizeref\": 1.15, \"symbol\": \"circle\"}, \"mode\": \"markers\", \"name\": \"skill_name=Conceptual Understanding and Comprehension\", \"showlegend\": true, \"type\": \"scatter\", \"uid\": \"a1a5f5ff-f743-475a-ad9d-50813500f04d\", \"x\": [\"2018\", \"2007\", \"2008\", \"2009\", \"2014\", \"2016\"], \"xaxis\": \"x\", \"y\": [6.699999999999996, 7.149999999999999, 4.269999999999996, 1.1799999999999926, -1.6500000000000057, 6.280000000000001], \"yaxis\": \"y\"}, {\"hovertemplate\": \"<b>LOWESS trendline</b><br><br>class=3<br>skill_name=Conceptual Understanding and Comprehension<br>skill_name=Conceptual Understanding and Comprehension<br>year=%{x}<br>skill_delta=%{y} <b>(trend)</b><extra></extra>\", \"legendgroup\": \"skill_name=Conceptual Understanding and Comprehension\", \"marker\": {\"color\": \"#636efa\", \"symbol\": \"circle\"}, \"mode\": \"lines\", \"name\": \"skill_name=Conceptual Understanding and Comprehension\", \"showlegend\": false, \"type\": \"scatter\", \"uid\": \"6995a9eb-5464-49e1-9205-2da4c7adbd83\", \"x\": [2007.0, 2008.0, 2009.0, 2014.0, 2016.0, 2018.0], \"xaxis\": \"x\", \"y\": [7.177459803311247, 4.193133687635075, 1.2065421736968656, -1.6500000000001522, 2.524999999999995, 6.700000000000102], \"yaxis\": \"y\"}, {\"hovertemplate\": \"class=3<br>skill_name=Knowledge of Basic Science Facts<br>skill_name=Knowledge of Basic Science Facts<br>year=%{x}<br>skill_delta=%{y}<br>studentCount=%{marker.size}<extra></extra>\", \"legendgroup\": \"skill_name=Knowledge of Basic Science Facts\", \"marker\": {\"color\": \"#EF553B\", \"size\": [113, 18, 73, 75, 106, 109], \"sizemode\": \"area\", \"sizeref\": 1.15, \"symbol\": \"circle\"}, \"mode\": \"markers\", \"name\": \"skill_name=Knowledge of Basic Science Facts\", \"showlegend\": true, \"type\": \"scatter\", \"uid\": \"c4ae89ae-aa41-477f-8a38-91b12beba5ae\", \"x\": [\"2018\", \"2007\", \"2008\", \"2009\", \"2014\", \"2016\"], \"xaxis\": \"x2\", \"y\": [2.3000000000000043, 8.46, 6.909999999999997, 5.450000000000003, 0.5799999999999983, 3.4200000000000017], \"yaxis\": \"y\"}, {\"hovertemplate\": \"<b>LOWESS trendline</b><br><br>class=3<br>skill_name=Knowledge of Basic Science Facts<br>skill_name=Knowledge of Basic Science Facts<br>year=%{x}<br>skill_delta=%{y} <b>(trend)</b><extra></extra>\", \"legendgroup\": \"skill_name=Knowledge of Basic Science Facts\", \"marker\": {\"color\": \"#EF553B\", \"symbol\": \"circle\"}, \"mode\": \"lines\", \"name\": \"skill_name=Knowledge of Basic Science Facts\", \"showlegend\": false, \"type\": \"scatter\", \"uid\": \"3b4222f2-bd34-459a-9b8e-211dd5d78cd4\", \"x\": [2007.0, 2008.0, 2009.0, 2014.0, 2016.0, 2018.0], \"xaxis\": \"x2\", \"y\": [8.448228692995299, 6.942939808392143, 5.438622101391019, 0.5799999999999844, 1.4400000000000013, 2.3000000000000393], \"yaxis\": \"y\"}, {\"hovertemplate\": \"class=3<br>skill_name=Original Thinking<br>skill_name=Original Thinking<br>year=%{x}<br>skill_delta=%{y}<br>studentCount=%{marker.size}<extra></extra>\", \"legendgroup\": \"skill_name=Original Thinking\", \"marker\": {\"color\": \"#00cc96\", \"size\": [113, 18, 73, 75, 106, 109], \"sizemode\": \"area\", \"sizeref\": 1.15, \"symbol\": \"circle\"}, \"mode\": \"markers\", \"name\": \"skill_name=Original Thinking\", \"showlegend\": true, \"type\": \"scatter\", \"uid\": \"63afe2a9-2024-416c-bdbe-b5fec74dac8d\", \"x\": [\"2018\", \"2007\", \"2008\", \"2009\", \"2014\", \"2016\"], \"xaxis\": \"x3\", \"y\": [1.9699999999999989, -0.39000000000000057, 5.140000000000001, 5.520000000000003, -4.200000000000003, 3.3800000000000026], \"yaxis\": \"y\"}, {\"hovertemplate\": \"<b>LOWESS trendline</b><br><br>class=3<br>skill_name=Original Thinking<br>skill_name=Original Thinking<br>year=%{x}<br>skill_delta=%{y} <b>(trend)</b><extra></extra>\", \"legendgroup\": \"skill_name=Original Thinking\", \"marker\": {\"color\": \"#00cc96\", \"symbol\": \"circle\"}, \"mode\": \"lines\", \"name\": \"skill_name=Original Thinking\", \"showlegend\": false, \"type\": \"scatter\", \"uid\": \"0efef386-9812-46c2-ad1a-9d66215078f6\", \"x\": [2007.0, 2008.0, 2009.0, 2014.0, 2016.0, 2018.0], \"xaxis\": \"x3\", \"y\": [0.3185419943071053, 3.291304173813228, 6.204795735289185, -3.939914420471275, -0.6726592675447092, 2.376274509445592], \"yaxis\": \"y\"}, {\"hovertemplate\": \"class=3<br>skill_name=Reasoning and Analysis Skills<br>skill_name=Reasoning and Analysis Skills<br>year=%{x}<br>skill_delta=%{y}<br>studentCount=%{marker.size}<extra></extra>\", \"legendgroup\": \"skill_name=Reasoning and Analysis Skills\", \"marker\": {\"color\": \"#ab63fa\", \"size\": [113, 18, 73, 75, 106, 109], \"sizemode\": \"area\", \"sizeref\": 1.15, \"symbol\": \"circle\"}, \"mode\": \"markers\", \"name\": \"skill_name=Reasoning and Analysis Skills\", \"showlegend\": true, \"type\": \"scatter\", \"uid\": \"07fc2d68-ece7-419d-8a90-b354102c331b\", \"x\": [\"2018\", \"2007\", \"2008\", \"2009\", \"2014\", \"2016\"], \"xaxis\": \"x4\", \"y\": [1.7800000000000011, 2.1199999999999974, 0.8800000000000026, 4.800000000000004, -3.729999999999997, 6.850000000000001], \"yaxis\": \"y\"}, {\"hovertemplate\": \"<b>LOWESS trendline</b><br><br>class=3<br>skill_name=Reasoning and Analysis Skills<br>skill_name=Reasoning and Analysis Skills<br>year=%{x}<br>skill_delta=%{y} <b>(trend)</b><extra></extra>\", \"legendgroup\": \"skill_name=Reasoning and Analysis Skills\", \"marker\": {\"color\": \"#ab63fa\", \"symbol\": \"circle\"}, \"mode\": \"lines\", \"name\": \"skill_name=Reasoning and Analysis Skills\", \"showlegend\": false, \"type\": \"scatter\", \"uid\": \"7d67da86-e64f-40e9-bdbc-55fb5e93c592\", \"x\": [2007.0, 2008.0, 2009.0, 2014.0, 2016.0, 2018.0], \"xaxis\": \"x4\", \"y\": [1.4133032048131349, 2.735796051713682, 4.117310580123481, -3.7299999999993863, -0.9749999999998599, 1.7799999999996359], \"yaxis\": \"y\"}, {\"hovertemplate\": \"class=4<br>skill_name=Conceptual Understanding and Comprehension<br>skill_name=Conceptual Understanding and Comprehension<br>year=%{x}<br>skill_delta=%{y}<br>studentCount=%{marker.size}<extra></extra>\", \"legendgroup\": \"skill_name=Conceptual Understanding and Comprehension\", \"marker\": {\"color\": \"#636efa\", \"size\": [113, 12, 73, 75, 104, 112], \"sizemode\": \"area\", \"sizeref\": 1.15, \"symbol\": \"circle\"}, \"mode\": \"markers\", \"name\": \"skill_name=Conceptual Understanding and Comprehension\", \"showlegend\": false, \"type\": \"scatter\", \"uid\": \"ef46ad9b-4d10-4294-9556-d2d9be6bb1df\", \"x\": [\"2018\", \"2007\", \"2008\", \"2009\", \"2014\", \"2016\"], \"xaxis\": \"x\", \"y\": [5.07, -3.229999999999997, 0.9099999999999966, 2.4399999999999977, -0.779999999999994, -0.19999999999999574], \"yaxis\": \"y2\"}, {\"hovertemplate\": \"<b>LOWESS trendline</b><br><br>class=4<br>skill_name=Conceptual Understanding and Comprehension<br>skill_name=Conceptual Understanding and Comprehension<br>year=%{x}<br>skill_delta=%{y} <b>(trend)</b><extra></extra>\", \"legendgroup\": \"skill_name=Conceptual Understanding and Comprehension\", \"marker\": {\"color\": \"#636efa\", \"symbol\": \"circle\"}, \"mode\": \"lines\", \"name\": \"skill_name=Conceptual Understanding and Comprehension\", \"showlegend\": false, \"type\": \"scatter\", \"uid\": \"bc42c47f-b47d-4bf4-a767-c1516403ad8b\", \"x\": [2007.0, 2008.0, 2009.0, 2014.0, 2016.0, 2018.0], \"xaxis\": \"x\", \"y\": [-2.869973557216703, -0.02594455134621254, 2.7879465049439736, -0.8997869640767251, 1.9475412333486903, 4.888558946298229], \"yaxis\": \"y2\"}, {\"hovertemplate\": \"class=4<br>skill_name=Knowledge of Basic Science Facts<br>skill_name=Knowledge of Basic Science Facts<br>year=%{x}<br>skill_delta=%{y}<br>studentCount=%{marker.size}<extra></extra>\", \"legendgroup\": \"skill_name=Knowledge of Basic Science Facts\", \"marker\": {\"color\": \"#EF553B\", \"size\": [113, 12, 73, 75, 104, 112], \"sizemode\": \"area\", \"sizeref\": 1.15, \"symbol\": \"circle\"}, \"mode\": \"markers\", \"name\": \"skill_name=Knowledge of Basic Science Facts\", \"showlegend\": false, \"type\": \"scatter\", \"uid\": \"b3201407-3f86-421e-87d6-a786a4b9f661\", \"x\": [\"2018\", \"2007\", \"2008\", \"2009\", \"2014\", \"2016\"], \"xaxis\": \"x2\", \"y\": [3.5899999999999963, -4.210000000000001, -3.6899999999999977, 0.37999999999999545, 3.539999999999992, -1.8599999999999994], \"yaxis\": \"y2\"}, {\"hovertemplate\": \"<b>LOWESS trendline</b><br><br>class=4<br>skill_name=Knowledge of Basic Science Facts<br>skill_name=Knowledge of Basic Science Facts<br>year=%{x}<br>skill_delta=%{y} <b>(trend)</b><extra></extra>\", \"legendgroup\": \"skill_name=Knowledge of Basic Science Facts\", \"marker\": {\"color\": \"#EF553B\", \"symbol\": \"circle\"}, \"mode\": \"lines\", \"name\": \"skill_name=Knowledge of Basic Science Facts\", \"showlegend\": false, \"type\": \"scatter\", \"uid\": \"1c943937-c619-45e3-9d06-293a5bfeb9a7\", \"x\": [2007.0, 2008.0, 2009.0, 2014.0, 2016.0, 2018.0], \"xaxis\": \"x2\", \"y\": [-4.696224689506667, -2.413270116491403, -0.08970655380996423, 3.539999999999942, 3.5649999999999973, 3.5899999999994896], \"yaxis\": \"y2\"}, {\"hovertemplate\": \"class=4<br>skill_name=Original Thinking<br>skill_name=Original Thinking<br>year=%{x}<br>skill_delta=%{y}<br>studentCount=%{marker.size}<extra></extra>\", \"legendgroup\": \"skill_name=Original Thinking\", \"marker\": {\"color\": \"#00cc96\", \"size\": [113, 12, 73, 75, 104, 112], \"sizemode\": \"area\", \"sizeref\": 1.15, \"symbol\": \"circle\"}, \"mode\": \"markers\", \"name\": \"skill_name=Original Thinking\", \"showlegend\": false, \"type\": \"scatter\", \"uid\": \"0442ab84-f92d-4a0c-8729-054ea43cafc3\", \"x\": [\"2018\", \"2007\", \"2008\", \"2009\", \"2014\", \"2016\"], \"xaxis\": \"x3\", \"y\": [2.760000000000005, 0.740000000000002, 1.3499999999999943, -0.21000000000000085, 1.6199999999999974, 10.119999999999997], \"yaxis\": \"y2\"}, {\"hovertemplate\": \"<b>LOWESS trendline</b><br><br>class=4<br>skill_name=Original Thinking<br>skill_name=Original Thinking<br>year=%{x}<br>skill_delta=%{y} <b>(trend)</b><extra></extra>\", \"legendgroup\": \"skill_name=Original Thinking\", \"marker\": {\"color\": \"#00cc96\", \"symbol\": \"circle\"}, \"mode\": \"lines\", \"name\": \"skill_name=Original Thinking\", \"showlegend\": false, \"type\": \"scatter\", \"uid\": \"554fd556-d0c6-4c9f-998d-b90f9205e2e2\", \"x\": [2007.0, 2008.0, 2009.0, 2014.0, 2016.0, 2018.0], \"xaxis\": \"x3\", \"y\": [1.0213821631652662, 0.5532809480094283, 0.06201604949410866, 1.62000000000001, 2.1900000000000013, 2.760000000000045], \"yaxis\": \"y2\"}, {\"hovertemplate\": \"class=4<br>skill_name=Reasoning and Analysis Skills<br>skill_name=Reasoning and Analysis Skills<br>year=%{x}<br>skill_delta=%{y}<br>studentCount=%{marker.size}<extra></extra>\", \"legendgroup\": \"skill_name=Reasoning and Analysis Skills\", \"marker\": {\"color\": \"#ab63fa\", \"size\": [113, 12, 73, 75, 104, 112], \"sizemode\": \"area\", \"sizeref\": 1.15, \"symbol\": \"circle\"}, \"mode\": \"markers\", \"name\": \"skill_name=Reasoning and Analysis Skills\", \"showlegend\": false, \"type\": \"scatter\", \"uid\": \"da1e0b6b-1b53-4dfe-9525-6cdd0ca410f1\", \"x\": [\"2018\", \"2007\", \"2008\", \"2009\", \"2014\", \"2016\"], \"xaxis\": \"x4\", \"y\": [2.3799999999999955, -5.030000000000001, 0.4799999999999969, 2.25, -0.6499999999999986, 3.6400000000000006], \"yaxis\": \"y2\"}, {\"hovertemplate\": \"<b>LOWESS trendline</b><br><br>class=4<br>skill_name=Reasoning and Analysis Skills<br>skill_name=Reasoning and Analysis Skills<br>year=%{x}<br>skill_delta=%{y} <b>(trend)</b><extra></extra>\", \"legendgroup\": \"skill_name=Reasoning and Analysis Skills\", \"marker\": {\"color\": \"#ab63fa\", \"symbol\": \"circle\"}, \"mode\": \"lines\", \"name\": \"skill_name=Reasoning and Analysis Skills\", \"showlegend\": false, \"type\": \"scatter\", \"uid\": \"8b2bcd16-41b2-4e1e-a3a3-a18c96b4182d\", \"x\": [2007.0, 2008.0, 2009.0, 2014.0, 2016.0, 2018.0], \"xaxis\": \"x4\", \"y\": [-4.526814094705081, -0.8742615257148809, 2.7364508441907565, -0.41469945428961463, 1.3226521137103275, 2.799255381226782], \"yaxis\": \"y2\"}, {\"hovertemplate\": \"class=5<br>skill_name=Conceptual Understanding and Comprehension<br>skill_name=Conceptual Understanding and Comprehension<br>year=%{x}<br>skill_delta=%{y}<br>studentCount=%{marker.size}<extra></extra>\", \"legendgroup\": \"skill_name=Conceptual Understanding and Comprehension\", \"marker\": {\"color\": \"#636efa\", \"size\": [113, 12, 74, 75, 107, 105], \"sizemode\": \"area\", \"sizeref\": 1.15, \"symbol\": \"circle\"}, \"mode\": \"markers\", \"name\": \"skill_name=Conceptual Understanding and Comprehension\", \"showlegend\": false, \"type\": \"scatter\", \"uid\": \"d5dd9248-45aa-411d-8cba-975c2c288bdb\", \"x\": [\"2018\", \"2007\", \"2008\", \"2009\", \"2014\", \"2016\"], \"xaxis\": \"x\", \"y\": [0.10000000000000142, 3.700000000000003, -1.4500000000000028, 0.1700000000000017, 3.0500000000000043, -0.5800000000000054], \"yaxis\": \"y3\"}, {\"hovertemplate\": \"<b>LOWESS trendline</b><br><br>class=5<br>skill_name=Conceptual Understanding and Comprehension<br>skill_name=Conceptual Understanding and Comprehension<br>year=%{x}<br>skill_delta=%{y} <b>(trend)</b><extra></extra>\", \"legendgroup\": \"skill_name=Conceptual Understanding and Comprehension\", \"marker\": {\"color\": \"#636efa\", \"symbol\": \"circle\"}, \"mode\": \"lines\", \"name\": \"skill_name=Conceptual Understanding and Comprehension\", \"showlegend\": false, \"type\": \"scatter\", \"uid\": \"1937e657-181b-4730-b5a7-1c3447e3f2c9\", \"x\": [2007.0, 2008.0, 2009.0, 2014.0, 2016.0, 2018.0], \"xaxis\": \"x\", \"y\": [2.894166970696425, 1.1095985952388656, -0.6100295078534277, 2.7720818494292336, 0.8915604198771685, -0.514773040294546], \"yaxis\": \"y3\"}, {\"hovertemplate\": \"class=5<br>skill_name=Knowledge of Basic Science Facts<br>skill_name=Knowledge of Basic Science Facts<br>year=%{x}<br>skill_delta=%{y}<br>studentCount=%{marker.size}<extra></extra>\", \"legendgroup\": \"skill_name=Knowledge of Basic Science Facts\", \"marker\": {\"color\": \"#EF553B\", \"size\": [113, 12, 74, 75, 107, 105], \"sizemode\": \"area\", \"sizeref\": 1.15, \"symbol\": \"circle\"}, \"mode\": \"markers\", \"name\": \"skill_name=Knowledge of Basic Science Facts\", \"showlegend\": false, \"type\": \"scatter\", \"uid\": \"21ce956f-4090-481e-8cb6-897cd305dcdc\", \"x\": [\"2018\", \"2007\", \"2008\", \"2009\", \"2014\", \"2016\"], \"xaxis\": \"x2\", \"y\": [6.200000000000003, 10.399999999999999, 5.25, 8.539999999999992, -0.23000000000000398, -3.960000000000001], \"yaxis\": \"y3\"}, {\"hovertemplate\": \"<b>LOWESS trendline</b><br><br>class=5<br>skill_name=Knowledge of Basic Science Facts<br>skill_name=Knowledge of Basic Science Facts<br>year=%{x}<br>skill_delta=%{y} <b>(trend)</b><extra></extra>\", \"legendgroup\": \"skill_name=Knowledge of Basic Science Facts\", \"marker\": {\"color\": \"#EF553B\", \"symbol\": \"circle\"}, \"mode\": \"lines\", \"name\": \"skill_name=Knowledge of Basic Science Facts\", \"showlegend\": false, \"type\": \"scatter\", \"uid\": \"dfd11594-4e19-43ac-96f9-04a2eaaf30fb\", \"x\": [2007.0, 2008.0, 2009.0, 2014.0, 2016.0, 2018.0], \"xaxis\": \"x2\", \"y\": [9.246423074939326, 8.287541512000121, 7.424987629450934, -0.7133745500601923, 2.115157391481885, 5.401830765919488], \"yaxis\": \"y3\"}, {\"hovertemplate\": \"class=5<br>skill_name=Original Thinking<br>skill_name=Original Thinking<br>year=%{x}<br>skill_delta=%{y}<br>studentCount=%{marker.size}<extra></extra>\", \"legendgroup\": \"skill_name=Original Thinking\", \"marker\": {\"color\": \"#00cc96\", \"size\": [113, 12, 74, 75, 107, 105], \"sizemode\": \"area\", \"sizeref\": 1.15, \"symbol\": \"circle\"}, \"mode\": \"markers\", \"name\": \"skill_name=Original Thinking\", \"showlegend\": false, \"type\": \"scatter\", \"uid\": \"ee5bc10f-2bf4-4e8e-87fe-0fb22189839e\", \"x\": [\"2018\", \"2007\", \"2008\", \"2009\", \"2014\", \"2016\"], \"xaxis\": \"x3\", \"y\": [0.3200000000000003, 5.049999999999997, -2.9300000000000033, 5.57, 4.469999999999999, -1.720000000000006], \"yaxis\": \"y3\"}, {\"hovertemplate\": \"<b>LOWESS trendline</b><br><br>class=5<br>skill_name=Original Thinking<br>skill_name=Original Thinking<br>year=%{x}<br>skill_delta=%{y} <b>(trend)</b><extra></extra>\", \"legendgroup\": \"skill_name=Original Thinking\", \"marker\": {\"color\": \"#00cc96\", \"symbol\": \"circle\"}, \"mode\": \"lines\", \"name\": \"skill_name=Original Thinking\", \"showlegend\": false, \"type\": \"scatter\", \"uid\": \"6cbd3164-6b45-4982-964d-9960c5fc454c\", \"x\": [2007.0, 2008.0, 2009.0, 2014.0, 2016.0, 2018.0], \"xaxis\": \"x3\", \"y\": [3.090654251289146, 3.303080752361046, 3.6733625289459377, 3.9242541782794738, 1.0353332136115383, -0.897283716603767], \"yaxis\": \"y3\"}, {\"hovertemplate\": \"class=5<br>skill_name=Reasoning and Analysis Skills<br>skill_name=Reasoning and Analysis Skills<br>year=%{x}<br>skill_delta=%{y}<br>studentCount=%{marker.size}<extra></extra>\", \"legendgroup\": \"skill_name=Reasoning and Analysis Skills\", \"marker\": {\"color\": \"#ab63fa\", \"size\": [113, 12, 74, 75, 107, 105], \"sizemode\": \"area\", \"sizeref\": 1.15, \"symbol\": \"circle\"}, \"mode\": \"markers\", \"name\": \"skill_name=Reasoning and Analysis Skills\", \"showlegend\": false, \"type\": \"scatter\", \"uid\": \"e8581a61-b6b1-4d46-a6ff-274468285f52\", \"x\": [\"2018\", \"2007\", \"2008\", \"2009\", \"2014\", \"2016\"], \"xaxis\": \"x4\", \"y\": [-1.0, 6.880000000000003, -5.030000000000001, 3.8800000000000026, 5.130000000000003, 0.7999999999999972], \"yaxis\": \"y3\"}, {\"hovertemplate\": \"<b>LOWESS trendline</b><br><br>class=5<br>skill_name=Reasoning and Analysis Skills<br>skill_name=Reasoning and Analysis Skills<br>year=%{x}<br>skill_delta=%{y} <b>(trend)</b><extra></extra>\", \"legendgroup\": \"skill_name=Reasoning and Analysis Skills\", \"marker\": {\"color\": \"#ab63fa\", \"symbol\": \"circle\"}, \"mode\": \"lines\", \"name\": \"skill_name=Reasoning and Analysis Skills\", \"showlegend\": false, \"type\": \"scatter\", \"uid\": \"a729772d-022f-459d-a83a-abb34aab0140\", \"x\": [2007.0, 2008.0, 2009.0, 2014.0, 2016.0, 2018.0], \"xaxis\": \"x4\", \"y\": [6.88000000000009, 5.379999999999719, 3.880000000000082, 4.994529765875218, 1.7505975854559157, -1.293064154838941], \"yaxis\": \"y3\"}, {\"hovertemplate\": \"class=6<br>skill_name=Conceptual Understanding and Comprehension<br>skill_name=Conceptual Understanding and Comprehension<br>year=%{x}<br>skill_delta=%{y}<br>studentCount=%{marker.size}<extra></extra>\", \"legendgroup\": \"skill_name=Conceptual Understanding and Comprehension\", \"marker\": {\"color\": \"#636efa\", \"size\": [111, 17, 73, 79, 82, 100], \"sizemode\": \"area\", \"sizeref\": 1.15, \"symbol\": \"circle\"}, \"mode\": \"markers\", \"name\": \"skill_name=Conceptual Understanding and Comprehension\", \"showlegend\": false, \"type\": \"scatter\", \"uid\": \"0d876dfc-4419-4d36-b7e3-075e1741f524\", \"x\": [\"2018\", \"2007\", \"2008\", \"2009\", \"2014\", \"2016\"], \"xaxis\": \"x\", \"y\": [8.11, 7.210000000000001, 1.8699999999999974, -1.8800000000000026, 10.700000000000003, 4.479999999999997], \"yaxis\": \"y4\"}, {\"hovertemplate\": \"<b>LOWESS trendline</b><br><br>class=6<br>skill_name=Conceptual Understanding and Comprehension<br>skill_name=Conceptual Understanding and Comprehension<br>year=%{x}<br>skill_delta=%{y} <b>(trend)</b><extra></extra>\", \"legendgroup\": \"skill_name=Conceptual Understanding and Comprehension\", \"marker\": {\"color\": \"#636efa\", \"symbol\": \"circle\"}, \"mode\": \"lines\", \"name\": \"skill_name=Conceptual Understanding and Comprehension\", \"showlegend\": false, \"type\": \"scatter\", \"uid\": \"ed367668-81fc-48b9-b9ad-420cd1e23400\", \"x\": [2007.0, 2008.0, 2009.0, 2014.0, 2016.0, 2018.0], \"xaxis\": \"x\", \"y\": [7.004258051426316, 2.4542149705307197, -2.0789003089053093, 10.700000000000228, 9.405000000000001, 8.110000000000106], \"yaxis\": \"y4\"}, {\"hovertemplate\": \"class=6<br>skill_name=Knowledge of Basic Science Facts<br>skill_name=Knowledge of Basic Science Facts<br>year=%{x}<br>skill_delta=%{y}<br>studentCount=%{marker.size}<extra></extra>\", \"legendgroup\": \"skill_name=Knowledge of Basic Science Facts\", \"marker\": {\"color\": \"#EF553B\", \"size\": [111, 17, 73, 79, 82, 100], \"sizemode\": \"area\", \"sizeref\": 1.15, \"symbol\": \"circle\"}, \"mode\": \"markers\", \"name\": \"skill_name=Knowledge of Basic Science Facts\", \"showlegend\": false, \"type\": \"scatter\", \"uid\": \"7cc1ce08-4d16-402d-9356-360437af9718\", \"x\": [\"2018\", \"2007\", \"2008\", \"2009\", \"2014\", \"2016\"], \"xaxis\": \"x2\", \"y\": [3.9299999999999997, 9.560000000000002, 9.170000000000002, 3.960000000000001, 4.579999999999998, 7.5], \"yaxis\": \"y4\"}, {\"hovertemplate\": \"<b>LOWESS trendline</b><br><br>class=6<br>skill_name=Knowledge of Basic Science Facts<br>skill_name=Knowledge of Basic Science Facts<br>year=%{x}<br>skill_delta=%{y} <b>(trend)</b><extra></extra>\", \"legendgroup\": \"skill_name=Knowledge of Basic Science Facts\", \"marker\": {\"color\": \"#EF553B\", \"symbol\": \"circle\"}, \"mode\": \"lines\", \"name\": \"skill_name=Knowledge of Basic Science Facts\", \"showlegend\": false, \"type\": \"scatter\", \"uid\": \"ce02c205-35b2-4e71-a27a-84c0b2cdf1f5\", \"x\": [2007.0, 2008.0, 2009.0, 2014.0, 2016.0, 2018.0], \"xaxis\": \"x2\", \"y\": [10.195487306106944, 7.411263662853851, 4.574482386403891, 4.887213014133974, 4.885296970235438, 4.506559666044444], \"yaxis\": \"y4\"}, {\"hovertemplate\": \"class=6<br>skill_name=Original Thinking<br>skill_name=Original Thinking<br>year=%{x}<br>skill_delta=%{y}<br>studentCount=%{marker.size}<extra></extra>\", \"legendgroup\": \"skill_name=Original Thinking\", \"marker\": {\"color\": \"#00cc96\", \"size\": [111, 17, 73, 79, 82, 100], \"sizemode\": \"area\", \"sizeref\": 1.15, \"symbol\": \"circle\"}, \"mode\": \"markers\", \"name\": \"skill_name=Original Thinking\", \"showlegend\": false, \"type\": \"scatter\", \"uid\": \"79a4a260-47de-44cb-a253-f3b9d790e415\", \"x\": [\"2018\", \"2007\", \"2008\", \"2009\", \"2014\", \"2016\"], \"xaxis\": \"x3\", \"y\": [5.050000000000004, 8.980000000000004, 5.349999999999994, -0.6300000000000026, 5.810000000000002, 1.6999999999999957], \"yaxis\": \"y4\"}, {\"hovertemplate\": \"<b>LOWESS trendline</b><br><br>class=6<br>skill_name=Original Thinking<br>skill_name=Original Thinking<br>year=%{x}<br>skill_delta=%{y} <b>(trend)</b><extra></extra>\", \"legendgroup\": \"skill_name=Original Thinking\", \"marker\": {\"color\": \"#00cc96\", \"symbol\": \"circle\"}, \"mode\": \"lines\", \"name\": \"skill_name=Original Thinking\", \"showlegend\": false, \"type\": \"scatter\", \"uid\": \"e692cabf-aca6-4c0c-aa06-988cb240286e\", \"x\": [2007.0, 2008.0, 2009.0, 2014.0, 2016.0, 2018.0], \"xaxis\": \"x3\", \"y\": [9.30191939898019, 4.50489450132696, -0.3190179323951261, 5.81000000000009, 5.4300000000000175, 5.050000000000582], \"yaxis\": \"y4\"}, {\"hovertemplate\": \"class=6<br>skill_name=Reasoning and Analysis Skills<br>skill_name=Reasoning and Analysis Skills<br>year=%{x}<br>skill_delta=%{y}<br>studentCount=%{marker.size}<extra></extra>\", \"legendgroup\": \"skill_name=Reasoning and Analysis Skills\", \"marker\": {\"color\": \"#ab63fa\", \"size\": [111, 17, 73, 79, 82, 100], \"sizemode\": \"area\", \"sizeref\": 1.15, \"symbol\": \"circle\"}, \"mode\": \"markers\", \"name\": \"skill_name=Reasoning and Analysis Skills\", \"showlegend\": false, \"type\": \"scatter\", \"uid\": \"a6adaf37-375d-4ee0-b103-46b34f87aca8\", \"x\": [\"2018\", \"2007\", \"2008\", \"2009\", \"2014\", \"2016\"], \"xaxis\": \"x4\", \"y\": [4.359999999999999, 14.619999999999997, 6.079999999999998, 3.030000000000001, 2.8900000000000006, 2.5], \"yaxis\": \"y4\"}, {\"hovertemplate\": \"<b>LOWESS trendline</b><br><br>class=6<br>skill_name=Reasoning and Analysis Skills<br>skill_name=Reasoning and Analysis Skills<br>year=%{x}<br>skill_delta=%{y} <b>(trend)</b><extra></extra>\", \"legendgroup\": \"skill_name=Reasoning and Analysis Skills\", \"marker\": {\"color\": \"#ab63fa\", \"symbol\": \"circle\"}, \"mode\": \"lines\", \"name\": \"skill_name=Reasoning and Analysis Skills\", \"showlegend\": false, \"type\": \"scatter\", \"uid\": \"61f24108-3249-487f-b401-6a867df8b9a3\", \"x\": [2007.0, 2008.0, 2009.0, 2014.0, 2016.0, 2018.0], \"xaxis\": \"x4\", \"y\": [13.998209062344761, 8.188196063160582, 2.427705667154224, 2.7390645100724442, 3.2471680856045526, 4.022496417749476], \"yaxis\": \"y4\"}, {\"hovertemplate\": \"class=7<br>skill_name=Conceptual Understanding and Comprehension<br>skill_name=Conceptual Understanding and Comprehension<br>year=%{x}<br>skill_delta=%{y}<br>studentCount=%{marker.size}<extra></extra>\", \"legendgroup\": \"skill_name=Conceptual Understanding and Comprehension\", \"marker\": {\"color\": \"#636efa\", \"size\": [115, 4, 46, 74, 78, 100], \"sizemode\": \"area\", \"sizeref\": 1.15, \"symbol\": \"circle\"}, \"mode\": \"markers\", \"name\": \"skill_name=Conceptual Understanding and Comprehension\", \"showlegend\": false, \"type\": \"scatter\", \"uid\": \"4e1e29df-4612-458f-b86b-6b172793fc08\", \"x\": [\"2018\", \"2007\", \"2008\", \"2009\", \"2014\", \"2016\"], \"xaxis\": \"x\", \"y\": [9.930000000000007, 11.239999999999995, 6.439999999999998, 3.9200000000000017, 3.9299999999999997, 3.8100000000000023], \"yaxis\": \"y5\"}, {\"hovertemplate\": \"<b>LOWESS trendline</b><br><br>class=7<br>skill_name=Conceptual Understanding and Comprehension<br>skill_name=Conceptual Understanding and Comprehension<br>year=%{x}<br>skill_delta=%{y} <b>(trend)</b><extra></extra>\", \"legendgroup\": \"skill_name=Conceptual Understanding and Comprehension\", \"marker\": {\"color\": \"#636efa\", \"symbol\": \"circle\"}, \"mode\": \"lines\", \"name\": \"skill_name=Conceptual Understanding and Comprehension\", \"showlegend\": false, \"type\": \"scatter\", \"uid\": \"525c4408-0888-425e-87bb-00957fe584b9\", \"x\": [2007.0, 2008.0, 2009.0, 2014.0, 2016.0, 2018.0], \"xaxis\": \"x\", \"y\": [10.92821596258279, 7.260493778548538, 3.6188004284383877, 3.929999999999905, 6.930000000000337, 9.929999999999577], \"yaxis\": \"y5\"}, {\"hovertemplate\": \"class=7<br>skill_name=Knowledge of Basic Science Facts<br>skill_name=Knowledge of Basic Science Facts<br>year=%{x}<br>skill_delta=%{y}<br>studentCount=%{marker.size}<extra></extra>\", \"legendgroup\": \"skill_name=Knowledge of Basic Science Facts\", \"marker\": {\"color\": \"#EF553B\", \"size\": [115, 4, 46, 74, 78, 100], \"sizemode\": \"area\", \"sizeref\": 1.15, \"symbol\": \"circle\"}, \"mode\": \"markers\", \"name\": \"skill_name=Knowledge of Basic Science Facts\", \"showlegend\": false, \"type\": \"scatter\", \"uid\": \"2955ca3a-ba56-43e1-8718-0cf880180711\", \"x\": [\"2018\", \"2007\", \"2008\", \"2009\", \"2014\", \"2016\"], \"xaxis\": \"x2\", \"y\": [7.57, -0.990000000000002, 12.560000000000002, 0.3200000000000003, 6.169999999999995, 2.039999999999999], \"yaxis\": \"y5\"}, {\"hovertemplate\": \"<b>LOWESS trendline</b><br><br>class=7<br>skill_name=Knowledge of Basic Science Facts<br>skill_name=Knowledge of Basic Science Facts<br>year=%{x}<br>skill_delta=%{y} <b>(trend)</b><extra></extra>\", \"legendgroup\": \"skill_name=Knowledge of Basic Science Facts\", \"marker\": {\"color\": \"#EF553B\", \"symbol\": \"circle\"}, \"mode\": \"lines\", \"name\": \"skill_name=Knowledge of Basic Science Facts\", \"showlegend\": false, \"type\": \"scatter\", \"uid\": \"0ed2b841-bb4a-4207-aea8-3496f17e7bcc\", \"x\": [2007.0, 2008.0, 2009.0, 2014.0, 2016.0, 2018.0], \"xaxis\": \"x2\", \"y\": [1.7501184622555759, 2.470776435521792, 2.976342593493278, 5.520234521099858, 5.241762336996483, 6.116361193314592], \"yaxis\": \"y5\"}, {\"hovertemplate\": \"class=7<br>skill_name=Original Thinking<br>skill_name=Original Thinking<br>year=%{x}<br>skill_delta=%{y}<br>studentCount=%{marker.size}<extra></extra>\", \"legendgroup\": \"skill_name=Original Thinking\", \"marker\": {\"color\": \"#00cc96\", \"size\": [115, 4, 46, 74, 78, 100], \"sizemode\": \"area\", \"sizeref\": 1.15, \"symbol\": \"circle\"}, \"mode\": \"markers\", \"name\": \"skill_name=Original Thinking\", \"showlegend\": false, \"type\": \"scatter\", \"uid\": \"b857e154-c73d-4a58-8cf8-ede2912df4e8\", \"x\": [\"2018\", \"2007\", \"2008\", \"2009\", \"2014\", \"2016\"], \"xaxis\": \"x3\", \"y\": [6.380000000000003, 3.91, 2.1899999999999977, 3.210000000000001, 8.0, 1.4299999999999997], \"yaxis\": \"y5\"}, {\"hovertemplate\": \"<b>LOWESS trendline</b><br><br>class=7<br>skill_name=Original Thinking<br>skill_name=Original Thinking<br>year=%{x}<br>skill_delta=%{y} <b>(trend)</b><extra></extra>\", \"legendgroup\": \"skill_name=Original Thinking\", \"marker\": {\"color\": \"#00cc96\", \"symbol\": \"circle\"}, \"mode\": \"lines\", \"name\": \"skill_name=Original Thinking\", \"showlegend\": false, \"type\": \"scatter\", \"uid\": \"73ba1337-80f6-45a2-b90d-1e56129ecbda\", \"x\": [2007.0, 2008.0, 2009.0, 2014.0, 2016.0, 2018.0], \"xaxis\": \"x3\", \"y\": [3.5375352903479107, 3.1783225122010506, 2.850154601918359, 8.000000000000165, 7.190000000000001, 6.380000000000088], \"yaxis\": \"y5\"}, {\"hovertemplate\": \"class=7<br>skill_name=Reasoning and Analysis Skills<br>skill_name=Reasoning and Analysis Skills<br>year=%{x}<br>skill_delta=%{y}<br>studentCount=%{marker.size}<extra></extra>\", \"legendgroup\": \"skill_name=Reasoning and Analysis Skills\", \"marker\": {\"color\": \"#ab63fa\", \"size\": [115, 4, 46, 74, 78, 100], \"sizemode\": \"area\", \"sizeref\": 1.15, \"symbol\": \"circle\"}, \"mode\": \"markers\", \"name\": \"skill_name=Reasoning and Analysis Skills\", \"showlegend\": false, \"type\": \"scatter\", \"uid\": \"23ba3a99-77b7-4673-9093-2f433c937924\", \"x\": [\"2018\", \"2007\", \"2008\", \"2009\", \"2014\", \"2016\"], \"xaxis\": \"x4\", \"y\": [7.259999999999998, 10.43, 10.199999999999996, 6.009999999999998, 4.18, 7.849999999999994], \"yaxis\": \"y5\"}, {\"hovertemplate\": \"<b>LOWESS trendline</b><br><br>class=7<br>skill_name=Reasoning and Analysis Skills<br>skill_name=Reasoning and Analysis Skills<br>year=%{x}<br>skill_delta=%{y} <b>(trend)</b><extra></extra>\", \"legendgroup\": \"skill_name=Reasoning and Analysis Skills\", \"marker\": {\"color\": \"#ab63fa\", \"symbol\": \"circle\"}, \"mode\": \"lines\", \"name\": \"skill_name=Reasoning and Analysis Skills\", \"showlegend\": false, \"type\": \"scatter\", \"uid\": \"fb01e294-481e-4ef3-a898-0113a45ceb97\", \"x\": [2007.0, 2008.0, 2009.0, 2014.0, 2016.0, 2018.0], \"xaxis\": \"x4\", \"y\": [10.915056474958389, 8.716903404429335, 6.479383784960544, 4.411042893294448, 6.2322439130578635, 7.727085866053854], \"yaxis\": \"y5\"}, {\"hovertemplate\": \"class=8<br>skill_name=Conceptual Understanding and Comprehension<br>skill_name=Conceptual Understanding and Comprehension<br>year=%{x}<br>skill_delta=%{y}<br>studentCount=%{marker.size}<extra></extra>\", \"legendgroup\": \"skill_name=Conceptual Understanding and Comprehension\", \"marker\": {\"color\": \"#636efa\", \"size\": [104, 14, 54, 48, 77, 78], \"sizemode\": \"area\", \"sizeref\": 1.15, \"symbol\": \"circle\"}, \"mode\": \"markers\", \"name\": \"skill_name=Conceptual Understanding and Comprehension\", \"showlegend\": false, \"type\": \"scatter\", \"uid\": \"e3b92f0a-3c72-48dc-86e7-1a0c8aeba956\", \"x\": [\"2018\", \"2007\", \"2008\", \"2009\", \"2014\", \"2016\"], \"xaxis\": \"x\", \"y\": [5.629999999999999, 15.369999999999997, 5.020000000000003, 15.049999999999997, 4.93, -1.9400000000000048], \"yaxis\": \"y6\"}, {\"hovertemplate\": \"<b>LOWESS trendline</b><br><br>class=8<br>skill_name=Conceptual Understanding and Comprehension<br>skill_name=Conceptual Understanding and Comprehension<br>year=%{x}<br>skill_delta=%{y} <b>(trend)</b><extra></extra>\", \"legendgroup\": \"skill_name=Conceptual Understanding and Comprehension\", \"marker\": {\"color\": \"#636efa\", \"symbol\": \"circle\"}, \"mode\": \"lines\", \"name\": \"skill_name=Conceptual Understanding and Comprehension\", \"showlegend\": false, \"type\": \"scatter\", \"uid\": \"714b1b15-5082-44be-9b2f-7baf0500f975\", \"x\": [2007.0, 2008.0, 2009.0, 2014.0, 2016.0, 2018.0], \"xaxis\": \"x\", \"y\": [12.944168812819392, 12.7252613546479, 12.701846178726434, 4.016244856752323, 3.0548044062345263, 3.6230419023259737], \"yaxis\": \"y6\"}, {\"hovertemplate\": \"class=8<br>skill_name=Knowledge of Basic Science Facts<br>skill_name=Knowledge of Basic Science Facts<br>year=%{x}<br>skill_delta=%{y}<br>studentCount=%{marker.size}<extra></extra>\", \"legendgroup\": \"skill_name=Knowledge of Basic Science Facts\", \"marker\": {\"color\": \"#EF553B\", \"size\": [104, 14, 54, 48, 77, 78], \"sizemode\": \"area\", \"sizeref\": 1.15, \"symbol\": \"circle\"}, \"mode\": \"markers\", \"name\": \"skill_name=Knowledge of Basic Science Facts\", \"showlegend\": false, \"type\": \"scatter\", \"uid\": \"59a72f36-d7a2-4597-97b7-c0674b914af7\", \"x\": [\"2018\", \"2007\", \"2008\", \"2009\", \"2014\", \"2016\"], \"xaxis\": \"x2\", \"y\": [-0.7100000000000009, 27.029999999999998, 21.939999999999998, 13.36, 6.540000000000006, 8.36], \"yaxis\": \"y6\"}, {\"hovertemplate\": \"<b>LOWESS trendline</b><br><br>class=8<br>skill_name=Knowledge of Basic Science Facts<br>skill_name=Knowledge of Basic Science Facts<br>year=%{x}<br>skill_delta=%{y} <b>(trend)</b><extra></extra>\", \"legendgroup\": \"skill_name=Knowledge of Basic Science Facts\", \"marker\": {\"color\": \"#EF553B\", \"symbol\": \"circle\"}, \"mode\": \"lines\", \"name\": \"skill_name=Knowledge of Basic Science Facts\", \"showlegend\": false, \"type\": \"scatter\", \"uid\": \"8bcc21aa-82b8-43a0-9164-a7fc7cbabd41\", \"x\": [2007.0, 2008.0, 2009.0, 2014.0, 2016.0, 2018.0], \"xaxis\": \"x2\", \"y\": [27.50806175166874, 20.684905069907003, 13.821819940469597, 6.540000000000588, 2.9149999999997647, -0.7099999999999914], \"yaxis\": \"y6\"}, {\"hovertemplate\": \"class=8<br>skill_name=Original Thinking<br>skill_name=Original Thinking<br>year=%{x}<br>skill_delta=%{y}<br>studentCount=%{marker.size}<extra></extra>\", \"legendgroup\": \"skill_name=Original Thinking\", \"marker\": {\"color\": \"#00cc96\", \"size\": [104, 14, 54, 48, 77, 78], \"sizemode\": \"area\", \"sizeref\": 1.15, \"symbol\": \"circle\"}, \"mode\": \"markers\", \"name\": \"skill_name=Original Thinking\", \"showlegend\": false, \"type\": \"scatter\", \"uid\": \"697fb85b-d9f4-4fda-885d-dee7c63ec969\", \"x\": [\"2018\", \"2007\", \"2008\", \"2009\", \"2014\", \"2016\"], \"xaxis\": \"x3\", \"y\": [3.229999999999997, 5.770000000000003, 5.630000000000003, 12.759999999999998, 7.219999999999999, 0.3299999999999983], \"yaxis\": \"y6\"}, {\"hovertemplate\": \"<b>LOWESS trendline</b><br><br>class=8<br>skill_name=Original Thinking<br>skill_name=Original Thinking<br>year=%{x}<br>skill_delta=%{y} <b>(trend)</b><extra></extra>\", \"legendgroup\": \"skill_name=Original Thinking\", \"marker\": {\"color\": \"#00cc96\", \"symbol\": \"circle\"}, \"mode\": \"lines\", \"name\": \"skill_name=Original Thinking\", \"showlegend\": false, \"type\": \"scatter\", \"uid\": \"b65b9000-f174-4642-b01b-33b27bf2b8a4\", \"x\": [2007.0, 2008.0, 2009.0, 2014.0, 2016.0, 2018.0], \"xaxis\": \"x3\", \"y\": [4.811468638500844, 8.28267236029505, 11.833151479892624, 6.756625784321336, 4.274365422610385, 2.3604122741207254], \"yaxis\": \"y6\"}, {\"hovertemplate\": \"class=8<br>skill_name=Reasoning and Analysis Skills<br>skill_name=Reasoning and Analysis Skills<br>year=%{x}<br>skill_delta=%{y}<br>studentCount=%{marker.size}<extra></extra>\", \"legendgroup\": \"skill_name=Reasoning and Analysis Skills\", \"marker\": {\"color\": \"#ab63fa\", \"size\": [104, 14, 54, 48, 77, 78], \"sizemode\": \"area\", \"sizeref\": 1.15, \"symbol\": \"circle\"}, \"mode\": \"markers\", \"name\": \"skill_name=Reasoning and Analysis Skills\", \"showlegend\": false, \"type\": \"scatter\", \"uid\": \"08072a46-5890-4b11-a8b1-812c9adf12ce\", \"x\": [\"2018\", \"2007\", \"2008\", \"2009\", \"2014\", \"2016\"], \"xaxis\": \"x4\", \"y\": [4.030000000000001, 14.870000000000005, 11.61, 15.130000000000003, 7.210000000000001, 0.3400000000000034], \"yaxis\": \"y6\"}, {\"hovertemplate\": \"<b>LOWESS trendline</b><br><br>class=8<br>skill_name=Reasoning and Analysis Skills<br>skill_name=Reasoning and Analysis Skills<br>year=%{x}<br>skill_delta=%{y} <b>(trend)</b><extra></extra>\", \"legendgroup\": \"skill_name=Reasoning and Analysis Skills\", \"marker\": {\"color\": \"#ab63fa\", \"symbol\": \"circle\"}, \"mode\": \"lines\", \"name\": \"skill_name=Reasoning and Analysis Skills\", \"showlegend\": false, \"type\": \"scatter\", \"uid\": \"f7617b5c-07d6-4b13-bc24-bf82319f5153\", \"x\": [2007.0, 2008.0, 2009.0, 2014.0, 2016.0, 2018.0], \"xaxis\": \"x4\", \"y\": [13.950419860472365, 14.057436294199377, 14.241081874804822, 6.795922779875684, 4.8409651761479395, 3.315783395437273], \"yaxis\": \"y6\"}, {\"hovertemplate\": \"class=9<br>skill_name=Conceptual Understanding and Comprehension<br>skill_name=Conceptual Understanding and Comprehension<br>year=%{x}<br>skill_delta=%{y}<br>studentCount=%{marker.size}<extra></extra>\", \"legendgroup\": \"skill_name=Conceptual Understanding and Comprehension\", \"marker\": {\"color\": \"#636efa\", \"size\": [92, 10, 42, 51, 73, 74], \"sizemode\": \"area\", \"sizeref\": 1.15, \"symbol\": \"circle\"}, \"mode\": \"markers\", \"name\": \"skill_name=Conceptual Understanding and Comprehension\", \"showlegend\": false, \"type\": \"scatter\", \"uid\": \"9201a848-42dd-4fdf-ab58-042b6e8dbab6\", \"x\": [\"2018\", \"2007\", \"2008\", \"2009\", \"2014\", \"2016\"], \"xaxis\": \"x\", \"y\": [5.789999999999999, -1.6400000000000006, 6.609999999999999, 4.049999999999997, 5.5, 4.489999999999995], \"yaxis\": \"y7\"}, {\"hovertemplate\": \"<b>LOWESS trendline</b><br><br>class=9<br>skill_name=Conceptual Understanding and Comprehension<br>skill_name=Conceptual Understanding and Comprehension<br>year=%{x}<br>skill_delta=%{y} <b>(trend)</b><extra></extra>\", \"legendgroup\": \"skill_name=Conceptual Understanding and Comprehension\", \"marker\": {\"color\": \"#636efa\", \"symbol\": \"circle\"}, \"mode\": \"lines\", \"name\": \"skill_name=Conceptual Understanding and Comprehension\", \"showlegend\": false, \"type\": \"scatter\", \"uid\": \"ebf3a0e0-1079-4fd0-b672-e5198d069b94\", \"x\": [2007.0, 2008.0, 2009.0, 2014.0, 2016.0, 2018.0], \"xaxis\": \"x\", \"y\": [-1.6400000000003576, 1.204999999999952, 4.049999999999736, 5.344348419077457, 5.254561743904973, 5.441516108972336], \"yaxis\": \"y7\"}, {\"hovertemplate\": \"class=9<br>skill_name=Knowledge of Basic Science Facts<br>skill_name=Knowledge of Basic Science Facts<br>year=%{x}<br>skill_delta=%{y}<br>studentCount=%{marker.size}<extra></extra>\", \"legendgroup\": \"skill_name=Knowledge of Basic Science Facts\", \"marker\": {\"color\": \"#EF553B\", \"size\": [92, 10, 42, 51, 73, 74], \"sizemode\": \"area\", \"sizeref\": 1.15, \"symbol\": \"circle\"}, \"mode\": \"markers\", \"name\": \"skill_name=Knowledge of Basic Science Facts\", \"showlegend\": false, \"type\": \"scatter\", \"uid\": \"ae213b86-6166-408d-b886-92d6155b968f\", \"x\": [\"2018\", \"2007\", \"2008\", \"2009\", \"2014\", \"2016\"], \"xaxis\": \"x2\", \"y\": [1.139999999999997, 7.259999999999998, 12.529999999999994, 16.17, 6.130000000000003, 0.5199999999999996], \"yaxis\": \"y7\"}, {\"hovertemplate\": \"<b>LOWESS trendline</b><br><br>class=9<br>skill_name=Knowledge of Basic Science Facts<br>skill_name=Knowledge of Basic Science Facts<br>year=%{x}<br>skill_delta=%{y} <b>(trend)</b><extra></extra>\", \"legendgroup\": \"skill_name=Knowledge of Basic Science Facts\", \"marker\": {\"color\": \"#EF553B\", \"symbol\": \"circle\"}, \"mode\": \"lines\", \"name\": \"skill_name=Knowledge of Basic Science Facts\", \"showlegend\": false, \"type\": \"scatter\", \"uid\": \"5d28a56e-365a-4aae-b79b-8cd4654ea723\", \"x\": [2007.0, 2008.0, 2009.0, 2014.0, 2016.0, 2018.0], \"xaxis\": \"x2\", \"y\": [7.482655420363548, 11.9431679499272, 16.385097973830256, 6.130000000000181, 3.635, 1.1400000000000037], \"yaxis\": \"y7\"}, {\"hovertemplate\": \"class=9<br>skill_name=Original Thinking<br>skill_name=Original Thinking<br>year=%{x}<br>skill_delta=%{y}<br>studentCount=%{marker.size}<extra></extra>\", \"legendgroup\": \"skill_name=Original Thinking\", \"marker\": {\"color\": \"#00cc96\", \"size\": [92, 10, 42, 51, 73, 74], \"sizemode\": \"area\", \"sizeref\": 1.15, \"symbol\": \"circle\"}, \"mode\": \"markers\", \"name\": \"skill_name=Original Thinking\", \"showlegend\": false, \"type\": \"scatter\", \"uid\": \"9a6cf314-1315-492e-ab7e-047fe3db09b4\", \"x\": [\"2018\", \"2007\", \"2008\", \"2009\", \"2014\", \"2016\"], \"xaxis\": \"x3\", \"y\": [3.6700000000000017, 9.199999999999996, 11.600000000000001, 3.1300000000000026, 1.6799999999999997, 5.289999999999999], \"yaxis\": \"y7\"}, {\"hovertemplate\": \"<b>LOWESS trendline</b><br><br>class=9<br>skill_name=Original Thinking<br>skill_name=Original Thinking<br>year=%{x}<br>skill_delta=%{y} <b>(trend)</b><extra></extra>\", \"legendgroup\": \"skill_name=Original Thinking\", \"marker\": {\"color\": \"#00cc96\", \"symbol\": \"circle\"}, \"mode\": \"lines\", \"name\": \"skill_name=Original Thinking\", \"showlegend\": false, \"type\": \"scatter\", \"uid\": \"52afc62a-eab7-4cf2-b08b-a09c63995d00\", \"x\": [2007.0, 2008.0, 2009.0, 2014.0, 2016.0, 2018.0], \"xaxis\": \"x3\", \"y\": [10.48460979977579, 7.48077974874965, 4.373604136752029, 2.0277397691091785, 3.5423395005034752, 4.446119188930458], \"yaxis\": \"y7\"}, {\"hovertemplate\": \"class=9<br>skill_name=Reasoning and Analysis Skills<br>skill_name=Reasoning and Analysis Skills<br>year=%{x}<br>skill_delta=%{y}<br>studentCount=%{marker.size}<extra></extra>\", \"legendgroup\": \"skill_name=Reasoning and Analysis Skills\", \"marker\": {\"color\": \"#ab63fa\", \"size\": [92, 10, 42, 51, 73, 74], \"sizemode\": \"area\", \"sizeref\": 1.15, \"symbol\": \"circle\"}, \"mode\": \"markers\", \"name\": \"skill_name=Reasoning and Analysis Skills\", \"showlegend\": false, \"type\": \"scatter\", \"uid\": \"e4e5cf31-d188-4d3e-9913-5d7779101053\", \"x\": [\"2018\", \"2007\", \"2008\", \"2009\", \"2014\", \"2016\"], \"xaxis\": \"x4\", \"y\": [7.980000000000004, 15.25, 9.730000000000004, 9.380000000000003, 4.469999999999999, 0.4899999999999949], \"yaxis\": \"y7\"}, {\"hovertemplate\": \"<b>LOWESS trendline</b><br><br>class=9<br>skill_name=Reasoning and Analysis Skills<br>skill_name=Reasoning and Analysis Skills<br>year=%{x}<br>skill_delta=%{y} <b>(trend)</b><extra></extra>\", \"legendgroup\": \"skill_name=Reasoning and Analysis Skills\", \"marker\": {\"color\": \"#ab63fa\", \"symbol\": \"circle\"}, \"mode\": \"lines\", \"name\": \"skill_name=Reasoning and Analysis Skills\", \"showlegend\": false, \"type\": \"scatter\", \"uid\": \"438fa4a4-383f-4aa1-8cde-5c2fc96b4994\", \"x\": [2007.0, 2008.0, 2009.0, 2014.0, 2016.0, 2018.0], \"xaxis\": \"x4\", \"y\": [14.539887599828914, 11.587219972479513, 8.693912984683104, 4.469999999999992, 6.225000000000195, 7.979999999999581], \"yaxis\": \"y7\"}, {\"hovertemplate\": \"class=10<br>skill_name=Conceptual Understanding and Comprehension<br>skill_name=Conceptual Understanding and Comprehension<br>year=%{x}<br>skill_delta=%{y}<br>studentCount=%{marker.size}<extra></extra>\", \"legendgroup\": \"skill_name=Conceptual Understanding and Comprehension\", \"marker\": {\"color\": \"#636efa\", \"size\": [73, 67], \"sizemode\": \"area\", \"sizeref\": 1.15, \"symbol\": \"circle\"}, \"mode\": \"markers\", \"name\": \"skill_name=Conceptual Understanding and Comprehension\", \"showlegend\": false, \"type\": \"scatter\", \"uid\": \"da0e5701-1d69-428d-9781-49616b5f31ec\", \"x\": [\"2014\", \"2016\"], \"xaxis\": \"x\", \"y\": [1.8999999999999986, 9.579999999999998], \"yaxis\": \"y8\"}, {\"hovertemplate\": \"<b>LOWESS trendline</b><br><br>class=10<br>skill_name=Conceptual Understanding and Comprehension<br>skill_name=Conceptual Understanding and Comprehension<br>year=%{x}<br>skill_delta=%{y} <b>(trend)</b><extra></extra>\", \"legendgroup\": \"skill_name=Conceptual Understanding and Comprehension\", \"marker\": {\"color\": \"#636efa\", \"symbol\": \"circle\"}, \"mode\": \"lines\", \"name\": \"skill_name=Conceptual Understanding and Comprehension\", \"showlegend\": false, \"type\": \"scatter\", \"uid\": \"1f1f6ec2-1de5-4350-a55b-cb45fab79103\", \"x\": [2014.0, 2016.0], \"xaxis\": \"x\", \"y\": [1.8999999999999986, 9.579999999999998], \"yaxis\": \"y8\"}, {\"hovertemplate\": \"class=10<br>skill_name=Knowledge of Basic Science Facts<br>skill_name=Knowledge of Basic Science Facts<br>year=%{x}<br>skill_delta=%{y}<br>studentCount=%{marker.size}<extra></extra>\", \"legendgroup\": \"skill_name=Knowledge of Basic Science Facts\", \"marker\": {\"color\": \"#EF553B\", \"size\": [73, 67], \"sizemode\": \"area\", \"sizeref\": 1.15, \"symbol\": \"circle\"}, \"mode\": \"markers\", \"name\": \"skill_name=Knowledge of Basic Science Facts\", \"showlegend\": false, \"type\": \"scatter\", \"uid\": \"6ac8c7c6-c27f-4ba3-80b4-4ef0da1298fd\", \"x\": [\"2014\", \"2016\"], \"xaxis\": \"x2\", \"y\": [-1.4200000000000017, 6.229999999999997], \"yaxis\": \"y8\"}, {\"hovertemplate\": \"<b>LOWESS trendline</b><br><br>class=10<br>skill_name=Knowledge of Basic Science Facts<br>skill_name=Knowledge of Basic Science Facts<br>year=%{x}<br>skill_delta=%{y} <b>(trend)</b><extra></extra>\", \"legendgroup\": \"skill_name=Knowledge of Basic Science Facts\", \"marker\": {\"color\": \"#EF553B\", \"symbol\": \"circle\"}, \"mode\": \"lines\", \"name\": \"skill_name=Knowledge of Basic Science Facts\", \"showlegend\": false, \"type\": \"scatter\", \"uid\": \"322da473-b920-4387-9184-b8f9857e09da\", \"x\": [2014.0, 2016.0], \"xaxis\": \"x2\", \"y\": [-1.4200000000000017, 6.229999999999997], \"yaxis\": \"y8\"}, {\"hovertemplate\": \"class=10<br>skill_name=Original Thinking<br>skill_name=Original Thinking<br>year=%{x}<br>skill_delta=%{y}<br>studentCount=%{marker.size}<extra></extra>\", \"legendgroup\": \"skill_name=Original Thinking\", \"marker\": {\"color\": \"#00cc96\", \"size\": [73, 67], \"sizemode\": \"area\", \"sizeref\": 1.15, \"symbol\": \"circle\"}, \"mode\": \"markers\", \"name\": \"skill_name=Original Thinking\", \"showlegend\": false, \"type\": \"scatter\", \"uid\": \"e3380ea5-3f24-4b46-8591-7220fc55f0a5\", \"x\": [\"2014\", \"2016\"], \"xaxis\": \"x3\", \"y\": [1.8100000000000023, 1.3499999999999943], \"yaxis\": \"y8\"}, {\"hovertemplate\": \"<b>LOWESS trendline</b><br><br>class=10<br>skill_name=Original Thinking<br>skill_name=Original Thinking<br>year=%{x}<br>skill_delta=%{y} <b>(trend)</b><extra></extra>\", \"legendgroup\": \"skill_name=Original Thinking\", \"marker\": {\"color\": \"#00cc96\", \"symbol\": \"circle\"}, \"mode\": \"lines\", \"name\": \"skill_name=Original Thinking\", \"showlegend\": false, \"type\": \"scatter\", \"uid\": \"ceb02e04-fd1d-4e38-b239-d488aaa97e75\", \"x\": [2014.0, 2016.0], \"xaxis\": \"x3\", \"y\": [1.8100000000000023, 1.3499999999999943], \"yaxis\": \"y8\"}, {\"hovertemplate\": \"class=10<br>skill_name=Reasoning and Analysis Skills<br>skill_name=Reasoning and Analysis Skills<br>year=%{x}<br>skill_delta=%{y}<br>studentCount=%{marker.size}<extra></extra>\", \"legendgroup\": \"skill_name=Reasoning and Analysis Skills\", \"marker\": {\"color\": \"#ab63fa\", \"size\": [73, 67], \"sizemode\": \"area\", \"sizeref\": 1.15, \"symbol\": \"circle\"}, \"mode\": \"markers\", \"name\": \"skill_name=Reasoning and Analysis Skills\", \"showlegend\": false, \"type\": \"scatter\", \"uid\": \"0bad4f14-b83c-4278-9204-b23a368eb09d\", \"x\": [\"2014\", \"2016\"], \"xaxis\": \"x4\", \"y\": [0.8000000000000043, 3.1899999999999977], \"yaxis\": \"y8\"}, {\"hovertemplate\": \"<b>LOWESS trendline</b><br><br>class=10<br>skill_name=Reasoning and Analysis Skills<br>skill_name=Reasoning and Analysis Skills<br>year=%{x}<br>skill_delta=%{y} <b>(trend)</b><extra></extra>\", \"legendgroup\": \"skill_name=Reasoning and Analysis Skills\", \"marker\": {\"color\": \"#ab63fa\", \"symbol\": \"circle\"}, \"mode\": \"lines\", \"name\": \"skill_name=Reasoning and Analysis Skills\", \"showlegend\": false, \"type\": \"scatter\", \"uid\": \"f89ad039-4c4e-410c-9226-a6171bc11551\", \"x\": [2014.0, 2016.0], \"xaxis\": \"x4\", \"y\": [0.8000000000000043, 3.1899999999999977], \"yaxis\": \"y8\"}],\n",
       "                        {\"annotations\": [{\"showarrow\": false, \"text\": \"skill_name=Conceptual Understanding and Comprehension\", \"textangle\": 0, \"x\": 0.1153846153846154, \"xanchor\": \"center\", \"xref\": \"paper\", \"y\": 1.02, \"yanchor\": \"middle\", \"yref\": \"paper\"}, {\"showarrow\": false, \"text\": \"skill_name=Knowledge of Basic Science Facts\", \"textangle\": 0, \"x\": 0.3717948717948718, \"xanchor\": \"center\", \"xref\": \"paper\", \"y\": 1.02, \"yanchor\": \"middle\", \"yref\": \"paper\"}, {\"showarrow\": false, \"text\": \"skill_name=Original Thinking\", \"textangle\": 0, \"x\": 0.6282051282051283, \"xanchor\": \"center\", \"xref\": \"paper\", \"y\": 1.02, \"yanchor\": \"middle\", \"yref\": \"paper\"}, {\"showarrow\": false, \"text\": \"skill_name=Reasoning and Analysis Skills\", \"textangle\": 0, \"x\": 0.8846153846153848, \"xanchor\": \"center\", \"xref\": \"paper\", \"y\": 1.02, \"yanchor\": \"middle\", \"yref\": \"paper\"}, {\"showarrow\": false, \"text\": \"class=3\", \"textangle\": 90, \"x\": 1.01, \"xanchor\": \"center\", \"xref\": \"paper\", \"y\": 0.9430379746835442, \"yanchor\": \"middle\", \"yref\": \"paper\"}, {\"showarrow\": false, \"text\": \"class=4\", \"textangle\": 90, \"x\": 1.01, \"xanchor\": \"center\", \"xref\": \"paper\", \"y\": 0.8164556962025316, \"yanchor\": \"middle\", \"yref\": \"paper\"}, {\"showarrow\": false, \"text\": \"class=5\", \"textangle\": 90, \"x\": 1.01, \"xanchor\": \"center\", \"xref\": \"paper\", \"y\": 0.6898734177215189, \"yanchor\": \"middle\", \"yref\": \"paper\"}, {\"showarrow\": false, \"text\": \"class=6\", \"textangle\": 90, \"x\": 1.01, \"xanchor\": \"center\", \"xref\": \"paper\", \"y\": 0.5632911392405062, \"yanchor\": \"middle\", \"yref\": \"paper\"}, {\"showarrow\": false, \"text\": \"class=7\", \"textangle\": 90, \"x\": 1.01, \"xanchor\": \"center\", \"xref\": \"paper\", \"y\": 0.4367088607594936, \"yanchor\": \"middle\", \"yref\": \"paper\"}, {\"showarrow\": false, \"text\": \"class=8\", \"textangle\": 90, \"x\": 1.01, \"xanchor\": \"center\", \"xref\": \"paper\", \"y\": 0.310126582278481, \"yanchor\": \"middle\", \"yref\": \"paper\"}, {\"showarrow\": false, \"text\": \"class=9\", \"textangle\": 90, \"x\": 1.01, \"xanchor\": \"center\", \"xref\": \"paper\", \"y\": 0.18354430379746833, \"yanchor\": \"middle\", \"yref\": \"paper\"}, {\"showarrow\": false, \"text\": \"class=10\", \"textangle\": 90, \"x\": 1.01, \"xanchor\": \"center\", \"xref\": \"paper\", \"y\": 0.05696202531645569, \"yanchor\": \"middle\", \"yref\": \"paper\"}], \"grid\": {\"xaxes\": [\"x\", \"x2\", \"x3\", \"x4\"], \"xgap\": 0.1, \"xside\": \"bottom\", \"yaxes\": [\"y\", \"y2\", \"y3\", \"y4\", \"y5\", \"y6\", \"y7\", \"y8\"], \"ygap\": 0.1, \"yside\": \"left\"}, \"height\": 1500, \"legend\": {\"tracegroupgap\": 0}, \"template\": {\"data\": {\"bar\": [{\"marker\": {\"line\": {\"color\": \"#E5ECF6\", \"width\": 0.5}}, \"type\": \"bar\"}], \"barpolar\": [{\"marker\": {\"line\": {\"color\": \"#E5ECF6\", \"width\": 0.5}}, \"type\": \"barpolar\"}], \"carpet\": [{\"aaxis\": {\"endlinecolor\": \"#2a3f5f\", \"gridcolor\": \"white\", \"linecolor\": \"white\", \"minorgridcolor\": \"white\", \"startlinecolor\": \"#2a3f5f\"}, \"baxis\": {\"endlinecolor\": \"#2a3f5f\", \"gridcolor\": \"white\", \"linecolor\": \"white\", \"minorgridcolor\": \"white\", \"startlinecolor\": \"#2a3f5f\"}, \"type\": \"carpet\"}], \"choropleth\": [{\"colorbar\": {\"outlinewidth\": 0, \"ticks\": \"\"}, \"type\": \"choropleth\"}], \"contour\": [{\"autocolorscale\": true, \"colorbar\": {\"outlinewidth\": 0, \"ticks\": \"\"}, \"type\": \"contour\"}], \"contourcarpet\": [{\"colorbar\": {\"outlinewidth\": 0, \"ticks\": \"\"}, \"type\": \"contourcarpet\"}], \"heatmap\": [{\"autocolorscale\": true, \"colorbar\": {\"outlinewidth\": 0, \"ticks\": \"\"}, \"type\": \"heatmap\"}], \"heatmapgl\": [{\"colorbar\": {\"outlinewidth\": 0, \"ticks\": \"\"}, \"type\": \"heatmapgl\"}], \"histogram\": [{\"marker\": {\"colorbar\": {\"outlinewidth\": 0, \"ticks\": \"\"}}, \"type\": \"histogram\"}], \"histogram2d\": [{\"autocolorscale\": true, \"colorbar\": {\"outlinewidth\": 0, \"ticks\": \"\"}, \"type\": \"histogram2d\"}], \"histogram2dcontour\": [{\"autocolorscale\": true, \"colorbar\": {\"outlinewidth\": 0, \"ticks\": \"\"}, \"type\": \"histogram2dcontour\"}], \"mesh3d\": [{\"colorbar\": {\"outlinewidth\": 0, \"ticks\": \"\"}, \"type\": \"mesh3d\"}], \"parcoords\": [{\"line\": {\"colorbar\": {\"outlinewidth\": 0, \"ticks\": \"\"}}, \"type\": \"parcoords\"}], \"scatter\": [{\"marker\": {\"colorbar\": {\"outlinewidth\": 0, \"ticks\": \"\"}}, \"type\": \"scatter\"}], \"scatter3d\": [{\"marker\": {\"colorbar\": {\"outlinewidth\": 0, \"ticks\": \"\"}}, \"type\": \"scatter3d\"}], \"scattercarpet\": [{\"marker\": {\"colorbar\": {\"outlinewidth\": 0, \"ticks\": \"\"}}, \"type\": \"scattercarpet\"}], \"scattergeo\": [{\"marker\": {\"colorbar\": {\"outlinewidth\": 0, \"ticks\": \"\"}}, \"type\": \"scattergeo\"}], \"scattergl\": [{\"marker\": {\"colorbar\": {\"outlinewidth\": 0, \"ticks\": \"\"}}, \"type\": \"scattergl\"}], \"scattermapbox\": [{\"marker\": {\"colorbar\": {\"outlinewidth\": 0, \"ticks\": \"\"}}, \"type\": \"scattermapbox\"}], \"scatterpolar\": [{\"marker\": {\"colorbar\": {\"outlinewidth\": 0, \"ticks\": \"\"}}, \"type\": \"scatterpolar\"}], \"scatterpolargl\": [{\"marker\": {\"colorbar\": {\"outlinewidth\": 0, \"ticks\": \"\"}}, \"type\": \"scatterpolargl\"}], \"scatterternary\": [{\"marker\": {\"colorbar\": {\"outlinewidth\": 0, \"ticks\": \"\"}}, \"type\": \"scatterternary\"}], \"surface\": [{\"colorbar\": {\"outlinewidth\": 0, \"ticks\": \"\"}, \"type\": \"surface\"}], \"table\": [{\"cells\": {\"fill\": {\"color\": \"#EBF0F8\"}, \"line\": {\"color\": \"white\"}}, \"header\": {\"fill\": {\"color\": \"#C8D4E3\"}, \"line\": {\"color\": \"white\"}}, \"type\": \"table\"}]}, \"layout\": {\"annotationdefaults\": {\"arrowcolor\": \"#506784\", \"arrowhead\": 0, \"arrowwidth\": 1}, \"colorscale\": {\"diverging\": [[0, \"#8e0152\"], [0.1, \"#c51b7d\"], [0.2, \"#de77ae\"], [0.3, \"#f1b6da\"], [0.4, \"#fde0ef\"], [0.5, \"#f7f7f7\"], [0.6, \"#e6f5d0\"], [0.7, \"#b8e186\"], [0.8, \"#7fbc41\"], [0.9, \"#4d9221\"], [1, \"#276419\"]], \"sequential\": [[0.0, \"#0508b8\"], [0.0893854748603352, \"#1910d8\"], [0.1787709497206704, \"#3c19f0\"], [0.2681564245810056, \"#6b1cfb\"], [0.3575418994413408, \"#981cfd\"], [0.44692737430167595, \"#bf1cfd\"], [0.5363128491620112, \"#dd2bfd\"], [0.6256983240223464, \"#f246fe\"], [0.7150837988826816, \"#fc67fd\"], [0.8044692737430168, \"#fe88fc\"], [0.8938547486033519, \"#fea5fd\"], [0.9832402234636871, \"#febefe\"], [1.0, \"#fec3fe\"]], \"sequentialminus\": [[0.0, \"#0508b8\"], [0.0893854748603352, \"#1910d8\"], [0.1787709497206704, \"#3c19f0\"], [0.2681564245810056, \"#6b1cfb\"], [0.3575418994413408, \"#981cfd\"], [0.44692737430167595, \"#bf1cfd\"], [0.5363128491620112, \"#dd2bfd\"], [0.6256983240223464, \"#f246fe\"], [0.7150837988826816, \"#fc67fd\"], [0.8044692737430168, \"#fe88fc\"], [0.8938547486033519, \"#fea5fd\"], [0.9832402234636871, \"#febefe\"], [1.0, \"#fec3fe\"]]}, \"colorway\": [\"#636efa\", \"#EF553B\", \"#00cc96\", \"#ab63fa\", \"#19d3f3\", \"#e763fa\", \"#FECB52\", \"#FFA15A\", \"#FF6692\", \"#B6E880\"], \"font\": {\"color\": \"#2a3f5f\"}, \"geo\": {\"bgcolor\": \"white\", \"lakecolor\": \"white\", \"landcolor\": \"#E5ECF6\", \"showlakes\": true, \"showland\": true, \"subunitcolor\": \"white\"}, \"hoverlabel\": {\"align\": \"left\"}, \"hovermode\": \"closest\", \"legend\": {\"itemsizing\": \"constant\"}, \"mapbox\": {\"style\": \"light\"}, \"paper_bgcolor\": \"white\", \"plot_bgcolor\": \"#E5ECF6\", \"polar\": {\"angularaxis\": {\"gridcolor\": \"white\", \"linecolor\": \"white\", \"ticks\": \"\"}, \"bgcolor\": \"#E5ECF6\", \"radialaxis\": {\"gridcolor\": \"white\", \"linecolor\": \"white\", \"ticks\": \"\"}}, \"scene\": {\"xaxis\": {\"backgroundcolor\": \"#E5ECF6\", \"gridcolor\": \"white\", \"gridwidth\": 2, \"linecolor\": \"white\", \"showbackground\": true, \"ticks\": \"\", \"zerolinecolor\": \"white\"}, \"yaxis\": {\"backgroundcolor\": \"#E5ECF6\", \"gridcolor\": \"white\", \"gridwidth\": 2, \"linecolor\": \"white\", \"showbackground\": true, \"ticks\": \"\", \"zerolinecolor\": \"white\"}, \"zaxis\": {\"backgroundcolor\": \"#E5ECF6\", \"gridcolor\": \"white\", \"gridwidth\": 2, \"linecolor\": \"white\", \"showbackground\": true, \"ticks\": \"\", \"zerolinecolor\": \"white\"}}, \"shapedefaults\": {\"fillcolor\": \"#506784\", \"line\": {\"width\": 0}, \"opacity\": 0.4}, \"ternary\": {\"aaxis\": {\"gridcolor\": \"white\", \"linecolor\": \"white\", \"ticks\": \"\"}, \"baxis\": {\"gridcolor\": \"white\", \"linecolor\": \"white\", \"ticks\": \"\"}, \"bgcolor\": \"#E5ECF6\", \"caxis\": {\"gridcolor\": \"white\", \"linecolor\": \"white\", \"ticks\": \"\"}}, \"title\": {\"x\": 0.05}, \"xaxis\": {\"automargin\": true, \"gridcolor\": \"white\", \"linecolor\": \"white\", \"ticks\": \"\", \"zerolinecolor\": \"white\", \"zerolinewidth\": 2}, \"yaxis\": {\"automargin\": true, \"gridcolor\": \"white\", \"linecolor\": \"white\", \"ticks\": \"\", \"zerolinecolor\": \"white\", \"zerolinewidth\": 2}}}, \"title\": {\"text\": \"Core Skills in Science (Sushila Birla Girls^ School-Kolkata-CBSE)\"}, \"width\": 2000, \"xaxis\": {\"title\": {\"text\": \"year\"}}, \"xaxis2\": {\"matches\": \"x\", \"title\": {\"text\": \"year\"}}, \"xaxis3\": {\"matches\": \"x\", \"title\": {\"text\": \"year\"}}, \"xaxis4\": {\"matches\": \"x\", \"title\": {\"text\": \"year\"}}, \"yaxis\": {\"title\": {\"text\": \"skill_delta\"}}, \"yaxis2\": {\"matches\": \"y\", \"title\": {\"text\": \"skill_delta\"}}, \"yaxis3\": {\"matches\": \"y\", \"title\": {\"text\": \"skill_delta\"}}, \"yaxis4\": {\"matches\": \"y\", \"title\": {\"text\": \"skill_delta\"}}, \"yaxis5\": {\"matches\": \"y\", \"title\": {\"text\": \"skill_delta\"}}, \"yaxis6\": {\"matches\": \"y\", \"title\": {\"text\": \"skill_delta\"}}, \"yaxis7\": {\"matches\": \"y\", \"title\": {\"text\": \"skill_delta\"}}, \"yaxis8\": {\"matches\": \"y\", \"title\": {\"text\": \"skill_delta\"}}},\n",
       "                        {\"showLink\": false, \"linkText\": \"Export to plot.ly\", \"plotlyServerURL\": \"https://plot.ly\"}\n",
       "                    )\n",
       "                };\n",
       "                });\n",
       "            </script>\n",
       "        </div>"
      ]
     },
     "metadata": {},
     "output_type": "display_data"
    }
   ],
   "source": [
    "sub = 'Science'\n",
    "px.scatter(df_school[df_school['subject']==sub].drop_duplicates(['papercode','skill_name']), \n",
    "        x = 'year', \n",
    "        y = 'skill_delta', \n",
    "        color='skill_name',\n",
    "        facet_row= 'class', \n",
    "       facet_col= 'skill_name', \n",
    "           size = 'studentCount',\n",
    "           size_max= 10,\n",
    "           trendline=\"lowess\",\n",
    "        height=1500,\n",
    "        width=2000,\n",
    "        title = 'Core Skills in %s (%s-%s-%s)'%(sub,school_name, school_city, school_board) )"
   ]
  },
  {
   "cell_type": "code",
   "execution_count": null,
   "metadata": {},
   "outputs": [],
   "source": []
  },
  {
   "cell_type": "code",
   "execution_count": null,
   "metadata": {},
   "outputs": [],
   "source": []
  },
  {
   "cell_type": "code",
   "execution_count": null,
   "metadata": {},
   "outputs": [],
   "source": []
  },
  {
   "cell_type": "code",
   "execution_count": null,
   "metadata": {},
   "outputs": [],
   "source": []
  }
 ],
 "metadata": {
  "kernelspec": {
   "display_name": "Python 3",
   "language": "python",
   "name": "python3"
  },
  "language_info": {
   "codemirror_mode": {
    "name": "ipython",
    "version": 3
   },
   "file_extension": ".py",
   "mimetype": "text/x-python",
   "name": "python",
   "nbconvert_exporter": "python",
   "pygments_lexer": "ipython3",
   "version": "3.6.6"
  },
  "varInspector": {
   "cols": {
    "lenName": 16,
    "lenType": 16,
    "lenVar": 40
   },
   "kernels_config": {
    "python": {
     "delete_cmd_postfix": "",
     "delete_cmd_prefix": "del ",
     "library": "var_list.py",
     "varRefreshCmd": "print(var_dic_list())"
    },
    "r": {
     "delete_cmd_postfix": ") ",
     "delete_cmd_prefix": "rm(",
     "library": "var_list.r",
     "varRefreshCmd": "cat(var_dic_list()) "
    }
   },
   "types_to_exclude": [
    "module",
    "function",
    "builtin_function_or_method",
    "instance",
    "_Feature"
   ],
   "window_display": false
  }
 },
 "nbformat": 4,
 "nbformat_minor": 2
}
