{
 "cells": [
  {
   "cell_type": "code",
   "execution_count": 1,
   "metadata": {},
   "outputs": [],
   "source": [
    "from lib import db_config"
   ]
  },
  {
   "cell_type": "code",
   "execution_count": 2,
   "metadata": {},
   "outputs": [],
   "source": [
    "import pandas as pd\n",
    "import string"
   ]
  },
  {
   "cell_type": "code",
   "execution_count": 3,
   "metadata": {},
   "outputs": [],
   "source": [
    "q = \"select  a.school_code , a.class, a.`test_edition`, group_concat(distinct a.pan_number order by a.pan_number) as pan\\\n",
    "    from assessment{} as a\\\n",
    "    WHERE a.school_code IS NOT NULL and a.`pan_number` <> 0\\\n",
    "    group by a.`school_code`, a.class\""
   ]
  },
  {
   "cell_type": "code",
   "execution_count": 4,
   "metadata": {},
   "outputs": [
    {
     "data": {
      "text/plain": [
       "'select  a.school_code , a.class, a.`test_edition`, group_concat(distinct a.pan_number order by a.pan_number) as pan    from assessment{} as a    WHERE a.school_code IS NOT NULL and a.`pan_number` <> 0    group by a.`school_code`, a.class'"
      ]
     },
     "execution_count": 4,
     "metadata": {},
     "output_type": "execute_result"
    }
   ],
   "source": [
    "q"
   ]
  },
  {
   "cell_type": "code",
   "execution_count": 7,
   "metadata": {},
   "outputs": [],
   "source": [
    "l = list(string.ascii_uppercase)\n",
    "\n",
    "l.append('37')"
   ]
  },
  {
   "cell_type": "markdown",
   "metadata": {},
   "source": [
    "Getting all the data in one DF"
   ]
  },
  {
   "cell_type": "code",
   "execution_count": 9,
   "metadata": {},
   "outputs": [],
   "source": [
    "data = pd.read_pickle('data/asset_cohorts.pkl')\n",
    "\n",
    "# data = pd.DataFrame()\n",
    "\n",
    "# l = list(string.ascii_uppercase)\n",
    "# l.append('37')\n",
    "\n",
    "# for i in l:\n",
    "#     query = q.format(i)\n",
    "#     df_temp = db_config.connect('educat', query)\n",
    "#     data = data.append(df_temp, ignore_index=True)\n",
    "# data.to_pickle('data/asset_cohorts.pkl')"
   ]
  },
  {
   "cell_type": "code",
   "execution_count": 10,
   "metadata": {},
   "outputs": [],
   "source": [
    "data.sort_values('pan', inplace=True)"
   ]
  },
  {
   "cell_type": "markdown",
   "metadata": {},
   "source": [
    "Convert to set"
   ]
  },
  {
   "cell_type": "code",
   "execution_count": 11,
   "metadata": {},
   "outputs": [],
   "source": [
    "to_set = lambda x : set(map(int, set(x.split(','))))\n",
    "\n",
    "data['pan'] = data['pan'].apply(to_set) "
   ]
  },
  {
   "cell_type": "code",
   "execution_count": null,
   "metadata": {},
   "outputs": [],
   "source": [
    "data"
   ]
  },
  {
   "cell_type": "markdown",
   "metadata": {},
   "source": [
    "Looking at the sets of students in the current year and creating cohorots that can be looked up with the past data"
   ]
  },
  {
   "cell_type": "code",
   "execution_count": 12,
   "metadata": {},
   "outputs": [
    {
     "name": "stdout",
     "output_type": "stream",
     "text": [
      "<<CONNECTED>>\n"
     ]
    },
    {
     "name": "stderr",
     "output_type": "stream",
     "text": [
      "/Users/manghat/anaconda3/lib/python3.6/site-packages/pymysql/cursors.py:170: Warning: (1260, 'Row 139 was cut by GROUP_CONCAT()')\n",
      "  result = self._query(query)\n",
      "/Users/manghat/anaconda3/lib/python3.6/site-packages/pymysql/cursors.py:170: Warning: (1260, 'Row 242 was cut by GROUP_CONCAT()')\n",
      "  result = self._query(query)\n",
      "/Users/manghat/anaconda3/lib/python3.6/site-packages/pymysql/cursors.py:170: Warning: (1260, 'Row 345 was cut by GROUP_CONCAT()')\n",
      "  result = self._query(query)\n",
      "/Users/manghat/anaconda3/lib/python3.6/site-packages/pymysql/cursors.py:170: Warning: (1260, 'Row 448 was cut by GROUP_CONCAT()')\n",
      "  result = self._query(query)\n",
      "/Users/manghat/anaconda3/lib/python3.6/site-packages/pymysql/cursors.py:170: Warning: (1260, 'Row 551 was cut by GROUP_CONCAT()')\n",
      "  result = self._query(query)\n",
      "/Users/manghat/anaconda3/lib/python3.6/site-packages/pymysql/cursors.py:170: Warning: (1260, 'Row 654 was cut by GROUP_CONCAT()')\n",
      "  result = self._query(query)\n",
      "/Users/manghat/anaconda3/lib/python3.6/site-packages/pymysql/cursors.py:170: Warning: (1260, 'Row 757 was cut by GROUP_CONCAT()')\n",
      "  result = self._query(query)\n",
      "/Users/manghat/anaconda3/lib/python3.6/site-packages/pymysql/cursors.py:170: Warning: (1260, 'Row 1074 was cut by GROUP_CONCAT()')\n",
      "  result = self._query(query)\n",
      "/Users/manghat/anaconda3/lib/python3.6/site-packages/pymysql/cursors.py:170: Warning: (1260, 'Row 1417 was cut by GROUP_CONCAT()')\n",
      "  result = self._query(query)\n",
      "/Users/manghat/anaconda3/lib/python3.6/site-packages/pymysql/cursors.py:170: Warning: (1260, 'Row 1520 was cut by GROUP_CONCAT()')\n",
      "  result = self._query(query)\n",
      "/Users/manghat/anaconda3/lib/python3.6/site-packages/pymysql/cursors.py:170: Warning: (1260, 'Row 1623 was cut by GROUP_CONCAT()')\n",
      "  result = self._query(query)\n",
      "/Users/manghat/anaconda3/lib/python3.6/site-packages/pymysql/cursors.py:170: Warning: (1260, 'Row 1726 was cut by GROUP_CONCAT()')\n",
      "  result = self._query(query)\n",
      "/Users/manghat/anaconda3/lib/python3.6/site-packages/pymysql/cursors.py:170: Warning: (1260, 'Row 1829 was cut by GROUP_CONCAT()')\n",
      "  result = self._query(query)\n",
      "/Users/manghat/anaconda3/lib/python3.6/site-packages/pymysql/cursors.py:170: Warning: (1260, 'Row 1932 was cut by GROUP_CONCAT()')\n",
      "  result = self._query(query)\n",
      "/Users/manghat/anaconda3/lib/python3.6/site-packages/pymysql/cursors.py:170: Warning: (1260, 'Row 2135 was cut by GROUP_CONCAT()')\n",
      "  result = self._query(query)\n",
      "/Users/manghat/anaconda3/lib/python3.6/site-packages/pymysql/cursors.py:170: Warning: (1260, 'Row 2671 was cut by GROUP_CONCAT()')\n",
      "  result = self._query(query)\n",
      "/Users/manghat/anaconda3/lib/python3.6/site-packages/pymysql/cursors.py:170: Warning: (1260, 'Row 2774 was cut by GROUP_CONCAT()')\n",
      "  result = self._query(query)\n",
      "/Users/manghat/anaconda3/lib/python3.6/site-packages/pymysql/cursors.py:170: Warning: (1260, 'Row 2877 was cut by GROUP_CONCAT()')\n",
      "  result = self._query(query)\n",
      "/Users/manghat/anaconda3/lib/python3.6/site-packages/pymysql/cursors.py:170: Warning: (1260, 'Row 2980 was cut by GROUP_CONCAT()')\n",
      "  result = self._query(query)\n",
      "/Users/manghat/anaconda3/lib/python3.6/site-packages/pymysql/cursors.py:170: Warning: (1260, 'Row 3083 was cut by GROUP_CONCAT()')\n",
      "  result = self._query(query)\n",
      "/Users/manghat/anaconda3/lib/python3.6/site-packages/pymysql/cursors.py:170: Warning: (1260, 'Row 3186 was cut by GROUP_CONCAT()')\n",
      "  result = self._query(query)\n",
      "/Users/manghat/anaconda3/lib/python3.6/site-packages/pymysql/cursors.py:170: Warning: (1260, 'Row 3289 was cut by GROUP_CONCAT()')\n",
      "  result = self._query(query)\n",
      "/Users/manghat/anaconda3/lib/python3.6/site-packages/pymysql/cursors.py:170: Warning: (1260, 'Row 4069 was cut by GROUP_CONCAT()')\n",
      "  result = self._query(query)\n",
      "/Users/manghat/anaconda3/lib/python3.6/site-packages/pymysql/cursors.py:170: Warning: (1260, 'Row 4172 was cut by GROUP_CONCAT()')\n",
      "  result = self._query(query)\n",
      "/Users/manghat/anaconda3/lib/python3.6/site-packages/pymysql/cursors.py:170: Warning: (1260, 'Row 4275 was cut by GROUP_CONCAT()')\n",
      "  result = self._query(query)\n",
      "/Users/manghat/anaconda3/lib/python3.6/site-packages/pymysql/cursors.py:170: Warning: (1260, 'Row 5009 was cut by GROUP_CONCAT()')\n",
      "  result = self._query(query)\n",
      "/Users/manghat/anaconda3/lib/python3.6/site-packages/pymysql/cursors.py:170: Warning: (1260, 'Row 6048 was cut by GROUP_CONCAT()')\n",
      "  result = self._query(query)\n",
      "/Users/manghat/anaconda3/lib/python3.6/site-packages/pymysql/cursors.py:170: Warning: (1260, 'Row 6345 was cut by GROUP_CONCAT()')\n",
      "  result = self._query(query)\n",
      "/Users/manghat/anaconda3/lib/python3.6/site-packages/pymysql/cursors.py:170: Warning: (1260, 'Row 6535 was cut by GROUP_CONCAT()')\n",
      "  result = self._query(query)\n",
      "/Users/manghat/anaconda3/lib/python3.6/site-packages/pymysql/cursors.py:170: Warning: (1260, 'Row 6638 was cut by GROUP_CONCAT()')\n",
      "  result = self._query(query)\n",
      "/Users/manghat/anaconda3/lib/python3.6/site-packages/pymysql/cursors.py:170: Warning: (1260, 'Row 7285 was cut by GROUP_CONCAT()')\n",
      "  result = self._query(query)\n",
      "/Users/manghat/anaconda3/lib/python3.6/site-packages/pymysql/cursors.py:170: Warning: (1260, 'Row 7388 was cut by GROUP_CONCAT()')\n",
      "  result = self._query(query)\n",
      "/Users/manghat/anaconda3/lib/python3.6/site-packages/pymysql/cursors.py:170: Warning: (1260, 'Row 7491 was cut by GROUP_CONCAT()')\n",
      "  result = self._query(query)\n",
      "/Users/manghat/anaconda3/lib/python3.6/site-packages/pymysql/cursors.py:170: Warning: (1260, 'Row 7594 was cut by GROUP_CONCAT()')\n",
      "  result = self._query(query)\n",
      "/Users/manghat/anaconda3/lib/python3.6/site-packages/pymysql/cursors.py:170: Warning: (1260, 'Row 7798 was cut by GROUP_CONCAT()')\n",
      "  result = self._query(query)\n",
      "/Users/manghat/anaconda3/lib/python3.6/site-packages/pymysql/cursors.py:170: Warning: (1260, 'Row 7901 was cut by GROUP_CONCAT()')\n",
      "  result = self._query(query)\n",
      "/Users/manghat/anaconda3/lib/python3.6/site-packages/pymysql/cursors.py:170: Warning: (1260, 'Row 8073 was cut by GROUP_CONCAT()')\n",
      "  result = self._query(query)\n",
      "/Users/manghat/anaconda3/lib/python3.6/site-packages/pymysql/cursors.py:170: Warning: (1260, 'Row 8176 was cut by GROUP_CONCAT()')\n",
      "  result = self._query(query)\n",
      "/Users/manghat/anaconda3/lib/python3.6/site-packages/pymysql/cursors.py:170: Warning: (1260, 'Row 8279 was cut by GROUP_CONCAT()')\n",
      "  result = self._query(query)\n",
      "/Users/manghat/anaconda3/lib/python3.6/site-packages/pymysql/cursors.py:170: Warning: (1260, 'Row 8382 was cut by GROUP_CONCAT()')\n",
      "  result = self._query(query)\n",
      "/Users/manghat/anaconda3/lib/python3.6/site-packages/pymysql/cursors.py:170: Warning: (1260, 'Row 8485 was cut by GROUP_CONCAT()')\n",
      "  result = self._query(query)\n",
      "/Users/manghat/anaconda3/lib/python3.6/site-packages/pymysql/cursors.py:170: Warning: (1260, 'Row 8588 was cut by GROUP_CONCAT()')\n",
      "  result = self._query(query)\n",
      "/Users/manghat/anaconda3/lib/python3.6/site-packages/pymysql/cursors.py:170: Warning: (1260, 'Row 8691 was cut by GROUP_CONCAT()')\n",
      "  result = self._query(query)\n",
      "/Users/manghat/anaconda3/lib/python3.6/site-packages/pymysql/cursors.py:170: Warning: (1260, 'Row 10132 was cut by GROUP_CONCAT()')\n",
      "  result = self._query(query)\n",
      "/Users/manghat/anaconda3/lib/python3.6/site-packages/pymysql/cursors.py:170: Warning: (1260, 'Row 10647 was cut by GROUP_CONCAT()')\n",
      "  result = self._query(query)\n",
      "/Users/manghat/anaconda3/lib/python3.6/site-packages/pymysql/cursors.py:170: Warning: (1260, 'Row 11872 was cut by GROUP_CONCAT()')\n",
      "  result = self._query(query)\n",
      "/Users/manghat/anaconda3/lib/python3.6/site-packages/pymysql/cursors.py:170: Warning: (1260, 'Row 11975 was cut by GROUP_CONCAT()')\n",
      "  result = self._query(query)\n",
      "/Users/manghat/anaconda3/lib/python3.6/site-packages/pymysql/cursors.py:170: Warning: (1260, 'Row 12321 was cut by GROUP_CONCAT()')\n",
      "  result = self._query(query)\n",
      "/Users/manghat/anaconda3/lib/python3.6/site-packages/pymysql/cursors.py:170: Warning: (1260, 'Row 12424 was cut by GROUP_CONCAT()')\n",
      "  result = self._query(query)\n",
      "/Users/manghat/anaconda3/lib/python3.6/site-packages/pymysql/cursors.py:170: Warning: (1260, 'Row 12527 was cut by GROUP_CONCAT()')\n",
      "  result = self._query(query)\n",
      "/Users/manghat/anaconda3/lib/python3.6/site-packages/pymysql/cursors.py:170: Warning: (1260, 'Row 12913 was cut by GROUP_CONCAT()')\n",
      "  result = self._query(query)\n",
      "/Users/manghat/anaconda3/lib/python3.6/site-packages/pymysql/cursors.py:170: Warning: (1260, 'Row 13016 was cut by GROUP_CONCAT()')\n",
      "  result = self._query(query)\n",
      "/Users/manghat/anaconda3/lib/python3.6/site-packages/pymysql/cursors.py:170: Warning: (1260, 'Row 13119 was cut by GROUP_CONCAT()')\n",
      "  result = self._query(query)\n",
      "/Users/manghat/anaconda3/lib/python3.6/site-packages/pymysql/cursors.py:170: Warning: (1260, 'Row 13222 was cut by GROUP_CONCAT()')\n",
      "  result = self._query(query)\n",
      "/Users/manghat/anaconda3/lib/python3.6/site-packages/pymysql/cursors.py:170: Warning: (1260, 'Row 13325 was cut by GROUP_CONCAT()')\n",
      "  result = self._query(query)\n",
      "/Users/manghat/anaconda3/lib/python3.6/site-packages/pymysql/cursors.py:170: Warning: (1260, 'Row 13428 was cut by GROUP_CONCAT()')\n",
      "  result = self._query(query)\n",
      "/Users/manghat/anaconda3/lib/python3.6/site-packages/pymysql/cursors.py:170: Warning: (1260, 'Row 13531 was cut by GROUP_CONCAT()')\n",
      "  result = self._query(query)\n",
      "/Users/manghat/anaconda3/lib/python3.6/site-packages/pymysql/cursors.py:170: Warning: (1260, 'Row 14271 was cut by GROUP_CONCAT()')\n",
      "  result = self._query(query)\n",
      "/Users/manghat/anaconda3/lib/python3.6/site-packages/pymysql/cursors.py:170: Warning: (1260, 'Row 14374 was cut by GROUP_CONCAT()')\n",
      "  result = self._query(query)\n",
      "/Users/manghat/anaconda3/lib/python3.6/site-packages/pymysql/cursors.py:170: Warning: (1260, 'Row 14477 was cut by GROUP_CONCAT()')\n",
      "  result = self._query(query)\n",
      "/Users/manghat/anaconda3/lib/python3.6/site-packages/pymysql/cursors.py:170: Warning: (1260, 'Row 14580 was cut by GROUP_CONCAT()')\n",
      "  result = self._query(query)\n",
      "/Users/manghat/anaconda3/lib/python3.6/site-packages/pymysql/cursors.py:170: Warning: (1260, 'Row 14683 was cut by GROUP_CONCAT()')\n",
      "  result = self._query(query)\n",
      "/Users/manghat/anaconda3/lib/python3.6/site-packages/pymysql/cursors.py:170: Warning: (1260, 'Row 14786 was cut by GROUP_CONCAT()')\n",
      "  result = self._query(query)\n",
      "/Users/manghat/anaconda3/lib/python3.6/site-packages/pymysql/cursors.py:170: Warning: (1260, 'Row 14889 was cut by GROUP_CONCAT()')\n",
      "  result = self._query(query)\n"
     ]
    },
    {
     "name": "stdout",
     "output_type": "stream",
     "text": [
      "<<CONNECTED>>\n"
     ]
    },
    {
     "name": "stderr",
     "output_type": "stream",
     "text": [
      "/Users/manghat/anaconda3/lib/python3.6/site-packages/pymysql/cursors.py:170: Warning: (1260, 'Row 103 was cut by GROUP_CONCAT()')\n",
      "  result = self._query(query)\n",
      "/Users/manghat/anaconda3/lib/python3.6/site-packages/pymysql/cursors.py:170: Warning: (1260, 'Row 206 was cut by GROUP_CONCAT()')\n",
      "  result = self._query(query)\n",
      "/Users/manghat/anaconda3/lib/python3.6/site-packages/pymysql/cursors.py:170: Warning: (1260, 'Row 309 was cut by GROUP_CONCAT()')\n",
      "  result = self._query(query)\n",
      "/Users/manghat/anaconda3/lib/python3.6/site-packages/pymysql/cursors.py:170: Warning: (1260, 'Row 412 was cut by GROUP_CONCAT()')\n",
      "  result = self._query(query)\n",
      "/Users/manghat/anaconda3/lib/python3.6/site-packages/pymysql/cursors.py:170: Warning: (1260, 'Row 515 was cut by GROUP_CONCAT()')\n",
      "  result = self._query(query)\n",
      "/Users/manghat/anaconda3/lib/python3.6/site-packages/pymysql/cursors.py:170: Warning: (1260, 'Row 618 was cut by GROUP_CONCAT()')\n",
      "  result = self._query(query)\n",
      "/Users/manghat/anaconda3/lib/python3.6/site-packages/pymysql/cursors.py:170: Warning: (1260, 'Row 721 was cut by GROUP_CONCAT()')\n",
      "  result = self._query(query)\n",
      "/Users/manghat/anaconda3/lib/python3.6/site-packages/pymysql/cursors.py:170: Warning: (1260, 'Row 824 was cut by GROUP_CONCAT()')\n",
      "  result = self._query(query)\n",
      "/Users/manghat/anaconda3/lib/python3.6/site-packages/pymysql/cursors.py:170: Warning: (1260, 'Row 927 was cut by GROUP_CONCAT()')\n",
      "  result = self._query(query)\n",
      "/Users/manghat/anaconda3/lib/python3.6/site-packages/pymysql/cursors.py:170: Warning: (1260, 'Row 1030 was cut by GROUP_CONCAT()')\n",
      "  result = self._query(query)\n",
      "/Users/manghat/anaconda3/lib/python3.6/site-packages/pymysql/cursors.py:170: Warning: (1260, 'Row 1233 was cut by GROUP_CONCAT()')\n",
      "  result = self._query(query)\n",
      "/Users/manghat/anaconda3/lib/python3.6/site-packages/pymysql/cursors.py:170: Warning: (1260, 'Row 1336 was cut by GROUP_CONCAT()')\n",
      "  result = self._query(query)\n",
      "/Users/manghat/anaconda3/lib/python3.6/site-packages/pymysql/cursors.py:170: Warning: (1260, 'Row 1439 was cut by GROUP_CONCAT()')\n",
      "  result = self._query(query)\n",
      "/Users/manghat/anaconda3/lib/python3.6/site-packages/pymysql/cursors.py:170: Warning: (1260, 'Row 1542 was cut by GROUP_CONCAT()')\n",
      "  result = self._query(query)\n",
      "/Users/manghat/anaconda3/lib/python3.6/site-packages/pymysql/cursors.py:170: Warning: (1260, 'Row 1645 was cut by GROUP_CONCAT()')\n",
      "  result = self._query(query)\n",
      "/Users/manghat/anaconda3/lib/python3.6/site-packages/pymysql/cursors.py:170: Warning: (1260, 'Row 1748 was cut by GROUP_CONCAT()')\n",
      "  result = self._query(query)\n",
      "/Users/manghat/anaconda3/lib/python3.6/site-packages/pymysql/cursors.py:170: Warning: (1260, 'Row 1851 was cut by GROUP_CONCAT()')\n",
      "  result = self._query(query)\n",
      "/Users/manghat/anaconda3/lib/python3.6/site-packages/pymysql/cursors.py:170: Warning: (1260, 'Row 1954 was cut by GROUP_CONCAT()')\n",
      "  result = self._query(query)\n",
      "/Users/manghat/anaconda3/lib/python3.6/site-packages/pymysql/cursors.py:170: Warning: (1260, 'Row 2057 was cut by GROUP_CONCAT()')\n",
      "  result = self._query(query)\n",
      "/Users/manghat/anaconda3/lib/python3.6/site-packages/pymysql/cursors.py:170: Warning: (1260, 'Row 2160 was cut by GROUP_CONCAT()')\n",
      "  result = self._query(query)\n",
      "/Users/manghat/anaconda3/lib/python3.6/site-packages/pymysql/cursors.py:170: Warning: (1260, 'Row 2933 was cut by GROUP_CONCAT()')\n",
      "  result = self._query(query)\n",
      "/Users/manghat/anaconda3/lib/python3.6/site-packages/pymysql/cursors.py:170: Warning: (1260, 'Row 3036 was cut by GROUP_CONCAT()')\n",
      "  result = self._query(query)\n",
      "/Users/manghat/anaconda3/lib/python3.6/site-packages/pymysql/cursors.py:170: Warning: (1260, 'Row 3139 was cut by GROUP_CONCAT()')\n",
      "  result = self._query(query)\n",
      "/Users/manghat/anaconda3/lib/python3.6/site-packages/pymysql/cursors.py:170: Warning: (1260, 'Row 3242 was cut by GROUP_CONCAT()')\n",
      "  result = self._query(query)\n",
      "/Users/manghat/anaconda3/lib/python3.6/site-packages/pymysql/cursors.py:170: Warning: (1260, 'Row 3345 was cut by GROUP_CONCAT()')\n",
      "  result = self._query(query)\n",
      "/Users/manghat/anaconda3/lib/python3.6/site-packages/pymysql/cursors.py:170: Warning: (1260, 'Row 3448 was cut by GROUP_CONCAT()')\n",
      "  result = self._query(query)\n",
      "/Users/manghat/anaconda3/lib/python3.6/site-packages/pymysql/cursors.py:170: Warning: (1260, 'Row 3551 was cut by GROUP_CONCAT()')\n",
      "  result = self._query(query)\n",
      "/Users/manghat/anaconda3/lib/python3.6/site-packages/pymysql/cursors.py:170: Warning: (1260, 'Row 3654 was cut by GROUP_CONCAT()')\n",
      "  result = self._query(query)\n",
      "/Users/manghat/anaconda3/lib/python3.6/site-packages/pymysql/cursors.py:170: Warning: (1260, 'Row 3757 was cut by GROUP_CONCAT()')\n",
      "  result = self._query(query)\n",
      "/Users/manghat/anaconda3/lib/python3.6/site-packages/pymysql/cursors.py:170: Warning: (1260, 'Row 3860 was cut by GROUP_CONCAT()')\n",
      "  result = self._query(query)\n",
      "/Users/manghat/anaconda3/lib/python3.6/site-packages/pymysql/cursors.py:170: Warning: (1260, 'Row 3963 was cut by GROUP_CONCAT()')\n",
      "  result = self._query(query)\n",
      "/Users/manghat/anaconda3/lib/python3.6/site-packages/pymysql/cursors.py:170: Warning: (1260, 'Row 4066 was cut by GROUP_CONCAT()')\n",
      "  result = self._query(query)\n",
      "/Users/manghat/anaconda3/lib/python3.6/site-packages/pymysql/cursors.py:170: Warning: (1260, 'Row 4169 was cut by GROUP_CONCAT()')\n",
      "  result = self._query(query)\n",
      "/Users/manghat/anaconda3/lib/python3.6/site-packages/pymysql/cursors.py:170: Warning: (1260, 'Row 4272 was cut by GROUP_CONCAT()')\n",
      "  result = self._query(query)\n",
      "/Users/manghat/anaconda3/lib/python3.6/site-packages/pymysql/cursors.py:170: Warning: (1260, 'Row 4375 was cut by GROUP_CONCAT()')\n",
      "  result = self._query(query)\n",
      "/Users/manghat/anaconda3/lib/python3.6/site-packages/pymysql/cursors.py:170: Warning: (1260, 'Row 4478 was cut by GROUP_CONCAT()')\n",
      "  result = self._query(query)\n",
      "/Users/manghat/anaconda3/lib/python3.6/site-packages/pymysql/cursors.py:170: Warning: (1260, 'Row 4581 was cut by GROUP_CONCAT()')\n",
      "  result = self._query(query)\n",
      "/Users/manghat/anaconda3/lib/python3.6/site-packages/pymysql/cursors.py:170: Warning: (1260, 'Row 4684 was cut by GROUP_CONCAT()')\n",
      "  result = self._query(query)\n",
      "/Users/manghat/anaconda3/lib/python3.6/site-packages/pymysql/cursors.py:170: Warning: (1260, 'Row 4885 was cut by GROUP_CONCAT()')\n",
      "  result = self._query(query)\n",
      "/Users/manghat/anaconda3/lib/python3.6/site-packages/pymysql/cursors.py:170: Warning: (1260, 'Row 4988 was cut by GROUP_CONCAT()')\n",
      "  result = self._query(query)\n",
      "/Users/manghat/anaconda3/lib/python3.6/site-packages/pymysql/cursors.py:170: Warning: (1260, 'Row 5091 was cut by GROUP_CONCAT()')\n",
      "  result = self._query(query)\n",
      "/Users/manghat/anaconda3/lib/python3.6/site-packages/pymysql/cursors.py:170: Warning: (1260, 'Row 5194 was cut by GROUP_CONCAT()')\n",
      "  result = self._query(query)\n",
      "/Users/manghat/anaconda3/lib/python3.6/site-packages/pymysql/cursors.py:170: Warning: (1260, 'Row 5297 was cut by GROUP_CONCAT()')\n",
      "  result = self._query(query)\n",
      "/Users/manghat/anaconda3/lib/python3.6/site-packages/pymysql/cursors.py:170: Warning: (1260, 'Row 5400 was cut by GROUP_CONCAT()')\n",
      "  result = self._query(query)\n",
      "/Users/manghat/anaconda3/lib/python3.6/site-packages/pymysql/cursors.py:170: Warning: (1260, 'Row 5503 was cut by GROUP_CONCAT()')\n",
      "  result = self._query(query)\n",
      "/Users/manghat/anaconda3/lib/python3.6/site-packages/pymysql/cursors.py:170: Warning: (1260, 'Row 5708 was cut by GROUP_CONCAT()')\n",
      "  result = self._query(query)\n",
      "/Users/manghat/anaconda3/lib/python3.6/site-packages/pymysql/cursors.py:170: Warning: (1260, 'Row 5811 was cut by GROUP_CONCAT()')\n",
      "  result = self._query(query)\n",
      "/Users/manghat/anaconda3/lib/python3.6/site-packages/pymysql/cursors.py:170: Warning: (1260, 'Row 5914 was cut by GROUP_CONCAT()')\n",
      "  result = self._query(query)\n",
      "/Users/manghat/anaconda3/lib/python3.6/site-packages/pymysql/cursors.py:170: Warning: (1260, 'Row 6017 was cut by GROUP_CONCAT()')\n",
      "  result = self._query(query)\n",
      "/Users/manghat/anaconda3/lib/python3.6/site-packages/pymysql/cursors.py:170: Warning: (1260, 'Row 6120 was cut by GROUP_CONCAT()')\n",
      "  result = self._query(query)\n",
      "/Users/manghat/anaconda3/lib/python3.6/site-packages/pymysql/cursors.py:170: Warning: (1260, 'Row 6223 was cut by GROUP_CONCAT()')\n",
      "  result = self._query(query)\n",
      "/Users/manghat/anaconda3/lib/python3.6/site-packages/pymysql/cursors.py:170: Warning: (1260, 'Row 6326 was cut by GROUP_CONCAT()')\n",
      "  result = self._query(query)\n",
      "/Users/manghat/anaconda3/lib/python3.6/site-packages/pymysql/cursors.py:170: Warning: (1260, 'Row 6429 was cut by GROUP_CONCAT()')\n",
      "  result = self._query(query)\n",
      "/Users/manghat/anaconda3/lib/python3.6/site-packages/pymysql/cursors.py:170: Warning: (1260, 'Row 6714 was cut by GROUP_CONCAT()')\n",
      "  result = self._query(query)\n",
      "/Users/manghat/anaconda3/lib/python3.6/site-packages/pymysql/cursors.py:170: Warning: (1260, 'Row 6817 was cut by GROUP_CONCAT()')\n",
      "  result = self._query(query)\n",
      "/Users/manghat/anaconda3/lib/python3.6/site-packages/pymysql/cursors.py:170: Warning: (1260, 'Row 6920 was cut by GROUP_CONCAT()')\n",
      "  result = self._query(query)\n",
      "/Users/manghat/anaconda3/lib/python3.6/site-packages/pymysql/cursors.py:170: Warning: (1260, 'Row 7023 was cut by GROUP_CONCAT()')\n",
      "  result = self._query(query)\n",
      "/Users/manghat/anaconda3/lib/python3.6/site-packages/pymysql/cursors.py:170: Warning: (1260, 'Row 7126 was cut by GROUP_CONCAT()')\n",
      "  result = self._query(query)\n",
      "/Users/manghat/anaconda3/lib/python3.6/site-packages/pymysql/cursors.py:170: Warning: (1260, 'Row 7229 was cut by GROUP_CONCAT()')\n",
      "  result = self._query(query)\n",
      "/Users/manghat/anaconda3/lib/python3.6/site-packages/pymysql/cursors.py:170: Warning: (1260, 'Row 7332 was cut by GROUP_CONCAT()')\n",
      "  result = self._query(query)\n",
      "/Users/manghat/anaconda3/lib/python3.6/site-packages/pymysql/cursors.py:170: Warning: (1260, 'Row 8004 was cut by GROUP_CONCAT()')\n",
      "  result = self._query(query)\n",
      "/Users/manghat/anaconda3/lib/python3.6/site-packages/pymysql/cursors.py:170: Warning: (1260, 'Row 8107 was cut by GROUP_CONCAT()')\n",
      "  result = self._query(query)\n",
      "/Users/manghat/anaconda3/lib/python3.6/site-packages/pymysql/cursors.py:170: Warning: (1260, 'Row 8210 was cut by GROUP_CONCAT()')\n",
      "  result = self._query(query)\n"
     ]
    }
   ],
   "source": [
    "data_Z = db_config.connect('educat', q.format('37'));\n",
    "\n",
    "data_Z2 = db_config.connect('educat', q.format('Z'));\n",
    "\n",
    "data_latest = data_Z.append(data_Z2, ignore_index=True)\n",
    "\n",
    "data_latest['pan'] = data_latest.pan.apply(to_set)\n",
    "\n",
    "data_latest['len'] = data_latest.pan.apply(len)\n",
    "\n",
    "cohorts = data_latest[data_latest.len > 10].pan"
   ]
  },
  {
   "cell_type": "markdown",
   "metadata": {},
   "source": [
    "Contains the list of cohorts that are there in school and class combinations that are in the same cohorts"
   ]
  },
  {
   "cell_type": "code",
   "execution_count": null,
   "metadata": {},
   "outputs": [],
   "source": [
    "cohorts"
   ]
  },
  {
   "cell_type": "code",
   "execution_count": 23,
   "metadata": {},
   "outputs": [],
   "source": [
    "chrt = pd.DataFrame()"
   ]
  },
  {
   "cell_type": "code",
   "execution_count": 25,
   "metadata": {},
   "outputs": [
    {
     "name": "stderr",
     "output_type": "stream",
     "text": [
      "/Users/manghat/anaconda3/lib/python3.6/site-packages/ipykernel_launcher.py:6: SettingWithCopyWarning: \n",
      "A value is trying to be set on a copy of a slice from a DataFrame\n",
      "\n",
      "See the caveats in the documentation: http://pandas.pydata.org/pandas-docs/stable/indexing.html#indexing-view-versus-copy\n",
      "  \n",
      "/Users/manghat/anaconda3/lib/python3.6/site-packages/pandas/core/frame.py:6201: FutureWarning: Sorting because non-concatenation axis is not aligned. A future version\n",
      "of pandas will change to not sort by default.\n",
      "\n",
      "To accept the future behavior, pass 'sort=True'.\n",
      "\n",
      "To retain the current behavior and silence the warning, pass sort=False\n",
      "\n",
      "  sort=sort)\n"
     ]
    }
   ],
   "source": [
    "for cohort in cohorts:\n",
    "    diff = lambda x :  len(x & cohort)  / len(x | cohort) #+ (x + cohort)\n",
    "    temp = data\n",
    "    temp['diff'] = temp.pan.apply(diff)\n",
    "    temp = temp[temp['diff'] > 0.5]\n",
    "    temp.sort_values('diff', inplace=True, ascending=True)\n",
    "    if len(temp):   \n",
    "        chrt.append(temp)\n",
    "        chrt['ref'] = str(cohort)"
   ]
  },
  {
   "cell_type": "code",
   "execution_count": 26,
   "metadata": {},
   "outputs": [
    {
     "data": {
      "text/html": [
       "<div>\n",
       "<style scoped>\n",
       "    .dataframe tbody tr th:only-of-type {\n",
       "        vertical-align: middle;\n",
       "    }\n",
       "\n",
       "    .dataframe tbody tr th {\n",
       "        vertical-align: top;\n",
       "    }\n",
       "\n",
       "    .dataframe thead th {\n",
       "        text-align: right;\n",
       "    }\n",
       "</style>\n",
       "<table border=\"1\" class=\"dataframe\">\n",
       "  <thead>\n",
       "    <tr style=\"text-align: right;\">\n",
       "      <th></th>\n",
       "      <th>school_code</th>\n",
       "      <th>class</th>\n",
       "      <th>test_edition</th>\n",
       "      <th>pan</th>\n",
       "      <th>diff</th>\n",
       "    </tr>\n",
       "  </thead>\n",
       "  <tbody>\n",
       "  </tbody>\n",
       "</table>\n",
       "</div>"
      ],
      "text/plain": [
       "Empty DataFrame\n",
       "Columns: [school_code, class, test_edition, pan, diff]\n",
       "Index: []"
      ]
     },
     "execution_count": 26,
     "metadata": {},
     "output_type": "execute_result"
    }
   ],
   "source": [
    "temp.sort_values('diff', ascending=True)"
   ]
  },
  {
   "cell_type": "code",
   "execution_count": null,
   "metadata": {},
   "outputs": [],
   "source": []
  },
  {
   "cell_type": "code",
   "execution_count": null,
   "metadata": {},
   "outputs": [],
   "source": []
  },
  {
   "cell_type": "code",
   "execution_count": null,
   "metadata": {},
   "outputs": [],
   "source": []
  },
  {
   "cell_type": "code",
   "execution_count": null,
   "metadata": {},
   "outputs": [],
   "source": []
  },
  {
   "cell_type": "code",
   "execution_count": null,
   "metadata": {},
   "outputs": [],
   "source": []
  },
  {
   "cell_type": "code",
   "execution_count": null,
   "metadata": {},
   "outputs": [],
   "source": []
  },
  {
   "cell_type": "code",
   "execution_count": null,
   "metadata": {},
   "outputs": [],
   "source": []
  },
  {
   "cell_type": "code",
   "execution_count": null,
   "metadata": {},
   "outputs": [],
   "source": []
  },
  {
   "cell_type": "code",
   "execution_count": null,
   "metadata": {},
   "outputs": [],
   "source": []
  },
  {
   "cell_type": "code",
   "execution_count": null,
   "metadata": {},
   "outputs": [],
   "source": []
  },
  {
   "cell_type": "code",
   "execution_count": null,
   "metadata": {},
   "outputs": [],
   "source": []
  },
  {
   "cell_type": "code",
   "execution_count": null,
   "metadata": {},
   "outputs": [],
   "source": []
  },
  {
   "cell_type": "code",
   "execution_count": null,
   "metadata": {},
   "outputs": [],
   "source": []
  },
  {
   "cell_type": "code",
   "execution_count": null,
   "metadata": {},
   "outputs": [],
   "source": []
  },
  {
   "cell_type": "code",
   "execution_count": null,
   "metadata": {},
   "outputs": [],
   "source": [
    "! pip install pandas-sets"
   ]
  },
  {
   "cell_type": "code",
   "execution_count": null,
   "metadata": {},
   "outputs": [],
   "source": []
  }
 ],
 "metadata": {
  "kernelspec": {
   "display_name": "Python 3",
   "language": "python",
   "name": "python3"
  },
  "language_info": {
   "codemirror_mode": {
    "name": "ipython",
    "version": 3
   },
   "file_extension": ".py",
   "mimetype": "text/x-python",
   "name": "python",
   "nbconvert_exporter": "python",
   "pygments_lexer": "ipython3",
   "version": "3.6.6"
  },
  "varInspector": {
   "cols": {
    "lenName": 16,
    "lenType": 16,
    "lenVar": 40
   },
   "kernels_config": {
    "python": {
     "delete_cmd_postfix": "",
     "delete_cmd_prefix": "del ",
     "library": "var_list.py",
     "varRefreshCmd": "print(var_dic_list())"
    },
    "r": {
     "delete_cmd_postfix": ") ",
     "delete_cmd_prefix": "rm(",
     "library": "var_list.r",
     "varRefreshCmd": "cat(var_dic_list()) "
    }
   },
   "types_to_exclude": [
    "module",
    "function",
    "builtin_function_or_method",
    "instance",
    "_Feature"
   ],
   "window_display": false
  }
 },
 "nbformat": 4,
 "nbformat_minor": 2
}
