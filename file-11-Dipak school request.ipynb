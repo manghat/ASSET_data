{
 "cells": [
  {
   "cell_type": "code",
   "execution_count": 135,
   "metadata": {},
   "outputs": [],
   "source": [
    "import pandas as pd\n",
    "import plotly_express as px"
   ]
  },
  {
   "cell_type": "markdown",
   "metadata": {},
   "source": [
    "Reading files and setup"
   ]
  },
  {
   "cell_type": "code",
   "execution_count": 136,
   "metadata": {
    "code_folding": [
     0
    ]
   },
   "outputs": [],
   "source": [
    "dtype = {\n",
    " 'school_code' : int,\n",
    " 'school_name' : str,\n",
    " 'city' : str,\n",
    " 'pincode' : str,\n",
    " 'state' : str,\n",
    " 'country' : str,\n",
    " 'season' : str,\n",
    " 'year' : str,\n",
    " 'class': np.uint8,\n",
    " 'studentCount': int,\n",
    " 'subject' : str,\n",
    " 'papercode': str,\n",
    " 'skill_name' : str,\n",
    " 'sub_skill_name' : str,\n",
    " 'subSkillLevelAccuracy': float,\n",
    " 'subSkillLevelQuestionCount' : np.uint32,\n",
    " 'skillLevelAccuracy' : float,\n",
    " 'skillLevelQuestionCount' : np.uint32,\n",
    " 'totalAccuracy' : float,\n",
    " 'totalQuestionCount': np.uint32,\n",
    " 'national_studentCount': int,\n",
    " 'national_subSkillLevelAccuracy' : float,\n",
    " 'totalStandardDeviation' : float,\n",
    " 'national_skillLevelAccuracy' : float,\n",
    " 'national_studentCount' : int,\n",
    " 'national_totalAccuracy' : float,\n",
    " 'national_totalStandardDeviation' : float,\n",
    " 'national_skillLevelStandardDeviation': float}\n",
    "file_path = '../../../Desktop/EI/From others/Dipak/Parent Connect/data2'\n",
    "df = pd.read_csv(file_path+'/final_asset_school_accuracy.csv', dtype = dtype)"
   ]
  },
  {
   "cell_type": "code",
   "execution_count": 137,
   "metadata": {
    "code_folding": []
   },
   "outputs": [],
   "source": [
    "df['total_delta'] = df['totalAccuracy'] - df['national_totalAccuracy']\n",
    "df['skill_delta'] = df['skillLevelAccuracy'] - df['national_skillLevelAccuracy']\n",
    "df['subSkill_delta'] = df['subSkillLevelAccuracy'] - df['national_subSkillLevelAccuracy']"
   ]
  },
  {
   "cell_type": "markdown",
   "metadata": {},
   "source": [
    "Mapping to boards"
   ]
  },
  {
   "cell_type": "code",
   "execution_count": 138,
   "metadata": {},
   "outputs": [
    {
     "name": "stdout",
     "output_type": "stream",
     "text": [
      "<class 'pandas.core.frame.DataFrame'>\n",
      "RangeIndex: 2366684 entries, 0 to 2366683\n",
      "Data columns (total 33 columns):\n",
      "school_code                                int64\n",
      "school_name                                object\n",
      "city                                       object\n",
      "pincode                                    object\n",
      "state                                      object\n",
      "country                                    object\n",
      "season                                     object\n",
      "year                                       object\n",
      "class                                      uint8\n",
      "studentCount                               int64\n",
      "subject                                    object\n",
      "papercode                                  object\n",
      "skill_name                                 object\n",
      "sub_skill_name                             object\n",
      "subSkillLevelAccuracy                      float64\n",
      "subSkillLevelStandardDeviation             float64\n",
      "subSkillLevelQuestionCount                 uint32\n",
      "skillLevelAccuracy                         float64\n",
      "skillLevelStandardDeviation                float64\n",
      "skillLevelQuestionCount                    uint32\n",
      "totalAccuracy                              float64\n",
      "totalStandardDeviation                     float64\n",
      "totalQuestionCount                         uint32\n",
      "national_studentCount                      int64\n",
      "national_subSkillLevelAccuracy             float64\n",
      "national_subSkillLevelStandardDeviation    float64\n",
      "national_skillLevelAccuracy                float64\n",
      "national_skillLevelStandardDeviation       float64\n",
      "national_totalAccuracy                     float64\n",
      "national_totalStandardDeviation            float64\n",
      "total_delta                                float64\n",
      "skill_delta                                float64\n",
      "subSkill_delta                             float64\n",
      "dtypes: float64(15), int64(3), object(11), uint32(3), uint8(1)\n",
      "memory usage: 553.0+ MB\n"
     ]
    }
   ],
   "source": [
    "df.info()"
   ]
  },
  {
   "cell_type": "code",
   "execution_count": null,
   "metadata": {},
   "outputs": [],
   "source": [
    "df_school_board = pd.read_csv('https://docs.google.com/spreadsheets/d/e/2PACX-1vR_AO8CCe9wrCqYyXAKutE4NceqSuTZuWQdaZoxhLwPOBQYAXOIEZzXL1xsYMWX3uzhi9rtbNWk67PW/pub?gid=288331316&single=true&output=csv')\n",
    "df = pd.merge(df, df_school_board, on='school_code', how = 'left')"
   ]
  },
  {
   "cell_type": "markdown",
   "metadata": {},
   "source": [
    "Choosing the school to analyse"
   ]
  },
  {
   "cell_type": "code",
   "execution_count": null,
   "metadata": {},
   "outputs": [],
   "source": [
    "school_code = 173428"
   ]
  },
  {
   "cell_type": "code",
   "execution_count": null,
   "metadata": {},
   "outputs": [],
   "source": [
    "df_school = df[df['school_code'] == school_code]"
   ]
  },
  {
   "cell_type": "code",
   "execution_count": null,
   "metadata": {},
   "outputs": [],
   "source": [
    "school_name = df_school.school_name.value_counts().index[0]\n",
    "school_board = df_school.primary_board.value_counts().index[0]\n",
    "school_city = df_school.city.value_counts().index[0]"
   ]
  },
  {
   "cell_type": "code",
   "execution_count": null,
   "metadata": {},
   "outputs": [],
   "source": [
    "df_school.drop_duplicates('papercode').season.value_counts()"
   ]
  },
  {
   "cell_type": "code",
   "execution_count": null,
   "metadata": {},
   "outputs": [],
   "source": [
    "# df_school.sort_values(['class','year'])\n",
    "# df_school.set_index(['subject', 'class', 'year', 'season'])"
   ]
  },
  {
   "cell_type": "markdown",
   "metadata": {},
   "source": [
    "# Looking at overall perfromance across time"
   ]
  },
  {
   "cell_type": "code",
   "execution_count": null,
   "metadata": {},
   "outputs": [],
   "source": [
    "px.line(df_school.sort_values('year').drop_duplicates(['papercode']), \n",
    "       x = 'year', \n",
    "       y = 'total_delta', \n",
    "        color='subject', \n",
    "       facet_row='class',\n",
    "       facet_col='subject', \n",
    "       height = 2000,\n",
    "       width = 2000,\n",
    "       labels = {'year'},\n",
    "       range_x = [2006, 2019],\n",
    "      title = 'School: %s Scores across subjects and grades represented as a difference from National Average'%school_name)"
   ]
  },
  {
   "cell_type": "code",
   "execution_count": null,
   "metadata": {},
   "outputs": [],
   "source": [
    "px.scatter(df_school.sort_values('year').drop_duplicates(['papercode']), \n",
    "        x = 'year', \n",
    "        y = 'total_delta', \n",
    "        color='subject',\n",
    "        facet_row= 'class', \n",
    "       facet_col= 'subject', \n",
    "           size = 'studentCount',\n",
    "           size_max= 10,\n",
    "           trendline=\"lowess\",\n",
    "        height=2000,\n",
    "        width=2000,\n",
    "        title = 'Overall performance in subjects across the years for different grades (%s-%s-%s)'%(school_name, school_city, school_board)  )"
   ]
  },
  {
   "cell_type": "markdown",
   "metadata": {},
   "source": [
    "# Subject wise performance"
   ]
  },
  {
   "cell_type": "code",
   "execution_count": null,
   "metadata": {
    "code_folding": [
     1
    ]
   },
   "outputs": [],
   "source": [
    "sub = 'Maths'\n",
    "px.scatter(df_school[df_school['subject']==sub].drop_duplicates(['papercode','skill_name']), \n",
    "        x = 'year', \n",
    "        y = 'skill_delta', \n",
    "        color='skill_name',\n",
    "        facet_row= 'class', \n",
    "       facet_col= 'skill_name', \n",
    "           size = 'studentCount',\n",
    "           size_max= 10,\n",
    "           trendline=\"lowess\",\n",
    "        height=1500,\n",
    "        width=2000,\n",
    "        title = 'Core Skills in %s (%s-%s-%s)'%(sub,school_name, school_city, school_board) )"
   ]
  },
  {
   "cell_type": "code",
   "execution_count": null,
   "metadata": {
    "code_folding": [
     1
    ]
   },
   "outputs": [],
   "source": [
    "sub = 'English'\n",
    "px.scatter(df_school[df_school['subject']==sub].drop_duplicates(['papercode','skill_name']), \n",
    "        x = 'year', \n",
    "        y = 'skill_delta', \n",
    "        color='skill_name',\n",
    "        facet_row= 'class', \n",
    "       facet_col= 'skill_name', \n",
    "           size = 'studentCount',\n",
    "           size_max= 10,\n",
    "           trendline=\"lowess\",\n",
    "        height=1500,\n",
    "        width=2000,\n",
    "        title = 'Core Skills in %s (%s-%s-%s)'%(sub,school_name, school_city, school_board) )"
   ]
  },
  {
   "cell_type": "code",
   "execution_count": null,
   "metadata": {
    "code_folding": [
     1
    ]
   },
   "outputs": [],
   "source": [
    "sub = 'Science'\n",
    "px.scatter(df_school[df_school['subject']==sub].drop_duplicates(['papercode','skill_name']), \n",
    "        x = 'year', \n",
    "        y = 'skill_delta', \n",
    "        color='skill_name',\n",
    "        facet_row= 'class', \n",
    "       facet_col= 'skill_name', \n",
    "           size = 'studentCount',\n",
    "           size_max= 10,\n",
    "           trendline=\"lowess\",\n",
    "        height=1500,\n",
    "        width=2000,\n",
    "        title = 'Core Skills in %s (%s-%s-%s)'%(sub,school_name, school_city, school_board) )"
   ]
  },
  {
   "cell_type": "code",
   "execution_count": null,
   "metadata": {},
   "outputs": [],
   "source": []
  }
 ],
 "metadata": {
  "kernelspec": {
   "display_name": "Python 3",
   "language": "python",
   "name": "python3"
  },
  "language_info": {
   "codemirror_mode": {
    "name": "ipython",
    "version": 3
   },
   "file_extension": ".py",
   "mimetype": "text/x-python",
   "name": "python",
   "nbconvert_exporter": "python",
   "pygments_lexer": "ipython3",
   "version": "3.6.6"
  },
  "varInspector": {
   "cols": {
    "lenName": 16,
    "lenType": 16,
    "lenVar": 40
   },
   "kernels_config": {
    "python": {
     "delete_cmd_postfix": "",
     "delete_cmd_prefix": "del ",
     "library": "var_list.py",
     "varRefreshCmd": "print(var_dic_list())"
    },
    "r": {
     "delete_cmd_postfix": ") ",
     "delete_cmd_prefix": "rm(",
     "library": "var_list.r",
     "varRefreshCmd": "cat(var_dic_list()) "
    }
   },
   "types_to_exclude": [
    "module",
    "function",
    "builtin_function_or_method",
    "instance",
    "_Feature"
   ],
   "window_display": false
  }
 },
 "nbformat": 4,
 "nbformat_minor": 2
}
