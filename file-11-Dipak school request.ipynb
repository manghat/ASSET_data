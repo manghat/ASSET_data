{
 "cells": [
  {
   "cell_type": "code",
   "execution_count": 1,
   "metadata": {},
   "outputs": [],
   "source": [
    "import pandas as pd\n",
    "import plotly_express as px"
   ]
  },
  {
   "cell_type": "markdown",
   "metadata": {},
   "source": [
    "Reading files and setup"
   ]
  },
  {
   "cell_type": "code",
   "execution_count": 40,
   "metadata": {
    "code_folding": [
     0
    ]
   },
   "outputs": [],
   "source": [
    "dtype = {\n",
    " 'school_code' : int,\n",
    " 'school_name' : str,\n",
    " 'city' : str,\n",
    " 'pincode' : str,\n",
    " 'state' : str,\n",
    " 'country' : str,\n",
    " 'season' : str,\n",
    " 'year' : str,\n",
    " 'class': np.uint8,\n",
    " 'studentCount': int,\n",
    " 'subject' : str,\n",
    " 'papercode': str,\n",
    " 'skill_name' : str,\n",
    " 'sub_skill_name' : str,\n",
    " 'subSkillLevelAccuracy': float,\n",
    " 'subSkillLevelQuestionCount' : np.uint32,\n",
    " 'skillLevelAccuracy' : float,\n",
    " 'skillLevelQuestionCount' : np.uint32,\n",
    " 'totalAccuracy' : float,\n",
    " 'totalQuestionCount': np.uint32,\n",
    " 'national_studentCount': int,\n",
    " 'national_subSkillLevelAccuracy' : float,\n",
    " 'totalStandardDeviation' : float,\n",
    " 'national_skillLevelAccuracy' : float,\n",
    " 'national_studentCount' : int,\n",
    " 'national_totalAccuracy' : float,\n",
    " 'national_totalStandardDeviation' : float,\n",
    " 'national_skillLevelStandardDeviation': float}\n",
    "file_path = '../../../Desktop/EI/From others/Dipak/Parent Connect/data2'\n",
    "df = pd.read_csv(file_path+'/final_asset_school_accuracy.csv', dtype = dtype)"
   ]
  },
  {
   "cell_type": "code",
   "execution_count": 41,
   "metadata": {
    "code_folding": []
   },
   "outputs": [],
   "source": [
    "df['total_delta'] = df['totalAccuracy'] - df['national_totalAccuracy']\n",
    "df['skill_delta'] = df['skillLevelAccuracy'] - df['national_skillLevelAccuracy']\n",
    "df['subSkill_delta'] = df['subSkillLevelAccuracy'] - df['national_subSkillLevelAccuracy']"
   ]
  },
  {
   "cell_type": "markdown",
   "metadata": {},
   "source": [
    "Mapping to boards"
   ]
  },
  {
   "cell_type": "code",
   "execution_count": 42,
   "metadata": {
    "collapsed": true
   },
   "outputs": [
    {
     "name": "stdout",
     "output_type": "stream",
     "text": [
      "<class 'pandas.core.frame.DataFrame'>\n",
      "RangeIndex: 2366684 entries, 0 to 2366683\n",
      "Data columns (total 33 columns):\n",
      "school_code                                int64\n",
      "school_name                                object\n",
      "city                                       object\n",
      "pincode                                    object\n",
      "state                                      object\n",
      "country                                    object\n",
      "season                                     object\n",
      "year                                       object\n",
      "class                                      uint8\n",
      "studentCount                               int64\n",
      "subject                                    object\n",
      "papercode                                  object\n",
      "skill_name                                 object\n",
      "sub_skill_name                             object\n",
      "subSkillLevelAccuracy                      float64\n",
      "subSkillLevelStandardDeviation             float64\n",
      "subSkillLevelQuestionCount                 uint32\n",
      "skillLevelAccuracy                         float64\n",
      "skillLevelStandardDeviation                float64\n",
      "skillLevelQuestionCount                    uint32\n",
      "totalAccuracy                              float64\n",
      "totalStandardDeviation                     float64\n",
      "totalQuestionCount                         uint32\n",
      "national_studentCount                      int64\n",
      "national_subSkillLevelAccuracy             float64\n",
      "national_subSkillLevelStandardDeviation    float64\n",
      "national_skillLevelAccuracy                float64\n",
      "national_skillLevelStandardDeviation       float64\n",
      "national_totalAccuracy                     float64\n",
      "national_totalStandardDeviation            float64\n",
      "total_delta                                float64\n",
      "skill_delta                                float64\n",
      "subSkill_delta                             float64\n",
      "dtypes: float64(15), int64(3), object(11), uint32(3), uint8(1)\n",
      "memory usage: 553.0+ MB\n"
     ]
    }
   ],
   "source": [
    "df.info()"
   ]
  },
  {
   "cell_type": "code",
   "execution_count": 43,
   "metadata": {},
   "outputs": [],
   "source": [
    "df_school_board = pd.read_csv('https://docs.google.com/spreadsheets/d/e/2PACX-1vR_AO8CCe9wrCqYyXAKutE4NceqSuTZuWQdaZoxhLwPOBQYAXOIEZzXL1xsYMWX3uzhi9rtbNWk67PW/pub?gid=288331316&single=true&output=csv')\n",
    "df = pd.merge(df, df_school_board, on='school_code', how = 'left')"
   ]
  },
  {
   "cell_type": "markdown",
   "metadata": {},
   "source": [
    "Choosing the school to analyse"
   ]
  },
  {
   "cell_type": "code",
   "execution_count": 44,
   "metadata": {},
   "outputs": [],
   "source": [
    "school_code = 173428"
   ]
  },
  {
   "cell_type": "code",
   "execution_count": 45,
   "metadata": {},
   "outputs": [],
   "source": [
    "df_school = df[df['school_code'] == school_code]"
   ]
  },
  {
   "cell_type": "code",
   "execution_count": 125,
   "metadata": {},
   "outputs": [],
   "source": [
    "school_name = df_school.school_name.value_counts().index[0]\n",
    "school_board = df_school.primary_board.value_counts().index[0]\n",
    "school_city = df_school.city.value_counts().index[0]"
   ]
  },
  {
   "cell_type": "code",
   "execution_count": 122,
   "metadata": {},
   "outputs": [
    {
     "data": {
      "text/plain": [
       "Winter    88\n",
       "Summer    52\n",
       "Name: season, dtype: int64"
      ]
     },
     "execution_count": 122,
     "metadata": {},
     "output_type": "execute_result"
    }
   ],
   "source": [
    "df_school.drop_duplicates('papercode').season.value_counts()"
   ]
  },
  {
   "cell_type": "code",
   "execution_count": 123,
   "metadata": {},
   "outputs": [],
   "source": [
    "# df_school.sort_values(['class','year'])\n",
    "# df_school.set_index(['subject', 'class', 'year', 'season'])"
   ]
  },
  {
   "cell_type": "markdown",
   "metadata": {},
   "source": [
    "# Looking at overall perfromance across time"
   ]
  },
  {
   "cell_type": "code",
   "execution_count": 66,
   "metadata": {
    "collapsed": true
   },
   "outputs": [
    {
     "data": {
      "application/vnd.plotly.v1+json": {
       "config": {
        "linkText": "Export to plot.ly",
        "plotlyServerURL": "https://plot.ly",
        "showLink": false
       },
       "data": [
        {
         "hovertemplate": "class=3<br>subject=English<br>subject=English<br>year=%{x}<br>total_delta=%{y}<extra></extra>",
         "legendgroup": "subject=English",
         "line": {
          "color": "#636efa",
          "dash": "solid"
         },
         "mode": "lines",
         "name": "subject=English",
         "showlegend": true,
         "type": "scatter",
         "uid": "7b38c3ba-1155-41fd-b21b-5505fe60f97a",
         "x": [
          "2007",
          "2008",
          "2014",
          "2016",
          "2018"
         ],
         "xaxis": "x",
         "y": [
          19.879999999999995,
          11,
          9.43,
          8.07,
          10.910000000000004
         ],
         "yaxis": "y"
        },
        {
         "hovertemplate": "class=3<br>subject=Maths<br>subject=Maths<br>year=%{x}<br>total_delta=%{y}<extra></extra>",
         "legendgroup": "subject=Maths",
         "line": {
          "color": "#EF553B",
          "dash": "solid"
         },
         "mode": "lines",
         "name": "subject=Maths",
         "showlegend": true,
         "type": "scatter",
         "uid": "5c3cd354-7d92-4534-bbc1-907e7eddb4f2",
         "x": [
          "2007",
          "2008",
          "2009",
          "2014",
          "2016",
          "2018"
         ],
         "xaxis": "x2",
         "y": [
          5.719999999999999,
          -2.6799999999999997,
          2.6599999999999966,
          2.280000000000001,
          9.049999999999997,
          6.780000000000001
         ],
         "yaxis": "y"
        },
        {
         "hovertemplate": "class=3<br>subject=Science<br>subject=Science<br>year=%{x}<br>total_delta=%{y}<extra></extra>",
         "legendgroup": "subject=Science",
         "line": {
          "color": "#00cc96",
          "dash": "solid"
         },
         "mode": "lines",
         "name": "subject=Science",
         "showlegend": true,
         "type": "scatter",
         "uid": "e4678ad7-1974-4db4-8b94-8f828fa6e69c",
         "x": [
          "2007",
          "2008",
          "2009",
          "2014",
          "2016",
          "2018"
         ],
         "xaxis": "x3",
         "y": [
          4.359999999999999,
          4.590000000000003,
          4.159999999999997,
          -2.1999999999999957,
          4.980000000000004,
          3.229999999999997
         ],
         "yaxis": "y"
        },
        {
         "hovertemplate": "class=4<br>subject=English<br>subject=English<br>year=%{x}<br>total_delta=%{y}<extra></extra>",
         "legendgroup": "subject=English",
         "line": {
          "color": "#636efa",
          "dash": "solid"
         },
         "mode": "lines",
         "name": "subject=English",
         "showlegend": false,
         "type": "scatter",
         "uid": "1de8b962-3f4b-4a58-9ec1-250415f535a4",
         "x": [
          "2007",
          "2008",
          "2014",
          "2016",
          "2018"
         ],
         "xaxis": "x",
         "y": [
          3.6999999999999957,
          11.64,
          10.469999999999999,
          9.100000000000001,
          18.85000000000001
         ],
         "yaxis": "y2"
        },
        {
         "hovertemplate": "class=4<br>subject=Maths<br>subject=Maths<br>year=%{x}<br>total_delta=%{y}<extra></extra>",
         "legendgroup": "subject=Maths",
         "line": {
          "color": "#EF553B",
          "dash": "solid"
         },
         "mode": "lines",
         "name": "subject=Maths",
         "showlegend": false,
         "type": "scatter",
         "uid": "28aebf57-0268-4db6-a02f-52aec072d043",
         "x": [
          "2007",
          "2008",
          "2009",
          "2014",
          "2016",
          "2018"
         ],
         "xaxis": "x2",
         "y": [
          3.759999999999998,
          -0.5,
          3.9399999999999977,
          -0.5200000000000031,
          -0.9500000000000028,
          3.190000000000005
         ],
         "yaxis": "y2"
        },
        {
         "hovertemplate": "class=4<br>subject=Science<br>subject=Science<br>year=%{x}<br>total_delta=%{y}<extra></extra>",
         "legendgroup": "subject=Science",
         "line": {
          "color": "#00cc96",
          "dash": "solid"
         },
         "mode": "lines",
         "name": "subject=Science",
         "showlegend": false,
         "type": "scatter",
         "uid": "2058b4d3-8032-4455-91db-446a7b86f014",
         "x": [
          "2007",
          "2008",
          "2009",
          "2014",
          "2016",
          "2018"
         ],
         "xaxis": "x3",
         "y": [
          -2.9200000000000017,
          -0.38000000000000256,
          1.1999999999999957,
          0.8000000000000043,
          2.4200000000000017,
          3.559999999999995
         ],
         "yaxis": "y2"
        },
        {
         "hovertemplate": "class=4<br>subject=Hindi<br>subject=Hindi<br>year=%{x}<br>total_delta=%{y}<extra></extra>",
         "legendgroup": "subject=Hindi",
         "line": {
          "color": "#ab63fa",
          "dash": "solid"
         },
         "mode": "lines",
         "name": "subject=Hindi",
         "showlegend": true,
         "type": "scatter",
         "uid": "27b4cb1e-eea1-497e-a235-0a8312c7d894",
         "x": [
          "2007",
          "2009"
         ],
         "xaxis": "x4",
         "y": [
          4.369999999999997,
          5.450000000000003
         ],
         "yaxis": "y2"
        },
        {
         "hovertemplate": "class=5<br>subject=English<br>subject=English<br>year=%{x}<br>total_delta=%{y}<extra></extra>",
         "legendgroup": "subject=English",
         "line": {
          "color": "#636efa",
          "dash": "solid"
         },
         "mode": "lines",
         "name": "subject=English",
         "showlegend": false,
         "type": "scatter",
         "uid": "bcb673bf-298a-4af8-af5d-c28a60b199ee",
         "x": [
          "2007",
          "2008",
          "2014",
          "2016",
          "2018"
         ],
         "xaxis": "x",
         "y": [
          17.32,
          8.380000000000003,
          12.480000000000004,
          10.479999999999997,
          15.069999999999993
         ],
         "yaxis": "y3"
        },
        {
         "hovertemplate": "class=5<br>subject=Maths<br>subject=Maths<br>year=%{x}<br>total_delta=%{y}<extra></extra>",
         "legendgroup": "subject=Maths",
         "line": {
          "color": "#EF553B",
          "dash": "solid"
         },
         "mode": "lines",
         "name": "subject=Maths",
         "showlegend": false,
         "type": "scatter",
         "uid": "b20904b5-be28-4d6d-9e4e-0ce79b4afd7d",
         "x": [
          "2007",
          "2008",
          "2009",
          "2014",
          "2016",
          "2018"
         ],
         "xaxis": "x2",
         "y": [
          7.869999999999997,
          -0.1600000000000037,
          5.199999999999996,
          5.520000000000003,
          3.8900000000000006,
          4.990000000000002
         ],
         "yaxis": "y3"
        },
        {
         "hovertemplate": "class=5<br>subject=Science<br>subject=Science<br>year=%{x}<br>total_delta=%{y}<extra></extra>",
         "legendgroup": "subject=Science",
         "line": {
          "color": "#00cc96",
          "dash": "solid"
         },
         "mode": "lines",
         "name": "subject=Science",
         "showlegend": false,
         "type": "scatter",
         "uid": "5d3b0e4a-690e-4194-9732-da876e410b9c",
         "x": [
          "2007",
          "2008",
          "2009",
          "2014",
          "2016",
          "2018"
         ],
         "xaxis": "x3",
         "y": [
          6.780000000000001,
          -1.2299999999999969,
          4.270000000000003,
          3.1999999999999957,
          -0.8999999999999986,
          0.75
         ],
         "yaxis": "y3"
        },
        {
         "hovertemplate": "class=5<br>subject=Hindi<br>subject=Hindi<br>year=%{x}<br>total_delta=%{y}<extra></extra>",
         "legendgroup": "subject=Hindi",
         "line": {
          "color": "#ab63fa",
          "dash": "solid"
         },
         "mode": "lines",
         "name": "subject=Hindi",
         "showlegend": false,
         "type": "scatter",
         "uid": "b6c21baa-8cb9-4182-b756-701b1466b1ef",
         "x": [
          "2007",
          "2009"
         ],
         "xaxis": "x4",
         "y": [
          5.410000000000004,
          5.769999999999996
         ],
         "yaxis": "y3"
        },
        {
         "hovertemplate": "class=5<br>subject=Social Studies<br>subject=Social Studies<br>year=%{x}<br>total_delta=%{y}<extra></extra>",
         "legendgroup": "subject=Social Studies",
         "line": {
          "color": "#19d3f3",
          "dash": "solid"
         },
         "mode": "lines",
         "name": "subject=Social Studies",
         "showlegend": true,
         "type": "scatter",
         "uid": "27b574bf-6ba9-4f78-9651-9af1a2c0431c",
         "x": [
          "2007"
         ],
         "xaxis": "x5",
         "y": [
          -7.770000000000003
         ],
         "yaxis": "y3"
        },
        {
         "hovertemplate": "class=6<br>subject=English<br>subject=English<br>year=%{x}<br>total_delta=%{y}<extra></extra>",
         "legendgroup": "subject=English",
         "line": {
          "color": "#636efa",
          "dash": "solid"
         },
         "mode": "lines",
         "name": "subject=English",
         "showlegend": false,
         "type": "scatter",
         "uid": "11d3ae76-2df0-405e-bb81-4ceb6d36892a",
         "x": [
          "2007",
          "2008",
          "2014",
          "2016",
          "2018"
         ],
         "xaxis": "x",
         "y": [
          28.379999999999995,
          14.719999999999999,
          12.64,
          10.399999999999999,
          20.36
         ],
         "yaxis": "y4"
        },
        {
         "hovertemplate": "class=6<br>subject=Maths<br>subject=Maths<br>year=%{x}<br>total_delta=%{y}<extra></extra>",
         "legendgroup": "subject=Maths",
         "line": {
          "color": "#EF553B",
          "dash": "solid"
         },
         "mode": "lines",
         "name": "subject=Maths",
         "showlegend": false,
         "type": "scatter",
         "uid": "b9259b06-ae15-4289-a1b9-d6a247ba6d6c",
         "x": [
          "2007",
          "2008",
          "2009",
          "2014",
          "2016",
          "2018"
         ],
         "xaxis": "x2",
         "y": [
          14.5,
          5.390000000000001,
          3.9299999999999997,
          7.579999999999998,
          3.510000000000005,
          8.71
         ],
         "yaxis": "y4"
        },
        {
         "hovertemplate": "class=6<br>subject=Science<br>subject=Science<br>year=%{x}<br>total_delta=%{y}<extra></extra>",
         "legendgroup": "subject=Science",
         "line": {
          "color": "#00cc96",
          "dash": "solid"
         },
         "mode": "lines",
         "name": "subject=Science",
         "showlegend": false,
         "type": "scatter",
         "uid": "515d0fa1-2148-48d0-86b2-14e8ee923be5",
         "x": [
          "2007",
          "2008",
          "2009",
          "2014",
          "2016",
          "2018"
         ],
         "xaxis": "x3",
         "y": [
          10.82,
          5.779999999999994,
          1.3200000000000003,
          5.239999999999995,
          3.450000000000003,
          5.220000000000006
         ],
         "yaxis": "y4"
        },
        {
         "hovertemplate": "class=6<br>subject=Hindi<br>subject=Hindi<br>year=%{x}<br>total_delta=%{y}<extra></extra>",
         "legendgroup": "subject=Hindi",
         "line": {
          "color": "#ab63fa",
          "dash": "solid"
         },
         "mode": "lines",
         "name": "subject=Hindi",
         "showlegend": false,
         "type": "scatter",
         "uid": "71081e36-aa35-410b-9dda-7bdddfd36bd2",
         "x": [
          "2007",
          "2009"
         ],
         "xaxis": "x4",
         "y": [
          16.489999999999995,
          8.130000000000003
         ],
         "yaxis": "y4"
        },
        {
         "hovertemplate": "class=6<br>subject=Social Studies<br>subject=Social Studies<br>year=%{x}<br>total_delta=%{y}<extra></extra>",
         "legendgroup": "subject=Social Studies",
         "line": {
          "color": "#19d3f3",
          "dash": "solid"
         },
         "mode": "lines",
         "name": "subject=Social Studies",
         "showlegend": false,
         "type": "scatter",
         "uid": "f92b9e20-5766-4b55-99c7-b4645be8c5cc",
         "x": [
          "2007"
         ],
         "xaxis": "x5",
         "y": [
          7.579999999999998
         ],
         "yaxis": "y4"
        },
        {
         "hovertemplate": "class=7<br>subject=English<br>subject=English<br>year=%{x}<br>total_delta=%{y}<extra></extra>",
         "legendgroup": "subject=English",
         "line": {
          "color": "#636efa",
          "dash": "solid"
         },
         "mode": "lines",
         "name": "subject=English",
         "showlegend": false,
         "type": "scatter",
         "uid": "666438ca-e9c9-4222-bbf5-7fcaf4ef8c0b",
         "x": [
          "2007",
          "2008",
          "2014",
          "2016",
          "2018"
         ],
         "xaxis": "x",
         "y": [
          16.61,
          19.400000000000006,
          14.389999999999993,
          13.690000000000005,
          21.700000000000003
         ],
         "yaxis": "y5"
        },
        {
         "hovertemplate": "class=7<br>subject=Maths<br>subject=Maths<br>year=%{x}<br>total_delta=%{y}<extra></extra>",
         "legendgroup": "subject=Maths",
         "line": {
          "color": "#EF553B",
          "dash": "solid"
         },
         "mode": "lines",
         "name": "subject=Maths",
         "showlegend": false,
         "type": "scatter",
         "uid": "8abc6ccf-454e-43e0-96b2-0c79c3fe7beb",
         "x": [
          "2007",
          "2008",
          "2009",
          "2014",
          "2016",
          "2018"
         ],
         "xaxis": "x2",
         "y": [
          15.150000000000006,
          13.719999999999999,
          8.579999999999998,
          12.670000000000002,
          7.219999999999999,
          6
         ],
         "yaxis": "y5"
        },
        {
         "hovertemplate": "class=7<br>subject=Science<br>subject=Science<br>year=%{x}<br>total_delta=%{y}<extra></extra>",
         "legendgroup": "subject=Science",
         "line": {
          "color": "#00cc96",
          "dash": "solid"
         },
         "mode": "lines",
         "name": "subject=Science",
         "showlegend": false,
         "type": "scatter",
         "uid": "c129fc42-715b-4f25-ae3b-51fce77a367c",
         "x": [
          "2007",
          "2008",
          "2009",
          "2014",
          "2016",
          "2018"
         ],
         "xaxis": "x3",
         "y": [
          7.799999999999997,
          8.470000000000006,
          4.1200000000000045,
          5.160000000000004,
          4.949999999999996,
          8.639999999999993
         ],
         "yaxis": "y5"
        },
        {
         "hovertemplate": "class=7<br>subject=Hindi<br>subject=Hindi<br>year=%{x}<br>total_delta=%{y}<extra></extra>",
         "legendgroup": "subject=Hindi",
         "line": {
          "color": "#ab63fa",
          "dash": "solid"
         },
         "mode": "lines",
         "name": "subject=Hindi",
         "showlegend": false,
         "type": "scatter",
         "uid": "43dfea1d-e3dc-46a5-903b-4fe507583b8e",
         "x": [
          "2007",
          "2009"
         ],
         "xaxis": "x4",
         "y": [
          10.769999999999996,
          9.840000000000003
         ],
         "yaxis": "y5"
        },
        {
         "hovertemplate": "class=7<br>subject=Social Studies<br>subject=Social Studies<br>year=%{x}<br>total_delta=%{y}<extra></extra>",
         "legendgroup": "subject=Social Studies",
         "line": {
          "color": "#19d3f3",
          "dash": "solid"
         },
         "mode": "lines",
         "name": "subject=Social Studies",
         "showlegend": false,
         "type": "scatter",
         "uid": "f6e0eaa5-be42-4648-ac51-8ad88b306011",
         "x": [
          "2007"
         ],
         "xaxis": "x5",
         "y": [
          5.1200000000000045
         ],
         "yaxis": "y5"
        },
        {
         "hovertemplate": "class=8<br>subject=English<br>subject=English<br>year=%{x}<br>total_delta=%{y}<extra></extra>",
         "legendgroup": "subject=English",
         "line": {
          "color": "#636efa",
          "dash": "solid"
         },
         "mode": "lines",
         "name": "subject=English",
         "showlegend": false,
         "type": "scatter",
         "uid": "f33612d4-af2e-4b83-9512-40219b4af186",
         "x": [
          "2007",
          "2008",
          "2014",
          "2016",
          "2018"
         ],
         "xaxis": "x",
         "y": [
          27.71,
          17.119999999999997,
          13.170000000000002,
          9.149999999999999,
          18.66000000000001
         ],
         "yaxis": "y6"
        },
        {
         "hovertemplate": "class=8<br>subject=Maths<br>subject=Maths<br>year=%{x}<br>total_delta=%{y}<extra></extra>",
         "legendgroup": "subject=Maths",
         "line": {
          "color": "#EF553B",
          "dash": "solid"
         },
         "mode": "lines",
         "name": "subject=Maths",
         "showlegend": false,
         "type": "scatter",
         "uid": "ef16fc57-dca5-489a-b29b-222c61dd894d",
         "x": [
          "2007",
          "2008",
          "2009",
          "2014",
          "2016",
          "2018"
         ],
         "xaxis": "x2",
         "y": [
          20.309999999999995,
          9.450000000000003,
          17.389999999999993,
          7.090000000000003,
          1.7099999999999937,
          2.490000000000002
         ],
         "yaxis": "y6"
        },
        {
         "hovertemplate": "class=8<br>subject=Science<br>subject=Science<br>year=%{x}<br>total_delta=%{y}<extra></extra>",
         "legendgroup": "subject=Science",
         "line": {
          "color": "#00cc96",
          "dash": "solid"
         },
         "mode": "lines",
         "name": "subject=Science",
         "showlegend": false,
         "type": "scatter",
         "uid": "8553d6c3-2e23-4049-aabb-67a4317c8690",
         "x": [
          "2007",
          "2008",
          "2009",
          "2014",
          "2016",
          "2018"
         ],
         "xaxis": "x3",
         "y": [
          15.32,
          11.089999999999996,
          14.419999999999995,
          6.609999999999999,
          1.4099999999999966,
          -5.009999999999998
         ],
         "yaxis": "y6"
        },
        {
         "hovertemplate": "class=8<br>subject=Hindi<br>subject=Hindi<br>year=%{x}<br>total_delta=%{y}<extra></extra>",
         "legendgroup": "subject=Hindi",
         "line": {
          "color": "#ab63fa",
          "dash": "solid"
         },
         "mode": "lines",
         "name": "subject=Hindi",
         "showlegend": false,
         "type": "scatter",
         "uid": "89fa21f1-6dc6-4787-93c2-b8cb8d502436",
         "x": [
          "2007",
          "2009"
         ],
         "xaxis": "x4",
         "y": [
          24.189999999999998,
          15.980000000000004
         ],
         "yaxis": "y6"
        },
        {
         "hovertemplate": "class=8<br>subject=Social Studies<br>subject=Social Studies<br>year=%{x}<br>total_delta=%{y}<extra></extra>",
         "legendgroup": "subject=Social Studies",
         "line": {
          "color": "#19d3f3",
          "dash": "solid"
         },
         "mode": "lines",
         "name": "subject=Social Studies",
         "showlegend": false,
         "type": "scatter",
         "uid": "16110520-4b05-4b7a-b413-a79c90c4bc02",
         "x": [
          "2007"
         ],
         "xaxis": "x5",
         "y": [
          10.350000000000001
         ],
         "yaxis": "y6"
        },
        {
         "hovertemplate": "class=9<br>subject=English<br>subject=English<br>year=%{x}<br>total_delta=%{y}<extra></extra>",
         "legendgroup": "subject=English",
         "line": {
          "color": "#636efa",
          "dash": "solid"
         },
         "mode": "lines",
         "name": "subject=English",
         "showlegend": false,
         "type": "scatter",
         "uid": "3503e1b5-4b80-46ff-b9e6-61a50be4308c",
         "x": [
          "2007",
          "2014",
          "2016",
          "2018"
         ],
         "xaxis": "x",
         "y": [
          17.79,
          14.519999999999996,
          18.960000000000008,
          23.840000000000003
         ],
         "yaxis": "y7"
        },
        {
         "hovertemplate": "class=9<br>subject=Maths<br>subject=Maths<br>year=%{x}<br>total_delta=%{y}<extra></extra>",
         "legendgroup": "subject=Maths",
         "line": {
          "color": "#EF553B",
          "dash": "solid"
         },
         "mode": "lines",
         "name": "subject=Maths",
         "showlegend": false,
         "type": "scatter",
         "uid": "f5ceea77-59da-41de-82e0-79acad964e4c",
         "x": [
          "2007",
          "2008",
          "2014",
          "2016",
          "2018"
         ],
         "xaxis": "x2",
         "y": [
          13.89,
          6.219999999999999,
          4.240000000000002,
          6.100000000000001,
          5.289999999999999
         ],
         "yaxis": "y7"
        },
        {
         "hovertemplate": "class=9<br>subject=Science<br>subject=Science<br>year=%{x}<br>total_delta=%{y}<extra></extra>",
         "legendgroup": "subject=Science",
         "line": {
          "color": "#00cc96",
          "dash": "solid"
         },
         "mode": "lines",
         "name": "subject=Science",
         "showlegend": false,
         "type": "scatter",
         "uid": "ee03e04d-e048-4458-8295-0715b88e0266",
         "x": [
          "2007",
          "2008",
          "2009",
          "2014",
          "2016",
          "2018"
         ],
         "xaxis": "x3",
         "y": [
          9.240000000000002,
          9.959999999999994,
          7.5,
          4.07,
          2.5900000000000034,
          5.759999999999998
         ],
         "yaxis": "y7"
        },
        {
         "hovertemplate": "class=9<br>subject=Social Studies<br>subject=Social Studies<br>year=%{x}<br>total_delta=%{y}<extra></extra>",
         "legendgroup": "subject=Social Studies",
         "line": {
          "color": "#19d3f3",
          "dash": "solid"
         },
         "mode": "lines",
         "name": "subject=Social Studies",
         "showlegend": false,
         "type": "scatter",
         "uid": "6de477fd-1628-4884-965c-6834192012d7",
         "x": [
          "2007"
         ],
         "xaxis": "x5",
         "y": [
          11.309999999999995
         ],
         "yaxis": "y7"
        },
        {
         "hovertemplate": "class=10<br>subject=English<br>subject=English<br>year=%{x}<br>total_delta=%{y}<extra></extra>",
         "legendgroup": "subject=English",
         "line": {
          "color": "#636efa",
          "dash": "solid"
         },
         "mode": "lines",
         "name": "subject=English",
         "showlegend": false,
         "type": "scatter",
         "uid": "87712dff-40e0-4bc7-a059-c4f80c96983c",
         "x": [
          "2008",
          "2014",
          "2016"
         ],
         "xaxis": "x",
         "y": [
          17.549999999999997,
          14.509999999999998,
          14.5
         ],
         "yaxis": "y8"
        },
        {
         "hovertemplate": "class=10<br>subject=Maths<br>subject=Maths<br>year=%{x}<br>total_delta=%{y}<extra></extra>",
         "legendgroup": "subject=Maths",
         "line": {
          "color": "#EF553B",
          "dash": "solid"
         },
         "mode": "lines",
         "name": "subject=Maths",
         "showlegend": false,
         "type": "scatter",
         "uid": "081074a1-1207-4ed3-b420-003cd981de7e",
         "x": [
          "2009",
          "2014",
          "2016"
         ],
         "xaxis": "x2",
         "y": [
          13.800000000000004,
          -0.03999999999999915,
          5.050000000000004
         ],
         "yaxis": "y8"
        },
        {
         "hovertemplate": "class=10<br>subject=Science<br>subject=Science<br>year=%{x}<br>total_delta=%{y}<extra></extra>",
         "legendgroup": "subject=Science",
         "line": {
          "color": "#00cc96",
          "dash": "solid"
         },
         "mode": "lines",
         "name": "subject=Science",
         "showlegend": false,
         "type": "scatter",
         "uid": "dfccbe43-5879-44df-95dc-a4fd8e1a2d23",
         "x": [
          "2014",
          "2016"
         ],
         "xaxis": "x3",
         "y": [
          1.1400000000000006,
          4.720000000000006
         ],
         "yaxis": "y8"
        }
       ],
       "layout": {
        "annotations": [
         {
          "showarrow": false,
          "text": "subject=English",
          "textangle": 0,
          "x": 0.09183673469387754,
          "xanchor": "center",
          "xref": "paper",
          "y": 1.02,
          "yanchor": "middle",
          "yref": "paper"
         },
         {
          "showarrow": false,
          "text": "subject=Maths",
          "textangle": 0,
          "x": 0.2959183673469387,
          "xanchor": "center",
          "xref": "paper",
          "y": 1.02,
          "yanchor": "middle",
          "yref": "paper"
         },
         {
          "showarrow": false,
          "text": "subject=Science",
          "textangle": 0,
          "x": 0.5,
          "xanchor": "center",
          "xref": "paper",
          "y": 1.02,
          "yanchor": "middle",
          "yref": "paper"
         },
         {
          "showarrow": false,
          "text": "subject=Hindi",
          "textangle": 0,
          "x": 0.7040816326530612,
          "xanchor": "center",
          "xref": "paper",
          "y": 1.02,
          "yanchor": "middle",
          "yref": "paper"
         },
         {
          "showarrow": false,
          "text": "subject=Social Studies",
          "textangle": 0,
          "x": 0.9081632653061223,
          "xanchor": "center",
          "xref": "paper",
          "y": 1.02,
          "yanchor": "middle",
          "yref": "paper"
         },
         {
          "showarrow": false,
          "text": "class=3",
          "textangle": 90,
          "x": 1.01,
          "xanchor": "center",
          "xref": "paper",
          "y": 0.9430379746835442,
          "yanchor": "middle",
          "yref": "paper"
         },
         {
          "showarrow": false,
          "text": "class=4",
          "textangle": 90,
          "x": 1.01,
          "xanchor": "center",
          "xref": "paper",
          "y": 0.8164556962025316,
          "yanchor": "middle",
          "yref": "paper"
         },
         {
          "showarrow": false,
          "text": "class=5",
          "textangle": 90,
          "x": 1.01,
          "xanchor": "center",
          "xref": "paper",
          "y": 0.6898734177215189,
          "yanchor": "middle",
          "yref": "paper"
         },
         {
          "showarrow": false,
          "text": "class=6",
          "textangle": 90,
          "x": 1.01,
          "xanchor": "center",
          "xref": "paper",
          "y": 0.5632911392405062,
          "yanchor": "middle",
          "yref": "paper"
         },
         {
          "showarrow": false,
          "text": "class=7",
          "textangle": 90,
          "x": 1.01,
          "xanchor": "center",
          "xref": "paper",
          "y": 0.4367088607594936,
          "yanchor": "middle",
          "yref": "paper"
         },
         {
          "showarrow": false,
          "text": "class=8",
          "textangle": 90,
          "x": 1.01,
          "xanchor": "center",
          "xref": "paper",
          "y": 0.310126582278481,
          "yanchor": "middle",
          "yref": "paper"
         },
         {
          "showarrow": false,
          "text": "class=9",
          "textangle": 90,
          "x": 1.01,
          "xanchor": "center",
          "xref": "paper",
          "y": 0.18354430379746833,
          "yanchor": "middle",
          "yref": "paper"
         },
         {
          "showarrow": false,
          "text": "class=10",
          "textangle": 90,
          "x": 1.01,
          "xanchor": "center",
          "xref": "paper",
          "y": 0.05696202531645569,
          "yanchor": "middle",
          "yref": "paper"
         }
        ],
        "grid": {
         "xaxes": [
          "x",
          "x2",
          "x3",
          "x4",
          "x5"
         ],
         "xgap": 0.1,
         "xside": "bottom",
         "yaxes": [
          "y",
          "y2",
          "y3",
          "y4",
          "y5",
          "y6",
          "y7",
          "y8"
         ],
         "ygap": 0.1,
         "yside": "left"
        },
        "height": 2000,
        "legend": {
         "tracegroupgap": 0
        },
        "template": {
         "data": {
          "bar": [
           {
            "marker": {
             "line": {
              "color": "#E5ECF6",
              "width": 0.5
             }
            },
            "type": "bar"
           }
          ],
          "barpolar": [
           {
            "marker": {
             "line": {
              "color": "#E5ECF6",
              "width": 0.5
             }
            },
            "type": "barpolar"
           }
          ],
          "carpet": [
           {
            "aaxis": {
             "endlinecolor": "#2a3f5f",
             "gridcolor": "white",
             "linecolor": "white",
             "minorgridcolor": "white",
             "startlinecolor": "#2a3f5f"
            },
            "baxis": {
             "endlinecolor": "#2a3f5f",
             "gridcolor": "white",
             "linecolor": "white",
             "minorgridcolor": "white",
             "startlinecolor": "#2a3f5f"
            },
            "type": "carpet"
           }
          ],
          "choropleth": [
           {
            "colorbar": {
             "outlinewidth": 0,
             "ticks": ""
            },
            "type": "choropleth"
           }
          ],
          "contour": [
           {
            "autocolorscale": true,
            "colorbar": {
             "outlinewidth": 0,
             "ticks": ""
            },
            "type": "contour"
           }
          ],
          "contourcarpet": [
           {
            "colorbar": {
             "outlinewidth": 0,
             "ticks": ""
            },
            "type": "contourcarpet"
           }
          ],
          "heatmap": [
           {
            "autocolorscale": true,
            "colorbar": {
             "outlinewidth": 0,
             "ticks": ""
            },
            "type": "heatmap"
           }
          ],
          "heatmapgl": [
           {
            "colorbar": {
             "outlinewidth": 0,
             "ticks": ""
            },
            "type": "heatmapgl"
           }
          ],
          "histogram": [
           {
            "marker": {
             "colorbar": {
              "outlinewidth": 0,
              "ticks": ""
             }
            },
            "type": "histogram"
           }
          ],
          "histogram2d": [
           {
            "autocolorscale": true,
            "colorbar": {
             "outlinewidth": 0,
             "ticks": ""
            },
            "type": "histogram2d"
           }
          ],
          "histogram2dcontour": [
           {
            "autocolorscale": true,
            "colorbar": {
             "outlinewidth": 0,
             "ticks": ""
            },
            "type": "histogram2dcontour"
           }
          ],
          "mesh3d": [
           {
            "colorbar": {
             "outlinewidth": 0,
             "ticks": ""
            },
            "type": "mesh3d"
           }
          ],
          "parcoords": [
           {
            "line": {
             "colorbar": {
              "outlinewidth": 0,
              "ticks": ""
             }
            },
            "type": "parcoords"
           }
          ],
          "scatter": [
           {
            "marker": {
             "colorbar": {
              "outlinewidth": 0,
              "ticks": ""
             }
            },
            "type": "scatter"
           }
          ],
          "scatter3d": [
           {
            "marker": {
             "colorbar": {
              "outlinewidth": 0,
              "ticks": ""
             }
            },
            "type": "scatter3d"
           }
          ],
          "scattercarpet": [
           {
            "marker": {
             "colorbar": {
              "outlinewidth": 0,
              "ticks": ""
             }
            },
            "type": "scattercarpet"
           }
          ],
          "scattergeo": [
           {
            "marker": {
             "colorbar": {
              "outlinewidth": 0,
              "ticks": ""
             }
            },
            "type": "scattergeo"
           }
          ],
          "scattergl": [
           {
            "marker": {
             "colorbar": {
              "outlinewidth": 0,
              "ticks": ""
             }
            },
            "type": "scattergl"
           }
          ],
          "scattermapbox": [
           {
            "marker": {
             "colorbar": {
              "outlinewidth": 0,
              "ticks": ""
             }
            },
            "type": "scattermapbox"
           }
          ],
          "scatterpolar": [
           {
            "marker": {
             "colorbar": {
              "outlinewidth": 0,
              "ticks": ""
             }
            },
            "type": "scatterpolar"
           }
          ],
          "scatterpolargl": [
           {
            "marker": {
             "colorbar": {
              "outlinewidth": 0,
              "ticks": ""
             }
            },
            "type": "scatterpolargl"
           }
          ],
          "scatterternary": [
           {
            "marker": {
             "colorbar": {
              "outlinewidth": 0,
              "ticks": ""
             }
            },
            "type": "scatterternary"
           }
          ],
          "surface": [
           {
            "colorbar": {
             "outlinewidth": 0,
             "ticks": ""
            },
            "type": "surface"
           }
          ],
          "table": [
           {
            "cells": {
             "fill": {
              "color": "#EBF0F8"
             },
             "line": {
              "color": "white"
             }
            },
            "header": {
             "fill": {
              "color": "#C8D4E3"
             },
             "line": {
              "color": "white"
             }
            },
            "type": "table"
           }
          ]
         },
         "layout": {
          "annotationdefaults": {
           "arrowcolor": "#506784",
           "arrowhead": 0,
           "arrowwidth": 1
          },
          "colorscale": {
           "diverging": [
            [
             0,
             "#8e0152"
            ],
            [
             0.1,
             "#c51b7d"
            ],
            [
             0.2,
             "#de77ae"
            ],
            [
             0.3,
             "#f1b6da"
            ],
            [
             0.4,
             "#fde0ef"
            ],
            [
             0.5,
             "#f7f7f7"
            ],
            [
             0.6,
             "#e6f5d0"
            ],
            [
             0.7,
             "#b8e186"
            ],
            [
             0.8,
             "#7fbc41"
            ],
            [
             0.9,
             "#4d9221"
            ],
            [
             1,
             "#276419"
            ]
           ],
           "sequential": [
            [
             0,
             "#0508b8"
            ],
            [
             0.0893854748603352,
             "#1910d8"
            ],
            [
             0.1787709497206704,
             "#3c19f0"
            ],
            [
             0.2681564245810056,
             "#6b1cfb"
            ],
            [
             0.3575418994413408,
             "#981cfd"
            ],
            [
             0.44692737430167595,
             "#bf1cfd"
            ],
            [
             0.5363128491620112,
             "#dd2bfd"
            ],
            [
             0.6256983240223464,
             "#f246fe"
            ],
            [
             0.7150837988826816,
             "#fc67fd"
            ],
            [
             0.8044692737430168,
             "#fe88fc"
            ],
            [
             0.8938547486033519,
             "#fea5fd"
            ],
            [
             0.9832402234636871,
             "#febefe"
            ],
            [
             1,
             "#fec3fe"
            ]
           ],
           "sequentialminus": [
            [
             0,
             "#0508b8"
            ],
            [
             0.0893854748603352,
             "#1910d8"
            ],
            [
             0.1787709497206704,
             "#3c19f0"
            ],
            [
             0.2681564245810056,
             "#6b1cfb"
            ],
            [
             0.3575418994413408,
             "#981cfd"
            ],
            [
             0.44692737430167595,
             "#bf1cfd"
            ],
            [
             0.5363128491620112,
             "#dd2bfd"
            ],
            [
             0.6256983240223464,
             "#f246fe"
            ],
            [
             0.7150837988826816,
             "#fc67fd"
            ],
            [
             0.8044692737430168,
             "#fe88fc"
            ],
            [
             0.8938547486033519,
             "#fea5fd"
            ],
            [
             0.9832402234636871,
             "#febefe"
            ],
            [
             1,
             "#fec3fe"
            ]
           ]
          },
          "colorway": [
           "#636efa",
           "#EF553B",
           "#00cc96",
           "#ab63fa",
           "#19d3f3",
           "#e763fa",
           "#FECB52",
           "#FFA15A",
           "#FF6692",
           "#B6E880"
          ],
          "font": {
           "color": "#2a3f5f"
          },
          "geo": {
           "bgcolor": "white",
           "lakecolor": "white",
           "landcolor": "#E5ECF6",
           "showlakes": true,
           "showland": true,
           "subunitcolor": "white"
          },
          "hoverlabel": {
           "align": "left"
          },
          "hovermode": "closest",
          "legend": {
           "itemsizing": "constant"
          },
          "mapbox": {
           "style": "light"
          },
          "paper_bgcolor": "white",
          "plot_bgcolor": "#E5ECF6",
          "polar": {
           "angularaxis": {
            "gridcolor": "white",
            "linecolor": "white",
            "ticks": ""
           },
           "bgcolor": "#E5ECF6",
           "radialaxis": {
            "gridcolor": "white",
            "linecolor": "white",
            "ticks": ""
           }
          },
          "scene": {
           "xaxis": {
            "backgroundcolor": "#E5ECF6",
            "gridcolor": "white",
            "gridwidth": 2,
            "linecolor": "white",
            "showbackground": true,
            "ticks": "",
            "zerolinecolor": "white"
           },
           "yaxis": {
            "backgroundcolor": "#E5ECF6",
            "gridcolor": "white",
            "gridwidth": 2,
            "linecolor": "white",
            "showbackground": true,
            "ticks": "",
            "zerolinecolor": "white"
           },
           "zaxis": {
            "backgroundcolor": "#E5ECF6",
            "gridcolor": "white",
            "gridwidth": 2,
            "linecolor": "white",
            "showbackground": true,
            "ticks": "",
            "zerolinecolor": "white"
           }
          },
          "shapedefaults": {
           "fillcolor": "#506784",
           "line": {
            "width": 0
           },
           "opacity": 0.4
          },
          "ternary": {
           "aaxis": {
            "gridcolor": "white",
            "linecolor": "white",
            "ticks": ""
           },
           "baxis": {
            "gridcolor": "white",
            "linecolor": "white",
            "ticks": ""
           },
           "bgcolor": "#E5ECF6",
           "caxis": {
            "gridcolor": "white",
            "linecolor": "white",
            "ticks": ""
           }
          },
          "title": {
           "x": 0.05
          },
          "xaxis": {
           "automargin": true,
           "gridcolor": "white",
           "linecolor": "white",
           "ticks": "",
           "zerolinecolor": "white",
           "zerolinewidth": 2
          },
          "yaxis": {
           "automargin": true,
           "gridcolor": "white",
           "linecolor": "white",
           "ticks": "",
           "zerolinecolor": "white",
           "zerolinewidth": 2
          }
         }
        },
        "title": {
         "text": "School code 173428 Scores across subjects and grades represented as a difference from National Average"
        },
        "width": 2000,
        "xaxis": {
         "range": [
          2006,
          2019
         ],
         "title": {
          "text": "year"
         }
        },
        "xaxis2": {
         "matches": "x",
         "title": {
          "text": "year"
         }
        },
        "xaxis3": {
         "matches": "x",
         "title": {
          "text": "year"
         }
        },
        "xaxis4": {
         "matches": "x",
         "title": {
          "text": "year"
         }
        },
        "xaxis5": {
         "matches": "x",
         "title": {
          "text": "year"
         }
        },
        "yaxis": {
         "title": {
          "text": "total_delta"
         }
        },
        "yaxis2": {
         "matches": "y",
         "title": {
          "text": "total_delta"
         }
        },
        "yaxis3": {
         "matches": "y",
         "title": {
          "text": "total_delta"
         }
        },
        "yaxis4": {
         "matches": "y",
         "title": {
          "text": "total_delta"
         }
        },
        "yaxis5": {
         "matches": "y",
         "title": {
          "text": "total_delta"
         }
        },
        "yaxis6": {
         "matches": "y",
         "title": {
          "text": "total_delta"
         }
        },
        "yaxis7": {
         "matches": "y",
         "title": {
          "text": "total_delta"
         }
        },
        "yaxis8": {
         "matches": "y",
         "title": {
          "text": "total_delta"
         }
        }
       }
      },
      "text/html": [
       "<div>\n",
       "        \n",
       "        \n",
       "            <div id=\"062511ab-6d53-488a-8abf-36fc67275e67\" class=\"plotly-graph-div\"></div>\n",
       "            <script type=\"text/javascript\">\n",
       "                require([\"plotly\"], function(Plotly) {\n",
       "                    window.PLOTLYENV=window.PLOTLYENV || {};\n",
       "                    window.PLOTLYENV.BASE_URL='https://plot.ly';\n",
       "                    \n",
       "                if (document.getElementById(\"062511ab-6d53-488a-8abf-36fc67275e67\")) {\n",
       "                    Plotly.newPlot(\n",
       "                        '062511ab-6d53-488a-8abf-36fc67275e67',\n",
       "                        [{\"hovertemplate\": \"class=3<br>subject=English<br>subject=English<br>year=%{x}<br>total_delta=%{y}<extra></extra>\", \"legendgroup\": \"subject=English\", \"line\": {\"color\": \"#636efa\", \"dash\": \"solid\"}, \"mode\": \"lines\", \"name\": \"subject=English\", \"showlegend\": true, \"type\": \"scatter\", \"uid\": \"4966e020-95e2-4848-9061-44457e65bbb3\", \"x\": [\"2007\", \"2008\", \"2014\", \"2016\", \"2018\"], \"xaxis\": \"x\", \"y\": [19.879999999999995, 11.0, 9.43, 8.07, 10.910000000000004], \"yaxis\": \"y\"}, {\"hovertemplate\": \"class=3<br>subject=Maths<br>subject=Maths<br>year=%{x}<br>total_delta=%{y}<extra></extra>\", \"legendgroup\": \"subject=Maths\", \"line\": {\"color\": \"#EF553B\", \"dash\": \"solid\"}, \"mode\": \"lines\", \"name\": \"subject=Maths\", \"showlegend\": true, \"type\": \"scatter\", \"uid\": \"2c7e910a-5f08-4cd2-8f73-a9008838c3aa\", \"x\": [\"2007\", \"2008\", \"2009\", \"2014\", \"2016\", \"2018\"], \"xaxis\": \"x2\", \"y\": [5.719999999999999, -2.6799999999999997, 2.6599999999999966, 2.280000000000001, 9.049999999999997, 6.780000000000001], \"yaxis\": \"y\"}, {\"hovertemplate\": \"class=3<br>subject=Science<br>subject=Science<br>year=%{x}<br>total_delta=%{y}<extra></extra>\", \"legendgroup\": \"subject=Science\", \"line\": {\"color\": \"#00cc96\", \"dash\": \"solid\"}, \"mode\": \"lines\", \"name\": \"subject=Science\", \"showlegend\": true, \"type\": \"scatter\", \"uid\": \"c803c74f-6d77-4de9-b96c-db83c7ad65a0\", \"x\": [\"2007\", \"2008\", \"2009\", \"2014\", \"2016\", \"2018\"], \"xaxis\": \"x3\", \"y\": [4.359999999999999, 4.590000000000003, 4.159999999999997, -2.1999999999999957, 4.980000000000004, 3.229999999999997], \"yaxis\": \"y\"}, {\"hovertemplate\": \"class=4<br>subject=English<br>subject=English<br>year=%{x}<br>total_delta=%{y}<extra></extra>\", \"legendgroup\": \"subject=English\", \"line\": {\"color\": \"#636efa\", \"dash\": \"solid\"}, \"mode\": \"lines\", \"name\": \"subject=English\", \"showlegend\": false, \"type\": \"scatter\", \"uid\": \"d7966683-a5f8-470c-94df-6e0d75532125\", \"x\": [\"2007\", \"2008\", \"2014\", \"2016\", \"2018\"], \"xaxis\": \"x\", \"y\": [3.6999999999999957, 11.64, 10.469999999999999, 9.100000000000001, 18.85000000000001], \"yaxis\": \"y2\"}, {\"hovertemplate\": \"class=4<br>subject=Maths<br>subject=Maths<br>year=%{x}<br>total_delta=%{y}<extra></extra>\", \"legendgroup\": \"subject=Maths\", \"line\": {\"color\": \"#EF553B\", \"dash\": \"solid\"}, \"mode\": \"lines\", \"name\": \"subject=Maths\", \"showlegend\": false, \"type\": \"scatter\", \"uid\": \"8de9a6a3-8415-4fd3-abf3-899a9f827ce6\", \"x\": [\"2007\", \"2008\", \"2009\", \"2014\", \"2016\", \"2018\"], \"xaxis\": \"x2\", \"y\": [3.759999999999998, -0.5, 3.9399999999999977, -0.5200000000000031, -0.9500000000000028, 3.190000000000005], \"yaxis\": \"y2\"}, {\"hovertemplate\": \"class=4<br>subject=Science<br>subject=Science<br>year=%{x}<br>total_delta=%{y}<extra></extra>\", \"legendgroup\": \"subject=Science\", \"line\": {\"color\": \"#00cc96\", \"dash\": \"solid\"}, \"mode\": \"lines\", \"name\": \"subject=Science\", \"showlegend\": false, \"type\": \"scatter\", \"uid\": \"bea84f1a-b261-4645-ac35-3209d840ebfa\", \"x\": [\"2007\", \"2008\", \"2009\", \"2014\", \"2016\", \"2018\"], \"xaxis\": \"x3\", \"y\": [-2.9200000000000017, -0.38000000000000256, 1.1999999999999957, 0.8000000000000043, 2.4200000000000017, 3.559999999999995], \"yaxis\": \"y2\"}, {\"hovertemplate\": \"class=4<br>subject=Hindi<br>subject=Hindi<br>year=%{x}<br>total_delta=%{y}<extra></extra>\", \"legendgroup\": \"subject=Hindi\", \"line\": {\"color\": \"#ab63fa\", \"dash\": \"solid\"}, \"mode\": \"lines\", \"name\": \"subject=Hindi\", \"showlegend\": true, \"type\": \"scatter\", \"uid\": \"fb8fe625-e929-4ce3-987a-7736f28cfe4f\", \"x\": [\"2007\", \"2009\"], \"xaxis\": \"x4\", \"y\": [4.369999999999997, 5.450000000000003], \"yaxis\": \"y2\"}, {\"hovertemplate\": \"class=5<br>subject=English<br>subject=English<br>year=%{x}<br>total_delta=%{y}<extra></extra>\", \"legendgroup\": \"subject=English\", \"line\": {\"color\": \"#636efa\", \"dash\": \"solid\"}, \"mode\": \"lines\", \"name\": \"subject=English\", \"showlegend\": false, \"type\": \"scatter\", \"uid\": \"234d6d47-699e-4bd2-9afa-bb723857b2cd\", \"x\": [\"2007\", \"2008\", \"2014\", \"2016\", \"2018\"], \"xaxis\": \"x\", \"y\": [17.32, 8.380000000000003, 12.480000000000004, 10.479999999999997, 15.069999999999993], \"yaxis\": \"y3\"}, {\"hovertemplate\": \"class=5<br>subject=Maths<br>subject=Maths<br>year=%{x}<br>total_delta=%{y}<extra></extra>\", \"legendgroup\": \"subject=Maths\", \"line\": {\"color\": \"#EF553B\", \"dash\": \"solid\"}, \"mode\": \"lines\", \"name\": \"subject=Maths\", \"showlegend\": false, \"type\": \"scatter\", \"uid\": \"97bedfd3-29d9-4ed4-a021-faf9a43297eb\", \"x\": [\"2007\", \"2008\", \"2009\", \"2014\", \"2016\", \"2018\"], \"xaxis\": \"x2\", \"y\": [7.869999999999997, -0.1600000000000037, 5.199999999999996, 5.520000000000003, 3.8900000000000006, 4.990000000000002], \"yaxis\": \"y3\"}, {\"hovertemplate\": \"class=5<br>subject=Science<br>subject=Science<br>year=%{x}<br>total_delta=%{y}<extra></extra>\", \"legendgroup\": \"subject=Science\", \"line\": {\"color\": \"#00cc96\", \"dash\": \"solid\"}, \"mode\": \"lines\", \"name\": \"subject=Science\", \"showlegend\": false, \"type\": \"scatter\", \"uid\": \"306e781d-1115-44a3-8bc8-6888cf3080ae\", \"x\": [\"2007\", \"2008\", \"2009\", \"2014\", \"2016\", \"2018\"], \"xaxis\": \"x3\", \"y\": [6.780000000000001, -1.2299999999999969, 4.270000000000003, 3.1999999999999957, -0.8999999999999986, 0.75], \"yaxis\": \"y3\"}, {\"hovertemplate\": \"class=5<br>subject=Hindi<br>subject=Hindi<br>year=%{x}<br>total_delta=%{y}<extra></extra>\", \"legendgroup\": \"subject=Hindi\", \"line\": {\"color\": \"#ab63fa\", \"dash\": \"solid\"}, \"mode\": \"lines\", \"name\": \"subject=Hindi\", \"showlegend\": false, \"type\": \"scatter\", \"uid\": \"31ff1754-e5a5-4197-b5aa-595fe50c57d6\", \"x\": [\"2007\", \"2009\"], \"xaxis\": \"x4\", \"y\": [5.410000000000004, 5.769999999999996], \"yaxis\": \"y3\"}, {\"hovertemplate\": \"class=5<br>subject=Social Studies<br>subject=Social Studies<br>year=%{x}<br>total_delta=%{y}<extra></extra>\", \"legendgroup\": \"subject=Social Studies\", \"line\": {\"color\": \"#19d3f3\", \"dash\": \"solid\"}, \"mode\": \"lines\", \"name\": \"subject=Social Studies\", \"showlegend\": true, \"type\": \"scatter\", \"uid\": \"1c813060-97b2-4354-84f7-b62225347a5a\", \"x\": [\"2007\"], \"xaxis\": \"x5\", \"y\": [-7.770000000000003], \"yaxis\": \"y3\"}, {\"hovertemplate\": \"class=6<br>subject=English<br>subject=English<br>year=%{x}<br>total_delta=%{y}<extra></extra>\", \"legendgroup\": \"subject=English\", \"line\": {\"color\": \"#636efa\", \"dash\": \"solid\"}, \"mode\": \"lines\", \"name\": \"subject=English\", \"showlegend\": false, \"type\": \"scatter\", \"uid\": \"114bca3b-0d29-4884-89e6-46acf447c435\", \"x\": [\"2007\", \"2008\", \"2014\", \"2016\", \"2018\"], \"xaxis\": \"x\", \"y\": [28.379999999999995, 14.719999999999999, 12.64, 10.399999999999999, 20.36], \"yaxis\": \"y4\"}, {\"hovertemplate\": \"class=6<br>subject=Maths<br>subject=Maths<br>year=%{x}<br>total_delta=%{y}<extra></extra>\", \"legendgroup\": \"subject=Maths\", \"line\": {\"color\": \"#EF553B\", \"dash\": \"solid\"}, \"mode\": \"lines\", \"name\": \"subject=Maths\", \"showlegend\": false, \"type\": \"scatter\", \"uid\": \"1f166bf3-ae71-4254-81c7-f9de430fe326\", \"x\": [\"2007\", \"2008\", \"2009\", \"2014\", \"2016\", \"2018\"], \"xaxis\": \"x2\", \"y\": [14.5, 5.390000000000001, 3.9299999999999997, 7.579999999999998, 3.510000000000005, 8.71], \"yaxis\": \"y4\"}, {\"hovertemplate\": \"class=6<br>subject=Science<br>subject=Science<br>year=%{x}<br>total_delta=%{y}<extra></extra>\", \"legendgroup\": \"subject=Science\", \"line\": {\"color\": \"#00cc96\", \"dash\": \"solid\"}, \"mode\": \"lines\", \"name\": \"subject=Science\", \"showlegend\": false, \"type\": \"scatter\", \"uid\": \"3c601660-b87b-45be-8219-1fe4588de4b4\", \"x\": [\"2007\", \"2008\", \"2009\", \"2014\", \"2016\", \"2018\"], \"xaxis\": \"x3\", \"y\": [10.82, 5.779999999999994, 1.3200000000000003, 5.239999999999995, 3.450000000000003, 5.220000000000006], \"yaxis\": \"y4\"}, {\"hovertemplate\": \"class=6<br>subject=Hindi<br>subject=Hindi<br>year=%{x}<br>total_delta=%{y}<extra></extra>\", \"legendgroup\": \"subject=Hindi\", \"line\": {\"color\": \"#ab63fa\", \"dash\": \"solid\"}, \"mode\": \"lines\", \"name\": \"subject=Hindi\", \"showlegend\": false, \"type\": \"scatter\", \"uid\": \"14c0d774-baaa-43b2-8b9b-ff54027ea3aa\", \"x\": [\"2007\", \"2009\"], \"xaxis\": \"x4\", \"y\": [16.489999999999995, 8.130000000000003], \"yaxis\": \"y4\"}, {\"hovertemplate\": \"class=6<br>subject=Social Studies<br>subject=Social Studies<br>year=%{x}<br>total_delta=%{y}<extra></extra>\", \"legendgroup\": \"subject=Social Studies\", \"line\": {\"color\": \"#19d3f3\", \"dash\": \"solid\"}, \"mode\": \"lines\", \"name\": \"subject=Social Studies\", \"showlegend\": false, \"type\": \"scatter\", \"uid\": \"6237b495-dd73-4b95-9973-adb4bc7517fe\", \"x\": [\"2007\"], \"xaxis\": \"x5\", \"y\": [7.579999999999998], \"yaxis\": \"y4\"}, {\"hovertemplate\": \"class=7<br>subject=English<br>subject=English<br>year=%{x}<br>total_delta=%{y}<extra></extra>\", \"legendgroup\": \"subject=English\", \"line\": {\"color\": \"#636efa\", \"dash\": \"solid\"}, \"mode\": \"lines\", \"name\": \"subject=English\", \"showlegend\": false, \"type\": \"scatter\", \"uid\": \"2dadf0b2-163b-4bd1-8365-12dcc87114f4\", \"x\": [\"2007\", \"2008\", \"2014\", \"2016\", \"2018\"], \"xaxis\": \"x\", \"y\": [16.61, 19.400000000000006, 14.389999999999993, 13.690000000000005, 21.700000000000003], \"yaxis\": \"y5\"}, {\"hovertemplate\": \"class=7<br>subject=Maths<br>subject=Maths<br>year=%{x}<br>total_delta=%{y}<extra></extra>\", \"legendgroup\": \"subject=Maths\", \"line\": {\"color\": \"#EF553B\", \"dash\": \"solid\"}, \"mode\": \"lines\", \"name\": \"subject=Maths\", \"showlegend\": false, \"type\": \"scatter\", \"uid\": \"1e0ac8b8-62af-41a5-b0ac-2ee4cc618fc5\", \"x\": [\"2007\", \"2008\", \"2009\", \"2014\", \"2016\", \"2018\"], \"xaxis\": \"x2\", \"y\": [15.150000000000006, 13.719999999999999, 8.579999999999998, 12.670000000000002, 7.219999999999999, 6.0], \"yaxis\": \"y5\"}, {\"hovertemplate\": \"class=7<br>subject=Science<br>subject=Science<br>year=%{x}<br>total_delta=%{y}<extra></extra>\", \"legendgroup\": \"subject=Science\", \"line\": {\"color\": \"#00cc96\", \"dash\": \"solid\"}, \"mode\": \"lines\", \"name\": \"subject=Science\", \"showlegend\": false, \"type\": \"scatter\", \"uid\": \"3346b31f-30ca-4bd8-ba39-6dbbe6e92381\", \"x\": [\"2007\", \"2008\", \"2009\", \"2014\", \"2016\", \"2018\"], \"xaxis\": \"x3\", \"y\": [7.799999999999997, 8.470000000000006, 4.1200000000000045, 5.160000000000004, 4.949999999999996, 8.639999999999993], \"yaxis\": \"y5\"}, {\"hovertemplate\": \"class=7<br>subject=Hindi<br>subject=Hindi<br>year=%{x}<br>total_delta=%{y}<extra></extra>\", \"legendgroup\": \"subject=Hindi\", \"line\": {\"color\": \"#ab63fa\", \"dash\": \"solid\"}, \"mode\": \"lines\", \"name\": \"subject=Hindi\", \"showlegend\": false, \"type\": \"scatter\", \"uid\": \"905c1731-2a03-4486-a841-290dcd9dcc31\", \"x\": [\"2007\", \"2009\"], \"xaxis\": \"x4\", \"y\": [10.769999999999996, 9.840000000000003], \"yaxis\": \"y5\"}, {\"hovertemplate\": \"class=7<br>subject=Social Studies<br>subject=Social Studies<br>year=%{x}<br>total_delta=%{y}<extra></extra>\", \"legendgroup\": \"subject=Social Studies\", \"line\": {\"color\": \"#19d3f3\", \"dash\": \"solid\"}, \"mode\": \"lines\", \"name\": \"subject=Social Studies\", \"showlegend\": false, \"type\": \"scatter\", \"uid\": \"e5dcb10b-c1f9-4d84-ac61-7fd6da0e6a1f\", \"x\": [\"2007\"], \"xaxis\": \"x5\", \"y\": [5.1200000000000045], \"yaxis\": \"y5\"}, {\"hovertemplate\": \"class=8<br>subject=English<br>subject=English<br>year=%{x}<br>total_delta=%{y}<extra></extra>\", \"legendgroup\": \"subject=English\", \"line\": {\"color\": \"#636efa\", \"dash\": \"solid\"}, \"mode\": \"lines\", \"name\": \"subject=English\", \"showlegend\": false, \"type\": \"scatter\", \"uid\": \"eeb41cf7-eea3-45e9-a0be-4b669a06e8cf\", \"x\": [\"2007\", \"2008\", \"2014\", \"2016\", \"2018\"], \"xaxis\": \"x\", \"y\": [27.71, 17.119999999999997, 13.170000000000002, 9.149999999999999, 18.66000000000001], \"yaxis\": \"y6\"}, {\"hovertemplate\": \"class=8<br>subject=Maths<br>subject=Maths<br>year=%{x}<br>total_delta=%{y}<extra></extra>\", \"legendgroup\": \"subject=Maths\", \"line\": {\"color\": \"#EF553B\", \"dash\": \"solid\"}, \"mode\": \"lines\", \"name\": \"subject=Maths\", \"showlegend\": false, \"type\": \"scatter\", \"uid\": \"e6c75c61-7517-4a4c-91c8-7207c07fca04\", \"x\": [\"2007\", \"2008\", \"2009\", \"2014\", \"2016\", \"2018\"], \"xaxis\": \"x2\", \"y\": [20.309999999999995, 9.450000000000003, 17.389999999999993, 7.090000000000003, 1.7099999999999937, 2.490000000000002], \"yaxis\": \"y6\"}, {\"hovertemplate\": \"class=8<br>subject=Science<br>subject=Science<br>year=%{x}<br>total_delta=%{y}<extra></extra>\", \"legendgroup\": \"subject=Science\", \"line\": {\"color\": \"#00cc96\", \"dash\": \"solid\"}, \"mode\": \"lines\", \"name\": \"subject=Science\", \"showlegend\": false, \"type\": \"scatter\", \"uid\": \"33f1f949-899c-4335-a377-f35cf9fa87bb\", \"x\": [\"2007\", \"2008\", \"2009\", \"2014\", \"2016\", \"2018\"], \"xaxis\": \"x3\", \"y\": [15.32, 11.089999999999996, 14.419999999999995, 6.609999999999999, 1.4099999999999966, -5.009999999999998], \"yaxis\": \"y6\"}, {\"hovertemplate\": \"class=8<br>subject=Hindi<br>subject=Hindi<br>year=%{x}<br>total_delta=%{y}<extra></extra>\", \"legendgroup\": \"subject=Hindi\", \"line\": {\"color\": \"#ab63fa\", \"dash\": \"solid\"}, \"mode\": \"lines\", \"name\": \"subject=Hindi\", \"showlegend\": false, \"type\": \"scatter\", \"uid\": \"4265089a-4541-4808-b57e-28f7129939c9\", \"x\": [\"2007\", \"2009\"], \"xaxis\": \"x4\", \"y\": [24.189999999999998, 15.980000000000004], \"yaxis\": \"y6\"}, {\"hovertemplate\": \"class=8<br>subject=Social Studies<br>subject=Social Studies<br>year=%{x}<br>total_delta=%{y}<extra></extra>\", \"legendgroup\": \"subject=Social Studies\", \"line\": {\"color\": \"#19d3f3\", \"dash\": \"solid\"}, \"mode\": \"lines\", \"name\": \"subject=Social Studies\", \"showlegend\": false, \"type\": \"scatter\", \"uid\": \"ef726aff-6b58-4b82-b620-f86e297d325d\", \"x\": [\"2007\"], \"xaxis\": \"x5\", \"y\": [10.350000000000001], \"yaxis\": \"y6\"}, {\"hovertemplate\": \"class=9<br>subject=English<br>subject=English<br>year=%{x}<br>total_delta=%{y}<extra></extra>\", \"legendgroup\": \"subject=English\", \"line\": {\"color\": \"#636efa\", \"dash\": \"solid\"}, \"mode\": \"lines\", \"name\": \"subject=English\", \"showlegend\": false, \"type\": \"scatter\", \"uid\": \"f7ec1c1a-bf3a-4970-b09d-2e6c8b541292\", \"x\": [\"2007\", \"2014\", \"2016\", \"2018\"], \"xaxis\": \"x\", \"y\": [17.79, 14.519999999999996, 18.960000000000008, 23.840000000000003], \"yaxis\": \"y7\"}, {\"hovertemplate\": \"class=9<br>subject=Maths<br>subject=Maths<br>year=%{x}<br>total_delta=%{y}<extra></extra>\", \"legendgroup\": \"subject=Maths\", \"line\": {\"color\": \"#EF553B\", \"dash\": \"solid\"}, \"mode\": \"lines\", \"name\": \"subject=Maths\", \"showlegend\": false, \"type\": \"scatter\", \"uid\": \"6ace10c3-d17b-47d7-af82-1fb310b572b2\", \"x\": [\"2007\", \"2008\", \"2014\", \"2016\", \"2018\"], \"xaxis\": \"x2\", \"y\": [13.89, 6.219999999999999, 4.240000000000002, 6.100000000000001, 5.289999999999999], \"yaxis\": \"y7\"}, {\"hovertemplate\": \"class=9<br>subject=Science<br>subject=Science<br>year=%{x}<br>total_delta=%{y}<extra></extra>\", \"legendgroup\": \"subject=Science\", \"line\": {\"color\": \"#00cc96\", \"dash\": \"solid\"}, \"mode\": \"lines\", \"name\": \"subject=Science\", \"showlegend\": false, \"type\": \"scatter\", \"uid\": \"14c3d4f5-6175-4e95-8ee1-d18dd455a960\", \"x\": [\"2007\", \"2008\", \"2009\", \"2014\", \"2016\", \"2018\"], \"xaxis\": \"x3\", \"y\": [9.240000000000002, 9.959999999999994, 7.5, 4.07, 2.5900000000000034, 5.759999999999998], \"yaxis\": \"y7\"}, {\"hovertemplate\": \"class=9<br>subject=Social Studies<br>subject=Social Studies<br>year=%{x}<br>total_delta=%{y}<extra></extra>\", \"legendgroup\": \"subject=Social Studies\", \"line\": {\"color\": \"#19d3f3\", \"dash\": \"solid\"}, \"mode\": \"lines\", \"name\": \"subject=Social Studies\", \"showlegend\": false, \"type\": \"scatter\", \"uid\": \"34e07f03-0652-4d5e-a650-7baf46512bf1\", \"x\": [\"2007\"], \"xaxis\": \"x5\", \"y\": [11.309999999999995], \"yaxis\": \"y7\"}, {\"hovertemplate\": \"class=10<br>subject=English<br>subject=English<br>year=%{x}<br>total_delta=%{y}<extra></extra>\", \"legendgroup\": \"subject=English\", \"line\": {\"color\": \"#636efa\", \"dash\": \"solid\"}, \"mode\": \"lines\", \"name\": \"subject=English\", \"showlegend\": false, \"type\": \"scatter\", \"uid\": \"05b4dbf6-8284-446b-94fd-de0fffad0f37\", \"x\": [\"2008\", \"2014\", \"2016\"], \"xaxis\": \"x\", \"y\": [17.549999999999997, 14.509999999999998, 14.5], \"yaxis\": \"y8\"}, {\"hovertemplate\": \"class=10<br>subject=Maths<br>subject=Maths<br>year=%{x}<br>total_delta=%{y}<extra></extra>\", \"legendgroup\": \"subject=Maths\", \"line\": {\"color\": \"#EF553B\", \"dash\": \"solid\"}, \"mode\": \"lines\", \"name\": \"subject=Maths\", \"showlegend\": false, \"type\": \"scatter\", \"uid\": \"7b90062f-9200-4a25-a26c-d0f2c9cc4987\", \"x\": [\"2009\", \"2014\", \"2016\"], \"xaxis\": \"x2\", \"y\": [13.800000000000004, -0.03999999999999915, 5.050000000000004], \"yaxis\": \"y8\"}, {\"hovertemplate\": \"class=10<br>subject=Science<br>subject=Science<br>year=%{x}<br>total_delta=%{y}<extra></extra>\", \"legendgroup\": \"subject=Science\", \"line\": {\"color\": \"#00cc96\", \"dash\": \"solid\"}, \"mode\": \"lines\", \"name\": \"subject=Science\", \"showlegend\": false, \"type\": \"scatter\", \"uid\": \"f96c30e8-9559-4236-9d10-64b70e3abcfc\", \"x\": [\"2014\", \"2016\"], \"xaxis\": \"x3\", \"y\": [1.1400000000000006, 4.720000000000006], \"yaxis\": \"y8\"}],\n",
       "                        {\"annotations\": [{\"showarrow\": false, \"text\": \"subject=English\", \"textangle\": 0, \"x\": 0.09183673469387754, \"xanchor\": \"center\", \"xref\": \"paper\", \"y\": 1.02, \"yanchor\": \"middle\", \"yref\": \"paper\"}, {\"showarrow\": false, \"text\": \"subject=Maths\", \"textangle\": 0, \"x\": 0.2959183673469387, \"xanchor\": \"center\", \"xref\": \"paper\", \"y\": 1.02, \"yanchor\": \"middle\", \"yref\": \"paper\"}, {\"showarrow\": false, \"text\": \"subject=Science\", \"textangle\": 0, \"x\": 0.5, \"xanchor\": \"center\", \"xref\": \"paper\", \"y\": 1.02, \"yanchor\": \"middle\", \"yref\": \"paper\"}, {\"showarrow\": false, \"text\": \"subject=Hindi\", \"textangle\": 0, \"x\": 0.7040816326530612, \"xanchor\": \"center\", \"xref\": \"paper\", \"y\": 1.02, \"yanchor\": \"middle\", \"yref\": \"paper\"}, {\"showarrow\": false, \"text\": \"subject=Social Studies\", \"textangle\": 0, \"x\": 0.9081632653061223, \"xanchor\": \"center\", \"xref\": \"paper\", \"y\": 1.02, \"yanchor\": \"middle\", \"yref\": \"paper\"}, {\"showarrow\": false, \"text\": \"class=3\", \"textangle\": 90, \"x\": 1.01, \"xanchor\": \"center\", \"xref\": \"paper\", \"y\": 0.9430379746835442, \"yanchor\": \"middle\", \"yref\": \"paper\"}, {\"showarrow\": false, \"text\": \"class=4\", \"textangle\": 90, \"x\": 1.01, \"xanchor\": \"center\", \"xref\": \"paper\", \"y\": 0.8164556962025316, \"yanchor\": \"middle\", \"yref\": \"paper\"}, {\"showarrow\": false, \"text\": \"class=5\", \"textangle\": 90, \"x\": 1.01, \"xanchor\": \"center\", \"xref\": \"paper\", \"y\": 0.6898734177215189, \"yanchor\": \"middle\", \"yref\": \"paper\"}, {\"showarrow\": false, \"text\": \"class=6\", \"textangle\": 90, \"x\": 1.01, \"xanchor\": \"center\", \"xref\": \"paper\", \"y\": 0.5632911392405062, \"yanchor\": \"middle\", \"yref\": \"paper\"}, {\"showarrow\": false, \"text\": \"class=7\", \"textangle\": 90, \"x\": 1.01, \"xanchor\": \"center\", \"xref\": \"paper\", \"y\": 0.4367088607594936, \"yanchor\": \"middle\", \"yref\": \"paper\"}, {\"showarrow\": false, \"text\": \"class=8\", \"textangle\": 90, \"x\": 1.01, \"xanchor\": \"center\", \"xref\": \"paper\", \"y\": 0.310126582278481, \"yanchor\": \"middle\", \"yref\": \"paper\"}, {\"showarrow\": false, \"text\": \"class=9\", \"textangle\": 90, \"x\": 1.01, \"xanchor\": \"center\", \"xref\": \"paper\", \"y\": 0.18354430379746833, \"yanchor\": \"middle\", \"yref\": \"paper\"}, {\"showarrow\": false, \"text\": \"class=10\", \"textangle\": 90, \"x\": 1.01, \"xanchor\": \"center\", \"xref\": \"paper\", \"y\": 0.05696202531645569, \"yanchor\": \"middle\", \"yref\": \"paper\"}], \"grid\": {\"xaxes\": [\"x\", \"x2\", \"x3\", \"x4\", \"x5\"], \"xgap\": 0.1, \"xside\": \"bottom\", \"yaxes\": [\"y\", \"y2\", \"y3\", \"y4\", \"y5\", \"y6\", \"y7\", \"y8\"], \"ygap\": 0.1, \"yside\": \"left\"}, \"height\": 2000, \"legend\": {\"tracegroupgap\": 0}, \"template\": {\"data\": {\"bar\": [{\"marker\": {\"line\": {\"color\": \"#E5ECF6\", \"width\": 0.5}}, \"type\": \"bar\"}], \"barpolar\": [{\"marker\": {\"line\": {\"color\": \"#E5ECF6\", \"width\": 0.5}}, \"type\": \"barpolar\"}], \"carpet\": [{\"aaxis\": {\"endlinecolor\": \"#2a3f5f\", \"gridcolor\": \"white\", \"linecolor\": \"white\", \"minorgridcolor\": \"white\", \"startlinecolor\": \"#2a3f5f\"}, \"baxis\": {\"endlinecolor\": \"#2a3f5f\", \"gridcolor\": \"white\", \"linecolor\": \"white\", \"minorgridcolor\": \"white\", \"startlinecolor\": \"#2a3f5f\"}, \"type\": \"carpet\"}], \"choropleth\": [{\"colorbar\": {\"outlinewidth\": 0, \"ticks\": \"\"}, \"type\": \"choropleth\"}], \"contour\": [{\"autocolorscale\": true, \"colorbar\": {\"outlinewidth\": 0, \"ticks\": \"\"}, \"type\": \"contour\"}], \"contourcarpet\": [{\"colorbar\": {\"outlinewidth\": 0, \"ticks\": \"\"}, \"type\": \"contourcarpet\"}], \"heatmap\": [{\"autocolorscale\": true, \"colorbar\": {\"outlinewidth\": 0, \"ticks\": \"\"}, \"type\": \"heatmap\"}], \"heatmapgl\": [{\"colorbar\": {\"outlinewidth\": 0, \"ticks\": \"\"}, \"type\": \"heatmapgl\"}], \"histogram\": [{\"marker\": {\"colorbar\": {\"outlinewidth\": 0, \"ticks\": \"\"}}, \"type\": \"histogram\"}], \"histogram2d\": [{\"autocolorscale\": true, \"colorbar\": {\"outlinewidth\": 0, \"ticks\": \"\"}, \"type\": \"histogram2d\"}], \"histogram2dcontour\": [{\"autocolorscale\": true, \"colorbar\": {\"outlinewidth\": 0, \"ticks\": \"\"}, \"type\": \"histogram2dcontour\"}], \"mesh3d\": [{\"colorbar\": {\"outlinewidth\": 0, \"ticks\": \"\"}, \"type\": \"mesh3d\"}], \"parcoords\": [{\"line\": {\"colorbar\": {\"outlinewidth\": 0, \"ticks\": \"\"}}, \"type\": \"parcoords\"}], \"scatter\": [{\"marker\": {\"colorbar\": {\"outlinewidth\": 0, \"ticks\": \"\"}}, \"type\": \"scatter\"}], \"scatter3d\": [{\"marker\": {\"colorbar\": {\"outlinewidth\": 0, \"ticks\": \"\"}}, \"type\": \"scatter3d\"}], \"scattercarpet\": [{\"marker\": {\"colorbar\": {\"outlinewidth\": 0, \"ticks\": \"\"}}, \"type\": \"scattercarpet\"}], \"scattergeo\": [{\"marker\": {\"colorbar\": {\"outlinewidth\": 0, \"ticks\": \"\"}}, \"type\": \"scattergeo\"}], \"scattergl\": [{\"marker\": {\"colorbar\": {\"outlinewidth\": 0, \"ticks\": \"\"}}, \"type\": \"scattergl\"}], \"scattermapbox\": [{\"marker\": {\"colorbar\": {\"outlinewidth\": 0, \"ticks\": \"\"}}, \"type\": \"scattermapbox\"}], \"scatterpolar\": [{\"marker\": {\"colorbar\": {\"outlinewidth\": 0, \"ticks\": \"\"}}, \"type\": \"scatterpolar\"}], \"scatterpolargl\": [{\"marker\": {\"colorbar\": {\"outlinewidth\": 0, \"ticks\": \"\"}}, \"type\": \"scatterpolargl\"}], \"scatterternary\": [{\"marker\": {\"colorbar\": {\"outlinewidth\": 0, \"ticks\": \"\"}}, \"type\": \"scatterternary\"}], \"surface\": [{\"colorbar\": {\"outlinewidth\": 0, \"ticks\": \"\"}, \"type\": \"surface\"}], \"table\": [{\"cells\": {\"fill\": {\"color\": \"#EBF0F8\"}, \"line\": {\"color\": \"white\"}}, \"header\": {\"fill\": {\"color\": \"#C8D4E3\"}, \"line\": {\"color\": \"white\"}}, \"type\": \"table\"}]}, \"layout\": {\"annotationdefaults\": {\"arrowcolor\": \"#506784\", \"arrowhead\": 0, \"arrowwidth\": 1}, \"colorscale\": {\"diverging\": [[0, \"#8e0152\"], [0.1, \"#c51b7d\"], [0.2, \"#de77ae\"], [0.3, \"#f1b6da\"], [0.4, \"#fde0ef\"], [0.5, \"#f7f7f7\"], [0.6, \"#e6f5d0\"], [0.7, \"#b8e186\"], [0.8, \"#7fbc41\"], [0.9, \"#4d9221\"], [1, \"#276419\"]], \"sequential\": [[0.0, \"#0508b8\"], [0.0893854748603352, \"#1910d8\"], [0.1787709497206704, \"#3c19f0\"], [0.2681564245810056, \"#6b1cfb\"], [0.3575418994413408, \"#981cfd\"], [0.44692737430167595, \"#bf1cfd\"], [0.5363128491620112, \"#dd2bfd\"], [0.6256983240223464, \"#f246fe\"], [0.7150837988826816, \"#fc67fd\"], [0.8044692737430168, \"#fe88fc\"], [0.8938547486033519, \"#fea5fd\"], [0.9832402234636871, \"#febefe\"], [1.0, \"#fec3fe\"]], \"sequentialminus\": [[0.0, \"#0508b8\"], [0.0893854748603352, \"#1910d8\"], [0.1787709497206704, \"#3c19f0\"], [0.2681564245810056, \"#6b1cfb\"], [0.3575418994413408, \"#981cfd\"], [0.44692737430167595, \"#bf1cfd\"], [0.5363128491620112, \"#dd2bfd\"], [0.6256983240223464, \"#f246fe\"], [0.7150837988826816, \"#fc67fd\"], [0.8044692737430168, \"#fe88fc\"], [0.8938547486033519, \"#fea5fd\"], [0.9832402234636871, \"#febefe\"], [1.0, \"#fec3fe\"]]}, \"colorway\": [\"#636efa\", \"#EF553B\", \"#00cc96\", \"#ab63fa\", \"#19d3f3\", \"#e763fa\", \"#FECB52\", \"#FFA15A\", \"#FF6692\", \"#B6E880\"], \"font\": {\"color\": \"#2a3f5f\"}, \"geo\": {\"bgcolor\": \"white\", \"lakecolor\": \"white\", \"landcolor\": \"#E5ECF6\", \"showlakes\": true, \"showland\": true, \"subunitcolor\": \"white\"}, \"hoverlabel\": {\"align\": \"left\"}, \"hovermode\": \"closest\", \"legend\": {\"itemsizing\": \"constant\"}, \"mapbox\": {\"style\": \"light\"}, \"paper_bgcolor\": \"white\", \"plot_bgcolor\": \"#E5ECF6\", \"polar\": {\"angularaxis\": {\"gridcolor\": \"white\", \"linecolor\": \"white\", \"ticks\": \"\"}, \"bgcolor\": \"#E5ECF6\", \"radialaxis\": {\"gridcolor\": \"white\", \"linecolor\": \"white\", \"ticks\": \"\"}}, \"scene\": {\"xaxis\": {\"backgroundcolor\": \"#E5ECF6\", \"gridcolor\": \"white\", \"gridwidth\": 2, \"linecolor\": \"white\", \"showbackground\": true, \"ticks\": \"\", \"zerolinecolor\": \"white\"}, \"yaxis\": {\"backgroundcolor\": \"#E5ECF6\", \"gridcolor\": \"white\", \"gridwidth\": 2, \"linecolor\": \"white\", \"showbackground\": true, \"ticks\": \"\", \"zerolinecolor\": \"white\"}, \"zaxis\": {\"backgroundcolor\": \"#E5ECF6\", \"gridcolor\": \"white\", \"gridwidth\": 2, \"linecolor\": \"white\", \"showbackground\": true, \"ticks\": \"\", \"zerolinecolor\": \"white\"}}, \"shapedefaults\": {\"fillcolor\": \"#506784\", \"line\": {\"width\": 0}, \"opacity\": 0.4}, \"ternary\": {\"aaxis\": {\"gridcolor\": \"white\", \"linecolor\": \"white\", \"ticks\": \"\"}, \"baxis\": {\"gridcolor\": \"white\", \"linecolor\": \"white\", \"ticks\": \"\"}, \"bgcolor\": \"#E5ECF6\", \"caxis\": {\"gridcolor\": \"white\", \"linecolor\": \"white\", \"ticks\": \"\"}}, \"title\": {\"x\": 0.05}, \"xaxis\": {\"automargin\": true, \"gridcolor\": \"white\", \"linecolor\": \"white\", \"ticks\": \"\", \"zerolinecolor\": \"white\", \"zerolinewidth\": 2}, \"yaxis\": {\"automargin\": true, \"gridcolor\": \"white\", \"linecolor\": \"white\", \"ticks\": \"\", \"zerolinecolor\": \"white\", \"zerolinewidth\": 2}}}, \"title\": {\"text\": \"School code 173428 Scores across subjects and grades represented as a difference from National Average\"}, \"width\": 2000, \"xaxis\": {\"range\": [2006, 2019], \"title\": {\"text\": \"year\"}}, \"xaxis2\": {\"matches\": \"x\", \"title\": {\"text\": \"year\"}}, \"xaxis3\": {\"matches\": \"x\", \"title\": {\"text\": \"year\"}}, \"xaxis4\": {\"matches\": \"x\", \"title\": {\"text\": \"year\"}}, \"xaxis5\": {\"matches\": \"x\", \"title\": {\"text\": \"year\"}}, \"yaxis\": {\"title\": {\"text\": \"total_delta\"}}, \"yaxis2\": {\"matches\": \"y\", \"title\": {\"text\": \"total_delta\"}}, \"yaxis3\": {\"matches\": \"y\", \"title\": {\"text\": \"total_delta\"}}, \"yaxis4\": {\"matches\": \"y\", \"title\": {\"text\": \"total_delta\"}}, \"yaxis5\": {\"matches\": \"y\", \"title\": {\"text\": \"total_delta\"}}, \"yaxis6\": {\"matches\": \"y\", \"title\": {\"text\": \"total_delta\"}}, \"yaxis7\": {\"matches\": \"y\", \"title\": {\"text\": \"total_delta\"}}, \"yaxis8\": {\"matches\": \"y\", \"title\": {\"text\": \"total_delta\"}}},\n",
       "                        {\"showLink\": false, \"linkText\": \"Export to plot.ly\", \"plotlyServerURL\": \"https://plot.ly\"}\n",
       "                    )\n",
       "                };\n",
       "                });\n",
       "            </script>\n",
       "        </div>"
      ]
     },
     "metadata": {},
     "output_type": "display_data"
    }
   ],
   "source": [
    "px.line(df_school.sort_values('year').drop_duplicates(['papercode']), \n",
    "       x = 'year', \n",
    "       y = 'total_delta', \n",
    "        color='subject', \n",
    "       facet_row='class',\n",
    "       facet_col='subject', \n",
    "       height = 2000,\n",
    "       width = 2000,\n",
    "       labels = {'year'},\n",
    "       range_x = [2006, 2019],\n",
    "      title = 'School: %s Scores across subjects and grades represented as a difference from National Average'%school_name)"
   ]
  },
  {
   "cell_type": "code",
   "execution_count": 126,
   "metadata": {},
   "outputs": [
    {
     "data": {
      "application/vnd.plotly.v1+json": {
       "config": {
        "linkText": "Export to plot.ly",
        "plotlyServerURL": "https://plot.ly",
        "showLink": false
       },
       "data": [
        {
         "hovertemplate": "class=3<br>subject=English<br>subject=English<br>year=%{x}<br>total_delta=%{y}<br>studentCount=%{marker.size}<extra></extra>",
         "legendgroup": "subject=English",
         "marker": {
          "color": "#636efa",
          "size": [
           19,
           74,
           105,
           102,
           106
          ],
          "sizemode": "area",
          "sizeref": 1.15,
          "symbol": "circle"
         },
         "mode": "markers",
         "name": "subject=English",
         "showlegend": true,
         "type": "scatter",
         "uid": "956f427a-aef6-4bec-ab33-b3642e5e9b44",
         "x": [
          "2007",
          "2008",
          "2014",
          "2016",
          "2018"
         ],
         "xaxis": "x",
         "y": [
          19.879999999999995,
          11,
          9.43,
          8.07,
          10.910000000000004
         ],
         "yaxis": "y"
        },
        {
         "hovertemplate": "<b>LOWESS trendline</b><br><br>class=3<br>subject=English<br>subject=English<br>year=%{x}<br>total_delta=%{y} <b>(trend)</b><extra></extra>",
         "legendgroup": "subject=English",
         "marker": {
          "color": "#636efa",
          "symbol": "circle"
         },
         "mode": "lines",
         "name": "subject=English",
         "showlegend": false,
         "type": "scatter",
         "uid": "1c10393c-9937-4555-8d2b-7a094d31ba3f",
         "x": [
          2007,
          2008,
          2014,
          2016,
          2018
         ],
         "xaxis": "x",
         "y": [
          19.880000000008433,
          11.000000000004873,
          9.43,
          8.07,
          10.910000000000004
         ],
         "yaxis": "y"
        },
        {
         "hovertemplate": "class=3<br>subject=Maths<br>subject=Maths<br>year=%{x}<br>total_delta=%{y}<br>studentCount=%{marker.size}<extra></extra>",
         "legendgroup": "subject=Maths",
         "marker": {
          "color": "#EF553B",
          "size": [
           19,
           74,
           75,
           106,
           109,
           108
          ],
          "sizemode": "area",
          "sizeref": 1.15,
          "symbol": "circle"
         },
         "mode": "markers",
         "name": "subject=Maths",
         "showlegend": true,
         "type": "scatter",
         "uid": "b933959f-06a0-41ba-bd60-5fd0714a4991",
         "x": [
          "2007",
          "2008",
          "2009",
          "2014",
          "2016",
          "2018"
         ],
         "xaxis": "x2",
         "y": [
          5.719999999999999,
          -2.6799999999999997,
          2.6599999999999966,
          2.280000000000001,
          9.049999999999997,
          6.780000000000001
         ],
         "yaxis": "y"
        },
        {
         "hovertemplate": "<b>LOWESS trendline</b><br><br>class=3<br>subject=Maths<br>subject=Maths<br>year=%{x}<br>total_delta=%{y} <b>(trend)</b><extra></extra>",
         "legendgroup": "subject=Maths",
         "marker": {
          "color": "#EF553B",
          "symbol": "circle"
         },
         "mode": "lines",
         "name": "subject=Maths",
         "showlegend": false,
         "type": "scatter",
         "uid": "4104f8dd-c7e0-4eb5-a065-a685ee6aa0b8",
         "x": [
          2007,
          2008,
          2009,
          2014,
          2016,
          2018
         ],
         "xaxis": "x2",
         "y": [
          4.084527943480181,
          2.514813101708989,
          1.0768972765267137,
          2.8598689770464105,
          5.9522055106356575,
          8.06031388317437
         ],
         "yaxis": "y"
        },
        {
         "hovertemplate": "class=3<br>subject=Science<br>subject=Science<br>year=%{x}<br>total_delta=%{y}<br>studentCount=%{marker.size}<extra></extra>",
         "legendgroup": "subject=Science",
         "marker": {
          "color": "#00cc96",
          "size": [
           18,
           73,
           75,
           106,
           109,
           113
          ],
          "sizemode": "area",
          "sizeref": 1.15,
          "symbol": "circle"
         },
         "mode": "markers",
         "name": "subject=Science",
         "showlegend": true,
         "type": "scatter",
         "uid": "d270b78c-e8b5-43e6-b62c-ae999fbed843",
         "x": [
          "2007",
          "2008",
          "2009",
          "2014",
          "2016",
          "2018"
         ],
         "xaxis": "x3",
         "y": [
          4.359999999999999,
          4.590000000000003,
          4.159999999999997,
          -2.1999999999999957,
          4.980000000000004,
          3.229999999999997
         ],
         "yaxis": "y"
        },
        {
         "hovertemplate": "<b>LOWESS trendline</b><br><br>class=3<br>subject=Science<br>subject=Science<br>year=%{x}<br>total_delta=%{y} <b>(trend)</b><extra></extra>",
         "legendgroup": "subject=Science",
         "marker": {
          "color": "#00cc96",
          "symbol": "circle"
         },
         "mode": "lines",
         "name": "subject=Science",
         "showlegend": false,
         "type": "scatter",
         "uid": "1c5c58d2-7377-4b14-ac16-d847cff97cb6",
         "x": [
          2007,
          2008,
          2009,
          2014,
          2016,
          2018
         ],
         "xaxis": "x3",
         "y": [
          4.446036144988133,
          4.348146799169464,
          4.243165225749942,
          -2.2000000000001108,
          0.5150000000000006,
          3.230000000000051
         ],
         "yaxis": "y"
        },
        {
         "hovertemplate": "class=4<br>subject=English<br>subject=English<br>year=%{x}<br>total_delta=%{y}<br>studentCount=%{marker.size}<extra></extra>",
         "legendgroup": "subject=English",
         "marker": {
          "color": "#636efa",
          "size": [
           15,
           73,
           104,
           108,
           108
          ],
          "sizemode": "area",
          "sizeref": 1.15,
          "symbol": "circle"
         },
         "mode": "markers",
         "name": "subject=English",
         "showlegend": false,
         "type": "scatter",
         "uid": "ee60f032-210e-4360-a30a-47b1ac1b62ca",
         "x": [
          "2007",
          "2008",
          "2014",
          "2016",
          "2018"
         ],
         "xaxis": "x",
         "y": [
          3.6999999999999957,
          11.64,
          10.469999999999999,
          9.100000000000001,
          18.85000000000001
         ],
         "yaxis": "y2"
        },
        {
         "hovertemplate": "<b>LOWESS trendline</b><br><br>class=4<br>subject=English<br>subject=English<br>year=%{x}<br>total_delta=%{y} <b>(trend)</b><extra></extra>",
         "legendgroup": "subject=English",
         "marker": {
          "color": "#636efa",
          "symbol": "circle"
         },
         "mode": "lines",
         "name": "subject=English",
         "showlegend": false,
         "type": "scatter",
         "uid": "af361647-d121-429a-83d1-e285ea1c851e",
         "x": [
          2007,
          2008,
          2014,
          2016,
          2018
         ],
         "xaxis": "x",
         "y": [
          3.700000000000277,
          11.639999999999144,
          10.470000000000892,
          9.100000000000001,
          18.85000000000001
         ],
         "yaxis": "y2"
        },
        {
         "hovertemplate": "class=4<br>subject=Maths<br>subject=Maths<br>year=%{x}<br>total_delta=%{y}<br>studentCount=%{marker.size}<extra></extra>",
         "legendgroup": "subject=Maths",
         "marker": {
          "color": "#EF553B",
          "size": [
           14,
           72,
           75,
           104,
           111,
           113
          ],
          "sizemode": "area",
          "sizeref": 1.15,
          "symbol": "circle"
         },
         "mode": "markers",
         "name": "subject=Maths",
         "showlegend": false,
         "type": "scatter",
         "uid": "2aff242a-eb0a-4f93-94b7-dda22c4194b7",
         "x": [
          "2007",
          "2008",
          "2009",
          "2014",
          "2016",
          "2018"
         ],
         "xaxis": "x2",
         "y": [
          3.759999999999998,
          -0.5,
          3.9399999999999977,
          -0.5200000000000031,
          -0.9500000000000028,
          3.190000000000005
         ],
         "yaxis": "y2"
        },
        {
         "hovertemplate": "<b>LOWESS trendline</b><br><br>class=4<br>subject=Maths<br>subject=Maths<br>year=%{x}<br>total_delta=%{y} <b>(trend)</b><extra></extra>",
         "legendgroup": "subject=Maths",
         "marker": {
          "color": "#EF553B",
          "symbol": "circle"
         },
         "mode": "lines",
         "name": "subject=Maths",
         "showlegend": false,
         "type": "scatter",
         "uid": "bd07009a-bcf4-4c41-a3c0-d0cf403eb64b",
         "x": [
          2007,
          2008,
          2009,
          2014,
          2016,
          2018
         ],
         "xaxis": "x2",
         "y": [
          2.7244390908515306,
          2.7892921386380576,
          2.9375987122128118,
          -0.8216792005429054,
          0.5848759693185801,
          2.517869910004221
         ],
         "yaxis": "y2"
        },
        {
         "hovertemplate": "class=4<br>subject=Science<br>subject=Science<br>year=%{x}<br>total_delta=%{y}<br>studentCount=%{marker.size}<extra></extra>",
         "legendgroup": "subject=Science",
         "marker": {
          "color": "#00cc96",
          "size": [
           12,
           73,
           75,
           104,
           112,
           113
          ],
          "sizemode": "area",
          "sizeref": 1.15,
          "symbol": "circle"
         },
         "mode": "markers",
         "name": "subject=Science",
         "showlegend": false,
         "type": "scatter",
         "uid": "928c6e1a-ea95-437a-b8f1-0b544b2d5ee1",
         "x": [
          "2007",
          "2008",
          "2009",
          "2014",
          "2016",
          "2018"
         ],
         "xaxis": "x3",
         "y": [
          -2.9200000000000017,
          -0.38000000000000256,
          1.1999999999999957,
          0.8000000000000043,
          2.4200000000000017,
          3.559999999999995
         ],
         "yaxis": "y2"
        },
        {
         "hovertemplate": "<b>LOWESS trendline</b><br><br>class=4<br>subject=Science<br>subject=Science<br>year=%{x}<br>total_delta=%{y} <b>(trend)</b><extra></extra>",
         "legendgroup": "subject=Science",
         "marker": {
          "color": "#00cc96",
          "symbol": "circle"
         },
         "mode": "lines",
         "name": "subject=Science",
         "showlegend": false,
         "type": "scatter",
         "uid": "b3881ba1-0cd2-4903-bdee-a2560dd9edee",
         "x": [
          2007,
          2008,
          2009,
          2014,
          2016,
          2018
         ],
         "xaxis": "x3",
         "y": [
          -2.8058416945400286,
          -0.7430698385661496,
          1.3105043992792829,
          0.8318267530347279,
          2.259289837275184,
          3.6309878888126788
         ],
         "yaxis": "y2"
        },
        {
         "hovertemplate": "class=4<br>subject=Hindi<br>subject=Hindi<br>year=%{x}<br>total_delta=%{y}<br>studentCount=%{marker.size}<extra></extra>",
         "legendgroup": "subject=Hindi",
         "marker": {
          "color": "#ab63fa",
          "size": [
           7,
           71
          ],
          "sizemode": "area",
          "sizeref": 1.15,
          "symbol": "circle"
         },
         "mode": "markers",
         "name": "subject=Hindi",
         "showlegend": true,
         "type": "scatter",
         "uid": "8ea144a1-cb57-42e9-93c0-9a7aa2bd10fb",
         "x": [
          "2007",
          "2009"
         ],
         "xaxis": "x4",
         "y": [
          4.369999999999997,
          5.450000000000003
         ],
         "yaxis": "y2"
        },
        {
         "hovertemplate": "<b>LOWESS trendline</b><br><br>class=4<br>subject=Hindi<br>subject=Hindi<br>year=%{x}<br>total_delta=%{y} <b>(trend)</b><extra></extra>",
         "legendgroup": "subject=Hindi",
         "marker": {
          "color": "#ab63fa",
          "symbol": "circle"
         },
         "mode": "lines",
         "name": "subject=Hindi",
         "showlegend": false,
         "type": "scatter",
         "uid": "3dbf7edf-fadf-4a77-8995-6f1c0b616482",
         "x": [
          2007,
          2009
         ],
         "xaxis": "x4",
         "y": [
          4.369999999999997,
          5.450000000000003
         ],
         "yaxis": "y2"
        },
        {
         "hovertemplate": "class=5<br>subject=English<br>subject=English<br>year=%{x}<br>total_delta=%{y}<br>studentCount=%{marker.size}<extra></extra>",
         "legendgroup": "subject=English",
         "marker": {
          "color": "#636efa",
          "size": [
           16,
           73,
           108,
           103,
           109
          ],
          "sizemode": "area",
          "sizeref": 1.15,
          "symbol": "circle"
         },
         "mode": "markers",
         "name": "subject=English",
         "showlegend": false,
         "type": "scatter",
         "uid": "a89d7db2-ce7d-4341-8324-747ab7e49f1b",
         "x": [
          "2007",
          "2008",
          "2014",
          "2016",
          "2018"
         ],
         "xaxis": "x",
         "y": [
          17.32,
          8.380000000000003,
          12.480000000000004,
          10.479999999999997,
          15.069999999999993
         ],
         "yaxis": "y3"
        },
        {
         "hovertemplate": "<b>LOWESS trendline</b><br><br>class=5<br>subject=English<br>subject=English<br>year=%{x}<br>total_delta=%{y} <b>(trend)</b><extra></extra>",
         "legendgroup": "subject=English",
         "marker": {
          "color": "#636efa",
          "symbol": "circle"
         },
         "mode": "lines",
         "name": "subject=English",
         "showlegend": false,
         "type": "scatter",
         "uid": "b90f1a7e-be3d-48a2-9170-f86215a89810",
         "x": [
          2007,
          2008,
          2014,
          2016,
          2018
         ],
         "xaxis": "x",
         "y": [
          17.319999999988582,
          8.379999999992238,
          12.48000000000128,
          10.479999999999997,
          15.070000000002814
         ],
         "yaxis": "y3"
        },
        {
         "hovertemplate": "class=5<br>subject=Maths<br>subject=Maths<br>year=%{x}<br>total_delta=%{y}<br>studentCount=%{marker.size}<extra></extra>",
         "legendgroup": "subject=Maths",
         "marker": {
          "color": "#EF553B",
          "size": [
           16,
           73,
           75,
           108,
           107,
           112
          ],
          "sizemode": "area",
          "sizeref": 1.15,
          "symbol": "circle"
         },
         "mode": "markers",
         "name": "subject=Maths",
         "showlegend": false,
         "type": "scatter",
         "uid": "5a3d5cbb-0345-46f9-a9d4-9c45ea5ac373",
         "x": [
          "2007",
          "2008",
          "2009",
          "2014",
          "2016",
          "2018"
         ],
         "xaxis": "x2",
         "y": [
          7.869999999999997,
          -0.1600000000000037,
          5.199999999999996,
          5.520000000000003,
          3.8900000000000006,
          4.990000000000002
         ],
         "yaxis": "y3"
        },
        {
         "hovertemplate": "<b>LOWESS trendline</b><br><br>class=5<br>subject=Maths<br>subject=Maths<br>year=%{x}<br>total_delta=%{y} <b>(trend)</b><extra></extra>",
         "legendgroup": "subject=Maths",
         "marker": {
          "color": "#EF553B",
          "symbol": "circle"
         },
         "mode": "lines",
         "name": "subject=Maths",
         "showlegend": false,
         "type": "scatter",
         "uid": "a27a5722-fb8f-4b59-9767-201a5287295c",
         "x": [
          2007,
          2008,
          2009,
          2014,
          2016,
          2018
         ],
         "xaxis": "x2",
         "y": [
          7.869999999999708,
          6.5350000000002675,
          5.200000000000469,
          5.336249568349399,
          4.794236589300695,
          4.578642964467227
         ],
         "yaxis": "y3"
        },
        {
         "hovertemplate": "class=5<br>subject=Science<br>subject=Science<br>year=%{x}<br>total_delta=%{y}<br>studentCount=%{marker.size}<extra></extra>",
         "legendgroup": "subject=Science",
         "marker": {
          "color": "#00cc96",
          "size": [
           12,
           74,
           75,
           107,
           105,
           113
          ],
          "sizemode": "area",
          "sizeref": 1.15,
          "symbol": "circle"
         },
         "mode": "markers",
         "name": "subject=Science",
         "showlegend": false,
         "type": "scatter",
         "uid": "2d64371d-d359-43f5-8c73-f667e6fcc94e",
         "x": [
          "2007",
          "2008",
          "2009",
          "2014",
          "2016",
          "2018"
         ],
         "xaxis": "x3",
         "y": [
          6.780000000000001,
          -1.2299999999999969,
          4.270000000000003,
          3.1999999999999957,
          -0.8999999999999986,
          0.75
         ],
         "yaxis": "y3"
        },
        {
         "hovertemplate": "<b>LOWESS trendline</b><br><br>class=5<br>subject=Science<br>subject=Science<br>year=%{x}<br>total_delta=%{y} <b>(trend)</b><extra></extra>",
         "legendgroup": "subject=Science",
         "marker": {
          "color": "#00cc96",
          "symbol": "circle"
         },
         "mode": "lines",
         "name": "subject=Science",
         "showlegend": false,
         "type": "scatter",
         "uid": "e31c2ba4-c8db-4349-b443-ec51a61b2eba",
         "x": [
          2007,
          2008,
          2009,
          2014,
          2016,
          2018
         ],
         "xaxis": "x3",
         "y": [
          5.219412175534799,
          3.9266408779042767,
          2.75873836416023,
          2.81482355620142,
          1.0113355481052049,
          -0.11105625124443308
         ],
         "yaxis": "y3"
        },
        {
         "hovertemplate": "class=5<br>subject=Hindi<br>subject=Hindi<br>year=%{x}<br>total_delta=%{y}<br>studentCount=%{marker.size}<extra></extra>",
         "legendgroup": "subject=Hindi",
         "marker": {
          "color": "#ab63fa",
          "size": [
           2,
           65
          ],
          "sizemode": "area",
          "sizeref": 1.15,
          "symbol": "circle"
         },
         "mode": "markers",
         "name": "subject=Hindi",
         "showlegend": false,
         "type": "scatter",
         "uid": "447b0edd-bdfe-45a2-8421-2fe567d4fd2b",
         "x": [
          "2007",
          "2009"
         ],
         "xaxis": "x4",
         "y": [
          5.410000000000004,
          5.769999999999996
         ],
         "yaxis": "y3"
        },
        {
         "hovertemplate": "<b>LOWESS trendline</b><br><br>class=5<br>subject=Hindi<br>subject=Hindi<br>year=%{x}<br>total_delta=%{y} <b>(trend)</b><extra></extra>",
         "legendgroup": "subject=Hindi",
         "marker": {
          "color": "#ab63fa",
          "symbol": "circle"
         },
         "mode": "lines",
         "name": "subject=Hindi",
         "showlegend": false,
         "type": "scatter",
         "uid": "b61e8ec4-866e-42c8-a4ec-5d7be37a6db0",
         "x": [
          2007,
          2009
         ],
         "xaxis": "x4",
         "y": [
          5.410000000000004,
          5.769999999999996
         ],
         "yaxis": "y3"
        },
        {
         "hovertemplate": "class=5<br>subject=Social Studies<br>subject=Social Studies<br>year=%{x}<br>total_delta=%{y}<br>studentCount=%{marker.size}<extra></extra>",
         "legendgroup": "subject=Social Studies",
         "marker": {
          "color": "#19d3f3",
          "size": [
           2
          ],
          "sizemode": "area",
          "sizeref": 1.15,
          "symbol": "circle"
         },
         "mode": "markers",
         "name": "subject=Social Studies",
         "showlegend": true,
         "type": "scatter",
         "uid": "114afb78-7345-426e-8791-97e6fd06012d",
         "x": [
          "2007"
         ],
         "xaxis": "x5",
         "y": [
          -7.770000000000003
         ],
         "yaxis": "y3"
        },
        {
         "hovertemplate": "class=5<br>subject=Social Studies<br>subject=Social Studies<extra></extra>",
         "legendgroup": "subject=Social Studies",
         "marker": {
          "color": "#19d3f3",
          "symbol": "circle"
         },
         "mode": "lines",
         "name": "subject=Social Studies",
         "showlegend": false,
         "type": "scatter",
         "uid": "ea808ee1-04d6-42fa-9d3b-15d1a56d4991",
         "xaxis": "x5",
         "yaxis": "y3"
        },
        {
         "hovertemplate": "class=6<br>subject=English<br>subject=English<br>year=%{x}<br>total_delta=%{y}<br>studentCount=%{marker.size}<extra></extra>",
         "legendgroup": "subject=English",
         "marker": {
          "color": "#636efa",
          "size": [
           17,
           75,
           82,
           97,
           107
          ],
          "sizemode": "area",
          "sizeref": 1.15,
          "symbol": "circle"
         },
         "mode": "markers",
         "name": "subject=English",
         "showlegend": false,
         "type": "scatter",
         "uid": "8701c62e-4748-437a-b9c0-d75be2abb83d",
         "x": [
          "2007",
          "2008",
          "2014",
          "2016",
          "2018"
         ],
         "xaxis": "x",
         "y": [
          28.379999999999995,
          14.719999999999999,
          12.64,
          10.399999999999999,
          20.36
         ],
         "yaxis": "y4"
        },
        {
         "hovertemplate": "<b>LOWESS trendline</b><br><br>class=6<br>subject=English<br>subject=English<br>year=%{x}<br>total_delta=%{y} <b>(trend)</b><extra></extra>",
         "legendgroup": "subject=English",
         "marker": {
          "color": "#636efa",
          "symbol": "circle"
         },
         "mode": "lines",
         "name": "subject=English",
         "showlegend": false,
         "type": "scatter",
         "uid": "a359a77a-8889-4b20-9691-4ee0d37b2597",
         "x": [
          2007,
          2008,
          2014,
          2016,
          2018
         ],
         "xaxis": "x",
         "y": [
          28.380000000012043,
          14.720000000006515,
          12.64,
          10.399999999999999,
          20.36
         ],
         "yaxis": "y4"
        },
        {
         "hovertemplate": "class=6<br>subject=Maths<br>subject=Maths<br>year=%{x}<br>total_delta=%{y}<br>studentCount=%{marker.size}<extra></extra>",
         "legendgroup": "subject=Maths",
         "marker": {
          "color": "#EF553B",
          "size": [
           17,
           74,
           79,
           82,
           100,
           111
          ],
          "sizemode": "area",
          "sizeref": 1.15,
          "symbol": "circle"
         },
         "mode": "markers",
         "name": "subject=Maths",
         "showlegend": false,
         "type": "scatter",
         "uid": "974c3ec2-5680-4533-b249-8f19f1364402",
         "x": [
          "2007",
          "2008",
          "2009",
          "2014",
          "2016",
          "2018"
         ],
         "xaxis": "x2",
         "y": [
          14.5,
          5.390000000000001,
          3.9299999999999997,
          7.579999999999998,
          3.510000000000005,
          8.71
         ],
         "yaxis": "y4"
        },
        {
         "hovertemplate": "<b>LOWESS trendline</b><br><br>class=6<br>subject=Maths<br>subject=Maths<br>year=%{x}<br>total_delta=%{y} <b>(trend)</b><extra></extra>",
         "legendgroup": "subject=Maths",
         "marker": {
          "color": "#EF553B",
          "symbol": "circle"
         },
         "mode": "lines",
         "name": "subject=Maths",
         "showlegend": false,
         "type": "scatter",
         "uid": "e861bccc-a52b-46ac-8f60-a020170f9a04",
         "x": [
          2007,
          2008,
          2009,
          2014,
          2016,
          2018
         ],
         "xaxis": "x2",
         "y": [
          13.520344778788745,
          8.211188153868882,
          2.9824403955931444,
          7.105780541219439,
          7.129678180218622,
          7.782668258669388
         ],
         "yaxis": "y4"
        },
        {
         "hovertemplate": "class=6<br>subject=Science<br>subject=Science<br>year=%{x}<br>total_delta=%{y}<br>studentCount=%{marker.size}<extra></extra>",
         "legendgroup": "subject=Science",
         "marker": {
          "color": "#00cc96",
          "size": [
           17,
           73,
           79,
           82,
           100,
           111
          ],
          "sizemode": "area",
          "sizeref": 1.15,
          "symbol": "circle"
         },
         "mode": "markers",
         "name": "subject=Science",
         "showlegend": false,
         "type": "scatter",
         "uid": "ac712438-6241-4e57-9c4c-90a6c3bf73e6",
         "x": [
          "2007",
          "2008",
          "2009",
          "2014",
          "2016",
          "2018"
         ],
         "xaxis": "x3",
         "y": [
          10.82,
          5.779999999999994,
          1.3200000000000003,
          5.239999999999995,
          3.450000000000003,
          5.220000000000006
         ],
         "yaxis": "y4"
        },
        {
         "hovertemplate": "<b>LOWESS trendline</b><br><br>class=6<br>subject=Science<br>subject=Science<br>year=%{x}<br>total_delta=%{y} <b>(trend)</b><extra></extra>",
         "legendgroup": "subject=Science",
         "marker": {
          "color": "#00cc96",
          "symbol": "circle"
         },
         "mode": "lines",
         "name": "subject=Science",
         "showlegend": false,
         "type": "scatter",
         "uid": "2f05df09-6117-40e7-8fb7-31d2b5da2036",
         "x": [
          2007,
          2008,
          2009,
          2014,
          2016,
          2018
         ],
         "xaxis": "x3",
         "y": [
          10.744958990784628,
          5.99311963588553,
          1.2474542193007383,
          5.240000000000087,
          5.23,
          5.220000000000077
         ],
         "yaxis": "y4"
        },
        {
         "hovertemplate": "class=6<br>subject=Hindi<br>subject=Hindi<br>year=%{x}<br>total_delta=%{y}<br>studentCount=%{marker.size}<extra></extra>",
         "legendgroup": "subject=Hindi",
         "marker": {
          "color": "#ab63fa",
          "size": [
           5,
           72
          ],
          "sizemode": "area",
          "sizeref": 1.15,
          "symbol": "circle"
         },
         "mode": "markers",
         "name": "subject=Hindi",
         "showlegend": false,
         "type": "scatter",
         "uid": "bcae0493-9a13-4418-a287-d742b47c1047",
         "x": [
          "2007",
          "2009"
         ],
         "xaxis": "x4",
         "y": [
          16.489999999999995,
          8.130000000000003
         ],
         "yaxis": "y4"
        },
        {
         "hovertemplate": "<b>LOWESS trendline</b><br><br>class=6<br>subject=Hindi<br>subject=Hindi<br>year=%{x}<br>total_delta=%{y} <b>(trend)</b><extra></extra>",
         "legendgroup": "subject=Hindi",
         "marker": {
          "color": "#ab63fa",
          "symbol": "circle"
         },
         "mode": "lines",
         "name": "subject=Hindi",
         "showlegend": false,
         "type": "scatter",
         "uid": "371b96fd-06fa-4fa5-bf09-2328b2a2b67e",
         "x": [
          2007,
          2009
         ],
         "xaxis": "x4",
         "y": [
          16.489999999999995,
          8.130000000000003
         ],
         "yaxis": "y4"
        },
        {
         "hovertemplate": "class=6<br>subject=Social Studies<br>subject=Social Studies<br>year=%{x}<br>total_delta=%{y}<br>studentCount=%{marker.size}<extra></extra>",
         "legendgroup": "subject=Social Studies",
         "marker": {
          "color": "#19d3f3",
          "size": [
           5
          ],
          "sizemode": "area",
          "sizeref": 1.15,
          "symbol": "circle"
         },
         "mode": "markers",
         "name": "subject=Social Studies",
         "showlegend": false,
         "type": "scatter",
         "uid": "69acf2ad-6efc-4504-b61c-9815e945c699",
         "x": [
          "2007"
         ],
         "xaxis": "x5",
         "y": [
          7.579999999999998
         ],
         "yaxis": "y4"
        },
        {
         "hovertemplate": "class=6<br>subject=Social Studies<br>subject=Social Studies<extra></extra>",
         "legendgroup": "subject=Social Studies",
         "marker": {
          "color": "#19d3f3",
          "symbol": "circle"
         },
         "mode": "lines",
         "name": "subject=Social Studies",
         "showlegend": false,
         "type": "scatter",
         "uid": "d404fc9b-919b-4cbc-bffa-0e7c8bb4b2a6",
         "xaxis": "x5",
         "yaxis": "y4"
        },
        {
         "hovertemplate": "class=7<br>subject=English<br>subject=English<br>year=%{x}<br>total_delta=%{y}<br>studentCount=%{marker.size}<extra></extra>",
         "legendgroup": "subject=English",
         "marker": {
          "color": "#636efa",
          "size": [
           4,
           46,
           78,
           96,
           110
          ],
          "sizemode": "area",
          "sizeref": 1.15,
          "symbol": "circle"
         },
         "mode": "markers",
         "name": "subject=English",
         "showlegend": false,
         "type": "scatter",
         "uid": "584cdb1a-f64f-4fd3-9d15-590fe4ac603c",
         "x": [
          "2007",
          "2008",
          "2014",
          "2016",
          "2018"
         ],
         "xaxis": "x",
         "y": [
          16.61,
          19.400000000000006,
          14.389999999999993,
          13.690000000000005,
          21.700000000000003
         ],
         "yaxis": "y5"
        },
        {
         "hovertemplate": "<b>LOWESS trendline</b><br><br>class=7<br>subject=English<br>subject=English<br>year=%{x}<br>total_delta=%{y} <b>(trend)</b><extra></extra>",
         "legendgroup": "subject=English",
         "marker": {
          "color": "#636efa",
          "symbol": "circle"
         },
         "mode": "lines",
         "name": "subject=English",
         "showlegend": false,
         "type": "scatter",
         "uid": "184ad5a5-a8b2-4d1c-8f63-62eaa71e75e1",
         "x": [
          2007,
          2008,
          2014,
          2016,
          2018
         ],
         "xaxis": "x",
         "y": [
          16.61,
          19.400000000000006,
          14.390000000001788,
          13.690000000000005,
          21.700000000002877
         ],
         "yaxis": "y5"
        },
        {
         "hovertemplate": "class=7<br>subject=Maths<br>subject=Maths<br>year=%{x}<br>total_delta=%{y}<br>studentCount=%{marker.size}<extra></extra>",
         "legendgroup": "subject=Maths",
         "marker": {
          "color": "#EF553B",
          "size": [
           4,
           45,
           74,
           78,
           99,
           114
          ],
          "sizemode": "area",
          "sizeref": 1.15,
          "symbol": "circle"
         },
         "mode": "markers",
         "name": "subject=Maths",
         "showlegend": false,
         "type": "scatter",
         "uid": "50f5451c-fcc9-45b0-8033-7b71b7acaf91",
         "x": [
          "2007",
          "2008",
          "2009",
          "2014",
          "2016",
          "2018"
         ],
         "xaxis": "x2",
         "y": [
          15.150000000000006,
          13.719999999999999,
          8.579999999999998,
          12.670000000000002,
          7.219999999999999,
          6
         ],
         "yaxis": "y5"
        },
        {
         "hovertemplate": "<b>LOWESS trendline</b><br><br>class=7<br>subject=Maths<br>subject=Maths<br>year=%{x}<br>total_delta=%{y} <b>(trend)</b><extra></extra>",
         "legendgroup": "subject=Maths",
         "marker": {
          "color": "#EF553B",
          "symbol": "circle"
         },
         "mode": "lines",
         "name": "subject=Maths",
         "showlegend": false,
         "type": "scatter",
         "uid": "571c33eb-bac4-4ba4-94d7-4702a2afb284",
         "x": [
          2007,
          2008,
          2009,
          2014,
          2016,
          2018
         ],
         "xaxis": "x2",
         "y": [
          15.615236387305119,
          12.341655368715909,
          9.030092717202855,
          12.446393640625875,
          8.846918108592378,
          5.554596098256156
         ],
         "yaxis": "y5"
        },
        {
         "hovertemplate": "class=7<br>subject=Science<br>subject=Science<br>year=%{x}<br>total_delta=%{y}<br>studentCount=%{marker.size}<extra></extra>",
         "legendgroup": "subject=Science",
         "marker": {
          "color": "#00cc96",
          "size": [
           4,
           46,
           74,
           78,
           100,
           115
          ],
          "sizemode": "area",
          "sizeref": 1.15,
          "symbol": "circle"
         },
         "mode": "markers",
         "name": "subject=Science",
         "showlegend": false,
         "type": "scatter",
         "uid": "ad5841d0-1f25-49fc-925e-b4520e2b3323",
         "x": [
          "2007",
          "2008",
          "2009",
          "2014",
          "2016",
          "2018"
         ],
         "xaxis": "x3",
         "y": [
          7.799999999999997,
          8.470000000000006,
          4.1200000000000045,
          5.160000000000004,
          4.949999999999996,
          8.639999999999993
         ],
         "yaxis": "y5"
        },
        {
         "hovertemplate": "<b>LOWESS trendline</b><br><br>class=7<br>subject=Science<br>subject=Science<br>year=%{x}<br>total_delta=%{y} <b>(trend)</b><extra></extra>",
         "legendgroup": "subject=Science",
         "marker": {
          "color": "#00cc96",
          "symbol": "circle"
         },
         "mode": "lines",
         "name": "subject=Science",
         "showlegend": false,
         "type": "scatter",
         "uid": "6fc2e694-9677-4244-ad65-6a2fc6d280ac",
         "x": [
          2007,
          2008,
          2009,
          2014,
          2016,
          2018
         ],
         "xaxis": "x3",
         "y": [
          8.39753054757808,
          6.57204062804993,
          4.69839706490648,
          4.918383418647233,
          6.318496449869433,
          8.114192599791666
         ],
         "yaxis": "y5"
        },
        {
         "hovertemplate": "class=7<br>subject=Hindi<br>subject=Hindi<br>year=%{x}<br>total_delta=%{y}<br>studentCount=%{marker.size}<extra></extra>",
         "legendgroup": "subject=Hindi",
         "marker": {
          "color": "#ab63fa",
          "size": [
           1,
           68
          ],
          "sizemode": "area",
          "sizeref": 1.15,
          "symbol": "circle"
         },
         "mode": "markers",
         "name": "subject=Hindi",
         "showlegend": false,
         "type": "scatter",
         "uid": "e820eb5d-92a7-4493-9407-25ed11a23f15",
         "x": [
          "2007",
          "2009"
         ],
         "xaxis": "x4",
         "y": [
          10.769999999999996,
          9.840000000000003
         ],
         "yaxis": "y5"
        },
        {
         "hovertemplate": "<b>LOWESS trendline</b><br><br>class=7<br>subject=Hindi<br>subject=Hindi<br>year=%{x}<br>total_delta=%{y} <b>(trend)</b><extra></extra>",
         "legendgroup": "subject=Hindi",
         "marker": {
          "color": "#ab63fa",
          "symbol": "circle"
         },
         "mode": "lines",
         "name": "subject=Hindi",
         "showlegend": false,
         "type": "scatter",
         "uid": "41fc9b76-33b3-41c5-b567-1e83e9c2f268",
         "x": [
          2007,
          2009
         ],
         "xaxis": "x4",
         "y": [
          10.769999999999996,
          9.840000000000003
         ],
         "yaxis": "y5"
        },
        {
         "hovertemplate": "class=7<br>subject=Social Studies<br>subject=Social Studies<br>year=%{x}<br>total_delta=%{y}<br>studentCount=%{marker.size}<extra></extra>",
         "legendgroup": "subject=Social Studies",
         "marker": {
          "color": "#19d3f3",
          "size": [
           1
          ],
          "sizemode": "area",
          "sizeref": 1.15,
          "symbol": "circle"
         },
         "mode": "markers",
         "name": "subject=Social Studies",
         "showlegend": false,
         "type": "scatter",
         "uid": "b7ce1fb5-59df-4b65-a936-9e6891279a31",
         "x": [
          "2007"
         ],
         "xaxis": "x5",
         "y": [
          5.1200000000000045
         ],
         "yaxis": "y5"
        },
        {
         "hovertemplate": "class=7<br>subject=Social Studies<br>subject=Social Studies<extra></extra>",
         "legendgroup": "subject=Social Studies",
         "marker": {
          "color": "#19d3f3",
          "symbol": "circle"
         },
         "mode": "lines",
         "name": "subject=Social Studies",
         "showlegend": false,
         "type": "scatter",
         "uid": "856e0e7a-0e97-49ea-8d75-b70917111da7",
         "xaxis": "x5",
         "yaxis": "y5"
        },
        {
         "hovertemplate": "class=8<br>subject=English<br>subject=English<br>year=%{x}<br>total_delta=%{y}<br>studentCount=%{marker.size}<extra></extra>",
         "legendgroup": "subject=English",
         "marker": {
          "color": "#636efa",
          "size": [
           15,
           54,
           76,
           72,
           96
          ],
          "sizemode": "area",
          "sizeref": 1.15,
          "symbol": "circle"
         },
         "mode": "markers",
         "name": "subject=English",
         "showlegend": false,
         "type": "scatter",
         "uid": "d8b213ed-0601-455d-9f18-4504ee19f5b6",
         "x": [
          "2007",
          "2008",
          "2014",
          "2016",
          "2018"
         ],
         "xaxis": "x",
         "y": [
          27.71,
          17.119999999999997,
          13.170000000000002,
          9.149999999999999,
          18.66000000000001
         ],
         "yaxis": "y6"
        },
        {
         "hovertemplate": "<b>LOWESS trendline</b><br><br>class=8<br>subject=English<br>subject=English<br>year=%{x}<br>total_delta=%{y} <b>(trend)</b><extra></extra>",
         "legendgroup": "subject=English",
         "marker": {
          "color": "#636efa",
          "symbol": "circle"
         },
         "mode": "lines",
         "name": "subject=English",
         "showlegend": false,
         "type": "scatter",
         "uid": "ebf94082-64cf-4cac-b517-c9229a9689f0",
         "x": [
          2007,
          2008,
          2014,
          2016,
          2018
         ],
         "xaxis": "x",
         "y": [
          27.71,
          17.119999999999997,
          13.170000000001156,
          9.149999999999999,
          18.659999999999613
         ],
         "yaxis": "y6"
        },
        {
         "hovertemplate": "class=8<br>subject=Maths<br>subject=Maths<br>year=%{x}<br>total_delta=%{y}<br>studentCount=%{marker.size}<extra></extra>",
         "legendgroup": "subject=Maths",
         "marker": {
          "color": "#EF553B",
          "size": [
           13,
           52,
           46,
           77,
           76,
           103
          ],
          "sizemode": "area",
          "sizeref": 1.15,
          "symbol": "circle"
         },
         "mode": "markers",
         "name": "subject=Maths",
         "showlegend": false,
         "type": "scatter",
         "uid": "85a9d93f-eafd-495f-bb4c-0ffd788d44a3",
         "x": [
          "2007",
          "2008",
          "2009",
          "2014",
          "2016",
          "2018"
         ],
         "xaxis": "x2",
         "y": [
          20.309999999999995,
          9.450000000000003,
          17.389999999999993,
          7.090000000000003,
          1.7099999999999937,
          2.490000000000002
         ],
         "yaxis": "y6"
        },
        {
         "hovertemplate": "<b>LOWESS trendline</b><br><br>class=8<br>subject=Maths<br>subject=Maths<br>year=%{x}<br>total_delta=%{y} <b>(trend)</b><extra></extra>",
         "legendgroup": "subject=Maths",
         "marker": {
          "color": "#EF553B",
          "symbol": "circle"
         },
         "mode": "lines",
         "name": "subject=Maths",
         "showlegend": false,
         "type": "scatter",
         "uid": "09047532-9c31-4fb6-a836-d848714c395f",
         "x": [
          2007,
          2008,
          2009,
          2014,
          2016,
          2018
         ],
         "xaxis": "x2",
         "y": [
          18.6300438236583,
          17.13064515990333,
          15.758454756364412,
          6.674781878837016,
          3.748625226021714,
          1.5606883503939626
         ],
         "yaxis": "y6"
        },
        {
         "hovertemplate": "class=8<br>subject=Science<br>subject=Science<br>year=%{x}<br>total_delta=%{y}<br>studentCount=%{marker.size}<extra></extra>",
         "legendgroup": "subject=Science",
         "marker": {
          "color": "#00cc96",
          "size": [
           14,
           54,
           48,
           77,
           78,
           104
          ],
          "sizemode": "area",
          "sizeref": 1.15,
          "symbol": "circle"
         },
         "mode": "markers",
         "name": "subject=Science",
         "showlegend": false,
         "type": "scatter",
         "uid": "5ad63f8e-4ee3-471e-ba21-e8a858fff431",
         "x": [
          "2007",
          "2008",
          "2009",
          "2014",
          "2016",
          "2018"
         ],
         "xaxis": "x3",
         "y": [
          15.32,
          11.089999999999996,
          14.419999999999995,
          6.609999999999999,
          1.4099999999999966,
          -5.009999999999998
         ],
         "yaxis": "y6"
        },
        {
         "hovertemplate": "<b>LOWESS trendline</b><br><br>class=8<br>subject=Science<br>subject=Science<br>year=%{x}<br>total_delta=%{y} <b>(trend)</b><extra></extra>",
         "legendgroup": "subject=Science",
         "marker": {
          "color": "#00cc96",
          "symbol": "circle"
         },
         "mode": "lines",
         "name": "subject=Science",
         "showlegend": false,
         "type": "scatter",
         "uid": "7bd33736-484f-4b87-97c6-b0dd3f875a25",
         "x": [
          2007,
          2008,
          2009,
          2014,
          2016,
          2018
         ],
         "xaxis": "x3",
         "y": [
          15.319999999995924,
          14.870000000000005,
          14.419999999999268,
          6.690134095074795,
          0.9993260874919505,
          -4.8310764141045786
         ],
         "yaxis": "y6"
        },
        {
         "hovertemplate": "class=8<br>subject=Hindi<br>subject=Hindi<br>year=%{x}<br>total_delta=%{y}<br>studentCount=%{marker.size}<extra></extra>",
         "legendgroup": "subject=Hindi",
         "marker": {
          "color": "#ab63fa",
          "size": [
           8,
           41
          ],
          "sizemode": "area",
          "sizeref": 1.15,
          "symbol": "circle"
         },
         "mode": "markers",
         "name": "subject=Hindi",
         "showlegend": false,
         "type": "scatter",
         "uid": "2c394cee-cc83-4cef-8aa4-d4269cd6aca7",
         "x": [
          "2007",
          "2009"
         ],
         "xaxis": "x4",
         "y": [
          24.189999999999998,
          15.980000000000004
         ],
         "yaxis": "y6"
        },
        {
         "hovertemplate": "<b>LOWESS trendline</b><br><br>class=8<br>subject=Hindi<br>subject=Hindi<br>year=%{x}<br>total_delta=%{y} <b>(trend)</b><extra></extra>",
         "legendgroup": "subject=Hindi",
         "marker": {
          "color": "#ab63fa",
          "symbol": "circle"
         },
         "mode": "lines",
         "name": "subject=Hindi",
         "showlegend": false,
         "type": "scatter",
         "uid": "cfa9f5ff-1e08-4a55-b1bb-854cb0fde247",
         "x": [
          2007,
          2009
         ],
         "xaxis": "x4",
         "y": [
          24.189999999999998,
          15.980000000000004
         ],
         "yaxis": "y6"
        },
        {
         "hovertemplate": "class=8<br>subject=Social Studies<br>subject=Social Studies<br>year=%{x}<br>total_delta=%{y}<br>studentCount=%{marker.size}<extra></extra>",
         "legendgroup": "subject=Social Studies",
         "marker": {
          "color": "#19d3f3",
          "size": [
           12
          ],
          "sizemode": "area",
          "sizeref": 1.15,
          "symbol": "circle"
         },
         "mode": "markers",
         "name": "subject=Social Studies",
         "showlegend": false,
         "type": "scatter",
         "uid": "6e15c027-42dd-4203-961f-4ddc7b5a2df9",
         "x": [
          "2007"
         ],
         "xaxis": "x5",
         "y": [
          10.350000000000001
         ],
         "yaxis": "y6"
        },
        {
         "hovertemplate": "class=8<br>subject=Social Studies<br>subject=Social Studies<extra></extra>",
         "legendgroup": "subject=Social Studies",
         "marker": {
          "color": "#19d3f3",
          "symbol": "circle"
         },
         "mode": "lines",
         "name": "subject=Social Studies",
         "showlegend": false,
         "type": "scatter",
         "uid": "07658dcb-41e6-42e6-967e-3c4f6351481b",
         "xaxis": "x5",
         "yaxis": "y6"
        },
        {
         "hovertemplate": "class=9<br>subject=English<br>subject=English<br>year=%{x}<br>total_delta=%{y}<br>studentCount=%{marker.size}<extra></extra>",
         "legendgroup": "subject=English",
         "marker": {
          "color": "#636efa",
          "size": [
           10,
           73,
           64,
           98
          ],
          "sizemode": "area",
          "sizeref": 1.15,
          "symbol": "circle"
         },
         "mode": "markers",
         "name": "subject=English",
         "showlegend": false,
         "type": "scatter",
         "uid": "eb4b7e9b-e4e1-43a7-a547-d6b41a353692",
         "x": [
          "2007",
          "2014",
          "2016",
          "2018"
         ],
         "xaxis": "x",
         "y": [
          17.79,
          14.519999999999996,
          18.960000000000008,
          23.840000000000003
         ],
         "yaxis": "y7"
        },
        {
         "hovertemplate": "<b>LOWESS trendline</b><br><br>class=9<br>subject=English<br>subject=English<br>year=%{x}<br>total_delta=%{y} <b>(trend)</b><extra></extra>",
         "legendgroup": "subject=English",
         "marker": {
          "color": "#636efa",
          "symbol": "circle"
         },
         "mode": "lines",
         "name": "subject=English",
         "showlegend": false,
         "type": "scatter",
         "uid": "ec23a468-9fb8-4b96-88a1-7156190f8d98",
         "x": [
          2007,
          2014,
          2016,
          2018
         ],
         "xaxis": "x",
         "y": [
          17.79,
          14.519999999999996,
          18.960000000000008,
          23.840000000000003
         ],
         "yaxis": "y7"
        },
        {
         "hovertemplate": "class=9<br>subject=Maths<br>subject=Maths<br>year=%{x}<br>total_delta=%{y}<br>studentCount=%{marker.size}<extra></extra>",
         "legendgroup": "subject=Maths",
         "marker": {
          "color": "#EF553B",
          "size": [
           10,
           40,
           73,
           73,
           99
          ],
          "sizemode": "area",
          "sizeref": 1.15,
          "symbol": "circle"
         },
         "mode": "markers",
         "name": "subject=Maths",
         "showlegend": false,
         "type": "scatter",
         "uid": "b05184d3-ddc3-46c8-b5e9-530b83291c85",
         "x": [
          "2007",
          "2008",
          "2014",
          "2016",
          "2018"
         ],
         "xaxis": "x2",
         "y": [
          13.89,
          6.219999999999999,
          4.240000000000002,
          6.100000000000001,
          5.289999999999999
         ],
         "yaxis": "y7"
        },
        {
         "hovertemplate": "<b>LOWESS trendline</b><br><br>class=9<br>subject=Maths<br>subject=Maths<br>year=%{x}<br>total_delta=%{y} <b>(trend)</b><extra></extra>",
         "legendgroup": "subject=Maths",
         "marker": {
          "color": "#EF553B",
          "symbol": "circle"
         },
         "mode": "lines",
         "name": "subject=Maths",
         "showlegend": false,
         "type": "scatter",
         "uid": "93f4b9bf-cc0f-47ab-9f37-dc3af7a7ca80",
         "x": [
          2007,
          2008,
          2014,
          2016,
          2018
         ],
         "xaxis": "x2",
         "y": [
          13.89,
          6.219999999999999,
          4.24000000000048,
          6.100000000000001,
          5.290000000000632
         ],
         "yaxis": "y7"
        },
        {
         "hovertemplate": "class=9<br>subject=Science<br>subject=Science<br>year=%{x}<br>total_delta=%{y}<br>studentCount=%{marker.size}<extra></extra>",
         "legendgroup": "subject=Science",
         "marker": {
          "color": "#00cc96",
          "size": [
           10,
           42,
           51,
           73,
           74,
           92
          ],
          "sizemode": "area",
          "sizeref": 1.15,
          "symbol": "circle"
         },
         "mode": "markers",
         "name": "subject=Science",
         "showlegend": false,
         "type": "scatter",
         "uid": "6d87c025-f37e-4594-8fd1-5a907428343a",
         "x": [
          "2007",
          "2008",
          "2009",
          "2014",
          "2016",
          "2018"
         ],
         "xaxis": "x3",
         "y": [
          9.240000000000002,
          9.959999999999994,
          7.5,
          4.07,
          2.5900000000000034,
          5.759999999999998
         ],
         "yaxis": "y7"
        },
        {
         "hovertemplate": "<b>LOWESS trendline</b><br><br>class=9<br>subject=Science<br>subject=Science<br>year=%{x}<br>total_delta=%{y} <b>(trend)</b><extra></extra>",
         "legendgroup": "subject=Science",
         "marker": {
          "color": "#00cc96",
          "symbol": "circle"
         },
         "mode": "lines",
         "name": "subject=Science",
         "showlegend": false,
         "type": "scatter",
         "uid": "7244a212-16c3-48ed-8f4d-375302f3498d",
         "x": [
          2007,
          2008,
          2009,
          2014,
          2016,
          2018
         ],
         "xaxis": "x3",
         "y": [
          9.66668506667317,
          8.807322353085876,
          7.912506202482695,
          3.868849184882861,
          4.520168604930892,
          5.398377360382335
         ],
         "yaxis": "y7"
        },
        {
         "hovertemplate": "class=9<br>subject=Social Studies<br>subject=Social Studies<br>year=%{x}<br>total_delta=%{y}<br>studentCount=%{marker.size}<extra></extra>",
         "legendgroup": "subject=Social Studies",
         "marker": {
          "color": "#19d3f3",
          "size": [
           2
          ],
          "sizemode": "area",
          "sizeref": 1.15,
          "symbol": "circle"
         },
         "mode": "markers",
         "name": "subject=Social Studies",
         "showlegend": false,
         "type": "scatter",
         "uid": "2a9ed8ee-3511-4557-8710-7798abee4c79",
         "x": [
          "2007"
         ],
         "xaxis": "x5",
         "y": [
          11.309999999999995
         ],
         "yaxis": "y7"
        },
        {
         "hovertemplate": "class=9<br>subject=Social Studies<br>subject=Social Studies<extra></extra>",
         "legendgroup": "subject=Social Studies",
         "marker": {
          "color": "#19d3f3",
          "symbol": "circle"
         },
         "mode": "lines",
         "name": "subject=Social Studies",
         "showlegend": false,
         "type": "scatter",
         "uid": "e666010b-5e47-4f64-958c-7648675d6e88",
         "xaxis": "x5",
         "yaxis": "y7"
        },
        {
         "hovertemplate": "class=10<br>subject=English<br>subject=English<br>year=%{x}<br>total_delta=%{y}<br>studentCount=%{marker.size}<extra></extra>",
         "legendgroup": "subject=English",
         "marker": {
          "color": "#636efa",
          "size": [
           48,
           73,
           60
          ],
          "sizemode": "area",
          "sizeref": 1.15,
          "symbol": "circle"
         },
         "mode": "markers",
         "name": "subject=English",
         "showlegend": false,
         "type": "scatter",
         "uid": "41231c33-24fc-4373-804e-6d7fa9be4bc8",
         "x": [
          "2008",
          "2014",
          "2016"
         ],
         "xaxis": "x",
         "y": [
          17.549999999999997,
          14.509999999999998,
          14.5
         ],
         "yaxis": "y8"
        },
        {
         "hovertemplate": "<b>LOWESS trendline</b><br><br>class=10<br>subject=English<br>subject=English<br>year=%{x}<br>total_delta=%{y} <b>(trend)</b><extra></extra>",
         "legendgroup": "subject=English",
         "marker": {
          "color": "#636efa",
          "symbol": "circle"
         },
         "mode": "lines",
         "name": "subject=English",
         "showlegend": false,
         "type": "scatter",
         "uid": "80e9540f-85fa-4968-a98b-00b2d148a0f7",
         "x": [
          2008,
          2014,
          2016
         ],
         "xaxis": "x",
         "y": [
          17.549999999999997,
          14.509999999999998,
          14.5
         ],
         "yaxis": "y8"
        },
        {
         "hovertemplate": "class=10<br>subject=Maths<br>subject=Maths<br>year=%{x}<br>total_delta=%{y}<br>studentCount=%{marker.size}<extra></extra>",
         "legendgroup": "subject=Maths",
         "marker": {
          "color": "#EF553B",
          "size": [
           43,
           73,
           67
          ],
          "sizemode": "area",
          "sizeref": 1.15,
          "symbol": "circle"
         },
         "mode": "markers",
         "name": "subject=Maths",
         "showlegend": false,
         "type": "scatter",
         "uid": "10553164-68b9-47ff-9d4e-0b15beff7f39",
         "x": [
          "2009",
          "2014",
          "2016"
         ],
         "xaxis": "x2",
         "y": [
          13.800000000000004,
          -0.03999999999999915,
          5.050000000000004
         ],
         "yaxis": "y8"
        },
        {
         "hovertemplate": "<b>LOWESS trendline</b><br><br>class=10<br>subject=Maths<br>subject=Maths<br>year=%{x}<br>total_delta=%{y} <b>(trend)</b><extra></extra>",
         "legendgroup": "subject=Maths",
         "marker": {
          "color": "#EF553B",
          "symbol": "circle"
         },
         "mode": "lines",
         "name": "subject=Maths",
         "showlegend": false,
         "type": "scatter",
         "uid": "8f4257a1-4293-482c-85e1-7ea97f29717f",
         "x": [
          2009,
          2014,
          2016
         ],
         "xaxis": "x2",
         "y": [
          13.800000000000004,
          -0.03999999999999915,
          5.050000000000004
         ],
         "yaxis": "y8"
        },
        {
         "hovertemplate": "class=10<br>subject=Science<br>subject=Science<br>year=%{x}<br>total_delta=%{y}<br>studentCount=%{marker.size}<extra></extra>",
         "legendgroup": "subject=Science",
         "marker": {
          "color": "#00cc96",
          "size": [
           73,
           67
          ],
          "sizemode": "area",
          "sizeref": 1.15,
          "symbol": "circle"
         },
         "mode": "markers",
         "name": "subject=Science",
         "showlegend": false,
         "type": "scatter",
         "uid": "1f351f92-0d29-4eb1-bf8c-73199c9decc9",
         "x": [
          "2014",
          "2016"
         ],
         "xaxis": "x3",
         "y": [
          1.1400000000000006,
          4.720000000000006
         ],
         "yaxis": "y8"
        },
        {
         "hovertemplate": "<b>LOWESS trendline</b><br><br>class=10<br>subject=Science<br>subject=Science<br>year=%{x}<br>total_delta=%{y} <b>(trend)</b><extra></extra>",
         "legendgroup": "subject=Science",
         "marker": {
          "color": "#00cc96",
          "symbol": "circle"
         },
         "mode": "lines",
         "name": "subject=Science",
         "showlegend": false,
         "type": "scatter",
         "uid": "ddd79e36-e251-4270-951b-6748de2ecbd5",
         "x": [
          2014,
          2016
         ],
         "xaxis": "x3",
         "y": [
          1.1400000000000006,
          4.720000000000006
         ],
         "yaxis": "y8"
        }
       ],
       "layout": {
        "annotations": [
         {
          "showarrow": false,
          "text": "subject=English",
          "textangle": 0,
          "x": 0.09183673469387754,
          "xanchor": "center",
          "xref": "paper",
          "y": 1.02,
          "yanchor": "middle",
          "yref": "paper"
         },
         {
          "showarrow": false,
          "text": "subject=Maths",
          "textangle": 0,
          "x": 0.2959183673469387,
          "xanchor": "center",
          "xref": "paper",
          "y": 1.02,
          "yanchor": "middle",
          "yref": "paper"
         },
         {
          "showarrow": false,
          "text": "subject=Science",
          "textangle": 0,
          "x": 0.5,
          "xanchor": "center",
          "xref": "paper",
          "y": 1.02,
          "yanchor": "middle",
          "yref": "paper"
         },
         {
          "showarrow": false,
          "text": "subject=Hindi",
          "textangle": 0,
          "x": 0.7040816326530612,
          "xanchor": "center",
          "xref": "paper",
          "y": 1.02,
          "yanchor": "middle",
          "yref": "paper"
         },
         {
          "showarrow": false,
          "text": "subject=Social Studies",
          "textangle": 0,
          "x": 0.9081632653061223,
          "xanchor": "center",
          "xref": "paper",
          "y": 1.02,
          "yanchor": "middle",
          "yref": "paper"
         },
         {
          "showarrow": false,
          "text": "class=3",
          "textangle": 90,
          "x": 1.01,
          "xanchor": "center",
          "xref": "paper",
          "y": 0.9430379746835442,
          "yanchor": "middle",
          "yref": "paper"
         },
         {
          "showarrow": false,
          "text": "class=4",
          "textangle": 90,
          "x": 1.01,
          "xanchor": "center",
          "xref": "paper",
          "y": 0.8164556962025316,
          "yanchor": "middle",
          "yref": "paper"
         },
         {
          "showarrow": false,
          "text": "class=5",
          "textangle": 90,
          "x": 1.01,
          "xanchor": "center",
          "xref": "paper",
          "y": 0.6898734177215189,
          "yanchor": "middle",
          "yref": "paper"
         },
         {
          "showarrow": false,
          "text": "class=6",
          "textangle": 90,
          "x": 1.01,
          "xanchor": "center",
          "xref": "paper",
          "y": 0.5632911392405062,
          "yanchor": "middle",
          "yref": "paper"
         },
         {
          "showarrow": false,
          "text": "class=7",
          "textangle": 90,
          "x": 1.01,
          "xanchor": "center",
          "xref": "paper",
          "y": 0.4367088607594936,
          "yanchor": "middle",
          "yref": "paper"
         },
         {
          "showarrow": false,
          "text": "class=8",
          "textangle": 90,
          "x": 1.01,
          "xanchor": "center",
          "xref": "paper",
          "y": 0.310126582278481,
          "yanchor": "middle",
          "yref": "paper"
         },
         {
          "showarrow": false,
          "text": "class=9",
          "textangle": 90,
          "x": 1.01,
          "xanchor": "center",
          "xref": "paper",
          "y": 0.18354430379746833,
          "yanchor": "middle",
          "yref": "paper"
         },
         {
          "showarrow": false,
          "text": "class=10",
          "textangle": 90,
          "x": 1.01,
          "xanchor": "center",
          "xref": "paper",
          "y": 0.05696202531645569,
          "yanchor": "middle",
          "yref": "paper"
         }
        ],
        "grid": {
         "xaxes": [
          "x",
          "x2",
          "x3",
          "x4",
          "x5"
         ],
         "xgap": 0.1,
         "xside": "bottom",
         "yaxes": [
          "y",
          "y2",
          "y3",
          "y4",
          "y5",
          "y6",
          "y7",
          "y8"
         ],
         "ygap": 0.1,
         "yside": "left"
        },
        "height": 2000,
        "legend": {
         "tracegroupgap": 0
        },
        "template": {
         "data": {
          "bar": [
           {
            "marker": {
             "line": {
              "color": "#E5ECF6",
              "width": 0.5
             }
            },
            "type": "bar"
           }
          ],
          "barpolar": [
           {
            "marker": {
             "line": {
              "color": "#E5ECF6",
              "width": 0.5
             }
            },
            "type": "barpolar"
           }
          ],
          "carpet": [
           {
            "aaxis": {
             "endlinecolor": "#2a3f5f",
             "gridcolor": "white",
             "linecolor": "white",
             "minorgridcolor": "white",
             "startlinecolor": "#2a3f5f"
            },
            "baxis": {
             "endlinecolor": "#2a3f5f",
             "gridcolor": "white",
             "linecolor": "white",
             "minorgridcolor": "white",
             "startlinecolor": "#2a3f5f"
            },
            "type": "carpet"
           }
          ],
          "choropleth": [
           {
            "colorbar": {
             "outlinewidth": 0,
             "ticks": ""
            },
            "type": "choropleth"
           }
          ],
          "contour": [
           {
            "autocolorscale": true,
            "colorbar": {
             "outlinewidth": 0,
             "ticks": ""
            },
            "type": "contour"
           }
          ],
          "contourcarpet": [
           {
            "colorbar": {
             "outlinewidth": 0,
             "ticks": ""
            },
            "type": "contourcarpet"
           }
          ],
          "heatmap": [
           {
            "autocolorscale": true,
            "colorbar": {
             "outlinewidth": 0,
             "ticks": ""
            },
            "type": "heatmap"
           }
          ],
          "heatmapgl": [
           {
            "colorbar": {
             "outlinewidth": 0,
             "ticks": ""
            },
            "type": "heatmapgl"
           }
          ],
          "histogram": [
           {
            "marker": {
             "colorbar": {
              "outlinewidth": 0,
              "ticks": ""
             }
            },
            "type": "histogram"
           }
          ],
          "histogram2d": [
           {
            "autocolorscale": true,
            "colorbar": {
             "outlinewidth": 0,
             "ticks": ""
            },
            "type": "histogram2d"
           }
          ],
          "histogram2dcontour": [
           {
            "autocolorscale": true,
            "colorbar": {
             "outlinewidth": 0,
             "ticks": ""
            },
            "type": "histogram2dcontour"
           }
          ],
          "mesh3d": [
           {
            "colorbar": {
             "outlinewidth": 0,
             "ticks": ""
            },
            "type": "mesh3d"
           }
          ],
          "parcoords": [
           {
            "line": {
             "colorbar": {
              "outlinewidth": 0,
              "ticks": ""
             }
            },
            "type": "parcoords"
           }
          ],
          "scatter": [
           {
            "marker": {
             "colorbar": {
              "outlinewidth": 0,
              "ticks": ""
             }
            },
            "type": "scatter"
           }
          ],
          "scatter3d": [
           {
            "marker": {
             "colorbar": {
              "outlinewidth": 0,
              "ticks": ""
             }
            },
            "type": "scatter3d"
           }
          ],
          "scattercarpet": [
           {
            "marker": {
             "colorbar": {
              "outlinewidth": 0,
              "ticks": ""
             }
            },
            "type": "scattercarpet"
           }
          ],
          "scattergeo": [
           {
            "marker": {
             "colorbar": {
              "outlinewidth": 0,
              "ticks": ""
             }
            },
            "type": "scattergeo"
           }
          ],
          "scattergl": [
           {
            "marker": {
             "colorbar": {
              "outlinewidth": 0,
              "ticks": ""
             }
            },
            "type": "scattergl"
           }
          ],
          "scattermapbox": [
           {
            "marker": {
             "colorbar": {
              "outlinewidth": 0,
              "ticks": ""
             }
            },
            "type": "scattermapbox"
           }
          ],
          "scatterpolar": [
           {
            "marker": {
             "colorbar": {
              "outlinewidth": 0,
              "ticks": ""
             }
            },
            "type": "scatterpolar"
           }
          ],
          "scatterpolargl": [
           {
            "marker": {
             "colorbar": {
              "outlinewidth": 0,
              "ticks": ""
             }
            },
            "type": "scatterpolargl"
           }
          ],
          "scatterternary": [
           {
            "marker": {
             "colorbar": {
              "outlinewidth": 0,
              "ticks": ""
             }
            },
            "type": "scatterternary"
           }
          ],
          "surface": [
           {
            "colorbar": {
             "outlinewidth": 0,
             "ticks": ""
            },
            "type": "surface"
           }
          ],
          "table": [
           {
            "cells": {
             "fill": {
              "color": "#EBF0F8"
             },
             "line": {
              "color": "white"
             }
            },
            "header": {
             "fill": {
              "color": "#C8D4E3"
             },
             "line": {
              "color": "white"
             }
            },
            "type": "table"
           }
          ]
         },
         "layout": {
          "annotationdefaults": {
           "arrowcolor": "#506784",
           "arrowhead": 0,
           "arrowwidth": 1
          },
          "colorscale": {
           "diverging": [
            [
             0,
             "#8e0152"
            ],
            [
             0.1,
             "#c51b7d"
            ],
            [
             0.2,
             "#de77ae"
            ],
            [
             0.3,
             "#f1b6da"
            ],
            [
             0.4,
             "#fde0ef"
            ],
            [
             0.5,
             "#f7f7f7"
            ],
            [
             0.6,
             "#e6f5d0"
            ],
            [
             0.7,
             "#b8e186"
            ],
            [
             0.8,
             "#7fbc41"
            ],
            [
             0.9,
             "#4d9221"
            ],
            [
             1,
             "#276419"
            ]
           ],
           "sequential": [
            [
             0,
             "#0508b8"
            ],
            [
             0.0893854748603352,
             "#1910d8"
            ],
            [
             0.1787709497206704,
             "#3c19f0"
            ],
            [
             0.2681564245810056,
             "#6b1cfb"
            ],
            [
             0.3575418994413408,
             "#981cfd"
            ],
            [
             0.44692737430167595,
             "#bf1cfd"
            ],
            [
             0.5363128491620112,
             "#dd2bfd"
            ],
            [
             0.6256983240223464,
             "#f246fe"
            ],
            [
             0.7150837988826816,
             "#fc67fd"
            ],
            [
             0.8044692737430168,
             "#fe88fc"
            ],
            [
             0.8938547486033519,
             "#fea5fd"
            ],
            [
             0.9832402234636871,
             "#febefe"
            ],
            [
             1,
             "#fec3fe"
            ]
           ],
           "sequentialminus": [
            [
             0,
             "#0508b8"
            ],
            [
             0.0893854748603352,
             "#1910d8"
            ],
            [
             0.1787709497206704,
             "#3c19f0"
            ],
            [
             0.2681564245810056,
             "#6b1cfb"
            ],
            [
             0.3575418994413408,
             "#981cfd"
            ],
            [
             0.44692737430167595,
             "#bf1cfd"
            ],
            [
             0.5363128491620112,
             "#dd2bfd"
            ],
            [
             0.6256983240223464,
             "#f246fe"
            ],
            [
             0.7150837988826816,
             "#fc67fd"
            ],
            [
             0.8044692737430168,
             "#fe88fc"
            ],
            [
             0.8938547486033519,
             "#fea5fd"
            ],
            [
             0.9832402234636871,
             "#febefe"
            ],
            [
             1,
             "#fec3fe"
            ]
           ]
          },
          "colorway": [
           "#636efa",
           "#EF553B",
           "#00cc96",
           "#ab63fa",
           "#19d3f3",
           "#e763fa",
           "#FECB52",
           "#FFA15A",
           "#FF6692",
           "#B6E880"
          ],
          "font": {
           "color": "#2a3f5f"
          },
          "geo": {
           "bgcolor": "white",
           "lakecolor": "white",
           "landcolor": "#E5ECF6",
           "showlakes": true,
           "showland": true,
           "subunitcolor": "white"
          },
          "hoverlabel": {
           "align": "left"
          },
          "hovermode": "closest",
          "legend": {
           "itemsizing": "constant"
          },
          "mapbox": {
           "style": "light"
          },
          "paper_bgcolor": "white",
          "plot_bgcolor": "#E5ECF6",
          "polar": {
           "angularaxis": {
            "gridcolor": "white",
            "linecolor": "white",
            "ticks": ""
           },
           "bgcolor": "#E5ECF6",
           "radialaxis": {
            "gridcolor": "white",
            "linecolor": "white",
            "ticks": ""
           }
          },
          "scene": {
           "xaxis": {
            "backgroundcolor": "#E5ECF6",
            "gridcolor": "white",
            "gridwidth": 2,
            "linecolor": "white",
            "showbackground": true,
            "ticks": "",
            "zerolinecolor": "white"
           },
           "yaxis": {
            "backgroundcolor": "#E5ECF6",
            "gridcolor": "white",
            "gridwidth": 2,
            "linecolor": "white",
            "showbackground": true,
            "ticks": "",
            "zerolinecolor": "white"
           },
           "zaxis": {
            "backgroundcolor": "#E5ECF6",
            "gridcolor": "white",
            "gridwidth": 2,
            "linecolor": "white",
            "showbackground": true,
            "ticks": "",
            "zerolinecolor": "white"
           }
          },
          "shapedefaults": {
           "fillcolor": "#506784",
           "line": {
            "width": 0
           },
           "opacity": 0.4
          },
          "ternary": {
           "aaxis": {
            "gridcolor": "white",
            "linecolor": "white",
            "ticks": ""
           },
           "baxis": {
            "gridcolor": "white",
            "linecolor": "white",
            "ticks": ""
           },
           "bgcolor": "#E5ECF6",
           "caxis": {
            "gridcolor": "white",
            "linecolor": "white",
            "ticks": ""
           }
          },
          "title": {
           "x": 0.05
          },
          "xaxis": {
           "automargin": true,
           "gridcolor": "white",
           "linecolor": "white",
           "ticks": "",
           "zerolinecolor": "white",
           "zerolinewidth": 2
          },
          "yaxis": {
           "automargin": true,
           "gridcolor": "white",
           "linecolor": "white",
           "ticks": "",
           "zerolinecolor": "white",
           "zerolinewidth": 2
          }
         }
        },
        "title": {
         "text": "Overall performance in subjects across the years for different grades (Sushila Birla Girls^ School-Kolkata-CBSE)"
        },
        "width": 2000,
        "xaxis": {
         "title": {
          "text": "year"
         }
        },
        "xaxis2": {
         "matches": "x",
         "title": {
          "text": "year"
         }
        },
        "xaxis3": {
         "matches": "x",
         "title": {
          "text": "year"
         }
        },
        "xaxis4": {
         "matches": "x",
         "title": {
          "text": "year"
         }
        },
        "xaxis5": {
         "matches": "x",
         "title": {
          "text": "year"
         }
        },
        "yaxis": {
         "title": {
          "text": "total_delta"
         }
        },
        "yaxis2": {
         "matches": "y",
         "title": {
          "text": "total_delta"
         }
        },
        "yaxis3": {
         "matches": "y",
         "title": {
          "text": "total_delta"
         }
        },
        "yaxis4": {
         "matches": "y",
         "title": {
          "text": "total_delta"
         }
        },
        "yaxis5": {
         "matches": "y",
         "title": {
          "text": "total_delta"
         }
        },
        "yaxis6": {
         "matches": "y",
         "title": {
          "text": "total_delta"
         }
        },
        "yaxis7": {
         "matches": "y",
         "title": {
          "text": "total_delta"
         }
        },
        "yaxis8": {
         "matches": "y",
         "title": {
          "text": "total_delta"
         }
        }
       }
      },
      "text/html": [
       "<div>\n",
       "        \n",
       "        \n",
       "            <div id=\"ff2bb7ca-23ac-46be-93a6-e97ec195f3d4\" class=\"plotly-graph-div\"></div>\n",
       "            <script type=\"text/javascript\">\n",
       "                require([\"plotly\"], function(Plotly) {\n",
       "                    window.PLOTLYENV=window.PLOTLYENV || {};\n",
       "                    window.PLOTLYENV.BASE_URL='https://plot.ly';\n",
       "                    \n",
       "                if (document.getElementById(\"ff2bb7ca-23ac-46be-93a6-e97ec195f3d4\")) {\n",
       "                    Plotly.newPlot(\n",
       "                        'ff2bb7ca-23ac-46be-93a6-e97ec195f3d4',\n",
       "                        [{\"hovertemplate\": \"class=3<br>subject=English<br>subject=English<br>year=%{x}<br>total_delta=%{y}<br>studentCount=%{marker.size}<extra></extra>\", \"legendgroup\": \"subject=English\", \"marker\": {\"color\": \"#636efa\", \"size\": [19, 74, 105, 102, 106], \"sizemode\": \"area\", \"sizeref\": 1.15, \"symbol\": \"circle\"}, \"mode\": \"markers\", \"name\": \"subject=English\", \"showlegend\": true, \"type\": \"scatter\", \"uid\": \"56889f88-3d41-492e-8d76-4ac9665f77d9\", \"x\": [\"2007\", \"2008\", \"2014\", \"2016\", \"2018\"], \"xaxis\": \"x\", \"y\": [19.879999999999995, 11.0, 9.43, 8.07, 10.910000000000004], \"yaxis\": \"y\"}, {\"hovertemplate\": \"<b>LOWESS trendline</b><br><br>class=3<br>subject=English<br>subject=English<br>year=%{x}<br>total_delta=%{y} <b>(trend)</b><extra></extra>\", \"legendgroup\": \"subject=English\", \"marker\": {\"color\": \"#636efa\", \"symbol\": \"circle\"}, \"mode\": \"lines\", \"name\": \"subject=English\", \"showlegend\": false, \"type\": \"scatter\", \"uid\": \"0f7c06ae-0629-422d-af8a-435ea5c67129\", \"x\": [2007.0, 2008.0, 2014.0, 2016.0, 2018.0], \"xaxis\": \"x\", \"y\": [19.880000000008433, 11.000000000004873, 9.43, 8.07, 10.910000000000004], \"yaxis\": \"y\"}, {\"hovertemplate\": \"class=3<br>subject=Maths<br>subject=Maths<br>year=%{x}<br>total_delta=%{y}<br>studentCount=%{marker.size}<extra></extra>\", \"legendgroup\": \"subject=Maths\", \"marker\": {\"color\": \"#EF553B\", \"size\": [19, 74, 75, 106, 109, 108], \"sizemode\": \"area\", \"sizeref\": 1.15, \"symbol\": \"circle\"}, \"mode\": \"markers\", \"name\": \"subject=Maths\", \"showlegend\": true, \"type\": \"scatter\", \"uid\": \"65734634-e59b-460c-bea5-2edf5ac78abf\", \"x\": [\"2007\", \"2008\", \"2009\", \"2014\", \"2016\", \"2018\"], \"xaxis\": \"x2\", \"y\": [5.719999999999999, -2.6799999999999997, 2.6599999999999966, 2.280000000000001, 9.049999999999997, 6.780000000000001], \"yaxis\": \"y\"}, {\"hovertemplate\": \"<b>LOWESS trendline</b><br><br>class=3<br>subject=Maths<br>subject=Maths<br>year=%{x}<br>total_delta=%{y} <b>(trend)</b><extra></extra>\", \"legendgroup\": \"subject=Maths\", \"marker\": {\"color\": \"#EF553B\", \"symbol\": \"circle\"}, \"mode\": \"lines\", \"name\": \"subject=Maths\", \"showlegend\": false, \"type\": \"scatter\", \"uid\": \"e1b88c62-1bce-4e02-9d77-891b0b243e38\", \"x\": [2007.0, 2008.0, 2009.0, 2014.0, 2016.0, 2018.0], \"xaxis\": \"x2\", \"y\": [4.084527943480181, 2.514813101708989, 1.0768972765267137, 2.8598689770464105, 5.9522055106356575, 8.06031388317437], \"yaxis\": \"y\"}, {\"hovertemplate\": \"class=3<br>subject=Science<br>subject=Science<br>year=%{x}<br>total_delta=%{y}<br>studentCount=%{marker.size}<extra></extra>\", \"legendgroup\": \"subject=Science\", \"marker\": {\"color\": \"#00cc96\", \"size\": [18, 73, 75, 106, 109, 113], \"sizemode\": \"area\", \"sizeref\": 1.15, \"symbol\": \"circle\"}, \"mode\": \"markers\", \"name\": \"subject=Science\", \"showlegend\": true, \"type\": \"scatter\", \"uid\": \"6bb632ec-6d47-4e5e-aefe-5db6af9ad94d\", \"x\": [\"2007\", \"2008\", \"2009\", \"2014\", \"2016\", \"2018\"], \"xaxis\": \"x3\", \"y\": [4.359999999999999, 4.590000000000003, 4.159999999999997, -2.1999999999999957, 4.980000000000004, 3.229999999999997], \"yaxis\": \"y\"}, {\"hovertemplate\": \"<b>LOWESS trendline</b><br><br>class=3<br>subject=Science<br>subject=Science<br>year=%{x}<br>total_delta=%{y} <b>(trend)</b><extra></extra>\", \"legendgroup\": \"subject=Science\", \"marker\": {\"color\": \"#00cc96\", \"symbol\": \"circle\"}, \"mode\": \"lines\", \"name\": \"subject=Science\", \"showlegend\": false, \"type\": \"scatter\", \"uid\": \"4c6ae93d-12da-4a4f-bcb1-6794fb83c643\", \"x\": [2007.0, 2008.0, 2009.0, 2014.0, 2016.0, 2018.0], \"xaxis\": \"x3\", \"y\": [4.446036144988133, 4.348146799169464, 4.243165225749942, -2.2000000000001108, 0.5150000000000006, 3.230000000000051], \"yaxis\": \"y\"}, {\"hovertemplate\": \"class=4<br>subject=English<br>subject=English<br>year=%{x}<br>total_delta=%{y}<br>studentCount=%{marker.size}<extra></extra>\", \"legendgroup\": \"subject=English\", \"marker\": {\"color\": \"#636efa\", \"size\": [15, 73, 104, 108, 108], \"sizemode\": \"area\", \"sizeref\": 1.15, \"symbol\": \"circle\"}, \"mode\": \"markers\", \"name\": \"subject=English\", \"showlegend\": false, \"type\": \"scatter\", \"uid\": \"d68fd4b1-3b8d-4d0a-b64a-9c88a11f793a\", \"x\": [\"2007\", \"2008\", \"2014\", \"2016\", \"2018\"], \"xaxis\": \"x\", \"y\": [3.6999999999999957, 11.64, 10.469999999999999, 9.100000000000001, 18.85000000000001], \"yaxis\": \"y2\"}, {\"hovertemplate\": \"<b>LOWESS trendline</b><br><br>class=4<br>subject=English<br>subject=English<br>year=%{x}<br>total_delta=%{y} <b>(trend)</b><extra></extra>\", \"legendgroup\": \"subject=English\", \"marker\": {\"color\": \"#636efa\", \"symbol\": \"circle\"}, \"mode\": \"lines\", \"name\": \"subject=English\", \"showlegend\": false, \"type\": \"scatter\", \"uid\": \"4948b462-bfa4-44c2-ab33-4aa04b4f7533\", \"x\": [2007.0, 2008.0, 2014.0, 2016.0, 2018.0], \"xaxis\": \"x\", \"y\": [3.700000000000277, 11.639999999999144, 10.470000000000892, 9.100000000000001, 18.85000000000001], \"yaxis\": \"y2\"}, {\"hovertemplate\": \"class=4<br>subject=Maths<br>subject=Maths<br>year=%{x}<br>total_delta=%{y}<br>studentCount=%{marker.size}<extra></extra>\", \"legendgroup\": \"subject=Maths\", \"marker\": {\"color\": \"#EF553B\", \"size\": [14, 72, 75, 104, 111, 113], \"sizemode\": \"area\", \"sizeref\": 1.15, \"symbol\": \"circle\"}, \"mode\": \"markers\", \"name\": \"subject=Maths\", \"showlegend\": false, \"type\": \"scatter\", \"uid\": \"3d14d3e8-8661-488e-b2ea-74f996adb744\", \"x\": [\"2007\", \"2008\", \"2009\", \"2014\", \"2016\", \"2018\"], \"xaxis\": \"x2\", \"y\": [3.759999999999998, -0.5, 3.9399999999999977, -0.5200000000000031, -0.9500000000000028, 3.190000000000005], \"yaxis\": \"y2\"}, {\"hovertemplate\": \"<b>LOWESS trendline</b><br><br>class=4<br>subject=Maths<br>subject=Maths<br>year=%{x}<br>total_delta=%{y} <b>(trend)</b><extra></extra>\", \"legendgroup\": \"subject=Maths\", \"marker\": {\"color\": \"#EF553B\", \"symbol\": \"circle\"}, \"mode\": \"lines\", \"name\": \"subject=Maths\", \"showlegend\": false, \"type\": \"scatter\", \"uid\": \"36fecb35-8629-4fd6-a66a-0ed893a10559\", \"x\": [2007.0, 2008.0, 2009.0, 2014.0, 2016.0, 2018.0], \"xaxis\": \"x2\", \"y\": [2.7244390908515306, 2.7892921386380576, 2.9375987122128118, -0.8216792005429054, 0.5848759693185801, 2.517869910004221], \"yaxis\": \"y2\"}, {\"hovertemplate\": \"class=4<br>subject=Science<br>subject=Science<br>year=%{x}<br>total_delta=%{y}<br>studentCount=%{marker.size}<extra></extra>\", \"legendgroup\": \"subject=Science\", \"marker\": {\"color\": \"#00cc96\", \"size\": [12, 73, 75, 104, 112, 113], \"sizemode\": \"area\", \"sizeref\": 1.15, \"symbol\": \"circle\"}, \"mode\": \"markers\", \"name\": \"subject=Science\", \"showlegend\": false, \"type\": \"scatter\", \"uid\": \"00c9aa99-e384-493f-9cbf-d7e0432082d0\", \"x\": [\"2007\", \"2008\", \"2009\", \"2014\", \"2016\", \"2018\"], \"xaxis\": \"x3\", \"y\": [-2.9200000000000017, -0.38000000000000256, 1.1999999999999957, 0.8000000000000043, 2.4200000000000017, 3.559999999999995], \"yaxis\": \"y2\"}, {\"hovertemplate\": \"<b>LOWESS trendline</b><br><br>class=4<br>subject=Science<br>subject=Science<br>year=%{x}<br>total_delta=%{y} <b>(trend)</b><extra></extra>\", \"legendgroup\": \"subject=Science\", \"marker\": {\"color\": \"#00cc96\", \"symbol\": \"circle\"}, \"mode\": \"lines\", \"name\": \"subject=Science\", \"showlegend\": false, \"type\": \"scatter\", \"uid\": \"e63f54b8-5f3b-41be-bf4a-241f4340ca06\", \"x\": [2007.0, 2008.0, 2009.0, 2014.0, 2016.0, 2018.0], \"xaxis\": \"x3\", \"y\": [-2.8058416945400286, -0.7430698385661496, 1.3105043992792829, 0.8318267530347279, 2.259289837275184, 3.6309878888126788], \"yaxis\": \"y2\"}, {\"hovertemplate\": \"class=4<br>subject=Hindi<br>subject=Hindi<br>year=%{x}<br>total_delta=%{y}<br>studentCount=%{marker.size}<extra></extra>\", \"legendgroup\": \"subject=Hindi\", \"marker\": {\"color\": \"#ab63fa\", \"size\": [7, 71], \"sizemode\": \"area\", \"sizeref\": 1.15, \"symbol\": \"circle\"}, \"mode\": \"markers\", \"name\": \"subject=Hindi\", \"showlegend\": true, \"type\": \"scatter\", \"uid\": \"2a84ba21-486f-4628-81ed-0d60a3f32fa6\", \"x\": [\"2007\", \"2009\"], \"xaxis\": \"x4\", \"y\": [4.369999999999997, 5.450000000000003], \"yaxis\": \"y2\"}, {\"hovertemplate\": \"<b>LOWESS trendline</b><br><br>class=4<br>subject=Hindi<br>subject=Hindi<br>year=%{x}<br>total_delta=%{y} <b>(trend)</b><extra></extra>\", \"legendgroup\": \"subject=Hindi\", \"marker\": {\"color\": \"#ab63fa\", \"symbol\": \"circle\"}, \"mode\": \"lines\", \"name\": \"subject=Hindi\", \"showlegend\": false, \"type\": \"scatter\", \"uid\": \"d41256dd-5005-465f-a187-b9328120533b\", \"x\": [2007.0, 2009.0], \"xaxis\": \"x4\", \"y\": [4.369999999999997, 5.450000000000003], \"yaxis\": \"y2\"}, {\"hovertemplate\": \"class=5<br>subject=English<br>subject=English<br>year=%{x}<br>total_delta=%{y}<br>studentCount=%{marker.size}<extra></extra>\", \"legendgroup\": \"subject=English\", \"marker\": {\"color\": \"#636efa\", \"size\": [16, 73, 108, 103, 109], \"sizemode\": \"area\", \"sizeref\": 1.15, \"symbol\": \"circle\"}, \"mode\": \"markers\", \"name\": \"subject=English\", \"showlegend\": false, \"type\": \"scatter\", \"uid\": \"30ed70bd-febe-45fc-b153-e91e5200788f\", \"x\": [\"2007\", \"2008\", \"2014\", \"2016\", \"2018\"], \"xaxis\": \"x\", \"y\": [17.32, 8.380000000000003, 12.480000000000004, 10.479999999999997, 15.069999999999993], \"yaxis\": \"y3\"}, {\"hovertemplate\": \"<b>LOWESS trendline</b><br><br>class=5<br>subject=English<br>subject=English<br>year=%{x}<br>total_delta=%{y} <b>(trend)</b><extra></extra>\", \"legendgroup\": \"subject=English\", \"marker\": {\"color\": \"#636efa\", \"symbol\": \"circle\"}, \"mode\": \"lines\", \"name\": \"subject=English\", \"showlegend\": false, \"type\": \"scatter\", \"uid\": \"8f62e0cc-8932-47bf-969f-a14731797675\", \"x\": [2007.0, 2008.0, 2014.0, 2016.0, 2018.0], \"xaxis\": \"x\", \"y\": [17.319999999988582, 8.379999999992238, 12.48000000000128, 10.479999999999997, 15.070000000002814], \"yaxis\": \"y3\"}, {\"hovertemplate\": \"class=5<br>subject=Maths<br>subject=Maths<br>year=%{x}<br>total_delta=%{y}<br>studentCount=%{marker.size}<extra></extra>\", \"legendgroup\": \"subject=Maths\", \"marker\": {\"color\": \"#EF553B\", \"size\": [16, 73, 75, 108, 107, 112], \"sizemode\": \"area\", \"sizeref\": 1.15, \"symbol\": \"circle\"}, \"mode\": \"markers\", \"name\": \"subject=Maths\", \"showlegend\": false, \"type\": \"scatter\", \"uid\": \"51eec820-3b67-43e5-938f-41cd2bd52b05\", \"x\": [\"2007\", \"2008\", \"2009\", \"2014\", \"2016\", \"2018\"], \"xaxis\": \"x2\", \"y\": [7.869999999999997, -0.1600000000000037, 5.199999999999996, 5.520000000000003, 3.8900000000000006, 4.990000000000002], \"yaxis\": \"y3\"}, {\"hovertemplate\": \"<b>LOWESS trendline</b><br><br>class=5<br>subject=Maths<br>subject=Maths<br>year=%{x}<br>total_delta=%{y} <b>(trend)</b><extra></extra>\", \"legendgroup\": \"subject=Maths\", \"marker\": {\"color\": \"#EF553B\", \"symbol\": \"circle\"}, \"mode\": \"lines\", \"name\": \"subject=Maths\", \"showlegend\": false, \"type\": \"scatter\", \"uid\": \"c085886d-c26c-4a40-93cc-af6a518fd04f\", \"x\": [2007.0, 2008.0, 2009.0, 2014.0, 2016.0, 2018.0], \"xaxis\": \"x2\", \"y\": [7.869999999999708, 6.5350000000002675, 5.200000000000469, 5.336249568349399, 4.794236589300695, 4.578642964467227], \"yaxis\": \"y3\"}, {\"hovertemplate\": \"class=5<br>subject=Science<br>subject=Science<br>year=%{x}<br>total_delta=%{y}<br>studentCount=%{marker.size}<extra></extra>\", \"legendgroup\": \"subject=Science\", \"marker\": {\"color\": \"#00cc96\", \"size\": [12, 74, 75, 107, 105, 113], \"sizemode\": \"area\", \"sizeref\": 1.15, \"symbol\": \"circle\"}, \"mode\": \"markers\", \"name\": \"subject=Science\", \"showlegend\": false, \"type\": \"scatter\", \"uid\": \"e075c61d-63fd-42da-9a83-5280f6b8d048\", \"x\": [\"2007\", \"2008\", \"2009\", \"2014\", \"2016\", \"2018\"], \"xaxis\": \"x3\", \"y\": [6.780000000000001, -1.2299999999999969, 4.270000000000003, 3.1999999999999957, -0.8999999999999986, 0.75], \"yaxis\": \"y3\"}, {\"hovertemplate\": \"<b>LOWESS trendline</b><br><br>class=5<br>subject=Science<br>subject=Science<br>year=%{x}<br>total_delta=%{y} <b>(trend)</b><extra></extra>\", \"legendgroup\": \"subject=Science\", \"marker\": {\"color\": \"#00cc96\", \"symbol\": \"circle\"}, \"mode\": \"lines\", \"name\": \"subject=Science\", \"showlegend\": false, \"type\": \"scatter\", \"uid\": \"829d7754-4603-403c-ad74-63be202c6a5c\", \"x\": [2007.0, 2008.0, 2009.0, 2014.0, 2016.0, 2018.0], \"xaxis\": \"x3\", \"y\": [5.219412175534799, 3.9266408779042767, 2.75873836416023, 2.81482355620142, 1.0113355481052049, -0.11105625124443308], \"yaxis\": \"y3\"}, {\"hovertemplate\": \"class=5<br>subject=Hindi<br>subject=Hindi<br>year=%{x}<br>total_delta=%{y}<br>studentCount=%{marker.size}<extra></extra>\", \"legendgroup\": \"subject=Hindi\", \"marker\": {\"color\": \"#ab63fa\", \"size\": [2, 65], \"sizemode\": \"area\", \"sizeref\": 1.15, \"symbol\": \"circle\"}, \"mode\": \"markers\", \"name\": \"subject=Hindi\", \"showlegend\": false, \"type\": \"scatter\", \"uid\": \"787e767d-8b47-4b3d-9f1f-4637a72bc8e4\", \"x\": [\"2007\", \"2009\"], \"xaxis\": \"x4\", \"y\": [5.410000000000004, 5.769999999999996], \"yaxis\": \"y3\"}, {\"hovertemplate\": \"<b>LOWESS trendline</b><br><br>class=5<br>subject=Hindi<br>subject=Hindi<br>year=%{x}<br>total_delta=%{y} <b>(trend)</b><extra></extra>\", \"legendgroup\": \"subject=Hindi\", \"marker\": {\"color\": \"#ab63fa\", \"symbol\": \"circle\"}, \"mode\": \"lines\", \"name\": \"subject=Hindi\", \"showlegend\": false, \"type\": \"scatter\", \"uid\": \"65b6867b-2b78-4dc4-9aec-949490cf4a32\", \"x\": [2007.0, 2009.0], \"xaxis\": \"x4\", \"y\": [5.410000000000004, 5.769999999999996], \"yaxis\": \"y3\"}, {\"hovertemplate\": \"class=5<br>subject=Social Studies<br>subject=Social Studies<br>year=%{x}<br>total_delta=%{y}<br>studentCount=%{marker.size}<extra></extra>\", \"legendgroup\": \"subject=Social Studies\", \"marker\": {\"color\": \"#19d3f3\", \"size\": [2], \"sizemode\": \"area\", \"sizeref\": 1.15, \"symbol\": \"circle\"}, \"mode\": \"markers\", \"name\": \"subject=Social Studies\", \"showlegend\": true, \"type\": \"scatter\", \"uid\": \"00b21385-8995-4b40-852a-51de22b0eee0\", \"x\": [\"2007\"], \"xaxis\": \"x5\", \"y\": [-7.770000000000003], \"yaxis\": \"y3\"}, {\"hovertemplate\": \"class=5<br>subject=Social Studies<br>subject=Social Studies<extra></extra>\", \"legendgroup\": \"subject=Social Studies\", \"marker\": {\"color\": \"#19d3f3\", \"symbol\": \"circle\"}, \"mode\": \"lines\", \"name\": \"subject=Social Studies\", \"showlegend\": false, \"type\": \"scatter\", \"uid\": \"028f04d7-3459-46e7-9db8-088248eaee29\", \"xaxis\": \"x5\", \"yaxis\": \"y3\"}, {\"hovertemplate\": \"class=6<br>subject=English<br>subject=English<br>year=%{x}<br>total_delta=%{y}<br>studentCount=%{marker.size}<extra></extra>\", \"legendgroup\": \"subject=English\", \"marker\": {\"color\": \"#636efa\", \"size\": [17, 75, 82, 97, 107], \"sizemode\": \"area\", \"sizeref\": 1.15, \"symbol\": \"circle\"}, \"mode\": \"markers\", \"name\": \"subject=English\", \"showlegend\": false, \"type\": \"scatter\", \"uid\": \"37e3bf7b-9d65-422d-8155-0d221e16ccaf\", \"x\": [\"2007\", \"2008\", \"2014\", \"2016\", \"2018\"], \"xaxis\": \"x\", \"y\": [28.379999999999995, 14.719999999999999, 12.64, 10.399999999999999, 20.36], \"yaxis\": \"y4\"}, {\"hovertemplate\": \"<b>LOWESS trendline</b><br><br>class=6<br>subject=English<br>subject=English<br>year=%{x}<br>total_delta=%{y} <b>(trend)</b><extra></extra>\", \"legendgroup\": \"subject=English\", \"marker\": {\"color\": \"#636efa\", \"symbol\": \"circle\"}, \"mode\": \"lines\", \"name\": \"subject=English\", \"showlegend\": false, \"type\": \"scatter\", \"uid\": \"28b5dd5b-ee65-483f-abba-a267d8edd9f0\", \"x\": [2007.0, 2008.0, 2014.0, 2016.0, 2018.0], \"xaxis\": \"x\", \"y\": [28.380000000012043, 14.720000000006515, 12.64, 10.399999999999999, 20.36], \"yaxis\": \"y4\"}, {\"hovertemplate\": \"class=6<br>subject=Maths<br>subject=Maths<br>year=%{x}<br>total_delta=%{y}<br>studentCount=%{marker.size}<extra></extra>\", \"legendgroup\": \"subject=Maths\", \"marker\": {\"color\": \"#EF553B\", \"size\": [17, 74, 79, 82, 100, 111], \"sizemode\": \"area\", \"sizeref\": 1.15, \"symbol\": \"circle\"}, \"mode\": \"markers\", \"name\": \"subject=Maths\", \"showlegend\": false, \"type\": \"scatter\", \"uid\": \"3c67a6ee-9c1c-4eca-88db-62438b45850e\", \"x\": [\"2007\", \"2008\", \"2009\", \"2014\", \"2016\", \"2018\"], \"xaxis\": \"x2\", \"y\": [14.5, 5.390000000000001, 3.9299999999999997, 7.579999999999998, 3.510000000000005, 8.71], \"yaxis\": \"y4\"}, {\"hovertemplate\": \"<b>LOWESS trendline</b><br><br>class=6<br>subject=Maths<br>subject=Maths<br>year=%{x}<br>total_delta=%{y} <b>(trend)</b><extra></extra>\", \"legendgroup\": \"subject=Maths\", \"marker\": {\"color\": \"#EF553B\", \"symbol\": \"circle\"}, \"mode\": \"lines\", \"name\": \"subject=Maths\", \"showlegend\": false, \"type\": \"scatter\", \"uid\": \"40f1261e-c9a3-4862-ab5f-479f91715a1d\", \"x\": [2007.0, 2008.0, 2009.0, 2014.0, 2016.0, 2018.0], \"xaxis\": \"x2\", \"y\": [13.520344778788745, 8.211188153868882, 2.9824403955931444, 7.105780541219439, 7.129678180218622, 7.782668258669388], \"yaxis\": \"y4\"}, {\"hovertemplate\": \"class=6<br>subject=Science<br>subject=Science<br>year=%{x}<br>total_delta=%{y}<br>studentCount=%{marker.size}<extra></extra>\", \"legendgroup\": \"subject=Science\", \"marker\": {\"color\": \"#00cc96\", \"size\": [17, 73, 79, 82, 100, 111], \"sizemode\": \"area\", \"sizeref\": 1.15, \"symbol\": \"circle\"}, \"mode\": \"markers\", \"name\": \"subject=Science\", \"showlegend\": false, \"type\": \"scatter\", \"uid\": \"52827193-126f-452d-8979-dc22893582ba\", \"x\": [\"2007\", \"2008\", \"2009\", \"2014\", \"2016\", \"2018\"], \"xaxis\": \"x3\", \"y\": [10.82, 5.779999999999994, 1.3200000000000003, 5.239999999999995, 3.450000000000003, 5.220000000000006], \"yaxis\": \"y4\"}, {\"hovertemplate\": \"<b>LOWESS trendline</b><br><br>class=6<br>subject=Science<br>subject=Science<br>year=%{x}<br>total_delta=%{y} <b>(trend)</b><extra></extra>\", \"legendgroup\": \"subject=Science\", \"marker\": {\"color\": \"#00cc96\", \"symbol\": \"circle\"}, \"mode\": \"lines\", \"name\": \"subject=Science\", \"showlegend\": false, \"type\": \"scatter\", \"uid\": \"57f366a4-34f1-4405-bb85-3056e8bbcb58\", \"x\": [2007.0, 2008.0, 2009.0, 2014.0, 2016.0, 2018.0], \"xaxis\": \"x3\", \"y\": [10.744958990784628, 5.99311963588553, 1.2474542193007383, 5.240000000000087, 5.23, 5.220000000000077], \"yaxis\": \"y4\"}, {\"hovertemplate\": \"class=6<br>subject=Hindi<br>subject=Hindi<br>year=%{x}<br>total_delta=%{y}<br>studentCount=%{marker.size}<extra></extra>\", \"legendgroup\": \"subject=Hindi\", \"marker\": {\"color\": \"#ab63fa\", \"size\": [5, 72], \"sizemode\": \"area\", \"sizeref\": 1.15, \"symbol\": \"circle\"}, \"mode\": \"markers\", \"name\": \"subject=Hindi\", \"showlegend\": false, \"type\": \"scatter\", \"uid\": \"4d28c12c-fcc0-48d8-89a8-8e45ef2d3d31\", \"x\": [\"2007\", \"2009\"], \"xaxis\": \"x4\", \"y\": [16.489999999999995, 8.130000000000003], \"yaxis\": \"y4\"}, {\"hovertemplate\": \"<b>LOWESS trendline</b><br><br>class=6<br>subject=Hindi<br>subject=Hindi<br>year=%{x}<br>total_delta=%{y} <b>(trend)</b><extra></extra>\", \"legendgroup\": \"subject=Hindi\", \"marker\": {\"color\": \"#ab63fa\", \"symbol\": \"circle\"}, \"mode\": \"lines\", \"name\": \"subject=Hindi\", \"showlegend\": false, \"type\": \"scatter\", \"uid\": \"4ebfa4ee-4874-4e9b-8ac4-c4d96dd3bea2\", \"x\": [2007.0, 2009.0], \"xaxis\": \"x4\", \"y\": [16.489999999999995, 8.130000000000003], \"yaxis\": \"y4\"}, {\"hovertemplate\": \"class=6<br>subject=Social Studies<br>subject=Social Studies<br>year=%{x}<br>total_delta=%{y}<br>studentCount=%{marker.size}<extra></extra>\", \"legendgroup\": \"subject=Social Studies\", \"marker\": {\"color\": \"#19d3f3\", \"size\": [5], \"sizemode\": \"area\", \"sizeref\": 1.15, \"symbol\": \"circle\"}, \"mode\": \"markers\", \"name\": \"subject=Social Studies\", \"showlegend\": false, \"type\": \"scatter\", \"uid\": \"66bdfaa3-29b9-4f39-9287-9ae1ef13f8c4\", \"x\": [\"2007\"], \"xaxis\": \"x5\", \"y\": [7.579999999999998], \"yaxis\": \"y4\"}, {\"hovertemplate\": \"class=6<br>subject=Social Studies<br>subject=Social Studies<extra></extra>\", \"legendgroup\": \"subject=Social Studies\", \"marker\": {\"color\": \"#19d3f3\", \"symbol\": \"circle\"}, \"mode\": \"lines\", \"name\": \"subject=Social Studies\", \"showlegend\": false, \"type\": \"scatter\", \"uid\": \"f153678a-c185-46f1-98cd-4d767cd55f2b\", \"xaxis\": \"x5\", \"yaxis\": \"y4\"}, {\"hovertemplate\": \"class=7<br>subject=English<br>subject=English<br>year=%{x}<br>total_delta=%{y}<br>studentCount=%{marker.size}<extra></extra>\", \"legendgroup\": \"subject=English\", \"marker\": {\"color\": \"#636efa\", \"size\": [4, 46, 78, 96, 110], \"sizemode\": \"area\", \"sizeref\": 1.15, \"symbol\": \"circle\"}, \"mode\": \"markers\", \"name\": \"subject=English\", \"showlegend\": false, \"type\": \"scatter\", \"uid\": \"5d214c15-1e2e-4da8-ae21-567deb0b65dd\", \"x\": [\"2007\", \"2008\", \"2014\", \"2016\", \"2018\"], \"xaxis\": \"x\", \"y\": [16.61, 19.400000000000006, 14.389999999999993, 13.690000000000005, 21.700000000000003], \"yaxis\": \"y5\"}, {\"hovertemplate\": \"<b>LOWESS trendline</b><br><br>class=7<br>subject=English<br>subject=English<br>year=%{x}<br>total_delta=%{y} <b>(trend)</b><extra></extra>\", \"legendgroup\": \"subject=English\", \"marker\": {\"color\": \"#636efa\", \"symbol\": \"circle\"}, \"mode\": \"lines\", \"name\": \"subject=English\", \"showlegend\": false, \"type\": \"scatter\", \"uid\": \"6dfbbb6a-994d-4a5f-adb7-20f51fbd8c13\", \"x\": [2007.0, 2008.0, 2014.0, 2016.0, 2018.0], \"xaxis\": \"x\", \"y\": [16.61, 19.400000000000006, 14.390000000001788, 13.690000000000005, 21.700000000002877], \"yaxis\": \"y5\"}, {\"hovertemplate\": \"class=7<br>subject=Maths<br>subject=Maths<br>year=%{x}<br>total_delta=%{y}<br>studentCount=%{marker.size}<extra></extra>\", \"legendgroup\": \"subject=Maths\", \"marker\": {\"color\": \"#EF553B\", \"size\": [4, 45, 74, 78, 99, 114], \"sizemode\": \"area\", \"sizeref\": 1.15, \"symbol\": \"circle\"}, \"mode\": \"markers\", \"name\": \"subject=Maths\", \"showlegend\": false, \"type\": \"scatter\", \"uid\": \"447afc65-3137-46a4-b642-7c4e52720e70\", \"x\": [\"2007\", \"2008\", \"2009\", \"2014\", \"2016\", \"2018\"], \"xaxis\": \"x2\", \"y\": [15.150000000000006, 13.719999999999999, 8.579999999999998, 12.670000000000002, 7.219999999999999, 6.0], \"yaxis\": \"y5\"}, {\"hovertemplate\": \"<b>LOWESS trendline</b><br><br>class=7<br>subject=Maths<br>subject=Maths<br>year=%{x}<br>total_delta=%{y} <b>(trend)</b><extra></extra>\", \"legendgroup\": \"subject=Maths\", \"marker\": {\"color\": \"#EF553B\", \"symbol\": \"circle\"}, \"mode\": \"lines\", \"name\": \"subject=Maths\", \"showlegend\": false, \"type\": \"scatter\", \"uid\": \"0e2427b3-1df9-48b1-8855-5ae06748e7a8\", \"x\": [2007.0, 2008.0, 2009.0, 2014.0, 2016.0, 2018.0], \"xaxis\": \"x2\", \"y\": [15.615236387305119, 12.341655368715909, 9.030092717202855, 12.446393640625875, 8.846918108592378, 5.554596098256156], \"yaxis\": \"y5\"}, {\"hovertemplate\": \"class=7<br>subject=Science<br>subject=Science<br>year=%{x}<br>total_delta=%{y}<br>studentCount=%{marker.size}<extra></extra>\", \"legendgroup\": \"subject=Science\", \"marker\": {\"color\": \"#00cc96\", \"size\": [4, 46, 74, 78, 100, 115], \"sizemode\": \"area\", \"sizeref\": 1.15, \"symbol\": \"circle\"}, \"mode\": \"markers\", \"name\": \"subject=Science\", \"showlegend\": false, \"type\": \"scatter\", \"uid\": \"27456b95-5b07-4fd4-a542-072d8e5efa39\", \"x\": [\"2007\", \"2008\", \"2009\", \"2014\", \"2016\", \"2018\"], \"xaxis\": \"x3\", \"y\": [7.799999999999997, 8.470000000000006, 4.1200000000000045, 5.160000000000004, 4.949999999999996, 8.639999999999993], \"yaxis\": \"y5\"}, {\"hovertemplate\": \"<b>LOWESS trendline</b><br><br>class=7<br>subject=Science<br>subject=Science<br>year=%{x}<br>total_delta=%{y} <b>(trend)</b><extra></extra>\", \"legendgroup\": \"subject=Science\", \"marker\": {\"color\": \"#00cc96\", \"symbol\": \"circle\"}, \"mode\": \"lines\", \"name\": \"subject=Science\", \"showlegend\": false, \"type\": \"scatter\", \"uid\": \"b2a929ef-0248-4d10-ac1c-5e3f5b22bab5\", \"x\": [2007.0, 2008.0, 2009.0, 2014.0, 2016.0, 2018.0], \"xaxis\": \"x3\", \"y\": [8.39753054757808, 6.57204062804993, 4.69839706490648, 4.918383418647233, 6.318496449869433, 8.114192599791666], \"yaxis\": \"y5\"}, {\"hovertemplate\": \"class=7<br>subject=Hindi<br>subject=Hindi<br>year=%{x}<br>total_delta=%{y}<br>studentCount=%{marker.size}<extra></extra>\", \"legendgroup\": \"subject=Hindi\", \"marker\": {\"color\": \"#ab63fa\", \"size\": [1, 68], \"sizemode\": \"area\", \"sizeref\": 1.15, \"symbol\": \"circle\"}, \"mode\": \"markers\", \"name\": \"subject=Hindi\", \"showlegend\": false, \"type\": \"scatter\", \"uid\": \"a8b18793-324c-47cd-825e-edb03a9f28c8\", \"x\": [\"2007\", \"2009\"], \"xaxis\": \"x4\", \"y\": [10.769999999999996, 9.840000000000003], \"yaxis\": \"y5\"}, {\"hovertemplate\": \"<b>LOWESS trendline</b><br><br>class=7<br>subject=Hindi<br>subject=Hindi<br>year=%{x}<br>total_delta=%{y} <b>(trend)</b><extra></extra>\", \"legendgroup\": \"subject=Hindi\", \"marker\": {\"color\": \"#ab63fa\", \"symbol\": \"circle\"}, \"mode\": \"lines\", \"name\": \"subject=Hindi\", \"showlegend\": false, \"type\": \"scatter\", \"uid\": \"5e28c34b-36c5-4d7d-8e76-621d0a8306ab\", \"x\": [2007.0, 2009.0], \"xaxis\": \"x4\", \"y\": [10.769999999999996, 9.840000000000003], \"yaxis\": \"y5\"}, {\"hovertemplate\": \"class=7<br>subject=Social Studies<br>subject=Social Studies<br>year=%{x}<br>total_delta=%{y}<br>studentCount=%{marker.size}<extra></extra>\", \"legendgroup\": \"subject=Social Studies\", \"marker\": {\"color\": \"#19d3f3\", \"size\": [1], \"sizemode\": \"area\", \"sizeref\": 1.15, \"symbol\": \"circle\"}, \"mode\": \"markers\", \"name\": \"subject=Social Studies\", \"showlegend\": false, \"type\": \"scatter\", \"uid\": \"cc89d581-92d3-4a79-ba4a-b3ade11d5ca7\", \"x\": [\"2007\"], \"xaxis\": \"x5\", \"y\": [5.1200000000000045], \"yaxis\": \"y5\"}, {\"hovertemplate\": \"class=7<br>subject=Social Studies<br>subject=Social Studies<extra></extra>\", \"legendgroup\": \"subject=Social Studies\", \"marker\": {\"color\": \"#19d3f3\", \"symbol\": \"circle\"}, \"mode\": \"lines\", \"name\": \"subject=Social Studies\", \"showlegend\": false, \"type\": \"scatter\", \"uid\": \"2ca319b5-49b0-4820-af98-883503fb15a1\", \"xaxis\": \"x5\", \"yaxis\": \"y5\"}, {\"hovertemplate\": \"class=8<br>subject=English<br>subject=English<br>year=%{x}<br>total_delta=%{y}<br>studentCount=%{marker.size}<extra></extra>\", \"legendgroup\": \"subject=English\", \"marker\": {\"color\": \"#636efa\", \"size\": [15, 54, 76, 72, 96], \"sizemode\": \"area\", \"sizeref\": 1.15, \"symbol\": \"circle\"}, \"mode\": \"markers\", \"name\": \"subject=English\", \"showlegend\": false, \"type\": \"scatter\", \"uid\": \"ca0748d7-26c2-4b8f-b4de-2f0f315de7e6\", \"x\": [\"2007\", \"2008\", \"2014\", \"2016\", \"2018\"], \"xaxis\": \"x\", \"y\": [27.71, 17.119999999999997, 13.170000000000002, 9.149999999999999, 18.66000000000001], \"yaxis\": \"y6\"}, {\"hovertemplate\": \"<b>LOWESS trendline</b><br><br>class=8<br>subject=English<br>subject=English<br>year=%{x}<br>total_delta=%{y} <b>(trend)</b><extra></extra>\", \"legendgroup\": \"subject=English\", \"marker\": {\"color\": \"#636efa\", \"symbol\": \"circle\"}, \"mode\": \"lines\", \"name\": \"subject=English\", \"showlegend\": false, \"type\": \"scatter\", \"uid\": \"cc89380d-9a3e-48cd-8527-ffb8db2b6c90\", \"x\": [2007.0, 2008.0, 2014.0, 2016.0, 2018.0], \"xaxis\": \"x\", \"y\": [27.71, 17.119999999999997, 13.170000000001156, 9.149999999999999, 18.659999999999613], \"yaxis\": \"y6\"}, {\"hovertemplate\": \"class=8<br>subject=Maths<br>subject=Maths<br>year=%{x}<br>total_delta=%{y}<br>studentCount=%{marker.size}<extra></extra>\", \"legendgroup\": \"subject=Maths\", \"marker\": {\"color\": \"#EF553B\", \"size\": [13, 52, 46, 77, 76, 103], \"sizemode\": \"area\", \"sizeref\": 1.15, \"symbol\": \"circle\"}, \"mode\": \"markers\", \"name\": \"subject=Maths\", \"showlegend\": false, \"type\": \"scatter\", \"uid\": \"2e49301b-7d2c-420b-92fb-c8951efd3dbe\", \"x\": [\"2007\", \"2008\", \"2009\", \"2014\", \"2016\", \"2018\"], \"xaxis\": \"x2\", \"y\": [20.309999999999995, 9.450000000000003, 17.389999999999993, 7.090000000000003, 1.7099999999999937, 2.490000000000002], \"yaxis\": \"y6\"}, {\"hovertemplate\": \"<b>LOWESS trendline</b><br><br>class=8<br>subject=Maths<br>subject=Maths<br>year=%{x}<br>total_delta=%{y} <b>(trend)</b><extra></extra>\", \"legendgroup\": \"subject=Maths\", \"marker\": {\"color\": \"#EF553B\", \"symbol\": \"circle\"}, \"mode\": \"lines\", \"name\": \"subject=Maths\", \"showlegend\": false, \"type\": \"scatter\", \"uid\": \"203ed559-b2f1-4b72-bd84-d1c0ac4c4586\", \"x\": [2007.0, 2008.0, 2009.0, 2014.0, 2016.0, 2018.0], \"xaxis\": \"x2\", \"y\": [18.6300438236583, 17.13064515990333, 15.758454756364412, 6.674781878837016, 3.748625226021714, 1.5606883503939626], \"yaxis\": \"y6\"}, {\"hovertemplate\": \"class=8<br>subject=Science<br>subject=Science<br>year=%{x}<br>total_delta=%{y}<br>studentCount=%{marker.size}<extra></extra>\", \"legendgroup\": \"subject=Science\", \"marker\": {\"color\": \"#00cc96\", \"size\": [14, 54, 48, 77, 78, 104], \"sizemode\": \"area\", \"sizeref\": 1.15, \"symbol\": \"circle\"}, \"mode\": \"markers\", \"name\": \"subject=Science\", \"showlegend\": false, \"type\": \"scatter\", \"uid\": \"6312b972-6851-4fec-8144-d5d38f369f4d\", \"x\": [\"2007\", \"2008\", \"2009\", \"2014\", \"2016\", \"2018\"], \"xaxis\": \"x3\", \"y\": [15.32, 11.089999999999996, 14.419999999999995, 6.609999999999999, 1.4099999999999966, -5.009999999999998], \"yaxis\": \"y6\"}, {\"hovertemplate\": \"<b>LOWESS trendline</b><br><br>class=8<br>subject=Science<br>subject=Science<br>year=%{x}<br>total_delta=%{y} <b>(trend)</b><extra></extra>\", \"legendgroup\": \"subject=Science\", \"marker\": {\"color\": \"#00cc96\", \"symbol\": \"circle\"}, \"mode\": \"lines\", \"name\": \"subject=Science\", \"showlegend\": false, \"type\": \"scatter\", \"uid\": \"2bd05514-d58e-40b1-a12a-412aba1ddcaf\", \"x\": [2007.0, 2008.0, 2009.0, 2014.0, 2016.0, 2018.0], \"xaxis\": \"x3\", \"y\": [15.319999999995924, 14.870000000000005, 14.419999999999268, 6.690134095074795, 0.9993260874919505, -4.8310764141045786], \"yaxis\": \"y6\"}, {\"hovertemplate\": \"class=8<br>subject=Hindi<br>subject=Hindi<br>year=%{x}<br>total_delta=%{y}<br>studentCount=%{marker.size}<extra></extra>\", \"legendgroup\": \"subject=Hindi\", \"marker\": {\"color\": \"#ab63fa\", \"size\": [8, 41], \"sizemode\": \"area\", \"sizeref\": 1.15, \"symbol\": \"circle\"}, \"mode\": \"markers\", \"name\": \"subject=Hindi\", \"showlegend\": false, \"type\": \"scatter\", \"uid\": \"ead67dac-b20c-4d37-b1cf-95490aff495c\", \"x\": [\"2007\", \"2009\"], \"xaxis\": \"x4\", \"y\": [24.189999999999998, 15.980000000000004], \"yaxis\": \"y6\"}, {\"hovertemplate\": \"<b>LOWESS trendline</b><br><br>class=8<br>subject=Hindi<br>subject=Hindi<br>year=%{x}<br>total_delta=%{y} <b>(trend)</b><extra></extra>\", \"legendgroup\": \"subject=Hindi\", \"marker\": {\"color\": \"#ab63fa\", \"symbol\": \"circle\"}, \"mode\": \"lines\", \"name\": \"subject=Hindi\", \"showlegend\": false, \"type\": \"scatter\", \"uid\": \"0190dee7-54ef-404e-92e8-6848b05fe820\", \"x\": [2007.0, 2009.0], \"xaxis\": \"x4\", \"y\": [24.189999999999998, 15.980000000000004], \"yaxis\": \"y6\"}, {\"hovertemplate\": \"class=8<br>subject=Social Studies<br>subject=Social Studies<br>year=%{x}<br>total_delta=%{y}<br>studentCount=%{marker.size}<extra></extra>\", \"legendgroup\": \"subject=Social Studies\", \"marker\": {\"color\": \"#19d3f3\", \"size\": [12], \"sizemode\": \"area\", \"sizeref\": 1.15, \"symbol\": \"circle\"}, \"mode\": \"markers\", \"name\": \"subject=Social Studies\", \"showlegend\": false, \"type\": \"scatter\", \"uid\": \"d21465aa-b78f-4ef9-bdd1-84d5b520703a\", \"x\": [\"2007\"], \"xaxis\": \"x5\", \"y\": [10.350000000000001], \"yaxis\": \"y6\"}, {\"hovertemplate\": \"class=8<br>subject=Social Studies<br>subject=Social Studies<extra></extra>\", \"legendgroup\": \"subject=Social Studies\", \"marker\": {\"color\": \"#19d3f3\", \"symbol\": \"circle\"}, \"mode\": \"lines\", \"name\": \"subject=Social Studies\", \"showlegend\": false, \"type\": \"scatter\", \"uid\": \"0b0d981d-4bb3-449f-ac99-29b8a99b21c2\", \"xaxis\": \"x5\", \"yaxis\": \"y6\"}, {\"hovertemplate\": \"class=9<br>subject=English<br>subject=English<br>year=%{x}<br>total_delta=%{y}<br>studentCount=%{marker.size}<extra></extra>\", \"legendgroup\": \"subject=English\", \"marker\": {\"color\": \"#636efa\", \"size\": [10, 73, 64, 98], \"sizemode\": \"area\", \"sizeref\": 1.15, \"symbol\": \"circle\"}, \"mode\": \"markers\", \"name\": \"subject=English\", \"showlegend\": false, \"type\": \"scatter\", \"uid\": \"03750b1c-8e8d-443e-80b6-7c3789a35165\", \"x\": [\"2007\", \"2014\", \"2016\", \"2018\"], \"xaxis\": \"x\", \"y\": [17.79, 14.519999999999996, 18.960000000000008, 23.840000000000003], \"yaxis\": \"y7\"}, {\"hovertemplate\": \"<b>LOWESS trendline</b><br><br>class=9<br>subject=English<br>subject=English<br>year=%{x}<br>total_delta=%{y} <b>(trend)</b><extra></extra>\", \"legendgroup\": \"subject=English\", \"marker\": {\"color\": \"#636efa\", \"symbol\": \"circle\"}, \"mode\": \"lines\", \"name\": \"subject=English\", \"showlegend\": false, \"type\": \"scatter\", \"uid\": \"90b6bc22-fbe1-411b-8b5f-0b1ba36eb356\", \"x\": [2007.0, 2014.0, 2016.0, 2018.0], \"xaxis\": \"x\", \"y\": [17.79, 14.519999999999996, 18.960000000000008, 23.840000000000003], \"yaxis\": \"y7\"}, {\"hovertemplate\": \"class=9<br>subject=Maths<br>subject=Maths<br>year=%{x}<br>total_delta=%{y}<br>studentCount=%{marker.size}<extra></extra>\", \"legendgroup\": \"subject=Maths\", \"marker\": {\"color\": \"#EF553B\", \"size\": [10, 40, 73, 73, 99], \"sizemode\": \"area\", \"sizeref\": 1.15, \"symbol\": \"circle\"}, \"mode\": \"markers\", \"name\": \"subject=Maths\", \"showlegend\": false, \"type\": \"scatter\", \"uid\": \"38b7b8b4-4d77-412b-af70-09b12c0b26ce\", \"x\": [\"2007\", \"2008\", \"2014\", \"2016\", \"2018\"], \"xaxis\": \"x2\", \"y\": [13.89, 6.219999999999999, 4.240000000000002, 6.100000000000001, 5.289999999999999], \"yaxis\": \"y7\"}, {\"hovertemplate\": \"<b>LOWESS trendline</b><br><br>class=9<br>subject=Maths<br>subject=Maths<br>year=%{x}<br>total_delta=%{y} <b>(trend)</b><extra></extra>\", \"legendgroup\": \"subject=Maths\", \"marker\": {\"color\": \"#EF553B\", \"symbol\": \"circle\"}, \"mode\": \"lines\", \"name\": \"subject=Maths\", \"showlegend\": false, \"type\": \"scatter\", \"uid\": \"3fd1952e-193c-484d-8a83-f7c3abe07525\", \"x\": [2007.0, 2008.0, 2014.0, 2016.0, 2018.0], \"xaxis\": \"x2\", \"y\": [13.89, 6.219999999999999, 4.24000000000048, 6.100000000000001, 5.290000000000632], \"yaxis\": \"y7\"}, {\"hovertemplate\": \"class=9<br>subject=Science<br>subject=Science<br>year=%{x}<br>total_delta=%{y}<br>studentCount=%{marker.size}<extra></extra>\", \"legendgroup\": \"subject=Science\", \"marker\": {\"color\": \"#00cc96\", \"size\": [10, 42, 51, 73, 74, 92], \"sizemode\": \"area\", \"sizeref\": 1.15, \"symbol\": \"circle\"}, \"mode\": \"markers\", \"name\": \"subject=Science\", \"showlegend\": false, \"type\": \"scatter\", \"uid\": \"91f15018-cbad-446b-81e3-e715175d7fbd\", \"x\": [\"2007\", \"2008\", \"2009\", \"2014\", \"2016\", \"2018\"], \"xaxis\": \"x3\", \"y\": [9.240000000000002, 9.959999999999994, 7.5, 4.07, 2.5900000000000034, 5.759999999999998], \"yaxis\": \"y7\"}, {\"hovertemplate\": \"<b>LOWESS trendline</b><br><br>class=9<br>subject=Science<br>subject=Science<br>year=%{x}<br>total_delta=%{y} <b>(trend)</b><extra></extra>\", \"legendgroup\": \"subject=Science\", \"marker\": {\"color\": \"#00cc96\", \"symbol\": \"circle\"}, \"mode\": \"lines\", \"name\": \"subject=Science\", \"showlegend\": false, \"type\": \"scatter\", \"uid\": \"03c264c6-293d-4021-9355-f97a2d588b6b\", \"x\": [2007.0, 2008.0, 2009.0, 2014.0, 2016.0, 2018.0], \"xaxis\": \"x3\", \"y\": [9.66668506667317, 8.807322353085876, 7.912506202482695, 3.868849184882861, 4.520168604930892, 5.398377360382335], \"yaxis\": \"y7\"}, {\"hovertemplate\": \"class=9<br>subject=Social Studies<br>subject=Social Studies<br>year=%{x}<br>total_delta=%{y}<br>studentCount=%{marker.size}<extra></extra>\", \"legendgroup\": \"subject=Social Studies\", \"marker\": {\"color\": \"#19d3f3\", \"size\": [2], \"sizemode\": \"area\", \"sizeref\": 1.15, \"symbol\": \"circle\"}, \"mode\": \"markers\", \"name\": \"subject=Social Studies\", \"showlegend\": false, \"type\": \"scatter\", \"uid\": \"9c8da9f1-bdeb-44b1-8080-e7cd7951d614\", \"x\": [\"2007\"], \"xaxis\": \"x5\", \"y\": [11.309999999999995], \"yaxis\": \"y7\"}, {\"hovertemplate\": \"class=9<br>subject=Social Studies<br>subject=Social Studies<extra></extra>\", \"legendgroup\": \"subject=Social Studies\", \"marker\": {\"color\": \"#19d3f3\", \"symbol\": \"circle\"}, \"mode\": \"lines\", \"name\": \"subject=Social Studies\", \"showlegend\": false, \"type\": \"scatter\", \"uid\": \"46b952f3-ea0a-4260-aed6-5664ab159fe1\", \"xaxis\": \"x5\", \"yaxis\": \"y7\"}, {\"hovertemplate\": \"class=10<br>subject=English<br>subject=English<br>year=%{x}<br>total_delta=%{y}<br>studentCount=%{marker.size}<extra></extra>\", \"legendgroup\": \"subject=English\", \"marker\": {\"color\": \"#636efa\", \"size\": [48, 73, 60], \"sizemode\": \"area\", \"sizeref\": 1.15, \"symbol\": \"circle\"}, \"mode\": \"markers\", \"name\": \"subject=English\", \"showlegend\": false, \"type\": \"scatter\", \"uid\": \"08bb8b0d-0855-43fe-8b82-188039eb858c\", \"x\": [\"2008\", \"2014\", \"2016\"], \"xaxis\": \"x\", \"y\": [17.549999999999997, 14.509999999999998, 14.5], \"yaxis\": \"y8\"}, {\"hovertemplate\": \"<b>LOWESS trendline</b><br><br>class=10<br>subject=English<br>subject=English<br>year=%{x}<br>total_delta=%{y} <b>(trend)</b><extra></extra>\", \"legendgroup\": \"subject=English\", \"marker\": {\"color\": \"#636efa\", \"symbol\": \"circle\"}, \"mode\": \"lines\", \"name\": \"subject=English\", \"showlegend\": false, \"type\": \"scatter\", \"uid\": \"b03ac6ad-5254-4005-a292-d1909346764f\", \"x\": [2008.0, 2014.0, 2016.0], \"xaxis\": \"x\", \"y\": [17.549999999999997, 14.509999999999998, 14.5], \"yaxis\": \"y8\"}, {\"hovertemplate\": \"class=10<br>subject=Maths<br>subject=Maths<br>year=%{x}<br>total_delta=%{y}<br>studentCount=%{marker.size}<extra></extra>\", \"legendgroup\": \"subject=Maths\", \"marker\": {\"color\": \"#EF553B\", \"size\": [43, 73, 67], \"sizemode\": \"area\", \"sizeref\": 1.15, \"symbol\": \"circle\"}, \"mode\": \"markers\", \"name\": \"subject=Maths\", \"showlegend\": false, \"type\": \"scatter\", \"uid\": \"8c74a933-9c9f-492e-8dd5-b52d77a12262\", \"x\": [\"2009\", \"2014\", \"2016\"], \"xaxis\": \"x2\", \"y\": [13.800000000000004, -0.03999999999999915, 5.050000000000004], \"yaxis\": \"y8\"}, {\"hovertemplate\": \"<b>LOWESS trendline</b><br><br>class=10<br>subject=Maths<br>subject=Maths<br>year=%{x}<br>total_delta=%{y} <b>(trend)</b><extra></extra>\", \"legendgroup\": \"subject=Maths\", \"marker\": {\"color\": \"#EF553B\", \"symbol\": \"circle\"}, \"mode\": \"lines\", \"name\": \"subject=Maths\", \"showlegend\": false, \"type\": \"scatter\", \"uid\": \"3f6994c1-6637-426c-84f3-9dc1dfa6558c\", \"x\": [2009.0, 2014.0, 2016.0], \"xaxis\": \"x2\", \"y\": [13.800000000000004, -0.03999999999999915, 5.050000000000004], \"yaxis\": \"y8\"}, {\"hovertemplate\": \"class=10<br>subject=Science<br>subject=Science<br>year=%{x}<br>total_delta=%{y}<br>studentCount=%{marker.size}<extra></extra>\", \"legendgroup\": \"subject=Science\", \"marker\": {\"color\": \"#00cc96\", \"size\": [73, 67], \"sizemode\": \"area\", \"sizeref\": 1.15, \"symbol\": \"circle\"}, \"mode\": \"markers\", \"name\": \"subject=Science\", \"showlegend\": false, \"type\": \"scatter\", \"uid\": \"5aed431f-b69c-41e4-a7f1-27f735a5c3b3\", \"x\": [\"2014\", \"2016\"], \"xaxis\": \"x3\", \"y\": [1.1400000000000006, 4.720000000000006], \"yaxis\": \"y8\"}, {\"hovertemplate\": \"<b>LOWESS trendline</b><br><br>class=10<br>subject=Science<br>subject=Science<br>year=%{x}<br>total_delta=%{y} <b>(trend)</b><extra></extra>\", \"legendgroup\": \"subject=Science\", \"marker\": {\"color\": \"#00cc96\", \"symbol\": \"circle\"}, \"mode\": \"lines\", \"name\": \"subject=Science\", \"showlegend\": false, \"type\": \"scatter\", \"uid\": \"467bbf5b-3849-450c-8a79-a0b4e0c79925\", \"x\": [2014.0, 2016.0], \"xaxis\": \"x3\", \"y\": [1.1400000000000006, 4.720000000000006], \"yaxis\": \"y8\"}],\n",
       "                        {\"annotations\": [{\"showarrow\": false, \"text\": \"subject=English\", \"textangle\": 0, \"x\": 0.09183673469387754, \"xanchor\": \"center\", \"xref\": \"paper\", \"y\": 1.02, \"yanchor\": \"middle\", \"yref\": \"paper\"}, {\"showarrow\": false, \"text\": \"subject=Maths\", \"textangle\": 0, \"x\": 0.2959183673469387, \"xanchor\": \"center\", \"xref\": \"paper\", \"y\": 1.02, \"yanchor\": \"middle\", \"yref\": \"paper\"}, {\"showarrow\": false, \"text\": \"subject=Science\", \"textangle\": 0, \"x\": 0.5, \"xanchor\": \"center\", \"xref\": \"paper\", \"y\": 1.02, \"yanchor\": \"middle\", \"yref\": \"paper\"}, {\"showarrow\": false, \"text\": \"subject=Hindi\", \"textangle\": 0, \"x\": 0.7040816326530612, \"xanchor\": \"center\", \"xref\": \"paper\", \"y\": 1.02, \"yanchor\": \"middle\", \"yref\": \"paper\"}, {\"showarrow\": false, \"text\": \"subject=Social Studies\", \"textangle\": 0, \"x\": 0.9081632653061223, \"xanchor\": \"center\", \"xref\": \"paper\", \"y\": 1.02, \"yanchor\": \"middle\", \"yref\": \"paper\"}, {\"showarrow\": false, \"text\": \"class=3\", \"textangle\": 90, \"x\": 1.01, \"xanchor\": \"center\", \"xref\": \"paper\", \"y\": 0.9430379746835442, \"yanchor\": \"middle\", \"yref\": \"paper\"}, {\"showarrow\": false, \"text\": \"class=4\", \"textangle\": 90, \"x\": 1.01, \"xanchor\": \"center\", \"xref\": \"paper\", \"y\": 0.8164556962025316, \"yanchor\": \"middle\", \"yref\": \"paper\"}, {\"showarrow\": false, \"text\": \"class=5\", \"textangle\": 90, \"x\": 1.01, \"xanchor\": \"center\", \"xref\": \"paper\", \"y\": 0.6898734177215189, \"yanchor\": \"middle\", \"yref\": \"paper\"}, {\"showarrow\": false, \"text\": \"class=6\", \"textangle\": 90, \"x\": 1.01, \"xanchor\": \"center\", \"xref\": \"paper\", \"y\": 0.5632911392405062, \"yanchor\": \"middle\", \"yref\": \"paper\"}, {\"showarrow\": false, \"text\": \"class=7\", \"textangle\": 90, \"x\": 1.01, \"xanchor\": \"center\", \"xref\": \"paper\", \"y\": 0.4367088607594936, \"yanchor\": \"middle\", \"yref\": \"paper\"}, {\"showarrow\": false, \"text\": \"class=8\", \"textangle\": 90, \"x\": 1.01, \"xanchor\": \"center\", \"xref\": \"paper\", \"y\": 0.310126582278481, \"yanchor\": \"middle\", \"yref\": \"paper\"}, {\"showarrow\": false, \"text\": \"class=9\", \"textangle\": 90, \"x\": 1.01, \"xanchor\": \"center\", \"xref\": \"paper\", \"y\": 0.18354430379746833, \"yanchor\": \"middle\", \"yref\": \"paper\"}, {\"showarrow\": false, \"text\": \"class=10\", \"textangle\": 90, \"x\": 1.01, \"xanchor\": \"center\", \"xref\": \"paper\", \"y\": 0.05696202531645569, \"yanchor\": \"middle\", \"yref\": \"paper\"}], \"grid\": {\"xaxes\": [\"x\", \"x2\", \"x3\", \"x4\", \"x5\"], \"xgap\": 0.1, \"xside\": \"bottom\", \"yaxes\": [\"y\", \"y2\", \"y3\", \"y4\", \"y5\", \"y6\", \"y7\", \"y8\"], \"ygap\": 0.1, \"yside\": \"left\"}, \"height\": 2000, \"legend\": {\"tracegroupgap\": 0}, \"template\": {\"data\": {\"bar\": [{\"marker\": {\"line\": {\"color\": \"#E5ECF6\", \"width\": 0.5}}, \"type\": \"bar\"}], \"barpolar\": [{\"marker\": {\"line\": {\"color\": \"#E5ECF6\", \"width\": 0.5}}, \"type\": \"barpolar\"}], \"carpet\": [{\"aaxis\": {\"endlinecolor\": \"#2a3f5f\", \"gridcolor\": \"white\", \"linecolor\": \"white\", \"minorgridcolor\": \"white\", \"startlinecolor\": \"#2a3f5f\"}, \"baxis\": {\"endlinecolor\": \"#2a3f5f\", \"gridcolor\": \"white\", \"linecolor\": \"white\", \"minorgridcolor\": \"white\", \"startlinecolor\": \"#2a3f5f\"}, \"type\": \"carpet\"}], \"choropleth\": [{\"colorbar\": {\"outlinewidth\": 0, \"ticks\": \"\"}, \"type\": \"choropleth\"}], \"contour\": [{\"autocolorscale\": true, \"colorbar\": {\"outlinewidth\": 0, \"ticks\": \"\"}, \"type\": \"contour\"}], \"contourcarpet\": [{\"colorbar\": {\"outlinewidth\": 0, \"ticks\": \"\"}, \"type\": \"contourcarpet\"}], \"heatmap\": [{\"autocolorscale\": true, \"colorbar\": {\"outlinewidth\": 0, \"ticks\": \"\"}, \"type\": \"heatmap\"}], \"heatmapgl\": [{\"colorbar\": {\"outlinewidth\": 0, \"ticks\": \"\"}, \"type\": \"heatmapgl\"}], \"histogram\": [{\"marker\": {\"colorbar\": {\"outlinewidth\": 0, \"ticks\": \"\"}}, \"type\": \"histogram\"}], \"histogram2d\": [{\"autocolorscale\": true, \"colorbar\": {\"outlinewidth\": 0, \"ticks\": \"\"}, \"type\": \"histogram2d\"}], \"histogram2dcontour\": [{\"autocolorscale\": true, \"colorbar\": {\"outlinewidth\": 0, \"ticks\": \"\"}, \"type\": \"histogram2dcontour\"}], \"mesh3d\": [{\"colorbar\": {\"outlinewidth\": 0, \"ticks\": \"\"}, \"type\": \"mesh3d\"}], \"parcoords\": [{\"line\": {\"colorbar\": {\"outlinewidth\": 0, \"ticks\": \"\"}}, \"type\": \"parcoords\"}], \"scatter\": [{\"marker\": {\"colorbar\": {\"outlinewidth\": 0, \"ticks\": \"\"}}, \"type\": \"scatter\"}], \"scatter3d\": [{\"marker\": {\"colorbar\": {\"outlinewidth\": 0, \"ticks\": \"\"}}, \"type\": \"scatter3d\"}], \"scattercarpet\": [{\"marker\": {\"colorbar\": {\"outlinewidth\": 0, \"ticks\": \"\"}}, \"type\": \"scattercarpet\"}], \"scattergeo\": [{\"marker\": {\"colorbar\": {\"outlinewidth\": 0, \"ticks\": \"\"}}, \"type\": \"scattergeo\"}], \"scattergl\": [{\"marker\": {\"colorbar\": {\"outlinewidth\": 0, \"ticks\": \"\"}}, \"type\": \"scattergl\"}], \"scattermapbox\": [{\"marker\": {\"colorbar\": {\"outlinewidth\": 0, \"ticks\": \"\"}}, \"type\": \"scattermapbox\"}], \"scatterpolar\": [{\"marker\": {\"colorbar\": {\"outlinewidth\": 0, \"ticks\": \"\"}}, \"type\": \"scatterpolar\"}], \"scatterpolargl\": [{\"marker\": {\"colorbar\": {\"outlinewidth\": 0, \"ticks\": \"\"}}, \"type\": \"scatterpolargl\"}], \"scatterternary\": [{\"marker\": {\"colorbar\": {\"outlinewidth\": 0, \"ticks\": \"\"}}, \"type\": \"scatterternary\"}], \"surface\": [{\"colorbar\": {\"outlinewidth\": 0, \"ticks\": \"\"}, \"type\": \"surface\"}], \"table\": [{\"cells\": {\"fill\": {\"color\": \"#EBF0F8\"}, \"line\": {\"color\": \"white\"}}, \"header\": {\"fill\": {\"color\": \"#C8D4E3\"}, \"line\": {\"color\": \"white\"}}, \"type\": \"table\"}]}, \"layout\": {\"annotationdefaults\": {\"arrowcolor\": \"#506784\", \"arrowhead\": 0, \"arrowwidth\": 1}, \"colorscale\": {\"diverging\": [[0, \"#8e0152\"], [0.1, \"#c51b7d\"], [0.2, \"#de77ae\"], [0.3, \"#f1b6da\"], [0.4, \"#fde0ef\"], [0.5, \"#f7f7f7\"], [0.6, \"#e6f5d0\"], [0.7, \"#b8e186\"], [0.8, \"#7fbc41\"], [0.9, \"#4d9221\"], [1, \"#276419\"]], \"sequential\": [[0.0, \"#0508b8\"], [0.0893854748603352, \"#1910d8\"], [0.1787709497206704, \"#3c19f0\"], [0.2681564245810056, \"#6b1cfb\"], [0.3575418994413408, \"#981cfd\"], [0.44692737430167595, \"#bf1cfd\"], [0.5363128491620112, \"#dd2bfd\"], [0.6256983240223464, \"#f246fe\"], [0.7150837988826816, \"#fc67fd\"], [0.8044692737430168, \"#fe88fc\"], [0.8938547486033519, \"#fea5fd\"], [0.9832402234636871, \"#febefe\"], [1.0, \"#fec3fe\"]], \"sequentialminus\": [[0.0, \"#0508b8\"], [0.0893854748603352, \"#1910d8\"], [0.1787709497206704, \"#3c19f0\"], [0.2681564245810056, \"#6b1cfb\"], [0.3575418994413408, \"#981cfd\"], [0.44692737430167595, \"#bf1cfd\"], [0.5363128491620112, \"#dd2bfd\"], [0.6256983240223464, \"#f246fe\"], [0.7150837988826816, \"#fc67fd\"], [0.8044692737430168, \"#fe88fc\"], [0.8938547486033519, \"#fea5fd\"], [0.9832402234636871, \"#febefe\"], [1.0, \"#fec3fe\"]]}, \"colorway\": [\"#636efa\", \"#EF553B\", \"#00cc96\", \"#ab63fa\", \"#19d3f3\", \"#e763fa\", \"#FECB52\", \"#FFA15A\", \"#FF6692\", \"#B6E880\"], \"font\": {\"color\": \"#2a3f5f\"}, \"geo\": {\"bgcolor\": \"white\", \"lakecolor\": \"white\", \"landcolor\": \"#E5ECF6\", \"showlakes\": true, \"showland\": true, \"subunitcolor\": \"white\"}, \"hoverlabel\": {\"align\": \"left\"}, \"hovermode\": \"closest\", \"legend\": {\"itemsizing\": \"constant\"}, \"mapbox\": {\"style\": \"light\"}, \"paper_bgcolor\": \"white\", \"plot_bgcolor\": \"#E5ECF6\", \"polar\": {\"angularaxis\": {\"gridcolor\": \"white\", \"linecolor\": \"white\", \"ticks\": \"\"}, \"bgcolor\": \"#E5ECF6\", \"radialaxis\": {\"gridcolor\": \"white\", \"linecolor\": \"white\", \"ticks\": \"\"}}, \"scene\": {\"xaxis\": {\"backgroundcolor\": \"#E5ECF6\", \"gridcolor\": \"white\", \"gridwidth\": 2, \"linecolor\": \"white\", \"showbackground\": true, \"ticks\": \"\", \"zerolinecolor\": \"white\"}, \"yaxis\": {\"backgroundcolor\": \"#E5ECF6\", \"gridcolor\": \"white\", \"gridwidth\": 2, \"linecolor\": \"white\", \"showbackground\": true, \"ticks\": \"\", \"zerolinecolor\": \"white\"}, \"zaxis\": {\"backgroundcolor\": \"#E5ECF6\", \"gridcolor\": \"white\", \"gridwidth\": 2, \"linecolor\": \"white\", \"showbackground\": true, \"ticks\": \"\", \"zerolinecolor\": \"white\"}}, \"shapedefaults\": {\"fillcolor\": \"#506784\", \"line\": {\"width\": 0}, \"opacity\": 0.4}, \"ternary\": {\"aaxis\": {\"gridcolor\": \"white\", \"linecolor\": \"white\", \"ticks\": \"\"}, \"baxis\": {\"gridcolor\": \"white\", \"linecolor\": \"white\", \"ticks\": \"\"}, \"bgcolor\": \"#E5ECF6\", \"caxis\": {\"gridcolor\": \"white\", \"linecolor\": \"white\", \"ticks\": \"\"}}, \"title\": {\"x\": 0.05}, \"xaxis\": {\"automargin\": true, \"gridcolor\": \"white\", \"linecolor\": \"white\", \"ticks\": \"\", \"zerolinecolor\": \"white\", \"zerolinewidth\": 2}, \"yaxis\": {\"automargin\": true, \"gridcolor\": \"white\", \"linecolor\": \"white\", \"ticks\": \"\", \"zerolinecolor\": \"white\", \"zerolinewidth\": 2}}}, \"title\": {\"text\": \"Overall performance in subjects across the years for different grades (Sushila Birla Girls^ School-Kolkata-CBSE)\"}, \"width\": 2000, \"xaxis\": {\"title\": {\"text\": \"year\"}}, \"xaxis2\": {\"matches\": \"x\", \"title\": {\"text\": \"year\"}}, \"xaxis3\": {\"matches\": \"x\", \"title\": {\"text\": \"year\"}}, \"xaxis4\": {\"matches\": \"x\", \"title\": {\"text\": \"year\"}}, \"xaxis5\": {\"matches\": \"x\", \"title\": {\"text\": \"year\"}}, \"yaxis\": {\"title\": {\"text\": \"total_delta\"}}, \"yaxis2\": {\"matches\": \"y\", \"title\": {\"text\": \"total_delta\"}}, \"yaxis3\": {\"matches\": \"y\", \"title\": {\"text\": \"total_delta\"}}, \"yaxis4\": {\"matches\": \"y\", \"title\": {\"text\": \"total_delta\"}}, \"yaxis5\": {\"matches\": \"y\", \"title\": {\"text\": \"total_delta\"}}, \"yaxis6\": {\"matches\": \"y\", \"title\": {\"text\": \"total_delta\"}}, \"yaxis7\": {\"matches\": \"y\", \"title\": {\"text\": \"total_delta\"}}, \"yaxis8\": {\"matches\": \"y\", \"title\": {\"text\": \"total_delta\"}}},\n",
       "                        {\"showLink\": false, \"linkText\": \"Export to plot.ly\", \"plotlyServerURL\": \"https://plot.ly\"}\n",
       "                    )\n",
       "                };\n",
       "                });\n",
       "            </script>\n",
       "        </div>"
      ]
     },
     "metadata": {},
     "output_type": "display_data"
    }
   ],
   "source": [
    "px.scatter(df_school.sort_values('year').drop_duplicates(['papercode']), \n",
    "        x = 'year', \n",
    "        y = 'total_delta', \n",
    "        color='subject',\n",
    "        facet_row= 'class', \n",
    "       facet_col= 'subject', \n",
    "           size = 'studentCount',\n",
    "           size_max= 10,\n",
    "           trendline=\"lowess\",\n",
    "        height=2000,\n",
    "        width=2000,\n",
    "        title = 'Overall performance in subjects across the years for different grades (%s-%s-%s)'%(school_name, school_city, school_board)  )"
   ]
  },
  {
   "cell_type": "markdown",
   "metadata": {},
   "source": [
    "# Subject wise performance"
   ]
  },
  {
   "cell_type": "code",
   "execution_count": 127,
   "metadata": {
    "code_folding": [
     1
    ]
   },
   "outputs": [
    {
     "data": {
      "application/vnd.plotly.v1+json": {
       "config": {
        "linkText": "Export to plot.ly",
        "plotlyServerURL": "https://plot.ly",
        "showLink": false
       },
       "data": [
        {
         "hovertemplate": "class=3<br>skill_name=Intermediate Concepts, Geometry and Algebra<br>skill_name=Intermediate Concepts, Geometry and Algebra<br>year=%{x}<br>skill_delta=%{y}<br>studentCount=%{marker.size}<extra></extra>",
         "legendgroup": "skill_name=Intermediate Concepts, Geometry and Algebra",
         "marker": {
          "color": "#636efa",
          "size": [
           108,
           19,
           74,
           75,
           106,
           109
          ],
          "sizemode": "area",
          "sizeref": 1.14,
          "symbol": "circle"
         },
         "mode": "markers",
         "name": "skill_name=Intermediate Concepts, Geometry and Algebra",
         "showlegend": true,
         "type": "scatter",
         "uid": "6f4218cd-6a70-4af8-90b5-04d980d0eac0",
         "x": [
          "2018",
          "2007",
          "2008",
          "2009",
          "2014",
          "2016"
         ],
         "xaxis": "x",
         "y": [
          -4.329999999999998,
          5.339999999999996,
          -7.800000000000004,
          2.219999999999999,
          0.960000000000008,
          -1.8999999999999986
         ],
         "yaxis": "y"
        },
        {
         "hovertemplate": "<b>LOWESS trendline</b><br><br>class=3<br>skill_name=Intermediate Concepts, Geometry and Algebra<br>skill_name=Intermediate Concepts, Geometry and Algebra<br>year=%{x}<br>skill_delta=%{y} <b>(trend)</b><extra></extra>",
         "legendgroup": "skill_name=Intermediate Concepts, Geometry and Algebra",
         "marker": {
          "color": "#636efa",
          "symbol": "circle"
         },
         "mode": "lines",
         "name": "skill_name=Intermediate Concepts, Geometry and Algebra",
         "showlegend": false,
         "type": "scatter",
         "uid": "e3cafcaa-5503-4fe2-a618-9b8850f47507",
         "x": [
          2007,
          2008,
          2009,
          2014,
          2016,
          2018
         ],
         "xaxis": "x",
         "y": [
          5.3400000000013055,
          3.7799999999999976,
          2.2200000000000197,
          0.9368225752117603,
          -1.7390436691174327,
          -4.380371735894711
         ],
         "yaxis": "y"
        },
        {
         "hovertemplate": "class=3<br>skill_name=Number sense, Computations and Basic Arithmetic<br>skill_name=Number sense, Computations and Basic Arithmetic<br>year=%{x}<br>skill_delta=%{y}<br>studentCount=%{marker.size}<extra></extra>",
         "legendgroup": "skill_name=Number sense, Computations and Basic Arithmetic",
         "marker": {
          "color": "#EF553B",
          "size": [
           108,
           19,
           74,
           75,
           106,
           109
          ],
          "sizemode": "area",
          "sizeref": 1.14,
          "symbol": "circle"
         },
         "mode": "markers",
         "name": "skill_name=Number sense, Computations and Basic Arithmetic",
         "showlegend": true,
         "type": "scatter",
         "uid": "7ef65232-e054-439a-ba90-52095eab43e3",
         "x": [
          "2018",
          "2007",
          "2008",
          "2009",
          "2014",
          "2016"
         ],
         "xaxis": "x2",
         "y": [
          9.370000000000005,
          13.769999999999996,
          -3.1499999999999986,
          1.4899999999999949,
          5.929999999999993,
          13.380000000000003
         ],
         "yaxis": "y"
        },
        {
         "hovertemplate": "<b>LOWESS trendline</b><br><br>class=3<br>skill_name=Number sense, Computations and Basic Arithmetic<br>skill_name=Number sense, Computations and Basic Arithmetic<br>year=%{x}<br>skill_delta=%{y} <b>(trend)</b><extra></extra>",
         "legendgroup": "skill_name=Number sense, Computations and Basic Arithmetic",
         "marker": {
          "color": "#EF553B",
          "symbol": "circle"
         },
         "mode": "lines",
         "name": "skill_name=Number sense, Computations and Basic Arithmetic",
         "showlegend": false,
         "type": "scatter",
         "uid": "f14aae7a-61b7-40ad-a755-e70493ba6723",
         "x": [
          2007,
          2008,
          2009,
          2014,
          2016,
          2018
         ],
         "xaxis": "x2",
         "y": [
          11.203713425144903,
          5.0013952309226655,
          -0.9941116970937516,
          6.6856344253627356,
          9.527918709418099,
          11.053013264472746
         ],
         "yaxis": "y"
        },
        {
         "hovertemplate": "class=3<br>skill_name=Problem Solving, Advanced Problems<br>skill_name=Problem Solving, Advanced Problems<br>year=%{x}<br>skill_delta=%{y}<br>studentCount=%{marker.size}<extra></extra>",
         "legendgroup": "skill_name=Problem Solving, Advanced Problems",
         "marker": {
          "color": "#00cc96",
          "size": [
           108,
           19,
           74,
           75,
           106,
           109
          ],
          "sizemode": "area",
          "sizeref": 1.14,
          "symbol": "circle"
         },
         "mode": "markers",
         "name": "skill_name=Problem Solving, Advanced Problems",
         "showlegend": true,
         "type": "scatter",
         "uid": "c85090c2-863a-49f3-b2a2-fdc8748c41ba",
         "x": [
          "2018",
          "2007",
          "2008",
          "2009",
          "2014",
          "2016"
         ],
         "xaxis": "x3",
         "y": [
          7.640000000000008,
          -2.030000000000001,
          2.210000000000001,
          5.420000000000002,
          -4.780000000000001,
          11.719999999999999
         ],
         "yaxis": "y"
        },
        {
         "hovertemplate": "<b>LOWESS trendline</b><br><br>class=3<br>skill_name=Problem Solving, Advanced Problems<br>skill_name=Problem Solving, Advanced Problems<br>year=%{x}<br>skill_delta=%{y} <b>(trend)</b><extra></extra>",
         "legendgroup": "skill_name=Problem Solving, Advanced Problems",
         "marker": {
          "color": "#00cc96",
          "symbol": "circle"
         },
         "mode": "lines",
         "name": "skill_name=Problem Solving, Advanced Problems",
         "showlegend": false,
         "type": "scatter",
         "uid": "59587fb2-0126-4cfb-b766-e0db4c6aefe3",
         "x": [
          2007,
          2008,
          2009,
          2014,
          2016,
          2018
         ],
         "xaxis": "x3",
         "y": [
          -1.8954932156017525,
          1.832807191115834,
          5.550014722569366,
          -4.7800000000002605,
          1.4300000000000033,
          7.640000000000136
         ],
         "yaxis": "y"
        },
        {
         "hovertemplate": "class=3<br>skill_name=Word and Application Problems<br>skill_name=Word and Application Problems<br>year=%{x}<br>skill_delta=%{y}<br>studentCount=%{marker.size}<extra></extra>",
         "legendgroup": "skill_name=Word and Application Problems",
         "marker": {
          "color": "#ab63fa",
          "size": [
           108,
           19,
           74,
           75,
           106,
           109
          ],
          "sizemode": "area",
          "sizeref": 1.14,
          "symbol": "circle"
         },
         "mode": "markers",
         "name": "skill_name=Word and Application Problems",
         "showlegend": true,
         "type": "scatter",
         "uid": "9dcdae92-f37e-46a4-b436-62b3e06bbd31",
         "x": [
          "2018",
          "2007",
          "2008",
          "2009",
          "2014",
          "2016"
         ],
         "xaxis": "x4",
         "y": [
          7.789999999999999,
          -3.1000000000000014,
          -3.1099999999999994,
          2.979999999999997,
          1.2800000000000011,
          7.550000000000004
         ],
         "yaxis": "y"
        },
        {
         "hovertemplate": "<b>LOWESS trendline</b><br><br>class=3<br>skill_name=Word and Application Problems<br>skill_name=Word and Application Problems<br>year=%{x}<br>skill_delta=%{y} <b>(trend)</b><extra></extra>",
         "legendgroup": "skill_name=Word and Application Problems",
         "marker": {
          "color": "#ab63fa",
          "symbol": "circle"
         },
         "mode": "lines",
         "name": "skill_name=Word and Application Problems",
         "showlegend": false,
         "type": "scatter",
         "uid": "09ddf75a-acd1-41e0-9352-32089ed7d5c3",
         "x": [
          2007,
          2008,
          2009,
          2014,
          2016,
          2018
         ],
         "xaxis": "x4",
         "y": [
          -3.8260829363009687,
          -0.8037147073927626,
          2.2771669131591654,
          1.6194765815114636,
          5.305472941766142,
          8.491571811468566
         ],
         "yaxis": "y"
        },
        {
         "hovertemplate": "class=4<br>skill_name=Intermediate Concepts, Geometry and Algebra<br>skill_name=Intermediate Concepts, Geometry and Algebra<br>year=%{x}<br>skill_delta=%{y}<br>studentCount=%{marker.size}<extra></extra>",
         "legendgroup": "skill_name=Intermediate Concepts, Geometry and Algebra",
         "marker": {
          "color": "#636efa",
          "size": [
           113,
           14,
           72,
           75,
           104,
           111
          ],
          "sizemode": "area",
          "sizeref": 1.14,
          "symbol": "circle"
         },
         "mode": "markers",
         "name": "skill_name=Intermediate Concepts, Geometry and Algebra",
         "showlegend": false,
         "type": "scatter",
         "uid": "495598ea-bae5-42e8-a376-ac689d477155",
         "x": [
          "2018",
          "2007",
          "2008",
          "2009",
          "2014",
          "2016"
         ],
         "xaxis": "x",
         "y": [
          7.410000000000004,
          0.11999999999999744,
          -0.22999999999999687,
          4.960000000000001,
          1.3600000000000065,
          -5.770000000000003
         ],
         "yaxis": "y2"
        },
        {
         "hovertemplate": "<b>LOWESS trendline</b><br><br>class=4<br>skill_name=Intermediate Concepts, Geometry and Algebra<br>skill_name=Intermediate Concepts, Geometry and Algebra<br>year=%{x}<br>skill_delta=%{y} <b>(trend)</b><extra></extra>",
         "legendgroup": "skill_name=Intermediate Concepts, Geometry and Algebra",
         "marker": {
          "color": "#636efa",
          "symbol": "circle"
         },
         "mode": "lines",
         "name": "skill_name=Intermediate Concepts, Geometry and Algebra",
         "showlegend": false,
         "type": "scatter",
         "uid": "d8af1edd-332a-46a2-aaa7-4ccfc6f8f1e6",
         "x": [
          2007,
          2008,
          2009,
          2014,
          2016,
          2018
         ],
         "xaxis": "x",
         "y": [
          -0.6377139781687264,
          1.7635216361447763,
          4.228016532504699,
          1.3599999999999455,
          4.385000000000005,
          7.4100000000001165
         ],
         "yaxis": "y2"
        },
        {
         "hovertemplate": "class=4<br>skill_name=Number sense, Computations and Basic Arithmetic<br>skill_name=Number sense, Computations and Basic Arithmetic<br>year=%{x}<br>skill_delta=%{y}<br>studentCount=%{marker.size}<extra></extra>",
         "legendgroup": "skill_name=Number sense, Computations and Basic Arithmetic",
         "marker": {
          "color": "#EF553B",
          "size": [
           113,
           14,
           72,
           75,
           104,
           111
          ],
          "sizemode": "area",
          "sizeref": 1.14,
          "symbol": "circle"
         },
         "mode": "markers",
         "name": "skill_name=Number sense, Computations and Basic Arithmetic",
         "showlegend": false,
         "type": "scatter",
         "uid": "05191033-9a0a-4143-9204-3c2e553a354d",
         "x": [
          "2018",
          "2007",
          "2008",
          "2009",
          "2014",
          "2016"
         ],
         "xaxis": "x2",
         "y": [
          -0.12000000000000455,
          6.450000000000003,
          -0.20000000000000284,
          7.899999999999999,
          0.05000000000000426,
          -0.9599999999999937
         ],
         "yaxis": "y2"
        },
        {
         "hovertemplate": "<b>LOWESS trendline</b><br><br>class=4<br>skill_name=Number sense, Computations and Basic Arithmetic<br>skill_name=Number sense, Computations and Basic Arithmetic<br>year=%{x}<br>skill_delta=%{y} <b>(trend)</b><extra></extra>",
         "legendgroup": "skill_name=Number sense, Computations and Basic Arithmetic",
         "marker": {
          "color": "#EF553B",
          "symbol": "circle"
         },
         "mode": "lines",
         "name": "skill_name=Number sense, Computations and Basic Arithmetic",
         "showlegend": false,
         "type": "scatter",
         "uid": "6976a9a0-fb83-4942-8206-889d8636207e",
         "x": [
          2007,
          2008,
          2009,
          2014,
          2016,
          2018
         ],
         "xaxis": "x2",
         "y": [
          6.449999999999616,
          7.175000000000175,
          7.899999999998668,
          -0.05229107437676259,
          -0.2749800326283486,
          -0.3425481692665576
         ],
         "yaxis": "y2"
        },
        {
         "hovertemplate": "class=4<br>skill_name=Problem Solving, Advanced Problems<br>skill_name=Problem Solving, Advanced Problems<br>year=%{x}<br>skill_delta=%{y}<br>studentCount=%{marker.size}<extra></extra>",
         "legendgroup": "skill_name=Problem Solving, Advanced Problems",
         "marker": {
          "color": "#00cc96",
          "size": [
           113,
           14,
           72,
           75,
           104,
           111
          ],
          "sizemode": "area",
          "sizeref": 1.14,
          "symbol": "circle"
         },
         "mode": "markers",
         "name": "skill_name=Problem Solving, Advanced Problems",
         "showlegend": false,
         "type": "scatter",
         "uid": "e8ad17c3-848e-4b4b-b418-f0b2d98b8812",
         "x": [
          "2018",
          "2007",
          "2008",
          "2009",
          "2014",
          "2016"
         ],
         "xaxis": "x3",
         "y": [
          -7.079999999999998,
          2.5900000000000034,
          -5.050000000000004,
          1.1499999999999986,
          -5.57,
          -3.9100000000000037
         ],
         "yaxis": "y2"
        },
        {
         "hovertemplate": "<b>LOWESS trendline</b><br><br>class=4<br>skill_name=Problem Solving, Advanced Problems<br>skill_name=Problem Solving, Advanced Problems<br>year=%{x}<br>skill_delta=%{y} <b>(trend)</b><extra></extra>",
         "legendgroup": "skill_name=Problem Solving, Advanced Problems",
         "marker": {
          "color": "#00cc96",
          "symbol": "circle"
         },
         "mode": "lines",
         "name": "skill_name=Problem Solving, Advanced Problems",
         "showlegend": false,
         "type": "scatter",
         "uid": "fe9f309b-02ed-4a4b-875c-09b33483accd",
         "x": [
          2007,
          2008,
          2009,
          2014,
          2016,
          2018
         ],
         "xaxis": "x3",
         "y": [
          1.2216869011462446,
          0.46918236385127193,
          -0.17757022521292254,
          -5.244624159578633,
          -5.509160664094532,
          -6.351871156399696
         ],
         "yaxis": "y2"
        },
        {
         "hovertemplate": "class=4<br>skill_name=Word and Application Problems<br>skill_name=Word and Application Problems<br>year=%{x}<br>skill_delta=%{y}<br>studentCount=%{marker.size}<extra></extra>",
         "legendgroup": "skill_name=Word and Application Problems",
         "marker": {
          "color": "#ab63fa",
          "size": [
           113,
           14,
           72,
           75,
           104,
           111
          ],
          "sizemode": "area",
          "sizeref": 1.14,
          "symbol": "circle"
         },
         "mode": "markers",
         "name": "skill_name=Word and Application Problems",
         "showlegend": false,
         "type": "scatter",
         "uid": "3615bfde-2235-4bfb-a8cc-9a0cab24cee0",
         "x": [
          "2018",
          "2007",
          "2008",
          "2009",
          "2014",
          "2016"
         ],
         "xaxis": "x4",
         "y": [
          0.509999999999998,
          4.030000000000001,
          -0.01999999999999602,
          0.46999999999999886,
          -0.20000000000000284,
          3.190000000000005
         ],
         "yaxis": "y2"
        },
        {
         "hovertemplate": "<b>LOWESS trendline</b><br><br>class=4<br>skill_name=Word and Application Problems<br>skill_name=Word and Application Problems<br>year=%{x}<br>skill_delta=%{y} <b>(trend)</b><extra></extra>",
         "legendgroup": "skill_name=Word and Application Problems",
         "marker": {
          "color": "#ab63fa",
          "symbol": "circle"
         },
         "mode": "lines",
         "name": "skill_name=Word and Application Problems",
         "showlegend": false,
         "type": "scatter",
         "uid": "a00eda12-73ef-432b-9a68-8766fa27bb29",
         "x": [
          2007,
          2008,
          2009,
          2014,
          2016,
          2018
         ],
         "xaxis": "x4",
         "y": [
          3.4324456937637677,
          1.6376170384925093,
          -0.10781334408721677,
          0.08914206139465378,
          0.7501772300632485,
          1.054376825811946
         ],
         "yaxis": "y2"
        },
        {
         "hovertemplate": "class=5<br>skill_name=Intermediate Concepts, Geometry and Algebra<br>skill_name=Intermediate Concepts, Geometry and Algebra<br>year=%{x}<br>skill_delta=%{y}<br>studentCount=%{marker.size}<extra></extra>",
         "legendgroup": "skill_name=Intermediate Concepts, Geometry and Algebra",
         "marker": {
          "color": "#636efa",
          "size": [
           112,
           16,
           73,
           75,
           108,
           107
          ],
          "sizemode": "area",
          "sizeref": 1.14,
          "symbol": "circle"
         },
         "mode": "markers",
         "name": "skill_name=Intermediate Concepts, Geometry and Algebra",
         "showlegend": false,
         "type": "scatter",
         "uid": "ee6bb75c-b5a0-4309-98d5-7c1724d69718",
         "x": [
          "2018",
          "2007",
          "2008",
          "2009",
          "2014",
          "2016"
         ],
         "xaxis": "x",
         "y": [
          1.0399999999999991,
          -1.4299999999999997,
          -0.01999999999999602,
          3.5700000000000003,
          4.57,
          -2.460000000000001
         ],
         "yaxis": "y3"
        },
        {
         "hovertemplate": "<b>LOWESS trendline</b><br><br>class=5<br>skill_name=Intermediate Concepts, Geometry and Algebra<br>skill_name=Intermediate Concepts, Geometry and Algebra<br>year=%{x}<br>skill_delta=%{y} <b>(trend)</b><extra></extra>",
         "legendgroup": "skill_name=Intermediate Concepts, Geometry and Algebra",
         "marker": {
          "color": "#636efa",
          "symbol": "circle"
         },
         "mode": "lines",
         "name": "skill_name=Intermediate Concepts, Geometry and Algebra",
         "showlegend": false,
         "type": "scatter",
         "uid": "553c3cb0-c47f-43a9-81ea-4b8202a1553b",
         "x": [
          2007,
          2008,
          2009,
          2014,
          2016,
          2018
         ],
         "xaxis": "x",
         "y": [
          -1.7218970240731162,
          0.7709034639753717,
          3.2879358877985307,
          4.570000000000131,
          2.8049999999999997,
          1.0400000000000071
         ],
         "yaxis": "y3"
        },
        {
         "hovertemplate": "class=5<br>skill_name=Number sense, Computations and Basic Arithmetic<br>skill_name=Number sense, Computations and Basic Arithmetic<br>year=%{x}<br>skill_delta=%{y}<br>studentCount=%{marker.size}<extra></extra>",
         "legendgroup": "skill_name=Number sense, Computations and Basic Arithmetic",
         "marker": {
          "color": "#EF553B",
          "size": [
           112,
           16,
           73,
           75,
           108,
           107
          ],
          "sizemode": "area",
          "sizeref": 1.14,
          "symbol": "circle"
         },
         "mode": "markers",
         "name": "skill_name=Number sense, Computations and Basic Arithmetic",
         "showlegend": false,
         "type": "scatter",
         "uid": "9e71a3e3-165e-4a19-978c-60a096d3a48a",
         "x": [
          "2018",
          "2007",
          "2008",
          "2009",
          "2014",
          "2016"
         ],
         "xaxis": "x2",
         "y": [
          9.189999999999998,
          10.800000000000004,
          -2.760000000000005,
          7.059999999999995,
          6.700000000000003,
          6.280000000000001
         ],
         "yaxis": "y3"
        },
        {
         "hovertemplate": "<b>LOWESS trendline</b><br><br>class=5<br>skill_name=Number sense, Computations and Basic Arithmetic<br>skill_name=Number sense, Computations and Basic Arithmetic<br>year=%{x}<br>skill_delta=%{y} <b>(trend)</b><extra></extra>",
         "legendgroup": "skill_name=Number sense, Computations and Basic Arithmetic",
         "marker": {
          "color": "#EF553B",
          "symbol": "circle"
         },
         "mode": "lines",
         "name": "skill_name=Number sense, Computations and Basic Arithmetic",
         "showlegend": false,
         "type": "scatter",
         "uid": "fe8b7277-1708-4d8c-81a5-b2428fc0e61b",
         "x": [
          2007,
          2008,
          2009,
          2014,
          2016,
          2018
         ],
         "xaxis": "x2",
         "y": [
          10.80000000000131,
          8.930000000000186,
          7.059999999998869,
          6.49411375787998,
          7.443242205018137,
          8.733931241002848
         ],
         "yaxis": "y3"
        },
        {
         "hovertemplate": "class=5<br>skill_name=Problem Solving, Advanced Problems<br>skill_name=Problem Solving, Advanced Problems<br>year=%{x}<br>skill_delta=%{y}<br>studentCount=%{marker.size}<extra></extra>",
         "legendgroup": "skill_name=Problem Solving, Advanced Problems",
         "marker": {
          "color": "#00cc96",
          "size": [
           112,
           16,
           73,
           75,
           108,
           107
          ],
          "sizemode": "area",
          "sizeref": 1.14,
          "symbol": "circle"
         },
         "mode": "markers",
         "name": "skill_name=Problem Solving, Advanced Problems",
         "showlegend": false,
         "type": "scatter",
         "uid": "3de57cfe-ece4-47b6-82be-f24c56d82612",
         "x": [
          "2018",
          "2007",
          "2008",
          "2009",
          "2014",
          "2016"
         ],
         "xaxis": "x3",
         "y": [
          5.519999999999996,
          3.9800000000000004,
          -2.7200000000000024,
          4.829999999999998,
          2.770000000000003,
          5.57
         ],
         "yaxis": "y3"
        },
        {
         "hovertemplate": "<b>LOWESS trendline</b><br><br>class=5<br>skill_name=Problem Solving, Advanced Problems<br>skill_name=Problem Solving, Advanced Problems<br>year=%{x}<br>skill_delta=%{y} <b>(trend)</b><extra></extra>",
         "legendgroup": "skill_name=Problem Solving, Advanced Problems",
         "marker": {
          "color": "#00cc96",
          "symbol": "circle"
         },
         "mode": "lines",
         "name": "skill_name=Problem Solving, Advanced Problems",
         "showlegend": false,
         "type": "scatter",
         "uid": "44ccc7d5-0499-4e84-8bff-1e60d5e2cac0",
         "x": [
          2007,
          2008,
          2009,
          2014,
          2016,
          2018
         ],
         "xaxis": "x3",
         "y": [
          3.9800000000004476,
          4.405000000000059,
          4.8300000000006165,
          2.9616722575064864,
          4.62550198988456,
          5.9490584684286185
         ],
         "yaxis": "y3"
        },
        {
         "hovertemplate": "class=5<br>skill_name=Word and Application Problems<br>skill_name=Word and Application Problems<br>year=%{x}<br>skill_delta=%{y}<br>studentCount=%{marker.size}<extra></extra>",
         "legendgroup": "skill_name=Word and Application Problems",
         "marker": {
          "color": "#ab63fa",
          "size": [
           112,
           16,
           73,
           75,
           108,
           107
          ],
          "sizemode": "area",
          "sizeref": 1.14,
          "symbol": "circle"
         },
         "mode": "markers",
         "name": "skill_name=Word and Application Problems",
         "showlegend": false,
         "type": "scatter",
         "uid": "b4ca0b7e-ac5f-448a-84e2-a5d72bfc10f5",
         "x": [
          "2018",
          "2007",
          "2008",
          "2009",
          "2014",
          "2016"
         ],
         "xaxis": "x4",
         "y": [
          5.269999999999996,
          11.670000000000002,
          2.490000000000002,
          5.3700000000000045,
          6.170000000000002,
          5.450000000000003
         ],
         "yaxis": "y3"
        },
        {
         "hovertemplate": "<b>LOWESS trendline</b><br><br>class=5<br>skill_name=Word and Application Problems<br>skill_name=Word and Application Problems<br>year=%{x}<br>skill_delta=%{y} <b>(trend)</b><extra></extra>",
         "legendgroup": "skill_name=Word and Application Problems",
         "marker": {
          "color": "#ab63fa",
          "symbol": "circle"
         },
         "mode": "lines",
         "name": "skill_name=Word and Application Problems",
         "showlegend": false,
         "type": "scatter",
         "uid": "cea5a87b-48f9-489d-b9c5-e15b20d3f0f3",
         "x": [
          2007,
          2008,
          2009,
          2014,
          2016,
          2018
         ],
         "xaxis": "x4",
         "y": [
          11.670000000002858,
          8.520000000000003,
          5.370000000000056,
          6.140936354439544,
          5.6523022444562185,
          5.20690071700515
         ],
         "yaxis": "y3"
        },
        {
         "hovertemplate": "class=6<br>skill_name=Intermediate Concepts, Geometry and Algebra<br>skill_name=Intermediate Concepts, Geometry and Algebra<br>year=%{x}<br>skill_delta=%{y}<br>studentCount=%{marker.size}<extra></extra>",
         "legendgroup": "skill_name=Intermediate Concepts, Geometry and Algebra",
         "marker": {
          "color": "#636efa",
          "size": [
           111,
           17,
           74,
           79,
           82,
           100
          ],
          "sizemode": "area",
          "sizeref": 1.14,
          "symbol": "circle"
         },
         "mode": "markers",
         "name": "skill_name=Intermediate Concepts, Geometry and Algebra",
         "showlegend": false,
         "type": "scatter",
         "uid": "b8b8cd15-6b76-46c4-847b-889c72f2c231",
         "x": [
          "2018",
          "2007",
          "2008",
          "2009",
          "2014",
          "2016"
         ],
         "xaxis": "x",
         "y": [
          5.779999999999994,
          10.770000000000003,
          -0.46000000000000085,
          3.030000000000001,
          10.219999999999999,
          3.3599999999999994
         ],
         "yaxis": "y4"
        },
        {
         "hovertemplate": "<b>LOWESS trendline</b><br><br>class=6<br>skill_name=Intermediate Concepts, Geometry and Algebra<br>skill_name=Intermediate Concepts, Geometry and Algebra<br>year=%{x}<br>skill_delta=%{y} <b>(trend)</b><extra></extra>",
         "legendgroup": "skill_name=Intermediate Concepts, Geometry and Algebra",
         "marker": {
          "color": "#636efa",
          "symbol": "circle"
         },
         "mode": "lines",
         "name": "skill_name=Intermediate Concepts, Geometry and Algebra",
         "showlegend": false,
         "type": "scatter",
         "uid": "1b9973bd-75ca-45a2-9a3b-f5046aa9806e",
         "x": [
          2007,
          2008,
          2009,
          2014,
          2016,
          2018
         ],
         "xaxis": "x",
         "y": [
          9.017878553711366,
          5.105331066752144,
          1.3339831084774847,
          9.620720969717183,
          6.525205318532402,
          4.453680469926818
         ],
         "yaxis": "y4"
        },
        {
         "hovertemplate": "class=6<br>skill_name=Number sense, Computations and Basic Arithmetic<br>skill_name=Number sense, Computations and Basic Arithmetic<br>year=%{x}<br>skill_delta=%{y}<br>studentCount=%{marker.size}<extra></extra>",
         "legendgroup": "skill_name=Number sense, Computations and Basic Arithmetic",
         "marker": {
          "color": "#EF553B",
          "size": [
           111,
           17,
           74,
           79,
           82,
           100
          ],
          "sizemode": "area",
          "sizeref": 1.14,
          "symbol": "circle"
         },
         "mode": "markers",
         "name": "skill_name=Number sense, Computations and Basic Arithmetic",
         "showlegend": false,
         "type": "scatter",
         "uid": "9018f18f-8dd3-404c-a5e1-9479e13a3d4f",
         "x": [
          "2018",
          "2007",
          "2008",
          "2009",
          "2014",
          "2016"
         ],
         "xaxis": "x2",
         "y": [
          4.580000000000005,
          23.879999999999995,
          11.43,
          2.6299999999999955,
          5.909999999999997,
          5.789999999999999
         ],
         "yaxis": "y4"
        },
        {
         "hovertemplate": "<b>LOWESS trendline</b><br><br>class=6<br>skill_name=Number sense, Computations and Basic Arithmetic<br>skill_name=Number sense, Computations and Basic Arithmetic<br>year=%{x}<br>skill_delta=%{y} <b>(trend)</b><extra></extra>",
         "legendgroup": "skill_name=Number sense, Computations and Basic Arithmetic",
         "marker": {
          "color": "#EF553B",
          "symbol": "circle"
         },
         "mode": "lines",
         "name": "skill_name=Number sense, Computations and Basic Arithmetic",
         "showlegend": false,
         "type": "scatter",
         "uid": "157aa11a-a37c-4c38-891e-46fbd631a3d5",
         "x": [
          2007,
          2008,
          2009,
          2014,
          2016,
          2018
         ],
         "xaxis": "x2",
         "y": [
          23.61634902156756,
          12.985300312883679,
          2.373471952813351,
          5.9835190216774246,
          5.429440355030005,
          4.744573124013427
         ],
         "yaxis": "y4"
        },
        {
         "hovertemplate": "class=6<br>skill_name=Problem Solving, Advanced Problems<br>skill_name=Problem Solving, Advanced Problems<br>year=%{x}<br>skill_delta=%{y}<br>studentCount=%{marker.size}<extra></extra>",
         "legendgroup": "skill_name=Problem Solving, Advanced Problems",
         "marker": {
          "color": "#00cc96",
          "size": [
           111,
           17,
           74,
           79,
           82,
           100
          ],
          "sizemode": "area",
          "sizeref": 1.14,
          "symbol": "circle"
         },
         "mode": "markers",
         "name": "skill_name=Problem Solving, Advanced Problems",
         "showlegend": false,
         "type": "scatter",
         "uid": "b6c92c66-7c97-4c80-83b7-400766c494d0",
         "x": [
          "2018",
          "2007",
          "2008",
          "2009",
          "2014",
          "2016"
         ],
         "xaxis": "x3",
         "y": [
          13.300000000000004,
          0.4299999999999997,
          7.530000000000001,
          4.850000000000001,
          1.4699999999999989,
          3.479999999999997
         ],
         "yaxis": "y4"
        },
        {
         "hovertemplate": "<b>LOWESS trendline</b><br><br>class=6<br>skill_name=Problem Solving, Advanced Problems<br>skill_name=Problem Solving, Advanced Problems<br>year=%{x}<br>skill_delta=%{y} <b>(trend)</b><extra></extra>",
         "legendgroup": "skill_name=Problem Solving, Advanced Problems",
         "marker": {
          "color": "#00cc96",
          "symbol": "circle"
         },
         "mode": "lines",
         "name": "skill_name=Problem Solving, Advanced Problems",
         "showlegend": false,
         "type": "scatter",
         "uid": "79dcd0c1-cb2c-4c4c-8d3e-deb2bed63558",
         "x": [
          2007,
          2008,
          2009,
          2014,
          2016,
          2018
         ],
         "xaxis": "x3",
         "y": [
          1.5941132978724104,
          3.8323819407060222,
          5.9768373097217555,
          0.9897617381496266,
          6.234193251695446,
          12.258588817844803
         ],
         "yaxis": "y4"
        },
        {
         "hovertemplate": "class=6<br>skill_name=Word and Application Problems<br>skill_name=Word and Application Problems<br>year=%{x}<br>skill_delta=%{y}<br>studentCount=%{marker.size}<extra></extra>",
         "legendgroup": "skill_name=Word and Application Problems",
         "marker": {
          "color": "#ab63fa",
          "size": [
           111,
           17,
           74,
           79,
           82,
           100
          ],
          "sizemode": "area",
          "sizeref": 1.14,
          "symbol": "circle"
         },
         "mode": "markers",
         "name": "skill_name=Word and Application Problems",
         "showlegend": false,
         "type": "scatter",
         "uid": "871173e9-74dd-4d39-b04d-7fb3d91814e7",
         "x": [
          "2018",
          "2007",
          "2008",
          "2009",
          "2014",
          "2016"
         ],
         "xaxis": "x4",
         "y": [
          3.6700000000000017,
          17.380000000000003,
          7.100000000000001,
          6.969999999999999,
          7.600000000000001,
          1.2199999999999989
         ],
         "yaxis": "y4"
        },
        {
         "hovertemplate": "<b>LOWESS trendline</b><br><br>class=6<br>skill_name=Word and Application Problems<br>skill_name=Word and Application Problems<br>year=%{x}<br>skill_delta=%{y} <b>(trend)</b><extra></extra>",
         "legendgroup": "skill_name=Word and Application Problems",
         "marker": {
          "color": "#ab63fa",
          "symbol": "circle"
         },
         "mode": "lines",
         "name": "skill_name=Word and Application Problems",
         "showlegend": false,
         "type": "scatter",
         "uid": "9e71ff0d-f006-4590-9a96-2def7abec55e",
         "x": [
          2007,
          2008,
          2009,
          2014,
          2016,
          2018
         ],
         "xaxis": "x4",
         "y": [
          16.171845605991702,
          10.937507495081313,
          5.800531830915322,
          7.071958479923818,
          4.39052897910654,
          2.540971768297513
         ],
         "yaxis": "y4"
        },
        {
         "hovertemplate": "class=7<br>skill_name=Intermediate Concepts, Geometry and Algebra<br>skill_name=Intermediate Concepts, Geometry and Algebra<br>year=%{x}<br>skill_delta=%{y}<br>studentCount=%{marker.size}<extra></extra>",
         "legendgroup": "skill_name=Intermediate Concepts, Geometry and Algebra",
         "marker": {
          "color": "#636efa",
          "size": [
           114,
           4,
           45,
           74,
           78,
           99
          ],
          "sizemode": "area",
          "sizeref": 1.14,
          "symbol": "circle"
         },
         "mode": "markers",
         "name": "skill_name=Intermediate Concepts, Geometry and Algebra",
         "showlegend": false,
         "type": "scatter",
         "uid": "94dab87f-0ddb-49e5-901a-0335ea0c2a30",
         "x": [
          "2018",
          "2007",
          "2008",
          "2009",
          "2014",
          "2016"
         ],
         "xaxis": "x",
         "y": [
          7.550000000000004,
          16.04,
          11.64,
          7,
          13.07,
          10.469999999999999
         ],
         "yaxis": "y5"
        },
        {
         "hovertemplate": "<b>LOWESS trendline</b><br><br>class=7<br>skill_name=Intermediate Concepts, Geometry and Algebra<br>skill_name=Intermediate Concepts, Geometry and Algebra<br>year=%{x}<br>skill_delta=%{y} <b>(trend)</b><extra></extra>",
         "legendgroup": "skill_name=Intermediate Concepts, Geometry and Algebra",
         "marker": {
          "color": "#636efa",
          "symbol": "circle"
         },
         "mode": "lines",
         "name": "skill_name=Intermediate Concepts, Geometry and Algebra",
         "showlegend": false,
         "type": "scatter",
         "uid": "ae5b35fe-f20f-4e51-a7cd-f98d039d3a3d",
         "x": [
          2007,
          2008,
          2009,
          2014,
          2016,
          2018
         ],
         "xaxis": "x",
         "y": [
          16.07156757300259,
          11.552350815785893,
          7.03052490994603,
          13.085279656203673,
          10.341491789867744,
          7.57880267956176
         ],
         "yaxis": "y5"
        },
        {
         "hovertemplate": "class=7<br>skill_name=Number sense, Computations and Basic Arithmetic<br>skill_name=Number sense, Computations and Basic Arithmetic<br>year=%{x}<br>skill_delta=%{y}<br>studentCount=%{marker.size}<extra></extra>",
         "legendgroup": "skill_name=Number sense, Computations and Basic Arithmetic",
         "marker": {
          "color": "#EF553B",
          "size": [
           114,
           4,
           45,
           74,
           78,
           99
          ],
          "sizemode": "area",
          "sizeref": 1.14,
          "symbol": "circle"
         },
         "mode": "markers",
         "name": "skill_name=Number sense, Computations and Basic Arithmetic",
         "showlegend": false,
         "type": "scatter",
         "uid": "2be92a9c-ac16-4208-9993-f4c7eebf787c",
         "x": [
          "2018",
          "2007",
          "2008",
          "2009",
          "2014",
          "2016"
         ],
         "xaxis": "x2",
         "y": [
          6.279999999999994,
          15.579999999999998,
          14.329999999999998,
          7.43,
          12.060000000000002,
          4.390000000000001
         ],
         "yaxis": "y5"
        },
        {
         "hovertemplate": "<b>LOWESS trendline</b><br><br>class=7<br>skill_name=Number sense, Computations and Basic Arithmetic<br>skill_name=Number sense, Computations and Basic Arithmetic<br>year=%{x}<br>skill_delta=%{y} <b>(trend)</b><extra></extra>",
         "legendgroup": "skill_name=Number sense, Computations and Basic Arithmetic",
         "marker": {
          "color": "#EF553B",
          "symbol": "circle"
         },
         "mode": "lines",
         "name": "skill_name=Number sense, Computations and Basic Arithmetic",
         "showlegend": false,
         "type": "scatter",
         "uid": "a005090e-62b4-4212-b552-1b9c872c1468",
         "x": [
          2007,
          2008,
          2009,
          2014,
          2016,
          2018
         ],
         "xaxis": "x2",
         "y": [
          16.35479690776241,
          12.299208289111043,
          8.178863769827002,
          11.752172154718908,
          8.629942982482369,
          5.784222551537886
         ],
         "yaxis": "y5"
        },
        {
         "hovertemplate": "class=7<br>skill_name=Problem Solving, Advanced Problems<br>skill_name=Problem Solving, Advanced Problems<br>year=%{x}<br>skill_delta=%{y}<br>studentCount=%{marker.size}<extra></extra>",
         "legendgroup": "skill_name=Problem Solving, Advanced Problems",
         "marker": {
          "color": "#00cc96",
          "size": [
           114,
           4,
           45,
           74,
           78,
           99
          ],
          "sizemode": "area",
          "sizeref": 1.14,
          "symbol": "circle"
         },
         "mode": "markers",
         "name": "skill_name=Problem Solving, Advanced Problems",
         "showlegend": false,
         "type": "scatter",
         "uid": "a62d49a5-d0f1-445d-892c-85b86813506d",
         "x": [
          "2018",
          "2007",
          "2008",
          "2009",
          "2014",
          "2016"
         ],
         "xaxis": "x3",
         "y": [
          6.25,
          4.949999999999999,
          14.71,
          13.990000000000002,
          8.439999999999998,
          2.6899999999999977
         ],
         "yaxis": "y5"
        },
        {
         "hovertemplate": "<b>LOWESS trendline</b><br><br>class=7<br>skill_name=Problem Solving, Advanced Problems<br>skill_name=Problem Solving, Advanced Problems<br>year=%{x}<br>skill_delta=%{y} <b>(trend)</b><extra></extra>",
         "legendgroup": "skill_name=Problem Solving, Advanced Problems",
         "marker": {
          "color": "#00cc96",
          "symbol": "circle"
         },
         "mode": "lines",
         "name": "skill_name=Problem Solving, Advanced Problems",
         "showlegend": false,
         "type": "scatter",
         "uid": "7f9c526f-c0ca-4290-a18c-b10062082231",
         "x": [
          2007,
          2008,
          2009,
          2014,
          2016,
          2018
         ],
         "xaxis": "x3",
         "y": [
          6.197434290562855,
          10.747726251389912,
          15.197490286901978,
          7.887735841169917,
          6.049878058052988,
          5.074287755292374
         ],
         "yaxis": "y5"
        },
        {
         "hovertemplate": "class=7<br>skill_name=Word and Application Problems<br>skill_name=Word and Application Problems<br>year=%{x}<br>skill_delta=%{y}<br>studentCount=%{marker.size}<extra></extra>",
         "legendgroup": "skill_name=Word and Application Problems",
         "marker": {
          "color": "#ab63fa",
          "size": [
           114,
           4,
           45,
           74,
           78,
           99
          ],
          "sizemode": "area",
          "sizeref": 1.14,
          "symbol": "circle"
         },
         "mode": "markers",
         "name": "skill_name=Word and Application Problems",
         "showlegend": false,
         "type": "scatter",
         "uid": "aef75bf6-10be-445a-ada5-8b8e16df36e1",
         "x": [
          "2018",
          "2007",
          "2008",
          "2009",
          "2014",
          "2016"
         ],
         "xaxis": "x4",
         "y": [
          3.0899999999999963,
          19.68,
          17.230000000000004,
          11.379999999999995,
          14.439999999999998,
          7.449999999999996
         ],
         "yaxis": "y5"
        },
        {
         "hovertemplate": "<b>LOWESS trendline</b><br><br>class=7<br>skill_name=Word and Application Problems<br>skill_name=Word and Application Problems<br>year=%{x}<br>skill_delta=%{y} <b>(trend)</b><extra></extra>",
         "legendgroup": "skill_name=Word and Application Problems",
         "marker": {
          "color": "#ab63fa",
          "symbol": "circle"
         },
         "mode": "lines",
         "name": "skill_name=Word and Application Problems",
         "showlegend": false,
         "type": "scatter",
         "uid": "64ef875e-dd30-4f07-b9dd-1bb19bb220d5",
         "x": [
          2007,
          2008,
          2009,
          2014,
          2016,
          2018
         ],
         "xaxis": "x4",
         "y": [
          20.08470196449428,
          15.944529509037345,
          11.77174303200469,
          14.27687989370799,
          8.372162537119536,
          2.734832427238395
         ],
         "yaxis": "y5"
        },
        {
         "hovertemplate": "class=8<br>skill_name=Intermediate Concepts, Geometry and Algebra<br>skill_name=Intermediate Concepts, Geometry and Algebra<br>year=%{x}<br>skill_delta=%{y}<br>studentCount=%{marker.size}<extra></extra>",
         "legendgroup": "skill_name=Intermediate Concepts, Geometry and Algebra",
         "marker": {
          "color": "#636efa",
          "size": [
           103,
           13,
           52,
           46,
           77,
           76
          ],
          "sizemode": "area",
          "sizeref": 1.14,
          "symbol": "circle"
         },
         "mode": "markers",
         "name": "skill_name=Intermediate Concepts, Geometry and Algebra",
         "showlegend": false,
         "type": "scatter",
         "uid": "675bae0b-539f-4bf5-b3ad-3189d5e6f5d6",
         "x": [
          "2018",
          "2007",
          "2008",
          "2009",
          "2014",
          "2016"
         ],
         "xaxis": "x",
         "y": [
          3.5800000000000054,
          18.75,
          12.21,
          20.449999999999996,
          7.75,
          7
         ],
         "yaxis": "y6"
        },
        {
         "hovertemplate": "<b>LOWESS trendline</b><br><br>class=8<br>skill_name=Intermediate Concepts, Geometry and Algebra<br>skill_name=Intermediate Concepts, Geometry and Algebra<br>year=%{x}<br>skill_delta=%{y} <b>(trend)</b><extra></extra>",
         "legendgroup": "skill_name=Intermediate Concepts, Geometry and Algebra",
         "marker": {
          "color": "#636efa",
          "symbol": "circle"
         },
         "mode": "lines",
         "name": "skill_name=Intermediate Concepts, Geometry and Algebra",
         "showlegend": false,
         "type": "scatter",
         "uid": "016de357-a73c-4319-8e9a-a81ed6ff24ca",
         "x": [
          2007,
          2008,
          2009,
          2014,
          2016,
          2018
         ],
         "xaxis": "x",
         "y": [
          18.750000000005794,
          19.600000000000087,
          20.44999999999796,
          7.9283683272850105,
          6.111171761474855,
          3.97900770747903
         ],
         "yaxis": "y6"
        },
        {
         "hovertemplate": "class=8<br>skill_name=Number sense, Computations and Basic Arithmetic<br>skill_name=Number sense, Computations and Basic Arithmetic<br>year=%{x}<br>skill_delta=%{y}<br>studentCount=%{marker.size}<extra></extra>",
         "legendgroup": "skill_name=Number sense, Computations and Basic Arithmetic",
         "marker": {
          "color": "#EF553B",
          "size": [
           103,
           13,
           52,
           46,
           77,
           76
          ],
          "sizemode": "area",
          "sizeref": 1.14,
          "symbol": "circle"
         },
         "mode": "markers",
         "name": "skill_name=Number sense, Computations and Basic Arithmetic",
         "showlegend": false,
         "type": "scatter",
         "uid": "1865db8b-9d29-449c-82c4-4f882a0684bf",
         "x": [
          "2018",
          "2007",
          "2008",
          "2009",
          "2014",
          "2016"
         ],
         "xaxis": "x2",
         "y": [
          0.8200000000000003,
          22.689999999999998,
          4.010000000000005,
          21.340000000000003,
          7.969999999999999,
          0.27999999999999403
         ],
         "yaxis": "y6"
        },
        {
         "hovertemplate": "<b>LOWESS trendline</b><br><br>class=8<br>skill_name=Number sense, Computations and Basic Arithmetic<br>skill_name=Number sense, Computations and Basic Arithmetic<br>year=%{x}<br>skill_delta=%{y} <b>(trend)</b><extra></extra>",
         "legendgroup": "skill_name=Number sense, Computations and Basic Arithmetic",
         "marker": {
          "color": "#EF553B",
          "symbol": "circle"
         },
         "mode": "lines",
         "name": "skill_name=Number sense, Computations and Basic Arithmetic",
         "showlegend": false,
         "type": "scatter",
         "uid": "d7372195-5c1c-48c2-9efb-c8b217533f69",
         "x": [
          2007,
          2008,
          2009,
          2014,
          2016,
          2018
         ],
         "xaxis": "x2",
         "y": [
          22.47856373018287,
          21.799080090935114,
          21.132691457784333,
          7.4150280079743505,
          3.002596503793031,
          -0.42255581428947464
         ],
         "yaxis": "y6"
        },
        {
         "hovertemplate": "class=8<br>skill_name=Problem Solving, Advanced Problems<br>skill_name=Problem Solving, Advanced Problems<br>year=%{x}<br>skill_delta=%{y}<br>studentCount=%{marker.size}<extra></extra>",
         "legendgroup": "skill_name=Problem Solving, Advanced Problems",
         "marker": {
          "color": "#00cc96",
          "size": [
           103,
           13,
           52,
           46,
           77,
           76
          ],
          "sizemode": "area",
          "sizeref": 1.14,
          "symbol": "circle"
         },
         "mode": "markers",
         "name": "skill_name=Problem Solving, Advanced Problems",
         "showlegend": false,
         "type": "scatter",
         "uid": "63c903b2-61b5-46cd-8681-2dda7ef24336",
         "x": [
          "2018",
          "2007",
          "2008",
          "2009",
          "2014",
          "2016"
         ],
         "xaxis": "x3",
         "y": [
          4.699999999999996,
          29.29,
          4.739999999999998,
          12.530000000000001,
          1.6799999999999997,
          -0.7100000000000009
         ],
         "yaxis": "y6"
        },
        {
         "hovertemplate": "<b>LOWESS trendline</b><br><br>class=8<br>skill_name=Problem Solving, Advanced Problems<br>skill_name=Problem Solving, Advanced Problems<br>year=%{x}<br>skill_delta=%{y} <b>(trend)</b><extra></extra>",
         "legendgroup": "skill_name=Problem Solving, Advanced Problems",
         "marker": {
          "color": "#00cc96",
          "symbol": "circle"
         },
         "mode": "lines",
         "name": "skill_name=Problem Solving, Advanced Problems",
         "showlegend": false,
         "type": "scatter",
         "uid": "fd7b1a51-3cdc-4bc3-81a3-d1141086b9e5",
         "x": [
          2007,
          2008,
          2009,
          2014,
          2016,
          2018
         ],
         "xaxis": "x3",
         "y": [
          28.69480187531548,
          20.30200348986432,
          11.947303737107532,
          1.1538335428653588,
          1.8697468555312433,
          3.52193797965571
         ],
         "yaxis": "y6"
        },
        {
         "hovertemplate": "class=8<br>skill_name=Word and Application Problems<br>skill_name=Word and Application Problems<br>year=%{x}<br>skill_delta=%{y}<br>studentCount=%{marker.size}<extra></extra>",
         "legendgroup": "skill_name=Word and Application Problems",
         "marker": {
          "color": "#ab63fa",
          "size": [
           103,
           13,
           52,
           46,
           77,
           76
          ],
          "sizemode": "area",
          "sizeref": 1.14,
          "symbol": "circle"
         },
         "mode": "markers",
         "name": "skill_name=Word and Application Problems",
         "showlegend": false,
         "type": "scatter",
         "uid": "bb0ccda8-f722-4cc9-820e-7a0eef72f0be",
         "x": [
          "2018",
          "2007",
          "2008",
          "2009",
          "2014",
          "2016"
         ],
         "xaxis": "x4",
         "y": [
          4.909999999999997,
          16.61,
          12.310000000000002,
          11.570000000000007,
          6.659999999999997,
          -7.020000000000003
         ],
         "yaxis": "y6"
        },
        {
         "hovertemplate": "<b>LOWESS trendline</b><br><br>class=8<br>skill_name=Word and Application Problems<br>skill_name=Word and Application Problems<br>year=%{x}<br>skill_delta=%{y} <b>(trend)</b><extra></extra>",
         "legendgroup": "skill_name=Word and Application Problems",
         "marker": {
          "color": "#ab63fa",
          "symbol": "circle"
         },
         "mode": "lines",
         "name": "skill_name=Word and Application Problems",
         "showlegend": false,
         "type": "scatter",
         "uid": "00b958af-362f-434f-a623-96defe9d5ea3",
         "x": [
          2007,
          2008,
          2009,
          2014,
          2016,
          2018
         ],
         "xaxis": "x4",
         "y": [
          16.148464204768644,
          13.617148744558335,
          11.123825583202219,
          6.660000000000139,
          5.784999999999997,
          4.9100000000000605
         ],
         "yaxis": "y6"
        },
        {
         "hovertemplate": "class=9<br>skill_name=Intermediate Concepts, Geometry and Algebra<br>skill_name=Intermediate Concepts, Geometry and Algebra<br>year=%{x}<br>skill_delta=%{y}<br>studentCount=%{marker.size}<extra></extra>",
         "legendgroup": "skill_name=Intermediate Concepts, Geometry and Algebra",
         "marker": {
          "color": "#636efa",
          "size": [
           99,
           10,
           40,
           51,
           73,
           73
          ],
          "sizemode": "area",
          "sizeref": 1.14,
          "symbol": "circle"
         },
         "mode": "markers",
         "name": "skill_name=Intermediate Concepts, Geometry and Algebra",
         "showlegend": false,
         "type": "scatter",
         "uid": "dd75ba6e-c05d-449b-b12d-f80267b68a41",
         "x": [
          "2018",
          "2007",
          "2008",
          "2009",
          "2014",
          "2016"
         ],
         "xaxis": "x",
         "y": [
          4.280000000000001,
          14.160000000000004,
          1.5600000000000023,
          10.369999999999997,
          5.989999999999995,
          7.099999999999994
         ],
         "yaxis": "y7"
        },
        {
         "hovertemplate": "<b>LOWESS trendline</b><br><br>class=9<br>skill_name=Intermediate Concepts, Geometry and Algebra<br>skill_name=Intermediate Concepts, Geometry and Algebra<br>year=%{x}<br>skill_delta=%{y} <b>(trend)</b><extra></extra>",
         "legendgroup": "skill_name=Intermediate Concepts, Geometry and Algebra",
         "marker": {
          "color": "#636efa",
          "symbol": "circle"
         },
         "mode": "lines",
         "name": "skill_name=Intermediate Concepts, Geometry and Algebra",
         "showlegend": false,
         "type": "scatter",
         "uid": "fef64e7b-235f-4375-bc53-affca12e8be3",
         "x": [
          2007,
          2008,
          2009,
          2014,
          2016,
          2018
         ],
         "xaxis": "x",
         "y": [
          14.159999999999322,
          12.264999999999795,
          10.369999999999726,
          6.252909755652786,
          5.792946989499478,
          4.868211450272054
         ],
         "yaxis": "y7"
        },
        {
         "hovertemplate": "class=9<br>skill_name=Number sense, Computations and Basic Arithmetic<br>skill_name=Number sense, Computations and Basic Arithmetic<br>year=%{x}<br>skill_delta=%{y}<br>studentCount=%{marker.size}<extra></extra>",
         "legendgroup": "skill_name=Number sense, Computations and Basic Arithmetic",
         "marker": {
          "color": "#EF553B",
          "size": [
           99,
           10,
           40,
           51,
           73,
           73
          ],
          "sizemode": "area",
          "sizeref": 1.14,
          "symbol": "circle"
         },
         "mode": "markers",
         "name": "skill_name=Number sense, Computations and Basic Arithmetic",
         "showlegend": false,
         "type": "scatter",
         "uid": "00d76121-b4de-43ef-ba11-62f8307fced2",
         "x": [
          "2018",
          "2007",
          "2008",
          "2009",
          "2014",
          "2016"
         ],
         "xaxis": "x2",
         "y": [
          2.200000000000003,
          15.520000000000003,
          10.060000000000002,
          1.1400000000000006,
          4.310000000000002,
          10.300000000000004
         ],
         "yaxis": "y7"
        },
        {
         "hovertemplate": "<b>LOWESS trendline</b><br><br>class=9<br>skill_name=Number sense, Computations and Basic Arithmetic<br>skill_name=Number sense, Computations and Basic Arithmetic<br>year=%{x}<br>skill_delta=%{y} <b>(trend)</b><extra></extra>",
         "legendgroup": "skill_name=Number sense, Computations and Basic Arithmetic",
         "marker": {
          "color": "#EF553B",
          "symbol": "circle"
         },
         "mode": "lines",
         "name": "skill_name=Number sense, Computations and Basic Arithmetic",
         "showlegend": false,
         "type": "scatter",
         "uid": "1f384fc9-644c-4d3d-8ff6-3f2d6b62dff0",
         "x": [
          2007,
          2008,
          2009,
          2014,
          2016,
          2018
         ],
         "xaxis": "x2",
         "y": [
          15.991272847823355,
          8.812934078414001,
          1.5952939124907015,
          4.310000000000108,
          3.2550000000000026,
          2.200000000000029
         ],
         "yaxis": "y7"
        },
        {
         "hovertemplate": "class=9<br>skill_name=Problem Solving, Advanced Problems<br>skill_name=Problem Solving, Advanced Problems<br>year=%{x}<br>skill_delta=%{y}<br>studentCount=%{marker.size}<extra></extra>",
         "legendgroup": "skill_name=Problem Solving, Advanced Problems",
         "marker": {
          "color": "#00cc96",
          "size": [
           99,
           10,
           40,
           51,
           73,
           73
          ],
          "sizemode": "area",
          "sizeref": 1.14,
          "symbol": "circle"
         },
         "mode": "markers",
         "name": "skill_name=Problem Solving, Advanced Problems",
         "showlegend": false,
         "type": "scatter",
         "uid": "4ac32c44-0fb7-432d-8eeb-8304640bbd01",
         "x": [
          "2018",
          "2007",
          "2008",
          "2009",
          "2014",
          "2016"
         ],
         "xaxis": "x3",
         "y": [
          12.560000000000002,
          7.460000000000001,
          10.810000000000002,
          10.940000000000005,
          -3.490000000000002,
          -0.8000000000000007
         ],
         "yaxis": "y7"
        },
        {
         "hovertemplate": "<b>LOWESS trendline</b><br><br>class=9<br>skill_name=Problem Solving, Advanced Problems<br>skill_name=Problem Solving, Advanced Problems<br>year=%{x}<br>skill_delta=%{y} <b>(trend)</b><extra></extra>",
         "legendgroup": "skill_name=Problem Solving, Advanced Problems",
         "marker": {
          "color": "#00cc96",
          "symbol": "circle"
         },
         "mode": "lines",
         "name": "skill_name=Problem Solving, Advanced Problems",
         "showlegend": false,
         "type": "scatter",
         "uid": "7a04bd2e-ed47-4cc7-849f-59b909067a61",
         "x": [
          2007,
          2008,
          2009,
          2014,
          2016,
          2018
         ],
         "xaxis": "x3",
         "y": [
          7.90106241881639,
          9.651988704817914,
          11.366077153113034,
          -3.4900000000002898,
          4.535,
          12.560000000000205
         ],
         "yaxis": "y7"
        },
        {
         "hovertemplate": "class=9<br>skill_name=Word and Application Problems<br>skill_name=Word and Application Problems<br>year=%{x}<br>skill_delta=%{y}<br>studentCount=%{marker.size}<extra></extra>",
         "legendgroup": "skill_name=Word and Application Problems",
         "marker": {
          "color": "#ab63fa",
          "size": [
           99,
           10,
           40,
           51,
           73,
           73
          ],
          "sizemode": "area",
          "sizeref": 1.14,
          "symbol": "circle"
         },
         "mode": "markers",
         "name": "skill_name=Word and Application Problems",
         "showlegend": false,
         "type": "scatter",
         "uid": "58734c3e-4ff0-4065-a453-aeb9dd20f7dd",
         "x": [
          "2018",
          "2007",
          "2008",
          "2009",
          "2014",
          "2016"
         ],
         "xaxis": "x4",
         "y": [
          7.100000000000005,
          15.68,
          9.719999999999999,
          5.760000000000005,
          3.549999999999997,
          3.8699999999999974
         ],
         "yaxis": "y7"
        },
        {
         "hovertemplate": "<b>LOWESS trendline</b><br><br>class=9<br>skill_name=Word and Application Problems<br>skill_name=Word and Application Problems<br>year=%{x}<br>skill_delta=%{y} <b>(trend)</b><extra></extra>",
         "legendgroup": "skill_name=Word and Application Problems",
         "marker": {
          "color": "#ab63fa",
          "symbol": "circle"
         },
         "mode": "lines",
         "name": "skill_name=Word and Application Problems",
         "showlegend": false,
         "type": "scatter",
         "uid": "083d7d80-39e9-4e11-a931-8153fa4f8f7d",
         "x": [
          2007,
          2008,
          2009,
          2014,
          2016,
          2018
         ],
         "xaxis": "x4",
         "y": [
          15.41189779123567,
          10.445215494678639,
          5.500804309553455,
          3.42330029217851,
          5.075557927998898,
          6.871555761466248
         ],
         "yaxis": "y7"
        },
        {
         "hovertemplate": "class=10<br>skill_name=Intermediate Concepts, Geometry and Algebra<br>skill_name=Intermediate Concepts, Geometry and Algebra<br>year=%{x}<br>skill_delta=%{y}<br>studentCount=%{marker.size}<extra></extra>",
         "legendgroup": "skill_name=Intermediate Concepts, Geometry and Algebra",
         "marker": {
          "color": "#636efa",
          "size": [
           73,
           67
          ],
          "sizemode": "area",
          "sizeref": 1.14,
          "symbol": "circle"
         },
         "mode": "markers",
         "name": "skill_name=Intermediate Concepts, Geometry and Algebra",
         "showlegend": false,
         "type": "scatter",
         "uid": "0aa0795b-d810-40c9-9b09-45ad37a0932c",
         "x": [
          "2014",
          "2016"
         ],
         "xaxis": "x",
         "y": [
          -1.5399999999999991,
          9.240000000000002
         ],
         "yaxis": "y8"
        },
        {
         "hovertemplate": "<b>LOWESS trendline</b><br><br>class=10<br>skill_name=Intermediate Concepts, Geometry and Algebra<br>skill_name=Intermediate Concepts, Geometry and Algebra<br>year=%{x}<br>skill_delta=%{y} <b>(trend)</b><extra></extra>",
         "legendgroup": "skill_name=Intermediate Concepts, Geometry and Algebra",
         "marker": {
          "color": "#636efa",
          "symbol": "circle"
         },
         "mode": "lines",
         "name": "skill_name=Intermediate Concepts, Geometry and Algebra",
         "showlegend": false,
         "type": "scatter",
         "uid": "4ffa7018-e2f3-4ec3-b5eb-656c1f506fcc",
         "x": [
          2014,
          2016
         ],
         "xaxis": "x",
         "y": [
          -1.5399999999999991,
          9.240000000000002
         ],
         "yaxis": "y8"
        },
        {
         "hovertemplate": "class=10<br>skill_name=Number sense, Computations and Basic Arithmetic<br>skill_name=Number sense, Computations and Basic Arithmetic<br>year=%{x}<br>skill_delta=%{y}<br>studentCount=%{marker.size}<extra></extra>",
         "legendgroup": "skill_name=Number sense, Computations and Basic Arithmetic",
         "marker": {
          "color": "#EF553B",
          "size": [
           73,
           67
          ],
          "sizemode": "area",
          "sizeref": 1.14,
          "symbol": "circle"
         },
         "mode": "markers",
         "name": "skill_name=Number sense, Computations and Basic Arithmetic",
         "showlegend": false,
         "type": "scatter",
         "uid": "39e9bd77-009e-4433-acbd-b41f69f9987c",
         "x": [
          "2014",
          "2016"
         ],
         "xaxis": "x2",
         "y": [
          0.10999999999999943,
          0.10000000000000142
         ],
         "yaxis": "y8"
        },
        {
         "hovertemplate": "<b>LOWESS trendline</b><br><br>class=10<br>skill_name=Number sense, Computations and Basic Arithmetic<br>skill_name=Number sense, Computations and Basic Arithmetic<br>year=%{x}<br>skill_delta=%{y} <b>(trend)</b><extra></extra>",
         "legendgroup": "skill_name=Number sense, Computations and Basic Arithmetic",
         "marker": {
          "color": "#EF553B",
          "symbol": "circle"
         },
         "mode": "lines",
         "name": "skill_name=Number sense, Computations and Basic Arithmetic",
         "showlegend": false,
         "type": "scatter",
         "uid": "66f4b4b5-6cb1-499d-8d9a-69e914152f0c",
         "x": [
          2014,
          2016
         ],
         "xaxis": "x2",
         "y": [
          0.10999999999999943,
          0.10000000000000142
         ],
         "yaxis": "y8"
        },
        {
         "hovertemplate": "class=10<br>skill_name=Problem Solving, Advanced Problems<br>skill_name=Problem Solving, Advanced Problems<br>year=%{x}<br>skill_delta=%{y}<br>studentCount=%{marker.size}<extra></extra>",
         "legendgroup": "skill_name=Problem Solving, Advanced Problems",
         "marker": {
          "color": "#00cc96",
          "size": [
           73,
           67
          ],
          "sizemode": "area",
          "sizeref": 1.14,
          "symbol": "circle"
         },
         "mode": "markers",
         "name": "skill_name=Problem Solving, Advanced Problems",
         "showlegend": false,
         "type": "scatter",
         "uid": "ce24b147-5138-44cf-a0c1-ddc43e81b041",
         "x": [
          "2014",
          "2016"
         ],
         "xaxis": "x3",
         "y": [
          -6.18,
          -1.9200000000000017
         ],
         "yaxis": "y8"
        },
        {
         "hovertemplate": "<b>LOWESS trendline</b><br><br>class=10<br>skill_name=Problem Solving, Advanced Problems<br>skill_name=Problem Solving, Advanced Problems<br>year=%{x}<br>skill_delta=%{y} <b>(trend)</b><extra></extra>",
         "legendgroup": "skill_name=Problem Solving, Advanced Problems",
         "marker": {
          "color": "#00cc96",
          "symbol": "circle"
         },
         "mode": "lines",
         "name": "skill_name=Problem Solving, Advanced Problems",
         "showlegend": false,
         "type": "scatter",
         "uid": "407ca977-cfd1-4dc8-9792-4beaec481349",
         "x": [
          2014,
          2016
         ],
         "xaxis": "x3",
         "y": [
          -6.18,
          -1.9200000000000017
         ],
         "yaxis": "y8"
        },
        {
         "hovertemplate": "class=10<br>skill_name=Word and Application Problems<br>skill_name=Word and Application Problems<br>year=%{x}<br>skill_delta=%{y}<br>studentCount=%{marker.size}<extra></extra>",
         "legendgroup": "skill_name=Word and Application Problems",
         "marker": {
          "color": "#ab63fa",
          "size": [
           73,
           67
          ],
          "sizemode": "area",
          "sizeref": 1.14,
          "symbol": "circle"
         },
         "mode": "markers",
         "name": "skill_name=Word and Application Problems",
         "showlegend": false,
         "type": "scatter",
         "uid": "c5791cbb-c0bb-4e14-a638-6c64b4b866e3",
         "x": [
          "2014",
          "2016"
         ],
         "xaxis": "x4",
         "y": [
          4.669999999999995,
          7.229999999999997
         ],
         "yaxis": "y8"
        },
        {
         "hovertemplate": "<b>LOWESS trendline</b><br><br>class=10<br>skill_name=Word and Application Problems<br>skill_name=Word and Application Problems<br>year=%{x}<br>skill_delta=%{y} <b>(trend)</b><extra></extra>",
         "legendgroup": "skill_name=Word and Application Problems",
         "marker": {
          "color": "#ab63fa",
          "symbol": "circle"
         },
         "mode": "lines",
         "name": "skill_name=Word and Application Problems",
         "showlegend": false,
         "type": "scatter",
         "uid": "ae98201a-9ed1-40e9-aa94-8d57893213d9",
         "x": [
          2014,
          2016
         ],
         "xaxis": "x4",
         "y": [
          4.669999999999995,
          7.229999999999997
         ],
         "yaxis": "y8"
        }
       ],
       "layout": {
        "annotations": [
         {
          "showarrow": false,
          "text": "skill_name=Intermediate Concepts, Geometry and Algebra",
          "textangle": 0,
          "x": 0.1153846153846154,
          "xanchor": "center",
          "xref": "paper",
          "y": 1.02,
          "yanchor": "middle",
          "yref": "paper"
         },
         {
          "showarrow": false,
          "text": "skill_name=Number sense, Computations and Basic Arithmetic",
          "textangle": 0,
          "x": 0.3717948717948718,
          "xanchor": "center",
          "xref": "paper",
          "y": 1.02,
          "yanchor": "middle",
          "yref": "paper"
         },
         {
          "showarrow": false,
          "text": "skill_name=Problem Solving, Advanced Problems",
          "textangle": 0,
          "x": 0.6282051282051283,
          "xanchor": "center",
          "xref": "paper",
          "y": 1.02,
          "yanchor": "middle",
          "yref": "paper"
         },
         {
          "showarrow": false,
          "text": "skill_name=Word and Application Problems",
          "textangle": 0,
          "x": 0.8846153846153848,
          "xanchor": "center",
          "xref": "paper",
          "y": 1.02,
          "yanchor": "middle",
          "yref": "paper"
         },
         {
          "showarrow": false,
          "text": "class=3",
          "textangle": 90,
          "x": 1.01,
          "xanchor": "center",
          "xref": "paper",
          "y": 0.9430379746835442,
          "yanchor": "middle",
          "yref": "paper"
         },
         {
          "showarrow": false,
          "text": "class=4",
          "textangle": 90,
          "x": 1.01,
          "xanchor": "center",
          "xref": "paper",
          "y": 0.8164556962025316,
          "yanchor": "middle",
          "yref": "paper"
         },
         {
          "showarrow": false,
          "text": "class=5",
          "textangle": 90,
          "x": 1.01,
          "xanchor": "center",
          "xref": "paper",
          "y": 0.6898734177215189,
          "yanchor": "middle",
          "yref": "paper"
         },
         {
          "showarrow": false,
          "text": "class=6",
          "textangle": 90,
          "x": 1.01,
          "xanchor": "center",
          "xref": "paper",
          "y": 0.5632911392405062,
          "yanchor": "middle",
          "yref": "paper"
         },
         {
          "showarrow": false,
          "text": "class=7",
          "textangle": 90,
          "x": 1.01,
          "xanchor": "center",
          "xref": "paper",
          "y": 0.4367088607594936,
          "yanchor": "middle",
          "yref": "paper"
         },
         {
          "showarrow": false,
          "text": "class=8",
          "textangle": 90,
          "x": 1.01,
          "xanchor": "center",
          "xref": "paper",
          "y": 0.310126582278481,
          "yanchor": "middle",
          "yref": "paper"
         },
         {
          "showarrow": false,
          "text": "class=9",
          "textangle": 90,
          "x": 1.01,
          "xanchor": "center",
          "xref": "paper",
          "y": 0.18354430379746833,
          "yanchor": "middle",
          "yref": "paper"
         },
         {
          "showarrow": false,
          "text": "class=10",
          "textangle": 90,
          "x": 1.01,
          "xanchor": "center",
          "xref": "paper",
          "y": 0.05696202531645569,
          "yanchor": "middle",
          "yref": "paper"
         }
        ],
        "grid": {
         "xaxes": [
          "x",
          "x2",
          "x3",
          "x4"
         ],
         "xgap": 0.1,
         "xside": "bottom",
         "yaxes": [
          "y",
          "y2",
          "y3",
          "y4",
          "y5",
          "y6",
          "y7",
          "y8"
         ],
         "ygap": 0.1,
         "yside": "left"
        },
        "height": 1500,
        "legend": {
         "tracegroupgap": 0
        },
        "template": {
         "data": {
          "bar": [
           {
            "marker": {
             "line": {
              "color": "#E5ECF6",
              "width": 0.5
             }
            },
            "type": "bar"
           }
          ],
          "barpolar": [
           {
            "marker": {
             "line": {
              "color": "#E5ECF6",
              "width": 0.5
             }
            },
            "type": "barpolar"
           }
          ],
          "carpet": [
           {
            "aaxis": {
             "endlinecolor": "#2a3f5f",
             "gridcolor": "white",
             "linecolor": "white",
             "minorgridcolor": "white",
             "startlinecolor": "#2a3f5f"
            },
            "baxis": {
             "endlinecolor": "#2a3f5f",
             "gridcolor": "white",
             "linecolor": "white",
             "minorgridcolor": "white",
             "startlinecolor": "#2a3f5f"
            },
            "type": "carpet"
           }
          ],
          "choropleth": [
           {
            "colorbar": {
             "outlinewidth": 0,
             "ticks": ""
            },
            "type": "choropleth"
           }
          ],
          "contour": [
           {
            "autocolorscale": true,
            "colorbar": {
             "outlinewidth": 0,
             "ticks": ""
            },
            "type": "contour"
           }
          ],
          "contourcarpet": [
           {
            "colorbar": {
             "outlinewidth": 0,
             "ticks": ""
            },
            "type": "contourcarpet"
           }
          ],
          "heatmap": [
           {
            "autocolorscale": true,
            "colorbar": {
             "outlinewidth": 0,
             "ticks": ""
            },
            "type": "heatmap"
           }
          ],
          "heatmapgl": [
           {
            "colorbar": {
             "outlinewidth": 0,
             "ticks": ""
            },
            "type": "heatmapgl"
           }
          ],
          "histogram": [
           {
            "marker": {
             "colorbar": {
              "outlinewidth": 0,
              "ticks": ""
             }
            },
            "type": "histogram"
           }
          ],
          "histogram2d": [
           {
            "autocolorscale": true,
            "colorbar": {
             "outlinewidth": 0,
             "ticks": ""
            },
            "type": "histogram2d"
           }
          ],
          "histogram2dcontour": [
           {
            "autocolorscale": true,
            "colorbar": {
             "outlinewidth": 0,
             "ticks": ""
            },
            "type": "histogram2dcontour"
           }
          ],
          "mesh3d": [
           {
            "colorbar": {
             "outlinewidth": 0,
             "ticks": ""
            },
            "type": "mesh3d"
           }
          ],
          "parcoords": [
           {
            "line": {
             "colorbar": {
              "outlinewidth": 0,
              "ticks": ""
             }
            },
            "type": "parcoords"
           }
          ],
          "scatter": [
           {
            "marker": {
             "colorbar": {
              "outlinewidth": 0,
              "ticks": ""
             }
            },
            "type": "scatter"
           }
          ],
          "scatter3d": [
           {
            "marker": {
             "colorbar": {
              "outlinewidth": 0,
              "ticks": ""
             }
            },
            "type": "scatter3d"
           }
          ],
          "scattercarpet": [
           {
            "marker": {
             "colorbar": {
              "outlinewidth": 0,
              "ticks": ""
             }
            },
            "type": "scattercarpet"
           }
          ],
          "scattergeo": [
           {
            "marker": {
             "colorbar": {
              "outlinewidth": 0,
              "ticks": ""
             }
            },
            "type": "scattergeo"
           }
          ],
          "scattergl": [
           {
            "marker": {
             "colorbar": {
              "outlinewidth": 0,
              "ticks": ""
             }
            },
            "type": "scattergl"
           }
          ],
          "scattermapbox": [
           {
            "marker": {
             "colorbar": {
              "outlinewidth": 0,
              "ticks": ""
             }
            },
            "type": "scattermapbox"
           }
          ],
          "scatterpolar": [
           {
            "marker": {
             "colorbar": {
              "outlinewidth": 0,
              "ticks": ""
             }
            },
            "type": "scatterpolar"
           }
          ],
          "scatterpolargl": [
           {
            "marker": {
             "colorbar": {
              "outlinewidth": 0,
              "ticks": ""
             }
            },
            "type": "scatterpolargl"
           }
          ],
          "scatterternary": [
           {
            "marker": {
             "colorbar": {
              "outlinewidth": 0,
              "ticks": ""
             }
            },
            "type": "scatterternary"
           }
          ],
          "surface": [
           {
            "colorbar": {
             "outlinewidth": 0,
             "ticks": ""
            },
            "type": "surface"
           }
          ],
          "table": [
           {
            "cells": {
             "fill": {
              "color": "#EBF0F8"
             },
             "line": {
              "color": "white"
             }
            },
            "header": {
             "fill": {
              "color": "#C8D4E3"
             },
             "line": {
              "color": "white"
             }
            },
            "type": "table"
           }
          ]
         },
         "layout": {
          "annotationdefaults": {
           "arrowcolor": "#506784",
           "arrowhead": 0,
           "arrowwidth": 1
          },
          "colorscale": {
           "diverging": [
            [
             0,
             "#8e0152"
            ],
            [
             0.1,
             "#c51b7d"
            ],
            [
             0.2,
             "#de77ae"
            ],
            [
             0.3,
             "#f1b6da"
            ],
            [
             0.4,
             "#fde0ef"
            ],
            [
             0.5,
             "#f7f7f7"
            ],
            [
             0.6,
             "#e6f5d0"
            ],
            [
             0.7,
             "#b8e186"
            ],
            [
             0.8,
             "#7fbc41"
            ],
            [
             0.9,
             "#4d9221"
            ],
            [
             1,
             "#276419"
            ]
           ],
           "sequential": [
            [
             0,
             "#0508b8"
            ],
            [
             0.0893854748603352,
             "#1910d8"
            ],
            [
             0.1787709497206704,
             "#3c19f0"
            ],
            [
             0.2681564245810056,
             "#6b1cfb"
            ],
            [
             0.3575418994413408,
             "#981cfd"
            ],
            [
             0.44692737430167595,
             "#bf1cfd"
            ],
            [
             0.5363128491620112,
             "#dd2bfd"
            ],
            [
             0.6256983240223464,
             "#f246fe"
            ],
            [
             0.7150837988826816,
             "#fc67fd"
            ],
            [
             0.8044692737430168,
             "#fe88fc"
            ],
            [
             0.8938547486033519,
             "#fea5fd"
            ],
            [
             0.9832402234636871,
             "#febefe"
            ],
            [
             1,
             "#fec3fe"
            ]
           ],
           "sequentialminus": [
            [
             0,
             "#0508b8"
            ],
            [
             0.0893854748603352,
             "#1910d8"
            ],
            [
             0.1787709497206704,
             "#3c19f0"
            ],
            [
             0.2681564245810056,
             "#6b1cfb"
            ],
            [
             0.3575418994413408,
             "#981cfd"
            ],
            [
             0.44692737430167595,
             "#bf1cfd"
            ],
            [
             0.5363128491620112,
             "#dd2bfd"
            ],
            [
             0.6256983240223464,
             "#f246fe"
            ],
            [
             0.7150837988826816,
             "#fc67fd"
            ],
            [
             0.8044692737430168,
             "#fe88fc"
            ],
            [
             0.8938547486033519,
             "#fea5fd"
            ],
            [
             0.9832402234636871,
             "#febefe"
            ],
            [
             1,
             "#fec3fe"
            ]
           ]
          },
          "colorway": [
           "#636efa",
           "#EF553B",
           "#00cc96",
           "#ab63fa",
           "#19d3f3",
           "#e763fa",
           "#FECB52",
           "#FFA15A",
           "#FF6692",
           "#B6E880"
          ],
          "font": {
           "color": "#2a3f5f"
          },
          "geo": {
           "bgcolor": "white",
           "lakecolor": "white",
           "landcolor": "#E5ECF6",
           "showlakes": true,
           "showland": true,
           "subunitcolor": "white"
          },
          "hoverlabel": {
           "align": "left"
          },
          "hovermode": "closest",
          "legend": {
           "itemsizing": "constant"
          },
          "mapbox": {
           "style": "light"
          },
          "paper_bgcolor": "white",
          "plot_bgcolor": "#E5ECF6",
          "polar": {
           "angularaxis": {
            "gridcolor": "white",
            "linecolor": "white",
            "ticks": ""
           },
           "bgcolor": "#E5ECF6",
           "radialaxis": {
            "gridcolor": "white",
            "linecolor": "white",
            "ticks": ""
           }
          },
          "scene": {
           "xaxis": {
            "backgroundcolor": "#E5ECF6",
            "gridcolor": "white",
            "gridwidth": 2,
            "linecolor": "white",
            "showbackground": true,
            "ticks": "",
            "zerolinecolor": "white"
           },
           "yaxis": {
            "backgroundcolor": "#E5ECF6",
            "gridcolor": "white",
            "gridwidth": 2,
            "linecolor": "white",
            "showbackground": true,
            "ticks": "",
            "zerolinecolor": "white"
           },
           "zaxis": {
            "backgroundcolor": "#E5ECF6",
            "gridcolor": "white",
            "gridwidth": 2,
            "linecolor": "white",
            "showbackground": true,
            "ticks": "",
            "zerolinecolor": "white"
           }
          },
          "shapedefaults": {
           "fillcolor": "#506784",
           "line": {
            "width": 0
           },
           "opacity": 0.4
          },
          "ternary": {
           "aaxis": {
            "gridcolor": "white",
            "linecolor": "white",
            "ticks": ""
           },
           "baxis": {
            "gridcolor": "white",
            "linecolor": "white",
            "ticks": ""
           },
           "bgcolor": "#E5ECF6",
           "caxis": {
            "gridcolor": "white",
            "linecolor": "white",
            "ticks": ""
           }
          },
          "title": {
           "x": 0.05
          },
          "xaxis": {
           "automargin": true,
           "gridcolor": "white",
           "linecolor": "white",
           "ticks": "",
           "zerolinecolor": "white",
           "zerolinewidth": 2
          },
          "yaxis": {
           "automargin": true,
           "gridcolor": "white",
           "linecolor": "white",
           "ticks": "",
           "zerolinecolor": "white",
           "zerolinewidth": 2
          }
         }
        },
        "title": {
         "text": "Core Skills in Maths (Sushila Birla Girls^ School-Kolkata-CBSE)"
        },
        "width": 2000,
        "xaxis": {
         "title": {
          "text": "year"
         }
        },
        "xaxis2": {
         "matches": "x",
         "title": {
          "text": "year"
         }
        },
        "xaxis3": {
         "matches": "x",
         "title": {
          "text": "year"
         }
        },
        "xaxis4": {
         "matches": "x",
         "title": {
          "text": "year"
         }
        },
        "yaxis": {
         "title": {
          "text": "skill_delta"
         }
        },
        "yaxis2": {
         "matches": "y",
         "title": {
          "text": "skill_delta"
         }
        },
        "yaxis3": {
         "matches": "y",
         "title": {
          "text": "skill_delta"
         }
        },
        "yaxis4": {
         "matches": "y",
         "title": {
          "text": "skill_delta"
         }
        },
        "yaxis5": {
         "matches": "y",
         "title": {
          "text": "skill_delta"
         }
        },
        "yaxis6": {
         "matches": "y",
         "title": {
          "text": "skill_delta"
         }
        },
        "yaxis7": {
         "matches": "y",
         "title": {
          "text": "skill_delta"
         }
        },
        "yaxis8": {
         "matches": "y",
         "title": {
          "text": "skill_delta"
         }
        }
       }
      },
      "text/html": [
       "<div>\n",
       "        \n",
       "        \n",
       "            <div id=\"15308bd1-d52a-4186-8c03-0cf0da76181d\" class=\"plotly-graph-div\"></div>\n",
       "            <script type=\"text/javascript\">\n",
       "                require([\"plotly\"], function(Plotly) {\n",
       "                    window.PLOTLYENV=window.PLOTLYENV || {};\n",
       "                    window.PLOTLYENV.BASE_URL='https://plot.ly';\n",
       "                    \n",
       "                if (document.getElementById(\"15308bd1-d52a-4186-8c03-0cf0da76181d\")) {\n",
       "                    Plotly.newPlot(\n",
       "                        '15308bd1-d52a-4186-8c03-0cf0da76181d',\n",
       "                        [{\"hovertemplate\": \"class=3<br>skill_name=Intermediate Concepts, Geometry and Algebra<br>skill_name=Intermediate Concepts, Geometry and Algebra<br>year=%{x}<br>skill_delta=%{y}<br>studentCount=%{marker.size}<extra></extra>\", \"legendgroup\": \"skill_name=Intermediate Concepts, Geometry and Algebra\", \"marker\": {\"color\": \"#636efa\", \"size\": [108, 19, 74, 75, 106, 109], \"sizemode\": \"area\", \"sizeref\": 1.14, \"symbol\": \"circle\"}, \"mode\": \"markers\", \"name\": \"skill_name=Intermediate Concepts, Geometry and Algebra\", \"showlegend\": true, \"type\": \"scatter\", \"uid\": \"b2ab864c-af26-4995-b6e8-978203629855\", \"x\": [\"2018\", \"2007\", \"2008\", \"2009\", \"2014\", \"2016\"], \"xaxis\": \"x\", \"y\": [-4.329999999999998, 5.339999999999996, -7.800000000000004, 2.219999999999999, 0.960000000000008, -1.8999999999999986], \"yaxis\": \"y\"}, {\"hovertemplate\": \"<b>LOWESS trendline</b><br><br>class=3<br>skill_name=Intermediate Concepts, Geometry and Algebra<br>skill_name=Intermediate Concepts, Geometry and Algebra<br>year=%{x}<br>skill_delta=%{y} <b>(trend)</b><extra></extra>\", \"legendgroup\": \"skill_name=Intermediate Concepts, Geometry and Algebra\", \"marker\": {\"color\": \"#636efa\", \"symbol\": \"circle\"}, \"mode\": \"lines\", \"name\": \"skill_name=Intermediate Concepts, Geometry and Algebra\", \"showlegend\": false, \"type\": \"scatter\", \"uid\": \"000167e0-d245-4e5f-8996-ed90775db5ea\", \"x\": [2007.0, 2008.0, 2009.0, 2014.0, 2016.0, 2018.0], \"xaxis\": \"x\", \"y\": [5.3400000000013055, 3.7799999999999976, 2.2200000000000197, 0.9368225752117603, -1.7390436691174327, -4.380371735894711], \"yaxis\": \"y\"}, {\"hovertemplate\": \"class=3<br>skill_name=Number sense, Computations and Basic Arithmetic<br>skill_name=Number sense, Computations and Basic Arithmetic<br>year=%{x}<br>skill_delta=%{y}<br>studentCount=%{marker.size}<extra></extra>\", \"legendgroup\": \"skill_name=Number sense, Computations and Basic Arithmetic\", \"marker\": {\"color\": \"#EF553B\", \"size\": [108, 19, 74, 75, 106, 109], \"sizemode\": \"area\", \"sizeref\": 1.14, \"symbol\": \"circle\"}, \"mode\": \"markers\", \"name\": \"skill_name=Number sense, Computations and Basic Arithmetic\", \"showlegend\": true, \"type\": \"scatter\", \"uid\": \"0be01920-377d-4ca1-9f2c-734f7ea502df\", \"x\": [\"2018\", \"2007\", \"2008\", \"2009\", \"2014\", \"2016\"], \"xaxis\": \"x2\", \"y\": [9.370000000000005, 13.769999999999996, -3.1499999999999986, 1.4899999999999949, 5.929999999999993, 13.380000000000003], \"yaxis\": \"y\"}, {\"hovertemplate\": \"<b>LOWESS trendline</b><br><br>class=3<br>skill_name=Number sense, Computations and Basic Arithmetic<br>skill_name=Number sense, Computations and Basic Arithmetic<br>year=%{x}<br>skill_delta=%{y} <b>(trend)</b><extra></extra>\", \"legendgroup\": \"skill_name=Number sense, Computations and Basic Arithmetic\", \"marker\": {\"color\": \"#EF553B\", \"symbol\": \"circle\"}, \"mode\": \"lines\", \"name\": \"skill_name=Number sense, Computations and Basic Arithmetic\", \"showlegend\": false, \"type\": \"scatter\", \"uid\": \"a25a8078-693e-4e70-82db-448188124b5a\", \"x\": [2007.0, 2008.0, 2009.0, 2014.0, 2016.0, 2018.0], \"xaxis\": \"x2\", \"y\": [11.203713425144903, 5.0013952309226655, -0.9941116970937516, 6.6856344253627356, 9.527918709418099, 11.053013264472746], \"yaxis\": \"y\"}, {\"hovertemplate\": \"class=3<br>skill_name=Problem Solving, Advanced Problems<br>skill_name=Problem Solving, Advanced Problems<br>year=%{x}<br>skill_delta=%{y}<br>studentCount=%{marker.size}<extra></extra>\", \"legendgroup\": \"skill_name=Problem Solving, Advanced Problems\", \"marker\": {\"color\": \"#00cc96\", \"size\": [108, 19, 74, 75, 106, 109], \"sizemode\": \"area\", \"sizeref\": 1.14, \"symbol\": \"circle\"}, \"mode\": \"markers\", \"name\": \"skill_name=Problem Solving, Advanced Problems\", \"showlegend\": true, \"type\": \"scatter\", \"uid\": \"11cdab05-5589-4fed-ab43-1a8d1f1d504d\", \"x\": [\"2018\", \"2007\", \"2008\", \"2009\", \"2014\", \"2016\"], \"xaxis\": \"x3\", \"y\": [7.640000000000008, -2.030000000000001, 2.210000000000001, 5.420000000000002, -4.780000000000001, 11.719999999999999], \"yaxis\": \"y\"}, {\"hovertemplate\": \"<b>LOWESS trendline</b><br><br>class=3<br>skill_name=Problem Solving, Advanced Problems<br>skill_name=Problem Solving, Advanced Problems<br>year=%{x}<br>skill_delta=%{y} <b>(trend)</b><extra></extra>\", \"legendgroup\": \"skill_name=Problem Solving, Advanced Problems\", \"marker\": {\"color\": \"#00cc96\", \"symbol\": \"circle\"}, \"mode\": \"lines\", \"name\": \"skill_name=Problem Solving, Advanced Problems\", \"showlegend\": false, \"type\": \"scatter\", \"uid\": \"276d1bf5-6c74-4a34-8803-d081227a4a23\", \"x\": [2007.0, 2008.0, 2009.0, 2014.0, 2016.0, 2018.0], \"xaxis\": \"x3\", \"y\": [-1.8954932156017525, 1.832807191115834, 5.550014722569366, -4.7800000000002605, 1.4300000000000033, 7.640000000000136], \"yaxis\": \"y\"}, {\"hovertemplate\": \"class=3<br>skill_name=Word and Application Problems<br>skill_name=Word and Application Problems<br>year=%{x}<br>skill_delta=%{y}<br>studentCount=%{marker.size}<extra></extra>\", \"legendgroup\": \"skill_name=Word and Application Problems\", \"marker\": {\"color\": \"#ab63fa\", \"size\": [108, 19, 74, 75, 106, 109], \"sizemode\": \"area\", \"sizeref\": 1.14, \"symbol\": \"circle\"}, \"mode\": \"markers\", \"name\": \"skill_name=Word and Application Problems\", \"showlegend\": true, \"type\": \"scatter\", \"uid\": \"8e9a1bcd-5ca6-4efa-9927-6b449b449c4f\", \"x\": [\"2018\", \"2007\", \"2008\", \"2009\", \"2014\", \"2016\"], \"xaxis\": \"x4\", \"y\": [7.789999999999999, -3.1000000000000014, -3.1099999999999994, 2.979999999999997, 1.2800000000000011, 7.550000000000004], \"yaxis\": \"y\"}, {\"hovertemplate\": \"<b>LOWESS trendline</b><br><br>class=3<br>skill_name=Word and Application Problems<br>skill_name=Word and Application Problems<br>year=%{x}<br>skill_delta=%{y} <b>(trend)</b><extra></extra>\", \"legendgroup\": \"skill_name=Word and Application Problems\", \"marker\": {\"color\": \"#ab63fa\", \"symbol\": \"circle\"}, \"mode\": \"lines\", \"name\": \"skill_name=Word and Application Problems\", \"showlegend\": false, \"type\": \"scatter\", \"uid\": \"25431f95-2e6b-4a36-97b3-464656f61050\", \"x\": [2007.0, 2008.0, 2009.0, 2014.0, 2016.0, 2018.0], \"xaxis\": \"x4\", \"y\": [-3.8260829363009687, -0.8037147073927626, 2.2771669131591654, 1.6194765815114636, 5.305472941766142, 8.491571811468566], \"yaxis\": \"y\"}, {\"hovertemplate\": \"class=4<br>skill_name=Intermediate Concepts, Geometry and Algebra<br>skill_name=Intermediate Concepts, Geometry and Algebra<br>year=%{x}<br>skill_delta=%{y}<br>studentCount=%{marker.size}<extra></extra>\", \"legendgroup\": \"skill_name=Intermediate Concepts, Geometry and Algebra\", \"marker\": {\"color\": \"#636efa\", \"size\": [113, 14, 72, 75, 104, 111], \"sizemode\": \"area\", \"sizeref\": 1.14, \"symbol\": \"circle\"}, \"mode\": \"markers\", \"name\": \"skill_name=Intermediate Concepts, Geometry and Algebra\", \"showlegend\": false, \"type\": \"scatter\", \"uid\": \"75470b74-50fe-46d2-ac40-cfab411e5b84\", \"x\": [\"2018\", \"2007\", \"2008\", \"2009\", \"2014\", \"2016\"], \"xaxis\": \"x\", \"y\": [7.410000000000004, 0.11999999999999744, -0.22999999999999687, 4.960000000000001, 1.3600000000000065, -5.770000000000003], \"yaxis\": \"y2\"}, {\"hovertemplate\": \"<b>LOWESS trendline</b><br><br>class=4<br>skill_name=Intermediate Concepts, Geometry and Algebra<br>skill_name=Intermediate Concepts, Geometry and Algebra<br>year=%{x}<br>skill_delta=%{y} <b>(trend)</b><extra></extra>\", \"legendgroup\": \"skill_name=Intermediate Concepts, Geometry and Algebra\", \"marker\": {\"color\": \"#636efa\", \"symbol\": \"circle\"}, \"mode\": \"lines\", \"name\": \"skill_name=Intermediate Concepts, Geometry and Algebra\", \"showlegend\": false, \"type\": \"scatter\", \"uid\": \"780211ee-b4e2-40bd-bbbc-9de420cec5fd\", \"x\": [2007.0, 2008.0, 2009.0, 2014.0, 2016.0, 2018.0], \"xaxis\": \"x\", \"y\": [-0.6377139781687264, 1.7635216361447763, 4.228016532504699, 1.3599999999999455, 4.385000000000005, 7.4100000000001165], \"yaxis\": \"y2\"}, {\"hovertemplate\": \"class=4<br>skill_name=Number sense, Computations and Basic Arithmetic<br>skill_name=Number sense, Computations and Basic Arithmetic<br>year=%{x}<br>skill_delta=%{y}<br>studentCount=%{marker.size}<extra></extra>\", \"legendgroup\": \"skill_name=Number sense, Computations and Basic Arithmetic\", \"marker\": {\"color\": \"#EF553B\", \"size\": [113, 14, 72, 75, 104, 111], \"sizemode\": \"area\", \"sizeref\": 1.14, \"symbol\": \"circle\"}, \"mode\": \"markers\", \"name\": \"skill_name=Number sense, Computations and Basic Arithmetic\", \"showlegend\": false, \"type\": \"scatter\", \"uid\": \"a2b1d138-8ed6-41d5-96dc-c3736ce0a698\", \"x\": [\"2018\", \"2007\", \"2008\", \"2009\", \"2014\", \"2016\"], \"xaxis\": \"x2\", \"y\": [-0.12000000000000455, 6.450000000000003, -0.20000000000000284, 7.899999999999999, 0.05000000000000426, -0.9599999999999937], \"yaxis\": \"y2\"}, {\"hovertemplate\": \"<b>LOWESS trendline</b><br><br>class=4<br>skill_name=Number sense, Computations and Basic Arithmetic<br>skill_name=Number sense, Computations and Basic Arithmetic<br>year=%{x}<br>skill_delta=%{y} <b>(trend)</b><extra></extra>\", \"legendgroup\": \"skill_name=Number sense, Computations and Basic Arithmetic\", \"marker\": {\"color\": \"#EF553B\", \"symbol\": \"circle\"}, \"mode\": \"lines\", \"name\": \"skill_name=Number sense, Computations and Basic Arithmetic\", \"showlegend\": false, \"type\": \"scatter\", \"uid\": \"ba3bbea3-83b2-4aa3-a951-e15a3e3fc551\", \"x\": [2007.0, 2008.0, 2009.0, 2014.0, 2016.0, 2018.0], \"xaxis\": \"x2\", \"y\": [6.449999999999616, 7.175000000000175, 7.899999999998668, -0.05229107437676259, -0.2749800326283486, -0.3425481692665576], \"yaxis\": \"y2\"}, {\"hovertemplate\": \"class=4<br>skill_name=Problem Solving, Advanced Problems<br>skill_name=Problem Solving, Advanced Problems<br>year=%{x}<br>skill_delta=%{y}<br>studentCount=%{marker.size}<extra></extra>\", \"legendgroup\": \"skill_name=Problem Solving, Advanced Problems\", \"marker\": {\"color\": \"#00cc96\", \"size\": [113, 14, 72, 75, 104, 111], \"sizemode\": \"area\", \"sizeref\": 1.14, \"symbol\": \"circle\"}, \"mode\": \"markers\", \"name\": \"skill_name=Problem Solving, Advanced Problems\", \"showlegend\": false, \"type\": \"scatter\", \"uid\": \"566a63dd-4727-44cc-8297-f2c075ff0b6f\", \"x\": [\"2018\", \"2007\", \"2008\", \"2009\", \"2014\", \"2016\"], \"xaxis\": \"x3\", \"y\": [-7.079999999999998, 2.5900000000000034, -5.050000000000004, 1.1499999999999986, -5.57, -3.9100000000000037], \"yaxis\": \"y2\"}, {\"hovertemplate\": \"<b>LOWESS trendline</b><br><br>class=4<br>skill_name=Problem Solving, Advanced Problems<br>skill_name=Problem Solving, Advanced Problems<br>year=%{x}<br>skill_delta=%{y} <b>(trend)</b><extra></extra>\", \"legendgroup\": \"skill_name=Problem Solving, Advanced Problems\", \"marker\": {\"color\": \"#00cc96\", \"symbol\": \"circle\"}, \"mode\": \"lines\", \"name\": \"skill_name=Problem Solving, Advanced Problems\", \"showlegend\": false, \"type\": \"scatter\", \"uid\": \"96ecfd7b-9640-4aa3-8922-961598db36d2\", \"x\": [2007.0, 2008.0, 2009.0, 2014.0, 2016.0, 2018.0], \"xaxis\": \"x3\", \"y\": [1.2216869011462446, 0.46918236385127193, -0.17757022521292254, -5.244624159578633, -5.509160664094532, -6.351871156399696], \"yaxis\": \"y2\"}, {\"hovertemplate\": \"class=4<br>skill_name=Word and Application Problems<br>skill_name=Word and Application Problems<br>year=%{x}<br>skill_delta=%{y}<br>studentCount=%{marker.size}<extra></extra>\", \"legendgroup\": \"skill_name=Word and Application Problems\", \"marker\": {\"color\": \"#ab63fa\", \"size\": [113, 14, 72, 75, 104, 111], \"sizemode\": \"area\", \"sizeref\": 1.14, \"symbol\": \"circle\"}, \"mode\": \"markers\", \"name\": \"skill_name=Word and Application Problems\", \"showlegend\": false, \"type\": \"scatter\", \"uid\": \"fef25b65-df2b-4366-8979-518fa03d0457\", \"x\": [\"2018\", \"2007\", \"2008\", \"2009\", \"2014\", \"2016\"], \"xaxis\": \"x4\", \"y\": [0.509999999999998, 4.030000000000001, -0.01999999999999602, 0.46999999999999886, -0.20000000000000284, 3.190000000000005], \"yaxis\": \"y2\"}, {\"hovertemplate\": \"<b>LOWESS trendline</b><br><br>class=4<br>skill_name=Word and Application Problems<br>skill_name=Word and Application Problems<br>year=%{x}<br>skill_delta=%{y} <b>(trend)</b><extra></extra>\", \"legendgroup\": \"skill_name=Word and Application Problems\", \"marker\": {\"color\": \"#ab63fa\", \"symbol\": \"circle\"}, \"mode\": \"lines\", \"name\": \"skill_name=Word and Application Problems\", \"showlegend\": false, \"type\": \"scatter\", \"uid\": \"f075cf4f-a9e0-4e37-9d67-b99aa151e0eb\", \"x\": [2007.0, 2008.0, 2009.0, 2014.0, 2016.0, 2018.0], \"xaxis\": \"x4\", \"y\": [3.4324456937637677, 1.6376170384925093, -0.10781334408721677, 0.08914206139465378, 0.7501772300632485, 1.054376825811946], \"yaxis\": \"y2\"}, {\"hovertemplate\": \"class=5<br>skill_name=Intermediate Concepts, Geometry and Algebra<br>skill_name=Intermediate Concepts, Geometry and Algebra<br>year=%{x}<br>skill_delta=%{y}<br>studentCount=%{marker.size}<extra></extra>\", \"legendgroup\": \"skill_name=Intermediate Concepts, Geometry and Algebra\", \"marker\": {\"color\": \"#636efa\", \"size\": [112, 16, 73, 75, 108, 107], \"sizemode\": \"area\", \"sizeref\": 1.14, \"symbol\": \"circle\"}, \"mode\": \"markers\", \"name\": \"skill_name=Intermediate Concepts, Geometry and Algebra\", \"showlegend\": false, \"type\": \"scatter\", \"uid\": \"c454e527-46b2-4423-bc78-b6fc61de4ea9\", \"x\": [\"2018\", \"2007\", \"2008\", \"2009\", \"2014\", \"2016\"], \"xaxis\": \"x\", \"y\": [1.0399999999999991, -1.4299999999999997, -0.01999999999999602, 3.5700000000000003, 4.57, -2.460000000000001], \"yaxis\": \"y3\"}, {\"hovertemplate\": \"<b>LOWESS trendline</b><br><br>class=5<br>skill_name=Intermediate Concepts, Geometry and Algebra<br>skill_name=Intermediate Concepts, Geometry and Algebra<br>year=%{x}<br>skill_delta=%{y} <b>(trend)</b><extra></extra>\", \"legendgroup\": \"skill_name=Intermediate Concepts, Geometry and Algebra\", \"marker\": {\"color\": \"#636efa\", \"symbol\": \"circle\"}, \"mode\": \"lines\", \"name\": \"skill_name=Intermediate Concepts, Geometry and Algebra\", \"showlegend\": false, \"type\": \"scatter\", \"uid\": \"15da4f88-9246-4ee1-8a30-d8bc4c7f3db4\", \"x\": [2007.0, 2008.0, 2009.0, 2014.0, 2016.0, 2018.0], \"xaxis\": \"x\", \"y\": [-1.7218970240731162, 0.7709034639753717, 3.2879358877985307, 4.570000000000131, 2.8049999999999997, 1.0400000000000071], \"yaxis\": \"y3\"}, {\"hovertemplate\": \"class=5<br>skill_name=Number sense, Computations and Basic Arithmetic<br>skill_name=Number sense, Computations and Basic Arithmetic<br>year=%{x}<br>skill_delta=%{y}<br>studentCount=%{marker.size}<extra></extra>\", \"legendgroup\": \"skill_name=Number sense, Computations and Basic Arithmetic\", \"marker\": {\"color\": \"#EF553B\", \"size\": [112, 16, 73, 75, 108, 107], \"sizemode\": \"area\", \"sizeref\": 1.14, \"symbol\": \"circle\"}, \"mode\": \"markers\", \"name\": \"skill_name=Number sense, Computations and Basic Arithmetic\", \"showlegend\": false, \"type\": \"scatter\", \"uid\": \"dfa40d8e-209b-49f4-af13-4aa1e27518a2\", \"x\": [\"2018\", \"2007\", \"2008\", \"2009\", \"2014\", \"2016\"], \"xaxis\": \"x2\", \"y\": [9.189999999999998, 10.800000000000004, -2.760000000000005, 7.059999999999995, 6.700000000000003, 6.280000000000001], \"yaxis\": \"y3\"}, {\"hovertemplate\": \"<b>LOWESS trendline</b><br><br>class=5<br>skill_name=Number sense, Computations and Basic Arithmetic<br>skill_name=Number sense, Computations and Basic Arithmetic<br>year=%{x}<br>skill_delta=%{y} <b>(trend)</b><extra></extra>\", \"legendgroup\": \"skill_name=Number sense, Computations and Basic Arithmetic\", \"marker\": {\"color\": \"#EF553B\", \"symbol\": \"circle\"}, \"mode\": \"lines\", \"name\": \"skill_name=Number sense, Computations and Basic Arithmetic\", \"showlegend\": false, \"type\": \"scatter\", \"uid\": \"3b86b608-fa39-4484-9e4d-da4da3bcdf88\", \"x\": [2007.0, 2008.0, 2009.0, 2014.0, 2016.0, 2018.0], \"xaxis\": \"x2\", \"y\": [10.80000000000131, 8.930000000000186, 7.059999999998869, 6.49411375787998, 7.443242205018137, 8.733931241002848], \"yaxis\": \"y3\"}, {\"hovertemplate\": \"class=5<br>skill_name=Problem Solving, Advanced Problems<br>skill_name=Problem Solving, Advanced Problems<br>year=%{x}<br>skill_delta=%{y}<br>studentCount=%{marker.size}<extra></extra>\", \"legendgroup\": \"skill_name=Problem Solving, Advanced Problems\", \"marker\": {\"color\": \"#00cc96\", \"size\": [112, 16, 73, 75, 108, 107], \"sizemode\": \"area\", \"sizeref\": 1.14, \"symbol\": \"circle\"}, \"mode\": \"markers\", \"name\": \"skill_name=Problem Solving, Advanced Problems\", \"showlegend\": false, \"type\": \"scatter\", \"uid\": \"8e0bd292-891d-432d-9bf9-5756407aea9b\", \"x\": [\"2018\", \"2007\", \"2008\", \"2009\", \"2014\", \"2016\"], \"xaxis\": \"x3\", \"y\": [5.519999999999996, 3.9800000000000004, -2.7200000000000024, 4.829999999999998, 2.770000000000003, 5.57], \"yaxis\": \"y3\"}, {\"hovertemplate\": \"<b>LOWESS trendline</b><br><br>class=5<br>skill_name=Problem Solving, Advanced Problems<br>skill_name=Problem Solving, Advanced Problems<br>year=%{x}<br>skill_delta=%{y} <b>(trend)</b><extra></extra>\", \"legendgroup\": \"skill_name=Problem Solving, Advanced Problems\", \"marker\": {\"color\": \"#00cc96\", \"symbol\": \"circle\"}, \"mode\": \"lines\", \"name\": \"skill_name=Problem Solving, Advanced Problems\", \"showlegend\": false, \"type\": \"scatter\", \"uid\": \"63ecccee-2058-4f62-bc4e-a6cd21cf64e2\", \"x\": [2007.0, 2008.0, 2009.0, 2014.0, 2016.0, 2018.0], \"xaxis\": \"x3\", \"y\": [3.9800000000004476, 4.405000000000059, 4.8300000000006165, 2.9616722575064864, 4.62550198988456, 5.9490584684286185], \"yaxis\": \"y3\"}, {\"hovertemplate\": \"class=5<br>skill_name=Word and Application Problems<br>skill_name=Word and Application Problems<br>year=%{x}<br>skill_delta=%{y}<br>studentCount=%{marker.size}<extra></extra>\", \"legendgroup\": \"skill_name=Word and Application Problems\", \"marker\": {\"color\": \"#ab63fa\", \"size\": [112, 16, 73, 75, 108, 107], \"sizemode\": \"area\", \"sizeref\": 1.14, \"symbol\": \"circle\"}, \"mode\": \"markers\", \"name\": \"skill_name=Word and Application Problems\", \"showlegend\": false, \"type\": \"scatter\", \"uid\": \"441dffb6-ba57-4b8c-b1a6-ff2760b2651f\", \"x\": [\"2018\", \"2007\", \"2008\", \"2009\", \"2014\", \"2016\"], \"xaxis\": \"x4\", \"y\": [5.269999999999996, 11.670000000000002, 2.490000000000002, 5.3700000000000045, 6.170000000000002, 5.450000000000003], \"yaxis\": \"y3\"}, {\"hovertemplate\": \"<b>LOWESS trendline</b><br><br>class=5<br>skill_name=Word and Application Problems<br>skill_name=Word and Application Problems<br>year=%{x}<br>skill_delta=%{y} <b>(trend)</b><extra></extra>\", \"legendgroup\": \"skill_name=Word and Application Problems\", \"marker\": {\"color\": \"#ab63fa\", \"symbol\": \"circle\"}, \"mode\": \"lines\", \"name\": \"skill_name=Word and Application Problems\", \"showlegend\": false, \"type\": \"scatter\", \"uid\": \"22bcff6d-c3f2-48c2-bc5b-765027246a90\", \"x\": [2007.0, 2008.0, 2009.0, 2014.0, 2016.0, 2018.0], \"xaxis\": \"x4\", \"y\": [11.670000000002858, 8.520000000000003, 5.370000000000056, 6.140936354439544, 5.6523022444562185, 5.20690071700515], \"yaxis\": \"y3\"}, {\"hovertemplate\": \"class=6<br>skill_name=Intermediate Concepts, Geometry and Algebra<br>skill_name=Intermediate Concepts, Geometry and Algebra<br>year=%{x}<br>skill_delta=%{y}<br>studentCount=%{marker.size}<extra></extra>\", \"legendgroup\": \"skill_name=Intermediate Concepts, Geometry and Algebra\", \"marker\": {\"color\": \"#636efa\", \"size\": [111, 17, 74, 79, 82, 100], \"sizemode\": \"area\", \"sizeref\": 1.14, \"symbol\": \"circle\"}, \"mode\": \"markers\", \"name\": \"skill_name=Intermediate Concepts, Geometry and Algebra\", \"showlegend\": false, \"type\": \"scatter\", \"uid\": \"267242a6-923c-4295-8316-904ed90cdc8d\", \"x\": [\"2018\", \"2007\", \"2008\", \"2009\", \"2014\", \"2016\"], \"xaxis\": \"x\", \"y\": [5.779999999999994, 10.770000000000003, -0.46000000000000085, 3.030000000000001, 10.219999999999999, 3.3599999999999994], \"yaxis\": \"y4\"}, {\"hovertemplate\": \"<b>LOWESS trendline</b><br><br>class=6<br>skill_name=Intermediate Concepts, Geometry and Algebra<br>skill_name=Intermediate Concepts, Geometry and Algebra<br>year=%{x}<br>skill_delta=%{y} <b>(trend)</b><extra></extra>\", \"legendgroup\": \"skill_name=Intermediate Concepts, Geometry and Algebra\", \"marker\": {\"color\": \"#636efa\", \"symbol\": \"circle\"}, \"mode\": \"lines\", \"name\": \"skill_name=Intermediate Concepts, Geometry and Algebra\", \"showlegend\": false, \"type\": \"scatter\", \"uid\": \"ce8d4a7f-5166-4d4a-b6de-317fc514aa83\", \"x\": [2007.0, 2008.0, 2009.0, 2014.0, 2016.0, 2018.0], \"xaxis\": \"x\", \"y\": [9.017878553711366, 5.105331066752144, 1.3339831084774847, 9.620720969717183, 6.525205318532402, 4.453680469926818], \"yaxis\": \"y4\"}, {\"hovertemplate\": \"class=6<br>skill_name=Number sense, Computations and Basic Arithmetic<br>skill_name=Number sense, Computations and Basic Arithmetic<br>year=%{x}<br>skill_delta=%{y}<br>studentCount=%{marker.size}<extra></extra>\", \"legendgroup\": \"skill_name=Number sense, Computations and Basic Arithmetic\", \"marker\": {\"color\": \"#EF553B\", \"size\": [111, 17, 74, 79, 82, 100], \"sizemode\": \"area\", \"sizeref\": 1.14, \"symbol\": \"circle\"}, \"mode\": \"markers\", \"name\": \"skill_name=Number sense, Computations and Basic Arithmetic\", \"showlegend\": false, \"type\": \"scatter\", \"uid\": \"800b32b3-c6e1-49a3-81a8-88e3158fc194\", \"x\": [\"2018\", \"2007\", \"2008\", \"2009\", \"2014\", \"2016\"], \"xaxis\": \"x2\", \"y\": [4.580000000000005, 23.879999999999995, 11.43, 2.6299999999999955, 5.909999999999997, 5.789999999999999], \"yaxis\": \"y4\"}, {\"hovertemplate\": \"<b>LOWESS trendline</b><br><br>class=6<br>skill_name=Number sense, Computations and Basic Arithmetic<br>skill_name=Number sense, Computations and Basic Arithmetic<br>year=%{x}<br>skill_delta=%{y} <b>(trend)</b><extra></extra>\", \"legendgroup\": \"skill_name=Number sense, Computations and Basic Arithmetic\", \"marker\": {\"color\": \"#EF553B\", \"symbol\": \"circle\"}, \"mode\": \"lines\", \"name\": \"skill_name=Number sense, Computations and Basic Arithmetic\", \"showlegend\": false, \"type\": \"scatter\", \"uid\": \"806f091f-cd54-4894-ae65-53d53cb04b40\", \"x\": [2007.0, 2008.0, 2009.0, 2014.0, 2016.0, 2018.0], \"xaxis\": \"x2\", \"y\": [23.61634902156756, 12.985300312883679, 2.373471952813351, 5.9835190216774246, 5.429440355030005, 4.744573124013427], \"yaxis\": \"y4\"}, {\"hovertemplate\": \"class=6<br>skill_name=Problem Solving, Advanced Problems<br>skill_name=Problem Solving, Advanced Problems<br>year=%{x}<br>skill_delta=%{y}<br>studentCount=%{marker.size}<extra></extra>\", \"legendgroup\": \"skill_name=Problem Solving, Advanced Problems\", \"marker\": {\"color\": \"#00cc96\", \"size\": [111, 17, 74, 79, 82, 100], \"sizemode\": \"area\", \"sizeref\": 1.14, \"symbol\": \"circle\"}, \"mode\": \"markers\", \"name\": \"skill_name=Problem Solving, Advanced Problems\", \"showlegend\": false, \"type\": \"scatter\", \"uid\": \"fa590085-43a0-454d-88e3-99e633a89ba9\", \"x\": [\"2018\", \"2007\", \"2008\", \"2009\", \"2014\", \"2016\"], \"xaxis\": \"x3\", \"y\": [13.300000000000004, 0.4299999999999997, 7.530000000000001, 4.850000000000001, 1.4699999999999989, 3.479999999999997], \"yaxis\": \"y4\"}, {\"hovertemplate\": \"<b>LOWESS trendline</b><br><br>class=6<br>skill_name=Problem Solving, Advanced Problems<br>skill_name=Problem Solving, Advanced Problems<br>year=%{x}<br>skill_delta=%{y} <b>(trend)</b><extra></extra>\", \"legendgroup\": \"skill_name=Problem Solving, Advanced Problems\", \"marker\": {\"color\": \"#00cc96\", \"symbol\": \"circle\"}, \"mode\": \"lines\", \"name\": \"skill_name=Problem Solving, Advanced Problems\", \"showlegend\": false, \"type\": \"scatter\", \"uid\": \"2cac5135-ca6e-4216-a51c-249d94a3b7fe\", \"x\": [2007.0, 2008.0, 2009.0, 2014.0, 2016.0, 2018.0], \"xaxis\": \"x3\", \"y\": [1.5941132978724104, 3.8323819407060222, 5.9768373097217555, 0.9897617381496266, 6.234193251695446, 12.258588817844803], \"yaxis\": \"y4\"}, {\"hovertemplate\": \"class=6<br>skill_name=Word and Application Problems<br>skill_name=Word and Application Problems<br>year=%{x}<br>skill_delta=%{y}<br>studentCount=%{marker.size}<extra></extra>\", \"legendgroup\": \"skill_name=Word and Application Problems\", \"marker\": {\"color\": \"#ab63fa\", \"size\": [111, 17, 74, 79, 82, 100], \"sizemode\": \"area\", \"sizeref\": 1.14, \"symbol\": \"circle\"}, \"mode\": \"markers\", \"name\": \"skill_name=Word and Application Problems\", \"showlegend\": false, \"type\": \"scatter\", \"uid\": \"6f042825-83bd-410e-8c42-af0dda48836f\", \"x\": [\"2018\", \"2007\", \"2008\", \"2009\", \"2014\", \"2016\"], \"xaxis\": \"x4\", \"y\": [3.6700000000000017, 17.380000000000003, 7.100000000000001, 6.969999999999999, 7.600000000000001, 1.2199999999999989], \"yaxis\": \"y4\"}, {\"hovertemplate\": \"<b>LOWESS trendline</b><br><br>class=6<br>skill_name=Word and Application Problems<br>skill_name=Word and Application Problems<br>year=%{x}<br>skill_delta=%{y} <b>(trend)</b><extra></extra>\", \"legendgroup\": \"skill_name=Word and Application Problems\", \"marker\": {\"color\": \"#ab63fa\", \"symbol\": \"circle\"}, \"mode\": \"lines\", \"name\": \"skill_name=Word and Application Problems\", \"showlegend\": false, \"type\": \"scatter\", \"uid\": \"25dcded9-3834-46c1-941b-1bd761110e65\", \"x\": [2007.0, 2008.0, 2009.0, 2014.0, 2016.0, 2018.0], \"xaxis\": \"x4\", \"y\": [16.171845605991702, 10.937507495081313, 5.800531830915322, 7.071958479923818, 4.39052897910654, 2.540971768297513], \"yaxis\": \"y4\"}, {\"hovertemplate\": \"class=7<br>skill_name=Intermediate Concepts, Geometry and Algebra<br>skill_name=Intermediate Concepts, Geometry and Algebra<br>year=%{x}<br>skill_delta=%{y}<br>studentCount=%{marker.size}<extra></extra>\", \"legendgroup\": \"skill_name=Intermediate Concepts, Geometry and Algebra\", \"marker\": {\"color\": \"#636efa\", \"size\": [114, 4, 45, 74, 78, 99], \"sizemode\": \"area\", \"sizeref\": 1.14, \"symbol\": \"circle\"}, \"mode\": \"markers\", \"name\": \"skill_name=Intermediate Concepts, Geometry and Algebra\", \"showlegend\": false, \"type\": \"scatter\", \"uid\": \"216841cb-bf17-4076-bab5-f152eff98495\", \"x\": [\"2018\", \"2007\", \"2008\", \"2009\", \"2014\", \"2016\"], \"xaxis\": \"x\", \"y\": [7.550000000000004, 16.04, 11.64, 7.0, 13.07, 10.469999999999999], \"yaxis\": \"y5\"}, {\"hovertemplate\": \"<b>LOWESS trendline</b><br><br>class=7<br>skill_name=Intermediate Concepts, Geometry and Algebra<br>skill_name=Intermediate Concepts, Geometry and Algebra<br>year=%{x}<br>skill_delta=%{y} <b>(trend)</b><extra></extra>\", \"legendgroup\": \"skill_name=Intermediate Concepts, Geometry and Algebra\", \"marker\": {\"color\": \"#636efa\", \"symbol\": \"circle\"}, \"mode\": \"lines\", \"name\": \"skill_name=Intermediate Concepts, Geometry and Algebra\", \"showlegend\": false, \"type\": \"scatter\", \"uid\": \"3ddbb358-6732-40f6-be0a-76cc1c0df71f\", \"x\": [2007.0, 2008.0, 2009.0, 2014.0, 2016.0, 2018.0], \"xaxis\": \"x\", \"y\": [16.07156757300259, 11.552350815785893, 7.03052490994603, 13.085279656203673, 10.341491789867744, 7.57880267956176], \"yaxis\": \"y5\"}, {\"hovertemplate\": \"class=7<br>skill_name=Number sense, Computations and Basic Arithmetic<br>skill_name=Number sense, Computations and Basic Arithmetic<br>year=%{x}<br>skill_delta=%{y}<br>studentCount=%{marker.size}<extra></extra>\", \"legendgroup\": \"skill_name=Number sense, Computations and Basic Arithmetic\", \"marker\": {\"color\": \"#EF553B\", \"size\": [114, 4, 45, 74, 78, 99], \"sizemode\": \"area\", \"sizeref\": 1.14, \"symbol\": \"circle\"}, \"mode\": \"markers\", \"name\": \"skill_name=Number sense, Computations and Basic Arithmetic\", \"showlegend\": false, \"type\": \"scatter\", \"uid\": \"856e4dd5-2b37-497d-bb66-18ee25844a39\", \"x\": [\"2018\", \"2007\", \"2008\", \"2009\", \"2014\", \"2016\"], \"xaxis\": \"x2\", \"y\": [6.279999999999994, 15.579999999999998, 14.329999999999998, 7.43, 12.060000000000002, 4.390000000000001], \"yaxis\": \"y5\"}, {\"hovertemplate\": \"<b>LOWESS trendline</b><br><br>class=7<br>skill_name=Number sense, Computations and Basic Arithmetic<br>skill_name=Number sense, Computations and Basic Arithmetic<br>year=%{x}<br>skill_delta=%{y} <b>(trend)</b><extra></extra>\", \"legendgroup\": \"skill_name=Number sense, Computations and Basic Arithmetic\", \"marker\": {\"color\": \"#EF553B\", \"symbol\": \"circle\"}, \"mode\": \"lines\", \"name\": \"skill_name=Number sense, Computations and Basic Arithmetic\", \"showlegend\": false, \"type\": \"scatter\", \"uid\": \"b9b65ebe-b149-4371-b4d2-ba8f70321ae0\", \"x\": [2007.0, 2008.0, 2009.0, 2014.0, 2016.0, 2018.0], \"xaxis\": \"x2\", \"y\": [16.35479690776241, 12.299208289111043, 8.178863769827002, 11.752172154718908, 8.629942982482369, 5.784222551537886], \"yaxis\": \"y5\"}, {\"hovertemplate\": \"class=7<br>skill_name=Problem Solving, Advanced Problems<br>skill_name=Problem Solving, Advanced Problems<br>year=%{x}<br>skill_delta=%{y}<br>studentCount=%{marker.size}<extra></extra>\", \"legendgroup\": \"skill_name=Problem Solving, Advanced Problems\", \"marker\": {\"color\": \"#00cc96\", \"size\": [114, 4, 45, 74, 78, 99], \"sizemode\": \"area\", \"sizeref\": 1.14, \"symbol\": \"circle\"}, \"mode\": \"markers\", \"name\": \"skill_name=Problem Solving, Advanced Problems\", \"showlegend\": false, \"type\": \"scatter\", \"uid\": \"684f66c4-fb0a-4b75-9243-55ca00d06ada\", \"x\": [\"2018\", \"2007\", \"2008\", \"2009\", \"2014\", \"2016\"], \"xaxis\": \"x3\", \"y\": [6.25, 4.949999999999999, 14.71, 13.990000000000002, 8.439999999999998, 2.6899999999999977], \"yaxis\": \"y5\"}, {\"hovertemplate\": \"<b>LOWESS trendline</b><br><br>class=7<br>skill_name=Problem Solving, Advanced Problems<br>skill_name=Problem Solving, Advanced Problems<br>year=%{x}<br>skill_delta=%{y} <b>(trend)</b><extra></extra>\", \"legendgroup\": \"skill_name=Problem Solving, Advanced Problems\", \"marker\": {\"color\": \"#00cc96\", \"symbol\": \"circle\"}, \"mode\": \"lines\", \"name\": \"skill_name=Problem Solving, Advanced Problems\", \"showlegend\": false, \"type\": \"scatter\", \"uid\": \"1ea62d21-4ad6-4763-8f8c-d602ca951187\", \"x\": [2007.0, 2008.0, 2009.0, 2014.0, 2016.0, 2018.0], \"xaxis\": \"x3\", \"y\": [6.197434290562855, 10.747726251389912, 15.197490286901978, 7.887735841169917, 6.049878058052988, 5.074287755292374], \"yaxis\": \"y5\"}, {\"hovertemplate\": \"class=7<br>skill_name=Word and Application Problems<br>skill_name=Word and Application Problems<br>year=%{x}<br>skill_delta=%{y}<br>studentCount=%{marker.size}<extra></extra>\", \"legendgroup\": \"skill_name=Word and Application Problems\", \"marker\": {\"color\": \"#ab63fa\", \"size\": [114, 4, 45, 74, 78, 99], \"sizemode\": \"area\", \"sizeref\": 1.14, \"symbol\": \"circle\"}, \"mode\": \"markers\", \"name\": \"skill_name=Word and Application Problems\", \"showlegend\": false, \"type\": \"scatter\", \"uid\": \"f22a8150-119d-4ce8-95d5-a58b5828d6d6\", \"x\": [\"2018\", \"2007\", \"2008\", \"2009\", \"2014\", \"2016\"], \"xaxis\": \"x4\", \"y\": [3.0899999999999963, 19.68, 17.230000000000004, 11.379999999999995, 14.439999999999998, 7.449999999999996], \"yaxis\": \"y5\"}, {\"hovertemplate\": \"<b>LOWESS trendline</b><br><br>class=7<br>skill_name=Word and Application Problems<br>skill_name=Word and Application Problems<br>year=%{x}<br>skill_delta=%{y} <b>(trend)</b><extra></extra>\", \"legendgroup\": \"skill_name=Word and Application Problems\", \"marker\": {\"color\": \"#ab63fa\", \"symbol\": \"circle\"}, \"mode\": \"lines\", \"name\": \"skill_name=Word and Application Problems\", \"showlegend\": false, \"type\": \"scatter\", \"uid\": \"c11994da-a8a1-4d9b-b191-bac55a5e6538\", \"x\": [2007.0, 2008.0, 2009.0, 2014.0, 2016.0, 2018.0], \"xaxis\": \"x4\", \"y\": [20.08470196449428, 15.944529509037345, 11.77174303200469, 14.27687989370799, 8.372162537119536, 2.734832427238395], \"yaxis\": \"y5\"}, {\"hovertemplate\": \"class=8<br>skill_name=Intermediate Concepts, Geometry and Algebra<br>skill_name=Intermediate Concepts, Geometry and Algebra<br>year=%{x}<br>skill_delta=%{y}<br>studentCount=%{marker.size}<extra></extra>\", \"legendgroup\": \"skill_name=Intermediate Concepts, Geometry and Algebra\", \"marker\": {\"color\": \"#636efa\", \"size\": [103, 13, 52, 46, 77, 76], \"sizemode\": \"area\", \"sizeref\": 1.14, \"symbol\": \"circle\"}, \"mode\": \"markers\", \"name\": \"skill_name=Intermediate Concepts, Geometry and Algebra\", \"showlegend\": false, \"type\": \"scatter\", \"uid\": \"6680f605-58d1-4821-8f7a-3dd54c9f89a3\", \"x\": [\"2018\", \"2007\", \"2008\", \"2009\", \"2014\", \"2016\"], \"xaxis\": \"x\", \"y\": [3.5800000000000054, 18.75, 12.21, 20.449999999999996, 7.75, 7.0], \"yaxis\": \"y6\"}, {\"hovertemplate\": \"<b>LOWESS trendline</b><br><br>class=8<br>skill_name=Intermediate Concepts, Geometry and Algebra<br>skill_name=Intermediate Concepts, Geometry and Algebra<br>year=%{x}<br>skill_delta=%{y} <b>(trend)</b><extra></extra>\", \"legendgroup\": \"skill_name=Intermediate Concepts, Geometry and Algebra\", \"marker\": {\"color\": \"#636efa\", \"symbol\": \"circle\"}, \"mode\": \"lines\", \"name\": \"skill_name=Intermediate Concepts, Geometry and Algebra\", \"showlegend\": false, \"type\": \"scatter\", \"uid\": \"f33369a8-49ce-4f9a-b23d-39d3935427f5\", \"x\": [2007.0, 2008.0, 2009.0, 2014.0, 2016.0, 2018.0], \"xaxis\": \"x\", \"y\": [18.750000000005794, 19.600000000000087, 20.44999999999796, 7.9283683272850105, 6.111171761474855, 3.97900770747903], \"yaxis\": \"y6\"}, {\"hovertemplate\": \"class=8<br>skill_name=Number sense, Computations and Basic Arithmetic<br>skill_name=Number sense, Computations and Basic Arithmetic<br>year=%{x}<br>skill_delta=%{y}<br>studentCount=%{marker.size}<extra></extra>\", \"legendgroup\": \"skill_name=Number sense, Computations and Basic Arithmetic\", \"marker\": {\"color\": \"#EF553B\", \"size\": [103, 13, 52, 46, 77, 76], \"sizemode\": \"area\", \"sizeref\": 1.14, \"symbol\": \"circle\"}, \"mode\": \"markers\", \"name\": \"skill_name=Number sense, Computations and Basic Arithmetic\", \"showlegend\": false, \"type\": \"scatter\", \"uid\": \"fc03bb38-94da-4578-ac33-9fa5b8704073\", \"x\": [\"2018\", \"2007\", \"2008\", \"2009\", \"2014\", \"2016\"], \"xaxis\": \"x2\", \"y\": [0.8200000000000003, 22.689999999999998, 4.010000000000005, 21.340000000000003, 7.969999999999999, 0.27999999999999403], \"yaxis\": \"y6\"}, {\"hovertemplate\": \"<b>LOWESS trendline</b><br><br>class=8<br>skill_name=Number sense, Computations and Basic Arithmetic<br>skill_name=Number sense, Computations and Basic Arithmetic<br>year=%{x}<br>skill_delta=%{y} <b>(trend)</b><extra></extra>\", \"legendgroup\": \"skill_name=Number sense, Computations and Basic Arithmetic\", \"marker\": {\"color\": \"#EF553B\", \"symbol\": \"circle\"}, \"mode\": \"lines\", \"name\": \"skill_name=Number sense, Computations and Basic Arithmetic\", \"showlegend\": false, \"type\": \"scatter\", \"uid\": \"a47a4237-78be-4d1b-87d1-25ee4b6e5683\", \"x\": [2007.0, 2008.0, 2009.0, 2014.0, 2016.0, 2018.0], \"xaxis\": \"x2\", \"y\": [22.47856373018287, 21.799080090935114, 21.132691457784333, 7.4150280079743505, 3.002596503793031, -0.42255581428947464], \"yaxis\": \"y6\"}, {\"hovertemplate\": \"class=8<br>skill_name=Problem Solving, Advanced Problems<br>skill_name=Problem Solving, Advanced Problems<br>year=%{x}<br>skill_delta=%{y}<br>studentCount=%{marker.size}<extra></extra>\", \"legendgroup\": \"skill_name=Problem Solving, Advanced Problems\", \"marker\": {\"color\": \"#00cc96\", \"size\": [103, 13, 52, 46, 77, 76], \"sizemode\": \"area\", \"sizeref\": 1.14, \"symbol\": \"circle\"}, \"mode\": \"markers\", \"name\": \"skill_name=Problem Solving, Advanced Problems\", \"showlegend\": false, \"type\": \"scatter\", \"uid\": \"625f5521-24d8-48fc-b7ff-ddee129d8459\", \"x\": [\"2018\", \"2007\", \"2008\", \"2009\", \"2014\", \"2016\"], \"xaxis\": \"x3\", \"y\": [4.699999999999996, 29.29, 4.739999999999998, 12.530000000000001, 1.6799999999999997, -0.7100000000000009], \"yaxis\": \"y6\"}, {\"hovertemplate\": \"<b>LOWESS trendline</b><br><br>class=8<br>skill_name=Problem Solving, Advanced Problems<br>skill_name=Problem Solving, Advanced Problems<br>year=%{x}<br>skill_delta=%{y} <b>(trend)</b><extra></extra>\", \"legendgroup\": \"skill_name=Problem Solving, Advanced Problems\", \"marker\": {\"color\": \"#00cc96\", \"symbol\": \"circle\"}, \"mode\": \"lines\", \"name\": \"skill_name=Problem Solving, Advanced Problems\", \"showlegend\": false, \"type\": \"scatter\", \"uid\": \"9db8f6dc-6a74-4c70-87de-a4d73308b4ca\", \"x\": [2007.0, 2008.0, 2009.0, 2014.0, 2016.0, 2018.0], \"xaxis\": \"x3\", \"y\": [28.69480187531548, 20.30200348986432, 11.947303737107532, 1.1538335428653588, 1.8697468555312433, 3.52193797965571], \"yaxis\": \"y6\"}, {\"hovertemplate\": \"class=8<br>skill_name=Word and Application Problems<br>skill_name=Word and Application Problems<br>year=%{x}<br>skill_delta=%{y}<br>studentCount=%{marker.size}<extra></extra>\", \"legendgroup\": \"skill_name=Word and Application Problems\", \"marker\": {\"color\": \"#ab63fa\", \"size\": [103, 13, 52, 46, 77, 76], \"sizemode\": \"area\", \"sizeref\": 1.14, \"symbol\": \"circle\"}, \"mode\": \"markers\", \"name\": \"skill_name=Word and Application Problems\", \"showlegend\": false, \"type\": \"scatter\", \"uid\": \"189fc842-09ce-4076-8668-05a950f0df5c\", \"x\": [\"2018\", \"2007\", \"2008\", \"2009\", \"2014\", \"2016\"], \"xaxis\": \"x4\", \"y\": [4.909999999999997, 16.61, 12.310000000000002, 11.570000000000007, 6.659999999999997, -7.020000000000003], \"yaxis\": \"y6\"}, {\"hovertemplate\": \"<b>LOWESS trendline</b><br><br>class=8<br>skill_name=Word and Application Problems<br>skill_name=Word and Application Problems<br>year=%{x}<br>skill_delta=%{y} <b>(trend)</b><extra></extra>\", \"legendgroup\": \"skill_name=Word and Application Problems\", \"marker\": {\"color\": \"#ab63fa\", \"symbol\": \"circle\"}, \"mode\": \"lines\", \"name\": \"skill_name=Word and Application Problems\", \"showlegend\": false, \"type\": \"scatter\", \"uid\": \"e335cfe9-5a35-4269-8257-3c669235169d\", \"x\": [2007.0, 2008.0, 2009.0, 2014.0, 2016.0, 2018.0], \"xaxis\": \"x4\", \"y\": [16.148464204768644, 13.617148744558335, 11.123825583202219, 6.660000000000139, 5.784999999999997, 4.9100000000000605], \"yaxis\": \"y6\"}, {\"hovertemplate\": \"class=9<br>skill_name=Intermediate Concepts, Geometry and Algebra<br>skill_name=Intermediate Concepts, Geometry and Algebra<br>year=%{x}<br>skill_delta=%{y}<br>studentCount=%{marker.size}<extra></extra>\", \"legendgroup\": \"skill_name=Intermediate Concepts, Geometry and Algebra\", \"marker\": {\"color\": \"#636efa\", \"size\": [99, 10, 40, 51, 73, 73], \"sizemode\": \"area\", \"sizeref\": 1.14, \"symbol\": \"circle\"}, \"mode\": \"markers\", \"name\": \"skill_name=Intermediate Concepts, Geometry and Algebra\", \"showlegend\": false, \"type\": \"scatter\", \"uid\": \"e0733d78-c20e-47bb-9d89-3046088d6ff8\", \"x\": [\"2018\", \"2007\", \"2008\", \"2009\", \"2014\", \"2016\"], \"xaxis\": \"x\", \"y\": [4.280000000000001, 14.160000000000004, 1.5600000000000023, 10.369999999999997, 5.989999999999995, 7.099999999999994], \"yaxis\": \"y7\"}, {\"hovertemplate\": \"<b>LOWESS trendline</b><br><br>class=9<br>skill_name=Intermediate Concepts, Geometry and Algebra<br>skill_name=Intermediate Concepts, Geometry and Algebra<br>year=%{x}<br>skill_delta=%{y} <b>(trend)</b><extra></extra>\", \"legendgroup\": \"skill_name=Intermediate Concepts, Geometry and Algebra\", \"marker\": {\"color\": \"#636efa\", \"symbol\": \"circle\"}, \"mode\": \"lines\", \"name\": \"skill_name=Intermediate Concepts, Geometry and Algebra\", \"showlegend\": false, \"type\": \"scatter\", \"uid\": \"8430f922-635f-435f-a770-a5731db86b5a\", \"x\": [2007.0, 2008.0, 2009.0, 2014.0, 2016.0, 2018.0], \"xaxis\": \"x\", \"y\": [14.159999999999322, 12.264999999999795, 10.369999999999726, 6.252909755652786, 5.792946989499478, 4.868211450272054], \"yaxis\": \"y7\"}, {\"hovertemplate\": \"class=9<br>skill_name=Number sense, Computations and Basic Arithmetic<br>skill_name=Number sense, Computations and Basic Arithmetic<br>year=%{x}<br>skill_delta=%{y}<br>studentCount=%{marker.size}<extra></extra>\", \"legendgroup\": \"skill_name=Number sense, Computations and Basic Arithmetic\", \"marker\": {\"color\": \"#EF553B\", \"size\": [99, 10, 40, 51, 73, 73], \"sizemode\": \"area\", \"sizeref\": 1.14, \"symbol\": \"circle\"}, \"mode\": \"markers\", \"name\": \"skill_name=Number sense, Computations and Basic Arithmetic\", \"showlegend\": false, \"type\": \"scatter\", \"uid\": \"b0370c5e-2bdb-4d76-b1d4-a9ff90213d94\", \"x\": [\"2018\", \"2007\", \"2008\", \"2009\", \"2014\", \"2016\"], \"xaxis\": \"x2\", \"y\": [2.200000000000003, 15.520000000000003, 10.060000000000002, 1.1400000000000006, 4.310000000000002, 10.300000000000004], \"yaxis\": \"y7\"}, {\"hovertemplate\": \"<b>LOWESS trendline</b><br><br>class=9<br>skill_name=Number sense, Computations and Basic Arithmetic<br>skill_name=Number sense, Computations and Basic Arithmetic<br>year=%{x}<br>skill_delta=%{y} <b>(trend)</b><extra></extra>\", \"legendgroup\": \"skill_name=Number sense, Computations and Basic Arithmetic\", \"marker\": {\"color\": \"#EF553B\", \"symbol\": \"circle\"}, \"mode\": \"lines\", \"name\": \"skill_name=Number sense, Computations and Basic Arithmetic\", \"showlegend\": false, \"type\": \"scatter\", \"uid\": \"edec918d-c277-4dbc-9437-977aa7608420\", \"x\": [2007.0, 2008.0, 2009.0, 2014.0, 2016.0, 2018.0], \"xaxis\": \"x2\", \"y\": [15.991272847823355, 8.812934078414001, 1.5952939124907015, 4.310000000000108, 3.2550000000000026, 2.200000000000029], \"yaxis\": \"y7\"}, {\"hovertemplate\": \"class=9<br>skill_name=Problem Solving, Advanced Problems<br>skill_name=Problem Solving, Advanced Problems<br>year=%{x}<br>skill_delta=%{y}<br>studentCount=%{marker.size}<extra></extra>\", \"legendgroup\": \"skill_name=Problem Solving, Advanced Problems\", \"marker\": {\"color\": \"#00cc96\", \"size\": [99, 10, 40, 51, 73, 73], \"sizemode\": \"area\", \"sizeref\": 1.14, \"symbol\": \"circle\"}, \"mode\": \"markers\", \"name\": \"skill_name=Problem Solving, Advanced Problems\", \"showlegend\": false, \"type\": \"scatter\", \"uid\": \"bb4d97f3-3719-4798-af1f-c883ac4ad0a4\", \"x\": [\"2018\", \"2007\", \"2008\", \"2009\", \"2014\", \"2016\"], \"xaxis\": \"x3\", \"y\": [12.560000000000002, 7.460000000000001, 10.810000000000002, 10.940000000000005, -3.490000000000002, -0.8000000000000007], \"yaxis\": \"y7\"}, {\"hovertemplate\": \"<b>LOWESS trendline</b><br><br>class=9<br>skill_name=Problem Solving, Advanced Problems<br>skill_name=Problem Solving, Advanced Problems<br>year=%{x}<br>skill_delta=%{y} <b>(trend)</b><extra></extra>\", \"legendgroup\": \"skill_name=Problem Solving, Advanced Problems\", \"marker\": {\"color\": \"#00cc96\", \"symbol\": \"circle\"}, \"mode\": \"lines\", \"name\": \"skill_name=Problem Solving, Advanced Problems\", \"showlegend\": false, \"type\": \"scatter\", \"uid\": \"58634907-1405-4001-8f95-84b8964e1ee1\", \"x\": [2007.0, 2008.0, 2009.0, 2014.0, 2016.0, 2018.0], \"xaxis\": \"x3\", \"y\": [7.90106241881639, 9.651988704817914, 11.366077153113034, -3.4900000000002898, 4.535, 12.560000000000205], \"yaxis\": \"y7\"}, {\"hovertemplate\": \"class=9<br>skill_name=Word and Application Problems<br>skill_name=Word and Application Problems<br>year=%{x}<br>skill_delta=%{y}<br>studentCount=%{marker.size}<extra></extra>\", \"legendgroup\": \"skill_name=Word and Application Problems\", \"marker\": {\"color\": \"#ab63fa\", \"size\": [99, 10, 40, 51, 73, 73], \"sizemode\": \"area\", \"sizeref\": 1.14, \"symbol\": \"circle\"}, \"mode\": \"markers\", \"name\": \"skill_name=Word and Application Problems\", \"showlegend\": false, \"type\": \"scatter\", \"uid\": \"1f2fd5cf-bf25-4d7b-80ea-659e42c00b29\", \"x\": [\"2018\", \"2007\", \"2008\", \"2009\", \"2014\", \"2016\"], \"xaxis\": \"x4\", \"y\": [7.100000000000005, 15.68, 9.719999999999999, 5.760000000000005, 3.549999999999997, 3.8699999999999974], \"yaxis\": \"y7\"}, {\"hovertemplate\": \"<b>LOWESS trendline</b><br><br>class=9<br>skill_name=Word and Application Problems<br>skill_name=Word and Application Problems<br>year=%{x}<br>skill_delta=%{y} <b>(trend)</b><extra></extra>\", \"legendgroup\": \"skill_name=Word and Application Problems\", \"marker\": {\"color\": \"#ab63fa\", \"symbol\": \"circle\"}, \"mode\": \"lines\", \"name\": \"skill_name=Word and Application Problems\", \"showlegend\": false, \"type\": \"scatter\", \"uid\": \"d5bf9210-4cf2-4528-89de-5f35d52202ec\", \"x\": [2007.0, 2008.0, 2009.0, 2014.0, 2016.0, 2018.0], \"xaxis\": \"x4\", \"y\": [15.41189779123567, 10.445215494678639, 5.500804309553455, 3.42330029217851, 5.075557927998898, 6.871555761466248], \"yaxis\": \"y7\"}, {\"hovertemplate\": \"class=10<br>skill_name=Intermediate Concepts, Geometry and Algebra<br>skill_name=Intermediate Concepts, Geometry and Algebra<br>year=%{x}<br>skill_delta=%{y}<br>studentCount=%{marker.size}<extra></extra>\", \"legendgroup\": \"skill_name=Intermediate Concepts, Geometry and Algebra\", \"marker\": {\"color\": \"#636efa\", \"size\": [73, 67], \"sizemode\": \"area\", \"sizeref\": 1.14, \"symbol\": \"circle\"}, \"mode\": \"markers\", \"name\": \"skill_name=Intermediate Concepts, Geometry and Algebra\", \"showlegend\": false, \"type\": \"scatter\", \"uid\": \"1efbe051-2803-4069-a674-6011288ea1b6\", \"x\": [\"2014\", \"2016\"], \"xaxis\": \"x\", \"y\": [-1.5399999999999991, 9.240000000000002], \"yaxis\": \"y8\"}, {\"hovertemplate\": \"<b>LOWESS trendline</b><br><br>class=10<br>skill_name=Intermediate Concepts, Geometry and Algebra<br>skill_name=Intermediate Concepts, Geometry and Algebra<br>year=%{x}<br>skill_delta=%{y} <b>(trend)</b><extra></extra>\", \"legendgroup\": \"skill_name=Intermediate Concepts, Geometry and Algebra\", \"marker\": {\"color\": \"#636efa\", \"symbol\": \"circle\"}, \"mode\": \"lines\", \"name\": \"skill_name=Intermediate Concepts, Geometry and Algebra\", \"showlegend\": false, \"type\": \"scatter\", \"uid\": \"5a102fc8-53f6-48cc-9611-0449ea696eaa\", \"x\": [2014.0, 2016.0], \"xaxis\": \"x\", \"y\": [-1.5399999999999991, 9.240000000000002], \"yaxis\": \"y8\"}, {\"hovertemplate\": \"class=10<br>skill_name=Number sense, Computations and Basic Arithmetic<br>skill_name=Number sense, Computations and Basic Arithmetic<br>year=%{x}<br>skill_delta=%{y}<br>studentCount=%{marker.size}<extra></extra>\", \"legendgroup\": \"skill_name=Number sense, Computations and Basic Arithmetic\", \"marker\": {\"color\": \"#EF553B\", \"size\": [73, 67], \"sizemode\": \"area\", \"sizeref\": 1.14, \"symbol\": \"circle\"}, \"mode\": \"markers\", \"name\": \"skill_name=Number sense, Computations and Basic Arithmetic\", \"showlegend\": false, \"type\": \"scatter\", \"uid\": \"20f5ff95-5af0-4c3d-be93-35714ce248b3\", \"x\": [\"2014\", \"2016\"], \"xaxis\": \"x2\", \"y\": [0.10999999999999943, 0.10000000000000142], \"yaxis\": \"y8\"}, {\"hovertemplate\": \"<b>LOWESS trendline</b><br><br>class=10<br>skill_name=Number sense, Computations and Basic Arithmetic<br>skill_name=Number sense, Computations and Basic Arithmetic<br>year=%{x}<br>skill_delta=%{y} <b>(trend)</b><extra></extra>\", \"legendgroup\": \"skill_name=Number sense, Computations and Basic Arithmetic\", \"marker\": {\"color\": \"#EF553B\", \"symbol\": \"circle\"}, \"mode\": \"lines\", \"name\": \"skill_name=Number sense, Computations and Basic Arithmetic\", \"showlegend\": false, \"type\": \"scatter\", \"uid\": \"26ae9bec-6f57-46a1-8638-8bac88f4a922\", \"x\": [2014.0, 2016.0], \"xaxis\": \"x2\", \"y\": [0.10999999999999943, 0.10000000000000142], \"yaxis\": \"y8\"}, {\"hovertemplate\": \"class=10<br>skill_name=Problem Solving, Advanced Problems<br>skill_name=Problem Solving, Advanced Problems<br>year=%{x}<br>skill_delta=%{y}<br>studentCount=%{marker.size}<extra></extra>\", \"legendgroup\": \"skill_name=Problem Solving, Advanced Problems\", \"marker\": {\"color\": \"#00cc96\", \"size\": [73, 67], \"sizemode\": \"area\", \"sizeref\": 1.14, \"symbol\": \"circle\"}, \"mode\": \"markers\", \"name\": \"skill_name=Problem Solving, Advanced Problems\", \"showlegend\": false, \"type\": \"scatter\", \"uid\": \"7a960cf5-d73c-43d7-8474-42bbbbd49c8f\", \"x\": [\"2014\", \"2016\"], \"xaxis\": \"x3\", \"y\": [-6.18, -1.9200000000000017], \"yaxis\": \"y8\"}, {\"hovertemplate\": \"<b>LOWESS trendline</b><br><br>class=10<br>skill_name=Problem Solving, Advanced Problems<br>skill_name=Problem Solving, Advanced Problems<br>year=%{x}<br>skill_delta=%{y} <b>(trend)</b><extra></extra>\", \"legendgroup\": \"skill_name=Problem Solving, Advanced Problems\", \"marker\": {\"color\": \"#00cc96\", \"symbol\": \"circle\"}, \"mode\": \"lines\", \"name\": \"skill_name=Problem Solving, Advanced Problems\", \"showlegend\": false, \"type\": \"scatter\", \"uid\": \"4979ddcb-aa8d-462f-8806-edb4259da3ea\", \"x\": [2014.0, 2016.0], \"xaxis\": \"x3\", \"y\": [-6.18, -1.9200000000000017], \"yaxis\": \"y8\"}, {\"hovertemplate\": \"class=10<br>skill_name=Word and Application Problems<br>skill_name=Word and Application Problems<br>year=%{x}<br>skill_delta=%{y}<br>studentCount=%{marker.size}<extra></extra>\", \"legendgroup\": \"skill_name=Word and Application Problems\", \"marker\": {\"color\": \"#ab63fa\", \"size\": [73, 67], \"sizemode\": \"area\", \"sizeref\": 1.14, \"symbol\": \"circle\"}, \"mode\": \"markers\", \"name\": \"skill_name=Word and Application Problems\", \"showlegend\": false, \"type\": \"scatter\", \"uid\": \"0091d863-bb6b-4e56-8d50-077dcc522d5d\", \"x\": [\"2014\", \"2016\"], \"xaxis\": \"x4\", \"y\": [4.669999999999995, 7.229999999999997], \"yaxis\": \"y8\"}, {\"hovertemplate\": \"<b>LOWESS trendline</b><br><br>class=10<br>skill_name=Word and Application Problems<br>skill_name=Word and Application Problems<br>year=%{x}<br>skill_delta=%{y} <b>(trend)</b><extra></extra>\", \"legendgroup\": \"skill_name=Word and Application Problems\", \"marker\": {\"color\": \"#ab63fa\", \"symbol\": \"circle\"}, \"mode\": \"lines\", \"name\": \"skill_name=Word and Application Problems\", \"showlegend\": false, \"type\": \"scatter\", \"uid\": \"9a6fae0c-d129-4b59-8cb3-3b739fcc9b6b\", \"x\": [2014.0, 2016.0], \"xaxis\": \"x4\", \"y\": [4.669999999999995, 7.229999999999997], \"yaxis\": \"y8\"}],\n",
       "                        {\"annotations\": [{\"showarrow\": false, \"text\": \"skill_name=Intermediate Concepts, Geometry and Algebra\", \"textangle\": 0, \"x\": 0.1153846153846154, \"xanchor\": \"center\", \"xref\": \"paper\", \"y\": 1.02, \"yanchor\": \"middle\", \"yref\": \"paper\"}, {\"showarrow\": false, \"text\": \"skill_name=Number sense, Computations and Basic Arithmetic\", \"textangle\": 0, \"x\": 0.3717948717948718, \"xanchor\": \"center\", \"xref\": \"paper\", \"y\": 1.02, \"yanchor\": \"middle\", \"yref\": \"paper\"}, {\"showarrow\": false, \"text\": \"skill_name=Problem Solving, Advanced Problems\", \"textangle\": 0, \"x\": 0.6282051282051283, \"xanchor\": \"center\", \"xref\": \"paper\", \"y\": 1.02, \"yanchor\": \"middle\", \"yref\": \"paper\"}, {\"showarrow\": false, \"text\": \"skill_name=Word and Application Problems\", \"textangle\": 0, \"x\": 0.8846153846153848, \"xanchor\": \"center\", \"xref\": \"paper\", \"y\": 1.02, \"yanchor\": \"middle\", \"yref\": \"paper\"}, {\"showarrow\": false, \"text\": \"class=3\", \"textangle\": 90, \"x\": 1.01, \"xanchor\": \"center\", \"xref\": \"paper\", \"y\": 0.9430379746835442, \"yanchor\": \"middle\", \"yref\": \"paper\"}, {\"showarrow\": false, \"text\": \"class=4\", \"textangle\": 90, \"x\": 1.01, \"xanchor\": \"center\", \"xref\": \"paper\", \"y\": 0.8164556962025316, \"yanchor\": \"middle\", \"yref\": \"paper\"}, {\"showarrow\": false, \"text\": \"class=5\", \"textangle\": 90, \"x\": 1.01, \"xanchor\": \"center\", \"xref\": \"paper\", \"y\": 0.6898734177215189, \"yanchor\": \"middle\", \"yref\": \"paper\"}, {\"showarrow\": false, \"text\": \"class=6\", \"textangle\": 90, \"x\": 1.01, \"xanchor\": \"center\", \"xref\": \"paper\", \"y\": 0.5632911392405062, \"yanchor\": \"middle\", \"yref\": \"paper\"}, {\"showarrow\": false, \"text\": \"class=7\", \"textangle\": 90, \"x\": 1.01, \"xanchor\": \"center\", \"xref\": \"paper\", \"y\": 0.4367088607594936, \"yanchor\": \"middle\", \"yref\": \"paper\"}, {\"showarrow\": false, \"text\": \"class=8\", \"textangle\": 90, \"x\": 1.01, \"xanchor\": \"center\", \"xref\": \"paper\", \"y\": 0.310126582278481, \"yanchor\": \"middle\", \"yref\": \"paper\"}, {\"showarrow\": false, \"text\": \"class=9\", \"textangle\": 90, \"x\": 1.01, \"xanchor\": \"center\", \"xref\": \"paper\", \"y\": 0.18354430379746833, \"yanchor\": \"middle\", \"yref\": \"paper\"}, {\"showarrow\": false, \"text\": \"class=10\", \"textangle\": 90, \"x\": 1.01, \"xanchor\": \"center\", \"xref\": \"paper\", \"y\": 0.05696202531645569, \"yanchor\": \"middle\", \"yref\": \"paper\"}], \"grid\": {\"xaxes\": [\"x\", \"x2\", \"x3\", \"x4\"], \"xgap\": 0.1, \"xside\": \"bottom\", \"yaxes\": [\"y\", \"y2\", \"y3\", \"y4\", \"y5\", \"y6\", \"y7\", \"y8\"], \"ygap\": 0.1, \"yside\": \"left\"}, \"height\": 1500, \"legend\": {\"tracegroupgap\": 0}, \"template\": {\"data\": {\"bar\": [{\"marker\": {\"line\": {\"color\": \"#E5ECF6\", \"width\": 0.5}}, \"type\": \"bar\"}], \"barpolar\": [{\"marker\": {\"line\": {\"color\": \"#E5ECF6\", \"width\": 0.5}}, \"type\": \"barpolar\"}], \"carpet\": [{\"aaxis\": {\"endlinecolor\": \"#2a3f5f\", \"gridcolor\": \"white\", \"linecolor\": \"white\", \"minorgridcolor\": \"white\", \"startlinecolor\": \"#2a3f5f\"}, \"baxis\": {\"endlinecolor\": \"#2a3f5f\", \"gridcolor\": \"white\", \"linecolor\": \"white\", \"minorgridcolor\": \"white\", \"startlinecolor\": \"#2a3f5f\"}, \"type\": \"carpet\"}], \"choropleth\": [{\"colorbar\": {\"outlinewidth\": 0, \"ticks\": \"\"}, \"type\": \"choropleth\"}], \"contour\": [{\"autocolorscale\": true, \"colorbar\": {\"outlinewidth\": 0, \"ticks\": \"\"}, \"type\": \"contour\"}], \"contourcarpet\": [{\"colorbar\": {\"outlinewidth\": 0, \"ticks\": \"\"}, \"type\": \"contourcarpet\"}], \"heatmap\": [{\"autocolorscale\": true, \"colorbar\": {\"outlinewidth\": 0, \"ticks\": \"\"}, \"type\": \"heatmap\"}], \"heatmapgl\": [{\"colorbar\": {\"outlinewidth\": 0, \"ticks\": \"\"}, \"type\": \"heatmapgl\"}], \"histogram\": [{\"marker\": {\"colorbar\": {\"outlinewidth\": 0, \"ticks\": \"\"}}, \"type\": \"histogram\"}], \"histogram2d\": [{\"autocolorscale\": true, \"colorbar\": {\"outlinewidth\": 0, \"ticks\": \"\"}, \"type\": \"histogram2d\"}], \"histogram2dcontour\": [{\"autocolorscale\": true, \"colorbar\": {\"outlinewidth\": 0, \"ticks\": \"\"}, \"type\": \"histogram2dcontour\"}], \"mesh3d\": [{\"colorbar\": {\"outlinewidth\": 0, \"ticks\": \"\"}, \"type\": \"mesh3d\"}], \"parcoords\": [{\"line\": {\"colorbar\": {\"outlinewidth\": 0, \"ticks\": \"\"}}, \"type\": \"parcoords\"}], \"scatter\": [{\"marker\": {\"colorbar\": {\"outlinewidth\": 0, \"ticks\": \"\"}}, \"type\": \"scatter\"}], \"scatter3d\": [{\"marker\": {\"colorbar\": {\"outlinewidth\": 0, \"ticks\": \"\"}}, \"type\": \"scatter3d\"}], \"scattercarpet\": [{\"marker\": {\"colorbar\": {\"outlinewidth\": 0, \"ticks\": \"\"}}, \"type\": \"scattercarpet\"}], \"scattergeo\": [{\"marker\": {\"colorbar\": {\"outlinewidth\": 0, \"ticks\": \"\"}}, \"type\": \"scattergeo\"}], \"scattergl\": [{\"marker\": {\"colorbar\": {\"outlinewidth\": 0, \"ticks\": \"\"}}, \"type\": \"scattergl\"}], \"scattermapbox\": [{\"marker\": {\"colorbar\": {\"outlinewidth\": 0, \"ticks\": \"\"}}, \"type\": \"scattermapbox\"}], \"scatterpolar\": [{\"marker\": {\"colorbar\": {\"outlinewidth\": 0, \"ticks\": \"\"}}, \"type\": \"scatterpolar\"}], \"scatterpolargl\": [{\"marker\": {\"colorbar\": {\"outlinewidth\": 0, \"ticks\": \"\"}}, \"type\": \"scatterpolargl\"}], \"scatterternary\": [{\"marker\": {\"colorbar\": {\"outlinewidth\": 0, \"ticks\": \"\"}}, \"type\": \"scatterternary\"}], \"surface\": [{\"colorbar\": {\"outlinewidth\": 0, \"ticks\": \"\"}, \"type\": \"surface\"}], \"table\": [{\"cells\": {\"fill\": {\"color\": \"#EBF0F8\"}, \"line\": {\"color\": \"white\"}}, \"header\": {\"fill\": {\"color\": \"#C8D4E3\"}, \"line\": {\"color\": \"white\"}}, \"type\": \"table\"}]}, \"layout\": {\"annotationdefaults\": {\"arrowcolor\": \"#506784\", \"arrowhead\": 0, \"arrowwidth\": 1}, \"colorscale\": {\"diverging\": [[0, \"#8e0152\"], [0.1, \"#c51b7d\"], [0.2, \"#de77ae\"], [0.3, \"#f1b6da\"], [0.4, \"#fde0ef\"], [0.5, \"#f7f7f7\"], [0.6, \"#e6f5d0\"], [0.7, \"#b8e186\"], [0.8, \"#7fbc41\"], [0.9, \"#4d9221\"], [1, \"#276419\"]], \"sequential\": [[0.0, \"#0508b8\"], [0.0893854748603352, \"#1910d8\"], [0.1787709497206704, \"#3c19f0\"], [0.2681564245810056, \"#6b1cfb\"], [0.3575418994413408, \"#981cfd\"], [0.44692737430167595, \"#bf1cfd\"], [0.5363128491620112, \"#dd2bfd\"], [0.6256983240223464, \"#f246fe\"], [0.7150837988826816, \"#fc67fd\"], [0.8044692737430168, \"#fe88fc\"], [0.8938547486033519, \"#fea5fd\"], [0.9832402234636871, \"#febefe\"], [1.0, \"#fec3fe\"]], \"sequentialminus\": [[0.0, \"#0508b8\"], [0.0893854748603352, \"#1910d8\"], [0.1787709497206704, \"#3c19f0\"], [0.2681564245810056, \"#6b1cfb\"], [0.3575418994413408, \"#981cfd\"], [0.44692737430167595, \"#bf1cfd\"], [0.5363128491620112, \"#dd2bfd\"], [0.6256983240223464, \"#f246fe\"], [0.7150837988826816, \"#fc67fd\"], [0.8044692737430168, \"#fe88fc\"], [0.8938547486033519, \"#fea5fd\"], [0.9832402234636871, \"#febefe\"], [1.0, \"#fec3fe\"]]}, \"colorway\": [\"#636efa\", \"#EF553B\", \"#00cc96\", \"#ab63fa\", \"#19d3f3\", \"#e763fa\", \"#FECB52\", \"#FFA15A\", \"#FF6692\", \"#B6E880\"], \"font\": {\"color\": \"#2a3f5f\"}, \"geo\": {\"bgcolor\": \"white\", \"lakecolor\": \"white\", \"landcolor\": \"#E5ECF6\", \"showlakes\": true, \"showland\": true, \"subunitcolor\": \"white\"}, \"hoverlabel\": {\"align\": \"left\"}, \"hovermode\": \"closest\", \"legend\": {\"itemsizing\": \"constant\"}, \"mapbox\": {\"style\": \"light\"}, \"paper_bgcolor\": \"white\", \"plot_bgcolor\": \"#E5ECF6\", \"polar\": {\"angularaxis\": {\"gridcolor\": \"white\", \"linecolor\": \"white\", \"ticks\": \"\"}, \"bgcolor\": \"#E5ECF6\", \"radialaxis\": {\"gridcolor\": \"white\", \"linecolor\": \"white\", \"ticks\": \"\"}}, \"scene\": {\"xaxis\": {\"backgroundcolor\": \"#E5ECF6\", \"gridcolor\": \"white\", \"gridwidth\": 2, \"linecolor\": \"white\", \"showbackground\": true, \"ticks\": \"\", \"zerolinecolor\": \"white\"}, \"yaxis\": {\"backgroundcolor\": \"#E5ECF6\", \"gridcolor\": \"white\", \"gridwidth\": 2, \"linecolor\": \"white\", \"showbackground\": true, \"ticks\": \"\", \"zerolinecolor\": \"white\"}, \"zaxis\": {\"backgroundcolor\": \"#E5ECF6\", \"gridcolor\": \"white\", \"gridwidth\": 2, \"linecolor\": \"white\", \"showbackground\": true, \"ticks\": \"\", \"zerolinecolor\": \"white\"}}, \"shapedefaults\": {\"fillcolor\": \"#506784\", \"line\": {\"width\": 0}, \"opacity\": 0.4}, \"ternary\": {\"aaxis\": {\"gridcolor\": \"white\", \"linecolor\": \"white\", \"ticks\": \"\"}, \"baxis\": {\"gridcolor\": \"white\", \"linecolor\": \"white\", \"ticks\": \"\"}, \"bgcolor\": \"#E5ECF6\", \"caxis\": {\"gridcolor\": \"white\", \"linecolor\": \"white\", \"ticks\": \"\"}}, \"title\": {\"x\": 0.05}, \"xaxis\": {\"automargin\": true, \"gridcolor\": \"white\", \"linecolor\": \"white\", \"ticks\": \"\", \"zerolinecolor\": \"white\", \"zerolinewidth\": 2}, \"yaxis\": {\"automargin\": true, \"gridcolor\": \"white\", \"linecolor\": \"white\", \"ticks\": \"\", \"zerolinecolor\": \"white\", \"zerolinewidth\": 2}}}, \"title\": {\"text\": \"Core Skills in Maths (Sushila Birla Girls^ School-Kolkata-CBSE)\"}, \"width\": 2000, \"xaxis\": {\"title\": {\"text\": \"year\"}}, \"xaxis2\": {\"matches\": \"x\", \"title\": {\"text\": \"year\"}}, \"xaxis3\": {\"matches\": \"x\", \"title\": {\"text\": \"year\"}}, \"xaxis4\": {\"matches\": \"x\", \"title\": {\"text\": \"year\"}}, \"yaxis\": {\"title\": {\"text\": \"skill_delta\"}}, \"yaxis2\": {\"matches\": \"y\", \"title\": {\"text\": \"skill_delta\"}}, \"yaxis3\": {\"matches\": \"y\", \"title\": {\"text\": \"skill_delta\"}}, \"yaxis4\": {\"matches\": \"y\", \"title\": {\"text\": \"skill_delta\"}}, \"yaxis5\": {\"matches\": \"y\", \"title\": {\"text\": \"skill_delta\"}}, \"yaxis6\": {\"matches\": \"y\", \"title\": {\"text\": \"skill_delta\"}}, \"yaxis7\": {\"matches\": \"y\", \"title\": {\"text\": \"skill_delta\"}}, \"yaxis8\": {\"matches\": \"y\", \"title\": {\"text\": \"skill_delta\"}}},\n",
       "                        {\"showLink\": false, \"linkText\": \"Export to plot.ly\", \"plotlyServerURL\": \"https://plot.ly\"}\n",
       "                    )\n",
       "                };\n",
       "                });\n",
       "            </script>\n",
       "        </div>"
      ]
     },
     "metadata": {},
     "output_type": "display_data"
    }
   ],
   "source": [
    "sub = 'Maths'\n",
    "px.scatter(df_school[df_school['subject']==sub].drop_duplicates(['papercode','skill_name']), \n",
    "        x = 'year', \n",
    "        y = 'skill_delta', \n",
    "        color='skill_name',\n",
    "        facet_row= 'class', \n",
    "       facet_col= 'skill_name', \n",
    "           size = 'studentCount',\n",
    "           size_max= 10,\n",
    "           trendline=\"lowess\",\n",
    "        height=1500,\n",
    "        width=2000,\n",
    "        title = 'Core Skills in %s (%s-%s-%s)'%(sub,school_name, school_city, school_board) )"
   ]
  },
  {
   "cell_type": "code",
   "execution_count": 128,
   "metadata": {
    "code_folding": [
     1
    ]
   },
   "outputs": [
    {
     "data": {
      "application/vnd.plotly.v1+json": {
       "config": {
        "linkText": "Export to plot.ly",
        "plotlyServerURL": "https://plot.ly",
        "showLink": false
       },
       "data": [
        {
         "hovertemplate": "class=3<br>skill_name=Extended Reasoning<br>skill_name=Extended Reasoning<br>year=%{x}<br>skill_delta=%{y}<br>studentCount=%{marker.size}<extra></extra>",
         "legendgroup": "skill_name=Extended Reasoning",
         "marker": {
          "color": "#636efa",
          "size": [
           106,
           19,
           74,
           105,
           102
          ],
          "sizemode": "area",
          "sizeref": 1.1,
          "symbol": "circle"
         },
         "mode": "markers",
         "name": "skill_name=Extended Reasoning",
         "showlegend": true,
         "type": "scatter",
         "uid": "ae54b522-21fd-4f53-939b-bc049e6cddc5",
         "x": [
          "2018",
          "2007",
          "2008",
          "2014",
          "2016"
         ],
         "xaxis": "x",
         "y": [
          11.299999999999997,
          24.199999999999996,
          12.480000000000004,
          9.18,
          6.490000000000002
         ],
         "yaxis": "y"
        },
        {
         "hovertemplate": "<b>LOWESS trendline</b><br><br>class=3<br>skill_name=Extended Reasoning<br>skill_name=Extended Reasoning<br>year=%{x}<br>skill_delta=%{y} <b>(trend)</b><extra></extra>",
         "legendgroup": "skill_name=Extended Reasoning",
         "marker": {
          "color": "#636efa",
          "symbol": "circle"
         },
         "mode": "lines",
         "name": "skill_name=Extended Reasoning",
         "showlegend": false,
         "type": "scatter",
         "uid": "960f51eb-b687-49ef-af5f-2e5d4a62d4ac",
         "x": [
          2007,
          2008,
          2014,
          2016,
          2018
         ],
         "xaxis": "x",
         "y": [
          24.199999999999996,
          12.480000000000004,
          9.180000000001199,
          6.490000000000002,
          11.30000000000151
         ],
         "yaxis": "y"
        },
        {
         "hovertemplate": "class=3<br>skill_name=Grammar Usage<br>skill_name=Grammar Usage<br>year=%{x}<br>skill_delta=%{y}<br>studentCount=%{marker.size}<extra></extra>",
         "legendgroup": "skill_name=Grammar Usage",
         "marker": {
          "color": "#EF553B",
          "size": [
           106,
           19,
           74,
           105,
           102
          ],
          "sizemode": "area",
          "sizeref": 1.1,
          "symbol": "circle"
         },
         "mode": "markers",
         "name": "skill_name=Grammar Usage",
         "showlegend": true,
         "type": "scatter",
         "uid": "1cdf8786-dbf9-4b21-bf10-b48a402763db",
         "x": [
          "2018",
          "2007",
          "2008",
          "2014",
          "2016"
         ],
         "xaxis": "x2",
         "y": [
          12.920000000000002,
          20.77000000000001,
          12.5,
          11.350000000000009,
          12.900000000000006
         ],
         "yaxis": "y"
        },
        {
         "hovertemplate": "<b>LOWESS trendline</b><br><br>class=3<br>skill_name=Grammar Usage<br>skill_name=Grammar Usage<br>year=%{x}<br>skill_delta=%{y} <b>(trend)</b><extra></extra>",
         "legendgroup": "skill_name=Grammar Usage",
         "marker": {
          "color": "#EF553B",
          "symbol": "circle"
         },
         "mode": "lines",
         "name": "skill_name=Grammar Usage",
         "showlegend": false,
         "type": "scatter",
         "uid": "fe85cb09-de9b-469b-b5d4-55d5eb5238d1",
         "x": [
          2007,
          2008,
          2014,
          2016,
          2018
         ],
         "xaxis": "x2",
         "y": [
          20.77000000000882,
          12.500000000005544,
          11.350000000000009,
          12.900000000000006,
          12.920000000000002
         ],
         "yaxis": "y"
        },
        {
         "hovertemplate": "class=3<br>skill_name=Literal Comprehension<br>skill_name=Literal Comprehension<br>year=%{x}<br>skill_delta=%{y}<br>studentCount=%{marker.size}<extra></extra>",
         "legendgroup": "skill_name=Literal Comprehension",
         "marker": {
          "color": "#00cc96",
          "size": [
           106,
           19,
           74,
           105,
           102
          ],
          "sizemode": "area",
          "sizeref": 1.1,
          "symbol": "circle"
         },
         "mode": "markers",
         "name": "skill_name=Literal Comprehension",
         "showlegend": true,
         "type": "scatter",
         "uid": "836dc48c-4cef-4670-b175-d721ecd8de04",
         "x": [
          "2018",
          "2007",
          "2008",
          "2014",
          "2016"
         ],
         "xaxis": "x3",
         "y": [
          9.229999999999997,
          13.100000000000009,
          6.489999999999995,
          6.950000000000003,
          6.3799999999999955
         ],
         "yaxis": "y"
        },
        {
         "hovertemplate": "<b>LOWESS trendline</b><br><br>class=3<br>skill_name=Literal Comprehension<br>skill_name=Literal Comprehension<br>year=%{x}<br>skill_delta=%{y} <b>(trend)</b><extra></extra>",
         "legendgroup": "skill_name=Literal Comprehension",
         "marker": {
          "color": "#00cc96",
          "symbol": "circle"
         },
         "mode": "lines",
         "name": "skill_name=Literal Comprehension",
         "showlegend": false,
         "type": "scatter",
         "uid": "28e61eb4-9e8a-4cd4-94dd-4ae240309bc6",
         "x": [
          2007,
          2008,
          2014,
          2016,
          2018
         ],
         "xaxis": "x3",
         "y": [
          13.099999999998682,
          6.48999999999946,
          6.949999999999343,
          6.3799999999999955,
          9.229999999997863
         ],
         "yaxis": "y"
        },
        {
         "hovertemplate": "class=3<br>skill_name=Vocabulary in Context<br>skill_name=Vocabulary in Context<br>year=%{x}<br>skill_delta=%{y}<br>studentCount=%{marker.size}<extra></extra>",
         "legendgroup": "skill_name=Vocabulary in Context",
         "marker": {
          "color": "#ab63fa",
          "size": [
           106,
           19,
           74,
           105,
           102
          ],
          "sizemode": "area",
          "sizeref": 1.1,
          "symbol": "circle"
         },
         "mode": "markers",
         "name": "skill_name=Vocabulary in Context",
         "showlegend": true,
         "type": "scatter",
         "uid": "a69af5e6-2703-4e40-a38f-bfe28365a39d",
         "x": [
          "2018",
          "2007",
          "2008",
          "2014",
          "2016"
         ],
         "xaxis": "x4",
         "y": [
          10.25,
          23.35000000000001,
          13.610000000000007,
          11.120000000000005,
          3.8900000000000006
         ],
         "yaxis": "y"
        },
        {
         "hovertemplate": "<b>LOWESS trendline</b><br><br>class=3<br>skill_name=Vocabulary in Context<br>skill_name=Vocabulary in Context<br>year=%{x}<br>skill_delta=%{y} <b>(trend)</b><extra></extra>",
         "legendgroup": "skill_name=Vocabulary in Context",
         "marker": {
          "color": "#ab63fa",
          "symbol": "circle"
         },
         "mode": "lines",
         "name": "skill_name=Vocabulary in Context",
         "showlegend": false,
         "type": "scatter",
         "uid": "1ecfa4b5-03cd-4239-b196-7dce77b23a4d",
         "x": [
          2007,
          2008,
          2014,
          2016,
          2018
         ],
         "xaxis": "x4",
         "y": [
          23.35000000000001,
          13.610000000000007,
          11.120000000001555,
          3.8900000000000006,
          10.250000000001421
         ],
         "yaxis": "y"
        },
        {
         "hovertemplate": "class=4<br>skill_name=Extended Reasoning<br>skill_name=Extended Reasoning<br>year=%{x}<br>skill_delta=%{y}<br>studentCount=%{marker.size}<extra></extra>",
         "legendgroup": "skill_name=Extended Reasoning",
         "marker": {
          "color": "#636efa",
          "size": [
           108,
           15,
           73,
           104,
           108
          ],
          "sizemode": "area",
          "sizeref": 1.1,
          "symbol": "circle"
         },
         "mode": "markers",
         "name": "skill_name=Extended Reasoning",
         "showlegend": false,
         "type": "scatter",
         "uid": "1c234660-57f7-4c75-aec5-8ddaf2766d47",
         "x": [
          "2018",
          "2007",
          "2008",
          "2014",
          "2016"
         ],
         "xaxis": "x",
         "y": [
          7.530000000000001,
          8.010000000000005,
          7.740000000000002,
          9.870000000000005,
          10.420000000000002
         ],
         "yaxis": "y2"
        },
        {
         "hovertemplate": "<b>LOWESS trendline</b><br><br>class=4<br>skill_name=Extended Reasoning<br>skill_name=Extended Reasoning<br>year=%{x}<br>skill_delta=%{y} <b>(trend)</b><extra></extra>",
         "legendgroup": "skill_name=Extended Reasoning",
         "marker": {
          "color": "#636efa",
          "symbol": "circle"
         },
         "mode": "lines",
         "name": "skill_name=Extended Reasoning",
         "showlegend": false,
         "type": "scatter",
         "uid": "e3b2b3b5-514b-41d0-81df-2611abb54963",
         "x": [
          2007,
          2008,
          2014,
          2016,
          2018
         ],
         "xaxis": "x",
         "y": [
          8.009999999996888,
          7.739999999998436,
          9.870000000000822,
          10.420000000000002,
          7.530000000001029
         ],
         "yaxis": "y2"
        },
        {
         "hovertemplate": "class=4<br>skill_name=Grammar Usage<br>skill_name=Grammar Usage<br>year=%{x}<br>skill_delta=%{y}<br>studentCount=%{marker.size}<extra></extra>",
         "legendgroup": "skill_name=Grammar Usage",
         "marker": {
          "color": "#EF553B",
          "size": [
           108,
           15,
           73,
           104,
           108
          ],
          "sizemode": "area",
          "sizeref": 1.1,
          "symbol": "circle"
         },
         "mode": "markers",
         "name": "skill_name=Grammar Usage",
         "showlegend": false,
         "type": "scatter",
         "uid": "ad0a0363-0217-4843-8631-f90bfcff9bb7",
         "x": [
          "2018",
          "2007",
          "2008",
          "2014",
          "2016"
         ],
         "xaxis": "x2",
         "y": [
          12.14,
          0.10999999999999943,
          12.690000000000005,
          13.230000000000004,
          10.29
         ],
         "yaxis": "y2"
        },
        {
         "hovertemplate": "<b>LOWESS trendline</b><br><br>class=4<br>skill_name=Grammar Usage<br>skill_name=Grammar Usage<br>year=%{x}<br>skill_delta=%{y} <b>(trend)</b><extra></extra>",
         "legendgroup": "skill_name=Grammar Usage",
         "marker": {
          "color": "#EF553B",
          "symbol": "circle"
         },
         "mode": "lines",
         "name": "skill_name=Grammar Usage",
         "showlegend": false,
         "type": "scatter",
         "uid": "d6158ad1-d898-4a15-a096-c212c3c347d2",
         "x": [
          2007,
          2008,
          2014,
          2016,
          2018
         ],
         "xaxis": "x2",
         "y": [
          0.10999999999961373,
          12.690000000000444,
          13.23000000000115,
          10.29,
          12.139999999997924
         ],
         "yaxis": "y2"
        },
        {
         "hovertemplate": "class=4<br>skill_name=Literal Comprehension<br>skill_name=Literal Comprehension<br>year=%{x}<br>skill_delta=%{y}<br>studentCount=%{marker.size}<extra></extra>",
         "legendgroup": "skill_name=Literal Comprehension",
         "marker": {
          "color": "#00cc96",
          "size": [
           108,
           15,
           73,
           104,
           108
          ],
          "sizemode": "area",
          "sizeref": 1.1,
          "symbol": "circle"
         },
         "mode": "markers",
         "name": "skill_name=Literal Comprehension",
         "showlegend": false,
         "type": "scatter",
         "uid": "e3ae22a9-bd2c-487d-ac52-8c1f8e5020b0",
         "x": [
          "2018",
          "2007",
          "2008",
          "2014",
          "2016"
         ],
         "xaxis": "x3",
         "y": [
          15.980000000000004,
          6.93,
          10.639999999999993,
          7.159999999999997,
          8.549999999999997
         ],
         "yaxis": "y2"
        },
        {
         "hovertemplate": "<b>LOWESS trendline</b><br><br>class=4<br>skill_name=Literal Comprehension<br>skill_name=Literal Comprehension<br>year=%{x}<br>skill_delta=%{y} <b>(trend)</b><extra></extra>",
         "legendgroup": "skill_name=Literal Comprehension",
         "marker": {
          "color": "#00cc96",
          "symbol": "circle"
         },
         "mode": "lines",
         "name": "skill_name=Literal Comprehension",
         "showlegend": false,
         "type": "scatter",
         "uid": "fa1edfa7-d932-475e-8b79-c2ee6c992d96",
         "x": [
          2007,
          2008,
          2014,
          2016,
          2018
         ],
         "xaxis": "x3",
         "y": [
          6.930000000002927,
          10.640000000004747,
          7.159999999999997,
          8.549999999999997,
          15.980000000002159
         ],
         "yaxis": "y2"
        },
        {
         "hovertemplate": "class=4<br>skill_name=Vocabulary in Context<br>skill_name=Vocabulary in Context<br>year=%{x}<br>skill_delta=%{y}<br>studentCount=%{marker.size}<extra></extra>",
         "legendgroup": "skill_name=Vocabulary in Context",
         "marker": {
          "color": "#ab63fa",
          "size": [
           108,
           15,
           73,
           104,
           108
          ],
          "sizemode": "area",
          "sizeref": 1.1,
          "symbol": "circle"
         },
         "mode": "markers",
         "name": "skill_name=Vocabulary in Context",
         "showlegend": false,
         "type": "scatter",
         "uid": "08c63edf-841c-40fe-96a6-68799c66a82e",
         "x": [
          "2018",
          "2007",
          "2008",
          "2014",
          "2016"
         ],
         "xaxis": "x4",
         "y": [
          13.759999999999998,
          1.519999999999996,
          15.449999999999996,
          10.760000000000005,
          6.049999999999997
         ],
         "yaxis": "y2"
        },
        {
         "hovertemplate": "<b>LOWESS trendline</b><br><br>class=4<br>skill_name=Vocabulary in Context<br>skill_name=Vocabulary in Context<br>year=%{x}<br>skill_delta=%{y} <b>(trend)</b><extra></extra>",
         "legendgroup": "skill_name=Vocabulary in Context",
         "marker": {
          "color": "#ab63fa",
          "symbol": "circle"
         },
         "mode": "lines",
         "name": "skill_name=Vocabulary in Context",
         "showlegend": false,
         "type": "scatter",
         "uid": "10cbe4e1-7c16-4f18-bac4-73fc4aee9799",
         "x": [
          2007,
          2008,
          2014,
          2016,
          2018
         ],
         "xaxis": "x4",
         "y": [
          1.5199999999985525,
          15.449999999991153,
          10.76000000000097,
          6.049999999999997,
          13.76000000000183
         ],
         "yaxis": "y2"
        },
        {
         "hovertemplate": "class=5<br>skill_name=Extended Reasoning<br>skill_name=Extended Reasoning<br>year=%{x}<br>skill_delta=%{y}<br>studentCount=%{marker.size}<extra></extra>",
         "legendgroup": "skill_name=Extended Reasoning",
         "marker": {
          "color": "#636efa",
          "size": [
           109,
           16,
           73,
           108,
           103
          ],
          "sizemode": "area",
          "sizeref": 1.1,
          "symbol": "circle"
         },
         "mode": "markers",
         "name": "skill_name=Extended Reasoning",
         "showlegend": false,
         "type": "scatter",
         "uid": "de5a895d-eeaa-4792-89f6-813c13b2299b",
         "x": [
          "2018",
          "2007",
          "2008",
          "2014",
          "2016"
         ],
         "xaxis": "x",
         "y": [
          10.200000000000003,
          10.719999999999999,
          7.559999999999995,
          9.57,
          11.32
         ],
         "yaxis": "y3"
        },
        {
         "hovertemplate": "<b>LOWESS trendline</b><br><br>class=5<br>skill_name=Extended Reasoning<br>skill_name=Extended Reasoning<br>year=%{x}<br>skill_delta=%{y} <b>(trend)</b><extra></extra>",
         "legendgroup": "skill_name=Extended Reasoning",
         "marker": {
          "color": "#636efa",
          "symbol": "circle"
         },
         "mode": "lines",
         "name": "skill_name=Extended Reasoning",
         "showlegend": false,
         "type": "scatter",
         "uid": "185bff20-ca24-4d85-9e33-25c37c374515",
         "x": [
          2007,
          2008,
          2014,
          2016,
          2018
         ],
         "xaxis": "x",
         "y": [
          10.720000000004545,
          7.560000000003353,
          9.57,
          11.32,
          10.200000000000003
         ],
         "yaxis": "y3"
        },
        {
         "hovertemplate": "class=5<br>skill_name=Grammar Usage<br>skill_name=Grammar Usage<br>year=%{x}<br>skill_delta=%{y}<br>studentCount=%{marker.size}<extra></extra>",
         "legendgroup": "skill_name=Grammar Usage",
         "marker": {
          "color": "#EF553B",
          "size": [
           109,
           16,
           73,
           108,
           103
          ],
          "sizemode": "area",
          "sizeref": 1.1,
          "symbol": "circle"
         },
         "mode": "markers",
         "name": "skill_name=Grammar Usage",
         "showlegend": false,
         "type": "scatter",
         "uid": "38751198-fdbd-41e8-b357-cb311197b42a",
         "x": [
          "2018",
          "2007",
          "2008",
          "2014",
          "2016"
         ],
         "xaxis": "x2",
         "y": [
          -0.48999999999999844,
          18.919999999999995,
          9.800000000000004,
          14.710000000000008,
          12.729999999999997
         ],
         "yaxis": "y3"
        },
        {
         "hovertemplate": "<b>LOWESS trendline</b><br><br>class=5<br>skill_name=Grammar Usage<br>skill_name=Grammar Usage<br>year=%{x}<br>skill_delta=%{y} <b>(trend)</b><extra></extra>",
         "legendgroup": "skill_name=Grammar Usage",
         "marker": {
          "color": "#EF553B",
          "symbol": "circle"
         },
         "mode": "lines",
         "name": "skill_name=Grammar Usage",
         "showlegend": false,
         "type": "scatter",
         "uid": "3a85e224-08c1-47b3-86f5-eb75726d12e8",
         "x": [
          2007,
          2008,
          2014,
          2016,
          2018
         ],
         "xaxis": "x2",
         "y": [
          18.919999999999995,
          9.800000000000004,
          14.710000000005897,
          12.729999999999997,
          -0.48999999999993044
         ],
         "yaxis": "y3"
        },
        {
         "hovertemplate": "class=5<br>skill_name=Literal Comprehension<br>skill_name=Literal Comprehension<br>year=%{x}<br>skill_delta=%{y}<br>studentCount=%{marker.size}<extra></extra>",
         "legendgroup": "skill_name=Literal Comprehension",
         "marker": {
          "color": "#00cc96",
          "size": [
           109,
           16,
           73,
           108,
           103
          ],
          "sizemode": "area",
          "sizeref": 1.1,
          "symbol": "circle"
         },
         "mode": "markers",
         "name": "skill_name=Literal Comprehension",
         "showlegend": false,
         "type": "scatter",
         "uid": "58f38c59-872e-4e1b-9ee4-2463be81cfa8",
         "x": [
          "2018",
          "2007",
          "2008",
          "2014",
          "2016"
         ],
         "xaxis": "x3",
         "y": [
          12.460000000000008,
          11.560000000000002,
          4.229999999999997,
          12.58999999999999,
          8.030000000000001
         ],
         "yaxis": "y3"
        },
        {
         "hovertemplate": "<b>LOWESS trendline</b><br><br>class=5<br>skill_name=Literal Comprehension<br>skill_name=Literal Comprehension<br>year=%{x}<br>skill_delta=%{y} <b>(trend)</b><extra></extra>",
         "legendgroup": "skill_name=Literal Comprehension",
         "marker": {
          "color": "#00cc96",
          "symbol": "circle"
         },
         "mode": "lines",
         "name": "skill_name=Literal Comprehension",
         "showlegend": false,
         "type": "scatter",
         "uid": "275eb0ec-2fbf-4a52-83de-76182802d3dd",
         "x": [
          2007,
          2008,
          2014,
          2016,
          2018
         ],
         "xaxis": "x3",
         "y": [
          11.560000000000665,
          4.229999999999591,
          12.58999999999999,
          8.030000000000001,
          12.46000000000111
         ],
         "yaxis": "y3"
        },
        {
         "hovertemplate": "class=5<br>skill_name=Vocabulary in Context<br>skill_name=Vocabulary in Context<br>year=%{x}<br>skill_delta=%{y}<br>studentCount=%{marker.size}<extra></extra>",
         "legendgroup": "skill_name=Vocabulary in Context",
         "marker": {
          "color": "#ab63fa",
          "size": [
           109,
           16,
           73,
           108,
           103
          ],
          "sizemode": "area",
          "sizeref": 1.1,
          "symbol": "circle"
         },
         "mode": "markers",
         "name": "skill_name=Vocabulary in Context",
         "showlegend": false,
         "type": "scatter",
         "uid": "4e12632a-046f-4382-b2f8-1d29d8cce634",
         "x": [
          "2018",
          "2007",
          "2008",
          "2014",
          "2016"
         ],
         "xaxis": "x4",
         "y": [
          3.8999999999999986,
          33.05,
          11.069999999999993,
          12.310000000000002,
          8.009999999999998
         ],
         "yaxis": "y3"
        },
        {
         "hovertemplate": "<b>LOWESS trendline</b><br><br>class=5<br>skill_name=Vocabulary in Context<br>skill_name=Vocabulary in Context<br>year=%{x}<br>skill_delta=%{y} <b>(trend)</b><extra></extra>",
         "legendgroup": "skill_name=Vocabulary in Context",
         "marker": {
          "color": "#ab63fa",
          "symbol": "circle"
         },
         "mode": "lines",
         "name": "skill_name=Vocabulary in Context",
         "showlegend": false,
         "type": "scatter",
         "uid": "25e6ec4d-42f7-4c30-8b02-f73a35124a66",
         "x": [
          2007,
          2008,
          2014,
          2016,
          2018
         ],
         "xaxis": "x4",
         "y": [
          33.05,
          11.069999999999993,
          12.310000000001628,
          8.009999999999998,
          3.90000000000038
         ],
         "yaxis": "y3"
        },
        {
         "hovertemplate": "class=6<br>skill_name=Extended Reasoning<br>skill_name=Extended Reasoning<br>year=%{x}<br>skill_delta=%{y}<br>studentCount=%{marker.size}<extra></extra>",
         "legendgroup": "skill_name=Extended Reasoning",
         "marker": {
          "color": "#636efa",
          "size": [
           107,
           17,
           75,
           82,
           97
          ],
          "sizemode": "area",
          "sizeref": 1.1,
          "symbol": "circle"
         },
         "mode": "markers",
         "name": "skill_name=Extended Reasoning",
         "showlegend": false,
         "type": "scatter",
         "uid": "4c433462-d860-4c8d-9d30-648ee2f25dbe",
         "x": [
          "2018",
          "2007",
          "2008",
          "2014",
          "2016"
         ],
         "xaxis": "x",
         "y": [
          8.43,
          26.009999999999998,
          9.04,
          10.420000000000002,
          12.590000000000003
         ],
         "yaxis": "y4"
        },
        {
         "hovertemplate": "<b>LOWESS trendline</b><br><br>class=6<br>skill_name=Extended Reasoning<br>skill_name=Extended Reasoning<br>year=%{x}<br>skill_delta=%{y} <b>(trend)</b><extra></extra>",
         "legendgroup": "skill_name=Extended Reasoning",
         "marker": {
          "color": "#636efa",
          "symbol": "circle"
         },
         "mode": "lines",
         "name": "skill_name=Extended Reasoning",
         "showlegend": false,
         "type": "scatter",
         "uid": "d74e198e-fa37-4dc0-8dc0-d6893bfcd8df",
         "x": [
          2007,
          2008,
          2014,
          2016,
          2018
         ],
         "xaxis": "x",
         "y": [
          26.009999999999998,
          9.04,
          10.420000000001234,
          12.590000000000003,
          8.43000000000094
         ],
         "yaxis": "y4"
        },
        {
         "hovertemplate": "class=6<br>skill_name=Grammar Usage<br>skill_name=Grammar Usage<br>year=%{x}<br>skill_delta=%{y}<br>studentCount=%{marker.size}<extra></extra>",
         "legendgroup": "skill_name=Grammar Usage",
         "marker": {
          "color": "#EF553B",
          "size": [
           107,
           17,
           75,
           82,
           97
          ],
          "sizemode": "area",
          "sizeref": 1.1,
          "symbol": "circle"
         },
         "mode": "markers",
         "name": "skill_name=Grammar Usage",
         "showlegend": false,
         "type": "scatter",
         "uid": "284533c2-d131-4908-b740-08e1964e9d64",
         "x": [
          "2018",
          "2007",
          "2008",
          "2014",
          "2016"
         ],
         "xaxis": "x2",
         "y": [
          2.049999999999999,
          32.790000000000006,
          20,
          13.589999999999996,
          12.319999999999993
         ],
         "yaxis": "y4"
        },
        {
         "hovertemplate": "<b>LOWESS trendline</b><br><br>class=6<br>skill_name=Grammar Usage<br>skill_name=Grammar Usage<br>year=%{x}<br>skill_delta=%{y} <b>(trend)</b><extra></extra>",
         "legendgroup": "skill_name=Grammar Usage",
         "marker": {
          "color": "#EF553B",
          "symbol": "circle"
         },
         "mode": "lines",
         "name": "skill_name=Grammar Usage",
         "showlegend": false,
         "type": "scatter",
         "uid": "79782f26-bb2d-4aa7-ad9f-7661038584ba",
         "x": [
          2007,
          2008,
          2014,
          2016,
          2018
         ],
         "xaxis": "x2",
         "y": [
          32.790000000000006,
          20,
          13.590000000001705,
          12.319999999999993,
          2.0500000000000016
         ],
         "yaxis": "y4"
        },
        {
         "hovertemplate": "class=6<br>skill_name=Literal Comprehension<br>skill_name=Literal Comprehension<br>year=%{x}<br>skill_delta=%{y}<br>studentCount=%{marker.size}<extra></extra>",
         "legendgroup": "skill_name=Literal Comprehension",
         "marker": {
          "color": "#00cc96",
          "size": [
           107,
           17,
           75,
           82,
           97
          ],
          "sizemode": "area",
          "sizeref": 1.1,
          "symbol": "circle"
         },
         "mode": "markers",
         "name": "skill_name=Literal Comprehension",
         "showlegend": false,
         "type": "scatter",
         "uid": "9d953e41-5737-46f1-b80a-d92328403e12",
         "x": [
          "2018",
          "2007",
          "2008",
          "2014",
          "2016"
         ],
         "xaxis": "x3",
         "y": [
          5.859999999999999,
          27.340000000000003,
          13.11,
          11.930000000000007,
          6.950000000000003
         ],
         "yaxis": "y4"
        },
        {
         "hovertemplate": "<b>LOWESS trendline</b><br><br>class=6<br>skill_name=Literal Comprehension<br>skill_name=Literal Comprehension<br>year=%{x}<br>skill_delta=%{y} <b>(trend)</b><extra></extra>",
         "legendgroup": "skill_name=Literal Comprehension",
         "marker": {
          "color": "#00cc96",
          "symbol": "circle"
         },
         "mode": "lines",
         "name": "skill_name=Literal Comprehension",
         "showlegend": false,
         "type": "scatter",
         "uid": "05c9a042-bcad-4ec6-bc34-f0d56b1b5c72",
         "x": [
          2007,
          2008,
          2014,
          2016,
          2018
         ],
         "xaxis": "x3",
         "y": [
          27.340000000000003,
          13.11,
          11.930000000001602,
          6.950000000000003,
          5.860000000000697
         ],
         "yaxis": "y4"
        },
        {
         "hovertemplate": "class=6<br>skill_name=Vocabulary in Context<br>skill_name=Vocabulary in Context<br>year=%{x}<br>skill_delta=%{y}<br>studentCount=%{marker.size}<extra></extra>",
         "legendgroup": "skill_name=Vocabulary in Context",
         "marker": {
          "color": "#ab63fa",
          "size": [
           107,
           17,
           75,
           82,
           97
          ],
          "sizemode": "area",
          "sizeref": 1.1,
          "symbol": "circle"
         },
         "mode": "markers",
         "name": "skill_name=Vocabulary in Context",
         "showlegend": false,
         "type": "scatter",
         "uid": "7800764b-0cb1-45a7-a89e-8cae0848abb4",
         "x": [
          "2018",
          "2007",
          "2008",
          "2014",
          "2016"
         ],
         "xaxis": "x4",
         "y": [
          16.089999999999996,
          27.39,
          17.68,
          14.420000000000002,
          8.14
         ],
         "yaxis": "y4"
        },
        {
         "hovertemplate": "<b>LOWESS trendline</b><br><br>class=6<br>skill_name=Vocabulary in Context<br>skill_name=Vocabulary in Context<br>year=%{x}<br>skill_delta=%{y} <b>(trend)</b><extra></extra>",
         "legendgroup": "skill_name=Vocabulary in Context",
         "marker": {
          "color": "#ab63fa",
          "symbol": "circle"
         },
         "mode": "lines",
         "name": "skill_name=Vocabulary in Context",
         "showlegend": false,
         "type": "scatter",
         "uid": "e54a40b1-f80a-4fff-8f3d-f864d40d49db",
         "x": [
          2007,
          2008,
          2014,
          2016,
          2018
         ],
         "xaxis": "x4",
         "y": [
          27.39000000001162,
          17.680000000007844,
          14.420000000000002,
          8.14,
          16.089999999999996
         ],
         "yaxis": "y4"
        },
        {
         "hovertemplate": "class=7<br>skill_name=Extended Reasoning<br>skill_name=Extended Reasoning<br>year=%{x}<br>skill_delta=%{y}<br>studentCount=%{marker.size}<extra></extra>",
         "legendgroup": "skill_name=Extended Reasoning",
         "marker": {
          "color": "#636efa",
          "size": [
           110,
           4,
           46,
           78,
           96
          ],
          "sizemode": "area",
          "sizeref": 1.1,
          "symbol": "circle"
         },
         "mode": "markers",
         "name": "skill_name=Extended Reasoning",
         "showlegend": false,
         "type": "scatter",
         "uid": "a1202bc4-7ab8-44b0-87b3-24b6ee2b3b4c",
         "x": [
          "2018",
          "2007",
          "2008",
          "2014",
          "2016"
         ],
         "xaxis": "x",
         "y": [
          11.149999999999999,
          9.270000000000003,
          18.009999999999998,
          12.170000000000002,
          17.14
         ],
         "yaxis": "y5"
        },
        {
         "hovertemplate": "<b>LOWESS trendline</b><br><br>class=7<br>skill_name=Extended Reasoning<br>skill_name=Extended Reasoning<br>year=%{x}<br>skill_delta=%{y} <b>(trend)</b><extra></extra>",
         "legendgroup": "skill_name=Extended Reasoning",
         "marker": {
          "color": "#636efa",
          "symbol": "circle"
         },
         "mode": "lines",
         "name": "skill_name=Extended Reasoning",
         "showlegend": false,
         "type": "scatter",
         "uid": "1c68a7c7-57ca-4592-9d08-478cb190ea98",
         "x": [
          2007,
          2008,
          2014,
          2016,
          2018
         ],
         "xaxis": "x",
         "y": [
          9.270000000003913,
          18.010000000008052,
          12.170000000000002,
          17.14,
          11.149999999999999
         ],
         "yaxis": "y5"
        },
        {
         "hovertemplate": "class=7<br>skill_name=Grammar Usage<br>skill_name=Grammar Usage<br>year=%{x}<br>skill_delta=%{y}<br>studentCount=%{marker.size}<extra></extra>",
         "legendgroup": "skill_name=Grammar Usage",
         "marker": {
          "color": "#EF553B",
          "size": [
           110,
           4,
           46,
           78,
           96
          ],
          "sizemode": "area",
          "sizeref": 1.1,
          "symbol": "circle"
         },
         "mode": "markers",
         "name": "skill_name=Grammar Usage",
         "showlegend": false,
         "type": "scatter",
         "uid": "729b1b5a-ceb9-4032-8589-0d99ef335494",
         "x": [
          "2018",
          "2007",
          "2008",
          "2014",
          "2016"
         ],
         "xaxis": "x2",
         "y": [
          4.959999999999997,
          21.590000000000003,
          20.429999999999993,
          16.779999999999994,
          14.32
         ],
         "yaxis": "y5"
        },
        {
         "hovertemplate": "<b>LOWESS trendline</b><br><br>class=7<br>skill_name=Grammar Usage<br>skill_name=Grammar Usage<br>year=%{x}<br>skill_delta=%{y} <b>(trend)</b><extra></extra>",
         "legendgroup": "skill_name=Grammar Usage",
         "marker": {
          "color": "#EF553B",
          "symbol": "circle"
         },
         "mode": "lines",
         "name": "skill_name=Grammar Usage",
         "showlegend": false,
         "type": "scatter",
         "uid": "b837b6b1-9602-4c0c-8020-7e8eb15bc023",
         "x": [
          2007,
          2008,
          2014,
          2016,
          2018
         ],
         "xaxis": "x2",
         "y": [
          21.590000000009148,
          20.430000000009095,
          16.779999999999994,
          14.32,
          4.959999999999997
         ],
         "yaxis": "y5"
        },
        {
         "hovertemplate": "class=7<br>skill_name=Literal Comprehension<br>skill_name=Literal Comprehension<br>year=%{x}<br>skill_delta=%{y}<br>studentCount=%{marker.size}<extra></extra>",
         "legendgroup": "skill_name=Literal Comprehension",
         "marker": {
          "color": "#00cc96",
          "size": [
           110,
           4,
           46,
           78,
           96
          ],
          "sizemode": "area",
          "sizeref": 1.1,
          "symbol": "circle"
         },
         "mode": "markers",
         "name": "skill_name=Literal Comprehension",
         "showlegend": false,
         "type": "scatter",
         "uid": "29a40298-3de0-4661-88e4-4a1acecff609",
         "x": [
          "2018",
          "2007",
          "2008",
          "2014",
          "2016"
         ],
         "xaxis": "x3",
         "y": [
          7.149999999999999,
          21.949999999999996,
          23.71,
          13.150000000000006,
          12.150000000000006
         ],
         "yaxis": "y5"
        },
        {
         "hovertemplate": "<b>LOWESS trendline</b><br><br>class=7<br>skill_name=Literal Comprehension<br>skill_name=Literal Comprehension<br>year=%{x}<br>skill_delta=%{y} <b>(trend)</b><extra></extra>",
         "legendgroup": "skill_name=Literal Comprehension",
         "marker": {
          "color": "#00cc96",
          "symbol": "circle"
         },
         "mode": "lines",
         "name": "skill_name=Literal Comprehension",
         "showlegend": false,
         "type": "scatter",
         "uid": "e57864bc-e926-4921-9214-e464d5379553",
         "x": [
          2007,
          2008,
          2014,
          2016,
          2018
         ],
         "xaxis": "x3",
         "y": [
          21.949999999999996,
          23.71,
          13.150000000001654,
          12.150000000000006,
          7.150000000000759
         ],
         "yaxis": "y5"
        },
        {
         "hovertemplate": "class=7<br>skill_name=Vocabulary in Context<br>skill_name=Vocabulary in Context<br>year=%{x}<br>skill_delta=%{y}<br>studentCount=%{marker.size}<extra></extra>",
         "legendgroup": "skill_name=Vocabulary in Context",
         "marker": {
          "color": "#ab63fa",
          "size": [
           110,
           4,
           46,
           78,
           96
          ],
          "sizemode": "area",
          "sizeref": 1.1,
          "symbol": "circle"
         },
         "mode": "markers",
         "name": "skill_name=Vocabulary in Context",
         "showlegend": false,
         "type": "scatter",
         "uid": "874b4331-b562-4ab0-a0a5-3029bf9d39f8",
         "x": [
          "2018",
          "2007",
          "2008",
          "2014",
          "2016"
         ],
         "xaxis": "x4",
         "y": [
          5.199999999999999,
          14.630000000000003,
          15.5,
          16.090000000000003,
          8.800000000000004
         ],
         "yaxis": "y5"
        },
        {
         "hovertemplate": "<b>LOWESS trendline</b><br><br>class=7<br>skill_name=Vocabulary in Context<br>skill_name=Vocabulary in Context<br>year=%{x}<br>skill_delta=%{y} <b>(trend)</b><extra></extra>",
         "legendgroup": "skill_name=Vocabulary in Context",
         "marker": {
          "color": "#ab63fa",
          "symbol": "circle"
         },
         "mode": "lines",
         "name": "skill_name=Vocabulary in Context",
         "showlegend": false,
         "type": "scatter",
         "uid": "ae6f99cf-1e70-4a92-819d-64afe0b02412",
         "x": [
          2007,
          2008,
          2014,
          2016,
          2018
         ],
         "xaxis": "x4",
         "y": [
          14.630000000006198,
          15.50000000000691,
          16.090000000000003,
          8.800000000000004,
          5.199999999999999
         ],
         "yaxis": "y5"
        },
        {
         "hovertemplate": "class=8<br>skill_name=Extended Reasoning<br>skill_name=Extended Reasoning<br>year=%{x}<br>skill_delta=%{y}<br>studentCount=%{marker.size}<extra></extra>",
         "legendgroup": "skill_name=Extended Reasoning",
         "marker": {
          "color": "#636efa",
          "size": [
           96,
           15,
           54,
           76,
           72
          ],
          "sizemode": "area",
          "sizeref": 1.1,
          "symbol": "circle"
         },
         "mode": "markers",
         "name": "skill_name=Extended Reasoning",
         "showlegend": false,
         "type": "scatter",
         "uid": "58058db8-d7d8-4a8b-9e83-1f02c699c2cd",
         "x": [
          "2018",
          "2007",
          "2008",
          "2014",
          "2016"
         ],
         "xaxis": "x",
         "y": [
          7.619999999999997,
          31.71,
          17.630000000000003,
          11.099999999999994,
          8.96
         ],
         "yaxis": "y6"
        },
        {
         "hovertemplate": "<b>LOWESS trendline</b><br><br>class=8<br>skill_name=Extended Reasoning<br>skill_name=Extended Reasoning<br>year=%{x}<br>skill_delta=%{y} <b>(trend)</b><extra></extra>",
         "legendgroup": "skill_name=Extended Reasoning",
         "marker": {
          "color": "#636efa",
          "symbol": "circle"
         },
         "mode": "lines",
         "name": "skill_name=Extended Reasoning",
         "showlegend": false,
         "type": "scatter",
         "uid": "acf17b5b-3e89-4cac-b800-e7e47e4d9118",
         "x": [
          2007,
          2008,
          2014,
          2016,
          2018
         ],
         "xaxis": "x",
         "y": [
          31.71,
          17.630000000000003,
          11.100000000001417,
          8.96,
          7.620000000000906
         ],
         "yaxis": "y6"
        },
        {
         "hovertemplate": "class=8<br>skill_name=Grammar Usage<br>skill_name=Grammar Usage<br>year=%{x}<br>skill_delta=%{y}<br>studentCount=%{marker.size}<extra></extra>",
         "legendgroup": "skill_name=Grammar Usage",
         "marker": {
          "color": "#EF553B",
          "size": [
           96,
           15,
           54,
           76,
           72
          ],
          "sizemode": "area",
          "sizeref": 1.1,
          "symbol": "circle"
         },
         "mode": "markers",
         "name": "skill_name=Grammar Usage",
         "showlegend": false,
         "type": "scatter",
         "uid": "de6838ca-8f98-4efd-889f-4d79d3c8f37b",
         "x": [
          "2018",
          "2007",
          "2008",
          "2014",
          "2016"
         ],
         "xaxis": "x2",
         "y": [
          17.590000000000003,
          25.939999999999998,
          21.189999999999998,
          20.83,
          14.780000000000001
         ],
         "yaxis": "y6"
        },
        {
         "hovertemplate": "<b>LOWESS trendline</b><br><br>class=8<br>skill_name=Grammar Usage<br>skill_name=Grammar Usage<br>year=%{x}<br>skill_delta=%{y} <b>(trend)</b><extra></extra>",
         "legendgroup": "skill_name=Grammar Usage",
         "marker": {
          "color": "#EF553B",
          "symbol": "circle"
         },
         "mode": "lines",
         "name": "skill_name=Grammar Usage",
         "showlegend": false,
         "type": "scatter",
         "uid": "697a5f96-0f08-427b-9b8c-8b214f37c13f",
         "x": [
          2007,
          2008,
          2014,
          2016,
          2018
         ],
         "xaxis": "x2",
         "y": [
          25.94000000000977,
          21.1900000000012,
          20.830000000001824,
          14.780000000000001,
          17.590000000000913
         ],
         "yaxis": "y6"
        },
        {
         "hovertemplate": "class=8<br>skill_name=Literal Comprehension<br>skill_name=Literal Comprehension<br>year=%{x}<br>skill_delta=%{y}<br>studentCount=%{marker.size}<extra></extra>",
         "legendgroup": "skill_name=Literal Comprehension",
         "marker": {
          "color": "#00cc96",
          "size": [
           96,
           15,
           54,
           76,
           72
          ],
          "sizemode": "area",
          "sizeref": 1.1,
          "symbol": "circle"
         },
         "mode": "markers",
         "name": "skill_name=Literal Comprehension",
         "showlegend": false,
         "type": "scatter",
         "uid": "b41de33a-8077-4f94-83bb-5cb7be345f87",
         "x": [
          "2018",
          "2007",
          "2008",
          "2014",
          "2016"
         ],
         "xaxis": "x3",
         "y": [
          7,
          30.270000000000003,
          14.79,
          9.68999999999999,
          5.969999999999999
         ],
         "yaxis": "y6"
        },
        {
         "hovertemplate": "<b>LOWESS trendline</b><br><br>class=8<br>skill_name=Literal Comprehension<br>skill_name=Literal Comprehension<br>year=%{x}<br>skill_delta=%{y} <b>(trend)</b><extra></extra>",
         "legendgroup": "skill_name=Literal Comprehension",
         "marker": {
          "color": "#00cc96",
          "symbol": "circle"
         },
         "mode": "lines",
         "name": "skill_name=Literal Comprehension",
         "showlegend": false,
         "type": "scatter",
         "uid": "f5364977-68a3-42d6-b7ee-9c97fb0b71c8",
         "x": [
          2007,
          2008,
          2014,
          2016,
          2018
         ],
         "xaxis": "x3",
         "y": [
          30.270000000000003,
          14.79,
          9.690000000001278,
          5.969999999999999,
          7.00000000000089
         ],
         "yaxis": "y6"
        },
        {
         "hovertemplate": "class=8<br>skill_name=Vocabulary in Context<br>skill_name=Vocabulary in Context<br>year=%{x}<br>skill_delta=%{y}<br>studentCount=%{marker.size}<extra></extra>",
         "legendgroup": "skill_name=Vocabulary in Context",
         "marker": {
          "color": "#ab63fa",
          "size": [
           96,
           15,
           54,
           76,
           72
          ],
          "sizemode": "area",
          "sizeref": 1.1,
          "symbol": "circle"
         },
         "mode": "markers",
         "name": "skill_name=Vocabulary in Context",
         "showlegend": false,
         "type": "scatter",
         "uid": "e4b6e69a-51cc-4675-88b0-e8f662ae4415",
         "x": [
          "2018",
          "2007",
          "2008",
          "2014",
          "2016"
         ],
         "xaxis": "x4",
         "y": [
          10.960000000000004,
          19.4,
          12.770000000000003,
          10.939999999999998,
          5.579999999999998
         ],
         "yaxis": "y6"
        },
        {
         "hovertemplate": "<b>LOWESS trendline</b><br><br>class=8<br>skill_name=Vocabulary in Context<br>skill_name=Vocabulary in Context<br>year=%{x}<br>skill_delta=%{y} <b>(trend)</b><extra></extra>",
         "legendgroup": "skill_name=Vocabulary in Context",
         "marker": {
          "color": "#ab63fa",
          "symbol": "circle"
         },
         "mode": "lines",
         "name": "skill_name=Vocabulary in Context",
         "showlegend": false,
         "type": "scatter",
         "uid": "cdfdca23-171d-4e6e-b92e-01a5d569bf81",
         "x": [
          2007,
          2008,
          2014,
          2016,
          2018
         ],
         "xaxis": "x4",
         "y": [
          19.400000000008227,
          12.770000000005671,
          10.939999999999998,
          5.579999999999998,
          10.960000000000004
         ],
         "yaxis": "y6"
        },
        {
         "hovertemplate": "class=9<br>skill_name=Extended Reasoning<br>skill_name=Extended Reasoning<br>year=%{x}<br>skill_delta=%{y}<br>studentCount=%{marker.size}<extra></extra>",
         "legendgroup": "skill_name=Extended Reasoning",
         "marker": {
          "color": "#636efa",
          "size": [
           98,
           10,
           40,
           73,
           64
          ],
          "sizemode": "area",
          "sizeref": 1.1,
          "symbol": "circle"
         },
         "mode": "markers",
         "name": "skill_name=Extended Reasoning",
         "showlegend": false,
         "type": "scatter",
         "uid": "32a4fd0e-e193-4c4c-a8d8-950c32e7810c",
         "x": [
          "2018",
          "2007",
          "2008",
          "2014",
          "2016"
         ],
         "xaxis": "x",
         "y": [
          9.119999999999997,
          16.58,
          20.020000000000003,
          10.290000000000006,
          16.67
         ],
         "yaxis": "y7"
        },
        {
         "hovertemplate": "<b>LOWESS trendline</b><br><br>class=9<br>skill_name=Extended Reasoning<br>skill_name=Extended Reasoning<br>year=%{x}<br>skill_delta=%{y} <b>(trend)</b><extra></extra>",
         "legendgroup": "skill_name=Extended Reasoning",
         "marker": {
          "color": "#636efa",
          "symbol": "circle"
         },
         "mode": "lines",
         "name": "skill_name=Extended Reasoning",
         "showlegend": false,
         "type": "scatter",
         "uid": "8c9fac75-9cba-4df5-9e70-4f46dfe87ef9",
         "x": [
          2007,
          2008,
          2014,
          2016,
          2018
         ],
         "xaxis": "x",
         "y": [
          16.58,
          20.020000000000003,
          10.290000000001122,
          16.67,
          9.120000000000939
         ],
         "yaxis": "y7"
        },
        {
         "hovertemplate": "class=9<br>skill_name=Grammar Usage<br>skill_name=Grammar Usage<br>year=%{x}<br>skill_delta=%{y}<br>studentCount=%{marker.size}<extra></extra>",
         "legendgroup": "skill_name=Grammar Usage",
         "marker": {
          "color": "#EF553B",
          "size": [
           98,
           10,
           40,
           73,
           64
          ],
          "sizemode": "area",
          "sizeref": 1.1,
          "symbol": "circle"
         },
         "mode": "markers",
         "name": "skill_name=Grammar Usage",
         "showlegend": false,
         "type": "scatter",
         "uid": "b050ebb7-8d18-4485-852e-18aec0fd051e",
         "x": [
          "2018",
          "2007",
          "2008",
          "2014",
          "2016"
         ],
         "xaxis": "x2",
         "y": [
          9.200000000000003,
          23.130000000000003,
          24.15,
          14.89,
          18.840000000000003
         ],
         "yaxis": "y7"
        },
        {
         "hovertemplate": "<b>LOWESS trendline</b><br><br>class=9<br>skill_name=Grammar Usage<br>skill_name=Grammar Usage<br>year=%{x}<br>skill_delta=%{y} <b>(trend)</b><extra></extra>",
         "legendgroup": "skill_name=Grammar Usage",
         "marker": {
          "color": "#EF553B",
          "symbol": "circle"
         },
         "mode": "lines",
         "name": "skill_name=Grammar Usage",
         "showlegend": false,
         "type": "scatter",
         "uid": "3ad0f069-11fb-4e80-9583-fa05fc9cd2bd",
         "x": [
          2007,
          2008,
          2014,
          2016,
          2018
         ],
         "xaxis": "x2",
         "y": [
          23.130000000000003,
          24.15,
          14.890000000001743,
          18.840000000000003,
          9.200000000000903
         ],
         "yaxis": "y7"
        },
        {
         "hovertemplate": "class=9<br>skill_name=Literal Comprehension<br>skill_name=Literal Comprehension<br>year=%{x}<br>skill_delta=%{y}<br>studentCount=%{marker.size}<extra></extra>",
         "legendgroup": "skill_name=Literal Comprehension",
         "marker": {
          "color": "#00cc96",
          "size": [
           98,
           10,
           40,
           73,
           64
          ],
          "sizemode": "area",
          "sizeref": 1.1,
          "symbol": "circle"
         },
         "mode": "markers",
         "name": "skill_name=Literal Comprehension",
         "showlegend": false,
         "type": "scatter",
         "uid": "3b9341f4-af4f-4714-a3a9-1c3088359467",
         "x": [
          "2018",
          "2007",
          "2008",
          "2014",
          "2016"
         ],
         "xaxis": "x3",
         "y": [
          8.419999999999998,
          14.509999999999998,
          18.419999999999995,
          16.310000000000002,
          18.200000000000003
         ],
         "yaxis": "y7"
        },
        {
         "hovertemplate": "<b>LOWESS trendline</b><br><br>class=9<br>skill_name=Literal Comprehension<br>skill_name=Literal Comprehension<br>year=%{x}<br>skill_delta=%{y} <b>(trend)</b><extra></extra>",
         "legendgroup": "skill_name=Literal Comprehension",
         "marker": {
          "color": "#00cc96",
          "symbol": "circle"
         },
         "mode": "lines",
         "name": "skill_name=Literal Comprehension",
         "showlegend": false,
         "type": "scatter",
         "uid": "a5b670b0-e7e4-47cd-8a2a-aec898b3c73d",
         "x": [
          2007,
          2008,
          2014,
          2016,
          2018
         ],
         "xaxis": "x3",
         "y": [
          14.510000000006137,
          18.420000000008216,
          16.310000000000002,
          18.200000000000003,
          8.419999999999998
         ],
         "yaxis": "y7"
        },
        {
         "hovertemplate": "class=9<br>skill_name=Vocabulary in Context<br>skill_name=Vocabulary in Context<br>year=%{x}<br>skill_delta=%{y}<br>studentCount=%{marker.size}<extra></extra>",
         "legendgroup": "skill_name=Vocabulary in Context",
         "marker": {
          "color": "#ab63fa",
          "size": [
           98,
           10,
           40,
           73,
           64
          ],
          "sizemode": "area",
          "sizeref": 1.1,
          "symbol": "circle"
         },
         "mode": "markers",
         "name": "skill_name=Vocabulary in Context",
         "showlegend": false,
         "type": "scatter",
         "uid": "ab0cfbdd-e345-4f92-9429-e2b95128c7e6",
         "x": [
          "2018",
          "2007",
          "2008",
          "2014",
          "2016"
         ],
         "xaxis": "x4",
         "y": [
          1.9799999999999995,
          18.28,
          22.089999999999996,
          17.190000000000005,
          23.019999999999996
         ],
         "yaxis": "y7"
        },
        {
         "hovertemplate": "<b>LOWESS trendline</b><br><br>class=9<br>skill_name=Vocabulary in Context<br>skill_name=Vocabulary in Context<br>year=%{x}<br>skill_delta=%{y} <b>(trend)</b><extra></extra>",
         "legendgroup": "skill_name=Vocabulary in Context",
         "marker": {
          "color": "#ab63fa",
          "symbol": "circle"
         },
         "mode": "lines",
         "name": "skill_name=Vocabulary in Context",
         "showlegend": false,
         "type": "scatter",
         "uid": "7e5f12eb-214a-4db5-acb6-6e780c0bf764",
         "x": [
          2007,
          2008,
          2014,
          2016,
          2018
         ],
         "xaxis": "x4",
         "y": [
          18.280000000007735,
          22.09000000000985,
          17.190000000000005,
          23.019999999999996,
          1.9799999999999995
         ],
         "yaxis": "y7"
        },
        {
         "hovertemplate": "class=10<br>skill_name=Extended Reasoning<br>skill_name=Extended Reasoning<br>year=%{x}<br>skill_delta=%{y}<br>studentCount=%{marker.size}<extra></extra>",
         "legendgroup": "skill_name=Extended Reasoning",
         "marker": {
          "color": "#636efa",
          "size": [
           73,
           60
          ],
          "sizemode": "area",
          "sizeref": 1.1,
          "symbol": "circle"
         },
         "mode": "markers",
         "name": "skill_name=Extended Reasoning",
         "showlegend": false,
         "type": "scatter",
         "uid": "2e42fba3-6a9d-42a0-9b00-e2dd649a642c",
         "x": [
          "2014",
          "2016"
         ],
         "xaxis": "x",
         "y": [
          12.739999999999995,
          10.869999999999997
         ],
         "yaxis": "y8"
        },
        {
         "hovertemplate": "<b>LOWESS trendline</b><br><br>class=10<br>skill_name=Extended Reasoning<br>skill_name=Extended Reasoning<br>year=%{x}<br>skill_delta=%{y} <b>(trend)</b><extra></extra>",
         "legendgroup": "skill_name=Extended Reasoning",
         "marker": {
          "color": "#636efa",
          "symbol": "circle"
         },
         "mode": "lines",
         "name": "skill_name=Extended Reasoning",
         "showlegend": false,
         "type": "scatter",
         "uid": "2b4ddfe0-c7a8-445d-acd0-060459e7706a",
         "x": [
          2014,
          2016
         ],
         "xaxis": "x",
         "y": [
          12.739999999999995,
          10.869999999999997
         ],
         "yaxis": "y8"
        },
        {
         "hovertemplate": "class=10<br>skill_name=Grammar Usage<br>skill_name=Grammar Usage<br>year=%{x}<br>skill_delta=%{y}<br>studentCount=%{marker.size}<extra></extra>",
         "legendgroup": "skill_name=Grammar Usage",
         "marker": {
          "color": "#EF553B",
          "size": [
           73,
           60
          ],
          "sizemode": "area",
          "sizeref": 1.1,
          "symbol": "circle"
         },
         "mode": "markers",
         "name": "skill_name=Grammar Usage",
         "showlegend": false,
         "type": "scatter",
         "uid": "68269ddc-2dfb-49f5-9584-338cde93860a",
         "x": [
          "2014",
          "2016"
         ],
         "xaxis": "x2",
         "y": [
          15.690000000000005,
          18.769999999999996
         ],
         "yaxis": "y8"
        },
        {
         "hovertemplate": "<b>LOWESS trendline</b><br><br>class=10<br>skill_name=Grammar Usage<br>skill_name=Grammar Usage<br>year=%{x}<br>skill_delta=%{y} <b>(trend)</b><extra></extra>",
         "legendgroup": "skill_name=Grammar Usage",
         "marker": {
          "color": "#EF553B",
          "symbol": "circle"
         },
         "mode": "lines",
         "name": "skill_name=Grammar Usage",
         "showlegend": false,
         "type": "scatter",
         "uid": "d6eadca5-73cb-4a13-9734-2ffa5c62c611",
         "x": [
          2014,
          2016
         ],
         "xaxis": "x2",
         "y": [
          15.690000000000005,
          18.769999999999996
         ],
         "yaxis": "y8"
        },
        {
         "hovertemplate": "class=10<br>skill_name=Literal Comprehension<br>skill_name=Literal Comprehension<br>year=%{x}<br>skill_delta=%{y}<br>studentCount=%{marker.size}<extra></extra>",
         "legendgroup": "skill_name=Literal Comprehension",
         "marker": {
          "color": "#00cc96",
          "size": [
           73,
           60
          ],
          "sizemode": "area",
          "sizeref": 1.1,
          "symbol": "circle"
         },
         "mode": "markers",
         "name": "skill_name=Literal Comprehension",
         "showlegend": false,
         "type": "scatter",
         "uid": "a09fb72c-bf47-4af7-8d5e-9328ea023cf0",
         "x": [
          "2014",
          "2016"
         ],
         "xaxis": "x3",
         "y": [
          15.180000000000007,
          15.380000000000003
         ],
         "yaxis": "y8"
        },
        {
         "hovertemplate": "<b>LOWESS trendline</b><br><br>class=10<br>skill_name=Literal Comprehension<br>skill_name=Literal Comprehension<br>year=%{x}<br>skill_delta=%{y} <b>(trend)</b><extra></extra>",
         "legendgroup": "skill_name=Literal Comprehension",
         "marker": {
          "color": "#00cc96",
          "symbol": "circle"
         },
         "mode": "lines",
         "name": "skill_name=Literal Comprehension",
         "showlegend": false,
         "type": "scatter",
         "uid": "15c19f01-ac61-4e55-9a1f-c80b60bddd54",
         "x": [
          2014,
          2016
         ],
         "xaxis": "x3",
         "y": [
          15.180000000000007,
          15.380000000000003
         ],
         "yaxis": "y8"
        },
        {
         "hovertemplate": "class=10<br>skill_name=Vocabulary in Context<br>skill_name=Vocabulary in Context<br>year=%{x}<br>skill_delta=%{y}<br>studentCount=%{marker.size}<extra></extra>",
         "legendgroup": "skill_name=Vocabulary in Context",
         "marker": {
          "color": "#ab63fa",
          "size": [
           73,
           60
          ],
          "sizemode": "area",
          "sizeref": 1.1,
          "symbol": "circle"
         },
         "mode": "markers",
         "name": "skill_name=Vocabulary in Context",
         "showlegend": false,
         "type": "scatter",
         "uid": "dfdf03b4-671f-47fe-bd81-71f8084223b4",
         "x": [
          "2014",
          "2016"
         ],
         "xaxis": "x4",
         "y": [
          14.719999999999999,
          12.43
         ],
         "yaxis": "y8"
        },
        {
         "hovertemplate": "<b>LOWESS trendline</b><br><br>class=10<br>skill_name=Vocabulary in Context<br>skill_name=Vocabulary in Context<br>year=%{x}<br>skill_delta=%{y} <b>(trend)</b><extra></extra>",
         "legendgroup": "skill_name=Vocabulary in Context",
         "marker": {
          "color": "#ab63fa",
          "symbol": "circle"
         },
         "mode": "lines",
         "name": "skill_name=Vocabulary in Context",
         "showlegend": false,
         "type": "scatter",
         "uid": "0f8a72e8-a032-4ab6-b09c-73345fa31de2",
         "x": [
          2014,
          2016
         ],
         "xaxis": "x4",
         "y": [
          14.719999999999999,
          12.43
         ],
         "yaxis": "y8"
        }
       ],
       "layout": {
        "annotations": [
         {
          "showarrow": false,
          "text": "skill_name=Extended Reasoning",
          "textangle": 0,
          "x": 0.1153846153846154,
          "xanchor": "center",
          "xref": "paper",
          "y": 1.02,
          "yanchor": "middle",
          "yref": "paper"
         },
         {
          "showarrow": false,
          "text": "skill_name=Grammar Usage",
          "textangle": 0,
          "x": 0.3717948717948718,
          "xanchor": "center",
          "xref": "paper",
          "y": 1.02,
          "yanchor": "middle",
          "yref": "paper"
         },
         {
          "showarrow": false,
          "text": "skill_name=Literal Comprehension",
          "textangle": 0,
          "x": 0.6282051282051283,
          "xanchor": "center",
          "xref": "paper",
          "y": 1.02,
          "yanchor": "middle",
          "yref": "paper"
         },
         {
          "showarrow": false,
          "text": "skill_name=Vocabulary in Context",
          "textangle": 0,
          "x": 0.8846153846153848,
          "xanchor": "center",
          "xref": "paper",
          "y": 1.02,
          "yanchor": "middle",
          "yref": "paper"
         },
         {
          "showarrow": false,
          "text": "class=3",
          "textangle": 90,
          "x": 1.01,
          "xanchor": "center",
          "xref": "paper",
          "y": 0.9430379746835442,
          "yanchor": "middle",
          "yref": "paper"
         },
         {
          "showarrow": false,
          "text": "class=4",
          "textangle": 90,
          "x": 1.01,
          "xanchor": "center",
          "xref": "paper",
          "y": 0.8164556962025316,
          "yanchor": "middle",
          "yref": "paper"
         },
         {
          "showarrow": false,
          "text": "class=5",
          "textangle": 90,
          "x": 1.01,
          "xanchor": "center",
          "xref": "paper",
          "y": 0.6898734177215189,
          "yanchor": "middle",
          "yref": "paper"
         },
         {
          "showarrow": false,
          "text": "class=6",
          "textangle": 90,
          "x": 1.01,
          "xanchor": "center",
          "xref": "paper",
          "y": 0.5632911392405062,
          "yanchor": "middle",
          "yref": "paper"
         },
         {
          "showarrow": false,
          "text": "class=7",
          "textangle": 90,
          "x": 1.01,
          "xanchor": "center",
          "xref": "paper",
          "y": 0.4367088607594936,
          "yanchor": "middle",
          "yref": "paper"
         },
         {
          "showarrow": false,
          "text": "class=8",
          "textangle": 90,
          "x": 1.01,
          "xanchor": "center",
          "xref": "paper",
          "y": 0.310126582278481,
          "yanchor": "middle",
          "yref": "paper"
         },
         {
          "showarrow": false,
          "text": "class=9",
          "textangle": 90,
          "x": 1.01,
          "xanchor": "center",
          "xref": "paper",
          "y": 0.18354430379746833,
          "yanchor": "middle",
          "yref": "paper"
         },
         {
          "showarrow": false,
          "text": "class=10",
          "textangle": 90,
          "x": 1.01,
          "xanchor": "center",
          "xref": "paper",
          "y": 0.05696202531645569,
          "yanchor": "middle",
          "yref": "paper"
         }
        ],
        "grid": {
         "xaxes": [
          "x",
          "x2",
          "x3",
          "x4"
         ],
         "xgap": 0.1,
         "xside": "bottom",
         "yaxes": [
          "y",
          "y2",
          "y3",
          "y4",
          "y5",
          "y6",
          "y7",
          "y8"
         ],
         "ygap": 0.1,
         "yside": "left"
        },
        "height": 1500,
        "legend": {
         "tracegroupgap": 0
        },
        "template": {
         "data": {
          "bar": [
           {
            "marker": {
             "line": {
              "color": "#E5ECF6",
              "width": 0.5
             }
            },
            "type": "bar"
           }
          ],
          "barpolar": [
           {
            "marker": {
             "line": {
              "color": "#E5ECF6",
              "width": 0.5
             }
            },
            "type": "barpolar"
           }
          ],
          "carpet": [
           {
            "aaxis": {
             "endlinecolor": "#2a3f5f",
             "gridcolor": "white",
             "linecolor": "white",
             "minorgridcolor": "white",
             "startlinecolor": "#2a3f5f"
            },
            "baxis": {
             "endlinecolor": "#2a3f5f",
             "gridcolor": "white",
             "linecolor": "white",
             "minorgridcolor": "white",
             "startlinecolor": "#2a3f5f"
            },
            "type": "carpet"
           }
          ],
          "choropleth": [
           {
            "colorbar": {
             "outlinewidth": 0,
             "ticks": ""
            },
            "type": "choropleth"
           }
          ],
          "contour": [
           {
            "autocolorscale": true,
            "colorbar": {
             "outlinewidth": 0,
             "ticks": ""
            },
            "type": "contour"
           }
          ],
          "contourcarpet": [
           {
            "colorbar": {
             "outlinewidth": 0,
             "ticks": ""
            },
            "type": "contourcarpet"
           }
          ],
          "heatmap": [
           {
            "autocolorscale": true,
            "colorbar": {
             "outlinewidth": 0,
             "ticks": ""
            },
            "type": "heatmap"
           }
          ],
          "heatmapgl": [
           {
            "colorbar": {
             "outlinewidth": 0,
             "ticks": ""
            },
            "type": "heatmapgl"
           }
          ],
          "histogram": [
           {
            "marker": {
             "colorbar": {
              "outlinewidth": 0,
              "ticks": ""
             }
            },
            "type": "histogram"
           }
          ],
          "histogram2d": [
           {
            "autocolorscale": true,
            "colorbar": {
             "outlinewidth": 0,
             "ticks": ""
            },
            "type": "histogram2d"
           }
          ],
          "histogram2dcontour": [
           {
            "autocolorscale": true,
            "colorbar": {
             "outlinewidth": 0,
             "ticks": ""
            },
            "type": "histogram2dcontour"
           }
          ],
          "mesh3d": [
           {
            "colorbar": {
             "outlinewidth": 0,
             "ticks": ""
            },
            "type": "mesh3d"
           }
          ],
          "parcoords": [
           {
            "line": {
             "colorbar": {
              "outlinewidth": 0,
              "ticks": ""
             }
            },
            "type": "parcoords"
           }
          ],
          "scatter": [
           {
            "marker": {
             "colorbar": {
              "outlinewidth": 0,
              "ticks": ""
             }
            },
            "type": "scatter"
           }
          ],
          "scatter3d": [
           {
            "marker": {
             "colorbar": {
              "outlinewidth": 0,
              "ticks": ""
             }
            },
            "type": "scatter3d"
           }
          ],
          "scattercarpet": [
           {
            "marker": {
             "colorbar": {
              "outlinewidth": 0,
              "ticks": ""
             }
            },
            "type": "scattercarpet"
           }
          ],
          "scattergeo": [
           {
            "marker": {
             "colorbar": {
              "outlinewidth": 0,
              "ticks": ""
             }
            },
            "type": "scattergeo"
           }
          ],
          "scattergl": [
           {
            "marker": {
             "colorbar": {
              "outlinewidth": 0,
              "ticks": ""
             }
            },
            "type": "scattergl"
           }
          ],
          "scattermapbox": [
           {
            "marker": {
             "colorbar": {
              "outlinewidth": 0,
              "ticks": ""
             }
            },
            "type": "scattermapbox"
           }
          ],
          "scatterpolar": [
           {
            "marker": {
             "colorbar": {
              "outlinewidth": 0,
              "ticks": ""
             }
            },
            "type": "scatterpolar"
           }
          ],
          "scatterpolargl": [
           {
            "marker": {
             "colorbar": {
              "outlinewidth": 0,
              "ticks": ""
             }
            },
            "type": "scatterpolargl"
           }
          ],
          "scatterternary": [
           {
            "marker": {
             "colorbar": {
              "outlinewidth": 0,
              "ticks": ""
             }
            },
            "type": "scatterternary"
           }
          ],
          "surface": [
           {
            "colorbar": {
             "outlinewidth": 0,
             "ticks": ""
            },
            "type": "surface"
           }
          ],
          "table": [
           {
            "cells": {
             "fill": {
              "color": "#EBF0F8"
             },
             "line": {
              "color": "white"
             }
            },
            "header": {
             "fill": {
              "color": "#C8D4E3"
             },
             "line": {
              "color": "white"
             }
            },
            "type": "table"
           }
          ]
         },
         "layout": {
          "annotationdefaults": {
           "arrowcolor": "#506784",
           "arrowhead": 0,
           "arrowwidth": 1
          },
          "colorscale": {
           "diverging": [
            [
             0,
             "#8e0152"
            ],
            [
             0.1,
             "#c51b7d"
            ],
            [
             0.2,
             "#de77ae"
            ],
            [
             0.3,
             "#f1b6da"
            ],
            [
             0.4,
             "#fde0ef"
            ],
            [
             0.5,
             "#f7f7f7"
            ],
            [
             0.6,
             "#e6f5d0"
            ],
            [
             0.7,
             "#b8e186"
            ],
            [
             0.8,
             "#7fbc41"
            ],
            [
             0.9,
             "#4d9221"
            ],
            [
             1,
             "#276419"
            ]
           ],
           "sequential": [
            [
             0,
             "#0508b8"
            ],
            [
             0.0893854748603352,
             "#1910d8"
            ],
            [
             0.1787709497206704,
             "#3c19f0"
            ],
            [
             0.2681564245810056,
             "#6b1cfb"
            ],
            [
             0.3575418994413408,
             "#981cfd"
            ],
            [
             0.44692737430167595,
             "#bf1cfd"
            ],
            [
             0.5363128491620112,
             "#dd2bfd"
            ],
            [
             0.6256983240223464,
             "#f246fe"
            ],
            [
             0.7150837988826816,
             "#fc67fd"
            ],
            [
             0.8044692737430168,
             "#fe88fc"
            ],
            [
             0.8938547486033519,
             "#fea5fd"
            ],
            [
             0.9832402234636871,
             "#febefe"
            ],
            [
             1,
             "#fec3fe"
            ]
           ],
           "sequentialminus": [
            [
             0,
             "#0508b8"
            ],
            [
             0.0893854748603352,
             "#1910d8"
            ],
            [
             0.1787709497206704,
             "#3c19f0"
            ],
            [
             0.2681564245810056,
             "#6b1cfb"
            ],
            [
             0.3575418994413408,
             "#981cfd"
            ],
            [
             0.44692737430167595,
             "#bf1cfd"
            ],
            [
             0.5363128491620112,
             "#dd2bfd"
            ],
            [
             0.6256983240223464,
             "#f246fe"
            ],
            [
             0.7150837988826816,
             "#fc67fd"
            ],
            [
             0.8044692737430168,
             "#fe88fc"
            ],
            [
             0.8938547486033519,
             "#fea5fd"
            ],
            [
             0.9832402234636871,
             "#febefe"
            ],
            [
             1,
             "#fec3fe"
            ]
           ]
          },
          "colorway": [
           "#636efa",
           "#EF553B",
           "#00cc96",
           "#ab63fa",
           "#19d3f3",
           "#e763fa",
           "#FECB52",
           "#FFA15A",
           "#FF6692",
           "#B6E880"
          ],
          "font": {
           "color": "#2a3f5f"
          },
          "geo": {
           "bgcolor": "white",
           "lakecolor": "white",
           "landcolor": "#E5ECF6",
           "showlakes": true,
           "showland": true,
           "subunitcolor": "white"
          },
          "hoverlabel": {
           "align": "left"
          },
          "hovermode": "closest",
          "legend": {
           "itemsizing": "constant"
          },
          "mapbox": {
           "style": "light"
          },
          "paper_bgcolor": "white",
          "plot_bgcolor": "#E5ECF6",
          "polar": {
           "angularaxis": {
            "gridcolor": "white",
            "linecolor": "white",
            "ticks": ""
           },
           "bgcolor": "#E5ECF6",
           "radialaxis": {
            "gridcolor": "white",
            "linecolor": "white",
            "ticks": ""
           }
          },
          "scene": {
           "xaxis": {
            "backgroundcolor": "#E5ECF6",
            "gridcolor": "white",
            "gridwidth": 2,
            "linecolor": "white",
            "showbackground": true,
            "ticks": "",
            "zerolinecolor": "white"
           },
           "yaxis": {
            "backgroundcolor": "#E5ECF6",
            "gridcolor": "white",
            "gridwidth": 2,
            "linecolor": "white",
            "showbackground": true,
            "ticks": "",
            "zerolinecolor": "white"
           },
           "zaxis": {
            "backgroundcolor": "#E5ECF6",
            "gridcolor": "white",
            "gridwidth": 2,
            "linecolor": "white",
            "showbackground": true,
            "ticks": "",
            "zerolinecolor": "white"
           }
          },
          "shapedefaults": {
           "fillcolor": "#506784",
           "line": {
            "width": 0
           },
           "opacity": 0.4
          },
          "ternary": {
           "aaxis": {
            "gridcolor": "white",
            "linecolor": "white",
            "ticks": ""
           },
           "baxis": {
            "gridcolor": "white",
            "linecolor": "white",
            "ticks": ""
           },
           "bgcolor": "#E5ECF6",
           "caxis": {
            "gridcolor": "white",
            "linecolor": "white",
            "ticks": ""
           }
          },
          "title": {
           "x": 0.05
          },
          "xaxis": {
           "automargin": true,
           "gridcolor": "white",
           "linecolor": "white",
           "ticks": "",
           "zerolinecolor": "white",
           "zerolinewidth": 2
          },
          "yaxis": {
           "automargin": true,
           "gridcolor": "white",
           "linecolor": "white",
           "ticks": "",
           "zerolinecolor": "white",
           "zerolinewidth": 2
          }
         }
        },
        "title": {
         "text": "Core Skills in English (Sushila Birla Girls^ School-Kolkata-CBSE)"
        },
        "width": 2000,
        "xaxis": {
         "title": {
          "text": "year"
         }
        },
        "xaxis2": {
         "matches": "x",
         "title": {
          "text": "year"
         }
        },
        "xaxis3": {
         "matches": "x",
         "title": {
          "text": "year"
         }
        },
        "xaxis4": {
         "matches": "x",
         "title": {
          "text": "year"
         }
        },
        "yaxis": {
         "title": {
          "text": "skill_delta"
         }
        },
        "yaxis2": {
         "matches": "y",
         "title": {
          "text": "skill_delta"
         }
        },
        "yaxis3": {
         "matches": "y",
         "title": {
          "text": "skill_delta"
         }
        },
        "yaxis4": {
         "matches": "y",
         "title": {
          "text": "skill_delta"
         }
        },
        "yaxis5": {
         "matches": "y",
         "title": {
          "text": "skill_delta"
         }
        },
        "yaxis6": {
         "matches": "y",
         "title": {
          "text": "skill_delta"
         }
        },
        "yaxis7": {
         "matches": "y",
         "title": {
          "text": "skill_delta"
         }
        },
        "yaxis8": {
         "matches": "y",
         "title": {
          "text": "skill_delta"
         }
        }
       }
      },
      "text/html": [
       "<div>\n",
       "        \n",
       "        \n",
       "            <div id=\"ad1d2de7-aacf-4302-96ec-4ccbe66974f1\" class=\"plotly-graph-div\"></div>\n",
       "            <script type=\"text/javascript\">\n",
       "                require([\"plotly\"], function(Plotly) {\n",
       "                    window.PLOTLYENV=window.PLOTLYENV || {};\n",
       "                    window.PLOTLYENV.BASE_URL='https://plot.ly';\n",
       "                    \n",
       "                if (document.getElementById(\"ad1d2de7-aacf-4302-96ec-4ccbe66974f1\")) {\n",
       "                    Plotly.newPlot(\n",
       "                        'ad1d2de7-aacf-4302-96ec-4ccbe66974f1',\n",
       "                        [{\"hovertemplate\": \"class=3<br>skill_name=Extended Reasoning<br>skill_name=Extended Reasoning<br>year=%{x}<br>skill_delta=%{y}<br>studentCount=%{marker.size}<extra></extra>\", \"legendgroup\": \"skill_name=Extended Reasoning\", \"marker\": {\"color\": \"#636efa\", \"size\": [106, 19, 74, 105, 102], \"sizemode\": \"area\", \"sizeref\": 1.1, \"symbol\": \"circle\"}, \"mode\": \"markers\", \"name\": \"skill_name=Extended Reasoning\", \"showlegend\": true, \"type\": \"scatter\", \"uid\": \"7da15099-917a-49eb-bece-1103ce81409d\", \"x\": [\"2018\", \"2007\", \"2008\", \"2014\", \"2016\"], \"xaxis\": \"x\", \"y\": [11.299999999999997, 24.199999999999996, 12.480000000000004, 9.18, 6.490000000000002], \"yaxis\": \"y\"}, {\"hovertemplate\": \"<b>LOWESS trendline</b><br><br>class=3<br>skill_name=Extended Reasoning<br>skill_name=Extended Reasoning<br>year=%{x}<br>skill_delta=%{y} <b>(trend)</b><extra></extra>\", \"legendgroup\": \"skill_name=Extended Reasoning\", \"marker\": {\"color\": \"#636efa\", \"symbol\": \"circle\"}, \"mode\": \"lines\", \"name\": \"skill_name=Extended Reasoning\", \"showlegend\": false, \"type\": \"scatter\", \"uid\": \"bc1da159-4f8b-42bf-8e9a-27808185acd5\", \"x\": [2007.0, 2008.0, 2014.0, 2016.0, 2018.0], \"xaxis\": \"x\", \"y\": [24.199999999999996, 12.480000000000004, 9.180000000001199, 6.490000000000002, 11.30000000000151], \"yaxis\": \"y\"}, {\"hovertemplate\": \"class=3<br>skill_name=Grammar Usage<br>skill_name=Grammar Usage<br>year=%{x}<br>skill_delta=%{y}<br>studentCount=%{marker.size}<extra></extra>\", \"legendgroup\": \"skill_name=Grammar Usage\", \"marker\": {\"color\": \"#EF553B\", \"size\": [106, 19, 74, 105, 102], \"sizemode\": \"area\", \"sizeref\": 1.1, \"symbol\": \"circle\"}, \"mode\": \"markers\", \"name\": \"skill_name=Grammar Usage\", \"showlegend\": true, \"type\": \"scatter\", \"uid\": \"ca7024bc-a543-4e68-b67f-feb8790c4fc8\", \"x\": [\"2018\", \"2007\", \"2008\", \"2014\", \"2016\"], \"xaxis\": \"x2\", \"y\": [12.920000000000002, 20.77000000000001, 12.5, 11.350000000000009, 12.900000000000006], \"yaxis\": \"y\"}, {\"hovertemplate\": \"<b>LOWESS trendline</b><br><br>class=3<br>skill_name=Grammar Usage<br>skill_name=Grammar Usage<br>year=%{x}<br>skill_delta=%{y} <b>(trend)</b><extra></extra>\", \"legendgroup\": \"skill_name=Grammar Usage\", \"marker\": {\"color\": \"#EF553B\", \"symbol\": \"circle\"}, \"mode\": \"lines\", \"name\": \"skill_name=Grammar Usage\", \"showlegend\": false, \"type\": \"scatter\", \"uid\": \"1475ca2f-0b9a-4ac9-aabc-b7c7ad1f4c99\", \"x\": [2007.0, 2008.0, 2014.0, 2016.0, 2018.0], \"xaxis\": \"x2\", \"y\": [20.77000000000882, 12.500000000005544, 11.350000000000009, 12.900000000000006, 12.920000000000002], \"yaxis\": \"y\"}, {\"hovertemplate\": \"class=3<br>skill_name=Literal Comprehension<br>skill_name=Literal Comprehension<br>year=%{x}<br>skill_delta=%{y}<br>studentCount=%{marker.size}<extra></extra>\", \"legendgroup\": \"skill_name=Literal Comprehension\", \"marker\": {\"color\": \"#00cc96\", \"size\": [106, 19, 74, 105, 102], \"sizemode\": \"area\", \"sizeref\": 1.1, \"symbol\": \"circle\"}, \"mode\": \"markers\", \"name\": \"skill_name=Literal Comprehension\", \"showlegend\": true, \"type\": \"scatter\", \"uid\": \"43a3f0dd-bf87-4aab-b87d-c4bcd1ececc6\", \"x\": [\"2018\", \"2007\", \"2008\", \"2014\", \"2016\"], \"xaxis\": \"x3\", \"y\": [9.229999999999997, 13.100000000000009, 6.489999999999995, 6.950000000000003, 6.3799999999999955], \"yaxis\": \"y\"}, {\"hovertemplate\": \"<b>LOWESS trendline</b><br><br>class=3<br>skill_name=Literal Comprehension<br>skill_name=Literal Comprehension<br>year=%{x}<br>skill_delta=%{y} <b>(trend)</b><extra></extra>\", \"legendgroup\": \"skill_name=Literal Comprehension\", \"marker\": {\"color\": \"#00cc96\", \"symbol\": \"circle\"}, \"mode\": \"lines\", \"name\": \"skill_name=Literal Comprehension\", \"showlegend\": false, \"type\": \"scatter\", \"uid\": \"9683a697-b329-4643-b3db-3af88cf90106\", \"x\": [2007.0, 2008.0, 2014.0, 2016.0, 2018.0], \"xaxis\": \"x3\", \"y\": [13.099999999998682, 6.48999999999946, 6.949999999999343, 6.3799999999999955, 9.229999999997863], \"yaxis\": \"y\"}, {\"hovertemplate\": \"class=3<br>skill_name=Vocabulary in Context<br>skill_name=Vocabulary in Context<br>year=%{x}<br>skill_delta=%{y}<br>studentCount=%{marker.size}<extra></extra>\", \"legendgroup\": \"skill_name=Vocabulary in Context\", \"marker\": {\"color\": \"#ab63fa\", \"size\": [106, 19, 74, 105, 102], \"sizemode\": \"area\", \"sizeref\": 1.1, \"symbol\": \"circle\"}, \"mode\": \"markers\", \"name\": \"skill_name=Vocabulary in Context\", \"showlegend\": true, \"type\": \"scatter\", \"uid\": \"0704c8e7-b0d9-44d9-85da-fd73ba46bb9c\", \"x\": [\"2018\", \"2007\", \"2008\", \"2014\", \"2016\"], \"xaxis\": \"x4\", \"y\": [10.25, 23.35000000000001, 13.610000000000007, 11.120000000000005, 3.8900000000000006], \"yaxis\": \"y\"}, {\"hovertemplate\": \"<b>LOWESS trendline</b><br><br>class=3<br>skill_name=Vocabulary in Context<br>skill_name=Vocabulary in Context<br>year=%{x}<br>skill_delta=%{y} <b>(trend)</b><extra></extra>\", \"legendgroup\": \"skill_name=Vocabulary in Context\", \"marker\": {\"color\": \"#ab63fa\", \"symbol\": \"circle\"}, \"mode\": \"lines\", \"name\": \"skill_name=Vocabulary in Context\", \"showlegend\": false, \"type\": \"scatter\", \"uid\": \"70a63df4-35e4-4749-b778-f74eaf90449b\", \"x\": [2007.0, 2008.0, 2014.0, 2016.0, 2018.0], \"xaxis\": \"x4\", \"y\": [23.35000000000001, 13.610000000000007, 11.120000000001555, 3.8900000000000006, 10.250000000001421], \"yaxis\": \"y\"}, {\"hovertemplate\": \"class=4<br>skill_name=Extended Reasoning<br>skill_name=Extended Reasoning<br>year=%{x}<br>skill_delta=%{y}<br>studentCount=%{marker.size}<extra></extra>\", \"legendgroup\": \"skill_name=Extended Reasoning\", \"marker\": {\"color\": \"#636efa\", \"size\": [108, 15, 73, 104, 108], \"sizemode\": \"area\", \"sizeref\": 1.1, \"symbol\": \"circle\"}, \"mode\": \"markers\", \"name\": \"skill_name=Extended Reasoning\", \"showlegend\": false, \"type\": \"scatter\", \"uid\": \"f351f8c9-b120-4577-8bd0-08b2d866fca7\", \"x\": [\"2018\", \"2007\", \"2008\", \"2014\", \"2016\"], \"xaxis\": \"x\", \"y\": [7.530000000000001, 8.010000000000005, 7.740000000000002, 9.870000000000005, 10.420000000000002], \"yaxis\": \"y2\"}, {\"hovertemplate\": \"<b>LOWESS trendline</b><br><br>class=4<br>skill_name=Extended Reasoning<br>skill_name=Extended Reasoning<br>year=%{x}<br>skill_delta=%{y} <b>(trend)</b><extra></extra>\", \"legendgroup\": \"skill_name=Extended Reasoning\", \"marker\": {\"color\": \"#636efa\", \"symbol\": \"circle\"}, \"mode\": \"lines\", \"name\": \"skill_name=Extended Reasoning\", \"showlegend\": false, \"type\": \"scatter\", \"uid\": \"606a8de9-a600-4dc7-9721-0fa2c8a9b4d0\", \"x\": [2007.0, 2008.0, 2014.0, 2016.0, 2018.0], \"xaxis\": \"x\", \"y\": [8.009999999996888, 7.739999999998436, 9.870000000000822, 10.420000000000002, 7.530000000001029], \"yaxis\": \"y2\"}, {\"hovertemplate\": \"class=4<br>skill_name=Grammar Usage<br>skill_name=Grammar Usage<br>year=%{x}<br>skill_delta=%{y}<br>studentCount=%{marker.size}<extra></extra>\", \"legendgroup\": \"skill_name=Grammar Usage\", \"marker\": {\"color\": \"#EF553B\", \"size\": [108, 15, 73, 104, 108], \"sizemode\": \"area\", \"sizeref\": 1.1, \"symbol\": \"circle\"}, \"mode\": \"markers\", \"name\": \"skill_name=Grammar Usage\", \"showlegend\": false, \"type\": \"scatter\", \"uid\": \"b4c53f95-fd1c-4f79-bc78-e809e9006942\", \"x\": [\"2018\", \"2007\", \"2008\", \"2014\", \"2016\"], \"xaxis\": \"x2\", \"y\": [12.14, 0.10999999999999943, 12.690000000000005, 13.230000000000004, 10.29], \"yaxis\": \"y2\"}, {\"hovertemplate\": \"<b>LOWESS trendline</b><br><br>class=4<br>skill_name=Grammar Usage<br>skill_name=Grammar Usage<br>year=%{x}<br>skill_delta=%{y} <b>(trend)</b><extra></extra>\", \"legendgroup\": \"skill_name=Grammar Usage\", \"marker\": {\"color\": \"#EF553B\", \"symbol\": \"circle\"}, \"mode\": \"lines\", \"name\": \"skill_name=Grammar Usage\", \"showlegend\": false, \"type\": \"scatter\", \"uid\": \"aaea7a1a-c818-443e-9d62-a137ee0e7380\", \"x\": [2007.0, 2008.0, 2014.0, 2016.0, 2018.0], \"xaxis\": \"x2\", \"y\": [0.10999999999961373, 12.690000000000444, 13.23000000000115, 10.29, 12.139999999997924], \"yaxis\": \"y2\"}, {\"hovertemplate\": \"class=4<br>skill_name=Literal Comprehension<br>skill_name=Literal Comprehension<br>year=%{x}<br>skill_delta=%{y}<br>studentCount=%{marker.size}<extra></extra>\", \"legendgroup\": \"skill_name=Literal Comprehension\", \"marker\": {\"color\": \"#00cc96\", \"size\": [108, 15, 73, 104, 108], \"sizemode\": \"area\", \"sizeref\": 1.1, \"symbol\": \"circle\"}, \"mode\": \"markers\", \"name\": \"skill_name=Literal Comprehension\", \"showlegend\": false, \"type\": \"scatter\", \"uid\": \"60874230-a2c6-4f48-853a-10fbd75f33d5\", \"x\": [\"2018\", \"2007\", \"2008\", \"2014\", \"2016\"], \"xaxis\": \"x3\", \"y\": [15.980000000000004, 6.93, 10.639999999999993, 7.159999999999997, 8.549999999999997], \"yaxis\": \"y2\"}, {\"hovertemplate\": \"<b>LOWESS trendline</b><br><br>class=4<br>skill_name=Literal Comprehension<br>skill_name=Literal Comprehension<br>year=%{x}<br>skill_delta=%{y} <b>(trend)</b><extra></extra>\", \"legendgroup\": \"skill_name=Literal Comprehension\", \"marker\": {\"color\": \"#00cc96\", \"symbol\": \"circle\"}, \"mode\": \"lines\", \"name\": \"skill_name=Literal Comprehension\", \"showlegend\": false, \"type\": \"scatter\", \"uid\": \"5ff4a469-a2cf-4c0e-957a-5216b1b0be69\", \"x\": [2007.0, 2008.0, 2014.0, 2016.0, 2018.0], \"xaxis\": \"x3\", \"y\": [6.930000000002927, 10.640000000004747, 7.159999999999997, 8.549999999999997, 15.980000000002159], \"yaxis\": \"y2\"}, {\"hovertemplate\": \"class=4<br>skill_name=Vocabulary in Context<br>skill_name=Vocabulary in Context<br>year=%{x}<br>skill_delta=%{y}<br>studentCount=%{marker.size}<extra></extra>\", \"legendgroup\": \"skill_name=Vocabulary in Context\", \"marker\": {\"color\": \"#ab63fa\", \"size\": [108, 15, 73, 104, 108], \"sizemode\": \"area\", \"sizeref\": 1.1, \"symbol\": \"circle\"}, \"mode\": \"markers\", \"name\": \"skill_name=Vocabulary in Context\", \"showlegend\": false, \"type\": \"scatter\", \"uid\": \"053c911b-1501-4f80-b19f-a13a5c055d12\", \"x\": [\"2018\", \"2007\", \"2008\", \"2014\", \"2016\"], \"xaxis\": \"x4\", \"y\": [13.759999999999998, 1.519999999999996, 15.449999999999996, 10.760000000000005, 6.049999999999997], \"yaxis\": \"y2\"}, {\"hovertemplate\": \"<b>LOWESS trendline</b><br><br>class=4<br>skill_name=Vocabulary in Context<br>skill_name=Vocabulary in Context<br>year=%{x}<br>skill_delta=%{y} <b>(trend)</b><extra></extra>\", \"legendgroup\": \"skill_name=Vocabulary in Context\", \"marker\": {\"color\": \"#ab63fa\", \"symbol\": \"circle\"}, \"mode\": \"lines\", \"name\": \"skill_name=Vocabulary in Context\", \"showlegend\": false, \"type\": \"scatter\", \"uid\": \"434ec6c3-4f67-4767-8660-72839abaadfd\", \"x\": [2007.0, 2008.0, 2014.0, 2016.0, 2018.0], \"xaxis\": \"x4\", \"y\": [1.5199999999985525, 15.449999999991153, 10.76000000000097, 6.049999999999997, 13.76000000000183], \"yaxis\": \"y2\"}, {\"hovertemplate\": \"class=5<br>skill_name=Extended Reasoning<br>skill_name=Extended Reasoning<br>year=%{x}<br>skill_delta=%{y}<br>studentCount=%{marker.size}<extra></extra>\", \"legendgroup\": \"skill_name=Extended Reasoning\", \"marker\": {\"color\": \"#636efa\", \"size\": [109, 16, 73, 108, 103], \"sizemode\": \"area\", \"sizeref\": 1.1, \"symbol\": \"circle\"}, \"mode\": \"markers\", \"name\": \"skill_name=Extended Reasoning\", \"showlegend\": false, \"type\": \"scatter\", \"uid\": \"923e4055-4884-49ff-ae91-bd205ae46448\", \"x\": [\"2018\", \"2007\", \"2008\", \"2014\", \"2016\"], \"xaxis\": \"x\", \"y\": [10.200000000000003, 10.719999999999999, 7.559999999999995, 9.57, 11.32], \"yaxis\": \"y3\"}, {\"hovertemplate\": \"<b>LOWESS trendline</b><br><br>class=5<br>skill_name=Extended Reasoning<br>skill_name=Extended Reasoning<br>year=%{x}<br>skill_delta=%{y} <b>(trend)</b><extra></extra>\", \"legendgroup\": \"skill_name=Extended Reasoning\", \"marker\": {\"color\": \"#636efa\", \"symbol\": \"circle\"}, \"mode\": \"lines\", \"name\": \"skill_name=Extended Reasoning\", \"showlegend\": false, \"type\": \"scatter\", \"uid\": \"e09b9f9d-9bcd-459b-9f51-331aae498036\", \"x\": [2007.0, 2008.0, 2014.0, 2016.0, 2018.0], \"xaxis\": \"x\", \"y\": [10.720000000004545, 7.560000000003353, 9.57, 11.32, 10.200000000000003], \"yaxis\": \"y3\"}, {\"hovertemplate\": \"class=5<br>skill_name=Grammar Usage<br>skill_name=Grammar Usage<br>year=%{x}<br>skill_delta=%{y}<br>studentCount=%{marker.size}<extra></extra>\", \"legendgroup\": \"skill_name=Grammar Usage\", \"marker\": {\"color\": \"#EF553B\", \"size\": [109, 16, 73, 108, 103], \"sizemode\": \"area\", \"sizeref\": 1.1, \"symbol\": \"circle\"}, \"mode\": \"markers\", \"name\": \"skill_name=Grammar Usage\", \"showlegend\": false, \"type\": \"scatter\", \"uid\": \"f5508342-69b5-49d8-b297-dc9e4970faec\", \"x\": [\"2018\", \"2007\", \"2008\", \"2014\", \"2016\"], \"xaxis\": \"x2\", \"y\": [-0.48999999999999844, 18.919999999999995, 9.800000000000004, 14.710000000000008, 12.729999999999997], \"yaxis\": \"y3\"}, {\"hovertemplate\": \"<b>LOWESS trendline</b><br><br>class=5<br>skill_name=Grammar Usage<br>skill_name=Grammar Usage<br>year=%{x}<br>skill_delta=%{y} <b>(trend)</b><extra></extra>\", \"legendgroup\": \"skill_name=Grammar Usage\", \"marker\": {\"color\": \"#EF553B\", \"symbol\": \"circle\"}, \"mode\": \"lines\", \"name\": \"skill_name=Grammar Usage\", \"showlegend\": false, \"type\": \"scatter\", \"uid\": \"09a466de-9308-4bca-b13b-20451993aa00\", \"x\": [2007.0, 2008.0, 2014.0, 2016.0, 2018.0], \"xaxis\": \"x2\", \"y\": [18.919999999999995, 9.800000000000004, 14.710000000005897, 12.729999999999997, -0.48999999999993044], \"yaxis\": \"y3\"}, {\"hovertemplate\": \"class=5<br>skill_name=Literal Comprehension<br>skill_name=Literal Comprehension<br>year=%{x}<br>skill_delta=%{y}<br>studentCount=%{marker.size}<extra></extra>\", \"legendgroup\": \"skill_name=Literal Comprehension\", \"marker\": {\"color\": \"#00cc96\", \"size\": [109, 16, 73, 108, 103], \"sizemode\": \"area\", \"sizeref\": 1.1, \"symbol\": \"circle\"}, \"mode\": \"markers\", \"name\": \"skill_name=Literal Comprehension\", \"showlegend\": false, \"type\": \"scatter\", \"uid\": \"3fb4bb3f-1010-4a44-a1a3-128b1e844828\", \"x\": [\"2018\", \"2007\", \"2008\", \"2014\", \"2016\"], \"xaxis\": \"x3\", \"y\": [12.460000000000008, 11.560000000000002, 4.229999999999997, 12.58999999999999, 8.030000000000001], \"yaxis\": \"y3\"}, {\"hovertemplate\": \"<b>LOWESS trendline</b><br><br>class=5<br>skill_name=Literal Comprehension<br>skill_name=Literal Comprehension<br>year=%{x}<br>skill_delta=%{y} <b>(trend)</b><extra></extra>\", \"legendgroup\": \"skill_name=Literal Comprehension\", \"marker\": {\"color\": \"#00cc96\", \"symbol\": \"circle\"}, \"mode\": \"lines\", \"name\": \"skill_name=Literal Comprehension\", \"showlegend\": false, \"type\": \"scatter\", \"uid\": \"e93bb6c5-5e6f-4aaf-861d-6970397088ad\", \"x\": [2007.0, 2008.0, 2014.0, 2016.0, 2018.0], \"xaxis\": \"x3\", \"y\": [11.560000000000665, 4.229999999999591, 12.58999999999999, 8.030000000000001, 12.46000000000111], \"yaxis\": \"y3\"}, {\"hovertemplate\": \"class=5<br>skill_name=Vocabulary in Context<br>skill_name=Vocabulary in Context<br>year=%{x}<br>skill_delta=%{y}<br>studentCount=%{marker.size}<extra></extra>\", \"legendgroup\": \"skill_name=Vocabulary in Context\", \"marker\": {\"color\": \"#ab63fa\", \"size\": [109, 16, 73, 108, 103], \"sizemode\": \"area\", \"sizeref\": 1.1, \"symbol\": \"circle\"}, \"mode\": \"markers\", \"name\": \"skill_name=Vocabulary in Context\", \"showlegend\": false, \"type\": \"scatter\", \"uid\": \"14ab6a3c-cdae-4267-a7d2-80a74a94a359\", \"x\": [\"2018\", \"2007\", \"2008\", \"2014\", \"2016\"], \"xaxis\": \"x4\", \"y\": [3.8999999999999986, 33.05, 11.069999999999993, 12.310000000000002, 8.009999999999998], \"yaxis\": \"y3\"}, {\"hovertemplate\": \"<b>LOWESS trendline</b><br><br>class=5<br>skill_name=Vocabulary in Context<br>skill_name=Vocabulary in Context<br>year=%{x}<br>skill_delta=%{y} <b>(trend)</b><extra></extra>\", \"legendgroup\": \"skill_name=Vocabulary in Context\", \"marker\": {\"color\": \"#ab63fa\", \"symbol\": \"circle\"}, \"mode\": \"lines\", \"name\": \"skill_name=Vocabulary in Context\", \"showlegend\": false, \"type\": \"scatter\", \"uid\": \"62b638fa-eba1-46e3-ab2c-a50bdeaf1eb2\", \"x\": [2007.0, 2008.0, 2014.0, 2016.0, 2018.0], \"xaxis\": \"x4\", \"y\": [33.05, 11.069999999999993, 12.310000000001628, 8.009999999999998, 3.90000000000038], \"yaxis\": \"y3\"}, {\"hovertemplate\": \"class=6<br>skill_name=Extended Reasoning<br>skill_name=Extended Reasoning<br>year=%{x}<br>skill_delta=%{y}<br>studentCount=%{marker.size}<extra></extra>\", \"legendgroup\": \"skill_name=Extended Reasoning\", \"marker\": {\"color\": \"#636efa\", \"size\": [107, 17, 75, 82, 97], \"sizemode\": \"area\", \"sizeref\": 1.1, \"symbol\": \"circle\"}, \"mode\": \"markers\", \"name\": \"skill_name=Extended Reasoning\", \"showlegend\": false, \"type\": \"scatter\", \"uid\": \"ff0badfe-0149-48bd-a053-0ba4a3787759\", \"x\": [\"2018\", \"2007\", \"2008\", \"2014\", \"2016\"], \"xaxis\": \"x\", \"y\": [8.43, 26.009999999999998, 9.04, 10.420000000000002, 12.590000000000003], \"yaxis\": \"y4\"}, {\"hovertemplate\": \"<b>LOWESS trendline</b><br><br>class=6<br>skill_name=Extended Reasoning<br>skill_name=Extended Reasoning<br>year=%{x}<br>skill_delta=%{y} <b>(trend)</b><extra></extra>\", \"legendgroup\": \"skill_name=Extended Reasoning\", \"marker\": {\"color\": \"#636efa\", \"symbol\": \"circle\"}, \"mode\": \"lines\", \"name\": \"skill_name=Extended Reasoning\", \"showlegend\": false, \"type\": \"scatter\", \"uid\": \"da86a7d1-df49-46fe-afea-7f29be9c11af\", \"x\": [2007.0, 2008.0, 2014.0, 2016.0, 2018.0], \"xaxis\": \"x\", \"y\": [26.009999999999998, 9.04, 10.420000000001234, 12.590000000000003, 8.43000000000094], \"yaxis\": \"y4\"}, {\"hovertemplate\": \"class=6<br>skill_name=Grammar Usage<br>skill_name=Grammar Usage<br>year=%{x}<br>skill_delta=%{y}<br>studentCount=%{marker.size}<extra></extra>\", \"legendgroup\": \"skill_name=Grammar Usage\", \"marker\": {\"color\": \"#EF553B\", \"size\": [107, 17, 75, 82, 97], \"sizemode\": \"area\", \"sizeref\": 1.1, \"symbol\": \"circle\"}, \"mode\": \"markers\", \"name\": \"skill_name=Grammar Usage\", \"showlegend\": false, \"type\": \"scatter\", \"uid\": \"883f6aee-402d-453c-86f0-95952e1e31b2\", \"x\": [\"2018\", \"2007\", \"2008\", \"2014\", \"2016\"], \"xaxis\": \"x2\", \"y\": [2.049999999999999, 32.790000000000006, 20.0, 13.589999999999996, 12.319999999999993], \"yaxis\": \"y4\"}, {\"hovertemplate\": \"<b>LOWESS trendline</b><br><br>class=6<br>skill_name=Grammar Usage<br>skill_name=Grammar Usage<br>year=%{x}<br>skill_delta=%{y} <b>(trend)</b><extra></extra>\", \"legendgroup\": \"skill_name=Grammar Usage\", \"marker\": {\"color\": \"#EF553B\", \"symbol\": \"circle\"}, \"mode\": \"lines\", \"name\": \"skill_name=Grammar Usage\", \"showlegend\": false, \"type\": \"scatter\", \"uid\": \"2c7ba3a0-0723-43ad-86b2-82357dace793\", \"x\": [2007.0, 2008.0, 2014.0, 2016.0, 2018.0], \"xaxis\": \"x2\", \"y\": [32.790000000000006, 20.0, 13.590000000001705, 12.319999999999993, 2.0500000000000016], \"yaxis\": \"y4\"}, {\"hovertemplate\": \"class=6<br>skill_name=Literal Comprehension<br>skill_name=Literal Comprehension<br>year=%{x}<br>skill_delta=%{y}<br>studentCount=%{marker.size}<extra></extra>\", \"legendgroup\": \"skill_name=Literal Comprehension\", \"marker\": {\"color\": \"#00cc96\", \"size\": [107, 17, 75, 82, 97], \"sizemode\": \"area\", \"sizeref\": 1.1, \"symbol\": \"circle\"}, \"mode\": \"markers\", \"name\": \"skill_name=Literal Comprehension\", \"showlegend\": false, \"type\": \"scatter\", \"uid\": \"de6beb15-dbe1-45f4-a2b3-ddcaac6a18fb\", \"x\": [\"2018\", \"2007\", \"2008\", \"2014\", \"2016\"], \"xaxis\": \"x3\", \"y\": [5.859999999999999, 27.340000000000003, 13.11, 11.930000000000007, 6.950000000000003], \"yaxis\": \"y4\"}, {\"hovertemplate\": \"<b>LOWESS trendline</b><br><br>class=6<br>skill_name=Literal Comprehension<br>skill_name=Literal Comprehension<br>year=%{x}<br>skill_delta=%{y} <b>(trend)</b><extra></extra>\", \"legendgroup\": \"skill_name=Literal Comprehension\", \"marker\": {\"color\": \"#00cc96\", \"symbol\": \"circle\"}, \"mode\": \"lines\", \"name\": \"skill_name=Literal Comprehension\", \"showlegend\": false, \"type\": \"scatter\", \"uid\": \"bd8c877e-9db4-41c0-b602-6d34f085776d\", \"x\": [2007.0, 2008.0, 2014.0, 2016.0, 2018.0], \"xaxis\": \"x3\", \"y\": [27.340000000000003, 13.11, 11.930000000001602, 6.950000000000003, 5.860000000000697], \"yaxis\": \"y4\"}, {\"hovertemplate\": \"class=6<br>skill_name=Vocabulary in Context<br>skill_name=Vocabulary in Context<br>year=%{x}<br>skill_delta=%{y}<br>studentCount=%{marker.size}<extra></extra>\", \"legendgroup\": \"skill_name=Vocabulary in Context\", \"marker\": {\"color\": \"#ab63fa\", \"size\": [107, 17, 75, 82, 97], \"sizemode\": \"area\", \"sizeref\": 1.1, \"symbol\": \"circle\"}, \"mode\": \"markers\", \"name\": \"skill_name=Vocabulary in Context\", \"showlegend\": false, \"type\": \"scatter\", \"uid\": \"dfe0bce5-d87d-4f9e-aba7-4f011e4420a6\", \"x\": [\"2018\", \"2007\", \"2008\", \"2014\", \"2016\"], \"xaxis\": \"x4\", \"y\": [16.089999999999996, 27.39, 17.68, 14.420000000000002, 8.14], \"yaxis\": \"y4\"}, {\"hovertemplate\": \"<b>LOWESS trendline</b><br><br>class=6<br>skill_name=Vocabulary in Context<br>skill_name=Vocabulary in Context<br>year=%{x}<br>skill_delta=%{y} <b>(trend)</b><extra></extra>\", \"legendgroup\": \"skill_name=Vocabulary in Context\", \"marker\": {\"color\": \"#ab63fa\", \"symbol\": \"circle\"}, \"mode\": \"lines\", \"name\": \"skill_name=Vocabulary in Context\", \"showlegend\": false, \"type\": \"scatter\", \"uid\": \"0697357e-a401-4268-9d59-bf75eeeeef3b\", \"x\": [2007.0, 2008.0, 2014.0, 2016.0, 2018.0], \"xaxis\": \"x4\", \"y\": [27.39000000001162, 17.680000000007844, 14.420000000000002, 8.14, 16.089999999999996], \"yaxis\": \"y4\"}, {\"hovertemplate\": \"class=7<br>skill_name=Extended Reasoning<br>skill_name=Extended Reasoning<br>year=%{x}<br>skill_delta=%{y}<br>studentCount=%{marker.size}<extra></extra>\", \"legendgroup\": \"skill_name=Extended Reasoning\", \"marker\": {\"color\": \"#636efa\", \"size\": [110, 4, 46, 78, 96], \"sizemode\": \"area\", \"sizeref\": 1.1, \"symbol\": \"circle\"}, \"mode\": \"markers\", \"name\": \"skill_name=Extended Reasoning\", \"showlegend\": false, \"type\": \"scatter\", \"uid\": \"732bb446-bfa3-4891-acc6-2663769083a0\", \"x\": [\"2018\", \"2007\", \"2008\", \"2014\", \"2016\"], \"xaxis\": \"x\", \"y\": [11.149999999999999, 9.270000000000003, 18.009999999999998, 12.170000000000002, 17.14], \"yaxis\": \"y5\"}, {\"hovertemplate\": \"<b>LOWESS trendline</b><br><br>class=7<br>skill_name=Extended Reasoning<br>skill_name=Extended Reasoning<br>year=%{x}<br>skill_delta=%{y} <b>(trend)</b><extra></extra>\", \"legendgroup\": \"skill_name=Extended Reasoning\", \"marker\": {\"color\": \"#636efa\", \"symbol\": \"circle\"}, \"mode\": \"lines\", \"name\": \"skill_name=Extended Reasoning\", \"showlegend\": false, \"type\": \"scatter\", \"uid\": \"9a9ec44a-23ea-4185-baed-33514ba28e7b\", \"x\": [2007.0, 2008.0, 2014.0, 2016.0, 2018.0], \"xaxis\": \"x\", \"y\": [9.270000000003913, 18.010000000008052, 12.170000000000002, 17.14, 11.149999999999999], \"yaxis\": \"y5\"}, {\"hovertemplate\": \"class=7<br>skill_name=Grammar Usage<br>skill_name=Grammar Usage<br>year=%{x}<br>skill_delta=%{y}<br>studentCount=%{marker.size}<extra></extra>\", \"legendgroup\": \"skill_name=Grammar Usage\", \"marker\": {\"color\": \"#EF553B\", \"size\": [110, 4, 46, 78, 96], \"sizemode\": \"area\", \"sizeref\": 1.1, \"symbol\": \"circle\"}, \"mode\": \"markers\", \"name\": \"skill_name=Grammar Usage\", \"showlegend\": false, \"type\": \"scatter\", \"uid\": \"6bd4f6de-59b8-4129-9c0a-ba03d9ca6c17\", \"x\": [\"2018\", \"2007\", \"2008\", \"2014\", \"2016\"], \"xaxis\": \"x2\", \"y\": [4.959999999999997, 21.590000000000003, 20.429999999999993, 16.779999999999994, 14.32], \"yaxis\": \"y5\"}, {\"hovertemplate\": \"<b>LOWESS trendline</b><br><br>class=7<br>skill_name=Grammar Usage<br>skill_name=Grammar Usage<br>year=%{x}<br>skill_delta=%{y} <b>(trend)</b><extra></extra>\", \"legendgroup\": \"skill_name=Grammar Usage\", \"marker\": {\"color\": \"#EF553B\", \"symbol\": \"circle\"}, \"mode\": \"lines\", \"name\": \"skill_name=Grammar Usage\", \"showlegend\": false, \"type\": \"scatter\", \"uid\": \"7d737f6a-072b-4b9e-a2cd-f3928956a977\", \"x\": [2007.0, 2008.0, 2014.0, 2016.0, 2018.0], \"xaxis\": \"x2\", \"y\": [21.590000000009148, 20.430000000009095, 16.779999999999994, 14.32, 4.959999999999997], \"yaxis\": \"y5\"}, {\"hovertemplate\": \"class=7<br>skill_name=Literal Comprehension<br>skill_name=Literal Comprehension<br>year=%{x}<br>skill_delta=%{y}<br>studentCount=%{marker.size}<extra></extra>\", \"legendgroup\": \"skill_name=Literal Comprehension\", \"marker\": {\"color\": \"#00cc96\", \"size\": [110, 4, 46, 78, 96], \"sizemode\": \"area\", \"sizeref\": 1.1, \"symbol\": \"circle\"}, \"mode\": \"markers\", \"name\": \"skill_name=Literal Comprehension\", \"showlegend\": false, \"type\": \"scatter\", \"uid\": \"a75755a8-c338-482e-9cd6-88c084ad6113\", \"x\": [\"2018\", \"2007\", \"2008\", \"2014\", \"2016\"], \"xaxis\": \"x3\", \"y\": [7.149999999999999, 21.949999999999996, 23.71, 13.150000000000006, 12.150000000000006], \"yaxis\": \"y5\"}, {\"hovertemplate\": \"<b>LOWESS trendline</b><br><br>class=7<br>skill_name=Literal Comprehension<br>skill_name=Literal Comprehension<br>year=%{x}<br>skill_delta=%{y} <b>(trend)</b><extra></extra>\", \"legendgroup\": \"skill_name=Literal Comprehension\", \"marker\": {\"color\": \"#00cc96\", \"symbol\": \"circle\"}, \"mode\": \"lines\", \"name\": \"skill_name=Literal Comprehension\", \"showlegend\": false, \"type\": \"scatter\", \"uid\": \"74b44587-2fb7-41f4-9bc2-4d03e03315eb\", \"x\": [2007.0, 2008.0, 2014.0, 2016.0, 2018.0], \"xaxis\": \"x3\", \"y\": [21.949999999999996, 23.71, 13.150000000001654, 12.150000000000006, 7.150000000000759], \"yaxis\": \"y5\"}, {\"hovertemplate\": \"class=7<br>skill_name=Vocabulary in Context<br>skill_name=Vocabulary in Context<br>year=%{x}<br>skill_delta=%{y}<br>studentCount=%{marker.size}<extra></extra>\", \"legendgroup\": \"skill_name=Vocabulary in Context\", \"marker\": {\"color\": \"#ab63fa\", \"size\": [110, 4, 46, 78, 96], \"sizemode\": \"area\", \"sizeref\": 1.1, \"symbol\": \"circle\"}, \"mode\": \"markers\", \"name\": \"skill_name=Vocabulary in Context\", \"showlegend\": false, \"type\": \"scatter\", \"uid\": \"20a30ec9-46e7-4972-8758-71014d754167\", \"x\": [\"2018\", \"2007\", \"2008\", \"2014\", \"2016\"], \"xaxis\": \"x4\", \"y\": [5.199999999999999, 14.630000000000003, 15.5, 16.090000000000003, 8.800000000000004], \"yaxis\": \"y5\"}, {\"hovertemplate\": \"<b>LOWESS trendline</b><br><br>class=7<br>skill_name=Vocabulary in Context<br>skill_name=Vocabulary in Context<br>year=%{x}<br>skill_delta=%{y} <b>(trend)</b><extra></extra>\", \"legendgroup\": \"skill_name=Vocabulary in Context\", \"marker\": {\"color\": \"#ab63fa\", \"symbol\": \"circle\"}, \"mode\": \"lines\", \"name\": \"skill_name=Vocabulary in Context\", \"showlegend\": false, \"type\": \"scatter\", \"uid\": \"8071acf2-afcf-49f3-88a6-3f27d1c105f9\", \"x\": [2007.0, 2008.0, 2014.0, 2016.0, 2018.0], \"xaxis\": \"x4\", \"y\": [14.630000000006198, 15.50000000000691, 16.090000000000003, 8.800000000000004, 5.199999999999999], \"yaxis\": \"y5\"}, {\"hovertemplate\": \"class=8<br>skill_name=Extended Reasoning<br>skill_name=Extended Reasoning<br>year=%{x}<br>skill_delta=%{y}<br>studentCount=%{marker.size}<extra></extra>\", \"legendgroup\": \"skill_name=Extended Reasoning\", \"marker\": {\"color\": \"#636efa\", \"size\": [96, 15, 54, 76, 72], \"sizemode\": \"area\", \"sizeref\": 1.1, \"symbol\": \"circle\"}, \"mode\": \"markers\", \"name\": \"skill_name=Extended Reasoning\", \"showlegend\": false, \"type\": \"scatter\", \"uid\": \"28fe13a2-818d-4ee0-a536-bdd3a23a049e\", \"x\": [\"2018\", \"2007\", \"2008\", \"2014\", \"2016\"], \"xaxis\": \"x\", \"y\": [7.619999999999997, 31.71, 17.630000000000003, 11.099999999999994, 8.96], \"yaxis\": \"y6\"}, {\"hovertemplate\": \"<b>LOWESS trendline</b><br><br>class=8<br>skill_name=Extended Reasoning<br>skill_name=Extended Reasoning<br>year=%{x}<br>skill_delta=%{y} <b>(trend)</b><extra></extra>\", \"legendgroup\": \"skill_name=Extended Reasoning\", \"marker\": {\"color\": \"#636efa\", \"symbol\": \"circle\"}, \"mode\": \"lines\", \"name\": \"skill_name=Extended Reasoning\", \"showlegend\": false, \"type\": \"scatter\", \"uid\": \"78715e5d-9f18-47ea-8545-d8d0ee605be5\", \"x\": [2007.0, 2008.0, 2014.0, 2016.0, 2018.0], \"xaxis\": \"x\", \"y\": [31.71, 17.630000000000003, 11.100000000001417, 8.96, 7.620000000000906], \"yaxis\": \"y6\"}, {\"hovertemplate\": \"class=8<br>skill_name=Grammar Usage<br>skill_name=Grammar Usage<br>year=%{x}<br>skill_delta=%{y}<br>studentCount=%{marker.size}<extra></extra>\", \"legendgroup\": \"skill_name=Grammar Usage\", \"marker\": {\"color\": \"#EF553B\", \"size\": [96, 15, 54, 76, 72], \"sizemode\": \"area\", \"sizeref\": 1.1, \"symbol\": \"circle\"}, \"mode\": \"markers\", \"name\": \"skill_name=Grammar Usage\", \"showlegend\": false, \"type\": \"scatter\", \"uid\": \"cbffc82a-d448-403d-bc7e-a2a97f590a0f\", \"x\": [\"2018\", \"2007\", \"2008\", \"2014\", \"2016\"], \"xaxis\": \"x2\", \"y\": [17.590000000000003, 25.939999999999998, 21.189999999999998, 20.83, 14.780000000000001], \"yaxis\": \"y6\"}, {\"hovertemplate\": \"<b>LOWESS trendline</b><br><br>class=8<br>skill_name=Grammar Usage<br>skill_name=Grammar Usage<br>year=%{x}<br>skill_delta=%{y} <b>(trend)</b><extra></extra>\", \"legendgroup\": \"skill_name=Grammar Usage\", \"marker\": {\"color\": \"#EF553B\", \"symbol\": \"circle\"}, \"mode\": \"lines\", \"name\": \"skill_name=Grammar Usage\", \"showlegend\": false, \"type\": \"scatter\", \"uid\": \"e99fbc4e-d61f-418d-9c4a-a833b81e357f\", \"x\": [2007.0, 2008.0, 2014.0, 2016.0, 2018.0], \"xaxis\": \"x2\", \"y\": [25.94000000000977, 21.1900000000012, 20.830000000001824, 14.780000000000001, 17.590000000000913], \"yaxis\": \"y6\"}, {\"hovertemplate\": \"class=8<br>skill_name=Literal Comprehension<br>skill_name=Literal Comprehension<br>year=%{x}<br>skill_delta=%{y}<br>studentCount=%{marker.size}<extra></extra>\", \"legendgroup\": \"skill_name=Literal Comprehension\", \"marker\": {\"color\": \"#00cc96\", \"size\": [96, 15, 54, 76, 72], \"sizemode\": \"area\", \"sizeref\": 1.1, \"symbol\": \"circle\"}, \"mode\": \"markers\", \"name\": \"skill_name=Literal Comprehension\", \"showlegend\": false, \"type\": \"scatter\", \"uid\": \"88c992eb-3f79-4f46-889e-b66712c0f3f9\", \"x\": [\"2018\", \"2007\", \"2008\", \"2014\", \"2016\"], \"xaxis\": \"x3\", \"y\": [7.0, 30.270000000000003, 14.79, 9.68999999999999, 5.969999999999999], \"yaxis\": \"y6\"}, {\"hovertemplate\": \"<b>LOWESS trendline</b><br><br>class=8<br>skill_name=Literal Comprehension<br>skill_name=Literal Comprehension<br>year=%{x}<br>skill_delta=%{y} <b>(trend)</b><extra></extra>\", \"legendgroup\": \"skill_name=Literal Comprehension\", \"marker\": {\"color\": \"#00cc96\", \"symbol\": \"circle\"}, \"mode\": \"lines\", \"name\": \"skill_name=Literal Comprehension\", \"showlegend\": false, \"type\": \"scatter\", \"uid\": \"9f65f3ad-391b-4516-bb0a-270ba4302d4e\", \"x\": [2007.0, 2008.0, 2014.0, 2016.0, 2018.0], \"xaxis\": \"x3\", \"y\": [30.270000000000003, 14.79, 9.690000000001278, 5.969999999999999, 7.00000000000089], \"yaxis\": \"y6\"}, {\"hovertemplate\": \"class=8<br>skill_name=Vocabulary in Context<br>skill_name=Vocabulary in Context<br>year=%{x}<br>skill_delta=%{y}<br>studentCount=%{marker.size}<extra></extra>\", \"legendgroup\": \"skill_name=Vocabulary in Context\", \"marker\": {\"color\": \"#ab63fa\", \"size\": [96, 15, 54, 76, 72], \"sizemode\": \"area\", \"sizeref\": 1.1, \"symbol\": \"circle\"}, \"mode\": \"markers\", \"name\": \"skill_name=Vocabulary in Context\", \"showlegend\": false, \"type\": \"scatter\", \"uid\": \"29d8883d-28b7-430d-a61f-2f62934df8b1\", \"x\": [\"2018\", \"2007\", \"2008\", \"2014\", \"2016\"], \"xaxis\": \"x4\", \"y\": [10.960000000000004, 19.4, 12.770000000000003, 10.939999999999998, 5.579999999999998], \"yaxis\": \"y6\"}, {\"hovertemplate\": \"<b>LOWESS trendline</b><br><br>class=8<br>skill_name=Vocabulary in Context<br>skill_name=Vocabulary in Context<br>year=%{x}<br>skill_delta=%{y} <b>(trend)</b><extra></extra>\", \"legendgroup\": \"skill_name=Vocabulary in Context\", \"marker\": {\"color\": \"#ab63fa\", \"symbol\": \"circle\"}, \"mode\": \"lines\", \"name\": \"skill_name=Vocabulary in Context\", \"showlegend\": false, \"type\": \"scatter\", \"uid\": \"b2550281-6156-4d19-8d73-5121fad284e4\", \"x\": [2007.0, 2008.0, 2014.0, 2016.0, 2018.0], \"xaxis\": \"x4\", \"y\": [19.400000000008227, 12.770000000005671, 10.939999999999998, 5.579999999999998, 10.960000000000004], \"yaxis\": \"y6\"}, {\"hovertemplate\": \"class=9<br>skill_name=Extended Reasoning<br>skill_name=Extended Reasoning<br>year=%{x}<br>skill_delta=%{y}<br>studentCount=%{marker.size}<extra></extra>\", \"legendgroup\": \"skill_name=Extended Reasoning\", \"marker\": {\"color\": \"#636efa\", \"size\": [98, 10, 40, 73, 64], \"sizemode\": \"area\", \"sizeref\": 1.1, \"symbol\": \"circle\"}, \"mode\": \"markers\", \"name\": \"skill_name=Extended Reasoning\", \"showlegend\": false, \"type\": \"scatter\", \"uid\": \"074d6af2-e71d-40bc-b94b-1c855aae99c9\", \"x\": [\"2018\", \"2007\", \"2008\", \"2014\", \"2016\"], \"xaxis\": \"x\", \"y\": [9.119999999999997, 16.58, 20.020000000000003, 10.290000000000006, 16.67], \"yaxis\": \"y7\"}, {\"hovertemplate\": \"<b>LOWESS trendline</b><br><br>class=9<br>skill_name=Extended Reasoning<br>skill_name=Extended Reasoning<br>year=%{x}<br>skill_delta=%{y} <b>(trend)</b><extra></extra>\", \"legendgroup\": \"skill_name=Extended Reasoning\", \"marker\": {\"color\": \"#636efa\", \"symbol\": \"circle\"}, \"mode\": \"lines\", \"name\": \"skill_name=Extended Reasoning\", \"showlegend\": false, \"type\": \"scatter\", \"uid\": \"fa819162-fe16-473f-87f7-023a68232578\", \"x\": [2007.0, 2008.0, 2014.0, 2016.0, 2018.0], \"xaxis\": \"x\", \"y\": [16.58, 20.020000000000003, 10.290000000001122, 16.67, 9.120000000000939], \"yaxis\": \"y7\"}, {\"hovertemplate\": \"class=9<br>skill_name=Grammar Usage<br>skill_name=Grammar Usage<br>year=%{x}<br>skill_delta=%{y}<br>studentCount=%{marker.size}<extra></extra>\", \"legendgroup\": \"skill_name=Grammar Usage\", \"marker\": {\"color\": \"#EF553B\", \"size\": [98, 10, 40, 73, 64], \"sizemode\": \"area\", \"sizeref\": 1.1, \"symbol\": \"circle\"}, \"mode\": \"markers\", \"name\": \"skill_name=Grammar Usage\", \"showlegend\": false, \"type\": \"scatter\", \"uid\": \"4a6fec6e-c1a9-422b-84d3-62d55021c46c\", \"x\": [\"2018\", \"2007\", \"2008\", \"2014\", \"2016\"], \"xaxis\": \"x2\", \"y\": [9.200000000000003, 23.130000000000003, 24.15, 14.89, 18.840000000000003], \"yaxis\": \"y7\"}, {\"hovertemplate\": \"<b>LOWESS trendline</b><br><br>class=9<br>skill_name=Grammar Usage<br>skill_name=Grammar Usage<br>year=%{x}<br>skill_delta=%{y} <b>(trend)</b><extra></extra>\", \"legendgroup\": \"skill_name=Grammar Usage\", \"marker\": {\"color\": \"#EF553B\", \"symbol\": \"circle\"}, \"mode\": \"lines\", \"name\": \"skill_name=Grammar Usage\", \"showlegend\": false, \"type\": \"scatter\", \"uid\": \"a674d00e-a201-4af1-8ff3-e381cdac1ee0\", \"x\": [2007.0, 2008.0, 2014.0, 2016.0, 2018.0], \"xaxis\": \"x2\", \"y\": [23.130000000000003, 24.15, 14.890000000001743, 18.840000000000003, 9.200000000000903], \"yaxis\": \"y7\"}, {\"hovertemplate\": \"class=9<br>skill_name=Literal Comprehension<br>skill_name=Literal Comprehension<br>year=%{x}<br>skill_delta=%{y}<br>studentCount=%{marker.size}<extra></extra>\", \"legendgroup\": \"skill_name=Literal Comprehension\", \"marker\": {\"color\": \"#00cc96\", \"size\": [98, 10, 40, 73, 64], \"sizemode\": \"area\", \"sizeref\": 1.1, \"symbol\": \"circle\"}, \"mode\": \"markers\", \"name\": \"skill_name=Literal Comprehension\", \"showlegend\": false, \"type\": \"scatter\", \"uid\": \"0a0f7b8e-f659-467b-956f-a6864db7ce96\", \"x\": [\"2018\", \"2007\", \"2008\", \"2014\", \"2016\"], \"xaxis\": \"x3\", \"y\": [8.419999999999998, 14.509999999999998, 18.419999999999995, 16.310000000000002, 18.200000000000003], \"yaxis\": \"y7\"}, {\"hovertemplate\": \"<b>LOWESS trendline</b><br><br>class=9<br>skill_name=Literal Comprehension<br>skill_name=Literal Comprehension<br>year=%{x}<br>skill_delta=%{y} <b>(trend)</b><extra></extra>\", \"legendgroup\": \"skill_name=Literal Comprehension\", \"marker\": {\"color\": \"#00cc96\", \"symbol\": \"circle\"}, \"mode\": \"lines\", \"name\": \"skill_name=Literal Comprehension\", \"showlegend\": false, \"type\": \"scatter\", \"uid\": \"11a96eba-f479-4d3c-9fdd-75b34e817693\", \"x\": [2007.0, 2008.0, 2014.0, 2016.0, 2018.0], \"xaxis\": \"x3\", \"y\": [14.510000000006137, 18.420000000008216, 16.310000000000002, 18.200000000000003, 8.419999999999998], \"yaxis\": \"y7\"}, {\"hovertemplate\": \"class=9<br>skill_name=Vocabulary in Context<br>skill_name=Vocabulary in Context<br>year=%{x}<br>skill_delta=%{y}<br>studentCount=%{marker.size}<extra></extra>\", \"legendgroup\": \"skill_name=Vocabulary in Context\", \"marker\": {\"color\": \"#ab63fa\", \"size\": [98, 10, 40, 73, 64], \"sizemode\": \"area\", \"sizeref\": 1.1, \"symbol\": \"circle\"}, \"mode\": \"markers\", \"name\": \"skill_name=Vocabulary in Context\", \"showlegend\": false, \"type\": \"scatter\", \"uid\": \"45910214-a463-43df-9a83-87f5f7570e8c\", \"x\": [\"2018\", \"2007\", \"2008\", \"2014\", \"2016\"], \"xaxis\": \"x4\", \"y\": [1.9799999999999995, 18.28, 22.089999999999996, 17.190000000000005, 23.019999999999996], \"yaxis\": \"y7\"}, {\"hovertemplate\": \"<b>LOWESS trendline</b><br><br>class=9<br>skill_name=Vocabulary in Context<br>skill_name=Vocabulary in Context<br>year=%{x}<br>skill_delta=%{y} <b>(trend)</b><extra></extra>\", \"legendgroup\": \"skill_name=Vocabulary in Context\", \"marker\": {\"color\": \"#ab63fa\", \"symbol\": \"circle\"}, \"mode\": \"lines\", \"name\": \"skill_name=Vocabulary in Context\", \"showlegend\": false, \"type\": \"scatter\", \"uid\": \"1785651f-a412-4c54-b24f-4239961c1751\", \"x\": [2007.0, 2008.0, 2014.0, 2016.0, 2018.0], \"xaxis\": \"x4\", \"y\": [18.280000000007735, 22.09000000000985, 17.190000000000005, 23.019999999999996, 1.9799999999999995], \"yaxis\": \"y7\"}, {\"hovertemplate\": \"class=10<br>skill_name=Extended Reasoning<br>skill_name=Extended Reasoning<br>year=%{x}<br>skill_delta=%{y}<br>studentCount=%{marker.size}<extra></extra>\", \"legendgroup\": \"skill_name=Extended Reasoning\", \"marker\": {\"color\": \"#636efa\", \"size\": [73, 60], \"sizemode\": \"area\", \"sizeref\": 1.1, \"symbol\": \"circle\"}, \"mode\": \"markers\", \"name\": \"skill_name=Extended Reasoning\", \"showlegend\": false, \"type\": \"scatter\", \"uid\": \"0080a6c0-b7c5-443f-a731-1bd04202f341\", \"x\": [\"2014\", \"2016\"], \"xaxis\": \"x\", \"y\": [12.739999999999995, 10.869999999999997], \"yaxis\": \"y8\"}, {\"hovertemplate\": \"<b>LOWESS trendline</b><br><br>class=10<br>skill_name=Extended Reasoning<br>skill_name=Extended Reasoning<br>year=%{x}<br>skill_delta=%{y} <b>(trend)</b><extra></extra>\", \"legendgroup\": \"skill_name=Extended Reasoning\", \"marker\": {\"color\": \"#636efa\", \"symbol\": \"circle\"}, \"mode\": \"lines\", \"name\": \"skill_name=Extended Reasoning\", \"showlegend\": false, \"type\": \"scatter\", \"uid\": \"37553073-98dc-4ac6-8c4c-e8f70e506e9d\", \"x\": [2014.0, 2016.0], \"xaxis\": \"x\", \"y\": [12.739999999999995, 10.869999999999997], \"yaxis\": \"y8\"}, {\"hovertemplate\": \"class=10<br>skill_name=Grammar Usage<br>skill_name=Grammar Usage<br>year=%{x}<br>skill_delta=%{y}<br>studentCount=%{marker.size}<extra></extra>\", \"legendgroup\": \"skill_name=Grammar Usage\", \"marker\": {\"color\": \"#EF553B\", \"size\": [73, 60], \"sizemode\": \"area\", \"sizeref\": 1.1, \"symbol\": \"circle\"}, \"mode\": \"markers\", \"name\": \"skill_name=Grammar Usage\", \"showlegend\": false, \"type\": \"scatter\", \"uid\": \"2601ea4d-7f75-4a4d-a755-37bd82055d54\", \"x\": [\"2014\", \"2016\"], \"xaxis\": \"x2\", \"y\": [15.690000000000005, 18.769999999999996], \"yaxis\": \"y8\"}, {\"hovertemplate\": \"<b>LOWESS trendline</b><br><br>class=10<br>skill_name=Grammar Usage<br>skill_name=Grammar Usage<br>year=%{x}<br>skill_delta=%{y} <b>(trend)</b><extra></extra>\", \"legendgroup\": \"skill_name=Grammar Usage\", \"marker\": {\"color\": \"#EF553B\", \"symbol\": \"circle\"}, \"mode\": \"lines\", \"name\": \"skill_name=Grammar Usage\", \"showlegend\": false, \"type\": \"scatter\", \"uid\": \"a774bb0e-41af-4399-ab35-baba89f146c4\", \"x\": [2014.0, 2016.0], \"xaxis\": \"x2\", \"y\": [15.690000000000005, 18.769999999999996], \"yaxis\": \"y8\"}, {\"hovertemplate\": \"class=10<br>skill_name=Literal Comprehension<br>skill_name=Literal Comprehension<br>year=%{x}<br>skill_delta=%{y}<br>studentCount=%{marker.size}<extra></extra>\", \"legendgroup\": \"skill_name=Literal Comprehension\", \"marker\": {\"color\": \"#00cc96\", \"size\": [73, 60], \"sizemode\": \"area\", \"sizeref\": 1.1, \"symbol\": \"circle\"}, \"mode\": \"markers\", \"name\": \"skill_name=Literal Comprehension\", \"showlegend\": false, \"type\": \"scatter\", \"uid\": \"3449cee9-6c49-4391-a397-c24594df0057\", \"x\": [\"2014\", \"2016\"], \"xaxis\": \"x3\", \"y\": [15.180000000000007, 15.380000000000003], \"yaxis\": \"y8\"}, {\"hovertemplate\": \"<b>LOWESS trendline</b><br><br>class=10<br>skill_name=Literal Comprehension<br>skill_name=Literal Comprehension<br>year=%{x}<br>skill_delta=%{y} <b>(trend)</b><extra></extra>\", \"legendgroup\": \"skill_name=Literal Comprehension\", \"marker\": {\"color\": \"#00cc96\", \"symbol\": \"circle\"}, \"mode\": \"lines\", \"name\": \"skill_name=Literal Comprehension\", \"showlegend\": false, \"type\": \"scatter\", \"uid\": \"175e01ae-b8ef-416a-9ef5-f105ef7e4282\", \"x\": [2014.0, 2016.0], \"xaxis\": \"x3\", \"y\": [15.180000000000007, 15.380000000000003], \"yaxis\": \"y8\"}, {\"hovertemplate\": \"class=10<br>skill_name=Vocabulary in Context<br>skill_name=Vocabulary in Context<br>year=%{x}<br>skill_delta=%{y}<br>studentCount=%{marker.size}<extra></extra>\", \"legendgroup\": \"skill_name=Vocabulary in Context\", \"marker\": {\"color\": \"#ab63fa\", \"size\": [73, 60], \"sizemode\": \"area\", \"sizeref\": 1.1, \"symbol\": \"circle\"}, \"mode\": \"markers\", \"name\": \"skill_name=Vocabulary in Context\", \"showlegend\": false, \"type\": \"scatter\", \"uid\": \"28e0d2fc-c219-4652-93d7-06b1546af0df\", \"x\": [\"2014\", \"2016\"], \"xaxis\": \"x4\", \"y\": [14.719999999999999, 12.43], \"yaxis\": \"y8\"}, {\"hovertemplate\": \"<b>LOWESS trendline</b><br><br>class=10<br>skill_name=Vocabulary in Context<br>skill_name=Vocabulary in Context<br>year=%{x}<br>skill_delta=%{y} <b>(trend)</b><extra></extra>\", \"legendgroup\": \"skill_name=Vocabulary in Context\", \"marker\": {\"color\": \"#ab63fa\", \"symbol\": \"circle\"}, \"mode\": \"lines\", \"name\": \"skill_name=Vocabulary in Context\", \"showlegend\": false, \"type\": \"scatter\", \"uid\": \"528748f0-d1c1-4cfa-93b7-c0d70f9d54bb\", \"x\": [2014.0, 2016.0], \"xaxis\": \"x4\", \"y\": [14.719999999999999, 12.43], \"yaxis\": \"y8\"}],\n",
       "                        {\"annotations\": [{\"showarrow\": false, \"text\": \"skill_name=Extended Reasoning\", \"textangle\": 0, \"x\": 0.1153846153846154, \"xanchor\": \"center\", \"xref\": \"paper\", \"y\": 1.02, \"yanchor\": \"middle\", \"yref\": \"paper\"}, {\"showarrow\": false, \"text\": \"skill_name=Grammar Usage\", \"textangle\": 0, \"x\": 0.3717948717948718, \"xanchor\": \"center\", \"xref\": \"paper\", \"y\": 1.02, \"yanchor\": \"middle\", \"yref\": \"paper\"}, {\"showarrow\": false, \"text\": \"skill_name=Literal Comprehension\", \"textangle\": 0, \"x\": 0.6282051282051283, \"xanchor\": \"center\", \"xref\": \"paper\", \"y\": 1.02, \"yanchor\": \"middle\", \"yref\": \"paper\"}, {\"showarrow\": false, \"text\": \"skill_name=Vocabulary in Context\", \"textangle\": 0, \"x\": 0.8846153846153848, \"xanchor\": \"center\", \"xref\": \"paper\", \"y\": 1.02, \"yanchor\": \"middle\", \"yref\": \"paper\"}, {\"showarrow\": false, \"text\": \"class=3\", \"textangle\": 90, \"x\": 1.01, \"xanchor\": \"center\", \"xref\": \"paper\", \"y\": 0.9430379746835442, \"yanchor\": \"middle\", \"yref\": \"paper\"}, {\"showarrow\": false, \"text\": \"class=4\", \"textangle\": 90, \"x\": 1.01, \"xanchor\": \"center\", \"xref\": \"paper\", \"y\": 0.8164556962025316, \"yanchor\": \"middle\", \"yref\": \"paper\"}, {\"showarrow\": false, \"text\": \"class=5\", \"textangle\": 90, \"x\": 1.01, \"xanchor\": \"center\", \"xref\": \"paper\", \"y\": 0.6898734177215189, \"yanchor\": \"middle\", \"yref\": \"paper\"}, {\"showarrow\": false, \"text\": \"class=6\", \"textangle\": 90, \"x\": 1.01, \"xanchor\": \"center\", \"xref\": \"paper\", \"y\": 0.5632911392405062, \"yanchor\": \"middle\", \"yref\": \"paper\"}, {\"showarrow\": false, \"text\": \"class=7\", \"textangle\": 90, \"x\": 1.01, \"xanchor\": \"center\", \"xref\": \"paper\", \"y\": 0.4367088607594936, \"yanchor\": \"middle\", \"yref\": \"paper\"}, {\"showarrow\": false, \"text\": \"class=8\", \"textangle\": 90, \"x\": 1.01, \"xanchor\": \"center\", \"xref\": \"paper\", \"y\": 0.310126582278481, \"yanchor\": \"middle\", \"yref\": \"paper\"}, {\"showarrow\": false, \"text\": \"class=9\", \"textangle\": 90, \"x\": 1.01, \"xanchor\": \"center\", \"xref\": \"paper\", \"y\": 0.18354430379746833, \"yanchor\": \"middle\", \"yref\": \"paper\"}, {\"showarrow\": false, \"text\": \"class=10\", \"textangle\": 90, \"x\": 1.01, \"xanchor\": \"center\", \"xref\": \"paper\", \"y\": 0.05696202531645569, \"yanchor\": \"middle\", \"yref\": \"paper\"}], \"grid\": {\"xaxes\": [\"x\", \"x2\", \"x3\", \"x4\"], \"xgap\": 0.1, \"xside\": \"bottom\", \"yaxes\": [\"y\", \"y2\", \"y3\", \"y4\", \"y5\", \"y6\", \"y7\", \"y8\"], \"ygap\": 0.1, \"yside\": \"left\"}, \"height\": 1500, \"legend\": {\"tracegroupgap\": 0}, \"template\": {\"data\": {\"bar\": [{\"marker\": {\"line\": {\"color\": \"#E5ECF6\", \"width\": 0.5}}, \"type\": \"bar\"}], \"barpolar\": [{\"marker\": {\"line\": {\"color\": \"#E5ECF6\", \"width\": 0.5}}, \"type\": \"barpolar\"}], \"carpet\": [{\"aaxis\": {\"endlinecolor\": \"#2a3f5f\", \"gridcolor\": \"white\", \"linecolor\": \"white\", \"minorgridcolor\": \"white\", \"startlinecolor\": \"#2a3f5f\"}, \"baxis\": {\"endlinecolor\": \"#2a3f5f\", \"gridcolor\": \"white\", \"linecolor\": \"white\", \"minorgridcolor\": \"white\", \"startlinecolor\": \"#2a3f5f\"}, \"type\": \"carpet\"}], \"choropleth\": [{\"colorbar\": {\"outlinewidth\": 0, \"ticks\": \"\"}, \"type\": \"choropleth\"}], \"contour\": [{\"autocolorscale\": true, \"colorbar\": {\"outlinewidth\": 0, \"ticks\": \"\"}, \"type\": \"contour\"}], \"contourcarpet\": [{\"colorbar\": {\"outlinewidth\": 0, \"ticks\": \"\"}, \"type\": \"contourcarpet\"}], \"heatmap\": [{\"autocolorscale\": true, \"colorbar\": {\"outlinewidth\": 0, \"ticks\": \"\"}, \"type\": \"heatmap\"}], \"heatmapgl\": [{\"colorbar\": {\"outlinewidth\": 0, \"ticks\": \"\"}, \"type\": \"heatmapgl\"}], \"histogram\": [{\"marker\": {\"colorbar\": {\"outlinewidth\": 0, \"ticks\": \"\"}}, \"type\": \"histogram\"}], \"histogram2d\": [{\"autocolorscale\": true, \"colorbar\": {\"outlinewidth\": 0, \"ticks\": \"\"}, \"type\": \"histogram2d\"}], \"histogram2dcontour\": [{\"autocolorscale\": true, \"colorbar\": {\"outlinewidth\": 0, \"ticks\": \"\"}, \"type\": \"histogram2dcontour\"}], \"mesh3d\": [{\"colorbar\": {\"outlinewidth\": 0, \"ticks\": \"\"}, \"type\": \"mesh3d\"}], \"parcoords\": [{\"line\": {\"colorbar\": {\"outlinewidth\": 0, \"ticks\": \"\"}}, \"type\": \"parcoords\"}], \"scatter\": [{\"marker\": {\"colorbar\": {\"outlinewidth\": 0, \"ticks\": \"\"}}, \"type\": \"scatter\"}], \"scatter3d\": [{\"marker\": {\"colorbar\": {\"outlinewidth\": 0, \"ticks\": \"\"}}, \"type\": \"scatter3d\"}], \"scattercarpet\": [{\"marker\": {\"colorbar\": {\"outlinewidth\": 0, \"ticks\": \"\"}}, \"type\": \"scattercarpet\"}], \"scattergeo\": [{\"marker\": {\"colorbar\": {\"outlinewidth\": 0, \"ticks\": \"\"}}, \"type\": \"scattergeo\"}], \"scattergl\": [{\"marker\": {\"colorbar\": {\"outlinewidth\": 0, \"ticks\": \"\"}}, \"type\": \"scattergl\"}], \"scattermapbox\": [{\"marker\": {\"colorbar\": {\"outlinewidth\": 0, \"ticks\": \"\"}}, \"type\": \"scattermapbox\"}], \"scatterpolar\": [{\"marker\": {\"colorbar\": {\"outlinewidth\": 0, \"ticks\": \"\"}}, \"type\": \"scatterpolar\"}], \"scatterpolargl\": [{\"marker\": {\"colorbar\": {\"outlinewidth\": 0, \"ticks\": \"\"}}, \"type\": \"scatterpolargl\"}], \"scatterternary\": [{\"marker\": {\"colorbar\": {\"outlinewidth\": 0, \"ticks\": \"\"}}, \"type\": \"scatterternary\"}], \"surface\": [{\"colorbar\": {\"outlinewidth\": 0, \"ticks\": \"\"}, \"type\": \"surface\"}], \"table\": [{\"cells\": {\"fill\": {\"color\": \"#EBF0F8\"}, \"line\": {\"color\": \"white\"}}, \"header\": {\"fill\": {\"color\": \"#C8D4E3\"}, \"line\": {\"color\": \"white\"}}, \"type\": \"table\"}]}, \"layout\": {\"annotationdefaults\": {\"arrowcolor\": \"#506784\", \"arrowhead\": 0, \"arrowwidth\": 1}, \"colorscale\": {\"diverging\": [[0, \"#8e0152\"], [0.1, \"#c51b7d\"], [0.2, \"#de77ae\"], [0.3, \"#f1b6da\"], [0.4, \"#fde0ef\"], [0.5, \"#f7f7f7\"], [0.6, \"#e6f5d0\"], [0.7, \"#b8e186\"], [0.8, \"#7fbc41\"], [0.9, \"#4d9221\"], [1, \"#276419\"]], \"sequential\": [[0.0, \"#0508b8\"], [0.0893854748603352, \"#1910d8\"], [0.1787709497206704, \"#3c19f0\"], [0.2681564245810056, \"#6b1cfb\"], [0.3575418994413408, \"#981cfd\"], [0.44692737430167595, \"#bf1cfd\"], [0.5363128491620112, \"#dd2bfd\"], [0.6256983240223464, \"#f246fe\"], [0.7150837988826816, \"#fc67fd\"], [0.8044692737430168, \"#fe88fc\"], [0.8938547486033519, \"#fea5fd\"], [0.9832402234636871, \"#febefe\"], [1.0, \"#fec3fe\"]], \"sequentialminus\": [[0.0, \"#0508b8\"], [0.0893854748603352, \"#1910d8\"], [0.1787709497206704, \"#3c19f0\"], [0.2681564245810056, \"#6b1cfb\"], [0.3575418994413408, \"#981cfd\"], [0.44692737430167595, \"#bf1cfd\"], [0.5363128491620112, \"#dd2bfd\"], [0.6256983240223464, \"#f246fe\"], [0.7150837988826816, \"#fc67fd\"], [0.8044692737430168, \"#fe88fc\"], [0.8938547486033519, \"#fea5fd\"], [0.9832402234636871, \"#febefe\"], [1.0, \"#fec3fe\"]]}, \"colorway\": [\"#636efa\", \"#EF553B\", \"#00cc96\", \"#ab63fa\", \"#19d3f3\", \"#e763fa\", \"#FECB52\", \"#FFA15A\", \"#FF6692\", \"#B6E880\"], \"font\": {\"color\": \"#2a3f5f\"}, \"geo\": {\"bgcolor\": \"white\", \"lakecolor\": \"white\", \"landcolor\": \"#E5ECF6\", \"showlakes\": true, \"showland\": true, \"subunitcolor\": \"white\"}, \"hoverlabel\": {\"align\": \"left\"}, \"hovermode\": \"closest\", \"legend\": {\"itemsizing\": \"constant\"}, \"mapbox\": {\"style\": \"light\"}, \"paper_bgcolor\": \"white\", \"plot_bgcolor\": \"#E5ECF6\", \"polar\": {\"angularaxis\": {\"gridcolor\": \"white\", \"linecolor\": \"white\", \"ticks\": \"\"}, \"bgcolor\": \"#E5ECF6\", \"radialaxis\": {\"gridcolor\": \"white\", \"linecolor\": \"white\", \"ticks\": \"\"}}, \"scene\": {\"xaxis\": {\"backgroundcolor\": \"#E5ECF6\", \"gridcolor\": \"white\", \"gridwidth\": 2, \"linecolor\": \"white\", \"showbackground\": true, \"ticks\": \"\", \"zerolinecolor\": \"white\"}, \"yaxis\": {\"backgroundcolor\": \"#E5ECF6\", \"gridcolor\": \"white\", \"gridwidth\": 2, \"linecolor\": \"white\", \"showbackground\": true, \"ticks\": \"\", \"zerolinecolor\": \"white\"}, \"zaxis\": {\"backgroundcolor\": \"#E5ECF6\", \"gridcolor\": \"white\", \"gridwidth\": 2, \"linecolor\": \"white\", \"showbackground\": true, \"ticks\": \"\", \"zerolinecolor\": \"white\"}}, \"shapedefaults\": {\"fillcolor\": \"#506784\", \"line\": {\"width\": 0}, \"opacity\": 0.4}, \"ternary\": {\"aaxis\": {\"gridcolor\": \"white\", \"linecolor\": \"white\", \"ticks\": \"\"}, \"baxis\": {\"gridcolor\": \"white\", \"linecolor\": \"white\", \"ticks\": \"\"}, \"bgcolor\": \"#E5ECF6\", \"caxis\": {\"gridcolor\": \"white\", \"linecolor\": \"white\", \"ticks\": \"\"}}, \"title\": {\"x\": 0.05}, \"xaxis\": {\"automargin\": true, \"gridcolor\": \"white\", \"linecolor\": \"white\", \"ticks\": \"\", \"zerolinecolor\": \"white\", \"zerolinewidth\": 2}, \"yaxis\": {\"automargin\": true, \"gridcolor\": \"white\", \"linecolor\": \"white\", \"ticks\": \"\", \"zerolinecolor\": \"white\", \"zerolinewidth\": 2}}}, \"title\": {\"text\": \"Core Skills in English (Sushila Birla Girls^ School-Kolkata-CBSE)\"}, \"width\": 2000, \"xaxis\": {\"title\": {\"text\": \"year\"}}, \"xaxis2\": {\"matches\": \"x\", \"title\": {\"text\": \"year\"}}, \"xaxis3\": {\"matches\": \"x\", \"title\": {\"text\": \"year\"}}, \"xaxis4\": {\"matches\": \"x\", \"title\": {\"text\": \"year\"}}, \"yaxis\": {\"title\": {\"text\": \"skill_delta\"}}, \"yaxis2\": {\"matches\": \"y\", \"title\": {\"text\": \"skill_delta\"}}, \"yaxis3\": {\"matches\": \"y\", \"title\": {\"text\": \"skill_delta\"}}, \"yaxis4\": {\"matches\": \"y\", \"title\": {\"text\": \"skill_delta\"}}, \"yaxis5\": {\"matches\": \"y\", \"title\": {\"text\": \"skill_delta\"}}, \"yaxis6\": {\"matches\": \"y\", \"title\": {\"text\": \"skill_delta\"}}, \"yaxis7\": {\"matches\": \"y\", \"title\": {\"text\": \"skill_delta\"}}, \"yaxis8\": {\"matches\": \"y\", \"title\": {\"text\": \"skill_delta\"}}},\n",
       "                        {\"showLink\": false, \"linkText\": \"Export to plot.ly\", \"plotlyServerURL\": \"https://plot.ly\"}\n",
       "                    )\n",
       "                };\n",
       "                });\n",
       "            </script>\n",
       "        </div>"
      ]
     },
     "metadata": {},
     "output_type": "display_data"
    }
   ],
   "source": [
    "sub = 'English'\n",
    "px.scatter(df_school[df_school['subject']==sub].drop_duplicates(['papercode','skill_name']), \n",
    "        x = 'year', \n",
    "        y = 'skill_delta', \n",
    "        color='skill_name',\n",
    "        facet_row= 'class', \n",
    "       facet_col= 'skill_name', \n",
    "           size = 'studentCount',\n",
    "           size_max= 10,\n",
    "           trendline=\"lowess\",\n",
    "        height=1500,\n",
    "        width=2000,\n",
    "        title = 'Core Skills in %s (%s-%s-%s)'%(sub,school_name, school_city, school_board) )"
   ]
  },
  {
   "cell_type": "code",
   "execution_count": 129,
   "metadata": {
    "code_folding": [
     1
    ]
   },
   "outputs": [
    {
     "data": {
      "application/vnd.plotly.v1+json": {
       "config": {
        "linkText": "Export to plot.ly",
        "plotlyServerURL": "https://plot.ly",
        "showLink": false
       },
       "data": [
        {
         "hovertemplate": "class=3<br>skill_name=Conceptual Understanding and Comprehension<br>skill_name=Conceptual Understanding and Comprehension<br>year=%{x}<br>skill_delta=%{y}<br>studentCount=%{marker.size}<extra></extra>",
         "legendgroup": "skill_name=Conceptual Understanding and Comprehension",
         "marker": {
          "color": "#636efa",
          "size": [
           113,
           18,
           73,
           75,
           106,
           109
          ],
          "sizemode": "area",
          "sizeref": 1.15,
          "symbol": "circle"
         },
         "mode": "markers",
         "name": "skill_name=Conceptual Understanding and Comprehension",
         "showlegend": true,
         "type": "scatter",
         "uid": "009ab8cc-607b-4f19-b01c-e7c42864302b",
         "x": [
          "2018",
          "2007",
          "2008",
          "2009",
          "2014",
          "2016"
         ],
         "xaxis": "x",
         "y": [
          6.699999999999996,
          7.149999999999999,
          4.269999999999996,
          1.1799999999999926,
          -1.6500000000000057,
          6.280000000000001
         ],
         "yaxis": "y"
        },
        {
         "hovertemplate": "<b>LOWESS trendline</b><br><br>class=3<br>skill_name=Conceptual Understanding and Comprehension<br>skill_name=Conceptual Understanding and Comprehension<br>year=%{x}<br>skill_delta=%{y} <b>(trend)</b><extra></extra>",
         "legendgroup": "skill_name=Conceptual Understanding and Comprehension",
         "marker": {
          "color": "#636efa",
          "symbol": "circle"
         },
         "mode": "lines",
         "name": "skill_name=Conceptual Understanding and Comprehension",
         "showlegend": false,
         "type": "scatter",
         "uid": "7e58d846-744d-4c5d-babf-1f4b3d185978",
         "x": [
          2007,
          2008,
          2009,
          2014,
          2016,
          2018
         ],
         "xaxis": "x",
         "y": [
          7.177459803311247,
          4.193133687635075,
          1.2065421736968656,
          -1.6500000000001522,
          2.524999999999995,
          6.700000000000102
         ],
         "yaxis": "y"
        },
        {
         "hovertemplate": "class=3<br>skill_name=Knowledge of Basic Science Facts<br>skill_name=Knowledge of Basic Science Facts<br>year=%{x}<br>skill_delta=%{y}<br>studentCount=%{marker.size}<extra></extra>",
         "legendgroup": "skill_name=Knowledge of Basic Science Facts",
         "marker": {
          "color": "#EF553B",
          "size": [
           113,
           18,
           73,
           75,
           106,
           109
          ],
          "sizemode": "area",
          "sizeref": 1.15,
          "symbol": "circle"
         },
         "mode": "markers",
         "name": "skill_name=Knowledge of Basic Science Facts",
         "showlegend": true,
         "type": "scatter",
         "uid": "f147732a-1496-42cf-a315-0dab943dee4e",
         "x": [
          "2018",
          "2007",
          "2008",
          "2009",
          "2014",
          "2016"
         ],
         "xaxis": "x2",
         "y": [
          2.3000000000000043,
          8.46,
          6.909999999999997,
          5.450000000000003,
          0.5799999999999983,
          3.4200000000000017
         ],
         "yaxis": "y"
        },
        {
         "hovertemplate": "<b>LOWESS trendline</b><br><br>class=3<br>skill_name=Knowledge of Basic Science Facts<br>skill_name=Knowledge of Basic Science Facts<br>year=%{x}<br>skill_delta=%{y} <b>(trend)</b><extra></extra>",
         "legendgroup": "skill_name=Knowledge of Basic Science Facts",
         "marker": {
          "color": "#EF553B",
          "symbol": "circle"
         },
         "mode": "lines",
         "name": "skill_name=Knowledge of Basic Science Facts",
         "showlegend": false,
         "type": "scatter",
         "uid": "59bc30cd-2083-4749-9594-8901af03e705",
         "x": [
          2007,
          2008,
          2009,
          2014,
          2016,
          2018
         ],
         "xaxis": "x2",
         "y": [
          8.448228692995299,
          6.942939808392143,
          5.438622101391019,
          0.5799999999999844,
          1.4400000000000013,
          2.3000000000000393
         ],
         "yaxis": "y"
        },
        {
         "hovertemplate": "class=3<br>skill_name=Original Thinking<br>skill_name=Original Thinking<br>year=%{x}<br>skill_delta=%{y}<br>studentCount=%{marker.size}<extra></extra>",
         "legendgroup": "skill_name=Original Thinking",
         "marker": {
          "color": "#00cc96",
          "size": [
           113,
           18,
           73,
           75,
           106,
           109
          ],
          "sizemode": "area",
          "sizeref": 1.15,
          "symbol": "circle"
         },
         "mode": "markers",
         "name": "skill_name=Original Thinking",
         "showlegend": true,
         "type": "scatter",
         "uid": "9fc0f6d0-1786-4d79-a199-9c9a213f7123",
         "x": [
          "2018",
          "2007",
          "2008",
          "2009",
          "2014",
          "2016"
         ],
         "xaxis": "x3",
         "y": [
          1.9699999999999989,
          -0.39000000000000057,
          5.140000000000001,
          5.520000000000003,
          -4.200000000000003,
          3.3800000000000026
         ],
         "yaxis": "y"
        },
        {
         "hovertemplate": "<b>LOWESS trendline</b><br><br>class=3<br>skill_name=Original Thinking<br>skill_name=Original Thinking<br>year=%{x}<br>skill_delta=%{y} <b>(trend)</b><extra></extra>",
         "legendgroup": "skill_name=Original Thinking",
         "marker": {
          "color": "#00cc96",
          "symbol": "circle"
         },
         "mode": "lines",
         "name": "skill_name=Original Thinking",
         "showlegend": false,
         "type": "scatter",
         "uid": "9a368bdb-4f54-466f-b892-c7292078c73d",
         "x": [
          2007,
          2008,
          2009,
          2014,
          2016,
          2018
         ],
         "xaxis": "x3",
         "y": [
          0.3185419943071053,
          3.291304173813228,
          6.204795735289185,
          -3.939914420471275,
          -0.6726592675447092,
          2.376274509445592
         ],
         "yaxis": "y"
        },
        {
         "hovertemplate": "class=3<br>skill_name=Reasoning and Analysis Skills<br>skill_name=Reasoning and Analysis Skills<br>year=%{x}<br>skill_delta=%{y}<br>studentCount=%{marker.size}<extra></extra>",
         "legendgroup": "skill_name=Reasoning and Analysis Skills",
         "marker": {
          "color": "#ab63fa",
          "size": [
           113,
           18,
           73,
           75,
           106,
           109
          ],
          "sizemode": "area",
          "sizeref": 1.15,
          "symbol": "circle"
         },
         "mode": "markers",
         "name": "skill_name=Reasoning and Analysis Skills",
         "showlegend": true,
         "type": "scatter",
         "uid": "99aa0455-7a52-4338-bffe-ab1fdd36f699",
         "x": [
          "2018",
          "2007",
          "2008",
          "2009",
          "2014",
          "2016"
         ],
         "xaxis": "x4",
         "y": [
          1.7800000000000011,
          2.1199999999999974,
          0.8800000000000026,
          4.800000000000004,
          -3.729999999999997,
          6.850000000000001
         ],
         "yaxis": "y"
        },
        {
         "hovertemplate": "<b>LOWESS trendline</b><br><br>class=3<br>skill_name=Reasoning and Analysis Skills<br>skill_name=Reasoning and Analysis Skills<br>year=%{x}<br>skill_delta=%{y} <b>(trend)</b><extra></extra>",
         "legendgroup": "skill_name=Reasoning and Analysis Skills",
         "marker": {
          "color": "#ab63fa",
          "symbol": "circle"
         },
         "mode": "lines",
         "name": "skill_name=Reasoning and Analysis Skills",
         "showlegend": false,
         "type": "scatter",
         "uid": "eaedc1d4-4da2-4ee3-9d4c-682379b13816",
         "x": [
          2007,
          2008,
          2009,
          2014,
          2016,
          2018
         ],
         "xaxis": "x4",
         "y": [
          1.4133032048131349,
          2.735796051713682,
          4.117310580123481,
          -3.7299999999993863,
          -0.9749999999998599,
          1.7799999999996359
         ],
         "yaxis": "y"
        },
        {
         "hovertemplate": "class=4<br>skill_name=Conceptual Understanding and Comprehension<br>skill_name=Conceptual Understanding and Comprehension<br>year=%{x}<br>skill_delta=%{y}<br>studentCount=%{marker.size}<extra></extra>",
         "legendgroup": "skill_name=Conceptual Understanding and Comprehension",
         "marker": {
          "color": "#636efa",
          "size": [
           113,
           12,
           73,
           75,
           104,
           112
          ],
          "sizemode": "area",
          "sizeref": 1.15,
          "symbol": "circle"
         },
         "mode": "markers",
         "name": "skill_name=Conceptual Understanding and Comprehension",
         "showlegend": false,
         "type": "scatter",
         "uid": "7708cd00-e84f-49e2-967d-1463c01f4f02",
         "x": [
          "2018",
          "2007",
          "2008",
          "2009",
          "2014",
          "2016"
         ],
         "xaxis": "x",
         "y": [
          5.07,
          -3.229999999999997,
          0.9099999999999966,
          2.4399999999999977,
          -0.779999999999994,
          -0.19999999999999574
         ],
         "yaxis": "y2"
        },
        {
         "hovertemplate": "<b>LOWESS trendline</b><br><br>class=4<br>skill_name=Conceptual Understanding and Comprehension<br>skill_name=Conceptual Understanding and Comprehension<br>year=%{x}<br>skill_delta=%{y} <b>(trend)</b><extra></extra>",
         "legendgroup": "skill_name=Conceptual Understanding and Comprehension",
         "marker": {
          "color": "#636efa",
          "symbol": "circle"
         },
         "mode": "lines",
         "name": "skill_name=Conceptual Understanding and Comprehension",
         "showlegend": false,
         "type": "scatter",
         "uid": "2a5e4be4-6555-4aa9-ac1f-ec13b369f5a3",
         "x": [
          2007,
          2008,
          2009,
          2014,
          2016,
          2018
         ],
         "xaxis": "x",
         "y": [
          -2.869973557216703,
          -0.02594455134621254,
          2.7879465049439736,
          -0.8997869640767251,
          1.9475412333486903,
          4.888558946298229
         ],
         "yaxis": "y2"
        },
        {
         "hovertemplate": "class=4<br>skill_name=Knowledge of Basic Science Facts<br>skill_name=Knowledge of Basic Science Facts<br>year=%{x}<br>skill_delta=%{y}<br>studentCount=%{marker.size}<extra></extra>",
         "legendgroup": "skill_name=Knowledge of Basic Science Facts",
         "marker": {
          "color": "#EF553B",
          "size": [
           113,
           12,
           73,
           75,
           104,
           112
          ],
          "sizemode": "area",
          "sizeref": 1.15,
          "symbol": "circle"
         },
         "mode": "markers",
         "name": "skill_name=Knowledge of Basic Science Facts",
         "showlegend": false,
         "type": "scatter",
         "uid": "62f00c7d-a189-4be0-8d84-904c82327186",
         "x": [
          "2018",
          "2007",
          "2008",
          "2009",
          "2014",
          "2016"
         ],
         "xaxis": "x2",
         "y": [
          3.5899999999999963,
          -4.210000000000001,
          -3.6899999999999977,
          0.37999999999999545,
          3.539999999999992,
          -1.8599999999999994
         ],
         "yaxis": "y2"
        },
        {
         "hovertemplate": "<b>LOWESS trendline</b><br><br>class=4<br>skill_name=Knowledge of Basic Science Facts<br>skill_name=Knowledge of Basic Science Facts<br>year=%{x}<br>skill_delta=%{y} <b>(trend)</b><extra></extra>",
         "legendgroup": "skill_name=Knowledge of Basic Science Facts",
         "marker": {
          "color": "#EF553B",
          "symbol": "circle"
         },
         "mode": "lines",
         "name": "skill_name=Knowledge of Basic Science Facts",
         "showlegend": false,
         "type": "scatter",
         "uid": "1d3b4396-6a97-433a-92fb-74514942e81a",
         "x": [
          2007,
          2008,
          2009,
          2014,
          2016,
          2018
         ],
         "xaxis": "x2",
         "y": [
          -4.696224689506667,
          -2.413270116491403,
          -0.08970655380996423,
          3.539999999999942,
          3.5649999999999973,
          3.5899999999994896
         ],
         "yaxis": "y2"
        },
        {
         "hovertemplate": "class=4<br>skill_name=Original Thinking<br>skill_name=Original Thinking<br>year=%{x}<br>skill_delta=%{y}<br>studentCount=%{marker.size}<extra></extra>",
         "legendgroup": "skill_name=Original Thinking",
         "marker": {
          "color": "#00cc96",
          "size": [
           113,
           12,
           73,
           75,
           104,
           112
          ],
          "sizemode": "area",
          "sizeref": 1.15,
          "symbol": "circle"
         },
         "mode": "markers",
         "name": "skill_name=Original Thinking",
         "showlegend": false,
         "type": "scatter",
         "uid": "79ace3d0-d8fb-4119-8ceb-fd0f4873f613",
         "x": [
          "2018",
          "2007",
          "2008",
          "2009",
          "2014",
          "2016"
         ],
         "xaxis": "x3",
         "y": [
          2.760000000000005,
          0.740000000000002,
          1.3499999999999943,
          -0.21000000000000085,
          1.6199999999999974,
          10.119999999999997
         ],
         "yaxis": "y2"
        },
        {
         "hovertemplate": "<b>LOWESS trendline</b><br><br>class=4<br>skill_name=Original Thinking<br>skill_name=Original Thinking<br>year=%{x}<br>skill_delta=%{y} <b>(trend)</b><extra></extra>",
         "legendgroup": "skill_name=Original Thinking",
         "marker": {
          "color": "#00cc96",
          "symbol": "circle"
         },
         "mode": "lines",
         "name": "skill_name=Original Thinking",
         "showlegend": false,
         "type": "scatter",
         "uid": "26e3b4f8-654d-40e2-94e4-a0357054cd76",
         "x": [
          2007,
          2008,
          2009,
          2014,
          2016,
          2018
         ],
         "xaxis": "x3",
         "y": [
          1.0213821631652662,
          0.5532809480094283,
          0.06201604949410866,
          1.62000000000001,
          2.1900000000000013,
          2.760000000000045
         ],
         "yaxis": "y2"
        },
        {
         "hovertemplate": "class=4<br>skill_name=Reasoning and Analysis Skills<br>skill_name=Reasoning and Analysis Skills<br>year=%{x}<br>skill_delta=%{y}<br>studentCount=%{marker.size}<extra></extra>",
         "legendgroup": "skill_name=Reasoning and Analysis Skills",
         "marker": {
          "color": "#ab63fa",
          "size": [
           113,
           12,
           73,
           75,
           104,
           112
          ],
          "sizemode": "area",
          "sizeref": 1.15,
          "symbol": "circle"
         },
         "mode": "markers",
         "name": "skill_name=Reasoning and Analysis Skills",
         "showlegend": false,
         "type": "scatter",
         "uid": "db1e7ab8-e19b-45e9-8255-4df8df0e7b4f",
         "x": [
          "2018",
          "2007",
          "2008",
          "2009",
          "2014",
          "2016"
         ],
         "xaxis": "x4",
         "y": [
          2.3799999999999955,
          -5.030000000000001,
          0.4799999999999969,
          2.25,
          -0.6499999999999986,
          3.6400000000000006
         ],
         "yaxis": "y2"
        },
        {
         "hovertemplate": "<b>LOWESS trendline</b><br><br>class=4<br>skill_name=Reasoning and Analysis Skills<br>skill_name=Reasoning and Analysis Skills<br>year=%{x}<br>skill_delta=%{y} <b>(trend)</b><extra></extra>",
         "legendgroup": "skill_name=Reasoning and Analysis Skills",
         "marker": {
          "color": "#ab63fa",
          "symbol": "circle"
         },
         "mode": "lines",
         "name": "skill_name=Reasoning and Analysis Skills",
         "showlegend": false,
         "type": "scatter",
         "uid": "f087603e-62e3-4fa7-a2e4-4c087116d329",
         "x": [
          2007,
          2008,
          2009,
          2014,
          2016,
          2018
         ],
         "xaxis": "x4",
         "y": [
          -4.526814094705081,
          -0.8742615257148809,
          2.7364508441907565,
          -0.41469945428961463,
          1.3226521137103275,
          2.799255381226782
         ],
         "yaxis": "y2"
        },
        {
         "hovertemplate": "class=5<br>skill_name=Conceptual Understanding and Comprehension<br>skill_name=Conceptual Understanding and Comprehension<br>year=%{x}<br>skill_delta=%{y}<br>studentCount=%{marker.size}<extra></extra>",
         "legendgroup": "skill_name=Conceptual Understanding and Comprehension",
         "marker": {
          "color": "#636efa",
          "size": [
           113,
           12,
           74,
           75,
           107,
           105
          ],
          "sizemode": "area",
          "sizeref": 1.15,
          "symbol": "circle"
         },
         "mode": "markers",
         "name": "skill_name=Conceptual Understanding and Comprehension",
         "showlegend": false,
         "type": "scatter",
         "uid": "d119b632-5782-4dbe-90f0-94687900022c",
         "x": [
          "2018",
          "2007",
          "2008",
          "2009",
          "2014",
          "2016"
         ],
         "xaxis": "x",
         "y": [
          0.10000000000000142,
          3.700000000000003,
          -1.4500000000000028,
          0.1700000000000017,
          3.0500000000000043,
          -0.5800000000000054
         ],
         "yaxis": "y3"
        },
        {
         "hovertemplate": "<b>LOWESS trendline</b><br><br>class=5<br>skill_name=Conceptual Understanding and Comprehension<br>skill_name=Conceptual Understanding and Comprehension<br>year=%{x}<br>skill_delta=%{y} <b>(trend)</b><extra></extra>",
         "legendgroup": "skill_name=Conceptual Understanding and Comprehension",
         "marker": {
          "color": "#636efa",
          "symbol": "circle"
         },
         "mode": "lines",
         "name": "skill_name=Conceptual Understanding and Comprehension",
         "showlegend": false,
         "type": "scatter",
         "uid": "8ef075af-4586-416e-8a9c-56b85b1fac5f",
         "x": [
          2007,
          2008,
          2009,
          2014,
          2016,
          2018
         ],
         "xaxis": "x",
         "y": [
          2.894166970696425,
          1.1095985952388656,
          -0.6100295078534277,
          2.7720818494292336,
          0.8915604198771685,
          -0.514773040294546
         ],
         "yaxis": "y3"
        },
        {
         "hovertemplate": "class=5<br>skill_name=Knowledge of Basic Science Facts<br>skill_name=Knowledge of Basic Science Facts<br>year=%{x}<br>skill_delta=%{y}<br>studentCount=%{marker.size}<extra></extra>",
         "legendgroup": "skill_name=Knowledge of Basic Science Facts",
         "marker": {
          "color": "#EF553B",
          "size": [
           113,
           12,
           74,
           75,
           107,
           105
          ],
          "sizemode": "area",
          "sizeref": 1.15,
          "symbol": "circle"
         },
         "mode": "markers",
         "name": "skill_name=Knowledge of Basic Science Facts",
         "showlegend": false,
         "type": "scatter",
         "uid": "19b34e5e-2d4e-410d-91ad-698f7a968eb2",
         "x": [
          "2018",
          "2007",
          "2008",
          "2009",
          "2014",
          "2016"
         ],
         "xaxis": "x2",
         "y": [
          6.200000000000003,
          10.399999999999999,
          5.25,
          8.539999999999992,
          -0.23000000000000398,
          -3.960000000000001
         ],
         "yaxis": "y3"
        },
        {
         "hovertemplate": "<b>LOWESS trendline</b><br><br>class=5<br>skill_name=Knowledge of Basic Science Facts<br>skill_name=Knowledge of Basic Science Facts<br>year=%{x}<br>skill_delta=%{y} <b>(trend)</b><extra></extra>",
         "legendgroup": "skill_name=Knowledge of Basic Science Facts",
         "marker": {
          "color": "#EF553B",
          "symbol": "circle"
         },
         "mode": "lines",
         "name": "skill_name=Knowledge of Basic Science Facts",
         "showlegend": false,
         "type": "scatter",
         "uid": "6d40325a-0f55-4e43-a5f7-1e51e23f47f4",
         "x": [
          2007,
          2008,
          2009,
          2014,
          2016,
          2018
         ],
         "xaxis": "x2",
         "y": [
          9.246423074939326,
          8.287541512000121,
          7.424987629450934,
          -0.7133745500601923,
          2.115157391481885,
          5.401830765919488
         ],
         "yaxis": "y3"
        },
        {
         "hovertemplate": "class=5<br>skill_name=Original Thinking<br>skill_name=Original Thinking<br>year=%{x}<br>skill_delta=%{y}<br>studentCount=%{marker.size}<extra></extra>",
         "legendgroup": "skill_name=Original Thinking",
         "marker": {
          "color": "#00cc96",
          "size": [
           113,
           12,
           74,
           75,
           107,
           105
          ],
          "sizemode": "area",
          "sizeref": 1.15,
          "symbol": "circle"
         },
         "mode": "markers",
         "name": "skill_name=Original Thinking",
         "showlegend": false,
         "type": "scatter",
         "uid": "fb4c9ed9-7c4b-430d-8c6c-501c138a3d22",
         "x": [
          "2018",
          "2007",
          "2008",
          "2009",
          "2014",
          "2016"
         ],
         "xaxis": "x3",
         "y": [
          0.3200000000000003,
          5.049999999999997,
          -2.9300000000000033,
          5.57,
          4.469999999999999,
          -1.720000000000006
         ],
         "yaxis": "y3"
        },
        {
         "hovertemplate": "<b>LOWESS trendline</b><br><br>class=5<br>skill_name=Original Thinking<br>skill_name=Original Thinking<br>year=%{x}<br>skill_delta=%{y} <b>(trend)</b><extra></extra>",
         "legendgroup": "skill_name=Original Thinking",
         "marker": {
          "color": "#00cc96",
          "symbol": "circle"
         },
         "mode": "lines",
         "name": "skill_name=Original Thinking",
         "showlegend": false,
         "type": "scatter",
         "uid": "a6fd4a58-58e0-41cd-b2a5-23ac02439bcd",
         "x": [
          2007,
          2008,
          2009,
          2014,
          2016,
          2018
         ],
         "xaxis": "x3",
         "y": [
          3.090654251289146,
          3.303080752361046,
          3.6733625289459377,
          3.9242541782794738,
          1.0353332136115383,
          -0.897283716603767
         ],
         "yaxis": "y3"
        },
        {
         "hovertemplate": "class=5<br>skill_name=Reasoning and Analysis Skills<br>skill_name=Reasoning and Analysis Skills<br>year=%{x}<br>skill_delta=%{y}<br>studentCount=%{marker.size}<extra></extra>",
         "legendgroup": "skill_name=Reasoning and Analysis Skills",
         "marker": {
          "color": "#ab63fa",
          "size": [
           113,
           12,
           74,
           75,
           107,
           105
          ],
          "sizemode": "area",
          "sizeref": 1.15,
          "symbol": "circle"
         },
         "mode": "markers",
         "name": "skill_name=Reasoning and Analysis Skills",
         "showlegend": false,
         "type": "scatter",
         "uid": "03cc5bc5-7ca2-4598-b372-7d27e173f7d6",
         "x": [
          "2018",
          "2007",
          "2008",
          "2009",
          "2014",
          "2016"
         ],
         "xaxis": "x4",
         "y": [
          -1,
          6.880000000000003,
          -5.030000000000001,
          3.8800000000000026,
          5.130000000000003,
          0.7999999999999972
         ],
         "yaxis": "y3"
        },
        {
         "hovertemplate": "<b>LOWESS trendline</b><br><br>class=5<br>skill_name=Reasoning and Analysis Skills<br>skill_name=Reasoning and Analysis Skills<br>year=%{x}<br>skill_delta=%{y} <b>(trend)</b><extra></extra>",
         "legendgroup": "skill_name=Reasoning and Analysis Skills",
         "marker": {
          "color": "#ab63fa",
          "symbol": "circle"
         },
         "mode": "lines",
         "name": "skill_name=Reasoning and Analysis Skills",
         "showlegend": false,
         "type": "scatter",
         "uid": "3397106f-1284-4f1d-aa5c-35820d4214d6",
         "x": [
          2007,
          2008,
          2009,
          2014,
          2016,
          2018
         ],
         "xaxis": "x4",
         "y": [
          6.88000000000009,
          5.379999999999719,
          3.880000000000082,
          4.994529765875218,
          1.7505975854559157,
          -1.293064154838941
         ],
         "yaxis": "y3"
        },
        {
         "hovertemplate": "class=6<br>skill_name=Conceptual Understanding and Comprehension<br>skill_name=Conceptual Understanding and Comprehension<br>year=%{x}<br>skill_delta=%{y}<br>studentCount=%{marker.size}<extra></extra>",
         "legendgroup": "skill_name=Conceptual Understanding and Comprehension",
         "marker": {
          "color": "#636efa",
          "size": [
           111,
           17,
           73,
           79,
           82,
           100
          ],
          "sizemode": "area",
          "sizeref": 1.15,
          "symbol": "circle"
         },
         "mode": "markers",
         "name": "skill_name=Conceptual Understanding and Comprehension",
         "showlegend": false,
         "type": "scatter",
         "uid": "23c9b939-f729-4355-8910-065058b52f77",
         "x": [
          "2018",
          "2007",
          "2008",
          "2009",
          "2014",
          "2016"
         ],
         "xaxis": "x",
         "y": [
          8.11,
          7.210000000000001,
          1.8699999999999974,
          -1.8800000000000026,
          10.700000000000003,
          4.479999999999997
         ],
         "yaxis": "y4"
        },
        {
         "hovertemplate": "<b>LOWESS trendline</b><br><br>class=6<br>skill_name=Conceptual Understanding and Comprehension<br>skill_name=Conceptual Understanding and Comprehension<br>year=%{x}<br>skill_delta=%{y} <b>(trend)</b><extra></extra>",
         "legendgroup": "skill_name=Conceptual Understanding and Comprehension",
         "marker": {
          "color": "#636efa",
          "symbol": "circle"
         },
         "mode": "lines",
         "name": "skill_name=Conceptual Understanding and Comprehension",
         "showlegend": false,
         "type": "scatter",
         "uid": "03fc1a9d-45f2-4b21-93fa-4cb444da62e2",
         "x": [
          2007,
          2008,
          2009,
          2014,
          2016,
          2018
         ],
         "xaxis": "x",
         "y": [
          7.004258051426316,
          2.4542149705307197,
          -2.0789003089053093,
          10.700000000000228,
          9.405000000000001,
          8.110000000000106
         ],
         "yaxis": "y4"
        },
        {
         "hovertemplate": "class=6<br>skill_name=Knowledge of Basic Science Facts<br>skill_name=Knowledge of Basic Science Facts<br>year=%{x}<br>skill_delta=%{y}<br>studentCount=%{marker.size}<extra></extra>",
         "legendgroup": "skill_name=Knowledge of Basic Science Facts",
         "marker": {
          "color": "#EF553B",
          "size": [
           111,
           17,
           73,
           79,
           82,
           100
          ],
          "sizemode": "area",
          "sizeref": 1.15,
          "symbol": "circle"
         },
         "mode": "markers",
         "name": "skill_name=Knowledge of Basic Science Facts",
         "showlegend": false,
         "type": "scatter",
         "uid": "d18fa7d5-a2d6-49c2-8460-797d2ddab2fc",
         "x": [
          "2018",
          "2007",
          "2008",
          "2009",
          "2014",
          "2016"
         ],
         "xaxis": "x2",
         "y": [
          3.9299999999999997,
          9.560000000000002,
          9.170000000000002,
          3.960000000000001,
          4.579999999999998,
          7.5
         ],
         "yaxis": "y4"
        },
        {
         "hovertemplate": "<b>LOWESS trendline</b><br><br>class=6<br>skill_name=Knowledge of Basic Science Facts<br>skill_name=Knowledge of Basic Science Facts<br>year=%{x}<br>skill_delta=%{y} <b>(trend)</b><extra></extra>",
         "legendgroup": "skill_name=Knowledge of Basic Science Facts",
         "marker": {
          "color": "#EF553B",
          "symbol": "circle"
         },
         "mode": "lines",
         "name": "skill_name=Knowledge of Basic Science Facts",
         "showlegend": false,
         "type": "scatter",
         "uid": "1647aa9f-3d17-4ac2-ac37-5bd923691d6d",
         "x": [
          2007,
          2008,
          2009,
          2014,
          2016,
          2018
         ],
         "xaxis": "x2",
         "y": [
          10.195487306106944,
          7.411263662853851,
          4.574482386403891,
          4.887213014133974,
          4.885296970235438,
          4.506559666044444
         ],
         "yaxis": "y4"
        },
        {
         "hovertemplate": "class=6<br>skill_name=Original Thinking<br>skill_name=Original Thinking<br>year=%{x}<br>skill_delta=%{y}<br>studentCount=%{marker.size}<extra></extra>",
         "legendgroup": "skill_name=Original Thinking",
         "marker": {
          "color": "#00cc96",
          "size": [
           111,
           17,
           73,
           79,
           82,
           100
          ],
          "sizemode": "area",
          "sizeref": 1.15,
          "symbol": "circle"
         },
         "mode": "markers",
         "name": "skill_name=Original Thinking",
         "showlegend": false,
         "type": "scatter",
         "uid": "b2854ecb-b9f6-48da-9d56-187ae2c247ca",
         "x": [
          "2018",
          "2007",
          "2008",
          "2009",
          "2014",
          "2016"
         ],
         "xaxis": "x3",
         "y": [
          5.050000000000004,
          8.980000000000004,
          5.349999999999994,
          -0.6300000000000026,
          5.810000000000002,
          1.6999999999999957
         ],
         "yaxis": "y4"
        },
        {
         "hovertemplate": "<b>LOWESS trendline</b><br><br>class=6<br>skill_name=Original Thinking<br>skill_name=Original Thinking<br>year=%{x}<br>skill_delta=%{y} <b>(trend)</b><extra></extra>",
         "legendgroup": "skill_name=Original Thinking",
         "marker": {
          "color": "#00cc96",
          "symbol": "circle"
         },
         "mode": "lines",
         "name": "skill_name=Original Thinking",
         "showlegend": false,
         "type": "scatter",
         "uid": "ec9712b4-d7e4-47ae-a264-a58207742a73",
         "x": [
          2007,
          2008,
          2009,
          2014,
          2016,
          2018
         ],
         "xaxis": "x3",
         "y": [
          9.30191939898019,
          4.50489450132696,
          -0.3190179323951261,
          5.81000000000009,
          5.4300000000000175,
          5.050000000000582
         ],
         "yaxis": "y4"
        },
        {
         "hovertemplate": "class=6<br>skill_name=Reasoning and Analysis Skills<br>skill_name=Reasoning and Analysis Skills<br>year=%{x}<br>skill_delta=%{y}<br>studentCount=%{marker.size}<extra></extra>",
         "legendgroup": "skill_name=Reasoning and Analysis Skills",
         "marker": {
          "color": "#ab63fa",
          "size": [
           111,
           17,
           73,
           79,
           82,
           100
          ],
          "sizemode": "area",
          "sizeref": 1.15,
          "symbol": "circle"
         },
         "mode": "markers",
         "name": "skill_name=Reasoning and Analysis Skills",
         "showlegend": false,
         "type": "scatter",
         "uid": "d12946df-a45e-4340-bd22-005220cb5bbd",
         "x": [
          "2018",
          "2007",
          "2008",
          "2009",
          "2014",
          "2016"
         ],
         "xaxis": "x4",
         "y": [
          4.359999999999999,
          14.619999999999997,
          6.079999999999998,
          3.030000000000001,
          2.8900000000000006,
          2.5
         ],
         "yaxis": "y4"
        },
        {
         "hovertemplate": "<b>LOWESS trendline</b><br><br>class=6<br>skill_name=Reasoning and Analysis Skills<br>skill_name=Reasoning and Analysis Skills<br>year=%{x}<br>skill_delta=%{y} <b>(trend)</b><extra></extra>",
         "legendgroup": "skill_name=Reasoning and Analysis Skills",
         "marker": {
          "color": "#ab63fa",
          "symbol": "circle"
         },
         "mode": "lines",
         "name": "skill_name=Reasoning and Analysis Skills",
         "showlegend": false,
         "type": "scatter",
         "uid": "01fd4036-dcb8-494e-9b6c-d093bd7aab58",
         "x": [
          2007,
          2008,
          2009,
          2014,
          2016,
          2018
         ],
         "xaxis": "x4",
         "y": [
          13.998209062344761,
          8.188196063160582,
          2.427705667154224,
          2.7390645100724442,
          3.2471680856045526,
          4.022496417749476
         ],
         "yaxis": "y4"
        },
        {
         "hovertemplate": "class=7<br>skill_name=Conceptual Understanding and Comprehension<br>skill_name=Conceptual Understanding and Comprehension<br>year=%{x}<br>skill_delta=%{y}<br>studentCount=%{marker.size}<extra></extra>",
         "legendgroup": "skill_name=Conceptual Understanding and Comprehension",
         "marker": {
          "color": "#636efa",
          "size": [
           115,
           4,
           46,
           74,
           78,
           100
          ],
          "sizemode": "area",
          "sizeref": 1.15,
          "symbol": "circle"
         },
         "mode": "markers",
         "name": "skill_name=Conceptual Understanding and Comprehension",
         "showlegend": false,
         "type": "scatter",
         "uid": "03d6ec5b-e0db-4ac0-acf0-f641b2d64815",
         "x": [
          "2018",
          "2007",
          "2008",
          "2009",
          "2014",
          "2016"
         ],
         "xaxis": "x",
         "y": [
          9.930000000000007,
          11.239999999999995,
          6.439999999999998,
          3.9200000000000017,
          3.9299999999999997,
          3.8100000000000023
         ],
         "yaxis": "y5"
        },
        {
         "hovertemplate": "<b>LOWESS trendline</b><br><br>class=7<br>skill_name=Conceptual Understanding and Comprehension<br>skill_name=Conceptual Understanding and Comprehension<br>year=%{x}<br>skill_delta=%{y} <b>(trend)</b><extra></extra>",
         "legendgroup": "skill_name=Conceptual Understanding and Comprehension",
         "marker": {
          "color": "#636efa",
          "symbol": "circle"
         },
         "mode": "lines",
         "name": "skill_name=Conceptual Understanding and Comprehension",
         "showlegend": false,
         "type": "scatter",
         "uid": "6755c410-a949-4fd4-9c6c-4732e4b9a176",
         "x": [
          2007,
          2008,
          2009,
          2014,
          2016,
          2018
         ],
         "xaxis": "x",
         "y": [
          10.92821596258279,
          7.260493778548538,
          3.6188004284383877,
          3.929999999999905,
          6.930000000000337,
          9.929999999999577
         ],
         "yaxis": "y5"
        },
        {
         "hovertemplate": "class=7<br>skill_name=Knowledge of Basic Science Facts<br>skill_name=Knowledge of Basic Science Facts<br>year=%{x}<br>skill_delta=%{y}<br>studentCount=%{marker.size}<extra></extra>",
         "legendgroup": "skill_name=Knowledge of Basic Science Facts",
         "marker": {
          "color": "#EF553B",
          "size": [
           115,
           4,
           46,
           74,
           78,
           100
          ],
          "sizemode": "area",
          "sizeref": 1.15,
          "symbol": "circle"
         },
         "mode": "markers",
         "name": "skill_name=Knowledge of Basic Science Facts",
         "showlegend": false,
         "type": "scatter",
         "uid": "edbd3559-d6d8-4da6-9075-554e8778ac39",
         "x": [
          "2018",
          "2007",
          "2008",
          "2009",
          "2014",
          "2016"
         ],
         "xaxis": "x2",
         "y": [
          7.57,
          -0.990000000000002,
          12.560000000000002,
          0.3200000000000003,
          6.169999999999995,
          2.039999999999999
         ],
         "yaxis": "y5"
        },
        {
         "hovertemplate": "<b>LOWESS trendline</b><br><br>class=7<br>skill_name=Knowledge of Basic Science Facts<br>skill_name=Knowledge of Basic Science Facts<br>year=%{x}<br>skill_delta=%{y} <b>(trend)</b><extra></extra>",
         "legendgroup": "skill_name=Knowledge of Basic Science Facts",
         "marker": {
          "color": "#EF553B",
          "symbol": "circle"
         },
         "mode": "lines",
         "name": "skill_name=Knowledge of Basic Science Facts",
         "showlegend": false,
         "type": "scatter",
         "uid": "0ccce570-8b75-4011-a2f3-019bfafda688",
         "x": [
          2007,
          2008,
          2009,
          2014,
          2016,
          2018
         ],
         "xaxis": "x2",
         "y": [
          1.7501184622555759,
          2.470776435521792,
          2.976342593493278,
          5.520234521099858,
          5.241762336996483,
          6.116361193314592
         ],
         "yaxis": "y5"
        },
        {
         "hovertemplate": "class=7<br>skill_name=Original Thinking<br>skill_name=Original Thinking<br>year=%{x}<br>skill_delta=%{y}<br>studentCount=%{marker.size}<extra></extra>",
         "legendgroup": "skill_name=Original Thinking",
         "marker": {
          "color": "#00cc96",
          "size": [
           115,
           4,
           46,
           74,
           78,
           100
          ],
          "sizemode": "area",
          "sizeref": 1.15,
          "symbol": "circle"
         },
         "mode": "markers",
         "name": "skill_name=Original Thinking",
         "showlegend": false,
         "type": "scatter",
         "uid": "0d8f64ee-edfd-4c2d-a8a2-d3402f3c180d",
         "x": [
          "2018",
          "2007",
          "2008",
          "2009",
          "2014",
          "2016"
         ],
         "xaxis": "x3",
         "y": [
          6.380000000000003,
          3.91,
          2.1899999999999977,
          3.210000000000001,
          8,
          1.4299999999999997
         ],
         "yaxis": "y5"
        },
        {
         "hovertemplate": "<b>LOWESS trendline</b><br><br>class=7<br>skill_name=Original Thinking<br>skill_name=Original Thinking<br>year=%{x}<br>skill_delta=%{y} <b>(trend)</b><extra></extra>",
         "legendgroup": "skill_name=Original Thinking",
         "marker": {
          "color": "#00cc96",
          "symbol": "circle"
         },
         "mode": "lines",
         "name": "skill_name=Original Thinking",
         "showlegend": false,
         "type": "scatter",
         "uid": "15d4ca5d-d61e-4ef2-91aa-9e745f319ffd",
         "x": [
          2007,
          2008,
          2009,
          2014,
          2016,
          2018
         ],
         "xaxis": "x3",
         "y": [
          3.5375352903479107,
          3.1783225122010506,
          2.850154601918359,
          8.000000000000165,
          7.190000000000001,
          6.380000000000088
         ],
         "yaxis": "y5"
        },
        {
         "hovertemplate": "class=7<br>skill_name=Reasoning and Analysis Skills<br>skill_name=Reasoning and Analysis Skills<br>year=%{x}<br>skill_delta=%{y}<br>studentCount=%{marker.size}<extra></extra>",
         "legendgroup": "skill_name=Reasoning and Analysis Skills",
         "marker": {
          "color": "#ab63fa",
          "size": [
           115,
           4,
           46,
           74,
           78,
           100
          ],
          "sizemode": "area",
          "sizeref": 1.15,
          "symbol": "circle"
         },
         "mode": "markers",
         "name": "skill_name=Reasoning and Analysis Skills",
         "showlegend": false,
         "type": "scatter",
         "uid": "14ae5287-80d2-4039-9269-6b3b4ddff36d",
         "x": [
          "2018",
          "2007",
          "2008",
          "2009",
          "2014",
          "2016"
         ],
         "xaxis": "x4",
         "y": [
          7.259999999999998,
          10.43,
          10.199999999999996,
          6.009999999999998,
          4.18,
          7.849999999999994
         ],
         "yaxis": "y5"
        },
        {
         "hovertemplate": "<b>LOWESS trendline</b><br><br>class=7<br>skill_name=Reasoning and Analysis Skills<br>skill_name=Reasoning and Analysis Skills<br>year=%{x}<br>skill_delta=%{y} <b>(trend)</b><extra></extra>",
         "legendgroup": "skill_name=Reasoning and Analysis Skills",
         "marker": {
          "color": "#ab63fa",
          "symbol": "circle"
         },
         "mode": "lines",
         "name": "skill_name=Reasoning and Analysis Skills",
         "showlegend": false,
         "type": "scatter",
         "uid": "c74ecb99-c9a8-4a8e-be79-b2e610d256d8",
         "x": [
          2007,
          2008,
          2009,
          2014,
          2016,
          2018
         ],
         "xaxis": "x4",
         "y": [
          10.915056474958389,
          8.716903404429335,
          6.479383784960544,
          4.411042893294448,
          6.2322439130578635,
          7.727085866053854
         ],
         "yaxis": "y5"
        },
        {
         "hovertemplate": "class=8<br>skill_name=Conceptual Understanding and Comprehension<br>skill_name=Conceptual Understanding and Comprehension<br>year=%{x}<br>skill_delta=%{y}<br>studentCount=%{marker.size}<extra></extra>",
         "legendgroup": "skill_name=Conceptual Understanding and Comprehension",
         "marker": {
          "color": "#636efa",
          "size": [
           104,
           14,
           54,
           48,
           77,
           78
          ],
          "sizemode": "area",
          "sizeref": 1.15,
          "symbol": "circle"
         },
         "mode": "markers",
         "name": "skill_name=Conceptual Understanding and Comprehension",
         "showlegend": false,
         "type": "scatter",
         "uid": "f52624ee-9af7-4cf9-b692-b348fa8757b1",
         "x": [
          "2018",
          "2007",
          "2008",
          "2009",
          "2014",
          "2016"
         ],
         "xaxis": "x",
         "y": [
          5.629999999999999,
          15.369999999999997,
          5.020000000000003,
          15.049999999999997,
          4.93,
          -1.9400000000000048
         ],
         "yaxis": "y6"
        },
        {
         "hovertemplate": "<b>LOWESS trendline</b><br><br>class=8<br>skill_name=Conceptual Understanding and Comprehension<br>skill_name=Conceptual Understanding and Comprehension<br>year=%{x}<br>skill_delta=%{y} <b>(trend)</b><extra></extra>",
         "legendgroup": "skill_name=Conceptual Understanding and Comprehension",
         "marker": {
          "color": "#636efa",
          "symbol": "circle"
         },
         "mode": "lines",
         "name": "skill_name=Conceptual Understanding and Comprehension",
         "showlegend": false,
         "type": "scatter",
         "uid": "883dd876-534f-4df1-b1a3-2afd8e7a32e9",
         "x": [
          2007,
          2008,
          2009,
          2014,
          2016,
          2018
         ],
         "xaxis": "x",
         "y": [
          12.944168812819392,
          12.7252613546479,
          12.701846178726434,
          4.016244856752323,
          3.0548044062345263,
          3.6230419023259737
         ],
         "yaxis": "y6"
        },
        {
         "hovertemplate": "class=8<br>skill_name=Knowledge of Basic Science Facts<br>skill_name=Knowledge of Basic Science Facts<br>year=%{x}<br>skill_delta=%{y}<br>studentCount=%{marker.size}<extra></extra>",
         "legendgroup": "skill_name=Knowledge of Basic Science Facts",
         "marker": {
          "color": "#EF553B",
          "size": [
           104,
           14,
           54,
           48,
           77,
           78
          ],
          "sizemode": "area",
          "sizeref": 1.15,
          "symbol": "circle"
         },
         "mode": "markers",
         "name": "skill_name=Knowledge of Basic Science Facts",
         "showlegend": false,
         "type": "scatter",
         "uid": "c6a372de-00d9-48db-a878-27debde5b979",
         "x": [
          "2018",
          "2007",
          "2008",
          "2009",
          "2014",
          "2016"
         ],
         "xaxis": "x2",
         "y": [
          -0.7100000000000009,
          27.029999999999998,
          21.939999999999998,
          13.36,
          6.540000000000006,
          8.36
         ],
         "yaxis": "y6"
        },
        {
         "hovertemplate": "<b>LOWESS trendline</b><br><br>class=8<br>skill_name=Knowledge of Basic Science Facts<br>skill_name=Knowledge of Basic Science Facts<br>year=%{x}<br>skill_delta=%{y} <b>(trend)</b><extra></extra>",
         "legendgroup": "skill_name=Knowledge of Basic Science Facts",
         "marker": {
          "color": "#EF553B",
          "symbol": "circle"
         },
         "mode": "lines",
         "name": "skill_name=Knowledge of Basic Science Facts",
         "showlegend": false,
         "type": "scatter",
         "uid": "66d0b5db-e36c-4e42-a900-4393c5d53ed3",
         "x": [
          2007,
          2008,
          2009,
          2014,
          2016,
          2018
         ],
         "xaxis": "x2",
         "y": [
          27.50806175166874,
          20.684905069907003,
          13.821819940469597,
          6.540000000000588,
          2.9149999999997647,
          -0.7099999999999914
         ],
         "yaxis": "y6"
        },
        {
         "hovertemplate": "class=8<br>skill_name=Original Thinking<br>skill_name=Original Thinking<br>year=%{x}<br>skill_delta=%{y}<br>studentCount=%{marker.size}<extra></extra>",
         "legendgroup": "skill_name=Original Thinking",
         "marker": {
          "color": "#00cc96",
          "size": [
           104,
           14,
           54,
           48,
           77,
           78
          ],
          "sizemode": "area",
          "sizeref": 1.15,
          "symbol": "circle"
         },
         "mode": "markers",
         "name": "skill_name=Original Thinking",
         "showlegend": false,
         "type": "scatter",
         "uid": "038d631a-0898-4613-b645-6294e121921c",
         "x": [
          "2018",
          "2007",
          "2008",
          "2009",
          "2014",
          "2016"
         ],
         "xaxis": "x3",
         "y": [
          3.229999999999997,
          5.770000000000003,
          5.630000000000003,
          12.759999999999998,
          7.219999999999999,
          0.3299999999999983
         ],
         "yaxis": "y6"
        },
        {
         "hovertemplate": "<b>LOWESS trendline</b><br><br>class=8<br>skill_name=Original Thinking<br>skill_name=Original Thinking<br>year=%{x}<br>skill_delta=%{y} <b>(trend)</b><extra></extra>",
         "legendgroup": "skill_name=Original Thinking",
         "marker": {
          "color": "#00cc96",
          "symbol": "circle"
         },
         "mode": "lines",
         "name": "skill_name=Original Thinking",
         "showlegend": false,
         "type": "scatter",
         "uid": "75bd05d1-2836-4861-be50-3a95040812b1",
         "x": [
          2007,
          2008,
          2009,
          2014,
          2016,
          2018
         ],
         "xaxis": "x3",
         "y": [
          4.811468638500844,
          8.28267236029505,
          11.833151479892624,
          6.756625784321336,
          4.274365422610385,
          2.3604122741207254
         ],
         "yaxis": "y6"
        },
        {
         "hovertemplate": "class=8<br>skill_name=Reasoning and Analysis Skills<br>skill_name=Reasoning and Analysis Skills<br>year=%{x}<br>skill_delta=%{y}<br>studentCount=%{marker.size}<extra></extra>",
         "legendgroup": "skill_name=Reasoning and Analysis Skills",
         "marker": {
          "color": "#ab63fa",
          "size": [
           104,
           14,
           54,
           48,
           77,
           78
          ],
          "sizemode": "area",
          "sizeref": 1.15,
          "symbol": "circle"
         },
         "mode": "markers",
         "name": "skill_name=Reasoning and Analysis Skills",
         "showlegend": false,
         "type": "scatter",
         "uid": "46696a7d-9cc8-405d-9635-ee9251fa7914",
         "x": [
          "2018",
          "2007",
          "2008",
          "2009",
          "2014",
          "2016"
         ],
         "xaxis": "x4",
         "y": [
          4.030000000000001,
          14.870000000000005,
          11.61,
          15.130000000000003,
          7.210000000000001,
          0.3400000000000034
         ],
         "yaxis": "y6"
        },
        {
         "hovertemplate": "<b>LOWESS trendline</b><br><br>class=8<br>skill_name=Reasoning and Analysis Skills<br>skill_name=Reasoning and Analysis Skills<br>year=%{x}<br>skill_delta=%{y} <b>(trend)</b><extra></extra>",
         "legendgroup": "skill_name=Reasoning and Analysis Skills",
         "marker": {
          "color": "#ab63fa",
          "symbol": "circle"
         },
         "mode": "lines",
         "name": "skill_name=Reasoning and Analysis Skills",
         "showlegend": false,
         "type": "scatter",
         "uid": "afe8c8f6-2b59-4996-ba24-53c29a2727f9",
         "x": [
          2007,
          2008,
          2009,
          2014,
          2016,
          2018
         ],
         "xaxis": "x4",
         "y": [
          13.950419860472365,
          14.057436294199377,
          14.241081874804822,
          6.795922779875684,
          4.8409651761479395,
          3.315783395437273
         ],
         "yaxis": "y6"
        },
        {
         "hovertemplate": "class=9<br>skill_name=Conceptual Understanding and Comprehension<br>skill_name=Conceptual Understanding and Comprehension<br>year=%{x}<br>skill_delta=%{y}<br>studentCount=%{marker.size}<extra></extra>",
         "legendgroup": "skill_name=Conceptual Understanding and Comprehension",
         "marker": {
          "color": "#636efa",
          "size": [
           92,
           10,
           42,
           51,
           73,
           74
          ],
          "sizemode": "area",
          "sizeref": 1.15,
          "symbol": "circle"
         },
         "mode": "markers",
         "name": "skill_name=Conceptual Understanding and Comprehension",
         "showlegend": false,
         "type": "scatter",
         "uid": "b9ae89af-e378-408f-b721-8bae1cd5d26a",
         "x": [
          "2018",
          "2007",
          "2008",
          "2009",
          "2014",
          "2016"
         ],
         "xaxis": "x",
         "y": [
          5.789999999999999,
          -1.6400000000000006,
          6.609999999999999,
          4.049999999999997,
          5.5,
          4.489999999999995
         ],
         "yaxis": "y7"
        },
        {
         "hovertemplate": "<b>LOWESS trendline</b><br><br>class=9<br>skill_name=Conceptual Understanding and Comprehension<br>skill_name=Conceptual Understanding and Comprehension<br>year=%{x}<br>skill_delta=%{y} <b>(trend)</b><extra></extra>",
         "legendgroup": "skill_name=Conceptual Understanding and Comprehension",
         "marker": {
          "color": "#636efa",
          "symbol": "circle"
         },
         "mode": "lines",
         "name": "skill_name=Conceptual Understanding and Comprehension",
         "showlegend": false,
         "type": "scatter",
         "uid": "af90cb51-e4d3-4c1f-a84e-7c1577319ff0",
         "x": [
          2007,
          2008,
          2009,
          2014,
          2016,
          2018
         ],
         "xaxis": "x",
         "y": [
          -1.6400000000003576,
          1.204999999999952,
          4.049999999999736,
          5.344348419077457,
          5.254561743904973,
          5.441516108972336
         ],
         "yaxis": "y7"
        },
        {
         "hovertemplate": "class=9<br>skill_name=Knowledge of Basic Science Facts<br>skill_name=Knowledge of Basic Science Facts<br>year=%{x}<br>skill_delta=%{y}<br>studentCount=%{marker.size}<extra></extra>",
         "legendgroup": "skill_name=Knowledge of Basic Science Facts",
         "marker": {
          "color": "#EF553B",
          "size": [
           92,
           10,
           42,
           51,
           73,
           74
          ],
          "sizemode": "area",
          "sizeref": 1.15,
          "symbol": "circle"
         },
         "mode": "markers",
         "name": "skill_name=Knowledge of Basic Science Facts",
         "showlegend": false,
         "type": "scatter",
         "uid": "283a1f0f-7743-4d4e-a997-4345c3beae9d",
         "x": [
          "2018",
          "2007",
          "2008",
          "2009",
          "2014",
          "2016"
         ],
         "xaxis": "x2",
         "y": [
          1.139999999999997,
          7.259999999999998,
          12.529999999999994,
          16.17,
          6.130000000000003,
          0.5199999999999996
         ],
         "yaxis": "y7"
        },
        {
         "hovertemplate": "<b>LOWESS trendline</b><br><br>class=9<br>skill_name=Knowledge of Basic Science Facts<br>skill_name=Knowledge of Basic Science Facts<br>year=%{x}<br>skill_delta=%{y} <b>(trend)</b><extra></extra>",
         "legendgroup": "skill_name=Knowledge of Basic Science Facts",
         "marker": {
          "color": "#EF553B",
          "symbol": "circle"
         },
         "mode": "lines",
         "name": "skill_name=Knowledge of Basic Science Facts",
         "showlegend": false,
         "type": "scatter",
         "uid": "76c36152-141c-441e-b2ab-ec7a1075dd66",
         "x": [
          2007,
          2008,
          2009,
          2014,
          2016,
          2018
         ],
         "xaxis": "x2",
         "y": [
          7.482655420363548,
          11.9431679499272,
          16.385097973830256,
          6.130000000000181,
          3.635,
          1.1400000000000037
         ],
         "yaxis": "y7"
        },
        {
         "hovertemplate": "class=9<br>skill_name=Original Thinking<br>skill_name=Original Thinking<br>year=%{x}<br>skill_delta=%{y}<br>studentCount=%{marker.size}<extra></extra>",
         "legendgroup": "skill_name=Original Thinking",
         "marker": {
          "color": "#00cc96",
          "size": [
           92,
           10,
           42,
           51,
           73,
           74
          ],
          "sizemode": "area",
          "sizeref": 1.15,
          "symbol": "circle"
         },
         "mode": "markers",
         "name": "skill_name=Original Thinking",
         "showlegend": false,
         "type": "scatter",
         "uid": "07abb415-22c1-420d-94e3-5b85ac4c000f",
         "x": [
          "2018",
          "2007",
          "2008",
          "2009",
          "2014",
          "2016"
         ],
         "xaxis": "x3",
         "y": [
          3.6700000000000017,
          9.199999999999996,
          11.600000000000001,
          3.1300000000000026,
          1.6799999999999997,
          5.289999999999999
         ],
         "yaxis": "y7"
        },
        {
         "hovertemplate": "<b>LOWESS trendline</b><br><br>class=9<br>skill_name=Original Thinking<br>skill_name=Original Thinking<br>year=%{x}<br>skill_delta=%{y} <b>(trend)</b><extra></extra>",
         "legendgroup": "skill_name=Original Thinking",
         "marker": {
          "color": "#00cc96",
          "symbol": "circle"
         },
         "mode": "lines",
         "name": "skill_name=Original Thinking",
         "showlegend": false,
         "type": "scatter",
         "uid": "2607911e-1ed5-4816-b9d5-721309111a89",
         "x": [
          2007,
          2008,
          2009,
          2014,
          2016,
          2018
         ],
         "xaxis": "x3",
         "y": [
          10.48460979977579,
          7.48077974874965,
          4.373604136752029,
          2.0277397691091785,
          3.5423395005034752,
          4.446119188930458
         ],
         "yaxis": "y7"
        },
        {
         "hovertemplate": "class=9<br>skill_name=Reasoning and Analysis Skills<br>skill_name=Reasoning and Analysis Skills<br>year=%{x}<br>skill_delta=%{y}<br>studentCount=%{marker.size}<extra></extra>",
         "legendgroup": "skill_name=Reasoning and Analysis Skills",
         "marker": {
          "color": "#ab63fa",
          "size": [
           92,
           10,
           42,
           51,
           73,
           74
          ],
          "sizemode": "area",
          "sizeref": 1.15,
          "symbol": "circle"
         },
         "mode": "markers",
         "name": "skill_name=Reasoning and Analysis Skills",
         "showlegend": false,
         "type": "scatter",
         "uid": "e4590fbe-8860-4e22-9662-cd2be646c97f",
         "x": [
          "2018",
          "2007",
          "2008",
          "2009",
          "2014",
          "2016"
         ],
         "xaxis": "x4",
         "y": [
          7.980000000000004,
          15.25,
          9.730000000000004,
          9.380000000000003,
          4.469999999999999,
          0.4899999999999949
         ],
         "yaxis": "y7"
        },
        {
         "hovertemplate": "<b>LOWESS trendline</b><br><br>class=9<br>skill_name=Reasoning and Analysis Skills<br>skill_name=Reasoning and Analysis Skills<br>year=%{x}<br>skill_delta=%{y} <b>(trend)</b><extra></extra>",
         "legendgroup": "skill_name=Reasoning and Analysis Skills",
         "marker": {
          "color": "#ab63fa",
          "symbol": "circle"
         },
         "mode": "lines",
         "name": "skill_name=Reasoning and Analysis Skills",
         "showlegend": false,
         "type": "scatter",
         "uid": "60bebc08-e19f-4a23-ac96-7ba3989a748f",
         "x": [
          2007,
          2008,
          2009,
          2014,
          2016,
          2018
         ],
         "xaxis": "x4",
         "y": [
          14.539887599828914,
          11.587219972479513,
          8.693912984683104,
          4.469999999999992,
          6.225000000000195,
          7.979999999999581
         ],
         "yaxis": "y7"
        },
        {
         "hovertemplate": "class=10<br>skill_name=Conceptual Understanding and Comprehension<br>skill_name=Conceptual Understanding and Comprehension<br>year=%{x}<br>skill_delta=%{y}<br>studentCount=%{marker.size}<extra></extra>",
         "legendgroup": "skill_name=Conceptual Understanding and Comprehension",
         "marker": {
          "color": "#636efa",
          "size": [
           73,
           67
          ],
          "sizemode": "area",
          "sizeref": 1.15,
          "symbol": "circle"
         },
         "mode": "markers",
         "name": "skill_name=Conceptual Understanding and Comprehension",
         "showlegend": false,
         "type": "scatter",
         "uid": "f3699333-f749-4974-8048-ec47913071a7",
         "x": [
          "2014",
          "2016"
         ],
         "xaxis": "x",
         "y": [
          1.8999999999999986,
          9.579999999999998
         ],
         "yaxis": "y8"
        },
        {
         "hovertemplate": "<b>LOWESS trendline</b><br><br>class=10<br>skill_name=Conceptual Understanding and Comprehension<br>skill_name=Conceptual Understanding and Comprehension<br>year=%{x}<br>skill_delta=%{y} <b>(trend)</b><extra></extra>",
         "legendgroup": "skill_name=Conceptual Understanding and Comprehension",
         "marker": {
          "color": "#636efa",
          "symbol": "circle"
         },
         "mode": "lines",
         "name": "skill_name=Conceptual Understanding and Comprehension",
         "showlegend": false,
         "type": "scatter",
         "uid": "fbf3298f-f168-4815-8ed8-52ba32096c4f",
         "x": [
          2014,
          2016
         ],
         "xaxis": "x",
         "y": [
          1.8999999999999986,
          9.579999999999998
         ],
         "yaxis": "y8"
        },
        {
         "hovertemplate": "class=10<br>skill_name=Knowledge of Basic Science Facts<br>skill_name=Knowledge of Basic Science Facts<br>year=%{x}<br>skill_delta=%{y}<br>studentCount=%{marker.size}<extra></extra>",
         "legendgroup": "skill_name=Knowledge of Basic Science Facts",
         "marker": {
          "color": "#EF553B",
          "size": [
           73,
           67
          ],
          "sizemode": "area",
          "sizeref": 1.15,
          "symbol": "circle"
         },
         "mode": "markers",
         "name": "skill_name=Knowledge of Basic Science Facts",
         "showlegend": false,
         "type": "scatter",
         "uid": "94c36be9-7a8b-414a-8cd8-2f139ee41a2c",
         "x": [
          "2014",
          "2016"
         ],
         "xaxis": "x2",
         "y": [
          -1.4200000000000017,
          6.229999999999997
         ],
         "yaxis": "y8"
        },
        {
         "hovertemplate": "<b>LOWESS trendline</b><br><br>class=10<br>skill_name=Knowledge of Basic Science Facts<br>skill_name=Knowledge of Basic Science Facts<br>year=%{x}<br>skill_delta=%{y} <b>(trend)</b><extra></extra>",
         "legendgroup": "skill_name=Knowledge of Basic Science Facts",
         "marker": {
          "color": "#EF553B",
          "symbol": "circle"
         },
         "mode": "lines",
         "name": "skill_name=Knowledge of Basic Science Facts",
         "showlegend": false,
         "type": "scatter",
         "uid": "b27faef4-ed46-49c4-8829-bbfe11dec31e",
         "x": [
          2014,
          2016
         ],
         "xaxis": "x2",
         "y": [
          -1.4200000000000017,
          6.229999999999997
         ],
         "yaxis": "y8"
        },
        {
         "hovertemplate": "class=10<br>skill_name=Original Thinking<br>skill_name=Original Thinking<br>year=%{x}<br>skill_delta=%{y}<br>studentCount=%{marker.size}<extra></extra>",
         "legendgroup": "skill_name=Original Thinking",
         "marker": {
          "color": "#00cc96",
          "size": [
           73,
           67
          ],
          "sizemode": "area",
          "sizeref": 1.15,
          "symbol": "circle"
         },
         "mode": "markers",
         "name": "skill_name=Original Thinking",
         "showlegend": false,
         "type": "scatter",
         "uid": "4e56ab92-a06d-4603-900b-ba623e121398",
         "x": [
          "2014",
          "2016"
         ],
         "xaxis": "x3",
         "y": [
          1.8100000000000023,
          1.3499999999999943
         ],
         "yaxis": "y8"
        },
        {
         "hovertemplate": "<b>LOWESS trendline</b><br><br>class=10<br>skill_name=Original Thinking<br>skill_name=Original Thinking<br>year=%{x}<br>skill_delta=%{y} <b>(trend)</b><extra></extra>",
         "legendgroup": "skill_name=Original Thinking",
         "marker": {
          "color": "#00cc96",
          "symbol": "circle"
         },
         "mode": "lines",
         "name": "skill_name=Original Thinking",
         "showlegend": false,
         "type": "scatter",
         "uid": "f6ecc818-a17c-476f-88d3-20dca67ac754",
         "x": [
          2014,
          2016
         ],
         "xaxis": "x3",
         "y": [
          1.8100000000000023,
          1.3499999999999943
         ],
         "yaxis": "y8"
        },
        {
         "hovertemplate": "class=10<br>skill_name=Reasoning and Analysis Skills<br>skill_name=Reasoning and Analysis Skills<br>year=%{x}<br>skill_delta=%{y}<br>studentCount=%{marker.size}<extra></extra>",
         "legendgroup": "skill_name=Reasoning and Analysis Skills",
         "marker": {
          "color": "#ab63fa",
          "size": [
           73,
           67
          ],
          "sizemode": "area",
          "sizeref": 1.15,
          "symbol": "circle"
         },
         "mode": "markers",
         "name": "skill_name=Reasoning and Analysis Skills",
         "showlegend": false,
         "type": "scatter",
         "uid": "0c1ff0cb-c78e-406b-b06c-a2538284c07d",
         "x": [
          "2014",
          "2016"
         ],
         "xaxis": "x4",
         "y": [
          0.8000000000000043,
          3.1899999999999977
         ],
         "yaxis": "y8"
        },
        {
         "hovertemplate": "<b>LOWESS trendline</b><br><br>class=10<br>skill_name=Reasoning and Analysis Skills<br>skill_name=Reasoning and Analysis Skills<br>year=%{x}<br>skill_delta=%{y} <b>(trend)</b><extra></extra>",
         "legendgroup": "skill_name=Reasoning and Analysis Skills",
         "marker": {
          "color": "#ab63fa",
          "symbol": "circle"
         },
         "mode": "lines",
         "name": "skill_name=Reasoning and Analysis Skills",
         "showlegend": false,
         "type": "scatter",
         "uid": "7f988582-2fbc-46cd-bb91-7859e4714614",
         "x": [
          2014,
          2016
         ],
         "xaxis": "x4",
         "y": [
          0.8000000000000043,
          3.1899999999999977
         ],
         "yaxis": "y8"
        }
       ],
       "layout": {
        "annotations": [
         {
          "showarrow": false,
          "text": "skill_name=Conceptual Understanding and Comprehension",
          "textangle": 0,
          "x": 0.1153846153846154,
          "xanchor": "center",
          "xref": "paper",
          "y": 1.02,
          "yanchor": "middle",
          "yref": "paper"
         },
         {
          "showarrow": false,
          "text": "skill_name=Knowledge of Basic Science Facts",
          "textangle": 0,
          "x": 0.3717948717948718,
          "xanchor": "center",
          "xref": "paper",
          "y": 1.02,
          "yanchor": "middle",
          "yref": "paper"
         },
         {
          "showarrow": false,
          "text": "skill_name=Original Thinking",
          "textangle": 0,
          "x": 0.6282051282051283,
          "xanchor": "center",
          "xref": "paper",
          "y": 1.02,
          "yanchor": "middle",
          "yref": "paper"
         },
         {
          "showarrow": false,
          "text": "skill_name=Reasoning and Analysis Skills",
          "textangle": 0,
          "x": 0.8846153846153848,
          "xanchor": "center",
          "xref": "paper",
          "y": 1.02,
          "yanchor": "middle",
          "yref": "paper"
         },
         {
          "showarrow": false,
          "text": "class=3",
          "textangle": 90,
          "x": 1.01,
          "xanchor": "center",
          "xref": "paper",
          "y": 0.9430379746835442,
          "yanchor": "middle",
          "yref": "paper"
         },
         {
          "showarrow": false,
          "text": "class=4",
          "textangle": 90,
          "x": 1.01,
          "xanchor": "center",
          "xref": "paper",
          "y": 0.8164556962025316,
          "yanchor": "middle",
          "yref": "paper"
         },
         {
          "showarrow": false,
          "text": "class=5",
          "textangle": 90,
          "x": 1.01,
          "xanchor": "center",
          "xref": "paper",
          "y": 0.6898734177215189,
          "yanchor": "middle",
          "yref": "paper"
         },
         {
          "showarrow": false,
          "text": "class=6",
          "textangle": 90,
          "x": 1.01,
          "xanchor": "center",
          "xref": "paper",
          "y": 0.5632911392405062,
          "yanchor": "middle",
          "yref": "paper"
         },
         {
          "showarrow": false,
          "text": "class=7",
          "textangle": 90,
          "x": 1.01,
          "xanchor": "center",
          "xref": "paper",
          "y": 0.4367088607594936,
          "yanchor": "middle",
          "yref": "paper"
         },
         {
          "showarrow": false,
          "text": "class=8",
          "textangle": 90,
          "x": 1.01,
          "xanchor": "center",
          "xref": "paper",
          "y": 0.310126582278481,
          "yanchor": "middle",
          "yref": "paper"
         },
         {
          "showarrow": false,
          "text": "class=9",
          "textangle": 90,
          "x": 1.01,
          "xanchor": "center",
          "xref": "paper",
          "y": 0.18354430379746833,
          "yanchor": "middle",
          "yref": "paper"
         },
         {
          "showarrow": false,
          "text": "class=10",
          "textangle": 90,
          "x": 1.01,
          "xanchor": "center",
          "xref": "paper",
          "y": 0.05696202531645569,
          "yanchor": "middle",
          "yref": "paper"
         }
        ],
        "grid": {
         "xaxes": [
          "x",
          "x2",
          "x3",
          "x4"
         ],
         "xgap": 0.1,
         "xside": "bottom",
         "yaxes": [
          "y",
          "y2",
          "y3",
          "y4",
          "y5",
          "y6",
          "y7",
          "y8"
         ],
         "ygap": 0.1,
         "yside": "left"
        },
        "height": 1500,
        "legend": {
         "tracegroupgap": 0
        },
        "template": {
         "data": {
          "bar": [
           {
            "marker": {
             "line": {
              "color": "#E5ECF6",
              "width": 0.5
             }
            },
            "type": "bar"
           }
          ],
          "barpolar": [
           {
            "marker": {
             "line": {
              "color": "#E5ECF6",
              "width": 0.5
             }
            },
            "type": "barpolar"
           }
          ],
          "carpet": [
           {
            "aaxis": {
             "endlinecolor": "#2a3f5f",
             "gridcolor": "white",
             "linecolor": "white",
             "minorgridcolor": "white",
             "startlinecolor": "#2a3f5f"
            },
            "baxis": {
             "endlinecolor": "#2a3f5f",
             "gridcolor": "white",
             "linecolor": "white",
             "minorgridcolor": "white",
             "startlinecolor": "#2a3f5f"
            },
            "type": "carpet"
           }
          ],
          "choropleth": [
           {
            "colorbar": {
             "outlinewidth": 0,
             "ticks": ""
            },
            "type": "choropleth"
           }
          ],
          "contour": [
           {
            "autocolorscale": true,
            "colorbar": {
             "outlinewidth": 0,
             "ticks": ""
            },
            "type": "contour"
           }
          ],
          "contourcarpet": [
           {
            "colorbar": {
             "outlinewidth": 0,
             "ticks": ""
            },
            "type": "contourcarpet"
           }
          ],
          "heatmap": [
           {
            "autocolorscale": true,
            "colorbar": {
             "outlinewidth": 0,
             "ticks": ""
            },
            "type": "heatmap"
           }
          ],
          "heatmapgl": [
           {
            "colorbar": {
             "outlinewidth": 0,
             "ticks": ""
            },
            "type": "heatmapgl"
           }
          ],
          "histogram": [
           {
            "marker": {
             "colorbar": {
              "outlinewidth": 0,
              "ticks": ""
             }
            },
            "type": "histogram"
           }
          ],
          "histogram2d": [
           {
            "autocolorscale": true,
            "colorbar": {
             "outlinewidth": 0,
             "ticks": ""
            },
            "type": "histogram2d"
           }
          ],
          "histogram2dcontour": [
           {
            "autocolorscale": true,
            "colorbar": {
             "outlinewidth": 0,
             "ticks": ""
            },
            "type": "histogram2dcontour"
           }
          ],
          "mesh3d": [
           {
            "colorbar": {
             "outlinewidth": 0,
             "ticks": ""
            },
            "type": "mesh3d"
           }
          ],
          "parcoords": [
           {
            "line": {
             "colorbar": {
              "outlinewidth": 0,
              "ticks": ""
             }
            },
            "type": "parcoords"
           }
          ],
          "scatter": [
           {
            "marker": {
             "colorbar": {
              "outlinewidth": 0,
              "ticks": ""
             }
            },
            "type": "scatter"
           }
          ],
          "scatter3d": [
           {
            "marker": {
             "colorbar": {
              "outlinewidth": 0,
              "ticks": ""
             }
            },
            "type": "scatter3d"
           }
          ],
          "scattercarpet": [
           {
            "marker": {
             "colorbar": {
              "outlinewidth": 0,
              "ticks": ""
             }
            },
            "type": "scattercarpet"
           }
          ],
          "scattergeo": [
           {
            "marker": {
             "colorbar": {
              "outlinewidth": 0,
              "ticks": ""
             }
            },
            "type": "scattergeo"
           }
          ],
          "scattergl": [
           {
            "marker": {
             "colorbar": {
              "outlinewidth": 0,
              "ticks": ""
             }
            },
            "type": "scattergl"
           }
          ],
          "scattermapbox": [
           {
            "marker": {
             "colorbar": {
              "outlinewidth": 0,
              "ticks": ""
             }
            },
            "type": "scattermapbox"
           }
          ],
          "scatterpolar": [
           {
            "marker": {
             "colorbar": {
              "outlinewidth": 0,
              "ticks": ""
             }
            },
            "type": "scatterpolar"
           }
          ],
          "scatterpolargl": [
           {
            "marker": {
             "colorbar": {
              "outlinewidth": 0,
              "ticks": ""
             }
            },
            "type": "scatterpolargl"
           }
          ],
          "scatterternary": [
           {
            "marker": {
             "colorbar": {
              "outlinewidth": 0,
              "ticks": ""
             }
            },
            "type": "scatterternary"
           }
          ],
          "surface": [
           {
            "colorbar": {
             "outlinewidth": 0,
             "ticks": ""
            },
            "type": "surface"
           }
          ],
          "table": [
           {
            "cells": {
             "fill": {
              "color": "#EBF0F8"
             },
             "line": {
              "color": "white"
             }
            },
            "header": {
             "fill": {
              "color": "#C8D4E3"
             },
             "line": {
              "color": "white"
             }
            },
            "type": "table"
           }
          ]
         },
         "layout": {
          "annotationdefaults": {
           "arrowcolor": "#506784",
           "arrowhead": 0,
           "arrowwidth": 1
          },
          "colorscale": {
           "diverging": [
            [
             0,
             "#8e0152"
            ],
            [
             0.1,
             "#c51b7d"
            ],
            [
             0.2,
             "#de77ae"
            ],
            [
             0.3,
             "#f1b6da"
            ],
            [
             0.4,
             "#fde0ef"
            ],
            [
             0.5,
             "#f7f7f7"
            ],
            [
             0.6,
             "#e6f5d0"
            ],
            [
             0.7,
             "#b8e186"
            ],
            [
             0.8,
             "#7fbc41"
            ],
            [
             0.9,
             "#4d9221"
            ],
            [
             1,
             "#276419"
            ]
           ],
           "sequential": [
            [
             0,
             "#0508b8"
            ],
            [
             0.0893854748603352,
             "#1910d8"
            ],
            [
             0.1787709497206704,
             "#3c19f0"
            ],
            [
             0.2681564245810056,
             "#6b1cfb"
            ],
            [
             0.3575418994413408,
             "#981cfd"
            ],
            [
             0.44692737430167595,
             "#bf1cfd"
            ],
            [
             0.5363128491620112,
             "#dd2bfd"
            ],
            [
             0.6256983240223464,
             "#f246fe"
            ],
            [
             0.7150837988826816,
             "#fc67fd"
            ],
            [
             0.8044692737430168,
             "#fe88fc"
            ],
            [
             0.8938547486033519,
             "#fea5fd"
            ],
            [
             0.9832402234636871,
             "#febefe"
            ],
            [
             1,
             "#fec3fe"
            ]
           ],
           "sequentialminus": [
            [
             0,
             "#0508b8"
            ],
            [
             0.0893854748603352,
             "#1910d8"
            ],
            [
             0.1787709497206704,
             "#3c19f0"
            ],
            [
             0.2681564245810056,
             "#6b1cfb"
            ],
            [
             0.3575418994413408,
             "#981cfd"
            ],
            [
             0.44692737430167595,
             "#bf1cfd"
            ],
            [
             0.5363128491620112,
             "#dd2bfd"
            ],
            [
             0.6256983240223464,
             "#f246fe"
            ],
            [
             0.7150837988826816,
             "#fc67fd"
            ],
            [
             0.8044692737430168,
             "#fe88fc"
            ],
            [
             0.8938547486033519,
             "#fea5fd"
            ],
            [
             0.9832402234636871,
             "#febefe"
            ],
            [
             1,
             "#fec3fe"
            ]
           ]
          },
          "colorway": [
           "#636efa",
           "#EF553B",
           "#00cc96",
           "#ab63fa",
           "#19d3f3",
           "#e763fa",
           "#FECB52",
           "#FFA15A",
           "#FF6692",
           "#B6E880"
          ],
          "font": {
           "color": "#2a3f5f"
          },
          "geo": {
           "bgcolor": "white",
           "lakecolor": "white",
           "landcolor": "#E5ECF6",
           "showlakes": true,
           "showland": true,
           "subunitcolor": "white"
          },
          "hoverlabel": {
           "align": "left"
          },
          "hovermode": "closest",
          "legend": {
           "itemsizing": "constant"
          },
          "mapbox": {
           "style": "light"
          },
          "paper_bgcolor": "white",
          "plot_bgcolor": "#E5ECF6",
          "polar": {
           "angularaxis": {
            "gridcolor": "white",
            "linecolor": "white",
            "ticks": ""
           },
           "bgcolor": "#E5ECF6",
           "radialaxis": {
            "gridcolor": "white",
            "linecolor": "white",
            "ticks": ""
           }
          },
          "scene": {
           "xaxis": {
            "backgroundcolor": "#E5ECF6",
            "gridcolor": "white",
            "gridwidth": 2,
            "linecolor": "white",
            "showbackground": true,
            "ticks": "",
            "zerolinecolor": "white"
           },
           "yaxis": {
            "backgroundcolor": "#E5ECF6",
            "gridcolor": "white",
            "gridwidth": 2,
            "linecolor": "white",
            "showbackground": true,
            "ticks": "",
            "zerolinecolor": "white"
           },
           "zaxis": {
            "backgroundcolor": "#E5ECF6",
            "gridcolor": "white",
            "gridwidth": 2,
            "linecolor": "white",
            "showbackground": true,
            "ticks": "",
            "zerolinecolor": "white"
           }
          },
          "shapedefaults": {
           "fillcolor": "#506784",
           "line": {
            "width": 0
           },
           "opacity": 0.4
          },
          "ternary": {
           "aaxis": {
            "gridcolor": "white",
            "linecolor": "white",
            "ticks": ""
           },
           "baxis": {
            "gridcolor": "white",
            "linecolor": "white",
            "ticks": ""
           },
           "bgcolor": "#E5ECF6",
           "caxis": {
            "gridcolor": "white",
            "linecolor": "white",
            "ticks": ""
           }
          },
          "title": {
           "x": 0.05
          },
          "xaxis": {
           "automargin": true,
           "gridcolor": "white",
           "linecolor": "white",
           "ticks": "",
           "zerolinecolor": "white",
           "zerolinewidth": 2
          },
          "yaxis": {
           "automargin": true,
           "gridcolor": "white",
           "linecolor": "white",
           "ticks": "",
           "zerolinecolor": "white",
           "zerolinewidth": 2
          }
         }
        },
        "title": {
         "text": "Core Skills in Science (Sushila Birla Girls^ School-Kolkata-CBSE)"
        },
        "width": 2000,
        "xaxis": {
         "title": {
          "text": "year"
         }
        },
        "xaxis2": {
         "matches": "x",
         "title": {
          "text": "year"
         }
        },
        "xaxis3": {
         "matches": "x",
         "title": {
          "text": "year"
         }
        },
        "xaxis4": {
         "matches": "x",
         "title": {
          "text": "year"
         }
        },
        "yaxis": {
         "title": {
          "text": "skill_delta"
         }
        },
        "yaxis2": {
         "matches": "y",
         "title": {
          "text": "skill_delta"
         }
        },
        "yaxis3": {
         "matches": "y",
         "title": {
          "text": "skill_delta"
         }
        },
        "yaxis4": {
         "matches": "y",
         "title": {
          "text": "skill_delta"
         }
        },
        "yaxis5": {
         "matches": "y",
         "title": {
          "text": "skill_delta"
         }
        },
        "yaxis6": {
         "matches": "y",
         "title": {
          "text": "skill_delta"
         }
        },
        "yaxis7": {
         "matches": "y",
         "title": {
          "text": "skill_delta"
         }
        },
        "yaxis8": {
         "matches": "y",
         "title": {
          "text": "skill_delta"
         }
        }
       }
      },
      "text/html": [
       "<div>\n",
       "        \n",
       "        \n",
       "            <div id=\"a0635775-f727-4c45-b0ca-076ffb2a0000\" class=\"plotly-graph-div\"></div>\n",
       "            <script type=\"text/javascript\">\n",
       "                require([\"plotly\"], function(Plotly) {\n",
       "                    window.PLOTLYENV=window.PLOTLYENV || {};\n",
       "                    window.PLOTLYENV.BASE_URL='https://plot.ly';\n",
       "                    \n",
       "                if (document.getElementById(\"a0635775-f727-4c45-b0ca-076ffb2a0000\")) {\n",
       "                    Plotly.newPlot(\n",
       "                        'a0635775-f727-4c45-b0ca-076ffb2a0000',\n",
       "                        [{\"hovertemplate\": \"class=3<br>skill_name=Conceptual Understanding and Comprehension<br>skill_name=Conceptual Understanding and Comprehension<br>year=%{x}<br>skill_delta=%{y}<br>studentCount=%{marker.size}<extra></extra>\", \"legendgroup\": \"skill_name=Conceptual Understanding and Comprehension\", \"marker\": {\"color\": \"#636efa\", \"size\": [113, 18, 73, 75, 106, 109], \"sizemode\": \"area\", \"sizeref\": 1.15, \"symbol\": \"circle\"}, \"mode\": \"markers\", \"name\": \"skill_name=Conceptual Understanding and Comprehension\", \"showlegend\": true, \"type\": \"scatter\", \"uid\": \"3fdb1061-6411-4ad2-9637-3bc01470b0f4\", \"x\": [\"2018\", \"2007\", \"2008\", \"2009\", \"2014\", \"2016\"], \"xaxis\": \"x\", \"y\": [6.699999999999996, 7.149999999999999, 4.269999999999996, 1.1799999999999926, -1.6500000000000057, 6.280000000000001], \"yaxis\": \"y\"}, {\"hovertemplate\": \"<b>LOWESS trendline</b><br><br>class=3<br>skill_name=Conceptual Understanding and Comprehension<br>skill_name=Conceptual Understanding and Comprehension<br>year=%{x}<br>skill_delta=%{y} <b>(trend)</b><extra></extra>\", \"legendgroup\": \"skill_name=Conceptual Understanding and Comprehension\", \"marker\": {\"color\": \"#636efa\", \"symbol\": \"circle\"}, \"mode\": \"lines\", \"name\": \"skill_name=Conceptual Understanding and Comprehension\", \"showlegend\": false, \"type\": \"scatter\", \"uid\": \"536a79c4-705b-424e-9df2-d968279b4729\", \"x\": [2007.0, 2008.0, 2009.0, 2014.0, 2016.0, 2018.0], \"xaxis\": \"x\", \"y\": [7.177459803311247, 4.193133687635075, 1.2065421736968656, -1.6500000000001522, 2.524999999999995, 6.700000000000102], \"yaxis\": \"y\"}, {\"hovertemplate\": \"class=3<br>skill_name=Knowledge of Basic Science Facts<br>skill_name=Knowledge of Basic Science Facts<br>year=%{x}<br>skill_delta=%{y}<br>studentCount=%{marker.size}<extra></extra>\", \"legendgroup\": \"skill_name=Knowledge of Basic Science Facts\", \"marker\": {\"color\": \"#EF553B\", \"size\": [113, 18, 73, 75, 106, 109], \"sizemode\": \"area\", \"sizeref\": 1.15, \"symbol\": \"circle\"}, \"mode\": \"markers\", \"name\": \"skill_name=Knowledge of Basic Science Facts\", \"showlegend\": true, \"type\": \"scatter\", \"uid\": \"65773df4-6322-4ba8-a36b-f74a8f0973e5\", \"x\": [\"2018\", \"2007\", \"2008\", \"2009\", \"2014\", \"2016\"], \"xaxis\": \"x2\", \"y\": [2.3000000000000043, 8.46, 6.909999999999997, 5.450000000000003, 0.5799999999999983, 3.4200000000000017], \"yaxis\": \"y\"}, {\"hovertemplate\": \"<b>LOWESS trendline</b><br><br>class=3<br>skill_name=Knowledge of Basic Science Facts<br>skill_name=Knowledge of Basic Science Facts<br>year=%{x}<br>skill_delta=%{y} <b>(trend)</b><extra></extra>\", \"legendgroup\": \"skill_name=Knowledge of Basic Science Facts\", \"marker\": {\"color\": \"#EF553B\", \"symbol\": \"circle\"}, \"mode\": \"lines\", \"name\": \"skill_name=Knowledge of Basic Science Facts\", \"showlegend\": false, \"type\": \"scatter\", \"uid\": \"6e7e00ec-ef16-4705-bdcc-21296ae1cee3\", \"x\": [2007.0, 2008.0, 2009.0, 2014.0, 2016.0, 2018.0], \"xaxis\": \"x2\", \"y\": [8.448228692995299, 6.942939808392143, 5.438622101391019, 0.5799999999999844, 1.4400000000000013, 2.3000000000000393], \"yaxis\": \"y\"}, {\"hovertemplate\": \"class=3<br>skill_name=Original Thinking<br>skill_name=Original Thinking<br>year=%{x}<br>skill_delta=%{y}<br>studentCount=%{marker.size}<extra></extra>\", \"legendgroup\": \"skill_name=Original Thinking\", \"marker\": {\"color\": \"#00cc96\", \"size\": [113, 18, 73, 75, 106, 109], \"sizemode\": \"area\", \"sizeref\": 1.15, \"symbol\": \"circle\"}, \"mode\": \"markers\", \"name\": \"skill_name=Original Thinking\", \"showlegend\": true, \"type\": \"scatter\", \"uid\": \"acf067dc-9e88-49a3-ac2c-5efe30e83c35\", \"x\": [\"2018\", \"2007\", \"2008\", \"2009\", \"2014\", \"2016\"], \"xaxis\": \"x3\", \"y\": [1.9699999999999989, -0.39000000000000057, 5.140000000000001, 5.520000000000003, -4.200000000000003, 3.3800000000000026], \"yaxis\": \"y\"}, {\"hovertemplate\": \"<b>LOWESS trendline</b><br><br>class=3<br>skill_name=Original Thinking<br>skill_name=Original Thinking<br>year=%{x}<br>skill_delta=%{y} <b>(trend)</b><extra></extra>\", \"legendgroup\": \"skill_name=Original Thinking\", \"marker\": {\"color\": \"#00cc96\", \"symbol\": \"circle\"}, \"mode\": \"lines\", \"name\": \"skill_name=Original Thinking\", \"showlegend\": false, \"type\": \"scatter\", \"uid\": \"d71b0425-08df-4fe8-ab56-a736ccfdf19a\", \"x\": [2007.0, 2008.0, 2009.0, 2014.0, 2016.0, 2018.0], \"xaxis\": \"x3\", \"y\": [0.3185419943071053, 3.291304173813228, 6.204795735289185, -3.939914420471275, -0.6726592675447092, 2.376274509445592], \"yaxis\": \"y\"}, {\"hovertemplate\": \"class=3<br>skill_name=Reasoning and Analysis Skills<br>skill_name=Reasoning and Analysis Skills<br>year=%{x}<br>skill_delta=%{y}<br>studentCount=%{marker.size}<extra></extra>\", \"legendgroup\": \"skill_name=Reasoning and Analysis Skills\", \"marker\": {\"color\": \"#ab63fa\", \"size\": [113, 18, 73, 75, 106, 109], \"sizemode\": \"area\", \"sizeref\": 1.15, \"symbol\": \"circle\"}, \"mode\": \"markers\", \"name\": \"skill_name=Reasoning and Analysis Skills\", \"showlegend\": true, \"type\": \"scatter\", \"uid\": \"6d44fb9a-3c5e-4e02-828b-2ead0f9a0064\", \"x\": [\"2018\", \"2007\", \"2008\", \"2009\", \"2014\", \"2016\"], \"xaxis\": \"x4\", \"y\": [1.7800000000000011, 2.1199999999999974, 0.8800000000000026, 4.800000000000004, -3.729999999999997, 6.850000000000001], \"yaxis\": \"y\"}, {\"hovertemplate\": \"<b>LOWESS trendline</b><br><br>class=3<br>skill_name=Reasoning and Analysis Skills<br>skill_name=Reasoning and Analysis Skills<br>year=%{x}<br>skill_delta=%{y} <b>(trend)</b><extra></extra>\", \"legendgroup\": \"skill_name=Reasoning and Analysis Skills\", \"marker\": {\"color\": \"#ab63fa\", \"symbol\": \"circle\"}, \"mode\": \"lines\", \"name\": \"skill_name=Reasoning and Analysis Skills\", \"showlegend\": false, \"type\": \"scatter\", \"uid\": \"be9c812c-91ae-4f48-b036-2ca0b83fae17\", \"x\": [2007.0, 2008.0, 2009.0, 2014.0, 2016.0, 2018.0], \"xaxis\": \"x4\", \"y\": [1.4133032048131349, 2.735796051713682, 4.117310580123481, -3.7299999999993863, -0.9749999999998599, 1.7799999999996359], \"yaxis\": \"y\"}, {\"hovertemplate\": \"class=4<br>skill_name=Conceptual Understanding and Comprehension<br>skill_name=Conceptual Understanding and Comprehension<br>year=%{x}<br>skill_delta=%{y}<br>studentCount=%{marker.size}<extra></extra>\", \"legendgroup\": \"skill_name=Conceptual Understanding and Comprehension\", \"marker\": {\"color\": \"#636efa\", \"size\": [113, 12, 73, 75, 104, 112], \"sizemode\": \"area\", \"sizeref\": 1.15, \"symbol\": \"circle\"}, \"mode\": \"markers\", \"name\": \"skill_name=Conceptual Understanding and Comprehension\", \"showlegend\": false, \"type\": \"scatter\", \"uid\": \"647baf66-385a-45b6-8264-30c562f54015\", \"x\": [\"2018\", \"2007\", \"2008\", \"2009\", \"2014\", \"2016\"], \"xaxis\": \"x\", \"y\": [5.07, -3.229999999999997, 0.9099999999999966, 2.4399999999999977, -0.779999999999994, -0.19999999999999574], \"yaxis\": \"y2\"}, {\"hovertemplate\": \"<b>LOWESS trendline</b><br><br>class=4<br>skill_name=Conceptual Understanding and Comprehension<br>skill_name=Conceptual Understanding and Comprehension<br>year=%{x}<br>skill_delta=%{y} <b>(trend)</b><extra></extra>\", \"legendgroup\": \"skill_name=Conceptual Understanding and Comprehension\", \"marker\": {\"color\": \"#636efa\", \"symbol\": \"circle\"}, \"mode\": \"lines\", \"name\": \"skill_name=Conceptual Understanding and Comprehension\", \"showlegend\": false, \"type\": \"scatter\", \"uid\": \"45ca5f42-c5de-40d6-8bc6-47f5424dbc13\", \"x\": [2007.0, 2008.0, 2009.0, 2014.0, 2016.0, 2018.0], \"xaxis\": \"x\", \"y\": [-2.869973557216703, -0.02594455134621254, 2.7879465049439736, -0.8997869640767251, 1.9475412333486903, 4.888558946298229], \"yaxis\": \"y2\"}, {\"hovertemplate\": \"class=4<br>skill_name=Knowledge of Basic Science Facts<br>skill_name=Knowledge of Basic Science Facts<br>year=%{x}<br>skill_delta=%{y}<br>studentCount=%{marker.size}<extra></extra>\", \"legendgroup\": \"skill_name=Knowledge of Basic Science Facts\", \"marker\": {\"color\": \"#EF553B\", \"size\": [113, 12, 73, 75, 104, 112], \"sizemode\": \"area\", \"sizeref\": 1.15, \"symbol\": \"circle\"}, \"mode\": \"markers\", \"name\": \"skill_name=Knowledge of Basic Science Facts\", \"showlegend\": false, \"type\": \"scatter\", \"uid\": \"5b74d6b4-7792-4662-8d9e-cf379db3cf1e\", \"x\": [\"2018\", \"2007\", \"2008\", \"2009\", \"2014\", \"2016\"], \"xaxis\": \"x2\", \"y\": [3.5899999999999963, -4.210000000000001, -3.6899999999999977, 0.37999999999999545, 3.539999999999992, -1.8599999999999994], \"yaxis\": \"y2\"}, {\"hovertemplate\": \"<b>LOWESS trendline</b><br><br>class=4<br>skill_name=Knowledge of Basic Science Facts<br>skill_name=Knowledge of Basic Science Facts<br>year=%{x}<br>skill_delta=%{y} <b>(trend)</b><extra></extra>\", \"legendgroup\": \"skill_name=Knowledge of Basic Science Facts\", \"marker\": {\"color\": \"#EF553B\", \"symbol\": \"circle\"}, \"mode\": \"lines\", \"name\": \"skill_name=Knowledge of Basic Science Facts\", \"showlegend\": false, \"type\": \"scatter\", \"uid\": \"8ea0bf75-fc91-4cf1-b905-fa045756b219\", \"x\": [2007.0, 2008.0, 2009.0, 2014.0, 2016.0, 2018.0], \"xaxis\": \"x2\", \"y\": [-4.696224689506667, -2.413270116491403, -0.08970655380996423, 3.539999999999942, 3.5649999999999973, 3.5899999999994896], \"yaxis\": \"y2\"}, {\"hovertemplate\": \"class=4<br>skill_name=Original Thinking<br>skill_name=Original Thinking<br>year=%{x}<br>skill_delta=%{y}<br>studentCount=%{marker.size}<extra></extra>\", \"legendgroup\": \"skill_name=Original Thinking\", \"marker\": {\"color\": \"#00cc96\", \"size\": [113, 12, 73, 75, 104, 112], \"sizemode\": \"area\", \"sizeref\": 1.15, \"symbol\": \"circle\"}, \"mode\": \"markers\", \"name\": \"skill_name=Original Thinking\", \"showlegend\": false, \"type\": \"scatter\", \"uid\": \"619e6a48-680c-4186-8ab6-0db514aaf739\", \"x\": [\"2018\", \"2007\", \"2008\", \"2009\", \"2014\", \"2016\"], \"xaxis\": \"x3\", \"y\": [2.760000000000005, 0.740000000000002, 1.3499999999999943, -0.21000000000000085, 1.6199999999999974, 10.119999999999997], \"yaxis\": \"y2\"}, {\"hovertemplate\": \"<b>LOWESS trendline</b><br><br>class=4<br>skill_name=Original Thinking<br>skill_name=Original Thinking<br>year=%{x}<br>skill_delta=%{y} <b>(trend)</b><extra></extra>\", \"legendgroup\": \"skill_name=Original Thinking\", \"marker\": {\"color\": \"#00cc96\", \"symbol\": \"circle\"}, \"mode\": \"lines\", \"name\": \"skill_name=Original Thinking\", \"showlegend\": false, \"type\": \"scatter\", \"uid\": \"99eb8525-959a-4ebb-a316-226a6fd536f6\", \"x\": [2007.0, 2008.0, 2009.0, 2014.0, 2016.0, 2018.0], \"xaxis\": \"x3\", \"y\": [1.0213821631652662, 0.5532809480094283, 0.06201604949410866, 1.62000000000001, 2.1900000000000013, 2.760000000000045], \"yaxis\": \"y2\"}, {\"hovertemplate\": \"class=4<br>skill_name=Reasoning and Analysis Skills<br>skill_name=Reasoning and Analysis Skills<br>year=%{x}<br>skill_delta=%{y}<br>studentCount=%{marker.size}<extra></extra>\", \"legendgroup\": \"skill_name=Reasoning and Analysis Skills\", \"marker\": {\"color\": \"#ab63fa\", \"size\": [113, 12, 73, 75, 104, 112], \"sizemode\": \"area\", \"sizeref\": 1.15, \"symbol\": \"circle\"}, \"mode\": \"markers\", \"name\": \"skill_name=Reasoning and Analysis Skills\", \"showlegend\": false, \"type\": \"scatter\", \"uid\": \"0428d769-12f7-4c07-9ffc-aa72af5fbe4f\", \"x\": [\"2018\", \"2007\", \"2008\", \"2009\", \"2014\", \"2016\"], \"xaxis\": \"x4\", \"y\": [2.3799999999999955, -5.030000000000001, 0.4799999999999969, 2.25, -0.6499999999999986, 3.6400000000000006], \"yaxis\": \"y2\"}, {\"hovertemplate\": \"<b>LOWESS trendline</b><br><br>class=4<br>skill_name=Reasoning and Analysis Skills<br>skill_name=Reasoning and Analysis Skills<br>year=%{x}<br>skill_delta=%{y} <b>(trend)</b><extra></extra>\", \"legendgroup\": \"skill_name=Reasoning and Analysis Skills\", \"marker\": {\"color\": \"#ab63fa\", \"symbol\": \"circle\"}, \"mode\": \"lines\", \"name\": \"skill_name=Reasoning and Analysis Skills\", \"showlegend\": false, \"type\": \"scatter\", \"uid\": \"4dc424bc-a960-4988-89b3-fcc88072f0bf\", \"x\": [2007.0, 2008.0, 2009.0, 2014.0, 2016.0, 2018.0], \"xaxis\": \"x4\", \"y\": [-4.526814094705081, -0.8742615257148809, 2.7364508441907565, -0.41469945428961463, 1.3226521137103275, 2.799255381226782], \"yaxis\": \"y2\"}, {\"hovertemplate\": \"class=5<br>skill_name=Conceptual Understanding and Comprehension<br>skill_name=Conceptual Understanding and Comprehension<br>year=%{x}<br>skill_delta=%{y}<br>studentCount=%{marker.size}<extra></extra>\", \"legendgroup\": \"skill_name=Conceptual Understanding and Comprehension\", \"marker\": {\"color\": \"#636efa\", \"size\": [113, 12, 74, 75, 107, 105], \"sizemode\": \"area\", \"sizeref\": 1.15, \"symbol\": \"circle\"}, \"mode\": \"markers\", \"name\": \"skill_name=Conceptual Understanding and Comprehension\", \"showlegend\": false, \"type\": \"scatter\", \"uid\": \"d27a4b21-31cc-4baf-877d-3d25f3e8e93f\", \"x\": [\"2018\", \"2007\", \"2008\", \"2009\", \"2014\", \"2016\"], \"xaxis\": \"x\", \"y\": [0.10000000000000142, 3.700000000000003, -1.4500000000000028, 0.1700000000000017, 3.0500000000000043, -0.5800000000000054], \"yaxis\": \"y3\"}, {\"hovertemplate\": \"<b>LOWESS trendline</b><br><br>class=5<br>skill_name=Conceptual Understanding and Comprehension<br>skill_name=Conceptual Understanding and Comprehension<br>year=%{x}<br>skill_delta=%{y} <b>(trend)</b><extra></extra>\", \"legendgroup\": \"skill_name=Conceptual Understanding and Comprehension\", \"marker\": {\"color\": \"#636efa\", \"symbol\": \"circle\"}, \"mode\": \"lines\", \"name\": \"skill_name=Conceptual Understanding and Comprehension\", \"showlegend\": false, \"type\": \"scatter\", \"uid\": \"9c193e9f-09f6-40f1-a7c3-0ada7b65146d\", \"x\": [2007.0, 2008.0, 2009.0, 2014.0, 2016.0, 2018.0], \"xaxis\": \"x\", \"y\": [2.894166970696425, 1.1095985952388656, -0.6100295078534277, 2.7720818494292336, 0.8915604198771685, -0.514773040294546], \"yaxis\": \"y3\"}, {\"hovertemplate\": \"class=5<br>skill_name=Knowledge of Basic Science Facts<br>skill_name=Knowledge of Basic Science Facts<br>year=%{x}<br>skill_delta=%{y}<br>studentCount=%{marker.size}<extra></extra>\", \"legendgroup\": \"skill_name=Knowledge of Basic Science Facts\", \"marker\": {\"color\": \"#EF553B\", \"size\": [113, 12, 74, 75, 107, 105], \"sizemode\": \"area\", \"sizeref\": 1.15, \"symbol\": \"circle\"}, \"mode\": \"markers\", \"name\": \"skill_name=Knowledge of Basic Science Facts\", \"showlegend\": false, \"type\": \"scatter\", \"uid\": \"33e860a7-058c-4709-b55e-e004ec8a8cf3\", \"x\": [\"2018\", \"2007\", \"2008\", \"2009\", \"2014\", \"2016\"], \"xaxis\": \"x2\", \"y\": [6.200000000000003, 10.399999999999999, 5.25, 8.539999999999992, -0.23000000000000398, -3.960000000000001], \"yaxis\": \"y3\"}, {\"hovertemplate\": \"<b>LOWESS trendline</b><br><br>class=5<br>skill_name=Knowledge of Basic Science Facts<br>skill_name=Knowledge of Basic Science Facts<br>year=%{x}<br>skill_delta=%{y} <b>(trend)</b><extra></extra>\", \"legendgroup\": \"skill_name=Knowledge of Basic Science Facts\", \"marker\": {\"color\": \"#EF553B\", \"symbol\": \"circle\"}, \"mode\": \"lines\", \"name\": \"skill_name=Knowledge of Basic Science Facts\", \"showlegend\": false, \"type\": \"scatter\", \"uid\": \"29439ca2-78fa-45bd-863f-a887af3c3a3d\", \"x\": [2007.0, 2008.0, 2009.0, 2014.0, 2016.0, 2018.0], \"xaxis\": \"x2\", \"y\": [9.246423074939326, 8.287541512000121, 7.424987629450934, -0.7133745500601923, 2.115157391481885, 5.401830765919488], \"yaxis\": \"y3\"}, {\"hovertemplate\": \"class=5<br>skill_name=Original Thinking<br>skill_name=Original Thinking<br>year=%{x}<br>skill_delta=%{y}<br>studentCount=%{marker.size}<extra></extra>\", \"legendgroup\": \"skill_name=Original Thinking\", \"marker\": {\"color\": \"#00cc96\", \"size\": [113, 12, 74, 75, 107, 105], \"sizemode\": \"area\", \"sizeref\": 1.15, \"symbol\": \"circle\"}, \"mode\": \"markers\", \"name\": \"skill_name=Original Thinking\", \"showlegend\": false, \"type\": \"scatter\", \"uid\": \"3209bccd-2dcb-4b63-8902-dcd462b135c8\", \"x\": [\"2018\", \"2007\", \"2008\", \"2009\", \"2014\", \"2016\"], \"xaxis\": \"x3\", \"y\": [0.3200000000000003, 5.049999999999997, -2.9300000000000033, 5.57, 4.469999999999999, -1.720000000000006], \"yaxis\": \"y3\"}, {\"hovertemplate\": \"<b>LOWESS trendline</b><br><br>class=5<br>skill_name=Original Thinking<br>skill_name=Original Thinking<br>year=%{x}<br>skill_delta=%{y} <b>(trend)</b><extra></extra>\", \"legendgroup\": \"skill_name=Original Thinking\", \"marker\": {\"color\": \"#00cc96\", \"symbol\": \"circle\"}, \"mode\": \"lines\", \"name\": \"skill_name=Original Thinking\", \"showlegend\": false, \"type\": \"scatter\", \"uid\": \"37483eab-7299-4a8a-9d70-8945797ba4d8\", \"x\": [2007.0, 2008.0, 2009.0, 2014.0, 2016.0, 2018.0], \"xaxis\": \"x3\", \"y\": [3.090654251289146, 3.303080752361046, 3.6733625289459377, 3.9242541782794738, 1.0353332136115383, -0.897283716603767], \"yaxis\": \"y3\"}, {\"hovertemplate\": \"class=5<br>skill_name=Reasoning and Analysis Skills<br>skill_name=Reasoning and Analysis Skills<br>year=%{x}<br>skill_delta=%{y}<br>studentCount=%{marker.size}<extra></extra>\", \"legendgroup\": \"skill_name=Reasoning and Analysis Skills\", \"marker\": {\"color\": \"#ab63fa\", \"size\": [113, 12, 74, 75, 107, 105], \"sizemode\": \"area\", \"sizeref\": 1.15, \"symbol\": \"circle\"}, \"mode\": \"markers\", \"name\": \"skill_name=Reasoning and Analysis Skills\", \"showlegend\": false, \"type\": \"scatter\", \"uid\": \"26a0431f-5c10-4d72-a480-f33c018b422a\", \"x\": [\"2018\", \"2007\", \"2008\", \"2009\", \"2014\", \"2016\"], \"xaxis\": \"x4\", \"y\": [-1.0, 6.880000000000003, -5.030000000000001, 3.8800000000000026, 5.130000000000003, 0.7999999999999972], \"yaxis\": \"y3\"}, {\"hovertemplate\": \"<b>LOWESS trendline</b><br><br>class=5<br>skill_name=Reasoning and Analysis Skills<br>skill_name=Reasoning and Analysis Skills<br>year=%{x}<br>skill_delta=%{y} <b>(trend)</b><extra></extra>\", \"legendgroup\": \"skill_name=Reasoning and Analysis Skills\", \"marker\": {\"color\": \"#ab63fa\", \"symbol\": \"circle\"}, \"mode\": \"lines\", \"name\": \"skill_name=Reasoning and Analysis Skills\", \"showlegend\": false, \"type\": \"scatter\", \"uid\": \"8820127c-21c8-4c9e-9ed3-58874b3e1d1c\", \"x\": [2007.0, 2008.0, 2009.0, 2014.0, 2016.0, 2018.0], \"xaxis\": \"x4\", \"y\": [6.88000000000009, 5.379999999999719, 3.880000000000082, 4.994529765875218, 1.7505975854559157, -1.293064154838941], \"yaxis\": \"y3\"}, {\"hovertemplate\": \"class=6<br>skill_name=Conceptual Understanding and Comprehension<br>skill_name=Conceptual Understanding and Comprehension<br>year=%{x}<br>skill_delta=%{y}<br>studentCount=%{marker.size}<extra></extra>\", \"legendgroup\": \"skill_name=Conceptual Understanding and Comprehension\", \"marker\": {\"color\": \"#636efa\", \"size\": [111, 17, 73, 79, 82, 100], \"sizemode\": \"area\", \"sizeref\": 1.15, \"symbol\": \"circle\"}, \"mode\": \"markers\", \"name\": \"skill_name=Conceptual Understanding and Comprehension\", \"showlegend\": false, \"type\": \"scatter\", \"uid\": \"2aed9431-c33a-4617-9639-6bbe33688875\", \"x\": [\"2018\", \"2007\", \"2008\", \"2009\", \"2014\", \"2016\"], \"xaxis\": \"x\", \"y\": [8.11, 7.210000000000001, 1.8699999999999974, -1.8800000000000026, 10.700000000000003, 4.479999999999997], \"yaxis\": \"y4\"}, {\"hovertemplate\": \"<b>LOWESS trendline</b><br><br>class=6<br>skill_name=Conceptual Understanding and Comprehension<br>skill_name=Conceptual Understanding and Comprehension<br>year=%{x}<br>skill_delta=%{y} <b>(trend)</b><extra></extra>\", \"legendgroup\": \"skill_name=Conceptual Understanding and Comprehension\", \"marker\": {\"color\": \"#636efa\", \"symbol\": \"circle\"}, \"mode\": \"lines\", \"name\": \"skill_name=Conceptual Understanding and Comprehension\", \"showlegend\": false, \"type\": \"scatter\", \"uid\": \"843dcb98-a142-4794-ba5f-a3534522dc62\", \"x\": [2007.0, 2008.0, 2009.0, 2014.0, 2016.0, 2018.0], \"xaxis\": \"x\", \"y\": [7.004258051426316, 2.4542149705307197, -2.0789003089053093, 10.700000000000228, 9.405000000000001, 8.110000000000106], \"yaxis\": \"y4\"}, {\"hovertemplate\": \"class=6<br>skill_name=Knowledge of Basic Science Facts<br>skill_name=Knowledge of Basic Science Facts<br>year=%{x}<br>skill_delta=%{y}<br>studentCount=%{marker.size}<extra></extra>\", \"legendgroup\": \"skill_name=Knowledge of Basic Science Facts\", \"marker\": {\"color\": \"#EF553B\", \"size\": [111, 17, 73, 79, 82, 100], \"sizemode\": \"area\", \"sizeref\": 1.15, \"symbol\": \"circle\"}, \"mode\": \"markers\", \"name\": \"skill_name=Knowledge of Basic Science Facts\", \"showlegend\": false, \"type\": \"scatter\", \"uid\": \"f43c3213-7062-48d8-a826-baa09c4c8782\", \"x\": [\"2018\", \"2007\", \"2008\", \"2009\", \"2014\", \"2016\"], \"xaxis\": \"x2\", \"y\": [3.9299999999999997, 9.560000000000002, 9.170000000000002, 3.960000000000001, 4.579999999999998, 7.5], \"yaxis\": \"y4\"}, {\"hovertemplate\": \"<b>LOWESS trendline</b><br><br>class=6<br>skill_name=Knowledge of Basic Science Facts<br>skill_name=Knowledge of Basic Science Facts<br>year=%{x}<br>skill_delta=%{y} <b>(trend)</b><extra></extra>\", \"legendgroup\": \"skill_name=Knowledge of Basic Science Facts\", \"marker\": {\"color\": \"#EF553B\", \"symbol\": \"circle\"}, \"mode\": \"lines\", \"name\": \"skill_name=Knowledge of Basic Science Facts\", \"showlegend\": false, \"type\": \"scatter\", \"uid\": \"14fdc0a4-fa7a-479b-a28c-690fd6129ad4\", \"x\": [2007.0, 2008.0, 2009.0, 2014.0, 2016.0, 2018.0], \"xaxis\": \"x2\", \"y\": [10.195487306106944, 7.411263662853851, 4.574482386403891, 4.887213014133974, 4.885296970235438, 4.506559666044444], \"yaxis\": \"y4\"}, {\"hovertemplate\": \"class=6<br>skill_name=Original Thinking<br>skill_name=Original Thinking<br>year=%{x}<br>skill_delta=%{y}<br>studentCount=%{marker.size}<extra></extra>\", \"legendgroup\": \"skill_name=Original Thinking\", \"marker\": {\"color\": \"#00cc96\", \"size\": [111, 17, 73, 79, 82, 100], \"sizemode\": \"area\", \"sizeref\": 1.15, \"symbol\": \"circle\"}, \"mode\": \"markers\", \"name\": \"skill_name=Original Thinking\", \"showlegend\": false, \"type\": \"scatter\", \"uid\": \"03974542-8041-4cbe-bf8b-efbd09c2951d\", \"x\": [\"2018\", \"2007\", \"2008\", \"2009\", \"2014\", \"2016\"], \"xaxis\": \"x3\", \"y\": [5.050000000000004, 8.980000000000004, 5.349999999999994, -0.6300000000000026, 5.810000000000002, 1.6999999999999957], \"yaxis\": \"y4\"}, {\"hovertemplate\": \"<b>LOWESS trendline</b><br><br>class=6<br>skill_name=Original Thinking<br>skill_name=Original Thinking<br>year=%{x}<br>skill_delta=%{y} <b>(trend)</b><extra></extra>\", \"legendgroup\": \"skill_name=Original Thinking\", \"marker\": {\"color\": \"#00cc96\", \"symbol\": \"circle\"}, \"mode\": \"lines\", \"name\": \"skill_name=Original Thinking\", \"showlegend\": false, \"type\": \"scatter\", \"uid\": \"d422cd27-d108-4149-bb8f-f15592f7077d\", \"x\": [2007.0, 2008.0, 2009.0, 2014.0, 2016.0, 2018.0], \"xaxis\": \"x3\", \"y\": [9.30191939898019, 4.50489450132696, -0.3190179323951261, 5.81000000000009, 5.4300000000000175, 5.050000000000582], \"yaxis\": \"y4\"}, {\"hovertemplate\": \"class=6<br>skill_name=Reasoning and Analysis Skills<br>skill_name=Reasoning and Analysis Skills<br>year=%{x}<br>skill_delta=%{y}<br>studentCount=%{marker.size}<extra></extra>\", \"legendgroup\": \"skill_name=Reasoning and Analysis Skills\", \"marker\": {\"color\": \"#ab63fa\", \"size\": [111, 17, 73, 79, 82, 100], \"sizemode\": \"area\", \"sizeref\": 1.15, \"symbol\": \"circle\"}, \"mode\": \"markers\", \"name\": \"skill_name=Reasoning and Analysis Skills\", \"showlegend\": false, \"type\": \"scatter\", \"uid\": \"9e10ff1e-98d2-4889-8726-9c49c9370202\", \"x\": [\"2018\", \"2007\", \"2008\", \"2009\", \"2014\", \"2016\"], \"xaxis\": \"x4\", \"y\": [4.359999999999999, 14.619999999999997, 6.079999999999998, 3.030000000000001, 2.8900000000000006, 2.5], \"yaxis\": \"y4\"}, {\"hovertemplate\": \"<b>LOWESS trendline</b><br><br>class=6<br>skill_name=Reasoning and Analysis Skills<br>skill_name=Reasoning and Analysis Skills<br>year=%{x}<br>skill_delta=%{y} <b>(trend)</b><extra></extra>\", \"legendgroup\": \"skill_name=Reasoning and Analysis Skills\", \"marker\": {\"color\": \"#ab63fa\", \"symbol\": \"circle\"}, \"mode\": \"lines\", \"name\": \"skill_name=Reasoning and Analysis Skills\", \"showlegend\": false, \"type\": \"scatter\", \"uid\": \"303ec9dd-f059-4db1-aadc-348a94933307\", \"x\": [2007.0, 2008.0, 2009.0, 2014.0, 2016.0, 2018.0], \"xaxis\": \"x4\", \"y\": [13.998209062344761, 8.188196063160582, 2.427705667154224, 2.7390645100724442, 3.2471680856045526, 4.022496417749476], \"yaxis\": \"y4\"}, {\"hovertemplate\": \"class=7<br>skill_name=Conceptual Understanding and Comprehension<br>skill_name=Conceptual Understanding and Comprehension<br>year=%{x}<br>skill_delta=%{y}<br>studentCount=%{marker.size}<extra></extra>\", \"legendgroup\": \"skill_name=Conceptual Understanding and Comprehension\", \"marker\": {\"color\": \"#636efa\", \"size\": [115, 4, 46, 74, 78, 100], \"sizemode\": \"area\", \"sizeref\": 1.15, \"symbol\": \"circle\"}, \"mode\": \"markers\", \"name\": \"skill_name=Conceptual Understanding and Comprehension\", \"showlegend\": false, \"type\": \"scatter\", \"uid\": \"c19a3b74-f875-4894-ba1c-3615b9a8488e\", \"x\": [\"2018\", \"2007\", \"2008\", \"2009\", \"2014\", \"2016\"], \"xaxis\": \"x\", \"y\": [9.930000000000007, 11.239999999999995, 6.439999999999998, 3.9200000000000017, 3.9299999999999997, 3.8100000000000023], \"yaxis\": \"y5\"}, {\"hovertemplate\": \"<b>LOWESS trendline</b><br><br>class=7<br>skill_name=Conceptual Understanding and Comprehension<br>skill_name=Conceptual Understanding and Comprehension<br>year=%{x}<br>skill_delta=%{y} <b>(trend)</b><extra></extra>\", \"legendgroup\": \"skill_name=Conceptual Understanding and Comprehension\", \"marker\": {\"color\": \"#636efa\", \"symbol\": \"circle\"}, \"mode\": \"lines\", \"name\": \"skill_name=Conceptual Understanding and Comprehension\", \"showlegend\": false, \"type\": \"scatter\", \"uid\": \"fa9a6555-4545-4648-bcbc-4c43df3b52ab\", \"x\": [2007.0, 2008.0, 2009.0, 2014.0, 2016.0, 2018.0], \"xaxis\": \"x\", \"y\": [10.92821596258279, 7.260493778548538, 3.6188004284383877, 3.929999999999905, 6.930000000000337, 9.929999999999577], \"yaxis\": \"y5\"}, {\"hovertemplate\": \"class=7<br>skill_name=Knowledge of Basic Science Facts<br>skill_name=Knowledge of Basic Science Facts<br>year=%{x}<br>skill_delta=%{y}<br>studentCount=%{marker.size}<extra></extra>\", \"legendgroup\": \"skill_name=Knowledge of Basic Science Facts\", \"marker\": {\"color\": \"#EF553B\", \"size\": [115, 4, 46, 74, 78, 100], \"sizemode\": \"area\", \"sizeref\": 1.15, \"symbol\": \"circle\"}, \"mode\": \"markers\", \"name\": \"skill_name=Knowledge of Basic Science Facts\", \"showlegend\": false, \"type\": \"scatter\", \"uid\": \"f5d8690e-0de2-4388-a538-b5aa6ff771f3\", \"x\": [\"2018\", \"2007\", \"2008\", \"2009\", \"2014\", \"2016\"], \"xaxis\": \"x2\", \"y\": [7.57, -0.990000000000002, 12.560000000000002, 0.3200000000000003, 6.169999999999995, 2.039999999999999], \"yaxis\": \"y5\"}, {\"hovertemplate\": \"<b>LOWESS trendline</b><br><br>class=7<br>skill_name=Knowledge of Basic Science Facts<br>skill_name=Knowledge of Basic Science Facts<br>year=%{x}<br>skill_delta=%{y} <b>(trend)</b><extra></extra>\", \"legendgroup\": \"skill_name=Knowledge of Basic Science Facts\", \"marker\": {\"color\": \"#EF553B\", \"symbol\": \"circle\"}, \"mode\": \"lines\", \"name\": \"skill_name=Knowledge of Basic Science Facts\", \"showlegend\": false, \"type\": \"scatter\", \"uid\": \"ab4d4348-1cd7-4f65-bd26-96212cf492a0\", \"x\": [2007.0, 2008.0, 2009.0, 2014.0, 2016.0, 2018.0], \"xaxis\": \"x2\", \"y\": [1.7501184622555759, 2.470776435521792, 2.976342593493278, 5.520234521099858, 5.241762336996483, 6.116361193314592], \"yaxis\": \"y5\"}, {\"hovertemplate\": \"class=7<br>skill_name=Original Thinking<br>skill_name=Original Thinking<br>year=%{x}<br>skill_delta=%{y}<br>studentCount=%{marker.size}<extra></extra>\", \"legendgroup\": \"skill_name=Original Thinking\", \"marker\": {\"color\": \"#00cc96\", \"size\": [115, 4, 46, 74, 78, 100], \"sizemode\": \"area\", \"sizeref\": 1.15, \"symbol\": \"circle\"}, \"mode\": \"markers\", \"name\": \"skill_name=Original Thinking\", \"showlegend\": false, \"type\": \"scatter\", \"uid\": \"0c5b009f-ad2a-4e57-9175-6be727ae7de5\", \"x\": [\"2018\", \"2007\", \"2008\", \"2009\", \"2014\", \"2016\"], \"xaxis\": \"x3\", \"y\": [6.380000000000003, 3.91, 2.1899999999999977, 3.210000000000001, 8.0, 1.4299999999999997], \"yaxis\": \"y5\"}, {\"hovertemplate\": \"<b>LOWESS trendline</b><br><br>class=7<br>skill_name=Original Thinking<br>skill_name=Original Thinking<br>year=%{x}<br>skill_delta=%{y} <b>(trend)</b><extra></extra>\", \"legendgroup\": \"skill_name=Original Thinking\", \"marker\": {\"color\": \"#00cc96\", \"symbol\": \"circle\"}, \"mode\": \"lines\", \"name\": \"skill_name=Original Thinking\", \"showlegend\": false, \"type\": \"scatter\", \"uid\": \"25b7b012-6606-4742-9f7d-58201727dbc7\", \"x\": [2007.0, 2008.0, 2009.0, 2014.0, 2016.0, 2018.0], \"xaxis\": \"x3\", \"y\": [3.5375352903479107, 3.1783225122010506, 2.850154601918359, 8.000000000000165, 7.190000000000001, 6.380000000000088], \"yaxis\": \"y5\"}, {\"hovertemplate\": \"class=7<br>skill_name=Reasoning and Analysis Skills<br>skill_name=Reasoning and Analysis Skills<br>year=%{x}<br>skill_delta=%{y}<br>studentCount=%{marker.size}<extra></extra>\", \"legendgroup\": \"skill_name=Reasoning and Analysis Skills\", \"marker\": {\"color\": \"#ab63fa\", \"size\": [115, 4, 46, 74, 78, 100], \"sizemode\": \"area\", \"sizeref\": 1.15, \"symbol\": \"circle\"}, \"mode\": \"markers\", \"name\": \"skill_name=Reasoning and Analysis Skills\", \"showlegend\": false, \"type\": \"scatter\", \"uid\": \"cbd9c456-ec3b-4029-aff6-8fe5d31ea240\", \"x\": [\"2018\", \"2007\", \"2008\", \"2009\", \"2014\", \"2016\"], \"xaxis\": \"x4\", \"y\": [7.259999999999998, 10.43, 10.199999999999996, 6.009999999999998, 4.18, 7.849999999999994], \"yaxis\": \"y5\"}, {\"hovertemplate\": \"<b>LOWESS trendline</b><br><br>class=7<br>skill_name=Reasoning and Analysis Skills<br>skill_name=Reasoning and Analysis Skills<br>year=%{x}<br>skill_delta=%{y} <b>(trend)</b><extra></extra>\", \"legendgroup\": \"skill_name=Reasoning and Analysis Skills\", \"marker\": {\"color\": \"#ab63fa\", \"symbol\": \"circle\"}, \"mode\": \"lines\", \"name\": \"skill_name=Reasoning and Analysis Skills\", \"showlegend\": false, \"type\": \"scatter\", \"uid\": \"7b39403d-cc97-4e85-a33f-6519e619c99d\", \"x\": [2007.0, 2008.0, 2009.0, 2014.0, 2016.0, 2018.0], \"xaxis\": \"x4\", \"y\": [10.915056474958389, 8.716903404429335, 6.479383784960544, 4.411042893294448, 6.2322439130578635, 7.727085866053854], \"yaxis\": \"y5\"}, {\"hovertemplate\": \"class=8<br>skill_name=Conceptual Understanding and Comprehension<br>skill_name=Conceptual Understanding and Comprehension<br>year=%{x}<br>skill_delta=%{y}<br>studentCount=%{marker.size}<extra></extra>\", \"legendgroup\": \"skill_name=Conceptual Understanding and Comprehension\", \"marker\": {\"color\": \"#636efa\", \"size\": [104, 14, 54, 48, 77, 78], \"sizemode\": \"area\", \"sizeref\": 1.15, \"symbol\": \"circle\"}, \"mode\": \"markers\", \"name\": \"skill_name=Conceptual Understanding and Comprehension\", \"showlegend\": false, \"type\": \"scatter\", \"uid\": \"91fb6c45-5731-4536-bd16-6cbf9506bf4f\", \"x\": [\"2018\", \"2007\", \"2008\", \"2009\", \"2014\", \"2016\"], \"xaxis\": \"x\", \"y\": [5.629999999999999, 15.369999999999997, 5.020000000000003, 15.049999999999997, 4.93, -1.9400000000000048], \"yaxis\": \"y6\"}, {\"hovertemplate\": \"<b>LOWESS trendline</b><br><br>class=8<br>skill_name=Conceptual Understanding and Comprehension<br>skill_name=Conceptual Understanding and Comprehension<br>year=%{x}<br>skill_delta=%{y} <b>(trend)</b><extra></extra>\", \"legendgroup\": \"skill_name=Conceptual Understanding and Comprehension\", \"marker\": {\"color\": \"#636efa\", \"symbol\": \"circle\"}, \"mode\": \"lines\", \"name\": \"skill_name=Conceptual Understanding and Comprehension\", \"showlegend\": false, \"type\": \"scatter\", \"uid\": \"53f2d514-74f5-447a-91ac-6bee57aa098f\", \"x\": [2007.0, 2008.0, 2009.0, 2014.0, 2016.0, 2018.0], \"xaxis\": \"x\", \"y\": [12.944168812819392, 12.7252613546479, 12.701846178726434, 4.016244856752323, 3.0548044062345263, 3.6230419023259737], \"yaxis\": \"y6\"}, {\"hovertemplate\": \"class=8<br>skill_name=Knowledge of Basic Science Facts<br>skill_name=Knowledge of Basic Science Facts<br>year=%{x}<br>skill_delta=%{y}<br>studentCount=%{marker.size}<extra></extra>\", \"legendgroup\": \"skill_name=Knowledge of Basic Science Facts\", \"marker\": {\"color\": \"#EF553B\", \"size\": [104, 14, 54, 48, 77, 78], \"sizemode\": \"area\", \"sizeref\": 1.15, \"symbol\": \"circle\"}, \"mode\": \"markers\", \"name\": \"skill_name=Knowledge of Basic Science Facts\", \"showlegend\": false, \"type\": \"scatter\", \"uid\": \"4e1af9bd-7e56-49d0-b2e1-729a070ff513\", \"x\": [\"2018\", \"2007\", \"2008\", \"2009\", \"2014\", \"2016\"], \"xaxis\": \"x2\", \"y\": [-0.7100000000000009, 27.029999999999998, 21.939999999999998, 13.36, 6.540000000000006, 8.36], \"yaxis\": \"y6\"}, {\"hovertemplate\": \"<b>LOWESS trendline</b><br><br>class=8<br>skill_name=Knowledge of Basic Science Facts<br>skill_name=Knowledge of Basic Science Facts<br>year=%{x}<br>skill_delta=%{y} <b>(trend)</b><extra></extra>\", \"legendgroup\": \"skill_name=Knowledge of Basic Science Facts\", \"marker\": {\"color\": \"#EF553B\", \"symbol\": \"circle\"}, \"mode\": \"lines\", \"name\": \"skill_name=Knowledge of Basic Science Facts\", \"showlegend\": false, \"type\": \"scatter\", \"uid\": \"12b59a0b-4fa5-426f-9125-a321e53521c8\", \"x\": [2007.0, 2008.0, 2009.0, 2014.0, 2016.0, 2018.0], \"xaxis\": \"x2\", \"y\": [27.50806175166874, 20.684905069907003, 13.821819940469597, 6.540000000000588, 2.9149999999997647, -0.7099999999999914], \"yaxis\": \"y6\"}, {\"hovertemplate\": \"class=8<br>skill_name=Original Thinking<br>skill_name=Original Thinking<br>year=%{x}<br>skill_delta=%{y}<br>studentCount=%{marker.size}<extra></extra>\", \"legendgroup\": \"skill_name=Original Thinking\", \"marker\": {\"color\": \"#00cc96\", \"size\": [104, 14, 54, 48, 77, 78], \"sizemode\": \"area\", \"sizeref\": 1.15, \"symbol\": \"circle\"}, \"mode\": \"markers\", \"name\": \"skill_name=Original Thinking\", \"showlegend\": false, \"type\": \"scatter\", \"uid\": \"be426ed8-3f27-44d0-a1d4-00426e502bc8\", \"x\": [\"2018\", \"2007\", \"2008\", \"2009\", \"2014\", \"2016\"], \"xaxis\": \"x3\", \"y\": [3.229999999999997, 5.770000000000003, 5.630000000000003, 12.759999999999998, 7.219999999999999, 0.3299999999999983], \"yaxis\": \"y6\"}, {\"hovertemplate\": \"<b>LOWESS trendline</b><br><br>class=8<br>skill_name=Original Thinking<br>skill_name=Original Thinking<br>year=%{x}<br>skill_delta=%{y} <b>(trend)</b><extra></extra>\", \"legendgroup\": \"skill_name=Original Thinking\", \"marker\": {\"color\": \"#00cc96\", \"symbol\": \"circle\"}, \"mode\": \"lines\", \"name\": \"skill_name=Original Thinking\", \"showlegend\": false, \"type\": \"scatter\", \"uid\": \"2d9d7b0a-1f1a-4f41-847c-4ce220a94192\", \"x\": [2007.0, 2008.0, 2009.0, 2014.0, 2016.0, 2018.0], \"xaxis\": \"x3\", \"y\": [4.811468638500844, 8.28267236029505, 11.833151479892624, 6.756625784321336, 4.274365422610385, 2.3604122741207254], \"yaxis\": \"y6\"}, {\"hovertemplate\": \"class=8<br>skill_name=Reasoning and Analysis Skills<br>skill_name=Reasoning and Analysis Skills<br>year=%{x}<br>skill_delta=%{y}<br>studentCount=%{marker.size}<extra></extra>\", \"legendgroup\": \"skill_name=Reasoning and Analysis Skills\", \"marker\": {\"color\": \"#ab63fa\", \"size\": [104, 14, 54, 48, 77, 78], \"sizemode\": \"area\", \"sizeref\": 1.15, \"symbol\": \"circle\"}, \"mode\": \"markers\", \"name\": \"skill_name=Reasoning and Analysis Skills\", \"showlegend\": false, \"type\": \"scatter\", \"uid\": \"a3cf133e-bc5b-4185-a6ff-40037cb6573e\", \"x\": [\"2018\", \"2007\", \"2008\", \"2009\", \"2014\", \"2016\"], \"xaxis\": \"x4\", \"y\": [4.030000000000001, 14.870000000000005, 11.61, 15.130000000000003, 7.210000000000001, 0.3400000000000034], \"yaxis\": \"y6\"}, {\"hovertemplate\": \"<b>LOWESS trendline</b><br><br>class=8<br>skill_name=Reasoning and Analysis Skills<br>skill_name=Reasoning and Analysis Skills<br>year=%{x}<br>skill_delta=%{y} <b>(trend)</b><extra></extra>\", \"legendgroup\": \"skill_name=Reasoning and Analysis Skills\", \"marker\": {\"color\": \"#ab63fa\", \"symbol\": \"circle\"}, \"mode\": \"lines\", \"name\": \"skill_name=Reasoning and Analysis Skills\", \"showlegend\": false, \"type\": \"scatter\", \"uid\": \"cb45c5bc-cc5a-4f9a-af1f-1e5dc7aa7321\", \"x\": [2007.0, 2008.0, 2009.0, 2014.0, 2016.0, 2018.0], \"xaxis\": \"x4\", \"y\": [13.950419860472365, 14.057436294199377, 14.241081874804822, 6.795922779875684, 4.8409651761479395, 3.315783395437273], \"yaxis\": \"y6\"}, {\"hovertemplate\": \"class=9<br>skill_name=Conceptual Understanding and Comprehension<br>skill_name=Conceptual Understanding and Comprehension<br>year=%{x}<br>skill_delta=%{y}<br>studentCount=%{marker.size}<extra></extra>\", \"legendgroup\": \"skill_name=Conceptual Understanding and Comprehension\", \"marker\": {\"color\": \"#636efa\", \"size\": [92, 10, 42, 51, 73, 74], \"sizemode\": \"area\", \"sizeref\": 1.15, \"symbol\": \"circle\"}, \"mode\": \"markers\", \"name\": \"skill_name=Conceptual Understanding and Comprehension\", \"showlegend\": false, \"type\": \"scatter\", \"uid\": \"6d9c991f-e07b-407e-9279-0f803fa03556\", \"x\": [\"2018\", \"2007\", \"2008\", \"2009\", \"2014\", \"2016\"], \"xaxis\": \"x\", \"y\": [5.789999999999999, -1.6400000000000006, 6.609999999999999, 4.049999999999997, 5.5, 4.489999999999995], \"yaxis\": \"y7\"}, {\"hovertemplate\": \"<b>LOWESS trendline</b><br><br>class=9<br>skill_name=Conceptual Understanding and Comprehension<br>skill_name=Conceptual Understanding and Comprehension<br>year=%{x}<br>skill_delta=%{y} <b>(trend)</b><extra></extra>\", \"legendgroup\": \"skill_name=Conceptual Understanding and Comprehension\", \"marker\": {\"color\": \"#636efa\", \"symbol\": \"circle\"}, \"mode\": \"lines\", \"name\": \"skill_name=Conceptual Understanding and Comprehension\", \"showlegend\": false, \"type\": \"scatter\", \"uid\": \"e90112b2-241d-4b55-8040-d8c2309b9938\", \"x\": [2007.0, 2008.0, 2009.0, 2014.0, 2016.0, 2018.0], \"xaxis\": \"x\", \"y\": [-1.6400000000003576, 1.204999999999952, 4.049999999999736, 5.344348419077457, 5.254561743904973, 5.441516108972336], \"yaxis\": \"y7\"}, {\"hovertemplate\": \"class=9<br>skill_name=Knowledge of Basic Science Facts<br>skill_name=Knowledge of Basic Science Facts<br>year=%{x}<br>skill_delta=%{y}<br>studentCount=%{marker.size}<extra></extra>\", \"legendgroup\": \"skill_name=Knowledge of Basic Science Facts\", \"marker\": {\"color\": \"#EF553B\", \"size\": [92, 10, 42, 51, 73, 74], \"sizemode\": \"area\", \"sizeref\": 1.15, \"symbol\": \"circle\"}, \"mode\": \"markers\", \"name\": \"skill_name=Knowledge of Basic Science Facts\", \"showlegend\": false, \"type\": \"scatter\", \"uid\": \"04106c4d-c1f0-4ad9-bfa0-3ec48d43d344\", \"x\": [\"2018\", \"2007\", \"2008\", \"2009\", \"2014\", \"2016\"], \"xaxis\": \"x2\", \"y\": [1.139999999999997, 7.259999999999998, 12.529999999999994, 16.17, 6.130000000000003, 0.5199999999999996], \"yaxis\": \"y7\"}, {\"hovertemplate\": \"<b>LOWESS trendline</b><br><br>class=9<br>skill_name=Knowledge of Basic Science Facts<br>skill_name=Knowledge of Basic Science Facts<br>year=%{x}<br>skill_delta=%{y} <b>(trend)</b><extra></extra>\", \"legendgroup\": \"skill_name=Knowledge of Basic Science Facts\", \"marker\": {\"color\": \"#EF553B\", \"symbol\": \"circle\"}, \"mode\": \"lines\", \"name\": \"skill_name=Knowledge of Basic Science Facts\", \"showlegend\": false, \"type\": \"scatter\", \"uid\": \"9e9db8b8-78f3-413c-8205-96cf506cd252\", \"x\": [2007.0, 2008.0, 2009.0, 2014.0, 2016.0, 2018.0], \"xaxis\": \"x2\", \"y\": [7.482655420363548, 11.9431679499272, 16.385097973830256, 6.130000000000181, 3.635, 1.1400000000000037], \"yaxis\": \"y7\"}, {\"hovertemplate\": \"class=9<br>skill_name=Original Thinking<br>skill_name=Original Thinking<br>year=%{x}<br>skill_delta=%{y}<br>studentCount=%{marker.size}<extra></extra>\", \"legendgroup\": \"skill_name=Original Thinking\", \"marker\": {\"color\": \"#00cc96\", \"size\": [92, 10, 42, 51, 73, 74], \"sizemode\": \"area\", \"sizeref\": 1.15, \"symbol\": \"circle\"}, \"mode\": \"markers\", \"name\": \"skill_name=Original Thinking\", \"showlegend\": false, \"type\": \"scatter\", \"uid\": \"3762f8f1-00d3-4a5e-a339-9e8d8dc41e1c\", \"x\": [\"2018\", \"2007\", \"2008\", \"2009\", \"2014\", \"2016\"], \"xaxis\": \"x3\", \"y\": [3.6700000000000017, 9.199999999999996, 11.600000000000001, 3.1300000000000026, 1.6799999999999997, 5.289999999999999], \"yaxis\": \"y7\"}, {\"hovertemplate\": \"<b>LOWESS trendline</b><br><br>class=9<br>skill_name=Original Thinking<br>skill_name=Original Thinking<br>year=%{x}<br>skill_delta=%{y} <b>(trend)</b><extra></extra>\", \"legendgroup\": \"skill_name=Original Thinking\", \"marker\": {\"color\": \"#00cc96\", \"symbol\": \"circle\"}, \"mode\": \"lines\", \"name\": \"skill_name=Original Thinking\", \"showlegend\": false, \"type\": \"scatter\", \"uid\": \"1bafea29-2467-4e94-ae18-7bc822135c1c\", \"x\": [2007.0, 2008.0, 2009.0, 2014.0, 2016.0, 2018.0], \"xaxis\": \"x3\", \"y\": [10.48460979977579, 7.48077974874965, 4.373604136752029, 2.0277397691091785, 3.5423395005034752, 4.446119188930458], \"yaxis\": \"y7\"}, {\"hovertemplate\": \"class=9<br>skill_name=Reasoning and Analysis Skills<br>skill_name=Reasoning and Analysis Skills<br>year=%{x}<br>skill_delta=%{y}<br>studentCount=%{marker.size}<extra></extra>\", \"legendgroup\": \"skill_name=Reasoning and Analysis Skills\", \"marker\": {\"color\": \"#ab63fa\", \"size\": [92, 10, 42, 51, 73, 74], \"sizemode\": \"area\", \"sizeref\": 1.15, \"symbol\": \"circle\"}, \"mode\": \"markers\", \"name\": \"skill_name=Reasoning and Analysis Skills\", \"showlegend\": false, \"type\": \"scatter\", \"uid\": \"9301bb63-2fe5-4f7f-bb00-8906b8ba945d\", \"x\": [\"2018\", \"2007\", \"2008\", \"2009\", \"2014\", \"2016\"], \"xaxis\": \"x4\", \"y\": [7.980000000000004, 15.25, 9.730000000000004, 9.380000000000003, 4.469999999999999, 0.4899999999999949], \"yaxis\": \"y7\"}, {\"hovertemplate\": \"<b>LOWESS trendline</b><br><br>class=9<br>skill_name=Reasoning and Analysis Skills<br>skill_name=Reasoning and Analysis Skills<br>year=%{x}<br>skill_delta=%{y} <b>(trend)</b><extra></extra>\", \"legendgroup\": \"skill_name=Reasoning and Analysis Skills\", \"marker\": {\"color\": \"#ab63fa\", \"symbol\": \"circle\"}, \"mode\": \"lines\", \"name\": \"skill_name=Reasoning and Analysis Skills\", \"showlegend\": false, \"type\": \"scatter\", \"uid\": \"e5201a5b-d714-4a62-96bf-8adb51f90a04\", \"x\": [2007.0, 2008.0, 2009.0, 2014.0, 2016.0, 2018.0], \"xaxis\": \"x4\", \"y\": [14.539887599828914, 11.587219972479513, 8.693912984683104, 4.469999999999992, 6.225000000000195, 7.979999999999581], \"yaxis\": \"y7\"}, {\"hovertemplate\": \"class=10<br>skill_name=Conceptual Understanding and Comprehension<br>skill_name=Conceptual Understanding and Comprehension<br>year=%{x}<br>skill_delta=%{y}<br>studentCount=%{marker.size}<extra></extra>\", \"legendgroup\": \"skill_name=Conceptual Understanding and Comprehension\", \"marker\": {\"color\": \"#636efa\", \"size\": [73, 67], \"sizemode\": \"area\", \"sizeref\": 1.15, \"symbol\": \"circle\"}, \"mode\": \"markers\", \"name\": \"skill_name=Conceptual Understanding and Comprehension\", \"showlegend\": false, \"type\": \"scatter\", \"uid\": \"b056cd55-7551-45bd-bbba-344b31874d3d\", \"x\": [\"2014\", \"2016\"], \"xaxis\": \"x\", \"y\": [1.8999999999999986, 9.579999999999998], \"yaxis\": \"y8\"}, {\"hovertemplate\": \"<b>LOWESS trendline</b><br><br>class=10<br>skill_name=Conceptual Understanding and Comprehension<br>skill_name=Conceptual Understanding and Comprehension<br>year=%{x}<br>skill_delta=%{y} <b>(trend)</b><extra></extra>\", \"legendgroup\": \"skill_name=Conceptual Understanding and Comprehension\", \"marker\": {\"color\": \"#636efa\", \"symbol\": \"circle\"}, \"mode\": \"lines\", \"name\": \"skill_name=Conceptual Understanding and Comprehension\", \"showlegend\": false, \"type\": \"scatter\", \"uid\": \"8652c710-ffb1-4b92-b7ad-c20eb032e5d9\", \"x\": [2014.0, 2016.0], \"xaxis\": \"x\", \"y\": [1.8999999999999986, 9.579999999999998], \"yaxis\": \"y8\"}, {\"hovertemplate\": \"class=10<br>skill_name=Knowledge of Basic Science Facts<br>skill_name=Knowledge of Basic Science Facts<br>year=%{x}<br>skill_delta=%{y}<br>studentCount=%{marker.size}<extra></extra>\", \"legendgroup\": \"skill_name=Knowledge of Basic Science Facts\", \"marker\": {\"color\": \"#EF553B\", \"size\": [73, 67], \"sizemode\": \"area\", \"sizeref\": 1.15, \"symbol\": \"circle\"}, \"mode\": \"markers\", \"name\": \"skill_name=Knowledge of Basic Science Facts\", \"showlegend\": false, \"type\": \"scatter\", \"uid\": \"a2b5d9bd-c4ec-4dc5-b582-0360eafa3549\", \"x\": [\"2014\", \"2016\"], \"xaxis\": \"x2\", \"y\": [-1.4200000000000017, 6.229999999999997], \"yaxis\": \"y8\"}, {\"hovertemplate\": \"<b>LOWESS trendline</b><br><br>class=10<br>skill_name=Knowledge of Basic Science Facts<br>skill_name=Knowledge of Basic Science Facts<br>year=%{x}<br>skill_delta=%{y} <b>(trend)</b><extra></extra>\", \"legendgroup\": \"skill_name=Knowledge of Basic Science Facts\", \"marker\": {\"color\": \"#EF553B\", \"symbol\": \"circle\"}, \"mode\": \"lines\", \"name\": \"skill_name=Knowledge of Basic Science Facts\", \"showlegend\": false, \"type\": \"scatter\", \"uid\": \"54e6512f-9058-4780-b43f-ebe9a89d7c4a\", \"x\": [2014.0, 2016.0], \"xaxis\": \"x2\", \"y\": [-1.4200000000000017, 6.229999999999997], \"yaxis\": \"y8\"}, {\"hovertemplate\": \"class=10<br>skill_name=Original Thinking<br>skill_name=Original Thinking<br>year=%{x}<br>skill_delta=%{y}<br>studentCount=%{marker.size}<extra></extra>\", \"legendgroup\": \"skill_name=Original Thinking\", \"marker\": {\"color\": \"#00cc96\", \"size\": [73, 67], \"sizemode\": \"area\", \"sizeref\": 1.15, \"symbol\": \"circle\"}, \"mode\": \"markers\", \"name\": \"skill_name=Original Thinking\", \"showlegend\": false, \"type\": \"scatter\", \"uid\": \"841c93f9-a08e-42ff-b901-e8b076a0d770\", \"x\": [\"2014\", \"2016\"], \"xaxis\": \"x3\", \"y\": [1.8100000000000023, 1.3499999999999943], \"yaxis\": \"y8\"}, {\"hovertemplate\": \"<b>LOWESS trendline</b><br><br>class=10<br>skill_name=Original Thinking<br>skill_name=Original Thinking<br>year=%{x}<br>skill_delta=%{y} <b>(trend)</b><extra></extra>\", \"legendgroup\": \"skill_name=Original Thinking\", \"marker\": {\"color\": \"#00cc96\", \"symbol\": \"circle\"}, \"mode\": \"lines\", \"name\": \"skill_name=Original Thinking\", \"showlegend\": false, \"type\": \"scatter\", \"uid\": \"e8cea501-0a12-416c-8f57-c4d138b1bbd2\", \"x\": [2014.0, 2016.0], \"xaxis\": \"x3\", \"y\": [1.8100000000000023, 1.3499999999999943], \"yaxis\": \"y8\"}, {\"hovertemplate\": \"class=10<br>skill_name=Reasoning and Analysis Skills<br>skill_name=Reasoning and Analysis Skills<br>year=%{x}<br>skill_delta=%{y}<br>studentCount=%{marker.size}<extra></extra>\", \"legendgroup\": \"skill_name=Reasoning and Analysis Skills\", \"marker\": {\"color\": \"#ab63fa\", \"size\": [73, 67], \"sizemode\": \"area\", \"sizeref\": 1.15, \"symbol\": \"circle\"}, \"mode\": \"markers\", \"name\": \"skill_name=Reasoning and Analysis Skills\", \"showlegend\": false, \"type\": \"scatter\", \"uid\": \"45c063a8-ace7-4886-a8d0-40bf24e7667d\", \"x\": [\"2014\", \"2016\"], \"xaxis\": \"x4\", \"y\": [0.8000000000000043, 3.1899999999999977], \"yaxis\": \"y8\"}, {\"hovertemplate\": \"<b>LOWESS trendline</b><br><br>class=10<br>skill_name=Reasoning and Analysis Skills<br>skill_name=Reasoning and Analysis Skills<br>year=%{x}<br>skill_delta=%{y} <b>(trend)</b><extra></extra>\", \"legendgroup\": \"skill_name=Reasoning and Analysis Skills\", \"marker\": {\"color\": \"#ab63fa\", \"symbol\": \"circle\"}, \"mode\": \"lines\", \"name\": \"skill_name=Reasoning and Analysis Skills\", \"showlegend\": false, \"type\": \"scatter\", \"uid\": \"a64311f7-7177-4ef0-8747-8f937c192865\", \"x\": [2014.0, 2016.0], \"xaxis\": \"x4\", \"y\": [0.8000000000000043, 3.1899999999999977], \"yaxis\": \"y8\"}],\n",
       "                        {\"annotations\": [{\"showarrow\": false, \"text\": \"skill_name=Conceptual Understanding and Comprehension\", \"textangle\": 0, \"x\": 0.1153846153846154, \"xanchor\": \"center\", \"xref\": \"paper\", \"y\": 1.02, \"yanchor\": \"middle\", \"yref\": \"paper\"}, {\"showarrow\": false, \"text\": \"skill_name=Knowledge of Basic Science Facts\", \"textangle\": 0, \"x\": 0.3717948717948718, \"xanchor\": \"center\", \"xref\": \"paper\", \"y\": 1.02, \"yanchor\": \"middle\", \"yref\": \"paper\"}, {\"showarrow\": false, \"text\": \"skill_name=Original Thinking\", \"textangle\": 0, \"x\": 0.6282051282051283, \"xanchor\": \"center\", \"xref\": \"paper\", \"y\": 1.02, \"yanchor\": \"middle\", \"yref\": \"paper\"}, {\"showarrow\": false, \"text\": \"skill_name=Reasoning and Analysis Skills\", \"textangle\": 0, \"x\": 0.8846153846153848, \"xanchor\": \"center\", \"xref\": \"paper\", \"y\": 1.02, \"yanchor\": \"middle\", \"yref\": \"paper\"}, {\"showarrow\": false, \"text\": \"class=3\", \"textangle\": 90, \"x\": 1.01, \"xanchor\": \"center\", \"xref\": \"paper\", \"y\": 0.9430379746835442, \"yanchor\": \"middle\", \"yref\": \"paper\"}, {\"showarrow\": false, \"text\": \"class=4\", \"textangle\": 90, \"x\": 1.01, \"xanchor\": \"center\", \"xref\": \"paper\", \"y\": 0.8164556962025316, \"yanchor\": \"middle\", \"yref\": \"paper\"}, {\"showarrow\": false, \"text\": \"class=5\", \"textangle\": 90, \"x\": 1.01, \"xanchor\": \"center\", \"xref\": \"paper\", \"y\": 0.6898734177215189, \"yanchor\": \"middle\", \"yref\": \"paper\"}, {\"showarrow\": false, \"text\": \"class=6\", \"textangle\": 90, \"x\": 1.01, \"xanchor\": \"center\", \"xref\": \"paper\", \"y\": 0.5632911392405062, \"yanchor\": \"middle\", \"yref\": \"paper\"}, {\"showarrow\": false, \"text\": \"class=7\", \"textangle\": 90, \"x\": 1.01, \"xanchor\": \"center\", \"xref\": \"paper\", \"y\": 0.4367088607594936, \"yanchor\": \"middle\", \"yref\": \"paper\"}, {\"showarrow\": false, \"text\": \"class=8\", \"textangle\": 90, \"x\": 1.01, \"xanchor\": \"center\", \"xref\": \"paper\", \"y\": 0.310126582278481, \"yanchor\": \"middle\", \"yref\": \"paper\"}, {\"showarrow\": false, \"text\": \"class=9\", \"textangle\": 90, \"x\": 1.01, \"xanchor\": \"center\", \"xref\": \"paper\", \"y\": 0.18354430379746833, \"yanchor\": \"middle\", \"yref\": \"paper\"}, {\"showarrow\": false, \"text\": \"class=10\", \"textangle\": 90, \"x\": 1.01, \"xanchor\": \"center\", \"xref\": \"paper\", \"y\": 0.05696202531645569, \"yanchor\": \"middle\", \"yref\": \"paper\"}], \"grid\": {\"xaxes\": [\"x\", \"x2\", \"x3\", \"x4\"], \"xgap\": 0.1, \"xside\": \"bottom\", \"yaxes\": [\"y\", \"y2\", \"y3\", \"y4\", \"y5\", \"y6\", \"y7\", \"y8\"], \"ygap\": 0.1, \"yside\": \"left\"}, \"height\": 1500, \"legend\": {\"tracegroupgap\": 0}, \"template\": {\"data\": {\"bar\": [{\"marker\": {\"line\": {\"color\": \"#E5ECF6\", \"width\": 0.5}}, \"type\": \"bar\"}], \"barpolar\": [{\"marker\": {\"line\": {\"color\": \"#E5ECF6\", \"width\": 0.5}}, \"type\": \"barpolar\"}], \"carpet\": [{\"aaxis\": {\"endlinecolor\": \"#2a3f5f\", \"gridcolor\": \"white\", \"linecolor\": \"white\", \"minorgridcolor\": \"white\", \"startlinecolor\": \"#2a3f5f\"}, \"baxis\": {\"endlinecolor\": \"#2a3f5f\", \"gridcolor\": \"white\", \"linecolor\": \"white\", \"minorgridcolor\": \"white\", \"startlinecolor\": \"#2a3f5f\"}, \"type\": \"carpet\"}], \"choropleth\": [{\"colorbar\": {\"outlinewidth\": 0, \"ticks\": \"\"}, \"type\": \"choropleth\"}], \"contour\": [{\"autocolorscale\": true, \"colorbar\": {\"outlinewidth\": 0, \"ticks\": \"\"}, \"type\": \"contour\"}], \"contourcarpet\": [{\"colorbar\": {\"outlinewidth\": 0, \"ticks\": \"\"}, \"type\": \"contourcarpet\"}], \"heatmap\": [{\"autocolorscale\": true, \"colorbar\": {\"outlinewidth\": 0, \"ticks\": \"\"}, \"type\": \"heatmap\"}], \"heatmapgl\": [{\"colorbar\": {\"outlinewidth\": 0, \"ticks\": \"\"}, \"type\": \"heatmapgl\"}], \"histogram\": [{\"marker\": {\"colorbar\": {\"outlinewidth\": 0, \"ticks\": \"\"}}, \"type\": \"histogram\"}], \"histogram2d\": [{\"autocolorscale\": true, \"colorbar\": {\"outlinewidth\": 0, \"ticks\": \"\"}, \"type\": \"histogram2d\"}], \"histogram2dcontour\": [{\"autocolorscale\": true, \"colorbar\": {\"outlinewidth\": 0, \"ticks\": \"\"}, \"type\": \"histogram2dcontour\"}], \"mesh3d\": [{\"colorbar\": {\"outlinewidth\": 0, \"ticks\": \"\"}, \"type\": \"mesh3d\"}], \"parcoords\": [{\"line\": {\"colorbar\": {\"outlinewidth\": 0, \"ticks\": \"\"}}, \"type\": \"parcoords\"}], \"scatter\": [{\"marker\": {\"colorbar\": {\"outlinewidth\": 0, \"ticks\": \"\"}}, \"type\": \"scatter\"}], \"scatter3d\": [{\"marker\": {\"colorbar\": {\"outlinewidth\": 0, \"ticks\": \"\"}}, \"type\": \"scatter3d\"}], \"scattercarpet\": [{\"marker\": {\"colorbar\": {\"outlinewidth\": 0, \"ticks\": \"\"}}, \"type\": \"scattercarpet\"}], \"scattergeo\": [{\"marker\": {\"colorbar\": {\"outlinewidth\": 0, \"ticks\": \"\"}}, \"type\": \"scattergeo\"}], \"scattergl\": [{\"marker\": {\"colorbar\": {\"outlinewidth\": 0, \"ticks\": \"\"}}, \"type\": \"scattergl\"}], \"scattermapbox\": [{\"marker\": {\"colorbar\": {\"outlinewidth\": 0, \"ticks\": \"\"}}, \"type\": \"scattermapbox\"}], \"scatterpolar\": [{\"marker\": {\"colorbar\": {\"outlinewidth\": 0, \"ticks\": \"\"}}, \"type\": \"scatterpolar\"}], \"scatterpolargl\": [{\"marker\": {\"colorbar\": {\"outlinewidth\": 0, \"ticks\": \"\"}}, \"type\": \"scatterpolargl\"}], \"scatterternary\": [{\"marker\": {\"colorbar\": {\"outlinewidth\": 0, \"ticks\": \"\"}}, \"type\": \"scatterternary\"}], \"surface\": [{\"colorbar\": {\"outlinewidth\": 0, \"ticks\": \"\"}, \"type\": \"surface\"}], \"table\": [{\"cells\": {\"fill\": {\"color\": \"#EBF0F8\"}, \"line\": {\"color\": \"white\"}}, \"header\": {\"fill\": {\"color\": \"#C8D4E3\"}, \"line\": {\"color\": \"white\"}}, \"type\": \"table\"}]}, \"layout\": {\"annotationdefaults\": {\"arrowcolor\": \"#506784\", \"arrowhead\": 0, \"arrowwidth\": 1}, \"colorscale\": {\"diverging\": [[0, \"#8e0152\"], [0.1, \"#c51b7d\"], [0.2, \"#de77ae\"], [0.3, \"#f1b6da\"], [0.4, \"#fde0ef\"], [0.5, \"#f7f7f7\"], [0.6, \"#e6f5d0\"], [0.7, \"#b8e186\"], [0.8, \"#7fbc41\"], [0.9, \"#4d9221\"], [1, \"#276419\"]], \"sequential\": [[0.0, \"#0508b8\"], [0.0893854748603352, \"#1910d8\"], [0.1787709497206704, \"#3c19f0\"], [0.2681564245810056, \"#6b1cfb\"], [0.3575418994413408, \"#981cfd\"], [0.44692737430167595, \"#bf1cfd\"], [0.5363128491620112, \"#dd2bfd\"], [0.6256983240223464, \"#f246fe\"], [0.7150837988826816, \"#fc67fd\"], [0.8044692737430168, \"#fe88fc\"], [0.8938547486033519, \"#fea5fd\"], [0.9832402234636871, \"#febefe\"], [1.0, \"#fec3fe\"]], \"sequentialminus\": [[0.0, \"#0508b8\"], [0.0893854748603352, \"#1910d8\"], [0.1787709497206704, \"#3c19f0\"], [0.2681564245810056, \"#6b1cfb\"], [0.3575418994413408, \"#981cfd\"], [0.44692737430167595, \"#bf1cfd\"], [0.5363128491620112, \"#dd2bfd\"], [0.6256983240223464, \"#f246fe\"], [0.7150837988826816, \"#fc67fd\"], [0.8044692737430168, \"#fe88fc\"], [0.8938547486033519, \"#fea5fd\"], [0.9832402234636871, \"#febefe\"], [1.0, \"#fec3fe\"]]}, \"colorway\": [\"#636efa\", \"#EF553B\", \"#00cc96\", \"#ab63fa\", \"#19d3f3\", \"#e763fa\", \"#FECB52\", \"#FFA15A\", \"#FF6692\", \"#B6E880\"], \"font\": {\"color\": \"#2a3f5f\"}, \"geo\": {\"bgcolor\": \"white\", \"lakecolor\": \"white\", \"landcolor\": \"#E5ECF6\", \"showlakes\": true, \"showland\": true, \"subunitcolor\": \"white\"}, \"hoverlabel\": {\"align\": \"left\"}, \"hovermode\": \"closest\", \"legend\": {\"itemsizing\": \"constant\"}, \"mapbox\": {\"style\": \"light\"}, \"paper_bgcolor\": \"white\", \"plot_bgcolor\": \"#E5ECF6\", \"polar\": {\"angularaxis\": {\"gridcolor\": \"white\", \"linecolor\": \"white\", \"ticks\": \"\"}, \"bgcolor\": \"#E5ECF6\", \"radialaxis\": {\"gridcolor\": \"white\", \"linecolor\": \"white\", \"ticks\": \"\"}}, \"scene\": {\"xaxis\": {\"backgroundcolor\": \"#E5ECF6\", \"gridcolor\": \"white\", \"gridwidth\": 2, \"linecolor\": \"white\", \"showbackground\": true, \"ticks\": \"\", \"zerolinecolor\": \"white\"}, \"yaxis\": {\"backgroundcolor\": \"#E5ECF6\", \"gridcolor\": \"white\", \"gridwidth\": 2, \"linecolor\": \"white\", \"showbackground\": true, \"ticks\": \"\", \"zerolinecolor\": \"white\"}, \"zaxis\": {\"backgroundcolor\": \"#E5ECF6\", \"gridcolor\": \"white\", \"gridwidth\": 2, \"linecolor\": \"white\", \"showbackground\": true, \"ticks\": \"\", \"zerolinecolor\": \"white\"}}, \"shapedefaults\": {\"fillcolor\": \"#506784\", \"line\": {\"width\": 0}, \"opacity\": 0.4}, \"ternary\": {\"aaxis\": {\"gridcolor\": \"white\", \"linecolor\": \"white\", \"ticks\": \"\"}, \"baxis\": {\"gridcolor\": \"white\", \"linecolor\": \"white\", \"ticks\": \"\"}, \"bgcolor\": \"#E5ECF6\", \"caxis\": {\"gridcolor\": \"white\", \"linecolor\": \"white\", \"ticks\": \"\"}}, \"title\": {\"x\": 0.05}, \"xaxis\": {\"automargin\": true, \"gridcolor\": \"white\", \"linecolor\": \"white\", \"ticks\": \"\", \"zerolinecolor\": \"white\", \"zerolinewidth\": 2}, \"yaxis\": {\"automargin\": true, \"gridcolor\": \"white\", \"linecolor\": \"white\", \"ticks\": \"\", \"zerolinecolor\": \"white\", \"zerolinewidth\": 2}}}, \"title\": {\"text\": \"Core Skills in Science (Sushila Birla Girls^ School-Kolkata-CBSE)\"}, \"width\": 2000, \"xaxis\": {\"title\": {\"text\": \"year\"}}, \"xaxis2\": {\"matches\": \"x\", \"title\": {\"text\": \"year\"}}, \"xaxis3\": {\"matches\": \"x\", \"title\": {\"text\": \"year\"}}, \"xaxis4\": {\"matches\": \"x\", \"title\": {\"text\": \"year\"}}, \"yaxis\": {\"title\": {\"text\": \"skill_delta\"}}, \"yaxis2\": {\"matches\": \"y\", \"title\": {\"text\": \"skill_delta\"}}, \"yaxis3\": {\"matches\": \"y\", \"title\": {\"text\": \"skill_delta\"}}, \"yaxis4\": {\"matches\": \"y\", \"title\": {\"text\": \"skill_delta\"}}, \"yaxis5\": {\"matches\": \"y\", \"title\": {\"text\": \"skill_delta\"}}, \"yaxis6\": {\"matches\": \"y\", \"title\": {\"text\": \"skill_delta\"}}, \"yaxis7\": {\"matches\": \"y\", \"title\": {\"text\": \"skill_delta\"}}, \"yaxis8\": {\"matches\": \"y\", \"title\": {\"text\": \"skill_delta\"}}},\n",
       "                        {\"showLink\": false, \"linkText\": \"Export to plot.ly\", \"plotlyServerURL\": \"https://plot.ly\"}\n",
       "                    )\n",
       "                };\n",
       "                });\n",
       "            </script>\n",
       "        </div>"
      ]
     },
     "metadata": {},
     "output_type": "display_data"
    }
   ],
   "source": [
    "sub = 'Science'\n",
    "px.scatter(df_school[df_school['subject']==sub].drop_duplicates(['papercode','skill_name']), \n",
    "        x = 'year', \n",
    "        y = 'skill_delta', \n",
    "        color='skill_name',\n",
    "        facet_row= 'class', \n",
    "       facet_col= 'skill_name', \n",
    "           size = 'studentCount',\n",
    "           size_max= 10,\n",
    "           trendline=\"lowess\",\n",
    "        height=1500,\n",
    "        width=2000,\n",
    "        title = 'Core Skills in %s (%s-%s-%s)'%(sub,school_name, school_city, school_board) )"
   ]
  },
  {
   "cell_type": "code",
   "execution_count": 131,
   "metadata": {},
   "outputs": [
    {
     "ename": "NameError",
     "evalue": "name 'fig' is not defined",
     "output_type": "error",
     "traceback": [
      "\u001b[0;31m---------------------------------------------------------------------------\u001b[0m",
      "\u001b[0;31mNameError\u001b[0m                                 Traceback (most recent call last)",
      "\u001b[0;32m<ipython-input-131-fdffca5236b2>\u001b[0m in \u001b[0;36m<module>\u001b[0;34m()\u001b[0m\n\u001b[1;32m      1\u001b[0m \u001b[0;32mimport\u001b[0m \u001b[0mplotly\u001b[0m\u001b[0;34m.\u001b[0m\u001b[0mio\u001b[0m \u001b[0;32mas\u001b[0m \u001b[0mpio\u001b[0m\u001b[0;34m\u001b[0m\u001b[0m\n\u001b[0;32m----> 2\u001b[0;31m \u001b[0mpio\u001b[0m\u001b[0;34m.\u001b[0m\u001b[0mwrite_image\u001b[0m\u001b[0;34m(\u001b[0m\u001b[0mfig\u001b[0m\u001b[0;34m,\u001b[0m \u001b[0;34m'images/fig1.pdf'\u001b[0m\u001b[0;34m)\u001b[0m\u001b[0;34m\u001b[0m\u001b[0m\n\u001b[0m",
      "\u001b[0;31mNameError\u001b[0m: name 'fig' is not defined"
     ]
    }
   ],
   "source": [
    "import plotly.io as pio\n",
    "pio.write_image(fig, 'images/fig1.pdf')"
   ]
  },
  {
   "cell_type": "code",
   "execution_count": null,
   "metadata": {},
   "outputs": [],
   "source": []
  }
 ],
 "metadata": {
  "kernelspec": {
   "display_name": "Python 3",
   "language": "python",
   "name": "python3"
  },
  "language_info": {
   "codemirror_mode": {
    "name": "ipython",
    "version": 3
   },
   "file_extension": ".py",
   "mimetype": "text/x-python",
   "name": "python",
   "nbconvert_exporter": "python",
   "pygments_lexer": "ipython3",
   "version": "3.6.6"
  },
  "varInspector": {
   "cols": {
    "lenName": 16,
    "lenType": 16,
    "lenVar": 40
   },
   "kernels_config": {
    "python": {
     "delete_cmd_postfix": "",
     "delete_cmd_prefix": "del ",
     "library": "var_list.py",
     "varRefreshCmd": "print(var_dic_list())"
    },
    "r": {
     "delete_cmd_postfix": ") ",
     "delete_cmd_prefix": "rm(",
     "library": "var_list.r",
     "varRefreshCmd": "cat(var_dic_list()) "
    }
   },
   "types_to_exclude": [
    "module",
    "function",
    "builtin_function_or_method",
    "instance",
    "_Feature"
   ],
   "window_display": false
  }
 },
 "nbformat": 4,
 "nbformat_minor": 2
}
