{
 "cells": [
  {
   "cell_type": "markdown",
   "metadata": {},
   "source": [
    "# Performance of a school aross time"
   ]
  },
  {
   "cell_type": "markdown",
   "metadata": {},
   "source": [
    "## Setup "
   ]
  },
  {
   "cell_type": "code",
   "execution_count": 2,
   "metadata": {},
   "outputs": [],
   "source": [
    "import pandas as pd\n",
    "import plotly_express as px"
   ]
  },
  {
   "cell_type": "markdown",
   "metadata": {},
   "source": [
    "Reading files and setup"
   ]
  },
  {
   "cell_type": "code",
   "execution_count": 3,
   "metadata": {
    "code_folding": [
     0
    ]
   },
   "outputs": [],
   "source": [
    "dtype = {\n",
    " 'school_code' : int,\n",
    " 'school_name' : str,\n",
    " 'city' : str,\n",
    " 'pincode' : str,\n",
    " 'state' : str,\n",
    " 'country' : str,\n",
    " 'season' : str,\n",
    " 'year' : str,\n",
    " 'class': np.uint8,\n",
    " 'studentCount': int,\n",
    " 'subject' : str,\n",
    " 'papercode': str,\n",
    " 'skill_name' : str,\n",
    " 'sub_skill_name' : str,\n",
    " 'subSkillLevelAccuracy': float,\n",
    " 'subSkillLevelQuestionCount' : np.uint32,\n",
    " 'skillLevelAccuracy' : float,\n",
    " 'skillLevelQuestionCount' : np.uint32,\n",
    " 'totalAccuracy' : float,\n",
    " 'totalQuestionCount': np.uint32,\n",
    " 'national_studentCount': int,\n",
    " 'national_subSkillLevelAccuracy' : float,\n",
    " 'totalStandardDeviation' : float,\n",
    " 'national_skillLevelAccuracy' : float,\n",
    " 'national_studentCount' : int,\n",
    " 'national_totalAccuracy' : float,\n",
    " 'national_totalStandardDeviation' : float,\n",
    " 'national_skillLevelStandardDeviation': float}\n",
    "file_path = '../../../Desktop/EI/From others/Dipak/Parent Connect/data2'\n",
    "df = pd.read_csv(file_path+'/final_asset_school_accuracy.csv', dtype = dtype)"
   ]
  },
  {
   "cell_type": "code",
   "execution_count": 4,
   "metadata": {
    "code_folding": []
   },
   "outputs": [],
   "source": [
    "df['total_delta'] = df['totalAccuracy'] - df['national_totalAccuracy']\n",
    "df['skill_delta'] = df['skillLevelAccuracy'] - df['national_skillLevelAccuracy']\n",
    "df['subSkill_delta'] = df['subSkillLevelAccuracy'] - df['national_subSkillLevelAccuracy']"
   ]
  },
  {
   "cell_type": "markdown",
   "metadata": {},
   "source": [
    "Mapping to boards"
   ]
  },
  {
   "cell_type": "code",
   "execution_count": 5,
   "metadata": {},
   "outputs": [],
   "source": [
    "df_school_board = pd.read_csv('https://docs.google.com/spreadsheets/d/e/2PACX-1vR_AO8CCe9wrCqYyXAKutE4NceqSuTZuWQdaZoxhLwPOBQYAXOIEZzXL1xsYMWX3uzhi9rtbNWk67PW/pub?gid=288331316&single=true&output=csv')\n",
    "df = pd.merge(df, df_school_board, on='school_code', how = 'left')"
   ]
  },
  {
   "cell_type": "markdown",
   "metadata": {},
   "source": [
    "Choosing the school to analyse"
   ]
  },
  {
   "cell_type": "code",
   "execution_count": 6,
   "metadata": {},
   "outputs": [],
   "source": [
    "school_code = 173428"
   ]
  },
  {
   "cell_type": "code",
   "execution_count": 7,
   "metadata": {},
   "outputs": [],
   "source": [
    "df_school = df[df['school_code'] == school_code]"
   ]
  },
  {
   "cell_type": "code",
   "execution_count": 8,
   "metadata": {},
   "outputs": [],
   "source": [
    "school_name = df_school.school_name.value_counts().index[0]\n",
    "school_board = df_school.primary_board.value_counts().index[0]\n",
    "school_city = df_school.city.value_counts().index[0]"
   ]
  },
  {
   "cell_type": "code",
   "execution_count": 9,
   "metadata": {},
   "outputs": [
    {
     "data": {
      "text/plain": [
       "Winter    88\n",
       "Summer    52\n",
       "Name: season, dtype: int64"
      ]
     },
     "execution_count": 9,
     "metadata": {},
     "output_type": "execute_result"
    }
   ],
   "source": [
    "df_school.drop_duplicates('papercode').season.value_counts()"
   ]
  },
  {
   "cell_type": "code",
   "execution_count": 10,
   "metadata": {},
   "outputs": [],
   "source": [
    "# df_school.sort_values(['class','year'])\n",
    "# df_school.set_index(['subject', 'class', 'year', 'season'])"
   ]
  },
  {
   "cell_type": "markdown",
   "metadata": {
    "heading_collapsed": true
   },
   "source": [
    "## Looking at overall perfromance across time"
   ]
  },
  {
   "cell_type": "code",
   "execution_count": 11,
   "metadata": {
    "hidden": true
   },
   "outputs": [],
   "source": [
    "# px.line(df_school.sort_values('year').drop_duplicates(['papercode']), \n",
    "#        x = 'year', \n",
    "#        y = 'total_delta', \n",
    "#         color='subject', \n",
    "#        facet_row='class',\n",
    "#        facet_col='subject', \n",
    "#        height = 2000,\n",
    "#        width = 2000,\n",
    "#        labels = {'year'},\n",
    "#        range_x = [2006, 2019],\n",
    "#       title = 'School: %s Scores across subjects and grades represented as a difference from National Average'%school_name)"
   ]
  },
  {
   "cell_type": "code",
   "execution_count": 18,
   "metadata": {
    "hidden": true,
    "scrolled": false
   },
   "outputs": [
    {
     "data": {
      "application/vnd.plotly.v1+json": {
       "config": {
        "linkText": "Export to plot.ly",
        "plotlyServerURL": "https://plot.ly",
        "showLink": false
       },
       "data": [
        {
         "hovertemplate": "class=3<br>subject=English<br>subject=English<br>year=%{x}<br>total_delta=%{y}<br>studentCount=%{marker.size}<extra></extra>",
         "legendgroup": "subject=English",
         "marker": {
          "color": "#636efa",
          "size": [
           19,
           74,
           105,
           102,
           106
          ],
          "sizemode": "area",
          "sizeref": 1.15,
          "symbol": "circle"
         },
         "mode": "markers",
         "name": "subject=English",
         "showlegend": true,
         "type": "scatter",
         "uid": "4894ec5d-3aa3-49d3-a8e4-0398ec145738",
         "x": [
          "2007",
          "2008",
          "2014",
          "2016",
          "2018"
         ],
         "xaxis": "x",
         "y": [
          19.879999999999995,
          11,
          9.43,
          8.07,
          10.910000000000004
         ],
         "yaxis": "y"
        },
        {
         "hovertemplate": "<b>LOWESS trendline</b><br><br>class=3<br>subject=English<br>subject=English<br>year=%{x}<br>total_delta=%{y} <b>(trend)</b><extra></extra>",
         "legendgroup": "subject=English",
         "marker": {
          "color": "#636efa",
          "symbol": "circle"
         },
         "mode": "lines",
         "name": "subject=English",
         "showlegend": false,
         "type": "scatter",
         "uid": "d09ed919-60d2-42ea-84bb-ec77aa29701b",
         "x": [
          2007,
          2008,
          2014,
          2016,
          2018
         ],
         "xaxis": "x",
         "y": [
          19.880000000008433,
          11.000000000004873,
          9.43,
          8.07,
          10.910000000000004
         ],
         "yaxis": "y"
        },
        {
         "hovertemplate": "class=3<br>subject=Maths<br>subject=Maths<br>year=%{x}<br>total_delta=%{y}<br>studentCount=%{marker.size}<extra></extra>",
         "legendgroup": "subject=Maths",
         "marker": {
          "color": "#EF553B",
          "size": [
           19,
           74,
           75,
           106,
           109,
           108
          ],
          "sizemode": "area",
          "sizeref": 1.15,
          "symbol": "circle"
         },
         "mode": "markers",
         "name": "subject=Maths",
         "showlegend": true,
         "type": "scatter",
         "uid": "66789682-0487-4d04-a9b3-398b864ac16e",
         "x": [
          "2007",
          "2008",
          "2009",
          "2014",
          "2016",
          "2018"
         ],
         "xaxis": "x2",
         "y": [
          5.719999999999999,
          -2.6799999999999997,
          2.6599999999999966,
          2.280000000000001,
          9.049999999999997,
          6.780000000000001
         ],
         "yaxis": "y"
        },
        {
         "hovertemplate": "<b>LOWESS trendline</b><br><br>class=3<br>subject=Maths<br>subject=Maths<br>year=%{x}<br>total_delta=%{y} <b>(trend)</b><extra></extra>",
         "legendgroup": "subject=Maths",
         "marker": {
          "color": "#EF553B",
          "symbol": "circle"
         },
         "mode": "lines",
         "name": "subject=Maths",
         "showlegend": false,
         "type": "scatter",
         "uid": "59419793-bc24-4f44-bb8f-ddfdccab776f",
         "x": [
          2007,
          2008,
          2009,
          2014,
          2016,
          2018
         ],
         "xaxis": "x2",
         "y": [
          4.084527943480181,
          2.514813101708989,
          1.0768972765267137,
          2.8598689770464105,
          5.9522055106356575,
          8.06031388317437
         ],
         "yaxis": "y"
        },
        {
         "hovertemplate": "class=3<br>subject=Science<br>subject=Science<br>year=%{x}<br>total_delta=%{y}<br>studentCount=%{marker.size}<extra></extra>",
         "legendgroup": "subject=Science",
         "marker": {
          "color": "#00cc96",
          "size": [
           18,
           73,
           75,
           106,
           109,
           113
          ],
          "sizemode": "area",
          "sizeref": 1.15,
          "symbol": "circle"
         },
         "mode": "markers",
         "name": "subject=Science",
         "showlegend": true,
         "type": "scatter",
         "uid": "5e5c8706-37c7-4493-b3be-2d80dcf43351",
         "x": [
          "2007",
          "2008",
          "2009",
          "2014",
          "2016",
          "2018"
         ],
         "xaxis": "x3",
         "y": [
          4.359999999999999,
          4.590000000000003,
          4.159999999999997,
          -2.1999999999999957,
          4.980000000000004,
          3.229999999999997
         ],
         "yaxis": "y"
        },
        {
         "hovertemplate": "<b>LOWESS trendline</b><br><br>class=3<br>subject=Science<br>subject=Science<br>year=%{x}<br>total_delta=%{y} <b>(trend)</b><extra></extra>",
         "legendgroup": "subject=Science",
         "marker": {
          "color": "#00cc96",
          "symbol": "circle"
         },
         "mode": "lines",
         "name": "subject=Science",
         "showlegend": false,
         "type": "scatter",
         "uid": "815e1e3a-53f6-41d5-bb73-854b3ad15a23",
         "x": [
          2007,
          2008,
          2009,
          2014,
          2016,
          2018
         ],
         "xaxis": "x3",
         "y": [
          4.446036144988133,
          4.348146799169464,
          4.243165225749942,
          -2.2000000000001108,
          0.5150000000000006,
          3.230000000000051
         ],
         "yaxis": "y"
        },
        {
         "hovertemplate": "class=4<br>subject=English<br>subject=English<br>year=%{x}<br>total_delta=%{y}<br>studentCount=%{marker.size}<extra></extra>",
         "legendgroup": "subject=English",
         "marker": {
          "color": "#636efa",
          "size": [
           15,
           73,
           104,
           108,
           108
          ],
          "sizemode": "area",
          "sizeref": 1.15,
          "symbol": "circle"
         },
         "mode": "markers",
         "name": "subject=English",
         "showlegend": false,
         "type": "scatter",
         "uid": "f166109a-348c-4270-b3c2-c6a7be537bf2",
         "x": [
          "2007",
          "2008",
          "2014",
          "2016",
          "2018"
         ],
         "xaxis": "x",
         "y": [
          3.6999999999999957,
          11.64,
          10.469999999999999,
          9.100000000000001,
          18.85000000000001
         ],
         "yaxis": "y2"
        },
        {
         "hovertemplate": "<b>LOWESS trendline</b><br><br>class=4<br>subject=English<br>subject=English<br>year=%{x}<br>total_delta=%{y} <b>(trend)</b><extra></extra>",
         "legendgroup": "subject=English",
         "marker": {
          "color": "#636efa",
          "symbol": "circle"
         },
         "mode": "lines",
         "name": "subject=English",
         "showlegend": false,
         "type": "scatter",
         "uid": "c34515f5-c7dd-4391-88f6-e58701f65737",
         "x": [
          2007,
          2008,
          2014,
          2016,
          2018
         ],
         "xaxis": "x",
         "y": [
          3.700000000000277,
          11.639999999999144,
          10.470000000000892,
          9.100000000000001,
          18.85000000000001
         ],
         "yaxis": "y2"
        },
        {
         "hovertemplate": "class=4<br>subject=Maths<br>subject=Maths<br>year=%{x}<br>total_delta=%{y}<br>studentCount=%{marker.size}<extra></extra>",
         "legendgroup": "subject=Maths",
         "marker": {
          "color": "#EF553B",
          "size": [
           14,
           72,
           75,
           104,
           111,
           113
          ],
          "sizemode": "area",
          "sizeref": 1.15,
          "symbol": "circle"
         },
         "mode": "markers",
         "name": "subject=Maths",
         "showlegend": false,
         "type": "scatter",
         "uid": "8efee58e-f033-46e2-a36c-d3cff15d1a1a",
         "x": [
          "2007",
          "2008",
          "2009",
          "2014",
          "2016",
          "2018"
         ],
         "xaxis": "x2",
         "y": [
          3.759999999999998,
          -0.5,
          3.9399999999999977,
          -0.5200000000000031,
          -0.9500000000000028,
          3.190000000000005
         ],
         "yaxis": "y2"
        },
        {
         "hovertemplate": "<b>LOWESS trendline</b><br><br>class=4<br>subject=Maths<br>subject=Maths<br>year=%{x}<br>total_delta=%{y} <b>(trend)</b><extra></extra>",
         "legendgroup": "subject=Maths",
         "marker": {
          "color": "#EF553B",
          "symbol": "circle"
         },
         "mode": "lines",
         "name": "subject=Maths",
         "showlegend": false,
         "type": "scatter",
         "uid": "4ba14d02-01e8-48a7-8857-f9d5d0bf21e4",
         "x": [
          2007,
          2008,
          2009,
          2014,
          2016,
          2018
         ],
         "xaxis": "x2",
         "y": [
          2.7244390908515306,
          2.7892921386380576,
          2.9375987122128118,
          -0.8216792005429054,
          0.5848759693185801,
          2.517869910004221
         ],
         "yaxis": "y2"
        },
        {
         "hovertemplate": "class=4<br>subject=Science<br>subject=Science<br>year=%{x}<br>total_delta=%{y}<br>studentCount=%{marker.size}<extra></extra>",
         "legendgroup": "subject=Science",
         "marker": {
          "color": "#00cc96",
          "size": [
           12,
           73,
           75,
           104,
           112,
           113
          ],
          "sizemode": "area",
          "sizeref": 1.15,
          "symbol": "circle"
         },
         "mode": "markers",
         "name": "subject=Science",
         "showlegend": false,
         "type": "scatter",
         "uid": "7b7994cc-4297-4bce-8bd2-774046120a6f",
         "x": [
          "2007",
          "2008",
          "2009",
          "2014",
          "2016",
          "2018"
         ],
         "xaxis": "x3",
         "y": [
          -2.9200000000000017,
          -0.38000000000000256,
          1.1999999999999957,
          0.8000000000000043,
          2.4200000000000017,
          3.559999999999995
         ],
         "yaxis": "y2"
        },
        {
         "hovertemplate": "<b>LOWESS trendline</b><br><br>class=4<br>subject=Science<br>subject=Science<br>year=%{x}<br>total_delta=%{y} <b>(trend)</b><extra></extra>",
         "legendgroup": "subject=Science",
         "marker": {
          "color": "#00cc96",
          "symbol": "circle"
         },
         "mode": "lines",
         "name": "subject=Science",
         "showlegend": false,
         "type": "scatter",
         "uid": "2c6fbfa7-12a8-4bf1-b116-ca3e6ca8cf6b",
         "x": [
          2007,
          2008,
          2009,
          2014,
          2016,
          2018
         ],
         "xaxis": "x3",
         "y": [
          -2.8058416945400286,
          -0.7430698385661496,
          1.3105043992792829,
          0.8318267530347279,
          2.259289837275184,
          3.6309878888126788
         ],
         "yaxis": "y2"
        },
        {
         "hovertemplate": "class=4<br>subject=Hindi<br>subject=Hindi<br>year=%{x}<br>total_delta=%{y}<br>studentCount=%{marker.size}<extra></extra>",
         "legendgroup": "subject=Hindi",
         "marker": {
          "color": "#ab63fa",
          "size": [
           7,
           71
          ],
          "sizemode": "area",
          "sizeref": 1.15,
          "symbol": "circle"
         },
         "mode": "markers",
         "name": "subject=Hindi",
         "showlegend": true,
         "type": "scatter",
         "uid": "a165960b-f11e-4f78-821b-a82964dd5e92",
         "x": [
          "2007",
          "2009"
         ],
         "xaxis": "x4",
         "y": [
          4.369999999999997,
          5.450000000000003
         ],
         "yaxis": "y2"
        },
        {
         "hovertemplate": "<b>LOWESS trendline</b><br><br>class=4<br>subject=Hindi<br>subject=Hindi<br>year=%{x}<br>total_delta=%{y} <b>(trend)</b><extra></extra>",
         "legendgroup": "subject=Hindi",
         "marker": {
          "color": "#ab63fa",
          "symbol": "circle"
         },
         "mode": "lines",
         "name": "subject=Hindi",
         "showlegend": false,
         "type": "scatter",
         "uid": "537265c2-1a51-4738-8960-66bdc44bcafe",
         "x": [
          2007,
          2009
         ],
         "xaxis": "x4",
         "y": [
          4.369999999999997,
          5.450000000000003
         ],
         "yaxis": "y2"
        },
        {
         "hovertemplate": "class=5<br>subject=English<br>subject=English<br>year=%{x}<br>total_delta=%{y}<br>studentCount=%{marker.size}<extra></extra>",
         "legendgroup": "subject=English",
         "marker": {
          "color": "#636efa",
          "size": [
           16,
           73,
           108,
           103,
           109
          ],
          "sizemode": "area",
          "sizeref": 1.15,
          "symbol": "circle"
         },
         "mode": "markers",
         "name": "subject=English",
         "showlegend": false,
         "type": "scatter",
         "uid": "db4df518-5a5c-4fb9-a431-1a73a9f94992",
         "x": [
          "2007",
          "2008",
          "2014",
          "2016",
          "2018"
         ],
         "xaxis": "x",
         "y": [
          17.32,
          8.380000000000003,
          12.480000000000004,
          10.479999999999997,
          15.069999999999993
         ],
         "yaxis": "y3"
        },
        {
         "hovertemplate": "<b>LOWESS trendline</b><br><br>class=5<br>subject=English<br>subject=English<br>year=%{x}<br>total_delta=%{y} <b>(trend)</b><extra></extra>",
         "legendgroup": "subject=English",
         "marker": {
          "color": "#636efa",
          "symbol": "circle"
         },
         "mode": "lines",
         "name": "subject=English",
         "showlegend": false,
         "type": "scatter",
         "uid": "76e42d16-a5a3-4210-b7b8-18a1a683e405",
         "x": [
          2007,
          2008,
          2014,
          2016,
          2018
         ],
         "xaxis": "x",
         "y": [
          17.319999999988582,
          8.379999999992238,
          12.48000000000128,
          10.479999999999997,
          15.070000000002814
         ],
         "yaxis": "y3"
        },
        {
         "hovertemplate": "class=5<br>subject=Maths<br>subject=Maths<br>year=%{x}<br>total_delta=%{y}<br>studentCount=%{marker.size}<extra></extra>",
         "legendgroup": "subject=Maths",
         "marker": {
          "color": "#EF553B",
          "size": [
           16,
           73,
           75,
           108,
           107,
           112
          ],
          "sizemode": "area",
          "sizeref": 1.15,
          "symbol": "circle"
         },
         "mode": "markers",
         "name": "subject=Maths",
         "showlegend": false,
         "type": "scatter",
         "uid": "625b1898-7dd5-4dd7-864c-275047d49ee0",
         "x": [
          "2007",
          "2008",
          "2009",
          "2014",
          "2016",
          "2018"
         ],
         "xaxis": "x2",
         "y": [
          7.869999999999997,
          -0.1600000000000037,
          5.199999999999996,
          5.520000000000003,
          3.8900000000000006,
          4.990000000000002
         ],
         "yaxis": "y3"
        },
        {
         "hovertemplate": "<b>LOWESS trendline</b><br><br>class=5<br>subject=Maths<br>subject=Maths<br>year=%{x}<br>total_delta=%{y} <b>(trend)</b><extra></extra>",
         "legendgroup": "subject=Maths",
         "marker": {
          "color": "#EF553B",
          "symbol": "circle"
         },
         "mode": "lines",
         "name": "subject=Maths",
         "showlegend": false,
         "type": "scatter",
         "uid": "a0c1878d-cd71-4b62-88c4-5cdf9f2204de",
         "x": [
          2007,
          2008,
          2009,
          2014,
          2016,
          2018
         ],
         "xaxis": "x2",
         "y": [
          7.869999999999708,
          6.5350000000002675,
          5.200000000000469,
          5.336249568349399,
          4.794236589300695,
          4.578642964467227
         ],
         "yaxis": "y3"
        },
        {
         "hovertemplate": "class=5<br>subject=Science<br>subject=Science<br>year=%{x}<br>total_delta=%{y}<br>studentCount=%{marker.size}<extra></extra>",
         "legendgroup": "subject=Science",
         "marker": {
          "color": "#00cc96",
          "size": [
           12,
           74,
           75,
           107,
           105,
           113
          ],
          "sizemode": "area",
          "sizeref": 1.15,
          "symbol": "circle"
         },
         "mode": "markers",
         "name": "subject=Science",
         "showlegend": false,
         "type": "scatter",
         "uid": "bfb4fb7a-557c-4fdb-a7c3-68a419042dd7",
         "x": [
          "2007",
          "2008",
          "2009",
          "2014",
          "2016",
          "2018"
         ],
         "xaxis": "x3",
         "y": [
          6.780000000000001,
          -1.2299999999999969,
          4.270000000000003,
          3.1999999999999957,
          -0.8999999999999986,
          0.75
         ],
         "yaxis": "y3"
        },
        {
         "hovertemplate": "<b>LOWESS trendline</b><br><br>class=5<br>subject=Science<br>subject=Science<br>year=%{x}<br>total_delta=%{y} <b>(trend)</b><extra></extra>",
         "legendgroup": "subject=Science",
         "marker": {
          "color": "#00cc96",
          "symbol": "circle"
         },
         "mode": "lines",
         "name": "subject=Science",
         "showlegend": false,
         "type": "scatter",
         "uid": "707a9f8e-71e7-40fc-bd22-ebd0807afc36",
         "x": [
          2007,
          2008,
          2009,
          2014,
          2016,
          2018
         ],
         "xaxis": "x3",
         "y": [
          5.219412175534799,
          3.9266408779042767,
          2.75873836416023,
          2.81482355620142,
          1.0113355481052049,
          -0.11105625124443308
         ],
         "yaxis": "y3"
        },
        {
         "hovertemplate": "class=5<br>subject=Hindi<br>subject=Hindi<br>year=%{x}<br>total_delta=%{y}<br>studentCount=%{marker.size}<extra></extra>",
         "legendgroup": "subject=Hindi",
         "marker": {
          "color": "#ab63fa",
          "size": [
           2,
           65
          ],
          "sizemode": "area",
          "sizeref": 1.15,
          "symbol": "circle"
         },
         "mode": "markers",
         "name": "subject=Hindi",
         "showlegend": false,
         "type": "scatter",
         "uid": "bd4a9fad-6bb4-45b0-a344-f7db9ae4bf5b",
         "x": [
          "2007",
          "2009"
         ],
         "xaxis": "x4",
         "y": [
          5.410000000000004,
          5.769999999999996
         ],
         "yaxis": "y3"
        },
        {
         "hovertemplate": "<b>LOWESS trendline</b><br><br>class=5<br>subject=Hindi<br>subject=Hindi<br>year=%{x}<br>total_delta=%{y} <b>(trend)</b><extra></extra>",
         "legendgroup": "subject=Hindi",
         "marker": {
          "color": "#ab63fa",
          "symbol": "circle"
         },
         "mode": "lines",
         "name": "subject=Hindi",
         "showlegend": false,
         "type": "scatter",
         "uid": "458ca675-8fff-41d2-a4ad-6aa65eaede9d",
         "x": [
          2007,
          2009
         ],
         "xaxis": "x4",
         "y": [
          5.410000000000004,
          5.769999999999996
         ],
         "yaxis": "y3"
        },
        {
         "hovertemplate": "class=5<br>subject=Social Studies<br>subject=Social Studies<br>year=%{x}<br>total_delta=%{y}<br>studentCount=%{marker.size}<extra></extra>",
         "legendgroup": "subject=Social Studies",
         "marker": {
          "color": "#19d3f3",
          "size": [
           2
          ],
          "sizemode": "area",
          "sizeref": 1.15,
          "symbol": "circle"
         },
         "mode": "markers",
         "name": "subject=Social Studies",
         "showlegend": true,
         "type": "scatter",
         "uid": "3e15aa8b-f0b8-4b0e-ac6a-c6e7706cdc0b",
         "x": [
          "2007"
         ],
         "xaxis": "x5",
         "y": [
          -7.770000000000003
         ],
         "yaxis": "y3"
        },
        {
         "hovertemplate": "class=5<br>subject=Social Studies<br>subject=Social Studies<extra></extra>",
         "legendgroup": "subject=Social Studies",
         "marker": {
          "color": "#19d3f3",
          "symbol": "circle"
         },
         "mode": "lines",
         "name": "subject=Social Studies",
         "showlegend": false,
         "type": "scatter",
         "uid": "e8cb073d-1732-40a0-882e-d071c8b139c8",
         "xaxis": "x5",
         "yaxis": "y3"
        },
        {
         "hovertemplate": "class=6<br>subject=English<br>subject=English<br>year=%{x}<br>total_delta=%{y}<br>studentCount=%{marker.size}<extra></extra>",
         "legendgroup": "subject=English",
         "marker": {
          "color": "#636efa",
          "size": [
           17,
           75,
           82,
           97,
           107
          ],
          "sizemode": "area",
          "sizeref": 1.15,
          "symbol": "circle"
         },
         "mode": "markers",
         "name": "subject=English",
         "showlegend": false,
         "type": "scatter",
         "uid": "28742431-7776-4990-8b97-2b51731b758b",
         "x": [
          "2007",
          "2008",
          "2014",
          "2016",
          "2018"
         ],
         "xaxis": "x",
         "y": [
          28.379999999999995,
          14.719999999999999,
          12.64,
          10.399999999999999,
          20.36
         ],
         "yaxis": "y4"
        },
        {
         "hovertemplate": "<b>LOWESS trendline</b><br><br>class=6<br>subject=English<br>subject=English<br>year=%{x}<br>total_delta=%{y} <b>(trend)</b><extra></extra>",
         "legendgroup": "subject=English",
         "marker": {
          "color": "#636efa",
          "symbol": "circle"
         },
         "mode": "lines",
         "name": "subject=English",
         "showlegend": false,
         "type": "scatter",
         "uid": "071ea9bc-980a-473e-9d1e-c5675cae334e",
         "x": [
          2007,
          2008,
          2014,
          2016,
          2018
         ],
         "xaxis": "x",
         "y": [
          28.380000000012043,
          14.720000000006515,
          12.64,
          10.399999999999999,
          20.36
         ],
         "yaxis": "y4"
        },
        {
         "hovertemplate": "class=6<br>subject=Maths<br>subject=Maths<br>year=%{x}<br>total_delta=%{y}<br>studentCount=%{marker.size}<extra></extra>",
         "legendgroup": "subject=Maths",
         "marker": {
          "color": "#EF553B",
          "size": [
           17,
           74,
           79,
           82,
           100,
           111
          ],
          "sizemode": "area",
          "sizeref": 1.15,
          "symbol": "circle"
         },
         "mode": "markers",
         "name": "subject=Maths",
         "showlegend": false,
         "type": "scatter",
         "uid": "88095706-e6b0-4554-acd8-25b914b7abd6",
         "x": [
          "2007",
          "2008",
          "2009",
          "2014",
          "2016",
          "2018"
         ],
         "xaxis": "x2",
         "y": [
          14.5,
          5.390000000000001,
          3.9299999999999997,
          7.579999999999998,
          3.510000000000005,
          8.71
         ],
         "yaxis": "y4"
        },
        {
         "hovertemplate": "<b>LOWESS trendline</b><br><br>class=6<br>subject=Maths<br>subject=Maths<br>year=%{x}<br>total_delta=%{y} <b>(trend)</b><extra></extra>",
         "legendgroup": "subject=Maths",
         "marker": {
          "color": "#EF553B",
          "symbol": "circle"
         },
         "mode": "lines",
         "name": "subject=Maths",
         "showlegend": false,
         "type": "scatter",
         "uid": "a238b0ad-754c-4d5f-bc2a-3c4aed8bd33f",
         "x": [
          2007,
          2008,
          2009,
          2014,
          2016,
          2018
         ],
         "xaxis": "x2",
         "y": [
          13.520344778788745,
          8.211188153868882,
          2.9824403955931444,
          7.105780541219439,
          7.129678180218622,
          7.782668258669388
         ],
         "yaxis": "y4"
        },
        {
         "hovertemplate": "class=6<br>subject=Science<br>subject=Science<br>year=%{x}<br>total_delta=%{y}<br>studentCount=%{marker.size}<extra></extra>",
         "legendgroup": "subject=Science",
         "marker": {
          "color": "#00cc96",
          "size": [
           17,
           73,
           79,
           82,
           100,
           111
          ],
          "sizemode": "area",
          "sizeref": 1.15,
          "symbol": "circle"
         },
         "mode": "markers",
         "name": "subject=Science",
         "showlegend": false,
         "type": "scatter",
         "uid": "394030a6-8b8d-41ab-b945-63cb95b91f70",
         "x": [
          "2007",
          "2008",
          "2009",
          "2014",
          "2016",
          "2018"
         ],
         "xaxis": "x3",
         "y": [
          10.82,
          5.779999999999994,
          1.3200000000000003,
          5.239999999999995,
          3.450000000000003,
          5.220000000000006
         ],
         "yaxis": "y4"
        },
        {
         "hovertemplate": "<b>LOWESS trendline</b><br><br>class=6<br>subject=Science<br>subject=Science<br>year=%{x}<br>total_delta=%{y} <b>(trend)</b><extra></extra>",
         "legendgroup": "subject=Science",
         "marker": {
          "color": "#00cc96",
          "symbol": "circle"
         },
         "mode": "lines",
         "name": "subject=Science",
         "showlegend": false,
         "type": "scatter",
         "uid": "ff695388-8cb9-41e9-be51-1747ed51de55",
         "x": [
          2007,
          2008,
          2009,
          2014,
          2016,
          2018
         ],
         "xaxis": "x3",
         "y": [
          10.744958990784628,
          5.99311963588553,
          1.2474542193007383,
          5.240000000000087,
          5.23,
          5.220000000000077
         ],
         "yaxis": "y4"
        },
        {
         "hovertemplate": "class=6<br>subject=Hindi<br>subject=Hindi<br>year=%{x}<br>total_delta=%{y}<br>studentCount=%{marker.size}<extra></extra>",
         "legendgroup": "subject=Hindi",
         "marker": {
          "color": "#ab63fa",
          "size": [
           5,
           72
          ],
          "sizemode": "area",
          "sizeref": 1.15,
          "symbol": "circle"
         },
         "mode": "markers",
         "name": "subject=Hindi",
         "showlegend": false,
         "type": "scatter",
         "uid": "1dd90d8e-8045-45b8-a380-2fea91b26009",
         "x": [
          "2007",
          "2009"
         ],
         "xaxis": "x4",
         "y": [
          16.489999999999995,
          8.130000000000003
         ],
         "yaxis": "y4"
        },
        {
         "hovertemplate": "<b>LOWESS trendline</b><br><br>class=6<br>subject=Hindi<br>subject=Hindi<br>year=%{x}<br>total_delta=%{y} <b>(trend)</b><extra></extra>",
         "legendgroup": "subject=Hindi",
         "marker": {
          "color": "#ab63fa",
          "symbol": "circle"
         },
         "mode": "lines",
         "name": "subject=Hindi",
         "showlegend": false,
         "type": "scatter",
         "uid": "f8976419-1d2e-4ec8-8978-22042e983b1b",
         "x": [
          2007,
          2009
         ],
         "xaxis": "x4",
         "y": [
          16.489999999999995,
          8.130000000000003
         ],
         "yaxis": "y4"
        },
        {
         "hovertemplate": "class=6<br>subject=Social Studies<br>subject=Social Studies<br>year=%{x}<br>total_delta=%{y}<br>studentCount=%{marker.size}<extra></extra>",
         "legendgroup": "subject=Social Studies",
         "marker": {
          "color": "#19d3f3",
          "size": [
           5
          ],
          "sizemode": "area",
          "sizeref": 1.15,
          "symbol": "circle"
         },
         "mode": "markers",
         "name": "subject=Social Studies",
         "showlegend": false,
         "type": "scatter",
         "uid": "aeaa7d99-c6b9-4f96-ab8d-835c62d49a7b",
         "x": [
          "2007"
         ],
         "xaxis": "x5",
         "y": [
          7.579999999999998
         ],
         "yaxis": "y4"
        },
        {
         "hovertemplate": "class=6<br>subject=Social Studies<br>subject=Social Studies<extra></extra>",
         "legendgroup": "subject=Social Studies",
         "marker": {
          "color": "#19d3f3",
          "symbol": "circle"
         },
         "mode": "lines",
         "name": "subject=Social Studies",
         "showlegend": false,
         "type": "scatter",
         "uid": "bc99a85e-de6f-427b-a784-db3957912714",
         "xaxis": "x5",
         "yaxis": "y4"
        },
        {
         "hovertemplate": "class=7<br>subject=English<br>subject=English<br>year=%{x}<br>total_delta=%{y}<br>studentCount=%{marker.size}<extra></extra>",
         "legendgroup": "subject=English",
         "marker": {
          "color": "#636efa",
          "size": [
           4,
           46,
           78,
           96,
           110
          ],
          "sizemode": "area",
          "sizeref": 1.15,
          "symbol": "circle"
         },
         "mode": "markers",
         "name": "subject=English",
         "showlegend": false,
         "type": "scatter",
         "uid": "c672336b-7374-4b1d-b969-9fdec9cd2f0d",
         "x": [
          "2007",
          "2008",
          "2014",
          "2016",
          "2018"
         ],
         "xaxis": "x",
         "y": [
          16.61,
          19.400000000000006,
          14.389999999999993,
          13.690000000000005,
          21.700000000000003
         ],
         "yaxis": "y5"
        },
        {
         "hovertemplate": "<b>LOWESS trendline</b><br><br>class=7<br>subject=English<br>subject=English<br>year=%{x}<br>total_delta=%{y} <b>(trend)</b><extra></extra>",
         "legendgroup": "subject=English",
         "marker": {
          "color": "#636efa",
          "symbol": "circle"
         },
         "mode": "lines",
         "name": "subject=English",
         "showlegend": false,
         "type": "scatter",
         "uid": "28b33dc2-ec84-4f4a-b465-a1089333baf5",
         "x": [
          2007,
          2008,
          2014,
          2016,
          2018
         ],
         "xaxis": "x",
         "y": [
          16.61,
          19.400000000000006,
          14.390000000001788,
          13.690000000000005,
          21.700000000002877
         ],
         "yaxis": "y5"
        },
        {
         "hovertemplate": "class=7<br>subject=Maths<br>subject=Maths<br>year=%{x}<br>total_delta=%{y}<br>studentCount=%{marker.size}<extra></extra>",
         "legendgroup": "subject=Maths",
         "marker": {
          "color": "#EF553B",
          "size": [
           4,
           45,
           74,
           78,
           99,
           114
          ],
          "sizemode": "area",
          "sizeref": 1.15,
          "symbol": "circle"
         },
         "mode": "markers",
         "name": "subject=Maths",
         "showlegend": false,
         "type": "scatter",
         "uid": "d537cde4-67d2-446c-97c9-f71e618d1a90",
         "x": [
          "2007",
          "2008",
          "2009",
          "2014",
          "2016",
          "2018"
         ],
         "xaxis": "x2",
         "y": [
          15.150000000000006,
          13.719999999999999,
          8.579999999999998,
          12.670000000000002,
          7.219999999999999,
          6
         ],
         "yaxis": "y5"
        },
        {
         "hovertemplate": "<b>LOWESS trendline</b><br><br>class=7<br>subject=Maths<br>subject=Maths<br>year=%{x}<br>total_delta=%{y} <b>(trend)</b><extra></extra>",
         "legendgroup": "subject=Maths",
         "marker": {
          "color": "#EF553B",
          "symbol": "circle"
         },
         "mode": "lines",
         "name": "subject=Maths",
         "showlegend": false,
         "type": "scatter",
         "uid": "469a859d-79bb-43d6-9b3d-f9bd20308362",
         "x": [
          2007,
          2008,
          2009,
          2014,
          2016,
          2018
         ],
         "xaxis": "x2",
         "y": [
          15.615236387305119,
          12.341655368715909,
          9.030092717202855,
          12.446393640625875,
          8.846918108592378,
          5.554596098256156
         ],
         "yaxis": "y5"
        },
        {
         "hovertemplate": "class=7<br>subject=Science<br>subject=Science<br>year=%{x}<br>total_delta=%{y}<br>studentCount=%{marker.size}<extra></extra>",
         "legendgroup": "subject=Science",
         "marker": {
          "color": "#00cc96",
          "size": [
           4,
           46,
           74,
           78,
           100,
           115
          ],
          "sizemode": "area",
          "sizeref": 1.15,
          "symbol": "circle"
         },
         "mode": "markers",
         "name": "subject=Science",
         "showlegend": false,
         "type": "scatter",
         "uid": "d4854618-8aae-405a-8157-89bc63d44bb3",
         "x": [
          "2007",
          "2008",
          "2009",
          "2014",
          "2016",
          "2018"
         ],
         "xaxis": "x3",
         "y": [
          7.799999999999997,
          8.470000000000006,
          4.1200000000000045,
          5.160000000000004,
          4.949999999999996,
          8.639999999999993
         ],
         "yaxis": "y5"
        },
        {
         "hovertemplate": "<b>LOWESS trendline</b><br><br>class=7<br>subject=Science<br>subject=Science<br>year=%{x}<br>total_delta=%{y} <b>(trend)</b><extra></extra>",
         "legendgroup": "subject=Science",
         "marker": {
          "color": "#00cc96",
          "symbol": "circle"
         },
         "mode": "lines",
         "name": "subject=Science",
         "showlegend": false,
         "type": "scatter",
         "uid": "b56bac4f-abd9-42f1-b8ec-88e04c0d7af0",
         "x": [
          2007,
          2008,
          2009,
          2014,
          2016,
          2018
         ],
         "xaxis": "x3",
         "y": [
          8.39753054757808,
          6.57204062804993,
          4.69839706490648,
          4.918383418647233,
          6.318496449869433,
          8.114192599791666
         ],
         "yaxis": "y5"
        },
        {
         "hovertemplate": "class=7<br>subject=Hindi<br>subject=Hindi<br>year=%{x}<br>total_delta=%{y}<br>studentCount=%{marker.size}<extra></extra>",
         "legendgroup": "subject=Hindi",
         "marker": {
          "color": "#ab63fa",
          "size": [
           1,
           68
          ],
          "sizemode": "area",
          "sizeref": 1.15,
          "symbol": "circle"
         },
         "mode": "markers",
         "name": "subject=Hindi",
         "showlegend": false,
         "type": "scatter",
         "uid": "87591a1e-2991-4bb7-ab2a-51d95a0c4c3f",
         "x": [
          "2007",
          "2009"
         ],
         "xaxis": "x4",
         "y": [
          10.769999999999996,
          9.840000000000003
         ],
         "yaxis": "y5"
        },
        {
         "hovertemplate": "<b>LOWESS trendline</b><br><br>class=7<br>subject=Hindi<br>subject=Hindi<br>year=%{x}<br>total_delta=%{y} <b>(trend)</b><extra></extra>",
         "legendgroup": "subject=Hindi",
         "marker": {
          "color": "#ab63fa",
          "symbol": "circle"
         },
         "mode": "lines",
         "name": "subject=Hindi",
         "showlegend": false,
         "type": "scatter",
         "uid": "34712113-9867-4b56-ba2f-64d25d4ea36d",
         "x": [
          2007,
          2009
         ],
         "xaxis": "x4",
         "y": [
          10.769999999999996,
          9.840000000000003
         ],
         "yaxis": "y5"
        },
        {
         "hovertemplate": "class=7<br>subject=Social Studies<br>subject=Social Studies<br>year=%{x}<br>total_delta=%{y}<br>studentCount=%{marker.size}<extra></extra>",
         "legendgroup": "subject=Social Studies",
         "marker": {
          "color": "#19d3f3",
          "size": [
           1
          ],
          "sizemode": "area",
          "sizeref": 1.15,
          "symbol": "circle"
         },
         "mode": "markers",
         "name": "subject=Social Studies",
         "showlegend": false,
         "type": "scatter",
         "uid": "d6f12839-f61c-4fa2-941d-3439d611a6b3",
         "x": [
          "2007"
         ],
         "xaxis": "x5",
         "y": [
          5.1200000000000045
         ],
         "yaxis": "y5"
        },
        {
         "hovertemplate": "class=7<br>subject=Social Studies<br>subject=Social Studies<extra></extra>",
         "legendgroup": "subject=Social Studies",
         "marker": {
          "color": "#19d3f3",
          "symbol": "circle"
         },
         "mode": "lines",
         "name": "subject=Social Studies",
         "showlegend": false,
         "type": "scatter",
         "uid": "21b6aaa2-52bf-475a-a7ef-782fc6d498a6",
         "xaxis": "x5",
         "yaxis": "y5"
        },
        {
         "hovertemplate": "class=8<br>subject=English<br>subject=English<br>year=%{x}<br>total_delta=%{y}<br>studentCount=%{marker.size}<extra></extra>",
         "legendgroup": "subject=English",
         "marker": {
          "color": "#636efa",
          "size": [
           15,
           54,
           76,
           72,
           96
          ],
          "sizemode": "area",
          "sizeref": 1.15,
          "symbol": "circle"
         },
         "mode": "markers",
         "name": "subject=English",
         "showlegend": false,
         "type": "scatter",
         "uid": "57614b43-60fa-4d8f-b855-91dacb02179c",
         "x": [
          "2007",
          "2008",
          "2014",
          "2016",
          "2018"
         ],
         "xaxis": "x",
         "y": [
          27.71,
          17.119999999999997,
          13.170000000000002,
          9.149999999999999,
          18.66000000000001
         ],
         "yaxis": "y6"
        },
        {
         "hovertemplate": "<b>LOWESS trendline</b><br><br>class=8<br>subject=English<br>subject=English<br>year=%{x}<br>total_delta=%{y} <b>(trend)</b><extra></extra>",
         "legendgroup": "subject=English",
         "marker": {
          "color": "#636efa",
          "symbol": "circle"
         },
         "mode": "lines",
         "name": "subject=English",
         "showlegend": false,
         "type": "scatter",
         "uid": "d2de6e52-ff63-4da5-af30-e136338412d9",
         "x": [
          2007,
          2008,
          2014,
          2016,
          2018
         ],
         "xaxis": "x",
         "y": [
          27.71,
          17.119999999999997,
          13.170000000001156,
          9.149999999999999,
          18.659999999999613
         ],
         "yaxis": "y6"
        },
        {
         "hovertemplate": "class=8<br>subject=Maths<br>subject=Maths<br>year=%{x}<br>total_delta=%{y}<br>studentCount=%{marker.size}<extra></extra>",
         "legendgroup": "subject=Maths",
         "marker": {
          "color": "#EF553B",
          "size": [
           13,
           52,
           46,
           77,
           76,
           103
          ],
          "sizemode": "area",
          "sizeref": 1.15,
          "symbol": "circle"
         },
         "mode": "markers",
         "name": "subject=Maths",
         "showlegend": false,
         "type": "scatter",
         "uid": "3c24e84c-53ba-4bf4-ae19-5bfd9a1cd1ac",
         "x": [
          "2007",
          "2008",
          "2009",
          "2014",
          "2016",
          "2018"
         ],
         "xaxis": "x2",
         "y": [
          20.309999999999995,
          9.450000000000003,
          17.389999999999993,
          7.090000000000003,
          1.7099999999999937,
          2.490000000000002
         ],
         "yaxis": "y6"
        },
        {
         "hovertemplate": "<b>LOWESS trendline</b><br><br>class=8<br>subject=Maths<br>subject=Maths<br>year=%{x}<br>total_delta=%{y} <b>(trend)</b><extra></extra>",
         "legendgroup": "subject=Maths",
         "marker": {
          "color": "#EF553B",
          "symbol": "circle"
         },
         "mode": "lines",
         "name": "subject=Maths",
         "showlegend": false,
         "type": "scatter",
         "uid": "51f9b664-2968-401f-8238-ff62d6de3a87",
         "x": [
          2007,
          2008,
          2009,
          2014,
          2016,
          2018
         ],
         "xaxis": "x2",
         "y": [
          18.6300438236583,
          17.13064515990333,
          15.758454756364412,
          6.674781878837016,
          3.748625226021714,
          1.5606883503939626
         ],
         "yaxis": "y6"
        },
        {
         "hovertemplate": "class=8<br>subject=Science<br>subject=Science<br>year=%{x}<br>total_delta=%{y}<br>studentCount=%{marker.size}<extra></extra>",
         "legendgroup": "subject=Science",
         "marker": {
          "color": "#00cc96",
          "size": [
           14,
           54,
           48,
           77,
           78,
           104
          ],
          "sizemode": "area",
          "sizeref": 1.15,
          "symbol": "circle"
         },
         "mode": "markers",
         "name": "subject=Science",
         "showlegend": false,
         "type": "scatter",
         "uid": "5d7aeae6-dcb5-4f06-a042-45733ee0e3a8",
         "x": [
          "2007",
          "2008",
          "2009",
          "2014",
          "2016",
          "2018"
         ],
         "xaxis": "x3",
         "y": [
          15.32,
          11.089999999999996,
          14.419999999999995,
          6.609999999999999,
          1.4099999999999966,
          -5.009999999999998
         ],
         "yaxis": "y6"
        },
        {
         "hovertemplate": "<b>LOWESS trendline</b><br><br>class=8<br>subject=Science<br>subject=Science<br>year=%{x}<br>total_delta=%{y} <b>(trend)</b><extra></extra>",
         "legendgroup": "subject=Science",
         "marker": {
          "color": "#00cc96",
          "symbol": "circle"
         },
         "mode": "lines",
         "name": "subject=Science",
         "showlegend": false,
         "type": "scatter",
         "uid": "2f4fb333-6352-4f6e-9748-6e17ad440309",
         "x": [
          2007,
          2008,
          2009,
          2014,
          2016,
          2018
         ],
         "xaxis": "x3",
         "y": [
          15.319999999995924,
          14.870000000000005,
          14.419999999999268,
          6.690134095074795,
          0.9993260874919505,
          -4.8310764141045786
         ],
         "yaxis": "y6"
        },
        {
         "hovertemplate": "class=8<br>subject=Hindi<br>subject=Hindi<br>year=%{x}<br>total_delta=%{y}<br>studentCount=%{marker.size}<extra></extra>",
         "legendgroup": "subject=Hindi",
         "marker": {
          "color": "#ab63fa",
          "size": [
           8,
           41
          ],
          "sizemode": "area",
          "sizeref": 1.15,
          "symbol": "circle"
         },
         "mode": "markers",
         "name": "subject=Hindi",
         "showlegend": false,
         "type": "scatter",
         "uid": "214ff9ca-738d-4a00-9d74-1ff46edfc285",
         "x": [
          "2007",
          "2009"
         ],
         "xaxis": "x4",
         "y": [
          24.189999999999998,
          15.980000000000004
         ],
         "yaxis": "y6"
        },
        {
         "hovertemplate": "<b>LOWESS trendline</b><br><br>class=8<br>subject=Hindi<br>subject=Hindi<br>year=%{x}<br>total_delta=%{y} <b>(trend)</b><extra></extra>",
         "legendgroup": "subject=Hindi",
         "marker": {
          "color": "#ab63fa",
          "symbol": "circle"
         },
         "mode": "lines",
         "name": "subject=Hindi",
         "showlegend": false,
         "type": "scatter",
         "uid": "eca11a37-a103-48fe-87d1-fc791b752651",
         "x": [
          2007,
          2009
         ],
         "xaxis": "x4",
         "y": [
          24.189999999999998,
          15.980000000000004
         ],
         "yaxis": "y6"
        },
        {
         "hovertemplate": "class=8<br>subject=Social Studies<br>subject=Social Studies<br>year=%{x}<br>total_delta=%{y}<br>studentCount=%{marker.size}<extra></extra>",
         "legendgroup": "subject=Social Studies",
         "marker": {
          "color": "#19d3f3",
          "size": [
           12
          ],
          "sizemode": "area",
          "sizeref": 1.15,
          "symbol": "circle"
         },
         "mode": "markers",
         "name": "subject=Social Studies",
         "showlegend": false,
         "type": "scatter",
         "uid": "5d33b984-f007-411a-b7b3-f96fd178ac26",
         "x": [
          "2007"
         ],
         "xaxis": "x5",
         "y": [
          10.350000000000001
         ],
         "yaxis": "y6"
        },
        {
         "hovertemplate": "class=8<br>subject=Social Studies<br>subject=Social Studies<extra></extra>",
         "legendgroup": "subject=Social Studies",
         "marker": {
          "color": "#19d3f3",
          "symbol": "circle"
         },
         "mode": "lines",
         "name": "subject=Social Studies",
         "showlegend": false,
         "type": "scatter",
         "uid": "4049fd09-bea5-4928-8182-1354a2fc55ab",
         "xaxis": "x5",
         "yaxis": "y6"
        },
        {
         "hovertemplate": "class=9<br>subject=English<br>subject=English<br>year=%{x}<br>total_delta=%{y}<br>studentCount=%{marker.size}<extra></extra>",
         "legendgroup": "subject=English",
         "marker": {
          "color": "#636efa",
          "size": [
           10,
           73,
           64,
           98
          ],
          "sizemode": "area",
          "sizeref": 1.15,
          "symbol": "circle"
         },
         "mode": "markers",
         "name": "subject=English",
         "showlegend": false,
         "type": "scatter",
         "uid": "797fd55e-c00a-4deb-bff5-403f999bc2b1",
         "x": [
          "2007",
          "2014",
          "2016",
          "2018"
         ],
         "xaxis": "x",
         "y": [
          17.79,
          14.519999999999996,
          18.960000000000008,
          23.840000000000003
         ],
         "yaxis": "y7"
        },
        {
         "hovertemplate": "<b>LOWESS trendline</b><br><br>class=9<br>subject=English<br>subject=English<br>year=%{x}<br>total_delta=%{y} <b>(trend)</b><extra></extra>",
         "legendgroup": "subject=English",
         "marker": {
          "color": "#636efa",
          "symbol": "circle"
         },
         "mode": "lines",
         "name": "subject=English",
         "showlegend": false,
         "type": "scatter",
         "uid": "1a02f28c-c948-439f-8dbd-a3cd8d3948eb",
         "x": [
          2007,
          2014,
          2016,
          2018
         ],
         "xaxis": "x",
         "y": [
          17.79,
          14.519999999999996,
          18.960000000000008,
          23.840000000000003
         ],
         "yaxis": "y7"
        },
        {
         "hovertemplate": "class=9<br>subject=Maths<br>subject=Maths<br>year=%{x}<br>total_delta=%{y}<br>studentCount=%{marker.size}<extra></extra>",
         "legendgroup": "subject=Maths",
         "marker": {
          "color": "#EF553B",
          "size": [
           10,
           40,
           73,
           73,
           99
          ],
          "sizemode": "area",
          "sizeref": 1.15,
          "symbol": "circle"
         },
         "mode": "markers",
         "name": "subject=Maths",
         "showlegend": false,
         "type": "scatter",
         "uid": "1be4f330-eb8b-44f2-8b9f-b237bfb04c79",
         "x": [
          "2007",
          "2008",
          "2014",
          "2016",
          "2018"
         ],
         "xaxis": "x2",
         "y": [
          13.89,
          6.219999999999999,
          4.240000000000002,
          6.100000000000001,
          5.289999999999999
         ],
         "yaxis": "y7"
        },
        {
         "hovertemplate": "<b>LOWESS trendline</b><br><br>class=9<br>subject=Maths<br>subject=Maths<br>year=%{x}<br>total_delta=%{y} <b>(trend)</b><extra></extra>",
         "legendgroup": "subject=Maths",
         "marker": {
          "color": "#EF553B",
          "symbol": "circle"
         },
         "mode": "lines",
         "name": "subject=Maths",
         "showlegend": false,
         "type": "scatter",
         "uid": "360c0149-0984-4d83-886b-aa1be3a39aba",
         "x": [
          2007,
          2008,
          2014,
          2016,
          2018
         ],
         "xaxis": "x2",
         "y": [
          13.89,
          6.219999999999999,
          4.24000000000048,
          6.100000000000001,
          5.290000000000632
         ],
         "yaxis": "y7"
        },
        {
         "hovertemplate": "class=9<br>subject=Science<br>subject=Science<br>year=%{x}<br>total_delta=%{y}<br>studentCount=%{marker.size}<extra></extra>",
         "legendgroup": "subject=Science",
         "marker": {
          "color": "#00cc96",
          "size": [
           10,
           42,
           51,
           73,
           74,
           92
          ],
          "sizemode": "area",
          "sizeref": 1.15,
          "symbol": "circle"
         },
         "mode": "markers",
         "name": "subject=Science",
         "showlegend": false,
         "type": "scatter",
         "uid": "e6e6daa6-8304-4762-8808-fd70dd8e3f57",
         "x": [
          "2007",
          "2008",
          "2009",
          "2014",
          "2016",
          "2018"
         ],
         "xaxis": "x3",
         "y": [
          9.240000000000002,
          9.959999999999994,
          7.5,
          4.07,
          2.5900000000000034,
          5.759999999999998
         ],
         "yaxis": "y7"
        },
        {
         "hovertemplate": "<b>LOWESS trendline</b><br><br>class=9<br>subject=Science<br>subject=Science<br>year=%{x}<br>total_delta=%{y} <b>(trend)</b><extra></extra>",
         "legendgroup": "subject=Science",
         "marker": {
          "color": "#00cc96",
          "symbol": "circle"
         },
         "mode": "lines",
         "name": "subject=Science",
         "showlegend": false,
         "type": "scatter",
         "uid": "513f946a-eb60-423b-b80a-5cc94dd43ac7",
         "x": [
          2007,
          2008,
          2009,
          2014,
          2016,
          2018
         ],
         "xaxis": "x3",
         "y": [
          9.66668506667317,
          8.807322353085876,
          7.912506202482695,
          3.868849184882861,
          4.520168604930892,
          5.398377360382335
         ],
         "yaxis": "y7"
        },
        {
         "hovertemplate": "class=9<br>subject=Social Studies<br>subject=Social Studies<br>year=%{x}<br>total_delta=%{y}<br>studentCount=%{marker.size}<extra></extra>",
         "legendgroup": "subject=Social Studies",
         "marker": {
          "color": "#19d3f3",
          "size": [
           2
          ],
          "sizemode": "area",
          "sizeref": 1.15,
          "symbol": "circle"
         },
         "mode": "markers",
         "name": "subject=Social Studies",
         "showlegend": false,
         "type": "scatter",
         "uid": "8a03a6b8-9a25-42a0-8df1-5de4016a821a",
         "x": [
          "2007"
         ],
         "xaxis": "x5",
         "y": [
          11.309999999999995
         ],
         "yaxis": "y7"
        },
        {
         "hovertemplate": "class=9<br>subject=Social Studies<br>subject=Social Studies<extra></extra>",
         "legendgroup": "subject=Social Studies",
         "marker": {
          "color": "#19d3f3",
          "symbol": "circle"
         },
         "mode": "lines",
         "name": "subject=Social Studies",
         "showlegend": false,
         "type": "scatter",
         "uid": "7c0c03aa-57df-4bf7-89b1-de3a30d997ab",
         "xaxis": "x5",
         "yaxis": "y7"
        },
        {
         "hovertemplate": "class=10<br>subject=English<br>subject=English<br>year=%{x}<br>total_delta=%{y}<br>studentCount=%{marker.size}<extra></extra>",
         "legendgroup": "subject=English",
         "marker": {
          "color": "#636efa",
          "size": [
           48,
           73,
           60
          ],
          "sizemode": "area",
          "sizeref": 1.15,
          "symbol": "circle"
         },
         "mode": "markers",
         "name": "subject=English",
         "showlegend": false,
         "type": "scatter",
         "uid": "6fc6041e-cb72-420f-a59b-b7c8d4fa3183",
         "x": [
          "2008",
          "2014",
          "2016"
         ],
         "xaxis": "x",
         "y": [
          17.549999999999997,
          14.509999999999998,
          14.5
         ],
         "yaxis": "y8"
        },
        {
         "hovertemplate": "<b>LOWESS trendline</b><br><br>class=10<br>subject=English<br>subject=English<br>year=%{x}<br>total_delta=%{y} <b>(trend)</b><extra></extra>",
         "legendgroup": "subject=English",
         "marker": {
          "color": "#636efa",
          "symbol": "circle"
         },
         "mode": "lines",
         "name": "subject=English",
         "showlegend": false,
         "type": "scatter",
         "uid": "e71f9cb9-450c-4fd0-ab7f-ff3ea19c70fa",
         "x": [
          2008,
          2014,
          2016
         ],
         "xaxis": "x",
         "y": [
          17.549999999999997,
          14.509999999999998,
          14.5
         ],
         "yaxis": "y8"
        },
        {
         "hovertemplate": "class=10<br>subject=Maths<br>subject=Maths<br>year=%{x}<br>total_delta=%{y}<br>studentCount=%{marker.size}<extra></extra>",
         "legendgroup": "subject=Maths",
         "marker": {
          "color": "#EF553B",
          "size": [
           43,
           73,
           67
          ],
          "sizemode": "area",
          "sizeref": 1.15,
          "symbol": "circle"
         },
         "mode": "markers",
         "name": "subject=Maths",
         "showlegend": false,
         "type": "scatter",
         "uid": "6051a43d-3dd2-4c53-8874-e577629f067d",
         "x": [
          "2009",
          "2014",
          "2016"
         ],
         "xaxis": "x2",
         "y": [
          13.800000000000004,
          -0.03999999999999915,
          5.050000000000004
         ],
         "yaxis": "y8"
        },
        {
         "hovertemplate": "<b>LOWESS trendline</b><br><br>class=10<br>subject=Maths<br>subject=Maths<br>year=%{x}<br>total_delta=%{y} <b>(trend)</b><extra></extra>",
         "legendgroup": "subject=Maths",
         "marker": {
          "color": "#EF553B",
          "symbol": "circle"
         },
         "mode": "lines",
         "name": "subject=Maths",
         "showlegend": false,
         "type": "scatter",
         "uid": "500512fd-30c6-48a5-b705-b9a4c7a9c62a",
         "x": [
          2009,
          2014,
          2016
         ],
         "xaxis": "x2",
         "y": [
          13.800000000000004,
          -0.03999999999999915,
          5.050000000000004
         ],
         "yaxis": "y8"
        },
        {
         "hovertemplate": "class=10<br>subject=Science<br>subject=Science<br>year=%{x}<br>total_delta=%{y}<br>studentCount=%{marker.size}<extra></extra>",
         "legendgroup": "subject=Science",
         "marker": {
          "color": "#00cc96",
          "size": [
           73,
           67
          ],
          "sizemode": "area",
          "sizeref": 1.15,
          "symbol": "circle"
         },
         "mode": "markers",
         "name": "subject=Science",
         "showlegend": false,
         "type": "scatter",
         "uid": "c5459e5b-5625-47e1-b64f-c09d9009b247",
         "x": [
          "2014",
          "2016"
         ],
         "xaxis": "x3",
         "y": [
          1.1400000000000006,
          4.720000000000006
         ],
         "yaxis": "y8"
        },
        {
         "hovertemplate": "<b>LOWESS trendline</b><br><br>class=10<br>subject=Science<br>subject=Science<br>year=%{x}<br>total_delta=%{y} <b>(trend)</b><extra></extra>",
         "legendgroup": "subject=Science",
         "marker": {
          "color": "#00cc96",
          "symbol": "circle"
         },
         "mode": "lines",
         "name": "subject=Science",
         "showlegend": false,
         "type": "scatter",
         "uid": "f39a08d3-b08c-4801-a629-7f7ea44789f8",
         "x": [
          2014,
          2016
         ],
         "xaxis": "x3",
         "y": [
          1.1400000000000006,
          4.720000000000006
         ],
         "yaxis": "y8"
        }
       ],
       "layout": {
        "annotations": [
         {
          "showarrow": false,
          "text": "subject=English",
          "textangle": 0,
          "x": 0.09183673469387754,
          "xanchor": "center",
          "xref": "paper",
          "y": 1.02,
          "yanchor": "middle",
          "yref": "paper"
         },
         {
          "showarrow": false,
          "text": "subject=Maths",
          "textangle": 0,
          "x": 0.2959183673469387,
          "xanchor": "center",
          "xref": "paper",
          "y": 1.02,
          "yanchor": "middle",
          "yref": "paper"
         },
         {
          "showarrow": false,
          "text": "subject=Science",
          "textangle": 0,
          "x": 0.5,
          "xanchor": "center",
          "xref": "paper",
          "y": 1.02,
          "yanchor": "middle",
          "yref": "paper"
         },
         {
          "showarrow": false,
          "text": "subject=Hindi",
          "textangle": 0,
          "x": 0.7040816326530612,
          "xanchor": "center",
          "xref": "paper",
          "y": 1.02,
          "yanchor": "middle",
          "yref": "paper"
         },
         {
          "showarrow": false,
          "text": "subject=Social Studies",
          "textangle": 0,
          "x": 0.9081632653061223,
          "xanchor": "center",
          "xref": "paper",
          "y": 1.02,
          "yanchor": "middle",
          "yref": "paper"
         },
         {
          "showarrow": false,
          "text": "class=3",
          "textangle": 90,
          "x": 1.01,
          "xanchor": "center",
          "xref": "paper",
          "y": 0.9430379746835442,
          "yanchor": "middle",
          "yref": "paper"
         },
         {
          "showarrow": false,
          "text": "class=4",
          "textangle": 90,
          "x": 1.01,
          "xanchor": "center",
          "xref": "paper",
          "y": 0.8164556962025316,
          "yanchor": "middle",
          "yref": "paper"
         },
         {
          "showarrow": false,
          "text": "class=5",
          "textangle": 90,
          "x": 1.01,
          "xanchor": "center",
          "xref": "paper",
          "y": 0.6898734177215189,
          "yanchor": "middle",
          "yref": "paper"
         },
         {
          "showarrow": false,
          "text": "class=6",
          "textangle": 90,
          "x": 1.01,
          "xanchor": "center",
          "xref": "paper",
          "y": 0.5632911392405062,
          "yanchor": "middle",
          "yref": "paper"
         },
         {
          "showarrow": false,
          "text": "class=7",
          "textangle": 90,
          "x": 1.01,
          "xanchor": "center",
          "xref": "paper",
          "y": 0.4367088607594936,
          "yanchor": "middle",
          "yref": "paper"
         },
         {
          "showarrow": false,
          "text": "class=8",
          "textangle": 90,
          "x": 1.01,
          "xanchor": "center",
          "xref": "paper",
          "y": 0.310126582278481,
          "yanchor": "middle",
          "yref": "paper"
         },
         {
          "showarrow": false,
          "text": "class=9",
          "textangle": 90,
          "x": 1.01,
          "xanchor": "center",
          "xref": "paper",
          "y": 0.18354430379746833,
          "yanchor": "middle",
          "yref": "paper"
         },
         {
          "showarrow": false,
          "text": "class=10",
          "textangle": 90,
          "x": 1.01,
          "xanchor": "center",
          "xref": "paper",
          "y": 0.05696202531645569,
          "yanchor": "middle",
          "yref": "paper"
         }
        ],
        "grid": {
         "xaxes": [
          "x",
          "x2",
          "x3",
          "x4",
          "x5"
         ],
         "xgap": 0.1,
         "xside": "bottom",
         "yaxes": [
          "y",
          "y2",
          "y3",
          "y4",
          "y5",
          "y6",
          "y7",
          "y8"
         ],
         "ygap": 0.1,
         "yside": "left"
        },
        "height": 2000,
        "legend": {
         "tracegroupgap": 0
        },
        "template": {
         "data": {
          "bar": [
           {
            "marker": {
             "line": {
              "color": "#E5ECF6",
              "width": 0.5
             }
            },
            "type": "bar"
           }
          ],
          "barpolar": [
           {
            "marker": {
             "line": {
              "color": "#E5ECF6",
              "width": 0.5
             }
            },
            "type": "barpolar"
           }
          ],
          "carpet": [
           {
            "aaxis": {
             "endlinecolor": "#2a3f5f",
             "gridcolor": "white",
             "linecolor": "white",
             "minorgridcolor": "white",
             "startlinecolor": "#2a3f5f"
            },
            "baxis": {
             "endlinecolor": "#2a3f5f",
             "gridcolor": "white",
             "linecolor": "white",
             "minorgridcolor": "white",
             "startlinecolor": "#2a3f5f"
            },
            "type": "carpet"
           }
          ],
          "choropleth": [
           {
            "colorbar": {
             "outlinewidth": 0,
             "ticks": ""
            },
            "type": "choropleth"
           }
          ],
          "contour": [
           {
            "autocolorscale": true,
            "colorbar": {
             "outlinewidth": 0,
             "ticks": ""
            },
            "type": "contour"
           }
          ],
          "contourcarpet": [
           {
            "colorbar": {
             "outlinewidth": 0,
             "ticks": ""
            },
            "type": "contourcarpet"
           }
          ],
          "heatmap": [
           {
            "autocolorscale": true,
            "colorbar": {
             "outlinewidth": 0,
             "ticks": ""
            },
            "type": "heatmap"
           }
          ],
          "heatmapgl": [
           {
            "colorbar": {
             "outlinewidth": 0,
             "ticks": ""
            },
            "type": "heatmapgl"
           }
          ],
          "histogram": [
           {
            "marker": {
             "colorbar": {
              "outlinewidth": 0,
              "ticks": ""
             }
            },
            "type": "histogram"
           }
          ],
          "histogram2d": [
           {
            "autocolorscale": true,
            "colorbar": {
             "outlinewidth": 0,
             "ticks": ""
            },
            "type": "histogram2d"
           }
          ],
          "histogram2dcontour": [
           {
            "autocolorscale": true,
            "colorbar": {
             "outlinewidth": 0,
             "ticks": ""
            },
            "type": "histogram2dcontour"
           }
          ],
          "mesh3d": [
           {
            "colorbar": {
             "outlinewidth": 0,
             "ticks": ""
            },
            "type": "mesh3d"
           }
          ],
          "parcoords": [
           {
            "line": {
             "colorbar": {
              "outlinewidth": 0,
              "ticks": ""
             }
            },
            "type": "parcoords"
           }
          ],
          "scatter": [
           {
            "marker": {
             "colorbar": {
              "outlinewidth": 0,
              "ticks": ""
             }
            },
            "type": "scatter"
           }
          ],
          "scatter3d": [
           {
            "marker": {
             "colorbar": {
              "outlinewidth": 0,
              "ticks": ""
             }
            },
            "type": "scatter3d"
           }
          ],
          "scattercarpet": [
           {
            "marker": {
             "colorbar": {
              "outlinewidth": 0,
              "ticks": ""
             }
            },
            "type": "scattercarpet"
           }
          ],
          "scattergeo": [
           {
            "marker": {
             "colorbar": {
              "outlinewidth": 0,
              "ticks": ""
             }
            },
            "type": "scattergeo"
           }
          ],
          "scattergl": [
           {
            "marker": {
             "colorbar": {
              "outlinewidth": 0,
              "ticks": ""
             }
            },
            "type": "scattergl"
           }
          ],
          "scattermapbox": [
           {
            "marker": {
             "colorbar": {
              "outlinewidth": 0,
              "ticks": ""
             }
            },
            "type": "scattermapbox"
           }
          ],
          "scatterpolar": [
           {
            "marker": {
             "colorbar": {
              "outlinewidth": 0,
              "ticks": ""
             }
            },
            "type": "scatterpolar"
           }
          ],
          "scatterpolargl": [
           {
            "marker": {
             "colorbar": {
              "outlinewidth": 0,
              "ticks": ""
             }
            },
            "type": "scatterpolargl"
           }
          ],
          "scatterternary": [
           {
            "marker": {
             "colorbar": {
              "outlinewidth": 0,
              "ticks": ""
             }
            },
            "type": "scatterternary"
           }
          ],
          "surface": [
           {
            "colorbar": {
             "outlinewidth": 0,
             "ticks": ""
            },
            "type": "surface"
           }
          ],
          "table": [
           {
            "cells": {
             "fill": {
              "color": "#EBF0F8"
             },
             "line": {
              "color": "white"
             }
            },
            "header": {
             "fill": {
              "color": "#C8D4E3"
             },
             "line": {
              "color": "white"
             }
            },
            "type": "table"
           }
          ]
         },
         "layout": {
          "annotationdefaults": {
           "arrowcolor": "#506784",
           "arrowhead": 0,
           "arrowwidth": 1
          },
          "colorscale": {
           "diverging": [
            [
             0,
             "#8e0152"
            ],
            [
             0.1,
             "#c51b7d"
            ],
            [
             0.2,
             "#de77ae"
            ],
            [
             0.3,
             "#f1b6da"
            ],
            [
             0.4,
             "#fde0ef"
            ],
            [
             0.5,
             "#f7f7f7"
            ],
            [
             0.6,
             "#e6f5d0"
            ],
            [
             0.7,
             "#b8e186"
            ],
            [
             0.8,
             "#7fbc41"
            ],
            [
             0.9,
             "#4d9221"
            ],
            [
             1,
             "#276419"
            ]
           ],
           "sequential": [
            [
             0,
             "#0508b8"
            ],
            [
             0.0893854748603352,
             "#1910d8"
            ],
            [
             0.1787709497206704,
             "#3c19f0"
            ],
            [
             0.2681564245810056,
             "#6b1cfb"
            ],
            [
             0.3575418994413408,
             "#981cfd"
            ],
            [
             0.44692737430167595,
             "#bf1cfd"
            ],
            [
             0.5363128491620112,
             "#dd2bfd"
            ],
            [
             0.6256983240223464,
             "#f246fe"
            ],
            [
             0.7150837988826816,
             "#fc67fd"
            ],
            [
             0.8044692737430168,
             "#fe88fc"
            ],
            [
             0.8938547486033519,
             "#fea5fd"
            ],
            [
             0.9832402234636871,
             "#febefe"
            ],
            [
             1,
             "#fec3fe"
            ]
           ],
           "sequentialminus": [
            [
             0,
             "#0508b8"
            ],
            [
             0.0893854748603352,
             "#1910d8"
            ],
            [
             0.1787709497206704,
             "#3c19f0"
            ],
            [
             0.2681564245810056,
             "#6b1cfb"
            ],
            [
             0.3575418994413408,
             "#981cfd"
            ],
            [
             0.44692737430167595,
             "#bf1cfd"
            ],
            [
             0.5363128491620112,
             "#dd2bfd"
            ],
            [
             0.6256983240223464,
             "#f246fe"
            ],
            [
             0.7150837988826816,
             "#fc67fd"
            ],
            [
             0.8044692737430168,
             "#fe88fc"
            ],
            [
             0.8938547486033519,
             "#fea5fd"
            ],
            [
             0.9832402234636871,
             "#febefe"
            ],
            [
             1,
             "#fec3fe"
            ]
           ]
          },
          "colorway": [
           "#636efa",
           "#EF553B",
           "#00cc96",
           "#ab63fa",
           "#19d3f3",
           "#e763fa",
           "#FECB52",
           "#FFA15A",
           "#FF6692",
           "#B6E880"
          ],
          "font": {
           "color": "#2a3f5f"
          },
          "geo": {
           "bgcolor": "white",
           "lakecolor": "white",
           "landcolor": "#E5ECF6",
           "showlakes": true,
           "showland": true,
           "subunitcolor": "white"
          },
          "hoverlabel": {
           "align": "left"
          },
          "hovermode": "closest",
          "legend": {
           "itemsizing": "constant"
          },
          "mapbox": {
           "style": "light"
          },
          "paper_bgcolor": "white",
          "plot_bgcolor": "#E5ECF6",
          "polar": {
           "angularaxis": {
            "gridcolor": "white",
            "linecolor": "white",
            "ticks": ""
           },
           "bgcolor": "#E5ECF6",
           "radialaxis": {
            "gridcolor": "white",
            "linecolor": "white",
            "ticks": ""
           }
          },
          "scene": {
           "xaxis": {
            "backgroundcolor": "#E5ECF6",
            "gridcolor": "white",
            "gridwidth": 2,
            "linecolor": "white",
            "showbackground": true,
            "ticks": "",
            "zerolinecolor": "white"
           },
           "yaxis": {
            "backgroundcolor": "#E5ECF6",
            "gridcolor": "white",
            "gridwidth": 2,
            "linecolor": "white",
            "showbackground": true,
            "ticks": "",
            "zerolinecolor": "white"
           },
           "zaxis": {
            "backgroundcolor": "#E5ECF6",
            "gridcolor": "white",
            "gridwidth": 2,
            "linecolor": "white",
            "showbackground": true,
            "ticks": "",
            "zerolinecolor": "white"
           }
          },
          "shapedefaults": {
           "fillcolor": "#506784",
           "line": {
            "width": 0
           },
           "opacity": 0.4
          },
          "ternary": {
           "aaxis": {
            "gridcolor": "white",
            "linecolor": "white",
            "ticks": ""
           },
           "baxis": {
            "gridcolor": "white",
            "linecolor": "white",
            "ticks": ""
           },
           "bgcolor": "#E5ECF6",
           "caxis": {
            "gridcolor": "white",
            "linecolor": "white",
            "ticks": ""
           }
          },
          "title": {
           "x": 0.05
          },
          "xaxis": {
           "automargin": true,
           "gridcolor": "white",
           "linecolor": "white",
           "ticks": "",
           "zerolinecolor": "white",
           "zerolinewidth": 2
          },
          "yaxis": {
           "automargin": true,
           "gridcolor": "white",
           "linecolor": "white",
           "ticks": "",
           "zerolinecolor": "white",
           "zerolinewidth": 2
          }
         }
        },
        "title": {
         "text": "Overall performance in subjects across the years for different grades (Sushila Birla Girls^ School-Kolkata-CBSE)"
        },
        "width": 3000,
        "xaxis": {
         "title": {
          "text": "year"
         }
        },
        "xaxis2": {
         "matches": "x",
         "title": {
          "text": "year"
         }
        },
        "xaxis3": {
         "matches": "x",
         "title": {
          "text": "year"
         }
        },
        "xaxis4": {
         "matches": "x",
         "title": {
          "text": "year"
         }
        },
        "xaxis5": {
         "matches": "x",
         "title": {
          "text": "year"
         }
        },
        "yaxis": {
         "title": {
          "text": "total_delta"
         }
        },
        "yaxis2": {
         "matches": "y",
         "title": {
          "text": "total_delta"
         }
        },
        "yaxis3": {
         "matches": "y",
         "title": {
          "text": "total_delta"
         }
        },
        "yaxis4": {
         "matches": "y",
         "title": {
          "text": "total_delta"
         }
        },
        "yaxis5": {
         "matches": "y",
         "title": {
          "text": "total_delta"
         }
        },
        "yaxis6": {
         "matches": "y",
         "title": {
          "text": "total_delta"
         }
        },
        "yaxis7": {
         "matches": "y",
         "title": {
          "text": "total_delta"
         }
        },
        "yaxis8": {
         "matches": "y",
         "title": {
          "text": "total_delta"
         }
        }
       }
      },
      "text/html": [
       "<div>\n",
       "        \n",
       "        \n",
       "            <div id=\"7ca59890-0d59-4cda-82e5-dac2859cd0bc\" class=\"plotly-graph-div\"></div>\n",
       "            <script type=\"text/javascript\">\n",
       "                require([\"plotly\"], function(Plotly) {\n",
       "                    window.PLOTLYENV=window.PLOTLYENV || {};\n",
       "                    window.PLOTLYENV.BASE_URL='https://plot.ly';\n",
       "                    \n",
       "                if (document.getElementById(\"7ca59890-0d59-4cda-82e5-dac2859cd0bc\")) {\n",
       "                    Plotly.newPlot(\n",
       "                        '7ca59890-0d59-4cda-82e5-dac2859cd0bc',\n",
       "                        [{\"hovertemplate\": \"class=3<br>subject=English<br>subject=English<br>year=%{x}<br>total_delta=%{y}<br>studentCount=%{marker.size}<extra></extra>\", \"legendgroup\": \"subject=English\", \"marker\": {\"color\": \"#636efa\", \"size\": [19, 74, 105, 102, 106], \"sizemode\": \"area\", \"sizeref\": 1.15, \"symbol\": \"circle\"}, \"mode\": \"markers\", \"name\": \"subject=English\", \"showlegend\": true, \"type\": \"scatter\", \"uid\": \"e4e14cd2-6928-48a2-89dc-9f347e5c374f\", \"x\": [\"2007\", \"2008\", \"2014\", \"2016\", \"2018\"], \"xaxis\": \"x\", \"y\": [19.879999999999995, 11.0, 9.43, 8.07, 10.910000000000004], \"yaxis\": \"y\"}, {\"hovertemplate\": \"<b>LOWESS trendline</b><br><br>class=3<br>subject=English<br>subject=English<br>year=%{x}<br>total_delta=%{y} <b>(trend)</b><extra></extra>\", \"legendgroup\": \"subject=English\", \"marker\": {\"color\": \"#636efa\", \"symbol\": \"circle\"}, \"mode\": \"lines\", \"name\": \"subject=English\", \"showlegend\": false, \"type\": \"scatter\", \"uid\": \"91554a38-0380-4aea-be4e-0c960abff846\", \"x\": [2007.0, 2008.0, 2014.0, 2016.0, 2018.0], \"xaxis\": \"x\", \"y\": [19.880000000008433, 11.000000000004873, 9.43, 8.07, 10.910000000000004], \"yaxis\": \"y\"}, {\"hovertemplate\": \"class=3<br>subject=Maths<br>subject=Maths<br>year=%{x}<br>total_delta=%{y}<br>studentCount=%{marker.size}<extra></extra>\", \"legendgroup\": \"subject=Maths\", \"marker\": {\"color\": \"#EF553B\", \"size\": [19, 74, 75, 106, 109, 108], \"sizemode\": \"area\", \"sizeref\": 1.15, \"symbol\": \"circle\"}, \"mode\": \"markers\", \"name\": \"subject=Maths\", \"showlegend\": true, \"type\": \"scatter\", \"uid\": \"c17a0320-d51e-4c38-af45-ff04ed46a34f\", \"x\": [\"2007\", \"2008\", \"2009\", \"2014\", \"2016\", \"2018\"], \"xaxis\": \"x2\", \"y\": [5.719999999999999, -2.6799999999999997, 2.6599999999999966, 2.280000000000001, 9.049999999999997, 6.780000000000001], \"yaxis\": \"y\"}, {\"hovertemplate\": \"<b>LOWESS trendline</b><br><br>class=3<br>subject=Maths<br>subject=Maths<br>year=%{x}<br>total_delta=%{y} <b>(trend)</b><extra></extra>\", \"legendgroup\": \"subject=Maths\", \"marker\": {\"color\": \"#EF553B\", \"symbol\": \"circle\"}, \"mode\": \"lines\", \"name\": \"subject=Maths\", \"showlegend\": false, \"type\": \"scatter\", \"uid\": \"fa8e177b-218b-4b52-8514-0599fad063ae\", \"x\": [2007.0, 2008.0, 2009.0, 2014.0, 2016.0, 2018.0], \"xaxis\": \"x2\", \"y\": [4.084527943480181, 2.514813101708989, 1.0768972765267137, 2.8598689770464105, 5.9522055106356575, 8.06031388317437], \"yaxis\": \"y\"}, {\"hovertemplate\": \"class=3<br>subject=Science<br>subject=Science<br>year=%{x}<br>total_delta=%{y}<br>studentCount=%{marker.size}<extra></extra>\", \"legendgroup\": \"subject=Science\", \"marker\": {\"color\": \"#00cc96\", \"size\": [18, 73, 75, 106, 109, 113], \"sizemode\": \"area\", \"sizeref\": 1.15, \"symbol\": \"circle\"}, \"mode\": \"markers\", \"name\": \"subject=Science\", \"showlegend\": true, \"type\": \"scatter\", \"uid\": \"1adbfd49-b56c-4387-a0d2-f282b96032f2\", \"x\": [\"2007\", \"2008\", \"2009\", \"2014\", \"2016\", \"2018\"], \"xaxis\": \"x3\", \"y\": [4.359999999999999, 4.590000000000003, 4.159999999999997, -2.1999999999999957, 4.980000000000004, 3.229999999999997], \"yaxis\": \"y\"}, {\"hovertemplate\": \"<b>LOWESS trendline</b><br><br>class=3<br>subject=Science<br>subject=Science<br>year=%{x}<br>total_delta=%{y} <b>(trend)</b><extra></extra>\", \"legendgroup\": \"subject=Science\", \"marker\": {\"color\": \"#00cc96\", \"symbol\": \"circle\"}, \"mode\": \"lines\", \"name\": \"subject=Science\", \"showlegend\": false, \"type\": \"scatter\", \"uid\": \"696120fd-ac1c-4fed-98bb-2c6138e6958a\", \"x\": [2007.0, 2008.0, 2009.0, 2014.0, 2016.0, 2018.0], \"xaxis\": \"x3\", \"y\": [4.446036144988133, 4.348146799169464, 4.243165225749942, -2.2000000000001108, 0.5150000000000006, 3.230000000000051], \"yaxis\": \"y\"}, {\"hovertemplate\": \"class=4<br>subject=English<br>subject=English<br>year=%{x}<br>total_delta=%{y}<br>studentCount=%{marker.size}<extra></extra>\", \"legendgroup\": \"subject=English\", \"marker\": {\"color\": \"#636efa\", \"size\": [15, 73, 104, 108, 108], \"sizemode\": \"area\", \"sizeref\": 1.15, \"symbol\": \"circle\"}, \"mode\": \"markers\", \"name\": \"subject=English\", \"showlegend\": false, \"type\": \"scatter\", \"uid\": \"1f984a07-d1ed-41ed-8347-5561e056c6bc\", \"x\": [\"2007\", \"2008\", \"2014\", \"2016\", \"2018\"], \"xaxis\": \"x\", \"y\": [3.6999999999999957, 11.64, 10.469999999999999, 9.100000000000001, 18.85000000000001], \"yaxis\": \"y2\"}, {\"hovertemplate\": \"<b>LOWESS trendline</b><br><br>class=4<br>subject=English<br>subject=English<br>year=%{x}<br>total_delta=%{y} <b>(trend)</b><extra></extra>\", \"legendgroup\": \"subject=English\", \"marker\": {\"color\": \"#636efa\", \"symbol\": \"circle\"}, \"mode\": \"lines\", \"name\": \"subject=English\", \"showlegend\": false, \"type\": \"scatter\", \"uid\": \"1620e8aa-7171-48cf-8f51-e6ad132bd503\", \"x\": [2007.0, 2008.0, 2014.0, 2016.0, 2018.0], \"xaxis\": \"x\", \"y\": [3.700000000000277, 11.639999999999144, 10.470000000000892, 9.100000000000001, 18.85000000000001], \"yaxis\": \"y2\"}, {\"hovertemplate\": \"class=4<br>subject=Maths<br>subject=Maths<br>year=%{x}<br>total_delta=%{y}<br>studentCount=%{marker.size}<extra></extra>\", \"legendgroup\": \"subject=Maths\", \"marker\": {\"color\": \"#EF553B\", \"size\": [14, 72, 75, 104, 111, 113], \"sizemode\": \"area\", \"sizeref\": 1.15, \"symbol\": \"circle\"}, \"mode\": \"markers\", \"name\": \"subject=Maths\", \"showlegend\": false, \"type\": \"scatter\", \"uid\": \"90ab0a22-d064-4104-a53a-437529f63a74\", \"x\": [\"2007\", \"2008\", \"2009\", \"2014\", \"2016\", \"2018\"], \"xaxis\": \"x2\", \"y\": [3.759999999999998, -0.5, 3.9399999999999977, -0.5200000000000031, -0.9500000000000028, 3.190000000000005], \"yaxis\": \"y2\"}, {\"hovertemplate\": \"<b>LOWESS trendline</b><br><br>class=4<br>subject=Maths<br>subject=Maths<br>year=%{x}<br>total_delta=%{y} <b>(trend)</b><extra></extra>\", \"legendgroup\": \"subject=Maths\", \"marker\": {\"color\": \"#EF553B\", \"symbol\": \"circle\"}, \"mode\": \"lines\", \"name\": \"subject=Maths\", \"showlegend\": false, \"type\": \"scatter\", \"uid\": \"115601a5-de5b-4ac5-8bd0-18b75a4c7227\", \"x\": [2007.0, 2008.0, 2009.0, 2014.0, 2016.0, 2018.0], \"xaxis\": \"x2\", \"y\": [2.7244390908515306, 2.7892921386380576, 2.9375987122128118, -0.8216792005429054, 0.5848759693185801, 2.517869910004221], \"yaxis\": \"y2\"}, {\"hovertemplate\": \"class=4<br>subject=Science<br>subject=Science<br>year=%{x}<br>total_delta=%{y}<br>studentCount=%{marker.size}<extra></extra>\", \"legendgroup\": \"subject=Science\", \"marker\": {\"color\": \"#00cc96\", \"size\": [12, 73, 75, 104, 112, 113], \"sizemode\": \"area\", \"sizeref\": 1.15, \"symbol\": \"circle\"}, \"mode\": \"markers\", \"name\": \"subject=Science\", \"showlegend\": false, \"type\": \"scatter\", \"uid\": \"a87cf90f-3d9a-45cb-8f28-93ab704f5417\", \"x\": [\"2007\", \"2008\", \"2009\", \"2014\", \"2016\", \"2018\"], \"xaxis\": \"x3\", \"y\": [-2.9200000000000017, -0.38000000000000256, 1.1999999999999957, 0.8000000000000043, 2.4200000000000017, 3.559999999999995], \"yaxis\": \"y2\"}, {\"hovertemplate\": \"<b>LOWESS trendline</b><br><br>class=4<br>subject=Science<br>subject=Science<br>year=%{x}<br>total_delta=%{y} <b>(trend)</b><extra></extra>\", \"legendgroup\": \"subject=Science\", \"marker\": {\"color\": \"#00cc96\", \"symbol\": \"circle\"}, \"mode\": \"lines\", \"name\": \"subject=Science\", \"showlegend\": false, \"type\": \"scatter\", \"uid\": \"6cbf60f6-1d20-4daa-8d6e-609b8838e4d4\", \"x\": [2007.0, 2008.0, 2009.0, 2014.0, 2016.0, 2018.0], \"xaxis\": \"x3\", \"y\": [-2.8058416945400286, -0.7430698385661496, 1.3105043992792829, 0.8318267530347279, 2.259289837275184, 3.6309878888126788], \"yaxis\": \"y2\"}, {\"hovertemplate\": \"class=4<br>subject=Hindi<br>subject=Hindi<br>year=%{x}<br>total_delta=%{y}<br>studentCount=%{marker.size}<extra></extra>\", \"legendgroup\": \"subject=Hindi\", \"marker\": {\"color\": \"#ab63fa\", \"size\": [7, 71], \"sizemode\": \"area\", \"sizeref\": 1.15, \"symbol\": \"circle\"}, \"mode\": \"markers\", \"name\": \"subject=Hindi\", \"showlegend\": true, \"type\": \"scatter\", \"uid\": \"40554d8b-92f6-431d-8cc3-76b2b6fa87ce\", \"x\": [\"2007\", \"2009\"], \"xaxis\": \"x4\", \"y\": [4.369999999999997, 5.450000000000003], \"yaxis\": \"y2\"}, {\"hovertemplate\": \"<b>LOWESS trendline</b><br><br>class=4<br>subject=Hindi<br>subject=Hindi<br>year=%{x}<br>total_delta=%{y} <b>(trend)</b><extra></extra>\", \"legendgroup\": \"subject=Hindi\", \"marker\": {\"color\": \"#ab63fa\", \"symbol\": \"circle\"}, \"mode\": \"lines\", \"name\": \"subject=Hindi\", \"showlegend\": false, \"type\": \"scatter\", \"uid\": \"9cb409d4-a0c2-432a-9705-01bb349dfbc3\", \"x\": [2007.0, 2009.0], \"xaxis\": \"x4\", \"y\": [4.369999999999997, 5.450000000000003], \"yaxis\": \"y2\"}, {\"hovertemplate\": \"class=5<br>subject=English<br>subject=English<br>year=%{x}<br>total_delta=%{y}<br>studentCount=%{marker.size}<extra></extra>\", \"legendgroup\": \"subject=English\", \"marker\": {\"color\": \"#636efa\", \"size\": [16, 73, 108, 103, 109], \"sizemode\": \"area\", \"sizeref\": 1.15, \"symbol\": \"circle\"}, \"mode\": \"markers\", \"name\": \"subject=English\", \"showlegend\": false, \"type\": \"scatter\", \"uid\": \"4b776019-8e29-4757-a0f0-ccfb50ea2de4\", \"x\": [\"2007\", \"2008\", \"2014\", \"2016\", \"2018\"], \"xaxis\": \"x\", \"y\": [17.32, 8.380000000000003, 12.480000000000004, 10.479999999999997, 15.069999999999993], \"yaxis\": \"y3\"}, {\"hovertemplate\": \"<b>LOWESS trendline</b><br><br>class=5<br>subject=English<br>subject=English<br>year=%{x}<br>total_delta=%{y} <b>(trend)</b><extra></extra>\", \"legendgroup\": \"subject=English\", \"marker\": {\"color\": \"#636efa\", \"symbol\": \"circle\"}, \"mode\": \"lines\", \"name\": \"subject=English\", \"showlegend\": false, \"type\": \"scatter\", \"uid\": \"d642e042-9f56-489b-9b8c-903dd0743aae\", \"x\": [2007.0, 2008.0, 2014.0, 2016.0, 2018.0], \"xaxis\": \"x\", \"y\": [17.319999999988582, 8.379999999992238, 12.48000000000128, 10.479999999999997, 15.070000000002814], \"yaxis\": \"y3\"}, {\"hovertemplate\": \"class=5<br>subject=Maths<br>subject=Maths<br>year=%{x}<br>total_delta=%{y}<br>studentCount=%{marker.size}<extra></extra>\", \"legendgroup\": \"subject=Maths\", \"marker\": {\"color\": \"#EF553B\", \"size\": [16, 73, 75, 108, 107, 112], \"sizemode\": \"area\", \"sizeref\": 1.15, \"symbol\": \"circle\"}, \"mode\": \"markers\", \"name\": \"subject=Maths\", \"showlegend\": false, \"type\": \"scatter\", \"uid\": \"39cd4d5e-1a00-4252-8920-5fbe3b97d3ba\", \"x\": [\"2007\", \"2008\", \"2009\", \"2014\", \"2016\", \"2018\"], \"xaxis\": \"x2\", \"y\": [7.869999999999997, -0.1600000000000037, 5.199999999999996, 5.520000000000003, 3.8900000000000006, 4.990000000000002], \"yaxis\": \"y3\"}, {\"hovertemplate\": \"<b>LOWESS trendline</b><br><br>class=5<br>subject=Maths<br>subject=Maths<br>year=%{x}<br>total_delta=%{y} <b>(trend)</b><extra></extra>\", \"legendgroup\": \"subject=Maths\", \"marker\": {\"color\": \"#EF553B\", \"symbol\": \"circle\"}, \"mode\": \"lines\", \"name\": \"subject=Maths\", \"showlegend\": false, \"type\": \"scatter\", \"uid\": \"29f5e86d-9f8b-453d-825a-599322fb0a71\", \"x\": [2007.0, 2008.0, 2009.0, 2014.0, 2016.0, 2018.0], \"xaxis\": \"x2\", \"y\": [7.869999999999708, 6.5350000000002675, 5.200000000000469, 5.336249568349399, 4.794236589300695, 4.578642964467227], \"yaxis\": \"y3\"}, {\"hovertemplate\": \"class=5<br>subject=Science<br>subject=Science<br>year=%{x}<br>total_delta=%{y}<br>studentCount=%{marker.size}<extra></extra>\", \"legendgroup\": \"subject=Science\", \"marker\": {\"color\": \"#00cc96\", \"size\": [12, 74, 75, 107, 105, 113], \"sizemode\": \"area\", \"sizeref\": 1.15, \"symbol\": \"circle\"}, \"mode\": \"markers\", \"name\": \"subject=Science\", \"showlegend\": false, \"type\": \"scatter\", \"uid\": \"83f62297-e891-43d6-9b6d-29c1d136bd85\", \"x\": [\"2007\", \"2008\", \"2009\", \"2014\", \"2016\", \"2018\"], \"xaxis\": \"x3\", \"y\": [6.780000000000001, -1.2299999999999969, 4.270000000000003, 3.1999999999999957, -0.8999999999999986, 0.75], \"yaxis\": \"y3\"}, {\"hovertemplate\": \"<b>LOWESS trendline</b><br><br>class=5<br>subject=Science<br>subject=Science<br>year=%{x}<br>total_delta=%{y} <b>(trend)</b><extra></extra>\", \"legendgroup\": \"subject=Science\", \"marker\": {\"color\": \"#00cc96\", \"symbol\": \"circle\"}, \"mode\": \"lines\", \"name\": \"subject=Science\", \"showlegend\": false, \"type\": \"scatter\", \"uid\": \"654ee92d-9dce-4312-aef8-422851bdd446\", \"x\": [2007.0, 2008.0, 2009.0, 2014.0, 2016.0, 2018.0], \"xaxis\": \"x3\", \"y\": [5.219412175534799, 3.9266408779042767, 2.75873836416023, 2.81482355620142, 1.0113355481052049, -0.11105625124443308], \"yaxis\": \"y3\"}, {\"hovertemplate\": \"class=5<br>subject=Hindi<br>subject=Hindi<br>year=%{x}<br>total_delta=%{y}<br>studentCount=%{marker.size}<extra></extra>\", \"legendgroup\": \"subject=Hindi\", \"marker\": {\"color\": \"#ab63fa\", \"size\": [2, 65], \"sizemode\": \"area\", \"sizeref\": 1.15, \"symbol\": \"circle\"}, \"mode\": \"markers\", \"name\": \"subject=Hindi\", \"showlegend\": false, \"type\": \"scatter\", \"uid\": \"e0860a30-c6d7-45cb-b2c4-47f1345ce3ff\", \"x\": [\"2007\", \"2009\"], \"xaxis\": \"x4\", \"y\": [5.410000000000004, 5.769999999999996], \"yaxis\": \"y3\"}, {\"hovertemplate\": \"<b>LOWESS trendline</b><br><br>class=5<br>subject=Hindi<br>subject=Hindi<br>year=%{x}<br>total_delta=%{y} <b>(trend)</b><extra></extra>\", \"legendgroup\": \"subject=Hindi\", \"marker\": {\"color\": \"#ab63fa\", \"symbol\": \"circle\"}, \"mode\": \"lines\", \"name\": \"subject=Hindi\", \"showlegend\": false, \"type\": \"scatter\", \"uid\": \"d9b14c6a-7a9c-48b0-8ad0-48f8b52136e6\", \"x\": [2007.0, 2009.0], \"xaxis\": \"x4\", \"y\": [5.410000000000004, 5.769999999999996], \"yaxis\": \"y3\"}, {\"hovertemplate\": \"class=5<br>subject=Social Studies<br>subject=Social Studies<br>year=%{x}<br>total_delta=%{y}<br>studentCount=%{marker.size}<extra></extra>\", \"legendgroup\": \"subject=Social Studies\", \"marker\": {\"color\": \"#19d3f3\", \"size\": [2], \"sizemode\": \"area\", \"sizeref\": 1.15, \"symbol\": \"circle\"}, \"mode\": \"markers\", \"name\": \"subject=Social Studies\", \"showlegend\": true, \"type\": \"scatter\", \"uid\": \"4055d122-dfce-44fc-8b62-2ab0e9dc0f70\", \"x\": [\"2007\"], \"xaxis\": \"x5\", \"y\": [-7.770000000000003], \"yaxis\": \"y3\"}, {\"hovertemplate\": \"class=5<br>subject=Social Studies<br>subject=Social Studies<extra></extra>\", \"legendgroup\": \"subject=Social Studies\", \"marker\": {\"color\": \"#19d3f3\", \"symbol\": \"circle\"}, \"mode\": \"lines\", \"name\": \"subject=Social Studies\", \"showlegend\": false, \"type\": \"scatter\", \"uid\": \"e2f9aec6-55aa-4bcc-a979-26b95a23b813\", \"xaxis\": \"x5\", \"yaxis\": \"y3\"}, {\"hovertemplate\": \"class=6<br>subject=English<br>subject=English<br>year=%{x}<br>total_delta=%{y}<br>studentCount=%{marker.size}<extra></extra>\", \"legendgroup\": \"subject=English\", \"marker\": {\"color\": \"#636efa\", \"size\": [17, 75, 82, 97, 107], \"sizemode\": \"area\", \"sizeref\": 1.15, \"symbol\": \"circle\"}, \"mode\": \"markers\", \"name\": \"subject=English\", \"showlegend\": false, \"type\": \"scatter\", \"uid\": \"b583d31c-801d-44ec-b3c2-0b56bb88db51\", \"x\": [\"2007\", \"2008\", \"2014\", \"2016\", \"2018\"], \"xaxis\": \"x\", \"y\": [28.379999999999995, 14.719999999999999, 12.64, 10.399999999999999, 20.36], \"yaxis\": \"y4\"}, {\"hovertemplate\": \"<b>LOWESS trendline</b><br><br>class=6<br>subject=English<br>subject=English<br>year=%{x}<br>total_delta=%{y} <b>(trend)</b><extra></extra>\", \"legendgroup\": \"subject=English\", \"marker\": {\"color\": \"#636efa\", \"symbol\": \"circle\"}, \"mode\": \"lines\", \"name\": \"subject=English\", \"showlegend\": false, \"type\": \"scatter\", \"uid\": \"ed9cffb9-4d87-45b0-8300-6701c1d1c6d1\", \"x\": [2007.0, 2008.0, 2014.0, 2016.0, 2018.0], \"xaxis\": \"x\", \"y\": [28.380000000012043, 14.720000000006515, 12.64, 10.399999999999999, 20.36], \"yaxis\": \"y4\"}, {\"hovertemplate\": \"class=6<br>subject=Maths<br>subject=Maths<br>year=%{x}<br>total_delta=%{y}<br>studentCount=%{marker.size}<extra></extra>\", \"legendgroup\": \"subject=Maths\", \"marker\": {\"color\": \"#EF553B\", \"size\": [17, 74, 79, 82, 100, 111], \"sizemode\": \"area\", \"sizeref\": 1.15, \"symbol\": \"circle\"}, \"mode\": \"markers\", \"name\": \"subject=Maths\", \"showlegend\": false, \"type\": \"scatter\", \"uid\": \"89a89bf6-29bf-42b4-a112-edd5f400311d\", \"x\": [\"2007\", \"2008\", \"2009\", \"2014\", \"2016\", \"2018\"], \"xaxis\": \"x2\", \"y\": [14.5, 5.390000000000001, 3.9299999999999997, 7.579999999999998, 3.510000000000005, 8.71], \"yaxis\": \"y4\"}, {\"hovertemplate\": \"<b>LOWESS trendline</b><br><br>class=6<br>subject=Maths<br>subject=Maths<br>year=%{x}<br>total_delta=%{y} <b>(trend)</b><extra></extra>\", \"legendgroup\": \"subject=Maths\", \"marker\": {\"color\": \"#EF553B\", \"symbol\": \"circle\"}, \"mode\": \"lines\", \"name\": \"subject=Maths\", \"showlegend\": false, \"type\": \"scatter\", \"uid\": \"c16e9524-2f49-4616-b0de-826526297291\", \"x\": [2007.0, 2008.0, 2009.0, 2014.0, 2016.0, 2018.0], \"xaxis\": \"x2\", \"y\": [13.520344778788745, 8.211188153868882, 2.9824403955931444, 7.105780541219439, 7.129678180218622, 7.782668258669388], \"yaxis\": \"y4\"}, {\"hovertemplate\": \"class=6<br>subject=Science<br>subject=Science<br>year=%{x}<br>total_delta=%{y}<br>studentCount=%{marker.size}<extra></extra>\", \"legendgroup\": \"subject=Science\", \"marker\": {\"color\": \"#00cc96\", \"size\": [17, 73, 79, 82, 100, 111], \"sizemode\": \"area\", \"sizeref\": 1.15, \"symbol\": \"circle\"}, \"mode\": \"markers\", \"name\": \"subject=Science\", \"showlegend\": false, \"type\": \"scatter\", \"uid\": \"6095912b-074d-42c4-afe5-997808dc25cd\", \"x\": [\"2007\", \"2008\", \"2009\", \"2014\", \"2016\", \"2018\"], \"xaxis\": \"x3\", \"y\": [10.82, 5.779999999999994, 1.3200000000000003, 5.239999999999995, 3.450000000000003, 5.220000000000006], \"yaxis\": \"y4\"}, {\"hovertemplate\": \"<b>LOWESS trendline</b><br><br>class=6<br>subject=Science<br>subject=Science<br>year=%{x}<br>total_delta=%{y} <b>(trend)</b><extra></extra>\", \"legendgroup\": \"subject=Science\", \"marker\": {\"color\": \"#00cc96\", \"symbol\": \"circle\"}, \"mode\": \"lines\", \"name\": \"subject=Science\", \"showlegend\": false, \"type\": \"scatter\", \"uid\": \"9805448e-5b35-4f48-816f-9131cbb46575\", \"x\": [2007.0, 2008.0, 2009.0, 2014.0, 2016.0, 2018.0], \"xaxis\": \"x3\", \"y\": [10.744958990784628, 5.99311963588553, 1.2474542193007383, 5.240000000000087, 5.23, 5.220000000000077], \"yaxis\": \"y4\"}, {\"hovertemplate\": \"class=6<br>subject=Hindi<br>subject=Hindi<br>year=%{x}<br>total_delta=%{y}<br>studentCount=%{marker.size}<extra></extra>\", \"legendgroup\": \"subject=Hindi\", \"marker\": {\"color\": \"#ab63fa\", \"size\": [5, 72], \"sizemode\": \"area\", \"sizeref\": 1.15, \"symbol\": \"circle\"}, \"mode\": \"markers\", \"name\": \"subject=Hindi\", \"showlegend\": false, \"type\": \"scatter\", \"uid\": \"a1d6f7bb-19d3-4264-b2a3-aad709c2e174\", \"x\": [\"2007\", \"2009\"], \"xaxis\": \"x4\", \"y\": [16.489999999999995, 8.130000000000003], \"yaxis\": \"y4\"}, {\"hovertemplate\": \"<b>LOWESS trendline</b><br><br>class=6<br>subject=Hindi<br>subject=Hindi<br>year=%{x}<br>total_delta=%{y} <b>(trend)</b><extra></extra>\", \"legendgroup\": \"subject=Hindi\", \"marker\": {\"color\": \"#ab63fa\", \"symbol\": \"circle\"}, \"mode\": \"lines\", \"name\": \"subject=Hindi\", \"showlegend\": false, \"type\": \"scatter\", \"uid\": \"64166eb0-19bf-4d6a-a60c-376fb7a3df08\", \"x\": [2007.0, 2009.0], \"xaxis\": \"x4\", \"y\": [16.489999999999995, 8.130000000000003], \"yaxis\": \"y4\"}, {\"hovertemplate\": \"class=6<br>subject=Social Studies<br>subject=Social Studies<br>year=%{x}<br>total_delta=%{y}<br>studentCount=%{marker.size}<extra></extra>\", \"legendgroup\": \"subject=Social Studies\", \"marker\": {\"color\": \"#19d3f3\", \"size\": [5], \"sizemode\": \"area\", \"sizeref\": 1.15, \"symbol\": \"circle\"}, \"mode\": \"markers\", \"name\": \"subject=Social Studies\", \"showlegend\": false, \"type\": \"scatter\", \"uid\": \"1b6ad664-dbca-4f7c-8226-2789528c1266\", \"x\": [\"2007\"], \"xaxis\": \"x5\", \"y\": [7.579999999999998], \"yaxis\": \"y4\"}, {\"hovertemplate\": \"class=6<br>subject=Social Studies<br>subject=Social Studies<extra></extra>\", \"legendgroup\": \"subject=Social Studies\", \"marker\": {\"color\": \"#19d3f3\", \"symbol\": \"circle\"}, \"mode\": \"lines\", \"name\": \"subject=Social Studies\", \"showlegend\": false, \"type\": \"scatter\", \"uid\": \"5335f36b-3671-4b12-a11d-f4bd2d298cdc\", \"xaxis\": \"x5\", \"yaxis\": \"y4\"}, {\"hovertemplate\": \"class=7<br>subject=English<br>subject=English<br>year=%{x}<br>total_delta=%{y}<br>studentCount=%{marker.size}<extra></extra>\", \"legendgroup\": \"subject=English\", \"marker\": {\"color\": \"#636efa\", \"size\": [4, 46, 78, 96, 110], \"sizemode\": \"area\", \"sizeref\": 1.15, \"symbol\": \"circle\"}, \"mode\": \"markers\", \"name\": \"subject=English\", \"showlegend\": false, \"type\": \"scatter\", \"uid\": \"59774db4-907d-43fc-b58f-26274a2b1511\", \"x\": [\"2007\", \"2008\", \"2014\", \"2016\", \"2018\"], \"xaxis\": \"x\", \"y\": [16.61, 19.400000000000006, 14.389999999999993, 13.690000000000005, 21.700000000000003], \"yaxis\": \"y5\"}, {\"hovertemplate\": \"<b>LOWESS trendline</b><br><br>class=7<br>subject=English<br>subject=English<br>year=%{x}<br>total_delta=%{y} <b>(trend)</b><extra></extra>\", \"legendgroup\": \"subject=English\", \"marker\": {\"color\": \"#636efa\", \"symbol\": \"circle\"}, \"mode\": \"lines\", \"name\": \"subject=English\", \"showlegend\": false, \"type\": \"scatter\", \"uid\": \"71abcffe-bfb1-47b0-9afb-bc818d78c7d0\", \"x\": [2007.0, 2008.0, 2014.0, 2016.0, 2018.0], \"xaxis\": \"x\", \"y\": [16.61, 19.400000000000006, 14.390000000001788, 13.690000000000005, 21.700000000002877], \"yaxis\": \"y5\"}, {\"hovertemplate\": \"class=7<br>subject=Maths<br>subject=Maths<br>year=%{x}<br>total_delta=%{y}<br>studentCount=%{marker.size}<extra></extra>\", \"legendgroup\": \"subject=Maths\", \"marker\": {\"color\": \"#EF553B\", \"size\": [4, 45, 74, 78, 99, 114], \"sizemode\": \"area\", \"sizeref\": 1.15, \"symbol\": \"circle\"}, \"mode\": \"markers\", \"name\": \"subject=Maths\", \"showlegend\": false, \"type\": \"scatter\", \"uid\": \"f2181e56-9fa4-4ab9-8f96-8f26a26845d7\", \"x\": [\"2007\", \"2008\", \"2009\", \"2014\", \"2016\", \"2018\"], \"xaxis\": \"x2\", \"y\": [15.150000000000006, 13.719999999999999, 8.579999999999998, 12.670000000000002, 7.219999999999999, 6.0], \"yaxis\": \"y5\"}, {\"hovertemplate\": \"<b>LOWESS trendline</b><br><br>class=7<br>subject=Maths<br>subject=Maths<br>year=%{x}<br>total_delta=%{y} <b>(trend)</b><extra></extra>\", \"legendgroup\": \"subject=Maths\", \"marker\": {\"color\": \"#EF553B\", \"symbol\": \"circle\"}, \"mode\": \"lines\", \"name\": \"subject=Maths\", \"showlegend\": false, \"type\": \"scatter\", \"uid\": \"c93c4d30-7eb7-4ccc-95eb-88000f186de0\", \"x\": [2007.0, 2008.0, 2009.0, 2014.0, 2016.0, 2018.0], \"xaxis\": \"x2\", \"y\": [15.615236387305119, 12.341655368715909, 9.030092717202855, 12.446393640625875, 8.846918108592378, 5.554596098256156], \"yaxis\": \"y5\"}, {\"hovertemplate\": \"class=7<br>subject=Science<br>subject=Science<br>year=%{x}<br>total_delta=%{y}<br>studentCount=%{marker.size}<extra></extra>\", \"legendgroup\": \"subject=Science\", \"marker\": {\"color\": \"#00cc96\", \"size\": [4, 46, 74, 78, 100, 115], \"sizemode\": \"area\", \"sizeref\": 1.15, \"symbol\": \"circle\"}, \"mode\": \"markers\", \"name\": \"subject=Science\", \"showlegend\": false, \"type\": \"scatter\", \"uid\": \"d2f6e7a7-4c7b-4645-abde-316d2b462fa2\", \"x\": [\"2007\", \"2008\", \"2009\", \"2014\", \"2016\", \"2018\"], \"xaxis\": \"x3\", \"y\": [7.799999999999997, 8.470000000000006, 4.1200000000000045, 5.160000000000004, 4.949999999999996, 8.639999999999993], \"yaxis\": \"y5\"}, {\"hovertemplate\": \"<b>LOWESS trendline</b><br><br>class=7<br>subject=Science<br>subject=Science<br>year=%{x}<br>total_delta=%{y} <b>(trend)</b><extra></extra>\", \"legendgroup\": \"subject=Science\", \"marker\": {\"color\": \"#00cc96\", \"symbol\": \"circle\"}, \"mode\": \"lines\", \"name\": \"subject=Science\", \"showlegend\": false, \"type\": \"scatter\", \"uid\": \"c7818f96-b579-42f7-89c5-7129adc1124b\", \"x\": [2007.0, 2008.0, 2009.0, 2014.0, 2016.0, 2018.0], \"xaxis\": \"x3\", \"y\": [8.39753054757808, 6.57204062804993, 4.69839706490648, 4.918383418647233, 6.318496449869433, 8.114192599791666], \"yaxis\": \"y5\"}, {\"hovertemplate\": \"class=7<br>subject=Hindi<br>subject=Hindi<br>year=%{x}<br>total_delta=%{y}<br>studentCount=%{marker.size}<extra></extra>\", \"legendgroup\": \"subject=Hindi\", \"marker\": {\"color\": \"#ab63fa\", \"size\": [1, 68], \"sizemode\": \"area\", \"sizeref\": 1.15, \"symbol\": \"circle\"}, \"mode\": \"markers\", \"name\": \"subject=Hindi\", \"showlegend\": false, \"type\": \"scatter\", \"uid\": \"0c380218-88ca-47f6-a0fb-e34319482b6b\", \"x\": [\"2007\", \"2009\"], \"xaxis\": \"x4\", \"y\": [10.769999999999996, 9.840000000000003], \"yaxis\": \"y5\"}, {\"hovertemplate\": \"<b>LOWESS trendline</b><br><br>class=7<br>subject=Hindi<br>subject=Hindi<br>year=%{x}<br>total_delta=%{y} <b>(trend)</b><extra></extra>\", \"legendgroup\": \"subject=Hindi\", \"marker\": {\"color\": \"#ab63fa\", \"symbol\": \"circle\"}, \"mode\": \"lines\", \"name\": \"subject=Hindi\", \"showlegend\": false, \"type\": \"scatter\", \"uid\": \"c3bbdd1e-93f3-468e-924a-0e4d0e491f37\", \"x\": [2007.0, 2009.0], \"xaxis\": \"x4\", \"y\": [10.769999999999996, 9.840000000000003], \"yaxis\": \"y5\"}, {\"hovertemplate\": \"class=7<br>subject=Social Studies<br>subject=Social Studies<br>year=%{x}<br>total_delta=%{y}<br>studentCount=%{marker.size}<extra></extra>\", \"legendgroup\": \"subject=Social Studies\", \"marker\": {\"color\": \"#19d3f3\", \"size\": [1], \"sizemode\": \"area\", \"sizeref\": 1.15, \"symbol\": \"circle\"}, \"mode\": \"markers\", \"name\": \"subject=Social Studies\", \"showlegend\": false, \"type\": \"scatter\", \"uid\": \"d4a90952-1b2e-437a-b610-243120ea7e6d\", \"x\": [\"2007\"], \"xaxis\": \"x5\", \"y\": [5.1200000000000045], \"yaxis\": \"y5\"}, {\"hovertemplate\": \"class=7<br>subject=Social Studies<br>subject=Social Studies<extra></extra>\", \"legendgroup\": \"subject=Social Studies\", \"marker\": {\"color\": \"#19d3f3\", \"symbol\": \"circle\"}, \"mode\": \"lines\", \"name\": \"subject=Social Studies\", \"showlegend\": false, \"type\": \"scatter\", \"uid\": \"a93e330b-ba95-4465-a7b3-622a19367b45\", \"xaxis\": \"x5\", \"yaxis\": \"y5\"}, {\"hovertemplate\": \"class=8<br>subject=English<br>subject=English<br>year=%{x}<br>total_delta=%{y}<br>studentCount=%{marker.size}<extra></extra>\", \"legendgroup\": \"subject=English\", \"marker\": {\"color\": \"#636efa\", \"size\": [15, 54, 76, 72, 96], \"sizemode\": \"area\", \"sizeref\": 1.15, \"symbol\": \"circle\"}, \"mode\": \"markers\", \"name\": \"subject=English\", \"showlegend\": false, \"type\": \"scatter\", \"uid\": \"1f5be04d-84ab-4df5-8517-9f9420bb962a\", \"x\": [\"2007\", \"2008\", \"2014\", \"2016\", \"2018\"], \"xaxis\": \"x\", \"y\": [27.71, 17.119999999999997, 13.170000000000002, 9.149999999999999, 18.66000000000001], \"yaxis\": \"y6\"}, {\"hovertemplate\": \"<b>LOWESS trendline</b><br><br>class=8<br>subject=English<br>subject=English<br>year=%{x}<br>total_delta=%{y} <b>(trend)</b><extra></extra>\", \"legendgroup\": \"subject=English\", \"marker\": {\"color\": \"#636efa\", \"symbol\": \"circle\"}, \"mode\": \"lines\", \"name\": \"subject=English\", \"showlegend\": false, \"type\": \"scatter\", \"uid\": \"76e13aac-62f5-4a41-ba33-a14ffa2034e4\", \"x\": [2007.0, 2008.0, 2014.0, 2016.0, 2018.0], \"xaxis\": \"x\", \"y\": [27.71, 17.119999999999997, 13.170000000001156, 9.149999999999999, 18.659999999999613], \"yaxis\": \"y6\"}, {\"hovertemplate\": \"class=8<br>subject=Maths<br>subject=Maths<br>year=%{x}<br>total_delta=%{y}<br>studentCount=%{marker.size}<extra></extra>\", \"legendgroup\": \"subject=Maths\", \"marker\": {\"color\": \"#EF553B\", \"size\": [13, 52, 46, 77, 76, 103], \"sizemode\": \"area\", \"sizeref\": 1.15, \"symbol\": \"circle\"}, \"mode\": \"markers\", \"name\": \"subject=Maths\", \"showlegend\": false, \"type\": \"scatter\", \"uid\": \"ef0ea1ef-74c3-4214-9914-76a26ffcf474\", \"x\": [\"2007\", \"2008\", \"2009\", \"2014\", \"2016\", \"2018\"], \"xaxis\": \"x2\", \"y\": [20.309999999999995, 9.450000000000003, 17.389999999999993, 7.090000000000003, 1.7099999999999937, 2.490000000000002], \"yaxis\": \"y6\"}, {\"hovertemplate\": \"<b>LOWESS trendline</b><br><br>class=8<br>subject=Maths<br>subject=Maths<br>year=%{x}<br>total_delta=%{y} <b>(trend)</b><extra></extra>\", \"legendgroup\": \"subject=Maths\", \"marker\": {\"color\": \"#EF553B\", \"symbol\": \"circle\"}, \"mode\": \"lines\", \"name\": \"subject=Maths\", \"showlegend\": false, \"type\": \"scatter\", \"uid\": \"68fb7c8d-fd5f-40eb-ac43-5b152cb24f18\", \"x\": [2007.0, 2008.0, 2009.0, 2014.0, 2016.0, 2018.0], \"xaxis\": \"x2\", \"y\": [18.6300438236583, 17.13064515990333, 15.758454756364412, 6.674781878837016, 3.748625226021714, 1.5606883503939626], \"yaxis\": \"y6\"}, {\"hovertemplate\": \"class=8<br>subject=Science<br>subject=Science<br>year=%{x}<br>total_delta=%{y}<br>studentCount=%{marker.size}<extra></extra>\", \"legendgroup\": \"subject=Science\", \"marker\": {\"color\": \"#00cc96\", \"size\": [14, 54, 48, 77, 78, 104], \"sizemode\": \"area\", \"sizeref\": 1.15, \"symbol\": \"circle\"}, \"mode\": \"markers\", \"name\": \"subject=Science\", \"showlegend\": false, \"type\": \"scatter\", \"uid\": \"97fe231d-9a60-4e6e-8d5a-0921098ce65c\", \"x\": [\"2007\", \"2008\", \"2009\", \"2014\", \"2016\", \"2018\"], \"xaxis\": \"x3\", \"y\": [15.32, 11.089999999999996, 14.419999999999995, 6.609999999999999, 1.4099999999999966, -5.009999999999998], \"yaxis\": \"y6\"}, {\"hovertemplate\": \"<b>LOWESS trendline</b><br><br>class=8<br>subject=Science<br>subject=Science<br>year=%{x}<br>total_delta=%{y} <b>(trend)</b><extra></extra>\", \"legendgroup\": \"subject=Science\", \"marker\": {\"color\": \"#00cc96\", \"symbol\": \"circle\"}, \"mode\": \"lines\", \"name\": \"subject=Science\", \"showlegend\": false, \"type\": \"scatter\", \"uid\": \"c348112d-5ae2-42a9-899f-13b6c5adc8c8\", \"x\": [2007.0, 2008.0, 2009.0, 2014.0, 2016.0, 2018.0], \"xaxis\": \"x3\", \"y\": [15.319999999995924, 14.870000000000005, 14.419999999999268, 6.690134095074795, 0.9993260874919505, -4.8310764141045786], \"yaxis\": \"y6\"}, {\"hovertemplate\": \"class=8<br>subject=Hindi<br>subject=Hindi<br>year=%{x}<br>total_delta=%{y}<br>studentCount=%{marker.size}<extra></extra>\", \"legendgroup\": \"subject=Hindi\", \"marker\": {\"color\": \"#ab63fa\", \"size\": [8, 41], \"sizemode\": \"area\", \"sizeref\": 1.15, \"symbol\": \"circle\"}, \"mode\": \"markers\", \"name\": \"subject=Hindi\", \"showlegend\": false, \"type\": \"scatter\", \"uid\": \"95bb2fce-b84f-46f0-8072-4f85014ccc10\", \"x\": [\"2007\", \"2009\"], \"xaxis\": \"x4\", \"y\": [24.189999999999998, 15.980000000000004], \"yaxis\": \"y6\"}, {\"hovertemplate\": \"<b>LOWESS trendline</b><br><br>class=8<br>subject=Hindi<br>subject=Hindi<br>year=%{x}<br>total_delta=%{y} <b>(trend)</b><extra></extra>\", \"legendgroup\": \"subject=Hindi\", \"marker\": {\"color\": \"#ab63fa\", \"symbol\": \"circle\"}, \"mode\": \"lines\", \"name\": \"subject=Hindi\", \"showlegend\": false, \"type\": \"scatter\", \"uid\": \"3ff3a1b5-7430-441f-94a2-1d8e4f995f92\", \"x\": [2007.0, 2009.0], \"xaxis\": \"x4\", \"y\": [24.189999999999998, 15.980000000000004], \"yaxis\": \"y6\"}, {\"hovertemplate\": \"class=8<br>subject=Social Studies<br>subject=Social Studies<br>year=%{x}<br>total_delta=%{y}<br>studentCount=%{marker.size}<extra></extra>\", \"legendgroup\": \"subject=Social Studies\", \"marker\": {\"color\": \"#19d3f3\", \"size\": [12], \"sizemode\": \"area\", \"sizeref\": 1.15, \"symbol\": \"circle\"}, \"mode\": \"markers\", \"name\": \"subject=Social Studies\", \"showlegend\": false, \"type\": \"scatter\", \"uid\": \"58897a2c-0850-4ecc-9bfe-92ad8dcd6163\", \"x\": [\"2007\"], \"xaxis\": \"x5\", \"y\": [10.350000000000001], \"yaxis\": \"y6\"}, {\"hovertemplate\": \"class=8<br>subject=Social Studies<br>subject=Social Studies<extra></extra>\", \"legendgroup\": \"subject=Social Studies\", \"marker\": {\"color\": \"#19d3f3\", \"symbol\": \"circle\"}, \"mode\": \"lines\", \"name\": \"subject=Social Studies\", \"showlegend\": false, \"type\": \"scatter\", \"uid\": \"3dbd3ee1-7c79-4da4-9fed-d401e3a1d5ef\", \"xaxis\": \"x5\", \"yaxis\": \"y6\"}, {\"hovertemplate\": \"class=9<br>subject=English<br>subject=English<br>year=%{x}<br>total_delta=%{y}<br>studentCount=%{marker.size}<extra></extra>\", \"legendgroup\": \"subject=English\", \"marker\": {\"color\": \"#636efa\", \"size\": [10, 73, 64, 98], \"sizemode\": \"area\", \"sizeref\": 1.15, \"symbol\": \"circle\"}, \"mode\": \"markers\", \"name\": \"subject=English\", \"showlegend\": false, \"type\": \"scatter\", \"uid\": \"fdab2d03-eb93-46fe-a020-cb801a3649f4\", \"x\": [\"2007\", \"2014\", \"2016\", \"2018\"], \"xaxis\": \"x\", \"y\": [17.79, 14.519999999999996, 18.960000000000008, 23.840000000000003], \"yaxis\": \"y7\"}, {\"hovertemplate\": \"<b>LOWESS trendline</b><br><br>class=9<br>subject=English<br>subject=English<br>year=%{x}<br>total_delta=%{y} <b>(trend)</b><extra></extra>\", \"legendgroup\": \"subject=English\", \"marker\": {\"color\": \"#636efa\", \"symbol\": \"circle\"}, \"mode\": \"lines\", \"name\": \"subject=English\", \"showlegend\": false, \"type\": \"scatter\", \"uid\": \"c41c902d-511f-44e2-bb3f-64cb4cbb876f\", \"x\": [2007.0, 2014.0, 2016.0, 2018.0], \"xaxis\": \"x\", \"y\": [17.79, 14.519999999999996, 18.960000000000008, 23.840000000000003], \"yaxis\": \"y7\"}, {\"hovertemplate\": \"class=9<br>subject=Maths<br>subject=Maths<br>year=%{x}<br>total_delta=%{y}<br>studentCount=%{marker.size}<extra></extra>\", \"legendgroup\": \"subject=Maths\", \"marker\": {\"color\": \"#EF553B\", \"size\": [10, 40, 73, 73, 99], \"sizemode\": \"area\", \"sizeref\": 1.15, \"symbol\": \"circle\"}, \"mode\": \"markers\", \"name\": \"subject=Maths\", \"showlegend\": false, \"type\": \"scatter\", \"uid\": \"d1f07351-dbda-47a6-ba46-4ea46c6b0882\", \"x\": [\"2007\", \"2008\", \"2014\", \"2016\", \"2018\"], \"xaxis\": \"x2\", \"y\": [13.89, 6.219999999999999, 4.240000000000002, 6.100000000000001, 5.289999999999999], \"yaxis\": \"y7\"}, {\"hovertemplate\": \"<b>LOWESS trendline</b><br><br>class=9<br>subject=Maths<br>subject=Maths<br>year=%{x}<br>total_delta=%{y} <b>(trend)</b><extra></extra>\", \"legendgroup\": \"subject=Maths\", \"marker\": {\"color\": \"#EF553B\", \"symbol\": \"circle\"}, \"mode\": \"lines\", \"name\": \"subject=Maths\", \"showlegend\": false, \"type\": \"scatter\", \"uid\": \"b623001b-9b81-4c8f-966e-01632ed9b755\", \"x\": [2007.0, 2008.0, 2014.0, 2016.0, 2018.0], \"xaxis\": \"x2\", \"y\": [13.89, 6.219999999999999, 4.24000000000048, 6.100000000000001, 5.290000000000632], \"yaxis\": \"y7\"}, {\"hovertemplate\": \"class=9<br>subject=Science<br>subject=Science<br>year=%{x}<br>total_delta=%{y}<br>studentCount=%{marker.size}<extra></extra>\", \"legendgroup\": \"subject=Science\", \"marker\": {\"color\": \"#00cc96\", \"size\": [10, 42, 51, 73, 74, 92], \"sizemode\": \"area\", \"sizeref\": 1.15, \"symbol\": \"circle\"}, \"mode\": \"markers\", \"name\": \"subject=Science\", \"showlegend\": false, \"type\": \"scatter\", \"uid\": \"441db9f9-2a9f-42c6-b8e7-d8665a3153ad\", \"x\": [\"2007\", \"2008\", \"2009\", \"2014\", \"2016\", \"2018\"], \"xaxis\": \"x3\", \"y\": [9.240000000000002, 9.959999999999994, 7.5, 4.07, 2.5900000000000034, 5.759999999999998], \"yaxis\": \"y7\"}, {\"hovertemplate\": \"<b>LOWESS trendline</b><br><br>class=9<br>subject=Science<br>subject=Science<br>year=%{x}<br>total_delta=%{y} <b>(trend)</b><extra></extra>\", \"legendgroup\": \"subject=Science\", \"marker\": {\"color\": \"#00cc96\", \"symbol\": \"circle\"}, \"mode\": \"lines\", \"name\": \"subject=Science\", \"showlegend\": false, \"type\": \"scatter\", \"uid\": \"6c70c0d6-57a0-4341-a369-c49122f3dbb9\", \"x\": [2007.0, 2008.0, 2009.0, 2014.0, 2016.0, 2018.0], \"xaxis\": \"x3\", \"y\": [9.66668506667317, 8.807322353085876, 7.912506202482695, 3.868849184882861, 4.520168604930892, 5.398377360382335], \"yaxis\": \"y7\"}, {\"hovertemplate\": \"class=9<br>subject=Social Studies<br>subject=Social Studies<br>year=%{x}<br>total_delta=%{y}<br>studentCount=%{marker.size}<extra></extra>\", \"legendgroup\": \"subject=Social Studies\", \"marker\": {\"color\": \"#19d3f3\", \"size\": [2], \"sizemode\": \"area\", \"sizeref\": 1.15, \"symbol\": \"circle\"}, \"mode\": \"markers\", \"name\": \"subject=Social Studies\", \"showlegend\": false, \"type\": \"scatter\", \"uid\": \"eb169ef2-0949-4d1d-b6fb-9860f415b96e\", \"x\": [\"2007\"], \"xaxis\": \"x5\", \"y\": [11.309999999999995], \"yaxis\": \"y7\"}, {\"hovertemplate\": \"class=9<br>subject=Social Studies<br>subject=Social Studies<extra></extra>\", \"legendgroup\": \"subject=Social Studies\", \"marker\": {\"color\": \"#19d3f3\", \"symbol\": \"circle\"}, \"mode\": \"lines\", \"name\": \"subject=Social Studies\", \"showlegend\": false, \"type\": \"scatter\", \"uid\": \"881ef67f-5ba4-490a-8b37-ec3edfbe4f64\", \"xaxis\": \"x5\", \"yaxis\": \"y7\"}, {\"hovertemplate\": \"class=10<br>subject=English<br>subject=English<br>year=%{x}<br>total_delta=%{y}<br>studentCount=%{marker.size}<extra></extra>\", \"legendgroup\": \"subject=English\", \"marker\": {\"color\": \"#636efa\", \"size\": [48, 73, 60], \"sizemode\": \"area\", \"sizeref\": 1.15, \"symbol\": \"circle\"}, \"mode\": \"markers\", \"name\": \"subject=English\", \"showlegend\": false, \"type\": \"scatter\", \"uid\": \"2027cfae-cddb-423a-b8bd-4eff27eb8d54\", \"x\": [\"2008\", \"2014\", \"2016\"], \"xaxis\": \"x\", \"y\": [17.549999999999997, 14.509999999999998, 14.5], \"yaxis\": \"y8\"}, {\"hovertemplate\": \"<b>LOWESS trendline</b><br><br>class=10<br>subject=English<br>subject=English<br>year=%{x}<br>total_delta=%{y} <b>(trend)</b><extra></extra>\", \"legendgroup\": \"subject=English\", \"marker\": {\"color\": \"#636efa\", \"symbol\": \"circle\"}, \"mode\": \"lines\", \"name\": \"subject=English\", \"showlegend\": false, \"type\": \"scatter\", \"uid\": \"b0351f17-974f-49da-81bc-04ff31e6be91\", \"x\": [2008.0, 2014.0, 2016.0], \"xaxis\": \"x\", \"y\": [17.549999999999997, 14.509999999999998, 14.5], \"yaxis\": \"y8\"}, {\"hovertemplate\": \"class=10<br>subject=Maths<br>subject=Maths<br>year=%{x}<br>total_delta=%{y}<br>studentCount=%{marker.size}<extra></extra>\", \"legendgroup\": \"subject=Maths\", \"marker\": {\"color\": \"#EF553B\", \"size\": [43, 73, 67], \"sizemode\": \"area\", \"sizeref\": 1.15, \"symbol\": \"circle\"}, \"mode\": \"markers\", \"name\": \"subject=Maths\", \"showlegend\": false, \"type\": \"scatter\", \"uid\": \"adb73579-2f93-47c8-9c56-94f274105488\", \"x\": [\"2009\", \"2014\", \"2016\"], \"xaxis\": \"x2\", \"y\": [13.800000000000004, -0.03999999999999915, 5.050000000000004], \"yaxis\": \"y8\"}, {\"hovertemplate\": \"<b>LOWESS trendline</b><br><br>class=10<br>subject=Maths<br>subject=Maths<br>year=%{x}<br>total_delta=%{y} <b>(trend)</b><extra></extra>\", \"legendgroup\": \"subject=Maths\", \"marker\": {\"color\": \"#EF553B\", \"symbol\": \"circle\"}, \"mode\": \"lines\", \"name\": \"subject=Maths\", \"showlegend\": false, \"type\": \"scatter\", \"uid\": \"27035fd3-7c3b-41fb-a02a-1f50e5d16ab9\", \"x\": [2009.0, 2014.0, 2016.0], \"xaxis\": \"x2\", \"y\": [13.800000000000004, -0.03999999999999915, 5.050000000000004], \"yaxis\": \"y8\"}, {\"hovertemplate\": \"class=10<br>subject=Science<br>subject=Science<br>year=%{x}<br>total_delta=%{y}<br>studentCount=%{marker.size}<extra></extra>\", \"legendgroup\": \"subject=Science\", \"marker\": {\"color\": \"#00cc96\", \"size\": [73, 67], \"sizemode\": \"area\", \"sizeref\": 1.15, \"symbol\": \"circle\"}, \"mode\": \"markers\", \"name\": \"subject=Science\", \"showlegend\": false, \"type\": \"scatter\", \"uid\": \"16f77a06-0c83-4f2b-9d8a-85ec57abdbcb\", \"x\": [\"2014\", \"2016\"], \"xaxis\": \"x3\", \"y\": [1.1400000000000006, 4.720000000000006], \"yaxis\": \"y8\"}, {\"hovertemplate\": \"<b>LOWESS trendline</b><br><br>class=10<br>subject=Science<br>subject=Science<br>year=%{x}<br>total_delta=%{y} <b>(trend)</b><extra></extra>\", \"legendgroup\": \"subject=Science\", \"marker\": {\"color\": \"#00cc96\", \"symbol\": \"circle\"}, \"mode\": \"lines\", \"name\": \"subject=Science\", \"showlegend\": false, \"type\": \"scatter\", \"uid\": \"d3c44de4-9b15-41eb-96b6-1b54893eff01\", \"x\": [2014.0, 2016.0], \"xaxis\": \"x3\", \"y\": [1.1400000000000006, 4.720000000000006], \"yaxis\": \"y8\"}],\n",
       "                        {\"annotations\": [{\"showarrow\": false, \"text\": \"subject=English\", \"textangle\": 0, \"x\": 0.09183673469387754, \"xanchor\": \"center\", \"xref\": \"paper\", \"y\": 1.02, \"yanchor\": \"middle\", \"yref\": \"paper\"}, {\"showarrow\": false, \"text\": \"subject=Maths\", \"textangle\": 0, \"x\": 0.2959183673469387, \"xanchor\": \"center\", \"xref\": \"paper\", \"y\": 1.02, \"yanchor\": \"middle\", \"yref\": \"paper\"}, {\"showarrow\": false, \"text\": \"subject=Science\", \"textangle\": 0, \"x\": 0.5, \"xanchor\": \"center\", \"xref\": \"paper\", \"y\": 1.02, \"yanchor\": \"middle\", \"yref\": \"paper\"}, {\"showarrow\": false, \"text\": \"subject=Hindi\", \"textangle\": 0, \"x\": 0.7040816326530612, \"xanchor\": \"center\", \"xref\": \"paper\", \"y\": 1.02, \"yanchor\": \"middle\", \"yref\": \"paper\"}, {\"showarrow\": false, \"text\": \"subject=Social Studies\", \"textangle\": 0, \"x\": 0.9081632653061223, \"xanchor\": \"center\", \"xref\": \"paper\", \"y\": 1.02, \"yanchor\": \"middle\", \"yref\": \"paper\"}, {\"showarrow\": false, \"text\": \"class=3\", \"textangle\": 90, \"x\": 1.01, \"xanchor\": \"center\", \"xref\": \"paper\", \"y\": 0.9430379746835442, \"yanchor\": \"middle\", \"yref\": \"paper\"}, {\"showarrow\": false, \"text\": \"class=4\", \"textangle\": 90, \"x\": 1.01, \"xanchor\": \"center\", \"xref\": \"paper\", \"y\": 0.8164556962025316, \"yanchor\": \"middle\", \"yref\": \"paper\"}, {\"showarrow\": false, \"text\": \"class=5\", \"textangle\": 90, \"x\": 1.01, \"xanchor\": \"center\", \"xref\": \"paper\", \"y\": 0.6898734177215189, \"yanchor\": \"middle\", \"yref\": \"paper\"}, {\"showarrow\": false, \"text\": \"class=6\", \"textangle\": 90, \"x\": 1.01, \"xanchor\": \"center\", \"xref\": \"paper\", \"y\": 0.5632911392405062, \"yanchor\": \"middle\", \"yref\": \"paper\"}, {\"showarrow\": false, \"text\": \"class=7\", \"textangle\": 90, \"x\": 1.01, \"xanchor\": \"center\", \"xref\": \"paper\", \"y\": 0.4367088607594936, \"yanchor\": \"middle\", \"yref\": \"paper\"}, {\"showarrow\": false, \"text\": \"class=8\", \"textangle\": 90, \"x\": 1.01, \"xanchor\": \"center\", \"xref\": \"paper\", \"y\": 0.310126582278481, \"yanchor\": \"middle\", \"yref\": \"paper\"}, {\"showarrow\": false, \"text\": \"class=9\", \"textangle\": 90, \"x\": 1.01, \"xanchor\": \"center\", \"xref\": \"paper\", \"y\": 0.18354430379746833, \"yanchor\": \"middle\", \"yref\": \"paper\"}, {\"showarrow\": false, \"text\": \"class=10\", \"textangle\": 90, \"x\": 1.01, \"xanchor\": \"center\", \"xref\": \"paper\", \"y\": 0.05696202531645569, \"yanchor\": \"middle\", \"yref\": \"paper\"}], \"grid\": {\"xaxes\": [\"x\", \"x2\", \"x3\", \"x4\", \"x5\"], \"xgap\": 0.1, \"xside\": \"bottom\", \"yaxes\": [\"y\", \"y2\", \"y3\", \"y4\", \"y5\", \"y6\", \"y7\", \"y8\"], \"ygap\": 0.1, \"yside\": \"left\"}, \"height\": 2000, \"legend\": {\"tracegroupgap\": 0}, \"template\": {\"data\": {\"bar\": [{\"marker\": {\"line\": {\"color\": \"#E5ECF6\", \"width\": 0.5}}, \"type\": \"bar\"}], \"barpolar\": [{\"marker\": {\"line\": {\"color\": \"#E5ECF6\", \"width\": 0.5}}, \"type\": \"barpolar\"}], \"carpet\": [{\"aaxis\": {\"endlinecolor\": \"#2a3f5f\", \"gridcolor\": \"white\", \"linecolor\": \"white\", \"minorgridcolor\": \"white\", \"startlinecolor\": \"#2a3f5f\"}, \"baxis\": {\"endlinecolor\": \"#2a3f5f\", \"gridcolor\": \"white\", \"linecolor\": \"white\", \"minorgridcolor\": \"white\", \"startlinecolor\": \"#2a3f5f\"}, \"type\": \"carpet\"}], \"choropleth\": [{\"colorbar\": {\"outlinewidth\": 0, \"ticks\": \"\"}, \"type\": \"choropleth\"}], \"contour\": [{\"autocolorscale\": true, \"colorbar\": {\"outlinewidth\": 0, \"ticks\": \"\"}, \"type\": \"contour\"}], \"contourcarpet\": [{\"colorbar\": {\"outlinewidth\": 0, \"ticks\": \"\"}, \"type\": \"contourcarpet\"}], \"heatmap\": [{\"autocolorscale\": true, \"colorbar\": {\"outlinewidth\": 0, \"ticks\": \"\"}, \"type\": \"heatmap\"}], \"heatmapgl\": [{\"colorbar\": {\"outlinewidth\": 0, \"ticks\": \"\"}, \"type\": \"heatmapgl\"}], \"histogram\": [{\"marker\": {\"colorbar\": {\"outlinewidth\": 0, \"ticks\": \"\"}}, \"type\": \"histogram\"}], \"histogram2d\": [{\"autocolorscale\": true, \"colorbar\": {\"outlinewidth\": 0, \"ticks\": \"\"}, \"type\": \"histogram2d\"}], \"histogram2dcontour\": [{\"autocolorscale\": true, \"colorbar\": {\"outlinewidth\": 0, \"ticks\": \"\"}, \"type\": \"histogram2dcontour\"}], \"mesh3d\": [{\"colorbar\": {\"outlinewidth\": 0, \"ticks\": \"\"}, \"type\": \"mesh3d\"}], \"parcoords\": [{\"line\": {\"colorbar\": {\"outlinewidth\": 0, \"ticks\": \"\"}}, \"type\": \"parcoords\"}], \"scatter\": [{\"marker\": {\"colorbar\": {\"outlinewidth\": 0, \"ticks\": \"\"}}, \"type\": \"scatter\"}], \"scatter3d\": [{\"marker\": {\"colorbar\": {\"outlinewidth\": 0, \"ticks\": \"\"}}, \"type\": \"scatter3d\"}], \"scattercarpet\": [{\"marker\": {\"colorbar\": {\"outlinewidth\": 0, \"ticks\": \"\"}}, \"type\": \"scattercarpet\"}], \"scattergeo\": [{\"marker\": {\"colorbar\": {\"outlinewidth\": 0, \"ticks\": \"\"}}, \"type\": \"scattergeo\"}], \"scattergl\": [{\"marker\": {\"colorbar\": {\"outlinewidth\": 0, \"ticks\": \"\"}}, \"type\": \"scattergl\"}], \"scattermapbox\": [{\"marker\": {\"colorbar\": {\"outlinewidth\": 0, \"ticks\": \"\"}}, \"type\": \"scattermapbox\"}], \"scatterpolar\": [{\"marker\": {\"colorbar\": {\"outlinewidth\": 0, \"ticks\": \"\"}}, \"type\": \"scatterpolar\"}], \"scatterpolargl\": [{\"marker\": {\"colorbar\": {\"outlinewidth\": 0, \"ticks\": \"\"}}, \"type\": \"scatterpolargl\"}], \"scatterternary\": [{\"marker\": {\"colorbar\": {\"outlinewidth\": 0, \"ticks\": \"\"}}, \"type\": \"scatterternary\"}], \"surface\": [{\"colorbar\": {\"outlinewidth\": 0, \"ticks\": \"\"}, \"type\": \"surface\"}], \"table\": [{\"cells\": {\"fill\": {\"color\": \"#EBF0F8\"}, \"line\": {\"color\": \"white\"}}, \"header\": {\"fill\": {\"color\": \"#C8D4E3\"}, \"line\": {\"color\": \"white\"}}, \"type\": \"table\"}]}, \"layout\": {\"annotationdefaults\": {\"arrowcolor\": \"#506784\", \"arrowhead\": 0, \"arrowwidth\": 1}, \"colorscale\": {\"diverging\": [[0, \"#8e0152\"], [0.1, \"#c51b7d\"], [0.2, \"#de77ae\"], [0.3, \"#f1b6da\"], [0.4, \"#fde0ef\"], [0.5, \"#f7f7f7\"], [0.6, \"#e6f5d0\"], [0.7, \"#b8e186\"], [0.8, \"#7fbc41\"], [0.9, \"#4d9221\"], [1, \"#276419\"]], \"sequential\": [[0.0, \"#0508b8\"], [0.0893854748603352, \"#1910d8\"], [0.1787709497206704, \"#3c19f0\"], [0.2681564245810056, \"#6b1cfb\"], [0.3575418994413408, \"#981cfd\"], [0.44692737430167595, \"#bf1cfd\"], [0.5363128491620112, \"#dd2bfd\"], [0.6256983240223464, \"#f246fe\"], [0.7150837988826816, \"#fc67fd\"], [0.8044692737430168, \"#fe88fc\"], [0.8938547486033519, \"#fea5fd\"], [0.9832402234636871, \"#febefe\"], [1.0, \"#fec3fe\"]], \"sequentialminus\": [[0.0, \"#0508b8\"], [0.0893854748603352, \"#1910d8\"], [0.1787709497206704, \"#3c19f0\"], [0.2681564245810056, \"#6b1cfb\"], [0.3575418994413408, \"#981cfd\"], [0.44692737430167595, \"#bf1cfd\"], [0.5363128491620112, \"#dd2bfd\"], [0.6256983240223464, \"#f246fe\"], [0.7150837988826816, \"#fc67fd\"], [0.8044692737430168, \"#fe88fc\"], [0.8938547486033519, \"#fea5fd\"], [0.9832402234636871, \"#febefe\"], [1.0, \"#fec3fe\"]]}, \"colorway\": [\"#636efa\", \"#EF553B\", \"#00cc96\", \"#ab63fa\", \"#19d3f3\", \"#e763fa\", \"#FECB52\", \"#FFA15A\", \"#FF6692\", \"#B6E880\"], \"font\": {\"color\": \"#2a3f5f\"}, \"geo\": {\"bgcolor\": \"white\", \"lakecolor\": \"white\", \"landcolor\": \"#E5ECF6\", \"showlakes\": true, \"showland\": true, \"subunitcolor\": \"white\"}, \"hoverlabel\": {\"align\": \"left\"}, \"hovermode\": \"closest\", \"legend\": {\"itemsizing\": \"constant\"}, \"mapbox\": {\"style\": \"light\"}, \"paper_bgcolor\": \"white\", \"plot_bgcolor\": \"#E5ECF6\", \"polar\": {\"angularaxis\": {\"gridcolor\": \"white\", \"linecolor\": \"white\", \"ticks\": \"\"}, \"bgcolor\": \"#E5ECF6\", \"radialaxis\": {\"gridcolor\": \"white\", \"linecolor\": \"white\", \"ticks\": \"\"}}, \"scene\": {\"xaxis\": {\"backgroundcolor\": \"#E5ECF6\", \"gridcolor\": \"white\", \"gridwidth\": 2, \"linecolor\": \"white\", \"showbackground\": true, \"ticks\": \"\", \"zerolinecolor\": \"white\"}, \"yaxis\": {\"backgroundcolor\": \"#E5ECF6\", \"gridcolor\": \"white\", \"gridwidth\": 2, \"linecolor\": \"white\", \"showbackground\": true, \"ticks\": \"\", \"zerolinecolor\": \"white\"}, \"zaxis\": {\"backgroundcolor\": \"#E5ECF6\", \"gridcolor\": \"white\", \"gridwidth\": 2, \"linecolor\": \"white\", \"showbackground\": true, \"ticks\": \"\", \"zerolinecolor\": \"white\"}}, \"shapedefaults\": {\"fillcolor\": \"#506784\", \"line\": {\"width\": 0}, \"opacity\": 0.4}, \"ternary\": {\"aaxis\": {\"gridcolor\": \"white\", \"linecolor\": \"white\", \"ticks\": \"\"}, \"baxis\": {\"gridcolor\": \"white\", \"linecolor\": \"white\", \"ticks\": \"\"}, \"bgcolor\": \"#E5ECF6\", \"caxis\": {\"gridcolor\": \"white\", \"linecolor\": \"white\", \"ticks\": \"\"}}, \"title\": {\"x\": 0.05}, \"xaxis\": {\"automargin\": true, \"gridcolor\": \"white\", \"linecolor\": \"white\", \"ticks\": \"\", \"zerolinecolor\": \"white\", \"zerolinewidth\": 2}, \"yaxis\": {\"automargin\": true, \"gridcolor\": \"white\", \"linecolor\": \"white\", \"ticks\": \"\", \"zerolinecolor\": \"white\", \"zerolinewidth\": 2}}}, \"title\": {\"text\": \"Overall performance in subjects across the years for different grades (Sushila Birla Girls^ School-Kolkata-CBSE)\"}, \"width\": 3000, \"xaxis\": {\"title\": {\"text\": \"year\"}}, \"xaxis2\": {\"matches\": \"x\", \"title\": {\"text\": \"year\"}}, \"xaxis3\": {\"matches\": \"x\", \"title\": {\"text\": \"year\"}}, \"xaxis4\": {\"matches\": \"x\", \"title\": {\"text\": \"year\"}}, \"xaxis5\": {\"matches\": \"x\", \"title\": {\"text\": \"year\"}}, \"yaxis\": {\"title\": {\"text\": \"total_delta\"}}, \"yaxis2\": {\"matches\": \"y\", \"title\": {\"text\": \"total_delta\"}}, \"yaxis3\": {\"matches\": \"y\", \"title\": {\"text\": \"total_delta\"}}, \"yaxis4\": {\"matches\": \"y\", \"title\": {\"text\": \"total_delta\"}}, \"yaxis5\": {\"matches\": \"y\", \"title\": {\"text\": \"total_delta\"}}, \"yaxis6\": {\"matches\": \"y\", \"title\": {\"text\": \"total_delta\"}}, \"yaxis7\": {\"matches\": \"y\", \"title\": {\"text\": \"total_delta\"}}, \"yaxis8\": {\"matches\": \"y\", \"title\": {\"text\": \"total_delta\"}}},\n",
       "                        {\"showLink\": false, \"linkText\": \"Export to plot.ly\", \"plotlyServerURL\": \"https://plot.ly\"}\n",
       "                    )\n",
       "                };\n",
       "                });\n",
       "            </script>\n",
       "        </div>"
      ]
     },
     "metadata": {},
     "output_type": "display_data"
    }
   ],
   "source": [
    "px.scatter(df_school.sort_values('year').drop_duplicates(['papercode']), \n",
    "        x = 'year', \n",
    "        y = 'total_delta', \n",
    "        color='subject',\n",
    "        facet_row= 'class', \n",
    "        facet_col= 'subject', \n",
    "        size = 'studentCount',\n",
    "        size_max= 10,\n",
    "        trendline=\"lowess\",\n",
    "        height=2000,\n",
    "        width=3000,\n",
    "        title = 'Overall performance in subjects across the years for different grades (%s-%s-%s)'%(school_name, school_city, school_board)  )"
   ]
  },
  {
   "cell_type": "markdown",
   "metadata": {},
   "source": [
    "## Subject wise performance"
   ]
  },
  {
   "cell_type": "code",
   "execution_count": 19,
   "metadata": {
    "code_folding": []
   },
   "outputs": [
    {
     "data": {
      "application/vnd.plotly.v1+json": {
       "config": {
        "linkText": "Export to plot.ly",
        "plotlyServerURL": "https://plot.ly",
        "showLink": false
       },
       "data": [
        {
         "hovertemplate": "class=3<br>skill_name=Intermediate Concepts, Geometry and Algebra<br>skill_name=Intermediate Concepts, Geometry and Algebra<br>year=%{x}<br>skill_delta=%{y}<br>studentCount=%{marker.size}<extra></extra>",
         "legendgroup": "skill_name=Intermediate Concepts, Geometry and Algebra",
         "marker": {
          "color": "#636efa",
          "size": [
           108,
           19,
           74,
           75,
           106,
           109
          ],
          "sizemode": "area",
          "sizeref": 1.14,
          "symbol": "circle"
         },
         "mode": "markers",
         "name": "skill_name=Intermediate Concepts, Geometry and Algebra",
         "showlegend": true,
         "type": "scatter",
         "uid": "34a46077-0807-409f-9d54-6c24de6814a3",
         "x": [
          "2018",
          "2007",
          "2008",
          "2009",
          "2014",
          "2016"
         ],
         "xaxis": "x",
         "y": [
          -4.329999999999998,
          5.339999999999996,
          -7.800000000000004,
          2.219999999999999,
          0.960000000000008,
          -1.8999999999999986
         ],
         "yaxis": "y"
        },
        {
         "hovertemplate": "<b>LOWESS trendline</b><br><br>class=3<br>skill_name=Intermediate Concepts, Geometry and Algebra<br>skill_name=Intermediate Concepts, Geometry and Algebra<br>year=%{x}<br>skill_delta=%{y} <b>(trend)</b><extra></extra>",
         "legendgroup": "skill_name=Intermediate Concepts, Geometry and Algebra",
         "marker": {
          "color": "#636efa",
          "symbol": "circle"
         },
         "mode": "lines",
         "name": "skill_name=Intermediate Concepts, Geometry and Algebra",
         "showlegend": false,
         "type": "scatter",
         "uid": "108166ff-8ed5-48fc-97d0-b13611f2b8f8",
         "x": [
          2007,
          2008,
          2009,
          2014,
          2016,
          2018
         ],
         "xaxis": "x",
         "y": [
          5.3400000000013055,
          3.7799999999999976,
          2.2200000000000197,
          0.9368225752117603,
          -1.7390436691174327,
          -4.380371735894711
         ],
         "yaxis": "y"
        },
        {
         "hovertemplate": "class=3<br>skill_name=Number sense, Computations and Basic Arithmetic<br>skill_name=Number sense, Computations and Basic Arithmetic<br>year=%{x}<br>skill_delta=%{y}<br>studentCount=%{marker.size}<extra></extra>",
         "legendgroup": "skill_name=Number sense, Computations and Basic Arithmetic",
         "marker": {
          "color": "#EF553B",
          "size": [
           108,
           19,
           74,
           75,
           106,
           109
          ],
          "sizemode": "area",
          "sizeref": 1.14,
          "symbol": "circle"
         },
         "mode": "markers",
         "name": "skill_name=Number sense, Computations and Basic Arithmetic",
         "showlegend": true,
         "type": "scatter",
         "uid": "67261088-7f99-483e-b4c2-4c92f022fe93",
         "x": [
          "2018",
          "2007",
          "2008",
          "2009",
          "2014",
          "2016"
         ],
         "xaxis": "x2",
         "y": [
          9.370000000000005,
          13.769999999999996,
          -3.1499999999999986,
          1.4899999999999949,
          5.929999999999993,
          13.380000000000003
         ],
         "yaxis": "y"
        },
        {
         "hovertemplate": "<b>LOWESS trendline</b><br><br>class=3<br>skill_name=Number sense, Computations and Basic Arithmetic<br>skill_name=Number sense, Computations and Basic Arithmetic<br>year=%{x}<br>skill_delta=%{y} <b>(trend)</b><extra></extra>",
         "legendgroup": "skill_name=Number sense, Computations and Basic Arithmetic",
         "marker": {
          "color": "#EF553B",
          "symbol": "circle"
         },
         "mode": "lines",
         "name": "skill_name=Number sense, Computations and Basic Arithmetic",
         "showlegend": false,
         "type": "scatter",
         "uid": "915b1139-a4b7-443c-90d7-640ee3fc30d3",
         "x": [
          2007,
          2008,
          2009,
          2014,
          2016,
          2018
         ],
         "xaxis": "x2",
         "y": [
          11.203713425144903,
          5.0013952309226655,
          -0.9941116970937516,
          6.6856344253627356,
          9.527918709418099,
          11.053013264472746
         ],
         "yaxis": "y"
        },
        {
         "hovertemplate": "class=3<br>skill_name=Problem Solving, Advanced Problems<br>skill_name=Problem Solving, Advanced Problems<br>year=%{x}<br>skill_delta=%{y}<br>studentCount=%{marker.size}<extra></extra>",
         "legendgroup": "skill_name=Problem Solving, Advanced Problems",
         "marker": {
          "color": "#00cc96",
          "size": [
           108,
           19,
           74,
           75,
           106,
           109
          ],
          "sizemode": "area",
          "sizeref": 1.14,
          "symbol": "circle"
         },
         "mode": "markers",
         "name": "skill_name=Problem Solving, Advanced Problems",
         "showlegend": true,
         "type": "scatter",
         "uid": "0c95cb12-a782-46e2-ac34-9f8a3a0b9b6c",
         "x": [
          "2018",
          "2007",
          "2008",
          "2009",
          "2014",
          "2016"
         ],
         "xaxis": "x3",
         "y": [
          7.640000000000008,
          -2.030000000000001,
          2.210000000000001,
          5.420000000000002,
          -4.780000000000001,
          11.719999999999999
         ],
         "yaxis": "y"
        },
        {
         "hovertemplate": "<b>LOWESS trendline</b><br><br>class=3<br>skill_name=Problem Solving, Advanced Problems<br>skill_name=Problem Solving, Advanced Problems<br>year=%{x}<br>skill_delta=%{y} <b>(trend)</b><extra></extra>",
         "legendgroup": "skill_name=Problem Solving, Advanced Problems",
         "marker": {
          "color": "#00cc96",
          "symbol": "circle"
         },
         "mode": "lines",
         "name": "skill_name=Problem Solving, Advanced Problems",
         "showlegend": false,
         "type": "scatter",
         "uid": "d77b7fa5-52e2-42c4-9274-8683771ea1d1",
         "x": [
          2007,
          2008,
          2009,
          2014,
          2016,
          2018
         ],
         "xaxis": "x3",
         "y": [
          -1.8954932156017525,
          1.832807191115834,
          5.550014722569366,
          -4.7800000000002605,
          1.4300000000000033,
          7.640000000000136
         ],
         "yaxis": "y"
        },
        {
         "hovertemplate": "class=3<br>skill_name=Word and Application Problems<br>skill_name=Word and Application Problems<br>year=%{x}<br>skill_delta=%{y}<br>studentCount=%{marker.size}<extra></extra>",
         "legendgroup": "skill_name=Word and Application Problems",
         "marker": {
          "color": "#ab63fa",
          "size": [
           108,
           19,
           74,
           75,
           106,
           109
          ],
          "sizemode": "area",
          "sizeref": 1.14,
          "symbol": "circle"
         },
         "mode": "markers",
         "name": "skill_name=Word and Application Problems",
         "showlegend": true,
         "type": "scatter",
         "uid": "9a979683-ee16-4e3b-8541-4f088b4afc6d",
         "x": [
          "2018",
          "2007",
          "2008",
          "2009",
          "2014",
          "2016"
         ],
         "xaxis": "x4",
         "y": [
          7.789999999999999,
          -3.1000000000000014,
          -3.1099999999999994,
          2.979999999999997,
          1.2800000000000011,
          7.550000000000004
         ],
         "yaxis": "y"
        },
        {
         "hovertemplate": "<b>LOWESS trendline</b><br><br>class=3<br>skill_name=Word and Application Problems<br>skill_name=Word and Application Problems<br>year=%{x}<br>skill_delta=%{y} <b>(trend)</b><extra></extra>",
         "legendgroup": "skill_name=Word and Application Problems",
         "marker": {
          "color": "#ab63fa",
          "symbol": "circle"
         },
         "mode": "lines",
         "name": "skill_name=Word and Application Problems",
         "showlegend": false,
         "type": "scatter",
         "uid": "41f6219c-5d97-4b16-a953-1a37821018bd",
         "x": [
          2007,
          2008,
          2009,
          2014,
          2016,
          2018
         ],
         "xaxis": "x4",
         "y": [
          -3.8260829363009687,
          -0.8037147073927626,
          2.2771669131591654,
          1.6194765815114636,
          5.305472941766142,
          8.491571811468566
         ],
         "yaxis": "y"
        },
        {
         "hovertemplate": "class=4<br>skill_name=Intermediate Concepts, Geometry and Algebra<br>skill_name=Intermediate Concepts, Geometry and Algebra<br>year=%{x}<br>skill_delta=%{y}<br>studentCount=%{marker.size}<extra></extra>",
         "legendgroup": "skill_name=Intermediate Concepts, Geometry and Algebra",
         "marker": {
          "color": "#636efa",
          "size": [
           113,
           14,
           72,
           75,
           104,
           111
          ],
          "sizemode": "area",
          "sizeref": 1.14,
          "symbol": "circle"
         },
         "mode": "markers",
         "name": "skill_name=Intermediate Concepts, Geometry and Algebra",
         "showlegend": false,
         "type": "scatter",
         "uid": "ba53aeea-7d3e-4ac4-9598-e27f46b07626",
         "x": [
          "2018",
          "2007",
          "2008",
          "2009",
          "2014",
          "2016"
         ],
         "xaxis": "x",
         "y": [
          7.410000000000004,
          0.11999999999999744,
          -0.22999999999999687,
          4.960000000000001,
          1.3600000000000065,
          -5.770000000000003
         ],
         "yaxis": "y2"
        },
        {
         "hovertemplate": "<b>LOWESS trendline</b><br><br>class=4<br>skill_name=Intermediate Concepts, Geometry and Algebra<br>skill_name=Intermediate Concepts, Geometry and Algebra<br>year=%{x}<br>skill_delta=%{y} <b>(trend)</b><extra></extra>",
         "legendgroup": "skill_name=Intermediate Concepts, Geometry and Algebra",
         "marker": {
          "color": "#636efa",
          "symbol": "circle"
         },
         "mode": "lines",
         "name": "skill_name=Intermediate Concepts, Geometry and Algebra",
         "showlegend": false,
         "type": "scatter",
         "uid": "22816822-1b08-4bfe-bbe0-422c07224187",
         "x": [
          2007,
          2008,
          2009,
          2014,
          2016,
          2018
         ],
         "xaxis": "x",
         "y": [
          -0.6377139781687264,
          1.7635216361447763,
          4.228016532504699,
          1.3599999999999455,
          4.385000000000005,
          7.4100000000001165
         ],
         "yaxis": "y2"
        },
        {
         "hovertemplate": "class=4<br>skill_name=Number sense, Computations and Basic Arithmetic<br>skill_name=Number sense, Computations and Basic Arithmetic<br>year=%{x}<br>skill_delta=%{y}<br>studentCount=%{marker.size}<extra></extra>",
         "legendgroup": "skill_name=Number sense, Computations and Basic Arithmetic",
         "marker": {
          "color": "#EF553B",
          "size": [
           113,
           14,
           72,
           75,
           104,
           111
          ],
          "sizemode": "area",
          "sizeref": 1.14,
          "symbol": "circle"
         },
         "mode": "markers",
         "name": "skill_name=Number sense, Computations and Basic Arithmetic",
         "showlegend": false,
         "type": "scatter",
         "uid": "7c51ca41-1e44-496a-bf72-2ba3fe2a8b1c",
         "x": [
          "2018",
          "2007",
          "2008",
          "2009",
          "2014",
          "2016"
         ],
         "xaxis": "x2",
         "y": [
          -0.12000000000000455,
          6.450000000000003,
          -0.20000000000000284,
          7.899999999999999,
          0.05000000000000426,
          -0.9599999999999937
         ],
         "yaxis": "y2"
        },
        {
         "hovertemplate": "<b>LOWESS trendline</b><br><br>class=4<br>skill_name=Number sense, Computations and Basic Arithmetic<br>skill_name=Number sense, Computations and Basic Arithmetic<br>year=%{x}<br>skill_delta=%{y} <b>(trend)</b><extra></extra>",
         "legendgroup": "skill_name=Number sense, Computations and Basic Arithmetic",
         "marker": {
          "color": "#EF553B",
          "symbol": "circle"
         },
         "mode": "lines",
         "name": "skill_name=Number sense, Computations and Basic Arithmetic",
         "showlegend": false,
         "type": "scatter",
         "uid": "f526513e-faa6-4c9f-86b2-a81032e0c8ce",
         "x": [
          2007,
          2008,
          2009,
          2014,
          2016,
          2018
         ],
         "xaxis": "x2",
         "y": [
          6.449999999999616,
          7.175000000000175,
          7.899999999998668,
          -0.05229107437676259,
          -0.2749800326283486,
          -0.3425481692665576
         ],
         "yaxis": "y2"
        },
        {
         "hovertemplate": "class=4<br>skill_name=Problem Solving, Advanced Problems<br>skill_name=Problem Solving, Advanced Problems<br>year=%{x}<br>skill_delta=%{y}<br>studentCount=%{marker.size}<extra></extra>",
         "legendgroup": "skill_name=Problem Solving, Advanced Problems",
         "marker": {
          "color": "#00cc96",
          "size": [
           113,
           14,
           72,
           75,
           104,
           111
          ],
          "sizemode": "area",
          "sizeref": 1.14,
          "symbol": "circle"
         },
         "mode": "markers",
         "name": "skill_name=Problem Solving, Advanced Problems",
         "showlegend": false,
         "type": "scatter",
         "uid": "d1faedcd-f1a3-48ff-87f9-85ab46fe9759",
         "x": [
          "2018",
          "2007",
          "2008",
          "2009",
          "2014",
          "2016"
         ],
         "xaxis": "x3",
         "y": [
          -7.079999999999998,
          2.5900000000000034,
          -5.050000000000004,
          1.1499999999999986,
          -5.57,
          -3.9100000000000037
         ],
         "yaxis": "y2"
        },
        {
         "hovertemplate": "<b>LOWESS trendline</b><br><br>class=4<br>skill_name=Problem Solving, Advanced Problems<br>skill_name=Problem Solving, Advanced Problems<br>year=%{x}<br>skill_delta=%{y} <b>(trend)</b><extra></extra>",
         "legendgroup": "skill_name=Problem Solving, Advanced Problems",
         "marker": {
          "color": "#00cc96",
          "symbol": "circle"
         },
         "mode": "lines",
         "name": "skill_name=Problem Solving, Advanced Problems",
         "showlegend": false,
         "type": "scatter",
         "uid": "531e70ea-dd3d-4c9f-a673-5a3a02c4a062",
         "x": [
          2007,
          2008,
          2009,
          2014,
          2016,
          2018
         ],
         "xaxis": "x3",
         "y": [
          1.2216869011462446,
          0.46918236385127193,
          -0.17757022521292254,
          -5.244624159578633,
          -5.509160664094532,
          -6.351871156399696
         ],
         "yaxis": "y2"
        },
        {
         "hovertemplate": "class=4<br>skill_name=Word and Application Problems<br>skill_name=Word and Application Problems<br>year=%{x}<br>skill_delta=%{y}<br>studentCount=%{marker.size}<extra></extra>",
         "legendgroup": "skill_name=Word and Application Problems",
         "marker": {
          "color": "#ab63fa",
          "size": [
           113,
           14,
           72,
           75,
           104,
           111
          ],
          "sizemode": "area",
          "sizeref": 1.14,
          "symbol": "circle"
         },
         "mode": "markers",
         "name": "skill_name=Word and Application Problems",
         "showlegend": false,
         "type": "scatter",
         "uid": "f00d65c7-9e1a-4b59-811e-437935faee22",
         "x": [
          "2018",
          "2007",
          "2008",
          "2009",
          "2014",
          "2016"
         ],
         "xaxis": "x4",
         "y": [
          0.509999999999998,
          4.030000000000001,
          -0.01999999999999602,
          0.46999999999999886,
          -0.20000000000000284,
          3.190000000000005
         ],
         "yaxis": "y2"
        },
        {
         "hovertemplate": "<b>LOWESS trendline</b><br><br>class=4<br>skill_name=Word and Application Problems<br>skill_name=Word and Application Problems<br>year=%{x}<br>skill_delta=%{y} <b>(trend)</b><extra></extra>",
         "legendgroup": "skill_name=Word and Application Problems",
         "marker": {
          "color": "#ab63fa",
          "symbol": "circle"
         },
         "mode": "lines",
         "name": "skill_name=Word and Application Problems",
         "showlegend": false,
         "type": "scatter",
         "uid": "31296b3d-cd69-4d32-bc5f-bae605961f66",
         "x": [
          2007,
          2008,
          2009,
          2014,
          2016,
          2018
         ],
         "xaxis": "x4",
         "y": [
          3.4324456937637677,
          1.6376170384925093,
          -0.10781334408721677,
          0.08914206139465378,
          0.7501772300632485,
          1.054376825811946
         ],
         "yaxis": "y2"
        },
        {
         "hovertemplate": "class=5<br>skill_name=Intermediate Concepts, Geometry and Algebra<br>skill_name=Intermediate Concepts, Geometry and Algebra<br>year=%{x}<br>skill_delta=%{y}<br>studentCount=%{marker.size}<extra></extra>",
         "legendgroup": "skill_name=Intermediate Concepts, Geometry and Algebra",
         "marker": {
          "color": "#636efa",
          "size": [
           112,
           16,
           73,
           75,
           108,
           107
          ],
          "sizemode": "area",
          "sizeref": 1.14,
          "symbol": "circle"
         },
         "mode": "markers",
         "name": "skill_name=Intermediate Concepts, Geometry and Algebra",
         "showlegend": false,
         "type": "scatter",
         "uid": "f72295cc-6964-46f8-9e6e-20c5425918d2",
         "x": [
          "2018",
          "2007",
          "2008",
          "2009",
          "2014",
          "2016"
         ],
         "xaxis": "x",
         "y": [
          1.0399999999999991,
          -1.4299999999999997,
          -0.01999999999999602,
          3.5700000000000003,
          4.57,
          -2.460000000000001
         ],
         "yaxis": "y3"
        },
        {
         "hovertemplate": "<b>LOWESS trendline</b><br><br>class=5<br>skill_name=Intermediate Concepts, Geometry and Algebra<br>skill_name=Intermediate Concepts, Geometry and Algebra<br>year=%{x}<br>skill_delta=%{y} <b>(trend)</b><extra></extra>",
         "legendgroup": "skill_name=Intermediate Concepts, Geometry and Algebra",
         "marker": {
          "color": "#636efa",
          "symbol": "circle"
         },
         "mode": "lines",
         "name": "skill_name=Intermediate Concepts, Geometry and Algebra",
         "showlegend": false,
         "type": "scatter",
         "uid": "86235948-32d2-40d3-86a1-2451360ccdea",
         "x": [
          2007,
          2008,
          2009,
          2014,
          2016,
          2018
         ],
         "xaxis": "x",
         "y": [
          -1.7218970240731162,
          0.7709034639753717,
          3.2879358877985307,
          4.570000000000131,
          2.8049999999999997,
          1.0400000000000071
         ],
         "yaxis": "y3"
        },
        {
         "hovertemplate": "class=5<br>skill_name=Number sense, Computations and Basic Arithmetic<br>skill_name=Number sense, Computations and Basic Arithmetic<br>year=%{x}<br>skill_delta=%{y}<br>studentCount=%{marker.size}<extra></extra>",
         "legendgroup": "skill_name=Number sense, Computations and Basic Arithmetic",
         "marker": {
          "color": "#EF553B",
          "size": [
           112,
           16,
           73,
           75,
           108,
           107
          ],
          "sizemode": "area",
          "sizeref": 1.14,
          "symbol": "circle"
         },
         "mode": "markers",
         "name": "skill_name=Number sense, Computations and Basic Arithmetic",
         "showlegend": false,
         "type": "scatter",
         "uid": "b8be83b8-bb96-41b9-b628-284acb95595c",
         "x": [
          "2018",
          "2007",
          "2008",
          "2009",
          "2014",
          "2016"
         ],
         "xaxis": "x2",
         "y": [
          9.189999999999998,
          10.800000000000004,
          -2.760000000000005,
          7.059999999999995,
          6.700000000000003,
          6.280000000000001
         ],
         "yaxis": "y3"
        },
        {
         "hovertemplate": "<b>LOWESS trendline</b><br><br>class=5<br>skill_name=Number sense, Computations and Basic Arithmetic<br>skill_name=Number sense, Computations and Basic Arithmetic<br>year=%{x}<br>skill_delta=%{y} <b>(trend)</b><extra></extra>",
         "legendgroup": "skill_name=Number sense, Computations and Basic Arithmetic",
         "marker": {
          "color": "#EF553B",
          "symbol": "circle"
         },
         "mode": "lines",
         "name": "skill_name=Number sense, Computations and Basic Arithmetic",
         "showlegend": false,
         "type": "scatter",
         "uid": "336946a4-639a-436b-a0fb-8fa5e41d5311",
         "x": [
          2007,
          2008,
          2009,
          2014,
          2016,
          2018
         ],
         "xaxis": "x2",
         "y": [
          10.80000000000131,
          8.930000000000186,
          7.059999999998869,
          6.49411375787998,
          7.443242205018137,
          8.733931241002848
         ],
         "yaxis": "y3"
        },
        {
         "hovertemplate": "class=5<br>skill_name=Problem Solving, Advanced Problems<br>skill_name=Problem Solving, Advanced Problems<br>year=%{x}<br>skill_delta=%{y}<br>studentCount=%{marker.size}<extra></extra>",
         "legendgroup": "skill_name=Problem Solving, Advanced Problems",
         "marker": {
          "color": "#00cc96",
          "size": [
           112,
           16,
           73,
           75,
           108,
           107
          ],
          "sizemode": "area",
          "sizeref": 1.14,
          "symbol": "circle"
         },
         "mode": "markers",
         "name": "skill_name=Problem Solving, Advanced Problems",
         "showlegend": false,
         "type": "scatter",
         "uid": "c730d2a8-7a0b-4a1b-ba38-ab3a2c094ee0",
         "x": [
          "2018",
          "2007",
          "2008",
          "2009",
          "2014",
          "2016"
         ],
         "xaxis": "x3",
         "y": [
          5.519999999999996,
          3.9800000000000004,
          -2.7200000000000024,
          4.829999999999998,
          2.770000000000003,
          5.57
         ],
         "yaxis": "y3"
        },
        {
         "hovertemplate": "<b>LOWESS trendline</b><br><br>class=5<br>skill_name=Problem Solving, Advanced Problems<br>skill_name=Problem Solving, Advanced Problems<br>year=%{x}<br>skill_delta=%{y} <b>(trend)</b><extra></extra>",
         "legendgroup": "skill_name=Problem Solving, Advanced Problems",
         "marker": {
          "color": "#00cc96",
          "symbol": "circle"
         },
         "mode": "lines",
         "name": "skill_name=Problem Solving, Advanced Problems",
         "showlegend": false,
         "type": "scatter",
         "uid": "fa58c8ca-dac3-4b36-ba97-7585b89087ea",
         "x": [
          2007,
          2008,
          2009,
          2014,
          2016,
          2018
         ],
         "xaxis": "x3",
         "y": [
          3.9800000000004476,
          4.405000000000059,
          4.8300000000006165,
          2.9616722575064864,
          4.62550198988456,
          5.9490584684286185
         ],
         "yaxis": "y3"
        },
        {
         "hovertemplate": "class=5<br>skill_name=Word and Application Problems<br>skill_name=Word and Application Problems<br>year=%{x}<br>skill_delta=%{y}<br>studentCount=%{marker.size}<extra></extra>",
         "legendgroup": "skill_name=Word and Application Problems",
         "marker": {
          "color": "#ab63fa",
          "size": [
           112,
           16,
           73,
           75,
           108,
           107
          ],
          "sizemode": "area",
          "sizeref": 1.14,
          "symbol": "circle"
         },
         "mode": "markers",
         "name": "skill_name=Word and Application Problems",
         "showlegend": false,
         "type": "scatter",
         "uid": "18b68380-eff0-4633-b13e-334983cc2dff",
         "x": [
          "2018",
          "2007",
          "2008",
          "2009",
          "2014",
          "2016"
         ],
         "xaxis": "x4",
         "y": [
          5.269999999999996,
          11.670000000000002,
          2.490000000000002,
          5.3700000000000045,
          6.170000000000002,
          5.450000000000003
         ],
         "yaxis": "y3"
        },
        {
         "hovertemplate": "<b>LOWESS trendline</b><br><br>class=5<br>skill_name=Word and Application Problems<br>skill_name=Word and Application Problems<br>year=%{x}<br>skill_delta=%{y} <b>(trend)</b><extra></extra>",
         "legendgroup": "skill_name=Word and Application Problems",
         "marker": {
          "color": "#ab63fa",
          "symbol": "circle"
         },
         "mode": "lines",
         "name": "skill_name=Word and Application Problems",
         "showlegend": false,
         "type": "scatter",
         "uid": "fad0de18-da7f-4934-94cc-2ffe10cf6573",
         "x": [
          2007,
          2008,
          2009,
          2014,
          2016,
          2018
         ],
         "xaxis": "x4",
         "y": [
          11.670000000002858,
          8.520000000000003,
          5.370000000000056,
          6.140936354439544,
          5.6523022444562185,
          5.20690071700515
         ],
         "yaxis": "y3"
        },
        {
         "hovertemplate": "class=6<br>skill_name=Intermediate Concepts, Geometry and Algebra<br>skill_name=Intermediate Concepts, Geometry and Algebra<br>year=%{x}<br>skill_delta=%{y}<br>studentCount=%{marker.size}<extra></extra>",
         "legendgroup": "skill_name=Intermediate Concepts, Geometry and Algebra",
         "marker": {
          "color": "#636efa",
          "size": [
           111,
           17,
           74,
           79,
           82,
           100
          ],
          "sizemode": "area",
          "sizeref": 1.14,
          "symbol": "circle"
         },
         "mode": "markers",
         "name": "skill_name=Intermediate Concepts, Geometry and Algebra",
         "showlegend": false,
         "type": "scatter",
         "uid": "f2a24339-6369-4897-bc5b-abcc9dfb47ac",
         "x": [
          "2018",
          "2007",
          "2008",
          "2009",
          "2014",
          "2016"
         ],
         "xaxis": "x",
         "y": [
          5.779999999999994,
          10.770000000000003,
          -0.46000000000000085,
          3.030000000000001,
          10.219999999999999,
          3.3599999999999994
         ],
         "yaxis": "y4"
        },
        {
         "hovertemplate": "<b>LOWESS trendline</b><br><br>class=6<br>skill_name=Intermediate Concepts, Geometry and Algebra<br>skill_name=Intermediate Concepts, Geometry and Algebra<br>year=%{x}<br>skill_delta=%{y} <b>(trend)</b><extra></extra>",
         "legendgroup": "skill_name=Intermediate Concepts, Geometry and Algebra",
         "marker": {
          "color": "#636efa",
          "symbol": "circle"
         },
         "mode": "lines",
         "name": "skill_name=Intermediate Concepts, Geometry and Algebra",
         "showlegend": false,
         "type": "scatter",
         "uid": "9a6f1c60-7cb2-4497-a808-e52558cedc68",
         "x": [
          2007,
          2008,
          2009,
          2014,
          2016,
          2018
         ],
         "xaxis": "x",
         "y": [
          9.017878553711366,
          5.105331066752144,
          1.3339831084774847,
          9.620720969717183,
          6.525205318532402,
          4.453680469926818
         ],
         "yaxis": "y4"
        },
        {
         "hovertemplate": "class=6<br>skill_name=Number sense, Computations and Basic Arithmetic<br>skill_name=Number sense, Computations and Basic Arithmetic<br>year=%{x}<br>skill_delta=%{y}<br>studentCount=%{marker.size}<extra></extra>",
         "legendgroup": "skill_name=Number sense, Computations and Basic Arithmetic",
         "marker": {
          "color": "#EF553B",
          "size": [
           111,
           17,
           74,
           79,
           82,
           100
          ],
          "sizemode": "area",
          "sizeref": 1.14,
          "symbol": "circle"
         },
         "mode": "markers",
         "name": "skill_name=Number sense, Computations and Basic Arithmetic",
         "showlegend": false,
         "type": "scatter",
         "uid": "a331cb73-8149-4ff0-b63e-bf598ae05bb0",
         "x": [
          "2018",
          "2007",
          "2008",
          "2009",
          "2014",
          "2016"
         ],
         "xaxis": "x2",
         "y": [
          4.580000000000005,
          23.879999999999995,
          11.43,
          2.6299999999999955,
          5.909999999999997,
          5.789999999999999
         ],
         "yaxis": "y4"
        },
        {
         "hovertemplate": "<b>LOWESS trendline</b><br><br>class=6<br>skill_name=Number sense, Computations and Basic Arithmetic<br>skill_name=Number sense, Computations and Basic Arithmetic<br>year=%{x}<br>skill_delta=%{y} <b>(trend)</b><extra></extra>",
         "legendgroup": "skill_name=Number sense, Computations and Basic Arithmetic",
         "marker": {
          "color": "#EF553B",
          "symbol": "circle"
         },
         "mode": "lines",
         "name": "skill_name=Number sense, Computations and Basic Arithmetic",
         "showlegend": false,
         "type": "scatter",
         "uid": "2c6f97ec-2132-4e0c-8c26-bc2a31a58989",
         "x": [
          2007,
          2008,
          2009,
          2014,
          2016,
          2018
         ],
         "xaxis": "x2",
         "y": [
          23.61634902156756,
          12.985300312883679,
          2.373471952813351,
          5.9835190216774246,
          5.429440355030005,
          4.744573124013427
         ],
         "yaxis": "y4"
        },
        {
         "hovertemplate": "class=6<br>skill_name=Problem Solving, Advanced Problems<br>skill_name=Problem Solving, Advanced Problems<br>year=%{x}<br>skill_delta=%{y}<br>studentCount=%{marker.size}<extra></extra>",
         "legendgroup": "skill_name=Problem Solving, Advanced Problems",
         "marker": {
          "color": "#00cc96",
          "size": [
           111,
           17,
           74,
           79,
           82,
           100
          ],
          "sizemode": "area",
          "sizeref": 1.14,
          "symbol": "circle"
         },
         "mode": "markers",
         "name": "skill_name=Problem Solving, Advanced Problems",
         "showlegend": false,
         "type": "scatter",
         "uid": "b0448e63-0060-465c-ae76-3ba795dd6abb",
         "x": [
          "2018",
          "2007",
          "2008",
          "2009",
          "2014",
          "2016"
         ],
         "xaxis": "x3",
         "y": [
          13.300000000000004,
          0.4299999999999997,
          7.530000000000001,
          4.850000000000001,
          1.4699999999999989,
          3.479999999999997
         ],
         "yaxis": "y4"
        },
        {
         "hovertemplate": "<b>LOWESS trendline</b><br><br>class=6<br>skill_name=Problem Solving, Advanced Problems<br>skill_name=Problem Solving, Advanced Problems<br>year=%{x}<br>skill_delta=%{y} <b>(trend)</b><extra></extra>",
         "legendgroup": "skill_name=Problem Solving, Advanced Problems",
         "marker": {
          "color": "#00cc96",
          "symbol": "circle"
         },
         "mode": "lines",
         "name": "skill_name=Problem Solving, Advanced Problems",
         "showlegend": false,
         "type": "scatter",
         "uid": "9271ccc7-f1e2-478a-a3c8-6b415ca3fc85",
         "x": [
          2007,
          2008,
          2009,
          2014,
          2016,
          2018
         ],
         "xaxis": "x3",
         "y": [
          1.5941132978724104,
          3.8323819407060222,
          5.9768373097217555,
          0.9897617381496266,
          6.234193251695446,
          12.258588817844803
         ],
         "yaxis": "y4"
        },
        {
         "hovertemplate": "class=6<br>skill_name=Word and Application Problems<br>skill_name=Word and Application Problems<br>year=%{x}<br>skill_delta=%{y}<br>studentCount=%{marker.size}<extra></extra>",
         "legendgroup": "skill_name=Word and Application Problems",
         "marker": {
          "color": "#ab63fa",
          "size": [
           111,
           17,
           74,
           79,
           82,
           100
          ],
          "sizemode": "area",
          "sizeref": 1.14,
          "symbol": "circle"
         },
         "mode": "markers",
         "name": "skill_name=Word and Application Problems",
         "showlegend": false,
         "type": "scatter",
         "uid": "3df6c0b2-0a9f-433d-a44e-8d2e35a69b53",
         "x": [
          "2018",
          "2007",
          "2008",
          "2009",
          "2014",
          "2016"
         ],
         "xaxis": "x4",
         "y": [
          3.6700000000000017,
          17.380000000000003,
          7.100000000000001,
          6.969999999999999,
          7.600000000000001,
          1.2199999999999989
         ],
         "yaxis": "y4"
        },
        {
         "hovertemplate": "<b>LOWESS trendline</b><br><br>class=6<br>skill_name=Word and Application Problems<br>skill_name=Word and Application Problems<br>year=%{x}<br>skill_delta=%{y} <b>(trend)</b><extra></extra>",
         "legendgroup": "skill_name=Word and Application Problems",
         "marker": {
          "color": "#ab63fa",
          "symbol": "circle"
         },
         "mode": "lines",
         "name": "skill_name=Word and Application Problems",
         "showlegend": false,
         "type": "scatter",
         "uid": "04d7501d-67da-457f-b7cd-a5be475fdf96",
         "x": [
          2007,
          2008,
          2009,
          2014,
          2016,
          2018
         ],
         "xaxis": "x4",
         "y": [
          16.171845605991702,
          10.937507495081313,
          5.800531830915322,
          7.071958479923818,
          4.39052897910654,
          2.540971768297513
         ],
         "yaxis": "y4"
        },
        {
         "hovertemplate": "class=7<br>skill_name=Intermediate Concepts, Geometry and Algebra<br>skill_name=Intermediate Concepts, Geometry and Algebra<br>year=%{x}<br>skill_delta=%{y}<br>studentCount=%{marker.size}<extra></extra>",
         "legendgroup": "skill_name=Intermediate Concepts, Geometry and Algebra",
         "marker": {
          "color": "#636efa",
          "size": [
           114,
           4,
           45,
           74,
           78,
           99
          ],
          "sizemode": "area",
          "sizeref": 1.14,
          "symbol": "circle"
         },
         "mode": "markers",
         "name": "skill_name=Intermediate Concepts, Geometry and Algebra",
         "showlegend": false,
         "type": "scatter",
         "uid": "fefaef3f-1d74-498f-b54a-bc9df3ab7e6f",
         "x": [
          "2018",
          "2007",
          "2008",
          "2009",
          "2014",
          "2016"
         ],
         "xaxis": "x",
         "y": [
          7.550000000000004,
          16.04,
          11.64,
          7,
          13.07,
          10.469999999999999
         ],
         "yaxis": "y5"
        },
        {
         "hovertemplate": "<b>LOWESS trendline</b><br><br>class=7<br>skill_name=Intermediate Concepts, Geometry and Algebra<br>skill_name=Intermediate Concepts, Geometry and Algebra<br>year=%{x}<br>skill_delta=%{y} <b>(trend)</b><extra></extra>",
         "legendgroup": "skill_name=Intermediate Concepts, Geometry and Algebra",
         "marker": {
          "color": "#636efa",
          "symbol": "circle"
         },
         "mode": "lines",
         "name": "skill_name=Intermediate Concepts, Geometry and Algebra",
         "showlegend": false,
         "type": "scatter",
         "uid": "bcf7d6dc-3d56-4cc0-8550-9d00cc805c8c",
         "x": [
          2007,
          2008,
          2009,
          2014,
          2016,
          2018
         ],
         "xaxis": "x",
         "y": [
          16.07156757300259,
          11.552350815785893,
          7.03052490994603,
          13.085279656203673,
          10.341491789867744,
          7.57880267956176
         ],
         "yaxis": "y5"
        },
        {
         "hovertemplate": "class=7<br>skill_name=Number sense, Computations and Basic Arithmetic<br>skill_name=Number sense, Computations and Basic Arithmetic<br>year=%{x}<br>skill_delta=%{y}<br>studentCount=%{marker.size}<extra></extra>",
         "legendgroup": "skill_name=Number sense, Computations and Basic Arithmetic",
         "marker": {
          "color": "#EF553B",
          "size": [
           114,
           4,
           45,
           74,
           78,
           99
          ],
          "sizemode": "area",
          "sizeref": 1.14,
          "symbol": "circle"
         },
         "mode": "markers",
         "name": "skill_name=Number sense, Computations and Basic Arithmetic",
         "showlegend": false,
         "type": "scatter",
         "uid": "b69cb43a-d5cc-4d2b-afe1-45025bea5b78",
         "x": [
          "2018",
          "2007",
          "2008",
          "2009",
          "2014",
          "2016"
         ],
         "xaxis": "x2",
         "y": [
          6.279999999999994,
          15.579999999999998,
          14.329999999999998,
          7.43,
          12.060000000000002,
          4.390000000000001
         ],
         "yaxis": "y5"
        },
        {
         "hovertemplate": "<b>LOWESS trendline</b><br><br>class=7<br>skill_name=Number sense, Computations and Basic Arithmetic<br>skill_name=Number sense, Computations and Basic Arithmetic<br>year=%{x}<br>skill_delta=%{y} <b>(trend)</b><extra></extra>",
         "legendgroup": "skill_name=Number sense, Computations and Basic Arithmetic",
         "marker": {
          "color": "#EF553B",
          "symbol": "circle"
         },
         "mode": "lines",
         "name": "skill_name=Number sense, Computations and Basic Arithmetic",
         "showlegend": false,
         "type": "scatter",
         "uid": "e15ea578-e675-4361-b9c4-595626c8b2ae",
         "x": [
          2007,
          2008,
          2009,
          2014,
          2016,
          2018
         ],
         "xaxis": "x2",
         "y": [
          16.35479690776241,
          12.299208289111043,
          8.178863769827002,
          11.752172154718908,
          8.629942982482369,
          5.784222551537886
         ],
         "yaxis": "y5"
        },
        {
         "hovertemplate": "class=7<br>skill_name=Problem Solving, Advanced Problems<br>skill_name=Problem Solving, Advanced Problems<br>year=%{x}<br>skill_delta=%{y}<br>studentCount=%{marker.size}<extra></extra>",
         "legendgroup": "skill_name=Problem Solving, Advanced Problems",
         "marker": {
          "color": "#00cc96",
          "size": [
           114,
           4,
           45,
           74,
           78,
           99
          ],
          "sizemode": "area",
          "sizeref": 1.14,
          "symbol": "circle"
         },
         "mode": "markers",
         "name": "skill_name=Problem Solving, Advanced Problems",
         "showlegend": false,
         "type": "scatter",
         "uid": "beabf1c6-e761-4ca6-a331-044731d9dd55",
         "x": [
          "2018",
          "2007",
          "2008",
          "2009",
          "2014",
          "2016"
         ],
         "xaxis": "x3",
         "y": [
          6.25,
          4.949999999999999,
          14.71,
          13.990000000000002,
          8.439999999999998,
          2.6899999999999977
         ],
         "yaxis": "y5"
        },
        {
         "hovertemplate": "<b>LOWESS trendline</b><br><br>class=7<br>skill_name=Problem Solving, Advanced Problems<br>skill_name=Problem Solving, Advanced Problems<br>year=%{x}<br>skill_delta=%{y} <b>(trend)</b><extra></extra>",
         "legendgroup": "skill_name=Problem Solving, Advanced Problems",
         "marker": {
          "color": "#00cc96",
          "symbol": "circle"
         },
         "mode": "lines",
         "name": "skill_name=Problem Solving, Advanced Problems",
         "showlegend": false,
         "type": "scatter",
         "uid": "28d7bf1f-f7da-40d2-8a3d-0ded3335f5d8",
         "x": [
          2007,
          2008,
          2009,
          2014,
          2016,
          2018
         ],
         "xaxis": "x3",
         "y": [
          6.197434290562855,
          10.747726251389912,
          15.197490286901978,
          7.887735841169917,
          6.049878058052988,
          5.074287755292374
         ],
         "yaxis": "y5"
        },
        {
         "hovertemplate": "class=7<br>skill_name=Word and Application Problems<br>skill_name=Word and Application Problems<br>year=%{x}<br>skill_delta=%{y}<br>studentCount=%{marker.size}<extra></extra>",
         "legendgroup": "skill_name=Word and Application Problems",
         "marker": {
          "color": "#ab63fa",
          "size": [
           114,
           4,
           45,
           74,
           78,
           99
          ],
          "sizemode": "area",
          "sizeref": 1.14,
          "symbol": "circle"
         },
         "mode": "markers",
         "name": "skill_name=Word and Application Problems",
         "showlegend": false,
         "type": "scatter",
         "uid": "560f7bda-fb6e-4f87-b286-a10973f455f8",
         "x": [
          "2018",
          "2007",
          "2008",
          "2009",
          "2014",
          "2016"
         ],
         "xaxis": "x4",
         "y": [
          3.0899999999999963,
          19.68,
          17.230000000000004,
          11.379999999999995,
          14.439999999999998,
          7.449999999999996
         ],
         "yaxis": "y5"
        },
        {
         "hovertemplate": "<b>LOWESS trendline</b><br><br>class=7<br>skill_name=Word and Application Problems<br>skill_name=Word and Application Problems<br>year=%{x}<br>skill_delta=%{y} <b>(trend)</b><extra></extra>",
         "legendgroup": "skill_name=Word and Application Problems",
         "marker": {
          "color": "#ab63fa",
          "symbol": "circle"
         },
         "mode": "lines",
         "name": "skill_name=Word and Application Problems",
         "showlegend": false,
         "type": "scatter",
         "uid": "1ce3d255-e368-4bae-921c-8b52a7a63c9c",
         "x": [
          2007,
          2008,
          2009,
          2014,
          2016,
          2018
         ],
         "xaxis": "x4",
         "y": [
          20.08470196449428,
          15.944529509037345,
          11.77174303200469,
          14.27687989370799,
          8.372162537119536,
          2.734832427238395
         ],
         "yaxis": "y5"
        },
        {
         "hovertemplate": "class=8<br>skill_name=Intermediate Concepts, Geometry and Algebra<br>skill_name=Intermediate Concepts, Geometry and Algebra<br>year=%{x}<br>skill_delta=%{y}<br>studentCount=%{marker.size}<extra></extra>",
         "legendgroup": "skill_name=Intermediate Concepts, Geometry and Algebra",
         "marker": {
          "color": "#636efa",
          "size": [
           103,
           13,
           52,
           46,
           77,
           76
          ],
          "sizemode": "area",
          "sizeref": 1.14,
          "symbol": "circle"
         },
         "mode": "markers",
         "name": "skill_name=Intermediate Concepts, Geometry and Algebra",
         "showlegend": false,
         "type": "scatter",
         "uid": "d5ffa173-52d8-4703-96e2-e87e9c5aee87",
         "x": [
          "2018",
          "2007",
          "2008",
          "2009",
          "2014",
          "2016"
         ],
         "xaxis": "x",
         "y": [
          3.5800000000000054,
          18.75,
          12.21,
          20.449999999999996,
          7.75,
          7
         ],
         "yaxis": "y6"
        },
        {
         "hovertemplate": "<b>LOWESS trendline</b><br><br>class=8<br>skill_name=Intermediate Concepts, Geometry and Algebra<br>skill_name=Intermediate Concepts, Geometry and Algebra<br>year=%{x}<br>skill_delta=%{y} <b>(trend)</b><extra></extra>",
         "legendgroup": "skill_name=Intermediate Concepts, Geometry and Algebra",
         "marker": {
          "color": "#636efa",
          "symbol": "circle"
         },
         "mode": "lines",
         "name": "skill_name=Intermediate Concepts, Geometry and Algebra",
         "showlegend": false,
         "type": "scatter",
         "uid": "f2af0592-62e0-4235-bd0e-4a43b1573f6b",
         "x": [
          2007,
          2008,
          2009,
          2014,
          2016,
          2018
         ],
         "xaxis": "x",
         "y": [
          18.750000000005794,
          19.600000000000087,
          20.44999999999796,
          7.9283683272850105,
          6.111171761474855,
          3.97900770747903
         ],
         "yaxis": "y6"
        },
        {
         "hovertemplate": "class=8<br>skill_name=Number sense, Computations and Basic Arithmetic<br>skill_name=Number sense, Computations and Basic Arithmetic<br>year=%{x}<br>skill_delta=%{y}<br>studentCount=%{marker.size}<extra></extra>",
         "legendgroup": "skill_name=Number sense, Computations and Basic Arithmetic",
         "marker": {
          "color": "#EF553B",
          "size": [
           103,
           13,
           52,
           46,
           77,
           76
          ],
          "sizemode": "area",
          "sizeref": 1.14,
          "symbol": "circle"
         },
         "mode": "markers",
         "name": "skill_name=Number sense, Computations and Basic Arithmetic",
         "showlegend": false,
         "type": "scatter",
         "uid": "868ee2c7-2c9b-4606-afd3-49bd8b2c83fe",
         "x": [
          "2018",
          "2007",
          "2008",
          "2009",
          "2014",
          "2016"
         ],
         "xaxis": "x2",
         "y": [
          0.8200000000000003,
          22.689999999999998,
          4.010000000000005,
          21.340000000000003,
          7.969999999999999,
          0.27999999999999403
         ],
         "yaxis": "y6"
        },
        {
         "hovertemplate": "<b>LOWESS trendline</b><br><br>class=8<br>skill_name=Number sense, Computations and Basic Arithmetic<br>skill_name=Number sense, Computations and Basic Arithmetic<br>year=%{x}<br>skill_delta=%{y} <b>(trend)</b><extra></extra>",
         "legendgroup": "skill_name=Number sense, Computations and Basic Arithmetic",
         "marker": {
          "color": "#EF553B",
          "symbol": "circle"
         },
         "mode": "lines",
         "name": "skill_name=Number sense, Computations and Basic Arithmetic",
         "showlegend": false,
         "type": "scatter",
         "uid": "aeac3a9c-375e-4955-86f7-d0337dd48b9a",
         "x": [
          2007,
          2008,
          2009,
          2014,
          2016,
          2018
         ],
         "xaxis": "x2",
         "y": [
          22.47856373018287,
          21.799080090935114,
          21.132691457784333,
          7.4150280079743505,
          3.002596503793031,
          -0.42255581428947464
         ],
         "yaxis": "y6"
        },
        {
         "hovertemplate": "class=8<br>skill_name=Problem Solving, Advanced Problems<br>skill_name=Problem Solving, Advanced Problems<br>year=%{x}<br>skill_delta=%{y}<br>studentCount=%{marker.size}<extra></extra>",
         "legendgroup": "skill_name=Problem Solving, Advanced Problems",
         "marker": {
          "color": "#00cc96",
          "size": [
           103,
           13,
           52,
           46,
           77,
           76
          ],
          "sizemode": "area",
          "sizeref": 1.14,
          "symbol": "circle"
         },
         "mode": "markers",
         "name": "skill_name=Problem Solving, Advanced Problems",
         "showlegend": false,
         "type": "scatter",
         "uid": "d70f4231-a7de-4235-97a0-086bf66c4217",
         "x": [
          "2018",
          "2007",
          "2008",
          "2009",
          "2014",
          "2016"
         ],
         "xaxis": "x3",
         "y": [
          4.699999999999996,
          29.29,
          4.739999999999998,
          12.530000000000001,
          1.6799999999999997,
          -0.7100000000000009
         ],
         "yaxis": "y6"
        },
        {
         "hovertemplate": "<b>LOWESS trendline</b><br><br>class=8<br>skill_name=Problem Solving, Advanced Problems<br>skill_name=Problem Solving, Advanced Problems<br>year=%{x}<br>skill_delta=%{y} <b>(trend)</b><extra></extra>",
         "legendgroup": "skill_name=Problem Solving, Advanced Problems",
         "marker": {
          "color": "#00cc96",
          "symbol": "circle"
         },
         "mode": "lines",
         "name": "skill_name=Problem Solving, Advanced Problems",
         "showlegend": false,
         "type": "scatter",
         "uid": "2143268f-0f79-46cc-a8a8-b119db97cef6",
         "x": [
          2007,
          2008,
          2009,
          2014,
          2016,
          2018
         ],
         "xaxis": "x3",
         "y": [
          28.69480187531548,
          20.30200348986432,
          11.947303737107532,
          1.1538335428653588,
          1.8697468555312433,
          3.52193797965571
         ],
         "yaxis": "y6"
        },
        {
         "hovertemplate": "class=8<br>skill_name=Word and Application Problems<br>skill_name=Word and Application Problems<br>year=%{x}<br>skill_delta=%{y}<br>studentCount=%{marker.size}<extra></extra>",
         "legendgroup": "skill_name=Word and Application Problems",
         "marker": {
          "color": "#ab63fa",
          "size": [
           103,
           13,
           52,
           46,
           77,
           76
          ],
          "sizemode": "area",
          "sizeref": 1.14,
          "symbol": "circle"
         },
         "mode": "markers",
         "name": "skill_name=Word and Application Problems",
         "showlegend": false,
         "type": "scatter",
         "uid": "4406b140-9357-4067-b4bb-6089dc9bf378",
         "x": [
          "2018",
          "2007",
          "2008",
          "2009",
          "2014",
          "2016"
         ],
         "xaxis": "x4",
         "y": [
          4.909999999999997,
          16.61,
          12.310000000000002,
          11.570000000000007,
          6.659999999999997,
          -7.020000000000003
         ],
         "yaxis": "y6"
        },
        {
         "hovertemplate": "<b>LOWESS trendline</b><br><br>class=8<br>skill_name=Word and Application Problems<br>skill_name=Word and Application Problems<br>year=%{x}<br>skill_delta=%{y} <b>(trend)</b><extra></extra>",
         "legendgroup": "skill_name=Word and Application Problems",
         "marker": {
          "color": "#ab63fa",
          "symbol": "circle"
         },
         "mode": "lines",
         "name": "skill_name=Word and Application Problems",
         "showlegend": false,
         "type": "scatter",
         "uid": "3efac29e-c2b4-42e8-b72f-5406e7099926",
         "x": [
          2007,
          2008,
          2009,
          2014,
          2016,
          2018
         ],
         "xaxis": "x4",
         "y": [
          16.148464204768644,
          13.617148744558335,
          11.123825583202219,
          6.660000000000139,
          5.784999999999997,
          4.9100000000000605
         ],
         "yaxis": "y6"
        },
        {
         "hovertemplate": "class=9<br>skill_name=Intermediate Concepts, Geometry and Algebra<br>skill_name=Intermediate Concepts, Geometry and Algebra<br>year=%{x}<br>skill_delta=%{y}<br>studentCount=%{marker.size}<extra></extra>",
         "legendgroup": "skill_name=Intermediate Concepts, Geometry and Algebra",
         "marker": {
          "color": "#636efa",
          "size": [
           99,
           10,
           40,
           51,
           73,
           73
          ],
          "sizemode": "area",
          "sizeref": 1.14,
          "symbol": "circle"
         },
         "mode": "markers",
         "name": "skill_name=Intermediate Concepts, Geometry and Algebra",
         "showlegend": false,
         "type": "scatter",
         "uid": "a3345845-d53a-492d-8309-91ed88587753",
         "x": [
          "2018",
          "2007",
          "2008",
          "2009",
          "2014",
          "2016"
         ],
         "xaxis": "x",
         "y": [
          4.280000000000001,
          14.160000000000004,
          1.5600000000000023,
          10.369999999999997,
          5.989999999999995,
          7.099999999999994
         ],
         "yaxis": "y7"
        },
        {
         "hovertemplate": "<b>LOWESS trendline</b><br><br>class=9<br>skill_name=Intermediate Concepts, Geometry and Algebra<br>skill_name=Intermediate Concepts, Geometry and Algebra<br>year=%{x}<br>skill_delta=%{y} <b>(trend)</b><extra></extra>",
         "legendgroup": "skill_name=Intermediate Concepts, Geometry and Algebra",
         "marker": {
          "color": "#636efa",
          "symbol": "circle"
         },
         "mode": "lines",
         "name": "skill_name=Intermediate Concepts, Geometry and Algebra",
         "showlegend": false,
         "type": "scatter",
         "uid": "9170a53b-004c-40a4-b4df-2994201d26ed",
         "x": [
          2007,
          2008,
          2009,
          2014,
          2016,
          2018
         ],
         "xaxis": "x",
         "y": [
          14.159999999999322,
          12.264999999999795,
          10.369999999999726,
          6.252909755652786,
          5.792946989499478,
          4.868211450272054
         ],
         "yaxis": "y7"
        },
        {
         "hovertemplate": "class=9<br>skill_name=Number sense, Computations and Basic Arithmetic<br>skill_name=Number sense, Computations and Basic Arithmetic<br>year=%{x}<br>skill_delta=%{y}<br>studentCount=%{marker.size}<extra></extra>",
         "legendgroup": "skill_name=Number sense, Computations and Basic Arithmetic",
         "marker": {
          "color": "#EF553B",
          "size": [
           99,
           10,
           40,
           51,
           73,
           73
          ],
          "sizemode": "area",
          "sizeref": 1.14,
          "symbol": "circle"
         },
         "mode": "markers",
         "name": "skill_name=Number sense, Computations and Basic Arithmetic",
         "showlegend": false,
         "type": "scatter",
         "uid": "de1e2e2d-8bcd-47bf-a64c-04e542dc980e",
         "x": [
          "2018",
          "2007",
          "2008",
          "2009",
          "2014",
          "2016"
         ],
         "xaxis": "x2",
         "y": [
          2.200000000000003,
          15.520000000000003,
          10.060000000000002,
          1.1400000000000006,
          4.310000000000002,
          10.300000000000004
         ],
         "yaxis": "y7"
        },
        {
         "hovertemplate": "<b>LOWESS trendline</b><br><br>class=9<br>skill_name=Number sense, Computations and Basic Arithmetic<br>skill_name=Number sense, Computations and Basic Arithmetic<br>year=%{x}<br>skill_delta=%{y} <b>(trend)</b><extra></extra>",
         "legendgroup": "skill_name=Number sense, Computations and Basic Arithmetic",
         "marker": {
          "color": "#EF553B",
          "symbol": "circle"
         },
         "mode": "lines",
         "name": "skill_name=Number sense, Computations and Basic Arithmetic",
         "showlegend": false,
         "type": "scatter",
         "uid": "0e3124cc-dab7-477a-9d58-b5b9dd80a5fb",
         "x": [
          2007,
          2008,
          2009,
          2014,
          2016,
          2018
         ],
         "xaxis": "x2",
         "y": [
          15.991272847823355,
          8.812934078414001,
          1.5952939124907015,
          4.310000000000108,
          3.2550000000000026,
          2.200000000000029
         ],
         "yaxis": "y7"
        },
        {
         "hovertemplate": "class=9<br>skill_name=Problem Solving, Advanced Problems<br>skill_name=Problem Solving, Advanced Problems<br>year=%{x}<br>skill_delta=%{y}<br>studentCount=%{marker.size}<extra></extra>",
         "legendgroup": "skill_name=Problem Solving, Advanced Problems",
         "marker": {
          "color": "#00cc96",
          "size": [
           99,
           10,
           40,
           51,
           73,
           73
          ],
          "sizemode": "area",
          "sizeref": 1.14,
          "symbol": "circle"
         },
         "mode": "markers",
         "name": "skill_name=Problem Solving, Advanced Problems",
         "showlegend": false,
         "type": "scatter",
         "uid": "765e56df-e0ee-46ca-81a9-349a08cdc0e8",
         "x": [
          "2018",
          "2007",
          "2008",
          "2009",
          "2014",
          "2016"
         ],
         "xaxis": "x3",
         "y": [
          12.560000000000002,
          7.460000000000001,
          10.810000000000002,
          10.940000000000005,
          -3.490000000000002,
          -0.8000000000000007
         ],
         "yaxis": "y7"
        },
        {
         "hovertemplate": "<b>LOWESS trendline</b><br><br>class=9<br>skill_name=Problem Solving, Advanced Problems<br>skill_name=Problem Solving, Advanced Problems<br>year=%{x}<br>skill_delta=%{y} <b>(trend)</b><extra></extra>",
         "legendgroup": "skill_name=Problem Solving, Advanced Problems",
         "marker": {
          "color": "#00cc96",
          "symbol": "circle"
         },
         "mode": "lines",
         "name": "skill_name=Problem Solving, Advanced Problems",
         "showlegend": false,
         "type": "scatter",
         "uid": "4cb3185d-b8c6-4752-827e-7fbb3cbbe05d",
         "x": [
          2007,
          2008,
          2009,
          2014,
          2016,
          2018
         ],
         "xaxis": "x3",
         "y": [
          7.90106241881639,
          9.651988704817914,
          11.366077153113034,
          -3.4900000000002898,
          4.535,
          12.560000000000205
         ],
         "yaxis": "y7"
        },
        {
         "hovertemplate": "class=9<br>skill_name=Word and Application Problems<br>skill_name=Word and Application Problems<br>year=%{x}<br>skill_delta=%{y}<br>studentCount=%{marker.size}<extra></extra>",
         "legendgroup": "skill_name=Word and Application Problems",
         "marker": {
          "color": "#ab63fa",
          "size": [
           99,
           10,
           40,
           51,
           73,
           73
          ],
          "sizemode": "area",
          "sizeref": 1.14,
          "symbol": "circle"
         },
         "mode": "markers",
         "name": "skill_name=Word and Application Problems",
         "showlegend": false,
         "type": "scatter",
         "uid": "a9f02a41-1392-41d2-b6a5-11f64824aff0",
         "x": [
          "2018",
          "2007",
          "2008",
          "2009",
          "2014",
          "2016"
         ],
         "xaxis": "x4",
         "y": [
          7.100000000000005,
          15.68,
          9.719999999999999,
          5.760000000000005,
          3.549999999999997,
          3.8699999999999974
         ],
         "yaxis": "y7"
        },
        {
         "hovertemplate": "<b>LOWESS trendline</b><br><br>class=9<br>skill_name=Word and Application Problems<br>skill_name=Word and Application Problems<br>year=%{x}<br>skill_delta=%{y} <b>(trend)</b><extra></extra>",
         "legendgroup": "skill_name=Word and Application Problems",
         "marker": {
          "color": "#ab63fa",
          "symbol": "circle"
         },
         "mode": "lines",
         "name": "skill_name=Word and Application Problems",
         "showlegend": false,
         "type": "scatter",
         "uid": "676f41cf-3d67-443b-9c9f-52dd19aa3c23",
         "x": [
          2007,
          2008,
          2009,
          2014,
          2016,
          2018
         ],
         "xaxis": "x4",
         "y": [
          15.41189779123567,
          10.445215494678639,
          5.500804309553455,
          3.42330029217851,
          5.075557927998898,
          6.871555761466248
         ],
         "yaxis": "y7"
        },
        {
         "hovertemplate": "class=10<br>skill_name=Intermediate Concepts, Geometry and Algebra<br>skill_name=Intermediate Concepts, Geometry and Algebra<br>year=%{x}<br>skill_delta=%{y}<br>studentCount=%{marker.size}<extra></extra>",
         "legendgroup": "skill_name=Intermediate Concepts, Geometry and Algebra",
         "marker": {
          "color": "#636efa",
          "size": [
           73,
           67
          ],
          "sizemode": "area",
          "sizeref": 1.14,
          "symbol": "circle"
         },
         "mode": "markers",
         "name": "skill_name=Intermediate Concepts, Geometry and Algebra",
         "showlegend": false,
         "type": "scatter",
         "uid": "8c8537b4-71db-4fa3-a2da-ec2577964ee1",
         "x": [
          "2014",
          "2016"
         ],
         "xaxis": "x",
         "y": [
          -1.5399999999999991,
          9.240000000000002
         ],
         "yaxis": "y8"
        },
        {
         "hovertemplate": "<b>LOWESS trendline</b><br><br>class=10<br>skill_name=Intermediate Concepts, Geometry and Algebra<br>skill_name=Intermediate Concepts, Geometry and Algebra<br>year=%{x}<br>skill_delta=%{y} <b>(trend)</b><extra></extra>",
         "legendgroup": "skill_name=Intermediate Concepts, Geometry and Algebra",
         "marker": {
          "color": "#636efa",
          "symbol": "circle"
         },
         "mode": "lines",
         "name": "skill_name=Intermediate Concepts, Geometry and Algebra",
         "showlegend": false,
         "type": "scatter",
         "uid": "da81d419-1114-4d5b-ba92-ff5c31e1bb00",
         "x": [
          2014,
          2016
         ],
         "xaxis": "x",
         "y": [
          -1.5399999999999991,
          9.240000000000002
         ],
         "yaxis": "y8"
        },
        {
         "hovertemplate": "class=10<br>skill_name=Number sense, Computations and Basic Arithmetic<br>skill_name=Number sense, Computations and Basic Arithmetic<br>year=%{x}<br>skill_delta=%{y}<br>studentCount=%{marker.size}<extra></extra>",
         "legendgroup": "skill_name=Number sense, Computations and Basic Arithmetic",
         "marker": {
          "color": "#EF553B",
          "size": [
           73,
           67
          ],
          "sizemode": "area",
          "sizeref": 1.14,
          "symbol": "circle"
         },
         "mode": "markers",
         "name": "skill_name=Number sense, Computations and Basic Arithmetic",
         "showlegend": false,
         "type": "scatter",
         "uid": "6ba4a77d-56c4-45a1-a87c-603a09ddecda",
         "x": [
          "2014",
          "2016"
         ],
         "xaxis": "x2",
         "y": [
          0.10999999999999943,
          0.10000000000000142
         ],
         "yaxis": "y8"
        },
        {
         "hovertemplate": "<b>LOWESS trendline</b><br><br>class=10<br>skill_name=Number sense, Computations and Basic Arithmetic<br>skill_name=Number sense, Computations and Basic Arithmetic<br>year=%{x}<br>skill_delta=%{y} <b>(trend)</b><extra></extra>",
         "legendgroup": "skill_name=Number sense, Computations and Basic Arithmetic",
         "marker": {
          "color": "#EF553B",
          "symbol": "circle"
         },
         "mode": "lines",
         "name": "skill_name=Number sense, Computations and Basic Arithmetic",
         "showlegend": false,
         "type": "scatter",
         "uid": "1774aafa-f6f4-4805-9406-cbbf89e43d30",
         "x": [
          2014,
          2016
         ],
         "xaxis": "x2",
         "y": [
          0.10999999999999943,
          0.10000000000000142
         ],
         "yaxis": "y8"
        },
        {
         "hovertemplate": "class=10<br>skill_name=Problem Solving, Advanced Problems<br>skill_name=Problem Solving, Advanced Problems<br>year=%{x}<br>skill_delta=%{y}<br>studentCount=%{marker.size}<extra></extra>",
         "legendgroup": "skill_name=Problem Solving, Advanced Problems",
         "marker": {
          "color": "#00cc96",
          "size": [
           73,
           67
          ],
          "sizemode": "area",
          "sizeref": 1.14,
          "symbol": "circle"
         },
         "mode": "markers",
         "name": "skill_name=Problem Solving, Advanced Problems",
         "showlegend": false,
         "type": "scatter",
         "uid": "a4474143-56c3-433b-9906-7e4937fc3b22",
         "x": [
          "2014",
          "2016"
         ],
         "xaxis": "x3",
         "y": [
          -6.18,
          -1.9200000000000017
         ],
         "yaxis": "y8"
        },
        {
         "hovertemplate": "<b>LOWESS trendline</b><br><br>class=10<br>skill_name=Problem Solving, Advanced Problems<br>skill_name=Problem Solving, Advanced Problems<br>year=%{x}<br>skill_delta=%{y} <b>(trend)</b><extra></extra>",
         "legendgroup": "skill_name=Problem Solving, Advanced Problems",
         "marker": {
          "color": "#00cc96",
          "symbol": "circle"
         },
         "mode": "lines",
         "name": "skill_name=Problem Solving, Advanced Problems",
         "showlegend": false,
         "type": "scatter",
         "uid": "ee8f3c90-f2b2-4dd0-8b83-8f876aacfb9a",
         "x": [
          2014,
          2016
         ],
         "xaxis": "x3",
         "y": [
          -6.18,
          -1.9200000000000017
         ],
         "yaxis": "y8"
        },
        {
         "hovertemplate": "class=10<br>skill_name=Word and Application Problems<br>skill_name=Word and Application Problems<br>year=%{x}<br>skill_delta=%{y}<br>studentCount=%{marker.size}<extra></extra>",
         "legendgroup": "skill_name=Word and Application Problems",
         "marker": {
          "color": "#ab63fa",
          "size": [
           73,
           67
          ],
          "sizemode": "area",
          "sizeref": 1.14,
          "symbol": "circle"
         },
         "mode": "markers",
         "name": "skill_name=Word and Application Problems",
         "showlegend": false,
         "type": "scatter",
         "uid": "dc2f1a1f-831e-4b98-94bd-fd37c7c9cfd3",
         "x": [
          "2014",
          "2016"
         ],
         "xaxis": "x4",
         "y": [
          4.669999999999995,
          7.229999999999997
         ],
         "yaxis": "y8"
        },
        {
         "hovertemplate": "<b>LOWESS trendline</b><br><br>class=10<br>skill_name=Word and Application Problems<br>skill_name=Word and Application Problems<br>year=%{x}<br>skill_delta=%{y} <b>(trend)</b><extra></extra>",
         "legendgroup": "skill_name=Word and Application Problems",
         "marker": {
          "color": "#ab63fa",
          "symbol": "circle"
         },
         "mode": "lines",
         "name": "skill_name=Word and Application Problems",
         "showlegend": false,
         "type": "scatter",
         "uid": "eafd36be-e398-4fec-9ed6-004338535f0e",
         "x": [
          2014,
          2016
         ],
         "xaxis": "x4",
         "y": [
          4.669999999999995,
          7.229999999999997
         ],
         "yaxis": "y8"
        }
       ],
       "layout": {
        "annotations": [
         {
          "showarrow": false,
          "text": "skill_name=Intermediate Concepts, Geometry and Algebra",
          "textangle": 0,
          "x": 0.1153846153846154,
          "xanchor": "center",
          "xref": "paper",
          "y": 1.02,
          "yanchor": "middle",
          "yref": "paper"
         },
         {
          "showarrow": false,
          "text": "skill_name=Number sense, Computations and Basic Arithmetic",
          "textangle": 0,
          "x": 0.3717948717948718,
          "xanchor": "center",
          "xref": "paper",
          "y": 1.02,
          "yanchor": "middle",
          "yref": "paper"
         },
         {
          "showarrow": false,
          "text": "skill_name=Problem Solving, Advanced Problems",
          "textangle": 0,
          "x": 0.6282051282051283,
          "xanchor": "center",
          "xref": "paper",
          "y": 1.02,
          "yanchor": "middle",
          "yref": "paper"
         },
         {
          "showarrow": false,
          "text": "skill_name=Word and Application Problems",
          "textangle": 0,
          "x": 0.8846153846153848,
          "xanchor": "center",
          "xref": "paper",
          "y": 1.02,
          "yanchor": "middle",
          "yref": "paper"
         },
         {
          "showarrow": false,
          "text": "class=3",
          "textangle": 90,
          "x": 1.01,
          "xanchor": "center",
          "xref": "paper",
          "y": 0.9430379746835442,
          "yanchor": "middle",
          "yref": "paper"
         },
         {
          "showarrow": false,
          "text": "class=4",
          "textangle": 90,
          "x": 1.01,
          "xanchor": "center",
          "xref": "paper",
          "y": 0.8164556962025316,
          "yanchor": "middle",
          "yref": "paper"
         },
         {
          "showarrow": false,
          "text": "class=5",
          "textangle": 90,
          "x": 1.01,
          "xanchor": "center",
          "xref": "paper",
          "y": 0.6898734177215189,
          "yanchor": "middle",
          "yref": "paper"
         },
         {
          "showarrow": false,
          "text": "class=6",
          "textangle": 90,
          "x": 1.01,
          "xanchor": "center",
          "xref": "paper",
          "y": 0.5632911392405062,
          "yanchor": "middle",
          "yref": "paper"
         },
         {
          "showarrow": false,
          "text": "class=7",
          "textangle": 90,
          "x": 1.01,
          "xanchor": "center",
          "xref": "paper",
          "y": 0.4367088607594936,
          "yanchor": "middle",
          "yref": "paper"
         },
         {
          "showarrow": false,
          "text": "class=8",
          "textangle": 90,
          "x": 1.01,
          "xanchor": "center",
          "xref": "paper",
          "y": 0.310126582278481,
          "yanchor": "middle",
          "yref": "paper"
         },
         {
          "showarrow": false,
          "text": "class=9",
          "textangle": 90,
          "x": 1.01,
          "xanchor": "center",
          "xref": "paper",
          "y": 0.18354430379746833,
          "yanchor": "middle",
          "yref": "paper"
         },
         {
          "showarrow": false,
          "text": "class=10",
          "textangle": 90,
          "x": 1.01,
          "xanchor": "center",
          "xref": "paper",
          "y": 0.05696202531645569,
          "yanchor": "middle",
          "yref": "paper"
         }
        ],
        "grid": {
         "xaxes": [
          "x",
          "x2",
          "x3",
          "x4"
         ],
         "xgap": 0.1,
         "xside": "bottom",
         "yaxes": [
          "y",
          "y2",
          "y3",
          "y4",
          "y5",
          "y6",
          "y7",
          "y8"
         ],
         "ygap": 0.1,
         "yside": "left"
        },
        "height": 2000,
        "legend": {
         "tracegroupgap": 0
        },
        "template": {
         "data": {
          "bar": [
           {
            "marker": {
             "line": {
              "color": "#E5ECF6",
              "width": 0.5
             }
            },
            "type": "bar"
           }
          ],
          "barpolar": [
           {
            "marker": {
             "line": {
              "color": "#E5ECF6",
              "width": 0.5
             }
            },
            "type": "barpolar"
           }
          ],
          "carpet": [
           {
            "aaxis": {
             "endlinecolor": "#2a3f5f",
             "gridcolor": "white",
             "linecolor": "white",
             "minorgridcolor": "white",
             "startlinecolor": "#2a3f5f"
            },
            "baxis": {
             "endlinecolor": "#2a3f5f",
             "gridcolor": "white",
             "linecolor": "white",
             "minorgridcolor": "white",
             "startlinecolor": "#2a3f5f"
            },
            "type": "carpet"
           }
          ],
          "choropleth": [
           {
            "colorbar": {
             "outlinewidth": 0,
             "ticks": ""
            },
            "type": "choropleth"
           }
          ],
          "contour": [
           {
            "autocolorscale": true,
            "colorbar": {
             "outlinewidth": 0,
             "ticks": ""
            },
            "type": "contour"
           }
          ],
          "contourcarpet": [
           {
            "colorbar": {
             "outlinewidth": 0,
             "ticks": ""
            },
            "type": "contourcarpet"
           }
          ],
          "heatmap": [
           {
            "autocolorscale": true,
            "colorbar": {
             "outlinewidth": 0,
             "ticks": ""
            },
            "type": "heatmap"
           }
          ],
          "heatmapgl": [
           {
            "colorbar": {
             "outlinewidth": 0,
             "ticks": ""
            },
            "type": "heatmapgl"
           }
          ],
          "histogram": [
           {
            "marker": {
             "colorbar": {
              "outlinewidth": 0,
              "ticks": ""
             }
            },
            "type": "histogram"
           }
          ],
          "histogram2d": [
           {
            "autocolorscale": true,
            "colorbar": {
             "outlinewidth": 0,
             "ticks": ""
            },
            "type": "histogram2d"
           }
          ],
          "histogram2dcontour": [
           {
            "autocolorscale": true,
            "colorbar": {
             "outlinewidth": 0,
             "ticks": ""
            },
            "type": "histogram2dcontour"
           }
          ],
          "mesh3d": [
           {
            "colorbar": {
             "outlinewidth": 0,
             "ticks": ""
            },
            "type": "mesh3d"
           }
          ],
          "parcoords": [
           {
            "line": {
             "colorbar": {
              "outlinewidth": 0,
              "ticks": ""
             }
            },
            "type": "parcoords"
           }
          ],
          "scatter": [
           {
            "marker": {
             "colorbar": {
              "outlinewidth": 0,
              "ticks": ""
             }
            },
            "type": "scatter"
           }
          ],
          "scatter3d": [
           {
            "marker": {
             "colorbar": {
              "outlinewidth": 0,
              "ticks": ""
             }
            },
            "type": "scatter3d"
           }
          ],
          "scattercarpet": [
           {
            "marker": {
             "colorbar": {
              "outlinewidth": 0,
              "ticks": ""
             }
            },
            "type": "scattercarpet"
           }
          ],
          "scattergeo": [
           {
            "marker": {
             "colorbar": {
              "outlinewidth": 0,
              "ticks": ""
             }
            },
            "type": "scattergeo"
           }
          ],
          "scattergl": [
           {
            "marker": {
             "colorbar": {
              "outlinewidth": 0,
              "ticks": ""
             }
            },
            "type": "scattergl"
           }
          ],
          "scattermapbox": [
           {
            "marker": {
             "colorbar": {
              "outlinewidth": 0,
              "ticks": ""
             }
            },
            "type": "scattermapbox"
           }
          ],
          "scatterpolar": [
           {
            "marker": {
             "colorbar": {
              "outlinewidth": 0,
              "ticks": ""
             }
            },
            "type": "scatterpolar"
           }
          ],
          "scatterpolargl": [
           {
            "marker": {
             "colorbar": {
              "outlinewidth": 0,
              "ticks": ""
             }
            },
            "type": "scatterpolargl"
           }
          ],
          "scatterternary": [
           {
            "marker": {
             "colorbar": {
              "outlinewidth": 0,
              "ticks": ""
             }
            },
            "type": "scatterternary"
           }
          ],
          "surface": [
           {
            "colorbar": {
             "outlinewidth": 0,
             "ticks": ""
            },
            "type": "surface"
           }
          ],
          "table": [
           {
            "cells": {
             "fill": {
              "color": "#EBF0F8"
             },
             "line": {
              "color": "white"
             }
            },
            "header": {
             "fill": {
              "color": "#C8D4E3"
             },
             "line": {
              "color": "white"
             }
            },
            "type": "table"
           }
          ]
         },
         "layout": {
          "annotationdefaults": {
           "arrowcolor": "#506784",
           "arrowhead": 0,
           "arrowwidth": 1
          },
          "colorscale": {
           "diverging": [
            [
             0,
             "#8e0152"
            ],
            [
             0.1,
             "#c51b7d"
            ],
            [
             0.2,
             "#de77ae"
            ],
            [
             0.3,
             "#f1b6da"
            ],
            [
             0.4,
             "#fde0ef"
            ],
            [
             0.5,
             "#f7f7f7"
            ],
            [
             0.6,
             "#e6f5d0"
            ],
            [
             0.7,
             "#b8e186"
            ],
            [
             0.8,
             "#7fbc41"
            ],
            [
             0.9,
             "#4d9221"
            ],
            [
             1,
             "#276419"
            ]
           ],
           "sequential": [
            [
             0,
             "#0508b8"
            ],
            [
             0.0893854748603352,
             "#1910d8"
            ],
            [
             0.1787709497206704,
             "#3c19f0"
            ],
            [
             0.2681564245810056,
             "#6b1cfb"
            ],
            [
             0.3575418994413408,
             "#981cfd"
            ],
            [
             0.44692737430167595,
             "#bf1cfd"
            ],
            [
             0.5363128491620112,
             "#dd2bfd"
            ],
            [
             0.6256983240223464,
             "#f246fe"
            ],
            [
             0.7150837988826816,
             "#fc67fd"
            ],
            [
             0.8044692737430168,
             "#fe88fc"
            ],
            [
             0.8938547486033519,
             "#fea5fd"
            ],
            [
             0.9832402234636871,
             "#febefe"
            ],
            [
             1,
             "#fec3fe"
            ]
           ],
           "sequentialminus": [
            [
             0,
             "#0508b8"
            ],
            [
             0.0893854748603352,
             "#1910d8"
            ],
            [
             0.1787709497206704,
             "#3c19f0"
            ],
            [
             0.2681564245810056,
             "#6b1cfb"
            ],
            [
             0.3575418994413408,
             "#981cfd"
            ],
            [
             0.44692737430167595,
             "#bf1cfd"
            ],
            [
             0.5363128491620112,
             "#dd2bfd"
            ],
            [
             0.6256983240223464,
             "#f246fe"
            ],
            [
             0.7150837988826816,
             "#fc67fd"
            ],
            [
             0.8044692737430168,
             "#fe88fc"
            ],
            [
             0.8938547486033519,
             "#fea5fd"
            ],
            [
             0.9832402234636871,
             "#febefe"
            ],
            [
             1,
             "#fec3fe"
            ]
           ]
          },
          "colorway": [
           "#636efa",
           "#EF553B",
           "#00cc96",
           "#ab63fa",
           "#19d3f3",
           "#e763fa",
           "#FECB52",
           "#FFA15A",
           "#FF6692",
           "#B6E880"
          ],
          "font": {
           "color": "#2a3f5f"
          },
          "geo": {
           "bgcolor": "white",
           "lakecolor": "white",
           "landcolor": "#E5ECF6",
           "showlakes": true,
           "showland": true,
           "subunitcolor": "white"
          },
          "hoverlabel": {
           "align": "left"
          },
          "hovermode": "closest",
          "legend": {
           "itemsizing": "constant"
          },
          "mapbox": {
           "style": "light"
          },
          "paper_bgcolor": "white",
          "plot_bgcolor": "#E5ECF6",
          "polar": {
           "angularaxis": {
            "gridcolor": "white",
            "linecolor": "white",
            "ticks": ""
           },
           "bgcolor": "#E5ECF6",
           "radialaxis": {
            "gridcolor": "white",
            "linecolor": "white",
            "ticks": ""
           }
          },
          "scene": {
           "xaxis": {
            "backgroundcolor": "#E5ECF6",
            "gridcolor": "white",
            "gridwidth": 2,
            "linecolor": "white",
            "showbackground": true,
            "ticks": "",
            "zerolinecolor": "white"
           },
           "yaxis": {
            "backgroundcolor": "#E5ECF6",
            "gridcolor": "white",
            "gridwidth": 2,
            "linecolor": "white",
            "showbackground": true,
            "ticks": "",
            "zerolinecolor": "white"
           },
           "zaxis": {
            "backgroundcolor": "#E5ECF6",
            "gridcolor": "white",
            "gridwidth": 2,
            "linecolor": "white",
            "showbackground": true,
            "ticks": "",
            "zerolinecolor": "white"
           }
          },
          "shapedefaults": {
           "fillcolor": "#506784",
           "line": {
            "width": 0
           },
           "opacity": 0.4
          },
          "ternary": {
           "aaxis": {
            "gridcolor": "white",
            "linecolor": "white",
            "ticks": ""
           },
           "baxis": {
            "gridcolor": "white",
            "linecolor": "white",
            "ticks": ""
           },
           "bgcolor": "#E5ECF6",
           "caxis": {
            "gridcolor": "white",
            "linecolor": "white",
            "ticks": ""
           }
          },
          "title": {
           "x": 0.05
          },
          "xaxis": {
           "automargin": true,
           "gridcolor": "white",
           "linecolor": "white",
           "ticks": "",
           "zerolinecolor": "white",
           "zerolinewidth": 2
          },
          "yaxis": {
           "automargin": true,
           "gridcolor": "white",
           "linecolor": "white",
           "ticks": "",
           "zerolinecolor": "white",
           "zerolinewidth": 2
          }
         }
        },
        "title": {
         "text": "Core Skills in Maths (Sushila Birla Girls^ School-Kolkata-CBSE)"
        },
        "width": 3000,
        "xaxis": {
         "title": {
          "text": "year"
         }
        },
        "xaxis2": {
         "matches": "x",
         "title": {
          "text": "year"
         }
        },
        "xaxis3": {
         "matches": "x",
         "title": {
          "text": "year"
         }
        },
        "xaxis4": {
         "matches": "x",
         "title": {
          "text": "year"
         }
        },
        "yaxis": {
         "title": {
          "text": "skill_delta"
         }
        },
        "yaxis2": {
         "matches": "y",
         "title": {
          "text": "skill_delta"
         }
        },
        "yaxis3": {
         "matches": "y",
         "title": {
          "text": "skill_delta"
         }
        },
        "yaxis4": {
         "matches": "y",
         "title": {
          "text": "skill_delta"
         }
        },
        "yaxis5": {
         "matches": "y",
         "title": {
          "text": "skill_delta"
         }
        },
        "yaxis6": {
         "matches": "y",
         "title": {
          "text": "skill_delta"
         }
        },
        "yaxis7": {
         "matches": "y",
         "title": {
          "text": "skill_delta"
         }
        },
        "yaxis8": {
         "matches": "y",
         "title": {
          "text": "skill_delta"
         }
        }
       }
      },
      "text/html": [
       "<div>\n",
       "        \n",
       "        \n",
       "            <div id=\"0561593a-aa9e-4753-a523-f7c2bdd8860a\" class=\"plotly-graph-div\"></div>\n",
       "            <script type=\"text/javascript\">\n",
       "                require([\"plotly\"], function(Plotly) {\n",
       "                    window.PLOTLYENV=window.PLOTLYENV || {};\n",
       "                    window.PLOTLYENV.BASE_URL='https://plot.ly';\n",
       "                    \n",
       "                if (document.getElementById(\"0561593a-aa9e-4753-a523-f7c2bdd8860a\")) {\n",
       "                    Plotly.newPlot(\n",
       "                        '0561593a-aa9e-4753-a523-f7c2bdd8860a',\n",
       "                        [{\"hovertemplate\": \"class=3<br>skill_name=Intermediate Concepts, Geometry and Algebra<br>skill_name=Intermediate Concepts, Geometry and Algebra<br>year=%{x}<br>skill_delta=%{y}<br>studentCount=%{marker.size}<extra></extra>\", \"legendgroup\": \"skill_name=Intermediate Concepts, Geometry and Algebra\", \"marker\": {\"color\": \"#636efa\", \"size\": [108, 19, 74, 75, 106, 109], \"sizemode\": \"area\", \"sizeref\": 1.14, \"symbol\": \"circle\"}, \"mode\": \"markers\", \"name\": \"skill_name=Intermediate Concepts, Geometry and Algebra\", \"showlegend\": true, \"type\": \"scatter\", \"uid\": \"b6fc3451-b201-4009-a36f-be02b642c921\", \"x\": [\"2018\", \"2007\", \"2008\", \"2009\", \"2014\", \"2016\"], \"xaxis\": \"x\", \"y\": [-4.329999999999998, 5.339999999999996, -7.800000000000004, 2.219999999999999, 0.960000000000008, -1.8999999999999986], \"yaxis\": \"y\"}, {\"hovertemplate\": \"<b>LOWESS trendline</b><br><br>class=3<br>skill_name=Intermediate Concepts, Geometry and Algebra<br>skill_name=Intermediate Concepts, Geometry and Algebra<br>year=%{x}<br>skill_delta=%{y} <b>(trend)</b><extra></extra>\", \"legendgroup\": \"skill_name=Intermediate Concepts, Geometry and Algebra\", \"marker\": {\"color\": \"#636efa\", \"symbol\": \"circle\"}, \"mode\": \"lines\", \"name\": \"skill_name=Intermediate Concepts, Geometry and Algebra\", \"showlegend\": false, \"type\": \"scatter\", \"uid\": \"c67a3894-821f-4683-8957-79bd09388cf2\", \"x\": [2007.0, 2008.0, 2009.0, 2014.0, 2016.0, 2018.0], \"xaxis\": \"x\", \"y\": [5.3400000000013055, 3.7799999999999976, 2.2200000000000197, 0.9368225752117603, -1.7390436691174327, -4.380371735894711], \"yaxis\": \"y\"}, {\"hovertemplate\": \"class=3<br>skill_name=Number sense, Computations and Basic Arithmetic<br>skill_name=Number sense, Computations and Basic Arithmetic<br>year=%{x}<br>skill_delta=%{y}<br>studentCount=%{marker.size}<extra></extra>\", \"legendgroup\": \"skill_name=Number sense, Computations and Basic Arithmetic\", \"marker\": {\"color\": \"#EF553B\", \"size\": [108, 19, 74, 75, 106, 109], \"sizemode\": \"area\", \"sizeref\": 1.14, \"symbol\": \"circle\"}, \"mode\": \"markers\", \"name\": \"skill_name=Number sense, Computations and Basic Arithmetic\", \"showlegend\": true, \"type\": \"scatter\", \"uid\": \"8fde8ccb-fef2-4d45-b01b-33fadf5f5448\", \"x\": [\"2018\", \"2007\", \"2008\", \"2009\", \"2014\", \"2016\"], \"xaxis\": \"x2\", \"y\": [9.370000000000005, 13.769999999999996, -3.1499999999999986, 1.4899999999999949, 5.929999999999993, 13.380000000000003], \"yaxis\": \"y\"}, {\"hovertemplate\": \"<b>LOWESS trendline</b><br><br>class=3<br>skill_name=Number sense, Computations and Basic Arithmetic<br>skill_name=Number sense, Computations and Basic Arithmetic<br>year=%{x}<br>skill_delta=%{y} <b>(trend)</b><extra></extra>\", \"legendgroup\": \"skill_name=Number sense, Computations and Basic Arithmetic\", \"marker\": {\"color\": \"#EF553B\", \"symbol\": \"circle\"}, \"mode\": \"lines\", \"name\": \"skill_name=Number sense, Computations and Basic Arithmetic\", \"showlegend\": false, \"type\": \"scatter\", \"uid\": \"1822e007-d3cd-4382-a9b5-ea91bd03e3ca\", \"x\": [2007.0, 2008.0, 2009.0, 2014.0, 2016.0, 2018.0], \"xaxis\": \"x2\", \"y\": [11.203713425144903, 5.0013952309226655, -0.9941116970937516, 6.6856344253627356, 9.527918709418099, 11.053013264472746], \"yaxis\": \"y\"}, {\"hovertemplate\": \"class=3<br>skill_name=Problem Solving, Advanced Problems<br>skill_name=Problem Solving, Advanced Problems<br>year=%{x}<br>skill_delta=%{y}<br>studentCount=%{marker.size}<extra></extra>\", \"legendgroup\": \"skill_name=Problem Solving, Advanced Problems\", \"marker\": {\"color\": \"#00cc96\", \"size\": [108, 19, 74, 75, 106, 109], \"sizemode\": \"area\", \"sizeref\": 1.14, \"symbol\": \"circle\"}, \"mode\": \"markers\", \"name\": \"skill_name=Problem Solving, Advanced Problems\", \"showlegend\": true, \"type\": \"scatter\", \"uid\": \"33b84f3a-0666-4920-9b7f-a9fd05d6ef3e\", \"x\": [\"2018\", \"2007\", \"2008\", \"2009\", \"2014\", \"2016\"], \"xaxis\": \"x3\", \"y\": [7.640000000000008, -2.030000000000001, 2.210000000000001, 5.420000000000002, -4.780000000000001, 11.719999999999999], \"yaxis\": \"y\"}, {\"hovertemplate\": \"<b>LOWESS trendline</b><br><br>class=3<br>skill_name=Problem Solving, Advanced Problems<br>skill_name=Problem Solving, Advanced Problems<br>year=%{x}<br>skill_delta=%{y} <b>(trend)</b><extra></extra>\", \"legendgroup\": \"skill_name=Problem Solving, Advanced Problems\", \"marker\": {\"color\": \"#00cc96\", \"symbol\": \"circle\"}, \"mode\": \"lines\", \"name\": \"skill_name=Problem Solving, Advanced Problems\", \"showlegend\": false, \"type\": \"scatter\", \"uid\": \"391c0018-11ff-4493-adc9-5945428199e8\", \"x\": [2007.0, 2008.0, 2009.0, 2014.0, 2016.0, 2018.0], \"xaxis\": \"x3\", \"y\": [-1.8954932156017525, 1.832807191115834, 5.550014722569366, -4.7800000000002605, 1.4300000000000033, 7.640000000000136], \"yaxis\": \"y\"}, {\"hovertemplate\": \"class=3<br>skill_name=Word and Application Problems<br>skill_name=Word and Application Problems<br>year=%{x}<br>skill_delta=%{y}<br>studentCount=%{marker.size}<extra></extra>\", \"legendgroup\": \"skill_name=Word and Application Problems\", \"marker\": {\"color\": \"#ab63fa\", \"size\": [108, 19, 74, 75, 106, 109], \"sizemode\": \"area\", \"sizeref\": 1.14, \"symbol\": \"circle\"}, \"mode\": \"markers\", \"name\": \"skill_name=Word and Application Problems\", \"showlegend\": true, \"type\": \"scatter\", \"uid\": \"1b6e1e6d-8c74-4d0a-9cb5-cdd2e9d8c657\", \"x\": [\"2018\", \"2007\", \"2008\", \"2009\", \"2014\", \"2016\"], \"xaxis\": \"x4\", \"y\": [7.789999999999999, -3.1000000000000014, -3.1099999999999994, 2.979999999999997, 1.2800000000000011, 7.550000000000004], \"yaxis\": \"y\"}, {\"hovertemplate\": \"<b>LOWESS trendline</b><br><br>class=3<br>skill_name=Word and Application Problems<br>skill_name=Word and Application Problems<br>year=%{x}<br>skill_delta=%{y} <b>(trend)</b><extra></extra>\", \"legendgroup\": \"skill_name=Word and Application Problems\", \"marker\": {\"color\": \"#ab63fa\", \"symbol\": \"circle\"}, \"mode\": \"lines\", \"name\": \"skill_name=Word and Application Problems\", \"showlegend\": false, \"type\": \"scatter\", \"uid\": \"8c102a68-0e3f-4125-8b59-a00a55105dc3\", \"x\": [2007.0, 2008.0, 2009.0, 2014.0, 2016.0, 2018.0], \"xaxis\": \"x4\", \"y\": [-3.8260829363009687, -0.8037147073927626, 2.2771669131591654, 1.6194765815114636, 5.305472941766142, 8.491571811468566], \"yaxis\": \"y\"}, {\"hovertemplate\": \"class=4<br>skill_name=Intermediate Concepts, Geometry and Algebra<br>skill_name=Intermediate Concepts, Geometry and Algebra<br>year=%{x}<br>skill_delta=%{y}<br>studentCount=%{marker.size}<extra></extra>\", \"legendgroup\": \"skill_name=Intermediate Concepts, Geometry and Algebra\", \"marker\": {\"color\": \"#636efa\", \"size\": [113, 14, 72, 75, 104, 111], \"sizemode\": \"area\", \"sizeref\": 1.14, \"symbol\": \"circle\"}, \"mode\": \"markers\", \"name\": \"skill_name=Intermediate Concepts, Geometry and Algebra\", \"showlegend\": false, \"type\": \"scatter\", \"uid\": \"450def46-31c3-4c84-a758-026f05bc14c9\", \"x\": [\"2018\", \"2007\", \"2008\", \"2009\", \"2014\", \"2016\"], \"xaxis\": \"x\", \"y\": [7.410000000000004, 0.11999999999999744, -0.22999999999999687, 4.960000000000001, 1.3600000000000065, -5.770000000000003], \"yaxis\": \"y2\"}, {\"hovertemplate\": \"<b>LOWESS trendline</b><br><br>class=4<br>skill_name=Intermediate Concepts, Geometry and Algebra<br>skill_name=Intermediate Concepts, Geometry and Algebra<br>year=%{x}<br>skill_delta=%{y} <b>(trend)</b><extra></extra>\", \"legendgroup\": \"skill_name=Intermediate Concepts, Geometry and Algebra\", \"marker\": {\"color\": \"#636efa\", \"symbol\": \"circle\"}, \"mode\": \"lines\", \"name\": \"skill_name=Intermediate Concepts, Geometry and Algebra\", \"showlegend\": false, \"type\": \"scatter\", \"uid\": \"7864af71-d68e-4acc-8b65-6a8d8025b4a5\", \"x\": [2007.0, 2008.0, 2009.0, 2014.0, 2016.0, 2018.0], \"xaxis\": \"x\", \"y\": [-0.6377139781687264, 1.7635216361447763, 4.228016532504699, 1.3599999999999455, 4.385000000000005, 7.4100000000001165], \"yaxis\": \"y2\"}, {\"hovertemplate\": \"class=4<br>skill_name=Number sense, Computations and Basic Arithmetic<br>skill_name=Number sense, Computations and Basic Arithmetic<br>year=%{x}<br>skill_delta=%{y}<br>studentCount=%{marker.size}<extra></extra>\", \"legendgroup\": \"skill_name=Number sense, Computations and Basic Arithmetic\", \"marker\": {\"color\": \"#EF553B\", \"size\": [113, 14, 72, 75, 104, 111], \"sizemode\": \"area\", \"sizeref\": 1.14, \"symbol\": \"circle\"}, \"mode\": \"markers\", \"name\": \"skill_name=Number sense, Computations and Basic Arithmetic\", \"showlegend\": false, \"type\": \"scatter\", \"uid\": \"46272a86-1675-4b71-8b24-ea5dc5a03933\", \"x\": [\"2018\", \"2007\", \"2008\", \"2009\", \"2014\", \"2016\"], \"xaxis\": \"x2\", \"y\": [-0.12000000000000455, 6.450000000000003, -0.20000000000000284, 7.899999999999999, 0.05000000000000426, -0.9599999999999937], \"yaxis\": \"y2\"}, {\"hovertemplate\": \"<b>LOWESS trendline</b><br><br>class=4<br>skill_name=Number sense, Computations and Basic Arithmetic<br>skill_name=Number sense, Computations and Basic Arithmetic<br>year=%{x}<br>skill_delta=%{y} <b>(trend)</b><extra></extra>\", \"legendgroup\": \"skill_name=Number sense, Computations and Basic Arithmetic\", \"marker\": {\"color\": \"#EF553B\", \"symbol\": \"circle\"}, \"mode\": \"lines\", \"name\": \"skill_name=Number sense, Computations and Basic Arithmetic\", \"showlegend\": false, \"type\": \"scatter\", \"uid\": \"5123528f-724f-473a-bedf-46266e8540fb\", \"x\": [2007.0, 2008.0, 2009.0, 2014.0, 2016.0, 2018.0], \"xaxis\": \"x2\", \"y\": [6.449999999999616, 7.175000000000175, 7.899999999998668, -0.05229107437676259, -0.2749800326283486, -0.3425481692665576], \"yaxis\": \"y2\"}, {\"hovertemplate\": \"class=4<br>skill_name=Problem Solving, Advanced Problems<br>skill_name=Problem Solving, Advanced Problems<br>year=%{x}<br>skill_delta=%{y}<br>studentCount=%{marker.size}<extra></extra>\", \"legendgroup\": \"skill_name=Problem Solving, Advanced Problems\", \"marker\": {\"color\": \"#00cc96\", \"size\": [113, 14, 72, 75, 104, 111], \"sizemode\": \"area\", \"sizeref\": 1.14, \"symbol\": \"circle\"}, \"mode\": \"markers\", \"name\": \"skill_name=Problem Solving, Advanced Problems\", \"showlegend\": false, \"type\": \"scatter\", \"uid\": \"d23d2fed-4c99-4450-b89c-5ebff2b87605\", \"x\": [\"2018\", \"2007\", \"2008\", \"2009\", \"2014\", \"2016\"], \"xaxis\": \"x3\", \"y\": [-7.079999999999998, 2.5900000000000034, -5.050000000000004, 1.1499999999999986, -5.57, -3.9100000000000037], \"yaxis\": \"y2\"}, {\"hovertemplate\": \"<b>LOWESS trendline</b><br><br>class=4<br>skill_name=Problem Solving, Advanced Problems<br>skill_name=Problem Solving, Advanced Problems<br>year=%{x}<br>skill_delta=%{y} <b>(trend)</b><extra></extra>\", \"legendgroup\": \"skill_name=Problem Solving, Advanced Problems\", \"marker\": {\"color\": \"#00cc96\", \"symbol\": \"circle\"}, \"mode\": \"lines\", \"name\": \"skill_name=Problem Solving, Advanced Problems\", \"showlegend\": false, \"type\": \"scatter\", \"uid\": \"66f537bf-85a9-4552-9dfa-6a129801f2b9\", \"x\": [2007.0, 2008.0, 2009.0, 2014.0, 2016.0, 2018.0], \"xaxis\": \"x3\", \"y\": [1.2216869011462446, 0.46918236385127193, -0.17757022521292254, -5.244624159578633, -5.509160664094532, -6.351871156399696], \"yaxis\": \"y2\"}, {\"hovertemplate\": \"class=4<br>skill_name=Word and Application Problems<br>skill_name=Word and Application Problems<br>year=%{x}<br>skill_delta=%{y}<br>studentCount=%{marker.size}<extra></extra>\", \"legendgroup\": \"skill_name=Word and Application Problems\", \"marker\": {\"color\": \"#ab63fa\", \"size\": [113, 14, 72, 75, 104, 111], \"sizemode\": \"area\", \"sizeref\": 1.14, \"symbol\": \"circle\"}, \"mode\": \"markers\", \"name\": \"skill_name=Word and Application Problems\", \"showlegend\": false, \"type\": \"scatter\", \"uid\": \"efef94a8-e8d1-4891-8271-d05122b590ab\", \"x\": [\"2018\", \"2007\", \"2008\", \"2009\", \"2014\", \"2016\"], \"xaxis\": \"x4\", \"y\": [0.509999999999998, 4.030000000000001, -0.01999999999999602, 0.46999999999999886, -0.20000000000000284, 3.190000000000005], \"yaxis\": \"y2\"}, {\"hovertemplate\": \"<b>LOWESS trendline</b><br><br>class=4<br>skill_name=Word and Application Problems<br>skill_name=Word and Application Problems<br>year=%{x}<br>skill_delta=%{y} <b>(trend)</b><extra></extra>\", \"legendgroup\": \"skill_name=Word and Application Problems\", \"marker\": {\"color\": \"#ab63fa\", \"symbol\": \"circle\"}, \"mode\": \"lines\", \"name\": \"skill_name=Word and Application Problems\", \"showlegend\": false, \"type\": \"scatter\", \"uid\": \"34169298-9525-4d2d-ac34-2a6d7cd6d471\", \"x\": [2007.0, 2008.0, 2009.0, 2014.0, 2016.0, 2018.0], \"xaxis\": \"x4\", \"y\": [3.4324456937637677, 1.6376170384925093, -0.10781334408721677, 0.08914206139465378, 0.7501772300632485, 1.054376825811946], \"yaxis\": \"y2\"}, {\"hovertemplate\": \"class=5<br>skill_name=Intermediate Concepts, Geometry and Algebra<br>skill_name=Intermediate Concepts, Geometry and Algebra<br>year=%{x}<br>skill_delta=%{y}<br>studentCount=%{marker.size}<extra></extra>\", \"legendgroup\": \"skill_name=Intermediate Concepts, Geometry and Algebra\", \"marker\": {\"color\": \"#636efa\", \"size\": [112, 16, 73, 75, 108, 107], \"sizemode\": \"area\", \"sizeref\": 1.14, \"symbol\": \"circle\"}, \"mode\": \"markers\", \"name\": \"skill_name=Intermediate Concepts, Geometry and Algebra\", \"showlegend\": false, \"type\": \"scatter\", \"uid\": \"1fbca989-c654-4b97-b150-31c7b56fb175\", \"x\": [\"2018\", \"2007\", \"2008\", \"2009\", \"2014\", \"2016\"], \"xaxis\": \"x\", \"y\": [1.0399999999999991, -1.4299999999999997, -0.01999999999999602, 3.5700000000000003, 4.57, -2.460000000000001], \"yaxis\": \"y3\"}, {\"hovertemplate\": \"<b>LOWESS trendline</b><br><br>class=5<br>skill_name=Intermediate Concepts, Geometry and Algebra<br>skill_name=Intermediate Concepts, Geometry and Algebra<br>year=%{x}<br>skill_delta=%{y} <b>(trend)</b><extra></extra>\", \"legendgroup\": \"skill_name=Intermediate Concepts, Geometry and Algebra\", \"marker\": {\"color\": \"#636efa\", \"symbol\": \"circle\"}, \"mode\": \"lines\", \"name\": \"skill_name=Intermediate Concepts, Geometry and Algebra\", \"showlegend\": false, \"type\": \"scatter\", \"uid\": \"0705e017-d3ac-4e70-b440-fa354a9403db\", \"x\": [2007.0, 2008.0, 2009.0, 2014.0, 2016.0, 2018.0], \"xaxis\": \"x\", \"y\": [-1.7218970240731162, 0.7709034639753717, 3.2879358877985307, 4.570000000000131, 2.8049999999999997, 1.0400000000000071], \"yaxis\": \"y3\"}, {\"hovertemplate\": \"class=5<br>skill_name=Number sense, Computations and Basic Arithmetic<br>skill_name=Number sense, Computations and Basic Arithmetic<br>year=%{x}<br>skill_delta=%{y}<br>studentCount=%{marker.size}<extra></extra>\", \"legendgroup\": \"skill_name=Number sense, Computations and Basic Arithmetic\", \"marker\": {\"color\": \"#EF553B\", \"size\": [112, 16, 73, 75, 108, 107], \"sizemode\": \"area\", \"sizeref\": 1.14, \"symbol\": \"circle\"}, \"mode\": \"markers\", \"name\": \"skill_name=Number sense, Computations and Basic Arithmetic\", \"showlegend\": false, \"type\": \"scatter\", \"uid\": \"6a959d0f-24a2-46b8-87bb-f9e3cdd5937a\", \"x\": [\"2018\", \"2007\", \"2008\", \"2009\", \"2014\", \"2016\"], \"xaxis\": \"x2\", \"y\": [9.189999999999998, 10.800000000000004, -2.760000000000005, 7.059999999999995, 6.700000000000003, 6.280000000000001], \"yaxis\": \"y3\"}, {\"hovertemplate\": \"<b>LOWESS trendline</b><br><br>class=5<br>skill_name=Number sense, Computations and Basic Arithmetic<br>skill_name=Number sense, Computations and Basic Arithmetic<br>year=%{x}<br>skill_delta=%{y} <b>(trend)</b><extra></extra>\", \"legendgroup\": \"skill_name=Number sense, Computations and Basic Arithmetic\", \"marker\": {\"color\": \"#EF553B\", \"symbol\": \"circle\"}, \"mode\": \"lines\", \"name\": \"skill_name=Number sense, Computations and Basic Arithmetic\", \"showlegend\": false, \"type\": \"scatter\", \"uid\": \"cbb692d0-3b1b-41bd-bab0-d5674fd3b64d\", \"x\": [2007.0, 2008.0, 2009.0, 2014.0, 2016.0, 2018.0], \"xaxis\": \"x2\", \"y\": [10.80000000000131, 8.930000000000186, 7.059999999998869, 6.49411375787998, 7.443242205018137, 8.733931241002848], \"yaxis\": \"y3\"}, {\"hovertemplate\": \"class=5<br>skill_name=Problem Solving, Advanced Problems<br>skill_name=Problem Solving, Advanced Problems<br>year=%{x}<br>skill_delta=%{y}<br>studentCount=%{marker.size}<extra></extra>\", \"legendgroup\": \"skill_name=Problem Solving, Advanced Problems\", \"marker\": {\"color\": \"#00cc96\", \"size\": [112, 16, 73, 75, 108, 107], \"sizemode\": \"area\", \"sizeref\": 1.14, \"symbol\": \"circle\"}, \"mode\": \"markers\", \"name\": \"skill_name=Problem Solving, Advanced Problems\", \"showlegend\": false, \"type\": \"scatter\", \"uid\": \"409f27be-89c3-49e9-b2f7-d6bf196d2f0b\", \"x\": [\"2018\", \"2007\", \"2008\", \"2009\", \"2014\", \"2016\"], \"xaxis\": \"x3\", \"y\": [5.519999999999996, 3.9800000000000004, -2.7200000000000024, 4.829999999999998, 2.770000000000003, 5.57], \"yaxis\": \"y3\"}, {\"hovertemplate\": \"<b>LOWESS trendline</b><br><br>class=5<br>skill_name=Problem Solving, Advanced Problems<br>skill_name=Problem Solving, Advanced Problems<br>year=%{x}<br>skill_delta=%{y} <b>(trend)</b><extra></extra>\", \"legendgroup\": \"skill_name=Problem Solving, Advanced Problems\", \"marker\": {\"color\": \"#00cc96\", \"symbol\": \"circle\"}, \"mode\": \"lines\", \"name\": \"skill_name=Problem Solving, Advanced Problems\", \"showlegend\": false, \"type\": \"scatter\", \"uid\": \"3615dd96-cb05-4c71-af4f-ddd2a1caf59f\", \"x\": [2007.0, 2008.0, 2009.0, 2014.0, 2016.0, 2018.0], \"xaxis\": \"x3\", \"y\": [3.9800000000004476, 4.405000000000059, 4.8300000000006165, 2.9616722575064864, 4.62550198988456, 5.9490584684286185], \"yaxis\": \"y3\"}, {\"hovertemplate\": \"class=5<br>skill_name=Word and Application Problems<br>skill_name=Word and Application Problems<br>year=%{x}<br>skill_delta=%{y}<br>studentCount=%{marker.size}<extra></extra>\", \"legendgroup\": \"skill_name=Word and Application Problems\", \"marker\": {\"color\": \"#ab63fa\", \"size\": [112, 16, 73, 75, 108, 107], \"sizemode\": \"area\", \"sizeref\": 1.14, \"symbol\": \"circle\"}, \"mode\": \"markers\", \"name\": \"skill_name=Word and Application Problems\", \"showlegend\": false, \"type\": \"scatter\", \"uid\": \"a9109a9d-52bd-4aa6-a527-d28c21fa6c33\", \"x\": [\"2018\", \"2007\", \"2008\", \"2009\", \"2014\", \"2016\"], \"xaxis\": \"x4\", \"y\": [5.269999999999996, 11.670000000000002, 2.490000000000002, 5.3700000000000045, 6.170000000000002, 5.450000000000003], \"yaxis\": \"y3\"}, {\"hovertemplate\": \"<b>LOWESS trendline</b><br><br>class=5<br>skill_name=Word and Application Problems<br>skill_name=Word and Application Problems<br>year=%{x}<br>skill_delta=%{y} <b>(trend)</b><extra></extra>\", \"legendgroup\": \"skill_name=Word and Application Problems\", \"marker\": {\"color\": \"#ab63fa\", \"symbol\": \"circle\"}, \"mode\": \"lines\", \"name\": \"skill_name=Word and Application Problems\", \"showlegend\": false, \"type\": \"scatter\", \"uid\": \"f959f168-e8ff-4a05-a4e5-86399f6095f2\", \"x\": [2007.0, 2008.0, 2009.0, 2014.0, 2016.0, 2018.0], \"xaxis\": \"x4\", \"y\": [11.670000000002858, 8.520000000000003, 5.370000000000056, 6.140936354439544, 5.6523022444562185, 5.20690071700515], \"yaxis\": \"y3\"}, {\"hovertemplate\": \"class=6<br>skill_name=Intermediate Concepts, Geometry and Algebra<br>skill_name=Intermediate Concepts, Geometry and Algebra<br>year=%{x}<br>skill_delta=%{y}<br>studentCount=%{marker.size}<extra></extra>\", \"legendgroup\": \"skill_name=Intermediate Concepts, Geometry and Algebra\", \"marker\": {\"color\": \"#636efa\", \"size\": [111, 17, 74, 79, 82, 100], \"sizemode\": \"area\", \"sizeref\": 1.14, \"symbol\": \"circle\"}, \"mode\": \"markers\", \"name\": \"skill_name=Intermediate Concepts, Geometry and Algebra\", \"showlegend\": false, \"type\": \"scatter\", \"uid\": \"b2f31170-4e5d-446f-a13d-f0e0efa8d534\", \"x\": [\"2018\", \"2007\", \"2008\", \"2009\", \"2014\", \"2016\"], \"xaxis\": \"x\", \"y\": [5.779999999999994, 10.770000000000003, -0.46000000000000085, 3.030000000000001, 10.219999999999999, 3.3599999999999994], \"yaxis\": \"y4\"}, {\"hovertemplate\": \"<b>LOWESS trendline</b><br><br>class=6<br>skill_name=Intermediate Concepts, Geometry and Algebra<br>skill_name=Intermediate Concepts, Geometry and Algebra<br>year=%{x}<br>skill_delta=%{y} <b>(trend)</b><extra></extra>\", \"legendgroup\": \"skill_name=Intermediate Concepts, Geometry and Algebra\", \"marker\": {\"color\": \"#636efa\", \"symbol\": \"circle\"}, \"mode\": \"lines\", \"name\": \"skill_name=Intermediate Concepts, Geometry and Algebra\", \"showlegend\": false, \"type\": \"scatter\", \"uid\": \"7213b66e-92a7-4803-b63a-2f188b64c105\", \"x\": [2007.0, 2008.0, 2009.0, 2014.0, 2016.0, 2018.0], \"xaxis\": \"x\", \"y\": [9.017878553711366, 5.105331066752144, 1.3339831084774847, 9.620720969717183, 6.525205318532402, 4.453680469926818], \"yaxis\": \"y4\"}, {\"hovertemplate\": \"class=6<br>skill_name=Number sense, Computations and Basic Arithmetic<br>skill_name=Number sense, Computations and Basic Arithmetic<br>year=%{x}<br>skill_delta=%{y}<br>studentCount=%{marker.size}<extra></extra>\", \"legendgroup\": \"skill_name=Number sense, Computations and Basic Arithmetic\", \"marker\": {\"color\": \"#EF553B\", \"size\": [111, 17, 74, 79, 82, 100], \"sizemode\": \"area\", \"sizeref\": 1.14, \"symbol\": \"circle\"}, \"mode\": \"markers\", \"name\": \"skill_name=Number sense, Computations and Basic Arithmetic\", \"showlegend\": false, \"type\": \"scatter\", \"uid\": \"68ba6633-227a-4714-90cc-c8360ffba36e\", \"x\": [\"2018\", \"2007\", \"2008\", \"2009\", \"2014\", \"2016\"], \"xaxis\": \"x2\", \"y\": [4.580000000000005, 23.879999999999995, 11.43, 2.6299999999999955, 5.909999999999997, 5.789999999999999], \"yaxis\": \"y4\"}, {\"hovertemplate\": \"<b>LOWESS trendline</b><br><br>class=6<br>skill_name=Number sense, Computations and Basic Arithmetic<br>skill_name=Number sense, Computations and Basic Arithmetic<br>year=%{x}<br>skill_delta=%{y} <b>(trend)</b><extra></extra>\", \"legendgroup\": \"skill_name=Number sense, Computations and Basic Arithmetic\", \"marker\": {\"color\": \"#EF553B\", \"symbol\": \"circle\"}, \"mode\": \"lines\", \"name\": \"skill_name=Number sense, Computations and Basic Arithmetic\", \"showlegend\": false, \"type\": \"scatter\", \"uid\": \"9a87a2bd-0cae-4a01-af84-4d4f9219285c\", \"x\": [2007.0, 2008.0, 2009.0, 2014.0, 2016.0, 2018.0], \"xaxis\": \"x2\", \"y\": [23.61634902156756, 12.985300312883679, 2.373471952813351, 5.9835190216774246, 5.429440355030005, 4.744573124013427], \"yaxis\": \"y4\"}, {\"hovertemplate\": \"class=6<br>skill_name=Problem Solving, Advanced Problems<br>skill_name=Problem Solving, Advanced Problems<br>year=%{x}<br>skill_delta=%{y}<br>studentCount=%{marker.size}<extra></extra>\", \"legendgroup\": \"skill_name=Problem Solving, Advanced Problems\", \"marker\": {\"color\": \"#00cc96\", \"size\": [111, 17, 74, 79, 82, 100], \"sizemode\": \"area\", \"sizeref\": 1.14, \"symbol\": \"circle\"}, \"mode\": \"markers\", \"name\": \"skill_name=Problem Solving, Advanced Problems\", \"showlegend\": false, \"type\": \"scatter\", \"uid\": \"6a8aca3c-9bbc-4048-853d-0a0efbe2505e\", \"x\": [\"2018\", \"2007\", \"2008\", \"2009\", \"2014\", \"2016\"], \"xaxis\": \"x3\", \"y\": [13.300000000000004, 0.4299999999999997, 7.530000000000001, 4.850000000000001, 1.4699999999999989, 3.479999999999997], \"yaxis\": \"y4\"}, {\"hovertemplate\": \"<b>LOWESS trendline</b><br><br>class=6<br>skill_name=Problem Solving, Advanced Problems<br>skill_name=Problem Solving, Advanced Problems<br>year=%{x}<br>skill_delta=%{y} <b>(trend)</b><extra></extra>\", \"legendgroup\": \"skill_name=Problem Solving, Advanced Problems\", \"marker\": {\"color\": \"#00cc96\", \"symbol\": \"circle\"}, \"mode\": \"lines\", \"name\": \"skill_name=Problem Solving, Advanced Problems\", \"showlegend\": false, \"type\": \"scatter\", \"uid\": \"a771a27a-303f-42cd-9654-464ee5355fe2\", \"x\": [2007.0, 2008.0, 2009.0, 2014.0, 2016.0, 2018.0], \"xaxis\": \"x3\", \"y\": [1.5941132978724104, 3.8323819407060222, 5.9768373097217555, 0.9897617381496266, 6.234193251695446, 12.258588817844803], \"yaxis\": \"y4\"}, {\"hovertemplate\": \"class=6<br>skill_name=Word and Application Problems<br>skill_name=Word and Application Problems<br>year=%{x}<br>skill_delta=%{y}<br>studentCount=%{marker.size}<extra></extra>\", \"legendgroup\": \"skill_name=Word and Application Problems\", \"marker\": {\"color\": \"#ab63fa\", \"size\": [111, 17, 74, 79, 82, 100], \"sizemode\": \"area\", \"sizeref\": 1.14, \"symbol\": \"circle\"}, \"mode\": \"markers\", \"name\": \"skill_name=Word and Application Problems\", \"showlegend\": false, \"type\": \"scatter\", \"uid\": \"b9ad4866-c3b9-43ed-a57c-8bedd0af7358\", \"x\": [\"2018\", \"2007\", \"2008\", \"2009\", \"2014\", \"2016\"], \"xaxis\": \"x4\", \"y\": [3.6700000000000017, 17.380000000000003, 7.100000000000001, 6.969999999999999, 7.600000000000001, 1.2199999999999989], \"yaxis\": \"y4\"}, {\"hovertemplate\": \"<b>LOWESS trendline</b><br><br>class=6<br>skill_name=Word and Application Problems<br>skill_name=Word and Application Problems<br>year=%{x}<br>skill_delta=%{y} <b>(trend)</b><extra></extra>\", \"legendgroup\": \"skill_name=Word and Application Problems\", \"marker\": {\"color\": \"#ab63fa\", \"symbol\": \"circle\"}, \"mode\": \"lines\", \"name\": \"skill_name=Word and Application Problems\", \"showlegend\": false, \"type\": \"scatter\", \"uid\": \"fa51ed73-06fc-4871-8322-ba82c0ab85f3\", \"x\": [2007.0, 2008.0, 2009.0, 2014.0, 2016.0, 2018.0], \"xaxis\": \"x4\", \"y\": [16.171845605991702, 10.937507495081313, 5.800531830915322, 7.071958479923818, 4.39052897910654, 2.540971768297513], \"yaxis\": \"y4\"}, {\"hovertemplate\": \"class=7<br>skill_name=Intermediate Concepts, Geometry and Algebra<br>skill_name=Intermediate Concepts, Geometry and Algebra<br>year=%{x}<br>skill_delta=%{y}<br>studentCount=%{marker.size}<extra></extra>\", \"legendgroup\": \"skill_name=Intermediate Concepts, Geometry and Algebra\", \"marker\": {\"color\": \"#636efa\", \"size\": [114, 4, 45, 74, 78, 99], \"sizemode\": \"area\", \"sizeref\": 1.14, \"symbol\": \"circle\"}, \"mode\": \"markers\", \"name\": \"skill_name=Intermediate Concepts, Geometry and Algebra\", \"showlegend\": false, \"type\": \"scatter\", \"uid\": \"8e8cca2d-962e-4307-aec9-76d571df1a01\", \"x\": [\"2018\", \"2007\", \"2008\", \"2009\", \"2014\", \"2016\"], \"xaxis\": \"x\", \"y\": [7.550000000000004, 16.04, 11.64, 7.0, 13.07, 10.469999999999999], \"yaxis\": \"y5\"}, {\"hovertemplate\": \"<b>LOWESS trendline</b><br><br>class=7<br>skill_name=Intermediate Concepts, Geometry and Algebra<br>skill_name=Intermediate Concepts, Geometry and Algebra<br>year=%{x}<br>skill_delta=%{y} <b>(trend)</b><extra></extra>\", \"legendgroup\": \"skill_name=Intermediate Concepts, Geometry and Algebra\", \"marker\": {\"color\": \"#636efa\", \"symbol\": \"circle\"}, \"mode\": \"lines\", \"name\": \"skill_name=Intermediate Concepts, Geometry and Algebra\", \"showlegend\": false, \"type\": \"scatter\", \"uid\": \"00efa981-38f8-40de-bc1f-36501847374b\", \"x\": [2007.0, 2008.0, 2009.0, 2014.0, 2016.0, 2018.0], \"xaxis\": \"x\", \"y\": [16.07156757300259, 11.552350815785893, 7.03052490994603, 13.085279656203673, 10.341491789867744, 7.57880267956176], \"yaxis\": \"y5\"}, {\"hovertemplate\": \"class=7<br>skill_name=Number sense, Computations and Basic Arithmetic<br>skill_name=Number sense, Computations and Basic Arithmetic<br>year=%{x}<br>skill_delta=%{y}<br>studentCount=%{marker.size}<extra></extra>\", \"legendgroup\": \"skill_name=Number sense, Computations and Basic Arithmetic\", \"marker\": {\"color\": \"#EF553B\", \"size\": [114, 4, 45, 74, 78, 99], \"sizemode\": \"area\", \"sizeref\": 1.14, \"symbol\": \"circle\"}, \"mode\": \"markers\", \"name\": \"skill_name=Number sense, Computations and Basic Arithmetic\", \"showlegend\": false, \"type\": \"scatter\", \"uid\": \"0914770a-1c1d-4f69-be51-11c41d82755b\", \"x\": [\"2018\", \"2007\", \"2008\", \"2009\", \"2014\", \"2016\"], \"xaxis\": \"x2\", \"y\": [6.279999999999994, 15.579999999999998, 14.329999999999998, 7.43, 12.060000000000002, 4.390000000000001], \"yaxis\": \"y5\"}, {\"hovertemplate\": \"<b>LOWESS trendline</b><br><br>class=7<br>skill_name=Number sense, Computations and Basic Arithmetic<br>skill_name=Number sense, Computations and Basic Arithmetic<br>year=%{x}<br>skill_delta=%{y} <b>(trend)</b><extra></extra>\", \"legendgroup\": \"skill_name=Number sense, Computations and Basic Arithmetic\", \"marker\": {\"color\": \"#EF553B\", \"symbol\": \"circle\"}, \"mode\": \"lines\", \"name\": \"skill_name=Number sense, Computations and Basic Arithmetic\", \"showlegend\": false, \"type\": \"scatter\", \"uid\": \"535db1a9-19ab-45cf-9ada-8b60fce62391\", \"x\": [2007.0, 2008.0, 2009.0, 2014.0, 2016.0, 2018.0], \"xaxis\": \"x2\", \"y\": [16.35479690776241, 12.299208289111043, 8.178863769827002, 11.752172154718908, 8.629942982482369, 5.784222551537886], \"yaxis\": \"y5\"}, {\"hovertemplate\": \"class=7<br>skill_name=Problem Solving, Advanced Problems<br>skill_name=Problem Solving, Advanced Problems<br>year=%{x}<br>skill_delta=%{y}<br>studentCount=%{marker.size}<extra></extra>\", \"legendgroup\": \"skill_name=Problem Solving, Advanced Problems\", \"marker\": {\"color\": \"#00cc96\", \"size\": [114, 4, 45, 74, 78, 99], \"sizemode\": \"area\", \"sizeref\": 1.14, \"symbol\": \"circle\"}, \"mode\": \"markers\", \"name\": \"skill_name=Problem Solving, Advanced Problems\", \"showlegend\": false, \"type\": \"scatter\", \"uid\": \"75e2a6d9-931d-4c9d-9d2c-36c22e439804\", \"x\": [\"2018\", \"2007\", \"2008\", \"2009\", \"2014\", \"2016\"], \"xaxis\": \"x3\", \"y\": [6.25, 4.949999999999999, 14.71, 13.990000000000002, 8.439999999999998, 2.6899999999999977], \"yaxis\": \"y5\"}, {\"hovertemplate\": \"<b>LOWESS trendline</b><br><br>class=7<br>skill_name=Problem Solving, Advanced Problems<br>skill_name=Problem Solving, Advanced Problems<br>year=%{x}<br>skill_delta=%{y} <b>(trend)</b><extra></extra>\", \"legendgroup\": \"skill_name=Problem Solving, Advanced Problems\", \"marker\": {\"color\": \"#00cc96\", \"symbol\": \"circle\"}, \"mode\": \"lines\", \"name\": \"skill_name=Problem Solving, Advanced Problems\", \"showlegend\": false, \"type\": \"scatter\", \"uid\": \"bf719fc1-e79e-47e2-96c3-9fad14a1da6f\", \"x\": [2007.0, 2008.0, 2009.0, 2014.0, 2016.0, 2018.0], \"xaxis\": \"x3\", \"y\": [6.197434290562855, 10.747726251389912, 15.197490286901978, 7.887735841169917, 6.049878058052988, 5.074287755292374], \"yaxis\": \"y5\"}, {\"hovertemplate\": \"class=7<br>skill_name=Word and Application Problems<br>skill_name=Word and Application Problems<br>year=%{x}<br>skill_delta=%{y}<br>studentCount=%{marker.size}<extra></extra>\", \"legendgroup\": \"skill_name=Word and Application Problems\", \"marker\": {\"color\": \"#ab63fa\", \"size\": [114, 4, 45, 74, 78, 99], \"sizemode\": \"area\", \"sizeref\": 1.14, \"symbol\": \"circle\"}, \"mode\": \"markers\", \"name\": \"skill_name=Word and Application Problems\", \"showlegend\": false, \"type\": \"scatter\", \"uid\": \"f5d0f625-b2a0-4df1-9c1a-d10d1096cd61\", \"x\": [\"2018\", \"2007\", \"2008\", \"2009\", \"2014\", \"2016\"], \"xaxis\": \"x4\", \"y\": [3.0899999999999963, 19.68, 17.230000000000004, 11.379999999999995, 14.439999999999998, 7.449999999999996], \"yaxis\": \"y5\"}, {\"hovertemplate\": \"<b>LOWESS trendline</b><br><br>class=7<br>skill_name=Word and Application Problems<br>skill_name=Word and Application Problems<br>year=%{x}<br>skill_delta=%{y} <b>(trend)</b><extra></extra>\", \"legendgroup\": \"skill_name=Word and Application Problems\", \"marker\": {\"color\": \"#ab63fa\", \"symbol\": \"circle\"}, \"mode\": \"lines\", \"name\": \"skill_name=Word and Application Problems\", \"showlegend\": false, \"type\": \"scatter\", \"uid\": \"5ecb8c87-4052-44e8-b458-c57140b01770\", \"x\": [2007.0, 2008.0, 2009.0, 2014.0, 2016.0, 2018.0], \"xaxis\": \"x4\", \"y\": [20.08470196449428, 15.944529509037345, 11.77174303200469, 14.27687989370799, 8.372162537119536, 2.734832427238395], \"yaxis\": \"y5\"}, {\"hovertemplate\": \"class=8<br>skill_name=Intermediate Concepts, Geometry and Algebra<br>skill_name=Intermediate Concepts, Geometry and Algebra<br>year=%{x}<br>skill_delta=%{y}<br>studentCount=%{marker.size}<extra></extra>\", \"legendgroup\": \"skill_name=Intermediate Concepts, Geometry and Algebra\", \"marker\": {\"color\": \"#636efa\", \"size\": [103, 13, 52, 46, 77, 76], \"sizemode\": \"area\", \"sizeref\": 1.14, \"symbol\": \"circle\"}, \"mode\": \"markers\", \"name\": \"skill_name=Intermediate Concepts, Geometry and Algebra\", \"showlegend\": false, \"type\": \"scatter\", \"uid\": \"b9fdbb77-76a2-4c02-9049-1078ed2270aa\", \"x\": [\"2018\", \"2007\", \"2008\", \"2009\", \"2014\", \"2016\"], \"xaxis\": \"x\", \"y\": [3.5800000000000054, 18.75, 12.21, 20.449999999999996, 7.75, 7.0], \"yaxis\": \"y6\"}, {\"hovertemplate\": \"<b>LOWESS trendline</b><br><br>class=8<br>skill_name=Intermediate Concepts, Geometry and Algebra<br>skill_name=Intermediate Concepts, Geometry and Algebra<br>year=%{x}<br>skill_delta=%{y} <b>(trend)</b><extra></extra>\", \"legendgroup\": \"skill_name=Intermediate Concepts, Geometry and Algebra\", \"marker\": {\"color\": \"#636efa\", \"symbol\": \"circle\"}, \"mode\": \"lines\", \"name\": \"skill_name=Intermediate Concepts, Geometry and Algebra\", \"showlegend\": false, \"type\": \"scatter\", \"uid\": \"acf2c85c-9b69-4e2e-a90a-18da9e198f9f\", \"x\": [2007.0, 2008.0, 2009.0, 2014.0, 2016.0, 2018.0], \"xaxis\": \"x\", \"y\": [18.750000000005794, 19.600000000000087, 20.44999999999796, 7.9283683272850105, 6.111171761474855, 3.97900770747903], \"yaxis\": \"y6\"}, {\"hovertemplate\": \"class=8<br>skill_name=Number sense, Computations and Basic Arithmetic<br>skill_name=Number sense, Computations and Basic Arithmetic<br>year=%{x}<br>skill_delta=%{y}<br>studentCount=%{marker.size}<extra></extra>\", \"legendgroup\": \"skill_name=Number sense, Computations and Basic Arithmetic\", \"marker\": {\"color\": \"#EF553B\", \"size\": [103, 13, 52, 46, 77, 76], \"sizemode\": \"area\", \"sizeref\": 1.14, \"symbol\": \"circle\"}, \"mode\": \"markers\", \"name\": \"skill_name=Number sense, Computations and Basic Arithmetic\", \"showlegend\": false, \"type\": \"scatter\", \"uid\": \"f36d9567-8494-43cc-a6e8-d1cc9cc7caec\", \"x\": [\"2018\", \"2007\", \"2008\", \"2009\", \"2014\", \"2016\"], \"xaxis\": \"x2\", \"y\": [0.8200000000000003, 22.689999999999998, 4.010000000000005, 21.340000000000003, 7.969999999999999, 0.27999999999999403], \"yaxis\": \"y6\"}, {\"hovertemplate\": \"<b>LOWESS trendline</b><br><br>class=8<br>skill_name=Number sense, Computations and Basic Arithmetic<br>skill_name=Number sense, Computations and Basic Arithmetic<br>year=%{x}<br>skill_delta=%{y} <b>(trend)</b><extra></extra>\", \"legendgroup\": \"skill_name=Number sense, Computations and Basic Arithmetic\", \"marker\": {\"color\": \"#EF553B\", \"symbol\": \"circle\"}, \"mode\": \"lines\", \"name\": \"skill_name=Number sense, Computations and Basic Arithmetic\", \"showlegend\": false, \"type\": \"scatter\", \"uid\": \"50c9ecd5-4943-4bfa-9420-9440972ee79d\", \"x\": [2007.0, 2008.0, 2009.0, 2014.0, 2016.0, 2018.0], \"xaxis\": \"x2\", \"y\": [22.47856373018287, 21.799080090935114, 21.132691457784333, 7.4150280079743505, 3.002596503793031, -0.42255581428947464], \"yaxis\": \"y6\"}, {\"hovertemplate\": \"class=8<br>skill_name=Problem Solving, Advanced Problems<br>skill_name=Problem Solving, Advanced Problems<br>year=%{x}<br>skill_delta=%{y}<br>studentCount=%{marker.size}<extra></extra>\", \"legendgroup\": \"skill_name=Problem Solving, Advanced Problems\", \"marker\": {\"color\": \"#00cc96\", \"size\": [103, 13, 52, 46, 77, 76], \"sizemode\": \"area\", \"sizeref\": 1.14, \"symbol\": \"circle\"}, \"mode\": \"markers\", \"name\": \"skill_name=Problem Solving, Advanced Problems\", \"showlegend\": false, \"type\": \"scatter\", \"uid\": \"90a42c97-3353-412f-9ef6-10b026f2f913\", \"x\": [\"2018\", \"2007\", \"2008\", \"2009\", \"2014\", \"2016\"], \"xaxis\": \"x3\", \"y\": [4.699999999999996, 29.29, 4.739999999999998, 12.530000000000001, 1.6799999999999997, -0.7100000000000009], \"yaxis\": \"y6\"}, {\"hovertemplate\": \"<b>LOWESS trendline</b><br><br>class=8<br>skill_name=Problem Solving, Advanced Problems<br>skill_name=Problem Solving, Advanced Problems<br>year=%{x}<br>skill_delta=%{y} <b>(trend)</b><extra></extra>\", \"legendgroup\": \"skill_name=Problem Solving, Advanced Problems\", \"marker\": {\"color\": \"#00cc96\", \"symbol\": \"circle\"}, \"mode\": \"lines\", \"name\": \"skill_name=Problem Solving, Advanced Problems\", \"showlegend\": false, \"type\": \"scatter\", \"uid\": \"16e5af9a-00c1-4a3a-b42b-8a2c72a3fb93\", \"x\": [2007.0, 2008.0, 2009.0, 2014.0, 2016.0, 2018.0], \"xaxis\": \"x3\", \"y\": [28.69480187531548, 20.30200348986432, 11.947303737107532, 1.1538335428653588, 1.8697468555312433, 3.52193797965571], \"yaxis\": \"y6\"}, {\"hovertemplate\": \"class=8<br>skill_name=Word and Application Problems<br>skill_name=Word and Application Problems<br>year=%{x}<br>skill_delta=%{y}<br>studentCount=%{marker.size}<extra></extra>\", \"legendgroup\": \"skill_name=Word and Application Problems\", \"marker\": {\"color\": \"#ab63fa\", \"size\": [103, 13, 52, 46, 77, 76], \"sizemode\": \"area\", \"sizeref\": 1.14, \"symbol\": \"circle\"}, \"mode\": \"markers\", \"name\": \"skill_name=Word and Application Problems\", \"showlegend\": false, \"type\": \"scatter\", \"uid\": \"3500a66c-9d82-4e4b-9baa-3ac442e93fa8\", \"x\": [\"2018\", \"2007\", \"2008\", \"2009\", \"2014\", \"2016\"], \"xaxis\": \"x4\", \"y\": [4.909999999999997, 16.61, 12.310000000000002, 11.570000000000007, 6.659999999999997, -7.020000000000003], \"yaxis\": \"y6\"}, {\"hovertemplate\": \"<b>LOWESS trendline</b><br><br>class=8<br>skill_name=Word and Application Problems<br>skill_name=Word and Application Problems<br>year=%{x}<br>skill_delta=%{y} <b>(trend)</b><extra></extra>\", \"legendgroup\": \"skill_name=Word and Application Problems\", \"marker\": {\"color\": \"#ab63fa\", \"symbol\": \"circle\"}, \"mode\": \"lines\", \"name\": \"skill_name=Word and Application Problems\", \"showlegend\": false, \"type\": \"scatter\", \"uid\": \"522a4045-d0a9-4a26-9fb2-aaad1e98fda6\", \"x\": [2007.0, 2008.0, 2009.0, 2014.0, 2016.0, 2018.0], \"xaxis\": \"x4\", \"y\": [16.148464204768644, 13.617148744558335, 11.123825583202219, 6.660000000000139, 5.784999999999997, 4.9100000000000605], \"yaxis\": \"y6\"}, {\"hovertemplate\": \"class=9<br>skill_name=Intermediate Concepts, Geometry and Algebra<br>skill_name=Intermediate Concepts, Geometry and Algebra<br>year=%{x}<br>skill_delta=%{y}<br>studentCount=%{marker.size}<extra></extra>\", \"legendgroup\": \"skill_name=Intermediate Concepts, Geometry and Algebra\", \"marker\": {\"color\": \"#636efa\", \"size\": [99, 10, 40, 51, 73, 73], \"sizemode\": \"area\", \"sizeref\": 1.14, \"symbol\": \"circle\"}, \"mode\": \"markers\", \"name\": \"skill_name=Intermediate Concepts, Geometry and Algebra\", \"showlegend\": false, \"type\": \"scatter\", \"uid\": \"2e591371-df9e-46d1-a98d-c6c27f5723be\", \"x\": [\"2018\", \"2007\", \"2008\", \"2009\", \"2014\", \"2016\"], \"xaxis\": \"x\", \"y\": [4.280000000000001, 14.160000000000004, 1.5600000000000023, 10.369999999999997, 5.989999999999995, 7.099999999999994], \"yaxis\": \"y7\"}, {\"hovertemplate\": \"<b>LOWESS trendline</b><br><br>class=9<br>skill_name=Intermediate Concepts, Geometry and Algebra<br>skill_name=Intermediate Concepts, Geometry and Algebra<br>year=%{x}<br>skill_delta=%{y} <b>(trend)</b><extra></extra>\", \"legendgroup\": \"skill_name=Intermediate Concepts, Geometry and Algebra\", \"marker\": {\"color\": \"#636efa\", \"symbol\": \"circle\"}, \"mode\": \"lines\", \"name\": \"skill_name=Intermediate Concepts, Geometry and Algebra\", \"showlegend\": false, \"type\": \"scatter\", \"uid\": \"36ec272c-84fd-4306-befb-ea275437537b\", \"x\": [2007.0, 2008.0, 2009.0, 2014.0, 2016.0, 2018.0], \"xaxis\": \"x\", \"y\": [14.159999999999322, 12.264999999999795, 10.369999999999726, 6.252909755652786, 5.792946989499478, 4.868211450272054], \"yaxis\": \"y7\"}, {\"hovertemplate\": \"class=9<br>skill_name=Number sense, Computations and Basic Arithmetic<br>skill_name=Number sense, Computations and Basic Arithmetic<br>year=%{x}<br>skill_delta=%{y}<br>studentCount=%{marker.size}<extra></extra>\", \"legendgroup\": \"skill_name=Number sense, Computations and Basic Arithmetic\", \"marker\": {\"color\": \"#EF553B\", \"size\": [99, 10, 40, 51, 73, 73], \"sizemode\": \"area\", \"sizeref\": 1.14, \"symbol\": \"circle\"}, \"mode\": \"markers\", \"name\": \"skill_name=Number sense, Computations and Basic Arithmetic\", \"showlegend\": false, \"type\": \"scatter\", \"uid\": \"01bfd8ef-8cbe-4ef3-8c9a-664f8e261315\", \"x\": [\"2018\", \"2007\", \"2008\", \"2009\", \"2014\", \"2016\"], \"xaxis\": \"x2\", \"y\": [2.200000000000003, 15.520000000000003, 10.060000000000002, 1.1400000000000006, 4.310000000000002, 10.300000000000004], \"yaxis\": \"y7\"}, {\"hovertemplate\": \"<b>LOWESS trendline</b><br><br>class=9<br>skill_name=Number sense, Computations and Basic Arithmetic<br>skill_name=Number sense, Computations and Basic Arithmetic<br>year=%{x}<br>skill_delta=%{y} <b>(trend)</b><extra></extra>\", \"legendgroup\": \"skill_name=Number sense, Computations and Basic Arithmetic\", \"marker\": {\"color\": \"#EF553B\", \"symbol\": \"circle\"}, \"mode\": \"lines\", \"name\": \"skill_name=Number sense, Computations and Basic Arithmetic\", \"showlegend\": false, \"type\": \"scatter\", \"uid\": \"9d471a8d-db88-4312-a462-ec830f98ddf7\", \"x\": [2007.0, 2008.0, 2009.0, 2014.0, 2016.0, 2018.0], \"xaxis\": \"x2\", \"y\": [15.991272847823355, 8.812934078414001, 1.5952939124907015, 4.310000000000108, 3.2550000000000026, 2.200000000000029], \"yaxis\": \"y7\"}, {\"hovertemplate\": \"class=9<br>skill_name=Problem Solving, Advanced Problems<br>skill_name=Problem Solving, Advanced Problems<br>year=%{x}<br>skill_delta=%{y}<br>studentCount=%{marker.size}<extra></extra>\", \"legendgroup\": \"skill_name=Problem Solving, Advanced Problems\", \"marker\": {\"color\": \"#00cc96\", \"size\": [99, 10, 40, 51, 73, 73], \"sizemode\": \"area\", \"sizeref\": 1.14, \"symbol\": \"circle\"}, \"mode\": \"markers\", \"name\": \"skill_name=Problem Solving, Advanced Problems\", \"showlegend\": false, \"type\": \"scatter\", \"uid\": \"d470ac33-54a2-42cb-9b8f-157178af5663\", \"x\": [\"2018\", \"2007\", \"2008\", \"2009\", \"2014\", \"2016\"], \"xaxis\": \"x3\", \"y\": [12.560000000000002, 7.460000000000001, 10.810000000000002, 10.940000000000005, -3.490000000000002, -0.8000000000000007], \"yaxis\": \"y7\"}, {\"hovertemplate\": \"<b>LOWESS trendline</b><br><br>class=9<br>skill_name=Problem Solving, Advanced Problems<br>skill_name=Problem Solving, Advanced Problems<br>year=%{x}<br>skill_delta=%{y} <b>(trend)</b><extra></extra>\", \"legendgroup\": \"skill_name=Problem Solving, Advanced Problems\", \"marker\": {\"color\": \"#00cc96\", \"symbol\": \"circle\"}, \"mode\": \"lines\", \"name\": \"skill_name=Problem Solving, Advanced Problems\", \"showlegend\": false, \"type\": \"scatter\", \"uid\": \"ca893270-c2db-4fdf-ab14-f7ea607b3796\", \"x\": [2007.0, 2008.0, 2009.0, 2014.0, 2016.0, 2018.0], \"xaxis\": \"x3\", \"y\": [7.90106241881639, 9.651988704817914, 11.366077153113034, -3.4900000000002898, 4.535, 12.560000000000205], \"yaxis\": \"y7\"}, {\"hovertemplate\": \"class=9<br>skill_name=Word and Application Problems<br>skill_name=Word and Application Problems<br>year=%{x}<br>skill_delta=%{y}<br>studentCount=%{marker.size}<extra></extra>\", \"legendgroup\": \"skill_name=Word and Application Problems\", \"marker\": {\"color\": \"#ab63fa\", \"size\": [99, 10, 40, 51, 73, 73], \"sizemode\": \"area\", \"sizeref\": 1.14, \"symbol\": \"circle\"}, \"mode\": \"markers\", \"name\": \"skill_name=Word and Application Problems\", \"showlegend\": false, \"type\": \"scatter\", \"uid\": \"57fd91f0-4f08-4099-8ba5-7a5903813cb9\", \"x\": [\"2018\", \"2007\", \"2008\", \"2009\", \"2014\", \"2016\"], \"xaxis\": \"x4\", \"y\": [7.100000000000005, 15.68, 9.719999999999999, 5.760000000000005, 3.549999999999997, 3.8699999999999974], \"yaxis\": \"y7\"}, {\"hovertemplate\": \"<b>LOWESS trendline</b><br><br>class=9<br>skill_name=Word and Application Problems<br>skill_name=Word and Application Problems<br>year=%{x}<br>skill_delta=%{y} <b>(trend)</b><extra></extra>\", \"legendgroup\": \"skill_name=Word and Application Problems\", \"marker\": {\"color\": \"#ab63fa\", \"symbol\": \"circle\"}, \"mode\": \"lines\", \"name\": \"skill_name=Word and Application Problems\", \"showlegend\": false, \"type\": \"scatter\", \"uid\": \"22899938-c0db-4b28-a7d7-ec0f862256c3\", \"x\": [2007.0, 2008.0, 2009.0, 2014.0, 2016.0, 2018.0], \"xaxis\": \"x4\", \"y\": [15.41189779123567, 10.445215494678639, 5.500804309553455, 3.42330029217851, 5.075557927998898, 6.871555761466248], \"yaxis\": \"y7\"}, {\"hovertemplate\": \"class=10<br>skill_name=Intermediate Concepts, Geometry and Algebra<br>skill_name=Intermediate Concepts, Geometry and Algebra<br>year=%{x}<br>skill_delta=%{y}<br>studentCount=%{marker.size}<extra></extra>\", \"legendgroup\": \"skill_name=Intermediate Concepts, Geometry and Algebra\", \"marker\": {\"color\": \"#636efa\", \"size\": [73, 67], \"sizemode\": \"area\", \"sizeref\": 1.14, \"symbol\": \"circle\"}, \"mode\": \"markers\", \"name\": \"skill_name=Intermediate Concepts, Geometry and Algebra\", \"showlegend\": false, \"type\": \"scatter\", \"uid\": \"4d3a9198-d64f-4426-a069-bf5547f234db\", \"x\": [\"2014\", \"2016\"], \"xaxis\": \"x\", \"y\": [-1.5399999999999991, 9.240000000000002], \"yaxis\": \"y8\"}, {\"hovertemplate\": \"<b>LOWESS trendline</b><br><br>class=10<br>skill_name=Intermediate Concepts, Geometry and Algebra<br>skill_name=Intermediate Concepts, Geometry and Algebra<br>year=%{x}<br>skill_delta=%{y} <b>(trend)</b><extra></extra>\", \"legendgroup\": \"skill_name=Intermediate Concepts, Geometry and Algebra\", \"marker\": {\"color\": \"#636efa\", \"symbol\": \"circle\"}, \"mode\": \"lines\", \"name\": \"skill_name=Intermediate Concepts, Geometry and Algebra\", \"showlegend\": false, \"type\": \"scatter\", \"uid\": \"2f19aa1d-82f8-4578-b15b-a9e536bd2aa0\", \"x\": [2014.0, 2016.0], \"xaxis\": \"x\", \"y\": [-1.5399999999999991, 9.240000000000002], \"yaxis\": \"y8\"}, {\"hovertemplate\": \"class=10<br>skill_name=Number sense, Computations and Basic Arithmetic<br>skill_name=Number sense, Computations and Basic Arithmetic<br>year=%{x}<br>skill_delta=%{y}<br>studentCount=%{marker.size}<extra></extra>\", \"legendgroup\": \"skill_name=Number sense, Computations and Basic Arithmetic\", \"marker\": {\"color\": \"#EF553B\", \"size\": [73, 67], \"sizemode\": \"area\", \"sizeref\": 1.14, \"symbol\": \"circle\"}, \"mode\": \"markers\", \"name\": \"skill_name=Number sense, Computations and Basic Arithmetic\", \"showlegend\": false, \"type\": \"scatter\", \"uid\": \"12b67688-e68c-4186-93b5-a80c01edf9fe\", \"x\": [\"2014\", \"2016\"], \"xaxis\": \"x2\", \"y\": [0.10999999999999943, 0.10000000000000142], \"yaxis\": \"y8\"}, {\"hovertemplate\": \"<b>LOWESS trendline</b><br><br>class=10<br>skill_name=Number sense, Computations and Basic Arithmetic<br>skill_name=Number sense, Computations and Basic Arithmetic<br>year=%{x}<br>skill_delta=%{y} <b>(trend)</b><extra></extra>\", \"legendgroup\": \"skill_name=Number sense, Computations and Basic Arithmetic\", \"marker\": {\"color\": \"#EF553B\", \"symbol\": \"circle\"}, \"mode\": \"lines\", \"name\": \"skill_name=Number sense, Computations and Basic Arithmetic\", \"showlegend\": false, \"type\": \"scatter\", \"uid\": \"66777dcc-935e-4cf7-a51d-ef94b0210167\", \"x\": [2014.0, 2016.0], \"xaxis\": \"x2\", \"y\": [0.10999999999999943, 0.10000000000000142], \"yaxis\": \"y8\"}, {\"hovertemplate\": \"class=10<br>skill_name=Problem Solving, Advanced Problems<br>skill_name=Problem Solving, Advanced Problems<br>year=%{x}<br>skill_delta=%{y}<br>studentCount=%{marker.size}<extra></extra>\", \"legendgroup\": \"skill_name=Problem Solving, Advanced Problems\", \"marker\": {\"color\": \"#00cc96\", \"size\": [73, 67], \"sizemode\": \"area\", \"sizeref\": 1.14, \"symbol\": \"circle\"}, \"mode\": \"markers\", \"name\": \"skill_name=Problem Solving, Advanced Problems\", \"showlegend\": false, \"type\": \"scatter\", \"uid\": \"04e6fc79-2307-4ae2-9ef1-4b33aebbf7c9\", \"x\": [\"2014\", \"2016\"], \"xaxis\": \"x3\", \"y\": [-6.18, -1.9200000000000017], \"yaxis\": \"y8\"}, {\"hovertemplate\": \"<b>LOWESS trendline</b><br><br>class=10<br>skill_name=Problem Solving, Advanced Problems<br>skill_name=Problem Solving, Advanced Problems<br>year=%{x}<br>skill_delta=%{y} <b>(trend)</b><extra></extra>\", \"legendgroup\": \"skill_name=Problem Solving, Advanced Problems\", \"marker\": {\"color\": \"#00cc96\", \"symbol\": \"circle\"}, \"mode\": \"lines\", \"name\": \"skill_name=Problem Solving, Advanced Problems\", \"showlegend\": false, \"type\": \"scatter\", \"uid\": \"dee895b8-7f35-4842-a923-0684b71a6781\", \"x\": [2014.0, 2016.0], \"xaxis\": \"x3\", \"y\": [-6.18, -1.9200000000000017], \"yaxis\": \"y8\"}, {\"hovertemplate\": \"class=10<br>skill_name=Word and Application Problems<br>skill_name=Word and Application Problems<br>year=%{x}<br>skill_delta=%{y}<br>studentCount=%{marker.size}<extra></extra>\", \"legendgroup\": \"skill_name=Word and Application Problems\", \"marker\": {\"color\": \"#ab63fa\", \"size\": [73, 67], \"sizemode\": \"area\", \"sizeref\": 1.14, \"symbol\": \"circle\"}, \"mode\": \"markers\", \"name\": \"skill_name=Word and Application Problems\", \"showlegend\": false, \"type\": \"scatter\", \"uid\": \"1f5dd598-b09e-4ec7-ae9d-b1e3c05eae39\", \"x\": [\"2014\", \"2016\"], \"xaxis\": \"x4\", \"y\": [4.669999999999995, 7.229999999999997], \"yaxis\": \"y8\"}, {\"hovertemplate\": \"<b>LOWESS trendline</b><br><br>class=10<br>skill_name=Word and Application Problems<br>skill_name=Word and Application Problems<br>year=%{x}<br>skill_delta=%{y} <b>(trend)</b><extra></extra>\", \"legendgroup\": \"skill_name=Word and Application Problems\", \"marker\": {\"color\": \"#ab63fa\", \"symbol\": \"circle\"}, \"mode\": \"lines\", \"name\": \"skill_name=Word and Application Problems\", \"showlegend\": false, \"type\": \"scatter\", \"uid\": \"997ac9d2-ebaf-40d5-bf46-0abd0e571477\", \"x\": [2014.0, 2016.0], \"xaxis\": \"x4\", \"y\": [4.669999999999995, 7.229999999999997], \"yaxis\": \"y8\"}],\n",
       "                        {\"annotations\": [{\"showarrow\": false, \"text\": \"skill_name=Intermediate Concepts, Geometry and Algebra\", \"textangle\": 0, \"x\": 0.1153846153846154, \"xanchor\": \"center\", \"xref\": \"paper\", \"y\": 1.02, \"yanchor\": \"middle\", \"yref\": \"paper\"}, {\"showarrow\": false, \"text\": \"skill_name=Number sense, Computations and Basic Arithmetic\", \"textangle\": 0, \"x\": 0.3717948717948718, \"xanchor\": \"center\", \"xref\": \"paper\", \"y\": 1.02, \"yanchor\": \"middle\", \"yref\": \"paper\"}, {\"showarrow\": false, \"text\": \"skill_name=Problem Solving, Advanced Problems\", \"textangle\": 0, \"x\": 0.6282051282051283, \"xanchor\": \"center\", \"xref\": \"paper\", \"y\": 1.02, \"yanchor\": \"middle\", \"yref\": \"paper\"}, {\"showarrow\": false, \"text\": \"skill_name=Word and Application Problems\", \"textangle\": 0, \"x\": 0.8846153846153848, \"xanchor\": \"center\", \"xref\": \"paper\", \"y\": 1.02, \"yanchor\": \"middle\", \"yref\": \"paper\"}, {\"showarrow\": false, \"text\": \"class=3\", \"textangle\": 90, \"x\": 1.01, \"xanchor\": \"center\", \"xref\": \"paper\", \"y\": 0.9430379746835442, \"yanchor\": \"middle\", \"yref\": \"paper\"}, {\"showarrow\": false, \"text\": \"class=4\", \"textangle\": 90, \"x\": 1.01, \"xanchor\": \"center\", \"xref\": \"paper\", \"y\": 0.8164556962025316, \"yanchor\": \"middle\", \"yref\": \"paper\"}, {\"showarrow\": false, \"text\": \"class=5\", \"textangle\": 90, \"x\": 1.01, \"xanchor\": \"center\", \"xref\": \"paper\", \"y\": 0.6898734177215189, \"yanchor\": \"middle\", \"yref\": \"paper\"}, {\"showarrow\": false, \"text\": \"class=6\", \"textangle\": 90, \"x\": 1.01, \"xanchor\": \"center\", \"xref\": \"paper\", \"y\": 0.5632911392405062, \"yanchor\": \"middle\", \"yref\": \"paper\"}, {\"showarrow\": false, \"text\": \"class=7\", \"textangle\": 90, \"x\": 1.01, \"xanchor\": \"center\", \"xref\": \"paper\", \"y\": 0.4367088607594936, \"yanchor\": \"middle\", \"yref\": \"paper\"}, {\"showarrow\": false, \"text\": \"class=8\", \"textangle\": 90, \"x\": 1.01, \"xanchor\": \"center\", \"xref\": \"paper\", \"y\": 0.310126582278481, \"yanchor\": \"middle\", \"yref\": \"paper\"}, {\"showarrow\": false, \"text\": \"class=9\", \"textangle\": 90, \"x\": 1.01, \"xanchor\": \"center\", \"xref\": \"paper\", \"y\": 0.18354430379746833, \"yanchor\": \"middle\", \"yref\": \"paper\"}, {\"showarrow\": false, \"text\": \"class=10\", \"textangle\": 90, \"x\": 1.01, \"xanchor\": \"center\", \"xref\": \"paper\", \"y\": 0.05696202531645569, \"yanchor\": \"middle\", \"yref\": \"paper\"}], \"grid\": {\"xaxes\": [\"x\", \"x2\", \"x3\", \"x4\"], \"xgap\": 0.1, \"xside\": \"bottom\", \"yaxes\": [\"y\", \"y2\", \"y3\", \"y4\", \"y5\", \"y6\", \"y7\", \"y8\"], \"ygap\": 0.1, \"yside\": \"left\"}, \"height\": 2000, \"legend\": {\"tracegroupgap\": 0}, \"template\": {\"data\": {\"bar\": [{\"marker\": {\"line\": {\"color\": \"#E5ECF6\", \"width\": 0.5}}, \"type\": \"bar\"}], \"barpolar\": [{\"marker\": {\"line\": {\"color\": \"#E5ECF6\", \"width\": 0.5}}, \"type\": \"barpolar\"}], \"carpet\": [{\"aaxis\": {\"endlinecolor\": \"#2a3f5f\", \"gridcolor\": \"white\", \"linecolor\": \"white\", \"minorgridcolor\": \"white\", \"startlinecolor\": \"#2a3f5f\"}, \"baxis\": {\"endlinecolor\": \"#2a3f5f\", \"gridcolor\": \"white\", \"linecolor\": \"white\", \"minorgridcolor\": \"white\", \"startlinecolor\": \"#2a3f5f\"}, \"type\": \"carpet\"}], \"choropleth\": [{\"colorbar\": {\"outlinewidth\": 0, \"ticks\": \"\"}, \"type\": \"choropleth\"}], \"contour\": [{\"autocolorscale\": true, \"colorbar\": {\"outlinewidth\": 0, \"ticks\": \"\"}, \"type\": \"contour\"}], \"contourcarpet\": [{\"colorbar\": {\"outlinewidth\": 0, \"ticks\": \"\"}, \"type\": \"contourcarpet\"}], \"heatmap\": [{\"autocolorscale\": true, \"colorbar\": {\"outlinewidth\": 0, \"ticks\": \"\"}, \"type\": \"heatmap\"}], \"heatmapgl\": [{\"colorbar\": {\"outlinewidth\": 0, \"ticks\": \"\"}, \"type\": \"heatmapgl\"}], \"histogram\": [{\"marker\": {\"colorbar\": {\"outlinewidth\": 0, \"ticks\": \"\"}}, \"type\": \"histogram\"}], \"histogram2d\": [{\"autocolorscale\": true, \"colorbar\": {\"outlinewidth\": 0, \"ticks\": \"\"}, \"type\": \"histogram2d\"}], \"histogram2dcontour\": [{\"autocolorscale\": true, \"colorbar\": {\"outlinewidth\": 0, \"ticks\": \"\"}, \"type\": \"histogram2dcontour\"}], \"mesh3d\": [{\"colorbar\": {\"outlinewidth\": 0, \"ticks\": \"\"}, \"type\": \"mesh3d\"}], \"parcoords\": [{\"line\": {\"colorbar\": {\"outlinewidth\": 0, \"ticks\": \"\"}}, \"type\": \"parcoords\"}], \"scatter\": [{\"marker\": {\"colorbar\": {\"outlinewidth\": 0, \"ticks\": \"\"}}, \"type\": \"scatter\"}], \"scatter3d\": [{\"marker\": {\"colorbar\": {\"outlinewidth\": 0, \"ticks\": \"\"}}, \"type\": \"scatter3d\"}], \"scattercarpet\": [{\"marker\": {\"colorbar\": {\"outlinewidth\": 0, \"ticks\": \"\"}}, \"type\": \"scattercarpet\"}], \"scattergeo\": [{\"marker\": {\"colorbar\": {\"outlinewidth\": 0, \"ticks\": \"\"}}, \"type\": \"scattergeo\"}], \"scattergl\": [{\"marker\": {\"colorbar\": {\"outlinewidth\": 0, \"ticks\": \"\"}}, \"type\": \"scattergl\"}], \"scattermapbox\": [{\"marker\": {\"colorbar\": {\"outlinewidth\": 0, \"ticks\": \"\"}}, \"type\": \"scattermapbox\"}], \"scatterpolar\": [{\"marker\": {\"colorbar\": {\"outlinewidth\": 0, \"ticks\": \"\"}}, \"type\": \"scatterpolar\"}], \"scatterpolargl\": [{\"marker\": {\"colorbar\": {\"outlinewidth\": 0, \"ticks\": \"\"}}, \"type\": \"scatterpolargl\"}], \"scatterternary\": [{\"marker\": {\"colorbar\": {\"outlinewidth\": 0, \"ticks\": \"\"}}, \"type\": \"scatterternary\"}], \"surface\": [{\"colorbar\": {\"outlinewidth\": 0, \"ticks\": \"\"}, \"type\": \"surface\"}], \"table\": [{\"cells\": {\"fill\": {\"color\": \"#EBF0F8\"}, \"line\": {\"color\": \"white\"}}, \"header\": {\"fill\": {\"color\": \"#C8D4E3\"}, \"line\": {\"color\": \"white\"}}, \"type\": \"table\"}]}, \"layout\": {\"annotationdefaults\": {\"arrowcolor\": \"#506784\", \"arrowhead\": 0, \"arrowwidth\": 1}, \"colorscale\": {\"diverging\": [[0, \"#8e0152\"], [0.1, \"#c51b7d\"], [0.2, \"#de77ae\"], [0.3, \"#f1b6da\"], [0.4, \"#fde0ef\"], [0.5, \"#f7f7f7\"], [0.6, \"#e6f5d0\"], [0.7, \"#b8e186\"], [0.8, \"#7fbc41\"], [0.9, \"#4d9221\"], [1, \"#276419\"]], \"sequential\": [[0.0, \"#0508b8\"], [0.0893854748603352, \"#1910d8\"], [0.1787709497206704, \"#3c19f0\"], [0.2681564245810056, \"#6b1cfb\"], [0.3575418994413408, \"#981cfd\"], [0.44692737430167595, \"#bf1cfd\"], [0.5363128491620112, \"#dd2bfd\"], [0.6256983240223464, \"#f246fe\"], [0.7150837988826816, \"#fc67fd\"], [0.8044692737430168, \"#fe88fc\"], [0.8938547486033519, \"#fea5fd\"], [0.9832402234636871, \"#febefe\"], [1.0, \"#fec3fe\"]], \"sequentialminus\": [[0.0, \"#0508b8\"], [0.0893854748603352, \"#1910d8\"], [0.1787709497206704, \"#3c19f0\"], [0.2681564245810056, \"#6b1cfb\"], [0.3575418994413408, \"#981cfd\"], [0.44692737430167595, \"#bf1cfd\"], [0.5363128491620112, \"#dd2bfd\"], [0.6256983240223464, \"#f246fe\"], [0.7150837988826816, \"#fc67fd\"], [0.8044692737430168, \"#fe88fc\"], [0.8938547486033519, \"#fea5fd\"], [0.9832402234636871, \"#febefe\"], [1.0, \"#fec3fe\"]]}, \"colorway\": [\"#636efa\", \"#EF553B\", \"#00cc96\", \"#ab63fa\", \"#19d3f3\", \"#e763fa\", \"#FECB52\", \"#FFA15A\", \"#FF6692\", \"#B6E880\"], \"font\": {\"color\": \"#2a3f5f\"}, \"geo\": {\"bgcolor\": \"white\", \"lakecolor\": \"white\", \"landcolor\": \"#E5ECF6\", \"showlakes\": true, \"showland\": true, \"subunitcolor\": \"white\"}, \"hoverlabel\": {\"align\": \"left\"}, \"hovermode\": \"closest\", \"legend\": {\"itemsizing\": \"constant\"}, \"mapbox\": {\"style\": \"light\"}, \"paper_bgcolor\": \"white\", \"plot_bgcolor\": \"#E5ECF6\", \"polar\": {\"angularaxis\": {\"gridcolor\": \"white\", \"linecolor\": \"white\", \"ticks\": \"\"}, \"bgcolor\": \"#E5ECF6\", \"radialaxis\": {\"gridcolor\": \"white\", \"linecolor\": \"white\", \"ticks\": \"\"}}, \"scene\": {\"xaxis\": {\"backgroundcolor\": \"#E5ECF6\", \"gridcolor\": \"white\", \"gridwidth\": 2, \"linecolor\": \"white\", \"showbackground\": true, \"ticks\": \"\", \"zerolinecolor\": \"white\"}, \"yaxis\": {\"backgroundcolor\": \"#E5ECF6\", \"gridcolor\": \"white\", \"gridwidth\": 2, \"linecolor\": \"white\", \"showbackground\": true, \"ticks\": \"\", \"zerolinecolor\": \"white\"}, \"zaxis\": {\"backgroundcolor\": \"#E5ECF6\", \"gridcolor\": \"white\", \"gridwidth\": 2, \"linecolor\": \"white\", \"showbackground\": true, \"ticks\": \"\", \"zerolinecolor\": \"white\"}}, \"shapedefaults\": {\"fillcolor\": \"#506784\", \"line\": {\"width\": 0}, \"opacity\": 0.4}, \"ternary\": {\"aaxis\": {\"gridcolor\": \"white\", \"linecolor\": \"white\", \"ticks\": \"\"}, \"baxis\": {\"gridcolor\": \"white\", \"linecolor\": \"white\", \"ticks\": \"\"}, \"bgcolor\": \"#E5ECF6\", \"caxis\": {\"gridcolor\": \"white\", \"linecolor\": \"white\", \"ticks\": \"\"}}, \"title\": {\"x\": 0.05}, \"xaxis\": {\"automargin\": true, \"gridcolor\": \"white\", \"linecolor\": \"white\", \"ticks\": \"\", \"zerolinecolor\": \"white\", \"zerolinewidth\": 2}, \"yaxis\": {\"automargin\": true, \"gridcolor\": \"white\", \"linecolor\": \"white\", \"ticks\": \"\", \"zerolinecolor\": \"white\", \"zerolinewidth\": 2}}}, \"title\": {\"text\": \"Core Skills in Maths (Sushila Birla Girls^ School-Kolkata-CBSE)\"}, \"width\": 3000, \"xaxis\": {\"title\": {\"text\": \"year\"}}, \"xaxis2\": {\"matches\": \"x\", \"title\": {\"text\": \"year\"}}, \"xaxis3\": {\"matches\": \"x\", \"title\": {\"text\": \"year\"}}, \"xaxis4\": {\"matches\": \"x\", \"title\": {\"text\": \"year\"}}, \"yaxis\": {\"title\": {\"text\": \"skill_delta\"}}, \"yaxis2\": {\"matches\": \"y\", \"title\": {\"text\": \"skill_delta\"}}, \"yaxis3\": {\"matches\": \"y\", \"title\": {\"text\": \"skill_delta\"}}, \"yaxis4\": {\"matches\": \"y\", \"title\": {\"text\": \"skill_delta\"}}, \"yaxis5\": {\"matches\": \"y\", \"title\": {\"text\": \"skill_delta\"}}, \"yaxis6\": {\"matches\": \"y\", \"title\": {\"text\": \"skill_delta\"}}, \"yaxis7\": {\"matches\": \"y\", \"title\": {\"text\": \"skill_delta\"}}, \"yaxis8\": {\"matches\": \"y\", \"title\": {\"text\": \"skill_delta\"}}},\n",
       "                        {\"showLink\": false, \"linkText\": \"Export to plot.ly\", \"plotlyServerURL\": \"https://plot.ly\"}\n",
       "                    )\n",
       "                };\n",
       "                });\n",
       "            </script>\n",
       "        </div>"
      ]
     },
     "metadata": {},
     "output_type": "display_data"
    }
   ],
   "source": [
    "sub = 'Maths'\n",
    "px.scatter(df_school[df_school['subject']==sub].drop_duplicates(['papercode','skill_name']), \n",
    "        x = 'year', \n",
    "        y = 'skill_delta', \n",
    "        color='skill_name',\n",
    "        facet_row= 'class', \n",
    "        facet_col= 'skill_name', \n",
    "        size = 'studentCount',\n",
    "        size_max= 10,\n",
    "        trendline=\"lowess\",\n",
    "        height=2000,\n",
    "        width=3000,\n",
    "        title = 'Core Skills in %s (%s-%s-%s)'%(sub,school_name, school_city, school_board) )"
   ]
  },
  {
   "cell_type": "code",
   "execution_count": 20,
   "metadata": {
    "code_folding": [
     1
    ],
    "scrolled": false
   },
   "outputs": [
    {
     "data": {
      "application/vnd.plotly.v1+json": {
       "config": {
        "linkText": "Export to plot.ly",
        "plotlyServerURL": "https://plot.ly",
        "showLink": false
       },
       "data": [
        {
         "hovertemplate": "class=3<br>skill_name=Extended Reasoning<br>skill_name=Extended Reasoning<br>year=%{x}<br>skill_delta=%{y}<br>studentCount=%{marker.size}<extra></extra>",
         "legendgroup": "skill_name=Extended Reasoning",
         "marker": {
          "color": "#636efa",
          "size": [
           106,
           19,
           74,
           105,
           102
          ],
          "sizemode": "area",
          "sizeref": 1.1,
          "symbol": "circle"
         },
         "mode": "markers",
         "name": "skill_name=Extended Reasoning",
         "showlegend": true,
         "type": "scatter",
         "uid": "27a7d233-4a46-46f0-b79b-cb35f6f24e9e",
         "x": [
          "2018",
          "2007",
          "2008",
          "2014",
          "2016"
         ],
         "xaxis": "x",
         "y": [
          11.299999999999997,
          24.199999999999996,
          12.480000000000004,
          9.18,
          6.490000000000002
         ],
         "yaxis": "y"
        },
        {
         "hovertemplate": "<b>LOWESS trendline</b><br><br>class=3<br>skill_name=Extended Reasoning<br>skill_name=Extended Reasoning<br>year=%{x}<br>skill_delta=%{y} <b>(trend)</b><extra></extra>",
         "legendgroup": "skill_name=Extended Reasoning",
         "marker": {
          "color": "#636efa",
          "symbol": "circle"
         },
         "mode": "lines",
         "name": "skill_name=Extended Reasoning",
         "showlegend": false,
         "type": "scatter",
         "uid": "6e277da0-fe79-4022-8a21-4af7ec591e46",
         "x": [
          2007,
          2008,
          2014,
          2016,
          2018
         ],
         "xaxis": "x",
         "y": [
          24.199999999999996,
          12.480000000000004,
          9.180000000001199,
          6.490000000000002,
          11.30000000000151
         ],
         "yaxis": "y"
        },
        {
         "hovertemplate": "class=3<br>skill_name=Grammar Usage<br>skill_name=Grammar Usage<br>year=%{x}<br>skill_delta=%{y}<br>studentCount=%{marker.size}<extra></extra>",
         "legendgroup": "skill_name=Grammar Usage",
         "marker": {
          "color": "#EF553B",
          "size": [
           106,
           19,
           74,
           105,
           102
          ],
          "sizemode": "area",
          "sizeref": 1.1,
          "symbol": "circle"
         },
         "mode": "markers",
         "name": "skill_name=Grammar Usage",
         "showlegend": true,
         "type": "scatter",
         "uid": "9f745c65-5cc4-4c0b-bb05-87b596bab6bb",
         "x": [
          "2018",
          "2007",
          "2008",
          "2014",
          "2016"
         ],
         "xaxis": "x2",
         "y": [
          12.920000000000002,
          20.77000000000001,
          12.5,
          11.350000000000009,
          12.900000000000006
         ],
         "yaxis": "y"
        },
        {
         "hovertemplate": "<b>LOWESS trendline</b><br><br>class=3<br>skill_name=Grammar Usage<br>skill_name=Grammar Usage<br>year=%{x}<br>skill_delta=%{y} <b>(trend)</b><extra></extra>",
         "legendgroup": "skill_name=Grammar Usage",
         "marker": {
          "color": "#EF553B",
          "symbol": "circle"
         },
         "mode": "lines",
         "name": "skill_name=Grammar Usage",
         "showlegend": false,
         "type": "scatter",
         "uid": "6680365c-7c0a-4aac-9956-88033faee15b",
         "x": [
          2007,
          2008,
          2014,
          2016,
          2018
         ],
         "xaxis": "x2",
         "y": [
          20.77000000000882,
          12.500000000005544,
          11.350000000000009,
          12.900000000000006,
          12.920000000000002
         ],
         "yaxis": "y"
        },
        {
         "hovertemplate": "class=3<br>skill_name=Literal Comprehension<br>skill_name=Literal Comprehension<br>year=%{x}<br>skill_delta=%{y}<br>studentCount=%{marker.size}<extra></extra>",
         "legendgroup": "skill_name=Literal Comprehension",
         "marker": {
          "color": "#00cc96",
          "size": [
           106,
           19,
           74,
           105,
           102
          ],
          "sizemode": "area",
          "sizeref": 1.1,
          "symbol": "circle"
         },
         "mode": "markers",
         "name": "skill_name=Literal Comprehension",
         "showlegend": true,
         "type": "scatter",
         "uid": "3458f4d9-fdd5-4202-9981-a9471a68d204",
         "x": [
          "2018",
          "2007",
          "2008",
          "2014",
          "2016"
         ],
         "xaxis": "x3",
         "y": [
          9.229999999999997,
          13.100000000000009,
          6.489999999999995,
          6.950000000000003,
          6.3799999999999955
         ],
         "yaxis": "y"
        },
        {
         "hovertemplate": "<b>LOWESS trendline</b><br><br>class=3<br>skill_name=Literal Comprehension<br>skill_name=Literal Comprehension<br>year=%{x}<br>skill_delta=%{y} <b>(trend)</b><extra></extra>",
         "legendgroup": "skill_name=Literal Comprehension",
         "marker": {
          "color": "#00cc96",
          "symbol": "circle"
         },
         "mode": "lines",
         "name": "skill_name=Literal Comprehension",
         "showlegend": false,
         "type": "scatter",
         "uid": "3400115b-e765-4752-8932-037321db0c24",
         "x": [
          2007,
          2008,
          2014,
          2016,
          2018
         ],
         "xaxis": "x3",
         "y": [
          13.099999999998682,
          6.48999999999946,
          6.949999999999343,
          6.3799999999999955,
          9.229999999997863
         ],
         "yaxis": "y"
        },
        {
         "hovertemplate": "class=3<br>skill_name=Vocabulary in Context<br>skill_name=Vocabulary in Context<br>year=%{x}<br>skill_delta=%{y}<br>studentCount=%{marker.size}<extra></extra>",
         "legendgroup": "skill_name=Vocabulary in Context",
         "marker": {
          "color": "#ab63fa",
          "size": [
           106,
           19,
           74,
           105,
           102
          ],
          "sizemode": "area",
          "sizeref": 1.1,
          "symbol": "circle"
         },
         "mode": "markers",
         "name": "skill_name=Vocabulary in Context",
         "showlegend": true,
         "type": "scatter",
         "uid": "16146820-66a4-44dc-a1b0-bab3db275e23",
         "x": [
          "2018",
          "2007",
          "2008",
          "2014",
          "2016"
         ],
         "xaxis": "x4",
         "y": [
          10.25,
          23.35000000000001,
          13.610000000000007,
          11.120000000000005,
          3.8900000000000006
         ],
         "yaxis": "y"
        },
        {
         "hovertemplate": "<b>LOWESS trendline</b><br><br>class=3<br>skill_name=Vocabulary in Context<br>skill_name=Vocabulary in Context<br>year=%{x}<br>skill_delta=%{y} <b>(trend)</b><extra></extra>",
         "legendgroup": "skill_name=Vocabulary in Context",
         "marker": {
          "color": "#ab63fa",
          "symbol": "circle"
         },
         "mode": "lines",
         "name": "skill_name=Vocabulary in Context",
         "showlegend": false,
         "type": "scatter",
         "uid": "5c05b039-6a3f-4226-90f5-df1aacb22da8",
         "x": [
          2007,
          2008,
          2014,
          2016,
          2018
         ],
         "xaxis": "x4",
         "y": [
          23.35000000000001,
          13.610000000000007,
          11.120000000001555,
          3.8900000000000006,
          10.250000000001421
         ],
         "yaxis": "y"
        },
        {
         "hovertemplate": "class=4<br>skill_name=Extended Reasoning<br>skill_name=Extended Reasoning<br>year=%{x}<br>skill_delta=%{y}<br>studentCount=%{marker.size}<extra></extra>",
         "legendgroup": "skill_name=Extended Reasoning",
         "marker": {
          "color": "#636efa",
          "size": [
           108,
           15,
           73,
           104,
           108
          ],
          "sizemode": "area",
          "sizeref": 1.1,
          "symbol": "circle"
         },
         "mode": "markers",
         "name": "skill_name=Extended Reasoning",
         "showlegend": false,
         "type": "scatter",
         "uid": "ffc4c892-6225-46a2-b6a4-3c1ff5ec3dc7",
         "x": [
          "2018",
          "2007",
          "2008",
          "2014",
          "2016"
         ],
         "xaxis": "x",
         "y": [
          7.530000000000001,
          8.010000000000005,
          7.740000000000002,
          9.870000000000005,
          10.420000000000002
         ],
         "yaxis": "y2"
        },
        {
         "hovertemplate": "<b>LOWESS trendline</b><br><br>class=4<br>skill_name=Extended Reasoning<br>skill_name=Extended Reasoning<br>year=%{x}<br>skill_delta=%{y} <b>(trend)</b><extra></extra>",
         "legendgroup": "skill_name=Extended Reasoning",
         "marker": {
          "color": "#636efa",
          "symbol": "circle"
         },
         "mode": "lines",
         "name": "skill_name=Extended Reasoning",
         "showlegend": false,
         "type": "scatter",
         "uid": "e1cdb085-d35c-4350-bffe-a61cc819a69f",
         "x": [
          2007,
          2008,
          2014,
          2016,
          2018
         ],
         "xaxis": "x",
         "y": [
          8.009999999996888,
          7.739999999998436,
          9.870000000000822,
          10.420000000000002,
          7.530000000001029
         ],
         "yaxis": "y2"
        },
        {
         "hovertemplate": "class=4<br>skill_name=Grammar Usage<br>skill_name=Grammar Usage<br>year=%{x}<br>skill_delta=%{y}<br>studentCount=%{marker.size}<extra></extra>",
         "legendgroup": "skill_name=Grammar Usage",
         "marker": {
          "color": "#EF553B",
          "size": [
           108,
           15,
           73,
           104,
           108
          ],
          "sizemode": "area",
          "sizeref": 1.1,
          "symbol": "circle"
         },
         "mode": "markers",
         "name": "skill_name=Grammar Usage",
         "showlegend": false,
         "type": "scatter",
         "uid": "f83592a4-285f-442f-8e70-1d3a56d9de6e",
         "x": [
          "2018",
          "2007",
          "2008",
          "2014",
          "2016"
         ],
         "xaxis": "x2",
         "y": [
          12.14,
          0.10999999999999943,
          12.690000000000005,
          13.230000000000004,
          10.29
         ],
         "yaxis": "y2"
        },
        {
         "hovertemplate": "<b>LOWESS trendline</b><br><br>class=4<br>skill_name=Grammar Usage<br>skill_name=Grammar Usage<br>year=%{x}<br>skill_delta=%{y} <b>(trend)</b><extra></extra>",
         "legendgroup": "skill_name=Grammar Usage",
         "marker": {
          "color": "#EF553B",
          "symbol": "circle"
         },
         "mode": "lines",
         "name": "skill_name=Grammar Usage",
         "showlegend": false,
         "type": "scatter",
         "uid": "f30cc69d-0392-4f87-ba98-4edac65c628f",
         "x": [
          2007,
          2008,
          2014,
          2016,
          2018
         ],
         "xaxis": "x2",
         "y": [
          0.10999999999961373,
          12.690000000000444,
          13.23000000000115,
          10.29,
          12.139999999997924
         ],
         "yaxis": "y2"
        },
        {
         "hovertemplate": "class=4<br>skill_name=Literal Comprehension<br>skill_name=Literal Comprehension<br>year=%{x}<br>skill_delta=%{y}<br>studentCount=%{marker.size}<extra></extra>",
         "legendgroup": "skill_name=Literal Comprehension",
         "marker": {
          "color": "#00cc96",
          "size": [
           108,
           15,
           73,
           104,
           108
          ],
          "sizemode": "area",
          "sizeref": 1.1,
          "symbol": "circle"
         },
         "mode": "markers",
         "name": "skill_name=Literal Comprehension",
         "showlegend": false,
         "type": "scatter",
         "uid": "9918e2c5-20fe-4952-bc83-4bf00de3b07b",
         "x": [
          "2018",
          "2007",
          "2008",
          "2014",
          "2016"
         ],
         "xaxis": "x3",
         "y": [
          15.980000000000004,
          6.93,
          10.639999999999993,
          7.159999999999997,
          8.549999999999997
         ],
         "yaxis": "y2"
        },
        {
         "hovertemplate": "<b>LOWESS trendline</b><br><br>class=4<br>skill_name=Literal Comprehension<br>skill_name=Literal Comprehension<br>year=%{x}<br>skill_delta=%{y} <b>(trend)</b><extra></extra>",
         "legendgroup": "skill_name=Literal Comprehension",
         "marker": {
          "color": "#00cc96",
          "symbol": "circle"
         },
         "mode": "lines",
         "name": "skill_name=Literal Comprehension",
         "showlegend": false,
         "type": "scatter",
         "uid": "c6c4639e-ea0c-4ddb-93f0-c24284554d87",
         "x": [
          2007,
          2008,
          2014,
          2016,
          2018
         ],
         "xaxis": "x3",
         "y": [
          6.930000000002927,
          10.640000000004747,
          7.159999999999997,
          8.549999999999997,
          15.980000000002159
         ],
         "yaxis": "y2"
        },
        {
         "hovertemplate": "class=4<br>skill_name=Vocabulary in Context<br>skill_name=Vocabulary in Context<br>year=%{x}<br>skill_delta=%{y}<br>studentCount=%{marker.size}<extra></extra>",
         "legendgroup": "skill_name=Vocabulary in Context",
         "marker": {
          "color": "#ab63fa",
          "size": [
           108,
           15,
           73,
           104,
           108
          ],
          "sizemode": "area",
          "sizeref": 1.1,
          "symbol": "circle"
         },
         "mode": "markers",
         "name": "skill_name=Vocabulary in Context",
         "showlegend": false,
         "type": "scatter",
         "uid": "f2e201d9-f42a-4a22-ab48-0cc3809a30b1",
         "x": [
          "2018",
          "2007",
          "2008",
          "2014",
          "2016"
         ],
         "xaxis": "x4",
         "y": [
          13.759999999999998,
          1.519999999999996,
          15.449999999999996,
          10.760000000000005,
          6.049999999999997
         ],
         "yaxis": "y2"
        },
        {
         "hovertemplate": "<b>LOWESS trendline</b><br><br>class=4<br>skill_name=Vocabulary in Context<br>skill_name=Vocabulary in Context<br>year=%{x}<br>skill_delta=%{y} <b>(trend)</b><extra></extra>",
         "legendgroup": "skill_name=Vocabulary in Context",
         "marker": {
          "color": "#ab63fa",
          "symbol": "circle"
         },
         "mode": "lines",
         "name": "skill_name=Vocabulary in Context",
         "showlegend": false,
         "type": "scatter",
         "uid": "24038d23-f131-491e-ad2b-58ff0c74e434",
         "x": [
          2007,
          2008,
          2014,
          2016,
          2018
         ],
         "xaxis": "x4",
         "y": [
          1.5199999999985525,
          15.449999999991153,
          10.76000000000097,
          6.049999999999997,
          13.76000000000183
         ],
         "yaxis": "y2"
        },
        {
         "hovertemplate": "class=5<br>skill_name=Extended Reasoning<br>skill_name=Extended Reasoning<br>year=%{x}<br>skill_delta=%{y}<br>studentCount=%{marker.size}<extra></extra>",
         "legendgroup": "skill_name=Extended Reasoning",
         "marker": {
          "color": "#636efa",
          "size": [
           109,
           16,
           73,
           108,
           103
          ],
          "sizemode": "area",
          "sizeref": 1.1,
          "symbol": "circle"
         },
         "mode": "markers",
         "name": "skill_name=Extended Reasoning",
         "showlegend": false,
         "type": "scatter",
         "uid": "493aa3ea-792a-4f50-bf92-4fedb3f24fed",
         "x": [
          "2018",
          "2007",
          "2008",
          "2014",
          "2016"
         ],
         "xaxis": "x",
         "y": [
          10.200000000000003,
          10.719999999999999,
          7.559999999999995,
          9.57,
          11.32
         ],
         "yaxis": "y3"
        },
        {
         "hovertemplate": "<b>LOWESS trendline</b><br><br>class=5<br>skill_name=Extended Reasoning<br>skill_name=Extended Reasoning<br>year=%{x}<br>skill_delta=%{y} <b>(trend)</b><extra></extra>",
         "legendgroup": "skill_name=Extended Reasoning",
         "marker": {
          "color": "#636efa",
          "symbol": "circle"
         },
         "mode": "lines",
         "name": "skill_name=Extended Reasoning",
         "showlegend": false,
         "type": "scatter",
         "uid": "1dbc86a0-e0fc-4c16-8181-3e66842320ce",
         "x": [
          2007,
          2008,
          2014,
          2016,
          2018
         ],
         "xaxis": "x",
         "y": [
          10.720000000004545,
          7.560000000003353,
          9.57,
          11.32,
          10.200000000000003
         ],
         "yaxis": "y3"
        },
        {
         "hovertemplate": "class=5<br>skill_name=Grammar Usage<br>skill_name=Grammar Usage<br>year=%{x}<br>skill_delta=%{y}<br>studentCount=%{marker.size}<extra></extra>",
         "legendgroup": "skill_name=Grammar Usage",
         "marker": {
          "color": "#EF553B",
          "size": [
           109,
           16,
           73,
           108,
           103
          ],
          "sizemode": "area",
          "sizeref": 1.1,
          "symbol": "circle"
         },
         "mode": "markers",
         "name": "skill_name=Grammar Usage",
         "showlegend": false,
         "type": "scatter",
         "uid": "9589552a-d091-493c-8399-26bde10733fb",
         "x": [
          "2018",
          "2007",
          "2008",
          "2014",
          "2016"
         ],
         "xaxis": "x2",
         "y": [
          -0.48999999999999844,
          18.919999999999995,
          9.800000000000004,
          14.710000000000008,
          12.729999999999997
         ],
         "yaxis": "y3"
        },
        {
         "hovertemplate": "<b>LOWESS trendline</b><br><br>class=5<br>skill_name=Grammar Usage<br>skill_name=Grammar Usage<br>year=%{x}<br>skill_delta=%{y} <b>(trend)</b><extra></extra>",
         "legendgroup": "skill_name=Grammar Usage",
         "marker": {
          "color": "#EF553B",
          "symbol": "circle"
         },
         "mode": "lines",
         "name": "skill_name=Grammar Usage",
         "showlegend": false,
         "type": "scatter",
         "uid": "9288ae94-5d93-41a6-961f-41ededda414a",
         "x": [
          2007,
          2008,
          2014,
          2016,
          2018
         ],
         "xaxis": "x2",
         "y": [
          18.919999999999995,
          9.800000000000004,
          14.710000000005897,
          12.729999999999997,
          -0.48999999999993044
         ],
         "yaxis": "y3"
        },
        {
         "hovertemplate": "class=5<br>skill_name=Literal Comprehension<br>skill_name=Literal Comprehension<br>year=%{x}<br>skill_delta=%{y}<br>studentCount=%{marker.size}<extra></extra>",
         "legendgroup": "skill_name=Literal Comprehension",
         "marker": {
          "color": "#00cc96",
          "size": [
           109,
           16,
           73,
           108,
           103
          ],
          "sizemode": "area",
          "sizeref": 1.1,
          "symbol": "circle"
         },
         "mode": "markers",
         "name": "skill_name=Literal Comprehension",
         "showlegend": false,
         "type": "scatter",
         "uid": "f3948259-1ca3-44e3-bcfa-b19f08172e7c",
         "x": [
          "2018",
          "2007",
          "2008",
          "2014",
          "2016"
         ],
         "xaxis": "x3",
         "y": [
          12.460000000000008,
          11.560000000000002,
          4.229999999999997,
          12.58999999999999,
          8.030000000000001
         ],
         "yaxis": "y3"
        },
        {
         "hovertemplate": "<b>LOWESS trendline</b><br><br>class=5<br>skill_name=Literal Comprehension<br>skill_name=Literal Comprehension<br>year=%{x}<br>skill_delta=%{y} <b>(trend)</b><extra></extra>",
         "legendgroup": "skill_name=Literal Comprehension",
         "marker": {
          "color": "#00cc96",
          "symbol": "circle"
         },
         "mode": "lines",
         "name": "skill_name=Literal Comprehension",
         "showlegend": false,
         "type": "scatter",
         "uid": "4cc165f6-2930-4ced-b775-7ed702128c90",
         "x": [
          2007,
          2008,
          2014,
          2016,
          2018
         ],
         "xaxis": "x3",
         "y": [
          11.560000000000665,
          4.229999999999591,
          12.58999999999999,
          8.030000000000001,
          12.46000000000111
         ],
         "yaxis": "y3"
        },
        {
         "hovertemplate": "class=5<br>skill_name=Vocabulary in Context<br>skill_name=Vocabulary in Context<br>year=%{x}<br>skill_delta=%{y}<br>studentCount=%{marker.size}<extra></extra>",
         "legendgroup": "skill_name=Vocabulary in Context",
         "marker": {
          "color": "#ab63fa",
          "size": [
           109,
           16,
           73,
           108,
           103
          ],
          "sizemode": "area",
          "sizeref": 1.1,
          "symbol": "circle"
         },
         "mode": "markers",
         "name": "skill_name=Vocabulary in Context",
         "showlegend": false,
         "type": "scatter",
         "uid": "ed62702a-02b4-450a-be2d-f804fe64d27c",
         "x": [
          "2018",
          "2007",
          "2008",
          "2014",
          "2016"
         ],
         "xaxis": "x4",
         "y": [
          3.8999999999999986,
          33.05,
          11.069999999999993,
          12.310000000000002,
          8.009999999999998
         ],
         "yaxis": "y3"
        },
        {
         "hovertemplate": "<b>LOWESS trendline</b><br><br>class=5<br>skill_name=Vocabulary in Context<br>skill_name=Vocabulary in Context<br>year=%{x}<br>skill_delta=%{y} <b>(trend)</b><extra></extra>",
         "legendgroup": "skill_name=Vocabulary in Context",
         "marker": {
          "color": "#ab63fa",
          "symbol": "circle"
         },
         "mode": "lines",
         "name": "skill_name=Vocabulary in Context",
         "showlegend": false,
         "type": "scatter",
         "uid": "8fbad05a-a0a8-4e36-996e-31e7fcc6f0d4",
         "x": [
          2007,
          2008,
          2014,
          2016,
          2018
         ],
         "xaxis": "x4",
         "y": [
          33.05,
          11.069999999999993,
          12.310000000001628,
          8.009999999999998,
          3.90000000000038
         ],
         "yaxis": "y3"
        },
        {
         "hovertemplate": "class=6<br>skill_name=Extended Reasoning<br>skill_name=Extended Reasoning<br>year=%{x}<br>skill_delta=%{y}<br>studentCount=%{marker.size}<extra></extra>",
         "legendgroup": "skill_name=Extended Reasoning",
         "marker": {
          "color": "#636efa",
          "size": [
           107,
           17,
           75,
           82,
           97
          ],
          "sizemode": "area",
          "sizeref": 1.1,
          "symbol": "circle"
         },
         "mode": "markers",
         "name": "skill_name=Extended Reasoning",
         "showlegend": false,
         "type": "scatter",
         "uid": "6b6931be-b32c-4de0-8d2c-18d4f8cd025a",
         "x": [
          "2018",
          "2007",
          "2008",
          "2014",
          "2016"
         ],
         "xaxis": "x",
         "y": [
          8.43,
          26.009999999999998,
          9.04,
          10.420000000000002,
          12.590000000000003
         ],
         "yaxis": "y4"
        },
        {
         "hovertemplate": "<b>LOWESS trendline</b><br><br>class=6<br>skill_name=Extended Reasoning<br>skill_name=Extended Reasoning<br>year=%{x}<br>skill_delta=%{y} <b>(trend)</b><extra></extra>",
         "legendgroup": "skill_name=Extended Reasoning",
         "marker": {
          "color": "#636efa",
          "symbol": "circle"
         },
         "mode": "lines",
         "name": "skill_name=Extended Reasoning",
         "showlegend": false,
         "type": "scatter",
         "uid": "c6e3b1d0-6023-48d2-95e7-be9b23c42c0c",
         "x": [
          2007,
          2008,
          2014,
          2016,
          2018
         ],
         "xaxis": "x",
         "y": [
          26.009999999999998,
          9.04,
          10.420000000001234,
          12.590000000000003,
          8.43000000000094
         ],
         "yaxis": "y4"
        },
        {
         "hovertemplate": "class=6<br>skill_name=Grammar Usage<br>skill_name=Grammar Usage<br>year=%{x}<br>skill_delta=%{y}<br>studentCount=%{marker.size}<extra></extra>",
         "legendgroup": "skill_name=Grammar Usage",
         "marker": {
          "color": "#EF553B",
          "size": [
           107,
           17,
           75,
           82,
           97
          ],
          "sizemode": "area",
          "sizeref": 1.1,
          "symbol": "circle"
         },
         "mode": "markers",
         "name": "skill_name=Grammar Usage",
         "showlegend": false,
         "type": "scatter",
         "uid": "9d7e4d0d-8d5a-4b09-b8b1-15bb72f4c125",
         "x": [
          "2018",
          "2007",
          "2008",
          "2014",
          "2016"
         ],
         "xaxis": "x2",
         "y": [
          2.049999999999999,
          32.790000000000006,
          20,
          13.589999999999996,
          12.319999999999993
         ],
         "yaxis": "y4"
        },
        {
         "hovertemplate": "<b>LOWESS trendline</b><br><br>class=6<br>skill_name=Grammar Usage<br>skill_name=Grammar Usage<br>year=%{x}<br>skill_delta=%{y} <b>(trend)</b><extra></extra>",
         "legendgroup": "skill_name=Grammar Usage",
         "marker": {
          "color": "#EF553B",
          "symbol": "circle"
         },
         "mode": "lines",
         "name": "skill_name=Grammar Usage",
         "showlegend": false,
         "type": "scatter",
         "uid": "331ea208-c767-43f0-803a-0801a60e02fd",
         "x": [
          2007,
          2008,
          2014,
          2016,
          2018
         ],
         "xaxis": "x2",
         "y": [
          32.790000000000006,
          20,
          13.590000000001705,
          12.319999999999993,
          2.0500000000000016
         ],
         "yaxis": "y4"
        },
        {
         "hovertemplate": "class=6<br>skill_name=Literal Comprehension<br>skill_name=Literal Comprehension<br>year=%{x}<br>skill_delta=%{y}<br>studentCount=%{marker.size}<extra></extra>",
         "legendgroup": "skill_name=Literal Comprehension",
         "marker": {
          "color": "#00cc96",
          "size": [
           107,
           17,
           75,
           82,
           97
          ],
          "sizemode": "area",
          "sizeref": 1.1,
          "symbol": "circle"
         },
         "mode": "markers",
         "name": "skill_name=Literal Comprehension",
         "showlegend": false,
         "type": "scatter",
         "uid": "fd4adc7c-188d-4cd1-b255-09ed087a6722",
         "x": [
          "2018",
          "2007",
          "2008",
          "2014",
          "2016"
         ],
         "xaxis": "x3",
         "y": [
          5.859999999999999,
          27.340000000000003,
          13.11,
          11.930000000000007,
          6.950000000000003
         ],
         "yaxis": "y4"
        },
        {
         "hovertemplate": "<b>LOWESS trendline</b><br><br>class=6<br>skill_name=Literal Comprehension<br>skill_name=Literal Comprehension<br>year=%{x}<br>skill_delta=%{y} <b>(trend)</b><extra></extra>",
         "legendgroup": "skill_name=Literal Comprehension",
         "marker": {
          "color": "#00cc96",
          "symbol": "circle"
         },
         "mode": "lines",
         "name": "skill_name=Literal Comprehension",
         "showlegend": false,
         "type": "scatter",
         "uid": "be52d8ef-7eb2-4342-8071-9ae8fb642231",
         "x": [
          2007,
          2008,
          2014,
          2016,
          2018
         ],
         "xaxis": "x3",
         "y": [
          27.340000000000003,
          13.11,
          11.930000000001602,
          6.950000000000003,
          5.860000000000697
         ],
         "yaxis": "y4"
        },
        {
         "hovertemplate": "class=6<br>skill_name=Vocabulary in Context<br>skill_name=Vocabulary in Context<br>year=%{x}<br>skill_delta=%{y}<br>studentCount=%{marker.size}<extra></extra>",
         "legendgroup": "skill_name=Vocabulary in Context",
         "marker": {
          "color": "#ab63fa",
          "size": [
           107,
           17,
           75,
           82,
           97
          ],
          "sizemode": "area",
          "sizeref": 1.1,
          "symbol": "circle"
         },
         "mode": "markers",
         "name": "skill_name=Vocabulary in Context",
         "showlegend": false,
         "type": "scatter",
         "uid": "a5eef6fc-c199-4cad-a602-6a58906c2f52",
         "x": [
          "2018",
          "2007",
          "2008",
          "2014",
          "2016"
         ],
         "xaxis": "x4",
         "y": [
          16.089999999999996,
          27.39,
          17.68,
          14.420000000000002,
          8.14
         ],
         "yaxis": "y4"
        },
        {
         "hovertemplate": "<b>LOWESS trendline</b><br><br>class=6<br>skill_name=Vocabulary in Context<br>skill_name=Vocabulary in Context<br>year=%{x}<br>skill_delta=%{y} <b>(trend)</b><extra></extra>",
         "legendgroup": "skill_name=Vocabulary in Context",
         "marker": {
          "color": "#ab63fa",
          "symbol": "circle"
         },
         "mode": "lines",
         "name": "skill_name=Vocabulary in Context",
         "showlegend": false,
         "type": "scatter",
         "uid": "25f98fe3-5516-49a6-9772-4914b8af1b43",
         "x": [
          2007,
          2008,
          2014,
          2016,
          2018
         ],
         "xaxis": "x4",
         "y": [
          27.39000000001162,
          17.680000000007844,
          14.420000000000002,
          8.14,
          16.089999999999996
         ],
         "yaxis": "y4"
        },
        {
         "hovertemplate": "class=7<br>skill_name=Extended Reasoning<br>skill_name=Extended Reasoning<br>year=%{x}<br>skill_delta=%{y}<br>studentCount=%{marker.size}<extra></extra>",
         "legendgroup": "skill_name=Extended Reasoning",
         "marker": {
          "color": "#636efa",
          "size": [
           110,
           4,
           46,
           78,
           96
          ],
          "sizemode": "area",
          "sizeref": 1.1,
          "symbol": "circle"
         },
         "mode": "markers",
         "name": "skill_name=Extended Reasoning",
         "showlegend": false,
         "type": "scatter",
         "uid": "468ff8b7-38ce-46a4-ba76-87e78a700f8e",
         "x": [
          "2018",
          "2007",
          "2008",
          "2014",
          "2016"
         ],
         "xaxis": "x",
         "y": [
          11.149999999999999,
          9.270000000000003,
          18.009999999999998,
          12.170000000000002,
          17.14
         ],
         "yaxis": "y5"
        },
        {
         "hovertemplate": "<b>LOWESS trendline</b><br><br>class=7<br>skill_name=Extended Reasoning<br>skill_name=Extended Reasoning<br>year=%{x}<br>skill_delta=%{y} <b>(trend)</b><extra></extra>",
         "legendgroup": "skill_name=Extended Reasoning",
         "marker": {
          "color": "#636efa",
          "symbol": "circle"
         },
         "mode": "lines",
         "name": "skill_name=Extended Reasoning",
         "showlegend": false,
         "type": "scatter",
         "uid": "3015e04e-ead8-4160-944d-8b03b6e1c3b5",
         "x": [
          2007,
          2008,
          2014,
          2016,
          2018
         ],
         "xaxis": "x",
         "y": [
          9.270000000003913,
          18.010000000008052,
          12.170000000000002,
          17.14,
          11.149999999999999
         ],
         "yaxis": "y5"
        },
        {
         "hovertemplate": "class=7<br>skill_name=Grammar Usage<br>skill_name=Grammar Usage<br>year=%{x}<br>skill_delta=%{y}<br>studentCount=%{marker.size}<extra></extra>",
         "legendgroup": "skill_name=Grammar Usage",
         "marker": {
          "color": "#EF553B",
          "size": [
           110,
           4,
           46,
           78,
           96
          ],
          "sizemode": "area",
          "sizeref": 1.1,
          "symbol": "circle"
         },
         "mode": "markers",
         "name": "skill_name=Grammar Usage",
         "showlegend": false,
         "type": "scatter",
         "uid": "9d64c834-db31-45bf-adce-7f4627506edf",
         "x": [
          "2018",
          "2007",
          "2008",
          "2014",
          "2016"
         ],
         "xaxis": "x2",
         "y": [
          4.959999999999997,
          21.590000000000003,
          20.429999999999993,
          16.779999999999994,
          14.32
         ],
         "yaxis": "y5"
        },
        {
         "hovertemplate": "<b>LOWESS trendline</b><br><br>class=7<br>skill_name=Grammar Usage<br>skill_name=Grammar Usage<br>year=%{x}<br>skill_delta=%{y} <b>(trend)</b><extra></extra>",
         "legendgroup": "skill_name=Grammar Usage",
         "marker": {
          "color": "#EF553B",
          "symbol": "circle"
         },
         "mode": "lines",
         "name": "skill_name=Grammar Usage",
         "showlegend": false,
         "type": "scatter",
         "uid": "4e164fc3-bdc8-44c3-8a96-597555d3c79a",
         "x": [
          2007,
          2008,
          2014,
          2016,
          2018
         ],
         "xaxis": "x2",
         "y": [
          21.590000000009148,
          20.430000000009095,
          16.779999999999994,
          14.32,
          4.959999999999997
         ],
         "yaxis": "y5"
        },
        {
         "hovertemplate": "class=7<br>skill_name=Literal Comprehension<br>skill_name=Literal Comprehension<br>year=%{x}<br>skill_delta=%{y}<br>studentCount=%{marker.size}<extra></extra>",
         "legendgroup": "skill_name=Literal Comprehension",
         "marker": {
          "color": "#00cc96",
          "size": [
           110,
           4,
           46,
           78,
           96
          ],
          "sizemode": "area",
          "sizeref": 1.1,
          "symbol": "circle"
         },
         "mode": "markers",
         "name": "skill_name=Literal Comprehension",
         "showlegend": false,
         "type": "scatter",
         "uid": "ace89a03-9670-4c71-a132-0c27f09ae6dd",
         "x": [
          "2018",
          "2007",
          "2008",
          "2014",
          "2016"
         ],
         "xaxis": "x3",
         "y": [
          7.149999999999999,
          21.949999999999996,
          23.71,
          13.150000000000006,
          12.150000000000006
         ],
         "yaxis": "y5"
        },
        {
         "hovertemplate": "<b>LOWESS trendline</b><br><br>class=7<br>skill_name=Literal Comprehension<br>skill_name=Literal Comprehension<br>year=%{x}<br>skill_delta=%{y} <b>(trend)</b><extra></extra>",
         "legendgroup": "skill_name=Literal Comprehension",
         "marker": {
          "color": "#00cc96",
          "symbol": "circle"
         },
         "mode": "lines",
         "name": "skill_name=Literal Comprehension",
         "showlegend": false,
         "type": "scatter",
         "uid": "08252b34-0fd9-40d1-afa2-a44b44ea4e65",
         "x": [
          2007,
          2008,
          2014,
          2016,
          2018
         ],
         "xaxis": "x3",
         "y": [
          21.949999999999996,
          23.71,
          13.150000000001654,
          12.150000000000006,
          7.150000000000759
         ],
         "yaxis": "y5"
        },
        {
         "hovertemplate": "class=7<br>skill_name=Vocabulary in Context<br>skill_name=Vocabulary in Context<br>year=%{x}<br>skill_delta=%{y}<br>studentCount=%{marker.size}<extra></extra>",
         "legendgroup": "skill_name=Vocabulary in Context",
         "marker": {
          "color": "#ab63fa",
          "size": [
           110,
           4,
           46,
           78,
           96
          ],
          "sizemode": "area",
          "sizeref": 1.1,
          "symbol": "circle"
         },
         "mode": "markers",
         "name": "skill_name=Vocabulary in Context",
         "showlegend": false,
         "type": "scatter",
         "uid": "6e1a8736-8109-4de3-b080-4c02ce3c9e3d",
         "x": [
          "2018",
          "2007",
          "2008",
          "2014",
          "2016"
         ],
         "xaxis": "x4",
         "y": [
          5.199999999999999,
          14.630000000000003,
          15.5,
          16.090000000000003,
          8.800000000000004
         ],
         "yaxis": "y5"
        },
        {
         "hovertemplate": "<b>LOWESS trendline</b><br><br>class=7<br>skill_name=Vocabulary in Context<br>skill_name=Vocabulary in Context<br>year=%{x}<br>skill_delta=%{y} <b>(trend)</b><extra></extra>",
         "legendgroup": "skill_name=Vocabulary in Context",
         "marker": {
          "color": "#ab63fa",
          "symbol": "circle"
         },
         "mode": "lines",
         "name": "skill_name=Vocabulary in Context",
         "showlegend": false,
         "type": "scatter",
         "uid": "fa5a27b5-3d22-428d-840b-35b0418179c0",
         "x": [
          2007,
          2008,
          2014,
          2016,
          2018
         ],
         "xaxis": "x4",
         "y": [
          14.630000000006198,
          15.50000000000691,
          16.090000000000003,
          8.800000000000004,
          5.199999999999999
         ],
         "yaxis": "y5"
        },
        {
         "hovertemplate": "class=8<br>skill_name=Extended Reasoning<br>skill_name=Extended Reasoning<br>year=%{x}<br>skill_delta=%{y}<br>studentCount=%{marker.size}<extra></extra>",
         "legendgroup": "skill_name=Extended Reasoning",
         "marker": {
          "color": "#636efa",
          "size": [
           96,
           15,
           54,
           76,
           72
          ],
          "sizemode": "area",
          "sizeref": 1.1,
          "symbol": "circle"
         },
         "mode": "markers",
         "name": "skill_name=Extended Reasoning",
         "showlegend": false,
         "type": "scatter",
         "uid": "492b377a-4e1b-4e2f-b440-5875d18b76ea",
         "x": [
          "2018",
          "2007",
          "2008",
          "2014",
          "2016"
         ],
         "xaxis": "x",
         "y": [
          7.619999999999997,
          31.71,
          17.630000000000003,
          11.099999999999994,
          8.96
         ],
         "yaxis": "y6"
        },
        {
         "hovertemplate": "<b>LOWESS trendline</b><br><br>class=8<br>skill_name=Extended Reasoning<br>skill_name=Extended Reasoning<br>year=%{x}<br>skill_delta=%{y} <b>(trend)</b><extra></extra>",
         "legendgroup": "skill_name=Extended Reasoning",
         "marker": {
          "color": "#636efa",
          "symbol": "circle"
         },
         "mode": "lines",
         "name": "skill_name=Extended Reasoning",
         "showlegend": false,
         "type": "scatter",
         "uid": "2e92cd50-679b-4896-96ae-a58a48f70474",
         "x": [
          2007,
          2008,
          2014,
          2016,
          2018
         ],
         "xaxis": "x",
         "y": [
          31.71,
          17.630000000000003,
          11.100000000001417,
          8.96,
          7.620000000000906
         ],
         "yaxis": "y6"
        },
        {
         "hovertemplate": "class=8<br>skill_name=Grammar Usage<br>skill_name=Grammar Usage<br>year=%{x}<br>skill_delta=%{y}<br>studentCount=%{marker.size}<extra></extra>",
         "legendgroup": "skill_name=Grammar Usage",
         "marker": {
          "color": "#EF553B",
          "size": [
           96,
           15,
           54,
           76,
           72
          ],
          "sizemode": "area",
          "sizeref": 1.1,
          "symbol": "circle"
         },
         "mode": "markers",
         "name": "skill_name=Grammar Usage",
         "showlegend": false,
         "type": "scatter",
         "uid": "d5d108ea-04d6-4a8b-88fc-b0e742ef9624",
         "x": [
          "2018",
          "2007",
          "2008",
          "2014",
          "2016"
         ],
         "xaxis": "x2",
         "y": [
          17.590000000000003,
          25.939999999999998,
          21.189999999999998,
          20.83,
          14.780000000000001
         ],
         "yaxis": "y6"
        },
        {
         "hovertemplate": "<b>LOWESS trendline</b><br><br>class=8<br>skill_name=Grammar Usage<br>skill_name=Grammar Usage<br>year=%{x}<br>skill_delta=%{y} <b>(trend)</b><extra></extra>",
         "legendgroup": "skill_name=Grammar Usage",
         "marker": {
          "color": "#EF553B",
          "symbol": "circle"
         },
         "mode": "lines",
         "name": "skill_name=Grammar Usage",
         "showlegend": false,
         "type": "scatter",
         "uid": "1e06a216-dc2f-4e12-aa14-afcfc8317c05",
         "x": [
          2007,
          2008,
          2014,
          2016,
          2018
         ],
         "xaxis": "x2",
         "y": [
          25.94000000000977,
          21.1900000000012,
          20.830000000001824,
          14.780000000000001,
          17.590000000000913
         ],
         "yaxis": "y6"
        },
        {
         "hovertemplate": "class=8<br>skill_name=Literal Comprehension<br>skill_name=Literal Comprehension<br>year=%{x}<br>skill_delta=%{y}<br>studentCount=%{marker.size}<extra></extra>",
         "legendgroup": "skill_name=Literal Comprehension",
         "marker": {
          "color": "#00cc96",
          "size": [
           96,
           15,
           54,
           76,
           72
          ],
          "sizemode": "area",
          "sizeref": 1.1,
          "symbol": "circle"
         },
         "mode": "markers",
         "name": "skill_name=Literal Comprehension",
         "showlegend": false,
         "type": "scatter",
         "uid": "aa2f4c59-870e-42a9-95a3-32d8f29d288b",
         "x": [
          "2018",
          "2007",
          "2008",
          "2014",
          "2016"
         ],
         "xaxis": "x3",
         "y": [
          7,
          30.270000000000003,
          14.79,
          9.68999999999999,
          5.969999999999999
         ],
         "yaxis": "y6"
        },
        {
         "hovertemplate": "<b>LOWESS trendline</b><br><br>class=8<br>skill_name=Literal Comprehension<br>skill_name=Literal Comprehension<br>year=%{x}<br>skill_delta=%{y} <b>(trend)</b><extra></extra>",
         "legendgroup": "skill_name=Literal Comprehension",
         "marker": {
          "color": "#00cc96",
          "symbol": "circle"
         },
         "mode": "lines",
         "name": "skill_name=Literal Comprehension",
         "showlegend": false,
         "type": "scatter",
         "uid": "2c85601e-877c-4593-bad9-e7173226e974",
         "x": [
          2007,
          2008,
          2014,
          2016,
          2018
         ],
         "xaxis": "x3",
         "y": [
          30.270000000000003,
          14.79,
          9.690000000001278,
          5.969999999999999,
          7.00000000000089
         ],
         "yaxis": "y6"
        },
        {
         "hovertemplate": "class=8<br>skill_name=Vocabulary in Context<br>skill_name=Vocabulary in Context<br>year=%{x}<br>skill_delta=%{y}<br>studentCount=%{marker.size}<extra></extra>",
         "legendgroup": "skill_name=Vocabulary in Context",
         "marker": {
          "color": "#ab63fa",
          "size": [
           96,
           15,
           54,
           76,
           72
          ],
          "sizemode": "area",
          "sizeref": 1.1,
          "symbol": "circle"
         },
         "mode": "markers",
         "name": "skill_name=Vocabulary in Context",
         "showlegend": false,
         "type": "scatter",
         "uid": "d3d7b5f3-815d-4620-b992-42c772a86066",
         "x": [
          "2018",
          "2007",
          "2008",
          "2014",
          "2016"
         ],
         "xaxis": "x4",
         "y": [
          10.960000000000004,
          19.4,
          12.770000000000003,
          10.939999999999998,
          5.579999999999998
         ],
         "yaxis": "y6"
        },
        {
         "hovertemplate": "<b>LOWESS trendline</b><br><br>class=8<br>skill_name=Vocabulary in Context<br>skill_name=Vocabulary in Context<br>year=%{x}<br>skill_delta=%{y} <b>(trend)</b><extra></extra>",
         "legendgroup": "skill_name=Vocabulary in Context",
         "marker": {
          "color": "#ab63fa",
          "symbol": "circle"
         },
         "mode": "lines",
         "name": "skill_name=Vocabulary in Context",
         "showlegend": false,
         "type": "scatter",
         "uid": "8cfb7e5d-5d90-41e2-816d-7ce037688d2a",
         "x": [
          2007,
          2008,
          2014,
          2016,
          2018
         ],
         "xaxis": "x4",
         "y": [
          19.400000000008227,
          12.770000000005671,
          10.939999999999998,
          5.579999999999998,
          10.960000000000004
         ],
         "yaxis": "y6"
        },
        {
         "hovertemplate": "class=9<br>skill_name=Extended Reasoning<br>skill_name=Extended Reasoning<br>year=%{x}<br>skill_delta=%{y}<br>studentCount=%{marker.size}<extra></extra>",
         "legendgroup": "skill_name=Extended Reasoning",
         "marker": {
          "color": "#636efa",
          "size": [
           98,
           10,
           40,
           73,
           64
          ],
          "sizemode": "area",
          "sizeref": 1.1,
          "symbol": "circle"
         },
         "mode": "markers",
         "name": "skill_name=Extended Reasoning",
         "showlegend": false,
         "type": "scatter",
         "uid": "2be84c85-377c-472e-bf1e-fe2669ea3c4f",
         "x": [
          "2018",
          "2007",
          "2008",
          "2014",
          "2016"
         ],
         "xaxis": "x",
         "y": [
          9.119999999999997,
          16.58,
          20.020000000000003,
          10.290000000000006,
          16.67
         ],
         "yaxis": "y7"
        },
        {
         "hovertemplate": "<b>LOWESS trendline</b><br><br>class=9<br>skill_name=Extended Reasoning<br>skill_name=Extended Reasoning<br>year=%{x}<br>skill_delta=%{y} <b>(trend)</b><extra></extra>",
         "legendgroup": "skill_name=Extended Reasoning",
         "marker": {
          "color": "#636efa",
          "symbol": "circle"
         },
         "mode": "lines",
         "name": "skill_name=Extended Reasoning",
         "showlegend": false,
         "type": "scatter",
         "uid": "6023699c-6a6c-497d-a458-32205cf649d7",
         "x": [
          2007,
          2008,
          2014,
          2016,
          2018
         ],
         "xaxis": "x",
         "y": [
          16.58,
          20.020000000000003,
          10.290000000001122,
          16.67,
          9.120000000000939
         ],
         "yaxis": "y7"
        },
        {
         "hovertemplate": "class=9<br>skill_name=Grammar Usage<br>skill_name=Grammar Usage<br>year=%{x}<br>skill_delta=%{y}<br>studentCount=%{marker.size}<extra></extra>",
         "legendgroup": "skill_name=Grammar Usage",
         "marker": {
          "color": "#EF553B",
          "size": [
           98,
           10,
           40,
           73,
           64
          ],
          "sizemode": "area",
          "sizeref": 1.1,
          "symbol": "circle"
         },
         "mode": "markers",
         "name": "skill_name=Grammar Usage",
         "showlegend": false,
         "type": "scatter",
         "uid": "68c3abb0-85c3-42ec-9484-a64a95d105fc",
         "x": [
          "2018",
          "2007",
          "2008",
          "2014",
          "2016"
         ],
         "xaxis": "x2",
         "y": [
          9.200000000000003,
          23.130000000000003,
          24.15,
          14.89,
          18.840000000000003
         ],
         "yaxis": "y7"
        },
        {
         "hovertemplate": "<b>LOWESS trendline</b><br><br>class=9<br>skill_name=Grammar Usage<br>skill_name=Grammar Usage<br>year=%{x}<br>skill_delta=%{y} <b>(trend)</b><extra></extra>",
         "legendgroup": "skill_name=Grammar Usage",
         "marker": {
          "color": "#EF553B",
          "symbol": "circle"
         },
         "mode": "lines",
         "name": "skill_name=Grammar Usage",
         "showlegend": false,
         "type": "scatter",
         "uid": "ddd8c238-d047-4428-8bd1-4466dfc8d4bb",
         "x": [
          2007,
          2008,
          2014,
          2016,
          2018
         ],
         "xaxis": "x2",
         "y": [
          23.130000000000003,
          24.15,
          14.890000000001743,
          18.840000000000003,
          9.200000000000903
         ],
         "yaxis": "y7"
        },
        {
         "hovertemplate": "class=9<br>skill_name=Literal Comprehension<br>skill_name=Literal Comprehension<br>year=%{x}<br>skill_delta=%{y}<br>studentCount=%{marker.size}<extra></extra>",
         "legendgroup": "skill_name=Literal Comprehension",
         "marker": {
          "color": "#00cc96",
          "size": [
           98,
           10,
           40,
           73,
           64
          ],
          "sizemode": "area",
          "sizeref": 1.1,
          "symbol": "circle"
         },
         "mode": "markers",
         "name": "skill_name=Literal Comprehension",
         "showlegend": false,
         "type": "scatter",
         "uid": "3a5f3fdf-765a-4109-9616-cd1726e2d10d",
         "x": [
          "2018",
          "2007",
          "2008",
          "2014",
          "2016"
         ],
         "xaxis": "x3",
         "y": [
          8.419999999999998,
          14.509999999999998,
          18.419999999999995,
          16.310000000000002,
          18.200000000000003
         ],
         "yaxis": "y7"
        },
        {
         "hovertemplate": "<b>LOWESS trendline</b><br><br>class=9<br>skill_name=Literal Comprehension<br>skill_name=Literal Comprehension<br>year=%{x}<br>skill_delta=%{y} <b>(trend)</b><extra></extra>",
         "legendgroup": "skill_name=Literal Comprehension",
         "marker": {
          "color": "#00cc96",
          "symbol": "circle"
         },
         "mode": "lines",
         "name": "skill_name=Literal Comprehension",
         "showlegend": false,
         "type": "scatter",
         "uid": "0e41a49f-f950-4db0-9298-7e467ffa3fe9",
         "x": [
          2007,
          2008,
          2014,
          2016,
          2018
         ],
         "xaxis": "x3",
         "y": [
          14.510000000006137,
          18.420000000008216,
          16.310000000000002,
          18.200000000000003,
          8.419999999999998
         ],
         "yaxis": "y7"
        },
        {
         "hovertemplate": "class=9<br>skill_name=Vocabulary in Context<br>skill_name=Vocabulary in Context<br>year=%{x}<br>skill_delta=%{y}<br>studentCount=%{marker.size}<extra></extra>",
         "legendgroup": "skill_name=Vocabulary in Context",
         "marker": {
          "color": "#ab63fa",
          "size": [
           98,
           10,
           40,
           73,
           64
          ],
          "sizemode": "area",
          "sizeref": 1.1,
          "symbol": "circle"
         },
         "mode": "markers",
         "name": "skill_name=Vocabulary in Context",
         "showlegend": false,
         "type": "scatter",
         "uid": "b51be151-a668-4edc-92eb-d2046baaab08",
         "x": [
          "2018",
          "2007",
          "2008",
          "2014",
          "2016"
         ],
         "xaxis": "x4",
         "y": [
          1.9799999999999995,
          18.28,
          22.089999999999996,
          17.190000000000005,
          23.019999999999996
         ],
         "yaxis": "y7"
        },
        {
         "hovertemplate": "<b>LOWESS trendline</b><br><br>class=9<br>skill_name=Vocabulary in Context<br>skill_name=Vocabulary in Context<br>year=%{x}<br>skill_delta=%{y} <b>(trend)</b><extra></extra>",
         "legendgroup": "skill_name=Vocabulary in Context",
         "marker": {
          "color": "#ab63fa",
          "symbol": "circle"
         },
         "mode": "lines",
         "name": "skill_name=Vocabulary in Context",
         "showlegend": false,
         "type": "scatter",
         "uid": "46515673-6761-414b-872f-f3f22190c986",
         "x": [
          2007,
          2008,
          2014,
          2016,
          2018
         ],
         "xaxis": "x4",
         "y": [
          18.280000000007735,
          22.09000000000985,
          17.190000000000005,
          23.019999999999996,
          1.9799999999999995
         ],
         "yaxis": "y7"
        },
        {
         "hovertemplate": "class=10<br>skill_name=Extended Reasoning<br>skill_name=Extended Reasoning<br>year=%{x}<br>skill_delta=%{y}<br>studentCount=%{marker.size}<extra></extra>",
         "legendgroup": "skill_name=Extended Reasoning",
         "marker": {
          "color": "#636efa",
          "size": [
           73,
           60
          ],
          "sizemode": "area",
          "sizeref": 1.1,
          "symbol": "circle"
         },
         "mode": "markers",
         "name": "skill_name=Extended Reasoning",
         "showlegend": false,
         "type": "scatter",
         "uid": "c4885df0-56a3-403d-9a5a-34b71cc7aff6",
         "x": [
          "2014",
          "2016"
         ],
         "xaxis": "x",
         "y": [
          12.739999999999995,
          10.869999999999997
         ],
         "yaxis": "y8"
        },
        {
         "hovertemplate": "<b>LOWESS trendline</b><br><br>class=10<br>skill_name=Extended Reasoning<br>skill_name=Extended Reasoning<br>year=%{x}<br>skill_delta=%{y} <b>(trend)</b><extra></extra>",
         "legendgroup": "skill_name=Extended Reasoning",
         "marker": {
          "color": "#636efa",
          "symbol": "circle"
         },
         "mode": "lines",
         "name": "skill_name=Extended Reasoning",
         "showlegend": false,
         "type": "scatter",
         "uid": "971bc8d3-1341-428d-b034-b76d07144282",
         "x": [
          2014,
          2016
         ],
         "xaxis": "x",
         "y": [
          12.739999999999995,
          10.869999999999997
         ],
         "yaxis": "y8"
        },
        {
         "hovertemplate": "class=10<br>skill_name=Grammar Usage<br>skill_name=Grammar Usage<br>year=%{x}<br>skill_delta=%{y}<br>studentCount=%{marker.size}<extra></extra>",
         "legendgroup": "skill_name=Grammar Usage",
         "marker": {
          "color": "#EF553B",
          "size": [
           73,
           60
          ],
          "sizemode": "area",
          "sizeref": 1.1,
          "symbol": "circle"
         },
         "mode": "markers",
         "name": "skill_name=Grammar Usage",
         "showlegend": false,
         "type": "scatter",
         "uid": "aadc514f-c0a5-44b1-b8db-b164d0fa4b0e",
         "x": [
          "2014",
          "2016"
         ],
         "xaxis": "x2",
         "y": [
          15.690000000000005,
          18.769999999999996
         ],
         "yaxis": "y8"
        },
        {
         "hovertemplate": "<b>LOWESS trendline</b><br><br>class=10<br>skill_name=Grammar Usage<br>skill_name=Grammar Usage<br>year=%{x}<br>skill_delta=%{y} <b>(trend)</b><extra></extra>",
         "legendgroup": "skill_name=Grammar Usage",
         "marker": {
          "color": "#EF553B",
          "symbol": "circle"
         },
         "mode": "lines",
         "name": "skill_name=Grammar Usage",
         "showlegend": false,
         "type": "scatter",
         "uid": "2efbefec-ef7e-4e2b-a1c0-55fb112b030e",
         "x": [
          2014,
          2016
         ],
         "xaxis": "x2",
         "y": [
          15.690000000000005,
          18.769999999999996
         ],
         "yaxis": "y8"
        },
        {
         "hovertemplate": "class=10<br>skill_name=Literal Comprehension<br>skill_name=Literal Comprehension<br>year=%{x}<br>skill_delta=%{y}<br>studentCount=%{marker.size}<extra></extra>",
         "legendgroup": "skill_name=Literal Comprehension",
         "marker": {
          "color": "#00cc96",
          "size": [
           73,
           60
          ],
          "sizemode": "area",
          "sizeref": 1.1,
          "symbol": "circle"
         },
         "mode": "markers",
         "name": "skill_name=Literal Comprehension",
         "showlegend": false,
         "type": "scatter",
         "uid": "a580a906-f031-4b1e-b3c0-c637261229f0",
         "x": [
          "2014",
          "2016"
         ],
         "xaxis": "x3",
         "y": [
          15.180000000000007,
          15.380000000000003
         ],
         "yaxis": "y8"
        },
        {
         "hovertemplate": "<b>LOWESS trendline</b><br><br>class=10<br>skill_name=Literal Comprehension<br>skill_name=Literal Comprehension<br>year=%{x}<br>skill_delta=%{y} <b>(trend)</b><extra></extra>",
         "legendgroup": "skill_name=Literal Comprehension",
         "marker": {
          "color": "#00cc96",
          "symbol": "circle"
         },
         "mode": "lines",
         "name": "skill_name=Literal Comprehension",
         "showlegend": false,
         "type": "scatter",
         "uid": "20ab32f2-b77f-46c9-a4cf-b15d9620eec6",
         "x": [
          2014,
          2016
         ],
         "xaxis": "x3",
         "y": [
          15.180000000000007,
          15.380000000000003
         ],
         "yaxis": "y8"
        },
        {
         "hovertemplate": "class=10<br>skill_name=Vocabulary in Context<br>skill_name=Vocabulary in Context<br>year=%{x}<br>skill_delta=%{y}<br>studentCount=%{marker.size}<extra></extra>",
         "legendgroup": "skill_name=Vocabulary in Context",
         "marker": {
          "color": "#ab63fa",
          "size": [
           73,
           60
          ],
          "sizemode": "area",
          "sizeref": 1.1,
          "symbol": "circle"
         },
         "mode": "markers",
         "name": "skill_name=Vocabulary in Context",
         "showlegend": false,
         "type": "scatter",
         "uid": "af286bec-2ab2-464e-a563-d8617c26ac58",
         "x": [
          "2014",
          "2016"
         ],
         "xaxis": "x4",
         "y": [
          14.719999999999999,
          12.43
         ],
         "yaxis": "y8"
        },
        {
         "hovertemplate": "<b>LOWESS trendline</b><br><br>class=10<br>skill_name=Vocabulary in Context<br>skill_name=Vocabulary in Context<br>year=%{x}<br>skill_delta=%{y} <b>(trend)</b><extra></extra>",
         "legendgroup": "skill_name=Vocabulary in Context",
         "marker": {
          "color": "#ab63fa",
          "symbol": "circle"
         },
         "mode": "lines",
         "name": "skill_name=Vocabulary in Context",
         "showlegend": false,
         "type": "scatter",
         "uid": "4248d4bb-707d-4f4e-b3f8-46e0a91aa023",
         "x": [
          2014,
          2016
         ],
         "xaxis": "x4",
         "y": [
          14.719999999999999,
          12.43
         ],
         "yaxis": "y8"
        }
       ],
       "layout": {
        "annotations": [
         {
          "showarrow": false,
          "text": "skill_name=Extended Reasoning",
          "textangle": 0,
          "x": 0.1153846153846154,
          "xanchor": "center",
          "xref": "paper",
          "y": 1.02,
          "yanchor": "middle",
          "yref": "paper"
         },
         {
          "showarrow": false,
          "text": "skill_name=Grammar Usage",
          "textangle": 0,
          "x": 0.3717948717948718,
          "xanchor": "center",
          "xref": "paper",
          "y": 1.02,
          "yanchor": "middle",
          "yref": "paper"
         },
         {
          "showarrow": false,
          "text": "skill_name=Literal Comprehension",
          "textangle": 0,
          "x": 0.6282051282051283,
          "xanchor": "center",
          "xref": "paper",
          "y": 1.02,
          "yanchor": "middle",
          "yref": "paper"
         },
         {
          "showarrow": false,
          "text": "skill_name=Vocabulary in Context",
          "textangle": 0,
          "x": 0.8846153846153848,
          "xanchor": "center",
          "xref": "paper",
          "y": 1.02,
          "yanchor": "middle",
          "yref": "paper"
         },
         {
          "showarrow": false,
          "text": "class=3",
          "textangle": 90,
          "x": 1.01,
          "xanchor": "center",
          "xref": "paper",
          "y": 0.9430379746835442,
          "yanchor": "middle",
          "yref": "paper"
         },
         {
          "showarrow": false,
          "text": "class=4",
          "textangle": 90,
          "x": 1.01,
          "xanchor": "center",
          "xref": "paper",
          "y": 0.8164556962025316,
          "yanchor": "middle",
          "yref": "paper"
         },
         {
          "showarrow": false,
          "text": "class=5",
          "textangle": 90,
          "x": 1.01,
          "xanchor": "center",
          "xref": "paper",
          "y": 0.6898734177215189,
          "yanchor": "middle",
          "yref": "paper"
         },
         {
          "showarrow": false,
          "text": "class=6",
          "textangle": 90,
          "x": 1.01,
          "xanchor": "center",
          "xref": "paper",
          "y": 0.5632911392405062,
          "yanchor": "middle",
          "yref": "paper"
         },
         {
          "showarrow": false,
          "text": "class=7",
          "textangle": 90,
          "x": 1.01,
          "xanchor": "center",
          "xref": "paper",
          "y": 0.4367088607594936,
          "yanchor": "middle",
          "yref": "paper"
         },
         {
          "showarrow": false,
          "text": "class=8",
          "textangle": 90,
          "x": 1.01,
          "xanchor": "center",
          "xref": "paper",
          "y": 0.310126582278481,
          "yanchor": "middle",
          "yref": "paper"
         },
         {
          "showarrow": false,
          "text": "class=9",
          "textangle": 90,
          "x": 1.01,
          "xanchor": "center",
          "xref": "paper",
          "y": 0.18354430379746833,
          "yanchor": "middle",
          "yref": "paper"
         },
         {
          "showarrow": false,
          "text": "class=10",
          "textangle": 90,
          "x": 1.01,
          "xanchor": "center",
          "xref": "paper",
          "y": 0.05696202531645569,
          "yanchor": "middle",
          "yref": "paper"
         }
        ],
        "grid": {
         "xaxes": [
          "x",
          "x2",
          "x3",
          "x4"
         ],
         "xgap": 0.1,
         "xside": "bottom",
         "yaxes": [
          "y",
          "y2",
          "y3",
          "y4",
          "y5",
          "y6",
          "y7",
          "y8"
         ],
         "ygap": 0.1,
         "yside": "left"
        },
        "height": 2000,
        "legend": {
         "tracegroupgap": 0
        },
        "template": {
         "data": {
          "bar": [
           {
            "marker": {
             "line": {
              "color": "#E5ECF6",
              "width": 0.5
             }
            },
            "type": "bar"
           }
          ],
          "barpolar": [
           {
            "marker": {
             "line": {
              "color": "#E5ECF6",
              "width": 0.5
             }
            },
            "type": "barpolar"
           }
          ],
          "carpet": [
           {
            "aaxis": {
             "endlinecolor": "#2a3f5f",
             "gridcolor": "white",
             "linecolor": "white",
             "minorgridcolor": "white",
             "startlinecolor": "#2a3f5f"
            },
            "baxis": {
             "endlinecolor": "#2a3f5f",
             "gridcolor": "white",
             "linecolor": "white",
             "minorgridcolor": "white",
             "startlinecolor": "#2a3f5f"
            },
            "type": "carpet"
           }
          ],
          "choropleth": [
           {
            "colorbar": {
             "outlinewidth": 0,
             "ticks": ""
            },
            "type": "choropleth"
           }
          ],
          "contour": [
           {
            "autocolorscale": true,
            "colorbar": {
             "outlinewidth": 0,
             "ticks": ""
            },
            "type": "contour"
           }
          ],
          "contourcarpet": [
           {
            "colorbar": {
             "outlinewidth": 0,
             "ticks": ""
            },
            "type": "contourcarpet"
           }
          ],
          "heatmap": [
           {
            "autocolorscale": true,
            "colorbar": {
             "outlinewidth": 0,
             "ticks": ""
            },
            "type": "heatmap"
           }
          ],
          "heatmapgl": [
           {
            "colorbar": {
             "outlinewidth": 0,
             "ticks": ""
            },
            "type": "heatmapgl"
           }
          ],
          "histogram": [
           {
            "marker": {
             "colorbar": {
              "outlinewidth": 0,
              "ticks": ""
             }
            },
            "type": "histogram"
           }
          ],
          "histogram2d": [
           {
            "autocolorscale": true,
            "colorbar": {
             "outlinewidth": 0,
             "ticks": ""
            },
            "type": "histogram2d"
           }
          ],
          "histogram2dcontour": [
           {
            "autocolorscale": true,
            "colorbar": {
             "outlinewidth": 0,
             "ticks": ""
            },
            "type": "histogram2dcontour"
           }
          ],
          "mesh3d": [
           {
            "colorbar": {
             "outlinewidth": 0,
             "ticks": ""
            },
            "type": "mesh3d"
           }
          ],
          "parcoords": [
           {
            "line": {
             "colorbar": {
              "outlinewidth": 0,
              "ticks": ""
             }
            },
            "type": "parcoords"
           }
          ],
          "scatter": [
           {
            "marker": {
             "colorbar": {
              "outlinewidth": 0,
              "ticks": ""
             }
            },
            "type": "scatter"
           }
          ],
          "scatter3d": [
           {
            "marker": {
             "colorbar": {
              "outlinewidth": 0,
              "ticks": ""
             }
            },
            "type": "scatter3d"
           }
          ],
          "scattercarpet": [
           {
            "marker": {
             "colorbar": {
              "outlinewidth": 0,
              "ticks": ""
             }
            },
            "type": "scattercarpet"
           }
          ],
          "scattergeo": [
           {
            "marker": {
             "colorbar": {
              "outlinewidth": 0,
              "ticks": ""
             }
            },
            "type": "scattergeo"
           }
          ],
          "scattergl": [
           {
            "marker": {
             "colorbar": {
              "outlinewidth": 0,
              "ticks": ""
             }
            },
            "type": "scattergl"
           }
          ],
          "scattermapbox": [
           {
            "marker": {
             "colorbar": {
              "outlinewidth": 0,
              "ticks": ""
             }
            },
            "type": "scattermapbox"
           }
          ],
          "scatterpolar": [
           {
            "marker": {
             "colorbar": {
              "outlinewidth": 0,
              "ticks": ""
             }
            },
            "type": "scatterpolar"
           }
          ],
          "scatterpolargl": [
           {
            "marker": {
             "colorbar": {
              "outlinewidth": 0,
              "ticks": ""
             }
            },
            "type": "scatterpolargl"
           }
          ],
          "scatterternary": [
           {
            "marker": {
             "colorbar": {
              "outlinewidth": 0,
              "ticks": ""
             }
            },
            "type": "scatterternary"
           }
          ],
          "surface": [
           {
            "colorbar": {
             "outlinewidth": 0,
             "ticks": ""
            },
            "type": "surface"
           }
          ],
          "table": [
           {
            "cells": {
             "fill": {
              "color": "#EBF0F8"
             },
             "line": {
              "color": "white"
             }
            },
            "header": {
             "fill": {
              "color": "#C8D4E3"
             },
             "line": {
              "color": "white"
             }
            },
            "type": "table"
           }
          ]
         },
         "layout": {
          "annotationdefaults": {
           "arrowcolor": "#506784",
           "arrowhead": 0,
           "arrowwidth": 1
          },
          "colorscale": {
           "diverging": [
            [
             0,
             "#8e0152"
            ],
            [
             0.1,
             "#c51b7d"
            ],
            [
             0.2,
             "#de77ae"
            ],
            [
             0.3,
             "#f1b6da"
            ],
            [
             0.4,
             "#fde0ef"
            ],
            [
             0.5,
             "#f7f7f7"
            ],
            [
             0.6,
             "#e6f5d0"
            ],
            [
             0.7,
             "#b8e186"
            ],
            [
             0.8,
             "#7fbc41"
            ],
            [
             0.9,
             "#4d9221"
            ],
            [
             1,
             "#276419"
            ]
           ],
           "sequential": [
            [
             0,
             "#0508b8"
            ],
            [
             0.0893854748603352,
             "#1910d8"
            ],
            [
             0.1787709497206704,
             "#3c19f0"
            ],
            [
             0.2681564245810056,
             "#6b1cfb"
            ],
            [
             0.3575418994413408,
             "#981cfd"
            ],
            [
             0.44692737430167595,
             "#bf1cfd"
            ],
            [
             0.5363128491620112,
             "#dd2bfd"
            ],
            [
             0.6256983240223464,
             "#f246fe"
            ],
            [
             0.7150837988826816,
             "#fc67fd"
            ],
            [
             0.8044692737430168,
             "#fe88fc"
            ],
            [
             0.8938547486033519,
             "#fea5fd"
            ],
            [
             0.9832402234636871,
             "#febefe"
            ],
            [
             1,
             "#fec3fe"
            ]
           ],
           "sequentialminus": [
            [
             0,
             "#0508b8"
            ],
            [
             0.0893854748603352,
             "#1910d8"
            ],
            [
             0.1787709497206704,
             "#3c19f0"
            ],
            [
             0.2681564245810056,
             "#6b1cfb"
            ],
            [
             0.3575418994413408,
             "#981cfd"
            ],
            [
             0.44692737430167595,
             "#bf1cfd"
            ],
            [
             0.5363128491620112,
             "#dd2bfd"
            ],
            [
             0.6256983240223464,
             "#f246fe"
            ],
            [
             0.7150837988826816,
             "#fc67fd"
            ],
            [
             0.8044692737430168,
             "#fe88fc"
            ],
            [
             0.8938547486033519,
             "#fea5fd"
            ],
            [
             0.9832402234636871,
             "#febefe"
            ],
            [
             1,
             "#fec3fe"
            ]
           ]
          },
          "colorway": [
           "#636efa",
           "#EF553B",
           "#00cc96",
           "#ab63fa",
           "#19d3f3",
           "#e763fa",
           "#FECB52",
           "#FFA15A",
           "#FF6692",
           "#B6E880"
          ],
          "font": {
           "color": "#2a3f5f"
          },
          "geo": {
           "bgcolor": "white",
           "lakecolor": "white",
           "landcolor": "#E5ECF6",
           "showlakes": true,
           "showland": true,
           "subunitcolor": "white"
          },
          "hoverlabel": {
           "align": "left"
          },
          "hovermode": "closest",
          "legend": {
           "itemsizing": "constant"
          },
          "mapbox": {
           "style": "light"
          },
          "paper_bgcolor": "white",
          "plot_bgcolor": "#E5ECF6",
          "polar": {
           "angularaxis": {
            "gridcolor": "white",
            "linecolor": "white",
            "ticks": ""
           },
           "bgcolor": "#E5ECF6",
           "radialaxis": {
            "gridcolor": "white",
            "linecolor": "white",
            "ticks": ""
           }
          },
          "scene": {
           "xaxis": {
            "backgroundcolor": "#E5ECF6",
            "gridcolor": "white",
            "gridwidth": 2,
            "linecolor": "white",
            "showbackground": true,
            "ticks": "",
            "zerolinecolor": "white"
           },
           "yaxis": {
            "backgroundcolor": "#E5ECF6",
            "gridcolor": "white",
            "gridwidth": 2,
            "linecolor": "white",
            "showbackground": true,
            "ticks": "",
            "zerolinecolor": "white"
           },
           "zaxis": {
            "backgroundcolor": "#E5ECF6",
            "gridcolor": "white",
            "gridwidth": 2,
            "linecolor": "white",
            "showbackground": true,
            "ticks": "",
            "zerolinecolor": "white"
           }
          },
          "shapedefaults": {
           "fillcolor": "#506784",
           "line": {
            "width": 0
           },
           "opacity": 0.4
          },
          "ternary": {
           "aaxis": {
            "gridcolor": "white",
            "linecolor": "white",
            "ticks": ""
           },
           "baxis": {
            "gridcolor": "white",
            "linecolor": "white",
            "ticks": ""
           },
           "bgcolor": "#E5ECF6",
           "caxis": {
            "gridcolor": "white",
            "linecolor": "white",
            "ticks": ""
           }
          },
          "title": {
           "x": 0.05
          },
          "xaxis": {
           "automargin": true,
           "gridcolor": "white",
           "linecolor": "white",
           "ticks": "",
           "zerolinecolor": "white",
           "zerolinewidth": 2
          },
          "yaxis": {
           "automargin": true,
           "gridcolor": "white",
           "linecolor": "white",
           "ticks": "",
           "zerolinecolor": "white",
           "zerolinewidth": 2
          }
         }
        },
        "title": {
         "text": "Core Skills in English (Sushila Birla Girls^ School-Kolkata-CBSE)"
        },
        "width": 3000,
        "xaxis": {
         "title": {
          "text": "year"
         }
        },
        "xaxis2": {
         "matches": "x",
         "title": {
          "text": "year"
         }
        },
        "xaxis3": {
         "matches": "x",
         "title": {
          "text": "year"
         }
        },
        "xaxis4": {
         "matches": "x",
         "title": {
          "text": "year"
         }
        },
        "yaxis": {
         "title": {
          "text": "skill_delta"
         }
        },
        "yaxis2": {
         "matches": "y",
         "title": {
          "text": "skill_delta"
         }
        },
        "yaxis3": {
         "matches": "y",
         "title": {
          "text": "skill_delta"
         }
        },
        "yaxis4": {
         "matches": "y",
         "title": {
          "text": "skill_delta"
         }
        },
        "yaxis5": {
         "matches": "y",
         "title": {
          "text": "skill_delta"
         }
        },
        "yaxis6": {
         "matches": "y",
         "title": {
          "text": "skill_delta"
         }
        },
        "yaxis7": {
         "matches": "y",
         "title": {
          "text": "skill_delta"
         }
        },
        "yaxis8": {
         "matches": "y",
         "title": {
          "text": "skill_delta"
         }
        }
       }
      },
      "text/html": [
       "<div>\n",
       "        \n",
       "        \n",
       "            <div id=\"ffdc39f1-7b32-4c40-ad0d-08bd22f69778\" class=\"plotly-graph-div\"></div>\n",
       "            <script type=\"text/javascript\">\n",
       "                require([\"plotly\"], function(Plotly) {\n",
       "                    window.PLOTLYENV=window.PLOTLYENV || {};\n",
       "                    window.PLOTLYENV.BASE_URL='https://plot.ly';\n",
       "                    \n",
       "                if (document.getElementById(\"ffdc39f1-7b32-4c40-ad0d-08bd22f69778\")) {\n",
       "                    Plotly.newPlot(\n",
       "                        'ffdc39f1-7b32-4c40-ad0d-08bd22f69778',\n",
       "                        [{\"hovertemplate\": \"class=3<br>skill_name=Extended Reasoning<br>skill_name=Extended Reasoning<br>year=%{x}<br>skill_delta=%{y}<br>studentCount=%{marker.size}<extra></extra>\", \"legendgroup\": \"skill_name=Extended Reasoning\", \"marker\": {\"color\": \"#636efa\", \"size\": [106, 19, 74, 105, 102], \"sizemode\": \"area\", \"sizeref\": 1.1, \"symbol\": \"circle\"}, \"mode\": \"markers\", \"name\": \"skill_name=Extended Reasoning\", \"showlegend\": true, \"type\": \"scatter\", \"uid\": \"b8452076-93af-4d6e-ba6e-0fcf44616247\", \"x\": [\"2018\", \"2007\", \"2008\", \"2014\", \"2016\"], \"xaxis\": \"x\", \"y\": [11.299999999999997, 24.199999999999996, 12.480000000000004, 9.18, 6.490000000000002], \"yaxis\": \"y\"}, {\"hovertemplate\": \"<b>LOWESS trendline</b><br><br>class=3<br>skill_name=Extended Reasoning<br>skill_name=Extended Reasoning<br>year=%{x}<br>skill_delta=%{y} <b>(trend)</b><extra></extra>\", \"legendgroup\": \"skill_name=Extended Reasoning\", \"marker\": {\"color\": \"#636efa\", \"symbol\": \"circle\"}, \"mode\": \"lines\", \"name\": \"skill_name=Extended Reasoning\", \"showlegend\": false, \"type\": \"scatter\", \"uid\": \"71cb5261-9c54-47c1-991a-2959bb851a20\", \"x\": [2007.0, 2008.0, 2014.0, 2016.0, 2018.0], \"xaxis\": \"x\", \"y\": [24.199999999999996, 12.480000000000004, 9.180000000001199, 6.490000000000002, 11.30000000000151], \"yaxis\": \"y\"}, {\"hovertemplate\": \"class=3<br>skill_name=Grammar Usage<br>skill_name=Grammar Usage<br>year=%{x}<br>skill_delta=%{y}<br>studentCount=%{marker.size}<extra></extra>\", \"legendgroup\": \"skill_name=Grammar Usage\", \"marker\": {\"color\": \"#EF553B\", \"size\": [106, 19, 74, 105, 102], \"sizemode\": \"area\", \"sizeref\": 1.1, \"symbol\": \"circle\"}, \"mode\": \"markers\", \"name\": \"skill_name=Grammar Usage\", \"showlegend\": true, \"type\": \"scatter\", \"uid\": \"2a96b5d7-3d88-4def-b20c-1f477011434c\", \"x\": [\"2018\", \"2007\", \"2008\", \"2014\", \"2016\"], \"xaxis\": \"x2\", \"y\": [12.920000000000002, 20.77000000000001, 12.5, 11.350000000000009, 12.900000000000006], \"yaxis\": \"y\"}, {\"hovertemplate\": \"<b>LOWESS trendline</b><br><br>class=3<br>skill_name=Grammar Usage<br>skill_name=Grammar Usage<br>year=%{x}<br>skill_delta=%{y} <b>(trend)</b><extra></extra>\", \"legendgroup\": \"skill_name=Grammar Usage\", \"marker\": {\"color\": \"#EF553B\", \"symbol\": \"circle\"}, \"mode\": \"lines\", \"name\": \"skill_name=Grammar Usage\", \"showlegend\": false, \"type\": \"scatter\", \"uid\": \"bedb49b2-3c9a-40b1-8d2d-58a69327a7ca\", \"x\": [2007.0, 2008.0, 2014.0, 2016.0, 2018.0], \"xaxis\": \"x2\", \"y\": [20.77000000000882, 12.500000000005544, 11.350000000000009, 12.900000000000006, 12.920000000000002], \"yaxis\": \"y\"}, {\"hovertemplate\": \"class=3<br>skill_name=Literal Comprehension<br>skill_name=Literal Comprehension<br>year=%{x}<br>skill_delta=%{y}<br>studentCount=%{marker.size}<extra></extra>\", \"legendgroup\": \"skill_name=Literal Comprehension\", \"marker\": {\"color\": \"#00cc96\", \"size\": [106, 19, 74, 105, 102], \"sizemode\": \"area\", \"sizeref\": 1.1, \"symbol\": \"circle\"}, \"mode\": \"markers\", \"name\": \"skill_name=Literal Comprehension\", \"showlegend\": true, \"type\": \"scatter\", \"uid\": \"71a0c202-cbae-4866-be1a-2ba3ac9b3860\", \"x\": [\"2018\", \"2007\", \"2008\", \"2014\", \"2016\"], \"xaxis\": \"x3\", \"y\": [9.229999999999997, 13.100000000000009, 6.489999999999995, 6.950000000000003, 6.3799999999999955], \"yaxis\": \"y\"}, {\"hovertemplate\": \"<b>LOWESS trendline</b><br><br>class=3<br>skill_name=Literal Comprehension<br>skill_name=Literal Comprehension<br>year=%{x}<br>skill_delta=%{y} <b>(trend)</b><extra></extra>\", \"legendgroup\": \"skill_name=Literal Comprehension\", \"marker\": {\"color\": \"#00cc96\", \"symbol\": \"circle\"}, \"mode\": \"lines\", \"name\": \"skill_name=Literal Comprehension\", \"showlegend\": false, \"type\": \"scatter\", \"uid\": \"ebbed610-6f0e-4592-a9a5-6c8096b853fd\", \"x\": [2007.0, 2008.0, 2014.0, 2016.0, 2018.0], \"xaxis\": \"x3\", \"y\": [13.099999999998682, 6.48999999999946, 6.949999999999343, 6.3799999999999955, 9.229999999997863], \"yaxis\": \"y\"}, {\"hovertemplate\": \"class=3<br>skill_name=Vocabulary in Context<br>skill_name=Vocabulary in Context<br>year=%{x}<br>skill_delta=%{y}<br>studentCount=%{marker.size}<extra></extra>\", \"legendgroup\": \"skill_name=Vocabulary in Context\", \"marker\": {\"color\": \"#ab63fa\", \"size\": [106, 19, 74, 105, 102], \"sizemode\": \"area\", \"sizeref\": 1.1, \"symbol\": \"circle\"}, \"mode\": \"markers\", \"name\": \"skill_name=Vocabulary in Context\", \"showlegend\": true, \"type\": \"scatter\", \"uid\": \"fec6075d-67c1-4c09-90a0-f47d77cf01f4\", \"x\": [\"2018\", \"2007\", \"2008\", \"2014\", \"2016\"], \"xaxis\": \"x4\", \"y\": [10.25, 23.35000000000001, 13.610000000000007, 11.120000000000005, 3.8900000000000006], \"yaxis\": \"y\"}, {\"hovertemplate\": \"<b>LOWESS trendline</b><br><br>class=3<br>skill_name=Vocabulary in Context<br>skill_name=Vocabulary in Context<br>year=%{x}<br>skill_delta=%{y} <b>(trend)</b><extra></extra>\", \"legendgroup\": \"skill_name=Vocabulary in Context\", \"marker\": {\"color\": \"#ab63fa\", \"symbol\": \"circle\"}, \"mode\": \"lines\", \"name\": \"skill_name=Vocabulary in Context\", \"showlegend\": false, \"type\": \"scatter\", \"uid\": \"5258a761-1d13-4aba-a3b3-473ed3ae50a2\", \"x\": [2007.0, 2008.0, 2014.0, 2016.0, 2018.0], \"xaxis\": \"x4\", \"y\": [23.35000000000001, 13.610000000000007, 11.120000000001555, 3.8900000000000006, 10.250000000001421], \"yaxis\": \"y\"}, {\"hovertemplate\": \"class=4<br>skill_name=Extended Reasoning<br>skill_name=Extended Reasoning<br>year=%{x}<br>skill_delta=%{y}<br>studentCount=%{marker.size}<extra></extra>\", \"legendgroup\": \"skill_name=Extended Reasoning\", \"marker\": {\"color\": \"#636efa\", \"size\": [108, 15, 73, 104, 108], \"sizemode\": \"area\", \"sizeref\": 1.1, \"symbol\": \"circle\"}, \"mode\": \"markers\", \"name\": \"skill_name=Extended Reasoning\", \"showlegend\": false, \"type\": \"scatter\", \"uid\": \"3c2be197-f6aa-4c2c-b927-aaaef9ea2bc5\", \"x\": [\"2018\", \"2007\", \"2008\", \"2014\", \"2016\"], \"xaxis\": \"x\", \"y\": [7.530000000000001, 8.010000000000005, 7.740000000000002, 9.870000000000005, 10.420000000000002], \"yaxis\": \"y2\"}, {\"hovertemplate\": \"<b>LOWESS trendline</b><br><br>class=4<br>skill_name=Extended Reasoning<br>skill_name=Extended Reasoning<br>year=%{x}<br>skill_delta=%{y} <b>(trend)</b><extra></extra>\", \"legendgroup\": \"skill_name=Extended Reasoning\", \"marker\": {\"color\": \"#636efa\", \"symbol\": \"circle\"}, \"mode\": \"lines\", \"name\": \"skill_name=Extended Reasoning\", \"showlegend\": false, \"type\": \"scatter\", \"uid\": \"32745c29-e93d-4563-a440-a3e33c7e0011\", \"x\": [2007.0, 2008.0, 2014.0, 2016.0, 2018.0], \"xaxis\": \"x\", \"y\": [8.009999999996888, 7.739999999998436, 9.870000000000822, 10.420000000000002, 7.530000000001029], \"yaxis\": \"y2\"}, {\"hovertemplate\": \"class=4<br>skill_name=Grammar Usage<br>skill_name=Grammar Usage<br>year=%{x}<br>skill_delta=%{y}<br>studentCount=%{marker.size}<extra></extra>\", \"legendgroup\": \"skill_name=Grammar Usage\", \"marker\": {\"color\": \"#EF553B\", \"size\": [108, 15, 73, 104, 108], \"sizemode\": \"area\", \"sizeref\": 1.1, \"symbol\": \"circle\"}, \"mode\": \"markers\", \"name\": \"skill_name=Grammar Usage\", \"showlegend\": false, \"type\": \"scatter\", \"uid\": \"3fb4a044-75cd-4613-ba98-26d9231dbd19\", \"x\": [\"2018\", \"2007\", \"2008\", \"2014\", \"2016\"], \"xaxis\": \"x2\", \"y\": [12.14, 0.10999999999999943, 12.690000000000005, 13.230000000000004, 10.29], \"yaxis\": \"y2\"}, {\"hovertemplate\": \"<b>LOWESS trendline</b><br><br>class=4<br>skill_name=Grammar Usage<br>skill_name=Grammar Usage<br>year=%{x}<br>skill_delta=%{y} <b>(trend)</b><extra></extra>\", \"legendgroup\": \"skill_name=Grammar Usage\", \"marker\": {\"color\": \"#EF553B\", \"symbol\": \"circle\"}, \"mode\": \"lines\", \"name\": \"skill_name=Grammar Usage\", \"showlegend\": false, \"type\": \"scatter\", \"uid\": \"837edcd7-e1db-4668-802f-1cda7e27851c\", \"x\": [2007.0, 2008.0, 2014.0, 2016.0, 2018.0], \"xaxis\": \"x2\", \"y\": [0.10999999999961373, 12.690000000000444, 13.23000000000115, 10.29, 12.139999999997924], \"yaxis\": \"y2\"}, {\"hovertemplate\": \"class=4<br>skill_name=Literal Comprehension<br>skill_name=Literal Comprehension<br>year=%{x}<br>skill_delta=%{y}<br>studentCount=%{marker.size}<extra></extra>\", \"legendgroup\": \"skill_name=Literal Comprehension\", \"marker\": {\"color\": \"#00cc96\", \"size\": [108, 15, 73, 104, 108], \"sizemode\": \"area\", \"sizeref\": 1.1, \"symbol\": \"circle\"}, \"mode\": \"markers\", \"name\": \"skill_name=Literal Comprehension\", \"showlegend\": false, \"type\": \"scatter\", \"uid\": \"f2990c1c-a2bf-46cf-8520-96699080fd4b\", \"x\": [\"2018\", \"2007\", \"2008\", \"2014\", \"2016\"], \"xaxis\": \"x3\", \"y\": [15.980000000000004, 6.93, 10.639999999999993, 7.159999999999997, 8.549999999999997], \"yaxis\": \"y2\"}, {\"hovertemplate\": \"<b>LOWESS trendline</b><br><br>class=4<br>skill_name=Literal Comprehension<br>skill_name=Literal Comprehension<br>year=%{x}<br>skill_delta=%{y} <b>(trend)</b><extra></extra>\", \"legendgroup\": \"skill_name=Literal Comprehension\", \"marker\": {\"color\": \"#00cc96\", \"symbol\": \"circle\"}, \"mode\": \"lines\", \"name\": \"skill_name=Literal Comprehension\", \"showlegend\": false, \"type\": \"scatter\", \"uid\": \"953d2238-0251-4cf4-9237-84239ba1a359\", \"x\": [2007.0, 2008.0, 2014.0, 2016.0, 2018.0], \"xaxis\": \"x3\", \"y\": [6.930000000002927, 10.640000000004747, 7.159999999999997, 8.549999999999997, 15.980000000002159], \"yaxis\": \"y2\"}, {\"hovertemplate\": \"class=4<br>skill_name=Vocabulary in Context<br>skill_name=Vocabulary in Context<br>year=%{x}<br>skill_delta=%{y}<br>studentCount=%{marker.size}<extra></extra>\", \"legendgroup\": \"skill_name=Vocabulary in Context\", \"marker\": {\"color\": \"#ab63fa\", \"size\": [108, 15, 73, 104, 108], \"sizemode\": \"area\", \"sizeref\": 1.1, \"symbol\": \"circle\"}, \"mode\": \"markers\", \"name\": \"skill_name=Vocabulary in Context\", \"showlegend\": false, \"type\": \"scatter\", \"uid\": \"0a1539bd-6f3a-4ddb-aa66-cc0928940680\", \"x\": [\"2018\", \"2007\", \"2008\", \"2014\", \"2016\"], \"xaxis\": \"x4\", \"y\": [13.759999999999998, 1.519999999999996, 15.449999999999996, 10.760000000000005, 6.049999999999997], \"yaxis\": \"y2\"}, {\"hovertemplate\": \"<b>LOWESS trendline</b><br><br>class=4<br>skill_name=Vocabulary in Context<br>skill_name=Vocabulary in Context<br>year=%{x}<br>skill_delta=%{y} <b>(trend)</b><extra></extra>\", \"legendgroup\": \"skill_name=Vocabulary in Context\", \"marker\": {\"color\": \"#ab63fa\", \"symbol\": \"circle\"}, \"mode\": \"lines\", \"name\": \"skill_name=Vocabulary in Context\", \"showlegend\": false, \"type\": \"scatter\", \"uid\": \"84ba6169-6f79-4921-9c53-1d46ee3e3fa8\", \"x\": [2007.0, 2008.0, 2014.0, 2016.0, 2018.0], \"xaxis\": \"x4\", \"y\": [1.5199999999985525, 15.449999999991153, 10.76000000000097, 6.049999999999997, 13.76000000000183], \"yaxis\": \"y2\"}, {\"hovertemplate\": \"class=5<br>skill_name=Extended Reasoning<br>skill_name=Extended Reasoning<br>year=%{x}<br>skill_delta=%{y}<br>studentCount=%{marker.size}<extra></extra>\", \"legendgroup\": \"skill_name=Extended Reasoning\", \"marker\": {\"color\": \"#636efa\", \"size\": [109, 16, 73, 108, 103], \"sizemode\": \"area\", \"sizeref\": 1.1, \"symbol\": \"circle\"}, \"mode\": \"markers\", \"name\": \"skill_name=Extended Reasoning\", \"showlegend\": false, \"type\": \"scatter\", \"uid\": \"764a2af1-53bd-4997-8d27-498de403ec3c\", \"x\": [\"2018\", \"2007\", \"2008\", \"2014\", \"2016\"], \"xaxis\": \"x\", \"y\": [10.200000000000003, 10.719999999999999, 7.559999999999995, 9.57, 11.32], \"yaxis\": \"y3\"}, {\"hovertemplate\": \"<b>LOWESS trendline</b><br><br>class=5<br>skill_name=Extended Reasoning<br>skill_name=Extended Reasoning<br>year=%{x}<br>skill_delta=%{y} <b>(trend)</b><extra></extra>\", \"legendgroup\": \"skill_name=Extended Reasoning\", \"marker\": {\"color\": \"#636efa\", \"symbol\": \"circle\"}, \"mode\": \"lines\", \"name\": \"skill_name=Extended Reasoning\", \"showlegend\": false, \"type\": \"scatter\", \"uid\": \"ae53a590-317a-4434-8b28-f6de21d65ade\", \"x\": [2007.0, 2008.0, 2014.0, 2016.0, 2018.0], \"xaxis\": \"x\", \"y\": [10.720000000004545, 7.560000000003353, 9.57, 11.32, 10.200000000000003], \"yaxis\": \"y3\"}, {\"hovertemplate\": \"class=5<br>skill_name=Grammar Usage<br>skill_name=Grammar Usage<br>year=%{x}<br>skill_delta=%{y}<br>studentCount=%{marker.size}<extra></extra>\", \"legendgroup\": \"skill_name=Grammar Usage\", \"marker\": {\"color\": \"#EF553B\", \"size\": [109, 16, 73, 108, 103], \"sizemode\": \"area\", \"sizeref\": 1.1, \"symbol\": \"circle\"}, \"mode\": \"markers\", \"name\": \"skill_name=Grammar Usage\", \"showlegend\": false, \"type\": \"scatter\", \"uid\": \"f7610162-a319-44ca-84b7-24b5a70e89ca\", \"x\": [\"2018\", \"2007\", \"2008\", \"2014\", \"2016\"], \"xaxis\": \"x2\", \"y\": [-0.48999999999999844, 18.919999999999995, 9.800000000000004, 14.710000000000008, 12.729999999999997], \"yaxis\": \"y3\"}, {\"hovertemplate\": \"<b>LOWESS trendline</b><br><br>class=5<br>skill_name=Grammar Usage<br>skill_name=Grammar Usage<br>year=%{x}<br>skill_delta=%{y} <b>(trend)</b><extra></extra>\", \"legendgroup\": \"skill_name=Grammar Usage\", \"marker\": {\"color\": \"#EF553B\", \"symbol\": \"circle\"}, \"mode\": \"lines\", \"name\": \"skill_name=Grammar Usage\", \"showlegend\": false, \"type\": \"scatter\", \"uid\": \"a22dec39-eb53-49e8-984b-a938b6081a71\", \"x\": [2007.0, 2008.0, 2014.0, 2016.0, 2018.0], \"xaxis\": \"x2\", \"y\": [18.919999999999995, 9.800000000000004, 14.710000000005897, 12.729999999999997, -0.48999999999993044], \"yaxis\": \"y3\"}, {\"hovertemplate\": \"class=5<br>skill_name=Literal Comprehension<br>skill_name=Literal Comprehension<br>year=%{x}<br>skill_delta=%{y}<br>studentCount=%{marker.size}<extra></extra>\", \"legendgroup\": \"skill_name=Literal Comprehension\", \"marker\": {\"color\": \"#00cc96\", \"size\": [109, 16, 73, 108, 103], \"sizemode\": \"area\", \"sizeref\": 1.1, \"symbol\": \"circle\"}, \"mode\": \"markers\", \"name\": \"skill_name=Literal Comprehension\", \"showlegend\": false, \"type\": \"scatter\", \"uid\": \"5b94c855-1617-4976-bb38-44455f95935d\", \"x\": [\"2018\", \"2007\", \"2008\", \"2014\", \"2016\"], \"xaxis\": \"x3\", \"y\": [12.460000000000008, 11.560000000000002, 4.229999999999997, 12.58999999999999, 8.030000000000001], \"yaxis\": \"y3\"}, {\"hovertemplate\": \"<b>LOWESS trendline</b><br><br>class=5<br>skill_name=Literal Comprehension<br>skill_name=Literal Comprehension<br>year=%{x}<br>skill_delta=%{y} <b>(trend)</b><extra></extra>\", \"legendgroup\": \"skill_name=Literal Comprehension\", \"marker\": {\"color\": \"#00cc96\", \"symbol\": \"circle\"}, \"mode\": \"lines\", \"name\": \"skill_name=Literal Comprehension\", \"showlegend\": false, \"type\": \"scatter\", \"uid\": \"f3b20dd2-2a37-41f0-8ead-16aab945f981\", \"x\": [2007.0, 2008.0, 2014.0, 2016.0, 2018.0], \"xaxis\": \"x3\", \"y\": [11.560000000000665, 4.229999999999591, 12.58999999999999, 8.030000000000001, 12.46000000000111], \"yaxis\": \"y3\"}, {\"hovertemplate\": \"class=5<br>skill_name=Vocabulary in Context<br>skill_name=Vocabulary in Context<br>year=%{x}<br>skill_delta=%{y}<br>studentCount=%{marker.size}<extra></extra>\", \"legendgroup\": \"skill_name=Vocabulary in Context\", \"marker\": {\"color\": \"#ab63fa\", \"size\": [109, 16, 73, 108, 103], \"sizemode\": \"area\", \"sizeref\": 1.1, \"symbol\": \"circle\"}, \"mode\": \"markers\", \"name\": \"skill_name=Vocabulary in Context\", \"showlegend\": false, \"type\": \"scatter\", \"uid\": \"0fa713fb-e8ed-46db-b31f-797a6330236c\", \"x\": [\"2018\", \"2007\", \"2008\", \"2014\", \"2016\"], \"xaxis\": \"x4\", \"y\": [3.8999999999999986, 33.05, 11.069999999999993, 12.310000000000002, 8.009999999999998], \"yaxis\": \"y3\"}, {\"hovertemplate\": \"<b>LOWESS trendline</b><br><br>class=5<br>skill_name=Vocabulary in Context<br>skill_name=Vocabulary in Context<br>year=%{x}<br>skill_delta=%{y} <b>(trend)</b><extra></extra>\", \"legendgroup\": \"skill_name=Vocabulary in Context\", \"marker\": {\"color\": \"#ab63fa\", \"symbol\": \"circle\"}, \"mode\": \"lines\", \"name\": \"skill_name=Vocabulary in Context\", \"showlegend\": false, \"type\": \"scatter\", \"uid\": \"1fb3ee41-332a-4223-880c-ffb5847f8310\", \"x\": [2007.0, 2008.0, 2014.0, 2016.0, 2018.0], \"xaxis\": \"x4\", \"y\": [33.05, 11.069999999999993, 12.310000000001628, 8.009999999999998, 3.90000000000038], \"yaxis\": \"y3\"}, {\"hovertemplate\": \"class=6<br>skill_name=Extended Reasoning<br>skill_name=Extended Reasoning<br>year=%{x}<br>skill_delta=%{y}<br>studentCount=%{marker.size}<extra></extra>\", \"legendgroup\": \"skill_name=Extended Reasoning\", \"marker\": {\"color\": \"#636efa\", \"size\": [107, 17, 75, 82, 97], \"sizemode\": \"area\", \"sizeref\": 1.1, \"symbol\": \"circle\"}, \"mode\": \"markers\", \"name\": \"skill_name=Extended Reasoning\", \"showlegend\": false, \"type\": \"scatter\", \"uid\": \"be6601cf-8fcd-4675-9f25-bc457014a83b\", \"x\": [\"2018\", \"2007\", \"2008\", \"2014\", \"2016\"], \"xaxis\": \"x\", \"y\": [8.43, 26.009999999999998, 9.04, 10.420000000000002, 12.590000000000003], \"yaxis\": \"y4\"}, {\"hovertemplate\": \"<b>LOWESS trendline</b><br><br>class=6<br>skill_name=Extended Reasoning<br>skill_name=Extended Reasoning<br>year=%{x}<br>skill_delta=%{y} <b>(trend)</b><extra></extra>\", \"legendgroup\": \"skill_name=Extended Reasoning\", \"marker\": {\"color\": \"#636efa\", \"symbol\": \"circle\"}, \"mode\": \"lines\", \"name\": \"skill_name=Extended Reasoning\", \"showlegend\": false, \"type\": \"scatter\", \"uid\": \"1c4b556d-5973-4402-a876-b60b80226a4c\", \"x\": [2007.0, 2008.0, 2014.0, 2016.0, 2018.0], \"xaxis\": \"x\", \"y\": [26.009999999999998, 9.04, 10.420000000001234, 12.590000000000003, 8.43000000000094], \"yaxis\": \"y4\"}, {\"hovertemplate\": \"class=6<br>skill_name=Grammar Usage<br>skill_name=Grammar Usage<br>year=%{x}<br>skill_delta=%{y}<br>studentCount=%{marker.size}<extra></extra>\", \"legendgroup\": \"skill_name=Grammar Usage\", \"marker\": {\"color\": \"#EF553B\", \"size\": [107, 17, 75, 82, 97], \"sizemode\": \"area\", \"sizeref\": 1.1, \"symbol\": \"circle\"}, \"mode\": \"markers\", \"name\": \"skill_name=Grammar Usage\", \"showlegend\": false, \"type\": \"scatter\", \"uid\": \"a209cb8c-a859-4069-a701-a90fdf4e73c1\", \"x\": [\"2018\", \"2007\", \"2008\", \"2014\", \"2016\"], \"xaxis\": \"x2\", \"y\": [2.049999999999999, 32.790000000000006, 20.0, 13.589999999999996, 12.319999999999993], \"yaxis\": \"y4\"}, {\"hovertemplate\": \"<b>LOWESS trendline</b><br><br>class=6<br>skill_name=Grammar Usage<br>skill_name=Grammar Usage<br>year=%{x}<br>skill_delta=%{y} <b>(trend)</b><extra></extra>\", \"legendgroup\": \"skill_name=Grammar Usage\", \"marker\": {\"color\": \"#EF553B\", \"symbol\": \"circle\"}, \"mode\": \"lines\", \"name\": \"skill_name=Grammar Usage\", \"showlegend\": false, \"type\": \"scatter\", \"uid\": \"d88a8015-e50e-4746-9030-9c7c3b2a0d77\", \"x\": [2007.0, 2008.0, 2014.0, 2016.0, 2018.0], \"xaxis\": \"x2\", \"y\": [32.790000000000006, 20.0, 13.590000000001705, 12.319999999999993, 2.0500000000000016], \"yaxis\": \"y4\"}, {\"hovertemplate\": \"class=6<br>skill_name=Literal Comprehension<br>skill_name=Literal Comprehension<br>year=%{x}<br>skill_delta=%{y}<br>studentCount=%{marker.size}<extra></extra>\", \"legendgroup\": \"skill_name=Literal Comprehension\", \"marker\": {\"color\": \"#00cc96\", \"size\": [107, 17, 75, 82, 97], \"sizemode\": \"area\", \"sizeref\": 1.1, \"symbol\": \"circle\"}, \"mode\": \"markers\", \"name\": \"skill_name=Literal Comprehension\", \"showlegend\": false, \"type\": \"scatter\", \"uid\": \"098680c0-d2cc-41ea-b410-609bb17ea33f\", \"x\": [\"2018\", \"2007\", \"2008\", \"2014\", \"2016\"], \"xaxis\": \"x3\", \"y\": [5.859999999999999, 27.340000000000003, 13.11, 11.930000000000007, 6.950000000000003], \"yaxis\": \"y4\"}, {\"hovertemplate\": \"<b>LOWESS trendline</b><br><br>class=6<br>skill_name=Literal Comprehension<br>skill_name=Literal Comprehension<br>year=%{x}<br>skill_delta=%{y} <b>(trend)</b><extra></extra>\", \"legendgroup\": \"skill_name=Literal Comprehension\", \"marker\": {\"color\": \"#00cc96\", \"symbol\": \"circle\"}, \"mode\": \"lines\", \"name\": \"skill_name=Literal Comprehension\", \"showlegend\": false, \"type\": \"scatter\", \"uid\": \"f71b01b0-851e-4dc0-9787-1bfaca35286d\", \"x\": [2007.0, 2008.0, 2014.0, 2016.0, 2018.0], \"xaxis\": \"x3\", \"y\": [27.340000000000003, 13.11, 11.930000000001602, 6.950000000000003, 5.860000000000697], \"yaxis\": \"y4\"}, {\"hovertemplate\": \"class=6<br>skill_name=Vocabulary in Context<br>skill_name=Vocabulary in Context<br>year=%{x}<br>skill_delta=%{y}<br>studentCount=%{marker.size}<extra></extra>\", \"legendgroup\": \"skill_name=Vocabulary in Context\", \"marker\": {\"color\": \"#ab63fa\", \"size\": [107, 17, 75, 82, 97], \"sizemode\": \"area\", \"sizeref\": 1.1, \"symbol\": \"circle\"}, \"mode\": \"markers\", \"name\": \"skill_name=Vocabulary in Context\", \"showlegend\": false, \"type\": \"scatter\", \"uid\": \"7c891ccb-58cf-44aa-a3da-ce6cc787db35\", \"x\": [\"2018\", \"2007\", \"2008\", \"2014\", \"2016\"], \"xaxis\": \"x4\", \"y\": [16.089999999999996, 27.39, 17.68, 14.420000000000002, 8.14], \"yaxis\": \"y4\"}, {\"hovertemplate\": \"<b>LOWESS trendline</b><br><br>class=6<br>skill_name=Vocabulary in Context<br>skill_name=Vocabulary in Context<br>year=%{x}<br>skill_delta=%{y} <b>(trend)</b><extra></extra>\", \"legendgroup\": \"skill_name=Vocabulary in Context\", \"marker\": {\"color\": \"#ab63fa\", \"symbol\": \"circle\"}, \"mode\": \"lines\", \"name\": \"skill_name=Vocabulary in Context\", \"showlegend\": false, \"type\": \"scatter\", \"uid\": \"b2b8ad44-c581-4335-9a59-940f90510e9c\", \"x\": [2007.0, 2008.0, 2014.0, 2016.0, 2018.0], \"xaxis\": \"x4\", \"y\": [27.39000000001162, 17.680000000007844, 14.420000000000002, 8.14, 16.089999999999996], \"yaxis\": \"y4\"}, {\"hovertemplate\": \"class=7<br>skill_name=Extended Reasoning<br>skill_name=Extended Reasoning<br>year=%{x}<br>skill_delta=%{y}<br>studentCount=%{marker.size}<extra></extra>\", \"legendgroup\": \"skill_name=Extended Reasoning\", \"marker\": {\"color\": \"#636efa\", \"size\": [110, 4, 46, 78, 96], \"sizemode\": \"area\", \"sizeref\": 1.1, \"symbol\": \"circle\"}, \"mode\": \"markers\", \"name\": \"skill_name=Extended Reasoning\", \"showlegend\": false, \"type\": \"scatter\", \"uid\": \"c2e0cb39-c9a6-41a4-af14-ec4d134e2dcc\", \"x\": [\"2018\", \"2007\", \"2008\", \"2014\", \"2016\"], \"xaxis\": \"x\", \"y\": [11.149999999999999, 9.270000000000003, 18.009999999999998, 12.170000000000002, 17.14], \"yaxis\": \"y5\"}, {\"hovertemplate\": \"<b>LOWESS trendline</b><br><br>class=7<br>skill_name=Extended Reasoning<br>skill_name=Extended Reasoning<br>year=%{x}<br>skill_delta=%{y} <b>(trend)</b><extra></extra>\", \"legendgroup\": \"skill_name=Extended Reasoning\", \"marker\": {\"color\": \"#636efa\", \"symbol\": \"circle\"}, \"mode\": \"lines\", \"name\": \"skill_name=Extended Reasoning\", \"showlegend\": false, \"type\": \"scatter\", \"uid\": \"09b73803-d688-4405-84d3-b6a471fe93bd\", \"x\": [2007.0, 2008.0, 2014.0, 2016.0, 2018.0], \"xaxis\": \"x\", \"y\": [9.270000000003913, 18.010000000008052, 12.170000000000002, 17.14, 11.149999999999999], \"yaxis\": \"y5\"}, {\"hovertemplate\": \"class=7<br>skill_name=Grammar Usage<br>skill_name=Grammar Usage<br>year=%{x}<br>skill_delta=%{y}<br>studentCount=%{marker.size}<extra></extra>\", \"legendgroup\": \"skill_name=Grammar Usage\", \"marker\": {\"color\": \"#EF553B\", \"size\": [110, 4, 46, 78, 96], \"sizemode\": \"area\", \"sizeref\": 1.1, \"symbol\": \"circle\"}, \"mode\": \"markers\", \"name\": \"skill_name=Grammar Usage\", \"showlegend\": false, \"type\": \"scatter\", \"uid\": \"48ebae09-0bd7-4a07-b6d2-5a9a898c4dc8\", \"x\": [\"2018\", \"2007\", \"2008\", \"2014\", \"2016\"], \"xaxis\": \"x2\", \"y\": [4.959999999999997, 21.590000000000003, 20.429999999999993, 16.779999999999994, 14.32], \"yaxis\": \"y5\"}, {\"hovertemplate\": \"<b>LOWESS trendline</b><br><br>class=7<br>skill_name=Grammar Usage<br>skill_name=Grammar Usage<br>year=%{x}<br>skill_delta=%{y} <b>(trend)</b><extra></extra>\", \"legendgroup\": \"skill_name=Grammar Usage\", \"marker\": {\"color\": \"#EF553B\", \"symbol\": \"circle\"}, \"mode\": \"lines\", \"name\": \"skill_name=Grammar Usage\", \"showlegend\": false, \"type\": \"scatter\", \"uid\": \"62f73eb0-a3c1-41fe-89fd-a3db12bba8dd\", \"x\": [2007.0, 2008.0, 2014.0, 2016.0, 2018.0], \"xaxis\": \"x2\", \"y\": [21.590000000009148, 20.430000000009095, 16.779999999999994, 14.32, 4.959999999999997], \"yaxis\": \"y5\"}, {\"hovertemplate\": \"class=7<br>skill_name=Literal Comprehension<br>skill_name=Literal Comprehension<br>year=%{x}<br>skill_delta=%{y}<br>studentCount=%{marker.size}<extra></extra>\", \"legendgroup\": \"skill_name=Literal Comprehension\", \"marker\": {\"color\": \"#00cc96\", \"size\": [110, 4, 46, 78, 96], \"sizemode\": \"area\", \"sizeref\": 1.1, \"symbol\": \"circle\"}, \"mode\": \"markers\", \"name\": \"skill_name=Literal Comprehension\", \"showlegend\": false, \"type\": \"scatter\", \"uid\": \"b712a31a-974a-4301-ac7b-7de28bb5934d\", \"x\": [\"2018\", \"2007\", \"2008\", \"2014\", \"2016\"], \"xaxis\": \"x3\", \"y\": [7.149999999999999, 21.949999999999996, 23.71, 13.150000000000006, 12.150000000000006], \"yaxis\": \"y5\"}, {\"hovertemplate\": \"<b>LOWESS trendline</b><br><br>class=7<br>skill_name=Literal Comprehension<br>skill_name=Literal Comprehension<br>year=%{x}<br>skill_delta=%{y} <b>(trend)</b><extra></extra>\", \"legendgroup\": \"skill_name=Literal Comprehension\", \"marker\": {\"color\": \"#00cc96\", \"symbol\": \"circle\"}, \"mode\": \"lines\", \"name\": \"skill_name=Literal Comprehension\", \"showlegend\": false, \"type\": \"scatter\", \"uid\": \"606173b7-add9-4b05-99fc-4810a7f822f9\", \"x\": [2007.0, 2008.0, 2014.0, 2016.0, 2018.0], \"xaxis\": \"x3\", \"y\": [21.949999999999996, 23.71, 13.150000000001654, 12.150000000000006, 7.150000000000759], \"yaxis\": \"y5\"}, {\"hovertemplate\": \"class=7<br>skill_name=Vocabulary in Context<br>skill_name=Vocabulary in Context<br>year=%{x}<br>skill_delta=%{y}<br>studentCount=%{marker.size}<extra></extra>\", \"legendgroup\": \"skill_name=Vocabulary in Context\", \"marker\": {\"color\": \"#ab63fa\", \"size\": [110, 4, 46, 78, 96], \"sizemode\": \"area\", \"sizeref\": 1.1, \"symbol\": \"circle\"}, \"mode\": \"markers\", \"name\": \"skill_name=Vocabulary in Context\", \"showlegend\": false, \"type\": \"scatter\", \"uid\": \"beda85d2-90e9-41fa-8c66-2d1f96565515\", \"x\": [\"2018\", \"2007\", \"2008\", \"2014\", \"2016\"], \"xaxis\": \"x4\", \"y\": [5.199999999999999, 14.630000000000003, 15.5, 16.090000000000003, 8.800000000000004], \"yaxis\": \"y5\"}, {\"hovertemplate\": \"<b>LOWESS trendline</b><br><br>class=7<br>skill_name=Vocabulary in Context<br>skill_name=Vocabulary in Context<br>year=%{x}<br>skill_delta=%{y} <b>(trend)</b><extra></extra>\", \"legendgroup\": \"skill_name=Vocabulary in Context\", \"marker\": {\"color\": \"#ab63fa\", \"symbol\": \"circle\"}, \"mode\": \"lines\", \"name\": \"skill_name=Vocabulary in Context\", \"showlegend\": false, \"type\": \"scatter\", \"uid\": \"12459d5a-627a-46fb-8ba8-6e0e42917e1b\", \"x\": [2007.0, 2008.0, 2014.0, 2016.0, 2018.0], \"xaxis\": \"x4\", \"y\": [14.630000000006198, 15.50000000000691, 16.090000000000003, 8.800000000000004, 5.199999999999999], \"yaxis\": \"y5\"}, {\"hovertemplate\": \"class=8<br>skill_name=Extended Reasoning<br>skill_name=Extended Reasoning<br>year=%{x}<br>skill_delta=%{y}<br>studentCount=%{marker.size}<extra></extra>\", \"legendgroup\": \"skill_name=Extended Reasoning\", \"marker\": {\"color\": \"#636efa\", \"size\": [96, 15, 54, 76, 72], \"sizemode\": \"area\", \"sizeref\": 1.1, \"symbol\": \"circle\"}, \"mode\": \"markers\", \"name\": \"skill_name=Extended Reasoning\", \"showlegend\": false, \"type\": \"scatter\", \"uid\": \"9a8437a0-a66b-4889-a8d6-7ded21cf9af9\", \"x\": [\"2018\", \"2007\", \"2008\", \"2014\", \"2016\"], \"xaxis\": \"x\", \"y\": [7.619999999999997, 31.71, 17.630000000000003, 11.099999999999994, 8.96], \"yaxis\": \"y6\"}, {\"hovertemplate\": \"<b>LOWESS trendline</b><br><br>class=8<br>skill_name=Extended Reasoning<br>skill_name=Extended Reasoning<br>year=%{x}<br>skill_delta=%{y} <b>(trend)</b><extra></extra>\", \"legendgroup\": \"skill_name=Extended Reasoning\", \"marker\": {\"color\": \"#636efa\", \"symbol\": \"circle\"}, \"mode\": \"lines\", \"name\": \"skill_name=Extended Reasoning\", \"showlegend\": false, \"type\": \"scatter\", \"uid\": \"4deff12e-f4da-44bd-9bfc-2c9f94f30cae\", \"x\": [2007.0, 2008.0, 2014.0, 2016.0, 2018.0], \"xaxis\": \"x\", \"y\": [31.71, 17.630000000000003, 11.100000000001417, 8.96, 7.620000000000906], \"yaxis\": \"y6\"}, {\"hovertemplate\": \"class=8<br>skill_name=Grammar Usage<br>skill_name=Grammar Usage<br>year=%{x}<br>skill_delta=%{y}<br>studentCount=%{marker.size}<extra></extra>\", \"legendgroup\": \"skill_name=Grammar Usage\", \"marker\": {\"color\": \"#EF553B\", \"size\": [96, 15, 54, 76, 72], \"sizemode\": \"area\", \"sizeref\": 1.1, \"symbol\": \"circle\"}, \"mode\": \"markers\", \"name\": \"skill_name=Grammar Usage\", \"showlegend\": false, \"type\": \"scatter\", \"uid\": \"32c306be-e816-4b2c-9f94-0337f65e667f\", \"x\": [\"2018\", \"2007\", \"2008\", \"2014\", \"2016\"], \"xaxis\": \"x2\", \"y\": [17.590000000000003, 25.939999999999998, 21.189999999999998, 20.83, 14.780000000000001], \"yaxis\": \"y6\"}, {\"hovertemplate\": \"<b>LOWESS trendline</b><br><br>class=8<br>skill_name=Grammar Usage<br>skill_name=Grammar Usage<br>year=%{x}<br>skill_delta=%{y} <b>(trend)</b><extra></extra>\", \"legendgroup\": \"skill_name=Grammar Usage\", \"marker\": {\"color\": \"#EF553B\", \"symbol\": \"circle\"}, \"mode\": \"lines\", \"name\": \"skill_name=Grammar Usage\", \"showlegend\": false, \"type\": \"scatter\", \"uid\": \"7c8327f4-a002-42cd-bede-3bd903204807\", \"x\": [2007.0, 2008.0, 2014.0, 2016.0, 2018.0], \"xaxis\": \"x2\", \"y\": [25.94000000000977, 21.1900000000012, 20.830000000001824, 14.780000000000001, 17.590000000000913], \"yaxis\": \"y6\"}, {\"hovertemplate\": \"class=8<br>skill_name=Literal Comprehension<br>skill_name=Literal Comprehension<br>year=%{x}<br>skill_delta=%{y}<br>studentCount=%{marker.size}<extra></extra>\", \"legendgroup\": \"skill_name=Literal Comprehension\", \"marker\": {\"color\": \"#00cc96\", \"size\": [96, 15, 54, 76, 72], \"sizemode\": \"area\", \"sizeref\": 1.1, \"symbol\": \"circle\"}, \"mode\": \"markers\", \"name\": \"skill_name=Literal Comprehension\", \"showlegend\": false, \"type\": \"scatter\", \"uid\": \"a82e4d2d-d8c2-4ed9-84d1-0213a2881f9b\", \"x\": [\"2018\", \"2007\", \"2008\", \"2014\", \"2016\"], \"xaxis\": \"x3\", \"y\": [7.0, 30.270000000000003, 14.79, 9.68999999999999, 5.969999999999999], \"yaxis\": \"y6\"}, {\"hovertemplate\": \"<b>LOWESS trendline</b><br><br>class=8<br>skill_name=Literal Comprehension<br>skill_name=Literal Comprehension<br>year=%{x}<br>skill_delta=%{y} <b>(trend)</b><extra></extra>\", \"legendgroup\": \"skill_name=Literal Comprehension\", \"marker\": {\"color\": \"#00cc96\", \"symbol\": \"circle\"}, \"mode\": \"lines\", \"name\": \"skill_name=Literal Comprehension\", \"showlegend\": false, \"type\": \"scatter\", \"uid\": \"60e348ff-7b70-40ba-9f9b-bcb7ed815311\", \"x\": [2007.0, 2008.0, 2014.0, 2016.0, 2018.0], \"xaxis\": \"x3\", \"y\": [30.270000000000003, 14.79, 9.690000000001278, 5.969999999999999, 7.00000000000089], \"yaxis\": \"y6\"}, {\"hovertemplate\": \"class=8<br>skill_name=Vocabulary in Context<br>skill_name=Vocabulary in Context<br>year=%{x}<br>skill_delta=%{y}<br>studentCount=%{marker.size}<extra></extra>\", \"legendgroup\": \"skill_name=Vocabulary in Context\", \"marker\": {\"color\": \"#ab63fa\", \"size\": [96, 15, 54, 76, 72], \"sizemode\": \"area\", \"sizeref\": 1.1, \"symbol\": \"circle\"}, \"mode\": \"markers\", \"name\": \"skill_name=Vocabulary in Context\", \"showlegend\": false, \"type\": \"scatter\", \"uid\": \"e218ddee-84c5-40d0-a140-4515b829703b\", \"x\": [\"2018\", \"2007\", \"2008\", \"2014\", \"2016\"], \"xaxis\": \"x4\", \"y\": [10.960000000000004, 19.4, 12.770000000000003, 10.939999999999998, 5.579999999999998], \"yaxis\": \"y6\"}, {\"hovertemplate\": \"<b>LOWESS trendline</b><br><br>class=8<br>skill_name=Vocabulary in Context<br>skill_name=Vocabulary in Context<br>year=%{x}<br>skill_delta=%{y} <b>(trend)</b><extra></extra>\", \"legendgroup\": \"skill_name=Vocabulary in Context\", \"marker\": {\"color\": \"#ab63fa\", \"symbol\": \"circle\"}, \"mode\": \"lines\", \"name\": \"skill_name=Vocabulary in Context\", \"showlegend\": false, \"type\": \"scatter\", \"uid\": \"c3ec59a0-abbb-4998-be57-a990dc270b5e\", \"x\": [2007.0, 2008.0, 2014.0, 2016.0, 2018.0], \"xaxis\": \"x4\", \"y\": [19.400000000008227, 12.770000000005671, 10.939999999999998, 5.579999999999998, 10.960000000000004], \"yaxis\": \"y6\"}, {\"hovertemplate\": \"class=9<br>skill_name=Extended Reasoning<br>skill_name=Extended Reasoning<br>year=%{x}<br>skill_delta=%{y}<br>studentCount=%{marker.size}<extra></extra>\", \"legendgroup\": \"skill_name=Extended Reasoning\", \"marker\": {\"color\": \"#636efa\", \"size\": [98, 10, 40, 73, 64], \"sizemode\": \"area\", \"sizeref\": 1.1, \"symbol\": \"circle\"}, \"mode\": \"markers\", \"name\": \"skill_name=Extended Reasoning\", \"showlegend\": false, \"type\": \"scatter\", \"uid\": \"a65c58ca-f566-4425-82d5-d0067c238a35\", \"x\": [\"2018\", \"2007\", \"2008\", \"2014\", \"2016\"], \"xaxis\": \"x\", \"y\": [9.119999999999997, 16.58, 20.020000000000003, 10.290000000000006, 16.67], \"yaxis\": \"y7\"}, {\"hovertemplate\": \"<b>LOWESS trendline</b><br><br>class=9<br>skill_name=Extended Reasoning<br>skill_name=Extended Reasoning<br>year=%{x}<br>skill_delta=%{y} <b>(trend)</b><extra></extra>\", \"legendgroup\": \"skill_name=Extended Reasoning\", \"marker\": {\"color\": \"#636efa\", \"symbol\": \"circle\"}, \"mode\": \"lines\", \"name\": \"skill_name=Extended Reasoning\", \"showlegend\": false, \"type\": \"scatter\", \"uid\": \"da235514-5bbb-4978-93ff-32323d80518e\", \"x\": [2007.0, 2008.0, 2014.0, 2016.0, 2018.0], \"xaxis\": \"x\", \"y\": [16.58, 20.020000000000003, 10.290000000001122, 16.67, 9.120000000000939], \"yaxis\": \"y7\"}, {\"hovertemplate\": \"class=9<br>skill_name=Grammar Usage<br>skill_name=Grammar Usage<br>year=%{x}<br>skill_delta=%{y}<br>studentCount=%{marker.size}<extra></extra>\", \"legendgroup\": \"skill_name=Grammar Usage\", \"marker\": {\"color\": \"#EF553B\", \"size\": [98, 10, 40, 73, 64], \"sizemode\": \"area\", \"sizeref\": 1.1, \"symbol\": \"circle\"}, \"mode\": \"markers\", \"name\": \"skill_name=Grammar Usage\", \"showlegend\": false, \"type\": \"scatter\", \"uid\": \"8432c501-26a2-429b-a0be-b990b140ce3d\", \"x\": [\"2018\", \"2007\", \"2008\", \"2014\", \"2016\"], \"xaxis\": \"x2\", \"y\": [9.200000000000003, 23.130000000000003, 24.15, 14.89, 18.840000000000003], \"yaxis\": \"y7\"}, {\"hovertemplate\": \"<b>LOWESS trendline</b><br><br>class=9<br>skill_name=Grammar Usage<br>skill_name=Grammar Usage<br>year=%{x}<br>skill_delta=%{y} <b>(trend)</b><extra></extra>\", \"legendgroup\": \"skill_name=Grammar Usage\", \"marker\": {\"color\": \"#EF553B\", \"symbol\": \"circle\"}, \"mode\": \"lines\", \"name\": \"skill_name=Grammar Usage\", \"showlegend\": false, \"type\": \"scatter\", \"uid\": \"ebfee8b3-f2da-4559-bf9e-1f2963ea89c6\", \"x\": [2007.0, 2008.0, 2014.0, 2016.0, 2018.0], \"xaxis\": \"x2\", \"y\": [23.130000000000003, 24.15, 14.890000000001743, 18.840000000000003, 9.200000000000903], \"yaxis\": \"y7\"}, {\"hovertemplate\": \"class=9<br>skill_name=Literal Comprehension<br>skill_name=Literal Comprehension<br>year=%{x}<br>skill_delta=%{y}<br>studentCount=%{marker.size}<extra></extra>\", \"legendgroup\": \"skill_name=Literal Comprehension\", \"marker\": {\"color\": \"#00cc96\", \"size\": [98, 10, 40, 73, 64], \"sizemode\": \"area\", \"sizeref\": 1.1, \"symbol\": \"circle\"}, \"mode\": \"markers\", \"name\": \"skill_name=Literal Comprehension\", \"showlegend\": false, \"type\": \"scatter\", \"uid\": \"614a3e46-d01b-4be8-984f-084db18bab15\", \"x\": [\"2018\", \"2007\", \"2008\", \"2014\", \"2016\"], \"xaxis\": \"x3\", \"y\": [8.419999999999998, 14.509999999999998, 18.419999999999995, 16.310000000000002, 18.200000000000003], \"yaxis\": \"y7\"}, {\"hovertemplate\": \"<b>LOWESS trendline</b><br><br>class=9<br>skill_name=Literal Comprehension<br>skill_name=Literal Comprehension<br>year=%{x}<br>skill_delta=%{y} <b>(trend)</b><extra></extra>\", \"legendgroup\": \"skill_name=Literal Comprehension\", \"marker\": {\"color\": \"#00cc96\", \"symbol\": \"circle\"}, \"mode\": \"lines\", \"name\": \"skill_name=Literal Comprehension\", \"showlegend\": false, \"type\": \"scatter\", \"uid\": \"1fe4eec4-39d0-4231-bf3d-83bfd857215d\", \"x\": [2007.0, 2008.0, 2014.0, 2016.0, 2018.0], \"xaxis\": \"x3\", \"y\": [14.510000000006137, 18.420000000008216, 16.310000000000002, 18.200000000000003, 8.419999999999998], \"yaxis\": \"y7\"}, {\"hovertemplate\": \"class=9<br>skill_name=Vocabulary in Context<br>skill_name=Vocabulary in Context<br>year=%{x}<br>skill_delta=%{y}<br>studentCount=%{marker.size}<extra></extra>\", \"legendgroup\": \"skill_name=Vocabulary in Context\", \"marker\": {\"color\": \"#ab63fa\", \"size\": [98, 10, 40, 73, 64], \"sizemode\": \"area\", \"sizeref\": 1.1, \"symbol\": \"circle\"}, \"mode\": \"markers\", \"name\": \"skill_name=Vocabulary in Context\", \"showlegend\": false, \"type\": \"scatter\", \"uid\": \"a13ffd6f-bf11-4459-8747-c910d81c8c5d\", \"x\": [\"2018\", \"2007\", \"2008\", \"2014\", \"2016\"], \"xaxis\": \"x4\", \"y\": [1.9799999999999995, 18.28, 22.089999999999996, 17.190000000000005, 23.019999999999996], \"yaxis\": \"y7\"}, {\"hovertemplate\": \"<b>LOWESS trendline</b><br><br>class=9<br>skill_name=Vocabulary in Context<br>skill_name=Vocabulary in Context<br>year=%{x}<br>skill_delta=%{y} <b>(trend)</b><extra></extra>\", \"legendgroup\": \"skill_name=Vocabulary in Context\", \"marker\": {\"color\": \"#ab63fa\", \"symbol\": \"circle\"}, \"mode\": \"lines\", \"name\": \"skill_name=Vocabulary in Context\", \"showlegend\": false, \"type\": \"scatter\", \"uid\": \"65cbf387-7202-4092-9661-217d46e2d65e\", \"x\": [2007.0, 2008.0, 2014.0, 2016.0, 2018.0], \"xaxis\": \"x4\", \"y\": [18.280000000007735, 22.09000000000985, 17.190000000000005, 23.019999999999996, 1.9799999999999995], \"yaxis\": \"y7\"}, {\"hovertemplate\": \"class=10<br>skill_name=Extended Reasoning<br>skill_name=Extended Reasoning<br>year=%{x}<br>skill_delta=%{y}<br>studentCount=%{marker.size}<extra></extra>\", \"legendgroup\": \"skill_name=Extended Reasoning\", \"marker\": {\"color\": \"#636efa\", \"size\": [73, 60], \"sizemode\": \"area\", \"sizeref\": 1.1, \"symbol\": \"circle\"}, \"mode\": \"markers\", \"name\": \"skill_name=Extended Reasoning\", \"showlegend\": false, \"type\": \"scatter\", \"uid\": \"f4debc44-d881-4ebe-b717-e3aba1c9f3c4\", \"x\": [\"2014\", \"2016\"], \"xaxis\": \"x\", \"y\": [12.739999999999995, 10.869999999999997], \"yaxis\": \"y8\"}, {\"hovertemplate\": \"<b>LOWESS trendline</b><br><br>class=10<br>skill_name=Extended Reasoning<br>skill_name=Extended Reasoning<br>year=%{x}<br>skill_delta=%{y} <b>(trend)</b><extra></extra>\", \"legendgroup\": \"skill_name=Extended Reasoning\", \"marker\": {\"color\": \"#636efa\", \"symbol\": \"circle\"}, \"mode\": \"lines\", \"name\": \"skill_name=Extended Reasoning\", \"showlegend\": false, \"type\": \"scatter\", \"uid\": \"3f535e41-a240-496e-b27a-358594ca73fd\", \"x\": [2014.0, 2016.0], \"xaxis\": \"x\", \"y\": [12.739999999999995, 10.869999999999997], \"yaxis\": \"y8\"}, {\"hovertemplate\": \"class=10<br>skill_name=Grammar Usage<br>skill_name=Grammar Usage<br>year=%{x}<br>skill_delta=%{y}<br>studentCount=%{marker.size}<extra></extra>\", \"legendgroup\": \"skill_name=Grammar Usage\", \"marker\": {\"color\": \"#EF553B\", \"size\": [73, 60], \"sizemode\": \"area\", \"sizeref\": 1.1, \"symbol\": \"circle\"}, \"mode\": \"markers\", \"name\": \"skill_name=Grammar Usage\", \"showlegend\": false, \"type\": \"scatter\", \"uid\": \"dfd0715d-7e71-410d-8ee1-e4f5f95ef5d9\", \"x\": [\"2014\", \"2016\"], \"xaxis\": \"x2\", \"y\": [15.690000000000005, 18.769999999999996], \"yaxis\": \"y8\"}, {\"hovertemplate\": \"<b>LOWESS trendline</b><br><br>class=10<br>skill_name=Grammar Usage<br>skill_name=Grammar Usage<br>year=%{x}<br>skill_delta=%{y} <b>(trend)</b><extra></extra>\", \"legendgroup\": \"skill_name=Grammar Usage\", \"marker\": {\"color\": \"#EF553B\", \"symbol\": \"circle\"}, \"mode\": \"lines\", \"name\": \"skill_name=Grammar Usage\", \"showlegend\": false, \"type\": \"scatter\", \"uid\": \"71487f4e-5acb-4a87-9263-51d44d41c4e1\", \"x\": [2014.0, 2016.0], \"xaxis\": \"x2\", \"y\": [15.690000000000005, 18.769999999999996], \"yaxis\": \"y8\"}, {\"hovertemplate\": \"class=10<br>skill_name=Literal Comprehension<br>skill_name=Literal Comprehension<br>year=%{x}<br>skill_delta=%{y}<br>studentCount=%{marker.size}<extra></extra>\", \"legendgroup\": \"skill_name=Literal Comprehension\", \"marker\": {\"color\": \"#00cc96\", \"size\": [73, 60], \"sizemode\": \"area\", \"sizeref\": 1.1, \"symbol\": \"circle\"}, \"mode\": \"markers\", \"name\": \"skill_name=Literal Comprehension\", \"showlegend\": false, \"type\": \"scatter\", \"uid\": \"f3785ae3-cc9a-4f5f-a18f-08c414a81b03\", \"x\": [\"2014\", \"2016\"], \"xaxis\": \"x3\", \"y\": [15.180000000000007, 15.380000000000003], \"yaxis\": \"y8\"}, {\"hovertemplate\": \"<b>LOWESS trendline</b><br><br>class=10<br>skill_name=Literal Comprehension<br>skill_name=Literal Comprehension<br>year=%{x}<br>skill_delta=%{y} <b>(trend)</b><extra></extra>\", \"legendgroup\": \"skill_name=Literal Comprehension\", \"marker\": {\"color\": \"#00cc96\", \"symbol\": \"circle\"}, \"mode\": \"lines\", \"name\": \"skill_name=Literal Comprehension\", \"showlegend\": false, \"type\": \"scatter\", \"uid\": \"12e996b1-4c54-497d-83ec-11203f5f7a45\", \"x\": [2014.0, 2016.0], \"xaxis\": \"x3\", \"y\": [15.180000000000007, 15.380000000000003], \"yaxis\": \"y8\"}, {\"hovertemplate\": \"class=10<br>skill_name=Vocabulary in Context<br>skill_name=Vocabulary in Context<br>year=%{x}<br>skill_delta=%{y}<br>studentCount=%{marker.size}<extra></extra>\", \"legendgroup\": \"skill_name=Vocabulary in Context\", \"marker\": {\"color\": \"#ab63fa\", \"size\": [73, 60], \"sizemode\": \"area\", \"sizeref\": 1.1, \"symbol\": \"circle\"}, \"mode\": \"markers\", \"name\": \"skill_name=Vocabulary in Context\", \"showlegend\": false, \"type\": \"scatter\", \"uid\": \"3f09a208-53e2-4815-a9de-69b16f43d8bf\", \"x\": [\"2014\", \"2016\"], \"xaxis\": \"x4\", \"y\": [14.719999999999999, 12.43], \"yaxis\": \"y8\"}, {\"hovertemplate\": \"<b>LOWESS trendline</b><br><br>class=10<br>skill_name=Vocabulary in Context<br>skill_name=Vocabulary in Context<br>year=%{x}<br>skill_delta=%{y} <b>(trend)</b><extra></extra>\", \"legendgroup\": \"skill_name=Vocabulary in Context\", \"marker\": {\"color\": \"#ab63fa\", \"symbol\": \"circle\"}, \"mode\": \"lines\", \"name\": \"skill_name=Vocabulary in Context\", \"showlegend\": false, \"type\": \"scatter\", \"uid\": \"967f4ccb-afed-436a-a3a7-796120c72e0d\", \"x\": [2014.0, 2016.0], \"xaxis\": \"x4\", \"y\": [14.719999999999999, 12.43], \"yaxis\": \"y8\"}],\n",
       "                        {\"annotations\": [{\"showarrow\": false, \"text\": \"skill_name=Extended Reasoning\", \"textangle\": 0, \"x\": 0.1153846153846154, \"xanchor\": \"center\", \"xref\": \"paper\", \"y\": 1.02, \"yanchor\": \"middle\", \"yref\": \"paper\"}, {\"showarrow\": false, \"text\": \"skill_name=Grammar Usage\", \"textangle\": 0, \"x\": 0.3717948717948718, \"xanchor\": \"center\", \"xref\": \"paper\", \"y\": 1.02, \"yanchor\": \"middle\", \"yref\": \"paper\"}, {\"showarrow\": false, \"text\": \"skill_name=Literal Comprehension\", \"textangle\": 0, \"x\": 0.6282051282051283, \"xanchor\": \"center\", \"xref\": \"paper\", \"y\": 1.02, \"yanchor\": \"middle\", \"yref\": \"paper\"}, {\"showarrow\": false, \"text\": \"skill_name=Vocabulary in Context\", \"textangle\": 0, \"x\": 0.8846153846153848, \"xanchor\": \"center\", \"xref\": \"paper\", \"y\": 1.02, \"yanchor\": \"middle\", \"yref\": \"paper\"}, {\"showarrow\": false, \"text\": \"class=3\", \"textangle\": 90, \"x\": 1.01, \"xanchor\": \"center\", \"xref\": \"paper\", \"y\": 0.9430379746835442, \"yanchor\": \"middle\", \"yref\": \"paper\"}, {\"showarrow\": false, \"text\": \"class=4\", \"textangle\": 90, \"x\": 1.01, \"xanchor\": \"center\", \"xref\": \"paper\", \"y\": 0.8164556962025316, \"yanchor\": \"middle\", \"yref\": \"paper\"}, {\"showarrow\": false, \"text\": \"class=5\", \"textangle\": 90, \"x\": 1.01, \"xanchor\": \"center\", \"xref\": \"paper\", \"y\": 0.6898734177215189, \"yanchor\": \"middle\", \"yref\": \"paper\"}, {\"showarrow\": false, \"text\": \"class=6\", \"textangle\": 90, \"x\": 1.01, \"xanchor\": \"center\", \"xref\": \"paper\", \"y\": 0.5632911392405062, \"yanchor\": \"middle\", \"yref\": \"paper\"}, {\"showarrow\": false, \"text\": \"class=7\", \"textangle\": 90, \"x\": 1.01, \"xanchor\": \"center\", \"xref\": \"paper\", \"y\": 0.4367088607594936, \"yanchor\": \"middle\", \"yref\": \"paper\"}, {\"showarrow\": false, \"text\": \"class=8\", \"textangle\": 90, \"x\": 1.01, \"xanchor\": \"center\", \"xref\": \"paper\", \"y\": 0.310126582278481, \"yanchor\": \"middle\", \"yref\": \"paper\"}, {\"showarrow\": false, \"text\": \"class=9\", \"textangle\": 90, \"x\": 1.01, \"xanchor\": \"center\", \"xref\": \"paper\", \"y\": 0.18354430379746833, \"yanchor\": \"middle\", \"yref\": \"paper\"}, {\"showarrow\": false, \"text\": \"class=10\", \"textangle\": 90, \"x\": 1.01, \"xanchor\": \"center\", \"xref\": \"paper\", \"y\": 0.05696202531645569, \"yanchor\": \"middle\", \"yref\": \"paper\"}], \"grid\": {\"xaxes\": [\"x\", \"x2\", \"x3\", \"x4\"], \"xgap\": 0.1, \"xside\": \"bottom\", \"yaxes\": [\"y\", \"y2\", \"y3\", \"y4\", \"y5\", \"y6\", \"y7\", \"y8\"], \"ygap\": 0.1, \"yside\": \"left\"}, \"height\": 2000, \"legend\": {\"tracegroupgap\": 0}, \"template\": {\"data\": {\"bar\": [{\"marker\": {\"line\": {\"color\": \"#E5ECF6\", \"width\": 0.5}}, \"type\": \"bar\"}], \"barpolar\": [{\"marker\": {\"line\": {\"color\": \"#E5ECF6\", \"width\": 0.5}}, \"type\": \"barpolar\"}], \"carpet\": [{\"aaxis\": {\"endlinecolor\": \"#2a3f5f\", \"gridcolor\": \"white\", \"linecolor\": \"white\", \"minorgridcolor\": \"white\", \"startlinecolor\": \"#2a3f5f\"}, \"baxis\": {\"endlinecolor\": \"#2a3f5f\", \"gridcolor\": \"white\", \"linecolor\": \"white\", \"minorgridcolor\": \"white\", \"startlinecolor\": \"#2a3f5f\"}, \"type\": \"carpet\"}], \"choropleth\": [{\"colorbar\": {\"outlinewidth\": 0, \"ticks\": \"\"}, \"type\": \"choropleth\"}], \"contour\": [{\"autocolorscale\": true, \"colorbar\": {\"outlinewidth\": 0, \"ticks\": \"\"}, \"type\": \"contour\"}], \"contourcarpet\": [{\"colorbar\": {\"outlinewidth\": 0, \"ticks\": \"\"}, \"type\": \"contourcarpet\"}], \"heatmap\": [{\"autocolorscale\": true, \"colorbar\": {\"outlinewidth\": 0, \"ticks\": \"\"}, \"type\": \"heatmap\"}], \"heatmapgl\": [{\"colorbar\": {\"outlinewidth\": 0, \"ticks\": \"\"}, \"type\": \"heatmapgl\"}], \"histogram\": [{\"marker\": {\"colorbar\": {\"outlinewidth\": 0, \"ticks\": \"\"}}, \"type\": \"histogram\"}], \"histogram2d\": [{\"autocolorscale\": true, \"colorbar\": {\"outlinewidth\": 0, \"ticks\": \"\"}, \"type\": \"histogram2d\"}], \"histogram2dcontour\": [{\"autocolorscale\": true, \"colorbar\": {\"outlinewidth\": 0, \"ticks\": \"\"}, \"type\": \"histogram2dcontour\"}], \"mesh3d\": [{\"colorbar\": {\"outlinewidth\": 0, \"ticks\": \"\"}, \"type\": \"mesh3d\"}], \"parcoords\": [{\"line\": {\"colorbar\": {\"outlinewidth\": 0, \"ticks\": \"\"}}, \"type\": \"parcoords\"}], \"scatter\": [{\"marker\": {\"colorbar\": {\"outlinewidth\": 0, \"ticks\": \"\"}}, \"type\": \"scatter\"}], \"scatter3d\": [{\"marker\": {\"colorbar\": {\"outlinewidth\": 0, \"ticks\": \"\"}}, \"type\": \"scatter3d\"}], \"scattercarpet\": [{\"marker\": {\"colorbar\": {\"outlinewidth\": 0, \"ticks\": \"\"}}, \"type\": \"scattercarpet\"}], \"scattergeo\": [{\"marker\": {\"colorbar\": {\"outlinewidth\": 0, \"ticks\": \"\"}}, \"type\": \"scattergeo\"}], \"scattergl\": [{\"marker\": {\"colorbar\": {\"outlinewidth\": 0, \"ticks\": \"\"}}, \"type\": \"scattergl\"}], \"scattermapbox\": [{\"marker\": {\"colorbar\": {\"outlinewidth\": 0, \"ticks\": \"\"}}, \"type\": \"scattermapbox\"}], \"scatterpolar\": [{\"marker\": {\"colorbar\": {\"outlinewidth\": 0, \"ticks\": \"\"}}, \"type\": \"scatterpolar\"}], \"scatterpolargl\": [{\"marker\": {\"colorbar\": {\"outlinewidth\": 0, \"ticks\": \"\"}}, \"type\": \"scatterpolargl\"}], \"scatterternary\": [{\"marker\": {\"colorbar\": {\"outlinewidth\": 0, \"ticks\": \"\"}}, \"type\": \"scatterternary\"}], \"surface\": [{\"colorbar\": {\"outlinewidth\": 0, \"ticks\": \"\"}, \"type\": \"surface\"}], \"table\": [{\"cells\": {\"fill\": {\"color\": \"#EBF0F8\"}, \"line\": {\"color\": \"white\"}}, \"header\": {\"fill\": {\"color\": \"#C8D4E3\"}, \"line\": {\"color\": \"white\"}}, \"type\": \"table\"}]}, \"layout\": {\"annotationdefaults\": {\"arrowcolor\": \"#506784\", \"arrowhead\": 0, \"arrowwidth\": 1}, \"colorscale\": {\"diverging\": [[0, \"#8e0152\"], [0.1, \"#c51b7d\"], [0.2, \"#de77ae\"], [0.3, \"#f1b6da\"], [0.4, \"#fde0ef\"], [0.5, \"#f7f7f7\"], [0.6, \"#e6f5d0\"], [0.7, \"#b8e186\"], [0.8, \"#7fbc41\"], [0.9, \"#4d9221\"], [1, \"#276419\"]], \"sequential\": [[0.0, \"#0508b8\"], [0.0893854748603352, \"#1910d8\"], [0.1787709497206704, \"#3c19f0\"], [0.2681564245810056, \"#6b1cfb\"], [0.3575418994413408, \"#981cfd\"], [0.44692737430167595, \"#bf1cfd\"], [0.5363128491620112, \"#dd2bfd\"], [0.6256983240223464, \"#f246fe\"], [0.7150837988826816, \"#fc67fd\"], [0.8044692737430168, \"#fe88fc\"], [0.8938547486033519, \"#fea5fd\"], [0.9832402234636871, \"#febefe\"], [1.0, \"#fec3fe\"]], \"sequentialminus\": [[0.0, \"#0508b8\"], [0.0893854748603352, \"#1910d8\"], [0.1787709497206704, \"#3c19f0\"], [0.2681564245810056, \"#6b1cfb\"], [0.3575418994413408, \"#981cfd\"], [0.44692737430167595, \"#bf1cfd\"], [0.5363128491620112, \"#dd2bfd\"], [0.6256983240223464, \"#f246fe\"], [0.7150837988826816, \"#fc67fd\"], [0.8044692737430168, \"#fe88fc\"], [0.8938547486033519, \"#fea5fd\"], [0.9832402234636871, \"#febefe\"], [1.0, \"#fec3fe\"]]}, \"colorway\": [\"#636efa\", \"#EF553B\", \"#00cc96\", \"#ab63fa\", \"#19d3f3\", \"#e763fa\", \"#FECB52\", \"#FFA15A\", \"#FF6692\", \"#B6E880\"], \"font\": {\"color\": \"#2a3f5f\"}, \"geo\": {\"bgcolor\": \"white\", \"lakecolor\": \"white\", \"landcolor\": \"#E5ECF6\", \"showlakes\": true, \"showland\": true, \"subunitcolor\": \"white\"}, \"hoverlabel\": {\"align\": \"left\"}, \"hovermode\": \"closest\", \"legend\": {\"itemsizing\": \"constant\"}, \"mapbox\": {\"style\": \"light\"}, \"paper_bgcolor\": \"white\", \"plot_bgcolor\": \"#E5ECF6\", \"polar\": {\"angularaxis\": {\"gridcolor\": \"white\", \"linecolor\": \"white\", \"ticks\": \"\"}, \"bgcolor\": \"#E5ECF6\", \"radialaxis\": {\"gridcolor\": \"white\", \"linecolor\": \"white\", \"ticks\": \"\"}}, \"scene\": {\"xaxis\": {\"backgroundcolor\": \"#E5ECF6\", \"gridcolor\": \"white\", \"gridwidth\": 2, \"linecolor\": \"white\", \"showbackground\": true, \"ticks\": \"\", \"zerolinecolor\": \"white\"}, \"yaxis\": {\"backgroundcolor\": \"#E5ECF6\", \"gridcolor\": \"white\", \"gridwidth\": 2, \"linecolor\": \"white\", \"showbackground\": true, \"ticks\": \"\", \"zerolinecolor\": \"white\"}, \"zaxis\": {\"backgroundcolor\": \"#E5ECF6\", \"gridcolor\": \"white\", \"gridwidth\": 2, \"linecolor\": \"white\", \"showbackground\": true, \"ticks\": \"\", \"zerolinecolor\": \"white\"}}, \"shapedefaults\": {\"fillcolor\": \"#506784\", \"line\": {\"width\": 0}, \"opacity\": 0.4}, \"ternary\": {\"aaxis\": {\"gridcolor\": \"white\", \"linecolor\": \"white\", \"ticks\": \"\"}, \"baxis\": {\"gridcolor\": \"white\", \"linecolor\": \"white\", \"ticks\": \"\"}, \"bgcolor\": \"#E5ECF6\", \"caxis\": {\"gridcolor\": \"white\", \"linecolor\": \"white\", \"ticks\": \"\"}}, \"title\": {\"x\": 0.05}, \"xaxis\": {\"automargin\": true, \"gridcolor\": \"white\", \"linecolor\": \"white\", \"ticks\": \"\", \"zerolinecolor\": \"white\", \"zerolinewidth\": 2}, \"yaxis\": {\"automargin\": true, \"gridcolor\": \"white\", \"linecolor\": \"white\", \"ticks\": \"\", \"zerolinecolor\": \"white\", \"zerolinewidth\": 2}}}, \"title\": {\"text\": \"Core Skills in English (Sushila Birla Girls^ School-Kolkata-CBSE)\"}, \"width\": 3000, \"xaxis\": {\"title\": {\"text\": \"year\"}}, \"xaxis2\": {\"matches\": \"x\", \"title\": {\"text\": \"year\"}}, \"xaxis3\": {\"matches\": \"x\", \"title\": {\"text\": \"year\"}}, \"xaxis4\": {\"matches\": \"x\", \"title\": {\"text\": \"year\"}}, \"yaxis\": {\"title\": {\"text\": \"skill_delta\"}}, \"yaxis2\": {\"matches\": \"y\", \"title\": {\"text\": \"skill_delta\"}}, \"yaxis3\": {\"matches\": \"y\", \"title\": {\"text\": \"skill_delta\"}}, \"yaxis4\": {\"matches\": \"y\", \"title\": {\"text\": \"skill_delta\"}}, \"yaxis5\": {\"matches\": \"y\", \"title\": {\"text\": \"skill_delta\"}}, \"yaxis6\": {\"matches\": \"y\", \"title\": {\"text\": \"skill_delta\"}}, \"yaxis7\": {\"matches\": \"y\", \"title\": {\"text\": \"skill_delta\"}}, \"yaxis8\": {\"matches\": \"y\", \"title\": {\"text\": \"skill_delta\"}}},\n",
       "                        {\"showLink\": false, \"linkText\": \"Export to plot.ly\", \"plotlyServerURL\": \"https://plot.ly\"}\n",
       "                    )\n",
       "                };\n",
       "                });\n",
       "            </script>\n",
       "        </div>"
      ]
     },
     "metadata": {},
     "output_type": "display_data"
    }
   ],
   "source": [
    "sub = 'English'\n",
    "px.scatter(df_school[df_school['subject']==sub].drop_duplicates(['papercode','skill_name']), \n",
    "        x = 'year', \n",
    "        y = 'skill_delta', \n",
    "        color='skill_name',\n",
    "        facet_row= 'class', \n",
    "        facet_col= 'skill_name', \n",
    "        size = 'studentCount',\n",
    "        size_max= 10,\n",
    "        trendline=\"lowess\",\n",
    "        height=2000,\n",
    "        width=3000,\n",
    "        title = 'Core Skills in %s (%s-%s-%s)'%(sub,school_name, school_city, school_board) )"
   ]
  },
  {
   "cell_type": "code",
   "execution_count": 21,
   "metadata": {
    "code_folding": [
     1
    ]
   },
   "outputs": [
    {
     "data": {
      "application/vnd.plotly.v1+json": {
       "config": {
        "linkText": "Export to plot.ly",
        "plotlyServerURL": "https://plot.ly",
        "showLink": false
       },
       "data": [
        {
         "hovertemplate": "class=3<br>skill_name=Conceptual Understanding and Comprehension<br>skill_name=Conceptual Understanding and Comprehension<br>year=%{x}<br>skill_delta=%{y}<br>studentCount=%{marker.size}<extra></extra>",
         "legendgroup": "skill_name=Conceptual Understanding and Comprehension",
         "marker": {
          "color": "#636efa",
          "size": [
           113,
           18,
           73,
           75,
           106,
           109
          ],
          "sizemode": "area",
          "sizeref": 1.15,
          "symbol": "circle"
         },
         "mode": "markers",
         "name": "skill_name=Conceptual Understanding and Comprehension",
         "showlegend": true,
         "type": "scatter",
         "uid": "11522a16-b605-4a95-9740-c261c56dbc8a",
         "x": [
          "2018",
          "2007",
          "2008",
          "2009",
          "2014",
          "2016"
         ],
         "xaxis": "x",
         "y": [
          6.699999999999996,
          7.149999999999999,
          4.269999999999996,
          1.1799999999999926,
          -1.6500000000000057,
          6.280000000000001
         ],
         "yaxis": "y"
        },
        {
         "hovertemplate": "<b>LOWESS trendline</b><br><br>class=3<br>skill_name=Conceptual Understanding and Comprehension<br>skill_name=Conceptual Understanding and Comprehension<br>year=%{x}<br>skill_delta=%{y} <b>(trend)</b><extra></extra>",
         "legendgroup": "skill_name=Conceptual Understanding and Comprehension",
         "marker": {
          "color": "#636efa",
          "symbol": "circle"
         },
         "mode": "lines",
         "name": "skill_name=Conceptual Understanding and Comprehension",
         "showlegend": false,
         "type": "scatter",
         "uid": "32be68e4-1fac-4fe6-97fc-4bb92bf5fbfb",
         "x": [
          2007,
          2008,
          2009,
          2014,
          2016,
          2018
         ],
         "xaxis": "x",
         "y": [
          7.177459803311247,
          4.193133687635075,
          1.2065421736968656,
          -1.6500000000001522,
          2.524999999999995,
          6.700000000000102
         ],
         "yaxis": "y"
        },
        {
         "hovertemplate": "class=3<br>skill_name=Knowledge of Basic Science Facts<br>skill_name=Knowledge of Basic Science Facts<br>year=%{x}<br>skill_delta=%{y}<br>studentCount=%{marker.size}<extra></extra>",
         "legendgroup": "skill_name=Knowledge of Basic Science Facts",
         "marker": {
          "color": "#EF553B",
          "size": [
           113,
           18,
           73,
           75,
           106,
           109
          ],
          "sizemode": "area",
          "sizeref": 1.15,
          "symbol": "circle"
         },
         "mode": "markers",
         "name": "skill_name=Knowledge of Basic Science Facts",
         "showlegend": true,
         "type": "scatter",
         "uid": "ab488f8f-0c98-4473-8998-a7bd80c69c2e",
         "x": [
          "2018",
          "2007",
          "2008",
          "2009",
          "2014",
          "2016"
         ],
         "xaxis": "x2",
         "y": [
          2.3000000000000043,
          8.46,
          6.909999999999997,
          5.450000000000003,
          0.5799999999999983,
          3.4200000000000017
         ],
         "yaxis": "y"
        },
        {
         "hovertemplate": "<b>LOWESS trendline</b><br><br>class=3<br>skill_name=Knowledge of Basic Science Facts<br>skill_name=Knowledge of Basic Science Facts<br>year=%{x}<br>skill_delta=%{y} <b>(trend)</b><extra></extra>",
         "legendgroup": "skill_name=Knowledge of Basic Science Facts",
         "marker": {
          "color": "#EF553B",
          "symbol": "circle"
         },
         "mode": "lines",
         "name": "skill_name=Knowledge of Basic Science Facts",
         "showlegend": false,
         "type": "scatter",
         "uid": "f0f01e24-5e76-4149-9638-5453c0fa78da",
         "x": [
          2007,
          2008,
          2009,
          2014,
          2016,
          2018
         ],
         "xaxis": "x2",
         "y": [
          8.448228692995299,
          6.942939808392143,
          5.438622101391019,
          0.5799999999999844,
          1.4400000000000013,
          2.3000000000000393
         ],
         "yaxis": "y"
        },
        {
         "hovertemplate": "class=3<br>skill_name=Original Thinking<br>skill_name=Original Thinking<br>year=%{x}<br>skill_delta=%{y}<br>studentCount=%{marker.size}<extra></extra>",
         "legendgroup": "skill_name=Original Thinking",
         "marker": {
          "color": "#00cc96",
          "size": [
           113,
           18,
           73,
           75,
           106,
           109
          ],
          "sizemode": "area",
          "sizeref": 1.15,
          "symbol": "circle"
         },
         "mode": "markers",
         "name": "skill_name=Original Thinking",
         "showlegend": true,
         "type": "scatter",
         "uid": "e5967468-caed-4b3f-8cb1-cceb9f50ca7e",
         "x": [
          "2018",
          "2007",
          "2008",
          "2009",
          "2014",
          "2016"
         ],
         "xaxis": "x3",
         "y": [
          1.9699999999999989,
          -0.39000000000000057,
          5.140000000000001,
          5.520000000000003,
          -4.200000000000003,
          3.3800000000000026
         ],
         "yaxis": "y"
        },
        {
         "hovertemplate": "<b>LOWESS trendline</b><br><br>class=3<br>skill_name=Original Thinking<br>skill_name=Original Thinking<br>year=%{x}<br>skill_delta=%{y} <b>(trend)</b><extra></extra>",
         "legendgroup": "skill_name=Original Thinking",
         "marker": {
          "color": "#00cc96",
          "symbol": "circle"
         },
         "mode": "lines",
         "name": "skill_name=Original Thinking",
         "showlegend": false,
         "type": "scatter",
         "uid": "3df70fde-6449-441a-bb7d-c296e9d0772f",
         "x": [
          2007,
          2008,
          2009,
          2014,
          2016,
          2018
         ],
         "xaxis": "x3",
         "y": [
          0.3185419943071053,
          3.291304173813228,
          6.204795735289185,
          -3.939914420471275,
          -0.6726592675447092,
          2.376274509445592
         ],
         "yaxis": "y"
        },
        {
         "hovertemplate": "class=3<br>skill_name=Reasoning and Analysis Skills<br>skill_name=Reasoning and Analysis Skills<br>year=%{x}<br>skill_delta=%{y}<br>studentCount=%{marker.size}<extra></extra>",
         "legendgroup": "skill_name=Reasoning and Analysis Skills",
         "marker": {
          "color": "#ab63fa",
          "size": [
           113,
           18,
           73,
           75,
           106,
           109
          ],
          "sizemode": "area",
          "sizeref": 1.15,
          "symbol": "circle"
         },
         "mode": "markers",
         "name": "skill_name=Reasoning and Analysis Skills",
         "showlegend": true,
         "type": "scatter",
         "uid": "6c5fb79c-fccf-488b-9b36-0e2e43dac37f",
         "x": [
          "2018",
          "2007",
          "2008",
          "2009",
          "2014",
          "2016"
         ],
         "xaxis": "x4",
         "y": [
          1.7800000000000011,
          2.1199999999999974,
          0.8800000000000026,
          4.800000000000004,
          -3.729999999999997,
          6.850000000000001
         ],
         "yaxis": "y"
        },
        {
         "hovertemplate": "<b>LOWESS trendline</b><br><br>class=3<br>skill_name=Reasoning and Analysis Skills<br>skill_name=Reasoning and Analysis Skills<br>year=%{x}<br>skill_delta=%{y} <b>(trend)</b><extra></extra>",
         "legendgroup": "skill_name=Reasoning and Analysis Skills",
         "marker": {
          "color": "#ab63fa",
          "symbol": "circle"
         },
         "mode": "lines",
         "name": "skill_name=Reasoning and Analysis Skills",
         "showlegend": false,
         "type": "scatter",
         "uid": "47ea5e80-c4ff-4f9d-9732-0bc2c5091829",
         "x": [
          2007,
          2008,
          2009,
          2014,
          2016,
          2018
         ],
         "xaxis": "x4",
         "y": [
          1.4133032048131349,
          2.735796051713682,
          4.117310580123481,
          -3.7299999999993863,
          -0.9749999999998599,
          1.7799999999996359
         ],
         "yaxis": "y"
        },
        {
         "hovertemplate": "class=4<br>skill_name=Conceptual Understanding and Comprehension<br>skill_name=Conceptual Understanding and Comprehension<br>year=%{x}<br>skill_delta=%{y}<br>studentCount=%{marker.size}<extra></extra>",
         "legendgroup": "skill_name=Conceptual Understanding and Comprehension",
         "marker": {
          "color": "#636efa",
          "size": [
           113,
           12,
           73,
           75,
           104,
           112
          ],
          "sizemode": "area",
          "sizeref": 1.15,
          "symbol": "circle"
         },
         "mode": "markers",
         "name": "skill_name=Conceptual Understanding and Comprehension",
         "showlegend": false,
         "type": "scatter",
         "uid": "214462e6-f874-4345-8233-5d326039dce6",
         "x": [
          "2018",
          "2007",
          "2008",
          "2009",
          "2014",
          "2016"
         ],
         "xaxis": "x",
         "y": [
          5.07,
          -3.229999999999997,
          0.9099999999999966,
          2.4399999999999977,
          -0.779999999999994,
          -0.19999999999999574
         ],
         "yaxis": "y2"
        },
        {
         "hovertemplate": "<b>LOWESS trendline</b><br><br>class=4<br>skill_name=Conceptual Understanding and Comprehension<br>skill_name=Conceptual Understanding and Comprehension<br>year=%{x}<br>skill_delta=%{y} <b>(trend)</b><extra></extra>",
         "legendgroup": "skill_name=Conceptual Understanding and Comprehension",
         "marker": {
          "color": "#636efa",
          "symbol": "circle"
         },
         "mode": "lines",
         "name": "skill_name=Conceptual Understanding and Comprehension",
         "showlegend": false,
         "type": "scatter",
         "uid": "f4c0acfa-dbc7-4e3f-b1a6-3a048e9b7c08",
         "x": [
          2007,
          2008,
          2009,
          2014,
          2016,
          2018
         ],
         "xaxis": "x",
         "y": [
          -2.869973557216703,
          -0.02594455134621254,
          2.7879465049439736,
          -0.8997869640767251,
          1.9475412333486903,
          4.888558946298229
         ],
         "yaxis": "y2"
        },
        {
         "hovertemplate": "class=4<br>skill_name=Knowledge of Basic Science Facts<br>skill_name=Knowledge of Basic Science Facts<br>year=%{x}<br>skill_delta=%{y}<br>studentCount=%{marker.size}<extra></extra>",
         "legendgroup": "skill_name=Knowledge of Basic Science Facts",
         "marker": {
          "color": "#EF553B",
          "size": [
           113,
           12,
           73,
           75,
           104,
           112
          ],
          "sizemode": "area",
          "sizeref": 1.15,
          "symbol": "circle"
         },
         "mode": "markers",
         "name": "skill_name=Knowledge of Basic Science Facts",
         "showlegend": false,
         "type": "scatter",
         "uid": "456c9021-969e-4e6a-a732-e62b476dfccc",
         "x": [
          "2018",
          "2007",
          "2008",
          "2009",
          "2014",
          "2016"
         ],
         "xaxis": "x2",
         "y": [
          3.5899999999999963,
          -4.210000000000001,
          -3.6899999999999977,
          0.37999999999999545,
          3.539999999999992,
          -1.8599999999999994
         ],
         "yaxis": "y2"
        },
        {
         "hovertemplate": "<b>LOWESS trendline</b><br><br>class=4<br>skill_name=Knowledge of Basic Science Facts<br>skill_name=Knowledge of Basic Science Facts<br>year=%{x}<br>skill_delta=%{y} <b>(trend)</b><extra></extra>",
         "legendgroup": "skill_name=Knowledge of Basic Science Facts",
         "marker": {
          "color": "#EF553B",
          "symbol": "circle"
         },
         "mode": "lines",
         "name": "skill_name=Knowledge of Basic Science Facts",
         "showlegend": false,
         "type": "scatter",
         "uid": "823e3374-1dae-4d90-b726-b14af9b71e1e",
         "x": [
          2007,
          2008,
          2009,
          2014,
          2016,
          2018
         ],
         "xaxis": "x2",
         "y": [
          -4.696224689506667,
          -2.413270116491403,
          -0.08970655380996423,
          3.539999999999942,
          3.5649999999999973,
          3.5899999999994896
         ],
         "yaxis": "y2"
        },
        {
         "hovertemplate": "class=4<br>skill_name=Original Thinking<br>skill_name=Original Thinking<br>year=%{x}<br>skill_delta=%{y}<br>studentCount=%{marker.size}<extra></extra>",
         "legendgroup": "skill_name=Original Thinking",
         "marker": {
          "color": "#00cc96",
          "size": [
           113,
           12,
           73,
           75,
           104,
           112
          ],
          "sizemode": "area",
          "sizeref": 1.15,
          "symbol": "circle"
         },
         "mode": "markers",
         "name": "skill_name=Original Thinking",
         "showlegend": false,
         "type": "scatter",
         "uid": "e56661b7-2675-4e8e-a1ef-7735bb6d4fd5",
         "x": [
          "2018",
          "2007",
          "2008",
          "2009",
          "2014",
          "2016"
         ],
         "xaxis": "x3",
         "y": [
          2.760000000000005,
          0.740000000000002,
          1.3499999999999943,
          -0.21000000000000085,
          1.6199999999999974,
          10.119999999999997
         ],
         "yaxis": "y2"
        },
        {
         "hovertemplate": "<b>LOWESS trendline</b><br><br>class=4<br>skill_name=Original Thinking<br>skill_name=Original Thinking<br>year=%{x}<br>skill_delta=%{y} <b>(trend)</b><extra></extra>",
         "legendgroup": "skill_name=Original Thinking",
         "marker": {
          "color": "#00cc96",
          "symbol": "circle"
         },
         "mode": "lines",
         "name": "skill_name=Original Thinking",
         "showlegend": false,
         "type": "scatter",
         "uid": "4a10f12a-228a-408c-b4c0-4620b9f0bafd",
         "x": [
          2007,
          2008,
          2009,
          2014,
          2016,
          2018
         ],
         "xaxis": "x3",
         "y": [
          1.0213821631652662,
          0.5532809480094283,
          0.06201604949410866,
          1.62000000000001,
          2.1900000000000013,
          2.760000000000045
         ],
         "yaxis": "y2"
        },
        {
         "hovertemplate": "class=4<br>skill_name=Reasoning and Analysis Skills<br>skill_name=Reasoning and Analysis Skills<br>year=%{x}<br>skill_delta=%{y}<br>studentCount=%{marker.size}<extra></extra>",
         "legendgroup": "skill_name=Reasoning and Analysis Skills",
         "marker": {
          "color": "#ab63fa",
          "size": [
           113,
           12,
           73,
           75,
           104,
           112
          ],
          "sizemode": "area",
          "sizeref": 1.15,
          "symbol": "circle"
         },
         "mode": "markers",
         "name": "skill_name=Reasoning and Analysis Skills",
         "showlegend": false,
         "type": "scatter",
         "uid": "9a826b46-10f0-4037-be1f-8616bf20d0d0",
         "x": [
          "2018",
          "2007",
          "2008",
          "2009",
          "2014",
          "2016"
         ],
         "xaxis": "x4",
         "y": [
          2.3799999999999955,
          -5.030000000000001,
          0.4799999999999969,
          2.25,
          -0.6499999999999986,
          3.6400000000000006
         ],
         "yaxis": "y2"
        },
        {
         "hovertemplate": "<b>LOWESS trendline</b><br><br>class=4<br>skill_name=Reasoning and Analysis Skills<br>skill_name=Reasoning and Analysis Skills<br>year=%{x}<br>skill_delta=%{y} <b>(trend)</b><extra></extra>",
         "legendgroup": "skill_name=Reasoning and Analysis Skills",
         "marker": {
          "color": "#ab63fa",
          "symbol": "circle"
         },
         "mode": "lines",
         "name": "skill_name=Reasoning and Analysis Skills",
         "showlegend": false,
         "type": "scatter",
         "uid": "bb06d5cb-ab55-4886-88f4-a78b72ee29e3",
         "x": [
          2007,
          2008,
          2009,
          2014,
          2016,
          2018
         ],
         "xaxis": "x4",
         "y": [
          -4.526814094705081,
          -0.8742615257148809,
          2.7364508441907565,
          -0.41469945428961463,
          1.3226521137103275,
          2.799255381226782
         ],
         "yaxis": "y2"
        },
        {
         "hovertemplate": "class=5<br>skill_name=Conceptual Understanding and Comprehension<br>skill_name=Conceptual Understanding and Comprehension<br>year=%{x}<br>skill_delta=%{y}<br>studentCount=%{marker.size}<extra></extra>",
         "legendgroup": "skill_name=Conceptual Understanding and Comprehension",
         "marker": {
          "color": "#636efa",
          "size": [
           113,
           12,
           74,
           75,
           107,
           105
          ],
          "sizemode": "area",
          "sizeref": 1.15,
          "symbol": "circle"
         },
         "mode": "markers",
         "name": "skill_name=Conceptual Understanding and Comprehension",
         "showlegend": false,
         "type": "scatter",
         "uid": "4b079fea-424f-480a-a312-792818991727",
         "x": [
          "2018",
          "2007",
          "2008",
          "2009",
          "2014",
          "2016"
         ],
         "xaxis": "x",
         "y": [
          0.10000000000000142,
          3.700000000000003,
          -1.4500000000000028,
          0.1700000000000017,
          3.0500000000000043,
          -0.5800000000000054
         ],
         "yaxis": "y3"
        },
        {
         "hovertemplate": "<b>LOWESS trendline</b><br><br>class=5<br>skill_name=Conceptual Understanding and Comprehension<br>skill_name=Conceptual Understanding and Comprehension<br>year=%{x}<br>skill_delta=%{y} <b>(trend)</b><extra></extra>",
         "legendgroup": "skill_name=Conceptual Understanding and Comprehension",
         "marker": {
          "color": "#636efa",
          "symbol": "circle"
         },
         "mode": "lines",
         "name": "skill_name=Conceptual Understanding and Comprehension",
         "showlegend": false,
         "type": "scatter",
         "uid": "db0b5b3b-79b5-44de-af20-d3c57177d70e",
         "x": [
          2007,
          2008,
          2009,
          2014,
          2016,
          2018
         ],
         "xaxis": "x",
         "y": [
          2.894166970696425,
          1.1095985952388656,
          -0.6100295078534277,
          2.7720818494292336,
          0.8915604198771685,
          -0.514773040294546
         ],
         "yaxis": "y3"
        },
        {
         "hovertemplate": "class=5<br>skill_name=Knowledge of Basic Science Facts<br>skill_name=Knowledge of Basic Science Facts<br>year=%{x}<br>skill_delta=%{y}<br>studentCount=%{marker.size}<extra></extra>",
         "legendgroup": "skill_name=Knowledge of Basic Science Facts",
         "marker": {
          "color": "#EF553B",
          "size": [
           113,
           12,
           74,
           75,
           107,
           105
          ],
          "sizemode": "area",
          "sizeref": 1.15,
          "symbol": "circle"
         },
         "mode": "markers",
         "name": "skill_name=Knowledge of Basic Science Facts",
         "showlegend": false,
         "type": "scatter",
         "uid": "c11bed96-cde3-4356-b91a-ac78f90ef1d4",
         "x": [
          "2018",
          "2007",
          "2008",
          "2009",
          "2014",
          "2016"
         ],
         "xaxis": "x2",
         "y": [
          6.200000000000003,
          10.399999999999999,
          5.25,
          8.539999999999992,
          -0.23000000000000398,
          -3.960000000000001
         ],
         "yaxis": "y3"
        },
        {
         "hovertemplate": "<b>LOWESS trendline</b><br><br>class=5<br>skill_name=Knowledge of Basic Science Facts<br>skill_name=Knowledge of Basic Science Facts<br>year=%{x}<br>skill_delta=%{y} <b>(trend)</b><extra></extra>",
         "legendgroup": "skill_name=Knowledge of Basic Science Facts",
         "marker": {
          "color": "#EF553B",
          "symbol": "circle"
         },
         "mode": "lines",
         "name": "skill_name=Knowledge of Basic Science Facts",
         "showlegend": false,
         "type": "scatter",
         "uid": "00979bb4-cb7c-4ff1-8a40-d5101ab89b3d",
         "x": [
          2007,
          2008,
          2009,
          2014,
          2016,
          2018
         ],
         "xaxis": "x2",
         "y": [
          9.246423074939326,
          8.287541512000121,
          7.424987629450934,
          -0.7133745500601923,
          2.115157391481885,
          5.401830765919488
         ],
         "yaxis": "y3"
        },
        {
         "hovertemplate": "class=5<br>skill_name=Original Thinking<br>skill_name=Original Thinking<br>year=%{x}<br>skill_delta=%{y}<br>studentCount=%{marker.size}<extra></extra>",
         "legendgroup": "skill_name=Original Thinking",
         "marker": {
          "color": "#00cc96",
          "size": [
           113,
           12,
           74,
           75,
           107,
           105
          ],
          "sizemode": "area",
          "sizeref": 1.15,
          "symbol": "circle"
         },
         "mode": "markers",
         "name": "skill_name=Original Thinking",
         "showlegend": false,
         "type": "scatter",
         "uid": "4953de17-fd0d-49f4-a37e-0dcf3e19befd",
         "x": [
          "2018",
          "2007",
          "2008",
          "2009",
          "2014",
          "2016"
         ],
         "xaxis": "x3",
         "y": [
          0.3200000000000003,
          5.049999999999997,
          -2.9300000000000033,
          5.57,
          4.469999999999999,
          -1.720000000000006
         ],
         "yaxis": "y3"
        },
        {
         "hovertemplate": "<b>LOWESS trendline</b><br><br>class=5<br>skill_name=Original Thinking<br>skill_name=Original Thinking<br>year=%{x}<br>skill_delta=%{y} <b>(trend)</b><extra></extra>",
         "legendgroup": "skill_name=Original Thinking",
         "marker": {
          "color": "#00cc96",
          "symbol": "circle"
         },
         "mode": "lines",
         "name": "skill_name=Original Thinking",
         "showlegend": false,
         "type": "scatter",
         "uid": "140d67a2-138f-4227-9030-5fc724047949",
         "x": [
          2007,
          2008,
          2009,
          2014,
          2016,
          2018
         ],
         "xaxis": "x3",
         "y": [
          3.090654251289146,
          3.303080752361046,
          3.6733625289459377,
          3.9242541782794738,
          1.0353332136115383,
          -0.897283716603767
         ],
         "yaxis": "y3"
        },
        {
         "hovertemplate": "class=5<br>skill_name=Reasoning and Analysis Skills<br>skill_name=Reasoning and Analysis Skills<br>year=%{x}<br>skill_delta=%{y}<br>studentCount=%{marker.size}<extra></extra>",
         "legendgroup": "skill_name=Reasoning and Analysis Skills",
         "marker": {
          "color": "#ab63fa",
          "size": [
           113,
           12,
           74,
           75,
           107,
           105
          ],
          "sizemode": "area",
          "sizeref": 1.15,
          "symbol": "circle"
         },
         "mode": "markers",
         "name": "skill_name=Reasoning and Analysis Skills",
         "showlegend": false,
         "type": "scatter",
         "uid": "047efc35-021d-4480-862c-9601a2c9cfb0",
         "x": [
          "2018",
          "2007",
          "2008",
          "2009",
          "2014",
          "2016"
         ],
         "xaxis": "x4",
         "y": [
          -1,
          6.880000000000003,
          -5.030000000000001,
          3.8800000000000026,
          5.130000000000003,
          0.7999999999999972
         ],
         "yaxis": "y3"
        },
        {
         "hovertemplate": "<b>LOWESS trendline</b><br><br>class=5<br>skill_name=Reasoning and Analysis Skills<br>skill_name=Reasoning and Analysis Skills<br>year=%{x}<br>skill_delta=%{y} <b>(trend)</b><extra></extra>",
         "legendgroup": "skill_name=Reasoning and Analysis Skills",
         "marker": {
          "color": "#ab63fa",
          "symbol": "circle"
         },
         "mode": "lines",
         "name": "skill_name=Reasoning and Analysis Skills",
         "showlegend": false,
         "type": "scatter",
         "uid": "12d6259f-3af3-41c4-97cc-30e4ab1adb8b",
         "x": [
          2007,
          2008,
          2009,
          2014,
          2016,
          2018
         ],
         "xaxis": "x4",
         "y": [
          6.88000000000009,
          5.379999999999719,
          3.880000000000082,
          4.994529765875218,
          1.7505975854559157,
          -1.293064154838941
         ],
         "yaxis": "y3"
        },
        {
         "hovertemplate": "class=6<br>skill_name=Conceptual Understanding and Comprehension<br>skill_name=Conceptual Understanding and Comprehension<br>year=%{x}<br>skill_delta=%{y}<br>studentCount=%{marker.size}<extra></extra>",
         "legendgroup": "skill_name=Conceptual Understanding and Comprehension",
         "marker": {
          "color": "#636efa",
          "size": [
           111,
           17,
           73,
           79,
           82,
           100
          ],
          "sizemode": "area",
          "sizeref": 1.15,
          "symbol": "circle"
         },
         "mode": "markers",
         "name": "skill_name=Conceptual Understanding and Comprehension",
         "showlegend": false,
         "type": "scatter",
         "uid": "67b45321-4e63-47d6-8526-e24ed1cb84b5",
         "x": [
          "2018",
          "2007",
          "2008",
          "2009",
          "2014",
          "2016"
         ],
         "xaxis": "x",
         "y": [
          8.11,
          7.210000000000001,
          1.8699999999999974,
          -1.8800000000000026,
          10.700000000000003,
          4.479999999999997
         ],
         "yaxis": "y4"
        },
        {
         "hovertemplate": "<b>LOWESS trendline</b><br><br>class=6<br>skill_name=Conceptual Understanding and Comprehension<br>skill_name=Conceptual Understanding and Comprehension<br>year=%{x}<br>skill_delta=%{y} <b>(trend)</b><extra></extra>",
         "legendgroup": "skill_name=Conceptual Understanding and Comprehension",
         "marker": {
          "color": "#636efa",
          "symbol": "circle"
         },
         "mode": "lines",
         "name": "skill_name=Conceptual Understanding and Comprehension",
         "showlegend": false,
         "type": "scatter",
         "uid": "65757eb1-e329-447b-a17b-50297d3bf136",
         "x": [
          2007,
          2008,
          2009,
          2014,
          2016,
          2018
         ],
         "xaxis": "x",
         "y": [
          7.004258051426316,
          2.4542149705307197,
          -2.0789003089053093,
          10.700000000000228,
          9.405000000000001,
          8.110000000000106
         ],
         "yaxis": "y4"
        },
        {
         "hovertemplate": "class=6<br>skill_name=Knowledge of Basic Science Facts<br>skill_name=Knowledge of Basic Science Facts<br>year=%{x}<br>skill_delta=%{y}<br>studentCount=%{marker.size}<extra></extra>",
         "legendgroup": "skill_name=Knowledge of Basic Science Facts",
         "marker": {
          "color": "#EF553B",
          "size": [
           111,
           17,
           73,
           79,
           82,
           100
          ],
          "sizemode": "area",
          "sizeref": 1.15,
          "symbol": "circle"
         },
         "mode": "markers",
         "name": "skill_name=Knowledge of Basic Science Facts",
         "showlegend": false,
         "type": "scatter",
         "uid": "36110f0a-b0ca-46d0-be79-c592591a9727",
         "x": [
          "2018",
          "2007",
          "2008",
          "2009",
          "2014",
          "2016"
         ],
         "xaxis": "x2",
         "y": [
          3.9299999999999997,
          9.560000000000002,
          9.170000000000002,
          3.960000000000001,
          4.579999999999998,
          7.5
         ],
         "yaxis": "y4"
        },
        {
         "hovertemplate": "<b>LOWESS trendline</b><br><br>class=6<br>skill_name=Knowledge of Basic Science Facts<br>skill_name=Knowledge of Basic Science Facts<br>year=%{x}<br>skill_delta=%{y} <b>(trend)</b><extra></extra>",
         "legendgroup": "skill_name=Knowledge of Basic Science Facts",
         "marker": {
          "color": "#EF553B",
          "symbol": "circle"
         },
         "mode": "lines",
         "name": "skill_name=Knowledge of Basic Science Facts",
         "showlegend": false,
         "type": "scatter",
         "uid": "cac77e0d-1d35-4eee-84f8-ae7b8e06ae6e",
         "x": [
          2007,
          2008,
          2009,
          2014,
          2016,
          2018
         ],
         "xaxis": "x2",
         "y": [
          10.195487306106944,
          7.411263662853851,
          4.574482386403891,
          4.887213014133974,
          4.885296970235438,
          4.506559666044444
         ],
         "yaxis": "y4"
        },
        {
         "hovertemplate": "class=6<br>skill_name=Original Thinking<br>skill_name=Original Thinking<br>year=%{x}<br>skill_delta=%{y}<br>studentCount=%{marker.size}<extra></extra>",
         "legendgroup": "skill_name=Original Thinking",
         "marker": {
          "color": "#00cc96",
          "size": [
           111,
           17,
           73,
           79,
           82,
           100
          ],
          "sizemode": "area",
          "sizeref": 1.15,
          "symbol": "circle"
         },
         "mode": "markers",
         "name": "skill_name=Original Thinking",
         "showlegend": false,
         "type": "scatter",
         "uid": "7eac3d8c-dfbb-4187-b378-c41efdc32ae1",
         "x": [
          "2018",
          "2007",
          "2008",
          "2009",
          "2014",
          "2016"
         ],
         "xaxis": "x3",
         "y": [
          5.050000000000004,
          8.980000000000004,
          5.349999999999994,
          -0.6300000000000026,
          5.810000000000002,
          1.6999999999999957
         ],
         "yaxis": "y4"
        },
        {
         "hovertemplate": "<b>LOWESS trendline</b><br><br>class=6<br>skill_name=Original Thinking<br>skill_name=Original Thinking<br>year=%{x}<br>skill_delta=%{y} <b>(trend)</b><extra></extra>",
         "legendgroup": "skill_name=Original Thinking",
         "marker": {
          "color": "#00cc96",
          "symbol": "circle"
         },
         "mode": "lines",
         "name": "skill_name=Original Thinking",
         "showlegend": false,
         "type": "scatter",
         "uid": "17e496ec-b295-49d0-95e4-416614f3fe37",
         "x": [
          2007,
          2008,
          2009,
          2014,
          2016,
          2018
         ],
         "xaxis": "x3",
         "y": [
          9.30191939898019,
          4.50489450132696,
          -0.3190179323951261,
          5.81000000000009,
          5.4300000000000175,
          5.050000000000582
         ],
         "yaxis": "y4"
        },
        {
         "hovertemplate": "class=6<br>skill_name=Reasoning and Analysis Skills<br>skill_name=Reasoning and Analysis Skills<br>year=%{x}<br>skill_delta=%{y}<br>studentCount=%{marker.size}<extra></extra>",
         "legendgroup": "skill_name=Reasoning and Analysis Skills",
         "marker": {
          "color": "#ab63fa",
          "size": [
           111,
           17,
           73,
           79,
           82,
           100
          ],
          "sizemode": "area",
          "sizeref": 1.15,
          "symbol": "circle"
         },
         "mode": "markers",
         "name": "skill_name=Reasoning and Analysis Skills",
         "showlegend": false,
         "type": "scatter",
         "uid": "241c66d5-a12a-46d4-95d9-94c70771ffc2",
         "x": [
          "2018",
          "2007",
          "2008",
          "2009",
          "2014",
          "2016"
         ],
         "xaxis": "x4",
         "y": [
          4.359999999999999,
          14.619999999999997,
          6.079999999999998,
          3.030000000000001,
          2.8900000000000006,
          2.5
         ],
         "yaxis": "y4"
        },
        {
         "hovertemplate": "<b>LOWESS trendline</b><br><br>class=6<br>skill_name=Reasoning and Analysis Skills<br>skill_name=Reasoning and Analysis Skills<br>year=%{x}<br>skill_delta=%{y} <b>(trend)</b><extra></extra>",
         "legendgroup": "skill_name=Reasoning and Analysis Skills",
         "marker": {
          "color": "#ab63fa",
          "symbol": "circle"
         },
         "mode": "lines",
         "name": "skill_name=Reasoning and Analysis Skills",
         "showlegend": false,
         "type": "scatter",
         "uid": "f0592948-c16c-4949-847d-b31794abdee6",
         "x": [
          2007,
          2008,
          2009,
          2014,
          2016,
          2018
         ],
         "xaxis": "x4",
         "y": [
          13.998209062344761,
          8.188196063160582,
          2.427705667154224,
          2.7390645100724442,
          3.2471680856045526,
          4.022496417749476
         ],
         "yaxis": "y4"
        },
        {
         "hovertemplate": "class=7<br>skill_name=Conceptual Understanding and Comprehension<br>skill_name=Conceptual Understanding and Comprehension<br>year=%{x}<br>skill_delta=%{y}<br>studentCount=%{marker.size}<extra></extra>",
         "legendgroup": "skill_name=Conceptual Understanding and Comprehension",
         "marker": {
          "color": "#636efa",
          "size": [
           115,
           4,
           46,
           74,
           78,
           100
          ],
          "sizemode": "area",
          "sizeref": 1.15,
          "symbol": "circle"
         },
         "mode": "markers",
         "name": "skill_name=Conceptual Understanding and Comprehension",
         "showlegend": false,
         "type": "scatter",
         "uid": "a7004d16-f4f3-4426-bb25-13c6b7bdc3c1",
         "x": [
          "2018",
          "2007",
          "2008",
          "2009",
          "2014",
          "2016"
         ],
         "xaxis": "x",
         "y": [
          9.930000000000007,
          11.239999999999995,
          6.439999999999998,
          3.9200000000000017,
          3.9299999999999997,
          3.8100000000000023
         ],
         "yaxis": "y5"
        },
        {
         "hovertemplate": "<b>LOWESS trendline</b><br><br>class=7<br>skill_name=Conceptual Understanding and Comprehension<br>skill_name=Conceptual Understanding and Comprehension<br>year=%{x}<br>skill_delta=%{y} <b>(trend)</b><extra></extra>",
         "legendgroup": "skill_name=Conceptual Understanding and Comprehension",
         "marker": {
          "color": "#636efa",
          "symbol": "circle"
         },
         "mode": "lines",
         "name": "skill_name=Conceptual Understanding and Comprehension",
         "showlegend": false,
         "type": "scatter",
         "uid": "a9c86e3d-eed6-43f1-89b4-ac085c70b902",
         "x": [
          2007,
          2008,
          2009,
          2014,
          2016,
          2018
         ],
         "xaxis": "x",
         "y": [
          10.92821596258279,
          7.260493778548538,
          3.6188004284383877,
          3.929999999999905,
          6.930000000000337,
          9.929999999999577
         ],
         "yaxis": "y5"
        },
        {
         "hovertemplate": "class=7<br>skill_name=Knowledge of Basic Science Facts<br>skill_name=Knowledge of Basic Science Facts<br>year=%{x}<br>skill_delta=%{y}<br>studentCount=%{marker.size}<extra></extra>",
         "legendgroup": "skill_name=Knowledge of Basic Science Facts",
         "marker": {
          "color": "#EF553B",
          "size": [
           115,
           4,
           46,
           74,
           78,
           100
          ],
          "sizemode": "area",
          "sizeref": 1.15,
          "symbol": "circle"
         },
         "mode": "markers",
         "name": "skill_name=Knowledge of Basic Science Facts",
         "showlegend": false,
         "type": "scatter",
         "uid": "20cd061d-b4e6-4725-9e41-5ddc410a953c",
         "x": [
          "2018",
          "2007",
          "2008",
          "2009",
          "2014",
          "2016"
         ],
         "xaxis": "x2",
         "y": [
          7.57,
          -0.990000000000002,
          12.560000000000002,
          0.3200000000000003,
          6.169999999999995,
          2.039999999999999
         ],
         "yaxis": "y5"
        },
        {
         "hovertemplate": "<b>LOWESS trendline</b><br><br>class=7<br>skill_name=Knowledge of Basic Science Facts<br>skill_name=Knowledge of Basic Science Facts<br>year=%{x}<br>skill_delta=%{y} <b>(trend)</b><extra></extra>",
         "legendgroup": "skill_name=Knowledge of Basic Science Facts",
         "marker": {
          "color": "#EF553B",
          "symbol": "circle"
         },
         "mode": "lines",
         "name": "skill_name=Knowledge of Basic Science Facts",
         "showlegend": false,
         "type": "scatter",
         "uid": "a881eee0-a69b-4f00-8285-0b5fde45833b",
         "x": [
          2007,
          2008,
          2009,
          2014,
          2016,
          2018
         ],
         "xaxis": "x2",
         "y": [
          1.7501184622555759,
          2.470776435521792,
          2.976342593493278,
          5.520234521099858,
          5.241762336996483,
          6.116361193314592
         ],
         "yaxis": "y5"
        },
        {
         "hovertemplate": "class=7<br>skill_name=Original Thinking<br>skill_name=Original Thinking<br>year=%{x}<br>skill_delta=%{y}<br>studentCount=%{marker.size}<extra></extra>",
         "legendgroup": "skill_name=Original Thinking",
         "marker": {
          "color": "#00cc96",
          "size": [
           115,
           4,
           46,
           74,
           78,
           100
          ],
          "sizemode": "area",
          "sizeref": 1.15,
          "symbol": "circle"
         },
         "mode": "markers",
         "name": "skill_name=Original Thinking",
         "showlegend": false,
         "type": "scatter",
         "uid": "2509ce46-32f8-4a8a-9477-4bcc6c885cb3",
         "x": [
          "2018",
          "2007",
          "2008",
          "2009",
          "2014",
          "2016"
         ],
         "xaxis": "x3",
         "y": [
          6.380000000000003,
          3.91,
          2.1899999999999977,
          3.210000000000001,
          8,
          1.4299999999999997
         ],
         "yaxis": "y5"
        },
        {
         "hovertemplate": "<b>LOWESS trendline</b><br><br>class=7<br>skill_name=Original Thinking<br>skill_name=Original Thinking<br>year=%{x}<br>skill_delta=%{y} <b>(trend)</b><extra></extra>",
         "legendgroup": "skill_name=Original Thinking",
         "marker": {
          "color": "#00cc96",
          "symbol": "circle"
         },
         "mode": "lines",
         "name": "skill_name=Original Thinking",
         "showlegend": false,
         "type": "scatter",
         "uid": "1cf79e1b-5752-4c5a-a7c9-b876d565b5cc",
         "x": [
          2007,
          2008,
          2009,
          2014,
          2016,
          2018
         ],
         "xaxis": "x3",
         "y": [
          3.5375352903479107,
          3.1783225122010506,
          2.850154601918359,
          8.000000000000165,
          7.190000000000001,
          6.380000000000088
         ],
         "yaxis": "y5"
        },
        {
         "hovertemplate": "class=7<br>skill_name=Reasoning and Analysis Skills<br>skill_name=Reasoning and Analysis Skills<br>year=%{x}<br>skill_delta=%{y}<br>studentCount=%{marker.size}<extra></extra>",
         "legendgroup": "skill_name=Reasoning and Analysis Skills",
         "marker": {
          "color": "#ab63fa",
          "size": [
           115,
           4,
           46,
           74,
           78,
           100
          ],
          "sizemode": "area",
          "sizeref": 1.15,
          "symbol": "circle"
         },
         "mode": "markers",
         "name": "skill_name=Reasoning and Analysis Skills",
         "showlegend": false,
         "type": "scatter",
         "uid": "c89b9511-6783-42e9-a506-bb914da4e1ae",
         "x": [
          "2018",
          "2007",
          "2008",
          "2009",
          "2014",
          "2016"
         ],
         "xaxis": "x4",
         "y": [
          7.259999999999998,
          10.43,
          10.199999999999996,
          6.009999999999998,
          4.18,
          7.849999999999994
         ],
         "yaxis": "y5"
        },
        {
         "hovertemplate": "<b>LOWESS trendline</b><br><br>class=7<br>skill_name=Reasoning and Analysis Skills<br>skill_name=Reasoning and Analysis Skills<br>year=%{x}<br>skill_delta=%{y} <b>(trend)</b><extra></extra>",
         "legendgroup": "skill_name=Reasoning and Analysis Skills",
         "marker": {
          "color": "#ab63fa",
          "symbol": "circle"
         },
         "mode": "lines",
         "name": "skill_name=Reasoning and Analysis Skills",
         "showlegend": false,
         "type": "scatter",
         "uid": "fc583e3b-3211-4de1-942b-7e189e7b2c9d",
         "x": [
          2007,
          2008,
          2009,
          2014,
          2016,
          2018
         ],
         "xaxis": "x4",
         "y": [
          10.915056474958389,
          8.716903404429335,
          6.479383784960544,
          4.411042893294448,
          6.2322439130578635,
          7.727085866053854
         ],
         "yaxis": "y5"
        },
        {
         "hovertemplate": "class=8<br>skill_name=Conceptual Understanding and Comprehension<br>skill_name=Conceptual Understanding and Comprehension<br>year=%{x}<br>skill_delta=%{y}<br>studentCount=%{marker.size}<extra></extra>",
         "legendgroup": "skill_name=Conceptual Understanding and Comprehension",
         "marker": {
          "color": "#636efa",
          "size": [
           104,
           14,
           54,
           48,
           77,
           78
          ],
          "sizemode": "area",
          "sizeref": 1.15,
          "symbol": "circle"
         },
         "mode": "markers",
         "name": "skill_name=Conceptual Understanding and Comprehension",
         "showlegend": false,
         "type": "scatter",
         "uid": "9395b157-c420-46c5-aab4-8337e72e9d37",
         "x": [
          "2018",
          "2007",
          "2008",
          "2009",
          "2014",
          "2016"
         ],
         "xaxis": "x",
         "y": [
          5.629999999999999,
          15.369999999999997,
          5.020000000000003,
          15.049999999999997,
          4.93,
          -1.9400000000000048
         ],
         "yaxis": "y6"
        },
        {
         "hovertemplate": "<b>LOWESS trendline</b><br><br>class=8<br>skill_name=Conceptual Understanding and Comprehension<br>skill_name=Conceptual Understanding and Comprehension<br>year=%{x}<br>skill_delta=%{y} <b>(trend)</b><extra></extra>",
         "legendgroup": "skill_name=Conceptual Understanding and Comprehension",
         "marker": {
          "color": "#636efa",
          "symbol": "circle"
         },
         "mode": "lines",
         "name": "skill_name=Conceptual Understanding and Comprehension",
         "showlegend": false,
         "type": "scatter",
         "uid": "acd56345-6f69-4632-a109-eb9ab9dddca6",
         "x": [
          2007,
          2008,
          2009,
          2014,
          2016,
          2018
         ],
         "xaxis": "x",
         "y": [
          12.944168812819392,
          12.7252613546479,
          12.701846178726434,
          4.016244856752323,
          3.0548044062345263,
          3.6230419023259737
         ],
         "yaxis": "y6"
        },
        {
         "hovertemplate": "class=8<br>skill_name=Knowledge of Basic Science Facts<br>skill_name=Knowledge of Basic Science Facts<br>year=%{x}<br>skill_delta=%{y}<br>studentCount=%{marker.size}<extra></extra>",
         "legendgroup": "skill_name=Knowledge of Basic Science Facts",
         "marker": {
          "color": "#EF553B",
          "size": [
           104,
           14,
           54,
           48,
           77,
           78
          ],
          "sizemode": "area",
          "sizeref": 1.15,
          "symbol": "circle"
         },
         "mode": "markers",
         "name": "skill_name=Knowledge of Basic Science Facts",
         "showlegend": false,
         "type": "scatter",
         "uid": "61930e44-2c6b-4a35-b2b1-690c3225f90f",
         "x": [
          "2018",
          "2007",
          "2008",
          "2009",
          "2014",
          "2016"
         ],
         "xaxis": "x2",
         "y": [
          -0.7100000000000009,
          27.029999999999998,
          21.939999999999998,
          13.36,
          6.540000000000006,
          8.36
         ],
         "yaxis": "y6"
        },
        {
         "hovertemplate": "<b>LOWESS trendline</b><br><br>class=8<br>skill_name=Knowledge of Basic Science Facts<br>skill_name=Knowledge of Basic Science Facts<br>year=%{x}<br>skill_delta=%{y} <b>(trend)</b><extra></extra>",
         "legendgroup": "skill_name=Knowledge of Basic Science Facts",
         "marker": {
          "color": "#EF553B",
          "symbol": "circle"
         },
         "mode": "lines",
         "name": "skill_name=Knowledge of Basic Science Facts",
         "showlegend": false,
         "type": "scatter",
         "uid": "f472a64c-47ca-46bc-92bf-840a47ed7e23",
         "x": [
          2007,
          2008,
          2009,
          2014,
          2016,
          2018
         ],
         "xaxis": "x2",
         "y": [
          27.50806175166874,
          20.684905069907003,
          13.821819940469597,
          6.540000000000588,
          2.9149999999997647,
          -0.7099999999999914
         ],
         "yaxis": "y6"
        },
        {
         "hovertemplate": "class=8<br>skill_name=Original Thinking<br>skill_name=Original Thinking<br>year=%{x}<br>skill_delta=%{y}<br>studentCount=%{marker.size}<extra></extra>",
         "legendgroup": "skill_name=Original Thinking",
         "marker": {
          "color": "#00cc96",
          "size": [
           104,
           14,
           54,
           48,
           77,
           78
          ],
          "sizemode": "area",
          "sizeref": 1.15,
          "symbol": "circle"
         },
         "mode": "markers",
         "name": "skill_name=Original Thinking",
         "showlegend": false,
         "type": "scatter",
         "uid": "2809a553-164a-4cad-b8fd-0eabaabb3279",
         "x": [
          "2018",
          "2007",
          "2008",
          "2009",
          "2014",
          "2016"
         ],
         "xaxis": "x3",
         "y": [
          3.229999999999997,
          5.770000000000003,
          5.630000000000003,
          12.759999999999998,
          7.219999999999999,
          0.3299999999999983
         ],
         "yaxis": "y6"
        },
        {
         "hovertemplate": "<b>LOWESS trendline</b><br><br>class=8<br>skill_name=Original Thinking<br>skill_name=Original Thinking<br>year=%{x}<br>skill_delta=%{y} <b>(trend)</b><extra></extra>",
         "legendgroup": "skill_name=Original Thinking",
         "marker": {
          "color": "#00cc96",
          "symbol": "circle"
         },
         "mode": "lines",
         "name": "skill_name=Original Thinking",
         "showlegend": false,
         "type": "scatter",
         "uid": "e5c4fac7-2e56-4df1-8635-7b546b719f4c",
         "x": [
          2007,
          2008,
          2009,
          2014,
          2016,
          2018
         ],
         "xaxis": "x3",
         "y": [
          4.811468638500844,
          8.28267236029505,
          11.833151479892624,
          6.756625784321336,
          4.274365422610385,
          2.3604122741207254
         ],
         "yaxis": "y6"
        },
        {
         "hovertemplate": "class=8<br>skill_name=Reasoning and Analysis Skills<br>skill_name=Reasoning and Analysis Skills<br>year=%{x}<br>skill_delta=%{y}<br>studentCount=%{marker.size}<extra></extra>",
         "legendgroup": "skill_name=Reasoning and Analysis Skills",
         "marker": {
          "color": "#ab63fa",
          "size": [
           104,
           14,
           54,
           48,
           77,
           78
          ],
          "sizemode": "area",
          "sizeref": 1.15,
          "symbol": "circle"
         },
         "mode": "markers",
         "name": "skill_name=Reasoning and Analysis Skills",
         "showlegend": false,
         "type": "scatter",
         "uid": "5bb1285f-64ad-480e-aa6d-ffdf8f0804e0",
         "x": [
          "2018",
          "2007",
          "2008",
          "2009",
          "2014",
          "2016"
         ],
         "xaxis": "x4",
         "y": [
          4.030000000000001,
          14.870000000000005,
          11.61,
          15.130000000000003,
          7.210000000000001,
          0.3400000000000034
         ],
         "yaxis": "y6"
        },
        {
         "hovertemplate": "<b>LOWESS trendline</b><br><br>class=8<br>skill_name=Reasoning and Analysis Skills<br>skill_name=Reasoning and Analysis Skills<br>year=%{x}<br>skill_delta=%{y} <b>(trend)</b><extra></extra>",
         "legendgroup": "skill_name=Reasoning and Analysis Skills",
         "marker": {
          "color": "#ab63fa",
          "symbol": "circle"
         },
         "mode": "lines",
         "name": "skill_name=Reasoning and Analysis Skills",
         "showlegend": false,
         "type": "scatter",
         "uid": "8cc4c99e-424d-49c3-9760-f99e65d2bd00",
         "x": [
          2007,
          2008,
          2009,
          2014,
          2016,
          2018
         ],
         "xaxis": "x4",
         "y": [
          13.950419860472365,
          14.057436294199377,
          14.241081874804822,
          6.795922779875684,
          4.8409651761479395,
          3.315783395437273
         ],
         "yaxis": "y6"
        },
        {
         "hovertemplate": "class=9<br>skill_name=Conceptual Understanding and Comprehension<br>skill_name=Conceptual Understanding and Comprehension<br>year=%{x}<br>skill_delta=%{y}<br>studentCount=%{marker.size}<extra></extra>",
         "legendgroup": "skill_name=Conceptual Understanding and Comprehension",
         "marker": {
          "color": "#636efa",
          "size": [
           92,
           10,
           42,
           51,
           73,
           74
          ],
          "sizemode": "area",
          "sizeref": 1.15,
          "symbol": "circle"
         },
         "mode": "markers",
         "name": "skill_name=Conceptual Understanding and Comprehension",
         "showlegend": false,
         "type": "scatter",
         "uid": "90f6f705-a2a9-4fae-88cc-5bc9848410f4",
         "x": [
          "2018",
          "2007",
          "2008",
          "2009",
          "2014",
          "2016"
         ],
         "xaxis": "x",
         "y": [
          5.789999999999999,
          -1.6400000000000006,
          6.609999999999999,
          4.049999999999997,
          5.5,
          4.489999999999995
         ],
         "yaxis": "y7"
        },
        {
         "hovertemplate": "<b>LOWESS trendline</b><br><br>class=9<br>skill_name=Conceptual Understanding and Comprehension<br>skill_name=Conceptual Understanding and Comprehension<br>year=%{x}<br>skill_delta=%{y} <b>(trend)</b><extra></extra>",
         "legendgroup": "skill_name=Conceptual Understanding and Comprehension",
         "marker": {
          "color": "#636efa",
          "symbol": "circle"
         },
         "mode": "lines",
         "name": "skill_name=Conceptual Understanding and Comprehension",
         "showlegend": false,
         "type": "scatter",
         "uid": "856ea217-6e2c-4b1e-96e9-13fd95628f98",
         "x": [
          2007,
          2008,
          2009,
          2014,
          2016,
          2018
         ],
         "xaxis": "x",
         "y": [
          -1.6400000000003576,
          1.204999999999952,
          4.049999999999736,
          5.344348419077457,
          5.254561743904973,
          5.441516108972336
         ],
         "yaxis": "y7"
        },
        {
         "hovertemplate": "class=9<br>skill_name=Knowledge of Basic Science Facts<br>skill_name=Knowledge of Basic Science Facts<br>year=%{x}<br>skill_delta=%{y}<br>studentCount=%{marker.size}<extra></extra>",
         "legendgroup": "skill_name=Knowledge of Basic Science Facts",
         "marker": {
          "color": "#EF553B",
          "size": [
           92,
           10,
           42,
           51,
           73,
           74
          ],
          "sizemode": "area",
          "sizeref": 1.15,
          "symbol": "circle"
         },
         "mode": "markers",
         "name": "skill_name=Knowledge of Basic Science Facts",
         "showlegend": false,
         "type": "scatter",
         "uid": "56a0068b-1e90-4f25-8a7d-d9f787777dba",
         "x": [
          "2018",
          "2007",
          "2008",
          "2009",
          "2014",
          "2016"
         ],
         "xaxis": "x2",
         "y": [
          1.139999999999997,
          7.259999999999998,
          12.529999999999994,
          16.17,
          6.130000000000003,
          0.5199999999999996
         ],
         "yaxis": "y7"
        },
        {
         "hovertemplate": "<b>LOWESS trendline</b><br><br>class=9<br>skill_name=Knowledge of Basic Science Facts<br>skill_name=Knowledge of Basic Science Facts<br>year=%{x}<br>skill_delta=%{y} <b>(trend)</b><extra></extra>",
         "legendgroup": "skill_name=Knowledge of Basic Science Facts",
         "marker": {
          "color": "#EF553B",
          "symbol": "circle"
         },
         "mode": "lines",
         "name": "skill_name=Knowledge of Basic Science Facts",
         "showlegend": false,
         "type": "scatter",
         "uid": "2d1bb107-8b00-4156-86df-4aee69b5162a",
         "x": [
          2007,
          2008,
          2009,
          2014,
          2016,
          2018
         ],
         "xaxis": "x2",
         "y": [
          7.482655420363548,
          11.9431679499272,
          16.385097973830256,
          6.130000000000181,
          3.635,
          1.1400000000000037
         ],
         "yaxis": "y7"
        },
        {
         "hovertemplate": "class=9<br>skill_name=Original Thinking<br>skill_name=Original Thinking<br>year=%{x}<br>skill_delta=%{y}<br>studentCount=%{marker.size}<extra></extra>",
         "legendgroup": "skill_name=Original Thinking",
         "marker": {
          "color": "#00cc96",
          "size": [
           92,
           10,
           42,
           51,
           73,
           74
          ],
          "sizemode": "area",
          "sizeref": 1.15,
          "symbol": "circle"
         },
         "mode": "markers",
         "name": "skill_name=Original Thinking",
         "showlegend": false,
         "type": "scatter",
         "uid": "5204c117-7df9-418f-bef2-3ce0f2792284",
         "x": [
          "2018",
          "2007",
          "2008",
          "2009",
          "2014",
          "2016"
         ],
         "xaxis": "x3",
         "y": [
          3.6700000000000017,
          9.199999999999996,
          11.600000000000001,
          3.1300000000000026,
          1.6799999999999997,
          5.289999999999999
         ],
         "yaxis": "y7"
        },
        {
         "hovertemplate": "<b>LOWESS trendline</b><br><br>class=9<br>skill_name=Original Thinking<br>skill_name=Original Thinking<br>year=%{x}<br>skill_delta=%{y} <b>(trend)</b><extra></extra>",
         "legendgroup": "skill_name=Original Thinking",
         "marker": {
          "color": "#00cc96",
          "symbol": "circle"
         },
         "mode": "lines",
         "name": "skill_name=Original Thinking",
         "showlegend": false,
         "type": "scatter",
         "uid": "347df443-b5b7-45ad-a0e6-dd81b1db3c6f",
         "x": [
          2007,
          2008,
          2009,
          2014,
          2016,
          2018
         ],
         "xaxis": "x3",
         "y": [
          10.48460979977579,
          7.48077974874965,
          4.373604136752029,
          2.0277397691091785,
          3.5423395005034752,
          4.446119188930458
         ],
         "yaxis": "y7"
        },
        {
         "hovertemplate": "class=9<br>skill_name=Reasoning and Analysis Skills<br>skill_name=Reasoning and Analysis Skills<br>year=%{x}<br>skill_delta=%{y}<br>studentCount=%{marker.size}<extra></extra>",
         "legendgroup": "skill_name=Reasoning and Analysis Skills",
         "marker": {
          "color": "#ab63fa",
          "size": [
           92,
           10,
           42,
           51,
           73,
           74
          ],
          "sizemode": "area",
          "sizeref": 1.15,
          "symbol": "circle"
         },
         "mode": "markers",
         "name": "skill_name=Reasoning and Analysis Skills",
         "showlegend": false,
         "type": "scatter",
         "uid": "765f001d-9696-48b1-bdb0-348778011e88",
         "x": [
          "2018",
          "2007",
          "2008",
          "2009",
          "2014",
          "2016"
         ],
         "xaxis": "x4",
         "y": [
          7.980000000000004,
          15.25,
          9.730000000000004,
          9.380000000000003,
          4.469999999999999,
          0.4899999999999949
         ],
         "yaxis": "y7"
        },
        {
         "hovertemplate": "<b>LOWESS trendline</b><br><br>class=9<br>skill_name=Reasoning and Analysis Skills<br>skill_name=Reasoning and Analysis Skills<br>year=%{x}<br>skill_delta=%{y} <b>(trend)</b><extra></extra>",
         "legendgroup": "skill_name=Reasoning and Analysis Skills",
         "marker": {
          "color": "#ab63fa",
          "symbol": "circle"
         },
         "mode": "lines",
         "name": "skill_name=Reasoning and Analysis Skills",
         "showlegend": false,
         "type": "scatter",
         "uid": "fd54a752-bfd7-405b-9075-8b0a081cae51",
         "x": [
          2007,
          2008,
          2009,
          2014,
          2016,
          2018
         ],
         "xaxis": "x4",
         "y": [
          14.539887599828914,
          11.587219972479513,
          8.693912984683104,
          4.469999999999992,
          6.225000000000195,
          7.979999999999581
         ],
         "yaxis": "y7"
        },
        {
         "hovertemplate": "class=10<br>skill_name=Conceptual Understanding and Comprehension<br>skill_name=Conceptual Understanding and Comprehension<br>year=%{x}<br>skill_delta=%{y}<br>studentCount=%{marker.size}<extra></extra>",
         "legendgroup": "skill_name=Conceptual Understanding and Comprehension",
         "marker": {
          "color": "#636efa",
          "size": [
           73,
           67
          ],
          "sizemode": "area",
          "sizeref": 1.15,
          "symbol": "circle"
         },
         "mode": "markers",
         "name": "skill_name=Conceptual Understanding and Comprehension",
         "showlegend": false,
         "type": "scatter",
         "uid": "54b36971-159a-46b1-86e6-73563eb91ed2",
         "x": [
          "2014",
          "2016"
         ],
         "xaxis": "x",
         "y": [
          1.8999999999999986,
          9.579999999999998
         ],
         "yaxis": "y8"
        },
        {
         "hovertemplate": "<b>LOWESS trendline</b><br><br>class=10<br>skill_name=Conceptual Understanding and Comprehension<br>skill_name=Conceptual Understanding and Comprehension<br>year=%{x}<br>skill_delta=%{y} <b>(trend)</b><extra></extra>",
         "legendgroup": "skill_name=Conceptual Understanding and Comprehension",
         "marker": {
          "color": "#636efa",
          "symbol": "circle"
         },
         "mode": "lines",
         "name": "skill_name=Conceptual Understanding and Comprehension",
         "showlegend": false,
         "type": "scatter",
         "uid": "37753d45-a346-4df7-b887-19e1083d7b4a",
         "x": [
          2014,
          2016
         ],
         "xaxis": "x",
         "y": [
          1.8999999999999986,
          9.579999999999998
         ],
         "yaxis": "y8"
        },
        {
         "hovertemplate": "class=10<br>skill_name=Knowledge of Basic Science Facts<br>skill_name=Knowledge of Basic Science Facts<br>year=%{x}<br>skill_delta=%{y}<br>studentCount=%{marker.size}<extra></extra>",
         "legendgroup": "skill_name=Knowledge of Basic Science Facts",
         "marker": {
          "color": "#EF553B",
          "size": [
           73,
           67
          ],
          "sizemode": "area",
          "sizeref": 1.15,
          "symbol": "circle"
         },
         "mode": "markers",
         "name": "skill_name=Knowledge of Basic Science Facts",
         "showlegend": false,
         "type": "scatter",
         "uid": "a68869d6-8e5c-4f73-9baa-9503b195c3c1",
         "x": [
          "2014",
          "2016"
         ],
         "xaxis": "x2",
         "y": [
          -1.4200000000000017,
          6.229999999999997
         ],
         "yaxis": "y8"
        },
        {
         "hovertemplate": "<b>LOWESS trendline</b><br><br>class=10<br>skill_name=Knowledge of Basic Science Facts<br>skill_name=Knowledge of Basic Science Facts<br>year=%{x}<br>skill_delta=%{y} <b>(trend)</b><extra></extra>",
         "legendgroup": "skill_name=Knowledge of Basic Science Facts",
         "marker": {
          "color": "#EF553B",
          "symbol": "circle"
         },
         "mode": "lines",
         "name": "skill_name=Knowledge of Basic Science Facts",
         "showlegend": false,
         "type": "scatter",
         "uid": "7d7d13ad-4523-4264-b657-c1d6ab73d11e",
         "x": [
          2014,
          2016
         ],
         "xaxis": "x2",
         "y": [
          -1.4200000000000017,
          6.229999999999997
         ],
         "yaxis": "y8"
        },
        {
         "hovertemplate": "class=10<br>skill_name=Original Thinking<br>skill_name=Original Thinking<br>year=%{x}<br>skill_delta=%{y}<br>studentCount=%{marker.size}<extra></extra>",
         "legendgroup": "skill_name=Original Thinking",
         "marker": {
          "color": "#00cc96",
          "size": [
           73,
           67
          ],
          "sizemode": "area",
          "sizeref": 1.15,
          "symbol": "circle"
         },
         "mode": "markers",
         "name": "skill_name=Original Thinking",
         "showlegend": false,
         "type": "scatter",
         "uid": "4a3f248d-7da1-4603-849f-144fba3a3e40",
         "x": [
          "2014",
          "2016"
         ],
         "xaxis": "x3",
         "y": [
          1.8100000000000023,
          1.3499999999999943
         ],
         "yaxis": "y8"
        },
        {
         "hovertemplate": "<b>LOWESS trendline</b><br><br>class=10<br>skill_name=Original Thinking<br>skill_name=Original Thinking<br>year=%{x}<br>skill_delta=%{y} <b>(trend)</b><extra></extra>",
         "legendgroup": "skill_name=Original Thinking",
         "marker": {
          "color": "#00cc96",
          "symbol": "circle"
         },
         "mode": "lines",
         "name": "skill_name=Original Thinking",
         "showlegend": false,
         "type": "scatter",
         "uid": "15cef93a-ce13-4c96-af63-1ea90cbc80e6",
         "x": [
          2014,
          2016
         ],
         "xaxis": "x3",
         "y": [
          1.8100000000000023,
          1.3499999999999943
         ],
         "yaxis": "y8"
        },
        {
         "hovertemplate": "class=10<br>skill_name=Reasoning and Analysis Skills<br>skill_name=Reasoning and Analysis Skills<br>year=%{x}<br>skill_delta=%{y}<br>studentCount=%{marker.size}<extra></extra>",
         "legendgroup": "skill_name=Reasoning and Analysis Skills",
         "marker": {
          "color": "#ab63fa",
          "size": [
           73,
           67
          ],
          "sizemode": "area",
          "sizeref": 1.15,
          "symbol": "circle"
         },
         "mode": "markers",
         "name": "skill_name=Reasoning and Analysis Skills",
         "showlegend": false,
         "type": "scatter",
         "uid": "8e5f96ad-b417-4757-9009-52711d5ba33f",
         "x": [
          "2014",
          "2016"
         ],
         "xaxis": "x4",
         "y": [
          0.8000000000000043,
          3.1899999999999977
         ],
         "yaxis": "y8"
        },
        {
         "hovertemplate": "<b>LOWESS trendline</b><br><br>class=10<br>skill_name=Reasoning and Analysis Skills<br>skill_name=Reasoning and Analysis Skills<br>year=%{x}<br>skill_delta=%{y} <b>(trend)</b><extra></extra>",
         "legendgroup": "skill_name=Reasoning and Analysis Skills",
         "marker": {
          "color": "#ab63fa",
          "symbol": "circle"
         },
         "mode": "lines",
         "name": "skill_name=Reasoning and Analysis Skills",
         "showlegend": false,
         "type": "scatter",
         "uid": "70390180-bb52-4be1-879c-cdbb60840d5c",
         "x": [
          2014,
          2016
         ],
         "xaxis": "x4",
         "y": [
          0.8000000000000043,
          3.1899999999999977
         ],
         "yaxis": "y8"
        }
       ],
       "layout": {
        "annotations": [
         {
          "showarrow": false,
          "text": "skill_name=Conceptual Understanding and Comprehension",
          "textangle": 0,
          "x": 0.1153846153846154,
          "xanchor": "center",
          "xref": "paper",
          "y": 1.02,
          "yanchor": "middle",
          "yref": "paper"
         },
         {
          "showarrow": false,
          "text": "skill_name=Knowledge of Basic Science Facts",
          "textangle": 0,
          "x": 0.3717948717948718,
          "xanchor": "center",
          "xref": "paper",
          "y": 1.02,
          "yanchor": "middle",
          "yref": "paper"
         },
         {
          "showarrow": false,
          "text": "skill_name=Original Thinking",
          "textangle": 0,
          "x": 0.6282051282051283,
          "xanchor": "center",
          "xref": "paper",
          "y": 1.02,
          "yanchor": "middle",
          "yref": "paper"
         },
         {
          "showarrow": false,
          "text": "skill_name=Reasoning and Analysis Skills",
          "textangle": 0,
          "x": 0.8846153846153848,
          "xanchor": "center",
          "xref": "paper",
          "y": 1.02,
          "yanchor": "middle",
          "yref": "paper"
         },
         {
          "showarrow": false,
          "text": "class=3",
          "textangle": 90,
          "x": 1.01,
          "xanchor": "center",
          "xref": "paper",
          "y": 0.9430379746835442,
          "yanchor": "middle",
          "yref": "paper"
         },
         {
          "showarrow": false,
          "text": "class=4",
          "textangle": 90,
          "x": 1.01,
          "xanchor": "center",
          "xref": "paper",
          "y": 0.8164556962025316,
          "yanchor": "middle",
          "yref": "paper"
         },
         {
          "showarrow": false,
          "text": "class=5",
          "textangle": 90,
          "x": 1.01,
          "xanchor": "center",
          "xref": "paper",
          "y": 0.6898734177215189,
          "yanchor": "middle",
          "yref": "paper"
         },
         {
          "showarrow": false,
          "text": "class=6",
          "textangle": 90,
          "x": 1.01,
          "xanchor": "center",
          "xref": "paper",
          "y": 0.5632911392405062,
          "yanchor": "middle",
          "yref": "paper"
         },
         {
          "showarrow": false,
          "text": "class=7",
          "textangle": 90,
          "x": 1.01,
          "xanchor": "center",
          "xref": "paper",
          "y": 0.4367088607594936,
          "yanchor": "middle",
          "yref": "paper"
         },
         {
          "showarrow": false,
          "text": "class=8",
          "textangle": 90,
          "x": 1.01,
          "xanchor": "center",
          "xref": "paper",
          "y": 0.310126582278481,
          "yanchor": "middle",
          "yref": "paper"
         },
         {
          "showarrow": false,
          "text": "class=9",
          "textangle": 90,
          "x": 1.01,
          "xanchor": "center",
          "xref": "paper",
          "y": 0.18354430379746833,
          "yanchor": "middle",
          "yref": "paper"
         },
         {
          "showarrow": false,
          "text": "class=10",
          "textangle": 90,
          "x": 1.01,
          "xanchor": "center",
          "xref": "paper",
          "y": 0.05696202531645569,
          "yanchor": "middle",
          "yref": "paper"
         }
        ],
        "grid": {
         "xaxes": [
          "x",
          "x2",
          "x3",
          "x4"
         ],
         "xgap": 0.1,
         "xside": "bottom",
         "yaxes": [
          "y",
          "y2",
          "y3",
          "y4",
          "y5",
          "y6",
          "y7",
          "y8"
         ],
         "ygap": 0.1,
         "yside": "left"
        },
        "height": 2000,
        "legend": {
         "tracegroupgap": 0
        },
        "template": {
         "data": {
          "bar": [
           {
            "marker": {
             "line": {
              "color": "#E5ECF6",
              "width": 0.5
             }
            },
            "type": "bar"
           }
          ],
          "barpolar": [
           {
            "marker": {
             "line": {
              "color": "#E5ECF6",
              "width": 0.5
             }
            },
            "type": "barpolar"
           }
          ],
          "carpet": [
           {
            "aaxis": {
             "endlinecolor": "#2a3f5f",
             "gridcolor": "white",
             "linecolor": "white",
             "minorgridcolor": "white",
             "startlinecolor": "#2a3f5f"
            },
            "baxis": {
             "endlinecolor": "#2a3f5f",
             "gridcolor": "white",
             "linecolor": "white",
             "minorgridcolor": "white",
             "startlinecolor": "#2a3f5f"
            },
            "type": "carpet"
           }
          ],
          "choropleth": [
           {
            "colorbar": {
             "outlinewidth": 0,
             "ticks": ""
            },
            "type": "choropleth"
           }
          ],
          "contour": [
           {
            "autocolorscale": true,
            "colorbar": {
             "outlinewidth": 0,
             "ticks": ""
            },
            "type": "contour"
           }
          ],
          "contourcarpet": [
           {
            "colorbar": {
             "outlinewidth": 0,
             "ticks": ""
            },
            "type": "contourcarpet"
           }
          ],
          "heatmap": [
           {
            "autocolorscale": true,
            "colorbar": {
             "outlinewidth": 0,
             "ticks": ""
            },
            "type": "heatmap"
           }
          ],
          "heatmapgl": [
           {
            "colorbar": {
             "outlinewidth": 0,
             "ticks": ""
            },
            "type": "heatmapgl"
           }
          ],
          "histogram": [
           {
            "marker": {
             "colorbar": {
              "outlinewidth": 0,
              "ticks": ""
             }
            },
            "type": "histogram"
           }
          ],
          "histogram2d": [
           {
            "autocolorscale": true,
            "colorbar": {
             "outlinewidth": 0,
             "ticks": ""
            },
            "type": "histogram2d"
           }
          ],
          "histogram2dcontour": [
           {
            "autocolorscale": true,
            "colorbar": {
             "outlinewidth": 0,
             "ticks": ""
            },
            "type": "histogram2dcontour"
           }
          ],
          "mesh3d": [
           {
            "colorbar": {
             "outlinewidth": 0,
             "ticks": ""
            },
            "type": "mesh3d"
           }
          ],
          "parcoords": [
           {
            "line": {
             "colorbar": {
              "outlinewidth": 0,
              "ticks": ""
             }
            },
            "type": "parcoords"
           }
          ],
          "scatter": [
           {
            "marker": {
             "colorbar": {
              "outlinewidth": 0,
              "ticks": ""
             }
            },
            "type": "scatter"
           }
          ],
          "scatter3d": [
           {
            "marker": {
             "colorbar": {
              "outlinewidth": 0,
              "ticks": ""
             }
            },
            "type": "scatter3d"
           }
          ],
          "scattercarpet": [
           {
            "marker": {
             "colorbar": {
              "outlinewidth": 0,
              "ticks": ""
             }
            },
            "type": "scattercarpet"
           }
          ],
          "scattergeo": [
           {
            "marker": {
             "colorbar": {
              "outlinewidth": 0,
              "ticks": ""
             }
            },
            "type": "scattergeo"
           }
          ],
          "scattergl": [
           {
            "marker": {
             "colorbar": {
              "outlinewidth": 0,
              "ticks": ""
             }
            },
            "type": "scattergl"
           }
          ],
          "scattermapbox": [
           {
            "marker": {
             "colorbar": {
              "outlinewidth": 0,
              "ticks": ""
             }
            },
            "type": "scattermapbox"
           }
          ],
          "scatterpolar": [
           {
            "marker": {
             "colorbar": {
              "outlinewidth": 0,
              "ticks": ""
             }
            },
            "type": "scatterpolar"
           }
          ],
          "scatterpolargl": [
           {
            "marker": {
             "colorbar": {
              "outlinewidth": 0,
              "ticks": ""
             }
            },
            "type": "scatterpolargl"
           }
          ],
          "scatterternary": [
           {
            "marker": {
             "colorbar": {
              "outlinewidth": 0,
              "ticks": ""
             }
            },
            "type": "scatterternary"
           }
          ],
          "surface": [
           {
            "colorbar": {
             "outlinewidth": 0,
             "ticks": ""
            },
            "type": "surface"
           }
          ],
          "table": [
           {
            "cells": {
             "fill": {
              "color": "#EBF0F8"
             },
             "line": {
              "color": "white"
             }
            },
            "header": {
             "fill": {
              "color": "#C8D4E3"
             },
             "line": {
              "color": "white"
             }
            },
            "type": "table"
           }
          ]
         },
         "layout": {
          "annotationdefaults": {
           "arrowcolor": "#506784",
           "arrowhead": 0,
           "arrowwidth": 1
          },
          "colorscale": {
           "diverging": [
            [
             0,
             "#8e0152"
            ],
            [
             0.1,
             "#c51b7d"
            ],
            [
             0.2,
             "#de77ae"
            ],
            [
             0.3,
             "#f1b6da"
            ],
            [
             0.4,
             "#fde0ef"
            ],
            [
             0.5,
             "#f7f7f7"
            ],
            [
             0.6,
             "#e6f5d0"
            ],
            [
             0.7,
             "#b8e186"
            ],
            [
             0.8,
             "#7fbc41"
            ],
            [
             0.9,
             "#4d9221"
            ],
            [
             1,
             "#276419"
            ]
           ],
           "sequential": [
            [
             0,
             "#0508b8"
            ],
            [
             0.0893854748603352,
             "#1910d8"
            ],
            [
             0.1787709497206704,
             "#3c19f0"
            ],
            [
             0.2681564245810056,
             "#6b1cfb"
            ],
            [
             0.3575418994413408,
             "#981cfd"
            ],
            [
             0.44692737430167595,
             "#bf1cfd"
            ],
            [
             0.5363128491620112,
             "#dd2bfd"
            ],
            [
             0.6256983240223464,
             "#f246fe"
            ],
            [
             0.7150837988826816,
             "#fc67fd"
            ],
            [
             0.8044692737430168,
             "#fe88fc"
            ],
            [
             0.8938547486033519,
             "#fea5fd"
            ],
            [
             0.9832402234636871,
             "#febefe"
            ],
            [
             1,
             "#fec3fe"
            ]
           ],
           "sequentialminus": [
            [
             0,
             "#0508b8"
            ],
            [
             0.0893854748603352,
             "#1910d8"
            ],
            [
             0.1787709497206704,
             "#3c19f0"
            ],
            [
             0.2681564245810056,
             "#6b1cfb"
            ],
            [
             0.3575418994413408,
             "#981cfd"
            ],
            [
             0.44692737430167595,
             "#bf1cfd"
            ],
            [
             0.5363128491620112,
             "#dd2bfd"
            ],
            [
             0.6256983240223464,
             "#f246fe"
            ],
            [
             0.7150837988826816,
             "#fc67fd"
            ],
            [
             0.8044692737430168,
             "#fe88fc"
            ],
            [
             0.8938547486033519,
             "#fea5fd"
            ],
            [
             0.9832402234636871,
             "#febefe"
            ],
            [
             1,
             "#fec3fe"
            ]
           ]
          },
          "colorway": [
           "#636efa",
           "#EF553B",
           "#00cc96",
           "#ab63fa",
           "#19d3f3",
           "#e763fa",
           "#FECB52",
           "#FFA15A",
           "#FF6692",
           "#B6E880"
          ],
          "font": {
           "color": "#2a3f5f"
          },
          "geo": {
           "bgcolor": "white",
           "lakecolor": "white",
           "landcolor": "#E5ECF6",
           "showlakes": true,
           "showland": true,
           "subunitcolor": "white"
          },
          "hoverlabel": {
           "align": "left"
          },
          "hovermode": "closest",
          "legend": {
           "itemsizing": "constant"
          },
          "mapbox": {
           "style": "light"
          },
          "paper_bgcolor": "white",
          "plot_bgcolor": "#E5ECF6",
          "polar": {
           "angularaxis": {
            "gridcolor": "white",
            "linecolor": "white",
            "ticks": ""
           },
           "bgcolor": "#E5ECF6",
           "radialaxis": {
            "gridcolor": "white",
            "linecolor": "white",
            "ticks": ""
           }
          },
          "scene": {
           "xaxis": {
            "backgroundcolor": "#E5ECF6",
            "gridcolor": "white",
            "gridwidth": 2,
            "linecolor": "white",
            "showbackground": true,
            "ticks": "",
            "zerolinecolor": "white"
           },
           "yaxis": {
            "backgroundcolor": "#E5ECF6",
            "gridcolor": "white",
            "gridwidth": 2,
            "linecolor": "white",
            "showbackground": true,
            "ticks": "",
            "zerolinecolor": "white"
           },
           "zaxis": {
            "backgroundcolor": "#E5ECF6",
            "gridcolor": "white",
            "gridwidth": 2,
            "linecolor": "white",
            "showbackground": true,
            "ticks": "",
            "zerolinecolor": "white"
           }
          },
          "shapedefaults": {
           "fillcolor": "#506784",
           "line": {
            "width": 0
           },
           "opacity": 0.4
          },
          "ternary": {
           "aaxis": {
            "gridcolor": "white",
            "linecolor": "white",
            "ticks": ""
           },
           "baxis": {
            "gridcolor": "white",
            "linecolor": "white",
            "ticks": ""
           },
           "bgcolor": "#E5ECF6",
           "caxis": {
            "gridcolor": "white",
            "linecolor": "white",
            "ticks": ""
           }
          },
          "title": {
           "x": 0.05
          },
          "xaxis": {
           "automargin": true,
           "gridcolor": "white",
           "linecolor": "white",
           "ticks": "",
           "zerolinecolor": "white",
           "zerolinewidth": 2
          },
          "yaxis": {
           "automargin": true,
           "gridcolor": "white",
           "linecolor": "white",
           "ticks": "",
           "zerolinecolor": "white",
           "zerolinewidth": 2
          }
         }
        },
        "title": {
         "text": "Core Skills in Science (Sushila Birla Girls^ School-Kolkata-CBSE)"
        },
        "width": 3000,
        "xaxis": {
         "title": {
          "text": "year"
         }
        },
        "xaxis2": {
         "matches": "x",
         "title": {
          "text": "year"
         }
        },
        "xaxis3": {
         "matches": "x",
         "title": {
          "text": "year"
         }
        },
        "xaxis4": {
         "matches": "x",
         "title": {
          "text": "year"
         }
        },
        "yaxis": {
         "title": {
          "text": "skill_delta"
         }
        },
        "yaxis2": {
         "matches": "y",
         "title": {
          "text": "skill_delta"
         }
        },
        "yaxis3": {
         "matches": "y",
         "title": {
          "text": "skill_delta"
         }
        },
        "yaxis4": {
         "matches": "y",
         "title": {
          "text": "skill_delta"
         }
        },
        "yaxis5": {
         "matches": "y",
         "title": {
          "text": "skill_delta"
         }
        },
        "yaxis6": {
         "matches": "y",
         "title": {
          "text": "skill_delta"
         }
        },
        "yaxis7": {
         "matches": "y",
         "title": {
          "text": "skill_delta"
         }
        },
        "yaxis8": {
         "matches": "y",
         "title": {
          "text": "skill_delta"
         }
        }
       }
      },
      "text/html": [
       "<div>\n",
       "        \n",
       "        \n",
       "            <div id=\"b422d27e-dda2-451c-9c49-c576064b2867\" class=\"plotly-graph-div\"></div>\n",
       "            <script type=\"text/javascript\">\n",
       "                require([\"plotly\"], function(Plotly) {\n",
       "                    window.PLOTLYENV=window.PLOTLYENV || {};\n",
       "                    window.PLOTLYENV.BASE_URL='https://plot.ly';\n",
       "                    \n",
       "                if (document.getElementById(\"b422d27e-dda2-451c-9c49-c576064b2867\")) {\n",
       "                    Plotly.newPlot(\n",
       "                        'b422d27e-dda2-451c-9c49-c576064b2867',\n",
       "                        [{\"hovertemplate\": \"class=3<br>skill_name=Conceptual Understanding and Comprehension<br>skill_name=Conceptual Understanding and Comprehension<br>year=%{x}<br>skill_delta=%{y}<br>studentCount=%{marker.size}<extra></extra>\", \"legendgroup\": \"skill_name=Conceptual Understanding and Comprehension\", \"marker\": {\"color\": \"#636efa\", \"size\": [113, 18, 73, 75, 106, 109], \"sizemode\": \"area\", \"sizeref\": 1.15, \"symbol\": \"circle\"}, \"mode\": \"markers\", \"name\": \"skill_name=Conceptual Understanding and Comprehension\", \"showlegend\": true, \"type\": \"scatter\", \"uid\": \"e8db66db-01f1-4071-a64c-0b0c7fdb99e3\", \"x\": [\"2018\", \"2007\", \"2008\", \"2009\", \"2014\", \"2016\"], \"xaxis\": \"x\", \"y\": [6.699999999999996, 7.149999999999999, 4.269999999999996, 1.1799999999999926, -1.6500000000000057, 6.280000000000001], \"yaxis\": \"y\"}, {\"hovertemplate\": \"<b>LOWESS trendline</b><br><br>class=3<br>skill_name=Conceptual Understanding and Comprehension<br>skill_name=Conceptual Understanding and Comprehension<br>year=%{x}<br>skill_delta=%{y} <b>(trend)</b><extra></extra>\", \"legendgroup\": \"skill_name=Conceptual Understanding and Comprehension\", \"marker\": {\"color\": \"#636efa\", \"symbol\": \"circle\"}, \"mode\": \"lines\", \"name\": \"skill_name=Conceptual Understanding and Comprehension\", \"showlegend\": false, \"type\": \"scatter\", \"uid\": \"4e513308-8154-47a2-9bfd-723dfe7991a3\", \"x\": [2007.0, 2008.0, 2009.0, 2014.0, 2016.0, 2018.0], \"xaxis\": \"x\", \"y\": [7.177459803311247, 4.193133687635075, 1.2065421736968656, -1.6500000000001522, 2.524999999999995, 6.700000000000102], \"yaxis\": \"y\"}, {\"hovertemplate\": \"class=3<br>skill_name=Knowledge of Basic Science Facts<br>skill_name=Knowledge of Basic Science Facts<br>year=%{x}<br>skill_delta=%{y}<br>studentCount=%{marker.size}<extra></extra>\", \"legendgroup\": \"skill_name=Knowledge of Basic Science Facts\", \"marker\": {\"color\": \"#EF553B\", \"size\": [113, 18, 73, 75, 106, 109], \"sizemode\": \"area\", \"sizeref\": 1.15, \"symbol\": \"circle\"}, \"mode\": \"markers\", \"name\": \"skill_name=Knowledge of Basic Science Facts\", \"showlegend\": true, \"type\": \"scatter\", \"uid\": \"0a86aa3a-ef40-4dcd-b39f-3c03dd89085e\", \"x\": [\"2018\", \"2007\", \"2008\", \"2009\", \"2014\", \"2016\"], \"xaxis\": \"x2\", \"y\": [2.3000000000000043, 8.46, 6.909999999999997, 5.450000000000003, 0.5799999999999983, 3.4200000000000017], \"yaxis\": \"y\"}, {\"hovertemplate\": \"<b>LOWESS trendline</b><br><br>class=3<br>skill_name=Knowledge of Basic Science Facts<br>skill_name=Knowledge of Basic Science Facts<br>year=%{x}<br>skill_delta=%{y} <b>(trend)</b><extra></extra>\", \"legendgroup\": \"skill_name=Knowledge of Basic Science Facts\", \"marker\": {\"color\": \"#EF553B\", \"symbol\": \"circle\"}, \"mode\": \"lines\", \"name\": \"skill_name=Knowledge of Basic Science Facts\", \"showlegend\": false, \"type\": \"scatter\", \"uid\": \"b7995a69-42b5-44d4-b7f1-cd03cc6f70b4\", \"x\": [2007.0, 2008.0, 2009.0, 2014.0, 2016.0, 2018.0], \"xaxis\": \"x2\", \"y\": [8.448228692995299, 6.942939808392143, 5.438622101391019, 0.5799999999999844, 1.4400000000000013, 2.3000000000000393], \"yaxis\": \"y\"}, {\"hovertemplate\": \"class=3<br>skill_name=Original Thinking<br>skill_name=Original Thinking<br>year=%{x}<br>skill_delta=%{y}<br>studentCount=%{marker.size}<extra></extra>\", \"legendgroup\": \"skill_name=Original Thinking\", \"marker\": {\"color\": \"#00cc96\", \"size\": [113, 18, 73, 75, 106, 109], \"sizemode\": \"area\", \"sizeref\": 1.15, \"symbol\": \"circle\"}, \"mode\": \"markers\", \"name\": \"skill_name=Original Thinking\", \"showlegend\": true, \"type\": \"scatter\", \"uid\": \"c64f8bcf-08f8-4f55-b120-23e48aa46317\", \"x\": [\"2018\", \"2007\", \"2008\", \"2009\", \"2014\", \"2016\"], \"xaxis\": \"x3\", \"y\": [1.9699999999999989, -0.39000000000000057, 5.140000000000001, 5.520000000000003, -4.200000000000003, 3.3800000000000026], \"yaxis\": \"y\"}, {\"hovertemplate\": \"<b>LOWESS trendline</b><br><br>class=3<br>skill_name=Original Thinking<br>skill_name=Original Thinking<br>year=%{x}<br>skill_delta=%{y} <b>(trend)</b><extra></extra>\", \"legendgroup\": \"skill_name=Original Thinking\", \"marker\": {\"color\": \"#00cc96\", \"symbol\": \"circle\"}, \"mode\": \"lines\", \"name\": \"skill_name=Original Thinking\", \"showlegend\": false, \"type\": \"scatter\", \"uid\": \"2cccb682-3512-4d77-a854-4d25a6150aef\", \"x\": [2007.0, 2008.0, 2009.0, 2014.0, 2016.0, 2018.0], \"xaxis\": \"x3\", \"y\": [0.3185419943071053, 3.291304173813228, 6.204795735289185, -3.939914420471275, -0.6726592675447092, 2.376274509445592], \"yaxis\": \"y\"}, {\"hovertemplate\": \"class=3<br>skill_name=Reasoning and Analysis Skills<br>skill_name=Reasoning and Analysis Skills<br>year=%{x}<br>skill_delta=%{y}<br>studentCount=%{marker.size}<extra></extra>\", \"legendgroup\": \"skill_name=Reasoning and Analysis Skills\", \"marker\": {\"color\": \"#ab63fa\", \"size\": [113, 18, 73, 75, 106, 109], \"sizemode\": \"area\", \"sizeref\": 1.15, \"symbol\": \"circle\"}, \"mode\": \"markers\", \"name\": \"skill_name=Reasoning and Analysis Skills\", \"showlegend\": true, \"type\": \"scatter\", \"uid\": \"eb9b9d65-b951-4401-8ef7-3bb0fe32f3be\", \"x\": [\"2018\", \"2007\", \"2008\", \"2009\", \"2014\", \"2016\"], \"xaxis\": \"x4\", \"y\": [1.7800000000000011, 2.1199999999999974, 0.8800000000000026, 4.800000000000004, -3.729999999999997, 6.850000000000001], \"yaxis\": \"y\"}, {\"hovertemplate\": \"<b>LOWESS trendline</b><br><br>class=3<br>skill_name=Reasoning and Analysis Skills<br>skill_name=Reasoning and Analysis Skills<br>year=%{x}<br>skill_delta=%{y} <b>(trend)</b><extra></extra>\", \"legendgroup\": \"skill_name=Reasoning and Analysis Skills\", \"marker\": {\"color\": \"#ab63fa\", \"symbol\": \"circle\"}, \"mode\": \"lines\", \"name\": \"skill_name=Reasoning and Analysis Skills\", \"showlegend\": false, \"type\": \"scatter\", \"uid\": \"6beeea61-3d22-4787-ae1b-72cf754c8c7e\", \"x\": [2007.0, 2008.0, 2009.0, 2014.0, 2016.0, 2018.0], \"xaxis\": \"x4\", \"y\": [1.4133032048131349, 2.735796051713682, 4.117310580123481, -3.7299999999993863, -0.9749999999998599, 1.7799999999996359], \"yaxis\": \"y\"}, {\"hovertemplate\": \"class=4<br>skill_name=Conceptual Understanding and Comprehension<br>skill_name=Conceptual Understanding and Comprehension<br>year=%{x}<br>skill_delta=%{y}<br>studentCount=%{marker.size}<extra></extra>\", \"legendgroup\": \"skill_name=Conceptual Understanding and Comprehension\", \"marker\": {\"color\": \"#636efa\", \"size\": [113, 12, 73, 75, 104, 112], \"sizemode\": \"area\", \"sizeref\": 1.15, \"symbol\": \"circle\"}, \"mode\": \"markers\", \"name\": \"skill_name=Conceptual Understanding and Comprehension\", \"showlegend\": false, \"type\": \"scatter\", \"uid\": \"97a1456f-594d-4f5e-abe4-770a011bc5be\", \"x\": [\"2018\", \"2007\", \"2008\", \"2009\", \"2014\", \"2016\"], \"xaxis\": \"x\", \"y\": [5.07, -3.229999999999997, 0.9099999999999966, 2.4399999999999977, -0.779999999999994, -0.19999999999999574], \"yaxis\": \"y2\"}, {\"hovertemplate\": \"<b>LOWESS trendline</b><br><br>class=4<br>skill_name=Conceptual Understanding and Comprehension<br>skill_name=Conceptual Understanding and Comprehension<br>year=%{x}<br>skill_delta=%{y} <b>(trend)</b><extra></extra>\", \"legendgroup\": \"skill_name=Conceptual Understanding and Comprehension\", \"marker\": {\"color\": \"#636efa\", \"symbol\": \"circle\"}, \"mode\": \"lines\", \"name\": \"skill_name=Conceptual Understanding and Comprehension\", \"showlegend\": false, \"type\": \"scatter\", \"uid\": \"79d78f66-0a73-42d6-9ca5-769a1ac31a49\", \"x\": [2007.0, 2008.0, 2009.0, 2014.0, 2016.0, 2018.0], \"xaxis\": \"x\", \"y\": [-2.869973557216703, -0.02594455134621254, 2.7879465049439736, -0.8997869640767251, 1.9475412333486903, 4.888558946298229], \"yaxis\": \"y2\"}, {\"hovertemplate\": \"class=4<br>skill_name=Knowledge of Basic Science Facts<br>skill_name=Knowledge of Basic Science Facts<br>year=%{x}<br>skill_delta=%{y}<br>studentCount=%{marker.size}<extra></extra>\", \"legendgroup\": \"skill_name=Knowledge of Basic Science Facts\", \"marker\": {\"color\": \"#EF553B\", \"size\": [113, 12, 73, 75, 104, 112], \"sizemode\": \"area\", \"sizeref\": 1.15, \"symbol\": \"circle\"}, \"mode\": \"markers\", \"name\": \"skill_name=Knowledge of Basic Science Facts\", \"showlegend\": false, \"type\": \"scatter\", \"uid\": \"8b2ee286-9825-47cd-856f-aa59e9868234\", \"x\": [\"2018\", \"2007\", \"2008\", \"2009\", \"2014\", \"2016\"], \"xaxis\": \"x2\", \"y\": [3.5899999999999963, -4.210000000000001, -3.6899999999999977, 0.37999999999999545, 3.539999999999992, -1.8599999999999994], \"yaxis\": \"y2\"}, {\"hovertemplate\": \"<b>LOWESS trendline</b><br><br>class=4<br>skill_name=Knowledge of Basic Science Facts<br>skill_name=Knowledge of Basic Science Facts<br>year=%{x}<br>skill_delta=%{y} <b>(trend)</b><extra></extra>\", \"legendgroup\": \"skill_name=Knowledge of Basic Science Facts\", \"marker\": {\"color\": \"#EF553B\", \"symbol\": \"circle\"}, \"mode\": \"lines\", \"name\": \"skill_name=Knowledge of Basic Science Facts\", \"showlegend\": false, \"type\": \"scatter\", \"uid\": \"278521ce-44f5-4e3c-8835-b1b56ffc0875\", \"x\": [2007.0, 2008.0, 2009.0, 2014.0, 2016.0, 2018.0], \"xaxis\": \"x2\", \"y\": [-4.696224689506667, -2.413270116491403, -0.08970655380996423, 3.539999999999942, 3.5649999999999973, 3.5899999999994896], \"yaxis\": \"y2\"}, {\"hovertemplate\": \"class=4<br>skill_name=Original Thinking<br>skill_name=Original Thinking<br>year=%{x}<br>skill_delta=%{y}<br>studentCount=%{marker.size}<extra></extra>\", \"legendgroup\": \"skill_name=Original Thinking\", \"marker\": {\"color\": \"#00cc96\", \"size\": [113, 12, 73, 75, 104, 112], \"sizemode\": \"area\", \"sizeref\": 1.15, \"symbol\": \"circle\"}, \"mode\": \"markers\", \"name\": \"skill_name=Original Thinking\", \"showlegend\": false, \"type\": \"scatter\", \"uid\": \"0fdcd82c-3014-4f29-90bf-37ef3f8b31d4\", \"x\": [\"2018\", \"2007\", \"2008\", \"2009\", \"2014\", \"2016\"], \"xaxis\": \"x3\", \"y\": [2.760000000000005, 0.740000000000002, 1.3499999999999943, -0.21000000000000085, 1.6199999999999974, 10.119999999999997], \"yaxis\": \"y2\"}, {\"hovertemplate\": \"<b>LOWESS trendline</b><br><br>class=4<br>skill_name=Original Thinking<br>skill_name=Original Thinking<br>year=%{x}<br>skill_delta=%{y} <b>(trend)</b><extra></extra>\", \"legendgroup\": \"skill_name=Original Thinking\", \"marker\": {\"color\": \"#00cc96\", \"symbol\": \"circle\"}, \"mode\": \"lines\", \"name\": \"skill_name=Original Thinking\", \"showlegend\": false, \"type\": \"scatter\", \"uid\": \"377bd25b-269a-475c-a537-f4c147d588a2\", \"x\": [2007.0, 2008.0, 2009.0, 2014.0, 2016.0, 2018.0], \"xaxis\": \"x3\", \"y\": [1.0213821631652662, 0.5532809480094283, 0.06201604949410866, 1.62000000000001, 2.1900000000000013, 2.760000000000045], \"yaxis\": \"y2\"}, {\"hovertemplate\": \"class=4<br>skill_name=Reasoning and Analysis Skills<br>skill_name=Reasoning and Analysis Skills<br>year=%{x}<br>skill_delta=%{y}<br>studentCount=%{marker.size}<extra></extra>\", \"legendgroup\": \"skill_name=Reasoning and Analysis Skills\", \"marker\": {\"color\": \"#ab63fa\", \"size\": [113, 12, 73, 75, 104, 112], \"sizemode\": \"area\", \"sizeref\": 1.15, \"symbol\": \"circle\"}, \"mode\": \"markers\", \"name\": \"skill_name=Reasoning and Analysis Skills\", \"showlegend\": false, \"type\": \"scatter\", \"uid\": \"ec4df5ca-c69a-4e34-b0cc-a73b5676cbaf\", \"x\": [\"2018\", \"2007\", \"2008\", \"2009\", \"2014\", \"2016\"], \"xaxis\": \"x4\", \"y\": [2.3799999999999955, -5.030000000000001, 0.4799999999999969, 2.25, -0.6499999999999986, 3.6400000000000006], \"yaxis\": \"y2\"}, {\"hovertemplate\": \"<b>LOWESS trendline</b><br><br>class=4<br>skill_name=Reasoning and Analysis Skills<br>skill_name=Reasoning and Analysis Skills<br>year=%{x}<br>skill_delta=%{y} <b>(trend)</b><extra></extra>\", \"legendgroup\": \"skill_name=Reasoning and Analysis Skills\", \"marker\": {\"color\": \"#ab63fa\", \"symbol\": \"circle\"}, \"mode\": \"lines\", \"name\": \"skill_name=Reasoning and Analysis Skills\", \"showlegend\": false, \"type\": \"scatter\", \"uid\": \"c8faf6cc-5627-41e1-bf5f-3a9c8645679f\", \"x\": [2007.0, 2008.0, 2009.0, 2014.0, 2016.0, 2018.0], \"xaxis\": \"x4\", \"y\": [-4.526814094705081, -0.8742615257148809, 2.7364508441907565, -0.41469945428961463, 1.3226521137103275, 2.799255381226782], \"yaxis\": \"y2\"}, {\"hovertemplate\": \"class=5<br>skill_name=Conceptual Understanding and Comprehension<br>skill_name=Conceptual Understanding and Comprehension<br>year=%{x}<br>skill_delta=%{y}<br>studentCount=%{marker.size}<extra></extra>\", \"legendgroup\": \"skill_name=Conceptual Understanding and Comprehension\", \"marker\": {\"color\": \"#636efa\", \"size\": [113, 12, 74, 75, 107, 105], \"sizemode\": \"area\", \"sizeref\": 1.15, \"symbol\": \"circle\"}, \"mode\": \"markers\", \"name\": \"skill_name=Conceptual Understanding and Comprehension\", \"showlegend\": false, \"type\": \"scatter\", \"uid\": \"079bc506-ba07-4aab-a125-65338ebc3498\", \"x\": [\"2018\", \"2007\", \"2008\", \"2009\", \"2014\", \"2016\"], \"xaxis\": \"x\", \"y\": [0.10000000000000142, 3.700000000000003, -1.4500000000000028, 0.1700000000000017, 3.0500000000000043, -0.5800000000000054], \"yaxis\": \"y3\"}, {\"hovertemplate\": \"<b>LOWESS trendline</b><br><br>class=5<br>skill_name=Conceptual Understanding and Comprehension<br>skill_name=Conceptual Understanding and Comprehension<br>year=%{x}<br>skill_delta=%{y} <b>(trend)</b><extra></extra>\", \"legendgroup\": \"skill_name=Conceptual Understanding and Comprehension\", \"marker\": {\"color\": \"#636efa\", \"symbol\": \"circle\"}, \"mode\": \"lines\", \"name\": \"skill_name=Conceptual Understanding and Comprehension\", \"showlegend\": false, \"type\": \"scatter\", \"uid\": \"c0c18f35-24a8-41c5-8d90-296080796914\", \"x\": [2007.0, 2008.0, 2009.0, 2014.0, 2016.0, 2018.0], \"xaxis\": \"x\", \"y\": [2.894166970696425, 1.1095985952388656, -0.6100295078534277, 2.7720818494292336, 0.8915604198771685, -0.514773040294546], \"yaxis\": \"y3\"}, {\"hovertemplate\": \"class=5<br>skill_name=Knowledge of Basic Science Facts<br>skill_name=Knowledge of Basic Science Facts<br>year=%{x}<br>skill_delta=%{y}<br>studentCount=%{marker.size}<extra></extra>\", \"legendgroup\": \"skill_name=Knowledge of Basic Science Facts\", \"marker\": {\"color\": \"#EF553B\", \"size\": [113, 12, 74, 75, 107, 105], \"sizemode\": \"area\", \"sizeref\": 1.15, \"symbol\": \"circle\"}, \"mode\": \"markers\", \"name\": \"skill_name=Knowledge of Basic Science Facts\", \"showlegend\": false, \"type\": \"scatter\", \"uid\": \"ad7a8112-3280-4242-b6e4-ef54f3b1dc0b\", \"x\": [\"2018\", \"2007\", \"2008\", \"2009\", \"2014\", \"2016\"], \"xaxis\": \"x2\", \"y\": [6.200000000000003, 10.399999999999999, 5.25, 8.539999999999992, -0.23000000000000398, -3.960000000000001], \"yaxis\": \"y3\"}, {\"hovertemplate\": \"<b>LOWESS trendline</b><br><br>class=5<br>skill_name=Knowledge of Basic Science Facts<br>skill_name=Knowledge of Basic Science Facts<br>year=%{x}<br>skill_delta=%{y} <b>(trend)</b><extra></extra>\", \"legendgroup\": \"skill_name=Knowledge of Basic Science Facts\", \"marker\": {\"color\": \"#EF553B\", \"symbol\": \"circle\"}, \"mode\": \"lines\", \"name\": \"skill_name=Knowledge of Basic Science Facts\", \"showlegend\": false, \"type\": \"scatter\", \"uid\": \"a57693d5-b5fd-4f91-a59a-ffce5abbc8de\", \"x\": [2007.0, 2008.0, 2009.0, 2014.0, 2016.0, 2018.0], \"xaxis\": \"x2\", \"y\": [9.246423074939326, 8.287541512000121, 7.424987629450934, -0.7133745500601923, 2.115157391481885, 5.401830765919488], \"yaxis\": \"y3\"}, {\"hovertemplate\": \"class=5<br>skill_name=Original Thinking<br>skill_name=Original Thinking<br>year=%{x}<br>skill_delta=%{y}<br>studentCount=%{marker.size}<extra></extra>\", \"legendgroup\": \"skill_name=Original Thinking\", \"marker\": {\"color\": \"#00cc96\", \"size\": [113, 12, 74, 75, 107, 105], \"sizemode\": \"area\", \"sizeref\": 1.15, \"symbol\": \"circle\"}, \"mode\": \"markers\", \"name\": \"skill_name=Original Thinking\", \"showlegend\": false, \"type\": \"scatter\", \"uid\": \"faba945e-a8ff-43fa-a51b-4193ded8c240\", \"x\": [\"2018\", \"2007\", \"2008\", \"2009\", \"2014\", \"2016\"], \"xaxis\": \"x3\", \"y\": [0.3200000000000003, 5.049999999999997, -2.9300000000000033, 5.57, 4.469999999999999, -1.720000000000006], \"yaxis\": \"y3\"}, {\"hovertemplate\": \"<b>LOWESS trendline</b><br><br>class=5<br>skill_name=Original Thinking<br>skill_name=Original Thinking<br>year=%{x}<br>skill_delta=%{y} <b>(trend)</b><extra></extra>\", \"legendgroup\": \"skill_name=Original Thinking\", \"marker\": {\"color\": \"#00cc96\", \"symbol\": \"circle\"}, \"mode\": \"lines\", \"name\": \"skill_name=Original Thinking\", \"showlegend\": false, \"type\": \"scatter\", \"uid\": \"24db69d1-93c1-412a-a9e0-68783f9b6dbb\", \"x\": [2007.0, 2008.0, 2009.0, 2014.0, 2016.0, 2018.0], \"xaxis\": \"x3\", \"y\": [3.090654251289146, 3.303080752361046, 3.6733625289459377, 3.9242541782794738, 1.0353332136115383, -0.897283716603767], \"yaxis\": \"y3\"}, {\"hovertemplate\": \"class=5<br>skill_name=Reasoning and Analysis Skills<br>skill_name=Reasoning and Analysis Skills<br>year=%{x}<br>skill_delta=%{y}<br>studentCount=%{marker.size}<extra></extra>\", \"legendgroup\": \"skill_name=Reasoning and Analysis Skills\", \"marker\": {\"color\": \"#ab63fa\", \"size\": [113, 12, 74, 75, 107, 105], \"sizemode\": \"area\", \"sizeref\": 1.15, \"symbol\": \"circle\"}, \"mode\": \"markers\", \"name\": \"skill_name=Reasoning and Analysis Skills\", \"showlegend\": false, \"type\": \"scatter\", \"uid\": \"86cb0daa-c82b-463f-bc78-4a9f5c990981\", \"x\": [\"2018\", \"2007\", \"2008\", \"2009\", \"2014\", \"2016\"], \"xaxis\": \"x4\", \"y\": [-1.0, 6.880000000000003, -5.030000000000001, 3.8800000000000026, 5.130000000000003, 0.7999999999999972], \"yaxis\": \"y3\"}, {\"hovertemplate\": \"<b>LOWESS trendline</b><br><br>class=5<br>skill_name=Reasoning and Analysis Skills<br>skill_name=Reasoning and Analysis Skills<br>year=%{x}<br>skill_delta=%{y} <b>(trend)</b><extra></extra>\", \"legendgroup\": \"skill_name=Reasoning and Analysis Skills\", \"marker\": {\"color\": \"#ab63fa\", \"symbol\": \"circle\"}, \"mode\": \"lines\", \"name\": \"skill_name=Reasoning and Analysis Skills\", \"showlegend\": false, \"type\": \"scatter\", \"uid\": \"d9959caf-87a4-4357-b56a-e61b90a4a12c\", \"x\": [2007.0, 2008.0, 2009.0, 2014.0, 2016.0, 2018.0], \"xaxis\": \"x4\", \"y\": [6.88000000000009, 5.379999999999719, 3.880000000000082, 4.994529765875218, 1.7505975854559157, -1.293064154838941], \"yaxis\": \"y3\"}, {\"hovertemplate\": \"class=6<br>skill_name=Conceptual Understanding and Comprehension<br>skill_name=Conceptual Understanding and Comprehension<br>year=%{x}<br>skill_delta=%{y}<br>studentCount=%{marker.size}<extra></extra>\", \"legendgroup\": \"skill_name=Conceptual Understanding and Comprehension\", \"marker\": {\"color\": \"#636efa\", \"size\": [111, 17, 73, 79, 82, 100], \"sizemode\": \"area\", \"sizeref\": 1.15, \"symbol\": \"circle\"}, \"mode\": \"markers\", \"name\": \"skill_name=Conceptual Understanding and Comprehension\", \"showlegend\": false, \"type\": \"scatter\", \"uid\": \"be7f6791-e5c8-4818-9e4c-1c9fd07e5159\", \"x\": [\"2018\", \"2007\", \"2008\", \"2009\", \"2014\", \"2016\"], \"xaxis\": \"x\", \"y\": [8.11, 7.210000000000001, 1.8699999999999974, -1.8800000000000026, 10.700000000000003, 4.479999999999997], \"yaxis\": \"y4\"}, {\"hovertemplate\": \"<b>LOWESS trendline</b><br><br>class=6<br>skill_name=Conceptual Understanding and Comprehension<br>skill_name=Conceptual Understanding and Comprehension<br>year=%{x}<br>skill_delta=%{y} <b>(trend)</b><extra></extra>\", \"legendgroup\": \"skill_name=Conceptual Understanding and Comprehension\", \"marker\": {\"color\": \"#636efa\", \"symbol\": \"circle\"}, \"mode\": \"lines\", \"name\": \"skill_name=Conceptual Understanding and Comprehension\", \"showlegend\": false, \"type\": \"scatter\", \"uid\": \"3c3c3e21-a4d5-4451-9299-fb693b4503ce\", \"x\": [2007.0, 2008.0, 2009.0, 2014.0, 2016.0, 2018.0], \"xaxis\": \"x\", \"y\": [7.004258051426316, 2.4542149705307197, -2.0789003089053093, 10.700000000000228, 9.405000000000001, 8.110000000000106], \"yaxis\": \"y4\"}, {\"hovertemplate\": \"class=6<br>skill_name=Knowledge of Basic Science Facts<br>skill_name=Knowledge of Basic Science Facts<br>year=%{x}<br>skill_delta=%{y}<br>studentCount=%{marker.size}<extra></extra>\", \"legendgroup\": \"skill_name=Knowledge of Basic Science Facts\", \"marker\": {\"color\": \"#EF553B\", \"size\": [111, 17, 73, 79, 82, 100], \"sizemode\": \"area\", \"sizeref\": 1.15, \"symbol\": \"circle\"}, \"mode\": \"markers\", \"name\": \"skill_name=Knowledge of Basic Science Facts\", \"showlegend\": false, \"type\": \"scatter\", \"uid\": \"bfb2f1d4-ffd0-4e91-a84d-6aa4e5324d41\", \"x\": [\"2018\", \"2007\", \"2008\", \"2009\", \"2014\", \"2016\"], \"xaxis\": \"x2\", \"y\": [3.9299999999999997, 9.560000000000002, 9.170000000000002, 3.960000000000001, 4.579999999999998, 7.5], \"yaxis\": \"y4\"}, {\"hovertemplate\": \"<b>LOWESS trendline</b><br><br>class=6<br>skill_name=Knowledge of Basic Science Facts<br>skill_name=Knowledge of Basic Science Facts<br>year=%{x}<br>skill_delta=%{y} <b>(trend)</b><extra></extra>\", \"legendgroup\": \"skill_name=Knowledge of Basic Science Facts\", \"marker\": {\"color\": \"#EF553B\", \"symbol\": \"circle\"}, \"mode\": \"lines\", \"name\": \"skill_name=Knowledge of Basic Science Facts\", \"showlegend\": false, \"type\": \"scatter\", \"uid\": \"b5f48bb0-f84d-4f58-bf74-2efe6e4c5de2\", \"x\": [2007.0, 2008.0, 2009.0, 2014.0, 2016.0, 2018.0], \"xaxis\": \"x2\", \"y\": [10.195487306106944, 7.411263662853851, 4.574482386403891, 4.887213014133974, 4.885296970235438, 4.506559666044444], \"yaxis\": \"y4\"}, {\"hovertemplate\": \"class=6<br>skill_name=Original Thinking<br>skill_name=Original Thinking<br>year=%{x}<br>skill_delta=%{y}<br>studentCount=%{marker.size}<extra></extra>\", \"legendgroup\": \"skill_name=Original Thinking\", \"marker\": {\"color\": \"#00cc96\", \"size\": [111, 17, 73, 79, 82, 100], \"sizemode\": \"area\", \"sizeref\": 1.15, \"symbol\": \"circle\"}, \"mode\": \"markers\", \"name\": \"skill_name=Original Thinking\", \"showlegend\": false, \"type\": \"scatter\", \"uid\": \"f1c74636-5d97-4c83-bad7-fb97a250b239\", \"x\": [\"2018\", \"2007\", \"2008\", \"2009\", \"2014\", \"2016\"], \"xaxis\": \"x3\", \"y\": [5.050000000000004, 8.980000000000004, 5.349999999999994, -0.6300000000000026, 5.810000000000002, 1.6999999999999957], \"yaxis\": \"y4\"}, {\"hovertemplate\": \"<b>LOWESS trendline</b><br><br>class=6<br>skill_name=Original Thinking<br>skill_name=Original Thinking<br>year=%{x}<br>skill_delta=%{y} <b>(trend)</b><extra></extra>\", \"legendgroup\": \"skill_name=Original Thinking\", \"marker\": {\"color\": \"#00cc96\", \"symbol\": \"circle\"}, \"mode\": \"lines\", \"name\": \"skill_name=Original Thinking\", \"showlegend\": false, \"type\": \"scatter\", \"uid\": \"330cb1f3-1b0a-40b9-af1f-8b136852a6fe\", \"x\": [2007.0, 2008.0, 2009.0, 2014.0, 2016.0, 2018.0], \"xaxis\": \"x3\", \"y\": [9.30191939898019, 4.50489450132696, -0.3190179323951261, 5.81000000000009, 5.4300000000000175, 5.050000000000582], \"yaxis\": \"y4\"}, {\"hovertemplate\": \"class=6<br>skill_name=Reasoning and Analysis Skills<br>skill_name=Reasoning and Analysis Skills<br>year=%{x}<br>skill_delta=%{y}<br>studentCount=%{marker.size}<extra></extra>\", \"legendgroup\": \"skill_name=Reasoning and Analysis Skills\", \"marker\": {\"color\": \"#ab63fa\", \"size\": [111, 17, 73, 79, 82, 100], \"sizemode\": \"area\", \"sizeref\": 1.15, \"symbol\": \"circle\"}, \"mode\": \"markers\", \"name\": \"skill_name=Reasoning and Analysis Skills\", \"showlegend\": false, \"type\": \"scatter\", \"uid\": \"d18e9588-4094-4713-b0d1-ff86f9f9bcfa\", \"x\": [\"2018\", \"2007\", \"2008\", \"2009\", \"2014\", \"2016\"], \"xaxis\": \"x4\", \"y\": [4.359999999999999, 14.619999999999997, 6.079999999999998, 3.030000000000001, 2.8900000000000006, 2.5], \"yaxis\": \"y4\"}, {\"hovertemplate\": \"<b>LOWESS trendline</b><br><br>class=6<br>skill_name=Reasoning and Analysis Skills<br>skill_name=Reasoning and Analysis Skills<br>year=%{x}<br>skill_delta=%{y} <b>(trend)</b><extra></extra>\", \"legendgroup\": \"skill_name=Reasoning and Analysis Skills\", \"marker\": {\"color\": \"#ab63fa\", \"symbol\": \"circle\"}, \"mode\": \"lines\", \"name\": \"skill_name=Reasoning and Analysis Skills\", \"showlegend\": false, \"type\": \"scatter\", \"uid\": \"decd298c-d4c0-4e38-b4d0-5bd34ba5a0cd\", \"x\": [2007.0, 2008.0, 2009.0, 2014.0, 2016.0, 2018.0], \"xaxis\": \"x4\", \"y\": [13.998209062344761, 8.188196063160582, 2.427705667154224, 2.7390645100724442, 3.2471680856045526, 4.022496417749476], \"yaxis\": \"y4\"}, {\"hovertemplate\": \"class=7<br>skill_name=Conceptual Understanding and Comprehension<br>skill_name=Conceptual Understanding and Comprehension<br>year=%{x}<br>skill_delta=%{y}<br>studentCount=%{marker.size}<extra></extra>\", \"legendgroup\": \"skill_name=Conceptual Understanding and Comprehension\", \"marker\": {\"color\": \"#636efa\", \"size\": [115, 4, 46, 74, 78, 100], \"sizemode\": \"area\", \"sizeref\": 1.15, \"symbol\": \"circle\"}, \"mode\": \"markers\", \"name\": \"skill_name=Conceptual Understanding and Comprehension\", \"showlegend\": false, \"type\": \"scatter\", \"uid\": \"b6fa0919-4c87-4655-a4e3-556b55dba31d\", \"x\": [\"2018\", \"2007\", \"2008\", \"2009\", \"2014\", \"2016\"], \"xaxis\": \"x\", \"y\": [9.930000000000007, 11.239999999999995, 6.439999999999998, 3.9200000000000017, 3.9299999999999997, 3.8100000000000023], \"yaxis\": \"y5\"}, {\"hovertemplate\": \"<b>LOWESS trendline</b><br><br>class=7<br>skill_name=Conceptual Understanding and Comprehension<br>skill_name=Conceptual Understanding and Comprehension<br>year=%{x}<br>skill_delta=%{y} <b>(trend)</b><extra></extra>\", \"legendgroup\": \"skill_name=Conceptual Understanding and Comprehension\", \"marker\": {\"color\": \"#636efa\", \"symbol\": \"circle\"}, \"mode\": \"lines\", \"name\": \"skill_name=Conceptual Understanding and Comprehension\", \"showlegend\": false, \"type\": \"scatter\", \"uid\": \"12224726-b4c9-42de-be28-8845ea791e8a\", \"x\": [2007.0, 2008.0, 2009.0, 2014.0, 2016.0, 2018.0], \"xaxis\": \"x\", \"y\": [10.92821596258279, 7.260493778548538, 3.6188004284383877, 3.929999999999905, 6.930000000000337, 9.929999999999577], \"yaxis\": \"y5\"}, {\"hovertemplate\": \"class=7<br>skill_name=Knowledge of Basic Science Facts<br>skill_name=Knowledge of Basic Science Facts<br>year=%{x}<br>skill_delta=%{y}<br>studentCount=%{marker.size}<extra></extra>\", \"legendgroup\": \"skill_name=Knowledge of Basic Science Facts\", \"marker\": {\"color\": \"#EF553B\", \"size\": [115, 4, 46, 74, 78, 100], \"sizemode\": \"area\", \"sizeref\": 1.15, \"symbol\": \"circle\"}, \"mode\": \"markers\", \"name\": \"skill_name=Knowledge of Basic Science Facts\", \"showlegend\": false, \"type\": \"scatter\", \"uid\": \"8ce0e6d1-ced7-492d-a0a1-a1fa062cf27e\", \"x\": [\"2018\", \"2007\", \"2008\", \"2009\", \"2014\", \"2016\"], \"xaxis\": \"x2\", \"y\": [7.57, -0.990000000000002, 12.560000000000002, 0.3200000000000003, 6.169999999999995, 2.039999999999999], \"yaxis\": \"y5\"}, {\"hovertemplate\": \"<b>LOWESS trendline</b><br><br>class=7<br>skill_name=Knowledge of Basic Science Facts<br>skill_name=Knowledge of Basic Science Facts<br>year=%{x}<br>skill_delta=%{y} <b>(trend)</b><extra></extra>\", \"legendgroup\": \"skill_name=Knowledge of Basic Science Facts\", \"marker\": {\"color\": \"#EF553B\", \"symbol\": \"circle\"}, \"mode\": \"lines\", \"name\": \"skill_name=Knowledge of Basic Science Facts\", \"showlegend\": false, \"type\": \"scatter\", \"uid\": \"7b7e7f08-27d0-47c1-91cc-196bcb434ac4\", \"x\": [2007.0, 2008.0, 2009.0, 2014.0, 2016.0, 2018.0], \"xaxis\": \"x2\", \"y\": [1.7501184622555759, 2.470776435521792, 2.976342593493278, 5.520234521099858, 5.241762336996483, 6.116361193314592], \"yaxis\": \"y5\"}, {\"hovertemplate\": \"class=7<br>skill_name=Original Thinking<br>skill_name=Original Thinking<br>year=%{x}<br>skill_delta=%{y}<br>studentCount=%{marker.size}<extra></extra>\", \"legendgroup\": \"skill_name=Original Thinking\", \"marker\": {\"color\": \"#00cc96\", \"size\": [115, 4, 46, 74, 78, 100], \"sizemode\": \"area\", \"sizeref\": 1.15, \"symbol\": \"circle\"}, \"mode\": \"markers\", \"name\": \"skill_name=Original Thinking\", \"showlegend\": false, \"type\": \"scatter\", \"uid\": \"238a9fea-9985-4cf3-a99e-70c65e7e86c5\", \"x\": [\"2018\", \"2007\", \"2008\", \"2009\", \"2014\", \"2016\"], \"xaxis\": \"x3\", \"y\": [6.380000000000003, 3.91, 2.1899999999999977, 3.210000000000001, 8.0, 1.4299999999999997], \"yaxis\": \"y5\"}, {\"hovertemplate\": \"<b>LOWESS trendline</b><br><br>class=7<br>skill_name=Original Thinking<br>skill_name=Original Thinking<br>year=%{x}<br>skill_delta=%{y} <b>(trend)</b><extra></extra>\", \"legendgroup\": \"skill_name=Original Thinking\", \"marker\": {\"color\": \"#00cc96\", \"symbol\": \"circle\"}, \"mode\": \"lines\", \"name\": \"skill_name=Original Thinking\", \"showlegend\": false, \"type\": \"scatter\", \"uid\": \"73532aa6-7c2b-4b45-b867-1b6e8be03ff7\", \"x\": [2007.0, 2008.0, 2009.0, 2014.0, 2016.0, 2018.0], \"xaxis\": \"x3\", \"y\": [3.5375352903479107, 3.1783225122010506, 2.850154601918359, 8.000000000000165, 7.190000000000001, 6.380000000000088], \"yaxis\": \"y5\"}, {\"hovertemplate\": \"class=7<br>skill_name=Reasoning and Analysis Skills<br>skill_name=Reasoning and Analysis Skills<br>year=%{x}<br>skill_delta=%{y}<br>studentCount=%{marker.size}<extra></extra>\", \"legendgroup\": \"skill_name=Reasoning and Analysis Skills\", \"marker\": {\"color\": \"#ab63fa\", \"size\": [115, 4, 46, 74, 78, 100], \"sizemode\": \"area\", \"sizeref\": 1.15, \"symbol\": \"circle\"}, \"mode\": \"markers\", \"name\": \"skill_name=Reasoning and Analysis Skills\", \"showlegend\": false, \"type\": \"scatter\", \"uid\": \"a51a98d1-d597-407c-9915-6e8f1a84b679\", \"x\": [\"2018\", \"2007\", \"2008\", \"2009\", \"2014\", \"2016\"], \"xaxis\": \"x4\", \"y\": [7.259999999999998, 10.43, 10.199999999999996, 6.009999999999998, 4.18, 7.849999999999994], \"yaxis\": \"y5\"}, {\"hovertemplate\": \"<b>LOWESS trendline</b><br><br>class=7<br>skill_name=Reasoning and Analysis Skills<br>skill_name=Reasoning and Analysis Skills<br>year=%{x}<br>skill_delta=%{y} <b>(trend)</b><extra></extra>\", \"legendgroup\": \"skill_name=Reasoning and Analysis Skills\", \"marker\": {\"color\": \"#ab63fa\", \"symbol\": \"circle\"}, \"mode\": \"lines\", \"name\": \"skill_name=Reasoning and Analysis Skills\", \"showlegend\": false, \"type\": \"scatter\", \"uid\": \"d94ea048-3d17-4d85-ae6e-4d4d1c7dad34\", \"x\": [2007.0, 2008.0, 2009.0, 2014.0, 2016.0, 2018.0], \"xaxis\": \"x4\", \"y\": [10.915056474958389, 8.716903404429335, 6.479383784960544, 4.411042893294448, 6.2322439130578635, 7.727085866053854], \"yaxis\": \"y5\"}, {\"hovertemplate\": \"class=8<br>skill_name=Conceptual Understanding and Comprehension<br>skill_name=Conceptual Understanding and Comprehension<br>year=%{x}<br>skill_delta=%{y}<br>studentCount=%{marker.size}<extra></extra>\", \"legendgroup\": \"skill_name=Conceptual Understanding and Comprehension\", \"marker\": {\"color\": \"#636efa\", \"size\": [104, 14, 54, 48, 77, 78], \"sizemode\": \"area\", \"sizeref\": 1.15, \"symbol\": \"circle\"}, \"mode\": \"markers\", \"name\": \"skill_name=Conceptual Understanding and Comprehension\", \"showlegend\": false, \"type\": \"scatter\", \"uid\": \"8c9f6012-f2b4-40ec-a37a-2e17569881ea\", \"x\": [\"2018\", \"2007\", \"2008\", \"2009\", \"2014\", \"2016\"], \"xaxis\": \"x\", \"y\": [5.629999999999999, 15.369999999999997, 5.020000000000003, 15.049999999999997, 4.93, -1.9400000000000048], \"yaxis\": \"y6\"}, {\"hovertemplate\": \"<b>LOWESS trendline</b><br><br>class=8<br>skill_name=Conceptual Understanding and Comprehension<br>skill_name=Conceptual Understanding and Comprehension<br>year=%{x}<br>skill_delta=%{y} <b>(trend)</b><extra></extra>\", \"legendgroup\": \"skill_name=Conceptual Understanding and Comprehension\", \"marker\": {\"color\": \"#636efa\", \"symbol\": \"circle\"}, \"mode\": \"lines\", \"name\": \"skill_name=Conceptual Understanding and Comprehension\", \"showlegend\": false, \"type\": \"scatter\", \"uid\": \"69bddbba-0ace-473f-a264-be88dc3351c1\", \"x\": [2007.0, 2008.0, 2009.0, 2014.0, 2016.0, 2018.0], \"xaxis\": \"x\", \"y\": [12.944168812819392, 12.7252613546479, 12.701846178726434, 4.016244856752323, 3.0548044062345263, 3.6230419023259737], \"yaxis\": \"y6\"}, {\"hovertemplate\": \"class=8<br>skill_name=Knowledge of Basic Science Facts<br>skill_name=Knowledge of Basic Science Facts<br>year=%{x}<br>skill_delta=%{y}<br>studentCount=%{marker.size}<extra></extra>\", \"legendgroup\": \"skill_name=Knowledge of Basic Science Facts\", \"marker\": {\"color\": \"#EF553B\", \"size\": [104, 14, 54, 48, 77, 78], \"sizemode\": \"area\", \"sizeref\": 1.15, \"symbol\": \"circle\"}, \"mode\": \"markers\", \"name\": \"skill_name=Knowledge of Basic Science Facts\", \"showlegend\": false, \"type\": \"scatter\", \"uid\": \"361427fc-a326-42e4-ae43-c227b8cc1c6e\", \"x\": [\"2018\", \"2007\", \"2008\", \"2009\", \"2014\", \"2016\"], \"xaxis\": \"x2\", \"y\": [-0.7100000000000009, 27.029999999999998, 21.939999999999998, 13.36, 6.540000000000006, 8.36], \"yaxis\": \"y6\"}, {\"hovertemplate\": \"<b>LOWESS trendline</b><br><br>class=8<br>skill_name=Knowledge of Basic Science Facts<br>skill_name=Knowledge of Basic Science Facts<br>year=%{x}<br>skill_delta=%{y} <b>(trend)</b><extra></extra>\", \"legendgroup\": \"skill_name=Knowledge of Basic Science Facts\", \"marker\": {\"color\": \"#EF553B\", \"symbol\": \"circle\"}, \"mode\": \"lines\", \"name\": \"skill_name=Knowledge of Basic Science Facts\", \"showlegend\": false, \"type\": \"scatter\", \"uid\": \"a94ac38d-f08b-4a63-9750-ec73f1f783ab\", \"x\": [2007.0, 2008.0, 2009.0, 2014.0, 2016.0, 2018.0], \"xaxis\": \"x2\", \"y\": [27.50806175166874, 20.684905069907003, 13.821819940469597, 6.540000000000588, 2.9149999999997647, -0.7099999999999914], \"yaxis\": \"y6\"}, {\"hovertemplate\": \"class=8<br>skill_name=Original Thinking<br>skill_name=Original Thinking<br>year=%{x}<br>skill_delta=%{y}<br>studentCount=%{marker.size}<extra></extra>\", \"legendgroup\": \"skill_name=Original Thinking\", \"marker\": {\"color\": \"#00cc96\", \"size\": [104, 14, 54, 48, 77, 78], \"sizemode\": \"area\", \"sizeref\": 1.15, \"symbol\": \"circle\"}, \"mode\": \"markers\", \"name\": \"skill_name=Original Thinking\", \"showlegend\": false, \"type\": \"scatter\", \"uid\": \"8af1bc9f-3821-4c4a-b538-8b3d0fac79f1\", \"x\": [\"2018\", \"2007\", \"2008\", \"2009\", \"2014\", \"2016\"], \"xaxis\": \"x3\", \"y\": [3.229999999999997, 5.770000000000003, 5.630000000000003, 12.759999999999998, 7.219999999999999, 0.3299999999999983], \"yaxis\": \"y6\"}, {\"hovertemplate\": \"<b>LOWESS trendline</b><br><br>class=8<br>skill_name=Original Thinking<br>skill_name=Original Thinking<br>year=%{x}<br>skill_delta=%{y} <b>(trend)</b><extra></extra>\", \"legendgroup\": \"skill_name=Original Thinking\", \"marker\": {\"color\": \"#00cc96\", \"symbol\": \"circle\"}, \"mode\": \"lines\", \"name\": \"skill_name=Original Thinking\", \"showlegend\": false, \"type\": \"scatter\", \"uid\": \"290902c7-2dbe-4ed0-9983-a0849c17a295\", \"x\": [2007.0, 2008.0, 2009.0, 2014.0, 2016.0, 2018.0], \"xaxis\": \"x3\", \"y\": [4.811468638500844, 8.28267236029505, 11.833151479892624, 6.756625784321336, 4.274365422610385, 2.3604122741207254], \"yaxis\": \"y6\"}, {\"hovertemplate\": \"class=8<br>skill_name=Reasoning and Analysis Skills<br>skill_name=Reasoning and Analysis Skills<br>year=%{x}<br>skill_delta=%{y}<br>studentCount=%{marker.size}<extra></extra>\", \"legendgroup\": \"skill_name=Reasoning and Analysis Skills\", \"marker\": {\"color\": \"#ab63fa\", \"size\": [104, 14, 54, 48, 77, 78], \"sizemode\": \"area\", \"sizeref\": 1.15, \"symbol\": \"circle\"}, \"mode\": \"markers\", \"name\": \"skill_name=Reasoning and Analysis Skills\", \"showlegend\": false, \"type\": \"scatter\", \"uid\": \"a4001e52-d775-4abd-a421-b8d27af25ceb\", \"x\": [\"2018\", \"2007\", \"2008\", \"2009\", \"2014\", \"2016\"], \"xaxis\": \"x4\", \"y\": [4.030000000000001, 14.870000000000005, 11.61, 15.130000000000003, 7.210000000000001, 0.3400000000000034], \"yaxis\": \"y6\"}, {\"hovertemplate\": \"<b>LOWESS trendline</b><br><br>class=8<br>skill_name=Reasoning and Analysis Skills<br>skill_name=Reasoning and Analysis Skills<br>year=%{x}<br>skill_delta=%{y} <b>(trend)</b><extra></extra>\", \"legendgroup\": \"skill_name=Reasoning and Analysis Skills\", \"marker\": {\"color\": \"#ab63fa\", \"symbol\": \"circle\"}, \"mode\": \"lines\", \"name\": \"skill_name=Reasoning and Analysis Skills\", \"showlegend\": false, \"type\": \"scatter\", \"uid\": \"77c4d51f-15f3-46f7-af73-2bda3d632e2b\", \"x\": [2007.0, 2008.0, 2009.0, 2014.0, 2016.0, 2018.0], \"xaxis\": \"x4\", \"y\": [13.950419860472365, 14.057436294199377, 14.241081874804822, 6.795922779875684, 4.8409651761479395, 3.315783395437273], \"yaxis\": \"y6\"}, {\"hovertemplate\": \"class=9<br>skill_name=Conceptual Understanding and Comprehension<br>skill_name=Conceptual Understanding and Comprehension<br>year=%{x}<br>skill_delta=%{y}<br>studentCount=%{marker.size}<extra></extra>\", \"legendgroup\": \"skill_name=Conceptual Understanding and Comprehension\", \"marker\": {\"color\": \"#636efa\", \"size\": [92, 10, 42, 51, 73, 74], \"sizemode\": \"area\", \"sizeref\": 1.15, \"symbol\": \"circle\"}, \"mode\": \"markers\", \"name\": \"skill_name=Conceptual Understanding and Comprehension\", \"showlegend\": false, \"type\": \"scatter\", \"uid\": \"6840cdca-e935-4e2d-960a-1964abb68585\", \"x\": [\"2018\", \"2007\", \"2008\", \"2009\", \"2014\", \"2016\"], \"xaxis\": \"x\", \"y\": [5.789999999999999, -1.6400000000000006, 6.609999999999999, 4.049999999999997, 5.5, 4.489999999999995], \"yaxis\": \"y7\"}, {\"hovertemplate\": \"<b>LOWESS trendline</b><br><br>class=9<br>skill_name=Conceptual Understanding and Comprehension<br>skill_name=Conceptual Understanding and Comprehension<br>year=%{x}<br>skill_delta=%{y} <b>(trend)</b><extra></extra>\", \"legendgroup\": \"skill_name=Conceptual Understanding and Comprehension\", \"marker\": {\"color\": \"#636efa\", \"symbol\": \"circle\"}, \"mode\": \"lines\", \"name\": \"skill_name=Conceptual Understanding and Comprehension\", \"showlegend\": false, \"type\": \"scatter\", \"uid\": \"6e91fc98-ceda-459c-a183-f07e80e6a980\", \"x\": [2007.0, 2008.0, 2009.0, 2014.0, 2016.0, 2018.0], \"xaxis\": \"x\", \"y\": [-1.6400000000003576, 1.204999999999952, 4.049999999999736, 5.344348419077457, 5.254561743904973, 5.441516108972336], \"yaxis\": \"y7\"}, {\"hovertemplate\": \"class=9<br>skill_name=Knowledge of Basic Science Facts<br>skill_name=Knowledge of Basic Science Facts<br>year=%{x}<br>skill_delta=%{y}<br>studentCount=%{marker.size}<extra></extra>\", \"legendgroup\": \"skill_name=Knowledge of Basic Science Facts\", \"marker\": {\"color\": \"#EF553B\", \"size\": [92, 10, 42, 51, 73, 74], \"sizemode\": \"area\", \"sizeref\": 1.15, \"symbol\": \"circle\"}, \"mode\": \"markers\", \"name\": \"skill_name=Knowledge of Basic Science Facts\", \"showlegend\": false, \"type\": \"scatter\", \"uid\": \"40077b03-0d2c-4ff5-aa62-293e95f521eb\", \"x\": [\"2018\", \"2007\", \"2008\", \"2009\", \"2014\", \"2016\"], \"xaxis\": \"x2\", \"y\": [1.139999999999997, 7.259999999999998, 12.529999999999994, 16.17, 6.130000000000003, 0.5199999999999996], \"yaxis\": \"y7\"}, {\"hovertemplate\": \"<b>LOWESS trendline</b><br><br>class=9<br>skill_name=Knowledge of Basic Science Facts<br>skill_name=Knowledge of Basic Science Facts<br>year=%{x}<br>skill_delta=%{y} <b>(trend)</b><extra></extra>\", \"legendgroup\": \"skill_name=Knowledge of Basic Science Facts\", \"marker\": {\"color\": \"#EF553B\", \"symbol\": \"circle\"}, \"mode\": \"lines\", \"name\": \"skill_name=Knowledge of Basic Science Facts\", \"showlegend\": false, \"type\": \"scatter\", \"uid\": \"9100c28e-43a3-4e75-89a2-945fd84fce8c\", \"x\": [2007.0, 2008.0, 2009.0, 2014.0, 2016.0, 2018.0], \"xaxis\": \"x2\", \"y\": [7.482655420363548, 11.9431679499272, 16.385097973830256, 6.130000000000181, 3.635, 1.1400000000000037], \"yaxis\": \"y7\"}, {\"hovertemplate\": \"class=9<br>skill_name=Original Thinking<br>skill_name=Original Thinking<br>year=%{x}<br>skill_delta=%{y}<br>studentCount=%{marker.size}<extra></extra>\", \"legendgroup\": \"skill_name=Original Thinking\", \"marker\": {\"color\": \"#00cc96\", \"size\": [92, 10, 42, 51, 73, 74], \"sizemode\": \"area\", \"sizeref\": 1.15, \"symbol\": \"circle\"}, \"mode\": \"markers\", \"name\": \"skill_name=Original Thinking\", \"showlegend\": false, \"type\": \"scatter\", \"uid\": \"2b574e63-06e4-4aa8-a2b0-a50de1198f41\", \"x\": [\"2018\", \"2007\", \"2008\", \"2009\", \"2014\", \"2016\"], \"xaxis\": \"x3\", \"y\": [3.6700000000000017, 9.199999999999996, 11.600000000000001, 3.1300000000000026, 1.6799999999999997, 5.289999999999999], \"yaxis\": \"y7\"}, {\"hovertemplate\": \"<b>LOWESS trendline</b><br><br>class=9<br>skill_name=Original Thinking<br>skill_name=Original Thinking<br>year=%{x}<br>skill_delta=%{y} <b>(trend)</b><extra></extra>\", \"legendgroup\": \"skill_name=Original Thinking\", \"marker\": {\"color\": \"#00cc96\", \"symbol\": \"circle\"}, \"mode\": \"lines\", \"name\": \"skill_name=Original Thinking\", \"showlegend\": false, \"type\": \"scatter\", \"uid\": \"8106251c-d2e6-4d7e-8103-6c2ea97e20f6\", \"x\": [2007.0, 2008.0, 2009.0, 2014.0, 2016.0, 2018.0], \"xaxis\": \"x3\", \"y\": [10.48460979977579, 7.48077974874965, 4.373604136752029, 2.0277397691091785, 3.5423395005034752, 4.446119188930458], \"yaxis\": \"y7\"}, {\"hovertemplate\": \"class=9<br>skill_name=Reasoning and Analysis Skills<br>skill_name=Reasoning and Analysis Skills<br>year=%{x}<br>skill_delta=%{y}<br>studentCount=%{marker.size}<extra></extra>\", \"legendgroup\": \"skill_name=Reasoning and Analysis Skills\", \"marker\": {\"color\": \"#ab63fa\", \"size\": [92, 10, 42, 51, 73, 74], \"sizemode\": \"area\", \"sizeref\": 1.15, \"symbol\": \"circle\"}, \"mode\": \"markers\", \"name\": \"skill_name=Reasoning and Analysis Skills\", \"showlegend\": false, \"type\": \"scatter\", \"uid\": \"787e8966-205e-4f76-ad1c-8377bf2b6afe\", \"x\": [\"2018\", \"2007\", \"2008\", \"2009\", \"2014\", \"2016\"], \"xaxis\": \"x4\", \"y\": [7.980000000000004, 15.25, 9.730000000000004, 9.380000000000003, 4.469999999999999, 0.4899999999999949], \"yaxis\": \"y7\"}, {\"hovertemplate\": \"<b>LOWESS trendline</b><br><br>class=9<br>skill_name=Reasoning and Analysis Skills<br>skill_name=Reasoning and Analysis Skills<br>year=%{x}<br>skill_delta=%{y} <b>(trend)</b><extra></extra>\", \"legendgroup\": \"skill_name=Reasoning and Analysis Skills\", \"marker\": {\"color\": \"#ab63fa\", \"symbol\": \"circle\"}, \"mode\": \"lines\", \"name\": \"skill_name=Reasoning and Analysis Skills\", \"showlegend\": false, \"type\": \"scatter\", \"uid\": \"69751165-94da-4467-989c-a6de1d773457\", \"x\": [2007.0, 2008.0, 2009.0, 2014.0, 2016.0, 2018.0], \"xaxis\": \"x4\", \"y\": [14.539887599828914, 11.587219972479513, 8.693912984683104, 4.469999999999992, 6.225000000000195, 7.979999999999581], \"yaxis\": \"y7\"}, {\"hovertemplate\": \"class=10<br>skill_name=Conceptual Understanding and Comprehension<br>skill_name=Conceptual Understanding and Comprehension<br>year=%{x}<br>skill_delta=%{y}<br>studentCount=%{marker.size}<extra></extra>\", \"legendgroup\": \"skill_name=Conceptual Understanding and Comprehension\", \"marker\": {\"color\": \"#636efa\", \"size\": [73, 67], \"sizemode\": \"area\", \"sizeref\": 1.15, \"symbol\": \"circle\"}, \"mode\": \"markers\", \"name\": \"skill_name=Conceptual Understanding and Comprehension\", \"showlegend\": false, \"type\": \"scatter\", \"uid\": \"b37e7340-6f39-4b5e-bec5-111c23af98b9\", \"x\": [\"2014\", \"2016\"], \"xaxis\": \"x\", \"y\": [1.8999999999999986, 9.579999999999998], \"yaxis\": \"y8\"}, {\"hovertemplate\": \"<b>LOWESS trendline</b><br><br>class=10<br>skill_name=Conceptual Understanding and Comprehension<br>skill_name=Conceptual Understanding and Comprehension<br>year=%{x}<br>skill_delta=%{y} <b>(trend)</b><extra></extra>\", \"legendgroup\": \"skill_name=Conceptual Understanding and Comprehension\", \"marker\": {\"color\": \"#636efa\", \"symbol\": \"circle\"}, \"mode\": \"lines\", \"name\": \"skill_name=Conceptual Understanding and Comprehension\", \"showlegend\": false, \"type\": \"scatter\", \"uid\": \"7e2ad4e1-8ca2-4902-a3df-fd72ccf9d109\", \"x\": [2014.0, 2016.0], \"xaxis\": \"x\", \"y\": [1.8999999999999986, 9.579999999999998], \"yaxis\": \"y8\"}, {\"hovertemplate\": \"class=10<br>skill_name=Knowledge of Basic Science Facts<br>skill_name=Knowledge of Basic Science Facts<br>year=%{x}<br>skill_delta=%{y}<br>studentCount=%{marker.size}<extra></extra>\", \"legendgroup\": \"skill_name=Knowledge of Basic Science Facts\", \"marker\": {\"color\": \"#EF553B\", \"size\": [73, 67], \"sizemode\": \"area\", \"sizeref\": 1.15, \"symbol\": \"circle\"}, \"mode\": \"markers\", \"name\": \"skill_name=Knowledge of Basic Science Facts\", \"showlegend\": false, \"type\": \"scatter\", \"uid\": \"7a9893c0-a36b-486c-99b2-8269c7be46cc\", \"x\": [\"2014\", \"2016\"], \"xaxis\": \"x2\", \"y\": [-1.4200000000000017, 6.229999999999997], \"yaxis\": \"y8\"}, {\"hovertemplate\": \"<b>LOWESS trendline</b><br><br>class=10<br>skill_name=Knowledge of Basic Science Facts<br>skill_name=Knowledge of Basic Science Facts<br>year=%{x}<br>skill_delta=%{y} <b>(trend)</b><extra></extra>\", \"legendgroup\": \"skill_name=Knowledge of Basic Science Facts\", \"marker\": {\"color\": \"#EF553B\", \"symbol\": \"circle\"}, \"mode\": \"lines\", \"name\": \"skill_name=Knowledge of Basic Science Facts\", \"showlegend\": false, \"type\": \"scatter\", \"uid\": \"eaa8b70f-2d4f-412f-8a92-4c8728cfb6a9\", \"x\": [2014.0, 2016.0], \"xaxis\": \"x2\", \"y\": [-1.4200000000000017, 6.229999999999997], \"yaxis\": \"y8\"}, {\"hovertemplate\": \"class=10<br>skill_name=Original Thinking<br>skill_name=Original Thinking<br>year=%{x}<br>skill_delta=%{y}<br>studentCount=%{marker.size}<extra></extra>\", \"legendgroup\": \"skill_name=Original Thinking\", \"marker\": {\"color\": \"#00cc96\", \"size\": [73, 67], \"sizemode\": \"area\", \"sizeref\": 1.15, \"symbol\": \"circle\"}, \"mode\": \"markers\", \"name\": \"skill_name=Original Thinking\", \"showlegend\": false, \"type\": \"scatter\", \"uid\": \"1589905e-3e4f-4b16-82b9-216686ad9f9e\", \"x\": [\"2014\", \"2016\"], \"xaxis\": \"x3\", \"y\": [1.8100000000000023, 1.3499999999999943], \"yaxis\": \"y8\"}, {\"hovertemplate\": \"<b>LOWESS trendline</b><br><br>class=10<br>skill_name=Original Thinking<br>skill_name=Original Thinking<br>year=%{x}<br>skill_delta=%{y} <b>(trend)</b><extra></extra>\", \"legendgroup\": \"skill_name=Original Thinking\", \"marker\": {\"color\": \"#00cc96\", \"symbol\": \"circle\"}, \"mode\": \"lines\", \"name\": \"skill_name=Original Thinking\", \"showlegend\": false, \"type\": \"scatter\", \"uid\": \"12803418-f2ef-4a80-b485-ffd7e95cf861\", \"x\": [2014.0, 2016.0], \"xaxis\": \"x3\", \"y\": [1.8100000000000023, 1.3499999999999943], \"yaxis\": \"y8\"}, {\"hovertemplate\": \"class=10<br>skill_name=Reasoning and Analysis Skills<br>skill_name=Reasoning and Analysis Skills<br>year=%{x}<br>skill_delta=%{y}<br>studentCount=%{marker.size}<extra></extra>\", \"legendgroup\": \"skill_name=Reasoning and Analysis Skills\", \"marker\": {\"color\": \"#ab63fa\", \"size\": [73, 67], \"sizemode\": \"area\", \"sizeref\": 1.15, \"symbol\": \"circle\"}, \"mode\": \"markers\", \"name\": \"skill_name=Reasoning and Analysis Skills\", \"showlegend\": false, \"type\": \"scatter\", \"uid\": \"b66a2654-cbd0-4e5b-9666-a0831f64cb68\", \"x\": [\"2014\", \"2016\"], \"xaxis\": \"x4\", \"y\": [0.8000000000000043, 3.1899999999999977], \"yaxis\": \"y8\"}, {\"hovertemplate\": \"<b>LOWESS trendline</b><br><br>class=10<br>skill_name=Reasoning and Analysis Skills<br>skill_name=Reasoning and Analysis Skills<br>year=%{x}<br>skill_delta=%{y} <b>(trend)</b><extra></extra>\", \"legendgroup\": \"skill_name=Reasoning and Analysis Skills\", \"marker\": {\"color\": \"#ab63fa\", \"symbol\": \"circle\"}, \"mode\": \"lines\", \"name\": \"skill_name=Reasoning and Analysis Skills\", \"showlegend\": false, \"type\": \"scatter\", \"uid\": \"52798a7b-8337-44de-9c28-6a2ec0211cce\", \"x\": [2014.0, 2016.0], \"xaxis\": \"x4\", \"y\": [0.8000000000000043, 3.1899999999999977], \"yaxis\": \"y8\"}],\n",
       "                        {\"annotations\": [{\"showarrow\": false, \"text\": \"skill_name=Conceptual Understanding and Comprehension\", \"textangle\": 0, \"x\": 0.1153846153846154, \"xanchor\": \"center\", \"xref\": \"paper\", \"y\": 1.02, \"yanchor\": \"middle\", \"yref\": \"paper\"}, {\"showarrow\": false, \"text\": \"skill_name=Knowledge of Basic Science Facts\", \"textangle\": 0, \"x\": 0.3717948717948718, \"xanchor\": \"center\", \"xref\": \"paper\", \"y\": 1.02, \"yanchor\": \"middle\", \"yref\": \"paper\"}, {\"showarrow\": false, \"text\": \"skill_name=Original Thinking\", \"textangle\": 0, \"x\": 0.6282051282051283, \"xanchor\": \"center\", \"xref\": \"paper\", \"y\": 1.02, \"yanchor\": \"middle\", \"yref\": \"paper\"}, {\"showarrow\": false, \"text\": \"skill_name=Reasoning and Analysis Skills\", \"textangle\": 0, \"x\": 0.8846153846153848, \"xanchor\": \"center\", \"xref\": \"paper\", \"y\": 1.02, \"yanchor\": \"middle\", \"yref\": \"paper\"}, {\"showarrow\": false, \"text\": \"class=3\", \"textangle\": 90, \"x\": 1.01, \"xanchor\": \"center\", \"xref\": \"paper\", \"y\": 0.9430379746835442, \"yanchor\": \"middle\", \"yref\": \"paper\"}, {\"showarrow\": false, \"text\": \"class=4\", \"textangle\": 90, \"x\": 1.01, \"xanchor\": \"center\", \"xref\": \"paper\", \"y\": 0.8164556962025316, \"yanchor\": \"middle\", \"yref\": \"paper\"}, {\"showarrow\": false, \"text\": \"class=5\", \"textangle\": 90, \"x\": 1.01, \"xanchor\": \"center\", \"xref\": \"paper\", \"y\": 0.6898734177215189, \"yanchor\": \"middle\", \"yref\": \"paper\"}, {\"showarrow\": false, \"text\": \"class=6\", \"textangle\": 90, \"x\": 1.01, \"xanchor\": \"center\", \"xref\": \"paper\", \"y\": 0.5632911392405062, \"yanchor\": \"middle\", \"yref\": \"paper\"}, {\"showarrow\": false, \"text\": \"class=7\", \"textangle\": 90, \"x\": 1.01, \"xanchor\": \"center\", \"xref\": \"paper\", \"y\": 0.4367088607594936, \"yanchor\": \"middle\", \"yref\": \"paper\"}, {\"showarrow\": false, \"text\": \"class=8\", \"textangle\": 90, \"x\": 1.01, \"xanchor\": \"center\", \"xref\": \"paper\", \"y\": 0.310126582278481, \"yanchor\": \"middle\", \"yref\": \"paper\"}, {\"showarrow\": false, \"text\": \"class=9\", \"textangle\": 90, \"x\": 1.01, \"xanchor\": \"center\", \"xref\": \"paper\", \"y\": 0.18354430379746833, \"yanchor\": \"middle\", \"yref\": \"paper\"}, {\"showarrow\": false, \"text\": \"class=10\", \"textangle\": 90, \"x\": 1.01, \"xanchor\": \"center\", \"xref\": \"paper\", \"y\": 0.05696202531645569, \"yanchor\": \"middle\", \"yref\": \"paper\"}], \"grid\": {\"xaxes\": [\"x\", \"x2\", \"x3\", \"x4\"], \"xgap\": 0.1, \"xside\": \"bottom\", \"yaxes\": [\"y\", \"y2\", \"y3\", \"y4\", \"y5\", \"y6\", \"y7\", \"y8\"], \"ygap\": 0.1, \"yside\": \"left\"}, \"height\": 2000, \"legend\": {\"tracegroupgap\": 0}, \"template\": {\"data\": {\"bar\": [{\"marker\": {\"line\": {\"color\": \"#E5ECF6\", \"width\": 0.5}}, \"type\": \"bar\"}], \"barpolar\": [{\"marker\": {\"line\": {\"color\": \"#E5ECF6\", \"width\": 0.5}}, \"type\": \"barpolar\"}], \"carpet\": [{\"aaxis\": {\"endlinecolor\": \"#2a3f5f\", \"gridcolor\": \"white\", \"linecolor\": \"white\", \"minorgridcolor\": \"white\", \"startlinecolor\": \"#2a3f5f\"}, \"baxis\": {\"endlinecolor\": \"#2a3f5f\", \"gridcolor\": \"white\", \"linecolor\": \"white\", \"minorgridcolor\": \"white\", \"startlinecolor\": \"#2a3f5f\"}, \"type\": \"carpet\"}], \"choropleth\": [{\"colorbar\": {\"outlinewidth\": 0, \"ticks\": \"\"}, \"type\": \"choropleth\"}], \"contour\": [{\"autocolorscale\": true, \"colorbar\": {\"outlinewidth\": 0, \"ticks\": \"\"}, \"type\": \"contour\"}], \"contourcarpet\": [{\"colorbar\": {\"outlinewidth\": 0, \"ticks\": \"\"}, \"type\": \"contourcarpet\"}], \"heatmap\": [{\"autocolorscale\": true, \"colorbar\": {\"outlinewidth\": 0, \"ticks\": \"\"}, \"type\": \"heatmap\"}], \"heatmapgl\": [{\"colorbar\": {\"outlinewidth\": 0, \"ticks\": \"\"}, \"type\": \"heatmapgl\"}], \"histogram\": [{\"marker\": {\"colorbar\": {\"outlinewidth\": 0, \"ticks\": \"\"}}, \"type\": \"histogram\"}], \"histogram2d\": [{\"autocolorscale\": true, \"colorbar\": {\"outlinewidth\": 0, \"ticks\": \"\"}, \"type\": \"histogram2d\"}], \"histogram2dcontour\": [{\"autocolorscale\": true, \"colorbar\": {\"outlinewidth\": 0, \"ticks\": \"\"}, \"type\": \"histogram2dcontour\"}], \"mesh3d\": [{\"colorbar\": {\"outlinewidth\": 0, \"ticks\": \"\"}, \"type\": \"mesh3d\"}], \"parcoords\": [{\"line\": {\"colorbar\": {\"outlinewidth\": 0, \"ticks\": \"\"}}, \"type\": \"parcoords\"}], \"scatter\": [{\"marker\": {\"colorbar\": {\"outlinewidth\": 0, \"ticks\": \"\"}}, \"type\": \"scatter\"}], \"scatter3d\": [{\"marker\": {\"colorbar\": {\"outlinewidth\": 0, \"ticks\": \"\"}}, \"type\": \"scatter3d\"}], \"scattercarpet\": [{\"marker\": {\"colorbar\": {\"outlinewidth\": 0, \"ticks\": \"\"}}, \"type\": \"scattercarpet\"}], \"scattergeo\": [{\"marker\": {\"colorbar\": {\"outlinewidth\": 0, \"ticks\": \"\"}}, \"type\": \"scattergeo\"}], \"scattergl\": [{\"marker\": {\"colorbar\": {\"outlinewidth\": 0, \"ticks\": \"\"}}, \"type\": \"scattergl\"}], \"scattermapbox\": [{\"marker\": {\"colorbar\": {\"outlinewidth\": 0, \"ticks\": \"\"}}, \"type\": \"scattermapbox\"}], \"scatterpolar\": [{\"marker\": {\"colorbar\": {\"outlinewidth\": 0, \"ticks\": \"\"}}, \"type\": \"scatterpolar\"}], \"scatterpolargl\": [{\"marker\": {\"colorbar\": {\"outlinewidth\": 0, \"ticks\": \"\"}}, \"type\": \"scatterpolargl\"}], \"scatterternary\": [{\"marker\": {\"colorbar\": {\"outlinewidth\": 0, \"ticks\": \"\"}}, \"type\": \"scatterternary\"}], \"surface\": [{\"colorbar\": {\"outlinewidth\": 0, \"ticks\": \"\"}, \"type\": \"surface\"}], \"table\": [{\"cells\": {\"fill\": {\"color\": \"#EBF0F8\"}, \"line\": {\"color\": \"white\"}}, \"header\": {\"fill\": {\"color\": \"#C8D4E3\"}, \"line\": {\"color\": \"white\"}}, \"type\": \"table\"}]}, \"layout\": {\"annotationdefaults\": {\"arrowcolor\": \"#506784\", \"arrowhead\": 0, \"arrowwidth\": 1}, \"colorscale\": {\"diverging\": [[0, \"#8e0152\"], [0.1, \"#c51b7d\"], [0.2, \"#de77ae\"], [0.3, \"#f1b6da\"], [0.4, \"#fde0ef\"], [0.5, \"#f7f7f7\"], [0.6, \"#e6f5d0\"], [0.7, \"#b8e186\"], [0.8, \"#7fbc41\"], [0.9, \"#4d9221\"], [1, \"#276419\"]], \"sequential\": [[0.0, \"#0508b8\"], [0.0893854748603352, \"#1910d8\"], [0.1787709497206704, \"#3c19f0\"], [0.2681564245810056, \"#6b1cfb\"], [0.3575418994413408, \"#981cfd\"], [0.44692737430167595, \"#bf1cfd\"], [0.5363128491620112, \"#dd2bfd\"], [0.6256983240223464, \"#f246fe\"], [0.7150837988826816, \"#fc67fd\"], [0.8044692737430168, \"#fe88fc\"], [0.8938547486033519, \"#fea5fd\"], [0.9832402234636871, \"#febefe\"], [1.0, \"#fec3fe\"]], \"sequentialminus\": [[0.0, \"#0508b8\"], [0.0893854748603352, \"#1910d8\"], [0.1787709497206704, \"#3c19f0\"], [0.2681564245810056, \"#6b1cfb\"], [0.3575418994413408, \"#981cfd\"], [0.44692737430167595, \"#bf1cfd\"], [0.5363128491620112, \"#dd2bfd\"], [0.6256983240223464, \"#f246fe\"], [0.7150837988826816, \"#fc67fd\"], [0.8044692737430168, \"#fe88fc\"], [0.8938547486033519, \"#fea5fd\"], [0.9832402234636871, \"#febefe\"], [1.0, \"#fec3fe\"]]}, \"colorway\": [\"#636efa\", \"#EF553B\", \"#00cc96\", \"#ab63fa\", \"#19d3f3\", \"#e763fa\", \"#FECB52\", \"#FFA15A\", \"#FF6692\", \"#B6E880\"], \"font\": {\"color\": \"#2a3f5f\"}, \"geo\": {\"bgcolor\": \"white\", \"lakecolor\": \"white\", \"landcolor\": \"#E5ECF6\", \"showlakes\": true, \"showland\": true, \"subunitcolor\": \"white\"}, \"hoverlabel\": {\"align\": \"left\"}, \"hovermode\": \"closest\", \"legend\": {\"itemsizing\": \"constant\"}, \"mapbox\": {\"style\": \"light\"}, \"paper_bgcolor\": \"white\", \"plot_bgcolor\": \"#E5ECF6\", \"polar\": {\"angularaxis\": {\"gridcolor\": \"white\", \"linecolor\": \"white\", \"ticks\": \"\"}, \"bgcolor\": \"#E5ECF6\", \"radialaxis\": {\"gridcolor\": \"white\", \"linecolor\": \"white\", \"ticks\": \"\"}}, \"scene\": {\"xaxis\": {\"backgroundcolor\": \"#E5ECF6\", \"gridcolor\": \"white\", \"gridwidth\": 2, \"linecolor\": \"white\", \"showbackground\": true, \"ticks\": \"\", \"zerolinecolor\": \"white\"}, \"yaxis\": {\"backgroundcolor\": \"#E5ECF6\", \"gridcolor\": \"white\", \"gridwidth\": 2, \"linecolor\": \"white\", \"showbackground\": true, \"ticks\": \"\", \"zerolinecolor\": \"white\"}, \"zaxis\": {\"backgroundcolor\": \"#E5ECF6\", \"gridcolor\": \"white\", \"gridwidth\": 2, \"linecolor\": \"white\", \"showbackground\": true, \"ticks\": \"\", \"zerolinecolor\": \"white\"}}, \"shapedefaults\": {\"fillcolor\": \"#506784\", \"line\": {\"width\": 0}, \"opacity\": 0.4}, \"ternary\": {\"aaxis\": {\"gridcolor\": \"white\", \"linecolor\": \"white\", \"ticks\": \"\"}, \"baxis\": {\"gridcolor\": \"white\", \"linecolor\": \"white\", \"ticks\": \"\"}, \"bgcolor\": \"#E5ECF6\", \"caxis\": {\"gridcolor\": \"white\", \"linecolor\": \"white\", \"ticks\": \"\"}}, \"title\": {\"x\": 0.05}, \"xaxis\": {\"automargin\": true, \"gridcolor\": \"white\", \"linecolor\": \"white\", \"ticks\": \"\", \"zerolinecolor\": \"white\", \"zerolinewidth\": 2}, \"yaxis\": {\"automargin\": true, \"gridcolor\": \"white\", \"linecolor\": \"white\", \"ticks\": \"\", \"zerolinecolor\": \"white\", \"zerolinewidth\": 2}}}, \"title\": {\"text\": \"Core Skills in Science (Sushila Birla Girls^ School-Kolkata-CBSE)\"}, \"width\": 3000, \"xaxis\": {\"title\": {\"text\": \"year\"}}, \"xaxis2\": {\"matches\": \"x\", \"title\": {\"text\": \"year\"}}, \"xaxis3\": {\"matches\": \"x\", \"title\": {\"text\": \"year\"}}, \"xaxis4\": {\"matches\": \"x\", \"title\": {\"text\": \"year\"}}, \"yaxis\": {\"title\": {\"text\": \"skill_delta\"}}, \"yaxis2\": {\"matches\": \"y\", \"title\": {\"text\": \"skill_delta\"}}, \"yaxis3\": {\"matches\": \"y\", \"title\": {\"text\": \"skill_delta\"}}, \"yaxis4\": {\"matches\": \"y\", \"title\": {\"text\": \"skill_delta\"}}, \"yaxis5\": {\"matches\": \"y\", \"title\": {\"text\": \"skill_delta\"}}, \"yaxis6\": {\"matches\": \"y\", \"title\": {\"text\": \"skill_delta\"}}, \"yaxis7\": {\"matches\": \"y\", \"title\": {\"text\": \"skill_delta\"}}, \"yaxis8\": {\"matches\": \"y\", \"title\": {\"text\": \"skill_delta\"}}},\n",
       "                        {\"showLink\": false, \"linkText\": \"Export to plot.ly\", \"plotlyServerURL\": \"https://plot.ly\"}\n",
       "                    )\n",
       "                };\n",
       "                });\n",
       "            </script>\n",
       "        </div>"
      ]
     },
     "metadata": {},
     "output_type": "display_data"
    }
   ],
   "source": [
    "sub = 'Science'\n",
    "px.scatter(df_school[df_school['subject']==sub].drop_duplicates(['papercode','skill_name']), \n",
    "        x = 'year', \n",
    "        y = 'skill_delta', \n",
    "        color='skill_name',\n",
    "        facet_row= 'class', \n",
    "        facet_col= 'skill_name', \n",
    "        size = 'studentCount',\n",
    "        size_max= 10,\n",
    "        trendline=\"lowess\",\n",
    "        height=2000,\n",
    "        width=3000,\n",
    "        title = 'Core Skills in %s (%s-%s-%s)'%(sub,school_name, school_city, school_board) )"
   ]
  },
  {
   "cell_type": "code",
   "execution_count": null,
   "metadata": {},
   "outputs": [],
   "source": []
  },
  {
   "cell_type": "markdown",
   "metadata": {},
   "source": [
    "## Sub-skill level"
   ]
  },
  {
   "cell_type": "code",
   "execution_count": 29,
   "metadata": {
    "scrolled": false
   },
   "outputs": [
    {
     "data": {
      "application/vnd.plotly.v1+json": {
       "config": {
        "linkText": "Export to plot.ly",
        "plotlyServerURL": "https://plot.ly",
        "showLink": false
       },
       "data": [
        {
         "hovertemplate": "class=3<br>skill_name=Conceptual Understanding and Comprehension<br>sub_skill_name=Classification/comparison of organisms/processes; giving examples<br>year=%{x}<br>subSkill_delta=%{y}<br>studentCount=%{marker.size}<extra></extra>",
         "legendgroup": "sub_skill_name=Classification/comparison of organisms/processes; giving examples",
         "marker": {
          "color": "#636efa",
          "size": [
           113,
           18,
           73,
           75,
           106,
           109
          ],
          "sizemode": "area",
          "sizeref": 1.15,
          "symbol": "circle"
         },
         "mode": "markers",
         "name": "sub_skill_name=Classification/comparison of organisms/processes; giving examples",
         "showlegend": true,
         "type": "scatter",
         "uid": "21d4dc7b-dac2-4d6f-b6be-1b63d720e6af",
         "x": [
          "2018",
          "2007",
          "2008",
          "2009",
          "2014",
          "2016"
         ],
         "xaxis": "x",
         "y": [
          8.779999999999994,
          5.469999999999999,
          3.700000000000003,
          -1.8199999999999932,
          0.45000000000000284,
          4.579999999999998
         ],
         "yaxis": "y"
        },
        {
         "hovertemplate": "<b>LOWESS trendline</b><br><br>class=3<br>skill_name=Conceptual Understanding and Comprehension<br>sub_skill_name=Classification/comparison of organisms/processes; giving examples<br>year=%{x}<br>subSkill_delta=%{y} <b>(trend)</b><extra></extra>",
         "legendgroup": "sub_skill_name=Classification/comparison of organisms/processes; giving examples",
         "marker": {
          "color": "#636efa",
          "symbol": "circle"
         },
         "mode": "lines",
         "name": "sub_skill_name=Classification/comparison of organisms/processes; giving examples",
         "showlegend": false,
         "type": "scatter",
         "uid": "6019157d-a065-49a6-8e17-de46b009add8",
         "x": [
          2007,
          2008,
          2009,
          2014,
          2016,
          2018
         ],
         "xaxis": "x",
         "y": [
          5.470000000001375,
          1.8250000000000028,
          -1.82000000000002,
          0.4462269478407162,
          4.606202261227267,
          8.771800012721911
         ],
         "yaxis": "y"
        },
        {
         "hovertemplate": "class=3<br>skill_name=Conceptual Understanding and Comprehension<br>sub_skill_name=Knowledge of use of scientific instruments, tools and procedures<br>year=%{x}<br>subSkill_delta=%{y}<br>studentCount=%{marker.size}<extra></extra>",
         "legendgroup": "sub_skill_name=Knowledge of use of scientific instruments, tools and procedures",
         "marker": {
          "color": "#EF553B",
          "size": [
           113,
           18,
           73,
           75,
           106,
           109
          ],
          "sizemode": "area",
          "sizeref": 1.15,
          "symbol": "circle"
         },
         "mode": "markers",
         "name": "sub_skill_name=Knowledge of use of scientific instruments, tools and procedures",
         "showlegend": true,
         "type": "scatter",
         "uid": "d5887bab-04be-4389-a909-b997a7c57524",
         "x": [
          "2018",
          "2007",
          "2008",
          "2009",
          "2014",
          "2016"
         ],
         "xaxis": "x",
         "y": [
          3.2099999999999937,
          8.840000000000003,
          4.619999999999997,
          6.189999999999998,
          -4.149999999999999,
          7.959999999999994
         ],
         "yaxis": "y"
        },
        {
         "hovertemplate": "<b>LOWESS trendline</b><br><br>class=3<br>skill_name=Conceptual Understanding and Comprehension<br>sub_skill_name=Knowledge of use of scientific instruments, tools and procedures<br>year=%{x}<br>subSkill_delta=%{y} <b>(trend)</b><extra></extra>",
         "legendgroup": "sub_skill_name=Knowledge of use of scientific instruments, tools and procedures",
         "marker": {
          "color": "#EF553B",
          "symbol": "circle"
         },
         "mode": "lines",
         "name": "sub_skill_name=Knowledge of use of scientific instruments, tools and procedures",
         "showlegend": false,
         "type": "scatter",
         "uid": "1d405a52-d0cf-4611-add7-6b78cda5d82d",
         "x": [
          2007,
          2008,
          2009,
          2014,
          2016,
          2018
         ],
         "xaxis": "x",
         "y": [
          8.047371315117948,
          6.702736498139663,
          5.4242923734106006,
          -4.149999999999434,
          -0.4699999999999622,
          3.2100000000001048
         ],
         "yaxis": "y"
        },
        {
         "hovertemplate": "class=3<br>skill_name=Knowledge of Basic Science Facts<br>sub_skill_name=Definition or description of scientific terms, organisms or materials<br>year=%{x}<br>subSkill_delta=%{y}<br>studentCount=%{marker.size}<extra></extra>",
         "legendgroup": "sub_skill_name=Definition or description of scientific terms, organisms or materials",
         "marker": {
          "color": "#00cc96",
          "size": [
           113,
           18,
           73,
           75,
           106,
           109
          ],
          "sizemode": "area",
          "sizeref": 1.15,
          "symbol": "circle"
         },
         "mode": "markers",
         "name": "sub_skill_name=Definition or description of scientific terms, organisms or materials",
         "showlegend": true,
         "type": "scatter",
         "uid": "d3f72ebd-a3d6-4912-918b-e736323c37b7",
         "x": [
          "2018",
          "2007",
          "2008",
          "2009",
          "2014",
          "2016"
         ],
         "xaxis": "x2",
         "y": [
          5.789999999999992,
          13.480000000000004,
          0.030000000000001137,
          5.150000000000006,
          4.929999999999993,
          -4.939999999999998
         ],
         "yaxis": "y"
        },
        {
         "hovertemplate": "<b>LOWESS trendline</b><br><br>class=3<br>skill_name=Knowledge of Basic Science Facts<br>sub_skill_name=Definition or description of scientific terms, organisms or materials<br>year=%{x}<br>subSkill_delta=%{y} <b>(trend)</b><extra></extra>",
         "legendgroup": "sub_skill_name=Definition or description of scientific terms, organisms or materials",
         "marker": {
          "color": "#00cc96",
          "symbol": "circle"
         },
         "mode": "lines",
         "name": "sub_skill_name=Definition or description of scientific terms, organisms or materials",
         "showlegend": false,
         "type": "scatter",
         "uid": "d760a1eb-77ef-40e9-8f68-40f3c86fc0ec",
         "x": [
          2007,
          2008,
          2009,
          2014,
          2016,
          2018
         ],
         "xaxis": "x2",
         "y": [
          11.175916996891367,
          6.954492204484638,
          2.9206672351654963,
          3.827125781171716,
          2.934138253226789,
          3.57708460758311
         ],
         "yaxis": "y"
        },
        {
         "hovertemplate": "class=3<br>skill_name=Knowledge of Basic Science Facts<br>sub_skill_name=Recollection or recognition of science facts and concepts<br>year=%{x}<br>subSkill_delta=%{y}<br>studentCount=%{marker.size}<extra></extra>",
         "legendgroup": "sub_skill_name=Recollection or recognition of science facts and concepts",
         "marker": {
          "color": "#ab63fa",
          "size": [
           113,
           18,
           73,
           75,
           106,
           109
          ],
          "sizemode": "area",
          "sizeref": 1.15,
          "symbol": "circle"
         },
         "mode": "markers",
         "name": "sub_skill_name=Recollection or recognition of science facts and concepts",
         "showlegend": true,
         "type": "scatter",
         "uid": "8a7aa89e-4ea2-4ced-8470-7fc6139cd142",
         "x": [
          "2018",
          "2007",
          "2008",
          "2009",
          "2014",
          "2016"
         ],
         "xaxis": "x2",
         "y": [
          -1.1899999999999977,
          4.700000000000003,
          10.340000000000003,
          5.859999999999999,
          -3.770000000000003,
          11.780000000000001
         ],
         "yaxis": "y"
        },
        {
         "hovertemplate": "<b>LOWESS trendline</b><br><br>class=3<br>skill_name=Knowledge of Basic Science Facts<br>sub_skill_name=Recollection or recognition of science facts and concepts<br>year=%{x}<br>subSkill_delta=%{y} <b>(trend)</b><extra></extra>",
         "legendgroup": "sub_skill_name=Recollection or recognition of science facts and concepts",
         "marker": {
          "color": "#ab63fa",
          "symbol": "circle"
         },
         "mode": "lines",
         "name": "sub_skill_name=Recollection or recognition of science facts and concepts",
         "showlegend": false,
         "type": "scatter",
         "uid": "0f98163d-83ea-4a1f-b6ad-1b68e32141dc",
         "x": [
          2007,
          2008,
          2009,
          2014,
          2016,
          2018
         ],
         "xaxis": "x2",
         "y": [
          6.084677999464395,
          6.698976345825431,
          7.197659125924212,
          -3.770000000000435,
          -2.4799999999998423,
          -1.1900000000000532
         ],
         "yaxis": "y"
        },
        {
         "hovertemplate": "class=3<br>skill_name=Original Thinking<br>sub_skill_name=Complex analysis, data interpretation, integrating different concepts<br>year=%{x}<br>subSkill_delta=%{y}<br>studentCount=%{marker.size}<extra></extra>",
         "legendgroup": "sub_skill_name=Complex analysis, data interpretation, integrating different concepts",
         "marker": {
          "color": "#19d3f3",
          "size": [
           113,
           18,
           73,
           75,
           106,
           109
          ],
          "sizemode": "area",
          "sizeref": 1.15,
          "symbol": "circle"
         },
         "mode": "markers",
         "name": "sub_skill_name=Complex analysis, data interpretation, integrating different concepts",
         "showlegend": true,
         "type": "scatter",
         "uid": "f3d313e6-fce2-4c30-94b5-8a313bd79009",
         "x": [
          "2018",
          "2007",
          "2008",
          "2009",
          "2014",
          "2016"
         ],
         "xaxis": "x3",
         "y": [
          2.6400000000000006,
          6.270000000000003,
          2.049999999999997,
          4.289999999999999,
          0.8599999999999994,
          -2.9099999999999966
         ],
         "yaxis": "y"
        },
        {
         "hovertemplate": "<b>LOWESS trendline</b><br><br>class=3<br>skill_name=Original Thinking<br>sub_skill_name=Complex analysis, data interpretation, integrating different concepts<br>year=%{x}<br>subSkill_delta=%{y} <b>(trend)</b><extra></extra>",
         "legendgroup": "sub_skill_name=Complex analysis, data interpretation, integrating different concepts",
         "marker": {
          "color": "#19d3f3",
          "symbol": "circle"
         },
         "mode": "lines",
         "name": "sub_skill_name=Complex analysis, data interpretation, integrating different concepts",
         "showlegend": false,
         "type": "scatter",
         "uid": "133b133e-c893-47b9-b13c-fe7b727df2c8",
         "x": [
          2007,
          2008,
          2009,
          2014,
          2016,
          2018
         ],
         "xaxis": "x3",
         "y": [
          5.405447617394321,
          4.393907590039175,
          3.454154109604821,
          0.4498605886437955,
          0.9384814348720609,
          1.896891471893995
         ],
         "yaxis": "y"
        },
        {
         "hovertemplate": "class=3<br>skill_name=Original Thinking<br>sub_skill_name=Hypothesis formulation or prediction of outcome<br>year=%{x}<br>subSkill_delta=%{y}<br>studentCount=%{marker.size}<extra></extra>",
         "legendgroup": "sub_skill_name=Hypothesis formulation or prediction of outcome",
         "marker": {
          "color": "#e763fa",
          "size": [
           113,
           18,
           73,
           75,
           106,
           109
          ],
          "sizemode": "area",
          "sizeref": 1.15,
          "symbol": "circle"
         },
         "mode": "markers",
         "name": "sub_skill_name=Hypothesis formulation or prediction of outcome",
         "showlegend": true,
         "type": "scatter",
         "uid": "bae39b2c-d192-4bdf-93fd-8b641f914374",
         "x": [
          "2018",
          "2007",
          "2008",
          "2009",
          "2014",
          "2016"
         ],
         "xaxis": "x3",
         "y": [
          1.3200000000000003,
          -5.390000000000001,
          9.259999999999998,
          7.160000000000004,
          -9.240000000000002,
          11.25
         ],
         "yaxis": "y"
        },
        {
         "hovertemplate": "<b>LOWESS trendline</b><br><br>class=3<br>skill_name=Original Thinking<br>sub_skill_name=Hypothesis formulation or prediction of outcome<br>year=%{x}<br>subSkill_delta=%{y} <b>(trend)</b><extra></extra>",
         "legendgroup": "sub_skill_name=Hypothesis formulation or prediction of outcome",
         "marker": {
          "color": "#e763fa",
          "symbol": "circle"
         },
         "mode": "lines",
         "name": "sub_skill_name=Hypothesis formulation or prediction of outcome",
         "showlegend": false,
         "type": "scatter",
         "uid": "baea35f2-71fc-4ec6-ac5a-1c46a25dad7a",
         "x": [
          2007,
          2008,
          2009,
          2014,
          2016,
          2018
         ],
         "xaxis": "x3",
         "y": [
          -3.0775036220029715,
          3.2554971033960207,
          9.394873340734492,
          -8.503515706394335,
          -2.7604628772875217,
          2.422410388048487
         ],
         "yaxis": "y"
        },
        {
         "hovertemplate": "class=3<br>skill_name=Reasoning and Analysis Skills<br>sub_skill_name=Extraction, translation and application of knowledge or information<br>year=%{x}<br>subSkill_delta=%{y}<br>studentCount=%{marker.size}<extra></extra>",
         "legendgroup": "sub_skill_name=Extraction, translation and application of knowledge or information",
         "marker": {
          "color": "#fecb52",
          "size": [
           113,
           18,
           73,
           75,
           106,
           109
          ],
          "sizemode": "area",
          "sizeref": 1.15,
          "symbol": "circle"
         },
         "mode": "markers",
         "name": "sub_skill_name=Extraction, translation and application of knowledge or information",
         "showlegend": true,
         "type": "scatter",
         "uid": "32409ad6-8224-475c-b18f-12b44111f3fe",
         "x": [
          "2018",
          "2007",
          "2008",
          "2009",
          "2014",
          "2016"
         ],
         "xaxis": "x4",
         "y": [
          -0.28000000000000114,
          6.890000000000001,
          -0.5100000000000051,
          8.049999999999997,
          -4.880000000000003,
          3.6000000000000014
         ],
         "yaxis": "y"
        },
        {
         "hovertemplate": "<b>LOWESS trendline</b><br><br>class=3<br>skill_name=Reasoning and Analysis Skills<br>sub_skill_name=Extraction, translation and application of knowledge or information<br>year=%{x}<br>subSkill_delta=%{y} <b>(trend)</b><extra></extra>",
         "legendgroup": "sub_skill_name=Extraction, translation and application of knowledge or information",
         "marker": {
          "color": "#fecb52",
          "symbol": "circle"
         },
         "mode": "lines",
         "name": "sub_skill_name=Extraction, translation and application of knowledge or information",
         "showlegend": false,
         "type": "scatter",
         "uid": "c3cdc49c-21ba-4189-ab60-ce56ffba8996",
         "x": [
          2007,
          2008,
          2009,
          2014,
          2016,
          2018
         ],
         "xaxis": "x4",
         "y": [
          4.990281366663939,
          5.524149716396843,
          6.211112120332677,
          -4.113629784687844,
          -0.7346918449158135,
          1.3884141066119164
         ],
         "yaxis": "y"
        },
        {
         "hovertemplate": "class=3<br>skill_name=Reasoning and Analysis Skills<br>sub_skill_name=Representing, relating or explaining scientific processes or observed phenomena<br>year=%{x}<br>subSkill_delta=%{y}<br>studentCount=%{marker.size}<extra></extra>",
         "legendgroup": "sub_skill_name=Representing, relating or explaining scientific processes or observed phenomena",
         "marker": {
          "color": "#ffa15a",
          "size": [
           113,
           18,
           73,
           75,
           106,
           109
          ],
          "sizemode": "area",
          "sizeref": 1.15,
          "symbol": "circle"
         },
         "mode": "markers",
         "name": "sub_skill_name=Representing, relating or explaining scientific processes or observed phenomena",
         "showlegend": true,
         "type": "scatter",
         "uid": "665e27db-7d0b-4e8b-a461-6081ed996496",
         "x": [
          "2018",
          "2007",
          "2008",
          "2009",
          "2014",
          "2016"
         ],
         "xaxis": "x4",
         "y": [
          3.8299999999999983,
          -0.7399999999999949,
          2.269999999999996,
          2.8500000000000014,
          -2.229999999999997,
          11.200000000000003
         ],
         "yaxis": "y"
        },
        {
         "hovertemplate": "<b>LOWESS trendline</b><br><br>class=3<br>skill_name=Reasoning and Analysis Skills<br>sub_skill_name=Representing, relating or explaining scientific processes or observed phenomena<br>year=%{x}<br>subSkill_delta=%{y} <b>(trend)</b><extra></extra>",
         "legendgroup": "sub_skill_name=Representing, relating or explaining scientific processes or observed phenomena",
         "marker": {
          "color": "#ffa15a",
          "symbol": "circle"
         },
         "mode": "lines",
         "name": "sub_skill_name=Representing, relating or explaining scientific processes or observed phenomena",
         "showlegend": false,
         "type": "scatter",
         "uid": "6666c484-f270-44c7-9124-21635ad8de4c",
         "x": [
          2007,
          2008,
          2009,
          2014,
          2016,
          2018
         ],
         "xaxis": "x4",
         "y": [
          -0.42436234239363957,
          1.3783778034053469,
          3.155122871832447,
          -2.230000000000121,
          0.8000000000000007,
          3.830000000000062
         ],
         "yaxis": "y"
        },
        {
         "hovertemplate": "class=4<br>skill_name=Conceptual Understanding and Comprehension<br>sub_skill_name=Classification/comparison of organisms/processes; giving examples<br>year=%{x}<br>subSkill_delta=%{y}<br>studentCount=%{marker.size}<extra></extra>",
         "legendgroup": "sub_skill_name=Classification/comparison of organisms/processes; giving examples",
         "marker": {
          "color": "#636efa",
          "size": [
           113,
           12,
           73,
           75,
           104,
           112
          ],
          "sizemode": "area",
          "sizeref": 1.15,
          "symbol": "circle"
         },
         "mode": "markers",
         "name": "sub_skill_name=Classification/comparison of organisms/processes; giving examples",
         "showlegend": false,
         "type": "scatter",
         "uid": "33b83f8c-df5f-4a65-80e4-07e298e5506e",
         "x": [
          "2018",
          "2007",
          "2008",
          "2009",
          "2014",
          "2016"
         ],
         "xaxis": "x",
         "y": [
          7.210000000000001,
          -5.380000000000003,
          0.759999999999998,
          3.5700000000000003,
          0.36000000000000654,
          1.2100000000000009
         ],
         "yaxis": "y2"
        },
        {
         "hovertemplate": "<b>LOWESS trendline</b><br><br>class=4<br>skill_name=Conceptual Understanding and Comprehension<br>sub_skill_name=Classification/comparison of organisms/processes; giving examples<br>year=%{x}<br>subSkill_delta=%{y} <b>(trend)</b><extra></extra>",
         "legendgroup": "sub_skill_name=Classification/comparison of organisms/processes; giving examples",
         "marker": {
          "color": "#636efa",
          "symbol": "circle"
         },
         "mode": "lines",
         "name": "sub_skill_name=Classification/comparison of organisms/processes; giving examples",
         "showlegend": false,
         "type": "scatter",
         "uid": "b0b91a70-bb59-464f-aaed-e4b2851dcdf4",
         "x": [
          2007,
          2008,
          2009,
          2014,
          2016,
          2018
         ],
         "xaxis": "x",
         "y": [
          -4.928844833539069,
          -0.4425717433724712,
          4.006117442936148,
          0.15547276476209448,
          3.3982095889929482,
          6.855431450511549
         ],
         "yaxis": "y2"
        },
        {
         "hovertemplate": "class=4<br>skill_name=Conceptual Understanding and Comprehension<br>sub_skill_name=Knowledge of use of scientific instruments, tools and procedures<br>year=%{x}<br>subSkill_delta=%{y}<br>studentCount=%{marker.size}<extra></extra>",
         "legendgroup": "sub_skill_name=Knowledge of use of scientific instruments, tools and procedures",
         "marker": {
          "color": "#EF553B",
          "size": [
           113,
           12,
           73,
           75,
           104,
           112
          ],
          "sizemode": "area",
          "sizeref": 1.15,
          "symbol": "circle"
         },
         "mode": "markers",
         "name": "sub_skill_name=Knowledge of use of scientific instruments, tools and procedures",
         "showlegend": false,
         "type": "scatter",
         "uid": "851e2b04-52d2-4abf-b9cd-4f7fcd27a347",
         "x": [
          "2018",
          "2007",
          "2008",
          "2009",
          "2014",
          "2016"
         ],
         "xaxis": "x",
         "y": [
          1.8599999999999994,
          -0.5300000000000011,
          1.0799999999999983,
          0.1599999999999966,
          -2.210000000000001,
          -2.3200000000000003
         ],
         "yaxis": "y2"
        },
        {
         "hovertemplate": "<b>LOWESS trendline</b><br><br>class=4<br>skill_name=Conceptual Understanding and Comprehension<br>sub_skill_name=Knowledge of use of scientific instruments, tools and procedures<br>year=%{x}<br>subSkill_delta=%{y} <b>(trend)</b><extra></extra>",
         "legendgroup": "sub_skill_name=Knowledge of use of scientific instruments, tools and procedures",
         "marker": {
          "color": "#EF553B",
          "symbol": "circle"
         },
         "mode": "lines",
         "name": "sub_skill_name=Knowledge of use of scientific instruments, tools and procedures",
         "showlegend": false,
         "type": "scatter",
         "uid": "cd7ce5df-ff6b-47ea-ac66-69f8103a55d7",
         "x": [
          2007,
          2008,
          2009,
          2014,
          2016,
          2018
         ],
         "xaxis": "x",
         "y": [
          -0.18297270250105946,
          0.17072195557402595,
          0.49541093306698486,
          -2.347227514794066,
          -0.41526281459019965,
          1.639428937215427
         ],
         "yaxis": "y2"
        },
        {
         "hovertemplate": "class=4<br>skill_name=Knowledge of Basic Science Facts<br>sub_skill_name=Definition or description of scientific terms, organisms or materials<br>year=%{x}<br>subSkill_delta=%{y}<br>studentCount=%{marker.size}<extra></extra>",
         "legendgroup": "sub_skill_name=Definition or description of scientific terms, organisms or materials",
         "marker": {
          "color": "#00cc96",
          "size": [
           113,
           12,
           73,
           75,
           104,
           112
          ],
          "sizemode": "area",
          "sizeref": 1.15,
          "symbol": "circle"
         },
         "mode": "markers",
         "name": "sub_skill_name=Definition or description of scientific terms, organisms or materials",
         "showlegend": false,
         "type": "scatter",
         "uid": "9dedc89f-6bfb-4784-ab53-5139e55631cd",
         "x": [
          "2018",
          "2007",
          "2008",
          "2009",
          "2014",
          "2016"
         ],
         "xaxis": "x2",
         "y": [
          2.25,
          -0.39000000000000057,
          -1.75,
          -1.2999999999999972,
          -0.539999999999992,
          -3.219999999999999
         ],
         "yaxis": "y2"
        },
        {
         "hovertemplate": "<b>LOWESS trendline</b><br><br>class=4<br>skill_name=Knowledge of Basic Science Facts<br>sub_skill_name=Definition or description of scientific terms, organisms or materials<br>year=%{x}<br>subSkill_delta=%{y} <b>(trend)</b><extra></extra>",
         "legendgroup": "sub_skill_name=Definition or description of scientific terms, organisms or materials",
         "marker": {
          "color": "#00cc96",
          "symbol": "circle"
         },
         "mode": "lines",
         "name": "sub_skill_name=Definition or description of scientific terms, organisms or materials",
         "showlegend": false,
         "type": "scatter",
         "uid": "a8883b30-a7e8-4c2f-95c1-426fcf4c6c69",
         "x": [
          2007,
          2008,
          2009,
          2014,
          2016,
          2018
         ],
         "xaxis": "x2",
         "y": [
          -0.634603255457072,
          -1.0956466747561446,
          -1.5363344136677166,
          -0.5400000000000408,
          0.855000000000004,
          2.250000000000036
         ],
         "yaxis": "y2"
        },
        {
         "hovertemplate": "class=4<br>skill_name=Knowledge of Basic Science Facts<br>sub_skill_name=Recollection or recognition of science facts and concepts<br>year=%{x}<br>subSkill_delta=%{y}<br>studentCount=%{marker.size}<extra></extra>",
         "legendgroup": "sub_skill_name=Recollection or recognition of science facts and concepts",
         "marker": {
          "color": "#ab63fa",
          "size": [
           113,
           12,
           73,
           75,
           104,
           112
          ],
          "sizemode": "area",
          "sizeref": 1.15,
          "symbol": "circle"
         },
         "mode": "markers",
         "name": "sub_skill_name=Recollection or recognition of science facts and concepts",
         "showlegend": false,
         "type": "scatter",
         "uid": "31646fdd-16ec-4a1b-8a38-ab696ae05bdd",
         "x": [
          "2018",
          "2007",
          "2008",
          "2009",
          "2014",
          "2016"
         ],
         "xaxis": "x2",
         "y": [
          5.27000000000001,
          -7.090000000000003,
          -4.969999999999999,
          2.0600000000000023,
          6.590000000000003,
          -0.7700000000000102
         ],
         "yaxis": "y2"
        },
        {
         "hovertemplate": "<b>LOWESS trendline</b><br><br>class=4<br>skill_name=Knowledge of Basic Science Facts<br>sub_skill_name=Recollection or recognition of science facts and concepts<br>year=%{x}<br>subSkill_delta=%{y} <b>(trend)</b><extra></extra>",
         "legendgroup": "sub_skill_name=Recollection or recognition of science facts and concepts",
         "marker": {
          "color": "#ab63fa",
          "symbol": "circle"
         },
         "mode": "lines",
         "name": "sub_skill_name=Recollection or recognition of science facts and concepts",
         "showlegend": false,
         "type": "scatter",
         "uid": "663a39ed-d36e-461a-be86-fb15998017aa",
         "x": [
          2007,
          2008,
          2009,
          2014,
          2016,
          2018
         ],
         "xaxis": "x2",
         "y": [
          -7.761388746815939,
          -3.2030173673186653,
          1.4114030050266635,
          6.589999999999763,
          5.929999999999946,
          5.27000000000093
         ],
         "yaxis": "y2"
        },
        {
         "hovertemplate": "class=4<br>skill_name=Original Thinking<br>sub_skill_name=Complex analysis, data interpretation, integrating different concepts<br>year=%{x}<br>subSkill_delta=%{y}<br>studentCount=%{marker.size}<extra></extra>",
         "legendgroup": "sub_skill_name=Complex analysis, data interpretation, integrating different concepts",
         "marker": {
          "color": "#19d3f3",
          "size": [
           113,
           12,
           73,
           75,
           104,
           112
          ],
          "sizemode": "area",
          "sizeref": 1.15,
          "symbol": "circle"
         },
         "mode": "markers",
         "name": "sub_skill_name=Complex analysis, data interpretation, integrating different concepts",
         "showlegend": false,
         "type": "scatter",
         "uid": "0de3958e-119c-42d5-bcef-7dbbff197093",
         "x": [
          "2018",
          "2007",
          "2008",
          "2009",
          "2014",
          "2016"
         ],
         "xaxis": "x3",
         "y": [
          3.75,
          6.350000000000001,
          4.229999999999997,
          0.6099999999999994,
          1.5600000000000023,
          9.550000000000004
         ],
         "yaxis": "y2"
        },
        {
         "hovertemplate": "<b>LOWESS trendline</b><br><br>class=4<br>skill_name=Original Thinking<br>sub_skill_name=Complex analysis, data interpretation, integrating different concepts<br>year=%{x}<br>subSkill_delta=%{y} <b>(trend)</b><extra></extra>",
         "legendgroup": "sub_skill_name=Complex analysis, data interpretation, integrating different concepts",
         "marker": {
          "color": "#19d3f3",
          "symbol": "circle"
         },
         "mode": "lines",
         "name": "sub_skill_name=Complex analysis, data interpretation, integrating different concepts",
         "showlegend": false,
         "type": "scatter",
         "uid": "e34bf194-b1e0-4d31-a81b-74ac3454adf5",
         "x": [
          2007,
          2008,
          2009,
          2014,
          2016,
          2018
         ],
         "xaxis": "x3",
         "y": [
          6.544972298998249,
          3.6797538309433557,
          0.7984751242802167,
          1.5599999999999992,
          2.655000000000001,
          3.7500000000000555
         ],
         "yaxis": "y2"
        },
        {
         "hovertemplate": "class=4<br>skill_name=Original Thinking<br>sub_skill_name=Hypothesis formulation or prediction of outcome<br>year=%{x}<br>subSkill_delta=%{y}<br>studentCount=%{marker.size}<extra></extra>",
         "legendgroup": "sub_skill_name=Hypothesis formulation or prediction of outcome",
         "marker": {
          "color": "#e763fa",
          "size": [
           113,
           12,
           73,
           75,
           104,
           112
          ],
          "sizemode": "area",
          "sizeref": 1.15,
          "symbol": "circle"
         },
         "mode": "markers",
         "name": "sub_skill_name=Hypothesis formulation or prediction of outcome",
         "showlegend": false,
         "type": "scatter",
         "uid": "57186a5f-c561-430a-9172-b7c9efb76a96",
         "x": [
          "2018",
          "2007",
          "2008",
          "2009",
          "2014",
          "2016"
         ],
         "xaxis": "x3",
         "y": [
          0.7600000000000051,
          -6.259999999999998,
          -4.410000000000004,
          -1.5700000000000003,
          1.7100000000000009,
          10.550000000000004
         ],
         "yaxis": "y2"
        },
        {
         "hovertemplate": "<b>LOWESS trendline</b><br><br>class=4<br>skill_name=Original Thinking<br>sub_skill_name=Hypothesis formulation or prediction of outcome<br>year=%{x}<br>subSkill_delta=%{y} <b>(trend)</b><extra></extra>",
         "legendgroup": "sub_skill_name=Hypothesis formulation or prediction of outcome",
         "marker": {
          "color": "#e763fa",
          "symbol": "circle"
         },
         "mode": "lines",
         "name": "sub_skill_name=Hypothesis formulation or prediction of outcome",
         "showlegend": false,
         "type": "scatter",
         "uid": "aa69967b-38ee-4dc3-9899-e6e18f9b4094",
         "x": [
          2007,
          2008,
          2009,
          2014,
          2016,
          2018
         ],
         "xaxis": "x3",
         "y": [
          -6.389255580152801,
          -4.0474270607818745,
          -1.6949393239703774,
          1.7100000000000446,
          1.235000000000003,
          0.7600000000000138
         ],
         "yaxis": "y2"
        },
        {
         "hovertemplate": "class=4<br>skill_name=Reasoning and Analysis Skills<br>sub_skill_name=Extraction, translation and application of knowledge or information<br>year=%{x}<br>subSkill_delta=%{y}<br>studentCount=%{marker.size}<extra></extra>",
         "legendgroup": "sub_skill_name=Extraction, translation and application of knowledge or information",
         "marker": {
          "color": "#fecb52",
          "size": [
           113,
           12,
           73,
           75,
           104,
           112
          ],
          "sizemode": "area",
          "sizeref": 1.15,
          "symbol": "circle"
         },
         "mode": "markers",
         "name": "sub_skill_name=Extraction, translation and application of knowledge or information",
         "showlegend": false,
         "type": "scatter",
         "uid": "6d26e5a2-bafe-4753-b983-02dec8920eb0",
         "x": [
          "2018",
          "2007",
          "2008",
          "2009",
          "2014",
          "2016"
         ],
         "xaxis": "x4",
         "y": [
          4.030000000000001,
          -4.539999999999999,
          -2.109999999999996,
          2.5,
          -0.030000000000001137,
          3.3699999999999974
         ],
         "yaxis": "y2"
        },
        {
         "hovertemplate": "<b>LOWESS trendline</b><br><br>class=4<br>skill_name=Reasoning and Analysis Skills<br>sub_skill_name=Extraction, translation and application of knowledge or information<br>year=%{x}<br>subSkill_delta=%{y} <b>(trend)</b><extra></extra>",
         "legendgroup": "sub_skill_name=Extraction, translation and application of knowledge or information",
         "marker": {
          "color": "#fecb52",
          "symbol": "circle"
         },
         "mode": "lines",
         "name": "sub_skill_name=Extraction, translation and application of knowledge or information",
         "showlegend": false,
         "type": "scatter",
         "uid": "75239d49-4b90-44f9-b3d6-c800d4b2e3c1",
         "x": [
          2007,
          2008,
          2009,
          2014,
          2016,
          2018
         ],
         "xaxis": "x4",
         "y": [
          -4.822271354770728,
          -1.3092492609959308,
          2.2270076986721206,
          0.1069258013756835,
          2.2892861993208715,
          4.294354610912571
         ],
         "yaxis": "y2"
        },
        {
         "hovertemplate": "class=4<br>skill_name=Reasoning and Analysis Skills<br>sub_skill_name=Representing, relating or explaining scientific processes or observed phenomena<br>year=%{x}<br>subSkill_delta=%{y}<br>studentCount=%{marker.size}<extra></extra>",
         "legendgroup": "sub_skill_name=Representing, relating or explaining scientific processes or observed phenomena",
         "marker": {
          "color": "#ffa15a",
          "size": [
           113,
           12,
           73,
           75,
           104,
           112
          ],
          "sizemode": "area",
          "sizeref": 1.15,
          "symbol": "circle"
         },
         "mode": "markers",
         "name": "sub_skill_name=Representing, relating or explaining scientific processes or observed phenomena",
         "showlegend": false,
         "type": "scatter",
         "uid": "4adaafbf-4c01-449e-8cad-13c13d20814f",
         "x": [
          "2018",
          "2007",
          "2008",
          "2009",
          "2014",
          "2016"
         ],
         "xaxis": "x4",
         "y": [
          0.19999999999999574,
          -5.520000000000003,
          2.4199999999999946,
          1.8100000000000023,
          -1.4200000000000017,
          3.970000000000006
         ],
         "yaxis": "y2"
        },
        {
         "hovertemplate": "<b>LOWESS trendline</b><br><br>class=4<br>skill_name=Reasoning and Analysis Skills<br>sub_skill_name=Representing, relating or explaining scientific processes or observed phenomena<br>year=%{x}<br>subSkill_delta=%{y} <b>(trend)</b><extra></extra>",
         "legendgroup": "sub_skill_name=Representing, relating or explaining scientific processes or observed phenomena",
         "marker": {
          "color": "#ffa15a",
          "symbol": "circle"
         },
         "mode": "lines",
         "name": "sub_skill_name=Representing, relating or explaining scientific processes or observed phenomena",
         "showlegend": false,
         "type": "scatter",
         "uid": "c125a8fa-0a7b-46e5-b332-dfb17861bd90",
         "x": [
          2007,
          2008,
          2009,
          2014,
          2016,
          2018
         ],
         "xaxis": "x4",
         "y": [
          -4.474607409591837,
          -0.7840843270431234,
          2.8216341687974777,
          -0.9223883294337674,
          0.4943685810862634,
          1.2069555525401947
         ],
         "yaxis": "y2"
        },
        {
         "hovertemplate": "class=5<br>skill_name=Conceptual Understanding and Comprehension<br>sub_skill_name=Classification/comparison of organisms/processes; giving examples<br>year=%{x}<br>subSkill_delta=%{y}<br>studentCount=%{marker.size}<extra></extra>",
         "legendgroup": "sub_skill_name=Classification/comparison of organisms/processes; giving examples",
         "marker": {
          "color": "#636efa",
          "size": [
           113,
           12,
           74,
           75,
           107,
           105
          ],
          "sizemode": "area",
          "sizeref": 1.15,
          "symbol": "circle"
         },
         "mode": "markers",
         "name": "sub_skill_name=Classification/comparison of organisms/processes; giving examples",
         "showlegend": false,
         "type": "scatter",
         "uid": "5e46027f-4e3c-4f0d-8dd9-681a06efb8d6",
         "x": [
          "2018",
          "2007",
          "2008",
          "2009",
          "2014",
          "2016"
         ],
         "xaxis": "x",
         "y": [
          0.46999999999999886,
          3.6799999999999997,
          -1.3699999999999974,
          1.6199999999999974,
          1.4299999999999997,
          -2.780000000000001
         ],
         "yaxis": "y3"
        },
        {
         "hovertemplate": "<b>LOWESS trendline</b><br><br>class=5<br>skill_name=Conceptual Understanding and Comprehension<br>sub_skill_name=Classification/comparison of organisms/processes; giving examples<br>year=%{x}<br>subSkill_delta=%{y} <b>(trend)</b><extra></extra>",
         "legendgroup": "sub_skill_name=Classification/comparison of organisms/processes; giving examples",
         "marker": {
          "color": "#636efa",
          "symbol": "circle"
         },
         "mode": "lines",
         "name": "sub_skill_name=Classification/comparison of organisms/processes; giving examples",
         "showlegend": false,
         "type": "scatter",
         "uid": "0f59c361-009f-4b55-88a5-d5fa24b47e18",
         "x": [
          2007,
          2008,
          2009,
          2014,
          2016,
          2018
         ],
         "xaxis": "x",
         "y": [
          2.7229988839587054,
          1.6697596315677987,
          0.6936429478366527,
          0.9957218921416322,
          -0.05660326146232683,
          -0.44496356163476103
         ],
         "yaxis": "y3"
        },
        {
         "hovertemplate": "class=5<br>skill_name=Conceptual Understanding and Comprehension<br>sub_skill_name=Knowledge of use of scientific instruments, tools and procedures<br>year=%{x}<br>subSkill_delta=%{y}<br>studentCount=%{marker.size}<extra></extra>",
         "legendgroup": "sub_skill_name=Knowledge of use of scientific instruments, tools and procedures",
         "marker": {
          "color": "#EF553B",
          "size": [
           113,
           12,
           74,
           75,
           107,
           105
          ],
          "sizemode": "area",
          "sizeref": 1.15,
          "symbol": "circle"
         },
         "mode": "markers",
         "name": "sub_skill_name=Knowledge of use of scientific instruments, tools and procedures",
         "showlegend": false,
         "type": "scatter",
         "uid": "3950375f-6e86-4b41-8207-7c74db8f0390",
         "x": [
          "2018",
          "2007",
          "2008",
          "2009",
          "2014",
          "2016"
         ],
         "xaxis": "x",
         "y": [
          -0.259999999999998,
          3.719999999999999,
          -1.5300000000000011,
          -0.6999999999999957,
          5.469999999999999,
          1.6200000000000045
         ],
         "yaxis": "y3"
        },
        {
         "hovertemplate": "<b>LOWESS trendline</b><br><br>class=5<br>skill_name=Conceptual Understanding and Comprehension<br>sub_skill_name=Knowledge of use of scientific instruments, tools and procedures<br>year=%{x}<br>subSkill_delta=%{y} <b>(trend)</b><extra></extra>",
         "legendgroup": "sub_skill_name=Knowledge of use of scientific instruments, tools and procedures",
         "marker": {
          "color": "#EF553B",
          "symbol": "circle"
         },
         "mode": "lines",
         "name": "sub_skill_name=Knowledge of use of scientific instruments, tools and procedures",
         "showlegend": false,
         "type": "scatter",
         "uid": "cfd2e1bf-57c3-4ff3-a5ee-f8fd763a9a37",
         "x": [
          2007,
          2008,
          2009,
          2014,
          2016,
          2018
         ],
         "xaxis": "x",
         "y": [
          3.1879806711613474,
          0.9655340981429771,
          -1.2167899280738448,
          5.337198817117869,
          2.2719186374803284,
          -0.557233028808554
         ],
         "yaxis": "y3"
        },
        {
         "hovertemplate": "class=5<br>skill_name=Knowledge of Basic Science Facts<br>sub_skill_name=Definition or description of scientific terms, organisms or materials<br>year=%{x}<br>subSkill_delta=%{y}<br>studentCount=%{marker.size}<extra></extra>",
         "legendgroup": "sub_skill_name=Definition or description of scientific terms, organisms or materials",
         "marker": {
          "color": "#00cc96",
          "size": [
           113,
           12,
           74,
           75,
           107,
           105
          ],
          "sizemode": "area",
          "sizeref": 1.15,
          "symbol": "circle"
         },
         "mode": "markers",
         "name": "sub_skill_name=Definition or description of scientific terms, organisms or materials",
         "showlegend": false,
         "type": "scatter",
         "uid": "476a790a-ab12-44fd-bff8-58c5d3606994",
         "x": [
          "2018",
          "2007",
          "2008",
          "2009",
          "2014",
          "2016"
         ],
         "xaxis": "x2",
         "y": [
          9.14,
          2.6700000000000017,
          1.6700000000000017,
          12.090000000000003,
          -0.3299999999999983,
          -6.090000000000003
         ],
         "yaxis": "y3"
        },
        {
         "hovertemplate": "<b>LOWESS trendline</b><br><br>class=5<br>skill_name=Knowledge of Basic Science Facts<br>sub_skill_name=Definition or description of scientific terms, organisms or materials<br>year=%{x}<br>subSkill_delta=%{y} <b>(trend)</b><extra></extra>",
         "legendgroup": "sub_skill_name=Definition or description of scientific terms, organisms or materials",
         "marker": {
          "color": "#00cc96",
          "symbol": "circle"
         },
         "mode": "lines",
         "name": "sub_skill_name=Definition or description of scientific terms, organisms or materials",
         "showlegend": false,
         "type": "scatter",
         "uid": "8a9acaf2-d808-4949-813f-5941385bd908",
         "x": [
          2007,
          2008,
          2009,
          2014,
          2016,
          2018
         ],
         "xaxis": "x2",
         "y": [
          1.0919383182974016,
          5.762354504079396,
          10.564933137927943,
          -0.8055063092365987,
          3.641199729282991,
          8.437918645430146
         ],
         "yaxis": "y3"
        },
        {
         "hovertemplate": "class=5<br>skill_name=Knowledge of Basic Science Facts<br>sub_skill_name=Recollection or recognition of science facts and concepts<br>year=%{x}<br>subSkill_delta=%{y}<br>studentCount=%{marker.size}<extra></extra>",
         "legendgroup": "sub_skill_name=Recollection or recognition of science facts and concepts",
         "marker": {
          "color": "#ab63fa",
          "size": [
           113,
           12,
           74,
           75,
           107,
           105
          ],
          "sizemode": "area",
          "sizeref": 1.15,
          "symbol": "circle"
         },
         "mode": "markers",
         "name": "sub_skill_name=Recollection or recognition of science facts and concepts",
         "showlegend": false,
         "type": "scatter",
         "uid": "957060ef-320b-4e58-bc04-6571c012e058",
         "x": [
          "2018",
          "2007",
          "2008",
          "2009",
          "2014",
          "2016"
         ],
         "xaxis": "x2",
         "y": [
          3.280000000000001,
          15.04,
          7.399999999999999,
          4.989999999999995,
          -0.14000000000000057,
          -1.1200000000000045
         ],
         "yaxis": "y3"
        },
        {
         "hovertemplate": "<b>LOWESS trendline</b><br><br>class=5<br>skill_name=Knowledge of Basic Science Facts<br>sub_skill_name=Recollection or recognition of science facts and concepts<br>year=%{x}<br>subSkill_delta=%{y} <b>(trend)</b><extra></extra>",
         "legendgroup": "sub_skill_name=Recollection or recognition of science facts and concepts",
         "marker": {
          "color": "#ab63fa",
          "symbol": "circle"
         },
         "mode": "lines",
         "name": "sub_skill_name=Recollection or recognition of science facts and concepts",
         "showlegend": false,
         "type": "scatter",
         "uid": "22d5a159-5bc9-4b77-92d6-5c9730de64da",
         "x": [
          2007,
          2008,
          2009,
          2014,
          2016,
          2018
         ],
         "xaxis": "x2",
         "y": [
          14.41256206898301,
          9.372301105662954,
          4.382701292014015,
          -0.43672509723082004,
          0.905235067167331,
          2.674193380318716
         ],
         "yaxis": "y3"
        },
        {
         "hovertemplate": "class=5<br>skill_name=Original Thinking<br>sub_skill_name=Hypothesis formulation or prediction of outcome<br>year=%{x}<br>subSkill_delta=%{y}<br>studentCount=%{marker.size}<extra></extra>",
         "legendgroup": "sub_skill_name=Hypothesis formulation or prediction of outcome",
         "marker": {
          "color": "#e763fa",
          "size": [
           113,
           12,
           74,
           75,
           107,
           105
          ],
          "sizemode": "area",
          "sizeref": 1.15,
          "symbol": "circle"
         },
         "mode": "markers",
         "name": "sub_skill_name=Hypothesis formulation or prediction of outcome",
         "showlegend": false,
         "type": "scatter",
         "uid": "71516d7d-5746-4971-b478-b769a2697558",
         "x": [
          "2018",
          "2007",
          "2008",
          "2009",
          "2014",
          "2016"
         ],
         "xaxis": "x3",
         "y": [
          0.5300000000000011,
          12.030000000000001,
          -4.020000000000003,
          4.43,
          3.509999999999998,
          -4.609999999999999
         ],
         "yaxis": "y3"
        },
        {
         "hovertemplate": "<b>LOWESS trendline</b><br><br>class=5<br>skill_name=Original Thinking<br>sub_skill_name=Hypothesis formulation or prediction of outcome<br>year=%{x}<br>subSkill_delta=%{y} <b>(trend)</b><extra></extra>",
         "legendgroup": "sub_skill_name=Hypothesis formulation or prediction of outcome",
         "marker": {
          "color": "#e763fa",
          "symbol": "circle"
         },
         "mode": "lines",
         "name": "sub_skill_name=Hypothesis formulation or prediction of outcome",
         "showlegend": false,
         "type": "scatter",
         "uid": "108051db-ee16-4493-9d50-b4013ec1180c",
         "x": [
          2007,
          2008,
          2009,
          2014,
          2016,
          2018
         ],
         "xaxis": "x3",
         "y": [
          9.113765255841583,
          5.242949126047437,
          1.6071457987578457,
          2.6372747995390147,
          -0.1471436902747914,
          -1.4128527910091666
         ],
         "yaxis": "y3"
        },
        {
         "hovertemplate": "class=5<br>skill_name=Original Thinking<br>sub_skill_name=Integrating different concepts or information for decision making<br>year=%{x}<br>subSkill_delta=%{y}<br>studentCount=%{marker.size}<extra></extra>",
         "legendgroup": "sub_skill_name=Integrating different concepts or information for decision making",
         "marker": {
          "color": "#ff6692",
          "size": [
           113,
           12,
           74,
           75,
           107,
           105
          ],
          "sizemode": "area",
          "sizeref": 1.15,
          "symbol": "circle"
         },
         "mode": "markers",
         "name": "sub_skill_name=Integrating different concepts or information for decision making",
         "showlegend": true,
         "type": "scatter",
         "uid": "674574ec-e412-4b12-a1f6-8bb6b224ce5d",
         "x": [
          "2018",
          "2007",
          "2008",
          "2009",
          "2014",
          "2016"
         ],
         "xaxis": "x3",
         "y": [
          0.03999999999999915,
          -4.259999999999998,
          -1.4699999999999989,
          6.979999999999997,
          5.420000000000002,
          1.1799999999999997
         ],
         "yaxis": "y3"
        },
        {
         "hovertemplate": "<b>LOWESS trendline</b><br><br>class=5<br>skill_name=Original Thinking<br>sub_skill_name=Integrating different concepts or information for decision making<br>year=%{x}<br>subSkill_delta=%{y} <b>(trend)</b><extra></extra>",
         "legendgroup": "sub_skill_name=Integrating different concepts or information for decision making",
         "marker": {
          "color": "#ff6692",
          "symbol": "circle"
         },
         "mode": "lines",
         "name": "sub_skill_name=Integrating different concepts or information for decision making",
         "showlegend": false,
         "type": "scatter",
         "uid": "17688b89-77e1-4620-b98f-4a95036caf50",
         "x": [
          2007,
          2008,
          2009,
          2014,
          2016,
          2018
         ],
         "xaxis": "x3",
         "y": [
          -4.933709740894582,
          0.669930287894565,
          6.32786307024667,
          5.216223331466262,
          2.2242681324081013,
          -0.4134902610038993
         ],
         "yaxis": "y3"
        },
        {
         "hovertemplate": "class=5<br>skill_name=Reasoning and Analysis Skills<br>sub_skill_name=Extraction, translation and application of knowledge or information<br>year=%{x}<br>subSkill_delta=%{y}<br>studentCount=%{marker.size}<extra></extra>",
         "legendgroup": "sub_skill_name=Extraction, translation and application of knowledge or information",
         "marker": {
          "color": "#fecb52",
          "size": [
           113,
           12,
           74,
           75,
           107,
           105
          ],
          "sizemode": "area",
          "sizeref": 1.15,
          "symbol": "circle"
         },
         "mode": "markers",
         "name": "sub_skill_name=Extraction, translation and application of knowledge or information",
         "showlegend": false,
         "type": "scatter",
         "uid": "da748ffe-afbc-47f6-b1c3-bcf63830c53c",
         "x": [
          "2018",
          "2007",
          "2008",
          "2009",
          "2014",
          "2016"
         ],
         "xaxis": "x4",
         "y": [
          -0.9699999999999989,
          3.0899999999999963,
          -9.34,
          2.6499999999999986,
          -0.7199999999999989,
          1.0700000000000003
         ],
         "yaxis": "y3"
        },
        {
         "hovertemplate": "<b>LOWESS trendline</b><br><br>class=5<br>skill_name=Reasoning and Analysis Skills<br>sub_skill_name=Extraction, translation and application of knowledge or information<br>year=%{x}<br>subSkill_delta=%{y} <b>(trend)</b><extra></extra>",
         "legendgroup": "sub_skill_name=Extraction, translation and application of knowledge or information",
         "marker": {
          "color": "#fecb52",
          "symbol": "circle"
         },
         "mode": "lines",
         "name": "sub_skill_name=Extraction, translation and application of knowledge or information",
         "showlegend": false,
         "type": "scatter",
         "uid": "c03c148b-4399-4494-a734-2a5a61783617",
         "x": [
          2007,
          2008,
          2009,
          2014,
          2016,
          2018
         ],
         "xaxis": "x4",
         "y": [
          3.089999999999523,
          2.8699999999999397,
          2.6499999999998436,
          -0.47034487392480673,
          -0.22558925317096312,
          -0.41307173028907684
         ],
         "yaxis": "y3"
        },
        {
         "hovertemplate": "class=5<br>skill_name=Reasoning and Analysis Skills<br>sub_skill_name=Representing, relating or explaining scientific processes or observed phenomena<br>year=%{x}<br>subSkill_delta=%{y}<br>studentCount=%{marker.size}<extra></extra>",
         "legendgroup": "sub_skill_name=Representing, relating or explaining scientific processes or observed phenomena",
         "marker": {
          "color": "#ffa15a",
          "size": [
           113,
           12,
           74,
           75,
           107,
           105
          ],
          "sizemode": "area",
          "sizeref": 1.15,
          "symbol": "circle"
         },
         "mode": "markers",
         "name": "sub_skill_name=Representing, relating or explaining scientific processes or observed phenomena",
         "showlegend": false,
         "type": "scatter",
         "uid": "9ab5dbe9-8ee5-4675-87e3-906b30217f41",
         "x": [
          "2018",
          "2007",
          "2008",
          "2009",
          "2014",
          "2016"
         ],
         "xaxis": "x4",
         "y": [
          1.0600000000000023,
          15.82,
          -3.7600000000000016,
          2.269999999999996,
          6.809999999999995,
          -2.5799999999999983
         ],
         "yaxis": "y3"
        },
        {
         "hovertemplate": "<b>LOWESS trendline</b><br><br>class=5<br>skill_name=Reasoning and Analysis Skills<br>sub_skill_name=Representing, relating or explaining scientific processes or observed phenomena<br>year=%{x}<br>subSkill_delta=%{y} <b>(trend)</b><extra></extra>",
         "legendgroup": "sub_skill_name=Representing, relating or explaining scientific processes or observed phenomena",
         "marker": {
          "color": "#ffa15a",
          "symbol": "circle"
         },
         "mode": "lines",
         "name": "sub_skill_name=Representing, relating or explaining scientific processes or observed phenomena",
         "showlegend": false,
         "type": "scatter",
         "uid": "6d6a5518-c950-44d3-8439-83974dbea8d0",
         "x": [
          2007,
          2008,
          2009,
          2014,
          2016,
          2018
         ],
         "xaxis": "x4",
         "y": [
          12.77164196743389,
          5.922617433389563,
          -0.6807467793409128,
          5.9472964136008075,
          1.7871029556188889,
          -0.8635263545297565
         ],
         "yaxis": "y3"
        },
        {
         "hovertemplate": "class=5<br>skill_name=Reasoning and Analysis Skills<br>sub_skill_name=Analysis of information to identify trends or properties<br>year=%{x}<br>subSkill_delta=%{y}<br>studentCount=%{marker.size}<extra></extra>",
         "legendgroup": "sub_skill_name=Analysis of information to identify trends or properties",
         "marker": {
          "color": "#b6e880",
          "size": [
           113,
           12,
           74,
           75,
           107,
           105
          ],
          "sizemode": "area",
          "sizeref": 1.15,
          "symbol": "circle"
         },
         "mode": "markers",
         "name": "sub_skill_name=Analysis of information to identify trends or properties",
         "showlegend": true,
         "type": "scatter",
         "uid": "d17af0f6-e6eb-44e9-97cc-ba4b5cd7cf8f",
         "x": [
          "2018",
          "2007",
          "2008",
          "2009",
          "2014",
          "2016"
         ],
         "xaxis": "x4",
         "y": [
          -3.1199999999999974,
          0.46999999999999886,
          -0.5300000000000011,
          8.079999999999998,
          7.640000000000001,
          3.220000000000006
         ],
         "yaxis": "y3"
        },
        {
         "hovertemplate": "<b>LOWESS trendline</b><br><br>class=5<br>skill_name=Reasoning and Analysis Skills<br>sub_skill_name=Analysis of information to identify trends or properties<br>year=%{x}<br>subSkill_delta=%{y} <b>(trend)</b><extra></extra>",
         "legendgroup": "sub_skill_name=Analysis of information to identify trends or properties",
         "marker": {
          "color": "#b6e880",
          "symbol": "circle"
         },
         "mode": "lines",
         "name": "sub_skill_name=Analysis of information to identify trends or properties",
         "showlegend": false,
         "type": "scatter",
         "uid": "b92946e2-3a95-4ca4-9eed-93d7de629c61",
         "x": [
          2007,
          2008,
          2009,
          2014,
          2016,
          2018
         ],
         "xaxis": "x4",
         "y": [
          0.4700000000000094,
          4.275000000000068,
          8.079999999999567,
          7.769120505778157,
          2.5836864601869545,
          -2.830964970364358
         ],
         "yaxis": "y3"
        },
        {
         "hovertemplate": "class=6<br>skill_name=Conceptual Understanding and Comprehension<br>sub_skill_name=Classification/comparison of organisms/processes; giving examples<br>year=%{x}<br>subSkill_delta=%{y}<br>studentCount=%{marker.size}<extra></extra>",
         "legendgroup": "sub_skill_name=Classification/comparison of organisms/processes; giving examples",
         "marker": {
          "color": "#636efa",
          "size": [
           111,
           17,
           73,
           79,
           82,
           100
          ],
          "sizemode": "area",
          "sizeref": 1.15,
          "symbol": "circle"
         },
         "mode": "markers",
         "name": "sub_skill_name=Classification/comparison of organisms/processes; giving examples",
         "showlegend": false,
         "type": "scatter",
         "uid": "a850358b-d38d-4d2e-9040-1f527270fa04",
         "x": [
          "2018",
          "2007",
          "2008",
          "2009",
          "2014",
          "2016"
         ],
         "xaxis": "x",
         "y": [
          11.040000000000003,
          2.3399999999999963,
          1.3900000000000006,
          2.460000000000001,
          9.519999999999996,
          0.1700000000000017
         ],
         "yaxis": "y4"
        },
        {
         "hovertemplate": "<b>LOWESS trendline</b><br><br>class=6<br>skill_name=Conceptual Understanding and Comprehension<br>sub_skill_name=Classification/comparison of organisms/processes; giving examples<br>year=%{x}<br>subSkill_delta=%{y} <b>(trend)</b><extra></extra>",
         "legendgroup": "sub_skill_name=Classification/comparison of organisms/processes; giving examples",
         "marker": {
          "color": "#636efa",
          "symbol": "circle"
         },
         "mode": "lines",
         "name": "sub_skill_name=Classification/comparison of organisms/processes; giving examples",
         "showlegend": false,
         "type": "scatter",
         "uid": "0d97f41c-6ad0-41e0-a466-96a6871863a1",
         "x": [
          2007,
          2008,
          2009,
          2014,
          2016,
          2018
         ],
         "xaxis": "x",
         "y": [
          2.0772394051664156,
          2.1307948731215793,
          2.2059986187950464,
          9.520000000000143,
          10.28,
          11.040000000000157
         ],
         "yaxis": "y4"
        },
        {
         "hovertemplate": "class=6<br>skill_name=Conceptual Understanding and Comprehension<br>sub_skill_name=Knowledge of use of scientific instruments, tools and procedures<br>year=%{x}<br>subSkill_delta=%{y}<br>studentCount=%{marker.size}<extra></extra>",
         "legendgroup": "sub_skill_name=Knowledge of use of scientific instruments, tools and procedures",
         "marker": {
          "color": "#EF553B",
          "size": [
           111,
           17,
           73,
           79,
           82,
           100
          ],
          "sizemode": "area",
          "sizeref": 1.15,
          "symbol": "circle"
         },
         "mode": "markers",
         "name": "sub_skill_name=Knowledge of use of scientific instruments, tools and procedures",
         "showlegend": false,
         "type": "scatter",
         "uid": "0ce280ce-2ce8-4c36-85bd-824fc662618c",
         "x": [
          "2018",
          "2007",
          "2008",
          "2009",
          "2014",
          "2016"
         ],
         "xaxis": "x",
         "y": [
          3.230000000000004,
          12.07,
          2.3599999999999994,
          -5.490000000000002,
          11.64,
          11.659999999999997
         ],
         "yaxis": "y4"
        },
        {
         "hovertemplate": "<b>LOWESS trendline</b><br><br>class=6<br>skill_name=Conceptual Understanding and Comprehension<br>sub_skill_name=Knowledge of use of scientific instruments, tools and procedures<br>year=%{x}<br>subSkill_delta=%{y} <b>(trend)</b><extra></extra>",
         "legendgroup": "sub_skill_name=Knowledge of use of scientific instruments, tools and procedures",
         "marker": {
          "color": "#EF553B",
          "symbol": "circle"
         },
         "mode": "lines",
         "name": "sub_skill_name=Knowledge of use of scientific instruments, tools and procedures",
         "showlegend": false,
         "type": "scatter",
         "uid": "315d920e-76bd-45cd-8c93-e01b5fa4db65",
         "x": [
          2007,
          2008,
          2009,
          2014,
          2016,
          2018
         ],
         "xaxis": "x",
         "y": [
          11.818881110355672,
          3.0326778303437614,
          -5.7326328907101995,
          11.640000000000324,
          7.435000000000002,
          3.230000000000033
         ],
         "yaxis": "y4"
        },
        {
         "hovertemplate": "class=6<br>skill_name=Knowledge of Basic Science Facts<br>sub_skill_name=Definition or description of scientific terms, organisms or materials<br>year=%{x}<br>subSkill_delta=%{y}<br>studentCount=%{marker.size}<extra></extra>",
         "legendgroup": "sub_skill_name=Definition or description of scientific terms, organisms or materials",
         "marker": {
          "color": "#00cc96",
          "size": [
           111,
           17,
           73,
           79,
           82,
           100
          ],
          "sizemode": "area",
          "sizeref": 1.15,
          "symbol": "circle"
         },
         "mode": "markers",
         "name": "sub_skill_name=Definition or description of scientific terms, organisms or materials",
         "showlegend": false,
         "type": "scatter",
         "uid": "11fe0cc3-76be-4b4c-a8d2-4c6ab03e7bf0",
         "x": [
          "2018",
          "2007",
          "2008",
          "2009",
          "2014",
          "2016"
         ],
         "xaxis": "x2",
         "y": [
          5.219999999999999,
          7.380000000000003,
          7.619999999999997,
          4.049999999999997,
          10.869999999999997,
          10.850000000000001
         ],
         "yaxis": "y4"
        },
        {
         "hovertemplate": "<b>LOWESS trendline</b><br><br>class=6<br>skill_name=Knowledge of Basic Science Facts<br>sub_skill_name=Definition or description of scientific terms, organisms or materials<br>year=%{x}<br>subSkill_delta=%{y} <b>(trend)</b><extra></extra>",
         "legendgroup": "sub_skill_name=Definition or description of scientific terms, organisms or materials",
         "marker": {
          "color": "#00cc96",
          "symbol": "circle"
         },
         "mode": "lines",
         "name": "sub_skill_name=Definition or description of scientific terms, organisms or materials",
         "showlegend": false,
         "type": "scatter",
         "uid": "31c61b44-c722-4ba0-893f-9108f6bbc5d2",
         "x": [
          2007,
          2008,
          2009,
          2014,
          2016,
          2018
         ],
         "xaxis": "x2",
         "y": [
          7.891877446908991,
          6.239642521063926,
          4.544860820344702,
          11.110434126506119,
          8.514932632412833,
          5.65045346047806
         ],
         "yaxis": "y4"
        },
        {
         "hovertemplate": "class=6<br>skill_name=Knowledge of Basic Science Facts<br>sub_skill_name=Recollection or recognition of science facts and concepts<br>year=%{x}<br>subSkill_delta=%{y}<br>studentCount=%{marker.size}<extra></extra>",
         "legendgroup": "sub_skill_name=Recollection or recognition of science facts and concepts",
         "marker": {
          "color": "#ab63fa",
          "size": [
           111,
           17,
           73,
           79,
           82,
           100
          ],
          "sizemode": "area",
          "sizeref": 1.15,
          "symbol": "circle"
         },
         "mode": "markers",
         "name": "sub_skill_name=Recollection or recognition of science facts and concepts",
         "showlegend": false,
         "type": "scatter",
         "uid": "b2652cac-8e17-4996-8904-ba20c0c47415",
         "x": [
          "2018",
          "2007",
          "2008",
          "2009",
          "2014",
          "2016"
         ],
         "xaxis": "x2",
         "y": [
          2.960000000000001,
          13.200000000000003,
          10.420000000000002,
          3.8599999999999994,
          -3.809999999999995,
          3.039999999999999
         ],
         "yaxis": "y4"
        },
        {
         "hovertemplate": "<b>LOWESS trendline</b><br><br>class=6<br>skill_name=Knowledge of Basic Science Facts<br>sub_skill_name=Recollection or recognition of science facts and concepts<br>year=%{x}<br>subSkill_delta=%{y} <b>(trend)</b><extra></extra>",
         "legendgroup": "sub_skill_name=Recollection or recognition of science facts and concepts",
         "marker": {
          "color": "#ab63fa",
          "symbol": "circle"
         },
         "mode": "lines",
         "name": "sub_skill_name=Recollection or recognition of science facts and concepts",
         "showlegend": false,
         "type": "scatter",
         "uid": "c35b6ea6-472f-4273-aeff-923b1aa9e1e7",
         "x": [
          2007,
          2008,
          2009,
          2014,
          2016,
          2018
         ],
         "xaxis": "x2",
         "y": [
          13.722238648147833,
          9.065338154707494,
          4.36470241987475,
          -3.650682958162097,
          -0.16832834201322178,
          3.1959223690740353
         ],
         "yaxis": "y4"
        },
        {
         "hovertemplate": "class=6<br>skill_name=Original Thinking<br>sub_skill_name=Integrating different concepts or information for decision making<br>year=%{x}<br>subSkill_delta=%{y}<br>studentCount=%{marker.size}<extra></extra>",
         "legendgroup": "sub_skill_name=Integrating different concepts or information for decision making",
         "marker": {
          "color": "#ff6692",
          "size": [
           111,
           17,
           73,
           79,
           82,
           100
          ],
          "sizemode": "area",
          "sizeref": 1.15,
          "symbol": "circle"
         },
         "mode": "markers",
         "name": "sub_skill_name=Integrating different concepts or information for decision making",
         "showlegend": false,
         "type": "scatter",
         "uid": "3e9ba6cf-e8aa-4316-86d4-17973988cb06",
         "x": [
          "2018",
          "2007",
          "2008",
          "2009",
          "2014",
          "2016"
         ],
         "xaxis": "x3",
         "y": [
          2.3100000000000023,
          17.28,
          8.809999999999995,
          -2.6599999999999966,
          4.960000000000001,
          3.020000000000003
         ],
         "yaxis": "y4"
        },
        {
         "hovertemplate": "<b>LOWESS trendline</b><br><br>class=6<br>skill_name=Original Thinking<br>sub_skill_name=Integrating different concepts or information for decision making<br>year=%{x}<br>subSkill_delta=%{y} <b>(trend)</b><extra></extra>",
         "legendgroup": "sub_skill_name=Integrating different concepts or information for decision making",
         "marker": {
          "color": "#ff6692",
          "symbol": "circle"
         },
         "mode": "lines",
         "name": "sub_skill_name=Integrating different concepts or information for decision making",
         "showlegend": false,
         "type": "scatter",
         "uid": "0719df03-b0b3-46a2-a641-c4bae2e39063",
         "x": [
          2007,
          2008,
          2009,
          2014,
          2016,
          2018
         ],
         "xaxis": "x3",
         "y": [
          17.619858538120802,
          7.658064587069836,
          -2.3307989535111053,
          4.8774897109836415,
          3.42845575136407,
          2.12550098324359
         ],
         "yaxis": "y4"
        },
        {
         "hovertemplate": "class=6<br>skill_name=Original Thinking<br>sub_skill_name=Hypothesis formulation; design of apparatus or experiment<br>year=%{x}<br>subSkill_delta=%{y}<br>studentCount=%{marker.size}<extra></extra>",
         "legendgroup": "sub_skill_name=Hypothesis formulation; design of apparatus or experiment",
         "marker": {
          "color": "#636efa",
          "size": [
           111,
           17,
           73,
           79,
           82,
           100
          ],
          "sizemode": "area",
          "sizeref": 1.15,
          "symbol": "circle"
         },
         "mode": "markers",
         "name": "sub_skill_name=Hypothesis formulation; design of apparatus or experiment",
         "showlegend": true,
         "type": "scatter",
         "uid": "27f39c4b-626d-43ce-9f47-f91e0b45dd7d",
         "x": [
          "2018",
          "2007",
          "2008",
          "2009",
          "2014",
          "2016"
         ],
         "xaxis": "x3",
         "y": [
          6.880000000000003,
          0.6799999999999997,
          1.8799999999999955,
          2.740000000000002,
          7.240000000000002,
          0.8100000000000023
         ],
         "yaxis": "y4"
        },
        {
         "hovertemplate": "<b>LOWESS trendline</b><br><br>class=6<br>skill_name=Original Thinking<br>sub_skill_name=Hypothesis formulation; design of apparatus or experiment<br>year=%{x}<br>subSkill_delta=%{y} <b>(trend)</b><extra></extra>",
         "legendgroup": "sub_skill_name=Hypothesis formulation; design of apparatus or experiment",
         "marker": {
          "color": "#636efa",
          "symbol": "circle"
         },
         "mode": "lines",
         "name": "sub_skill_name=Hypothesis formulation; design of apparatus or experiment",
         "showlegend": false,
         "type": "scatter",
         "uid": "66e18ac2-530c-4ca5-94dd-6ca5df6dc15a",
         "x": [
          2007,
          2008,
          2009,
          2014,
          2016,
          2018
         ],
         "xaxis": "x3",
         "y": [
          0.7244603740121927,
          1.7555514697565486,
          2.7829746071523993,
          7.240000000000135,
          7.060000000000002,
          6.880000000000096
         ],
         "yaxis": "y4"
        },
        {
         "hovertemplate": "class=6<br>skill_name=Reasoning and Analysis Skills<br>sub_skill_name=Extraction, translation and application of knowledge or information<br>year=%{x}<br>subSkill_delta=%{y}<br>studentCount=%{marker.size}<extra></extra>",
         "legendgroup": "sub_skill_name=Extraction, translation and application of knowledge or information",
         "marker": {
          "color": "#fecb52",
          "size": [
           111,
           17,
           73,
           79,
           82,
           100
          ],
          "sizemode": "area",
          "sizeref": 1.15,
          "symbol": "circle"
         },
         "mode": "markers",
         "name": "sub_skill_name=Extraction, translation and application of knowledge or information",
         "showlegend": false,
         "type": "scatter",
         "uid": "c64d2a90-042a-485b-a250-15c8c201b0e2",
         "x": [
          "2018",
          "2007",
          "2008",
          "2009",
          "2014",
          "2016"
         ],
         "xaxis": "x4",
         "y": [
          3.789999999999999,
          11.439999999999998,
          -3.700000000000003,
          8.149999999999999,
          -2.6799999999999997,
          4.670000000000002
         ],
         "yaxis": "y4"
        },
        {
         "hovertemplate": "<b>LOWESS trendline</b><br><br>class=6<br>skill_name=Reasoning and Analysis Skills<br>sub_skill_name=Extraction, translation and application of knowledge or information<br>year=%{x}<br>subSkill_delta=%{y} <b>(trend)</b><extra></extra>",
         "legendgroup": "sub_skill_name=Extraction, translation and application of knowledge or information",
         "marker": {
          "color": "#fecb52",
          "symbol": "circle"
         },
         "mode": "lines",
         "name": "sub_skill_name=Extraction, translation and application of knowledge or information",
         "showlegend": false,
         "type": "scatter",
         "uid": "50d78efa-cf11-4cc7-aaad-2786089d7ad2",
         "x": [
          2007,
          2008,
          2009,
          2014,
          2016,
          2018
         ],
         "xaxis": "x4",
         "y": [
          9.376761246716597,
          7.684174305801271,
          6.1434304264763675,
          -2.1249630404455964,
          1.9473682931054022,
          5.032413752262824
         ],
         "yaxis": "y4"
        },
        {
         "hovertemplate": "class=6<br>skill_name=Reasoning and Analysis Skills<br>sub_skill_name=Representing, relating or explaining scientific processes or observed phenomena<br>year=%{x}<br>subSkill_delta=%{y}<br>studentCount=%{marker.size}<extra></extra>",
         "legendgroup": "sub_skill_name=Representing, relating or explaining scientific processes or observed phenomena",
         "marker": {
          "color": "#ffa15a",
          "size": [
           111,
           17,
           73,
           79,
           82,
           100
          ],
          "sizemode": "area",
          "sizeref": 1.15,
          "symbol": "circle"
         },
         "mode": "markers",
         "name": "sub_skill_name=Representing, relating or explaining scientific processes or observed phenomena",
         "showlegend": false,
         "type": "scatter",
         "uid": "d85b5dc1-da81-452d-898b-52e4b4377a89",
         "x": [
          "2018",
          "2007",
          "2008",
          "2009",
          "2014",
          "2016"
         ],
         "xaxis": "x4",
         "y": [
          4.940000000000001,
          21.490000000000002,
          14.660000000000004,
          2.25,
          2.8600000000000065,
          0.7099999999999937
         ],
         "yaxis": "y4"
        },
        {
         "hovertemplate": "<b>LOWESS trendline</b><br><br>class=6<br>skill_name=Reasoning and Analysis Skills<br>sub_skill_name=Representing, relating or explaining scientific processes or observed phenomena<br>year=%{x}<br>subSkill_delta=%{y} <b>(trend)</b><extra></extra>",
         "legendgroup": "sub_skill_name=Representing, relating or explaining scientific processes or observed phenomena",
         "marker": {
          "color": "#ffa15a",
          "symbol": "circle"
         },
         "mode": "lines",
         "name": "sub_skill_name=Representing, relating or explaining scientific processes or observed phenomena",
         "showlegend": false,
         "type": "scatter",
         "uid": "caf6fd18-b8e6-41d6-afff-7f233a069386",
         "x": [
          2007,
          2008,
          2009,
          2014,
          2016,
          2018
         ],
         "xaxis": "x4",
         "y": [
          22.19046692873653,
          12.587663392735314,
          2.927658972951169,
          2.523200955669535,
          3.1654462532819023,
          4.269649868715791
         ],
         "yaxis": "y4"
        },
        {
         "hovertemplate": "class=6<br>skill_name=Reasoning and Analysis Skills<br>sub_skill_name=Analysis of information to identify trends or properties<br>year=%{x}<br>subSkill_delta=%{y}<br>studentCount=%{marker.size}<extra></extra>",
         "legendgroup": "sub_skill_name=Analysis of information to identify trends or properties",
         "marker": {
          "color": "#b6e880",
          "size": [
           111,
           17,
           73,
           79,
           82,
           100
          ],
          "sizemode": "area",
          "sizeref": 1.15,
          "symbol": "circle"
         },
         "mode": "markers",
         "name": "sub_skill_name=Analysis of information to identify trends or properties",
         "showlegend": false,
         "type": "scatter",
         "uid": "83eeb6b9-f542-405d-8b61-fea5728f04a8",
         "x": [
          "2018",
          "2007",
          "2008",
          "2009",
          "2014",
          "2016"
         ],
         "xaxis": "x4",
         "y": [
          5.289999999999999,
          12.649999999999999,
          2.1000000000000014,
          -2.3099999999999987,
          4.600000000000001,
          1.7700000000000031
         ],
         "yaxis": "y4"
        },
        {
         "hovertemplate": "<b>LOWESS trendline</b><br><br>class=6<br>skill_name=Reasoning and Analysis Skills<br>sub_skill_name=Analysis of information to identify trends or properties<br>year=%{x}<br>subSkill_delta=%{y} <b>(trend)</b><extra></extra>",
         "legendgroup": "sub_skill_name=Analysis of information to identify trends or properties",
         "marker": {
          "color": "#b6e880",
          "symbol": "circle"
         },
         "mode": "lines",
         "name": "sub_skill_name=Analysis of information to identify trends or properties",
         "showlegend": false,
         "type": "scatter",
         "uid": "911ecd77-ef5c-48da-a4c8-8645e1efe0f3",
         "x": [
          2007,
          2008,
          2009,
          2014,
          2016,
          2018
         ],
         "xaxis": "x4",
         "y": [
          11.911454939699759,
          4.413482329506287,
          -3.0248196193141403,
          4.250437357269545,
          4.16278658004042,
          4.577112278484404
         ],
         "yaxis": "y4"
        },
        {
         "hovertemplate": "class=6<br>skill_name=Reasoning and Analysis Skills<br>sub_skill_name=Advanced or complex data representation or interpretation<br>year=%{x}<br>subSkill_delta=%{y}<br>studentCount=%{marker.size}<extra></extra>",
         "legendgroup": "sub_skill_name=Advanced or complex data representation or interpretation",
         "marker": {
          "color": "#EF553B",
          "size": [
           111,
           17,
           73,
           79,
           82,
           100
          ],
          "sizemode": "area",
          "sizeref": 1.15,
          "symbol": "circle"
         },
         "mode": "markers",
         "name": "sub_skill_name=Advanced or complex data representation or interpretation",
         "showlegend": true,
         "type": "scatter",
         "uid": "ecad2f1e-d312-4322-9689-2009d5ceb5e1",
         "x": [
          "2018",
          "2007",
          "2008",
          "2009",
          "2014",
          "2016"
         ],
         "xaxis": "x4",
         "y": [
          3.4299999999999997,
          13.669999999999998,
          9.660000000000004,
          5.039999999999999,
          4.93,
          2.8700000000000045
         ],
         "yaxis": "y4"
        },
        {
         "hovertemplate": "<b>LOWESS trendline</b><br><br>class=6<br>skill_name=Reasoning and Analysis Skills<br>sub_skill_name=Advanced or complex data representation or interpretation<br>year=%{x}<br>subSkill_delta=%{y} <b>(trend)</b><extra></extra>",
         "legendgroup": "sub_skill_name=Advanced or complex data representation or interpretation",
         "marker": {
          "color": "#EF553B",
          "symbol": "circle"
         },
         "mode": "lines",
         "name": "sub_skill_name=Advanced or complex data representation or interpretation",
         "showlegend": false,
         "type": "scatter",
         "uid": "16e642f6-dbaa-485b-90b1-5d050b2f7b71",
         "x": [
          2007,
          2008,
          2009,
          2014,
          2016,
          2018
         ],
         "xaxis": "x4",
         "y": [
          13.752790968007732,
          9.439838156817673,
          5.119987629149694,
          4.930000000000108,
          4.18,
          3.430000000000044
         ],
         "yaxis": "y4"
        },
        {
         "hovertemplate": "class=7<br>skill_name=Conceptual Understanding and Comprehension<br>sub_skill_name=Classification/comparison of organisms/processes; giving examples<br>year=%{x}<br>subSkill_delta=%{y}<br>studentCount=%{marker.size}<extra></extra>",
         "legendgroup": "sub_skill_name=Classification/comparison of organisms/processes; giving examples",
         "marker": {
          "color": "#636efa",
          "size": [
           115,
           4,
           46,
           74,
           78,
           100
          ],
          "sizemode": "area",
          "sizeref": 1.15,
          "symbol": "circle"
         },
         "mode": "markers",
         "name": "sub_skill_name=Classification/comparison of organisms/processes; giving examples",
         "showlegend": false,
         "type": "scatter",
         "uid": "9ffeacfb-934a-4e73-8857-039365f18e19",
         "x": [
          "2018",
          "2007",
          "2008",
          "2009",
          "2014",
          "2016"
         ],
         "xaxis": "x",
         "y": [
          9.64,
          11.950000000000003,
          8.139999999999993,
          8.719999999999999,
          3.5,
          2.8900000000000006
         ],
         "yaxis": "y5"
        },
        {
         "hovertemplate": "<b>LOWESS trendline</b><br><br>class=7<br>skill_name=Conceptual Understanding and Comprehension<br>sub_skill_name=Classification/comparison of organisms/processes; giving examples<br>year=%{x}<br>subSkill_delta=%{y} <b>(trend)</b><extra></extra>",
         "legendgroup": "sub_skill_name=Classification/comparison of organisms/processes; giving examples",
         "marker": {
          "color": "#636efa",
          "symbol": "circle"
         },
         "mode": "lines",
         "name": "sub_skill_name=Classification/comparison of organisms/processes; giving examples",
         "showlegend": false,
         "type": "scatter",
         "uid": "5bb5dc52-1f27-4f6f-8524-fe97c7abb3a2",
         "x": [
          2007,
          2008,
          2009,
          2014,
          2016,
          2018
         ],
         "xaxis": "x",
         "y": [
          11.348623994769879,
          9.718560585759331,
          8.138744638518421,
          3.2564368416279033,
          6.138976967592872,
          9.244375016067655
         ],
         "yaxis": "y5"
        },
        {
         "hovertemplate": "class=7<br>skill_name=Conceptual Understanding and Comprehension<br>sub_skill_name=Knowledge of use of scientific instruments, tools and procedures<br>year=%{x}<br>subSkill_delta=%{y}<br>studentCount=%{marker.size}<extra></extra>",
         "legendgroup": "sub_skill_name=Knowledge of use of scientific instruments, tools and procedures",
         "marker": {
          "color": "#EF553B",
          "size": [
           115,
           4,
           46,
           74,
           78,
           100
          ],
          "sizemode": "area",
          "sizeref": 1.15,
          "symbol": "circle"
         },
         "mode": "markers",
         "name": "sub_skill_name=Knowledge of use of scientific instruments, tools and procedures",
         "showlegend": false,
         "type": "scatter",
         "uid": "a091ed9f-736c-4256-bc7f-60c7d5b73fc5",
         "x": [
          "2018",
          "2007",
          "2008",
          "2009",
          "2014",
          "2016"
         ],
         "xaxis": "x",
         "y": [
          10.07,
          10.36,
          4.740000000000002,
          -0.07000000000000028,
          4.289999999999999,
          4.909999999999997
         ],
         "yaxis": "y5"
        },
        {
         "hovertemplate": "<b>LOWESS trendline</b><br><br>class=7<br>skill_name=Conceptual Understanding and Comprehension<br>sub_skill_name=Knowledge of use of scientific instruments, tools and procedures<br>year=%{x}<br>subSkill_delta=%{y} <b>(trend)</b><extra></extra>",
         "legendgroup": "sub_skill_name=Knowledge of use of scientific instruments, tools and procedures",
         "marker": {
          "color": "#EF553B",
          "symbol": "circle"
         },
         "mode": "lines",
         "name": "sub_skill_name=Knowledge of use of scientific instruments, tools and procedures",
         "showlegend": false,
         "type": "scatter",
         "uid": "04205787-44a2-429c-8368-505639f238d4",
         "x": [
          2007,
          2008,
          2009,
          2014,
          2016,
          2018
         ],
         "xaxis": "x",
         "y": [
          10.255337352349104,
          5.037772307995561,
          -0.17118456145971442,
          4.289999999999994,
          7.18,
          10.07000000000015
         ],
         "yaxis": "y5"
        },
        {
         "hovertemplate": "class=7<br>skill_name=Knowledge of Basic Science Facts<br>sub_skill_name=Definition or description of scientific terms, organisms or materials<br>year=%{x}<br>subSkill_delta=%{y}<br>studentCount=%{marker.size}<extra></extra>",
         "legendgroup": "sub_skill_name=Definition or description of scientific terms, organisms or materials",
         "marker": {
          "color": "#00cc96",
          "size": [
           115,
           4,
           46,
           74,
           78,
           100
          ],
          "sizemode": "area",
          "sizeref": 1.15,
          "symbol": "circle"
         },
         "mode": "markers",
         "name": "sub_skill_name=Definition or description of scientific terms, organisms or materials",
         "showlegend": false,
         "type": "scatter",
         "uid": "69eed1a0-4599-4448-8892-bb38d7df03ea",
         "x": [
          "2018",
          "2007",
          "2008",
          "2009",
          "2014",
          "2016"
         ],
         "xaxis": "x2",
         "y": [
          10.060000000000002,
          -2.8200000000000003,
          6.82,
          6.270000000000003,
          -4.479999999999997,
          -0.6700000000000017
         ],
         "yaxis": "y5"
        },
        {
         "hovertemplate": "<b>LOWESS trendline</b><br><br>class=7<br>skill_name=Knowledge of Basic Science Facts<br>sub_skill_name=Definition or description of scientific terms, organisms or materials<br>year=%{x}<br>subSkill_delta=%{y} <b>(trend)</b><extra></extra>",
         "legendgroup": "sub_skill_name=Definition or description of scientific terms, organisms or materials",
         "marker": {
          "color": "#00cc96",
          "symbol": "circle"
         },
         "mode": "lines",
         "name": "sub_skill_name=Definition or description of scientific terms, organisms or materials",
         "showlegend": false,
         "type": "scatter",
         "uid": "5a8f8a8e-5a8a-48cc-ac0e-01a5a3f5dfd5",
         "x": [
          2007,
          2008,
          2009,
          2014,
          2016,
          2018
         ],
         "xaxis": "x2",
         "y": [
          -1.607084406409576,
          2.9673693226789712,
          7.444076910638309,
          -4.921455358598493,
          1.710333327696433,
          9.087288956069395
         ],
         "yaxis": "y5"
        },
        {
         "hovertemplate": "class=7<br>skill_name=Knowledge of Basic Science Facts<br>sub_skill_name=Recollection or recognition of science facts and concepts<br>year=%{x}<br>subSkill_delta=%{y}<br>studentCount=%{marker.size}<extra></extra>",
         "legendgroup": "sub_skill_name=Recollection or recognition of science facts and concepts",
         "marker": {
          "color": "#ab63fa",
          "size": [
           115,
           4,
           46,
           74,
           78,
           100
          ],
          "sizemode": "area",
          "sizeref": 1.15,
          "symbol": "circle"
         },
         "mode": "markers",
         "name": "sub_skill_name=Recollection or recognition of science facts and concepts",
         "showlegend": false,
         "type": "scatter",
         "uid": "ecf93bb2-db0c-4a0c-a144-8e76b7d305cd",
         "x": [
          "2018",
          "2007",
          "2008",
          "2009",
          "2014",
          "2016"
         ],
         "xaxis": "x2",
         "y": [
          4.469999999999999,
          0.36999999999999744,
          16.86,
          -4.1299999999999955,
          16.810000000000002,
          4.75
         ],
         "yaxis": "y5"
        },
        {
         "hovertemplate": "<b>LOWESS trendline</b><br><br>class=7<br>skill_name=Knowledge of Basic Science Facts<br>sub_skill_name=Recollection or recognition of science facts and concepts<br>year=%{x}<br>subSkill_delta=%{y} <b>(trend)</b><extra></extra>",
         "legendgroup": "sub_skill_name=Recollection or recognition of science facts and concepts",
         "marker": {
          "color": "#ab63fa",
          "symbol": "circle"
         },
         "mode": "lines",
         "name": "sub_skill_name=Recollection or recognition of science facts and concepts",
         "showlegend": false,
         "type": "scatter",
         "uid": "c3e66853-00eb-418b-8790-e8645c40e95a",
         "x": [
          2007,
          2008,
          2009,
          2014,
          2016,
          2018
         ],
         "xaxis": "x2",
         "y": [
          3.4499054208375517,
          1.2714625909300181,
          -1.1365509044353557,
          16.015706152875595,
          8.647610912748444,
          2.692121367621459
         ],
         "yaxis": "y5"
        },
        {
         "hovertemplate": "class=7<br>skill_name=Original Thinking<br>sub_skill_name=Integrating different concepts or information for decision making<br>year=%{x}<br>subSkill_delta=%{y}<br>studentCount=%{marker.size}<extra></extra>",
         "legendgroup": "sub_skill_name=Integrating different concepts or information for decision making",
         "marker": {
          "color": "#ff6692",
          "size": [
           115,
           4,
           46,
           74,
           78,
           100
          ],
          "sizemode": "area",
          "sizeref": 1.15,
          "symbol": "circle"
         },
         "mode": "markers",
         "name": "sub_skill_name=Integrating different concepts or information for decision making",
         "showlegend": false,
         "type": "scatter",
         "uid": "0d301a30-016b-4c08-adcb-9cbdb2ab0d7e",
         "x": [
          "2018",
          "2007",
          "2008",
          "2009",
          "2014",
          "2016"
         ],
         "xaxis": "x3",
         "y": [
          6.930000000000003,
          10.899999999999999,
          -0.9299999999999997,
          3.229999999999997,
          8.450000000000003,
          -3.870000000000001
         ],
         "yaxis": "y5"
        },
        {
         "hovertemplate": "<b>LOWESS trendline</b><br><br>class=7<br>skill_name=Original Thinking<br>sub_skill_name=Integrating different concepts or information for decision making<br>year=%{x}<br>subSkill_delta=%{y} <b>(trend)</b><extra></extra>",
         "legendgroup": "sub_skill_name=Integrating different concepts or information for decision making",
         "marker": {
          "color": "#ff6692",
          "symbol": "circle"
         },
         "mode": "lines",
         "name": "sub_skill_name=Integrating different concepts or information for decision making",
         "showlegend": false,
         "type": "scatter",
         "uid": "3161b4bc-f500-4505-a0d1-cdb0c985f25d",
         "x": [
          2007,
          2008,
          2009,
          2014,
          2016,
          2018
         ],
         "xaxis": "x3",
         "y": [
          8.759112409575616,
          4.870767435048014,
          1.1602075580305147,
          7.435346049522913,
          5.684946863548407,
          5.093908208640507
         ],
         "yaxis": "y5"
        },
        {
         "hovertemplate": "class=7<br>skill_name=Original Thinking<br>sub_skill_name=Hypothesis formulation; design of apparatus or experiment<br>year=%{x}<br>subSkill_delta=%{y}<br>studentCount=%{marker.size}<extra></extra>",
         "legendgroup": "sub_skill_name=Hypothesis formulation; design of apparatus or experiment",
         "marker": {
          "color": "#636efa",
          "size": [
           115,
           4,
           46,
           74,
           78,
           100
          ],
          "sizemode": "area",
          "sizeref": 1.15,
          "symbol": "circle"
         },
         "mode": "markers",
         "name": "sub_skill_name=Hypothesis formulation; design of apparatus or experiment",
         "showlegend": false,
         "type": "scatter",
         "uid": "c51a73e9-a275-49c7-a304-4613650783d6",
         "x": [
          "2018",
          "2007",
          "2008",
          "2009",
          "2014",
          "2016"
         ],
         "xaxis": "x3",
         "y": [
          5.670000000000002,
          -1.3299999999999983,
          5.310000000000002,
          3.1799999999999997,
          7.100000000000001,
          6.729999999999997
         ],
         "yaxis": "y5"
        },
        {
         "hovertemplate": "<b>LOWESS trendline</b><br><br>class=7<br>skill_name=Original Thinking<br>sub_skill_name=Hypothesis formulation; design of apparatus or experiment<br>year=%{x}<br>subSkill_delta=%{y} <b>(trend)</b><extra></extra>",
         "legendgroup": "sub_skill_name=Hypothesis formulation; design of apparatus or experiment",
         "marker": {
          "color": "#636efa",
          "symbol": "circle"
         },
         "mode": "lines",
         "name": "sub_skill_name=Hypothesis formulation; design of apparatus or experiment",
         "showlegend": false,
         "type": "scatter",
         "uid": "17aec513-9e50-4e46-8e96-d2477b801785",
         "x": [
          2007,
          2008,
          2009,
          2014,
          2016,
          2018
         ],
         "xaxis": "x3",
         "y": [
          -1.330000000000356,
          0.9250000000000007,
          3.1800000000000384,
          7.137053537194342,
          6.471171058028009,
          5.7503199706868084
         ],
         "yaxis": "y5"
        },
        {
         "hovertemplate": "class=7<br>skill_name=Reasoning and Analysis Skills<br>sub_skill_name=Extraction, translation and application of knowledge or information<br>year=%{x}<br>subSkill_delta=%{y}<br>studentCount=%{marker.size}<extra></extra>",
         "legendgroup": "sub_skill_name=Extraction, translation and application of knowledge or information",
         "marker": {
          "color": "#fecb52",
          "size": [
           115,
           4,
           46,
           74,
           78,
           100
          ],
          "sizemode": "area",
          "sizeref": 1.15,
          "symbol": "circle"
         },
         "mode": "markers",
         "name": "sub_skill_name=Extraction, translation and application of knowledge or information",
         "showlegend": false,
         "type": "scatter",
         "uid": "426d2a1b-a580-41cd-a795-bfbb1845d114",
         "x": [
          "2018",
          "2007",
          "2008",
          "2009",
          "2014",
          "2016"
         ],
         "xaxis": "x4",
         "y": [
          0.05000000000000071,
          8.899999999999999,
          16.54,
          7.950000000000003,
          0.6899999999999977,
          11.079999999999998
         ],
         "yaxis": "y5"
        },
        {
         "hovertemplate": "<b>LOWESS trendline</b><br><br>class=7<br>skill_name=Reasoning and Analysis Skills<br>sub_skill_name=Extraction, translation and application of knowledge or information<br>year=%{x}<br>subSkill_delta=%{y} <b>(trend)</b><extra></extra>",
         "legendgroup": "sub_skill_name=Extraction, translation and application of knowledge or information",
         "marker": {
          "color": "#fecb52",
          "symbol": "circle"
         },
         "mode": "lines",
         "name": "sub_skill_name=Extraction, translation and application of knowledge or information",
         "showlegend": false,
         "type": "scatter",
         "uid": "54869343-042b-47a8-bf41-7e747e70ff01",
         "x": [
          2007,
          2008,
          2009,
          2014,
          2016,
          2018
         ],
         "xaxis": "x4",
         "y": [
          11.029341535256211,
          10.607142199937309,
          10.009064309687526,
          1.7216901425563245,
          2.506156062666317,
          2.0034516418627892
         ],
         "yaxis": "y5"
        },
        {
         "hovertemplate": "class=7<br>skill_name=Reasoning and Analysis Skills<br>sub_skill_name=Representing, relating or explaining scientific processes or observed phenomena<br>year=%{x}<br>subSkill_delta=%{y}<br>studentCount=%{marker.size}<extra></extra>",
         "legendgroup": "sub_skill_name=Representing, relating or explaining scientific processes or observed phenomena",
         "marker": {
          "color": "#ffa15a",
          "size": [
           115,
           4,
           46,
           74,
           78,
           100
          ],
          "sizemode": "area",
          "sizeref": 1.15,
          "symbol": "circle"
         },
         "mode": "markers",
         "name": "sub_skill_name=Representing, relating or explaining scientific processes or observed phenomena",
         "showlegend": false,
         "type": "scatter",
         "uid": "5ccd9f3b-8f0f-49a8-8477-2eabde64273e",
         "x": [
          "2018",
          "2007",
          "2008",
          "2009",
          "2014",
          "2016"
         ],
         "xaxis": "x4",
         "y": [
          8.440000000000001,
          5.699999999999996,
          6.539999999999999,
          7.3700000000000045,
          4.899999999999999,
          1.3100000000000023
         ],
         "yaxis": "y5"
        },
        {
         "hovertemplate": "<b>LOWESS trendline</b><br><br>class=7<br>skill_name=Reasoning and Analysis Skills<br>sub_skill_name=Representing, relating or explaining scientific processes or observed phenomena<br>year=%{x}<br>subSkill_delta=%{y} <b>(trend)</b><extra></extra>",
         "legendgroup": "sub_skill_name=Representing, relating or explaining scientific processes or observed phenomena",
         "marker": {
          "color": "#ffa15a",
          "symbol": "circle"
         },
         "mode": "lines",
         "name": "sub_skill_name=Representing, relating or explaining scientific processes or observed phenomena",
         "showlegend": false,
         "type": "scatter",
         "uid": "76bb638b-9f5f-41fd-959f-76f280857bd8",
         "x": [
          2007,
          2008,
          2009,
          2014,
          2016,
          2018
         ],
         "xaxis": "x4",
         "y": [
          5.701308618462198,
          6.536340735752422,
          7.371264872235546,
          4.900000000000035,
          6.67,
          8.440000000000124
         ],
         "yaxis": "y5"
        },
        {
         "hovertemplate": "class=7<br>skill_name=Reasoning and Analysis Skills<br>sub_skill_name=Analysis of information to identify trends or properties<br>year=%{x}<br>subSkill_delta=%{y}<br>studentCount=%{marker.size}<extra></extra>",
         "legendgroup": "sub_skill_name=Analysis of information to identify trends or properties",
         "marker": {
          "color": "#b6e880",
          "size": [
           115,
           4,
           46,
           74,
           78,
           100
          ],
          "sizemode": "area",
          "sizeref": 1.15,
          "symbol": "circle"
         },
         "mode": "markers",
         "name": "sub_skill_name=Analysis of information to identify trends or properties",
         "showlegend": false,
         "type": "scatter",
         "uid": "7704dd7a-9e1d-4cb8-a36b-3b89301618fd",
         "x": [
          "2018",
          "2007",
          "2008",
          "2009",
          "2014",
          "2016"
         ],
         "xaxis": "x4",
         "y": [
          8.369999999999997,
          22.549999999999997,
          9.200000000000003,
          6.399999999999999,
          6.460000000000001,
          7.420000000000002
         ],
         "yaxis": "y5"
        },
        {
         "hovertemplate": "<b>LOWESS trendline</b><br><br>class=7<br>skill_name=Reasoning and Analysis Skills<br>sub_skill_name=Analysis of information to identify trends or properties<br>year=%{x}<br>subSkill_delta=%{y} <b>(trend)</b><extra></extra>",
         "legendgroup": "sub_skill_name=Analysis of information to identify trends or properties",
         "marker": {
          "color": "#b6e880",
          "symbol": "circle"
         },
         "mode": "lines",
         "name": "sub_skill_name=Analysis of information to identify trends or properties",
         "showlegend": false,
         "type": "scatter",
         "uid": "900d797b-a771-4578-a22e-1bc8df644aba",
         "x": [
          2007,
          2008,
          2009,
          2014,
          2016,
          2018
         ],
         "xaxis": "x4",
         "y": [
          22.55000000000555,
          14.474999999999998,
          6.400000000000052,
          6.460539274207109,
          7.416257884977478,
          8.371172412152356
         ],
         "yaxis": "y5"
        },
        {
         "hovertemplate": "class=7<br>skill_name=Reasoning and Analysis Skills<br>sub_skill_name=Advanced or complex data representation or interpretation<br>year=%{x}<br>subSkill_delta=%{y}<br>studentCount=%{marker.size}<extra></extra>",
         "legendgroup": "sub_skill_name=Advanced or complex data representation or interpretation",
         "marker": {
          "color": "#EF553B",
          "size": [
           115,
           4,
           46,
           74,
           78,
           100
          ],
          "sizemode": "area",
          "sizeref": 1.15,
          "symbol": "circle"
         },
         "mode": "markers",
         "name": "sub_skill_name=Advanced or complex data representation or interpretation",
         "showlegend": false,
         "type": "scatter",
         "uid": "eb8d784f-4bf5-41f3-ba6c-de1144afa3d9",
         "x": [
          "2018",
          "2007",
          "2008",
          "2009",
          "2014",
          "2016"
         ],
         "xaxis": "x4",
         "y": [
          14.700000000000003,
          1.620000000000001,
          7.079999999999998,
          1.4000000000000057,
          5.149999999999999,
          13.149999999999999
         ],
         "yaxis": "y5"
        },
        {
         "hovertemplate": "<b>LOWESS trendline</b><br><br>class=7<br>skill_name=Reasoning and Analysis Skills<br>sub_skill_name=Advanced or complex data representation or interpretation<br>year=%{x}<br>subSkill_delta=%{y} <b>(trend)</b><extra></extra>",
         "legendgroup": "sub_skill_name=Advanced or complex data representation or interpretation",
         "marker": {
          "color": "#EF553B",
          "symbol": "circle"
         },
         "mode": "lines",
         "name": "sub_skill_name=Advanced or complex data representation or interpretation",
         "showlegend": false,
         "type": "scatter",
         "uid": "ac7e2faf-0dc2-464f-944f-3be0f8f01707",
         "x": [
          2007,
          2008,
          2009,
          2014,
          2016,
          2018
         ],
         "xaxis": "x4",
         "y": [
          2.9459940836697753,
          2.868193744319527,
          2.683534522523691,
          5.571322440542181,
          10.967600844290345,
          15.635913157044921
         ],
         "yaxis": "y5"
        },
        {
         "hovertemplate": "class=8<br>skill_name=Conceptual Understanding and Comprehension<br>sub_skill_name=Classification/comparison of organisms/processes; giving examples<br>year=%{x}<br>subSkill_delta=%{y}<br>studentCount=%{marker.size}<extra></extra>",
         "legendgroup": "sub_skill_name=Classification/comparison of organisms/processes; giving examples",
         "marker": {
          "color": "#636efa",
          "size": [
           104,
           14,
           54,
           48,
           77,
           78
          ],
          "sizemode": "area",
          "sizeref": 1.15,
          "symbol": "circle"
         },
         "mode": "markers",
         "name": "sub_skill_name=Classification/comparison of organisms/processes; giving examples",
         "showlegend": false,
         "type": "scatter",
         "uid": "7cda30c0-21c6-4223-b89b-076448dda2b8",
         "x": [
          "2018",
          "2007",
          "2008",
          "2009",
          "2014",
          "2016"
         ],
         "xaxis": "x",
         "y": [
          5.949999999999999,
          9.04,
          6.850000000000001,
          11.469999999999999,
          8.639999999999993,
          -0.5499999999999972
         ],
         "yaxis": "y6"
        },
        {
         "hovertemplate": "<b>LOWESS trendline</b><br><br>class=8<br>skill_name=Conceptual Understanding and Comprehension<br>sub_skill_name=Classification/comparison of organisms/processes; giving examples<br>year=%{x}<br>subSkill_delta=%{y} <b>(trend)</b><extra></extra>",
         "legendgroup": "sub_skill_name=Classification/comparison of organisms/processes; giving examples",
         "marker": {
          "color": "#636efa",
          "symbol": "circle"
         },
         "mode": "lines",
         "name": "sub_skill_name=Classification/comparison of organisms/processes; giving examples",
         "showlegend": false,
         "type": "scatter",
         "uid": "229487f6-f2ff-47e6-9322-6ac1efcc74e2",
         "x": [
          2007,
          2008,
          2009,
          2014,
          2016,
          2018
         ],
         "xaxis": "x",
         "y": [
          8.113073868486545,
          9.305133305220632,
          10.574479597523732,
          8.640000000000025,
          7.295000000000108,
          5.949999999999501
         ],
         "yaxis": "y6"
        },
        {
         "hovertemplate": "class=8<br>skill_name=Conceptual Understanding and Comprehension<br>sub_skill_name=Knowledge of use of scientific instruments, tools and procedures<br>year=%{x}<br>subSkill_delta=%{y}<br>studentCount=%{marker.size}<extra></extra>",
         "legendgroup": "sub_skill_name=Knowledge of use of scientific instruments, tools and procedures",
         "marker": {
          "color": "#EF553B",
          "size": [
           104,
           14,
           54,
           48,
           77,
           78
          ],
          "sizemode": "area",
          "sizeref": 1.15,
          "symbol": "circle"
         },
         "mode": "markers",
         "name": "sub_skill_name=Knowledge of use of scientific instruments, tools and procedures",
         "showlegend": false,
         "type": "scatter",
         "uid": "69cdd781-ce99-40bd-8567-8a6f60ad6517",
         "x": [
          "2018",
          "2007",
          "2008",
          "2009",
          "2014",
          "2016"
         ],
         "xaxis": "x",
         "y": [
          5.41,
          24.869999999999997,
          2.5700000000000003,
          21.03,
          -0.6499999999999986,
          -2.990000000000002
         ],
         "yaxis": "y6"
        },
        {
         "hovertemplate": "<b>LOWESS trendline</b><br><br>class=8<br>skill_name=Conceptual Understanding and Comprehension<br>sub_skill_name=Knowledge of use of scientific instruments, tools and procedures<br>year=%{x}<br>subSkill_delta=%{y} <b>(trend)</b><extra></extra>",
         "legendgroup": "sub_skill_name=Knowledge of use of scientific instruments, tools and procedures",
         "marker": {
          "color": "#EF553B",
          "symbol": "circle"
         },
         "mode": "lines",
         "name": "sub_skill_name=Knowledge of use of scientific instruments, tools and procedures",
         "showlegend": false,
         "type": "scatter",
         "uid": "a0e04a51-c9a6-4373-af6a-7420e03c6a95",
         "x": [
          2007,
          2008,
          2009,
          2014,
          2016,
          2018
         ],
         "xaxis": "x",
         "y": [
          23.14168205265613,
          21.18345154640273,
          19.342711278665657,
          -1.3746451952105363,
          0.5616895887670321,
          3.7876283969664524
         ],
         "yaxis": "y6"
        },
        {
         "hovertemplate": "class=8<br>skill_name=Knowledge of Basic Science Facts<br>sub_skill_name=Definition or description of scientific terms, organisms or materials<br>year=%{x}<br>subSkill_delta=%{y}<br>studentCount=%{marker.size}<extra></extra>",
         "legendgroup": "sub_skill_name=Definition or description of scientific terms, organisms or materials",
         "marker": {
          "color": "#00cc96",
          "size": [
           104,
           14,
           54,
           48,
           77,
           78
          ],
          "sizemode": "area",
          "sizeref": 1.15,
          "symbol": "circle"
         },
         "mode": "markers",
         "name": "sub_skill_name=Definition or description of scientific terms, organisms or materials",
         "showlegend": false,
         "type": "scatter",
         "uid": "a0abd280-e71f-4295-a6a0-3b955380613c",
         "x": [
          "2018",
          "2007",
          "2008",
          "2009",
          "2014",
          "2016"
         ],
         "xaxis": "x2",
         "y": [
          -1.2100000000000009,
          26.16,
          22.709999999999994,
          17.72,
          7.039999999999999,
          15.36
         ],
         "yaxis": "y6"
        },
        {
         "hovertemplate": "<b>LOWESS trendline</b><br><br>class=8<br>skill_name=Knowledge of Basic Science Facts<br>sub_skill_name=Definition or description of scientific terms, organisms or materials<br>year=%{x}<br>subSkill_delta=%{y} <b>(trend)</b><extra></extra>",
         "legendgroup": "sub_skill_name=Definition or description of scientific terms, organisms or materials",
         "marker": {
          "color": "#00cc96",
          "symbol": "circle"
         },
         "mode": "lines",
         "name": "sub_skill_name=Definition or description of scientific terms, organisms or materials",
         "showlegend": false,
         "type": "scatter",
         "uid": "41dd5d16-f7b4-45f6-a6d4-ccf2a23c01ec",
         "x": [
          2007,
          2008,
          2009,
          2014,
          2016,
          2018
         ],
         "xaxis": "x2",
         "y": [
          26.360937120557534,
          22.145867063032085,
          17.91422918159536,
          7.04000000000024,
          2.914999999999999,
          -1.2100000000000326
         ],
         "yaxis": "y6"
        },
        {
         "hovertemplate": "class=8<br>skill_name=Knowledge of Basic Science Facts<br>sub_skill_name=Recollection or recognition of science facts and concepts<br>year=%{x}<br>subSkill_delta=%{y}<br>studentCount=%{marker.size}<extra></extra>",
         "legendgroup": "sub_skill_name=Recollection or recognition of science facts and concepts",
         "marker": {
          "color": "#ab63fa",
          "size": [
           104,
           14,
           54,
           48,
           77,
           78
          ],
          "sizemode": "area",
          "sizeref": 1.15,
          "symbol": "circle"
         },
         "mode": "markers",
         "name": "sub_skill_name=Recollection or recognition of science facts and concepts",
         "showlegend": false,
         "type": "scatter",
         "uid": "7a686f17-7e3c-44ec-91f0-f64cf38f2d6c",
         "x": [
          "2018",
          "2007",
          "2008",
          "2009",
          "2014",
          "2016"
         ],
         "xaxis": "x2",
         "y": [
          -0.21000000000000085,
          27.89,
          20.68,
          7.530000000000001,
          6.039999999999999,
          4.16
         ],
         "yaxis": "y6"
        },
        {
         "hovertemplate": "<b>LOWESS trendline</b><br><br>class=8<br>skill_name=Knowledge of Basic Science Facts<br>sub_skill_name=Recollection or recognition of science facts and concepts<br>year=%{x}<br>subSkill_delta=%{y} <b>(trend)</b><extra></extra>",
         "legendgroup": "sub_skill_name=Recollection or recognition of science facts and concepts",
         "marker": {
          "color": "#ab63fa",
          "symbol": "circle"
         },
         "mode": "lines",
         "name": "sub_skill_name=Recollection or recognition of science facts and concepts",
         "showlegend": false,
         "type": "scatter",
         "uid": "00264c68-afc3-4dfb-9f44-79a2ab688fc2",
         "x": [
          2007,
          2008,
          2009,
          2014,
          2016,
          2018
         ],
         "xaxis": "x2",
         "y": [
          28.571654935729395,
          18.408139997179468,
          8.190167523602337,
          6.206904601683792,
          3.3326799156493436,
          0.16315825426256436
         ],
         "yaxis": "y6"
        },
        {
         "hovertemplate": "class=8<br>skill_name=Original Thinking<br>sub_skill_name=Integrating different concepts or information for decision making<br>year=%{x}<br>subSkill_delta=%{y}<br>studentCount=%{marker.size}<extra></extra>",
         "legendgroup": "sub_skill_name=Integrating different concepts or information for decision making",
         "marker": {
          "color": "#ff6692",
          "size": [
           104,
           14,
           54,
           48,
           77,
           78
          ],
          "sizemode": "area",
          "sizeref": 1.15,
          "symbol": "circle"
         },
         "mode": "markers",
         "name": "sub_skill_name=Integrating different concepts or information for decision making",
         "showlegend": false,
         "type": "scatter",
         "uid": "77891975-83d2-4b2a-a624-6ce24fc37136",
         "x": [
          "2018",
          "2007",
          "2008",
          "2009",
          "2014",
          "2016"
         ],
         "xaxis": "x3",
         "y": [
          -0.25,
          10.600000000000001,
          4.18,
          6.710000000000001,
          9.800000000000004,
          3.219999999999999
         ],
         "yaxis": "y6"
        },
        {
         "hovertemplate": "<b>LOWESS trendline</b><br><br>class=8<br>skill_name=Original Thinking<br>sub_skill_name=Integrating different concepts or information for decision making<br>year=%{x}<br>subSkill_delta=%{y} <b>(trend)</b><extra></extra>",
         "legendgroup": "sub_skill_name=Integrating different concepts or information for decision making",
         "marker": {
          "color": "#ff6692",
          "symbol": "circle"
         },
         "mode": "lines",
         "name": "sub_skill_name=Integrating different concepts or information for decision making",
         "showlegend": false,
         "type": "scatter",
         "uid": "5b66efaf-fdb1-4377-88ac-a0483f0ee32b",
         "x": [
          2007,
          2008,
          2009,
          2014,
          2016,
          2018
         ],
         "xaxis": "x3",
         "y": [
          9.720531586596794,
          7.754657004930431,
          5.856666183993644,
          9.590483705172927,
          4.249654034386192,
          -0.7188622741609578
         ],
         "yaxis": "y6"
        },
        {
         "hovertemplate": "class=8<br>skill_name=Original Thinking<br>sub_skill_name=Hypothesis formulation; design of apparatus or experiment<br>year=%{x}<br>subSkill_delta=%{y}<br>studentCount=%{marker.size}<extra></extra>",
         "legendgroup": "sub_skill_name=Hypothesis formulation; design of apparatus or experiment",
         "marker": {
          "color": "#636efa",
          "size": [
           104,
           14,
           54,
           48,
           77,
           78
          ],
          "sizemode": "area",
          "sizeref": 1.15,
          "symbol": "circle"
         },
         "mode": "markers",
         "name": "sub_skill_name=Hypothesis formulation; design of apparatus or experiment",
         "showlegend": false,
         "type": "scatter",
         "uid": "1fcbbf5e-d95d-4ff7-b1d3-ce53f428ad6d",
         "x": [
          "2018",
          "2007",
          "2008",
          "2009",
          "2014",
          "2016"
         ],
         "xaxis": "x3",
         "y": [
          5.530000000000001,
          1.9100000000000037,
          7.82,
          16.39,
          4.640000000000001,
          -2.5700000000000003
         ],
         "yaxis": "y6"
        },
        {
         "hovertemplate": "<b>LOWESS trendline</b><br><br>class=8<br>skill_name=Original Thinking<br>sub_skill_name=Hypothesis formulation; design of apparatus or experiment<br>year=%{x}<br>subSkill_delta=%{y} <b>(trend)</b><extra></extra>",
         "legendgroup": "sub_skill_name=Hypothesis formulation; design of apparatus or experiment",
         "marker": {
          "color": "#636efa",
          "symbol": "circle"
         },
         "mode": "lines",
         "name": "sub_skill_name=Hypothesis formulation; design of apparatus or experiment",
         "showlegend": false,
         "type": "scatter",
         "uid": "df8aade0-0371-4def-8308-012a6b3865ba",
         "x": [
          2007,
          2008,
          2009,
          2014,
          2016,
          2018
         ],
         "xaxis": "x3",
         "y": [
          1.566159171284995,
          8.79773204101328,
          16.05758755763944,
          4.64000000000007,
          5.085000000000001,
          5.530000000000078
         ],
         "yaxis": "y6"
        },
        {
         "hovertemplate": "class=8<br>skill_name=Reasoning and Analysis Skills<br>sub_skill_name=Extraction, translation and application of knowledge or information<br>year=%{x}<br>subSkill_delta=%{y}<br>studentCount=%{marker.size}<extra></extra>",
         "legendgroup": "sub_skill_name=Extraction, translation and application of knowledge or information",
         "marker": {
          "color": "#fecb52",
          "size": [
           104,
           14,
           54,
           48,
           77,
           78
          ],
          "sizemode": "area",
          "sizeref": 1.15,
          "symbol": "circle"
         },
         "mode": "markers",
         "name": "sub_skill_name=Extraction, translation and application of knowledge or information",
         "showlegend": false,
         "type": "scatter",
         "uid": "e3480946-6941-4254-91f9-39194eb4abea",
         "x": [
          "2018",
          "2007",
          "2008",
          "2009",
          "2014",
          "2016"
         ],
         "xaxis": "x4",
         "y": [
          2.5599999999999987,
          29.50999999999999,
          14.64,
          7.730000000000004,
          3.309999999999995,
          5.910000000000004
         ],
         "yaxis": "y6"
        },
        {
         "hovertemplate": "<b>LOWESS trendline</b><br><br>class=8<br>skill_name=Reasoning and Analysis Skills<br>sub_skill_name=Extraction, translation and application of knowledge or information<br>year=%{x}<br>subSkill_delta=%{y} <b>(trend)</b><extra></extra>",
         "legendgroup": "sub_skill_name=Extraction, translation and application of knowledge or information",
         "marker": {
          "color": "#fecb52",
          "symbol": "circle"
         },
         "mode": "lines",
         "name": "sub_skill_name=Extraction, translation and application of knowledge or information",
         "showlegend": false,
         "type": "scatter",
         "uid": "9f7f918e-5e0f-4e29-a4cb-ffc584389089",
         "x": [
          2007,
          2008,
          2009,
          2014,
          2016,
          2018
         ],
         "xaxis": "x4",
         "y": [
          28.56252128312455,
          17.649513267078067,
          6.812860430943797,
          3.6821565106482397,
          3.8355225826806634,
          3.3733837844295484
         ],
         "yaxis": "y6"
        },
        {
         "hovertemplate": "class=8<br>skill_name=Reasoning and Analysis Skills<br>sub_skill_name=Representing, relating or explaining scientific processes or observed phenomena<br>year=%{x}<br>subSkill_delta=%{y}<br>studentCount=%{marker.size}<extra></extra>",
         "legendgroup": "sub_skill_name=Representing, relating or explaining scientific processes or observed phenomena",
         "marker": {
          "color": "#ffa15a",
          "size": [
           104,
           14,
           54,
           48,
           77,
           78
          ],
          "sizemode": "area",
          "sizeref": 1.15,
          "symbol": "circle"
         },
         "mode": "markers",
         "name": "sub_skill_name=Representing, relating or explaining scientific processes or observed phenomena",
         "showlegend": false,
         "type": "scatter",
         "uid": "112b5089-3e1a-43ec-8ab9-49452d7f29d8",
         "x": [
          "2018",
          "2007",
          "2008",
          "2009",
          "2014",
          "2016"
         ],
         "xaxis": "x4",
         "y": [
          9.25,
          5.27,
          10.329999999999998,
          14.39,
          7.850000000000001,
          4.689999999999998
         ],
         "yaxis": "y6"
        },
        {
         "hovertemplate": "<b>LOWESS trendline</b><br><br>class=8<br>skill_name=Reasoning and Analysis Skills<br>sub_skill_name=Representing, relating or explaining scientific processes or observed phenomena<br>year=%{x}<br>subSkill_delta=%{y} <b>(trend)</b><extra></extra>",
         "legendgroup": "sub_skill_name=Representing, relating or explaining scientific processes or observed phenomena",
         "marker": {
          "color": "#ffa15a",
          "symbol": "circle"
         },
         "mode": "lines",
         "name": "sub_skill_name=Representing, relating or explaining scientific processes or observed phenomena",
         "showlegend": false,
         "type": "scatter",
         "uid": "a65dceab-9134-4c1a-b824-97c25faf2f83",
         "x": [
          2007,
          2008,
          2009,
          2014,
          2016,
          2018
         ],
         "xaxis": "x4",
         "y": [
          5.399750388639493,
          9.962931767774869,
          14.515430240786175,
          7.850000000000121,
          8.55,
          9.25000000000013
         ],
         "yaxis": "y6"
        },
        {
         "hovertemplate": "class=8<br>skill_name=Reasoning and Analysis Skills<br>sub_skill_name=Analysis of information to identify trends or properties<br>year=%{x}<br>subSkill_delta=%{y}<br>studentCount=%{marker.size}<extra></extra>",
         "legendgroup": "sub_skill_name=Analysis of information to identify trends or properties",
         "marker": {
          "color": "#b6e880",
          "size": [
           104,
           14,
           54,
           48,
           77,
           78
          ],
          "sizemode": "area",
          "sizeref": 1.15,
          "symbol": "circle"
         },
         "mode": "markers",
         "name": "sub_skill_name=Analysis of information to identify trends or properties",
         "showlegend": false,
         "type": "scatter",
         "uid": "acfb857f-f9e6-4ca1-bf5c-e145618f5f7c",
         "x": [
          "2018",
          "2007",
          "2008",
          "2009",
          "2014",
          "2016"
         ],
         "xaxis": "x4",
         "y": [
          1.7899999999999991,
          20.379999999999995,
          14.740000000000002,
          22.04,
          9.189999999999998,
          -4.160000000000004
         ],
         "yaxis": "y6"
        },
        {
         "hovertemplate": "<b>LOWESS trendline</b><br><br>class=8<br>skill_name=Reasoning and Analysis Skills<br>sub_skill_name=Analysis of information to identify trends or properties<br>year=%{x}<br>subSkill_delta=%{y} <b>(trend)</b><extra></extra>",
         "legendgroup": "sub_skill_name=Analysis of information to identify trends or properties",
         "marker": {
          "color": "#b6e880",
          "symbol": "circle"
         },
         "mode": "lines",
         "name": "sub_skill_name=Analysis of information to identify trends or properties",
         "showlegend": false,
         "type": "scatter",
         "uid": "95b0e903-13cb-4719-ac0d-f88d37df0aaa",
         "x": [
          2007,
          2008,
          2009,
          2014,
          2016,
          2018
         ],
         "xaxis": "x4",
         "y": [
          18.63745500135305,
          19.423975796767664,
          20.355425283971478,
          8.377682875269956,
          3.9151977249621233,
          0.3472087445207477
         ],
         "yaxis": "y6"
        },
        {
         "hovertemplate": "class=8<br>skill_name=Reasoning and Analysis Skills<br>sub_skill_name=Advanced or complex data representation or interpretation<br>year=%{x}<br>subSkill_delta=%{y}<br>studentCount=%{marker.size}<extra></extra>",
         "legendgroup": "sub_skill_name=Advanced or complex data representation or interpretation",
         "marker": {
          "color": "#EF553B",
          "size": [
           104,
           14,
           54,
           48,
           77,
           78
          ],
          "sizemode": "area",
          "sizeref": 1.15,
          "symbol": "circle"
         },
         "mode": "markers",
         "name": "sub_skill_name=Advanced or complex data representation or interpretation",
         "showlegend": false,
         "type": "scatter",
         "uid": "709a5b72-af87-4b9c-b78a-19c21f347e7c",
         "x": [
          "2018",
          "2007",
          "2008",
          "2009",
          "2014",
          "2016"
         ],
         "xaxis": "x4",
         "y": [
          4,
          8.340000000000003,
          4.759999999999998,
          19.32,
          8.119999999999997,
          -5.07
         ],
         "yaxis": "y6"
        },
        {
         "hovertemplate": "<b>LOWESS trendline</b><br><br>class=8<br>skill_name=Reasoning and Analysis Skills<br>sub_skill_name=Advanced or complex data representation or interpretation<br>year=%{x}<br>subSkill_delta=%{y} <b>(trend)</b><extra></extra>",
         "legendgroup": "sub_skill_name=Advanced or complex data representation or interpretation",
         "marker": {
          "color": "#EF553B",
          "symbol": "circle"
         },
         "mode": "lines",
         "name": "sub_skill_name=Advanced or complex data representation or interpretation",
         "showlegend": false,
         "type": "scatter",
         "uid": "e345d3b2-4e26-45e6-b850-93bf1357ecab",
         "x": [
          2007,
          2008,
          2009,
          2014,
          2016,
          2018
         ],
         "xaxis": "x4",
         "y": [
          6.007855264817355,
          11.440297339329948,
          17.064353256879542,
          6.990004445412644,
          3.6513265439270093,
          1.7996724309298382
         ],
         "yaxis": "y6"
        },
        {
         "hovertemplate": "class=9<br>skill_name=Conceptual Understanding and Comprehension<br>sub_skill_name=Classification/comparison of organisms/processes; giving examples<br>year=%{x}<br>subSkill_delta=%{y}<br>studentCount=%{marker.size}<extra></extra>",
         "legendgroup": "sub_skill_name=Classification/comparison of organisms/processes; giving examples",
         "marker": {
          "color": "#636efa",
          "size": [
           92,
           10,
           42,
           51,
           73,
           74
          ],
          "sizemode": "area",
          "sizeref": 1.15,
          "symbol": "circle"
         },
         "mode": "markers",
         "name": "sub_skill_name=Classification/comparison of organisms/processes; giving examples",
         "showlegend": false,
         "type": "scatter",
         "uid": "9ae73d81-9ea5-4ed3-b10b-23a0b8f63755",
         "x": [
          "2018",
          "2007",
          "2008",
          "2009",
          "2014",
          "2016"
         ],
         "xaxis": "x",
         "y": [
          5.189999999999998,
          0.740000000000002,
          4.010000000000005,
          6.609999999999999,
          8.240000000000002,
          4.25
         ],
         "yaxis": "y7"
        },
        {
         "hovertemplate": "<b>LOWESS trendline</b><br><br>class=9<br>skill_name=Conceptual Understanding and Comprehension<br>sub_skill_name=Classification/comparison of organisms/processes; giving examples<br>year=%{x}<br>subSkill_delta=%{y} <b>(trend)</b><extra></extra>",
         "legendgroup": "sub_skill_name=Classification/comparison of organisms/processes; giving examples",
         "marker": {
          "color": "#636efa",
          "symbol": "circle"
         },
         "mode": "lines",
         "name": "sub_skill_name=Classification/comparison of organisms/processes; giving examples",
         "showlegend": false,
         "type": "scatter",
         "uid": "c1f2153c-8d81-416e-b1f1-c763ab01233f",
         "x": [
          2007,
          2008,
          2009,
          2014,
          2016,
          2018
         ],
         "xaxis": "x",
         "y": [
          0.8268852203252677,
          3.764015446992545,
          6.69399304386472,
          8.24000000000019,
          6.715,
          5.1900000000000635
         ],
         "yaxis": "y7"
        },
        {
         "hovertemplate": "class=9<br>skill_name=Conceptual Understanding and Comprehension<br>sub_skill_name=Knowledge of use of scientific instruments, tools and procedures<br>year=%{x}<br>subSkill_delta=%{y}<br>studentCount=%{marker.size}<extra></extra>",
         "legendgroup": "sub_skill_name=Knowledge of use of scientific instruments, tools and procedures",
         "marker": {
          "color": "#EF553B",
          "size": [
           92,
           10,
           42,
           51,
           73,
           74
          ],
          "sizemode": "area",
          "sizeref": 1.15,
          "symbol": "circle"
         },
         "mode": "markers",
         "name": "sub_skill_name=Knowledge of use of scientific instruments, tools and procedures",
         "showlegend": false,
         "type": "scatter",
         "uid": "4107d309-bdb4-4d42-869f-26107b0808ad",
         "x": [
          "2018",
          "2007",
          "2008",
          "2009",
          "2014",
          "2016"
         ],
         "xaxis": "x",
         "y": [
          6.759999999999998,
          -4.600000000000001,
          9.869999999999997,
          0.6499999999999986,
          3.4499999999999957,
          4.719999999999999
         ],
         "yaxis": "y7"
        },
        {
         "hovertemplate": "<b>LOWESS trendline</b><br><br>class=9<br>skill_name=Conceptual Understanding and Comprehension<br>sub_skill_name=Knowledge of use of scientific instruments, tools and procedures<br>year=%{x}<br>subSkill_delta=%{y} <b>(trend)</b><extra></extra>",
         "legendgroup": "sub_skill_name=Knowledge of use of scientific instruments, tools and procedures",
         "marker": {
          "color": "#EF553B",
          "symbol": "circle"
         },
         "mode": "lines",
         "name": "sub_skill_name=Knowledge of use of scientific instruments, tools and procedures",
         "showlegend": false,
         "type": "scatter",
         "uid": "2edc5893-81c7-4771-8562-8a8fb4b616df",
         "x": [
          2007,
          2008,
          2009,
          2014,
          2016,
          2018
         ],
         "xaxis": "x",
         "y": [
          -4.600000000001151,
          -1.9750000000000014,
          0.6500000000000108,
          3.40852641673943,
          5.008344531741589,
          6.669910844496872
         ],
         "yaxis": "y7"
        },
        {
         "hovertemplate": "class=9<br>skill_name=Knowledge of Basic Science Facts<br>sub_skill_name=Recollection or recognition of science facts and concepts<br>year=%{x}<br>subSkill_delta=%{y}<br>studentCount=%{marker.size}<extra></extra>",
         "legendgroup": "sub_skill_name=Recollection or recognition of science facts and concepts",
         "marker": {
          "color": "#ab63fa",
          "size": [
           92,
           10,
           42,
           51,
           73,
           74
          ],
          "sizemode": "area",
          "sizeref": 1.15,
          "symbol": "circle"
         },
         "mode": "markers",
         "name": "sub_skill_name=Recollection or recognition of science facts and concepts",
         "showlegend": false,
         "type": "scatter",
         "uid": "65667cce-93a5-49b6-864b-abd791f0dc60",
         "x": [
          "2018",
          "2007",
          "2008",
          "2009",
          "2014",
          "2016"
         ],
         "xaxis": "x2",
         "y": [
          1.139999999999997,
          7.259999999999998,
          12.529999999999994,
          16.17,
          6.130000000000003,
          0.5199999999999996
         ],
         "yaxis": "y7"
        },
        {
         "hovertemplate": "<b>LOWESS trendline</b><br><br>class=9<br>skill_name=Knowledge of Basic Science Facts<br>sub_skill_name=Recollection or recognition of science facts and concepts<br>year=%{x}<br>subSkill_delta=%{y} <b>(trend)</b><extra></extra>",
         "legendgroup": "sub_skill_name=Recollection or recognition of science facts and concepts",
         "marker": {
          "color": "#ab63fa",
          "symbol": "circle"
         },
         "mode": "lines",
         "name": "sub_skill_name=Recollection or recognition of science facts and concepts",
         "showlegend": false,
         "type": "scatter",
         "uid": "f40d652c-e5ce-4202-b042-d15c1de5910d",
         "x": [
          2007,
          2008,
          2009,
          2014,
          2016,
          2018
         ],
         "xaxis": "x2",
         "y": [
          7.482655420363548,
          11.9431679499272,
          16.385097973830256,
          6.130000000000181,
          3.635,
          1.1400000000000037
         ],
         "yaxis": "y7"
        },
        {
         "hovertemplate": "class=9<br>skill_name=Original Thinking<br>sub_skill_name=Hypothesis formulation or prediction of outcome<br>year=%{x}<br>subSkill_delta=%{y}<br>studentCount=%{marker.size}<extra></extra>",
         "legendgroup": "sub_skill_name=Hypothesis formulation or prediction of outcome",
         "marker": {
          "color": "#e763fa",
          "size": [
           92,
           10,
           42,
           51,
           73,
           74
          ],
          "sizemode": "area",
          "sizeref": 1.15,
          "symbol": "circle"
         },
         "mode": "markers",
         "name": "sub_skill_name=Hypothesis formulation or prediction of outcome",
         "showlegend": false,
         "type": "scatter",
         "uid": "359ae4a9-8119-469f-862e-854bb80e838c",
         "x": [
          "2018",
          "2007",
          "2008",
          "2009",
          "2014",
          "2016"
         ],
         "xaxis": "x3",
         "y": [
          0.9199999999999982,
          10.020000000000003,
          10.489999999999995,
          6.280000000000001,
          0.25,
          3.979999999999997
         ],
         "yaxis": "y7"
        },
        {
         "hovertemplate": "<b>LOWESS trendline</b><br><br>class=9<br>skill_name=Original Thinking<br>sub_skill_name=Hypothesis formulation or prediction of outcome<br>year=%{x}<br>subSkill_delta=%{y} <b>(trend)</b><extra></extra>",
         "legendgroup": "sub_skill_name=Hypothesis formulation or prediction of outcome",
         "marker": {
          "color": "#e763fa",
          "symbol": "circle"
         },
         "mode": "lines",
         "name": "sub_skill_name=Hypothesis formulation or prediction of outcome",
         "showlegend": false,
         "type": "scatter",
         "uid": "60bc98d9-8306-492d-b35b-76202c0695ab",
         "x": [
          2007,
          2008,
          2009,
          2014,
          2016,
          2018
         ],
         "xaxis": "x3",
         "y": [
          10.647016009402357,
          8.792641983586211,
          6.886189664323407,
          0.5467111025281725,
          1.1701483580966539,
          1.455867445016906
         ],
         "yaxis": "y7"
        },
        {
         "hovertemplate": "class=9<br>skill_name=Original Thinking<br>sub_skill_name=Integrating different concepts or information for decision making<br>year=%{x}<br>subSkill_delta=%{y}<br>studentCount=%{marker.size}<extra></extra>",
         "legendgroup": "sub_skill_name=Integrating different concepts or information for decision making",
         "marker": {
          "color": "#ff6692",
          "size": [
           92,
           10,
           42,
           51,
           73,
           74
          ],
          "sizemode": "area",
          "sizeref": 1.15,
          "symbol": "circle"
         },
         "mode": "markers",
         "name": "sub_skill_name=Integrating different concepts or information for decision making",
         "showlegend": false,
         "type": "scatter",
         "uid": "782044ec-53af-4c13-8ba5-73c198c7acae",
         "x": [
          "2018",
          "2007",
          "2008",
          "2009",
          "2014",
          "2016"
         ],
         "xaxis": "x3",
         "y": [
          2.0500000000000007,
          6.310000000000002,
          10.509999999999998,
          -5.059999999999995,
          4.950000000000003,
          5.260000000000005
         ],
         "yaxis": "y7"
        },
        {
         "hovertemplate": "<b>LOWESS trendline</b><br><br>class=9<br>skill_name=Original Thinking<br>sub_skill_name=Integrating different concepts or information for decision making<br>year=%{x}<br>subSkill_delta=%{y} <b>(trend)</b><extra></extra>",
         "legendgroup": "sub_skill_name=Integrating different concepts or information for decision making",
         "marker": {
          "color": "#ff6692",
          "symbol": "circle"
         },
         "mode": "lines",
         "name": "sub_skill_name=Integrating different concepts or information for decision making",
         "showlegend": false,
         "type": "scatter",
         "uid": "9225bacf-bd6b-46a4-9dc6-7bcc79088167",
         "x": [
          2007,
          2008,
          2009,
          2014,
          2016,
          2018
         ],
         "xaxis": "x3",
         "y": [
          6.310000000000381,
          0.6249999999995262,
          -5.060000000001085,
          5.184817995856553,
          4.08710012516193,
          2.5752062468552612
         ],
         "yaxis": "y7"
        },
        {
         "hovertemplate": "class=9<br>skill_name=Original Thinking<br>sub_skill_name=Design of appropriate apparatus, experiment or activity for scientific investigation<br>year=%{x}<br>subSkill_delta=%{y}<br>studentCount=%{marker.size}<extra></extra>",
         "legendgroup": "sub_skill_name=Design of appropriate apparatus, experiment or activity for scientific investigation",
         "marker": {
          "color": "#00cc96",
          "size": [
           92,
           10,
           42,
           51,
           73,
           74
          ],
          "sizemode": "area",
          "sizeref": 1.15,
          "symbol": "circle"
         },
         "mode": "markers",
         "name": "sub_skill_name=Design of appropriate apparatus, experiment or activity for scientific investigation",
         "showlegend": true,
         "type": "scatter",
         "uid": "8d00628f-016a-4524-a7e8-96163810e520",
         "x": [
          "2018",
          "2007",
          "2008",
          "2009",
          "2014",
          "2016"
         ],
         "xaxis": "x3",
         "y": [
          6.840000000000003,
          10.869999999999997,
          15.259999999999998,
          7.380000000000003,
          -1.8999999999999986,
          6.359999999999999
         ],
         "yaxis": "y7"
        },
        {
         "hovertemplate": "<b>LOWESS trendline</b><br><br>class=9<br>skill_name=Original Thinking<br>sub_skill_name=Design of appropriate apparatus, experiment or activity for scientific investigation<br>year=%{x}<br>subSkill_delta=%{y} <b>(trend)</b><extra></extra>",
         "legendgroup": "sub_skill_name=Design of appropriate apparatus, experiment or activity for scientific investigation",
         "marker": {
          "color": "#00cc96",
          "symbol": "circle"
         },
         "mode": "lines",
         "name": "sub_skill_name=Design of appropriate apparatus, experiment or activity for scientific investigation",
         "showlegend": false,
         "type": "scatter",
         "uid": "500b941a-20e1-497a-8c54-a98a9060fdde",
         "x": [
          2007,
          2008,
          2009,
          2014,
          2016,
          2018
         ],
         "xaxis": "x3",
         "y": [
          12.330497971869118,
          10.62096384584944,
          8.79373147139855,
          -1.3980205785218132,
          3.7048156216289834,
          7.950647289733581
         ],
         "yaxis": "y7"
        },
        {
         "hovertemplate": "class=9<br>skill_name=Reasoning and Analysis Skills<br>sub_skill_name=Extraction, translation and application of knowledge or information<br>year=%{x}<br>subSkill_delta=%{y}<br>studentCount=%{marker.size}<extra></extra>",
         "legendgroup": "sub_skill_name=Extraction, translation and application of knowledge or information",
         "marker": {
          "color": "#fecb52",
          "size": [
           92,
           10,
           42,
           51,
           73,
           74
          ],
          "sizemode": "area",
          "sizeref": 1.15,
          "symbol": "circle"
         },
         "mode": "markers",
         "name": "sub_skill_name=Extraction, translation and application of knowledge or information",
         "showlegend": false,
         "type": "scatter",
         "uid": "fafe580a-3487-4d96-ba1a-12ef876378c9",
         "x": [
          "2018",
          "2007",
          "2008",
          "2009",
          "2014",
          "2016"
         ],
         "xaxis": "x4",
         "y": [
          10.119999999999997,
          12.280000000000001,
          13.849999999999994,
          2.5,
          5.1299999999999955,
          1.3400000000000034
         ],
         "yaxis": "y7"
        },
        {
         "hovertemplate": "<b>LOWESS trendline</b><br><br>class=9<br>skill_name=Reasoning and Analysis Skills<br>sub_skill_name=Extraction, translation and application of knowledge or information<br>year=%{x}<br>subSkill_delta=%{y} <b>(trend)</b><extra></extra>",
         "legendgroup": "sub_skill_name=Extraction, translation and application of knowledge or information",
         "marker": {
          "color": "#fecb52",
          "symbol": "circle"
         },
         "mode": "lines",
         "name": "sub_skill_name=Extraction, translation and application of knowledge or information",
         "showlegend": false,
         "type": "scatter",
         "uid": "10dd9dd3-c319-48b9-8052-d81430724311",
         "x": [
          2007,
          2008,
          2009,
          2014,
          2016,
          2018
         ],
         "xaxis": "x4",
         "y": [
          13.81786746508479,
          8.965212134347674,
          3.9886235216371713,
          4.415784568491845,
          5.994580426904308,
          8.636023201184273
         ],
         "yaxis": "y7"
        },
        {
         "hovertemplate": "class=9<br>skill_name=Reasoning and Analysis Skills<br>sub_skill_name=Representing, relating or explaining scientific processes or observed phenomena<br>year=%{x}<br>subSkill_delta=%{y}<br>studentCount=%{marker.size}<extra></extra>",
         "legendgroup": "sub_skill_name=Representing, relating or explaining scientific processes or observed phenomena",
         "marker": {
          "color": "#ffa15a",
          "size": [
           92,
           10,
           42,
           51,
           73,
           74
          ],
          "sizemode": "area",
          "sizeref": 1.15,
          "symbol": "circle"
         },
         "mode": "markers",
         "name": "sub_skill_name=Representing, relating or explaining scientific processes or observed phenomena",
         "showlegend": false,
         "type": "scatter",
         "uid": "c6c17ea3-cd4c-43f7-849c-7b32a2ed262d",
         "x": [
          "2018",
          "2007",
          "2008",
          "2009",
          "2014",
          "2016"
         ],
         "xaxis": "x4",
         "y": [
          2.4800000000000004,
          13.630000000000003,
          10.590000000000003,
          12.769999999999996,
          2.3399999999999963,
          3.809999999999995
         ],
         "yaxis": "y7"
        },
        {
         "hovertemplate": "<b>LOWESS trendline</b><br><br>class=9<br>skill_name=Reasoning and Analysis Skills<br>sub_skill_name=Representing, relating or explaining scientific processes or observed phenomena<br>year=%{x}<br>subSkill_delta=%{y} <b>(trend)</b><extra></extra>",
         "legendgroup": "sub_skill_name=Representing, relating or explaining scientific processes or observed phenomena",
         "marker": {
          "color": "#ffa15a",
          "symbol": "circle"
         },
         "mode": "lines",
         "name": "sub_skill_name=Representing, relating or explaining scientific processes or observed phenomena",
         "showlegend": false,
         "type": "scatter",
         "uid": "4ef83143-f3f7-4548-ad9a-5b7a9ae6680f",
         "x": [
          2007,
          2008,
          2009,
          2014,
          2016,
          2018
         ],
         "xaxis": "x4",
         "y": [
          13.008663454511769,
          12.563575283182963,
          12.168559227326206,
          2.5244546562305072,
          2.86822437062833,
          2.8907330963142823
         ],
         "yaxis": "y7"
        },
        {
         "hovertemplate": "class=9<br>skill_name=Reasoning and Analysis Skills<br>sub_skill_name=Analysis of information to identify trends or properties<br>year=%{x}<br>subSkill_delta=%{y}<br>studentCount=%{marker.size}<extra></extra>",
         "legendgroup": "sub_skill_name=Analysis of information to identify trends or properties",
         "marker": {
          "color": "#b6e880",
          "size": [
           92,
           10,
           42,
           51,
           73,
           74
          ],
          "sizemode": "area",
          "sizeref": 1.15,
          "symbol": "circle"
         },
         "mode": "markers",
         "name": "sub_skill_name=Analysis of information to identify trends or properties",
         "showlegend": false,
         "type": "scatter",
         "uid": "222f745f-9a46-46cd-8268-92938c11c79c",
         "x": [
          "2018",
          "2007",
          "2008",
          "2009",
          "2014",
          "2016"
         ],
         "xaxis": "x4",
         "y": [
          11.340000000000003,
          14.630000000000003,
          8.300000000000004,
          9.139999999999993,
          5.630000000000003,
          -1.5
         ],
         "yaxis": "y7"
        },
        {
         "hovertemplate": "<b>LOWESS trendline</b><br><br>class=9<br>skill_name=Reasoning and Analysis Skills<br>sub_skill_name=Analysis of information to identify trends or properties<br>year=%{x}<br>subSkill_delta=%{y} <b>(trend)</b><extra></extra>",
         "legendgroup": "sub_skill_name=Analysis of information to identify trends or properties",
         "marker": {
          "color": "#b6e880",
          "symbol": "circle"
         },
         "mode": "lines",
         "name": "sub_skill_name=Analysis of information to identify trends or properties",
         "showlegend": false,
         "type": "scatter",
         "uid": "72d3f750-dff9-4fea-a491-0dbfaf5e161b",
         "x": [
          2007,
          2008,
          2009,
          2014,
          2016,
          2018
         ],
         "xaxis": "x4",
         "y": [
          13.649172002421595,
          10.879877784830345,
          8.192474359131085,
          5.6299999999999715,
          8.485000000000403,
          11.340000000000003
         ],
         "yaxis": "y7"
        },
        {
         "hovertemplate": "class=9<br>skill_name=Reasoning and Analysis Skills<br>sub_skill_name=Advanced or complex data representation or interpretation<br>year=%{x}<br>subSkill_delta=%{y}<br>studentCount=%{marker.size}<extra></extra>",
         "legendgroup": "sub_skill_name=Advanced or complex data representation or interpretation",
         "marker": {
          "color": "#EF553B",
          "size": [
           92,
           10,
           42,
           51,
           73,
           74
          ],
          "sizemode": "area",
          "sizeref": 1.15,
          "symbol": "circle"
         },
         "mode": "markers",
         "name": "sub_skill_name=Advanced or complex data representation or interpretation",
         "showlegend": false,
         "type": "scatter",
         "uid": "b3343bc2-d015-4ed9-be48-e3731181a2df",
         "x": [
          "2018",
          "2007",
          "2008",
          "2009",
          "2014",
          "2016"
         ],
         "xaxis": "x4",
         "y": [
          10.509999999999998,
          21.369999999999997,
          5.699999999999999,
          15.770000000000003,
          5.100000000000001,
          -3.0700000000000003
         ],
         "yaxis": "y7"
        },
        {
         "hovertemplate": "<b>LOWESS trendline</b><br><br>class=9<br>skill_name=Reasoning and Analysis Skills<br>sub_skill_name=Advanced or complex data representation or interpretation<br>year=%{x}<br>subSkill_delta=%{y} <b>(trend)</b><extra></extra>",
         "legendgroup": "sub_skill_name=Advanced or complex data representation or interpretation",
         "marker": {
          "color": "#EF553B",
          "symbol": "circle"
         },
         "mode": "lines",
         "name": "sub_skill_name=Advanced or complex data representation or interpretation",
         "showlegend": false,
         "type": "scatter",
         "uid": "dfe5c255-461c-4a05-945b-813e34b005a3",
         "x": [
          2007,
          2008,
          2009,
          2014,
          2016,
          2018
         ],
         "xaxis": "x4",
         "y": [
          18.306168068790054,
          15.431767775691716,
          12.80427481061242,
          3.7858146070390837,
          4.688299771503246,
          7.684869165703139
         ],
         "yaxis": "y7"
        },
        {
         "hovertemplate": "class=10<br>skill_name=Conceptual Understanding and Comprehension<br>sub_skill_name=Classification/comparison of organisms/processes; giving examples<br>year=%{x}<br>subSkill_delta=%{y}<br>studentCount=%{marker.size}<extra></extra>",
         "legendgroup": "sub_skill_name=Classification/comparison of organisms/processes; giving examples",
         "marker": {
          "color": "#636efa",
          "size": [
           73,
           67
          ],
          "sizemode": "area",
          "sizeref": 1.15,
          "symbol": "circle"
         },
         "mode": "markers",
         "name": "sub_skill_name=Classification/comparison of organisms/processes; giving examples",
         "showlegend": false,
         "type": "scatter",
         "uid": "e2d66f31-cefa-4fc3-9dfc-f19efd918e98",
         "x": [
          "2014",
          "2016"
         ],
         "xaxis": "x",
         "y": [
          2.8999999999999986,
          14.350000000000001
         ],
         "yaxis": "y8"
        },
        {
         "hovertemplate": "<b>LOWESS trendline</b><br><br>class=10<br>skill_name=Conceptual Understanding and Comprehension<br>sub_skill_name=Classification/comparison of organisms/processes; giving examples<br>year=%{x}<br>subSkill_delta=%{y} <b>(trend)</b><extra></extra>",
         "legendgroup": "sub_skill_name=Classification/comparison of organisms/processes; giving examples",
         "marker": {
          "color": "#636efa",
          "symbol": "circle"
         },
         "mode": "lines",
         "name": "sub_skill_name=Classification/comparison of organisms/processes; giving examples",
         "showlegend": false,
         "type": "scatter",
         "uid": "a53973a3-f20b-4dc0-b0cd-d76c2a01b44b",
         "x": [
          2014,
          2016
         ],
         "xaxis": "x",
         "y": [
          2.8999999999999986,
          14.350000000000001
         ],
         "yaxis": "y8"
        },
        {
         "hovertemplate": "class=10<br>skill_name=Conceptual Understanding and Comprehension<br>sub_skill_name=Knowledge of use of scientific instruments, tools and procedures<br>year=%{x}<br>subSkill_delta=%{y}<br>studentCount=%{marker.size}<extra></extra>",
         "legendgroup": "sub_skill_name=Knowledge of use of scientific instruments, tools and procedures",
         "marker": {
          "color": "#EF553B",
          "size": [
           73,
           67
          ],
          "sizemode": "area",
          "sizeref": 1.15,
          "symbol": "circle"
         },
         "mode": "markers",
         "name": "sub_skill_name=Knowledge of use of scientific instruments, tools and procedures",
         "showlegend": false,
         "type": "scatter",
         "uid": "0533f3cf-c6b2-42c4-a5b1-4e00362235ed",
         "x": [
          "2014",
          "2016"
         ],
         "xaxis": "x",
         "y": [
          0.9200000000000017,
          5.600000000000001
         ],
         "yaxis": "y8"
        },
        {
         "hovertemplate": "<b>LOWESS trendline</b><br><br>class=10<br>skill_name=Conceptual Understanding and Comprehension<br>sub_skill_name=Knowledge of use of scientific instruments, tools and procedures<br>year=%{x}<br>subSkill_delta=%{y} <b>(trend)</b><extra></extra>",
         "legendgroup": "sub_skill_name=Knowledge of use of scientific instruments, tools and procedures",
         "marker": {
          "color": "#EF553B",
          "symbol": "circle"
         },
         "mode": "lines",
         "name": "sub_skill_name=Knowledge of use of scientific instruments, tools and procedures",
         "showlegend": false,
         "type": "scatter",
         "uid": "807c8ebe-e9cc-4e3a-8f02-91aaba020edc",
         "x": [
          2014,
          2016
         ],
         "xaxis": "x",
         "y": [
          0.9200000000000017,
          5.600000000000001
         ],
         "yaxis": "y8"
        },
        {
         "hovertemplate": "class=10<br>skill_name=Knowledge of Basic Science Facts<br>sub_skill_name=Recollection or recognition of science facts and concepts<br>year=%{x}<br>subSkill_delta=%{y}<br>studentCount=%{marker.size}<extra></extra>",
         "legendgroup": "sub_skill_name=Recollection or recognition of science facts and concepts",
         "marker": {
          "color": "#ab63fa",
          "size": [
           73,
           67
          ],
          "sizemode": "area",
          "sizeref": 1.15,
          "symbol": "circle"
         },
         "mode": "markers",
         "name": "sub_skill_name=Recollection or recognition of science facts and concepts",
         "showlegend": false,
         "type": "scatter",
         "uid": "25ce2836-beca-4c1f-8aa0-6bfb70b8ff21",
         "x": [
          "2014",
          "2016"
         ],
         "xaxis": "x2",
         "y": [
          -1.4200000000000017,
          6.229999999999997
         ],
         "yaxis": "y8"
        },
        {
         "hovertemplate": "<b>LOWESS trendline</b><br><br>class=10<br>skill_name=Knowledge of Basic Science Facts<br>sub_skill_name=Recollection or recognition of science facts and concepts<br>year=%{x}<br>subSkill_delta=%{y} <b>(trend)</b><extra></extra>",
         "legendgroup": "sub_skill_name=Recollection or recognition of science facts and concepts",
         "marker": {
          "color": "#ab63fa",
          "symbol": "circle"
         },
         "mode": "lines",
         "name": "sub_skill_name=Recollection or recognition of science facts and concepts",
         "showlegend": false,
         "type": "scatter",
         "uid": "14194c32-b5ce-4cef-94c2-60e1531f9718",
         "x": [
          2014,
          2016
         ],
         "xaxis": "x2",
         "y": [
          -1.4200000000000017,
          6.229999999999997
         ],
         "yaxis": "y8"
        },
        {
         "hovertemplate": "class=10<br>skill_name=Original Thinking<br>sub_skill_name=Hypothesis formulation or prediction of outcome<br>year=%{x}<br>subSkill_delta=%{y}<br>studentCount=%{marker.size}<extra></extra>",
         "legendgroup": "sub_skill_name=Hypothesis formulation or prediction of outcome",
         "marker": {
          "color": "#e763fa",
          "size": [
           73,
           67
          ],
          "sizemode": "area",
          "sizeref": 1.15,
          "symbol": "circle"
         },
         "mode": "markers",
         "name": "sub_skill_name=Hypothesis formulation or prediction of outcome",
         "showlegend": false,
         "type": "scatter",
         "uid": "4839357b-ff19-44ce-8c24-5e4d93e415c5",
         "x": [
          "2014",
          "2016"
         ],
         "xaxis": "x3",
         "y": [
          2.5600000000000023,
          -5.599999999999998
         ],
         "yaxis": "y8"
        },
        {
         "hovertemplate": "<b>LOWESS trendline</b><br><br>class=10<br>skill_name=Original Thinking<br>sub_skill_name=Hypothesis formulation or prediction of outcome<br>year=%{x}<br>subSkill_delta=%{y} <b>(trend)</b><extra></extra>",
         "legendgroup": "sub_skill_name=Hypothesis formulation or prediction of outcome",
         "marker": {
          "color": "#e763fa",
          "symbol": "circle"
         },
         "mode": "lines",
         "name": "sub_skill_name=Hypothesis formulation or prediction of outcome",
         "showlegend": false,
         "type": "scatter",
         "uid": "679a663e-e4b3-4ab9-a98b-3affb9d679e0",
         "x": [
          2014,
          2016
         ],
         "xaxis": "x3",
         "y": [
          2.5600000000000023,
          -5.599999999999998
         ],
         "yaxis": "y8"
        },
        {
         "hovertemplate": "class=10<br>skill_name=Original Thinking<br>sub_skill_name=Integrating different concepts or information for decision making<br>year=%{x}<br>subSkill_delta=%{y}<br>studentCount=%{marker.size}<extra></extra>",
         "legendgroup": "sub_skill_name=Integrating different concepts or information for decision making",
         "marker": {
          "color": "#ff6692",
          "size": [
           73,
           67
          ],
          "sizemode": "area",
          "sizeref": 1.15,
          "symbol": "circle"
         },
         "mode": "markers",
         "name": "sub_skill_name=Integrating different concepts or information for decision making",
         "showlegend": false,
         "type": "scatter",
         "uid": "2c35fc4f-e2ae-4113-9770-e8094717b0cf",
         "x": [
          "2014",
          "2016"
         ],
         "xaxis": "x3",
         "y": [
          2.799999999999997,
          3.110000000000003
         ],
         "yaxis": "y8"
        },
        {
         "hovertemplate": "<b>LOWESS trendline</b><br><br>class=10<br>skill_name=Original Thinking<br>sub_skill_name=Integrating different concepts or information for decision making<br>year=%{x}<br>subSkill_delta=%{y} <b>(trend)</b><extra></extra>",
         "legendgroup": "sub_skill_name=Integrating different concepts or information for decision making",
         "marker": {
          "color": "#ff6692",
          "symbol": "circle"
         },
         "mode": "lines",
         "name": "sub_skill_name=Integrating different concepts or information for decision making",
         "showlegend": false,
         "type": "scatter",
         "uid": "0df4843b-8fd2-4a43-8067-4406b8490b5e",
         "x": [
          2014,
          2016
         ],
         "xaxis": "x3",
         "y": [
          2.799999999999997,
          3.110000000000003
         ],
         "yaxis": "y8"
        },
        {
         "hovertemplate": "class=10<br>skill_name=Original Thinking<br>sub_skill_name=Design of appropriate apparatus, experiment or activity for scientific investigation<br>year=%{x}<br>subSkill_delta=%{y}<br>studentCount=%{marker.size}<extra></extra>",
         "legendgroup": "sub_skill_name=Design of appropriate apparatus, experiment or activity for scientific investigation",
         "marker": {
          "color": "#00cc96",
          "size": [
           73,
           67
          ],
          "sizemode": "area",
          "sizeref": 1.15,
          "symbol": "circle"
         },
         "mode": "markers",
         "name": "sub_skill_name=Design of appropriate apparatus, experiment or activity for scientific investigation",
         "showlegend": false,
         "type": "scatter",
         "uid": "6201a6c7-f9d6-477d-ab86-f871aab97e30",
         "x": [
          "2014",
          "2016"
         ],
         "xaxis": "x3",
         "y": [
          -0.09999999999999787,
          6.530000000000001
         ],
         "yaxis": "y8"
        },
        {
         "hovertemplate": "<b>LOWESS trendline</b><br><br>class=10<br>skill_name=Original Thinking<br>sub_skill_name=Design of appropriate apparatus, experiment or activity for scientific investigation<br>year=%{x}<br>subSkill_delta=%{y} <b>(trend)</b><extra></extra>",
         "legendgroup": "sub_skill_name=Design of appropriate apparatus, experiment or activity for scientific investigation",
         "marker": {
          "color": "#00cc96",
          "symbol": "circle"
         },
         "mode": "lines",
         "name": "sub_skill_name=Design of appropriate apparatus, experiment or activity for scientific investigation",
         "showlegend": false,
         "type": "scatter",
         "uid": "51510a10-5449-401d-bd4b-9002435c1e2a",
         "x": [
          2014,
          2016
         ],
         "xaxis": "x3",
         "y": [
          -0.09999999999999787,
          6.530000000000001
         ],
         "yaxis": "y8"
        },
        {
         "hovertemplate": "class=10<br>skill_name=Reasoning and Analysis Skills<br>sub_skill_name=Extraction, translation and application of knowledge or information<br>year=%{x}<br>subSkill_delta=%{y}<br>studentCount=%{marker.size}<extra></extra>",
         "legendgroup": "sub_skill_name=Extraction, translation and application of knowledge or information",
         "marker": {
          "color": "#fecb52",
          "size": [
           73,
           67
          ],
          "sizemode": "area",
          "sizeref": 1.15,
          "symbol": "circle"
         },
         "mode": "markers",
         "name": "sub_skill_name=Extraction, translation and application of knowledge or information",
         "showlegend": false,
         "type": "scatter",
         "uid": "f11e9ef8-4d5e-4b9e-b66d-b87397f6294f",
         "x": [
          "2014",
          "2016"
         ],
         "xaxis": "x4",
         "y": [
          0.6999999999999957,
          5.339999999999996
         ],
         "yaxis": "y8"
        },
        {
         "hovertemplate": "<b>LOWESS trendline</b><br><br>class=10<br>skill_name=Reasoning and Analysis Skills<br>sub_skill_name=Extraction, translation and application of knowledge or information<br>year=%{x}<br>subSkill_delta=%{y} <b>(trend)</b><extra></extra>",
         "legendgroup": "sub_skill_name=Extraction, translation and application of knowledge or information",
         "marker": {
          "color": "#fecb52",
          "symbol": "circle"
         },
         "mode": "lines",
         "name": "sub_skill_name=Extraction, translation and application of knowledge or information",
         "showlegend": false,
         "type": "scatter",
         "uid": "04a3a282-52a0-4cc6-802b-26bdcf908405",
         "x": [
          2014,
          2016
         ],
         "xaxis": "x4",
         "y": [
          0.6999999999999957,
          5.339999999999996
         ],
         "yaxis": "y8"
        },
        {
         "hovertemplate": "class=10<br>skill_name=Reasoning and Analysis Skills<br>sub_skill_name=Representing, relating or explaining scientific processes or observed phenomena<br>year=%{x}<br>subSkill_delta=%{y}<br>studentCount=%{marker.size}<extra></extra>",
         "legendgroup": "sub_skill_name=Representing, relating or explaining scientific processes or observed phenomena",
         "marker": {
          "color": "#ffa15a",
          "size": [
           73,
           67
          ],
          "sizemode": "area",
          "sizeref": 1.15,
          "symbol": "circle"
         },
         "mode": "markers",
         "name": "sub_skill_name=Representing, relating or explaining scientific processes or observed phenomena",
         "showlegend": false,
         "type": "scatter",
         "uid": "d4cea493-5a48-43b1-8ef6-9762ebafb27c",
         "x": [
          "2014",
          "2016"
         ],
         "xaxis": "x4",
         "y": [
          -10.370000000000001,
          1.8599999999999994
         ],
         "yaxis": "y8"
        },
        {
         "hovertemplate": "<b>LOWESS trendline</b><br><br>class=10<br>skill_name=Reasoning and Analysis Skills<br>sub_skill_name=Representing, relating or explaining scientific processes or observed phenomena<br>year=%{x}<br>subSkill_delta=%{y} <b>(trend)</b><extra></extra>",
         "legendgroup": "sub_skill_name=Representing, relating or explaining scientific processes or observed phenomena",
         "marker": {
          "color": "#ffa15a",
          "symbol": "circle"
         },
         "mode": "lines",
         "name": "sub_skill_name=Representing, relating or explaining scientific processes or observed phenomena",
         "showlegend": false,
         "type": "scatter",
         "uid": "4392f5b9-d8fb-49d0-815e-bfc455c57529",
         "x": [
          2014,
          2016
         ],
         "xaxis": "x4",
         "y": [
          -10.370000000000001,
          1.8599999999999994
         ],
         "yaxis": "y8"
        },
        {
         "hovertemplate": "class=10<br>skill_name=Reasoning and Analysis Skills<br>sub_skill_name=Analysis of information to identify trends or properties<br>year=%{x}<br>subSkill_delta=%{y}<br>studentCount=%{marker.size}<extra></extra>",
         "legendgroup": "sub_skill_name=Analysis of information to identify trends or properties",
         "marker": {
          "color": "#b6e880",
          "size": [
           73,
           67
          ],
          "sizemode": "area",
          "sizeref": 1.15,
          "symbol": "circle"
         },
         "mode": "markers",
         "name": "sub_skill_name=Analysis of information to identify trends or properties",
         "showlegend": false,
         "type": "scatter",
         "uid": "193dacb7-28f9-4f67-a7d9-a01e5119d0c7",
         "x": [
          "2014",
          "2016"
         ],
         "xaxis": "x4",
         "y": [
          3.780000000000001,
          2.830000000000002
         ],
         "yaxis": "y8"
        },
        {
         "hovertemplate": "<b>LOWESS trendline</b><br><br>class=10<br>skill_name=Reasoning and Analysis Skills<br>sub_skill_name=Analysis of information to identify trends or properties<br>year=%{x}<br>subSkill_delta=%{y} <b>(trend)</b><extra></extra>",
         "legendgroup": "sub_skill_name=Analysis of information to identify trends or properties",
         "marker": {
          "color": "#b6e880",
          "symbol": "circle"
         },
         "mode": "lines",
         "name": "sub_skill_name=Analysis of information to identify trends or properties",
         "showlegend": false,
         "type": "scatter",
         "uid": "eb3d39e8-700e-4d16-9ce0-24c5ba617644",
         "x": [
          2014,
          2016
         ],
         "xaxis": "x4",
         "y": [
          3.780000000000001,
          2.830000000000002
         ],
         "yaxis": "y8"
        },
        {
         "hovertemplate": "class=10<br>skill_name=Reasoning and Analysis Skills<br>sub_skill_name=Advanced or complex data representation or interpretation<br>year=%{x}<br>subSkill_delta=%{y}<br>studentCount=%{marker.size}<extra></extra>",
         "legendgroup": "sub_skill_name=Advanced or complex data representation or interpretation",
         "marker": {
          "color": "#EF553B",
          "size": [
           73,
           67
          ],
          "sizemode": "area",
          "sizeref": 1.15,
          "symbol": "circle"
         },
         "mode": "markers",
         "name": "sub_skill_name=Advanced or complex data representation or interpretation",
         "showlegend": false,
         "type": "scatter",
         "uid": "55b47af3-684d-4f84-996c-4d650cf7b0a9",
         "x": [
          "2014",
          "2016"
         ],
         "xaxis": "x4",
         "y": [
          7.579999999999998,
          2.6000000000000014
         ],
         "yaxis": "y8"
        },
        {
         "hovertemplate": "<b>LOWESS trendline</b><br><br>class=10<br>skill_name=Reasoning and Analysis Skills<br>sub_skill_name=Advanced or complex data representation or interpretation<br>year=%{x}<br>subSkill_delta=%{y} <b>(trend)</b><extra></extra>",
         "legendgroup": "sub_skill_name=Advanced or complex data representation or interpretation",
         "marker": {
          "color": "#EF553B",
          "symbol": "circle"
         },
         "mode": "lines",
         "name": "sub_skill_name=Advanced or complex data representation or interpretation",
         "showlegend": false,
         "type": "scatter",
         "uid": "9e76d741-2e9a-4f5f-aecb-a9a85e7d30d5",
         "x": [
          2014,
          2016
         ],
         "xaxis": "x4",
         "y": [
          7.579999999999998,
          2.6000000000000014
         ],
         "yaxis": "y8"
        }
       ],
       "layout": {
        "annotations": [
         {
          "showarrow": false,
          "text": "skill_name=Conceptual Understanding and Comprehension",
          "textangle": 0,
          "x": 0.1153846153846154,
          "xanchor": "center",
          "xref": "paper",
          "y": 1.02,
          "yanchor": "middle",
          "yref": "paper"
         },
         {
          "showarrow": false,
          "text": "skill_name=Knowledge of Basic Science Facts",
          "textangle": 0,
          "x": 0.3717948717948718,
          "xanchor": "center",
          "xref": "paper",
          "y": 1.02,
          "yanchor": "middle",
          "yref": "paper"
         },
         {
          "showarrow": false,
          "text": "skill_name=Original Thinking",
          "textangle": 0,
          "x": 0.6282051282051283,
          "xanchor": "center",
          "xref": "paper",
          "y": 1.02,
          "yanchor": "middle",
          "yref": "paper"
         },
         {
          "showarrow": false,
          "text": "skill_name=Reasoning and Analysis Skills",
          "textangle": 0,
          "x": 0.8846153846153848,
          "xanchor": "center",
          "xref": "paper",
          "y": 1.02,
          "yanchor": "middle",
          "yref": "paper"
         },
         {
          "showarrow": false,
          "text": "class=3",
          "textangle": 90,
          "x": 1.01,
          "xanchor": "center",
          "xref": "paper",
          "y": 0.9430379746835442,
          "yanchor": "middle",
          "yref": "paper"
         },
         {
          "showarrow": false,
          "text": "class=4",
          "textangle": 90,
          "x": 1.01,
          "xanchor": "center",
          "xref": "paper",
          "y": 0.8164556962025316,
          "yanchor": "middle",
          "yref": "paper"
         },
         {
          "showarrow": false,
          "text": "class=5",
          "textangle": 90,
          "x": 1.01,
          "xanchor": "center",
          "xref": "paper",
          "y": 0.6898734177215189,
          "yanchor": "middle",
          "yref": "paper"
         },
         {
          "showarrow": false,
          "text": "class=6",
          "textangle": 90,
          "x": 1.01,
          "xanchor": "center",
          "xref": "paper",
          "y": 0.5632911392405062,
          "yanchor": "middle",
          "yref": "paper"
         },
         {
          "showarrow": false,
          "text": "class=7",
          "textangle": 90,
          "x": 1.01,
          "xanchor": "center",
          "xref": "paper",
          "y": 0.4367088607594936,
          "yanchor": "middle",
          "yref": "paper"
         },
         {
          "showarrow": false,
          "text": "class=8",
          "textangle": 90,
          "x": 1.01,
          "xanchor": "center",
          "xref": "paper",
          "y": 0.310126582278481,
          "yanchor": "middle",
          "yref": "paper"
         },
         {
          "showarrow": false,
          "text": "class=9",
          "textangle": 90,
          "x": 1.01,
          "xanchor": "center",
          "xref": "paper",
          "y": 0.18354430379746833,
          "yanchor": "middle",
          "yref": "paper"
         },
         {
          "showarrow": false,
          "text": "class=10",
          "textangle": 90,
          "x": 1.01,
          "xanchor": "center",
          "xref": "paper",
          "y": 0.05696202531645569,
          "yanchor": "middle",
          "yref": "paper"
         }
        ],
        "grid": {
         "xaxes": [
          "x",
          "x2",
          "x3",
          "x4"
         ],
         "xgap": 0.1,
         "xside": "bottom",
         "yaxes": [
          "y",
          "y2",
          "y3",
          "y4",
          "y5",
          "y6",
          "y7",
          "y8"
         ],
         "ygap": 0.1,
         "yside": "left"
        },
        "height": 2000,
        "legend": {
         "tracegroupgap": 0
        },
        "template": {
         "data": {
          "bar": [
           {
            "marker": {
             "line": {
              "color": "#E5ECF6",
              "width": 0.5
             }
            },
            "type": "bar"
           }
          ],
          "barpolar": [
           {
            "marker": {
             "line": {
              "color": "#E5ECF6",
              "width": 0.5
             }
            },
            "type": "barpolar"
           }
          ],
          "carpet": [
           {
            "aaxis": {
             "endlinecolor": "#2a3f5f",
             "gridcolor": "white",
             "linecolor": "white",
             "minorgridcolor": "white",
             "startlinecolor": "#2a3f5f"
            },
            "baxis": {
             "endlinecolor": "#2a3f5f",
             "gridcolor": "white",
             "linecolor": "white",
             "minorgridcolor": "white",
             "startlinecolor": "#2a3f5f"
            },
            "type": "carpet"
           }
          ],
          "choropleth": [
           {
            "colorbar": {
             "outlinewidth": 0,
             "ticks": ""
            },
            "type": "choropleth"
           }
          ],
          "contour": [
           {
            "autocolorscale": true,
            "colorbar": {
             "outlinewidth": 0,
             "ticks": ""
            },
            "type": "contour"
           }
          ],
          "contourcarpet": [
           {
            "colorbar": {
             "outlinewidth": 0,
             "ticks": ""
            },
            "type": "contourcarpet"
           }
          ],
          "heatmap": [
           {
            "autocolorscale": true,
            "colorbar": {
             "outlinewidth": 0,
             "ticks": ""
            },
            "type": "heatmap"
           }
          ],
          "heatmapgl": [
           {
            "colorbar": {
             "outlinewidth": 0,
             "ticks": ""
            },
            "type": "heatmapgl"
           }
          ],
          "histogram": [
           {
            "marker": {
             "colorbar": {
              "outlinewidth": 0,
              "ticks": ""
             }
            },
            "type": "histogram"
           }
          ],
          "histogram2d": [
           {
            "autocolorscale": true,
            "colorbar": {
             "outlinewidth": 0,
             "ticks": ""
            },
            "type": "histogram2d"
           }
          ],
          "histogram2dcontour": [
           {
            "autocolorscale": true,
            "colorbar": {
             "outlinewidth": 0,
             "ticks": ""
            },
            "type": "histogram2dcontour"
           }
          ],
          "mesh3d": [
           {
            "colorbar": {
             "outlinewidth": 0,
             "ticks": ""
            },
            "type": "mesh3d"
           }
          ],
          "parcoords": [
           {
            "line": {
             "colorbar": {
              "outlinewidth": 0,
              "ticks": ""
             }
            },
            "type": "parcoords"
           }
          ],
          "scatter": [
           {
            "marker": {
             "colorbar": {
              "outlinewidth": 0,
              "ticks": ""
             }
            },
            "type": "scatter"
           }
          ],
          "scatter3d": [
           {
            "marker": {
             "colorbar": {
              "outlinewidth": 0,
              "ticks": ""
             }
            },
            "type": "scatter3d"
           }
          ],
          "scattercarpet": [
           {
            "marker": {
             "colorbar": {
              "outlinewidth": 0,
              "ticks": ""
             }
            },
            "type": "scattercarpet"
           }
          ],
          "scattergeo": [
           {
            "marker": {
             "colorbar": {
              "outlinewidth": 0,
              "ticks": ""
             }
            },
            "type": "scattergeo"
           }
          ],
          "scattergl": [
           {
            "marker": {
             "colorbar": {
              "outlinewidth": 0,
              "ticks": ""
             }
            },
            "type": "scattergl"
           }
          ],
          "scattermapbox": [
           {
            "marker": {
             "colorbar": {
              "outlinewidth": 0,
              "ticks": ""
             }
            },
            "type": "scattermapbox"
           }
          ],
          "scatterpolar": [
           {
            "marker": {
             "colorbar": {
              "outlinewidth": 0,
              "ticks": ""
             }
            },
            "type": "scatterpolar"
           }
          ],
          "scatterpolargl": [
           {
            "marker": {
             "colorbar": {
              "outlinewidth": 0,
              "ticks": ""
             }
            },
            "type": "scatterpolargl"
           }
          ],
          "scatterternary": [
           {
            "marker": {
             "colorbar": {
              "outlinewidth": 0,
              "ticks": ""
             }
            },
            "type": "scatterternary"
           }
          ],
          "surface": [
           {
            "colorbar": {
             "outlinewidth": 0,
             "ticks": ""
            },
            "type": "surface"
           }
          ],
          "table": [
           {
            "cells": {
             "fill": {
              "color": "#EBF0F8"
             },
             "line": {
              "color": "white"
             }
            },
            "header": {
             "fill": {
              "color": "#C8D4E3"
             },
             "line": {
              "color": "white"
             }
            },
            "type": "table"
           }
          ]
         },
         "layout": {
          "annotationdefaults": {
           "arrowcolor": "#506784",
           "arrowhead": 0,
           "arrowwidth": 1
          },
          "colorscale": {
           "diverging": [
            [
             0,
             "#8e0152"
            ],
            [
             0.1,
             "#c51b7d"
            ],
            [
             0.2,
             "#de77ae"
            ],
            [
             0.3,
             "#f1b6da"
            ],
            [
             0.4,
             "#fde0ef"
            ],
            [
             0.5,
             "#f7f7f7"
            ],
            [
             0.6,
             "#e6f5d0"
            ],
            [
             0.7,
             "#b8e186"
            ],
            [
             0.8,
             "#7fbc41"
            ],
            [
             0.9,
             "#4d9221"
            ],
            [
             1,
             "#276419"
            ]
           ],
           "sequential": [
            [
             0,
             "#0508b8"
            ],
            [
             0.0893854748603352,
             "#1910d8"
            ],
            [
             0.1787709497206704,
             "#3c19f0"
            ],
            [
             0.2681564245810056,
             "#6b1cfb"
            ],
            [
             0.3575418994413408,
             "#981cfd"
            ],
            [
             0.44692737430167595,
             "#bf1cfd"
            ],
            [
             0.5363128491620112,
             "#dd2bfd"
            ],
            [
             0.6256983240223464,
             "#f246fe"
            ],
            [
             0.7150837988826816,
             "#fc67fd"
            ],
            [
             0.8044692737430168,
             "#fe88fc"
            ],
            [
             0.8938547486033519,
             "#fea5fd"
            ],
            [
             0.9832402234636871,
             "#febefe"
            ],
            [
             1,
             "#fec3fe"
            ]
           ],
           "sequentialminus": [
            [
             0,
             "#0508b8"
            ],
            [
             0.0893854748603352,
             "#1910d8"
            ],
            [
             0.1787709497206704,
             "#3c19f0"
            ],
            [
             0.2681564245810056,
             "#6b1cfb"
            ],
            [
             0.3575418994413408,
             "#981cfd"
            ],
            [
             0.44692737430167595,
             "#bf1cfd"
            ],
            [
             0.5363128491620112,
             "#dd2bfd"
            ],
            [
             0.6256983240223464,
             "#f246fe"
            ],
            [
             0.7150837988826816,
             "#fc67fd"
            ],
            [
             0.8044692737430168,
             "#fe88fc"
            ],
            [
             0.8938547486033519,
             "#fea5fd"
            ],
            [
             0.9832402234636871,
             "#febefe"
            ],
            [
             1,
             "#fec3fe"
            ]
           ]
          },
          "colorway": [
           "#636efa",
           "#EF553B",
           "#00cc96",
           "#ab63fa",
           "#19d3f3",
           "#e763fa",
           "#FECB52",
           "#FFA15A",
           "#FF6692",
           "#B6E880"
          ],
          "font": {
           "color": "#2a3f5f"
          },
          "geo": {
           "bgcolor": "white",
           "lakecolor": "white",
           "landcolor": "#E5ECF6",
           "showlakes": true,
           "showland": true,
           "subunitcolor": "white"
          },
          "hoverlabel": {
           "align": "left"
          },
          "hovermode": "closest",
          "legend": {
           "itemsizing": "constant"
          },
          "mapbox": {
           "style": "light"
          },
          "paper_bgcolor": "white",
          "plot_bgcolor": "#E5ECF6",
          "polar": {
           "angularaxis": {
            "gridcolor": "white",
            "linecolor": "white",
            "ticks": ""
           },
           "bgcolor": "#E5ECF6",
           "radialaxis": {
            "gridcolor": "white",
            "linecolor": "white",
            "ticks": ""
           }
          },
          "scene": {
           "xaxis": {
            "backgroundcolor": "#E5ECF6",
            "gridcolor": "white",
            "gridwidth": 2,
            "linecolor": "white",
            "showbackground": true,
            "ticks": "",
            "zerolinecolor": "white"
           },
           "yaxis": {
            "backgroundcolor": "#E5ECF6",
            "gridcolor": "white",
            "gridwidth": 2,
            "linecolor": "white",
            "showbackground": true,
            "ticks": "",
            "zerolinecolor": "white"
           },
           "zaxis": {
            "backgroundcolor": "#E5ECF6",
            "gridcolor": "white",
            "gridwidth": 2,
            "linecolor": "white",
            "showbackground": true,
            "ticks": "",
            "zerolinecolor": "white"
           }
          },
          "shapedefaults": {
           "fillcolor": "#506784",
           "line": {
            "width": 0
           },
           "opacity": 0.4
          },
          "ternary": {
           "aaxis": {
            "gridcolor": "white",
            "linecolor": "white",
            "ticks": ""
           },
           "baxis": {
            "gridcolor": "white",
            "linecolor": "white",
            "ticks": ""
           },
           "bgcolor": "#E5ECF6",
           "caxis": {
            "gridcolor": "white",
            "linecolor": "white",
            "ticks": ""
           }
          },
          "title": {
           "x": 0.05
          },
          "xaxis": {
           "automargin": true,
           "gridcolor": "white",
           "linecolor": "white",
           "ticks": "",
           "zerolinecolor": "white",
           "zerolinewidth": 2
          },
          "yaxis": {
           "automargin": true,
           "gridcolor": "white",
           "linecolor": "white",
           "ticks": "",
           "zerolinecolor": "white",
           "zerolinewidth": 2
          }
         }
        },
        "title": {
         "text": "Core Skills in Science (Sushila Birla Girls^ School-Kolkata-CBSE)"
        },
        "width": 3000,
        "xaxis": {
         "title": {
          "text": "year"
         }
        },
        "xaxis2": {
         "matches": "x",
         "title": {
          "text": "year"
         }
        },
        "xaxis3": {
         "matches": "x",
         "title": {
          "text": "year"
         }
        },
        "xaxis4": {
         "matches": "x",
         "title": {
          "text": "year"
         }
        },
        "yaxis": {
         "title": {
          "text": "subSkill_delta"
         }
        },
        "yaxis2": {
         "matches": "y",
         "title": {
          "text": "subSkill_delta"
         }
        },
        "yaxis3": {
         "matches": "y",
         "title": {
          "text": "subSkill_delta"
         }
        },
        "yaxis4": {
         "matches": "y",
         "title": {
          "text": "subSkill_delta"
         }
        },
        "yaxis5": {
         "matches": "y",
         "title": {
          "text": "subSkill_delta"
         }
        },
        "yaxis6": {
         "matches": "y",
         "title": {
          "text": "subSkill_delta"
         }
        },
        "yaxis7": {
         "matches": "y",
         "title": {
          "text": "subSkill_delta"
         }
        },
        "yaxis8": {
         "matches": "y",
         "title": {
          "text": "subSkill_delta"
         }
        }
       }
      },
      "text/html": [
       "<div>\n",
       "        \n",
       "        \n",
       "            <div id=\"a0470246-3e53-44e0-9f0e-cf5bc9cfec12\" class=\"plotly-graph-div\"></div>\n",
       "            <script type=\"text/javascript\">\n",
       "                require([\"plotly\"], function(Plotly) {\n",
       "                    window.PLOTLYENV=window.PLOTLYENV || {};\n",
       "                    window.PLOTLYENV.BASE_URL='https://plot.ly';\n",
       "                    \n",
       "                if (document.getElementById(\"a0470246-3e53-44e0-9f0e-cf5bc9cfec12\")) {\n",
       "                    Plotly.newPlot(\n",
       "                        'a0470246-3e53-44e0-9f0e-cf5bc9cfec12',\n",
       "                        [{\"hovertemplate\": \"class=3<br>skill_name=Conceptual Understanding and Comprehension<br>sub_skill_name=Classification/comparison of organisms/processes; giving examples<br>year=%{x}<br>subSkill_delta=%{y}<br>studentCount=%{marker.size}<extra></extra>\", \"legendgroup\": \"sub_skill_name=Classification/comparison of organisms/processes; giving examples\", \"marker\": {\"color\": \"#636efa\", \"size\": [113, 18, 73, 75, 106, 109], \"sizemode\": \"area\", \"sizeref\": 1.15, \"symbol\": \"circle\"}, \"mode\": \"markers\", \"name\": \"sub_skill_name=Classification/comparison of organisms/processes; giving examples\", \"showlegend\": true, \"type\": \"scatter\", \"uid\": \"aa3432e8-a556-44f7-a58f-6c090cb0ff58\", \"x\": [\"2018\", \"2007\", \"2008\", \"2009\", \"2014\", \"2016\"], \"xaxis\": \"x\", \"y\": [8.779999999999994, 5.469999999999999, 3.700000000000003, -1.8199999999999932, 0.45000000000000284, 4.579999999999998], \"yaxis\": \"y\"}, {\"hovertemplate\": \"<b>LOWESS trendline</b><br><br>class=3<br>skill_name=Conceptual Understanding and Comprehension<br>sub_skill_name=Classification/comparison of organisms/processes; giving examples<br>year=%{x}<br>subSkill_delta=%{y} <b>(trend)</b><extra></extra>\", \"legendgroup\": \"sub_skill_name=Classification/comparison of organisms/processes; giving examples\", \"marker\": {\"color\": \"#636efa\", \"symbol\": \"circle\"}, \"mode\": \"lines\", \"name\": \"sub_skill_name=Classification/comparison of organisms/processes; giving examples\", \"showlegend\": false, \"type\": \"scatter\", \"uid\": \"64dc095c-caa1-4fbe-93e3-e7fc75cf9519\", \"x\": [2007.0, 2008.0, 2009.0, 2014.0, 2016.0, 2018.0], \"xaxis\": \"x\", \"y\": [5.470000000001375, 1.8250000000000028, -1.82000000000002, 0.4462269478407162, 4.606202261227267, 8.771800012721911], \"yaxis\": \"y\"}, {\"hovertemplate\": \"class=3<br>skill_name=Conceptual Understanding and Comprehension<br>sub_skill_name=Knowledge of use of scientific instruments, tools and procedures<br>year=%{x}<br>subSkill_delta=%{y}<br>studentCount=%{marker.size}<extra></extra>\", \"legendgroup\": \"sub_skill_name=Knowledge of use of scientific instruments, tools and procedures\", \"marker\": {\"color\": \"#EF553B\", \"size\": [113, 18, 73, 75, 106, 109], \"sizemode\": \"area\", \"sizeref\": 1.15, \"symbol\": \"circle\"}, \"mode\": \"markers\", \"name\": \"sub_skill_name=Knowledge of use of scientific instruments, tools and procedures\", \"showlegend\": true, \"type\": \"scatter\", \"uid\": \"bcca0220-0105-4c3f-92ed-1532e62c6ad7\", \"x\": [\"2018\", \"2007\", \"2008\", \"2009\", \"2014\", \"2016\"], \"xaxis\": \"x\", \"y\": [3.2099999999999937, 8.840000000000003, 4.619999999999997, 6.189999999999998, -4.149999999999999, 7.959999999999994], \"yaxis\": \"y\"}, {\"hovertemplate\": \"<b>LOWESS trendline</b><br><br>class=3<br>skill_name=Conceptual Understanding and Comprehension<br>sub_skill_name=Knowledge of use of scientific instruments, tools and procedures<br>year=%{x}<br>subSkill_delta=%{y} <b>(trend)</b><extra></extra>\", \"legendgroup\": \"sub_skill_name=Knowledge of use of scientific instruments, tools and procedures\", \"marker\": {\"color\": \"#EF553B\", \"symbol\": \"circle\"}, \"mode\": \"lines\", \"name\": \"sub_skill_name=Knowledge of use of scientific instruments, tools and procedures\", \"showlegend\": false, \"type\": \"scatter\", \"uid\": \"4e70b1ae-7681-4334-8bb1-7bbf49f344fc\", \"x\": [2007.0, 2008.0, 2009.0, 2014.0, 2016.0, 2018.0], \"xaxis\": \"x\", \"y\": [8.047371315117948, 6.702736498139663, 5.4242923734106006, -4.149999999999434, -0.4699999999999622, 3.2100000000001048], \"yaxis\": \"y\"}, {\"hovertemplate\": \"class=3<br>skill_name=Knowledge of Basic Science Facts<br>sub_skill_name=Definition or description of scientific terms, organisms or materials<br>year=%{x}<br>subSkill_delta=%{y}<br>studentCount=%{marker.size}<extra></extra>\", \"legendgroup\": \"sub_skill_name=Definition or description of scientific terms, organisms or materials\", \"marker\": {\"color\": \"#00cc96\", \"size\": [113, 18, 73, 75, 106, 109], \"sizemode\": \"area\", \"sizeref\": 1.15, \"symbol\": \"circle\"}, \"mode\": \"markers\", \"name\": \"sub_skill_name=Definition or description of scientific terms, organisms or materials\", \"showlegend\": true, \"type\": \"scatter\", \"uid\": \"664e30d5-ed2a-4e34-b097-a455aa186aab\", \"x\": [\"2018\", \"2007\", \"2008\", \"2009\", \"2014\", \"2016\"], \"xaxis\": \"x2\", \"y\": [5.789999999999992, 13.480000000000004, 0.030000000000001137, 5.150000000000006, 4.929999999999993, -4.939999999999998], \"yaxis\": \"y\"}, {\"hovertemplate\": \"<b>LOWESS trendline</b><br><br>class=3<br>skill_name=Knowledge of Basic Science Facts<br>sub_skill_name=Definition or description of scientific terms, organisms or materials<br>year=%{x}<br>subSkill_delta=%{y} <b>(trend)</b><extra></extra>\", \"legendgroup\": \"sub_skill_name=Definition or description of scientific terms, organisms or materials\", \"marker\": {\"color\": \"#00cc96\", \"symbol\": \"circle\"}, \"mode\": \"lines\", \"name\": \"sub_skill_name=Definition or description of scientific terms, organisms or materials\", \"showlegend\": false, \"type\": \"scatter\", \"uid\": \"35106859-4a5f-4cea-b417-69d859c29d5c\", \"x\": [2007.0, 2008.0, 2009.0, 2014.0, 2016.0, 2018.0], \"xaxis\": \"x2\", \"y\": [11.175916996891367, 6.954492204484638, 2.9206672351654963, 3.827125781171716, 2.934138253226789, 3.57708460758311], \"yaxis\": \"y\"}, {\"hovertemplate\": \"class=3<br>skill_name=Knowledge of Basic Science Facts<br>sub_skill_name=Recollection or recognition of science facts and concepts<br>year=%{x}<br>subSkill_delta=%{y}<br>studentCount=%{marker.size}<extra></extra>\", \"legendgroup\": \"sub_skill_name=Recollection or recognition of science facts and concepts\", \"marker\": {\"color\": \"#ab63fa\", \"size\": [113, 18, 73, 75, 106, 109], \"sizemode\": \"area\", \"sizeref\": 1.15, \"symbol\": \"circle\"}, \"mode\": \"markers\", \"name\": \"sub_skill_name=Recollection or recognition of science facts and concepts\", \"showlegend\": true, \"type\": \"scatter\", \"uid\": \"607a22f6-044b-48a8-b2d8-9d8eeda2367a\", \"x\": [\"2018\", \"2007\", \"2008\", \"2009\", \"2014\", \"2016\"], \"xaxis\": \"x2\", \"y\": [-1.1899999999999977, 4.700000000000003, 10.340000000000003, 5.859999999999999, -3.770000000000003, 11.780000000000001], \"yaxis\": \"y\"}, {\"hovertemplate\": \"<b>LOWESS trendline</b><br><br>class=3<br>skill_name=Knowledge of Basic Science Facts<br>sub_skill_name=Recollection or recognition of science facts and concepts<br>year=%{x}<br>subSkill_delta=%{y} <b>(trend)</b><extra></extra>\", \"legendgroup\": \"sub_skill_name=Recollection or recognition of science facts and concepts\", \"marker\": {\"color\": \"#ab63fa\", \"symbol\": \"circle\"}, \"mode\": \"lines\", \"name\": \"sub_skill_name=Recollection or recognition of science facts and concepts\", \"showlegend\": false, \"type\": \"scatter\", \"uid\": \"82c5d8b9-5c82-4c67-9228-f190de8d1df2\", \"x\": [2007.0, 2008.0, 2009.0, 2014.0, 2016.0, 2018.0], \"xaxis\": \"x2\", \"y\": [6.084677999464395, 6.698976345825431, 7.197659125924212, -3.770000000000435, -2.4799999999998423, -1.1900000000000532], \"yaxis\": \"y\"}, {\"hovertemplate\": \"class=3<br>skill_name=Original Thinking<br>sub_skill_name=Complex analysis, data interpretation, integrating different concepts<br>year=%{x}<br>subSkill_delta=%{y}<br>studentCount=%{marker.size}<extra></extra>\", \"legendgroup\": \"sub_skill_name=Complex analysis, data interpretation, integrating different concepts\", \"marker\": {\"color\": \"#19d3f3\", \"size\": [113, 18, 73, 75, 106, 109], \"sizemode\": \"area\", \"sizeref\": 1.15, \"symbol\": \"circle\"}, \"mode\": \"markers\", \"name\": \"sub_skill_name=Complex analysis, data interpretation, integrating different concepts\", \"showlegend\": true, \"type\": \"scatter\", \"uid\": \"f2df9930-8483-449d-857a-fe8485855a55\", \"x\": [\"2018\", \"2007\", \"2008\", \"2009\", \"2014\", \"2016\"], \"xaxis\": \"x3\", \"y\": [2.6400000000000006, 6.270000000000003, 2.049999999999997, 4.289999999999999, 0.8599999999999994, -2.9099999999999966], \"yaxis\": \"y\"}, {\"hovertemplate\": \"<b>LOWESS trendline</b><br><br>class=3<br>skill_name=Original Thinking<br>sub_skill_name=Complex analysis, data interpretation, integrating different concepts<br>year=%{x}<br>subSkill_delta=%{y} <b>(trend)</b><extra></extra>\", \"legendgroup\": \"sub_skill_name=Complex analysis, data interpretation, integrating different concepts\", \"marker\": {\"color\": \"#19d3f3\", \"symbol\": \"circle\"}, \"mode\": \"lines\", \"name\": \"sub_skill_name=Complex analysis, data interpretation, integrating different concepts\", \"showlegend\": false, \"type\": \"scatter\", \"uid\": \"9a6be1a9-6167-4eef-9180-ac978652fa15\", \"x\": [2007.0, 2008.0, 2009.0, 2014.0, 2016.0, 2018.0], \"xaxis\": \"x3\", \"y\": [5.405447617394321, 4.393907590039175, 3.454154109604821, 0.4498605886437955, 0.9384814348720609, 1.896891471893995], \"yaxis\": \"y\"}, {\"hovertemplate\": \"class=3<br>skill_name=Original Thinking<br>sub_skill_name=Hypothesis formulation or prediction of outcome<br>year=%{x}<br>subSkill_delta=%{y}<br>studentCount=%{marker.size}<extra></extra>\", \"legendgroup\": \"sub_skill_name=Hypothesis formulation or prediction of outcome\", \"marker\": {\"color\": \"#e763fa\", \"size\": [113, 18, 73, 75, 106, 109], \"sizemode\": \"area\", \"sizeref\": 1.15, \"symbol\": \"circle\"}, \"mode\": \"markers\", \"name\": \"sub_skill_name=Hypothesis formulation or prediction of outcome\", \"showlegend\": true, \"type\": \"scatter\", \"uid\": \"031c0e21-e406-4afe-948f-d3d2738c1bc7\", \"x\": [\"2018\", \"2007\", \"2008\", \"2009\", \"2014\", \"2016\"], \"xaxis\": \"x3\", \"y\": [1.3200000000000003, -5.390000000000001, 9.259999999999998, 7.160000000000004, -9.240000000000002, 11.25], \"yaxis\": \"y\"}, {\"hovertemplate\": \"<b>LOWESS trendline</b><br><br>class=3<br>skill_name=Original Thinking<br>sub_skill_name=Hypothesis formulation or prediction of outcome<br>year=%{x}<br>subSkill_delta=%{y} <b>(trend)</b><extra></extra>\", \"legendgroup\": \"sub_skill_name=Hypothesis formulation or prediction of outcome\", \"marker\": {\"color\": \"#e763fa\", \"symbol\": \"circle\"}, \"mode\": \"lines\", \"name\": \"sub_skill_name=Hypothesis formulation or prediction of outcome\", \"showlegend\": false, \"type\": \"scatter\", \"uid\": \"eb0f9c5c-278d-4acd-b7e0-90499bc8fe99\", \"x\": [2007.0, 2008.0, 2009.0, 2014.0, 2016.0, 2018.0], \"xaxis\": \"x3\", \"y\": [-3.0775036220029715, 3.2554971033960207, 9.394873340734492, -8.503515706394335, -2.7604628772875217, 2.422410388048487], \"yaxis\": \"y\"}, {\"hovertemplate\": \"class=3<br>skill_name=Reasoning and Analysis Skills<br>sub_skill_name=Extraction, translation and application of knowledge or information<br>year=%{x}<br>subSkill_delta=%{y}<br>studentCount=%{marker.size}<extra></extra>\", \"legendgroup\": \"sub_skill_name=Extraction, translation and application of knowledge or information\", \"marker\": {\"color\": \"#fecb52\", \"size\": [113, 18, 73, 75, 106, 109], \"sizemode\": \"area\", \"sizeref\": 1.15, \"symbol\": \"circle\"}, \"mode\": \"markers\", \"name\": \"sub_skill_name=Extraction, translation and application of knowledge or information\", \"showlegend\": true, \"type\": \"scatter\", \"uid\": \"7ff5857a-935a-447e-80b9-621d860439c1\", \"x\": [\"2018\", \"2007\", \"2008\", \"2009\", \"2014\", \"2016\"], \"xaxis\": \"x4\", \"y\": [-0.28000000000000114, 6.890000000000001, -0.5100000000000051, 8.049999999999997, -4.880000000000003, 3.6000000000000014], \"yaxis\": \"y\"}, {\"hovertemplate\": \"<b>LOWESS trendline</b><br><br>class=3<br>skill_name=Reasoning and Analysis Skills<br>sub_skill_name=Extraction, translation and application of knowledge or information<br>year=%{x}<br>subSkill_delta=%{y} <b>(trend)</b><extra></extra>\", \"legendgroup\": \"sub_skill_name=Extraction, translation and application of knowledge or information\", \"marker\": {\"color\": \"#fecb52\", \"symbol\": \"circle\"}, \"mode\": \"lines\", \"name\": \"sub_skill_name=Extraction, translation and application of knowledge or information\", \"showlegend\": false, \"type\": \"scatter\", \"uid\": \"ff21f5dd-877d-4185-b6c6-ea946e940491\", \"x\": [2007.0, 2008.0, 2009.0, 2014.0, 2016.0, 2018.0], \"xaxis\": \"x4\", \"y\": [4.990281366663939, 5.524149716396843, 6.211112120332677, -4.113629784687844, -0.7346918449158135, 1.3884141066119164], \"yaxis\": \"y\"}, {\"hovertemplate\": \"class=3<br>skill_name=Reasoning and Analysis Skills<br>sub_skill_name=Representing, relating or explaining scientific processes or observed phenomena<br>year=%{x}<br>subSkill_delta=%{y}<br>studentCount=%{marker.size}<extra></extra>\", \"legendgroup\": \"sub_skill_name=Representing, relating or explaining scientific processes or observed phenomena\", \"marker\": {\"color\": \"#ffa15a\", \"size\": [113, 18, 73, 75, 106, 109], \"sizemode\": \"area\", \"sizeref\": 1.15, \"symbol\": \"circle\"}, \"mode\": \"markers\", \"name\": \"sub_skill_name=Representing, relating or explaining scientific processes or observed phenomena\", \"showlegend\": true, \"type\": \"scatter\", \"uid\": \"95cbc9f6-cdbb-41f0-a75a-9ca0997fbafe\", \"x\": [\"2018\", \"2007\", \"2008\", \"2009\", \"2014\", \"2016\"], \"xaxis\": \"x4\", \"y\": [3.8299999999999983, -0.7399999999999949, 2.269999999999996, 2.8500000000000014, -2.229999999999997, 11.200000000000003], \"yaxis\": \"y\"}, {\"hovertemplate\": \"<b>LOWESS trendline</b><br><br>class=3<br>skill_name=Reasoning and Analysis Skills<br>sub_skill_name=Representing, relating or explaining scientific processes or observed phenomena<br>year=%{x}<br>subSkill_delta=%{y} <b>(trend)</b><extra></extra>\", \"legendgroup\": \"sub_skill_name=Representing, relating or explaining scientific processes or observed phenomena\", \"marker\": {\"color\": \"#ffa15a\", \"symbol\": \"circle\"}, \"mode\": \"lines\", \"name\": \"sub_skill_name=Representing, relating or explaining scientific processes or observed phenomena\", \"showlegend\": false, \"type\": \"scatter\", \"uid\": \"84e1b94b-88a3-4534-bb4d-2ff9914a5767\", \"x\": [2007.0, 2008.0, 2009.0, 2014.0, 2016.0, 2018.0], \"xaxis\": \"x4\", \"y\": [-0.42436234239363957, 1.3783778034053469, 3.155122871832447, -2.230000000000121, 0.8000000000000007, 3.830000000000062], \"yaxis\": \"y\"}, {\"hovertemplate\": \"class=4<br>skill_name=Conceptual Understanding and Comprehension<br>sub_skill_name=Classification/comparison of organisms/processes; giving examples<br>year=%{x}<br>subSkill_delta=%{y}<br>studentCount=%{marker.size}<extra></extra>\", \"legendgroup\": \"sub_skill_name=Classification/comparison of organisms/processes; giving examples\", \"marker\": {\"color\": \"#636efa\", \"size\": [113, 12, 73, 75, 104, 112], \"sizemode\": \"area\", \"sizeref\": 1.15, \"symbol\": \"circle\"}, \"mode\": \"markers\", \"name\": \"sub_skill_name=Classification/comparison of organisms/processes; giving examples\", \"showlegend\": false, \"type\": \"scatter\", \"uid\": \"0445a064-e409-436c-ae15-92126fb7546a\", \"x\": [\"2018\", \"2007\", \"2008\", \"2009\", \"2014\", \"2016\"], \"xaxis\": \"x\", \"y\": [7.210000000000001, -5.380000000000003, 0.759999999999998, 3.5700000000000003, 0.36000000000000654, 1.2100000000000009], \"yaxis\": \"y2\"}, {\"hovertemplate\": \"<b>LOWESS trendline</b><br><br>class=4<br>skill_name=Conceptual Understanding and Comprehension<br>sub_skill_name=Classification/comparison of organisms/processes; giving examples<br>year=%{x}<br>subSkill_delta=%{y} <b>(trend)</b><extra></extra>\", \"legendgroup\": \"sub_skill_name=Classification/comparison of organisms/processes; giving examples\", \"marker\": {\"color\": \"#636efa\", \"symbol\": \"circle\"}, \"mode\": \"lines\", \"name\": \"sub_skill_name=Classification/comparison of organisms/processes; giving examples\", \"showlegend\": false, \"type\": \"scatter\", \"uid\": \"f01a9271-3742-430d-a007-747a47e283b8\", \"x\": [2007.0, 2008.0, 2009.0, 2014.0, 2016.0, 2018.0], \"xaxis\": \"x\", \"y\": [-4.928844833539069, -0.4425717433724712, 4.006117442936148, 0.15547276476209448, 3.3982095889929482, 6.855431450511549], \"yaxis\": \"y2\"}, {\"hovertemplate\": \"class=4<br>skill_name=Conceptual Understanding and Comprehension<br>sub_skill_name=Knowledge of use of scientific instruments, tools and procedures<br>year=%{x}<br>subSkill_delta=%{y}<br>studentCount=%{marker.size}<extra></extra>\", \"legendgroup\": \"sub_skill_name=Knowledge of use of scientific instruments, tools and procedures\", \"marker\": {\"color\": \"#EF553B\", \"size\": [113, 12, 73, 75, 104, 112], \"sizemode\": \"area\", \"sizeref\": 1.15, \"symbol\": \"circle\"}, \"mode\": \"markers\", \"name\": \"sub_skill_name=Knowledge of use of scientific instruments, tools and procedures\", \"showlegend\": false, \"type\": \"scatter\", \"uid\": \"cf0f26f6-a6dc-4a1e-a174-34f488baf776\", \"x\": [\"2018\", \"2007\", \"2008\", \"2009\", \"2014\", \"2016\"], \"xaxis\": \"x\", \"y\": [1.8599999999999994, -0.5300000000000011, 1.0799999999999983, 0.1599999999999966, -2.210000000000001, -2.3200000000000003], \"yaxis\": \"y2\"}, {\"hovertemplate\": \"<b>LOWESS trendline</b><br><br>class=4<br>skill_name=Conceptual Understanding and Comprehension<br>sub_skill_name=Knowledge of use of scientific instruments, tools and procedures<br>year=%{x}<br>subSkill_delta=%{y} <b>(trend)</b><extra></extra>\", \"legendgroup\": \"sub_skill_name=Knowledge of use of scientific instruments, tools and procedures\", \"marker\": {\"color\": \"#EF553B\", \"symbol\": \"circle\"}, \"mode\": \"lines\", \"name\": \"sub_skill_name=Knowledge of use of scientific instruments, tools and procedures\", \"showlegend\": false, \"type\": \"scatter\", \"uid\": \"599409b8-3cec-4c3c-be0b-0227358692f5\", \"x\": [2007.0, 2008.0, 2009.0, 2014.0, 2016.0, 2018.0], \"xaxis\": \"x\", \"y\": [-0.18297270250105946, 0.17072195557402595, 0.49541093306698486, -2.347227514794066, -0.41526281459019965, 1.639428937215427], \"yaxis\": \"y2\"}, {\"hovertemplate\": \"class=4<br>skill_name=Knowledge of Basic Science Facts<br>sub_skill_name=Definition or description of scientific terms, organisms or materials<br>year=%{x}<br>subSkill_delta=%{y}<br>studentCount=%{marker.size}<extra></extra>\", \"legendgroup\": \"sub_skill_name=Definition or description of scientific terms, organisms or materials\", \"marker\": {\"color\": \"#00cc96\", \"size\": [113, 12, 73, 75, 104, 112], \"sizemode\": \"area\", \"sizeref\": 1.15, \"symbol\": \"circle\"}, \"mode\": \"markers\", \"name\": \"sub_skill_name=Definition or description of scientific terms, organisms or materials\", \"showlegend\": false, \"type\": \"scatter\", \"uid\": \"d9cec430-6b50-4497-96d1-33b702aedebd\", \"x\": [\"2018\", \"2007\", \"2008\", \"2009\", \"2014\", \"2016\"], \"xaxis\": \"x2\", \"y\": [2.25, -0.39000000000000057, -1.75, -1.2999999999999972, -0.539999999999992, -3.219999999999999], \"yaxis\": \"y2\"}, {\"hovertemplate\": \"<b>LOWESS trendline</b><br><br>class=4<br>skill_name=Knowledge of Basic Science Facts<br>sub_skill_name=Definition or description of scientific terms, organisms or materials<br>year=%{x}<br>subSkill_delta=%{y} <b>(trend)</b><extra></extra>\", \"legendgroup\": \"sub_skill_name=Definition or description of scientific terms, organisms or materials\", \"marker\": {\"color\": \"#00cc96\", \"symbol\": \"circle\"}, \"mode\": \"lines\", \"name\": \"sub_skill_name=Definition or description of scientific terms, organisms or materials\", \"showlegend\": false, \"type\": \"scatter\", \"uid\": \"bcd8460a-6f8f-410f-aff2-21826a669498\", \"x\": [2007.0, 2008.0, 2009.0, 2014.0, 2016.0, 2018.0], \"xaxis\": \"x2\", \"y\": [-0.634603255457072, -1.0956466747561446, -1.5363344136677166, -0.5400000000000408, 0.855000000000004, 2.250000000000036], \"yaxis\": \"y2\"}, {\"hovertemplate\": \"class=4<br>skill_name=Knowledge of Basic Science Facts<br>sub_skill_name=Recollection or recognition of science facts and concepts<br>year=%{x}<br>subSkill_delta=%{y}<br>studentCount=%{marker.size}<extra></extra>\", \"legendgroup\": \"sub_skill_name=Recollection or recognition of science facts and concepts\", \"marker\": {\"color\": \"#ab63fa\", \"size\": [113, 12, 73, 75, 104, 112], \"sizemode\": \"area\", \"sizeref\": 1.15, \"symbol\": \"circle\"}, \"mode\": \"markers\", \"name\": \"sub_skill_name=Recollection or recognition of science facts and concepts\", \"showlegend\": false, \"type\": \"scatter\", \"uid\": \"3173eba2-aa74-4934-b547-e14ab00b4c63\", \"x\": [\"2018\", \"2007\", \"2008\", \"2009\", \"2014\", \"2016\"], \"xaxis\": \"x2\", \"y\": [5.27000000000001, -7.090000000000003, -4.969999999999999, 2.0600000000000023, 6.590000000000003, -0.7700000000000102], \"yaxis\": \"y2\"}, {\"hovertemplate\": \"<b>LOWESS trendline</b><br><br>class=4<br>skill_name=Knowledge of Basic Science Facts<br>sub_skill_name=Recollection or recognition of science facts and concepts<br>year=%{x}<br>subSkill_delta=%{y} <b>(trend)</b><extra></extra>\", \"legendgroup\": \"sub_skill_name=Recollection or recognition of science facts and concepts\", \"marker\": {\"color\": \"#ab63fa\", \"symbol\": \"circle\"}, \"mode\": \"lines\", \"name\": \"sub_skill_name=Recollection or recognition of science facts and concepts\", \"showlegend\": false, \"type\": \"scatter\", \"uid\": \"d19c062b-35a6-46c6-91fd-99c1edcbf17d\", \"x\": [2007.0, 2008.0, 2009.0, 2014.0, 2016.0, 2018.0], \"xaxis\": \"x2\", \"y\": [-7.761388746815939, -3.2030173673186653, 1.4114030050266635, 6.589999999999763, 5.929999999999946, 5.27000000000093], \"yaxis\": \"y2\"}, {\"hovertemplate\": \"class=4<br>skill_name=Original Thinking<br>sub_skill_name=Complex analysis, data interpretation, integrating different concepts<br>year=%{x}<br>subSkill_delta=%{y}<br>studentCount=%{marker.size}<extra></extra>\", \"legendgroup\": \"sub_skill_name=Complex analysis, data interpretation, integrating different concepts\", \"marker\": {\"color\": \"#19d3f3\", \"size\": [113, 12, 73, 75, 104, 112], \"sizemode\": \"area\", \"sizeref\": 1.15, \"symbol\": \"circle\"}, \"mode\": \"markers\", \"name\": \"sub_skill_name=Complex analysis, data interpretation, integrating different concepts\", \"showlegend\": false, \"type\": \"scatter\", \"uid\": \"85bce74a-00ef-4b41-ae36-2094099e57e2\", \"x\": [\"2018\", \"2007\", \"2008\", \"2009\", \"2014\", \"2016\"], \"xaxis\": \"x3\", \"y\": [3.75, 6.350000000000001, 4.229999999999997, 0.6099999999999994, 1.5600000000000023, 9.550000000000004], \"yaxis\": \"y2\"}, {\"hovertemplate\": \"<b>LOWESS trendline</b><br><br>class=4<br>skill_name=Original Thinking<br>sub_skill_name=Complex analysis, data interpretation, integrating different concepts<br>year=%{x}<br>subSkill_delta=%{y} <b>(trend)</b><extra></extra>\", \"legendgroup\": \"sub_skill_name=Complex analysis, data interpretation, integrating different concepts\", \"marker\": {\"color\": \"#19d3f3\", \"symbol\": \"circle\"}, \"mode\": \"lines\", \"name\": \"sub_skill_name=Complex analysis, data interpretation, integrating different concepts\", \"showlegend\": false, \"type\": \"scatter\", \"uid\": \"4d01e072-b97c-4be1-8d6d-94becd58a88c\", \"x\": [2007.0, 2008.0, 2009.0, 2014.0, 2016.0, 2018.0], \"xaxis\": \"x3\", \"y\": [6.544972298998249, 3.6797538309433557, 0.7984751242802167, 1.5599999999999992, 2.655000000000001, 3.7500000000000555], \"yaxis\": \"y2\"}, {\"hovertemplate\": \"class=4<br>skill_name=Original Thinking<br>sub_skill_name=Hypothesis formulation or prediction of outcome<br>year=%{x}<br>subSkill_delta=%{y}<br>studentCount=%{marker.size}<extra></extra>\", \"legendgroup\": \"sub_skill_name=Hypothesis formulation or prediction of outcome\", \"marker\": {\"color\": \"#e763fa\", \"size\": [113, 12, 73, 75, 104, 112], \"sizemode\": \"area\", \"sizeref\": 1.15, \"symbol\": \"circle\"}, \"mode\": \"markers\", \"name\": \"sub_skill_name=Hypothesis formulation or prediction of outcome\", \"showlegend\": false, \"type\": \"scatter\", \"uid\": \"fe75f66c-67ac-428a-acc2-2bece59a61d9\", \"x\": [\"2018\", \"2007\", \"2008\", \"2009\", \"2014\", \"2016\"], \"xaxis\": \"x3\", \"y\": [0.7600000000000051, -6.259999999999998, -4.410000000000004, -1.5700000000000003, 1.7100000000000009, 10.550000000000004], \"yaxis\": \"y2\"}, {\"hovertemplate\": \"<b>LOWESS trendline</b><br><br>class=4<br>skill_name=Original Thinking<br>sub_skill_name=Hypothesis formulation or prediction of outcome<br>year=%{x}<br>subSkill_delta=%{y} <b>(trend)</b><extra></extra>\", \"legendgroup\": \"sub_skill_name=Hypothesis formulation or prediction of outcome\", \"marker\": {\"color\": \"#e763fa\", \"symbol\": \"circle\"}, \"mode\": \"lines\", \"name\": \"sub_skill_name=Hypothesis formulation or prediction of outcome\", \"showlegend\": false, \"type\": \"scatter\", \"uid\": \"0e5e73f2-b0ed-471b-bc3f-f7c9504b6826\", \"x\": [2007.0, 2008.0, 2009.0, 2014.0, 2016.0, 2018.0], \"xaxis\": \"x3\", \"y\": [-6.389255580152801, -4.0474270607818745, -1.6949393239703774, 1.7100000000000446, 1.235000000000003, 0.7600000000000138], \"yaxis\": \"y2\"}, {\"hovertemplate\": \"class=4<br>skill_name=Reasoning and Analysis Skills<br>sub_skill_name=Extraction, translation and application of knowledge or information<br>year=%{x}<br>subSkill_delta=%{y}<br>studentCount=%{marker.size}<extra></extra>\", \"legendgroup\": \"sub_skill_name=Extraction, translation and application of knowledge or information\", \"marker\": {\"color\": \"#fecb52\", \"size\": [113, 12, 73, 75, 104, 112], \"sizemode\": \"area\", \"sizeref\": 1.15, \"symbol\": \"circle\"}, \"mode\": \"markers\", \"name\": \"sub_skill_name=Extraction, translation and application of knowledge or information\", \"showlegend\": false, \"type\": \"scatter\", \"uid\": \"3ee0c87e-eacc-4505-942c-a62c9f557dd5\", \"x\": [\"2018\", \"2007\", \"2008\", \"2009\", \"2014\", \"2016\"], \"xaxis\": \"x4\", \"y\": [4.030000000000001, -4.539999999999999, -2.109999999999996, 2.5, -0.030000000000001137, 3.3699999999999974], \"yaxis\": \"y2\"}, {\"hovertemplate\": \"<b>LOWESS trendline</b><br><br>class=4<br>skill_name=Reasoning and Analysis Skills<br>sub_skill_name=Extraction, translation and application of knowledge or information<br>year=%{x}<br>subSkill_delta=%{y} <b>(trend)</b><extra></extra>\", \"legendgroup\": \"sub_skill_name=Extraction, translation and application of knowledge or information\", \"marker\": {\"color\": \"#fecb52\", \"symbol\": \"circle\"}, \"mode\": \"lines\", \"name\": \"sub_skill_name=Extraction, translation and application of knowledge or information\", \"showlegend\": false, \"type\": \"scatter\", \"uid\": \"f42755aa-99f8-4798-9c85-e22f5c3d7ceb\", \"x\": [2007.0, 2008.0, 2009.0, 2014.0, 2016.0, 2018.0], \"xaxis\": \"x4\", \"y\": [-4.822271354770728, -1.3092492609959308, 2.2270076986721206, 0.1069258013756835, 2.2892861993208715, 4.294354610912571], \"yaxis\": \"y2\"}, {\"hovertemplate\": \"class=4<br>skill_name=Reasoning and Analysis Skills<br>sub_skill_name=Representing, relating or explaining scientific processes or observed phenomena<br>year=%{x}<br>subSkill_delta=%{y}<br>studentCount=%{marker.size}<extra></extra>\", \"legendgroup\": \"sub_skill_name=Representing, relating or explaining scientific processes or observed phenomena\", \"marker\": {\"color\": \"#ffa15a\", \"size\": [113, 12, 73, 75, 104, 112], \"sizemode\": \"area\", \"sizeref\": 1.15, \"symbol\": \"circle\"}, \"mode\": \"markers\", \"name\": \"sub_skill_name=Representing, relating or explaining scientific processes or observed phenomena\", \"showlegend\": false, \"type\": \"scatter\", \"uid\": \"bfb2b7bd-dd1c-4e3a-91b5-3d027b7da839\", \"x\": [\"2018\", \"2007\", \"2008\", \"2009\", \"2014\", \"2016\"], \"xaxis\": \"x4\", \"y\": [0.19999999999999574, -5.520000000000003, 2.4199999999999946, 1.8100000000000023, -1.4200000000000017, 3.970000000000006], \"yaxis\": \"y2\"}, {\"hovertemplate\": \"<b>LOWESS trendline</b><br><br>class=4<br>skill_name=Reasoning and Analysis Skills<br>sub_skill_name=Representing, relating or explaining scientific processes or observed phenomena<br>year=%{x}<br>subSkill_delta=%{y} <b>(trend)</b><extra></extra>\", \"legendgroup\": \"sub_skill_name=Representing, relating or explaining scientific processes or observed phenomena\", \"marker\": {\"color\": \"#ffa15a\", \"symbol\": \"circle\"}, \"mode\": \"lines\", \"name\": \"sub_skill_name=Representing, relating or explaining scientific processes or observed phenomena\", \"showlegend\": false, \"type\": \"scatter\", \"uid\": \"c3a7ca50-61a7-4884-a3b3-943278b04650\", \"x\": [2007.0, 2008.0, 2009.0, 2014.0, 2016.0, 2018.0], \"xaxis\": \"x4\", \"y\": [-4.474607409591837, -0.7840843270431234, 2.8216341687974777, -0.9223883294337674, 0.4943685810862634, 1.2069555525401947], \"yaxis\": \"y2\"}, {\"hovertemplate\": \"class=5<br>skill_name=Conceptual Understanding and Comprehension<br>sub_skill_name=Classification/comparison of organisms/processes; giving examples<br>year=%{x}<br>subSkill_delta=%{y}<br>studentCount=%{marker.size}<extra></extra>\", \"legendgroup\": \"sub_skill_name=Classification/comparison of organisms/processes; giving examples\", \"marker\": {\"color\": \"#636efa\", \"size\": [113, 12, 74, 75, 107, 105], \"sizemode\": \"area\", \"sizeref\": 1.15, \"symbol\": \"circle\"}, \"mode\": \"markers\", \"name\": \"sub_skill_name=Classification/comparison of organisms/processes; giving examples\", \"showlegend\": false, \"type\": \"scatter\", \"uid\": \"c1d50867-1451-4521-9208-45914ee88c58\", \"x\": [\"2018\", \"2007\", \"2008\", \"2009\", \"2014\", \"2016\"], \"xaxis\": \"x\", \"y\": [0.46999999999999886, 3.6799999999999997, -1.3699999999999974, 1.6199999999999974, 1.4299999999999997, -2.780000000000001], \"yaxis\": \"y3\"}, {\"hovertemplate\": \"<b>LOWESS trendline</b><br><br>class=5<br>skill_name=Conceptual Understanding and Comprehension<br>sub_skill_name=Classification/comparison of organisms/processes; giving examples<br>year=%{x}<br>subSkill_delta=%{y} <b>(trend)</b><extra></extra>\", \"legendgroup\": \"sub_skill_name=Classification/comparison of organisms/processes; giving examples\", \"marker\": {\"color\": \"#636efa\", \"symbol\": \"circle\"}, \"mode\": \"lines\", \"name\": \"sub_skill_name=Classification/comparison of organisms/processes; giving examples\", \"showlegend\": false, \"type\": \"scatter\", \"uid\": \"aa209ba9-4e78-4468-aad5-164a998d5654\", \"x\": [2007.0, 2008.0, 2009.0, 2014.0, 2016.0, 2018.0], \"xaxis\": \"x\", \"y\": [2.7229988839587054, 1.6697596315677987, 0.6936429478366527, 0.9957218921416322, -0.05660326146232683, -0.44496356163476103], \"yaxis\": \"y3\"}, {\"hovertemplate\": \"class=5<br>skill_name=Conceptual Understanding and Comprehension<br>sub_skill_name=Knowledge of use of scientific instruments, tools and procedures<br>year=%{x}<br>subSkill_delta=%{y}<br>studentCount=%{marker.size}<extra></extra>\", \"legendgroup\": \"sub_skill_name=Knowledge of use of scientific instruments, tools and procedures\", \"marker\": {\"color\": \"#EF553B\", \"size\": [113, 12, 74, 75, 107, 105], \"sizemode\": \"area\", \"sizeref\": 1.15, \"symbol\": \"circle\"}, \"mode\": \"markers\", \"name\": \"sub_skill_name=Knowledge of use of scientific instruments, tools and procedures\", \"showlegend\": false, \"type\": \"scatter\", \"uid\": \"473329cc-2eb5-4511-abd6-25f5c38b6b49\", \"x\": [\"2018\", \"2007\", \"2008\", \"2009\", \"2014\", \"2016\"], \"xaxis\": \"x\", \"y\": [-0.259999999999998, 3.719999999999999, -1.5300000000000011, -0.6999999999999957, 5.469999999999999, 1.6200000000000045], \"yaxis\": \"y3\"}, {\"hovertemplate\": \"<b>LOWESS trendline</b><br><br>class=5<br>skill_name=Conceptual Understanding and Comprehension<br>sub_skill_name=Knowledge of use of scientific instruments, tools and procedures<br>year=%{x}<br>subSkill_delta=%{y} <b>(trend)</b><extra></extra>\", \"legendgroup\": \"sub_skill_name=Knowledge of use of scientific instruments, tools and procedures\", \"marker\": {\"color\": \"#EF553B\", \"symbol\": \"circle\"}, \"mode\": \"lines\", \"name\": \"sub_skill_name=Knowledge of use of scientific instruments, tools and procedures\", \"showlegend\": false, \"type\": \"scatter\", \"uid\": \"19a654a9-d06d-4d63-b4c2-8ad49769c84f\", \"x\": [2007.0, 2008.0, 2009.0, 2014.0, 2016.0, 2018.0], \"xaxis\": \"x\", \"y\": [3.1879806711613474, 0.9655340981429771, -1.2167899280738448, 5.337198817117869, 2.2719186374803284, -0.557233028808554], \"yaxis\": \"y3\"}, {\"hovertemplate\": \"class=5<br>skill_name=Knowledge of Basic Science Facts<br>sub_skill_name=Definition or description of scientific terms, organisms or materials<br>year=%{x}<br>subSkill_delta=%{y}<br>studentCount=%{marker.size}<extra></extra>\", \"legendgroup\": \"sub_skill_name=Definition or description of scientific terms, organisms or materials\", \"marker\": {\"color\": \"#00cc96\", \"size\": [113, 12, 74, 75, 107, 105], \"sizemode\": \"area\", \"sizeref\": 1.15, \"symbol\": \"circle\"}, \"mode\": \"markers\", \"name\": \"sub_skill_name=Definition or description of scientific terms, organisms or materials\", \"showlegend\": false, \"type\": \"scatter\", \"uid\": \"92e28c1a-b280-4e9c-93a7-e60d59f2200c\", \"x\": [\"2018\", \"2007\", \"2008\", \"2009\", \"2014\", \"2016\"], \"xaxis\": \"x2\", \"y\": [9.14, 2.6700000000000017, 1.6700000000000017, 12.090000000000003, -0.3299999999999983, -6.090000000000003], \"yaxis\": \"y3\"}, {\"hovertemplate\": \"<b>LOWESS trendline</b><br><br>class=5<br>skill_name=Knowledge of Basic Science Facts<br>sub_skill_name=Definition or description of scientific terms, organisms or materials<br>year=%{x}<br>subSkill_delta=%{y} <b>(trend)</b><extra></extra>\", \"legendgroup\": \"sub_skill_name=Definition or description of scientific terms, organisms or materials\", \"marker\": {\"color\": \"#00cc96\", \"symbol\": \"circle\"}, \"mode\": \"lines\", \"name\": \"sub_skill_name=Definition or description of scientific terms, organisms or materials\", \"showlegend\": false, \"type\": \"scatter\", \"uid\": \"5a91f9c8-8592-4c37-a7b2-8353e830325c\", \"x\": [2007.0, 2008.0, 2009.0, 2014.0, 2016.0, 2018.0], \"xaxis\": \"x2\", \"y\": [1.0919383182974016, 5.762354504079396, 10.564933137927943, -0.8055063092365987, 3.641199729282991, 8.437918645430146], \"yaxis\": \"y3\"}, {\"hovertemplate\": \"class=5<br>skill_name=Knowledge of Basic Science Facts<br>sub_skill_name=Recollection or recognition of science facts and concepts<br>year=%{x}<br>subSkill_delta=%{y}<br>studentCount=%{marker.size}<extra></extra>\", \"legendgroup\": \"sub_skill_name=Recollection or recognition of science facts and concepts\", \"marker\": {\"color\": \"#ab63fa\", \"size\": [113, 12, 74, 75, 107, 105], \"sizemode\": \"area\", \"sizeref\": 1.15, \"symbol\": \"circle\"}, \"mode\": \"markers\", \"name\": \"sub_skill_name=Recollection or recognition of science facts and concepts\", \"showlegend\": false, \"type\": \"scatter\", \"uid\": \"35046f36-d175-49e5-9cb9-ae20bf45beee\", \"x\": [\"2018\", \"2007\", \"2008\", \"2009\", \"2014\", \"2016\"], \"xaxis\": \"x2\", \"y\": [3.280000000000001, 15.04, 7.399999999999999, 4.989999999999995, -0.14000000000000057, -1.1200000000000045], \"yaxis\": \"y3\"}, {\"hovertemplate\": \"<b>LOWESS trendline</b><br><br>class=5<br>skill_name=Knowledge of Basic Science Facts<br>sub_skill_name=Recollection or recognition of science facts and concepts<br>year=%{x}<br>subSkill_delta=%{y} <b>(trend)</b><extra></extra>\", \"legendgroup\": \"sub_skill_name=Recollection or recognition of science facts and concepts\", \"marker\": {\"color\": \"#ab63fa\", \"symbol\": \"circle\"}, \"mode\": \"lines\", \"name\": \"sub_skill_name=Recollection or recognition of science facts and concepts\", \"showlegend\": false, \"type\": \"scatter\", \"uid\": \"7ce58098-3934-4721-a80a-2842becf80c3\", \"x\": [2007.0, 2008.0, 2009.0, 2014.0, 2016.0, 2018.0], \"xaxis\": \"x2\", \"y\": [14.41256206898301, 9.372301105662954, 4.382701292014015, -0.43672509723082004, 0.905235067167331, 2.674193380318716], \"yaxis\": \"y3\"}, {\"hovertemplate\": \"class=5<br>skill_name=Original Thinking<br>sub_skill_name=Hypothesis formulation or prediction of outcome<br>year=%{x}<br>subSkill_delta=%{y}<br>studentCount=%{marker.size}<extra></extra>\", \"legendgroup\": \"sub_skill_name=Hypothesis formulation or prediction of outcome\", \"marker\": {\"color\": \"#e763fa\", \"size\": [113, 12, 74, 75, 107, 105], \"sizemode\": \"area\", \"sizeref\": 1.15, \"symbol\": \"circle\"}, \"mode\": \"markers\", \"name\": \"sub_skill_name=Hypothesis formulation or prediction of outcome\", \"showlegend\": false, \"type\": \"scatter\", \"uid\": \"c2f2ec31-146a-4e58-b487-6d37a12903f7\", \"x\": [\"2018\", \"2007\", \"2008\", \"2009\", \"2014\", \"2016\"], \"xaxis\": \"x3\", \"y\": [0.5300000000000011, 12.030000000000001, -4.020000000000003, 4.43, 3.509999999999998, -4.609999999999999], \"yaxis\": \"y3\"}, {\"hovertemplate\": \"<b>LOWESS trendline</b><br><br>class=5<br>skill_name=Original Thinking<br>sub_skill_name=Hypothesis formulation or prediction of outcome<br>year=%{x}<br>subSkill_delta=%{y} <b>(trend)</b><extra></extra>\", \"legendgroup\": \"sub_skill_name=Hypothesis formulation or prediction of outcome\", \"marker\": {\"color\": \"#e763fa\", \"symbol\": \"circle\"}, \"mode\": \"lines\", \"name\": \"sub_skill_name=Hypothesis formulation or prediction of outcome\", \"showlegend\": false, \"type\": \"scatter\", \"uid\": \"0c584902-b893-40a3-8794-8ff3c9ff515a\", \"x\": [2007.0, 2008.0, 2009.0, 2014.0, 2016.0, 2018.0], \"xaxis\": \"x3\", \"y\": [9.113765255841583, 5.242949126047437, 1.6071457987578457, 2.6372747995390147, -0.1471436902747914, -1.4128527910091666], \"yaxis\": \"y3\"}, {\"hovertemplate\": \"class=5<br>skill_name=Original Thinking<br>sub_skill_name=Integrating different concepts or information for decision making<br>year=%{x}<br>subSkill_delta=%{y}<br>studentCount=%{marker.size}<extra></extra>\", \"legendgroup\": \"sub_skill_name=Integrating different concepts or information for decision making\", \"marker\": {\"color\": \"#ff6692\", \"size\": [113, 12, 74, 75, 107, 105], \"sizemode\": \"area\", \"sizeref\": 1.15, \"symbol\": \"circle\"}, \"mode\": \"markers\", \"name\": \"sub_skill_name=Integrating different concepts or information for decision making\", \"showlegend\": true, \"type\": \"scatter\", \"uid\": \"96df3192-38f5-429a-a713-caf4347e29f0\", \"x\": [\"2018\", \"2007\", \"2008\", \"2009\", \"2014\", \"2016\"], \"xaxis\": \"x3\", \"y\": [0.03999999999999915, -4.259999999999998, -1.4699999999999989, 6.979999999999997, 5.420000000000002, 1.1799999999999997], \"yaxis\": \"y3\"}, {\"hovertemplate\": \"<b>LOWESS trendline</b><br><br>class=5<br>skill_name=Original Thinking<br>sub_skill_name=Integrating different concepts or information for decision making<br>year=%{x}<br>subSkill_delta=%{y} <b>(trend)</b><extra></extra>\", \"legendgroup\": \"sub_skill_name=Integrating different concepts or information for decision making\", \"marker\": {\"color\": \"#ff6692\", \"symbol\": \"circle\"}, \"mode\": \"lines\", \"name\": \"sub_skill_name=Integrating different concepts or information for decision making\", \"showlegend\": false, \"type\": \"scatter\", \"uid\": \"a445f642-aa36-4824-8404-31f3e1743ce9\", \"x\": [2007.0, 2008.0, 2009.0, 2014.0, 2016.0, 2018.0], \"xaxis\": \"x3\", \"y\": [-4.933709740894582, 0.669930287894565, 6.32786307024667, 5.216223331466262, 2.2242681324081013, -0.4134902610038993], \"yaxis\": \"y3\"}, {\"hovertemplate\": \"class=5<br>skill_name=Reasoning and Analysis Skills<br>sub_skill_name=Extraction, translation and application of knowledge or information<br>year=%{x}<br>subSkill_delta=%{y}<br>studentCount=%{marker.size}<extra></extra>\", \"legendgroup\": \"sub_skill_name=Extraction, translation and application of knowledge or information\", \"marker\": {\"color\": \"#fecb52\", \"size\": [113, 12, 74, 75, 107, 105], \"sizemode\": \"area\", \"sizeref\": 1.15, \"symbol\": \"circle\"}, \"mode\": \"markers\", \"name\": \"sub_skill_name=Extraction, translation and application of knowledge or information\", \"showlegend\": false, \"type\": \"scatter\", \"uid\": \"9a8db546-268a-421e-83e8-f6663c048cf6\", \"x\": [\"2018\", \"2007\", \"2008\", \"2009\", \"2014\", \"2016\"], \"xaxis\": \"x4\", \"y\": [-0.9699999999999989, 3.0899999999999963, -9.34, 2.6499999999999986, -0.7199999999999989, 1.0700000000000003], \"yaxis\": \"y3\"}, {\"hovertemplate\": \"<b>LOWESS trendline</b><br><br>class=5<br>skill_name=Reasoning and Analysis Skills<br>sub_skill_name=Extraction, translation and application of knowledge or information<br>year=%{x}<br>subSkill_delta=%{y} <b>(trend)</b><extra></extra>\", \"legendgroup\": \"sub_skill_name=Extraction, translation and application of knowledge or information\", \"marker\": {\"color\": \"#fecb52\", \"symbol\": \"circle\"}, \"mode\": \"lines\", \"name\": \"sub_skill_name=Extraction, translation and application of knowledge or information\", \"showlegend\": false, \"type\": \"scatter\", \"uid\": \"2265297a-6f6b-49db-a548-6097108cb5ff\", \"x\": [2007.0, 2008.0, 2009.0, 2014.0, 2016.0, 2018.0], \"xaxis\": \"x4\", \"y\": [3.089999999999523, 2.8699999999999397, 2.6499999999998436, -0.47034487392480673, -0.22558925317096312, -0.41307173028907684], \"yaxis\": \"y3\"}, {\"hovertemplate\": \"class=5<br>skill_name=Reasoning and Analysis Skills<br>sub_skill_name=Representing, relating or explaining scientific processes or observed phenomena<br>year=%{x}<br>subSkill_delta=%{y}<br>studentCount=%{marker.size}<extra></extra>\", \"legendgroup\": \"sub_skill_name=Representing, relating or explaining scientific processes or observed phenomena\", \"marker\": {\"color\": \"#ffa15a\", \"size\": [113, 12, 74, 75, 107, 105], \"sizemode\": \"area\", \"sizeref\": 1.15, \"symbol\": \"circle\"}, \"mode\": \"markers\", \"name\": \"sub_skill_name=Representing, relating or explaining scientific processes or observed phenomena\", \"showlegend\": false, \"type\": \"scatter\", \"uid\": \"d0350a20-8010-4561-8ad5-705778d8b1b8\", \"x\": [\"2018\", \"2007\", \"2008\", \"2009\", \"2014\", \"2016\"], \"xaxis\": \"x4\", \"y\": [1.0600000000000023, 15.82, -3.7600000000000016, 2.269999999999996, 6.809999999999995, -2.5799999999999983], \"yaxis\": \"y3\"}, {\"hovertemplate\": \"<b>LOWESS trendline</b><br><br>class=5<br>skill_name=Reasoning and Analysis Skills<br>sub_skill_name=Representing, relating or explaining scientific processes or observed phenomena<br>year=%{x}<br>subSkill_delta=%{y} <b>(trend)</b><extra></extra>\", \"legendgroup\": \"sub_skill_name=Representing, relating or explaining scientific processes or observed phenomena\", \"marker\": {\"color\": \"#ffa15a\", \"symbol\": \"circle\"}, \"mode\": \"lines\", \"name\": \"sub_skill_name=Representing, relating or explaining scientific processes or observed phenomena\", \"showlegend\": false, \"type\": \"scatter\", \"uid\": \"94c792af-b8ff-41ed-ba22-b9ae45def2e4\", \"x\": [2007.0, 2008.0, 2009.0, 2014.0, 2016.0, 2018.0], \"xaxis\": \"x4\", \"y\": [12.77164196743389, 5.922617433389563, -0.6807467793409128, 5.9472964136008075, 1.7871029556188889, -0.8635263545297565], \"yaxis\": \"y3\"}, {\"hovertemplate\": \"class=5<br>skill_name=Reasoning and Analysis Skills<br>sub_skill_name=Analysis of information to identify trends or properties<br>year=%{x}<br>subSkill_delta=%{y}<br>studentCount=%{marker.size}<extra></extra>\", \"legendgroup\": \"sub_skill_name=Analysis of information to identify trends or properties\", \"marker\": {\"color\": \"#b6e880\", \"size\": [113, 12, 74, 75, 107, 105], \"sizemode\": \"area\", \"sizeref\": 1.15, \"symbol\": \"circle\"}, \"mode\": \"markers\", \"name\": \"sub_skill_name=Analysis of information to identify trends or properties\", \"showlegend\": true, \"type\": \"scatter\", \"uid\": \"b6ff986e-bfbe-4a84-99fd-204d73a44b6d\", \"x\": [\"2018\", \"2007\", \"2008\", \"2009\", \"2014\", \"2016\"], \"xaxis\": \"x4\", \"y\": [-3.1199999999999974, 0.46999999999999886, -0.5300000000000011, 8.079999999999998, 7.640000000000001, 3.220000000000006], \"yaxis\": \"y3\"}, {\"hovertemplate\": \"<b>LOWESS trendline</b><br><br>class=5<br>skill_name=Reasoning and Analysis Skills<br>sub_skill_name=Analysis of information to identify trends or properties<br>year=%{x}<br>subSkill_delta=%{y} <b>(trend)</b><extra></extra>\", \"legendgroup\": \"sub_skill_name=Analysis of information to identify trends or properties\", \"marker\": {\"color\": \"#b6e880\", \"symbol\": \"circle\"}, \"mode\": \"lines\", \"name\": \"sub_skill_name=Analysis of information to identify trends or properties\", \"showlegend\": false, \"type\": \"scatter\", \"uid\": \"a2058dff-4409-4f90-a587-017e79d69728\", \"x\": [2007.0, 2008.0, 2009.0, 2014.0, 2016.0, 2018.0], \"xaxis\": \"x4\", \"y\": [0.4700000000000094, 4.275000000000068, 8.079999999999567, 7.769120505778157, 2.5836864601869545, -2.830964970364358], \"yaxis\": \"y3\"}, {\"hovertemplate\": \"class=6<br>skill_name=Conceptual Understanding and Comprehension<br>sub_skill_name=Classification/comparison of organisms/processes; giving examples<br>year=%{x}<br>subSkill_delta=%{y}<br>studentCount=%{marker.size}<extra></extra>\", \"legendgroup\": \"sub_skill_name=Classification/comparison of organisms/processes; giving examples\", \"marker\": {\"color\": \"#636efa\", \"size\": [111, 17, 73, 79, 82, 100], \"sizemode\": \"area\", \"sizeref\": 1.15, \"symbol\": \"circle\"}, \"mode\": \"markers\", \"name\": \"sub_skill_name=Classification/comparison of organisms/processes; giving examples\", \"showlegend\": false, \"type\": \"scatter\", \"uid\": \"ffd0de02-1e26-4eb2-9e4c-fc9ec4004e21\", \"x\": [\"2018\", \"2007\", \"2008\", \"2009\", \"2014\", \"2016\"], \"xaxis\": \"x\", \"y\": [11.040000000000003, 2.3399999999999963, 1.3900000000000006, 2.460000000000001, 9.519999999999996, 0.1700000000000017], \"yaxis\": \"y4\"}, {\"hovertemplate\": \"<b>LOWESS trendline</b><br><br>class=6<br>skill_name=Conceptual Understanding and Comprehension<br>sub_skill_name=Classification/comparison of organisms/processes; giving examples<br>year=%{x}<br>subSkill_delta=%{y} <b>(trend)</b><extra></extra>\", \"legendgroup\": \"sub_skill_name=Classification/comparison of organisms/processes; giving examples\", \"marker\": {\"color\": \"#636efa\", \"symbol\": \"circle\"}, \"mode\": \"lines\", \"name\": \"sub_skill_name=Classification/comparison of organisms/processes; giving examples\", \"showlegend\": false, \"type\": \"scatter\", \"uid\": \"2ca4d06e-4bf6-4b48-b655-500b86d7d1d7\", \"x\": [2007.0, 2008.0, 2009.0, 2014.0, 2016.0, 2018.0], \"xaxis\": \"x\", \"y\": [2.0772394051664156, 2.1307948731215793, 2.2059986187950464, 9.520000000000143, 10.28, 11.040000000000157], \"yaxis\": \"y4\"}, {\"hovertemplate\": \"class=6<br>skill_name=Conceptual Understanding and Comprehension<br>sub_skill_name=Knowledge of use of scientific instruments, tools and procedures<br>year=%{x}<br>subSkill_delta=%{y}<br>studentCount=%{marker.size}<extra></extra>\", \"legendgroup\": \"sub_skill_name=Knowledge of use of scientific instruments, tools and procedures\", \"marker\": {\"color\": \"#EF553B\", \"size\": [111, 17, 73, 79, 82, 100], \"sizemode\": \"area\", \"sizeref\": 1.15, \"symbol\": \"circle\"}, \"mode\": \"markers\", \"name\": \"sub_skill_name=Knowledge of use of scientific instruments, tools and procedures\", \"showlegend\": false, \"type\": \"scatter\", \"uid\": \"c7a65524-4311-46e7-a59a-8c9eab780d4e\", \"x\": [\"2018\", \"2007\", \"2008\", \"2009\", \"2014\", \"2016\"], \"xaxis\": \"x\", \"y\": [3.230000000000004, 12.07, 2.3599999999999994, -5.490000000000002, 11.64, 11.659999999999997], \"yaxis\": \"y4\"}, {\"hovertemplate\": \"<b>LOWESS trendline</b><br><br>class=6<br>skill_name=Conceptual Understanding and Comprehension<br>sub_skill_name=Knowledge of use of scientific instruments, tools and procedures<br>year=%{x}<br>subSkill_delta=%{y} <b>(trend)</b><extra></extra>\", \"legendgroup\": \"sub_skill_name=Knowledge of use of scientific instruments, tools and procedures\", \"marker\": {\"color\": \"#EF553B\", \"symbol\": \"circle\"}, \"mode\": \"lines\", \"name\": \"sub_skill_name=Knowledge of use of scientific instruments, tools and procedures\", \"showlegend\": false, \"type\": \"scatter\", \"uid\": \"4c88bd73-1a40-4ba6-bf71-2744fcb9ea4b\", \"x\": [2007.0, 2008.0, 2009.0, 2014.0, 2016.0, 2018.0], \"xaxis\": \"x\", \"y\": [11.818881110355672, 3.0326778303437614, -5.7326328907101995, 11.640000000000324, 7.435000000000002, 3.230000000000033], \"yaxis\": \"y4\"}, {\"hovertemplate\": \"class=6<br>skill_name=Knowledge of Basic Science Facts<br>sub_skill_name=Definition or description of scientific terms, organisms or materials<br>year=%{x}<br>subSkill_delta=%{y}<br>studentCount=%{marker.size}<extra></extra>\", \"legendgroup\": \"sub_skill_name=Definition or description of scientific terms, organisms or materials\", \"marker\": {\"color\": \"#00cc96\", \"size\": [111, 17, 73, 79, 82, 100], \"sizemode\": \"area\", \"sizeref\": 1.15, \"symbol\": \"circle\"}, \"mode\": \"markers\", \"name\": \"sub_skill_name=Definition or description of scientific terms, organisms or materials\", \"showlegend\": false, \"type\": \"scatter\", \"uid\": \"552aa54c-1b8a-4ab7-bc5e-32182002cbf5\", \"x\": [\"2018\", \"2007\", \"2008\", \"2009\", \"2014\", \"2016\"], \"xaxis\": \"x2\", \"y\": [5.219999999999999, 7.380000000000003, 7.619999999999997, 4.049999999999997, 10.869999999999997, 10.850000000000001], \"yaxis\": \"y4\"}, {\"hovertemplate\": \"<b>LOWESS trendline</b><br><br>class=6<br>skill_name=Knowledge of Basic Science Facts<br>sub_skill_name=Definition or description of scientific terms, organisms or materials<br>year=%{x}<br>subSkill_delta=%{y} <b>(trend)</b><extra></extra>\", \"legendgroup\": \"sub_skill_name=Definition or description of scientific terms, organisms or materials\", \"marker\": {\"color\": \"#00cc96\", \"symbol\": \"circle\"}, \"mode\": \"lines\", \"name\": \"sub_skill_name=Definition or description of scientific terms, organisms or materials\", \"showlegend\": false, \"type\": \"scatter\", \"uid\": \"0af3e28d-16b4-4b7d-bcfd-5432569c5f33\", \"x\": [2007.0, 2008.0, 2009.0, 2014.0, 2016.0, 2018.0], \"xaxis\": \"x2\", \"y\": [7.891877446908991, 6.239642521063926, 4.544860820344702, 11.110434126506119, 8.514932632412833, 5.65045346047806], \"yaxis\": \"y4\"}, {\"hovertemplate\": \"class=6<br>skill_name=Knowledge of Basic Science Facts<br>sub_skill_name=Recollection or recognition of science facts and concepts<br>year=%{x}<br>subSkill_delta=%{y}<br>studentCount=%{marker.size}<extra></extra>\", \"legendgroup\": \"sub_skill_name=Recollection or recognition of science facts and concepts\", \"marker\": {\"color\": \"#ab63fa\", \"size\": [111, 17, 73, 79, 82, 100], \"sizemode\": \"area\", \"sizeref\": 1.15, \"symbol\": \"circle\"}, \"mode\": \"markers\", \"name\": \"sub_skill_name=Recollection or recognition of science facts and concepts\", \"showlegend\": false, \"type\": \"scatter\", \"uid\": \"49cbeb53-e709-4214-8a0f-3c3bdd5e3822\", \"x\": [\"2018\", \"2007\", \"2008\", \"2009\", \"2014\", \"2016\"], \"xaxis\": \"x2\", \"y\": [2.960000000000001, 13.200000000000003, 10.420000000000002, 3.8599999999999994, -3.809999999999995, 3.039999999999999], \"yaxis\": \"y4\"}, {\"hovertemplate\": \"<b>LOWESS trendline</b><br><br>class=6<br>skill_name=Knowledge of Basic Science Facts<br>sub_skill_name=Recollection or recognition of science facts and concepts<br>year=%{x}<br>subSkill_delta=%{y} <b>(trend)</b><extra></extra>\", \"legendgroup\": \"sub_skill_name=Recollection or recognition of science facts and concepts\", \"marker\": {\"color\": \"#ab63fa\", \"symbol\": \"circle\"}, \"mode\": \"lines\", \"name\": \"sub_skill_name=Recollection or recognition of science facts and concepts\", \"showlegend\": false, \"type\": \"scatter\", \"uid\": \"2f22b972-61b9-40aa-a737-d75d9791f178\", \"x\": [2007.0, 2008.0, 2009.0, 2014.0, 2016.0, 2018.0], \"xaxis\": \"x2\", \"y\": [13.722238648147833, 9.065338154707494, 4.36470241987475, -3.650682958162097, -0.16832834201322178, 3.1959223690740353], \"yaxis\": \"y4\"}, {\"hovertemplate\": \"class=6<br>skill_name=Original Thinking<br>sub_skill_name=Integrating different concepts or information for decision making<br>year=%{x}<br>subSkill_delta=%{y}<br>studentCount=%{marker.size}<extra></extra>\", \"legendgroup\": \"sub_skill_name=Integrating different concepts or information for decision making\", \"marker\": {\"color\": \"#ff6692\", \"size\": [111, 17, 73, 79, 82, 100], \"sizemode\": \"area\", \"sizeref\": 1.15, \"symbol\": \"circle\"}, \"mode\": \"markers\", \"name\": \"sub_skill_name=Integrating different concepts or information for decision making\", \"showlegend\": false, \"type\": \"scatter\", \"uid\": \"1fb02304-12db-42cc-bd77-49cfb0c3c212\", \"x\": [\"2018\", \"2007\", \"2008\", \"2009\", \"2014\", \"2016\"], \"xaxis\": \"x3\", \"y\": [2.3100000000000023, 17.28, 8.809999999999995, -2.6599999999999966, 4.960000000000001, 3.020000000000003], \"yaxis\": \"y4\"}, {\"hovertemplate\": \"<b>LOWESS trendline</b><br><br>class=6<br>skill_name=Original Thinking<br>sub_skill_name=Integrating different concepts or information for decision making<br>year=%{x}<br>subSkill_delta=%{y} <b>(trend)</b><extra></extra>\", \"legendgroup\": \"sub_skill_name=Integrating different concepts or information for decision making\", \"marker\": {\"color\": \"#ff6692\", \"symbol\": \"circle\"}, \"mode\": \"lines\", \"name\": \"sub_skill_name=Integrating different concepts or information for decision making\", \"showlegend\": false, \"type\": \"scatter\", \"uid\": \"8750012f-83d3-400f-a281-c3993bb9386e\", \"x\": [2007.0, 2008.0, 2009.0, 2014.0, 2016.0, 2018.0], \"xaxis\": \"x3\", \"y\": [17.619858538120802, 7.658064587069836, -2.3307989535111053, 4.8774897109836415, 3.42845575136407, 2.12550098324359], \"yaxis\": \"y4\"}, {\"hovertemplate\": \"class=6<br>skill_name=Original Thinking<br>sub_skill_name=Hypothesis formulation; design of apparatus or experiment<br>year=%{x}<br>subSkill_delta=%{y}<br>studentCount=%{marker.size}<extra></extra>\", \"legendgroup\": \"sub_skill_name=Hypothesis formulation; design of apparatus or experiment\", \"marker\": {\"color\": \"#636efa\", \"size\": [111, 17, 73, 79, 82, 100], \"sizemode\": \"area\", \"sizeref\": 1.15, \"symbol\": \"circle\"}, \"mode\": \"markers\", \"name\": \"sub_skill_name=Hypothesis formulation; design of apparatus or experiment\", \"showlegend\": true, \"type\": \"scatter\", \"uid\": \"a07feded-0d54-49f6-b1ea-21734995efe4\", \"x\": [\"2018\", \"2007\", \"2008\", \"2009\", \"2014\", \"2016\"], \"xaxis\": \"x3\", \"y\": [6.880000000000003, 0.6799999999999997, 1.8799999999999955, 2.740000000000002, 7.240000000000002, 0.8100000000000023], \"yaxis\": \"y4\"}, {\"hovertemplate\": \"<b>LOWESS trendline</b><br><br>class=6<br>skill_name=Original Thinking<br>sub_skill_name=Hypothesis formulation; design of apparatus or experiment<br>year=%{x}<br>subSkill_delta=%{y} <b>(trend)</b><extra></extra>\", \"legendgroup\": \"sub_skill_name=Hypothesis formulation; design of apparatus or experiment\", \"marker\": {\"color\": \"#636efa\", \"symbol\": \"circle\"}, \"mode\": \"lines\", \"name\": \"sub_skill_name=Hypothesis formulation; design of apparatus or experiment\", \"showlegend\": false, \"type\": \"scatter\", \"uid\": \"71e29f99-f24c-4c6d-bdc5-6a8443b3f0a2\", \"x\": [2007.0, 2008.0, 2009.0, 2014.0, 2016.0, 2018.0], \"xaxis\": \"x3\", \"y\": [0.7244603740121927, 1.7555514697565486, 2.7829746071523993, 7.240000000000135, 7.060000000000002, 6.880000000000096], \"yaxis\": \"y4\"}, {\"hovertemplate\": \"class=6<br>skill_name=Reasoning and Analysis Skills<br>sub_skill_name=Extraction, translation and application of knowledge or information<br>year=%{x}<br>subSkill_delta=%{y}<br>studentCount=%{marker.size}<extra></extra>\", \"legendgroup\": \"sub_skill_name=Extraction, translation and application of knowledge or information\", \"marker\": {\"color\": \"#fecb52\", \"size\": [111, 17, 73, 79, 82, 100], \"sizemode\": \"area\", \"sizeref\": 1.15, \"symbol\": \"circle\"}, \"mode\": \"markers\", \"name\": \"sub_skill_name=Extraction, translation and application of knowledge or information\", \"showlegend\": false, \"type\": \"scatter\", \"uid\": \"01beec87-0c07-4de6-a91f-fb76c003eab7\", \"x\": [\"2018\", \"2007\", \"2008\", \"2009\", \"2014\", \"2016\"], \"xaxis\": \"x4\", \"y\": [3.789999999999999, 11.439999999999998, -3.700000000000003, 8.149999999999999, -2.6799999999999997, 4.670000000000002], \"yaxis\": \"y4\"}, {\"hovertemplate\": \"<b>LOWESS trendline</b><br><br>class=6<br>skill_name=Reasoning and Analysis Skills<br>sub_skill_name=Extraction, translation and application of knowledge or information<br>year=%{x}<br>subSkill_delta=%{y} <b>(trend)</b><extra></extra>\", \"legendgroup\": \"sub_skill_name=Extraction, translation and application of knowledge or information\", \"marker\": {\"color\": \"#fecb52\", \"symbol\": \"circle\"}, \"mode\": \"lines\", \"name\": \"sub_skill_name=Extraction, translation and application of knowledge or information\", \"showlegend\": false, \"type\": \"scatter\", \"uid\": \"582390f0-93d8-4999-8784-e5ba4729f4ff\", \"x\": [2007.0, 2008.0, 2009.0, 2014.0, 2016.0, 2018.0], \"xaxis\": \"x4\", \"y\": [9.376761246716597, 7.684174305801271, 6.1434304264763675, -2.1249630404455964, 1.9473682931054022, 5.032413752262824], \"yaxis\": \"y4\"}, {\"hovertemplate\": \"class=6<br>skill_name=Reasoning and Analysis Skills<br>sub_skill_name=Representing, relating or explaining scientific processes or observed phenomena<br>year=%{x}<br>subSkill_delta=%{y}<br>studentCount=%{marker.size}<extra></extra>\", \"legendgroup\": \"sub_skill_name=Representing, relating or explaining scientific processes or observed phenomena\", \"marker\": {\"color\": \"#ffa15a\", \"size\": [111, 17, 73, 79, 82, 100], \"sizemode\": \"area\", \"sizeref\": 1.15, \"symbol\": \"circle\"}, \"mode\": \"markers\", \"name\": \"sub_skill_name=Representing, relating or explaining scientific processes or observed phenomena\", \"showlegend\": false, \"type\": \"scatter\", \"uid\": \"bc546a94-40b7-4f8b-a1f2-08eb3ffb2bf3\", \"x\": [\"2018\", \"2007\", \"2008\", \"2009\", \"2014\", \"2016\"], \"xaxis\": \"x4\", \"y\": [4.940000000000001, 21.490000000000002, 14.660000000000004, 2.25, 2.8600000000000065, 0.7099999999999937], \"yaxis\": \"y4\"}, {\"hovertemplate\": \"<b>LOWESS trendline</b><br><br>class=6<br>skill_name=Reasoning and Analysis Skills<br>sub_skill_name=Representing, relating or explaining scientific processes or observed phenomena<br>year=%{x}<br>subSkill_delta=%{y} <b>(trend)</b><extra></extra>\", \"legendgroup\": \"sub_skill_name=Representing, relating or explaining scientific processes or observed phenomena\", \"marker\": {\"color\": \"#ffa15a\", \"symbol\": \"circle\"}, \"mode\": \"lines\", \"name\": \"sub_skill_name=Representing, relating or explaining scientific processes or observed phenomena\", \"showlegend\": false, \"type\": \"scatter\", \"uid\": \"2375eb89-baa1-4f09-9fda-a270125ef373\", \"x\": [2007.0, 2008.0, 2009.0, 2014.0, 2016.0, 2018.0], \"xaxis\": \"x4\", \"y\": [22.19046692873653, 12.587663392735314, 2.927658972951169, 2.523200955669535, 3.1654462532819023, 4.269649868715791], \"yaxis\": \"y4\"}, {\"hovertemplate\": \"class=6<br>skill_name=Reasoning and Analysis Skills<br>sub_skill_name=Analysis of information to identify trends or properties<br>year=%{x}<br>subSkill_delta=%{y}<br>studentCount=%{marker.size}<extra></extra>\", \"legendgroup\": \"sub_skill_name=Analysis of information to identify trends or properties\", \"marker\": {\"color\": \"#b6e880\", \"size\": [111, 17, 73, 79, 82, 100], \"sizemode\": \"area\", \"sizeref\": 1.15, \"symbol\": \"circle\"}, \"mode\": \"markers\", \"name\": \"sub_skill_name=Analysis of information to identify trends or properties\", \"showlegend\": false, \"type\": \"scatter\", \"uid\": \"e31cf847-13a4-43c4-83af-62528b356ed3\", \"x\": [\"2018\", \"2007\", \"2008\", \"2009\", \"2014\", \"2016\"], \"xaxis\": \"x4\", \"y\": [5.289999999999999, 12.649999999999999, 2.1000000000000014, -2.3099999999999987, 4.600000000000001, 1.7700000000000031], \"yaxis\": \"y4\"}, {\"hovertemplate\": \"<b>LOWESS trendline</b><br><br>class=6<br>skill_name=Reasoning and Analysis Skills<br>sub_skill_name=Analysis of information to identify trends or properties<br>year=%{x}<br>subSkill_delta=%{y} <b>(trend)</b><extra></extra>\", \"legendgroup\": \"sub_skill_name=Analysis of information to identify trends or properties\", \"marker\": {\"color\": \"#b6e880\", \"symbol\": \"circle\"}, \"mode\": \"lines\", \"name\": \"sub_skill_name=Analysis of information to identify trends or properties\", \"showlegend\": false, \"type\": \"scatter\", \"uid\": \"810ccc0f-7743-4228-bdf8-2a07a766e429\", \"x\": [2007.0, 2008.0, 2009.0, 2014.0, 2016.0, 2018.0], \"xaxis\": \"x4\", \"y\": [11.911454939699759, 4.413482329506287, -3.0248196193141403, 4.250437357269545, 4.16278658004042, 4.577112278484404], \"yaxis\": \"y4\"}, {\"hovertemplate\": \"class=6<br>skill_name=Reasoning and Analysis Skills<br>sub_skill_name=Advanced or complex data representation or interpretation<br>year=%{x}<br>subSkill_delta=%{y}<br>studentCount=%{marker.size}<extra></extra>\", \"legendgroup\": \"sub_skill_name=Advanced or complex data representation or interpretation\", \"marker\": {\"color\": \"#EF553B\", \"size\": [111, 17, 73, 79, 82, 100], \"sizemode\": \"area\", \"sizeref\": 1.15, \"symbol\": \"circle\"}, \"mode\": \"markers\", \"name\": \"sub_skill_name=Advanced or complex data representation or interpretation\", \"showlegend\": true, \"type\": \"scatter\", \"uid\": \"48f5dd21-7cb2-4418-9105-16f596d96c32\", \"x\": [\"2018\", \"2007\", \"2008\", \"2009\", \"2014\", \"2016\"], \"xaxis\": \"x4\", \"y\": [3.4299999999999997, 13.669999999999998, 9.660000000000004, 5.039999999999999, 4.93, 2.8700000000000045], \"yaxis\": \"y4\"}, {\"hovertemplate\": \"<b>LOWESS trendline</b><br><br>class=6<br>skill_name=Reasoning and Analysis Skills<br>sub_skill_name=Advanced or complex data representation or interpretation<br>year=%{x}<br>subSkill_delta=%{y} <b>(trend)</b><extra></extra>\", \"legendgroup\": \"sub_skill_name=Advanced or complex data representation or interpretation\", \"marker\": {\"color\": \"#EF553B\", \"symbol\": \"circle\"}, \"mode\": \"lines\", \"name\": \"sub_skill_name=Advanced or complex data representation or interpretation\", \"showlegend\": false, \"type\": \"scatter\", \"uid\": \"495ad035-0b03-4dff-9fc7-eaac78416747\", \"x\": [2007.0, 2008.0, 2009.0, 2014.0, 2016.0, 2018.0], \"xaxis\": \"x4\", \"y\": [13.752790968007732, 9.439838156817673, 5.119987629149694, 4.930000000000108, 4.18, 3.430000000000044], \"yaxis\": \"y4\"}, {\"hovertemplate\": \"class=7<br>skill_name=Conceptual Understanding and Comprehension<br>sub_skill_name=Classification/comparison of organisms/processes; giving examples<br>year=%{x}<br>subSkill_delta=%{y}<br>studentCount=%{marker.size}<extra></extra>\", \"legendgroup\": \"sub_skill_name=Classification/comparison of organisms/processes; giving examples\", \"marker\": {\"color\": \"#636efa\", \"size\": [115, 4, 46, 74, 78, 100], \"sizemode\": \"area\", \"sizeref\": 1.15, \"symbol\": \"circle\"}, \"mode\": \"markers\", \"name\": \"sub_skill_name=Classification/comparison of organisms/processes; giving examples\", \"showlegend\": false, \"type\": \"scatter\", \"uid\": \"7f4802fd-a723-4be4-887d-6a1bb98202dd\", \"x\": [\"2018\", \"2007\", \"2008\", \"2009\", \"2014\", \"2016\"], \"xaxis\": \"x\", \"y\": [9.64, 11.950000000000003, 8.139999999999993, 8.719999999999999, 3.5, 2.8900000000000006], \"yaxis\": \"y5\"}, {\"hovertemplate\": \"<b>LOWESS trendline</b><br><br>class=7<br>skill_name=Conceptual Understanding and Comprehension<br>sub_skill_name=Classification/comparison of organisms/processes; giving examples<br>year=%{x}<br>subSkill_delta=%{y} <b>(trend)</b><extra></extra>\", \"legendgroup\": \"sub_skill_name=Classification/comparison of organisms/processes; giving examples\", \"marker\": {\"color\": \"#636efa\", \"symbol\": \"circle\"}, \"mode\": \"lines\", \"name\": \"sub_skill_name=Classification/comparison of organisms/processes; giving examples\", \"showlegend\": false, \"type\": \"scatter\", \"uid\": \"7b4f5a93-6900-490c-ba7b-9a0500a6c320\", \"x\": [2007.0, 2008.0, 2009.0, 2014.0, 2016.0, 2018.0], \"xaxis\": \"x\", \"y\": [11.348623994769879, 9.718560585759331, 8.138744638518421, 3.2564368416279033, 6.138976967592872, 9.244375016067655], \"yaxis\": \"y5\"}, {\"hovertemplate\": \"class=7<br>skill_name=Conceptual Understanding and Comprehension<br>sub_skill_name=Knowledge of use of scientific instruments, tools and procedures<br>year=%{x}<br>subSkill_delta=%{y}<br>studentCount=%{marker.size}<extra></extra>\", \"legendgroup\": \"sub_skill_name=Knowledge of use of scientific instruments, tools and procedures\", \"marker\": {\"color\": \"#EF553B\", \"size\": [115, 4, 46, 74, 78, 100], \"sizemode\": \"area\", \"sizeref\": 1.15, \"symbol\": \"circle\"}, \"mode\": \"markers\", \"name\": \"sub_skill_name=Knowledge of use of scientific instruments, tools and procedures\", \"showlegend\": false, \"type\": \"scatter\", \"uid\": \"5590894b-4630-4320-8a5b-7bfdef9a20d8\", \"x\": [\"2018\", \"2007\", \"2008\", \"2009\", \"2014\", \"2016\"], \"xaxis\": \"x\", \"y\": [10.07, 10.36, 4.740000000000002, -0.07000000000000028, 4.289999999999999, 4.909999999999997], \"yaxis\": \"y5\"}, {\"hovertemplate\": \"<b>LOWESS trendline</b><br><br>class=7<br>skill_name=Conceptual Understanding and Comprehension<br>sub_skill_name=Knowledge of use of scientific instruments, tools and procedures<br>year=%{x}<br>subSkill_delta=%{y} <b>(trend)</b><extra></extra>\", \"legendgroup\": \"sub_skill_name=Knowledge of use of scientific instruments, tools and procedures\", \"marker\": {\"color\": \"#EF553B\", \"symbol\": \"circle\"}, \"mode\": \"lines\", \"name\": \"sub_skill_name=Knowledge of use of scientific instruments, tools and procedures\", \"showlegend\": false, \"type\": \"scatter\", \"uid\": \"7cffa98d-ed20-4fa8-a03c-1f55af0025d1\", \"x\": [2007.0, 2008.0, 2009.0, 2014.0, 2016.0, 2018.0], \"xaxis\": \"x\", \"y\": [10.255337352349104, 5.037772307995561, -0.17118456145971442, 4.289999999999994, 7.18, 10.07000000000015], \"yaxis\": \"y5\"}, {\"hovertemplate\": \"class=7<br>skill_name=Knowledge of Basic Science Facts<br>sub_skill_name=Definition or description of scientific terms, organisms or materials<br>year=%{x}<br>subSkill_delta=%{y}<br>studentCount=%{marker.size}<extra></extra>\", \"legendgroup\": \"sub_skill_name=Definition or description of scientific terms, organisms or materials\", \"marker\": {\"color\": \"#00cc96\", \"size\": [115, 4, 46, 74, 78, 100], \"sizemode\": \"area\", \"sizeref\": 1.15, \"symbol\": \"circle\"}, \"mode\": \"markers\", \"name\": \"sub_skill_name=Definition or description of scientific terms, organisms or materials\", \"showlegend\": false, \"type\": \"scatter\", \"uid\": \"c49a2fd7-9b3a-422e-a075-11f4a2878856\", \"x\": [\"2018\", \"2007\", \"2008\", \"2009\", \"2014\", \"2016\"], \"xaxis\": \"x2\", \"y\": [10.060000000000002, -2.8200000000000003, 6.82, 6.270000000000003, -4.479999999999997, -0.6700000000000017], \"yaxis\": \"y5\"}, {\"hovertemplate\": \"<b>LOWESS trendline</b><br><br>class=7<br>skill_name=Knowledge of Basic Science Facts<br>sub_skill_name=Definition or description of scientific terms, organisms or materials<br>year=%{x}<br>subSkill_delta=%{y} <b>(trend)</b><extra></extra>\", \"legendgroup\": \"sub_skill_name=Definition or description of scientific terms, organisms or materials\", \"marker\": {\"color\": \"#00cc96\", \"symbol\": \"circle\"}, \"mode\": \"lines\", \"name\": \"sub_skill_name=Definition or description of scientific terms, organisms or materials\", \"showlegend\": false, \"type\": \"scatter\", \"uid\": \"ec54f51e-4f44-451c-9076-0174902786b6\", \"x\": [2007.0, 2008.0, 2009.0, 2014.0, 2016.0, 2018.0], \"xaxis\": \"x2\", \"y\": [-1.607084406409576, 2.9673693226789712, 7.444076910638309, -4.921455358598493, 1.710333327696433, 9.087288956069395], \"yaxis\": \"y5\"}, {\"hovertemplate\": \"class=7<br>skill_name=Knowledge of Basic Science Facts<br>sub_skill_name=Recollection or recognition of science facts and concepts<br>year=%{x}<br>subSkill_delta=%{y}<br>studentCount=%{marker.size}<extra></extra>\", \"legendgroup\": \"sub_skill_name=Recollection or recognition of science facts and concepts\", \"marker\": {\"color\": \"#ab63fa\", \"size\": [115, 4, 46, 74, 78, 100], \"sizemode\": \"area\", \"sizeref\": 1.15, \"symbol\": \"circle\"}, \"mode\": \"markers\", \"name\": \"sub_skill_name=Recollection or recognition of science facts and concepts\", \"showlegend\": false, \"type\": \"scatter\", \"uid\": \"6d8a68a9-2bb0-424e-a90b-5510d3697906\", \"x\": [\"2018\", \"2007\", \"2008\", \"2009\", \"2014\", \"2016\"], \"xaxis\": \"x2\", \"y\": [4.469999999999999, 0.36999999999999744, 16.86, -4.1299999999999955, 16.810000000000002, 4.75], \"yaxis\": \"y5\"}, {\"hovertemplate\": \"<b>LOWESS trendline</b><br><br>class=7<br>skill_name=Knowledge of Basic Science Facts<br>sub_skill_name=Recollection or recognition of science facts and concepts<br>year=%{x}<br>subSkill_delta=%{y} <b>(trend)</b><extra></extra>\", \"legendgroup\": \"sub_skill_name=Recollection or recognition of science facts and concepts\", \"marker\": {\"color\": \"#ab63fa\", \"symbol\": \"circle\"}, \"mode\": \"lines\", \"name\": \"sub_skill_name=Recollection or recognition of science facts and concepts\", \"showlegend\": false, \"type\": \"scatter\", \"uid\": \"01ddcf09-9bdb-46fd-ba11-6990a2665c24\", \"x\": [2007.0, 2008.0, 2009.0, 2014.0, 2016.0, 2018.0], \"xaxis\": \"x2\", \"y\": [3.4499054208375517, 1.2714625909300181, -1.1365509044353557, 16.015706152875595, 8.647610912748444, 2.692121367621459], \"yaxis\": \"y5\"}, {\"hovertemplate\": \"class=7<br>skill_name=Original Thinking<br>sub_skill_name=Integrating different concepts or information for decision making<br>year=%{x}<br>subSkill_delta=%{y}<br>studentCount=%{marker.size}<extra></extra>\", \"legendgroup\": \"sub_skill_name=Integrating different concepts or information for decision making\", \"marker\": {\"color\": \"#ff6692\", \"size\": [115, 4, 46, 74, 78, 100], \"sizemode\": \"area\", \"sizeref\": 1.15, \"symbol\": \"circle\"}, \"mode\": \"markers\", \"name\": \"sub_skill_name=Integrating different concepts or information for decision making\", \"showlegend\": false, \"type\": \"scatter\", \"uid\": \"55c48349-1fd5-40c5-8811-16a8aad70e8e\", \"x\": [\"2018\", \"2007\", \"2008\", \"2009\", \"2014\", \"2016\"], \"xaxis\": \"x3\", \"y\": [6.930000000000003, 10.899999999999999, -0.9299999999999997, 3.229999999999997, 8.450000000000003, -3.870000000000001], \"yaxis\": \"y5\"}, {\"hovertemplate\": \"<b>LOWESS trendline</b><br><br>class=7<br>skill_name=Original Thinking<br>sub_skill_name=Integrating different concepts or information for decision making<br>year=%{x}<br>subSkill_delta=%{y} <b>(trend)</b><extra></extra>\", \"legendgroup\": \"sub_skill_name=Integrating different concepts or information for decision making\", \"marker\": {\"color\": \"#ff6692\", \"symbol\": \"circle\"}, \"mode\": \"lines\", \"name\": \"sub_skill_name=Integrating different concepts or information for decision making\", \"showlegend\": false, \"type\": \"scatter\", \"uid\": \"0d6e4c23-a6e3-413a-8204-1c5a30300c98\", \"x\": [2007.0, 2008.0, 2009.0, 2014.0, 2016.0, 2018.0], \"xaxis\": \"x3\", \"y\": [8.759112409575616, 4.870767435048014, 1.1602075580305147, 7.435346049522913, 5.684946863548407, 5.093908208640507], \"yaxis\": \"y5\"}, {\"hovertemplate\": \"class=7<br>skill_name=Original Thinking<br>sub_skill_name=Hypothesis formulation; design of apparatus or experiment<br>year=%{x}<br>subSkill_delta=%{y}<br>studentCount=%{marker.size}<extra></extra>\", \"legendgroup\": \"sub_skill_name=Hypothesis formulation; design of apparatus or experiment\", \"marker\": {\"color\": \"#636efa\", \"size\": [115, 4, 46, 74, 78, 100], \"sizemode\": \"area\", \"sizeref\": 1.15, \"symbol\": \"circle\"}, \"mode\": \"markers\", \"name\": \"sub_skill_name=Hypothesis formulation; design of apparatus or experiment\", \"showlegend\": false, \"type\": \"scatter\", \"uid\": \"ee4b2d2f-5c3c-4f09-911f-d238ee4dd352\", \"x\": [\"2018\", \"2007\", \"2008\", \"2009\", \"2014\", \"2016\"], \"xaxis\": \"x3\", \"y\": [5.670000000000002, -1.3299999999999983, 5.310000000000002, 3.1799999999999997, 7.100000000000001, 6.729999999999997], \"yaxis\": \"y5\"}, {\"hovertemplate\": \"<b>LOWESS trendline</b><br><br>class=7<br>skill_name=Original Thinking<br>sub_skill_name=Hypothesis formulation; design of apparatus or experiment<br>year=%{x}<br>subSkill_delta=%{y} <b>(trend)</b><extra></extra>\", \"legendgroup\": \"sub_skill_name=Hypothesis formulation; design of apparatus or experiment\", \"marker\": {\"color\": \"#636efa\", \"symbol\": \"circle\"}, \"mode\": \"lines\", \"name\": \"sub_skill_name=Hypothesis formulation; design of apparatus or experiment\", \"showlegend\": false, \"type\": \"scatter\", \"uid\": \"9f536277-a50a-46d5-892a-4770426a9635\", \"x\": [2007.0, 2008.0, 2009.0, 2014.0, 2016.0, 2018.0], \"xaxis\": \"x3\", \"y\": [-1.330000000000356, 0.9250000000000007, 3.1800000000000384, 7.137053537194342, 6.471171058028009, 5.7503199706868084], \"yaxis\": \"y5\"}, {\"hovertemplate\": \"class=7<br>skill_name=Reasoning and Analysis Skills<br>sub_skill_name=Extraction, translation and application of knowledge or information<br>year=%{x}<br>subSkill_delta=%{y}<br>studentCount=%{marker.size}<extra></extra>\", \"legendgroup\": \"sub_skill_name=Extraction, translation and application of knowledge or information\", \"marker\": {\"color\": \"#fecb52\", \"size\": [115, 4, 46, 74, 78, 100], \"sizemode\": \"area\", \"sizeref\": 1.15, \"symbol\": \"circle\"}, \"mode\": \"markers\", \"name\": \"sub_skill_name=Extraction, translation and application of knowledge or information\", \"showlegend\": false, \"type\": \"scatter\", \"uid\": \"9530ec10-6836-4f26-bbc5-17ef31c13754\", \"x\": [\"2018\", \"2007\", \"2008\", \"2009\", \"2014\", \"2016\"], \"xaxis\": \"x4\", \"y\": [0.05000000000000071, 8.899999999999999, 16.54, 7.950000000000003, 0.6899999999999977, 11.079999999999998], \"yaxis\": \"y5\"}, {\"hovertemplate\": \"<b>LOWESS trendline</b><br><br>class=7<br>skill_name=Reasoning and Analysis Skills<br>sub_skill_name=Extraction, translation and application of knowledge or information<br>year=%{x}<br>subSkill_delta=%{y} <b>(trend)</b><extra></extra>\", \"legendgroup\": \"sub_skill_name=Extraction, translation and application of knowledge or information\", \"marker\": {\"color\": \"#fecb52\", \"symbol\": \"circle\"}, \"mode\": \"lines\", \"name\": \"sub_skill_name=Extraction, translation and application of knowledge or information\", \"showlegend\": false, \"type\": \"scatter\", \"uid\": \"b0eca98d-8b3f-40ce-a26e-98c29533231d\", \"x\": [2007.0, 2008.0, 2009.0, 2014.0, 2016.0, 2018.0], \"xaxis\": \"x4\", \"y\": [11.029341535256211, 10.607142199937309, 10.009064309687526, 1.7216901425563245, 2.506156062666317, 2.0034516418627892], \"yaxis\": \"y5\"}, {\"hovertemplate\": \"class=7<br>skill_name=Reasoning and Analysis Skills<br>sub_skill_name=Representing, relating or explaining scientific processes or observed phenomena<br>year=%{x}<br>subSkill_delta=%{y}<br>studentCount=%{marker.size}<extra></extra>\", \"legendgroup\": \"sub_skill_name=Representing, relating or explaining scientific processes or observed phenomena\", \"marker\": {\"color\": \"#ffa15a\", \"size\": [115, 4, 46, 74, 78, 100], \"sizemode\": \"area\", \"sizeref\": 1.15, \"symbol\": \"circle\"}, \"mode\": \"markers\", \"name\": \"sub_skill_name=Representing, relating or explaining scientific processes or observed phenomena\", \"showlegend\": false, \"type\": \"scatter\", \"uid\": \"0bc34db4-2951-4825-877a-775054279117\", \"x\": [\"2018\", \"2007\", \"2008\", \"2009\", \"2014\", \"2016\"], \"xaxis\": \"x4\", \"y\": [8.440000000000001, 5.699999999999996, 6.539999999999999, 7.3700000000000045, 4.899999999999999, 1.3100000000000023], \"yaxis\": \"y5\"}, {\"hovertemplate\": \"<b>LOWESS trendline</b><br><br>class=7<br>skill_name=Reasoning and Analysis Skills<br>sub_skill_name=Representing, relating or explaining scientific processes or observed phenomena<br>year=%{x}<br>subSkill_delta=%{y} <b>(trend)</b><extra></extra>\", \"legendgroup\": \"sub_skill_name=Representing, relating or explaining scientific processes or observed phenomena\", \"marker\": {\"color\": \"#ffa15a\", \"symbol\": \"circle\"}, \"mode\": \"lines\", \"name\": \"sub_skill_name=Representing, relating or explaining scientific processes or observed phenomena\", \"showlegend\": false, \"type\": \"scatter\", \"uid\": \"b960823f-9d7a-4251-95a1-f3803573acab\", \"x\": [2007.0, 2008.0, 2009.0, 2014.0, 2016.0, 2018.0], \"xaxis\": \"x4\", \"y\": [5.701308618462198, 6.536340735752422, 7.371264872235546, 4.900000000000035, 6.67, 8.440000000000124], \"yaxis\": \"y5\"}, {\"hovertemplate\": \"class=7<br>skill_name=Reasoning and Analysis Skills<br>sub_skill_name=Analysis of information to identify trends or properties<br>year=%{x}<br>subSkill_delta=%{y}<br>studentCount=%{marker.size}<extra></extra>\", \"legendgroup\": \"sub_skill_name=Analysis of information to identify trends or properties\", \"marker\": {\"color\": \"#b6e880\", \"size\": [115, 4, 46, 74, 78, 100], \"sizemode\": \"area\", \"sizeref\": 1.15, \"symbol\": \"circle\"}, \"mode\": \"markers\", \"name\": \"sub_skill_name=Analysis of information to identify trends or properties\", \"showlegend\": false, \"type\": \"scatter\", \"uid\": \"6523e92a-4cc8-422c-96b7-3c5cf4953247\", \"x\": [\"2018\", \"2007\", \"2008\", \"2009\", \"2014\", \"2016\"], \"xaxis\": \"x4\", \"y\": [8.369999999999997, 22.549999999999997, 9.200000000000003, 6.399999999999999, 6.460000000000001, 7.420000000000002], \"yaxis\": \"y5\"}, {\"hovertemplate\": \"<b>LOWESS trendline</b><br><br>class=7<br>skill_name=Reasoning and Analysis Skills<br>sub_skill_name=Analysis of information to identify trends or properties<br>year=%{x}<br>subSkill_delta=%{y} <b>(trend)</b><extra></extra>\", \"legendgroup\": \"sub_skill_name=Analysis of information to identify trends or properties\", \"marker\": {\"color\": \"#b6e880\", \"symbol\": \"circle\"}, \"mode\": \"lines\", \"name\": \"sub_skill_name=Analysis of information to identify trends or properties\", \"showlegend\": false, \"type\": \"scatter\", \"uid\": \"ce1f3766-7f7d-4022-a546-d927e399d2b8\", \"x\": [2007.0, 2008.0, 2009.0, 2014.0, 2016.0, 2018.0], \"xaxis\": \"x4\", \"y\": [22.55000000000555, 14.474999999999998, 6.400000000000052, 6.460539274207109, 7.416257884977478, 8.371172412152356], \"yaxis\": \"y5\"}, {\"hovertemplate\": \"class=7<br>skill_name=Reasoning and Analysis Skills<br>sub_skill_name=Advanced or complex data representation or interpretation<br>year=%{x}<br>subSkill_delta=%{y}<br>studentCount=%{marker.size}<extra></extra>\", \"legendgroup\": \"sub_skill_name=Advanced or complex data representation or interpretation\", \"marker\": {\"color\": \"#EF553B\", \"size\": [115, 4, 46, 74, 78, 100], \"sizemode\": \"area\", \"sizeref\": 1.15, \"symbol\": \"circle\"}, \"mode\": \"markers\", \"name\": \"sub_skill_name=Advanced or complex data representation or interpretation\", \"showlegend\": false, \"type\": \"scatter\", \"uid\": \"8c099897-f3da-4d79-ac27-c4e811f054ee\", \"x\": [\"2018\", \"2007\", \"2008\", \"2009\", \"2014\", \"2016\"], \"xaxis\": \"x4\", \"y\": [14.700000000000003, 1.620000000000001, 7.079999999999998, 1.4000000000000057, 5.149999999999999, 13.149999999999999], \"yaxis\": \"y5\"}, {\"hovertemplate\": \"<b>LOWESS trendline</b><br><br>class=7<br>skill_name=Reasoning and Analysis Skills<br>sub_skill_name=Advanced or complex data representation or interpretation<br>year=%{x}<br>subSkill_delta=%{y} <b>(trend)</b><extra></extra>\", \"legendgroup\": \"sub_skill_name=Advanced or complex data representation or interpretation\", \"marker\": {\"color\": \"#EF553B\", \"symbol\": \"circle\"}, \"mode\": \"lines\", \"name\": \"sub_skill_name=Advanced or complex data representation or interpretation\", \"showlegend\": false, \"type\": \"scatter\", \"uid\": \"29cf3cdc-3540-4d53-8f1b-a5f01d83ed2e\", \"x\": [2007.0, 2008.0, 2009.0, 2014.0, 2016.0, 2018.0], \"xaxis\": \"x4\", \"y\": [2.9459940836697753, 2.868193744319527, 2.683534522523691, 5.571322440542181, 10.967600844290345, 15.635913157044921], \"yaxis\": \"y5\"}, {\"hovertemplate\": \"class=8<br>skill_name=Conceptual Understanding and Comprehension<br>sub_skill_name=Classification/comparison of organisms/processes; giving examples<br>year=%{x}<br>subSkill_delta=%{y}<br>studentCount=%{marker.size}<extra></extra>\", \"legendgroup\": \"sub_skill_name=Classification/comparison of organisms/processes; giving examples\", \"marker\": {\"color\": \"#636efa\", \"size\": [104, 14, 54, 48, 77, 78], \"sizemode\": \"area\", \"sizeref\": 1.15, \"symbol\": \"circle\"}, \"mode\": \"markers\", \"name\": \"sub_skill_name=Classification/comparison of organisms/processes; giving examples\", \"showlegend\": false, \"type\": \"scatter\", \"uid\": \"ee492d8b-a0f7-4b94-bcb5-6ad016a378d4\", \"x\": [\"2018\", \"2007\", \"2008\", \"2009\", \"2014\", \"2016\"], \"xaxis\": \"x\", \"y\": [5.949999999999999, 9.04, 6.850000000000001, 11.469999999999999, 8.639999999999993, -0.5499999999999972], \"yaxis\": \"y6\"}, {\"hovertemplate\": \"<b>LOWESS trendline</b><br><br>class=8<br>skill_name=Conceptual Understanding and Comprehension<br>sub_skill_name=Classification/comparison of organisms/processes; giving examples<br>year=%{x}<br>subSkill_delta=%{y} <b>(trend)</b><extra></extra>\", \"legendgroup\": \"sub_skill_name=Classification/comparison of organisms/processes; giving examples\", \"marker\": {\"color\": \"#636efa\", \"symbol\": \"circle\"}, \"mode\": \"lines\", \"name\": \"sub_skill_name=Classification/comparison of organisms/processes; giving examples\", \"showlegend\": false, \"type\": \"scatter\", \"uid\": \"53276f1c-2804-482f-a3c0-0c1d1a1840ce\", \"x\": [2007.0, 2008.0, 2009.0, 2014.0, 2016.0, 2018.0], \"xaxis\": \"x\", \"y\": [8.113073868486545, 9.305133305220632, 10.574479597523732, 8.640000000000025, 7.295000000000108, 5.949999999999501], \"yaxis\": \"y6\"}, {\"hovertemplate\": \"class=8<br>skill_name=Conceptual Understanding and Comprehension<br>sub_skill_name=Knowledge of use of scientific instruments, tools and procedures<br>year=%{x}<br>subSkill_delta=%{y}<br>studentCount=%{marker.size}<extra></extra>\", \"legendgroup\": \"sub_skill_name=Knowledge of use of scientific instruments, tools and procedures\", \"marker\": {\"color\": \"#EF553B\", \"size\": [104, 14, 54, 48, 77, 78], \"sizemode\": \"area\", \"sizeref\": 1.15, \"symbol\": \"circle\"}, \"mode\": \"markers\", \"name\": \"sub_skill_name=Knowledge of use of scientific instruments, tools and procedures\", \"showlegend\": false, \"type\": \"scatter\", \"uid\": \"a7f1c018-17a0-4cd9-8a91-ca67efa71d59\", \"x\": [\"2018\", \"2007\", \"2008\", \"2009\", \"2014\", \"2016\"], \"xaxis\": \"x\", \"y\": [5.41, 24.869999999999997, 2.5700000000000003, 21.03, -0.6499999999999986, -2.990000000000002], \"yaxis\": \"y6\"}, {\"hovertemplate\": \"<b>LOWESS trendline</b><br><br>class=8<br>skill_name=Conceptual Understanding and Comprehension<br>sub_skill_name=Knowledge of use of scientific instruments, tools and procedures<br>year=%{x}<br>subSkill_delta=%{y} <b>(trend)</b><extra></extra>\", \"legendgroup\": \"sub_skill_name=Knowledge of use of scientific instruments, tools and procedures\", \"marker\": {\"color\": \"#EF553B\", \"symbol\": \"circle\"}, \"mode\": \"lines\", \"name\": \"sub_skill_name=Knowledge of use of scientific instruments, tools and procedures\", \"showlegend\": false, \"type\": \"scatter\", \"uid\": \"ae8c2aa9-a88c-4c50-a0ec-6bb7ee297daa\", \"x\": [2007.0, 2008.0, 2009.0, 2014.0, 2016.0, 2018.0], \"xaxis\": \"x\", \"y\": [23.14168205265613, 21.18345154640273, 19.342711278665657, -1.3746451952105363, 0.5616895887670321, 3.7876283969664524], \"yaxis\": \"y6\"}, {\"hovertemplate\": \"class=8<br>skill_name=Knowledge of Basic Science Facts<br>sub_skill_name=Definition or description of scientific terms, organisms or materials<br>year=%{x}<br>subSkill_delta=%{y}<br>studentCount=%{marker.size}<extra></extra>\", \"legendgroup\": \"sub_skill_name=Definition or description of scientific terms, organisms or materials\", \"marker\": {\"color\": \"#00cc96\", \"size\": [104, 14, 54, 48, 77, 78], \"sizemode\": \"area\", \"sizeref\": 1.15, \"symbol\": \"circle\"}, \"mode\": \"markers\", \"name\": \"sub_skill_name=Definition or description of scientific terms, organisms or materials\", \"showlegend\": false, \"type\": \"scatter\", \"uid\": \"b2650188-c56e-4954-a411-3656028f8748\", \"x\": [\"2018\", \"2007\", \"2008\", \"2009\", \"2014\", \"2016\"], \"xaxis\": \"x2\", \"y\": [-1.2100000000000009, 26.16, 22.709999999999994, 17.72, 7.039999999999999, 15.36], \"yaxis\": \"y6\"}, {\"hovertemplate\": \"<b>LOWESS trendline</b><br><br>class=8<br>skill_name=Knowledge of Basic Science Facts<br>sub_skill_name=Definition or description of scientific terms, organisms or materials<br>year=%{x}<br>subSkill_delta=%{y} <b>(trend)</b><extra></extra>\", \"legendgroup\": \"sub_skill_name=Definition or description of scientific terms, organisms or materials\", \"marker\": {\"color\": \"#00cc96\", \"symbol\": \"circle\"}, \"mode\": \"lines\", \"name\": \"sub_skill_name=Definition or description of scientific terms, organisms or materials\", \"showlegend\": false, \"type\": \"scatter\", \"uid\": \"fb937b7b-024e-4ff2-8109-ae16041d84e0\", \"x\": [2007.0, 2008.0, 2009.0, 2014.0, 2016.0, 2018.0], \"xaxis\": \"x2\", \"y\": [26.360937120557534, 22.145867063032085, 17.91422918159536, 7.04000000000024, 2.914999999999999, -1.2100000000000326], \"yaxis\": \"y6\"}, {\"hovertemplate\": \"class=8<br>skill_name=Knowledge of Basic Science Facts<br>sub_skill_name=Recollection or recognition of science facts and concepts<br>year=%{x}<br>subSkill_delta=%{y}<br>studentCount=%{marker.size}<extra></extra>\", \"legendgroup\": \"sub_skill_name=Recollection or recognition of science facts and concepts\", \"marker\": {\"color\": \"#ab63fa\", \"size\": [104, 14, 54, 48, 77, 78], \"sizemode\": \"area\", \"sizeref\": 1.15, \"symbol\": \"circle\"}, \"mode\": \"markers\", \"name\": \"sub_skill_name=Recollection or recognition of science facts and concepts\", \"showlegend\": false, \"type\": \"scatter\", \"uid\": \"080e3a8b-7fb4-43ef-9268-0ccf9edfc9e8\", \"x\": [\"2018\", \"2007\", \"2008\", \"2009\", \"2014\", \"2016\"], \"xaxis\": \"x2\", \"y\": [-0.21000000000000085, 27.89, 20.68, 7.530000000000001, 6.039999999999999, 4.16], \"yaxis\": \"y6\"}, {\"hovertemplate\": \"<b>LOWESS trendline</b><br><br>class=8<br>skill_name=Knowledge of Basic Science Facts<br>sub_skill_name=Recollection or recognition of science facts and concepts<br>year=%{x}<br>subSkill_delta=%{y} <b>(trend)</b><extra></extra>\", \"legendgroup\": \"sub_skill_name=Recollection or recognition of science facts and concepts\", \"marker\": {\"color\": \"#ab63fa\", \"symbol\": \"circle\"}, \"mode\": \"lines\", \"name\": \"sub_skill_name=Recollection or recognition of science facts and concepts\", \"showlegend\": false, \"type\": \"scatter\", \"uid\": \"25d9d76f-1855-4342-9cc2-4afbe8d3ba30\", \"x\": [2007.0, 2008.0, 2009.0, 2014.0, 2016.0, 2018.0], \"xaxis\": \"x2\", \"y\": [28.571654935729395, 18.408139997179468, 8.190167523602337, 6.206904601683792, 3.3326799156493436, 0.16315825426256436], \"yaxis\": \"y6\"}, {\"hovertemplate\": \"class=8<br>skill_name=Original Thinking<br>sub_skill_name=Integrating different concepts or information for decision making<br>year=%{x}<br>subSkill_delta=%{y}<br>studentCount=%{marker.size}<extra></extra>\", \"legendgroup\": \"sub_skill_name=Integrating different concepts or information for decision making\", \"marker\": {\"color\": \"#ff6692\", \"size\": [104, 14, 54, 48, 77, 78], \"sizemode\": \"area\", \"sizeref\": 1.15, \"symbol\": \"circle\"}, \"mode\": \"markers\", \"name\": \"sub_skill_name=Integrating different concepts or information for decision making\", \"showlegend\": false, \"type\": \"scatter\", \"uid\": \"71f202d9-7b97-4251-b528-9216ff4604d8\", \"x\": [\"2018\", \"2007\", \"2008\", \"2009\", \"2014\", \"2016\"], \"xaxis\": \"x3\", \"y\": [-0.25, 10.600000000000001, 4.18, 6.710000000000001, 9.800000000000004, 3.219999999999999], \"yaxis\": \"y6\"}, {\"hovertemplate\": \"<b>LOWESS trendline</b><br><br>class=8<br>skill_name=Original Thinking<br>sub_skill_name=Integrating different concepts or information for decision making<br>year=%{x}<br>subSkill_delta=%{y} <b>(trend)</b><extra></extra>\", \"legendgroup\": \"sub_skill_name=Integrating different concepts or information for decision making\", \"marker\": {\"color\": \"#ff6692\", \"symbol\": \"circle\"}, \"mode\": \"lines\", \"name\": \"sub_skill_name=Integrating different concepts or information for decision making\", \"showlegend\": false, \"type\": \"scatter\", \"uid\": \"2b7c3580-07f0-47ce-888e-8cc87731a566\", \"x\": [2007.0, 2008.0, 2009.0, 2014.0, 2016.0, 2018.0], \"xaxis\": \"x3\", \"y\": [9.720531586596794, 7.754657004930431, 5.856666183993644, 9.590483705172927, 4.249654034386192, -0.7188622741609578], \"yaxis\": \"y6\"}, {\"hovertemplate\": \"class=8<br>skill_name=Original Thinking<br>sub_skill_name=Hypothesis formulation; design of apparatus or experiment<br>year=%{x}<br>subSkill_delta=%{y}<br>studentCount=%{marker.size}<extra></extra>\", \"legendgroup\": \"sub_skill_name=Hypothesis formulation; design of apparatus or experiment\", \"marker\": {\"color\": \"#636efa\", \"size\": [104, 14, 54, 48, 77, 78], \"sizemode\": \"area\", \"sizeref\": 1.15, \"symbol\": \"circle\"}, \"mode\": \"markers\", \"name\": \"sub_skill_name=Hypothesis formulation; design of apparatus or experiment\", \"showlegend\": false, \"type\": \"scatter\", \"uid\": \"9d18a20e-19ac-4105-975c-4d83ee8fc1a9\", \"x\": [\"2018\", \"2007\", \"2008\", \"2009\", \"2014\", \"2016\"], \"xaxis\": \"x3\", \"y\": [5.530000000000001, 1.9100000000000037, 7.82, 16.39, 4.640000000000001, -2.5700000000000003], \"yaxis\": \"y6\"}, {\"hovertemplate\": \"<b>LOWESS trendline</b><br><br>class=8<br>skill_name=Original Thinking<br>sub_skill_name=Hypothesis formulation; design of apparatus or experiment<br>year=%{x}<br>subSkill_delta=%{y} <b>(trend)</b><extra></extra>\", \"legendgroup\": \"sub_skill_name=Hypothesis formulation; design of apparatus or experiment\", \"marker\": {\"color\": \"#636efa\", \"symbol\": \"circle\"}, \"mode\": \"lines\", \"name\": \"sub_skill_name=Hypothesis formulation; design of apparatus or experiment\", \"showlegend\": false, \"type\": \"scatter\", \"uid\": \"de9f4299-e455-4fb2-a591-5246ee787d94\", \"x\": [2007.0, 2008.0, 2009.0, 2014.0, 2016.0, 2018.0], \"xaxis\": \"x3\", \"y\": [1.566159171284995, 8.79773204101328, 16.05758755763944, 4.64000000000007, 5.085000000000001, 5.530000000000078], \"yaxis\": \"y6\"}, {\"hovertemplate\": \"class=8<br>skill_name=Reasoning and Analysis Skills<br>sub_skill_name=Extraction, translation and application of knowledge or information<br>year=%{x}<br>subSkill_delta=%{y}<br>studentCount=%{marker.size}<extra></extra>\", \"legendgroup\": \"sub_skill_name=Extraction, translation and application of knowledge or information\", \"marker\": {\"color\": \"#fecb52\", \"size\": [104, 14, 54, 48, 77, 78], \"sizemode\": \"area\", \"sizeref\": 1.15, \"symbol\": \"circle\"}, \"mode\": \"markers\", \"name\": \"sub_skill_name=Extraction, translation and application of knowledge or information\", \"showlegend\": false, \"type\": \"scatter\", \"uid\": \"9b916bc9-8463-408d-a9c5-93bf2a2dc7e3\", \"x\": [\"2018\", \"2007\", \"2008\", \"2009\", \"2014\", \"2016\"], \"xaxis\": \"x4\", \"y\": [2.5599999999999987, 29.50999999999999, 14.64, 7.730000000000004, 3.309999999999995, 5.910000000000004], \"yaxis\": \"y6\"}, {\"hovertemplate\": \"<b>LOWESS trendline</b><br><br>class=8<br>skill_name=Reasoning and Analysis Skills<br>sub_skill_name=Extraction, translation and application of knowledge or information<br>year=%{x}<br>subSkill_delta=%{y} <b>(trend)</b><extra></extra>\", \"legendgroup\": \"sub_skill_name=Extraction, translation and application of knowledge or information\", \"marker\": {\"color\": \"#fecb52\", \"symbol\": \"circle\"}, \"mode\": \"lines\", \"name\": \"sub_skill_name=Extraction, translation and application of knowledge or information\", \"showlegend\": false, \"type\": \"scatter\", \"uid\": \"99ba7bf0-c477-46f3-b40d-afdf223c1b52\", \"x\": [2007.0, 2008.0, 2009.0, 2014.0, 2016.0, 2018.0], \"xaxis\": \"x4\", \"y\": [28.56252128312455, 17.649513267078067, 6.812860430943797, 3.6821565106482397, 3.8355225826806634, 3.3733837844295484], \"yaxis\": \"y6\"}, {\"hovertemplate\": \"class=8<br>skill_name=Reasoning and Analysis Skills<br>sub_skill_name=Representing, relating or explaining scientific processes or observed phenomena<br>year=%{x}<br>subSkill_delta=%{y}<br>studentCount=%{marker.size}<extra></extra>\", \"legendgroup\": \"sub_skill_name=Representing, relating or explaining scientific processes or observed phenomena\", \"marker\": {\"color\": \"#ffa15a\", \"size\": [104, 14, 54, 48, 77, 78], \"sizemode\": \"area\", \"sizeref\": 1.15, \"symbol\": \"circle\"}, \"mode\": \"markers\", \"name\": \"sub_skill_name=Representing, relating or explaining scientific processes or observed phenomena\", \"showlegend\": false, \"type\": \"scatter\", \"uid\": \"b8fcf87a-4a05-4c84-8c49-e089990c1c3c\", \"x\": [\"2018\", \"2007\", \"2008\", \"2009\", \"2014\", \"2016\"], \"xaxis\": \"x4\", \"y\": [9.25, 5.27, 10.329999999999998, 14.39, 7.850000000000001, 4.689999999999998], \"yaxis\": \"y6\"}, {\"hovertemplate\": \"<b>LOWESS trendline</b><br><br>class=8<br>skill_name=Reasoning and Analysis Skills<br>sub_skill_name=Representing, relating or explaining scientific processes or observed phenomena<br>year=%{x}<br>subSkill_delta=%{y} <b>(trend)</b><extra></extra>\", \"legendgroup\": \"sub_skill_name=Representing, relating or explaining scientific processes or observed phenomena\", \"marker\": {\"color\": \"#ffa15a\", \"symbol\": \"circle\"}, \"mode\": \"lines\", \"name\": \"sub_skill_name=Representing, relating or explaining scientific processes or observed phenomena\", \"showlegend\": false, \"type\": \"scatter\", \"uid\": \"c0140853-8168-4dee-b8c6-94159b4376c6\", \"x\": [2007.0, 2008.0, 2009.0, 2014.0, 2016.0, 2018.0], \"xaxis\": \"x4\", \"y\": [5.399750388639493, 9.962931767774869, 14.515430240786175, 7.850000000000121, 8.55, 9.25000000000013], \"yaxis\": \"y6\"}, {\"hovertemplate\": \"class=8<br>skill_name=Reasoning and Analysis Skills<br>sub_skill_name=Analysis of information to identify trends or properties<br>year=%{x}<br>subSkill_delta=%{y}<br>studentCount=%{marker.size}<extra></extra>\", \"legendgroup\": \"sub_skill_name=Analysis of information to identify trends or properties\", \"marker\": {\"color\": \"#b6e880\", \"size\": [104, 14, 54, 48, 77, 78], \"sizemode\": \"area\", \"sizeref\": 1.15, \"symbol\": \"circle\"}, \"mode\": \"markers\", \"name\": \"sub_skill_name=Analysis of information to identify trends or properties\", \"showlegend\": false, \"type\": \"scatter\", \"uid\": \"6d5581bd-4bcf-48c1-b861-6ae354f6969d\", \"x\": [\"2018\", \"2007\", \"2008\", \"2009\", \"2014\", \"2016\"], \"xaxis\": \"x4\", \"y\": [1.7899999999999991, 20.379999999999995, 14.740000000000002, 22.04, 9.189999999999998, -4.160000000000004], \"yaxis\": \"y6\"}, {\"hovertemplate\": \"<b>LOWESS trendline</b><br><br>class=8<br>skill_name=Reasoning and Analysis Skills<br>sub_skill_name=Analysis of information to identify trends or properties<br>year=%{x}<br>subSkill_delta=%{y} <b>(trend)</b><extra></extra>\", \"legendgroup\": \"sub_skill_name=Analysis of information to identify trends or properties\", \"marker\": {\"color\": \"#b6e880\", \"symbol\": \"circle\"}, \"mode\": \"lines\", \"name\": \"sub_skill_name=Analysis of information to identify trends or properties\", \"showlegend\": false, \"type\": \"scatter\", \"uid\": \"8159ec58-41af-4751-b447-d4b6b4bb90ba\", \"x\": [2007.0, 2008.0, 2009.0, 2014.0, 2016.0, 2018.0], \"xaxis\": \"x4\", \"y\": [18.63745500135305, 19.423975796767664, 20.355425283971478, 8.377682875269956, 3.9151977249621233, 0.3472087445207477], \"yaxis\": \"y6\"}, {\"hovertemplate\": \"class=8<br>skill_name=Reasoning and Analysis Skills<br>sub_skill_name=Advanced or complex data representation or interpretation<br>year=%{x}<br>subSkill_delta=%{y}<br>studentCount=%{marker.size}<extra></extra>\", \"legendgroup\": \"sub_skill_name=Advanced or complex data representation or interpretation\", \"marker\": {\"color\": \"#EF553B\", \"size\": [104, 14, 54, 48, 77, 78], \"sizemode\": \"area\", \"sizeref\": 1.15, \"symbol\": \"circle\"}, \"mode\": \"markers\", \"name\": \"sub_skill_name=Advanced or complex data representation or interpretation\", \"showlegend\": false, \"type\": \"scatter\", \"uid\": \"c1ec8c9e-ccf7-463a-8f2f-5855f0f80714\", \"x\": [\"2018\", \"2007\", \"2008\", \"2009\", \"2014\", \"2016\"], \"xaxis\": \"x4\", \"y\": [4.0, 8.340000000000003, 4.759999999999998, 19.32, 8.119999999999997, -5.07], \"yaxis\": \"y6\"}, {\"hovertemplate\": \"<b>LOWESS trendline</b><br><br>class=8<br>skill_name=Reasoning and Analysis Skills<br>sub_skill_name=Advanced or complex data representation or interpretation<br>year=%{x}<br>subSkill_delta=%{y} <b>(trend)</b><extra></extra>\", \"legendgroup\": \"sub_skill_name=Advanced or complex data representation or interpretation\", \"marker\": {\"color\": \"#EF553B\", \"symbol\": \"circle\"}, \"mode\": \"lines\", \"name\": \"sub_skill_name=Advanced or complex data representation or interpretation\", \"showlegend\": false, \"type\": \"scatter\", \"uid\": \"c9ebd3a8-2760-405c-8c37-c471b412345c\", \"x\": [2007.0, 2008.0, 2009.0, 2014.0, 2016.0, 2018.0], \"xaxis\": \"x4\", \"y\": [6.007855264817355, 11.440297339329948, 17.064353256879542, 6.990004445412644, 3.6513265439270093, 1.7996724309298382], \"yaxis\": \"y6\"}, {\"hovertemplate\": \"class=9<br>skill_name=Conceptual Understanding and Comprehension<br>sub_skill_name=Classification/comparison of organisms/processes; giving examples<br>year=%{x}<br>subSkill_delta=%{y}<br>studentCount=%{marker.size}<extra></extra>\", \"legendgroup\": \"sub_skill_name=Classification/comparison of organisms/processes; giving examples\", \"marker\": {\"color\": \"#636efa\", \"size\": [92, 10, 42, 51, 73, 74], \"sizemode\": \"area\", \"sizeref\": 1.15, \"symbol\": \"circle\"}, \"mode\": \"markers\", \"name\": \"sub_skill_name=Classification/comparison of organisms/processes; giving examples\", \"showlegend\": false, \"type\": \"scatter\", \"uid\": \"1e808786-0679-49db-ae6f-a75f35acf745\", \"x\": [\"2018\", \"2007\", \"2008\", \"2009\", \"2014\", \"2016\"], \"xaxis\": \"x\", \"y\": [5.189999999999998, 0.740000000000002, 4.010000000000005, 6.609999999999999, 8.240000000000002, 4.25], \"yaxis\": \"y7\"}, {\"hovertemplate\": \"<b>LOWESS trendline</b><br><br>class=9<br>skill_name=Conceptual Understanding and Comprehension<br>sub_skill_name=Classification/comparison of organisms/processes; giving examples<br>year=%{x}<br>subSkill_delta=%{y} <b>(trend)</b><extra></extra>\", \"legendgroup\": \"sub_skill_name=Classification/comparison of organisms/processes; giving examples\", \"marker\": {\"color\": \"#636efa\", \"symbol\": \"circle\"}, \"mode\": \"lines\", \"name\": \"sub_skill_name=Classification/comparison of organisms/processes; giving examples\", \"showlegend\": false, \"type\": \"scatter\", \"uid\": \"1f56003d-505c-4c0f-b722-ae8f4b53f33d\", \"x\": [2007.0, 2008.0, 2009.0, 2014.0, 2016.0, 2018.0], \"xaxis\": \"x\", \"y\": [0.8268852203252677, 3.764015446992545, 6.69399304386472, 8.24000000000019, 6.715, 5.1900000000000635], \"yaxis\": \"y7\"}, {\"hovertemplate\": \"class=9<br>skill_name=Conceptual Understanding and Comprehension<br>sub_skill_name=Knowledge of use of scientific instruments, tools and procedures<br>year=%{x}<br>subSkill_delta=%{y}<br>studentCount=%{marker.size}<extra></extra>\", \"legendgroup\": \"sub_skill_name=Knowledge of use of scientific instruments, tools and procedures\", \"marker\": {\"color\": \"#EF553B\", \"size\": [92, 10, 42, 51, 73, 74], \"sizemode\": \"area\", \"sizeref\": 1.15, \"symbol\": \"circle\"}, \"mode\": \"markers\", \"name\": \"sub_skill_name=Knowledge of use of scientific instruments, tools and procedures\", \"showlegend\": false, \"type\": \"scatter\", \"uid\": \"93decf61-3ba6-40a6-8b65-d14378a31b9d\", \"x\": [\"2018\", \"2007\", \"2008\", \"2009\", \"2014\", \"2016\"], \"xaxis\": \"x\", \"y\": [6.759999999999998, -4.600000000000001, 9.869999999999997, 0.6499999999999986, 3.4499999999999957, 4.719999999999999], \"yaxis\": \"y7\"}, {\"hovertemplate\": \"<b>LOWESS trendline</b><br><br>class=9<br>skill_name=Conceptual Understanding and Comprehension<br>sub_skill_name=Knowledge of use of scientific instruments, tools and procedures<br>year=%{x}<br>subSkill_delta=%{y} <b>(trend)</b><extra></extra>\", \"legendgroup\": \"sub_skill_name=Knowledge of use of scientific instruments, tools and procedures\", \"marker\": {\"color\": \"#EF553B\", \"symbol\": \"circle\"}, \"mode\": \"lines\", \"name\": \"sub_skill_name=Knowledge of use of scientific instruments, tools and procedures\", \"showlegend\": false, \"type\": \"scatter\", \"uid\": \"3553c37a-26b4-4e66-85d1-44715166750d\", \"x\": [2007.0, 2008.0, 2009.0, 2014.0, 2016.0, 2018.0], \"xaxis\": \"x\", \"y\": [-4.600000000001151, -1.9750000000000014, 0.6500000000000108, 3.40852641673943, 5.008344531741589, 6.669910844496872], \"yaxis\": \"y7\"}, {\"hovertemplate\": \"class=9<br>skill_name=Knowledge of Basic Science Facts<br>sub_skill_name=Recollection or recognition of science facts and concepts<br>year=%{x}<br>subSkill_delta=%{y}<br>studentCount=%{marker.size}<extra></extra>\", \"legendgroup\": \"sub_skill_name=Recollection or recognition of science facts and concepts\", \"marker\": {\"color\": \"#ab63fa\", \"size\": [92, 10, 42, 51, 73, 74], \"sizemode\": \"area\", \"sizeref\": 1.15, \"symbol\": \"circle\"}, \"mode\": \"markers\", \"name\": \"sub_skill_name=Recollection or recognition of science facts and concepts\", \"showlegend\": false, \"type\": \"scatter\", \"uid\": \"4572954c-0843-4b8e-8e7d-37356a32ceb8\", \"x\": [\"2018\", \"2007\", \"2008\", \"2009\", \"2014\", \"2016\"], \"xaxis\": \"x2\", \"y\": [1.139999999999997, 7.259999999999998, 12.529999999999994, 16.17, 6.130000000000003, 0.5199999999999996], \"yaxis\": \"y7\"}, {\"hovertemplate\": \"<b>LOWESS trendline</b><br><br>class=9<br>skill_name=Knowledge of Basic Science Facts<br>sub_skill_name=Recollection or recognition of science facts and concepts<br>year=%{x}<br>subSkill_delta=%{y} <b>(trend)</b><extra></extra>\", \"legendgroup\": \"sub_skill_name=Recollection or recognition of science facts and concepts\", \"marker\": {\"color\": \"#ab63fa\", \"symbol\": \"circle\"}, \"mode\": \"lines\", \"name\": \"sub_skill_name=Recollection or recognition of science facts and concepts\", \"showlegend\": false, \"type\": \"scatter\", \"uid\": \"1c502923-0f96-444b-8254-7677aa106415\", \"x\": [2007.0, 2008.0, 2009.0, 2014.0, 2016.0, 2018.0], \"xaxis\": \"x2\", \"y\": [7.482655420363548, 11.9431679499272, 16.385097973830256, 6.130000000000181, 3.635, 1.1400000000000037], \"yaxis\": \"y7\"}, {\"hovertemplate\": \"class=9<br>skill_name=Original Thinking<br>sub_skill_name=Hypothesis formulation or prediction of outcome<br>year=%{x}<br>subSkill_delta=%{y}<br>studentCount=%{marker.size}<extra></extra>\", \"legendgroup\": \"sub_skill_name=Hypothesis formulation or prediction of outcome\", \"marker\": {\"color\": \"#e763fa\", \"size\": [92, 10, 42, 51, 73, 74], \"sizemode\": \"area\", \"sizeref\": 1.15, \"symbol\": \"circle\"}, \"mode\": \"markers\", \"name\": \"sub_skill_name=Hypothesis formulation or prediction of outcome\", \"showlegend\": false, \"type\": \"scatter\", \"uid\": \"befdfdda-4e63-4358-8971-b9662714f8e9\", \"x\": [\"2018\", \"2007\", \"2008\", \"2009\", \"2014\", \"2016\"], \"xaxis\": \"x3\", \"y\": [0.9199999999999982, 10.020000000000003, 10.489999999999995, 6.280000000000001, 0.25, 3.979999999999997], \"yaxis\": \"y7\"}, {\"hovertemplate\": \"<b>LOWESS trendline</b><br><br>class=9<br>skill_name=Original Thinking<br>sub_skill_name=Hypothesis formulation or prediction of outcome<br>year=%{x}<br>subSkill_delta=%{y} <b>(trend)</b><extra></extra>\", \"legendgroup\": \"sub_skill_name=Hypothesis formulation or prediction of outcome\", \"marker\": {\"color\": \"#e763fa\", \"symbol\": \"circle\"}, \"mode\": \"lines\", \"name\": \"sub_skill_name=Hypothesis formulation or prediction of outcome\", \"showlegend\": false, \"type\": \"scatter\", \"uid\": \"b5e5c067-cd1d-40f7-8767-59ab731e0fff\", \"x\": [2007.0, 2008.0, 2009.0, 2014.0, 2016.0, 2018.0], \"xaxis\": \"x3\", \"y\": [10.647016009402357, 8.792641983586211, 6.886189664323407, 0.5467111025281725, 1.1701483580966539, 1.455867445016906], \"yaxis\": \"y7\"}, {\"hovertemplate\": \"class=9<br>skill_name=Original Thinking<br>sub_skill_name=Integrating different concepts or information for decision making<br>year=%{x}<br>subSkill_delta=%{y}<br>studentCount=%{marker.size}<extra></extra>\", \"legendgroup\": \"sub_skill_name=Integrating different concepts or information for decision making\", \"marker\": {\"color\": \"#ff6692\", \"size\": [92, 10, 42, 51, 73, 74], \"sizemode\": \"area\", \"sizeref\": 1.15, \"symbol\": \"circle\"}, \"mode\": \"markers\", \"name\": \"sub_skill_name=Integrating different concepts or information for decision making\", \"showlegend\": false, \"type\": \"scatter\", \"uid\": \"e1d7679d-d45f-44d2-bb6d-1fcfb6bb7742\", \"x\": [\"2018\", \"2007\", \"2008\", \"2009\", \"2014\", \"2016\"], \"xaxis\": \"x3\", \"y\": [2.0500000000000007, 6.310000000000002, 10.509999999999998, -5.059999999999995, 4.950000000000003, 5.260000000000005], \"yaxis\": \"y7\"}, {\"hovertemplate\": \"<b>LOWESS trendline</b><br><br>class=9<br>skill_name=Original Thinking<br>sub_skill_name=Integrating different concepts or information for decision making<br>year=%{x}<br>subSkill_delta=%{y} <b>(trend)</b><extra></extra>\", \"legendgroup\": \"sub_skill_name=Integrating different concepts or information for decision making\", \"marker\": {\"color\": \"#ff6692\", \"symbol\": \"circle\"}, \"mode\": \"lines\", \"name\": \"sub_skill_name=Integrating different concepts or information for decision making\", \"showlegend\": false, \"type\": \"scatter\", \"uid\": \"ee73dc55-47bb-45ae-93bc-62ae1082b74e\", \"x\": [2007.0, 2008.0, 2009.0, 2014.0, 2016.0, 2018.0], \"xaxis\": \"x3\", \"y\": [6.310000000000381, 0.6249999999995262, -5.060000000001085, 5.184817995856553, 4.08710012516193, 2.5752062468552612], \"yaxis\": \"y7\"}, {\"hovertemplate\": \"class=9<br>skill_name=Original Thinking<br>sub_skill_name=Design of appropriate apparatus, experiment or activity for scientific investigation<br>year=%{x}<br>subSkill_delta=%{y}<br>studentCount=%{marker.size}<extra></extra>\", \"legendgroup\": \"sub_skill_name=Design of appropriate apparatus, experiment or activity for scientific investigation\", \"marker\": {\"color\": \"#00cc96\", \"size\": [92, 10, 42, 51, 73, 74], \"sizemode\": \"area\", \"sizeref\": 1.15, \"symbol\": \"circle\"}, \"mode\": \"markers\", \"name\": \"sub_skill_name=Design of appropriate apparatus, experiment or activity for scientific investigation\", \"showlegend\": true, \"type\": \"scatter\", \"uid\": \"2d9a1435-eb05-4aa0-a31e-3a40a9dae238\", \"x\": [\"2018\", \"2007\", \"2008\", \"2009\", \"2014\", \"2016\"], \"xaxis\": \"x3\", \"y\": [6.840000000000003, 10.869999999999997, 15.259999999999998, 7.380000000000003, -1.8999999999999986, 6.359999999999999], \"yaxis\": \"y7\"}, {\"hovertemplate\": \"<b>LOWESS trendline</b><br><br>class=9<br>skill_name=Original Thinking<br>sub_skill_name=Design of appropriate apparatus, experiment or activity for scientific investigation<br>year=%{x}<br>subSkill_delta=%{y} <b>(trend)</b><extra></extra>\", \"legendgroup\": \"sub_skill_name=Design of appropriate apparatus, experiment or activity for scientific investigation\", \"marker\": {\"color\": \"#00cc96\", \"symbol\": \"circle\"}, \"mode\": \"lines\", \"name\": \"sub_skill_name=Design of appropriate apparatus, experiment or activity for scientific investigation\", \"showlegend\": false, \"type\": \"scatter\", \"uid\": \"9f3d5c81-20bc-46d2-8d01-b6b013955930\", \"x\": [2007.0, 2008.0, 2009.0, 2014.0, 2016.0, 2018.0], \"xaxis\": \"x3\", \"y\": [12.330497971869118, 10.62096384584944, 8.79373147139855, -1.3980205785218132, 3.7048156216289834, 7.950647289733581], \"yaxis\": \"y7\"}, {\"hovertemplate\": \"class=9<br>skill_name=Reasoning and Analysis Skills<br>sub_skill_name=Extraction, translation and application of knowledge or information<br>year=%{x}<br>subSkill_delta=%{y}<br>studentCount=%{marker.size}<extra></extra>\", \"legendgroup\": \"sub_skill_name=Extraction, translation and application of knowledge or information\", \"marker\": {\"color\": \"#fecb52\", \"size\": [92, 10, 42, 51, 73, 74], \"sizemode\": \"area\", \"sizeref\": 1.15, \"symbol\": \"circle\"}, \"mode\": \"markers\", \"name\": \"sub_skill_name=Extraction, translation and application of knowledge or information\", \"showlegend\": false, \"type\": \"scatter\", \"uid\": \"08ff9f8d-e099-4fd2-915e-7bb91db46b63\", \"x\": [\"2018\", \"2007\", \"2008\", \"2009\", \"2014\", \"2016\"], \"xaxis\": \"x4\", \"y\": [10.119999999999997, 12.280000000000001, 13.849999999999994, 2.5, 5.1299999999999955, 1.3400000000000034], \"yaxis\": \"y7\"}, {\"hovertemplate\": \"<b>LOWESS trendline</b><br><br>class=9<br>skill_name=Reasoning and Analysis Skills<br>sub_skill_name=Extraction, translation and application of knowledge or information<br>year=%{x}<br>subSkill_delta=%{y} <b>(trend)</b><extra></extra>\", \"legendgroup\": \"sub_skill_name=Extraction, translation and application of knowledge or information\", \"marker\": {\"color\": \"#fecb52\", \"symbol\": \"circle\"}, \"mode\": \"lines\", \"name\": \"sub_skill_name=Extraction, translation and application of knowledge or information\", \"showlegend\": false, \"type\": \"scatter\", \"uid\": \"a8f10af2-a3e8-4895-800c-c9a75a05f7f7\", \"x\": [2007.0, 2008.0, 2009.0, 2014.0, 2016.0, 2018.0], \"xaxis\": \"x4\", \"y\": [13.81786746508479, 8.965212134347674, 3.9886235216371713, 4.415784568491845, 5.994580426904308, 8.636023201184273], \"yaxis\": \"y7\"}, {\"hovertemplate\": \"class=9<br>skill_name=Reasoning and Analysis Skills<br>sub_skill_name=Representing, relating or explaining scientific processes or observed phenomena<br>year=%{x}<br>subSkill_delta=%{y}<br>studentCount=%{marker.size}<extra></extra>\", \"legendgroup\": \"sub_skill_name=Representing, relating or explaining scientific processes or observed phenomena\", \"marker\": {\"color\": \"#ffa15a\", \"size\": [92, 10, 42, 51, 73, 74], \"sizemode\": \"area\", \"sizeref\": 1.15, \"symbol\": \"circle\"}, \"mode\": \"markers\", \"name\": \"sub_skill_name=Representing, relating or explaining scientific processes or observed phenomena\", \"showlegend\": false, \"type\": \"scatter\", \"uid\": \"ddb4de1e-5221-4455-bb68-686ad06162c2\", \"x\": [\"2018\", \"2007\", \"2008\", \"2009\", \"2014\", \"2016\"], \"xaxis\": \"x4\", \"y\": [2.4800000000000004, 13.630000000000003, 10.590000000000003, 12.769999999999996, 2.3399999999999963, 3.809999999999995], \"yaxis\": \"y7\"}, {\"hovertemplate\": \"<b>LOWESS trendline</b><br><br>class=9<br>skill_name=Reasoning and Analysis Skills<br>sub_skill_name=Representing, relating or explaining scientific processes or observed phenomena<br>year=%{x}<br>subSkill_delta=%{y} <b>(trend)</b><extra></extra>\", \"legendgroup\": \"sub_skill_name=Representing, relating or explaining scientific processes or observed phenomena\", \"marker\": {\"color\": \"#ffa15a\", \"symbol\": \"circle\"}, \"mode\": \"lines\", \"name\": \"sub_skill_name=Representing, relating or explaining scientific processes or observed phenomena\", \"showlegend\": false, \"type\": \"scatter\", \"uid\": \"92cd2a46-607d-463b-a6d8-3dc5d0721958\", \"x\": [2007.0, 2008.0, 2009.0, 2014.0, 2016.0, 2018.0], \"xaxis\": \"x4\", \"y\": [13.008663454511769, 12.563575283182963, 12.168559227326206, 2.5244546562305072, 2.86822437062833, 2.8907330963142823], \"yaxis\": \"y7\"}, {\"hovertemplate\": \"class=9<br>skill_name=Reasoning and Analysis Skills<br>sub_skill_name=Analysis of information to identify trends or properties<br>year=%{x}<br>subSkill_delta=%{y}<br>studentCount=%{marker.size}<extra></extra>\", \"legendgroup\": \"sub_skill_name=Analysis of information to identify trends or properties\", \"marker\": {\"color\": \"#b6e880\", \"size\": [92, 10, 42, 51, 73, 74], \"sizemode\": \"area\", \"sizeref\": 1.15, \"symbol\": \"circle\"}, \"mode\": \"markers\", \"name\": \"sub_skill_name=Analysis of information to identify trends or properties\", \"showlegend\": false, \"type\": \"scatter\", \"uid\": \"85120b3d-8424-4312-997b-48a1d8e5e6a5\", \"x\": [\"2018\", \"2007\", \"2008\", \"2009\", \"2014\", \"2016\"], \"xaxis\": \"x4\", \"y\": [11.340000000000003, 14.630000000000003, 8.300000000000004, 9.139999999999993, 5.630000000000003, -1.5], \"yaxis\": \"y7\"}, {\"hovertemplate\": \"<b>LOWESS trendline</b><br><br>class=9<br>skill_name=Reasoning and Analysis Skills<br>sub_skill_name=Analysis of information to identify trends or properties<br>year=%{x}<br>subSkill_delta=%{y} <b>(trend)</b><extra></extra>\", \"legendgroup\": \"sub_skill_name=Analysis of information to identify trends or properties\", \"marker\": {\"color\": \"#b6e880\", \"symbol\": \"circle\"}, \"mode\": \"lines\", \"name\": \"sub_skill_name=Analysis of information to identify trends or properties\", \"showlegend\": false, \"type\": \"scatter\", \"uid\": \"e1c335aa-ca9e-46cb-9e26-8d0ff6e9bdfc\", \"x\": [2007.0, 2008.0, 2009.0, 2014.0, 2016.0, 2018.0], \"xaxis\": \"x4\", \"y\": [13.649172002421595, 10.879877784830345, 8.192474359131085, 5.6299999999999715, 8.485000000000403, 11.340000000000003], \"yaxis\": \"y7\"}, {\"hovertemplate\": \"class=9<br>skill_name=Reasoning and Analysis Skills<br>sub_skill_name=Advanced or complex data representation or interpretation<br>year=%{x}<br>subSkill_delta=%{y}<br>studentCount=%{marker.size}<extra></extra>\", \"legendgroup\": \"sub_skill_name=Advanced or complex data representation or interpretation\", \"marker\": {\"color\": \"#EF553B\", \"size\": [92, 10, 42, 51, 73, 74], \"sizemode\": \"area\", \"sizeref\": 1.15, \"symbol\": \"circle\"}, \"mode\": \"markers\", \"name\": \"sub_skill_name=Advanced or complex data representation or interpretation\", \"showlegend\": false, \"type\": \"scatter\", \"uid\": \"65d0527b-45c5-44c8-886b-745eec341c6f\", \"x\": [\"2018\", \"2007\", \"2008\", \"2009\", \"2014\", \"2016\"], \"xaxis\": \"x4\", \"y\": [10.509999999999998, 21.369999999999997, 5.699999999999999, 15.770000000000003, 5.100000000000001, -3.0700000000000003], \"yaxis\": \"y7\"}, {\"hovertemplate\": \"<b>LOWESS trendline</b><br><br>class=9<br>skill_name=Reasoning and Analysis Skills<br>sub_skill_name=Advanced or complex data representation or interpretation<br>year=%{x}<br>subSkill_delta=%{y} <b>(trend)</b><extra></extra>\", \"legendgroup\": \"sub_skill_name=Advanced or complex data representation or interpretation\", \"marker\": {\"color\": \"#EF553B\", \"symbol\": \"circle\"}, \"mode\": \"lines\", \"name\": \"sub_skill_name=Advanced or complex data representation or interpretation\", \"showlegend\": false, \"type\": \"scatter\", \"uid\": \"d375b01f-f58e-406f-bbc1-6cbf34a41ed8\", \"x\": [2007.0, 2008.0, 2009.0, 2014.0, 2016.0, 2018.0], \"xaxis\": \"x4\", \"y\": [18.306168068790054, 15.431767775691716, 12.80427481061242, 3.7858146070390837, 4.688299771503246, 7.684869165703139], \"yaxis\": \"y7\"}, {\"hovertemplate\": \"class=10<br>skill_name=Conceptual Understanding and Comprehension<br>sub_skill_name=Classification/comparison of organisms/processes; giving examples<br>year=%{x}<br>subSkill_delta=%{y}<br>studentCount=%{marker.size}<extra></extra>\", \"legendgroup\": \"sub_skill_name=Classification/comparison of organisms/processes; giving examples\", \"marker\": {\"color\": \"#636efa\", \"size\": [73, 67], \"sizemode\": \"area\", \"sizeref\": 1.15, \"symbol\": \"circle\"}, \"mode\": \"markers\", \"name\": \"sub_skill_name=Classification/comparison of organisms/processes; giving examples\", \"showlegend\": false, \"type\": \"scatter\", \"uid\": \"f8fc082d-baa8-4ad0-9308-0e0b8c761bd7\", \"x\": [\"2014\", \"2016\"], \"xaxis\": \"x\", \"y\": [2.8999999999999986, 14.350000000000001], \"yaxis\": \"y8\"}, {\"hovertemplate\": \"<b>LOWESS trendline</b><br><br>class=10<br>skill_name=Conceptual Understanding and Comprehension<br>sub_skill_name=Classification/comparison of organisms/processes; giving examples<br>year=%{x}<br>subSkill_delta=%{y} <b>(trend)</b><extra></extra>\", \"legendgroup\": \"sub_skill_name=Classification/comparison of organisms/processes; giving examples\", \"marker\": {\"color\": \"#636efa\", \"symbol\": \"circle\"}, \"mode\": \"lines\", \"name\": \"sub_skill_name=Classification/comparison of organisms/processes; giving examples\", \"showlegend\": false, \"type\": \"scatter\", \"uid\": \"dac34290-11a7-46d0-8ebe-1f4cee85c143\", \"x\": [2014.0, 2016.0], \"xaxis\": \"x\", \"y\": [2.8999999999999986, 14.350000000000001], \"yaxis\": \"y8\"}, {\"hovertemplate\": \"class=10<br>skill_name=Conceptual Understanding and Comprehension<br>sub_skill_name=Knowledge of use of scientific instruments, tools and procedures<br>year=%{x}<br>subSkill_delta=%{y}<br>studentCount=%{marker.size}<extra></extra>\", \"legendgroup\": \"sub_skill_name=Knowledge of use of scientific instruments, tools and procedures\", \"marker\": {\"color\": \"#EF553B\", \"size\": [73, 67], \"sizemode\": \"area\", \"sizeref\": 1.15, \"symbol\": \"circle\"}, \"mode\": \"markers\", \"name\": \"sub_skill_name=Knowledge of use of scientific instruments, tools and procedures\", \"showlegend\": false, \"type\": \"scatter\", \"uid\": \"b4f521d0-145c-4593-a120-230557933fbc\", \"x\": [\"2014\", \"2016\"], \"xaxis\": \"x\", \"y\": [0.9200000000000017, 5.600000000000001], \"yaxis\": \"y8\"}, {\"hovertemplate\": \"<b>LOWESS trendline</b><br><br>class=10<br>skill_name=Conceptual Understanding and Comprehension<br>sub_skill_name=Knowledge of use of scientific instruments, tools and procedures<br>year=%{x}<br>subSkill_delta=%{y} <b>(trend)</b><extra></extra>\", \"legendgroup\": \"sub_skill_name=Knowledge of use of scientific instruments, tools and procedures\", \"marker\": {\"color\": \"#EF553B\", \"symbol\": \"circle\"}, \"mode\": \"lines\", \"name\": \"sub_skill_name=Knowledge of use of scientific instruments, tools and procedures\", \"showlegend\": false, \"type\": \"scatter\", \"uid\": \"a7c5a7f0-a7e1-48d5-a502-a3a3cac3f24e\", \"x\": [2014.0, 2016.0], \"xaxis\": \"x\", \"y\": [0.9200000000000017, 5.600000000000001], \"yaxis\": \"y8\"}, {\"hovertemplate\": \"class=10<br>skill_name=Knowledge of Basic Science Facts<br>sub_skill_name=Recollection or recognition of science facts and concepts<br>year=%{x}<br>subSkill_delta=%{y}<br>studentCount=%{marker.size}<extra></extra>\", \"legendgroup\": \"sub_skill_name=Recollection or recognition of science facts and concepts\", \"marker\": {\"color\": \"#ab63fa\", \"size\": [73, 67], \"sizemode\": \"area\", \"sizeref\": 1.15, \"symbol\": \"circle\"}, \"mode\": \"markers\", \"name\": \"sub_skill_name=Recollection or recognition of science facts and concepts\", \"showlegend\": false, \"type\": \"scatter\", \"uid\": \"060597b5-932e-45b5-b002-9435518ee7ca\", \"x\": [\"2014\", \"2016\"], \"xaxis\": \"x2\", \"y\": [-1.4200000000000017, 6.229999999999997], \"yaxis\": \"y8\"}, {\"hovertemplate\": \"<b>LOWESS trendline</b><br><br>class=10<br>skill_name=Knowledge of Basic Science Facts<br>sub_skill_name=Recollection or recognition of science facts and concepts<br>year=%{x}<br>subSkill_delta=%{y} <b>(trend)</b><extra></extra>\", \"legendgroup\": \"sub_skill_name=Recollection or recognition of science facts and concepts\", \"marker\": {\"color\": \"#ab63fa\", \"symbol\": \"circle\"}, \"mode\": \"lines\", \"name\": \"sub_skill_name=Recollection or recognition of science facts and concepts\", \"showlegend\": false, \"type\": \"scatter\", \"uid\": \"dc2292b7-b344-423b-a2ba-d60ac74f95d5\", \"x\": [2014.0, 2016.0], \"xaxis\": \"x2\", \"y\": [-1.4200000000000017, 6.229999999999997], \"yaxis\": \"y8\"}, {\"hovertemplate\": \"class=10<br>skill_name=Original Thinking<br>sub_skill_name=Hypothesis formulation or prediction of outcome<br>year=%{x}<br>subSkill_delta=%{y}<br>studentCount=%{marker.size}<extra></extra>\", \"legendgroup\": \"sub_skill_name=Hypothesis formulation or prediction of outcome\", \"marker\": {\"color\": \"#e763fa\", \"size\": [73, 67], \"sizemode\": \"area\", \"sizeref\": 1.15, \"symbol\": \"circle\"}, \"mode\": \"markers\", \"name\": \"sub_skill_name=Hypothesis formulation or prediction of outcome\", \"showlegend\": false, \"type\": \"scatter\", \"uid\": \"9a87419c-9e44-438b-bfaa-4dca62ffd406\", \"x\": [\"2014\", \"2016\"], \"xaxis\": \"x3\", \"y\": [2.5600000000000023, -5.599999999999998], \"yaxis\": \"y8\"}, {\"hovertemplate\": \"<b>LOWESS trendline</b><br><br>class=10<br>skill_name=Original Thinking<br>sub_skill_name=Hypothesis formulation or prediction of outcome<br>year=%{x}<br>subSkill_delta=%{y} <b>(trend)</b><extra></extra>\", \"legendgroup\": \"sub_skill_name=Hypothesis formulation or prediction of outcome\", \"marker\": {\"color\": \"#e763fa\", \"symbol\": \"circle\"}, \"mode\": \"lines\", \"name\": \"sub_skill_name=Hypothesis formulation or prediction of outcome\", \"showlegend\": false, \"type\": \"scatter\", \"uid\": \"ecce75ac-9d9a-4589-a69f-d0bfe4fab41d\", \"x\": [2014.0, 2016.0], \"xaxis\": \"x3\", \"y\": [2.5600000000000023, -5.599999999999998], \"yaxis\": \"y8\"}, {\"hovertemplate\": \"class=10<br>skill_name=Original Thinking<br>sub_skill_name=Integrating different concepts or information for decision making<br>year=%{x}<br>subSkill_delta=%{y}<br>studentCount=%{marker.size}<extra></extra>\", \"legendgroup\": \"sub_skill_name=Integrating different concepts or information for decision making\", \"marker\": {\"color\": \"#ff6692\", \"size\": [73, 67], \"sizemode\": \"area\", \"sizeref\": 1.15, \"symbol\": \"circle\"}, \"mode\": \"markers\", \"name\": \"sub_skill_name=Integrating different concepts or information for decision making\", \"showlegend\": false, \"type\": \"scatter\", \"uid\": \"5055fa33-4d03-4257-b67a-50a3a3f1dfad\", \"x\": [\"2014\", \"2016\"], \"xaxis\": \"x3\", \"y\": [2.799999999999997, 3.110000000000003], \"yaxis\": \"y8\"}, {\"hovertemplate\": \"<b>LOWESS trendline</b><br><br>class=10<br>skill_name=Original Thinking<br>sub_skill_name=Integrating different concepts or information for decision making<br>year=%{x}<br>subSkill_delta=%{y} <b>(trend)</b><extra></extra>\", \"legendgroup\": \"sub_skill_name=Integrating different concepts or information for decision making\", \"marker\": {\"color\": \"#ff6692\", \"symbol\": \"circle\"}, \"mode\": \"lines\", \"name\": \"sub_skill_name=Integrating different concepts or information for decision making\", \"showlegend\": false, \"type\": \"scatter\", \"uid\": \"977840f7-cbed-4968-a0db-7d25841ef0c7\", \"x\": [2014.0, 2016.0], \"xaxis\": \"x3\", \"y\": [2.799999999999997, 3.110000000000003], \"yaxis\": \"y8\"}, {\"hovertemplate\": \"class=10<br>skill_name=Original Thinking<br>sub_skill_name=Design of appropriate apparatus, experiment or activity for scientific investigation<br>year=%{x}<br>subSkill_delta=%{y}<br>studentCount=%{marker.size}<extra></extra>\", \"legendgroup\": \"sub_skill_name=Design of appropriate apparatus, experiment or activity for scientific investigation\", \"marker\": {\"color\": \"#00cc96\", \"size\": [73, 67], \"sizemode\": \"area\", \"sizeref\": 1.15, \"symbol\": \"circle\"}, \"mode\": \"markers\", \"name\": \"sub_skill_name=Design of appropriate apparatus, experiment or activity for scientific investigation\", \"showlegend\": false, \"type\": \"scatter\", \"uid\": \"58575ee1-4cb3-4085-b9b9-8a38a3d9bec6\", \"x\": [\"2014\", \"2016\"], \"xaxis\": \"x3\", \"y\": [-0.09999999999999787, 6.530000000000001], \"yaxis\": \"y8\"}, {\"hovertemplate\": \"<b>LOWESS trendline</b><br><br>class=10<br>skill_name=Original Thinking<br>sub_skill_name=Design of appropriate apparatus, experiment or activity for scientific investigation<br>year=%{x}<br>subSkill_delta=%{y} <b>(trend)</b><extra></extra>\", \"legendgroup\": \"sub_skill_name=Design of appropriate apparatus, experiment or activity for scientific investigation\", \"marker\": {\"color\": \"#00cc96\", \"symbol\": \"circle\"}, \"mode\": \"lines\", \"name\": \"sub_skill_name=Design of appropriate apparatus, experiment or activity for scientific investigation\", \"showlegend\": false, \"type\": \"scatter\", \"uid\": \"7f03fd35-daca-4538-b94f-d1a9a264e811\", \"x\": [2014.0, 2016.0], \"xaxis\": \"x3\", \"y\": [-0.09999999999999787, 6.530000000000001], \"yaxis\": \"y8\"}, {\"hovertemplate\": \"class=10<br>skill_name=Reasoning and Analysis Skills<br>sub_skill_name=Extraction, translation and application of knowledge or information<br>year=%{x}<br>subSkill_delta=%{y}<br>studentCount=%{marker.size}<extra></extra>\", \"legendgroup\": \"sub_skill_name=Extraction, translation and application of knowledge or information\", \"marker\": {\"color\": \"#fecb52\", \"size\": [73, 67], \"sizemode\": \"area\", \"sizeref\": 1.15, \"symbol\": \"circle\"}, \"mode\": \"markers\", \"name\": \"sub_skill_name=Extraction, translation and application of knowledge or information\", \"showlegend\": false, \"type\": \"scatter\", \"uid\": \"8f9a1a29-022f-4412-ba10-ffca3a9116a9\", \"x\": [\"2014\", \"2016\"], \"xaxis\": \"x4\", \"y\": [0.6999999999999957, 5.339999999999996], \"yaxis\": \"y8\"}, {\"hovertemplate\": \"<b>LOWESS trendline</b><br><br>class=10<br>skill_name=Reasoning and Analysis Skills<br>sub_skill_name=Extraction, translation and application of knowledge or information<br>year=%{x}<br>subSkill_delta=%{y} <b>(trend)</b><extra></extra>\", \"legendgroup\": \"sub_skill_name=Extraction, translation and application of knowledge or information\", \"marker\": {\"color\": \"#fecb52\", \"symbol\": \"circle\"}, \"mode\": \"lines\", \"name\": \"sub_skill_name=Extraction, translation and application of knowledge or information\", \"showlegend\": false, \"type\": \"scatter\", \"uid\": \"819854f5-6474-4251-b775-2184a4d2d038\", \"x\": [2014.0, 2016.0], \"xaxis\": \"x4\", \"y\": [0.6999999999999957, 5.339999999999996], \"yaxis\": \"y8\"}, {\"hovertemplate\": \"class=10<br>skill_name=Reasoning and Analysis Skills<br>sub_skill_name=Representing, relating or explaining scientific processes or observed phenomena<br>year=%{x}<br>subSkill_delta=%{y}<br>studentCount=%{marker.size}<extra></extra>\", \"legendgroup\": \"sub_skill_name=Representing, relating or explaining scientific processes or observed phenomena\", \"marker\": {\"color\": \"#ffa15a\", \"size\": [73, 67], \"sizemode\": \"area\", \"sizeref\": 1.15, \"symbol\": \"circle\"}, \"mode\": \"markers\", \"name\": \"sub_skill_name=Representing, relating or explaining scientific processes or observed phenomena\", \"showlegend\": false, \"type\": \"scatter\", \"uid\": \"b3cc0707-bfbd-4d80-ae49-762247259091\", \"x\": [\"2014\", \"2016\"], \"xaxis\": \"x4\", \"y\": [-10.370000000000001, 1.8599999999999994], \"yaxis\": \"y8\"}, {\"hovertemplate\": \"<b>LOWESS trendline</b><br><br>class=10<br>skill_name=Reasoning and Analysis Skills<br>sub_skill_name=Representing, relating or explaining scientific processes or observed phenomena<br>year=%{x}<br>subSkill_delta=%{y} <b>(trend)</b><extra></extra>\", \"legendgroup\": \"sub_skill_name=Representing, relating or explaining scientific processes or observed phenomena\", \"marker\": {\"color\": \"#ffa15a\", \"symbol\": \"circle\"}, \"mode\": \"lines\", \"name\": \"sub_skill_name=Representing, relating or explaining scientific processes or observed phenomena\", \"showlegend\": false, \"type\": \"scatter\", \"uid\": \"c09bcd23-5132-4164-849b-d5dcee671fb6\", \"x\": [2014.0, 2016.0], \"xaxis\": \"x4\", \"y\": [-10.370000000000001, 1.8599999999999994], \"yaxis\": \"y8\"}, {\"hovertemplate\": \"class=10<br>skill_name=Reasoning and Analysis Skills<br>sub_skill_name=Analysis of information to identify trends or properties<br>year=%{x}<br>subSkill_delta=%{y}<br>studentCount=%{marker.size}<extra></extra>\", \"legendgroup\": \"sub_skill_name=Analysis of information to identify trends or properties\", \"marker\": {\"color\": \"#b6e880\", \"size\": [73, 67], \"sizemode\": \"area\", \"sizeref\": 1.15, \"symbol\": \"circle\"}, \"mode\": \"markers\", \"name\": \"sub_skill_name=Analysis of information to identify trends or properties\", \"showlegend\": false, \"type\": \"scatter\", \"uid\": \"a12ef2f8-718e-4467-98e1-41a197b9cac5\", \"x\": [\"2014\", \"2016\"], \"xaxis\": \"x4\", \"y\": [3.780000000000001, 2.830000000000002], \"yaxis\": \"y8\"}, {\"hovertemplate\": \"<b>LOWESS trendline</b><br><br>class=10<br>skill_name=Reasoning and Analysis Skills<br>sub_skill_name=Analysis of information to identify trends or properties<br>year=%{x}<br>subSkill_delta=%{y} <b>(trend)</b><extra></extra>\", \"legendgroup\": \"sub_skill_name=Analysis of information to identify trends or properties\", \"marker\": {\"color\": \"#b6e880\", \"symbol\": \"circle\"}, \"mode\": \"lines\", \"name\": \"sub_skill_name=Analysis of information to identify trends or properties\", \"showlegend\": false, \"type\": \"scatter\", \"uid\": \"9eae832c-1026-4582-b2b1-4db546879bbf\", \"x\": [2014.0, 2016.0], \"xaxis\": \"x4\", \"y\": [3.780000000000001, 2.830000000000002], \"yaxis\": \"y8\"}, {\"hovertemplate\": \"class=10<br>skill_name=Reasoning and Analysis Skills<br>sub_skill_name=Advanced or complex data representation or interpretation<br>year=%{x}<br>subSkill_delta=%{y}<br>studentCount=%{marker.size}<extra></extra>\", \"legendgroup\": \"sub_skill_name=Advanced or complex data representation or interpretation\", \"marker\": {\"color\": \"#EF553B\", \"size\": [73, 67], \"sizemode\": \"area\", \"sizeref\": 1.15, \"symbol\": \"circle\"}, \"mode\": \"markers\", \"name\": \"sub_skill_name=Advanced or complex data representation or interpretation\", \"showlegend\": false, \"type\": \"scatter\", \"uid\": \"30c7fbc7-8110-4f91-9b11-172ea9307b54\", \"x\": [\"2014\", \"2016\"], \"xaxis\": \"x4\", \"y\": [7.579999999999998, 2.6000000000000014], \"yaxis\": \"y8\"}, {\"hovertemplate\": \"<b>LOWESS trendline</b><br><br>class=10<br>skill_name=Reasoning and Analysis Skills<br>sub_skill_name=Advanced or complex data representation or interpretation<br>year=%{x}<br>subSkill_delta=%{y} <b>(trend)</b><extra></extra>\", \"legendgroup\": \"sub_skill_name=Advanced or complex data representation or interpretation\", \"marker\": {\"color\": \"#EF553B\", \"symbol\": \"circle\"}, \"mode\": \"lines\", \"name\": \"sub_skill_name=Advanced or complex data representation or interpretation\", \"showlegend\": false, \"type\": \"scatter\", \"uid\": \"6c07379d-bdae-45b9-b14a-152d58597b13\", \"x\": [2014.0, 2016.0], \"xaxis\": \"x4\", \"y\": [7.579999999999998, 2.6000000000000014], \"yaxis\": \"y8\"}],\n",
       "                        {\"annotations\": [{\"showarrow\": false, \"text\": \"skill_name=Conceptual Understanding and Comprehension\", \"textangle\": 0, \"x\": 0.1153846153846154, \"xanchor\": \"center\", \"xref\": \"paper\", \"y\": 1.02, \"yanchor\": \"middle\", \"yref\": \"paper\"}, {\"showarrow\": false, \"text\": \"skill_name=Knowledge of Basic Science Facts\", \"textangle\": 0, \"x\": 0.3717948717948718, \"xanchor\": \"center\", \"xref\": \"paper\", \"y\": 1.02, \"yanchor\": \"middle\", \"yref\": \"paper\"}, {\"showarrow\": false, \"text\": \"skill_name=Original Thinking\", \"textangle\": 0, \"x\": 0.6282051282051283, \"xanchor\": \"center\", \"xref\": \"paper\", \"y\": 1.02, \"yanchor\": \"middle\", \"yref\": \"paper\"}, {\"showarrow\": false, \"text\": \"skill_name=Reasoning and Analysis Skills\", \"textangle\": 0, \"x\": 0.8846153846153848, \"xanchor\": \"center\", \"xref\": \"paper\", \"y\": 1.02, \"yanchor\": \"middle\", \"yref\": \"paper\"}, {\"showarrow\": false, \"text\": \"class=3\", \"textangle\": 90, \"x\": 1.01, \"xanchor\": \"center\", \"xref\": \"paper\", \"y\": 0.9430379746835442, \"yanchor\": \"middle\", \"yref\": \"paper\"}, {\"showarrow\": false, \"text\": \"class=4\", \"textangle\": 90, \"x\": 1.01, \"xanchor\": \"center\", \"xref\": \"paper\", \"y\": 0.8164556962025316, \"yanchor\": \"middle\", \"yref\": \"paper\"}, {\"showarrow\": false, \"text\": \"class=5\", \"textangle\": 90, \"x\": 1.01, \"xanchor\": \"center\", \"xref\": \"paper\", \"y\": 0.6898734177215189, \"yanchor\": \"middle\", \"yref\": \"paper\"}, {\"showarrow\": false, \"text\": \"class=6\", \"textangle\": 90, \"x\": 1.01, \"xanchor\": \"center\", \"xref\": \"paper\", \"y\": 0.5632911392405062, \"yanchor\": \"middle\", \"yref\": \"paper\"}, {\"showarrow\": false, \"text\": \"class=7\", \"textangle\": 90, \"x\": 1.01, \"xanchor\": \"center\", \"xref\": \"paper\", \"y\": 0.4367088607594936, \"yanchor\": \"middle\", \"yref\": \"paper\"}, {\"showarrow\": false, \"text\": \"class=8\", \"textangle\": 90, \"x\": 1.01, \"xanchor\": \"center\", \"xref\": \"paper\", \"y\": 0.310126582278481, \"yanchor\": \"middle\", \"yref\": \"paper\"}, {\"showarrow\": false, \"text\": \"class=9\", \"textangle\": 90, \"x\": 1.01, \"xanchor\": \"center\", \"xref\": \"paper\", \"y\": 0.18354430379746833, \"yanchor\": \"middle\", \"yref\": \"paper\"}, {\"showarrow\": false, \"text\": \"class=10\", \"textangle\": 90, \"x\": 1.01, \"xanchor\": \"center\", \"xref\": \"paper\", \"y\": 0.05696202531645569, \"yanchor\": \"middle\", \"yref\": \"paper\"}], \"grid\": {\"xaxes\": [\"x\", \"x2\", \"x3\", \"x4\"], \"xgap\": 0.1, \"xside\": \"bottom\", \"yaxes\": [\"y\", \"y2\", \"y3\", \"y4\", \"y5\", \"y6\", \"y7\", \"y8\"], \"ygap\": 0.1, \"yside\": \"left\"}, \"height\": 2000, \"legend\": {\"tracegroupgap\": 0}, \"template\": {\"data\": {\"bar\": [{\"marker\": {\"line\": {\"color\": \"#E5ECF6\", \"width\": 0.5}}, \"type\": \"bar\"}], \"barpolar\": [{\"marker\": {\"line\": {\"color\": \"#E5ECF6\", \"width\": 0.5}}, \"type\": \"barpolar\"}], \"carpet\": [{\"aaxis\": {\"endlinecolor\": \"#2a3f5f\", \"gridcolor\": \"white\", \"linecolor\": \"white\", \"minorgridcolor\": \"white\", \"startlinecolor\": \"#2a3f5f\"}, \"baxis\": {\"endlinecolor\": \"#2a3f5f\", \"gridcolor\": \"white\", \"linecolor\": \"white\", \"minorgridcolor\": \"white\", \"startlinecolor\": \"#2a3f5f\"}, \"type\": \"carpet\"}], \"choropleth\": [{\"colorbar\": {\"outlinewidth\": 0, \"ticks\": \"\"}, \"type\": \"choropleth\"}], \"contour\": [{\"autocolorscale\": true, \"colorbar\": {\"outlinewidth\": 0, \"ticks\": \"\"}, \"type\": \"contour\"}], \"contourcarpet\": [{\"colorbar\": {\"outlinewidth\": 0, \"ticks\": \"\"}, \"type\": \"contourcarpet\"}], \"heatmap\": [{\"autocolorscale\": true, \"colorbar\": {\"outlinewidth\": 0, \"ticks\": \"\"}, \"type\": \"heatmap\"}], \"heatmapgl\": [{\"colorbar\": {\"outlinewidth\": 0, \"ticks\": \"\"}, \"type\": \"heatmapgl\"}], \"histogram\": [{\"marker\": {\"colorbar\": {\"outlinewidth\": 0, \"ticks\": \"\"}}, \"type\": \"histogram\"}], \"histogram2d\": [{\"autocolorscale\": true, \"colorbar\": {\"outlinewidth\": 0, \"ticks\": \"\"}, \"type\": \"histogram2d\"}], \"histogram2dcontour\": [{\"autocolorscale\": true, \"colorbar\": {\"outlinewidth\": 0, \"ticks\": \"\"}, \"type\": \"histogram2dcontour\"}], \"mesh3d\": [{\"colorbar\": {\"outlinewidth\": 0, \"ticks\": \"\"}, \"type\": \"mesh3d\"}], \"parcoords\": [{\"line\": {\"colorbar\": {\"outlinewidth\": 0, \"ticks\": \"\"}}, \"type\": \"parcoords\"}], \"scatter\": [{\"marker\": {\"colorbar\": {\"outlinewidth\": 0, \"ticks\": \"\"}}, \"type\": \"scatter\"}], \"scatter3d\": [{\"marker\": {\"colorbar\": {\"outlinewidth\": 0, \"ticks\": \"\"}}, \"type\": \"scatter3d\"}], \"scattercarpet\": [{\"marker\": {\"colorbar\": {\"outlinewidth\": 0, \"ticks\": \"\"}}, \"type\": \"scattercarpet\"}], \"scattergeo\": [{\"marker\": {\"colorbar\": {\"outlinewidth\": 0, \"ticks\": \"\"}}, \"type\": \"scattergeo\"}], \"scattergl\": [{\"marker\": {\"colorbar\": {\"outlinewidth\": 0, \"ticks\": \"\"}}, \"type\": \"scattergl\"}], \"scattermapbox\": [{\"marker\": {\"colorbar\": {\"outlinewidth\": 0, \"ticks\": \"\"}}, \"type\": \"scattermapbox\"}], \"scatterpolar\": [{\"marker\": {\"colorbar\": {\"outlinewidth\": 0, \"ticks\": \"\"}}, \"type\": \"scatterpolar\"}], \"scatterpolargl\": [{\"marker\": {\"colorbar\": {\"outlinewidth\": 0, \"ticks\": \"\"}}, \"type\": \"scatterpolargl\"}], \"scatterternary\": [{\"marker\": {\"colorbar\": {\"outlinewidth\": 0, \"ticks\": \"\"}}, \"type\": \"scatterternary\"}], \"surface\": [{\"colorbar\": {\"outlinewidth\": 0, \"ticks\": \"\"}, \"type\": \"surface\"}], \"table\": [{\"cells\": {\"fill\": {\"color\": \"#EBF0F8\"}, \"line\": {\"color\": \"white\"}}, \"header\": {\"fill\": {\"color\": \"#C8D4E3\"}, \"line\": {\"color\": \"white\"}}, \"type\": \"table\"}]}, \"layout\": {\"annotationdefaults\": {\"arrowcolor\": \"#506784\", \"arrowhead\": 0, \"arrowwidth\": 1}, \"colorscale\": {\"diverging\": [[0, \"#8e0152\"], [0.1, \"#c51b7d\"], [0.2, \"#de77ae\"], [0.3, \"#f1b6da\"], [0.4, \"#fde0ef\"], [0.5, \"#f7f7f7\"], [0.6, \"#e6f5d0\"], [0.7, \"#b8e186\"], [0.8, \"#7fbc41\"], [0.9, \"#4d9221\"], [1, \"#276419\"]], \"sequential\": [[0.0, \"#0508b8\"], [0.0893854748603352, \"#1910d8\"], [0.1787709497206704, \"#3c19f0\"], [0.2681564245810056, \"#6b1cfb\"], [0.3575418994413408, \"#981cfd\"], [0.44692737430167595, \"#bf1cfd\"], [0.5363128491620112, \"#dd2bfd\"], [0.6256983240223464, \"#f246fe\"], [0.7150837988826816, \"#fc67fd\"], [0.8044692737430168, \"#fe88fc\"], [0.8938547486033519, \"#fea5fd\"], [0.9832402234636871, \"#febefe\"], [1.0, \"#fec3fe\"]], \"sequentialminus\": [[0.0, \"#0508b8\"], [0.0893854748603352, \"#1910d8\"], [0.1787709497206704, \"#3c19f0\"], [0.2681564245810056, \"#6b1cfb\"], [0.3575418994413408, \"#981cfd\"], [0.44692737430167595, \"#bf1cfd\"], [0.5363128491620112, \"#dd2bfd\"], [0.6256983240223464, \"#f246fe\"], [0.7150837988826816, \"#fc67fd\"], [0.8044692737430168, \"#fe88fc\"], [0.8938547486033519, \"#fea5fd\"], [0.9832402234636871, \"#febefe\"], [1.0, \"#fec3fe\"]]}, \"colorway\": [\"#636efa\", \"#EF553B\", \"#00cc96\", \"#ab63fa\", \"#19d3f3\", \"#e763fa\", \"#FECB52\", \"#FFA15A\", \"#FF6692\", \"#B6E880\"], \"font\": {\"color\": \"#2a3f5f\"}, \"geo\": {\"bgcolor\": \"white\", \"lakecolor\": \"white\", \"landcolor\": \"#E5ECF6\", \"showlakes\": true, \"showland\": true, \"subunitcolor\": \"white\"}, \"hoverlabel\": {\"align\": \"left\"}, \"hovermode\": \"closest\", \"legend\": {\"itemsizing\": \"constant\"}, \"mapbox\": {\"style\": \"light\"}, \"paper_bgcolor\": \"white\", \"plot_bgcolor\": \"#E5ECF6\", \"polar\": {\"angularaxis\": {\"gridcolor\": \"white\", \"linecolor\": \"white\", \"ticks\": \"\"}, \"bgcolor\": \"#E5ECF6\", \"radialaxis\": {\"gridcolor\": \"white\", \"linecolor\": \"white\", \"ticks\": \"\"}}, \"scene\": {\"xaxis\": {\"backgroundcolor\": \"#E5ECF6\", \"gridcolor\": \"white\", \"gridwidth\": 2, \"linecolor\": \"white\", \"showbackground\": true, \"ticks\": \"\", \"zerolinecolor\": \"white\"}, \"yaxis\": {\"backgroundcolor\": \"#E5ECF6\", \"gridcolor\": \"white\", \"gridwidth\": 2, \"linecolor\": \"white\", \"showbackground\": true, \"ticks\": \"\", \"zerolinecolor\": \"white\"}, \"zaxis\": {\"backgroundcolor\": \"#E5ECF6\", \"gridcolor\": \"white\", \"gridwidth\": 2, \"linecolor\": \"white\", \"showbackground\": true, \"ticks\": \"\", \"zerolinecolor\": \"white\"}}, \"shapedefaults\": {\"fillcolor\": \"#506784\", \"line\": {\"width\": 0}, \"opacity\": 0.4}, \"ternary\": {\"aaxis\": {\"gridcolor\": \"white\", \"linecolor\": \"white\", \"ticks\": \"\"}, \"baxis\": {\"gridcolor\": \"white\", \"linecolor\": \"white\", \"ticks\": \"\"}, \"bgcolor\": \"#E5ECF6\", \"caxis\": {\"gridcolor\": \"white\", \"linecolor\": \"white\", \"ticks\": \"\"}}, \"title\": {\"x\": 0.05}, \"xaxis\": {\"automargin\": true, \"gridcolor\": \"white\", \"linecolor\": \"white\", \"ticks\": \"\", \"zerolinecolor\": \"white\", \"zerolinewidth\": 2}, \"yaxis\": {\"automargin\": true, \"gridcolor\": \"white\", \"linecolor\": \"white\", \"ticks\": \"\", \"zerolinecolor\": \"white\", \"zerolinewidth\": 2}}}, \"title\": {\"text\": \"Core Skills in Science (Sushila Birla Girls^ School-Kolkata-CBSE)\"}, \"width\": 3000, \"xaxis\": {\"title\": {\"text\": \"year\"}}, \"xaxis2\": {\"matches\": \"x\", \"title\": {\"text\": \"year\"}}, \"xaxis3\": {\"matches\": \"x\", \"title\": {\"text\": \"year\"}}, \"xaxis4\": {\"matches\": \"x\", \"title\": {\"text\": \"year\"}}, \"yaxis\": {\"title\": {\"text\": \"subSkill_delta\"}}, \"yaxis2\": {\"matches\": \"y\", \"title\": {\"text\": \"subSkill_delta\"}}, \"yaxis3\": {\"matches\": \"y\", \"title\": {\"text\": \"subSkill_delta\"}}, \"yaxis4\": {\"matches\": \"y\", \"title\": {\"text\": \"subSkill_delta\"}}, \"yaxis5\": {\"matches\": \"y\", \"title\": {\"text\": \"subSkill_delta\"}}, \"yaxis6\": {\"matches\": \"y\", \"title\": {\"text\": \"subSkill_delta\"}}, \"yaxis7\": {\"matches\": \"y\", \"title\": {\"text\": \"subSkill_delta\"}}, \"yaxis8\": {\"matches\": \"y\", \"title\": {\"text\": \"subSkill_delta\"}}},\n",
       "                        {\"showLink\": false, \"linkText\": \"Export to plot.ly\", \"plotlyServerURL\": \"https://plot.ly\"}\n",
       "                    )\n",
       "                };\n",
       "                });\n",
       "            </script>\n",
       "        </div>"
      ]
     },
     "metadata": {},
     "output_type": "display_data"
    }
   ],
   "source": [
    "sub = 'Science'\n",
    "px.scatter(df_school[df_school['subject']==sub].drop_duplicates(['papercode','sub_skill_name']), \n",
    "        x = 'year', \n",
    "        y = 'subSkill_delta', \n",
    "        color='sub_skill_name',\n",
    "        facet_row= 'class', \n",
    "        facet_col= 'skill_name', \n",
    "        size = 'studentCount',\n",
    "        size_max= 10,\n",
    "        trendline=\"lowess\",\n",
    "        height=2000,\n",
    "        width=3000,\n",
    "        title = 'Core Skills in %s (%s-%s-%s)'%(sub,school_name, school_city, school_board) )"
   ]
  },
  {
   "cell_type": "code",
   "execution_count": null,
   "metadata": {},
   "outputs": [],
   "source": []
  }
 ],
 "metadata": {
  "kernelspec": {
   "display_name": "Python 3",
   "language": "python",
   "name": "python3"
  },
  "language_info": {
   "codemirror_mode": {
    "name": "ipython",
    "version": 3
   },
   "file_extension": ".py",
   "mimetype": "text/x-python",
   "name": "python",
   "nbconvert_exporter": "python",
   "pygments_lexer": "ipython3",
   "version": "3.6.6"
  },
  "varInspector": {
   "cols": {
    "lenName": 16,
    "lenType": 16,
    "lenVar": 40
   },
   "kernels_config": {
    "python": {
     "delete_cmd_postfix": "",
     "delete_cmd_prefix": "del ",
     "library": "var_list.py",
     "varRefreshCmd": "print(var_dic_list())"
    },
    "r": {
     "delete_cmd_postfix": ") ",
     "delete_cmd_prefix": "rm(",
     "library": "var_list.r",
     "varRefreshCmd": "cat(var_dic_list()) "
    }
   },
   "types_to_exclude": [
    "module",
    "function",
    "builtin_function_or_method",
    "instance",
    "_Feature"
   ],
   "window_display": false
  }
 },
 "nbformat": 4,
 "nbformat_minor": 2
}
